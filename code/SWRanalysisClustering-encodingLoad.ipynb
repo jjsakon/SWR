{
 "cells": [
  {
   "cell_type": "markdown",
   "metadata": {},
   "source": [
    "## Looking to analyze ripples during catFR when the same category is reinstated during encoding"
   ]
  },
  {
   "cell_type": "code",
   "execution_count": 2,
   "metadata": {},
   "outputs": [
    {
     "name": "stderr",
     "output_type": "stream",
     "text": [
      "/home1/john/anaconda3/envs/env1/lib/python3.7/site-packages/ptsa/data/timeseries.py:526: FutureWarning: xarray subclass TimeSeriesX should explicitly define __slots__\n",
      "  class TimeSeriesX(TimeSeries):\n",
      "/home1/john/anaconda3/envs/env1/lib/python3.7/site-packages/statsmodels/tools/_testing.py:19: FutureWarning: pandas.util.testing is deprecated. Use the functions in the public API at pandas.testing instead.\n",
      "  import pandas.util.testing as tm\n"
     ]
    }
   ],
   "source": [
    "import pandas as pd; pd.set_option('display.max_columns', 30)\n",
    "import numpy as np\n",
    "from cmlreaders import CMLReader, get_data_index\n",
    "from ptsa.data.filters import ButterworthFilter\n",
    "import sys\n",
    "import os\n",
    "import matplotlib.pyplot as plt\n",
    "%matplotlib inline\n",
    "from pylab import *\n",
    "from copy import copy\n",
    "from scipy import stats\n",
    "import pickle\n",
    "plt.rcParams['pdf.fonttype'] = 42; plt.rcParams['ps.fonttype'] = 42 # fix fonts for Illustrator\n",
    "sys.path.append('/home1/john/Downloads/ptsa_plot-master/')\n",
    "sys.path.append('/home1/john/johnModules')\n",
    "from brain_labels import MTL_labels, LTC_labels, PFC_labels, OTHER_labels, ALL_labels # all location labels\n",
    "%load_ext autoreload\n",
    "%autoreload\n",
    "from general import *\n",
    "from SWRmodule import *\n",
    "\n",
    "import seaborn as sb\n",
    "\n",
    "df = get_data_index(\"r1\") # all RAM subjects\n",
    "exp = 'catFR1' # 'FR1' 'catFR1'"
   ]
  },
  {
   "cell_type": "code",
   "execution_count": 3,
   "metadata": {},
   "outputs": [
    {
     "data": {
      "text/html": [
       "<div>\n",
       "<style scoped>\n",
       "    .dataframe tbody tr th:only-of-type {\n",
       "        vertical-align: middle;\n",
       "    }\n",
       "\n",
       "    .dataframe tbody tr th {\n",
       "        vertical-align: top;\n",
       "    }\n",
       "\n",
       "    .dataframe thead th {\n",
       "        text-align: right;\n",
       "    }\n",
       "</style>\n",
       "<table border=\"1\" class=\"dataframe\">\n",
       "  <thead>\n",
       "    <tr style=\"text-align: right;\">\n",
       "      <th></th>\n",
       "      <th>Recognition</th>\n",
       "      <th>all_events</th>\n",
       "      <th>contacts</th>\n",
       "      <th>experiment</th>\n",
       "      <th>import_type</th>\n",
       "      <th>localization</th>\n",
       "      <th>math_events</th>\n",
       "      <th>montage</th>\n",
       "      <th>original_experiment</th>\n",
       "      <th>original_session</th>\n",
       "      <th>pairs</th>\n",
       "      <th>ps4_events</th>\n",
       "      <th>session</th>\n",
       "      <th>subject</th>\n",
       "      <th>subject_alias</th>\n",
       "      <th>system_version</th>\n",
       "      <th>task_events</th>\n",
       "    </tr>\n",
       "  </thead>\n",
       "  <tbody>\n",
       "    <tr>\n",
       "      <th>2011</th>\n",
       "      <td>NaN</td>\n",
       "      <td>protocols/r1/subjects/R1405E/experiments/catFR...</td>\n",
       "      <td>protocols/r1/subjects/R1405E/localizations/0/m...</td>\n",
       "      <td>catFR1</td>\n",
       "      <td>build</td>\n",
       "      <td>0</td>\n",
       "      <td>protocols/r1/subjects/R1405E/experiments/catFR...</td>\n",
       "      <td>0</td>\n",
       "      <td>NaN</td>\n",
       "      <td>NaN</td>\n",
       "      <td>protocols/r1/subjects/R1405E/localizations/0/m...</td>\n",
       "      <td>NaN</td>\n",
       "      <td>0</td>\n",
       "      <td>R1405E</td>\n",
       "      <td>R1405E</td>\n",
       "      <td>3.3</td>\n",
       "      <td>protocols/r1/subjects/R1405E/experiments/catFR...</td>\n",
       "    </tr>\n",
       "  </tbody>\n",
       "</table>\n",
       "</div>"
      ],
      "text/plain": [
       "     Recognition                                         all_events  \\\n",
       "2011         NaN  protocols/r1/subjects/R1405E/experiments/catFR...   \n",
       "\n",
       "                                               contacts experiment  \\\n",
       "2011  protocols/r1/subjects/R1405E/localizations/0/m...     catFR1   \n",
       "\n",
       "     import_type  localization  \\\n",
       "2011       build             0   \n",
       "\n",
       "                                            math_events  montage  \\\n",
       "2011  protocols/r1/subjects/R1405E/experiments/catFR...        0   \n",
       "\n",
       "     original_experiment original_session  \\\n",
       "2011                 NaN              NaN   \n",
       "\n",
       "                                                  pairs ps4_events  session  \\\n",
       "2011  protocols/r1/subjects/R1405E/localizations/0/m...        NaN        0   \n",
       "\n",
       "     subject subject_alias  system_version  \\\n",
       "2011  R1405E        R1405E             3.3   \n",
       "\n",
       "                                            task_events  \n",
       "2011  protocols/r1/subjects/R1405E/experiments/catFR...  "
      ]
     },
     "execution_count": 3,
     "metadata": {},
     "output_type": "execute_result"
    }
   ],
   "source": [
    "# sub lists I've been using to explore FR1 \n",
    "\n",
    "subs = ['R1010J'] #'R1385E'] # ['R1065J'] #\n",
    "# subs = ['R1002P','R1003P','R1006P','R1010J','R1112M','R1163T'] # initial 6 for hippocampus\n",
    "\n",
    "# subs = subs+['R1001P','R1092J','R1151E','R1320D'] # additional subs with issues that I resolved with various RR and corr thresholds\n",
    "# subs = ['R1112M','R1018P','R1020J','R1022J','R1023J','R1026D','R1027J'] # 7 with entorhinal\n",
    "# subs = ['R1010J','R1112M'] # original 2 # R1108J beatiful catFR1 data; R1065J magical subject (like with FR1)\n",
    "# subs = ['R1112M','R1163T'] # subjects with FR1 and catFR1. SRs of 1000 and 500 tho\n",
    "# subs = ['R1151E'] # all channels X sessions get removed but 3 after 60/180 hz line removal\n",
    "# these should all be worked out now. See SWR FR1 problem sessions PPT on Box for details of each\n",
    "# subs = ['R1299T','R1332M','R1397D','R1349T','R1339D','R1337E','R1275D','R1151E','R1123C','R1120E','R1045E'] # final surrounding_recall problem subs after looking at huge raster!\n",
    "# subs = ['R1308T','R1338T','R1358T'] # these guys had weird SRs and some loading problems when I went to whole_retrieval analysis...fixed with rounding\n",
    "# subs = ['R1023J','R1101T','R1148P','R1368T','R1323T','R1334T'] # single session subs with memory allocation errors in ClusterRun\n",
    "# subs = ['R1006P','R1010J','R1030J','R1032D','R1049J','R1051J','R1052E','R1054J','R1093J','R1098D','R1104D','R1108J','R1111M',\n",
    "#         'R1115T','R1118N','R1124J','R1207J','R1230J','R1316T','R1329T','R1323T','R1337E','R1367D'] # subs that didn't load on 2020-07-04 encoding run\n",
    "# subs = ['R1368T','R1461T','R1463E'] # subs with particularly low localization.pair matches in pairs...see Excel in loading info on Box for details\n",
    "subs = ['R1433E','R1355T','R1367D','R1368T'] # subs with \"ca3\" or \"dg\"\n",
    "# subs = ['R1001P'] # subject with over 8000 FR1 trials X electrodes\n",
    "# bad_subs = ['R1433E','R1051J'] # no electrode cats\n",
    "# subs = ['R1379E','R1385E','R1387E','R1394E','R1402E'] # partial beep subs\n",
    "# subs = ['R1379E','R1402E','R1396T','R1395M','R1415T','R1389J','R1404E']  # test subs for eeg offset correction\n",
    "# subs = ['R1054J','R1345D','R1048E','R1328E','R1308T', # first 2 are sr ≥ 1000. 3rd is 500 Hz.\n",
    "#         'R1137E','R1136N','R1094T','R1122E','R1385E', # nice example FR1 subs used in Fig. 2\n",
    "#         'R1405E','R1486J','R1501J'] # adding in 3 catFR only patients that will go into Fig. 4\n",
    "# subs = ['R1120E','R1349T','R1397D','R1332M','R1299T'] # FR1 patients with electrode search ranges limited per SWR problem sessions doc on Box\n",
    "# subs = ['R1269E','R1328E','R1367D','R1397D','R1405E','R1405E','R1447M','R1469D'] # catFR1 patients with electrode search changes limited\n",
    "subs = ['R1405E']\n",
    "\n",
    "sub_df = df[(df.subject.isin(subs))  & (df.experiment == exp)] # all sessions for subs\n",
    "# sub_df = df[(df.subject.isin(subs))  & (df.experiment == exp) & (df.session==1)] # single session\n",
    "# sub_df = df[(df.experiment == exp) & (df.session == 0)] # all FR subs \n",
    "sub_df = sub_df[0:1]\n",
    "sub_df"
   ]
  },
  {
   "cell_type": "code",
   "execution_count": 4,
   "metadata": {},
   "outputs": [
    {
     "name": "stderr",
     "output_type": "stream",
     "text": [
      "/home1/john/anaconda3/envs/env1/lib/python3.7/site-packages/ipykernel_launcher.py:30: UserWarning: Boolean Series key will be reindexed to match DataFrame index.\n"
     ]
    },
    {
     "data": {
      "text/plain": [
       "(503, 17)"
      ]
     },
     "execution_count": 4,
     "metadata": {},
     "output_type": "execute_result"
    },
    {
     "data": {
      "text/html": [
       "<div>\n",
       "<style scoped>\n",
       "    .dataframe tbody tr th:only-of-type {\n",
       "        vertical-align: middle;\n",
       "    }\n",
       "\n",
       "    .dataframe tbody tr th {\n",
       "        vertical-align: top;\n",
       "    }\n",
       "\n",
       "    .dataframe thead th {\n",
       "        text-align: right;\n",
       "    }\n",
       "</style>\n",
       "<table border=\"1\" class=\"dataframe\">\n",
       "  <thead>\n",
       "    <tr style=\"text-align: right;\">\n",
       "      <th></th>\n",
       "      <th>Recognition</th>\n",
       "      <th>all_events</th>\n",
       "      <th>contacts</th>\n",
       "      <th>experiment</th>\n",
       "      <th>import_type</th>\n",
       "      <th>localization</th>\n",
       "      <th>math_events</th>\n",
       "      <th>montage</th>\n",
       "      <th>original_experiment</th>\n",
       "      <th>original_session</th>\n",
       "      <th>pairs</th>\n",
       "      <th>ps4_events</th>\n",
       "      <th>session</th>\n",
       "      <th>subject</th>\n",
       "      <th>subject_alias</th>\n",
       "      <th>system_version</th>\n",
       "      <th>task_events</th>\n",
       "    </tr>\n",
       "  </thead>\n",
       "  <tbody>\n",
       "    <tr>\n",
       "      <th>24</th>\n",
       "      <td>NaN</td>\n",
       "      <td>protocols/r1/subjects/R1004D/experiments/catFR...</td>\n",
       "      <td>protocols/r1/subjects/R1004D/localizations/0/m...</td>\n",
       "      <td>catFR1</td>\n",
       "      <td>build</td>\n",
       "      <td>0</td>\n",
       "      <td>protocols/r1/subjects/R1004D/experiments/catFR...</td>\n",
       "      <td>0</td>\n",
       "      <td>NaN</td>\n",
       "      <td>0</td>\n",
       "      <td>protocols/r1/subjects/R1004D/localizations/0/m...</td>\n",
       "      <td>NaN</td>\n",
       "      <td>0</td>\n",
       "      <td>R1004D</td>\n",
       "      <td>R1004D</td>\n",
       "      <td>NaN</td>\n",
       "      <td>protocols/r1/subjects/R1004D/experiments/catFR...</td>\n",
       "    </tr>\n",
       "    <tr>\n",
       "      <th>45</th>\n",
       "      <td>NaN</td>\n",
       "      <td>protocols/r1/subjects/R1013E/experiments/catFR...</td>\n",
       "      <td>protocols/r1/subjects/R1013E/localizations/0/m...</td>\n",
       "      <td>catFR1</td>\n",
       "      <td>build</td>\n",
       "      <td>0</td>\n",
       "      <td>protocols/r1/subjects/R1013E/experiments/catFR...</td>\n",
       "      <td>1</td>\n",
       "      <td>NaN</td>\n",
       "      <td>0</td>\n",
       "      <td>protocols/r1/subjects/R1013E/localizations/0/m...</td>\n",
       "      <td>NaN</td>\n",
       "      <td>0</td>\n",
       "      <td>R1013E</td>\n",
       "      <td>R1013E_1</td>\n",
       "      <td>NaN</td>\n",
       "      <td>protocols/r1/subjects/R1013E/experiments/catFR...</td>\n",
       "    </tr>\n",
       "    <tr>\n",
       "      <th>58</th>\n",
       "      <td>NaN</td>\n",
       "      <td>protocols/r1/subjects/R1015J/experiments/catFR...</td>\n",
       "      <td>protocols/r1/subjects/R1015J/localizations/0/m...</td>\n",
       "      <td>catFR1</td>\n",
       "      <td>build</td>\n",
       "      <td>0</td>\n",
       "      <td>protocols/r1/subjects/R1015J/experiments/catFR...</td>\n",
       "      <td>0</td>\n",
       "      <td>NaN</td>\n",
       "      <td>0</td>\n",
       "      <td>protocols/r1/subjects/R1015J/localizations/0/m...</td>\n",
       "      <td>NaN</td>\n",
       "      <td>0</td>\n",
       "      <td>R1015J</td>\n",
       "      <td>R1015J</td>\n",
       "      <td>NaN</td>\n",
       "      <td>protocols/r1/subjects/R1015J/experiments/catFR...</td>\n",
       "    </tr>\n",
       "    <tr>\n",
       "      <th>64</th>\n",
       "      <td>NaN</td>\n",
       "      <td>protocols/r1/subjects/R1016M/experiments/catFR...</td>\n",
       "      <td>protocols/r1/subjects/R1016M/localizations/0/m...</td>\n",
       "      <td>catFR1</td>\n",
       "      <td>build</td>\n",
       "      <td>0</td>\n",
       "      <td>protocols/r1/subjects/R1016M/experiments/catFR...</td>\n",
       "      <td>0</td>\n",
       "      <td>NaN</td>\n",
       "      <td>0</td>\n",
       "      <td>protocols/r1/subjects/R1016M/localizations/0/m...</td>\n",
       "      <td>NaN</td>\n",
       "      <td>0</td>\n",
       "      <td>R1016M</td>\n",
       "      <td>R1016M</td>\n",
       "      <td>NaN</td>\n",
       "      <td>protocols/r1/subjects/R1016M/experiments/catFR...</td>\n",
       "    </tr>\n",
       "    <tr>\n",
       "      <th>65</th>\n",
       "      <td>NaN</td>\n",
       "      <td>protocols/r1/subjects/R1016M/experiments/catFR...</td>\n",
       "      <td>protocols/r1/subjects/R1016M/localizations/0/m...</td>\n",
       "      <td>catFR1</td>\n",
       "      <td>build</td>\n",
       "      <td>0</td>\n",
       "      <td>protocols/r1/subjects/R1016M/experiments/catFR...</td>\n",
       "      <td>0</td>\n",
       "      <td>NaN</td>\n",
       "      <td>1</td>\n",
       "      <td>protocols/r1/subjects/R1016M/localizations/0/m...</td>\n",
       "      <td>NaN</td>\n",
       "      <td>1</td>\n",
       "      <td>R1016M</td>\n",
       "      <td>R1016M</td>\n",
       "      <td>NaN</td>\n",
       "      <td>protocols/r1/subjects/R1016M/experiments/catFR...</td>\n",
       "    </tr>\n",
       "    <tr>\n",
       "      <th>...</th>\n",
       "      <td>...</td>\n",
       "      <td>...</td>\n",
       "      <td>...</td>\n",
       "      <td>...</td>\n",
       "      <td>...</td>\n",
       "      <td>...</td>\n",
       "      <td>...</td>\n",
       "      <td>...</td>\n",
       "      <td>...</td>\n",
       "      <td>...</td>\n",
       "      <td>...</td>\n",
       "      <td>...</td>\n",
       "      <td>...</td>\n",
       "      <td>...</td>\n",
       "      <td>...</td>\n",
       "      <td>...</td>\n",
       "      <td>...</td>\n",
       "    </tr>\n",
       "    <tr>\n",
       "      <th>2473</th>\n",
       "      <td>NaN</td>\n",
       "      <td>protocols/r1/subjects/R1541T/experiments/catFR...</td>\n",
       "      <td>protocols/r1/subjects/R1541T/localizations/0/m...</td>\n",
       "      <td>catFR1</td>\n",
       "      <td>build</td>\n",
       "      <td>0</td>\n",
       "      <td>protocols/r1/subjects/R1541T/experiments/catFR...</td>\n",
       "      <td>0</td>\n",
       "      <td>NaN</td>\n",
       "      <td>NaN</td>\n",
       "      <td>protocols/r1/subjects/R1541T/localizations/0/m...</td>\n",
       "      <td>NaN</td>\n",
       "      <td>3</td>\n",
       "      <td>R1541T</td>\n",
       "      <td>R1541T</td>\n",
       "      <td>3.4</td>\n",
       "      <td>protocols/r1/subjects/R1541T/experiments/catFR...</td>\n",
       "    </tr>\n",
       "    <tr>\n",
       "      <th>2474</th>\n",
       "      <td>NaN</td>\n",
       "      <td>protocols/r1/subjects/R1541T/experiments/catFR...</td>\n",
       "      <td>protocols/r1/subjects/R1541T/localizations/0/m...</td>\n",
       "      <td>catFR1</td>\n",
       "      <td>build</td>\n",
       "      <td>0</td>\n",
       "      <td>protocols/r1/subjects/R1541T/experiments/catFR...</td>\n",
       "      <td>0</td>\n",
       "      <td>NaN</td>\n",
       "      <td>NaN</td>\n",
       "      <td>protocols/r1/subjects/R1541T/localizations/0/m...</td>\n",
       "      <td>NaN</td>\n",
       "      <td>4</td>\n",
       "      <td>R1541T</td>\n",
       "      <td>R1541T</td>\n",
       "      <td>3.4</td>\n",
       "      <td>protocols/r1/subjects/R1541T/experiments/catFR...</td>\n",
       "    </tr>\n",
       "    <tr>\n",
       "      <th>2475</th>\n",
       "      <td>NaN</td>\n",
       "      <td>protocols/r1/subjects/R1541T/experiments/catFR...</td>\n",
       "      <td>protocols/r1/subjects/R1541T/localizations/0/m...</td>\n",
       "      <td>catFR1</td>\n",
       "      <td>build</td>\n",
       "      <td>0</td>\n",
       "      <td>protocols/r1/subjects/R1541T/experiments/catFR...</td>\n",
       "      <td>0</td>\n",
       "      <td>NaN</td>\n",
       "      <td>NaN</td>\n",
       "      <td>protocols/r1/subjects/R1541T/localizations/0/m...</td>\n",
       "      <td>NaN</td>\n",
       "      <td>6</td>\n",
       "      <td>R1541T</td>\n",
       "      <td>R1541T</td>\n",
       "      <td>3.4</td>\n",
       "      <td>protocols/r1/subjects/R1541T/experiments/catFR...</td>\n",
       "    </tr>\n",
       "    <tr>\n",
       "      <th>2490</th>\n",
       "      <td>NaN</td>\n",
       "      <td>protocols/r1/subjects/R1542J/experiments/catFR...</td>\n",
       "      <td>protocols/r1/subjects/R1542J/localizations/0/m...</td>\n",
       "      <td>catFR1</td>\n",
       "      <td>build</td>\n",
       "      <td>0</td>\n",
       "      <td>protocols/r1/subjects/R1542J/experiments/catFR...</td>\n",
       "      <td>0</td>\n",
       "      <td>NaN</td>\n",
       "      <td>NaN</td>\n",
       "      <td>protocols/r1/subjects/R1542J/localizations/0/m...</td>\n",
       "      <td>NaN</td>\n",
       "      <td>0</td>\n",
       "      <td>R1542J</td>\n",
       "      <td>R1542J</td>\n",
       "      <td>3.4</td>\n",
       "      <td>protocols/r1/subjects/R1542J/experiments/catFR...</td>\n",
       "    </tr>\n",
       "    <tr>\n",
       "      <th>2491</th>\n",
       "      <td>NaN</td>\n",
       "      <td>protocols/r1/subjects/R1542J/experiments/catFR...</td>\n",
       "      <td>protocols/r1/subjects/R1542J/localizations/0/m...</td>\n",
       "      <td>catFR1</td>\n",
       "      <td>build</td>\n",
       "      <td>0</td>\n",
       "      <td>protocols/r1/subjects/R1542J/experiments/catFR...</td>\n",
       "      <td>0</td>\n",
       "      <td>NaN</td>\n",
       "      <td>NaN</td>\n",
       "      <td>protocols/r1/subjects/R1542J/localizations/0/m...</td>\n",
       "      <td>NaN</td>\n",
       "      <td>1</td>\n",
       "      <td>R1542J</td>\n",
       "      <td>R1542J</td>\n",
       "      <td>3.4</td>\n",
       "      <td>protocols/r1/subjects/R1542J/experiments/catFR...</td>\n",
       "    </tr>\n",
       "  </tbody>\n",
       "</table>\n",
       "<p>503 rows × 17 columns</p>\n",
       "</div>"
      ],
      "text/plain": [
       "     Recognition                                         all_events  \\\n",
       "24           NaN  protocols/r1/subjects/R1004D/experiments/catFR...   \n",
       "45           NaN  protocols/r1/subjects/R1013E/experiments/catFR...   \n",
       "58           NaN  protocols/r1/subjects/R1015J/experiments/catFR...   \n",
       "64           NaN  protocols/r1/subjects/R1016M/experiments/catFR...   \n",
       "65           NaN  protocols/r1/subjects/R1016M/experiments/catFR...   \n",
       "...          ...                                                ...   \n",
       "2473         NaN  protocols/r1/subjects/R1541T/experiments/catFR...   \n",
       "2474         NaN  protocols/r1/subjects/R1541T/experiments/catFR...   \n",
       "2475         NaN  protocols/r1/subjects/R1541T/experiments/catFR...   \n",
       "2490         NaN  protocols/r1/subjects/R1542J/experiments/catFR...   \n",
       "2491         NaN  protocols/r1/subjects/R1542J/experiments/catFR...   \n",
       "\n",
       "                                               contacts experiment  \\\n",
       "24    protocols/r1/subjects/R1004D/localizations/0/m...     catFR1   \n",
       "45    protocols/r1/subjects/R1013E/localizations/0/m...     catFR1   \n",
       "58    protocols/r1/subjects/R1015J/localizations/0/m...     catFR1   \n",
       "64    protocols/r1/subjects/R1016M/localizations/0/m...     catFR1   \n",
       "65    protocols/r1/subjects/R1016M/localizations/0/m...     catFR1   \n",
       "...                                                 ...        ...   \n",
       "2473  protocols/r1/subjects/R1541T/localizations/0/m...     catFR1   \n",
       "2474  protocols/r1/subjects/R1541T/localizations/0/m...     catFR1   \n",
       "2475  protocols/r1/subjects/R1541T/localizations/0/m...     catFR1   \n",
       "2490  protocols/r1/subjects/R1542J/localizations/0/m...     catFR1   \n",
       "2491  protocols/r1/subjects/R1542J/localizations/0/m...     catFR1   \n",
       "\n",
       "     import_type  localization  \\\n",
       "24         build             0   \n",
       "45         build             0   \n",
       "58         build             0   \n",
       "64         build             0   \n",
       "65         build             0   \n",
       "...          ...           ...   \n",
       "2473       build             0   \n",
       "2474       build             0   \n",
       "2475       build             0   \n",
       "2490       build             0   \n",
       "2491       build             0   \n",
       "\n",
       "                                            math_events  montage  \\\n",
       "24    protocols/r1/subjects/R1004D/experiments/catFR...        0   \n",
       "45    protocols/r1/subjects/R1013E/experiments/catFR...        1   \n",
       "58    protocols/r1/subjects/R1015J/experiments/catFR...        0   \n",
       "64    protocols/r1/subjects/R1016M/experiments/catFR...        0   \n",
       "65    protocols/r1/subjects/R1016M/experiments/catFR...        0   \n",
       "...                                                 ...      ...   \n",
       "2473  protocols/r1/subjects/R1541T/experiments/catFR...        0   \n",
       "2474  protocols/r1/subjects/R1541T/experiments/catFR...        0   \n",
       "2475  protocols/r1/subjects/R1541T/experiments/catFR...        0   \n",
       "2490  protocols/r1/subjects/R1542J/experiments/catFR...        0   \n",
       "2491  protocols/r1/subjects/R1542J/experiments/catFR...        0   \n",
       "\n",
       "     original_experiment original_session  \\\n",
       "24                   NaN                0   \n",
       "45                   NaN                0   \n",
       "58                   NaN                0   \n",
       "64                   NaN                0   \n",
       "65                   NaN                1   \n",
       "...                  ...              ...   \n",
       "2473                 NaN              NaN   \n",
       "2474                 NaN              NaN   \n",
       "2475                 NaN              NaN   \n",
       "2490                 NaN              NaN   \n",
       "2491                 NaN              NaN   \n",
       "\n",
       "                                                  pairs ps4_events  session  \\\n",
       "24    protocols/r1/subjects/R1004D/localizations/0/m...        NaN        0   \n",
       "45    protocols/r1/subjects/R1013E/localizations/0/m...        NaN        0   \n",
       "58    protocols/r1/subjects/R1015J/localizations/0/m...        NaN        0   \n",
       "64    protocols/r1/subjects/R1016M/localizations/0/m...        NaN        0   \n",
       "65    protocols/r1/subjects/R1016M/localizations/0/m...        NaN        1   \n",
       "...                                                 ...        ...      ...   \n",
       "2473  protocols/r1/subjects/R1541T/localizations/0/m...        NaN        3   \n",
       "2474  protocols/r1/subjects/R1541T/localizations/0/m...        NaN        4   \n",
       "2475  protocols/r1/subjects/R1541T/localizations/0/m...        NaN        6   \n",
       "2490  protocols/r1/subjects/R1542J/localizations/0/m...        NaN        0   \n",
       "2491  protocols/r1/subjects/R1542J/localizations/0/m...        NaN        1   \n",
       "\n",
       "     subject subject_alias  system_version  \\\n",
       "24    R1004D        R1004D             NaN   \n",
       "45    R1013E      R1013E_1             NaN   \n",
       "58    R1015J        R1015J             NaN   \n",
       "64    R1016M        R1016M             NaN   \n",
       "65    R1016M        R1016M             NaN   \n",
       "...      ...           ...             ...   \n",
       "2473  R1541T        R1541T             3.4   \n",
       "2474  R1541T        R1541T             3.4   \n",
       "2475  R1541T        R1541T             3.4   \n",
       "2490  R1542J        R1542J             3.4   \n",
       "2491  R1542J        R1542J             3.4   \n",
       "\n",
       "                                            task_events  \n",
       "24    protocols/r1/subjects/R1004D/experiments/catFR...  \n",
       "45    protocols/r1/subjects/R1013E/experiments/catFR...  \n",
       "58    protocols/r1/subjects/R1015J/experiments/catFR...  \n",
       "64    protocols/r1/subjects/R1016M/experiments/catFR...  \n",
       "65    protocols/r1/subjects/R1016M/experiments/catFR...  \n",
       "...                                                 ...  \n",
       "2473  protocols/r1/subjects/R1541T/experiments/catFR...  \n",
       "2474  protocols/r1/subjects/R1541T/experiments/catFR...  \n",
       "2475  protocols/r1/subjects/R1541T/experiments/catFR...  \n",
       "2490  protocols/r1/subjects/R1542J/experiments/catFR...  \n",
       "2491  protocols/r1/subjects/R1542J/experiments/catFR...  \n",
       "\n",
       "[503 rows x 17 columns]"
      ]
     },
     "execution_count": 4,
     "metadata": {},
     "output_type": "execute_result"
    }
   ],
   "source": [
    "# 575 FR sessions. first 18 of don't load so skip those \n",
    "exp_df = df[df.experiment==exp]\n",
    "if exp == 'FR1':\n",
    "    exp_df = exp_df[\n",
    "                    ((df.subject!='R1015J') | (df.session!=0)) & \n",
    "                    ((df.subject!='R1063C') | (df.session!=1)) & \n",
    "                    ((df.subject!='R1093J') | (~df.session.isin([1,2]))) &\n",
    "                    ((df.subject!='R1100D') | (~df.session.isin([0,1,2]))) &\n",
    "                    ((df.subject!='R1120E') | (df.session!=0)) &\n",
    "                    ((df.subject!='R1122E') | (df.session!=2)) &\n",
    "                    ((df.subject!='R1154D') | (df.session!=0)) &\n",
    "                    ((df.subject!='R1186P') | (df.session!=0)) &\n",
    "                    ((df.subject!='R1201P') | (~df.session.isin([0,1]))) &\n",
    "                    ((df.subject!='R1216E') | (~df.session.isin([0,1,2]))) &\n",
    "                    ((df.subject!='R1277J') | (df.session!=0)) &\n",
    "                    ((df.subject!='R1413D') | (df.session!=0)) & \n",
    "                    ((df.subject!='R1123C') | (df.session!=2)) & # artifacts that bleed through channels (see SWR FR1 prob sessions ppt)\n",
    "                    ((df.subject!='R1151E') | (~df.session.isin([1,2]))) & # more bleed-through artifacts (see same ppt)\n",
    "                    ((df.subject!='R1275D') | (df.session!=3))  # 3rd session an actual repeat of 2nd session (Paul should have removed from database by now)\n",
    "    #                 (df.subject!='R1065J') # sub with 9000 trials\n",
    "                   ] \n",
    "if exp == 'catFR1': \n",
    "    exp_df = exp_df[\n",
    "                    ((df.subject!='R1044J') | (df.session!=0)) & # too few trials to do pg pairwise corr\n",
    "                    ((df.subject!='R1491T') | (~df.session.isin([1,3,5]))) & # too few trials to do pg pairwise corr\n",
    "                    ((df.subject!='R1486J') | (~df.session.isin([4,5,6,7]))) & # repeated data...will be removed at some point... @@\n",
    "                    ((df.subject!='R1501J') | (~df.session.isin([0,1,2,3,4,5]))) & # these weren't catFR1 (and they don't load right anyway)\n",
    "                    ((df.subject!='R1235E') | (df.session!=0)) & # split EEG filenames error...documented on Asana\n",
    "                    ((df.subject!='R1310J') | (df.session!=1)) & # session 1 is just a repeat of session 0\n",
    "                    ((df.subject!='R1239E') | (df.session!=0)) # some correlated noise (can see in catFR1 problem sessions ppt)\n",
    "    ]\n",
    "exp_df.shape\n",
    "# exp_df = exp_df[257:] # for catFR1 this is R1385E-onwwards\n",
    "# exp_df = exp_df[472:] # for FR1 this is R1385E-onwwards\n",
    "# exp_df = exp_df[:50]\n",
    "exp_df"
   ]
  },
  {
   "cell_type": "markdown",
   "metadata": {},
   "source": [
    "# Load CLUSTER data"
   ]
  },
  {
   "cell_type": "code",
   "execution_count": 58,
   "metadata": {},
   "outputs": [
    {
     "name": "stdout",
     "output_type": "stream",
     "text": [
      "['R1393T' 'R1461T' 'R1426N' 'R1269E' 'R1334T' 'R1239E' 'R1217T' 'R1303E'\n",
      " 'R1264P' 'R1377M']\n",
      "['R1386T' 'R1493T' 'R1278E' 'R1501J' 'R1477J' 'R1449T' 'R1243T' 'R1293P'\n",
      " 'R1459M' 'R1496T']\n",
      "2021-11-22_01-08-23: DF Exception: Sub: R1065J, Sess: 1, FileNotFoundError, [Errno 2] No such file or directory: '/scratch/john/SWR_semantic_scratch/ENCODING/SWR_catFR1_R1065J_1_HPC_encoding_soz_in_hamming.p', file: <ipython-input-58-ea4a7d31d38b>, line no: 52\n",
      "2021-11-22_01-08-23: DF Exception: Sub: R1065J, Sess: 2, FileNotFoundError, [Errno 2] No such file or directory: '/scratch/john/SWR_semantic_scratch/ENCODING/SWR_catFR1_R1065J_2_HPC_encoding_soz_in_hamming.p', file: <ipython-input-58-ea4a7d31d38b>, line no: 52\n",
      "2021-11-22_01-08-23: DF Exception: Sub: R1171M, Sess: 0, FileNotFoundError, [Errno 2] No such file or directory: '/scratch/john/SWR_semantic_scratch/ENCODING/SWR_catFR1_R1171M_0_HPC_encoding_soz_in_hamming.p', file: <ipython-input-58-ea4a7d31d38b>, line no: 52\n",
      "2021-11-22_01-08-23: DF Exception: Sub: R1269E, Sess: 1, FileNotFoundError, [Errno 2] No such file or directory: '/scratch/john/SWR_semantic_scratch/ENCODING/SWR_catFR1_R1269E_1_HPC_encoding_soz_in_hamming.p', file: <ipython-input-58-ea4a7d31d38b>, line no: 52\n",
      "2021-11-22_01-08-23: DF Exception: Sub: R1269E, Sess: 3, FileNotFoundError, [Errno 2] No such file or directory: '/scratch/john/SWR_semantic_scratch/ENCODING/SWR_catFR1_R1269E_3_HPC_encoding_soz_in_hamming.p', file: <ipython-input-58-ea4a7d31d38b>, line no: 52\n",
      "2021-11-22_01-08-23: DF Exception: Sub: R1354E, Sess: 0, FileNotFoundError, [Errno 2] No such file or directory: '/scratch/john/SWR_semantic_scratch/ENCODING/SWR_catFR1_R1354E_0_HPC_encoding_soz_in_hamming.p', file: <ipython-input-58-ea4a7d31d38b>, line no: 52\n",
      "2021-11-22_01-08-24: DF Exception: Sub: R1426N, Sess: 1, FileNotFoundError, [Errno 2] No such file or directory: '/scratch/john/SWR_semantic_scratch/ENCODING/SWR_catFR1_R1426N_1_HPC_encoding_soz_in_hamming.p', file: <ipython-input-58-ea4a7d31d38b>, line no: 52\n",
      "2021-11-22_01-08-24: DF Exception: Sub: R1461T, Sess: 0, FileNotFoundError, [Errno 2] No such file or directory: '/scratch/john/SWR_semantic_scratch/ENCODING/SWR_catFR1_R1461T_0_HPC_encoding_soz_in_hamming.p', file: <ipython-input-58-ea4a7d31d38b>, line no: 52\n",
      "2021-11-22_01-08-24: DF Exception: Sub: R1461T, Sess: 1, FileNotFoundError, [Errno 2] No such file or directory: '/scratch/john/SWR_semantic_scratch/ENCODING/SWR_catFR1_R1461T_1_HPC_encoding_soz_in_hamming.p', file: <ipython-input-58-ea4a7d31d38b>, line no: 52\n",
      "2021-11-22_01-08-24: DF Exception: Sub: R1463E, Sess: 1, FileNotFoundError, [Errno 2] No such file or directory: '/scratch/john/SWR_semantic_scratch/ENCODING/SWR_catFR1_R1463E_1_HPC_encoding_soz_in_hamming.p', file: <ipython-input-58-ea4a7d31d38b>, line no: 52\n",
      "2021-11-22_01-08-24: DF Exception: Sub: R1497T, Sess: 4, FileNotFoundError, [Errno 2] No such file or directory: '/scratch/john/SWR_semantic_scratch/ENCODING/SWR_catFR1_R1497T_4_HPC_encoding_soz_in_hamming.p', file: <ipython-input-58-ea4a7d31d38b>, line no: 52\n",
      "2021-11-22_01-08-24: DF Exception: Sub: R1498D, Sess: 1, FileNotFoundError, [Errno 2] No such file or directory: '/scratch/john/SWR_semantic_scratch/ENCODING/SWR_catFR1_R1498D_1_HPC_encoding_soz_in_hamming.p', file: <ipython-input-58-ea4a7d31d38b>, line no: 52\n",
      "2021-11-22_01-08-24: DF Exception: Sub: R1498D, Sess: 2, FileNotFoundError, [Errno 2] No such file or directory: '/scratch/john/SWR_semantic_scratch/ENCODING/SWR_catFR1_R1498D_2_HPC_encoding_soz_in_hamming.p', file: <ipython-input-58-ea4a7d31d38b>, line no: 52\n",
      "2021-11-22_01-08-24: DF Exception: Sub: R1498D, Sess: 4, FileNotFoundError, [Errno 2] No such file or directory: '/scratch/john/SWR_semantic_scratch/ENCODING/SWR_catFR1_R1498D_4_HPC_encoding_soz_in_hamming.p', file: <ipython-input-58-ea4a7d31d38b>, line no: 52\n",
      "2021-11-22_01-08-24: DF Exception: Sub: R1498D, Sess: 5, FileNotFoundError, [Errno 2] No such file or directory: '/scratch/john/SWR_semantic_scratch/ENCODING/SWR_catFR1_R1498D_5_HPC_encoding_soz_in_hamming.p', file: <ipython-input-58-ea4a7d31d38b>, line no: 52\n",
      "2021-11-22_01-08-24: DF Exception: Sub: R1501J, Sess: 8, EOFError, Ran out of input, file: <ipython-input-58-ea4a7d31d38b>, line no: 53\n",
      "**Done reading data**\n",
      "**Done translating to ripple_array frame**!!\n",
      "...\n"
     ]
    },
    {
     "data": {
      "text/plain": [
       "(49090, 1500)"
      ]
     },
     "execution_count": 58,
     "metadata": {},
     "output_type": "execute_result"
    },
    {
     "name": "stdout",
     "output_type": "stream",
     "text": [
      "From 71/93 sessions with >0 HPC electrodes\n",
      "Total trials: 49090\n",
      "Unique sessions: 71\n",
      "...from 35 patients\n",
      "Number of electrodes: 132\n",
      "Electrode regions X sessions:\n",
      "46 for  left hippocampus\n",
      "21 for  right hippocampus\n",
      "58 for \"ca1\"\n",
      "31 for \"dg\"\n",
      "12 for \"sub\"\n",
      "21 for left ca1\n",
      "1 for left ca2\n",
      "1 for left ca3\n",
      "16 for left dg\n",
      "50 for left hippocampus\n",
      "2 for left sub\n",
      "16 for right ca1\n",
      "19 for right dg\n",
      "25 for right hippocampus\n",
      "2 for right sub\n"
     ]
    }
   ],
   "source": [
    "## Now to load data from cluster, have to go through and append across sessions\n",
    "\n",
    "### params that clusterRun used (note that exp is defined in first cell so can get exp_df above)\n",
    "\n",
    "selected_period = 'encoding'\n",
    "# 'whole_encoding': aligned to 1st word of each encoding period and ends 29.7 s later (average time for 12 words to be shown)\n",
    "# 'encoding': aligned to word_on\n",
    "\n",
    "recall_type_switch = 0\n",
    "\n",
    "recall_minimum = 0 # used if recall_type_switch = 3\n",
    "region_name = 'HPC' #'ENT' #'HPC' #HPC_ENT #ENT #HPC # PHC \n",
    "remove_soz_ictal = 0 # 0 for nothing, 1 for remove SOZ, 2 for keep ONLY SOZ ###\n",
    "filter_type = 'hamming' # butter/hamming/hamming125200/tried hamming140250 for math\n",
    "sub_selection = 'first_half' # 'second_half', 'whole' ,'first_half'\n",
    "                              # analyze first 40%, remaining 60% of data, or whole? \n",
    "                              # works for FR1 and catFR1\n",
    "###\n",
    "\n",
    "# get strings for path name for save and loading cluster data\n",
    "if recall_type_switch in [0,4,6,8]:\n",
    "    # for these I'm using all trials, but selecting for which recall after the fact\n",
    "    soz_label,recall_selection_name,subfolder = getSWRpathInfo(remove_soz_ictal,0,selected_period,recall_minimum)\n",
    "else: # these others I haven't set up indexing (see >line 100 in this cell)\n",
    "    soz_label,recall_selection_name,subfolder = getSWRpathInfo(remove_soz_ictal,recall_type_switch,selected_period,recall_minimum)\n",
    "    \n",
    "ripple_array = []; \n",
    "trial_nums = []; encoded_word_key_array = []\n",
    "HPC_names = []; sub_sess_names = []\n",
    "region_electrode_ct = []; sub_names = []\n",
    "trial_by_trial_correlation = []; elec_ripple_rate_array = []\n",
    "elec_by_elec_correlation = []; fr_array = []\n",
    "list_num_key = []; category_array = [] # need these two to analyze categories during encoding\n",
    "\n",
    "serialpos_array = []; list_recall_num_array = []; # ~~~\n",
    "rectime_array = []; recall_before_intrusion_array = []\n",
    "recall_position_array = []\n",
    "semantic_clustering_key = []\n",
    "\n",
    "electrode_labels = []; channel_coords = []; channel_nums = []\n",
    "\n",
    "analysis_df = getSplitDF(exp_df,sub_selection,exp)\n",
    "\n",
    "for row in analysis_df.itertuples(): #analysis_df.itertuples(): #sub_df.itertuples():  #analysis_df.itertuples(): \n",
    "    try:\n",
    "        sub = row.subject; session = row.session; exp = row.experiment\n",
    "\n",
    "        path_name = '/scratch/john/SWR_semantic_scratch/'+subfolder\n",
    "        fn = os.path.join(path_name,\n",
    "            'SWR_'+exp+'_'+sub+'_'+str(session)+'_'+region_name+'_'+selected_period+recall_selection_name+\n",
    "                          '_'+soz_label+'_'+filter_type+'.p') #'_no_param_removal.p')   #'.p') #+'.intrusions.p') # +'.-wrong.p') (for wrong math)\n",
    "        with open(fn,'rb') as f:\n",
    "            dat = pickle.load(f)\n",
    "\n",
    "            ripple_array = superVstack(ripple_array,dat['ripple_array']) \n",
    "            region_electrode_ct.append(dat['region_electrode_ct'])\n",
    "            encoded_word_key_array.extend(dat['encoded_word_key_array'])\n",
    "            HPC_names.extend(dat['HPC_names'])\n",
    "            sub_sess_names.extend(dat['sub_sess_names'])\n",
    "            sub_names.extend(dat['sub_names'])\n",
    "            trial_nums = np.append(trial_nums,dat['trial_nums'])\n",
    "            trial_by_trial_correlation.extend(dat['trial_by_trial_correlation']) # one value for each electrode for this session\n",
    "            elec_by_elec_correlation = np.append(elec_by_elec_correlation,dat['elec_by_elec_correlation'])\n",
    "            elec_ripple_rate_array.extend(dat['elec_ripple_rate_array']) # ripple rate by electrode so append\n",
    "            #,'total_recalls':total_recalls, 'kept_recalls':kept_recalls}, f)\n",
    "\n",
    "            \n",
    "            # specific to whole_encoding\n",
    "            serialpos_array.extend(dat['serialpos_array'])\n",
    "            recall_position_array.extend(dat['recall_position_array'])\n",
    "            list_recall_num_array.extend(dat['list_recall_num_array'])\n",
    "            \n",
    "            electrode_labels.extend(dat['electrode_labels'])\n",
    "            channel_coords.extend(dat['channel_coords'])\n",
    "#             channel_nums.extend(dat['channel_nums']) # no channel_nums in Clustering code for whatever reason\n",
    "            list_num_key.extend(dat['list_num_key'])\n",
    "            category_array.extend(dat['category_array'])\n",
    "        \n",
    "            semantic_clustering_key.extend(dat['semantic_clustering_key'])\n",
    "            \n",
    "    except Exception as e:\n",
    "        LogDFExceptionLine(row, e, 'ClusterLoadSWR_log.txt')  \n",
    "print('**Done reading data**')\n",
    "        \n",
    "## loading *all* the recalls with 0, but if it's 4 or 6 load just those trials\n",
    "\n",
    "# trying new method of loading...translate these to ripple_array length dependent on recall_type_switch \n",
    "# (this way I can always load from recall_type_switch = 0)\n",
    "\n",
    "subject_name_array,session_name_array,electrode_array,channel_coords_array = getSubSessPredictors(\n",
    "        sub_names,sub_sess_names,trial_nums,electrode_labels,channel_coords)\n",
    "\n",
    "# spread out encoded_word_key too so I know which words were correct\n",
    "word_correct_array = []\n",
    "for sess_elec in encoded_word_key_array:\n",
    "    word_correct_array.extend(sess_elec)\n",
    "word_correct_array = np.array(word_correct_array)\n",
    "word_correct_array[word_correct_array>0] = 1 # 1s and 2s are corrects\n",
    "\n",
    "# serialpos too!\n",
    "sp_array = []\n",
    "for sp in serialpos_array:\n",
    "    sp_array.extend(sp.values)\n",
    "serialpos_array = sp_array\n",
    "\n",
    "# entend all of these into arrays\n",
    "temp = []\n",
    "for enc in encoded_word_key_array:\n",
    "    temp.extend(enc)\n",
    "encoded_word_key_array = copy(temp)\n",
    "\n",
    "\n",
    "# temp_recall_idxs = np.array(list_recall_num_array)>=0 # just keep them all\n",
    "    \n",
    "# subject_name_array = np.array(subject_name_array)[temp_recall_idxs]\n",
    "# session_name_array = np.array(session_name_array)[temp_recall_idxs]\n",
    "# electrode_array = np.array(electrode_array)[temp_recall_idxs]\n",
    "# channel_coords_array = np.array(channel_coords_array)[temp_recall_idxs]\n",
    "# channel_nums_array = np.array(channel_nums_array)[temp_recall_idxs]\n",
    "# ripple_array = np.array(ripple_array)[temp_recall_idxs]\n",
    "# rectime_array = np.array(rectime_array)[temp_recall_idxs]\n",
    "# list_recall_num_array = np.array(list_recall_num_array)[temp_recall_idxs]\n",
    "# recall_position_array = np.array(recall_position_array)[temp_recall_idxs]\n",
    "    \n",
    "print('**Done translating to ripple_array frame**!!')\n",
    "print('...')\n",
    "    \n",
    "## some info on data loaded from cluster runs ##\n",
    "ripple_array.shape\n",
    "\n",
    "region_electrode_ct = np.array(region_electrode_ct)\n",
    "# print('Number of electrodes in each session: '); region_electrode_ct\n",
    "print('From '+str(sum(region_electrode_ct>0))+'/'+str(len(region_electrode_ct))+' sessions with >0 '+region_name+' electrodes')\n",
    "print('Total trials: '+str(int(np.sum(trial_nums))))\n",
    "print('Unique sessions: '+str(len(np.unique(sub_sess_names))))\n",
    "print('...from '+str(len(np.unique(subject_name_array)))+' patients')\n",
    "\n",
    "# some info about regions \n",
    "sub_elec = [subject_name_array[i]+electrode_array[i] for i in range(len(electrode_array))]\n",
    "print('Number of electrodes: '+str(len(np.unique(sub_elec))))\n",
    "\n",
    "print('Electrode regions X sessions:')\n",
    "unique_names = np.unique(HPC_names)\n",
    "for name in unique_names:\n",
    "    num_elecs = sum(np.array([names.find(name) for names in HPC_names])>=0)\n",
    "    print(str(num_elecs)+' for '+name)\n",
    "    "
   ]
  },
  {
   "cell_type": "code",
   "execution_count": 59,
   "metadata": {},
   "outputs": [
    {
     "data": {
      "text/plain": [
       "49090"
      ]
     },
     "execution_count": 59,
     "metadata": {},
     "output_type": "execute_result"
    },
    {
     "data": {
      "text/plain": [
       "49090"
      ]
     },
     "execution_count": 59,
     "metadata": {},
     "output_type": "execute_result"
    },
    {
     "data": {
      "text/plain": [
       "49090"
      ]
     },
     "execution_count": 59,
     "metadata": {},
     "output_type": "execute_result"
    },
    {
     "data": {
      "text/plain": [
       "49090"
      ]
     },
     "execution_count": 59,
     "metadata": {},
     "output_type": "execute_result"
    },
    {
     "data": {
      "text/plain": [
       "49090"
      ]
     },
     "execution_count": 59,
     "metadata": {},
     "output_type": "execute_result"
    },
    {
     "data": {
      "text/plain": [
       "49090"
      ]
     },
     "execution_count": 59,
     "metadata": {},
     "output_type": "execute_result"
    },
    {
     "data": {
      "text/plain": [
       "49090"
      ]
     },
     "execution_count": 59,
     "metadata": {},
     "output_type": "execute_result"
    },
    {
     "data": {
      "text/plain": [
       "49090"
      ]
     },
     "execution_count": 59,
     "metadata": {},
     "output_type": "execute_result"
    }
   ],
   "source": [
    "len(ripple_array)\n",
    "len(category_array)\n",
    "len(electrode_array)\n",
    "len(list_num_key)\n",
    "len(word_correct_array)\n",
    "len(recall_position_array)\n",
    "len(semantic_clustering_key)\n",
    "len(serialpos_array)"
   ]
  },
  {
   "cell_type": "code",
   "execution_count": 20,
   "metadata": {},
   "outputs": [
    {
     "name": "stdout",
     "output_type": "stream",
     "text": [
      "(49090, 1500)\n"
     ]
    },
    {
     "data": {
      "image/png": "[encoded data removed]",
      "text/plain": [
       "<Figure size 432x288 with 1 Axes>"
      ]
     },
     "metadata": {
      "needs_background": "light"
     },
     "output_type": "display_data"
    }
   ],
   "source": [
    "print(np.shape(ripple_array))\n",
    "plot(np.mean(ripple_array,0))\n",
    "if selected_period == 'whole_encoding':\n",
    "    xticks(range(0,20000,2500),range(0,40000,5000))\n",
    "    plot([1000,1000],[0,0.015])    \n",
    "elif selected_period == 'encoding':\n",
    "    xticks(ticks=range(-350,1501,100),labels=range(-1400,3001,200),rotation=60)\n",
    "    plot([350,350],[0,0.015])\n",
    "    plot([1150,1150],[0,0.015])   \n",
    "elif selected_period == 'whole_retrieval':\n",
    "    xticks(ticks=range(0,17001,2500),labels=range(0,32001,5000),rotation=60)\n",
    "    plot([1000,1000],[0,0.015]) \n",
    "    plot([1000+15000,1000+15000],[0,0.015]) \n",
    "# ylim(0,0.015)\n",
    "title(exp)\n",
    "ylabel('uncorrected ripple density')\n",
    "xlabel('Time during encoding (ms)');"
   ]
  },
  {
   "cell_type": "markdown",
   "metadata": {},
   "source": [
    "## to visualize the removal parameters"
   ]
  },
  {
   "cell_type": "code",
   "execution_count": 43,
   "metadata": {
    "collapsed": true,
    "jupyter": {
     "outputs_hidden": true
    },
    "tags": []
   },
   "outputs": [
    {
     "data": {
      "image/png": "[encoded data removed]",
      "text/plain": [
       "<Figure size 432x288 with 1 Axes>"
      ]
     },
     "metadata": {
      "needs_background": "light"
     },
     "output_type": "display_data"
    },
    {
     "data": {
      "image/png": "[encoded data removed]",
      "text/plain": [
       "<Figure size 432x288 with 1 Axes>"
      ]
     },
     "metadata": {
      "needs_background": "light"
     },
     "output_type": "display_data"
    },
    {
     "data": {
      "image/png": "[encoded data removed]",
      "text/plain": [
       "<Figure size 432x288 with 1 Axes>"
      ]
     },
     "metadata": {
      "needs_background": "light"
     },
     "output_type": "display_data"
    }
   ],
   "source": [
    "save_figs = 0\n",
    "# np.array(trial_by_trial_correlation)\n",
    "# np.array(elec_ripple_rate_array)\n",
    "# np.array(elec_by_elec_correlation)\n",
    "set_pubfig()\n",
    "\n",
    "# trial-by-trial correlation\n",
    "plt.hist(trial_by_trial_correlation,np.arange(-0.1,0.1,0.01),color = (0.3,0.6,0.8)); \n",
    "xlabel('Trial-by-trial correlation'); ylabel('Bipolar electrode pairs (#)'); \n",
    "plot([0.05,0.05],[gca().get_ylim()[0],gca().get_ylim()[1]],linewidth=1,linestyle='--',color=(0.2,0.2,0.2),label='_nolegend_')\n",
    "if save_figs == 1:\n",
    "    plt.savefig('../figures/control_params/trial-by-trial_correlation.pdf',transparent=True); show()\n",
    "else:\n",
    "    show()\n",
    "\n",
    "# ripple rates\n",
    "plt.hist(elec_ripple_rate_array,np.arange(0,2,0.05),color = (1,0.6,0.8)); \n",
    "xlabel('Ripple rate (Hz)'); ylabel('Bipolar electrode pairs (#)'); \n",
    "ylims = [gca().get_ylim()[0],gca().get_ylim()[1]]\n",
    "plot([0.1,0.1],ylims,linewidth=1,linestyle='--',color=(0.2,0.2,0.2),label='_nolegend_')\n",
    "plot([1,1],ylims,linewidth=1,linestyle='--',color=(0.2,0.2,0.2),label='_nolegend_')\n",
    "if save_figs == 1:\n",
    "    plt.savefig('../figures/control_params/ripple_rates_by_electrode.pdf',transparent=True); show()\n",
    "else:\n",
    "    show()\n",
    "    \n",
    "plt.hist(elec_by_elec_correlation,np.arange(-0.35,0.35,0.025),color = (0.1,0.8,0.8)); \n",
    "xlabel('Average correlation of bipolar electrode pairs'); ylabel('Sessions (#)'); \n",
    "plot([0.2,0.2],[gca().get_ylim()[0],gca().get_ylim()[1]],linewidth=1,linestyle='--',color=(0.2,0.2,0.2),label='_nolegend_')\n",
    "if save_figs == 1:\n",
    "    plt.savefig('../figures/control_params/sessions_electrode_correlations.pdf',transparent=True)\n",
    "show();\n",
    "\n",
    "#     max_ripple_rate = 3 #1.5 # Hz.\n",
    "#     max_trial_by_trial_correlation = 1 #0.05 # if ripples correlated more than this remove them\n",
    "#     max_electrode_by_electrode_correlation = 1 #0.2 #???\n",
    "#     if filter_type == 'hamming':\n",
    "#         min_ripple_rate = 0 # 0.1 # Hz.\n",
    "#     else:\n",
    "#         min_ripple_rate = 0.05 # for methods with lower rates decrease the minimum cutoff"
   ]
  },
  {
   "cell_type": "markdown",
   "metadata": {},
   "source": [
    "## Get start_array and select subfield if HPC for free recalls"
   ]
  },
  {
   "cell_type": "code",
   "execution_count": 68,
   "metadata": {},
   "outputs": [
    {
     "data": {
      "text/plain": [
       "False"
      ]
     },
     "execution_count": 68,
     "metadata": {},
     "output_type": "execute_result"
    }
   ],
   "source": [
    "isinstance(select_lists_with_recalls, np.ndarray)"
   ]
  },
  {
   "cell_type": "code",
   "execution_count": 69,
   "metadata": {},
   "outputs": [
    {
     "name": "stdout",
     "output_type": "stream",
     "text": [
      "Total electrodes loaded: 254\n",
      "from 71 sessions from 35 subjects with trial nums:\n",
      "[120. 120. 120. 120. 120. 120. 120. 240. 240. 240. 240. 300. 300. 300.\n",
      " 300. 300. 300. 300. 300. 300.]\n",
      "Trial sum = 49090.0\n",
      "['left sub', 'left ca1', 'left ca1', 'left sub', 'left ca1', 'left dg', 'left ca1', 'left hippocampus', 'left hippocampus', 'left ca2', 'left hippocampus', 'left ca1', 'left dg', 'left dg', 'left ca1', 'left dg', 'left dg', 'right sub', 'right ca1', 'left dg']\n",
      "Number of sub_sess names: 254\n",
      "Got encoding start_array!\n",
      "Got start_array with 49068 trials!\n",
      "Number of electrodes: 132\n",
      "...from 35 patients\n",
      "# of trials: 49068\n",
      "Total # of ripples: 44282\n",
      "Overall ripple rate: 0.301 Hz\n"
     ]
    }
   ],
   "source": [
    "## DO YOU WANT TO SELECT A SUBFIELD or OUTPUT POSITION?? ##  \n",
    "\n",
    "select_subfield = False   # note: if you already ran this once, have to load again from data\n",
    "                          # also this is only for HPC. So set to False for ENT and PHC\n",
    "    \n",
    "# select for subfield if HPC\n",
    "if select_subfield == True:\n",
    "    location_selected = 'dg' #'dg' # 'ca3' # 'dg' 'ca1' # sub # ['ca1','dg']\n",
    "        # left # right # left hippocampus # right hippocampus # hippocampus\n",
    "        # to see number of each: sum(np.array([names.find('sub') for names in HPC_names])>=0)\n",
    "else:\n",
    "    location_selected = ''\n",
    "    \n",
    "\n",
    "### Use a task condition to select recalls?? ###\n",
    "### ...will select first one that's not 0    ###\n",
    "select_ordinal_position = 0              # select only recalls at given output position. 0 means it's off ##DEPRECATED\n",
    "select_list_position = np.arange(1,7) #[12] # 0 select only recalls at given position from encoding list. Must be integer 0 if not selecting \n",
    "                                         # 0 means it's off. Must be list\n",
    "select_less_than_rectime = 0             # select only recalls < this number % 5000\n",
    "select_greater_than_rectime = 0          # select only recalls ≥ this number % 5000\n",
    "select_lists_with_recalls = 0 # list(np.arange(3,13)) # [1] so this would select ≥4 recalls. Must be list hence the list(arange...)\n",
    "                                         # select only recalls that come from lists with number in this list\n",
    "select_intrusions_next = 0               # select recalls that lead to intrusions\n",
    "    \n",
    "if filter_type.find('hamming') != -1:\n",
    "    desired_sample_rate = 500.\n",
    "else:\n",
    "    desired_sample_rate = 1000.\n",
    "sr = desired_sample_rate # fixed at this value since this is the minimum across data and can always downsample\n",
    "sr_factor = 1000/desired_sample_rate\n",
    "\n",
    "print('Total electrodes loaded: '+str(len(trial_nums)))\n",
    "print('from '+str(len(np.unique(sub_sess_names)))+' sessions from '+str(len(np.unique(sub_names)))+' subjects with trial nums:')\n",
    "print(trial_nums[0:20])\n",
    "print('Trial sum = '+str(np.sum(trial_nums)))\n",
    "print(HPC_names[0:20])\n",
    "print('Number of sub_sess names: '+str(len(sub_sess_names)))\n",
    "\n",
    "\n",
    "start_array,end_array = getStartEndArrays(ripple_array); print('Got encoding start_array!')\n",
    " \n",
    "# if selected an output position\n",
    "if select_ordinal_position > 0:\n",
    "    if np.min(ordinal_position_array) == 0: # only update this once (so don't have to reload data from files)\n",
    "        ordinal_position_array = np.array(ordinal_position_array)+1 # now 1-indexed\n",
    "    selected_recalls = ordinal_position_array==select_ordinal_position\n",
    "elif ((type(select_lists_with_recalls) == list) | ( isinstance(select_lists_with_recalls, np.ndarray) )):\n",
    "    selected_recalls = [sp in select_list_position for sp in serialpos_array]\n",
    "elif select_intrusions_next == 1:\n",
    "    selected_recalls = np.array(recall_before_intrusion_array)==True\n",
    "elif select_less_than_rectime > 0:\n",
    "    selected_recalls = np.array(rectime_array)<select_less_than_rectime\n",
    "elif select_greater_than_rectime > 0:\n",
    "    selected_recalls = np.array(rectime_array)>=select_greater_than_rectime\n",
    "elif type(select_lists_with_recalls) == list:\n",
    "    selected_recalls = [recall in select_lists_with_recalls for recall in list_recall_num_array]\n",
    "else:\n",
    "    selected_recalls = np.ones(len(start_array),dtype=bool)\n",
    "    \n",
    "# get locations if selected\n",
    "\n",
    "if select_subfield == True:\n",
    "    # create the full vector of location name predictors\n",
    "    location_names = []\n",
    "    for s in range(len(HPC_names)):\n",
    "        new_trials = int(trial_nums[s])\n",
    "        location_names.extend(np.tile(HPC_names[s],new_trials))  \n",
    "        \n",
    "    # now can get mask of trials in this location\n",
    "    \n",
    "    #first, if there are two locations to combine, sort that out (DG and CA1 in particular)\n",
    "    location_mask = np.zeros(len(location_names))\n",
    "    for s in range(len(location_names)):\n",
    "        if type(location_selected)==list:\n",
    "            if location_names[s].find(location_selected[0])>=0 or location_names[s].find(location_selected[1])>=0:\n",
    "                location_mask[s] = True\n",
    "        elif type(location_selected)==str:\n",
    "            if location_names[s].find(location_selected)>=0:\n",
    "                location_mask[s] = True\n",
    "else:\n",
    "    location_mask = np.ones(len(start_array))\n",
    "\n",
    "# DON'T USE temp_recall_idxs FOR ENCODING\n",
    "# # gotta translate this to new frame as well from idxs in load step if selected subfield\n",
    "# if select_subfield == True: \n",
    "#     location_mask = location_mask[temp_recall_idxs] \n",
    "\n",
    "# combine location and sorted recalls to get new ripple array:\n",
    "updated_recalls = (location_mask+selected_recalls)==2\n",
    "\n",
    "# these lists did not have 12 word presentations, so remove them\n",
    "if exp == 'catFR1':\n",
    "    updated_recalls[(np.array(session_name_array)=='R1180C-2') & (np.array(list_num_key)==24)] = 0\n",
    "    updated_recalls[(np.array(session_name_array)=='R1278E-10') & (np.array(list_num_key)==25)] = 0\n",
    "    \n",
    "    \n",
    "# translate these predictors to vector and select recalls\n",
    "start_array = start_array[updated_recalls]\n",
    "end_array = end_array[updated_recalls] # used for duration calculations\n",
    "subject_name_array = np.array(subject_name_array)[updated_recalls]\n",
    "session_name_array = np.array(session_name_array)[updated_recalls]\n",
    "electrode_array = np.array(electrode_array)[updated_recalls]\n",
    "channel_coords_array = np.array(channel_coords_array)[updated_recalls]\n",
    "# channel_nums_array = np.array(channel_nums_array)[updated_recalls]\n",
    "category_array = np.array(category_array)[updated_recalls]\n",
    "# if selected_period in ['surrounding_recall','math','math_retrieval']:\n",
    "#     list_recall_num_array = list_recall_num_array[updated_recalls] # for subject-level analysis\n",
    "# rectime_array = np.array(rectime_array)[updated_recalls]\n",
    "# recall_position_array = np.array(recall_position_array)[updated_recalls]\n",
    "\n",
    "# specific to encoding\n",
    "# serialpos_array = np.array(serialpos_array)[updated_recalls] # FIX THIS ONCE RUN AGAIN 2021-09-16\n",
    "# list_recall_num_array = np.array(list_recall_num_array)[updated_recalls]\n",
    "\n",
    "encoded_word_key_array = np.array(encoded_word_key_array)[updated_recalls]\n",
    "serialpos_array = np.array(serialpos_array)[updated_recalls]\n",
    "list_num_key = np.array(list_num_key)[updated_recalls]\n",
    "word_correct_array = word_correct_array[updated_recalls]\n",
    "recall_position_array = np.array(recall_position_array)[updated_recalls]\n",
    "semantic_clustering_key = np.array(semantic_clustering_key)[updated_recalls]\n",
    "    \n",
    "print('Got start_array with '+str(start_array.shape[0])+' trials!')\n",
    "\n",
    "sub_elec = [subject_name_array[i]+electrode_array[i] for i in range(len(electrode_array))]\n",
    "print('Number of electrodes: '+str(len(np.unique(sub_elec))))\n",
    "print('...from '+str(len(np.unique(subject_name_array)))+' patients')\n",
    "        \n",
    "# # plot whole retrieval period with FR events superimposed on SWRs\n",
    "# if selected_period == 'whole_bretrieval':\n",
    "#     start_array2 = start_array # for whole retrieval period\n",
    "#     print('Base SWRs/30 s retrieval: '+str(sum(start_array2)/start_array2.shape[0]/(30000/1000)))\n",
    "#     ## can go straight to \"SWRs by time in retrieval period\" from here\n",
    "# else:\n",
    "#     print('SWRs rate in 4 s around FR: '+str(sum(start_array)/start_array.shape[0]/(4000/1000)))\n",
    "\n",
    "# # subplots(1,1,figsize=(6,9))\n",
    "# # plot([0,0],[0,fr_array.shape[0]],linewidth=1,linestyle='-',color=(0,0,0))\n",
    "# # plot(np.ones(2)*(retrieval_whole_time),[0,fr_array.shape[0]],linewidth=1,linestyle='-',color=(0,0,0))\n",
    "# # scatter(np.where(start_array2)[1]*sr_factor+psth_start,np.where(start_array2)[0],s=0.5)\n",
    "# # scatter(np.where(fr_array)[1],np.where(fr_array)[0],s=0.5,color=[1,0,0]); \n",
    "# # plt.xlabel('Retrieval period time (ms)')\n",
    "# # plt.ylabel('Retrieval period')\n",
    "# # if save_plot == 1:\n",
    "# #     plt.savefig('../plots/'+'SWR_FR_'+region_name+'-'+str(session_ct)+'_sessions_in-'+str(sub_num)+'subjects_'+filter_type+'.pdf',transparent=True)\n",
    "# # plt.show();    \n",
    "\n",
    "print('# of trials: '+str(np.shape(start_array)[0]))\n",
    "print('Total # of ripples: '+str(sum(start_array)))\n",
    "print('Overall ripple rate: '+str(np.round( (1000/sr_factor)*sum(start_array)/np.shape(start_array)[0]/np.shape(start_array)[1],3 ))+' Hz')"
   ]
  },
  {
   "cell_type": "markdown",
   "metadata": {},
   "source": [
    "## SCE (Subsequent Clustering Effect?)"
   ]
  },
  {
   "cell_type": "code",
   "execution_count": 57,
   "metadata": {},
   "outputs": [
    {
     "data": {
      "text/plain": [
       "0"
      ]
     },
     "execution_count": 57,
     "metadata": {},
     "output_type": "execute_result"
    }
   ],
   "source": [
    "i_recall_type"
   ]
  },
  {
   "cell_type": "code",
   "execution_count": 70,
   "metadata": {
    "tags": []
   },
   "outputs": [],
   "source": [
    "encoding_time = 2300 # actual preentation is 1.6 s + 0.75-1.0 s so keep +700 ms so can plot +500 ms\n",
    "pre_encoding_time = -700\n",
    "ripple_bin_start_end = [300,1300] # range I'm going to look for ripples for regression of serialpos and category predictors\n",
    "\n",
    "adj_semantic_encoding_array = []\n",
    "rem_semantic_encoding_array = []\n",
    "rem_unclustered_encoding_array = []\n",
    "last_recall_encoding_array = [] # the last word remembered on each list (no transitions)...but make sure it's not an intrusion or repeat too!\n",
    "sub_name_array0 = []; sess_name_array0 = []\n",
    "sub_name_array1 = []; sess_name_array1 = []\n",
    "sub_name_array2 = []; sess_name_array2 = []\n",
    "sub_name_array3 = []; sess_name_array3 = []\n",
    "\n",
    "session_names = np.unique(session_name_array)\n",
    "\n",
    "for sess in session_names:\n",
    "    sess_list_nums = np.unique(list_num_key[session_name_array==sess])    \n",
    "        \n",
    "    for ln in sess_list_nums:\n",
    "        list_elec_array = np.unique(electrode_array[(session_name_array==sess) & (list_num_key==ln)])\n",
    "        \n",
    "        for elec in list_elec_array:\n",
    "        \n",
    "            list_ch_idxs = (session_name_array==sess) & (list_num_key==ln) & (electrode_array==elec)\n",
    "            \n",
    "            list_ch_encoding_array = start_array[list_ch_idxs]\n",
    "            list_ch_cats = category_array[list_ch_idxs]\n",
    "            list_ch_corr = word_correct_array[list_ch_idxs]\n",
    "            list_ch_semantic_key = semantic_clustering_key[list_ch_idxs]\n",
    "            list_ch_recall_positions = recall_position_array[list_ch_idxs]\n",
    "            \n",
    "            for i_recall_type,recall_type in enumerate(list_ch_semantic_key[0]): # all 12 words have same values for semantic key\n",
    "                \n",
    "                recall_position = list_ch_recall_positions[0][i_recall_type]\n",
    "                if recall_type == 'A': # adjacent semantic\n",
    "                    # note the -1 since recall positions are on scale of 1-12\n",
    "                    adj_semantic_encoding_array = superVstack(adj_semantic_encoding_array,list_ch_encoding_array[recall_position-1])\n",
    "                    sub_name_array0.append(sess[0:6])\n",
    "                    sess_name_array0.append(sess)\n",
    "                elif recall_type == 'C': # remote semantic\n",
    "                    rem_semantic_encoding_array = superVstack(rem_semantic_encoding_array,list_ch_encoding_array[recall_position-1])\n",
    "                    sub_name_array1.append(sess[0:6])\n",
    "                    sess_name_array1.append(sess)\n",
    "                elif ( (recall_type == 'D') & (recall_position>0) ): # remote unclustered\n",
    "                    rem_unclustered_encoding_array = superVstack(rem_unclustered_encoding_array,list_ch_encoding_array[recall_position-1])\n",
    "                    sub_name_array2.append(sess[0:6])\n",
    "                    sess_name_array2.append(sess)                    \n",
    "                elif ( (recall_type == 'Z') & (recall_position>0) ): # last word of list & was actually a recalled word\n",
    "                    last_recall_encoding_array = superVstack(last_recall_encoding_array,list_ch_encoding_array[recall_position-1])\n",
    "                    sub_name_array3.append(sess[0:6])\n",
    "                    sess_name_array3.append(sess)\n",
    "            test=1"
   ]
  },
  {
   "cell_type": "code",
   "execution_count": 71,
   "metadata": {},
   "outputs": [
    {
     "name": "stdout",
     "output_type": "stream",
     "text": [
      "done making binned start_array with shape:\n",
      "(3602, 26)\n",
      "done making binned start_array with shape:\n",
      "(2805, 26)\n"
     ]
    },
    {
     "data": {
      "image/png": "[encoded data removed]",
      "text/plain": [
       "<Figure size 360x243 with 1 Axes>"
      ]
     },
     "metadata": {
      "needs_background": "light"
     },
     "output_type": "display_data"
    }
   ],
   "source": [
    "save_plot_data = 0\n",
    "plot_SE = 0\n",
    "\n",
    "# get PSTH for two of the types\n",
    "plot_two = [1,3]  # [1,3] # [0,2]\n",
    "# 0 is adjacent_semantic, 1 is remote_semantic, 2 is remote unclustered, 3 is dead end\n",
    "\n",
    "bin_size = 100 # in ms\n",
    "smoothing_triangle = 5 # triangular smoothing window width\n",
    "samples = 100\n",
    "pad = int(np.floor(smoothing_triangle/2)) # factor is how many points from middle does triangle go?\n",
    "\n",
    "\n",
    "# for recalled and then forgotten words\n",
    "for array_num in plot_two:\n",
    "    if array_num == 0:\n",
    "        temp_start_array = adj_semantic_encoding_array\n",
    "        label = 'List words lead to \\\\textbf{adjacent semantic}'\n",
    "        plot_color = (1,0.33,0)\n",
    "    elif array_num == 1:\n",
    "        temp_start_array = rem_semantic_encoding_array\n",
    "        label = 'List words lead to \\\\textbf{remote semantic}'\n",
    "        plot_color = (0,0.66,1)\n",
    "    elif array_num == 2:\n",
    "        temp_start_array = rem_unclustered_encoding_array\n",
    "        label = 'List words lead to \\\\textbf{remote unclustered}'\n",
    "        plot_color = (0,0.3,0)\n",
    "    elif array_num == 3:\n",
    "        temp_start_array = last_recall_encoding_array\n",
    "        label = 'List words lead to \\\\textbf{dead end}'\n",
    "        plot_color = (0,0,0.3)\n",
    "    sub_name_array = eval('sub_name_array'+str(array_num))\n",
    "    sess_name_array = eval('sess_name_array'+str(array_num))\n",
    "\n",
    "    if array_num == plot_two[0]:\n",
    "        # for plot\n",
    "        subplots(1,1,figsize=(5,3.375))        \n",
    "        text(-600,0.15,label,usetex=True,size=16,color=plot_color) \n",
    "        text(-600,0.12,'Number of trials: '+str(temp_start_array.shape[0]),color=plot_color)\n",
    "    else:\n",
    "        text(-600,0.08,label,usetex=True,size=16,color=plot_color) \n",
    "        text(-600,0.05,'Number of trials: '+str(temp_start_array.shape[0]),color=plot_color)        \n",
    "        \n",
    "    # make a PSTH based on start times of SWRs\n",
    "\n",
    "    PSTH,bin_centers = fullPSTH(temp_start_array,bin_size,smoothing_triangle,sr,pre_encoding_time)\n",
    "    # bootstraps error bars by sampling from trials in raster with replacement samples number of\n",
    "    # times and then taking the standard deviation across those samples\n",
    "#     boot_samples = bootstrap(temp_start_array, bootnum=samples, samples=None, # bootstrap error bars using resampling\n",
    "#                    bootfunc=lambda x: bootPSTH(x,binsize,smoothing_triangle,sr,pre_encoding_time))\n",
    "#     boot_SD = np.std(boot_samples,0)\n",
    "\n",
    "    # get binned start array (trials X bins)\n",
    "    binned_start_array = binBinaryArray(temp_start_array,bin_size,sr_factor)\n",
    "    if pad > 0:\n",
    "        binned_start_array = binned_start_array[:,pad:-pad] # remove edge bins\n",
    "    print('done making binned start_array with shape:')\n",
    "    print(binned_start_array.shape)\n",
    "\n",
    "    # note that output is the net ± distance from mean\n",
    "    if plot_SE == True:\n",
    "        SE_plot = getMixedEffectSEs(binned_start_array,sub_name_array,sess_name_array)\n",
    "        print('SEs created!')\n",
    "    \n",
    "    # plot\n",
    "    xr = bin_centers #np.arange(psth_start,psth_end,binsize)\n",
    "    xr = xr[pad:-pad]; \n",
    "    \n",
    "    plot(xr,PSTH[pad:-pad],color=plot_color)\n",
    "    if plot_SE == True:\n",
    "        fill_between(xr, PSTH[pad:-pad]-SE_plot[0,:], PSTH[pad:-pad]+SE_plot[0,:], alpha = 0.3)\n",
    "        \n",
    "xticks(np.arange(pre_encoding_time+pad*100,encoding_time-pad*100+1,500),\n",
    "       np.arange((pre_encoding_time+pad*100)/1000,(encoding_time-pad*100)/1000+1,500/1000))\n",
    "xlabel('Time from word presentation (s)')\n",
    "ylabel('Ripple rate (events/s)')\n",
    "ax = plt.gca()\n",
    "ylim = 0.5\n",
    "ax.set_ylim(0,ylim)\n",
    "ax.set_xlim(pre_encoding_time,encoding_time)\n",
    "plot([0,0],[ax.get_ylim()[0],ax.get_ylim()[1]],linewidth=1,linestyle='-',color=(0,0,0))\n",
    "plot([1600,1600],[ax.get_ylim()[0],ax.get_ylim()[1]],linewidth=1,linestyle='--',color=(0.7,0.7,0.7))\n",
    "    \n",
    "#     if category == 0:\n",
    "#         PSTH_recalled = copy(PSTH)\n",
    "#         SE_recalled = copy(SE_plot)\n",
    "#     else:\n",
    "#         PSTH_forgotten = copy (PSTH)\n",
    "#         SE_forgotten = copy(SE_plot)\n",
    "\n",
    "# # now that we have the plot with CIs, do stats on key bins. Note here just looking at single bins but comparing across categories\n",
    "# for test in range(2):\n",
    "#     if test == 0:\n",
    "#         first_start = 300\n",
    "#         first_end = 1300\n",
    "#     else:\n",
    "#         first_start = 1700 # same idea but for post-encoding period (ILI)\n",
    "#         first_end = 2300 \n",
    "        \n",
    "#     bin_test_range = range(int( ((first_start-pre_encoding_time)/sr_factor) ),\n",
    "#                            int( ((first_end-pre_encoding_time)/sr_factor) ))\n",
    "#     binned_recalled_array = start_array_enc_recalled[:,bin_test_range]\n",
    "#     binned_forgot_array = start_array_enc_forgot[:,bin_test_range]\n",
    "    \n",
    "#     stats_bin = int(first_end-first_start)\n",
    "#     binned_recalled_array = binBinaryArray(binned_recalled_array,stats_bin,sr_factor) # should be creating vectors for both\n",
    "#     binned_forgot_array = binBinaryArray(binned_forgot_array,stats_bin,sr_factor)\n",
    "    \n",
    "#     bin_model = MEstatsAcrossCategories(binned_recalled_array,binned_forgot_array,\n",
    "#                                         sub_forgot,sess_forgot,sub_recalled,sess_recalled)\n",
    "    \n",
    "#         # plot bands of significance\n",
    "#     if bin_model.pvalues[1] < 0.05:\n",
    "#         plot([first_end-stats_bin,first_end],[0.5,0.5],color=(1,0.5,0))\n",
    "    \n",
    "#     if test == 0:\n",
    "#         bin_model1 = copy(bin_model)\n",
    "#         binned_recalled_array1 = copy(binned_recalled_array)\n",
    "#         binned_forgot_array1 = copy(binned_forgot_array)\n",
    "#     else:\n",
    "#         bin_model2 = copy(bin_model)\n",
    "#         binned_recalled_array2 = copy(binned_recalled_array)\n",
    "#         binned_forgot_array2 = copy(binned_forgot_array)\n",
    "# num_trials = len(master_key) \n",
    "\n",
    "\n",
    "# # get directories for if you save (don't put this in save_plot_data below since want p-values printed at bottom close to figures)\n",
    "# soz_label,recall_selection_name,subfolder = getSWRpathInfo(remove_soz_ictal,recall_type_switch,selected_period,recall_minimum)\n",
    "# path_name = '/home1/john/SWR/figures/'+subfolder\n",
    "\n",
    "# fn = os.path.join(path_name,\n",
    "#     'SWR_SCE_'+exp+'_'+region_name+'_'+location_selected+'_'+str(recall_type_switch)+'_'+soz_label+\\\n",
    "#                   '_'+filter_type+'_'+sub_selection+'.p') # -GT_5000.p' # -LT_5000.p' #'-intrusions.p'\n",
    "# print(fn)\n",
    "# print('Test 1 p-value: '+str(bin_model1.pvalues[1]))\n",
    "# print('Test 2 p-value: '+str(bin_model2.pvalues[1]))\n",
    "# print(str(num_trials)+' trials')    \n",
    "        \n",
    "if save_plot_data == 1:\n",
    "    # get strings for path name for save and loading cluster data\n",
    "            \n",
    "    if os.path.isdir(path_name) == False:\n",
    "        os.mkdir(path_name)\n",
    "    if type(location_selected)==list:\n",
    "        location_selected = 'ca1dg'\n",
    "    with open(fn,'wb') as f:\n",
    "        pickle.dump({'bin_centers':bin_centers,'PSTH_recalled':PSTH_recalled,'PSTH_forgotten':PSTH_forgotten,\n",
    "                    'SE_recalled':SE_recalled,'SE_forgotten':SE_forgotten,'bin_model1':bin_model1,'bin_model2':bin_model2,\n",
    "                    'binned_recalled_array1':binned_recalled_array1,'binned_forgot_array1':binned_forgot_array1,\n",
    "                    'binned_recalled_array2':binned_recalled_array2,'binned_forgot_array2':binned_forgot_array2,\n",
    "                    'subject_name_array':subject_name_array,'session_name_array':session_name_array,\n",
    "                    'electrode_array':electrode_array,'channel_coords_array':channel_coords_array,\n",
    "                    'master_key':master_key}, f) \n",
    "        # master_key is indicator for subsequently remembered and forgotten. Can get num_trials from it too\n",
    "a=1;"
   ]
  },
  {
   "cell_type": "markdown",
   "metadata": {},
   "source": [
    "## go down to the list level and pick out which words are 1st, 2nd, 3rd, and 4th repeats of each *category*"
   ]
  },
  {
   "cell_type": "code",
   "execution_count": 10,
   "metadata": {},
   "outputs": [],
   "source": [
    "%autoreload\n",
    "\n",
    "select_category_repeat = 0 # 1, 2, 3, 0 # 0 means use all categories. 1:3 mean select only 1st, 2nd, 3rd usage of category\n",
    "\n",
    "encoding_time = 2300 # actual preentation is 1.6 s + 0.75-1.0 s so keep +700 ms so can plot +500 ms\n",
    "pre_encoding_time = -700\n",
    "ripple_bin_start_end = [300,1300] # range I'm going to look for ripples for regression of serialpos and category predictors\n",
    "\n",
    "session_names = np.unique(session_name_array)\n",
    "r1 = [] # 4 ripple arrays\n",
    "r2 = []\n",
    "r3 = []\n",
    "r4 = []\n",
    "r1r4_subject_name_array = []\n",
    "r1r4_session_name_array = []\n",
    "r6 = [] # one idea to account for drop in ripples in each encoding period: compare 6th word (always a 2nd of 1st cat) to 7th (always 3rd of a cat)\n",
    "r7 = [] \n",
    "r6_sub_array = []; r7_sub_array = []\n",
    "r6_sess_array = []; r7_sess_array = []\n",
    "\n",
    "# accumulated arrays for regression\n",
    "category_presentation = []\n",
    "word_presentation_serialpos = []\n",
    "word_presentation_ripples = []\n",
    "regression_subject_name_array = []\n",
    "regression_session_name_array = []\n",
    "\n",
    "# session_names = ['R1239E-1']\n",
    "\n",
    "for sess in session_names:\n",
    "    sess_list_nums = np.unique(list_num_key[session_name_array==sess])    \n",
    "    \n",
    "    # get indicator of whether category is 1st, 2nd, or 3rd time used in a given session \n",
    "    category_repeat_array = getCategoryRepeatIndicator(sess,electrode_array,session_name_array,category_array)\n",
    "    \n",
    "    num_elecs_in_session = len(np.unique(electrode_array[(session_name_array==sess)]))\n",
    "    if num_elecs_in_session > 1:           \n",
    "            category_repeat_array = np.tile(category_repeat_array,num_elecs_in_session)\n",
    "    session_list_num_key = list_num_key[session_name_array==sess] # need this so can get the right category_repeats by list_num below\n",
    "        \n",
    "    for ln in sess_list_nums:\n",
    "        # for each list in each session, figure out which encoding events are 1st, 2nd, 3rd, and 4th from each category\n",
    "        # (could really do this at the session-level but just in case a list was repeated somehow do it at the list-level)\n",
    "        list_cats = category_array[((session_name_array==sess) & (list_num_key==ln))] # note that this is this list for *every* electrode\n",
    "        list_start_array = start_array[((session_name_array==sess) & (list_num_key==ln))]\n",
    "        list_category_repeat_array = category_repeat_array[session_list_num_key==ln] # indicator of category repeats across lists (for current ln)\n",
    "        \n",
    "        if ( (len(list_cats) % 12 == 0) and (len(np.unique(list_cats)) == 3) ): # make sure all the words were presented for this session and there are 3 categories\n",
    "            \n",
    "            # get these arrays for SE_plot hierarchical model\n",
    "            quarter_session_trials = int(sum((session_name_array==sess) & (list_num_key==ln))/4)\n",
    "            r1r4_subject_name_array.extend(subject_name_array[((session_name_array==sess) & (list_num_key==ln))][0:quarter_session_trials])\n",
    "            r1r4_session_name_array.extend(session_name_array[((session_name_array==sess) & (list_num_key==ln))][0:quarter_session_trials])\n",
    "            \n",
    "            # serialpositions for regression of list number v. category number\n",
    "            word_presentation_serialpos.extend(serialpos_array[((session_name_array==sess) & (list_num_key==ln))])\n",
    "            regression_subject_name_array.extend(subject_name_array[((session_name_array==sess) & (list_num_key==ln))])\n",
    "            regression_session_name_array.extend(session_name_array[((session_name_array==sess) & (list_num_key==ln))])            \n",
    "         \n",
    "            cat_counter = [0,0,0]\n",
    "            unique_cats = np.unique(list_cats)\n",
    "                        \n",
    "            # for every trial use the category name to append to the right ripple array    \n",
    "            for i_word_cat,word_cat in enumerate(list_cats): \n",
    "                cat_idx = int(findInd(unique_cats == word_cat)) # get index for which of 3 categories this word is from\n",
    "                current_count = cat_counter[cat_idx] # get current count for how many times this word has been used   \n",
    "                \n",
    "\n",
    "                # keep track of information for regression of list number v. category number\n",
    "                category_presentation.append(current_count % 4) # keep track of category presentation number (1st-4th time category used)\n",
    "                # get ripples in 300:1300 bin for ME model\n",
    "                word_presentation_ripples.append( sum(list_start_array[i_word_cat,int((abs(pre_encoding_time)+ripple_bin_start_end[0])/sr_factor):\n",
    "                                                                                 int((abs(pre_encoding_time)+ripple_bin_start_end[1])/sr_factor)]) )\n",
    "                \n",
    "                \n",
    "                # if selecting for how many times this category is repeated (select_category_repeat==0 means keep all)\n",
    "                if ( (list_category_repeat_array[i_word_cat] == select_category_repeat) | (select_category_repeat==0) ):\n",
    "                \n",
    "                    if current_count % 4 == 0:\n",
    "                        r1 = superVstack(r1,list_start_array[i_word_cat])\n",
    "                    elif current_count % 4 == 1:\n",
    "                        r2 = superVstack(r2,list_start_array[i_word_cat])                    \n",
    "                    elif current_count % 4 == 2:\n",
    "                        r3 = superVstack(r3,list_start_array[i_word_cat])  \n",
    "                    elif current_count % 4 == 3:\n",
    "                        r4 = superVstack(r4,list_start_array[i_word_cat])                      \n",
    "                \n",
    "                cat_counter[int(findInd(unique_cats == word_cat))] +=1 # increment counter for this category\n",
    "                \n",
    "                # separately, just record the 6th and 7th words in each list only\n",
    "                if i_word_cat % 11 == 5:\n",
    "                    r6 = superVstack(r6,list_start_array[i_word_cat])\n",
    "                    r6_sub_array.append(r1r4_subject_name_array[-1])\n",
    "                    r6_sess_array.append(r1r4_session_name_array[-1])                    \n",
    "                if i_word_cat % 11 == 6:\n",
    "                    r7 = superVstack(r7,list_start_array[i_word_cat])\n",
    "                    r7_sub_array.append(r1r4_subject_name_array[-1])\n",
    "                    r7_sess_array.append(r1r4_session_name_array[-1]) \n",
    "        else:\n",
    "            print(sess)\n",
    "            print(ln)\n",
    "                    \n",
    "# sanity check (should not matter since the if statement above should take care of everything)                \n",
    "if ( (len(r1)!=len(r4)) or (len(r1)!=len(r1r4_session_name_array)) ):\n",
    "    if select_category_repeat == 0:\n",
    "        print('There is something wrong, we do not have the same number of trials in ripple array or session_name_array')"
   ]
  },
  {
   "cell_type": "markdown",
   "metadata": {},
   "source": [
    "## plot PSTH for all 4 encoding categories: Novel, 1st, 2nd, and 3rd repeat of category"
   ]
  },
  {
   "cell_type": "code",
   "execution_count": 75,
   "metadata": {},
   "outputs": [
    {
     "name": "stdout",
     "output_type": "stream",
     "text": [
      "done making binned start_array with shape:\n",
      "(12519, 26)\n",
      "SEs created!\n",
      "done making binned start_array with shape:\n",
      "(12519, 26)\n",
      "done making binned start_array with shape:\n",
      "(12519, 26)\n",
      "done making binned start_array with shape:\n",
      "(12519, 26)\n"
     ]
    },
    {
     "name": "stderr",
     "output_type": "stream",
     "text": [
      "/home1/john/anaconda3/envs/env1/lib/python3.7/site-packages/statsmodels/regression/mixed_linear_model.py:2094: ConvergenceWarning: The MLE may be on the boundary of the parameter space.\n",
      "  warnings.warn(msg, ConvergenceWarning)\n",
      "/home1/john/anaconda3/envs/env1/lib/python3.7/site-packages/statsmodels/regression/mixed_linear_model.py:2094: ConvergenceWarning: The MLE may be on the boundary of the parameter space.\n",
      "  warnings.warn(msg, ConvergenceWarning)\n"
     ]
    },
    {
     "name": "stdout",
     "output_type": "stream",
     "text": [
      "SEs created!\n"
     ]
    },
    {
     "data": {
      "image/png": "[encoded data removed]",
      "text/plain": [
       "<Figure size 360x288 with 1 Axes>"
      ]
     },
     "metadata": {
      "needs_background": "light"
     },
     "output_type": "display_data"
    }
   ],
   "source": [
    "%autoreload\n",
    "\n",
    "# Then bin it for the CIs and plot each\n",
    "# then do ME stats on seleted bins and add significance bars if p<0.05\n",
    "\n",
    "plot_SEs = 1\n",
    "\n",
    "bin_size = 100 # in ms\n",
    "smoothing_triangle = 5 # triangular smoothing window width\n",
    "samples = 100\n",
    "pad = int(np.floor(smoothing_triangle/2)) # factor is how many points from middle does triangle go?\n",
    "sr_factor = 2\n",
    "\n",
    "# subject_name_array and session_name_array are the same for all 4 \n",
    "\n",
    "# for 4 presentations of same category\n",
    "for category in range(4):\n",
    "    if category == 0:\n",
    "        temp_start_array = r1\n",
    "        \n",
    "        # for plot\n",
    "        subplots(1,1,figsize=(5,4))        \n",
    "        plot_color = (0,0,1) #(1,0,0)\n",
    "        label = 'Category presentation 1'\n",
    "#         text(500,0.21,label,usetex=True,size=16,color=plot_color)\n",
    "#         text(500,0.18,'Number of trials: '+str(temp_start_array.shape[0]),color=plot_color)\n",
    "\n",
    "    elif category == 1:       \n",
    "        label = 'Category presentation 2'\n",
    "        temp_start_array = r2        \n",
    "        plot_color = (0,0,0.75) #(0.75,0,0)\n",
    "    elif category == 2:       \n",
    "        label = 'Category presentation 3'\n",
    "        temp_start_array = r3        \n",
    "        plot_color = (0,0,0.5) # (0.5,0,0)\n",
    "    elif category == 3:       \n",
    "        label = 'Category presentation 4'\n",
    "        temp_start_array = r4        \n",
    "        plot_color = (0,0,0.25) #(0.25,0,0)\n",
    "        \n",
    "    # make a PSTH based on start times of SWRs\n",
    "\n",
    "    PSTH,bin_centers = fullPSTH(temp_start_array,bin_size,smoothing_triangle,sr,pre_encoding_time)\n",
    "    # bootstraps error bars by sampling from trials in raster with replacement samples number of\n",
    "    # times and then taking the standard deviation across those samples\n",
    "#     boot_samples = bootstrap(temp_start_array, bootnum=samples, samples=None, # bootstrap error bars using resampling\n",
    "#                    bootfunc=lambda x: bootPSTH(x,binsize,smoothing_triangle,sr,pre_encoding_time))\n",
    "#     boot_SD = np.std(boot_samples,0)\n",
    "\n",
    "    # get binned start array (trials X bins)\n",
    "    binned_start_array = binBinaryArray(temp_start_array,bin_size,sr_factor)\n",
    "    if pad > 0:\n",
    "        binned_start_array = binned_start_array[:,pad:-pad] # remove edge bins\n",
    "    print('done making binned start_array with shape:')\n",
    "    print(binned_start_array.shape)\n",
    "\n",
    "    # note that output is the net ± distance from mean\n",
    "\n",
    "    if (plot_SEs == 1) & (category in [0,3]):\n",
    "        SE_plot = getMixedEffectSEs(binned_start_array,r1r4_subject_name_array,r1r4_session_name_array)\n",
    "        print('SEs created!')\n",
    "    \n",
    "    # plot\n",
    "    xr = bin_centers #np.arange(psth_start,psth_end,binsize)\n",
    "    xr = xr[pad:-pad]; \n",
    "    \n",
    "    plot(xr,PSTH[pad:-pad],color=plot_color,label = label)\n",
    "    \n",
    "    if (plot_SEs == 1) & (category in [0,3]):\n",
    "        fill_between(xr, PSTH[pad:-pad]-SE_plot[0,:], PSTH[pad:-pad]+SE_plot[0,:], alpha = 0.3)\n",
    "    xticks(np.arange(pre_encoding_time+pad*100,encoding_time-pad*100+1,500),\n",
    "           np.arange((pre_encoding_time+pad*100)/1000,(encoding_time-pad*100)/1000+1,500/1000))\n",
    "    xlabel('Time from word presentation (s)')\n",
    "    ylabel('Ripple rate (events/s)')\n",
    "    tight_layout()\n",
    "    ax = plt.gca()\n",
    "    ylim = 0.5\n",
    "    ax.set_ylim(0,ylim)\n",
    "    ax.set_xlim(pre_encoding_time,encoding_time)\n",
    "    plot([0,0],[ax.get_ylim()[0],ax.get_ylim()[1]],linewidth=1,linestyle='-',color=(0,0,0))\n",
    "    plot([1600,1600],[ax.get_ylim()[0],ax.get_ylim()[1]],linewidth=1,linestyle='--',color=(0.7,0.7,0.7))\n",
    "    \n",
    "leg = ax.legend(frameon=False,prop={'size': 14})\n",
    "a=1;"
   ]
  },
  {
   "cell_type": "markdown",
   "metadata": {},
   "source": [
    "# Daniel and David are suggesting complementary analyses of remembering one category dependent on ripples during presentation of the same category at different times"
   ]
  },
  {
   "cell_type": "code",
   "execution_count": 11,
   "metadata": {},
   "outputs": [],
   "source": [
    "# first let's get the set of trials where a ripple happened on the second category presentation \n",
    "# (the 3rd and 4th words from a category)\n",
    "\n",
    "cat_3_12_same = [] # same category 1 & 2 as 3 with a ripple (2 per list)\n",
    "cat_3_12_diff = [] # diff category 1 & 2 as 3 with a ripple (4 per list)\n",
    "cat_2_34_same = [] # same category 3 & 4 as 2 with a ripple (2 per list)\n",
    "cat_2_34_diff = [] # diff category 3 & 4 as 2 with a ripple (2 per list)\n",
    "cat_1_234_same = [] \n",
    "cat_1_234_diff = [] \n",
    "cat_2_1_same = [] \n",
    "cat_2_1_diff = [] \n",
    "cat_12_34ripple_34 = []\n",
    "cat_12_34noripple_34 = []\n",
    "\n",
    "for sess in session_names:\n",
    "    sess_list_nums = np.unique(list_num_key[session_name_array==sess])    \n",
    "        \n",
    "    for ln in sess_list_nums:\n",
    "        list_elec_array = np.unique(electrode_array[(session_name_array==sess) & (list_num_key==ln)])\n",
    "        \n",
    "        for elec in list_elec_array:\n",
    "        \n",
    "            list_ch_idxs = (session_name_array==sess) & (list_num_key==ln) & (electrode_array==elec)\n",
    "            \n",
    "            list_ch_presentations = np.array(category_presentation)[list_ch_idxs] # note this is 1 to 4\n",
    "            list_ch_encoding_array = start_array[list_ch_idxs,int((abs(pre_encoding_time)+ripple_bin_start_end[0])/sr_factor): \n",
    "                                                   int((abs(pre_encoding_time)+ripple_bin_start_end[1])/sr_factor)]\n",
    "            list_ch_cats = category_array[list_ch_idxs]\n",
    "            list_ch_corr = word_correct_array[list_ch_idxs]\n",
    "\n",
    "            # First, let's check category_presentation = 3 for ripples and see if it predicts better memory \n",
    "            # for the same category for category_presentation 1 or 2\n",
    "            \n",
    "            for cat_3_idx in findInd(list_ch_presentations==2): # go through each of 3 categories (0-indexed)\n",
    "                if sum(list_ch_encoding_array[cat_3_idx,:])>0: # if there's a ripple...\n",
    "                    # ...check accuracy of presentation 1 and 2 from this same cat v. the other 4 words from the other 2 cats\n",
    "                    selected_cat = list_ch_cats[cat_3_idx]\n",
    "                    cat_3_12_same.extend(list_ch_corr[(list_ch_cats==selected_cat) & ( (list_ch_presentations==0)|(list_ch_presentations==1) )])\n",
    "                    cat_3_12_diff.extend(list_ch_corr[(list_ch_cats!=selected_cat) & ( (list_ch_presentations==0)|(list_ch_presentations==1) )])\n",
    "\n",
    "                    \n",
    "            # same idea, but see if ripple during 2nd category presentation leads to better memory for 3&4\n",
    "            for cat_2_idx in findInd(list_ch_presentations==1): # (0-indexed)\n",
    "                if sum(list_ch_encoding_array[cat_2_idx,:])>0: # if there's a ripple...\n",
    "                    # ...check accuracy of presentation 3 and 4 from this same cat v. the other 4 words from the other 2 cats\n",
    "                    selected_cat = list_ch_cats[cat_2_idx]\n",
    "                    cat_2_34_same.extend(list_ch_corr[(list_ch_cats==selected_cat) & ( (list_ch_presentations==2)|(list_ch_presentations==3) )])\n",
    "                    cat_2_34_diff.extend(list_ch_corr[(list_ch_cats!=selected_cat) & ( (list_ch_presentations==2)|(list_ch_presentations==3) )])\n",
    "\n",
    "            # same idea, but see if ripple during 1st category presentation leads to better memory for 2-4\n",
    "            for cat_1_idx in findInd(list_ch_presentations==0): # (0-indexed)\n",
    "                if sum(list_ch_encoding_array[cat_1_idx,:])>0: # if there's a ripple...\n",
    "                    # ...check accuracy of presentations 2-4 from this same cat v. the other 4 words from the other 2 cats\n",
    "                    selected_cat = list_ch_cats[cat_1_idx]\n",
    "                    cat_1_234_same.extend(list_ch_corr[(list_ch_cats==selected_cat) & ( (list_ch_presentations==1)|(list_ch_presentations==2)|(list_ch_presentations==3) )])\n",
    "                    cat_1_234_diff.extend(list_ch_corr[(list_ch_cats!=selected_cat) & ( (list_ch_presentations==1)|(list_ch_presentations==2)|(list_ch_presentations==3) )])\n",
    "                    \n",
    "            # same idea, but see if ripple during 2nd category presentation leads to better memory for 1st\n",
    "            for cat_2_idx in findInd(list_ch_presentations==1): # (0-indexed)\n",
    "                if sum(list_ch_encoding_array[cat_2_idx,:])>0: # if there's a ripple...\n",
    "                    # ...check accuracy of presentations 2-4 from this same cat v. the other 4 words from the other 2 cats\n",
    "                    selected_cat = list_ch_cats[cat_2_idx]\n",
    "                    cat_2_1_same.extend(list_ch_corr[ (list_ch_cats==selected_cat) & (list_ch_presentations==0) ])\n",
    "                    cat_2_1_diff.extend(list_ch_corr[ (list_ch_cats!=selected_cat) & (list_ch_presentations==0) ])    \n",
    "                    \n",
    "            # David's idea was actually a little different. He expects if there are ripples on 3rd/4th trial...\n",
    "            # there will be greater p(recall 3/4 | recall 1/2) (given a 1/2 recall already happened)\n",
    "            for cat_12_idx in findInd( (list_ch_presentations==0)|(list_ch_presentations==1) ): # (0-indexed)\n",
    "                if list_ch_corr[cat_12_idx] == 1: # if recalled 1/2...\n",
    "                    same_cat_idxs = findInd(list_ch_cats==list_ch_cats[cat_12_idx])[2:] # grab idxs of 3rd and 4th from this same category\n",
    "                    if sum(list_ch_encoding_array[same_cat_idxs])>0: # if ripple in either 3rd or 4th trial\n",
    "                        cat_12_34ripple_34.extend(list_ch_corr[same_cat_idxs])\n",
    "                    else:\n",
    "                        cat_12_34noripple_34.extend(list_ch_corr[same_cat_idxs])\n",
    "a=1;                "
   ]
  },
  {
   "cell_type": "code",
   "execution_count": 12,
   "metadata": {},
   "outputs": [
    {
     "data": {
      "text/plain": [
       "0.43018812463256906"
      ]
     },
     "execution_count": 12,
     "metadata": {},
     "output_type": "execute_result"
    },
    {
     "data": {
      "text/plain": [
       "0.39795315882700255"
      ]
     },
     "execution_count": 12,
     "metadata": {},
     "output_type": "execute_result"
    },
    {
     "data": {
      "text/plain": [
       "6804"
      ]
     },
     "execution_count": 12,
     "metadata": {},
     "output_type": "execute_result"
    },
    {
     "data": {
      "text/plain": [
       "10162"
      ]
     },
     "execution_count": 12,
     "metadata": {},
     "output_type": "execute_result"
    },
    {
     "data": {
      "text/plain": [
       "Ttest_indResult(statistic=4.18454438640368, pvalue=2.871770072020797e-05)"
      ]
     },
     "execution_count": 12,
     "metadata": {},
     "output_type": "execute_result"
    }
   ],
   "source": [
    "np.mean(cat_12_34ripple_34)\n",
    "np.mean(cat_12_34noripple_34)\n",
    "len(cat_12_34ripple_34)\n",
    "len(cat_12_34noripple_34)\n",
    "stats.ttest_ind(cat_12_34ripple_34,cat_12_34noripple_34)"
   ]
  },
  {
   "cell_type": "code",
   "execution_count": 19,
   "metadata": {},
   "outputs": [
    {
     "name": "stdout",
     "output_type": "stream",
     "text": [
      "Ttest_indResult(statistic=1.5388140642419326, pvalue=0.12386719331387223)\n"
     ]
    },
    {
     "data": {
      "image/png": "[encoded data removed]",
      "text/plain": [
       "<Figure size 36x216 with 1 Axes>"
      ]
     },
     "metadata": {
      "needs_background": "light"
     },
     "output_type": "display_data"
    },
    {
     "data": {
      "image/png": "[encoded data removed]",
      "text/plain": [
       "<Figure size 72x216 with 1 Axes>"
      ]
     },
     "metadata": {
      "needs_background": "light"
     },
     "output_type": "display_data"
    },
    {
     "data": {
      "image/png": "[encoded data removed]",
      "text/plain": [
       "<Figure size 72x216 with 1 Axes>"
      ]
     },
     "metadata": {
      "needs_background": "light"
     },
     "output_type": "display_data"
    },
    {
     "data": {
      "image/png": "[encoded data removed]",
      "text/plain": [
       "<Figure size 72x216 with 1 Axes>"
      ]
     },
     "metadata": {
      "needs_background": "light"
     },
     "output_type": "display_data"
    },
    {
     "data": {
      "image/png": "[encoded data removed]",
      "text/plain": [
       "<Figure size 72x216 with 1 Axes>"
      ]
     },
     "metadata": {
      "needs_background": "light"
     },
     "output_type": "display_data"
    }
   ],
   "source": [
    "# plot each of these\n",
    "\n",
    "figSub,axSub = plt.subplots(1,1, figsize=(0.5,3))\n",
    "axSub.bar( 0, np.mean(word_correct_array), \n",
    "              yerr = seFromProp(sum(word_correct_array),len(word_correct_array)),color = (0.5,0.5,0.5))\n",
    "yticks(np.arange(0,0.501,0.1))\n",
    "xticks(np.arange(0,1,1))\n",
    "ylim(0,0.5)\n",
    "ylabel('P(recall)')\n",
    "xlabel('All lists')\n",
    "axSub.spines['top'].set_visible(False)\n",
    "axSub.spines['right'].set_visible(False)\n",
    "text(-0.4,0.465,'# Words:')\n",
    "text(-0.4,0.425,len(word_correct_array))\n",
    "\n",
    "\n",
    "figSub,axSub = plt.subplots(1,1, figsize=(1,3))\n",
    "axSub.bar( [0,1], [np.mean(cat_3_12_same),np.mean(cat_3_12_diff)], \n",
    "              yerr = [seFromProp(sum(cat_3_12_same),len(cat_3_12_same)),seFromProp(sum(cat_3_12_diff),len(cat_3_12_diff))],\n",
    "                      color = (0.5,0.5,0.5))\n",
    "yticks(np.arange(0,0.501,0.1))\n",
    "xticks(np.arange(0,1.01,1))\n",
    "axSub.set_xticklabels(['Same','Diff'])\n",
    "ylim(0,0.5)\n",
    "ylabel('P(recall)')\n",
    "axSub.spines['top'].set_visible(False)\n",
    "axSub.spines['right'].set_visible(False)\n",
    "text(-0.24,0.465,'# Words:')\n",
    "text(-0.5,0.425,len(cat_3_12_same))\n",
    "text(0.5,0.425,len(cat_3_12_diff))\n",
    "\n",
    "\n",
    "figSub,axSub = plt.subplots(1,1, figsize=(1,3))\n",
    "axSub.bar( [0,1], [np.mean(cat_2_34_same),np.mean(cat_2_34_diff)], \n",
    "              yerr = [seFromProp(sum(cat_2_34_same),len(cat_2_34_same)),seFromProp(sum(cat_3_12_diff),len(cat_3_12_diff))],\n",
    "                      color = (0.5,0.5,0.5))\n",
    "yticks(np.arange(0,0.501,0.1))\n",
    "xticks(np.arange(0,1.01,1))\n",
    "axSub.set_xticklabels(['Same','Diff'])\n",
    "ylim(0,0.5)\n",
    "ylabel('P(recall)')\n",
    "axSub.spines['top'].set_visible(False)\n",
    "axSub.spines['right'].set_visible(False)\n",
    "text(-0.24,0.465,'# Words:')\n",
    "text(-0.5,0.425,len(cat_2_34_same))\n",
    "text(0.5,0.425,len(cat_2_34_diff))\n",
    "print(stats.ttest_ind(cat_2_34_same,cat_2_34_diff))\n",
    "\n",
    "\n",
    "figSub,axSub = plt.subplots(1,1, figsize=(1,3))\n",
    "axSub.bar( [0,1], [np.mean(cat_1_234_same),np.mean(cat_1_234_diff)], \n",
    "              yerr = [seFromProp(sum(cat_1_234_same),len(cat_1_234_same)),seFromProp(sum(cat_1_234_diff),len(cat_1_234_diff))],\n",
    "                      color = (0.5,0.5,0.5))\n",
    "yticks(np.arange(0,0.501,0.1))\n",
    "xticks(np.arange(0,1.01,1))\n",
    "axSub.set_xticklabels(['Same','Diff'])\n",
    "ylim(0,0.5)\n",
    "ylabel('P(recall)')\n",
    "axSub.spines['top'].set_visible(False)\n",
    "axSub.spines['right'].set_visible(False)\n",
    "text(-0.24,0.465,'# Words:')\n",
    "text(-0.5,0.425,len(cat_1_234_same))\n",
    "text(0.5,0.425,len(cat_1_234_diff))\n",
    "\n",
    "figSub,axSub = plt.subplots(1,1, figsize=(1,3))\n",
    "axSub.bar( [0,1], [np.mean(cat_12_34ripple_34),np.mean(cat_12_34noripple_34)], \n",
    "              yerr = [seFromProp(sum(cat_12_34ripple_34),len(cat_12_34ripple_34)),seFromProp(sum(cat_12_34noripple_34),len(cat_12_34noripple_34))],\n",
    "                      color = (0.5,0.5,0.5))\n",
    "yticks(np.arange(0,0.501,0.1))\n",
    "xticks(np.arange(0,1.01,1))\n",
    "axSub.set_xticklabels(['Ripple','No \\nRipple'])\n",
    "ylim(0,0.5)\n",
    "ylabel('P(recall)')\n",
    "axSub.spines['top'].set_visible(False)\n",
    "axSub.spines['right'].set_visible(False)\n",
    "text(-0.24,0.485,'# Words:')\n",
    "text(-0.5,0.455,len(cat_12_34ripple_34))\n",
    "text(0.5,0.455,len(cat_12_34noripple_34));\n",
    "\n",
    "a=1;"
   ]
  },
  {
   "cell_type": "code",
   "execution_count": null,
   "metadata": {},
   "outputs": [],
   "source": [
    "# David's idea is more like this:\n",
    "# If you see ripples on 3rd/4th trial, he expects greater recall on 3&4 v. 1/2"
   ]
  },
  {
   "cell_type": "markdown",
   "metadata": {},
   "source": [
    "## just for 6th v. 7th presented words, to see if Category Presentation 1-2 has more ripples or it's just a decrease over encoding"
   ]
  },
  {
   "cell_type": "code",
   "execution_count": 79,
   "metadata": {},
   "outputs": [
    {
     "name": "stdout",
     "output_type": "stream",
     "text": [
      "done making binned start_array with shape:\n",
      "(4330, 26)\n"
     ]
    },
    {
     "name": "stderr",
     "output_type": "stream",
     "text": [
      "/home1/john/anaconda3/envs/env1/lib/python3.7/site-packages/statsmodels/regression/mixed_linear_model.py:2094: ConvergenceWarning: The MLE may be on the boundary of the parameter space.\n",
      "  warnings.warn(msg, ConvergenceWarning)\n",
      "/home1/john/anaconda3/envs/env1/lib/python3.7/site-packages/statsmodels/regression/mixed_linear_model.py:2094: ConvergenceWarning: The MLE may be on the boundary of the parameter space.\n",
      "  warnings.warn(msg, ConvergenceWarning)\n",
      "/home1/john/anaconda3/envs/env1/lib/python3.7/site-packages/statsmodels/regression/mixed_linear_model.py:2094: ConvergenceWarning: The MLE may be on the boundary of the parameter space.\n",
      "  warnings.warn(msg, ConvergenceWarning)\n",
      "/home1/john/anaconda3/envs/env1/lib/python3.7/site-packages/statsmodels/regression/mixed_linear_model.py:2094: ConvergenceWarning: The MLE may be on the boundary of the parameter space.\n",
      "  warnings.warn(msg, ConvergenceWarning)\n",
      "/home1/john/anaconda3/envs/env1/lib/python3.7/site-packages/statsmodels/regression/mixed_linear_model.py:2094: ConvergenceWarning: The MLE may be on the boundary of the parameter space.\n",
      "  warnings.warn(msg, ConvergenceWarning)\n",
      "/home1/john/anaconda3/envs/env1/lib/python3.7/site-packages/statsmodels/regression/mixed_linear_model.py:2094: ConvergenceWarning: The MLE may be on the boundary of the parameter space.\n",
      "  warnings.warn(msg, ConvergenceWarning)\n",
      "/home1/john/anaconda3/envs/env1/lib/python3.7/site-packages/statsmodels/regression/mixed_linear_model.py:2094: ConvergenceWarning: The MLE may be on the boundary of the parameter space.\n",
      "  warnings.warn(msg, ConvergenceWarning)\n",
      "/home1/john/anaconda3/envs/env1/lib/python3.7/site-packages/statsmodels/regression/mixed_linear_model.py:2094: ConvergenceWarning: The MLE may be on the boundary of the parameter space.\n",
      "  warnings.warn(msg, ConvergenceWarning)\n",
      "/home1/john/anaconda3/envs/env1/lib/python3.7/site-packages/statsmodels/regression/mixed_linear_model.py:2094: ConvergenceWarning: The MLE may be on the boundary of the parameter space.\n",
      "  warnings.warn(msg, ConvergenceWarning)\n"
     ]
    },
    {
     "name": "stdout",
     "output_type": "stream",
     "text": [
      "SEs created!\n",
      "done making binned start_array with shape:\n",
      "(4268, 26)\n"
     ]
    },
    {
     "name": "stderr",
     "output_type": "stream",
     "text": [
      "/home1/john/anaconda3/envs/env1/lib/python3.7/site-packages/statsmodels/regression/mixed_linear_model.py:2094: ConvergenceWarning: The MLE may be on the boundary of the parameter space.\n",
      "  warnings.warn(msg, ConvergenceWarning)\n",
      "/home1/john/anaconda3/envs/env1/lib/python3.7/site-packages/statsmodels/regression/mixed_linear_model.py:2094: ConvergenceWarning: The MLE may be on the boundary of the parameter space.\n",
      "  warnings.warn(msg, ConvergenceWarning)\n",
      "/home1/john/anaconda3/envs/env1/lib/python3.7/site-packages/statsmodels/regression/mixed_linear_model.py:2094: ConvergenceWarning: The MLE may be on the boundary of the parameter space.\n",
      "  warnings.warn(msg, ConvergenceWarning)\n",
      "/home1/john/anaconda3/envs/env1/lib/python3.7/site-packages/statsmodels/regression/mixed_linear_model.py:2094: ConvergenceWarning: The MLE may be on the boundary of the parameter space.\n",
      "  warnings.warn(msg, ConvergenceWarning)\n",
      "/home1/john/anaconda3/envs/env1/lib/python3.7/site-packages/statsmodels/regression/mixed_linear_model.py:2094: ConvergenceWarning: The MLE may be on the boundary of the parameter space.\n",
      "  warnings.warn(msg, ConvergenceWarning)\n",
      "/home1/john/anaconda3/envs/env1/lib/python3.7/site-packages/statsmodels/regression/mixed_linear_model.py:2094: ConvergenceWarning: The MLE may be on the boundary of the parameter space.\n",
      "  warnings.warn(msg, ConvergenceWarning)\n",
      "/home1/john/anaconda3/envs/env1/lib/python3.7/site-packages/statsmodels/regression/mixed_linear_model.py:2094: ConvergenceWarning: The MLE may be on the boundary of the parameter space.\n",
      "  warnings.warn(msg, ConvergenceWarning)\n",
      "/home1/john/anaconda3/envs/env1/lib/python3.7/site-packages/statsmodels/regression/mixed_linear_model.py:2094: ConvergenceWarning: The MLE may be on the boundary of the parameter space.\n",
      "  warnings.warn(msg, ConvergenceWarning)\n"
     ]
    },
    {
     "name": "stdout",
     "output_type": "stream",
     "text": [
      "SEs created!\n"
     ]
    },
    {
     "data": {
      "image/png": "[encoded data removed]",
      "text/plain": [
       "<Figure size 360x288 with 1 Axes>"
      ]
     },
     "metadata": {
      "needs_background": "light"
     },
     "output_type": "display_data"
    }
   ],
   "source": [
    "%autoreload\n",
    "\n",
    "# Then bin it for the CIs and plot each\n",
    "# then do ME stats on seleted bins and add significance bars if p<0.05\n",
    "\n",
    "plot_SEs = 1\n",
    "\n",
    "encoding_time = 2300 # actual preentation is 1.6 s + 0.75-1.0 s so keep +700 ms so can plot +500 ms\n",
    "pre_encoding_time = -700\n",
    "\n",
    "bin_size = 100 # in ms\n",
    "smoothing_triangle = 5 # triangular smoothing window width\n",
    "samples = 100\n",
    "pad = int(np.floor(smoothing_triangle/2)) # factor is how many points from middle does triangle go?\n",
    "sr_factor = 2\n",
    "\n",
    "# subject_name_array and session_name_array are the same for all 4 \n",
    "\n",
    "# for recalled and then forgotten words\n",
    "for category in range(2):\n",
    "    if category == 0:\n",
    "        temp_start_array = r6\n",
    "        cat_subject_name_array = r6_sub_array\n",
    "        cat_session_name_array = r6_sess_array\n",
    "        \n",
    "        # for plot\n",
    "        subplots(1,1,figsize=(5,4))        \n",
    "        plot_color = (0,1,0) #(1,0,0)\n",
    "        label = 'Word presentation 6'\n",
    "#         text(500,0.21,label,usetex=True,size=16,color=plot_color)\n",
    "#         text(500,0.18,'Number of trials: '+str(temp_start_array.shape[0]),color=plot_color)\n",
    "\n",
    "    elif category == 1:       \n",
    "        temp_start_array = r7\n",
    "        cat_subject_name_array = r7_sub_array\n",
    "        cat_session_name_array = r7_sess_array\n",
    "        \n",
    "        plot_color = (0,0.5,0.5) #(0.75,0,0)\n",
    "        label = 'Word presentation 7'\n",
    "        \n",
    "    # make a PSTH based on start times of SWRs\n",
    "\n",
    "    PSTH,bin_centers = fullPSTH(temp_start_array,bin_size,smoothing_triangle,sr,pre_encoding_time)\n",
    "    # bootstraps error bars by sampling from trials in raster with replacement samples number of\n",
    "    # times and then taking the standard deviation across those samples\n",
    "#     boot_samples = bootstrap(temp_start_array, bootnum=samples, samples=None, # bootstrap error bars using resampling\n",
    "#                    bootfunc=lambda x: bootPSTH(x,binsize,smoothing_triangle,sr,pre_encoding_time))\n",
    "#     boot_SD = np.std(boot_samples,0)\n",
    "\n",
    "    # get binned start array (trials X bins)\n",
    "    binned_start_array = binBinaryArray(temp_start_array,bin_size,sr_factor)\n",
    "    if pad > 0:\n",
    "        binned_start_array = binned_start_array[:,pad:-pad] # remove edge bins\n",
    "    print('done making binned start_array with shape:')\n",
    "    print(binned_start_array.shape)\n",
    "\n",
    "    # note that output is the net ± distance from mean\n",
    "    if plot_SEs == 1:\n",
    "        SE_plot = getMixedEffectSEs(binned_start_array,cat_subject_name_array,cat_session_name_array)\n",
    "        print('SEs created!')\n",
    "    \n",
    "    # plot\n",
    "    xr = bin_centers #np.arange(psth_start,psth_end,binsize)\n",
    "    xr = xr[pad:-pad]; \n",
    "    \n",
    "    plot(xr,PSTH[pad:-pad],color=plot_color,label = label)\n",
    "    if plot_SEs == 1:\n",
    "        fill_between(xr, PSTH[pad:-pad]-SE_plot[0,:], PSTH[pad:-pad]+SE_plot[0,:], alpha = 0.3)\n",
    "    xticks(np.arange(pre_encoding_time+pad*100,encoding_time-pad*100+1,500),\n",
    "           np.arange((pre_encoding_time+pad*100)/1000,(encoding_time-pad*100)/1000+1,500/1000))\n",
    "    xlabel('Time from word presentation (s)')\n",
    "    ylabel('Ripple rate (events/s)')\n",
    "    tight_layout()\n",
    "    ax = plt.gca()\n",
    "    ylim = 0.5\n",
    "    ax.set_ylim(0,ylim)\n",
    "    ax.set_xlim(pre_encoding_time,encoding_time)\n",
    "    plot([0,0],[ax.get_ylim()[0],ax.get_ylim()[1]],linewidth=1,linestyle='-',color=(0,0,0))\n",
    "    plot([1600,1600],[ax.get_ylim()[0],ax.get_ylim()[1]],linewidth=1,linestyle='--',color=(0.7,0.7,0.7))\n",
    "    \n",
    "leg = ax.legend(frameon=False,prop={'size': 14})\n",
    "a=1;"
   ]
  },
  {
   "cell_type": "markdown",
   "metadata": {},
   "source": [
    "## Same idea, but do regression to test if list presentation number accounts for higher ripples for early categories"
   ]
  },
  {
   "cell_type": "code",
   "execution_count": 176,
   "metadata": {},
   "outputs": [
    {
     "data": {
      "text/plain": [
       "array([ 1,  2,  3,  4,  5,  6,  7,  8,  9, 10, 11, 12])"
      ]
     },
     "execution_count": 176,
     "metadata": {},
     "output_type": "execute_result"
    },
    {
     "data": {
      "text/plain": [
       "array([1, 2, 3, 4])"
      ]
     },
     "execution_count": 176,
     "metadata": {},
     "output_type": "execute_result"
    },
    {
     "data": {
      "text/plain": [
       "array([1, 2, 3])"
      ]
     },
     "execution_count": 176,
     "metadata": {},
     "output_type": "execute_result"
    },
    {
     "data": {
      "text/plain": [
       "array([0, 1])"
      ]
     },
     "execution_count": 176,
     "metadata": {},
     "output_type": "execute_result"
    }
   ],
   "source": [
    "np.unique(word_presentation_serialpos)\n",
    "\n",
    "# put serialpositions into quartiles\n",
    "quartile_serialpos = np.array(copy(word_presentation_serialpos))\n",
    "for num in np.arange(2,4):\n",
    "    mask = (word_presentation_serialpos == num)\n",
    "    quartile_serialpos[mask] = 1\n",
    "for num in np.arange(4,7):\n",
    "    mask = (word_presentation_serialpos == num)\n",
    "    quartile_serialpos[mask] = 2\n",
    "for num in np.arange(7,10):\n",
    "    mask = (word_presentation_serialpos == num)\n",
    "    quartile_serialpos[mask] = 3    \n",
    "for num in np.arange(10,13):\n",
    "    mask = (word_presentation_serialpos == num)\n",
    "    quartile_serialpos[mask] = 4 \n",
    "np.unique(quartile_serialpos)\n",
    "\n",
    "# put serialpositions into terciles\n",
    "tercile_serialpos = np.array(copy(word_presentation_serialpos))\n",
    "for num in np.arange(2,5):\n",
    "    mask = (word_presentation_serialpos == num)\n",
    "    tercile_serialpos[mask] = 1\n",
    "for num in np.arange(5,9):\n",
    "    mask = (word_presentation_serialpos == num)\n",
    "    tercile_serialpos[mask] = 2\n",
    "for num in np.arange(9,13):\n",
    "    mask = (word_presentation_serialpos == num)\n",
    "    tercile_serialpos[mask] = 3   \n",
    "np.unique(tercile_serialpos)\n",
    "\n",
    "# split 4 category_presentations into 2 categories\n",
    "split_category_presentation = np.array(copy(category_presentation))\n",
    "for num in np.arange(0,2):\n",
    "    mask = (category_presentation == num)\n",
    "    split_category_presentation[mask] = 0\n",
    "for num in np.arange(2,4):\n",
    "    mask = (category_presentation == num)\n",
    "    split_category_presentation[mask] = 1 \n",
    "np.unique(split_category_presentation)"
   ]
  },
  {
   "cell_type": "code",
   "execution_count": 179,
   "metadata": {},
   "outputs": [
    {
     "data": {
      "text/plain": [
       "array([1, 1, 1, 2, 2, 2, 3, 3, 3, 4, 4, 4, 1, 1, 1, 2, 2, 2, 3, 3, 3, 4,\n",
       "       4, 4, 1, 1, 1, 2, 2, 2, 3, 3, 3, 4, 4, 4, 1, 1, 1, 2, 2, 2, 3, 3,\n",
       "       3, 4, 4, 4, 1, 1])"
      ]
     },
     "execution_count": 179,
     "metadata": {},
     "output_type": "execute_result"
    },
    {
     "data": {
      "text/plain": [
       "array([1, 1, 1, 1, 2, 2, 2, 2, 3, 3, 3, 3, 1, 1, 1, 1, 2, 2, 2, 2, 3, 3,\n",
       "       3, 3, 1, 1, 1, 1, 2, 2, 2, 2, 3, 3, 3, 3, 1, 1, 1, 1, 2, 2, 2, 2,\n",
       "       3, 3, 3, 3, 1, 1])"
      ]
     },
     "execution_count": 179,
     "metadata": {},
     "output_type": "execute_result"
    },
    {
     "data": {
      "text/plain": [
       "array([0, 1, 0, 1, 0, 1, 2, 3, 2, 3, 2, 3, 0, 1, 0, 1, 0, 1, 2, 3, 2, 3,\n",
       "       2, 3, 0, 1, 0, 1, 0, 1, 2, 3, 2, 3, 2, 3, 0, 1, 0, 1, 0, 1, 2, 3,\n",
       "       2, 3, 2, 3, 0, 1])"
      ]
     },
     "execution_count": 179,
     "metadata": {},
     "output_type": "execute_result"
    },
    {
     "data": {
      "text/plain": [
       "array([0, 0, 0, 0, 0, 0, 1, 1, 1, 1, 1, 1, 0, 0, 0, 0, 0, 0, 1, 1, 1, 1,\n",
       "       1, 1, 0, 0, 0, 0, 0, 0, 1, 1, 1, 1, 1, 1, 0, 0, 0, 0, 0, 0, 1, 1,\n",
       "       1, 1, 1, 1, 0, 0])"
      ]
     },
     "execution_count": 179,
     "metadata": {},
     "output_type": "execute_result"
    }
   ],
   "source": [
    "quartile_serialpos[0:50]\n",
    "tercile_serialpos[0:50]\n",
    "np.array(category_presentation[0:50])\n",
    "split_category_presentation[0:50]"
   ]
  },
  {
   "cell_type": "code",
   "execution_count": 185,
   "metadata": {},
   "outputs": [
    {
     "name": "stdout",
     "output_type": "stream",
     "text": [
      "[15543 15543 15543 15543]\n"
     ]
    },
    {
     "data": {
      "text/html": [
       "<table class=\"simpletable\">\n",
       "<tr>\n",
       "       <td>Model:</td>       <td>MixedLM</td> <td>Dependent Variable:</td> <td>ripple_rates</td>\n",
       "</tr>\n",
       "<tr>\n",
       "  <td>No. Observations:</td>  <td>62172</td>        <td>Method:</td>           <td>REML</td>    \n",
       "</tr>\n",
       "<tr>\n",
       "     <td>No. Groups:</td>      <td>71</td>          <td>Scale:</td>           <td>0.4714</td>   \n",
       "</tr>\n",
       "<tr>\n",
       "  <td>Min. group size:</td>    <td>144</td>       <td>Likelihood:</td>      <td>-65068.1796</td>\n",
       "</tr>\n",
       "<tr>\n",
       "  <td>Max. group size:</td>   <td>5040</td>       <td>Converged:</td>           <td>Yes</td>    \n",
       "</tr>\n",
       "<tr>\n",
       "  <td>Mean group size:</td>   <td>875.7</td>           <td></td>                 <td></td>      \n",
       "</tr>\n",
       "</table>\n",
       "<table class=\"simpletable\">\n",
       "<tr>\n",
       "           <td></td>           <th>Coef.</th>  <th>Std.Err.</th>     <th>z</th>   <th>P>|z|</th>   <th>[0.025</th>      <th>0.975]</th>  \n",
       "</tr>\n",
       "<tr>\n",
       "  <th>Intercept</th>           <td>0.448</td>    <td>0.016</td>   <td>27.372</td> <td>0.000</td>    <td>0.416</td>       <td>0.480</td>  \n",
       "</tr>\n",
       "<tr>\n",
       "  <th>C(serialpos)[T.2]</th>  <td>-0.058</td>    <td>0.013</td>   <td>-4.307</td> <td>0.000</td>   <td>-0.085</td>      <td>-0.032</td>  \n",
       "</tr>\n",
       "<tr>\n",
       "  <th>C(serialpos)[T.3]</th>  <td>-0.049</td>    <td>0.013</td>   <td>-3.634</td> <td>0.000</td>   <td>-0.075</td>      <td>-0.023</td>  \n",
       "</tr>\n",
       "<tr>\n",
       "  <th>C(serialpos)[T.4]</th>  <td>-0.056</td>    <td>0.013</td>   <td>-4.178</td> <td>0.000</td>   <td>-0.083</td>      <td>-0.030</td>  \n",
       "</tr>\n",
       "<tr>\n",
       "  <th>C(serialpos)[T.5]</th>  <td>-0.070</td>    <td>0.013</td>   <td>-5.222</td> <td>0.000</td>   <td>-0.097</td>      <td>-0.044</td>  \n",
       "</tr>\n",
       "<tr>\n",
       "  <th>C(serialpos)[T.6]</th>  <td>-0.060</td>    <td>0.013</td>   <td>-4.435</td> <td>0.000</td>   <td>-0.086</td>      <td>-0.033</td>  \n",
       "</tr>\n",
       "<tr>\n",
       "  <th>C(serialpos)[T.7]</th>  <td>-0.163</td> <td>184868.511</td> <td>-0.000</td> <td>1.000</td> <td>-362335.787</td> <td>362335.460</td>\n",
       "</tr>\n",
       "<tr>\n",
       "  <th>C(serialpos)[T.8]</th>  <td>-0.170</td> <td>184868.511</td> <td>-0.000</td> <td>1.000</td> <td>-362335.794</td> <td>362335.453</td>\n",
       "</tr>\n",
       "<tr>\n",
       "  <th>C(serialpos)[T.9]</th>  <td>-0.190</td> <td>184868.511</td> <td>-0.000</td> <td>1.000</td> <td>-362335.814</td> <td>362335.433</td>\n",
       "</tr>\n",
       "<tr>\n",
       "  <th>C(serialpos)[T.10]</th> <td>-0.188</td> <td>184868.511</td> <td>-0.000</td> <td>1.000</td> <td>-362335.811</td> <td>362335.436</td>\n",
       "</tr>\n",
       "<tr>\n",
       "  <th>C(serialpos)[T.11]</th> <td>-0.168</td> <td>184868.511</td> <td>-0.000</td> <td>1.000</td> <td>-362335.792</td> <td>362335.455</td>\n",
       "</tr>\n",
       "<tr>\n",
       "  <th>C(serialpos)[T.12]</th> <td>-0.157</td> <td>184868.511</td> <td>-0.000</td> <td>1.000</td> <td>-362335.780</td> <td>362335.467</td>\n",
       "</tr>\n",
       "<tr>\n",
       "  <th>C(categories)[T.1]</th>  <td>0.063</td> <td>184868.511</td>  <td>0.000</td> <td>1.000</td> <td>-362335.561</td> <td>362335.686</td>\n",
       "</tr>\n",
       "<tr>\n",
       "  <th>session Var</th>         <td>0.023</td>    <td>0.004</td>      <td></td>      <td></td>         <td></td>            <td></td>     \n",
       "</tr>\n",
       "</table>"
      ],
      "text/plain": [
       "<class 'statsmodels.iolib.summary2.Summary'>\n",
       "\"\"\"\n",
       "                 Mixed Linear Model Regression Results\n",
       "========================================================================\n",
       "Model:                  MixedLM     Dependent Variable:     ripple_rates\n",
       "No. Observations:       62172       Method:                 REML        \n",
       "No. Groups:             71          Scale:                  0.4714      \n",
       "Min. group size:        144         Likelihood:             -65068.1796 \n",
       "Max. group size:        5040        Converged:              Yes         \n",
       "Mean group size:        875.7                                           \n",
       "------------------------------------------------------------------------\n",
       "                   Coef.   Std.Err.    z    P>|z|    [0.025     0.975]  \n",
       "------------------------------------------------------------------------\n",
       "Intercept           0.448      0.016 27.372 0.000       0.416      0.480\n",
       "C(serialpos)[T.2]  -0.058      0.013 -4.307 0.000      -0.085     -0.032\n",
       "C(serialpos)[T.3]  -0.049      0.013 -3.634 0.000      -0.075     -0.023\n",
       "C(serialpos)[T.4]  -0.056      0.013 -4.178 0.000      -0.083     -0.030\n",
       "C(serialpos)[T.5]  -0.070      0.013 -5.222 0.000      -0.097     -0.044\n",
       "C(serialpos)[T.6]  -0.060      0.013 -4.435 0.000      -0.086     -0.033\n",
       "C(serialpos)[T.7]  -0.163 184868.511 -0.000 1.000 -362335.787 362335.460\n",
       "C(serialpos)[T.8]  -0.170 184868.511 -0.000 1.000 -362335.794 362335.453\n",
       "C(serialpos)[T.9]  -0.190 184868.511 -0.000 1.000 -362335.814 362335.433\n",
       "C(serialpos)[T.10] -0.188 184868.511 -0.000 1.000 -362335.811 362335.436\n",
       "C(serialpos)[T.11] -0.168 184868.511 -0.000 1.000 -362335.792 362335.455\n",
       "C(serialpos)[T.12] -0.157 184868.511 -0.000 1.000 -362335.780 362335.467\n",
       "C(categories)[T.1]  0.063 184868.511  0.000 1.000 -362335.561 362335.686\n",
       "session Var         0.023      0.004                                    \n",
       "========================================================================\n",
       "\n",
       "\"\"\""
      ]
     },
     "execution_count": 185,
     "metadata": {},
     "output_type": "execute_result"
    }
   ],
   "source": [
    "import statsmodels.formula.api as smf\n",
    "\n",
    "_,counts = np.unique(category_presentation,return_counts=True)\n",
    "print(counts)\n",
    "\n",
    "category_df = pd.DataFrame(data={'serialpos':word_presentation_serialpos, #tercile_serialpos #word_presentation_serialpos\n",
    "                                 'categories':split_category_presentation, #split_category_presentation,#category_presentation\n",
    "                                 'ripple_rates':word_presentation_ripples,\n",
    "                                 'subject':regression_subject_name_array,'session':regression_session_name_array})\n",
    "\n",
    "vc = {'session':'0+session'}\n",
    "get_bin_CI_model = smf.mixedlm(\"ripple_rates ~ C(serialpos)+C(categories)\", category_df, groups=\"subject\", vc_formula=vc)\n",
    "bin_model = get_bin_CI_model.fit(reml=True, method='nm',maxiter=5000)\n",
    "bin_model.summary()"
   ]
  },
  {
   "cell_type": "markdown",
   "metadata": {},
   "source": [
    "## For whole_encoding analysis, for each patient find high and low ripple lists"
   ]
  },
  {
   "cell_type": "code",
   "execution_count": 31,
   "metadata": {},
   "outputs": [
    {
     "name": "stdout",
     "output_type": "stream",
     "text": [
      "Length of start_array: 32.2\n"
     ]
    },
    {
     "data": {
      "text/plain": [
       "[<matplotlib.lines.Line2D at 0x2b983bd05310>]"
      ]
     },
     "execution_count": 31,
     "metadata": {},
     "output_type": "execute_result"
    },
    {
     "data": {
      "image/png": "[encoded data removed]",
      "text/plain": [
       "<Figure size 432x288 with 1 Axes>"
      ]
     },
     "metadata": {
      "needs_background": "light"
     },
     "output_type": "display_data"
    }
   ],
   "source": [
    "def getHighLowRecallFromRipples(ripples_per_list,sub_list_recall_num_array):\n",
    "    \n",
    "    # take list of ripples per trial and output list of correct recall number for high and low ripple lists\n",
    "    median_ripples = np.median(ripples_per_list)\n",
    "    high_ripple_idxs = findInd(ripples_per_list > median_ripples)\n",
    "    low_ripple_idxs = findInd(ripples_per_list <= median_ripples)        \n",
    "    high_ripple = np.mean(np.array(sub_list_recall_num_array)[np.array(high_ripple_idxs)]) # recalls/list for sub's high ripple lists\n",
    "    low_ripple = np.mean(np.array(sub_list_recall_num_array)[np.array(low_ripple_idxs)]) # same for low ripple lists\n",
    "    \n",
    "    return high_ripple,low_ripple\n",
    "\n",
    "# kept encoding period long enough for 12*(1.6)+11*(1.0)=30.2 s\n",
    "\n",
    "min_lists = 20\n",
    "\n",
    "offset = 100 \n",
    "presentation_time = 1600\n",
    "offset_sr = offset/sr_factor # offset of when to look at hippocampal data (in samples). E.g. want to look at word presentation from 100:1700 ms.\n",
    "presentation_sr = presentation_time/sr_factor\n",
    "\n",
    "full_encoding_start_array = start_array[:,1000:] # remove 2 sec I added before alignment to first word\n",
    "print('Length of start_array: '+str(np.round(np.shape(full_encoding_start_array)[1]/1000*2,2)))\n",
    "\n",
    "sub_recalls_per_list = []\n",
    "\n",
    "high_ripple_correct = []\n",
    "low_ripple_correct = []\n",
    "word_high_ripple_correct = []\n",
    "word_low_ripple_correct = []\n",
    "ISI_high_ripple_correct = []\n",
    "ISI_low_ripple_correct = []\n",
    "\n",
    "total_ISI_times = []\n",
    "\n",
    "for sub in np.unique(subject_name_array):\n",
    "    sub_idxs = [sub in s for s in subject_name_array]\n",
    "    if sum(sub_idxs) >= min_lists:\n",
    "        sub_start_array = full_encoding_start_array[sub_idxs]\n",
    "        sub_subject_name_array = subject_name_array[sub_idxs]\n",
    "        sub_session_name_array = session_name_array[sub_idxs]\n",
    "        sub_list_recall_num_array = list_recall_num_array[sub_idxs]\n",
    "        sub_encoded_word_times = encoded_word_key_array[sub_idxs]\n",
    "        \n",
    "        sub_recalls_per_list.append(np.mean(sub_list_recall_num_array)) # record overall recalls/list for sub       \n",
    "\n",
    "        # this gets you mean values across entirety of retrieval period        \n",
    "        # 0.875 is average of 0.75-1.0 s and there are 11 ISIs, so this grabs 2.0:30.825 s (first 2 seconds were added for plots)\n",
    "        ripples_per_list = np.sum(sub_start_array[:,:int(1000+(1600*12/sr_factor)+(875*11/sr_factor))],1)\n",
    "        \n",
    "        high_ripple,low_ripple = getHighLowRecallFromRipples(ripples_per_list,sub_list_recall_num_array)\n",
    "        high_ripple_correct.append(high_ripple)\n",
    "        low_ripple_correct.append(low_ripple)\n",
    "        \n",
    "        # now want to split up word presentation and ISI periods by ripple rate\n",
    "        \n",
    "        word_ripples_per_list = []\n",
    "        ISI_ripples_per_list = []\n",
    "        \n",
    "        for trial_num in range(len(sub_start_array)):\n",
    "            word_ripple_list = []; \n",
    "            ISI_ripple_list = []; \n",
    "            ISI_times = [] # accumulating these as a check\n",
    "            for i_word,word_time in enumerate(sub_encoded_word_times[trial_num]):\n",
    "                # note that I already removed the 2 sec initial buffer at top\n",
    "                word_ripple_list.append(sum(sub_start_array[trial_num, int(word_time/sr_factor+offset_sr): \n",
    "                                                            int(word_time/sr_factor+presentation_sr+offset_sr)]))\n",
    "#                 word_times.append( (word_time/sr_factor+presentation_sr+offset_sr) - (word_time/sr_factor+offset_sr) ) # these are always 1600 by definition\n",
    "                if i_word<len(sub_encoded_word_times[trial_num])-1: # last word doesn't have an ISI afterwards\n",
    "                    ISI_ripple_list.append(sum(sub_start_array[trial_num, int(word_time/sr_factor+presentation_sr+offset_sr):\n",
    "                                                               int(sub_encoded_word_times[trial_num][i_word+1]/sr_factor+offset_sr)]))\n",
    "                    ISI_times.append( (sub_encoded_word_times[trial_num][i_word+1]/sr_factor+offset_sr) - (word_time/sr_factor+presentation_sr+offset_sr) )\n",
    "            # now you have number of ripples in this trial for the 12 words and 11 ISIs\n",
    "            word_ripples_per_list.append(sum(word_ripple_list))\n",
    "            ISI_ripples_per_list.append(sum(ISI_ripple_list))\n",
    "            total_ISI_times.extend(ISI_times) # ISI times seem to be more like 900 ms than 875 ms...likely some lag\n",
    "            \n",
    "        # now have ripple rates for each trial for both words and ISIs\n",
    "        high_ripple,low_ripple = getHighLowRecallFromRipples(word_ripples_per_list,sub_list_recall_num_array)\n",
    "        word_high_ripple_correct.append(high_ripple)\n",
    "        word_low_ripple_correct.append(low_ripple)        \n",
    "        high_ripple,low_ripple = getHighLowRecallFromRipples(ISI_ripples_per_list,sub_list_recall_num_array)\n",
    "        ISI_high_ripple_correct.append(high_ripple)\n",
    "        ISI_low_ripple_correct.append(low_ripple)           \n",
    "        \n",
    "        a=1\n",
    "plot(np.mean(full_encoding_start_array,0))"
   ]
  },
  {
   "cell_type": "code",
   "execution_count": 36,
   "metadata": {
    "collapsed": true,
    "jupyter": {
     "outputs_hidden": true
    },
    "tags": []
   },
   "outputs": [
    {
     "name": "stdout",
     "output_type": "stream",
     "text": [
      "1-sample t-tests:\n",
      "Whole retrieval: p=0.176, t=-1.37\n",
      "Word presentations: p=0.063, t=-1.91\n",
      "ISI: p=0.163, t=-1.42\n"
     ]
    },
    {
     "data": {
      "image/png": "[encoded data removed]",
      "text/plain": [
       "<Figure size 252x432 with 1 Axes>"
      ]
     },
     "metadata": {
      "needs_background": "light"
     },
     "output_type": "display_data"
    }
   ],
   "source": [
    "## high v. low recall patients\n",
    "\n",
    "if location_selected == 'dg':\n",
    "    min_rate = 0.1\n",
    "    plot_color = [(0.8,0,0)]\n",
    "    lmplot_color = (0.8,0,0,0)\n",
    "    errorbar_color = (1,0.5,0.5)\n",
    "    line_color = 'darkred'\n",
    "elif region_name == 'ENT':\n",
    "    min_rate = 0.0 # for ENT and PHC I don't do further stats so just set to 0 to show all the datapoints in the swarm\n",
    "    plot_color = [(0.5,0.5,0)]\n",
    "    lmplot_color = (0,0,0,0)\n",
    "    errorbar_color = (0.8,0.8,0)\n",
    "    line_color = 'black'\n",
    "elif region_name == 'PHC':\n",
    "    min_rate = 0.0\n",
    "    plot_color = [(0,0.5,0.5)]\n",
    "    lmplot_color = (0,0,0,0)\n",
    "    errorbar_color = (0,0.8,0.8)\n",
    "    line_color = 'black' \n",
    "elif location_selected == 'ca1' or location_selected == '':\n",
    "    min_rate = 0.1 # for CA1 and DG I require a FR minimum for the two bins being compared since I do further stats on them\n",
    "    plot_color = [(0,0,0.8)]\n",
    "    lmplot_color = (0,0,0.8,0)\n",
    "    errorbar_color = (0.5,0.5,1)\n",
    "    line_color = 'darkblue'\n",
    "\n",
    "high_low_diffs = np.concatenate(( np.array(high_ripple_correct)-np.array(low_ripple_correct),\n",
    "                                  np.array(word_high_ripple_correct)-np.array(word_low_ripple_correct) ))\n",
    "high_low_diffs = np.concatenate(( high_low_diffs, np.array(ISI_high_ripple_correct)-np.array(ISI_low_ripple_correct) ))\n",
    "    \n",
    "plot_df = pd.DataFrame({'high_low_diffs':high_low_diffs,\n",
    "                        'idxs':np.concatenate(( np.zeros(len(high_ripple_correct)),np.ones(len(word_high_ripple_correct)), \n",
    "                                                2*np.ones(len(ISI_high_ripple_correct)) ))\n",
    "                        })\n",
    "\n",
    "mean_correct = [np.mean( np.array(high_ripple_correct)-np.array(low_ripple_correct) ),\n",
    "                np.mean( np.array(word_high_ripple_correct)-np.array(word_low_ripple_correct) ),\n",
    "                np.mean( np.array(ISI_high_ripple_correct)-np.array(ISI_low_ripple_correct) )]\n",
    "ste_correct = [np.std( np.array(high_ripple_correct)-np.array(low_ripple_correct) )/np.sqrt(len(high_ripple_correct)),\n",
    "                np.std( np.array(word_high_ripple_correct)-np.array(word_low_ripple_correct) )/np.sqrt(len(word_high_ripple_correct)),\n",
    "                np.std( np.array(ISI_high_ripple_correct)-np.array(ISI_low_ripple_correct) )/np.sqrt(len(ISI_high_ripple_correct))]\n",
    "\n",
    "figSub,axSub = plt.subplots(1,1, figsize=(3.5,6))\n",
    "# axSub.bar(range(split_into),mean_ripples,yerr=ste_ripples,color=plot_color)\n",
    "plot([-1,5],[0,0],color='k')\n",
    "bar(range(3),mean_correct,yerr=ste_correct,color=plot_color,error_kw=dict(lw=30, capsize=0, capthick=0, ecolor=errorbar_color))\n",
    "\n",
    "# changes from Mike\n",
    "gca().spines['right'].set_visible(False)\n",
    "gca().spines['top'].set_visible(False)\n",
    "\n",
    "extra = '_swarm'\n",
    "p1 = sb.swarmplot(x='idxs',y='high_low_diffs',data=plot_df, ax=axSub, color=(0,0,0), alpha=0.3, size=4)\n",
    "axSub.set(ylim=(-2.1,2.1))\n",
    "ytick_range = np.arange(-2,2.01)\n",
    "ylabel(u'Net recalls/list for high v. low ripple lists')\n",
    "\n",
    "    \n",
    "t_p0 = stats.ttest_1samp(np.array(high_ripple_correct)-np.array(low_ripple_correct),0)\n",
    "t_p1 = stats.ttest_1samp(np.array(word_high_ripple_correct)-np.array(word_low_ripple_correct),0)\n",
    "t_p2 = stats.ttest_1samp(np.array(ISI_high_ripple_correct)-np.array(ISI_low_ripple_correct),0)\n",
    "print('1-sample t-tests:')\n",
    "print('Whole retrieval: p='+str(np.round(t_p0[1],3))+', t='+str(np.round(t_p0[0],2)))    \n",
    "print('Word presentations: p='+str(np.round(t_p1[1],3))+', t='+str(np.round(t_p1[0],2)))    \n",
    "print('ISI: p='+str(np.round(t_p2[1],3))+', t='+str(np.round(t_p2[0],2)))    \n",
    "    \n",
    "yticks(ytick_range,fontsize=12)\n",
    "xticks([0,1,2],['Whole retrieval','Word presentations','Inter-stimulus intervals'],fontsize=10,rotation=30) # somehow these are reversed but the high patients have high ripples (see the means below)]\n",
    "xlabel('Participant group')\n",
    "\n",
    "# # check out accuracy rates v. subjects\n",
    "# print('Whole retrieval period:')\n",
    "# print(high_low_diffs)\n",
    "# print(np.unique(subject_name_array))\n",
    "\n",
    "\n",
    "\n",
    "a=1;"
   ]
  },
  {
   "cell_type": "markdown",
   "metadata": {
    "tags": []
   },
   "source": [
    "## Subject-level memory performance"
   ]
  },
  {
   "cell_type": "markdown",
   "metadata": {
    "tags": []
   },
   "source": [
    "# subject-level plots"
   ]
  },
  {
   "cell_type": "markdown",
   "metadata": {},
   "source": [
    "## Big Raster!!"
   ]
  },
  {
   "cell_type": "code",
   "execution_count": 10,
   "metadata": {
    "tags": []
   },
   "outputs": [
    {
     "name": "stdout",
     "output_type": "stream",
     "text": [
      "(14914, 2000)\n"
     ]
    },
    {
     "data": {
      "image/png": "[encoded data removed]",
      "text/plain": [
       "<Figure size 360x504 with 1 Axes>"
      ]
     },
     "metadata": {
      "needs_background": "light"
     },
     "output_type": "display_data"
    }
   ],
   "source": [
    "\n",
    "## for the raster and PSTH binarize the data by using the start indices of the ripple\n",
    "\n",
    "save_raster = 0\n",
    "\n",
    "elec_dividers_on = 0 # toggles light gray lines between electrodes\n",
    "session_dividers_on = 0\n",
    "\n",
    "dot_color = (0.1,0.1,0.1)\n",
    "between_subject_color = (0.6,0,0.6)\n",
    "between_session_color = (0,0.6,0.6)\n",
    "\n",
    "encoding_whole_time = 1000*np.round(12*(1.6+0.875),1)\n",
    "\n",
    "%autoreload\n",
    "psth_start = -2000\n",
    "psth_end = encoding_whole_time #2000\n",
    "\n",
    "# plot raster\n",
    "subplots(1,1,figsize=(8,20))   #y=100 for data cleaning # (4,6) for Fig. 4b # (4,10) for Fig. 2a\n",
    "scatter(np.where(start_array)[1]*sr_factor+psth_start,np.where(start_array)[0],s=4,color=dot_color) # SWR time v. trial\n",
    "xticks(np.arange(psth_start,psth_end+1,500),np.arange(psth_start/1000,psth_end/1000+1,0.5))\n",
    "xlabel('Time from recall (s)')\n",
    "ylabel('Trial')\n",
    "ax = plt.gca()\n",
    "ax.set_xlim(psth_start-100,psth_end+100)\n",
    "plot([0,0],[ax.get_ylim()[0],ax.get_ylim()[1]], linewidth=1,linestyle='-',color=(0,0,0))\n",
    "\n",
    "last_sub = sub_names[0]\n",
    "last_sess = sub_sess_names[0]\n",
    "channels_per_session = []\n",
    "trial_accum = 0\n",
    "for s in range(1,len(trial_nums)):\n",
    "    if (sub_names[s] != last_sub) | (s==1):\n",
    "        if s != 1:\n",
    "            # plot dark gray line between subjects\n",
    "            plot([ax.get_xlim()[0],ax.get_xlim()[1]],(0.5+np.sum(trial_nums[:s]))*np.ones(2),linewidth=1.5,linestyle='-',color=between_subject_color)\n",
    "            last_sub = sub_names[s]\n",
    "            text(2100,0.5+np.sum(trial_nums[:s]),sub_names[s])\n",
    "        else: \n",
    "            if session_dividers_on==1:\n",
    "                # if 1st sub though gotta print that first gray line \n",
    "                plot([ax.get_xlim()[0],ax.get_xlim()[1]],(0.5+np.sum(trial_nums[:s]))*np.ones(2),linewidth=0.5,linestyle='-',color=between_session_color)\n",
    "                text(2100,0,sub_names[s]) # and print 1st sub name at y=0\n",
    "    else: # plot lines between electrodes\n",
    "        if elec_dividers_on == 1:\n",
    "            plot([ax.get_xlim()[0],ax.get_xlim()[1]],(0.5+np.sum(trial_nums[:s]))*np.ones(2),linewidth=0.5,linestyle='-',color=(.8,.8,.8))\n",
    "    # plot lines between sessions\n",
    "    if session_dividers_on==1:\n",
    "        if sub_sess_names[s] != last_sess:\n",
    "            plot([ax.get_xlim()[0],ax.get_xlim()[1]],(0.5+np.sum(trial_nums[:s]))*np.ones(2),linewidth=0.75,linestyle='-',color=between_session_color)\n",
    "            last_sess = sub_sess_names[s]\n",
    "            \n",
    "    channels_per_session.append(np.unique(channel_nums_array[int(trial_accum):int(trial_accum+trial_nums[s])]))\n",
    "    trial_accum = trial_accum+trial_nums[s]\n",
    "    \n",
    "plot([ax.get_xlim()[0],ax.get_xlim()[1]],-.5*np.ones(2),linewidth=1,linestyle='-',color=(.4,.4,.4))        \n",
    "plot([ax.get_xlim()[0],ax.get_xlim()[1]],(0.5+np.sum(trial_nums))*np.ones(2),linewidth=1,linestyle='-',color=(.4,.4,.4))\n",
    "ax.autoscale(enable=True, axis='y', tight=True)\n",
    "plt.tight_layout()\n",
    "# print('Total FR events: '+str(total_recalls)) # these were in whole retrieval period so not kept in usual ripple alignment\n",
    "# print('Kept FR events: '+str(kept_recalls))\n",
    "print(start_array.shape);\n",
    "if save_raster == 1:\n",
    "    if elec_dividers_on == 1:\n",
    "        plt.savefig('../figures/rasters/'+exp+'_'+'raster_'+region_name+'_'+location_selected+\n",
    "                    '-'+str(recall_type_switch)+'-'+filter_type+'.pdf',transparent=True)       \n",
    "    else:\n",
    "        plt.savefig('../figures/rasters/'+exp+'_'+'raster_'+region_name+'_'+location_selected+\n",
    "                    '-'+str(recall_type_switch)+'no_elecs-'+filter_type+'.pdf',transparent=True)\n",
    "a=1;"
   ]
  },
  {
   "cell_type": "markdown",
   "metadata": {},
   "source": [
    "## Do we see more SWRs during successful encoding? (come here after loading 'encoding' and getting start_array)"
   ]
  },
  {
   "cell_type": "code",
   "execution_count": 84,
   "metadata": {},
   "outputs": [],
   "source": [
    "# get start_array and masks to identify SME\n",
    "\n",
    "desired_sample_rate = 500.\n",
    "sr = desired_sample_rate # fixed at this value since this is the minimum across data and can always downsample\n",
    "sr_factor = 1000/desired_sample_rate\n",
    "\n",
    "# get vectors of encoding list identifier data for forgotten and recalled words\n",
    "# in encoded_word_key_array, 0 for not recalled, 1 for recalled, 2 for recalled but was an IRI<2 (don't care about that for encoding)\n",
    "master_key = encoded_word_key_array>0 # keep all recalls\n",
    "\n",
    "start_array_enc_forgot = start_array[master_key==0]\n",
    "start_array_enc_recalled = start_array[master_key==1]\n",
    "\n",
    "# same for sub and sess\n",
    "sub_forgot = np.array(subject_name_array)[master_key==0]\n",
    "sess_forgot = np.array(session_name_array)[master_key==0]\n",
    "sub_recalled = np.array(subject_name_array)[master_key==1]\n",
    "sess_recalled = np.array(session_name_array)[master_key==1]"
   ]
  },
  {
   "cell_type": "code",
   "execution_count": 85,
   "metadata": {},
   "outputs": [
    {
     "name": "stdout",
     "output_type": "stream",
     "text": [
      "done making binned start_array with shape:\n",
      "(14696, 26)\n",
      "SEs created!\n",
      "done making binned start_array with shape:\n",
      "(38974, 26)\n",
      "SEs created!\n",
      "/home1/john/SWR/figures/ENCODING/SWR_FR1_HPC_ca1_0_soz_in_hamming_first_half.p\n",
      "Test 1 p-value: 0.00026878368550786437\n",
      "Test 2 p-value: 0.5855831061006906\n",
      "53670 trials\n"
     ]
    },
    {
     "data": {
      "image/png": "[encoded data removed]",
      "text/plain": [
       "<Figure size 360x288 with 1 Axes>"
      ]
     },
     "metadata": {
      "needs_background": "light"
     },
     "output_type": "display_data"
    }
   ],
   "source": [
    "save_plot_data = 1\n",
    "\n",
    "%autoreload\n",
    "# get PSTH for recalled and then forgotten words. \n",
    "# Then bin it for the CIs and plot each\n",
    "# then do ME stats on seleted bins and add significance bars if p<0.05\n",
    "\n",
    "encoding_time = 2300 # actual preentation is 1.6 s + 0.75-1.0 s so keep +700 ms so can plot +500 ms\n",
    "pre_encoding_time = -700\n",
    "\n",
    "bin_size = 100 # in ms\n",
    "smoothing_triangle = 5 # triangular smoothing window width\n",
    "samples = 100\n",
    "pad = int(np.floor(smoothing_triangle/2)) # factor is how many points from middle does triangle go?\n",
    "\n",
    "# for recalled and then forgotten words\n",
    "for category in range(2):\n",
    "    if category == 0:\n",
    "        temp_start_array = start_array_enc_recalled\n",
    "        subject_name_array = sub_recalled\n",
    "        session_name_array = sess_recalled\n",
    "        \n",
    "        # for plot\n",
    "        subplots(1,1,figsize=(5,4))\n",
    "        label = 'List words later \\\\textbf{recalled}'\n",
    "        plot_color = (0,0,1)\n",
    "        text(500,0.21,label,usetex=True,size=16,color=plot_color)\n",
    "        text(500,0.18,'Number of trials: '+str(temp_start_array.shape[0]),color=plot_color)\n",
    "\n",
    "    else:       \n",
    "        temp_start_array = start_array_enc_forgot\n",
    "        subject_name_array = sub_forgot\n",
    "        session_name_array = sess_forgot\n",
    "        \n",
    "        # for plot\n",
    "        label = 'List words later \\\\textbf{forgotten}'        \n",
    "        plot_color = (1,0,0)\n",
    "        text(500,0.13,label,usetex=True,size=16,color=plot_color) \n",
    "        text(500,0.10,'Number of trials: '+str(temp_start_array.shape[0]),color=plot_color)\n",
    "        \n",
    "    # make a PSTH based on start times of SWRs\n",
    "\n",
    "    PSTH,bin_centers = fullPSTH(temp_start_array,bin_size,smoothing_triangle,sr,pre_encoding_time)\n",
    "    # bootstraps error bars by sampling from trials in raster with replacement samples number of\n",
    "    # times and then taking the standard deviation across those samples\n",
    "#     boot_samples = bootstrap(temp_start_array, bootnum=samples, samples=None, # bootstrap error bars using resampling\n",
    "#                    bootfunc=lambda x: bootPSTH(x,binsize,smoothing_triangle,sr,pre_encoding_time))\n",
    "#     boot_SD = np.std(boot_samples,0)\n",
    "\n",
    "    # get binned start array (trials X bins)\n",
    "    binned_start_array = binBinaryArray(temp_start_array,bin_size,sr_factor)\n",
    "    if pad > 0:\n",
    "        binned_start_array = binned_start_array[:,pad:-pad] # remove edge bins\n",
    "    print('done making binned start_array with shape:')\n",
    "    print(binned_start_array.shape)\n",
    "\n",
    "    # note that output is the net ± distance from mean\n",
    "    SE_plot = getMixedEffectSEs(binned_start_array,subject_name_array,session_name_array)\n",
    "    print('SEs created!')\n",
    "    \n",
    "    # plot\n",
    "    xr = bin_centers #np.arange(psth_start,psth_end,binsize)\n",
    "    xr = xr[pad:-pad]; \n",
    "    \n",
    "    plot(xr,PSTH[pad:-pad],color=plot_color)\n",
    "    fill_between(xr, PSTH[pad:-pad]-SE_plot[0,:], PSTH[pad:-pad]+SE_plot[0,:], alpha = 0.3)\n",
    "    xticks(np.arange(pre_encoding_time+pad*100,encoding_time-pad*100+1,500),\n",
    "           np.arange((pre_encoding_time+pad*100)/1000,(encoding_time-pad*100)/1000+1,500/1000))\n",
    "    xlabel('Time from word presentation (s)')\n",
    "    ylabel('Ripple rate (events/s)')\n",
    "    tight_layout()\n",
    "    ax = plt.gca()\n",
    "    ylim = 0.5\n",
    "    ax.set_ylim(0,ylim)\n",
    "    ax.set_xlim(pre_encoding_time,encoding_time)\n",
    "    plot([0,0],[ax.get_ylim()[0],ax.get_ylim()[1]],linewidth=1,linestyle='-',color=(0,0,0))\n",
    "    plot([1600,1600],[ax.get_ylim()[0],ax.get_ylim()[1]],linewidth=1,linestyle='--',color=(0.7,0.7,0.7))\n",
    "    \n",
    "    if category == 0:\n",
    "        PSTH_recalled = copy(PSTH)\n",
    "        SE_recalled = copy(SE_plot)\n",
    "    else:\n",
    "        PSTH_forgotten = copy (PSTH)\n",
    "        SE_forgotten = copy(SE_plot)\n",
    "\n",
    "# now that we have the plot with CIs, do stats on key bins. Note here just looking at single bins but comparing across categories\n",
    "for test in range(2):\n",
    "    if test == 0:\n",
    "        first_start = 300\n",
    "        first_end = 1300\n",
    "    else:\n",
    "        first_start = 1700 # same idea but for post-encoding period (ILI)\n",
    "        first_end = 2300 \n",
    "        \n",
    "    bin_test_range = range(int( ((first_start-pre_encoding_time)/sr_factor) ),\n",
    "                           int( ((first_end-pre_encoding_time)/sr_factor) ))\n",
    "    binned_recalled_array = start_array_enc_recalled[:,bin_test_range]\n",
    "    binned_forgot_array = start_array_enc_forgot[:,bin_test_range]\n",
    "    \n",
    "    stats_bin = int(first_end-first_start)\n",
    "    binned_recalled_array = binBinaryArray(binned_recalled_array,stats_bin,sr_factor) # should be creating vectors for both\n",
    "    binned_forgot_array = binBinaryArray(binned_forgot_array,stats_bin,sr_factor)\n",
    "    \n",
    "    bin_model = MEstatsAcrossCategories(binned_recalled_array,binned_forgot_array,\n",
    "                                        sub_forgot,sess_forgot,sub_recalled,sess_recalled)\n",
    "    \n",
    "        # plot bands of significance\n",
    "    if bin_model.pvalues[1] < 0.05:\n",
    "        plot([first_end-stats_bin,first_end],[0.5,0.5],color=(1,0.5,0))\n",
    "    \n",
    "    if test == 0:\n",
    "        bin_model1 = copy(bin_model)\n",
    "        binned_recalled_array1 = copy(binned_recalled_array)\n",
    "        binned_forgot_array1 = copy(binned_forgot_array)\n",
    "    else:\n",
    "        bin_model2 = copy(bin_model)\n",
    "        binned_recalled_array2 = copy(binned_recalled_array)\n",
    "        binned_forgot_array2 = copy(binned_forgot_array)\n",
    "num_trials = len(master_key) \n",
    "\n",
    "\n",
    "# get directories for if you save (don't put this in save_plot_data below since want p-values printed at bottom close to figures)\n",
    "soz_label,recall_selection_name,subfolder = getSWRpathInfo(remove_soz_ictal,recall_type_switch,selected_period,recall_minimum)\n",
    "path_name = '/home1/john/SWR/figures/'+subfolder\n",
    "\n",
    "fn = os.path.join(path_name,\n",
    "    'SWR_'+exp+'_'+region_name+'_'+location_selected+'_'+str(recall_type_switch)+'_'+soz_label+\\\n",
    "                  '_'+filter_type+'_'+sub_selection+'.p') # -GT_5000.p' # -LT_5000.p' #'-intrusions.p'\n",
    "print(fn)\n",
    "print('Test 1 p-value: '+str(bin_model1.pvalues[1]))\n",
    "print('Test 2 p-value: '+str(bin_model2.pvalues[1]))\n",
    "print(str(num_trials)+' trials')    \n",
    "        \n",
    "if save_plot_data == 1:\n",
    "    # get strings for path name for save and loading cluster data\n",
    "            \n",
    "    if os.path.isdir(path_name) == False:\n",
    "        os.mkdir(path_name)\n",
    "    if type(location_selected)==list:\n",
    "        location_selected = 'ca1dg'\n",
    "    with open(fn,'wb') as f:\n",
    "        pickle.dump({'bin_centers':bin_centers,'PSTH_recalled':PSTH_recalled,'PSTH_forgotten':PSTH_forgotten,\n",
    "                    'SE_recalled':SE_recalled,'SE_forgotten':SE_forgotten,'bin_model1':bin_model1,'bin_model2':bin_model2,\n",
    "                    'binned_recalled_array1':binned_recalled_array1,'binned_forgot_array1':binned_forgot_array1,\n",
    "                    'binned_recalled_array2':binned_recalled_array2,'binned_forgot_array2':binned_forgot_array2,\n",
    "                    'subject_name_array':subject_name_array,'session_name_array':session_name_array,\n",
    "                    'electrode_array':electrode_array,'channel_coords_array':channel_coords_array,\n",
    "                    'master_key':master_key}, f) \n",
    "        # master_key is indicator for subsequently remembered and forgotten. Can get num_trials from it too\n",
    "a=1;"
   ]
  },
  {
   "cell_type": "markdown",
   "metadata": {},
   "source": [
    "## just to remake plot"
   ]
  },
  {
   "cell_type": "code",
   "execution_count": 81,
   "metadata": {},
   "outputs": [
    {
     "data": {
      "image/png": "[encoded data removed]",
      "text/plain": [
       "<Figure size 360x243 with 1 Axes>"
      ]
     },
     "metadata": {
      "needs_background": "light"
     },
     "output_type": "display_data"
    }
   ],
   "source": [
    "subplots(1,1,figsize=(5,3.375))\n",
    "\n",
    "# for recalled and then forgotten words\n",
    "for category in range(2):\n",
    "    if category == 0:\n",
    "        temp_start_array = start_array_enc_recalled\n",
    "        subject_name_array = sub_recalled\n",
    "        session_name_array = sess_recalled\n",
    "        \n",
    "        # for plot\n",
    "        label = 'List words later \\\\textbf{recalled}'\n",
    "        plot_color = (0,0,1)\n",
    "        text(500,0.21,label,usetex=True,size=16,color=plot_color)\n",
    "        text(500,0.18,'Number of trials: '+str(temp_start_array.shape[0]),color=plot_color)\n",
    "        \n",
    "        PSTH = copy(PSTH_recalled)\n",
    "        SE_plot = copy(SE_recalled)\n",
    "\n",
    "    else:       \n",
    "        temp_start_array = start_array_enc_forgot\n",
    "        subject_name_array = sub_forgot\n",
    "        session_name_array = sess_forgot\n",
    "        \n",
    "        # for plot\n",
    "        label = 'List words later \\\\textbf{forgotten}'        \n",
    "        plot_color = (1,0,0)\n",
    "        text(500,0.13,label,usetex=True,size=16,color=plot_color) \n",
    "        text(500,0.10,'Number of trials: '+str(temp_start_array.shape[0]),color=plot_color)\n",
    "        \n",
    "        PSTH = copy(PSTH_forgotten)\n",
    "        SE_plot = copy(SE_forgotten)\n",
    "        \n",
    "    # plot\n",
    "    xr = bin_centers #np.arange(psth_start,psth_end,binsize)\n",
    "    xr = xr[pad:-pad]; \n",
    "    PSTH = PSTH; #boot_SD = boot_SD[pad:-pad]\n",
    "    plot(xr,PSTH[pad:-pad],color=plot_color)\n",
    "    fill_between(xr, PSTH[pad:-pad]-SE_plot[0,:], PSTH[pad:-pad]+SE_plot[0,:], alpha = 0.3)\n",
    "    xticks(np.arange(pre_encoding_time+pad*100,encoding_time-pad*100+1,500),\n",
    "           np.arange((pre_encoding_time+pad*100)/1000,(encoding_time-pad*100)/1000+1,500/1000))\n",
    "    xlabel('Time from word presentation (s)')\n",
    "    ylabel('Ripple rate (events/s)')\n",
    "    tight_layout()\n",
    "    ax = plt.gca()\n",
    "    ylim = 0.5\n",
    "    ax.set_ylim(0,ylim)\n",
    "    ax.set_xlim(pre_encoding_time,encoding_time)\n",
    "    plot([0,0],[ax.get_ylim()[0],ax.get_ylim()[1]],linewidth=1,linestyle='-',color=(0,0,0))\n",
    "    plot([1600,1600],[ax.get_ylim()[0],ax.get_ylim()[1]],linewidth=1,linestyle='--',color=(0.7,0.7,0.7))\n",
    "a=1;\n"
   ]
  },
  {
   "cell_type": "markdown",
   "metadata": {},
   "source": [
    "## encoding ripples by serial position"
   ]
  },
  {
   "cell_type": "code",
   "execution_count": 12,
   "metadata": {
    "collapsed": true,
    "jupyter": {
     "outputs_hidden": true
    }
   },
   "outputs": [
    {
     "data": {
      "image/png": "[encoded data removed]",
      "text/plain": [
       "<Figure size 216x126 with 1 Axes>"
      ]
     },
     "metadata": {
      "needs_background": "light"
     },
     "output_type": "display_data"
    },
    {
     "data": {
      "image/png": "[encoded data removed]",
      "text/plain": [
       "<Figure size 216x126 with 1 Axes>"
      ]
     },
     "metadata": {
      "needs_background": "light"
     },
     "output_type": "display_data"
    },
    {
     "data": {
      "image/png": "[encoded data removed]",
      "text/plain": [
       "<Figure size 216x126 with 1 Axes>"
      ]
     },
     "metadata": {
      "needs_background": "light"
     },
     "output_type": "display_data"
    },
    {
     "data": {
      "image/png": "[encoded data removed]",
      "text/plain": [
       "<Figure size 216x126 with 1 Axes>"
      ]
     },
     "metadata": {
      "needs_background": "light"
     },
     "output_type": "display_data"
    },
    {
     "data": {
      "image/png": "[encoded data removed]",
      "text/plain": [
       "<Figure size 216x126 with 1 Axes>"
      ]
     },
     "metadata": {
      "needs_background": "light"
     },
     "output_type": "display_data"
    },
    {
     "data": {
      "image/png": "[encoded data removed]",
      "text/plain": [
       "<Figure size 216x126 with 1 Axes>"
      ]
     },
     "metadata": {
      "needs_background": "light"
     },
     "output_type": "display_data"
    },
    {
     "data": {
      "image/png": "[encoded data removed]",
      "text/plain": [
       "<Figure size 216x126 with 1 Axes>"
      ]
     },
     "metadata": {
      "needs_background": "light"
     },
     "output_type": "display_data"
    },
    {
     "data": {
      "image/png": "[encoded data removed]",
      "text/plain": [
       "<Figure size 216x126 with 1 Axes>"
      ]
     },
     "metadata": {
      "needs_background": "light"
     },
     "output_type": "display_data"
    },
    {
     "data": {
      "image/png": "[encoded data removed]",
      "text/plain": [
       "<Figure size 216x126 with 1 Axes>"
      ]
     },
     "metadata": {
      "needs_background": "light"
     },
     "output_type": "display_data"
    },
    {
     "data": {
      "image/png": "[encoded data removed]",
      "text/plain": [
       "<Figure size 216x126 with 1 Axes>"
      ]
     },
     "metadata": {
      "needs_background": "light"
     },
     "output_type": "display_data"
    },
    {
     "data": {
      "image/png": "[encoded data removed]",
      "text/plain": [
       "<Figure size 216x126 with 1 Axes>"
      ]
     },
     "metadata": {
      "needs_background": "light"
     },
     "output_type": "display_data"
    },
    {
     "data": {
      "image/png": "[encoded data removed]",
      "text/plain": [
       "<Figure size 216x126 with 1 Axes>"
      ]
     },
     "metadata": {
      "needs_background": "light"
     },
     "output_type": "display_data"
    }
   ],
   "source": [
    "## plot recalled events by serial position\n",
    "\n",
    "bin_range_to_compare = range(8,18) # this is 100:1100 ms \n",
    "# bin_range_to_compare = range(24,29) # this is 1700:2200 ms\n",
    "\n",
    "binsize = 100 # in ms\n",
    "\n",
    "ct = 0\n",
    "serial_position_rem_rates = []\n",
    "serial_position_rem_stds = []\n",
    "position_rem_stds = []\n",
    "serial_position_forgot_rates = []\n",
    "serial_position_forgot_stds = []\n",
    "tion_forgot_stds = []\n",
    "num_recalled = []; num_forgot = []\n",
    "for list_num in range(12):\n",
    "    \n",
    "    temp_start_array_rem = start_array_enc[(master_key==1) & (serial_positions==(list_num+1))]\n",
    "    temp_start_array_forgot = start_array_enc[(master_key==0) & (serial_positions==(list_num+1))]\n",
    "    \n",
    "    subplots(1,1,figsize=(3,1.75))\n",
    "    label = 'Serial position '+str(list_num+1)\n",
    "    plot_color = (0,0,1)\n",
    "    text(100,0.21,label,usetex=True,size=12,color=plot_color)\n",
    "    text(100,0.12,'Number of trials: '+str(temp_start_array.shape[0]),color=plot_color)\n",
    "    ct+=temp_start_array.shape[0]    \n",
    "    # make a PSTH based on start times of SWRs\n",
    "\n",
    "    PSTH,bin_centers = fullPSTH(temp_start_array_rem,binsize,smoothing_triangle,sr,pre_encoding_time)\n",
    "    PSTH_forgot,bin_centers = fullPSTH(temp_start_array_forgot,binsize,smoothing_triangle,sr,pre_encoding_time)\n",
    "    \n",
    "    # bootstraps error bars by sampling from trials in raster with replacement samples number of\n",
    "    # times and then taking the standard deviation across those samples\n",
    "    boot_samples = bootstrap(temp_start_array_rem, bootnum=samples, samples=None, # bootstrap error bars using resampling\n",
    "                   bootfunc=lambda x: bootPSTH(x,binsize,smoothing_triangle,sr,pre_encoding_time))\n",
    "    boot_SD = np.std(boot_samples,0)\n",
    "    \n",
    "    xr = bin_centers #np.arange(psth_start,psth_end,binsize)\n",
    "    \n",
    "    # plot\n",
    "    plot(xr[pad:-pad],PSTH[pad:-pad],color=plot_color)\n",
    "    fill_between(xr[pad:-pad], (PSTH+boot_SD)[pad:-pad], (PSTH-boot_SD)[pad:-pad], alpha = 0.3)\n",
    "    xticks(np.arange(pre_encoding_time+pad*100,encoding_time-pad*100+1,500),\n",
    "           np.arange((pre_encoding_time+pad*100)/1000,(encoding_time-pad*100)/1000+1,500/1000))\n",
    "    xlabel('Time from word presentation (s)')\n",
    "    ylabel('Ripple rate (events/s)')\n",
    "    ax = plt.gca()\n",
    "    ylim = 0.55\n",
    "    ax.set_ylim(0,ylim)\n",
    "    ax.set_xlim(pre_encoding_time-100,encoding_time+100)\n",
    "    plot([0,0],[ax.get_ylim()[0],ax.get_ylim()[1]],linewidth=1,linestyle='-',color=(0,0,0));\n",
    "    plot([1600,1600],[ax.get_ylim()[0],ax.get_ylim()[1]],linewidth=1,linestyle='--',color=(0.7,0.7,0.7));\n",
    "#     plot([ax.get_xlim()[0],ax.get_xlim()[1]],[0.4,0.4],linewidth=1,linestyle='--',color=(0.5,0.5,0.5));\n",
    "\n",
    "    # save data for full serial position plot below\n",
    "    serial_position_rem_rates.append(np.mean(PSTH[bin_range_to_compare]))\n",
    "    serial_position_rem_stds.append(np.std(PSTH[bin_range_to_compare]))\n",
    "    serial_position_forgot_rates.append(np.mean(PSTH_forgot[bin_range_to_compare]))\n",
    "    serial_position_forgot_stds.append(np.std(PSTH_forgot[bin_range_to_compare]))\n",
    "    num_recalled.append(temp_start_array_rem.shape[0])\n",
    "    num_forgot.append(temp_start_array_forgot.shape[0])\n",
    "plot(serial_position_rem_rates)    \n",
    "a=1;"
   ]
  },
  {
   "cell_type": "code",
   "execution_count": null,
   "metadata": {},
   "outputs": [],
   "source": [
    "# create the general figure\n",
    "fig1 = figure()\n",
    " \n",
    "# and the first axes using subplot populated with data \n",
    "ax1 = fig1.add_subplot(111)\n",
    "\n",
    "xr=np.arange(1,13)\n",
    "line1 = errorbar(xr,serial_position_rem_rates,serial_position_rem_stds) \n",
    "line2 = errorbar(xr,serial_position_forgot_rates,serial_position_forgot_stds)\n",
    "xticks(xr,xr)\n",
    "ax1.set_ylim(0,ylim)\n",
    "xlabel('List serial position')\n",
    "ylabel('Mean ripple rate (events/s)')\n",
    "if bin_range_to_compare == range(8,18):\n",
    "    title('Ripple rate 100-1100 ms after word presentation')\n",
    "elif bin_range_to_compare == range(24,29): \n",
    "    title('Ripple rate 1700-2200 ms after word presentation')\n",
    "    \n",
    "# now, the second axes that shares the x-axis with the ax1\n",
    "ax2 = fig1.add_subplot(111, sharex=ax1, frameon=False)\n",
    "line3 = ax2.plot(xr,num_recalled, 'xr-')\n",
    "ax2.yaxis.tick_right()\n",
    "ax2.yaxis.set_label_position(\"right\")\n",
    "ax2.set_ylim(0,3500)\n",
    "ylabel(\"Recalls (#)\")\n",
    "\n",
    "ax1.legend((line1,line2),(\"Words later remembered\",\"Words later forgotten\"))\n",
    "ax2.legend(line3,{\"Number of recalls\"},loc='lower right')\n",
    " \n",
    "# for the legend, remember that we used two different axes so, we need \n",
    "# to build the legend manually\n",
    "# legend((line1, line2), (\"1\", \"2\"))\n",
    "show();"
   ]
  },
  {
   "cell_type": "code",
   "execution_count": null,
   "metadata": {},
   "outputs": [],
   "source": []
  }
 ],
 "metadata": {
  "kernelspec": {
   "display_name": "env1",
   "language": "python",
   "name": "env1"
  },
  "language_info": {
   "codemirror_mode": {
    "name": "ipython",
    "version": 3
   },
   "file_extension": ".py",
   "mimetype": "text/x-python",
   "name": "python",
   "nbconvert_exporter": "python",
   "pygments_lexer": "ipython3",
   "version": "3.7.5"
  },
  "toc-autonumbering": false
 },
 "nbformat": 4,
 "nbformat_minor": 4
}
