{
 "cells": [
  {
   "cell_type": "markdown",
   "metadata": {},
   "source": [
    "## These are plots formed after saving the data across subjects run in SWRanalysis.ipynb "
   ]
  },
  {
   "cell_type": "code",
   "execution_count": 143,
   "metadata": {},
   "outputs": [
    {
     "name": "stdout",
     "output_type": "stream",
     "text": [
      "The autoreload extension is already loaded. To reload it, use:\n",
      "  %reload_ext autoreload\n"
     ]
    }
   ],
   "source": [
    "import pandas as pd; pd.set_option('display.max_columns', 30)\n",
    "import numpy as np\n",
    "from cmlreaders import CMLReader, get_data_index\n",
    "from ptsa.data.filters import ButterworthFilter\n",
    "import sys\n",
    "import os\n",
    "import matplotlib.pyplot as plt\n",
    "%matplotlib inline\n",
    "from pylab import *\n",
    "from copy import copy\n",
    "from scipy import stats\n",
    "import pickle\n",
    "plt.rcParams['pdf.fonttype'] = 42; plt.rcParams['ps.fonttype'] = 42 # fix fonts for Illustrator\n",
    "sys.path.append('/home1/john/Downloads/ptsa_plot-master/')\n",
    "sys.path.append('/home1/john/johnModules')\n",
    "from brain_labels import MTL_labels, LTC_labels, PFC_labels, OTHER_labels, ALL_labels # all location labels\n",
    "%load_ext autoreload\n",
    "%autoreload\n",
    "from general import *\n",
    "from SWRmodule import *\n",
    "\n",
    "df = get_data_index(\"r1\") # all RAM subjects\n",
    "exp = 'FR1'"
   ]
  },
  {
   "cell_type": "markdown",
   "metadata": {},
   "source": [
    "## Plot CA3 v. DG on same plot"
   ]
  },
  {
   "cell_type": "code",
   "execution_count": 129,
   "metadata": {},
   "outputs": [
    {
     "name": "stdout",
     "output_type": "stream",
     "text": [
      "CA1: 3211 recalls\n",
      "Test 1 p-value: 0.8551984742479201\n",
      "Test 2 p-value: 0.8407443735077846\n",
      "Dentate gyrus: 2397 recalls\n",
      "Test 1 p-value: 0.6640347671201461\n",
      "Test 2 p-value: 0.9461553452498093\n"
     ]
    },
    {
     "data": {
      "image/png": "[encoded data removed]",
      "text/plain": [
       "<Figure size 432x288 with 1 Axes>"
      ]
     },
     "metadata": {
      "needs_background": "light"
     },
     "output_type": "display_data"
    }
   ],
   "source": [
    "# load data from each\n",
    "\n",
    "selected_period = 'surrounding_recall' \n",
    "remove_soz_ictal = False\n",
    "recall_type_switch = 1 # 0 for original, 1 for only those with subsequent, 2 for second recalls only, 3 for isolated recalls\n",
    "region_name = 'HPC'\n",
    "# location_selected = 'ca1' # 'ca3' # 'dg' 'ca1' # sub # left hippocampus # right hippocampus # hippocampus\n",
    "# # (leave as '' if not HPC)\n",
    "\n",
    "pad = 2\n",
    "psth_start = -2000\n",
    "psth_end = 2000\n",
    "stats_bin = 500 # time bin width in ms to test stats on\n",
    "first_start = -1600 # going to make sequence of 3 bins and test 1st v. 3rd\n",
    "first_end = -100\n",
    "second_start = 200 # same idea\n",
    "second_end = 1700\n",
    "\n",
    "# get strings for path name for save and loading cluster data\n",
    "soz_label,recall_selection_name,subfolder = getSWRpathInfo(remove_soz_ictal,recall_type_switch,selected_period)\n",
    "\n",
    "for p,location_selected in enumerate(['ca1','dg']):\n",
    "    \n",
    "    if p==0:\n",
    "        subplots(1,1,figsize=(6,4)); ax = plt.gca()\n",
    "        color = (0,0,1)\n",
    "        label = 'CA1'\n",
    "        line_dist = 0.175\n",
    "    else:\n",
    "        color = (1,0,0)\n",
    "        label = 'Dentate gyrus'\n",
    "        line_dist = 0.15\n",
    "\n",
    "    path_name = '/home1/john/SWR/figures/'+subfolder\n",
    "    fn = os.path.join(path_name,\n",
    "        'SWR_'+exp+'_'+region_name+'_'+location_selected+'_'+str(recall_type_switch)+'_'+soz_label+'.p')            \n",
    "    with open(fn,'rb') as f:\n",
    "        dat = pickle.load(f)\n",
    "        bin_centers = dat['bin_centers']; PSTH = dat['PSTH']; CI_plot = dat['CI_plot']; num_trials = dat['num_trials'];\n",
    "        bin_model1 = dat['bin_model1']; bin_model2 = dat['bin_model2']\n",
    "\n",
    "    # make plot\n",
    "    xr = bin_centers #np.arange(psth_start,psth_end,binsize)\n",
    "\n",
    "    # plot smoothed mean +/- CI\n",
    "    if pad > 0:\n",
    "        plot(xr[pad:-pad],PSTH[pad:-pad],color=color)\n",
    "        fill_between(xr[pad:-pad], PSTH[pad:-pad]-CI_plot[0,:], PSTH[pad:-pad]+CI_plot[0,:],\n",
    "                     color=color, alpha = 0.3, label='_nolegend_')\n",
    "    else:\n",
    "        plot(xr,PSTH)\n",
    "        fill_between(xr, PSTH-CI_plot[0,:], PSTH+CI_plot[0,:],\n",
    "                     color=color, alpha = 0.3, label='_nolegend_')\n",
    "\n",
    "    # plot bands of significance\n",
    "    if bin_model1.pvalues[1] < 0.05:\n",
    "        plot([first_end-stats_bin,first_end],[line_dist,line_dist],'--',\n",
    "             color=color,label='_nolegend_')\n",
    "    if bin_model2.pvalues[1] < 0.05:\n",
    "        plot([second_start,second_start+stats_bin],[line_dist,line_dist],'--',\n",
    "             color=color,label='_nolegend_')\n",
    "    print(label+': '+str(num_trials)+' recalls')\n",
    "    print('Test 1 p-value: '+str(bin_model1.pvalues[1]))\n",
    "    print('Test 2 p-value: '+str(bin_model2.pvalues[1]))\n",
    "\n",
    "xticks(np.arange(psth_start,psth_end+1,500),np.arange(psth_start/1000,psth_end/1000+1,500/1000))\n",
    "xlabel('Time from recall (s)')\n",
    "ylabel('Ripple rate (events/s)')\n",
    "ylim = 0.7 # keep it here since occasionally CIs get kinda high\n",
    "ax.set_ylim(0,ylim)\n",
    "ax.set_xlim(psth_start-100,psth_end+100)\n",
    "plot([ax.get_xlim()[0],ax.get_xlim()[1]],[0.35,0.35],linewidth=1,linestyle='--',color=(0.8,0.8,0.8),label='_nolegend_')\n",
    "plot([0,0],[ax.get_ylim()[0],ax.get_ylim()[1]],linewidth=1,linestyle='-',color=(0,0,0),label='_nolegend_')\n",
    "ax.legend({'CA1','Dentate gyrus'})\n",
    "tight_layout()\n",
    "plt.show()\n",
    "a=1;\n",
    "a=1;"
   ]
  },
  {
   "cell_type": "markdown",
   "metadata": {},
   "source": [
    "## Single data plots"
   ]
  },
  {
   "cell_type": "code",
   "execution_count": 192,
   "metadata": {},
   "outputs": [
    {
     "data": {
      "text/plain": [
       "(<Figure size 432x288 with 1 Axes>,\n",
       " <matplotlib.axes._subplots.AxesSubplot at 0x2ae2808bbd90>)"
      ]
     },
     "execution_count": 192,
     "metadata": {},
     "output_type": "execute_result"
    },
    {
     "ename": "KeyError",
     "evalue": "'session_name_array'",
     "output_type": "error",
     "traceback": [
      "\u001b[0;31m---------------------------------------------------------------------------\u001b[0m",
      "\u001b[0;31mKeyError\u001b[0m                                  Traceback (most recent call last)",
      "\u001b[0;32m<ipython-input-192-56395f5713c9>\u001b[0m in \u001b[0;36m<module>\u001b[0;34m\u001b[0m\n\u001b[1;32m     32\u001b[0m     \u001b[0mdat\u001b[0m \u001b[0;34m=\u001b[0m \u001b[0mpickle\u001b[0m\u001b[0;34m.\u001b[0m\u001b[0mload\u001b[0m\u001b[0;34m(\u001b[0m\u001b[0mf\u001b[0m\u001b[0;34m)\u001b[0m\u001b[0;34m\u001b[0m\u001b[0;34m\u001b[0m\u001b[0m\n\u001b[1;32m     33\u001b[0m     \u001b[0mbin_centers\u001b[0m \u001b[0;34m=\u001b[0m \u001b[0mdat\u001b[0m\u001b[0;34m[\u001b[0m\u001b[0;34m'bin_centers'\u001b[0m\u001b[0;34m]\u001b[0m\u001b[0;34m;\u001b[0m \u001b[0mPSTH\u001b[0m \u001b[0;34m=\u001b[0m \u001b[0mdat\u001b[0m\u001b[0;34m[\u001b[0m\u001b[0;34m'PSTH'\u001b[0m\u001b[0;34m]\u001b[0m\u001b[0;34m;\u001b[0m \u001b[0mCI_plot\u001b[0m \u001b[0;34m=\u001b[0m \u001b[0mdat\u001b[0m\u001b[0;34m[\u001b[0m\u001b[0;34m'CI_plot'\u001b[0m\u001b[0;34m]\u001b[0m\u001b[0;34m;\u001b[0m \u001b[0mnum_trials\u001b[0m \u001b[0;34m=\u001b[0m \u001b[0mdat\u001b[0m\u001b[0;34m[\u001b[0m\u001b[0;34m'num_trials'\u001b[0m\u001b[0;34m]\u001b[0m\u001b[0;34m;\u001b[0m\u001b[0;34m\u001b[0m\u001b[0;34m\u001b[0m\u001b[0m\n\u001b[0;32m---> 34\u001b[0;31m     \u001b[0mbin_model1\u001b[0m \u001b[0;34m=\u001b[0m \u001b[0mdat\u001b[0m\u001b[0;34m[\u001b[0m\u001b[0;34m'bin_model1'\u001b[0m\u001b[0;34m]\u001b[0m\u001b[0;34m;\u001b[0m \u001b[0mbin_model2\u001b[0m \u001b[0;34m=\u001b[0m \u001b[0mdat\u001b[0m\u001b[0;34m[\u001b[0m\u001b[0;34m'bin_model2'\u001b[0m\u001b[0;34m]\u001b[0m\u001b[0;34m;\u001b[0m \u001b[0mss\u001b[0m \u001b[0;34m=\u001b[0m \u001b[0mdat\u001b[0m\u001b[0;34m[\u001b[0m\u001b[0;34m'session_name_array'\u001b[0m\u001b[0;34m]\u001b[0m\u001b[0;34m\u001b[0m\u001b[0;34m\u001b[0m\u001b[0m\n\u001b[0m\u001b[1;32m     35\u001b[0m \u001b[0;34m\u001b[0m\u001b[0m\n\u001b[1;32m     36\u001b[0m \u001b[0;31m# make plot\u001b[0m\u001b[0;34m\u001b[0m\u001b[0;34m\u001b[0m\u001b[0;34m\u001b[0m\u001b[0m\n",
      "\u001b[0;31mKeyError\u001b[0m: 'session_name_array'"
     ]
    },
    {
     "data": {
      "image/png": "[encoded data removed]",
      "text/plain": [
       "<Figure size 432x288 with 1 Axes>"
      ]
     },
     "metadata": {
      "needs_background": "light"
     },
     "output_type": "display_data"
    }
   ],
   "source": [
    "# load data from each\n",
    "\n",
    "selected_period = 'surrounding_recall' \n",
    "remove_soz_ictal = False\n",
    "recall_type_switch = 3 # 0 for original, 1 for only those with subsequent, 2 for second recalls only, 3 for isolated recalls\n",
    "region_name = 'ENT' #'ENT' #'HPC' #HPC_ENT #ENT #HPC # PHC \n",
    "location_selected = '' #'ca1' # 'ca3' # 'dg' 'ca1' # sub # left hippocampus # right hippocampus # hippocampus\n",
    "# # (leave as '' if not HPC)\n",
    "\n",
    "legend_name = 'Entorhinal cortex' #'Parahippocampal cortex' #'Entorhinal'\n",
    "color = (0.5,0.5,0) # (0.5,0.5,0)\n",
    "line_dist = 0.175\n",
    "\n",
    "pad = 2\n",
    "psth_start = -2000\n",
    "psth_end = 2000\n",
    "stats_bin = 500 # time bin width in ms to test stats on\n",
    "first_start = -1600 # going to make sequence of 3 bins and test 1st v. 3rd\n",
    "first_end = -100\n",
    "second_start = 200 # same idea\n",
    "second_end = 1700\n",
    "\n",
    "# get strings for path name for save and loading cluster data\n",
    "soz_label,recall_selection_name,subfolder = getSWRpathInfo(remove_soz_ictal,recall_type_switch,selected_period)\n",
    "\n",
    "subplots(1,1,figsize=(6,4)); ax2 = plt.gca()\n",
    "\n",
    "path_name = '/home1/john/SWR/figures/'+subfolder\n",
    "fn = os.path.join(path_name,\n",
    "    'SWR_'+exp+'_'+region_name+'_'+location_selected+'_'+str(recall_type_switch)+'_'+soz_label+'.p')            \n",
    "with open(fn,'rb') as f:\n",
    "    dat = pickle.load(f)\n",
    "    bin_centers = dat['bin_centers']; PSTH = dat['PSTH']; CI_plot = dat['CI_plot']; num_trials = dat['num_trials'];\n",
    "    bin_model1 = dat['bin_model1']; bin_model2 = dat['bin_model2']; ss = dat['session_name_array']\n",
    "\n",
    "# make plot\n",
    "xr = bin_centers #np.arange(psth_start,psth_end,binsize)\n",
    "\n",
    "# plot smoothed mean +/- CI\n",
    "if pad > 0:\n",
    "    plot(xr[pad:-pad],PSTH[pad:-pad],color=color);\n",
    "    fill_between(xr[pad:-pad], PSTH[pad:-pad]-CI_plot[0,:], PSTH[pad:-pad]+CI_plot[0,:],\n",
    "                 color=color, alpha = 0.3, label='_nolegend_');\n",
    "else:\n",
    "    plot(xr,PSTH);\n",
    "    fill_between(xr, PSTH-CI_plot[0,:], PSTH+CI_plot[0,:],\n",
    "                 color=color, alpha = 0.3, label='_nolegend_');\n",
    "\n",
    "# plot bands of significance\n",
    "if bin_model1.pvalues[1] < 0.05:\n",
    "    plot([first_end-stats_bin,first_end],[line_dist,line_dist],'--',\n",
    "         color=color,label='_nolegend_');\n",
    "if bin_model2.pvalues[1] < 0.05:\n",
    "    plot([second_start,second_start+stats_bin],[line_dist,line_dist],'--',\n",
    "         color=color,label='_nolegend_');\n",
    "print(legend_name+': '+str(num_trials)+' recalls')\n",
    "print('Test 1 p-value: '+str(bin_model1.pvalues[1]))\n",
    "print('Test 2 p-value: '+str(bin_model2.pvalues[1]))\n",
    "\n",
    "xticks(np.arange(psth_start,psth_end+1,500),np.arange(psth_start/1000,psth_end/1000+1,500/1000))\n",
    "xlabel('Time from recall (s)')\n",
    "ylabel('Ripple rate (events/s)')\n",
    "ylim = 0.7 # keep it here since occasionally CIs get kinda high\n",
    "ax2.set_ylim(0,ylim)\n",
    "ax2.set_xlim(psth_start-100,psth_end+100)\n",
    "plot([ax2.get_xlim()[0],ax2.get_xlim()[1]],[0.35,0.35],linewidth=1,linestyle='--',color=(0.8,0.8,0.8),label='_nolegend_')\n",
    "plot([0,0],[ax2.get_ylim()[0],ax2.get_ylim()[1]],linewidth=1,linestyle='-',color=(0,0,0),label='_nolegend_')\n",
    "plt.legend({legend_name})\n",
    "tight_layout()\n",
    "print(legend_name+': '+str(num_trials)+' recalls')\n",
    "print('Test 1 p-value: '+str(bin_model1.pvalues[1]))\n",
    "print('Test 2 p-value: '+str(bin_model2.pvalues[1]))\n",
    "a=1;\n",
    "soz_label,recall_selection_name,subfolder = getSWRpathInfo(remove_soz_ictal,recall_type_switch,selected_period)"
   ]
  },
  {
   "cell_type": "markdown",
   "metadata": {},
   "source": [
    "# Comparison plots for clustering"
   ]
  },
  {
   "cell_type": "code",
   "execution_count": 183,
   "metadata": {},
   "outputs": [
    {
     "name": "stderr",
     "output_type": "stream",
     "text": [
      "/home1/john/anaconda3/envs/env1/lib/python3.7/site-packages/statsmodels/regression/mixed_linear_model.py:2094: ConvergenceWarning: The MLE may be on the boundary of the parameter space.\n",
      "  warnings.warn(msg, ConvergenceWarning)\n"
     ]
    },
    {
     "name": "stdout",
     "output_type": "stream",
     "text": [
      "High clustering lists: 5572 recalls\n",
      "Low clustering lists: 5992 recalls\n",
      "Test 1 comparison p-value: 0.026720014977698506\n",
      "Test 2 comparison p-value: 0.6526245031374507\n"
     ]
    },
    {
     "data": {
      "image/png": "[encoded data removed]",
      "text/plain": [
       "<Figure size 432x288 with 1 Axes>"
      ]
     },
     "metadata": {
      "needs_background": "light"
     },
     "output_type": "display_data"
    }
   ],
   "source": [
    "# load data from each\n",
    "\n",
    "selected_period = 'surrounding_recall' \n",
    "remove_soz_ictal = False\n",
    "recall_type_switch = 3 # 0 for original, 1 for only those with subsequent, 2 for second recalls only, 3 for isolated recalls\n",
    "region_name = 'HPC'\n",
    "# location_selected = 'ca1' # 'ca3' # 'dg' 'ca1' # sub # left hippocampus # right hippocampus # hippocampus\n",
    "# # (leave as '' if not HPC)\n",
    "\n",
    "min_recalls = 4 # minimum recalls/list\n",
    "\n",
    "pad = 2\n",
    "psth_start = -2000\n",
    "psth_end = 2000\n",
    "stats_bin = 500 # time bin width in ms to test stats on\n",
    "first_start = -1600 # going to make sequence of 3 bins and test 1st v. 3rd\n",
    "first_end = -100\n",
    "second_start = 200 # same idea\n",
    "second_end = 1700\n",
    "\n",
    "# get strings for path name for save and loading cluster data\n",
    "soz_label,recall_selection_name,subfolder = getSWRpathInfo(remove_soz_ictal,recall_type_switch,selected_period)\n",
    "\n",
    "session_accum = np.array([])\n",
    "subject_accum = copy(session_accum)\n",
    "ripple_accum1 = copy(session_accum)\n",
    "ripple_accum2 = copy(session_accum)\n",
    "category = copy(session_accum)\n",
    "\n",
    "for p,upper_label in enumerate(['upper','lower']):\n",
    "    \n",
    "    location_selected = ''\n",
    "    if p==0:\n",
    "        subplots(1,1,figsize=(6,4)); ax = plt.gca()\n",
    "        color = (0,0,0)\n",
    "        line_dist = 0.175\n",
    "    else:\n",
    "        color = (0,0.7,0)\n",
    "        line_dist = 0.15\n",
    "\n",
    "    path_name = '/home1/john/SWR/figures/'+subfolder\n",
    "    fn = os.path.join(path_name,\n",
    "        'SWRCLUSTER_'+exp+'_'+region_name+'_'+location_selected+'_'+str(recall_type_switch)+\n",
    "                      '_'+soz_label+'_recalls-'+str(min_recalls)+'_'+upper_label+'.p')          \n",
    "    with open(fn,'rb') as f:\n",
    "        dat = pickle.load(f)\n",
    "        bin_centers = dat['bin_centers']; PSTH = dat['PSTH']; CI_plot = dat['CI_plot']; num_trials = dat['num_trials'];\n",
    "        bin_model1 = dat['bin_model1']; bin_model2 = dat['bin_model2'];\n",
    "        binned_first_stats_array = dat['binned_first_stats_array'];binned_second_stats_array = dat['binned_second_stats_array'];\n",
    "        subject_name_array = dat['subject_name_array'];session_name_array = dat['session_name_array']\n",
    "\n",
    "    # make plot\n",
    "    xr = bin_centers #np.arange(psth_start,psth_end,binsize)\n",
    "\n",
    "    # plot smoothed mean +/- CI\n",
    "    if pad > 0:\n",
    "        plot(xr[pad:-pad],PSTH[pad:-pad],color=color)\n",
    "        fill_between(xr[pad:-pad], PSTH[pad:-pad]-CI_plot[0,:], PSTH[pad:-pad]+CI_plot[0,:],\n",
    "                     color=color, alpha = 0.3, label='_nolegend_')\n",
    "    else:\n",
    "        plot(xr,PSTH)\n",
    "        fill_between(xr, PSTH-CI_plot[0,:], PSTH+CI_plot[0,:],\n",
    "                     color=color, alpha = 0.3, label='_nolegend_')\n",
    "\n",
    "    ## for comparison do ME stats between high and low clustering directly\n",
    "    session_accum = np.append(session_accum,session_name_array)\n",
    "    subject_accum = np.append(subject_accum,subject_name_array)\n",
    "    ripple_accum1 = np.append(ripple_accum1,binned_first_stats_array[:,2]) # 0:2 are -1600:-100 in 500 ms bins\n",
    "    ripple_accum2 = np.append(ripple_accum2,binned_second_stats_array[:,0]) # 0:2 are 200:1700 in 500 ms bins\n",
    "    category = np.append(category,np.tile(p,len(session_name_array)))\n",
    "    \n",
    "    if p == 1:  # have predictors accumulated for comparison now               \n",
    "        import statsmodels.formula.api as smf\n",
    "        \n",
    "        # pre-recall bump 1st\n",
    "        bin_df = pd.DataFrame(data={'session':session_accum,'subject':subject_accum,\n",
    "                               'category':category,'ripple_rates':ripple_accum1})\n",
    "        vc = {'session':'0+session'}\n",
    "        sig_bin_model = smf.mixedlm(\"ripple_rates ~ category\", bin_df, groups=\"subject\", vc_formula=vc)\n",
    "        bin_model1 = sig_bin_model.fit(reml=False, method='nm')\n",
    "        \n",
    "        # post_recall valley 2nd\n",
    "        bin_df = pd.DataFrame(data={'session':session_accum,'subject':subject_accum,\n",
    "                               'category':category,'ripple_rates':ripple_accum2})\n",
    "        sig_bin_model = smf.mixedlm(\"ripple_rates ~ category\", bin_df, groups=\"subject\", vc_formula=vc)\n",
    "        bin_model2 = sig_bin_model.fit(reml=False, method='nm')        \n",
    "        \n",
    "        if bin_model1.pvalues[1] < 0.05:\n",
    "            plot([-600,-600+stats_bin],[line_dist,line_dist],'--',\n",
    "                 color=(0,0,0),label='_nolegend_')\n",
    "        if bin_model2.pvalues[1] < 0.05:\n",
    "            plot([second_start,second_start+stats_bin],[line_dist,line_dist],'--',\n",
    "                 color=(0,0,0),label='_nolegend_')\n",
    "            \n",
    "        print('High clustering lists'+': '+str(sum(category==0))+' recalls')\n",
    "        print('Low clustering lists'+': '+str(sum(category==1))+' recalls')\n",
    "        print('Test 1 comparison p-value: '+str(bin_model1.pvalues[1]))\n",
    "        print('Test 2 comparison p-value: '+str(bin_model2.pvalues[1]))\n",
    "\n",
    "xticks(np.arange(psth_start,psth_end+1,500),np.arange(psth_start/1000,psth_end/1000+1,500/1000))\n",
    "xlabel('Time from recall (s)')\n",
    "ylabel('Ripple rate (events/s)')\n",
    "ylim = 0.7 # keep it here since occasionally CIs get kinda high\n",
    "ax.set_ylim(0,ylim)\n",
    "ax.set_xlim(psth_start-100,psth_end+100)\n",
    "plot([ax.get_xlim()[0],ax.get_xlim()[1]],[0.35,0.35],linewidth=1,linestyle='--',color=(0.8,0.8,0.8),label='_nolegend_')\n",
    "plot([0,0],[ax.get_ylim()[0],ax.get_ylim()[1]],linewidth=1,linestyle='-',color=(0,0,0),label='_nolegend_')\n",
    "ax.legend({'High-clustering lists','Low-clustering lists'})\n",
    "tight_layout()\n",
    "a=1;"
   ]
  },
  {
   "cell_type": "markdown",
   "metadata": {},
   "source": [
    "## look through individual subjects to compare HPC v. ENT and HPC v. PHC directly"
   ]
  },
  {
   "cell_type": "code",
   "execution_count": 184,
   "metadata": {},
   "outputs": [
    {
     "name": "stdout",
     "output_type": "stream",
     "text": [
      "--Call--\n",
      "> \u001b[0;32m/home1/john/anaconda3/envs/env1/lib/python3.7/site-packages/IPython/core/displayhook.py\u001b[0m(252)\u001b[0;36m__call__\u001b[0;34m()\u001b[0m\n",
      "\u001b[0;32m    251 \u001b[0;31m\u001b[0;34m\u001b[0m\u001b[0m\n",
      "\u001b[0m\u001b[0;32m--> 252 \u001b[0;31m    \u001b[0;32mdef\u001b[0m \u001b[0m__call__\u001b[0m\u001b[0;34m(\u001b[0m\u001b[0mself\u001b[0m\u001b[0;34m,\u001b[0m \u001b[0mresult\u001b[0m\u001b[0;34m=\u001b[0m\u001b[0;32mNone\u001b[0m\u001b[0;34m)\u001b[0m\u001b[0;34m:\u001b[0m\u001b[0;34m\u001b[0m\u001b[0;34m\u001b[0m\u001b[0m\n",
      "\u001b[0m\u001b[0;32m    253 \u001b[0;31m        \"\"\"Printing with history cache management.\n",
      "\u001b[0m\n"
     ]
    },
    {
     "name": "stdin",
     "output_type": "stream",
     "text": [
      "ipdb>  u\n"
     ]
    },
    {
     "name": "stdout",
     "output_type": "stream",
     "text": [
      "> \u001b[0;32m<ipython-input-184-943f513cfba0>\u001b[0m(30)\u001b[0;36m<module>\u001b[0;34m()\u001b[0m\n",
      "\u001b[0;32m     29 \u001b[0;31m\u001b[0;34m\u001b[0m\u001b[0m\n",
      "\u001b[0m\u001b[0;32m---> 30 \u001b[0;31m\u001b[0;32mimport\u001b[0m \u001b[0mipdb\u001b[0m\u001b[0;34m;\u001b[0m \u001b[0mipdb\u001b[0m\u001b[0;34m.\u001b[0m\u001b[0mset_trace\u001b[0m\u001b[0;34m(\u001b[0m\u001b[0;34m)\u001b[0m\u001b[0;34m\u001b[0m\u001b[0;34m\u001b[0m\u001b[0m\n",
      "\u001b[0m\u001b[0;32m     31 \u001b[0;31m\u001b[0;32mfor\u001b[0m \u001b[0mp\u001b[0m\u001b[0;34m,\u001b[0m\u001b[0mupper_label\u001b[0m \u001b[0;32min\u001b[0m \u001b[0menumerate\u001b[0m\u001b[0;34m(\u001b[0m\u001b[0mregions_to_compare\u001b[0m\u001b[0;34m)\u001b[0m\u001b[0;34m:\u001b[0m\u001b[0;34m\u001b[0m\u001b[0;34m\u001b[0m\u001b[0m\n",
      "\u001b[0m\n"
     ]
    },
    {
     "name": "stdin",
     "output_type": "stream",
     "text": [
      "ipdb>  l\n"
     ]
    },
    {
     "name": "stdout",
     "output_type": "stream",
     "text": [
      "\u001b[1;32m     25 \u001b[0m\u001b[0msubject_accum\u001b[0m \u001b[0;34m=\u001b[0m \u001b[0mcopy\u001b[0m\u001b[0;34m(\u001b[0m\u001b[0msession_accum\u001b[0m\u001b[0;34m)\u001b[0m\u001b[0;34m\u001b[0m\u001b[0;34m\u001b[0m\u001b[0m\n",
      "\u001b[1;32m     26 \u001b[0m\u001b[0mripple_accum1\u001b[0m \u001b[0;34m=\u001b[0m \u001b[0mcopy\u001b[0m\u001b[0;34m(\u001b[0m\u001b[0msession_accum\u001b[0m\u001b[0;34m)\u001b[0m\u001b[0;34m\u001b[0m\u001b[0;34m\u001b[0m\u001b[0m\n",
      "\u001b[1;32m     27 \u001b[0m\u001b[0mripple_accum2\u001b[0m \u001b[0;34m=\u001b[0m \u001b[0mcopy\u001b[0m\u001b[0;34m(\u001b[0m\u001b[0msession_accum\u001b[0m\u001b[0;34m)\u001b[0m\u001b[0;34m\u001b[0m\u001b[0;34m\u001b[0m\u001b[0m\n",
      "\u001b[1;32m     28 \u001b[0m\u001b[0mcategory\u001b[0m \u001b[0;34m=\u001b[0m \u001b[0mcopy\u001b[0m\u001b[0;34m(\u001b[0m\u001b[0msession_accum\u001b[0m\u001b[0;34m)\u001b[0m\u001b[0;34m\u001b[0m\u001b[0;34m\u001b[0m\u001b[0m\n",
      "\u001b[1;32m     29 \u001b[0m\u001b[0;34m\u001b[0m\u001b[0m\n",
      "\u001b[0;32m---> 30 \u001b[0;31m\u001b[0;32mimport\u001b[0m \u001b[0mipdb\u001b[0m\u001b[0;34m;\u001b[0m \u001b[0mipdb\u001b[0m\u001b[0;34m.\u001b[0m\u001b[0mset_trace\u001b[0m\u001b[0;34m(\u001b[0m\u001b[0;34m)\u001b[0m\u001b[0;34m\u001b[0m\u001b[0;34m\u001b[0m\u001b[0m\n",
      "\u001b[0m\u001b[1;32m     31 \u001b[0m\u001b[0;32mfor\u001b[0m \u001b[0mp\u001b[0m\u001b[0;34m,\u001b[0m\u001b[0mupper_label\u001b[0m \u001b[0;32min\u001b[0m \u001b[0menumerate\u001b[0m\u001b[0;34m(\u001b[0m\u001b[0mregions_to_compare\u001b[0m\u001b[0;34m)\u001b[0m\u001b[0;34m:\u001b[0m\u001b[0;34m\u001b[0m\u001b[0;34m\u001b[0m\u001b[0m\n",
      "\u001b[1;32m     32 \u001b[0m\u001b[0;34m\u001b[0m\u001b[0m\n",
      "\u001b[1;32m     33 \u001b[0m    \u001b[0mlocation_selected\u001b[0m \u001b[0;34m=\u001b[0m \u001b[0;34m''\u001b[0m\u001b[0;34m\u001b[0m\u001b[0;34m\u001b[0m\u001b[0m\n",
      "\u001b[1;32m     34 \u001b[0m    \u001b[0;32mif\u001b[0m \u001b[0mp\u001b[0m\u001b[0;34m==\u001b[0m\u001b[0;36m0\u001b[0m\u001b[0;34m:\u001b[0m\u001b[0;34m\u001b[0m\u001b[0;34m\u001b[0m\u001b[0m\n",
      "\u001b[1;32m     35 \u001b[0m        \u001b[0msubplots\u001b[0m\u001b[0;34m(\u001b[0m\u001b[0;36m1\u001b[0m\u001b[0;34m,\u001b[0m\u001b[0;36m1\u001b[0m\u001b[0;34m,\u001b[0m\u001b[0mfigsize\u001b[0m\u001b[0;34m=\u001b[0m\u001b[0;34m(\u001b[0m\u001b[0;36m6\u001b[0m\u001b[0;34m,\u001b[0m\u001b[0;36m4\u001b[0m\u001b[0;34m)\u001b[0m\u001b[0;34m)\u001b[0m\u001b[0;34m;\u001b[0m \u001b[0max\u001b[0m \u001b[0;34m=\u001b[0m \u001b[0mplt\u001b[0m\u001b[0;34m.\u001b[0m\u001b[0mgca\u001b[0m\u001b[0;34m(\u001b[0m\u001b[0;34m)\u001b[0m\u001b[0;34m\u001b[0m\u001b[0;34m\u001b[0m\u001b[0m\n",
      "\n"
     ]
    },
    {
     "name": "stdin",
     "output_type": "stream",
     "text": [
      "ipdb>  session_name_array\n"
     ]
    },
    {
     "name": "stdout",
     "output_type": "stream",
     "text": [
      "array(['R1002P-0', 'R1002P-0', 'R1002P-0', ..., 'R1342M-0', 'R1342M-0',\n",
      "       'R1342M-0'], dtype='<U8')\n",
      "--KeyboardInterrupt--\n"
     ]
    },
    {
     "name": "stdin",
     "output_type": "stream",
     "text": [
      "ipdb>  q\n"
     ]
    },
    {
     "ename": "BdbQuit",
     "evalue": "",
     "output_type": "error",
     "traceback": [
      "\u001b[0;31m---------------------------------------------------------------------------\u001b[0m",
      "\u001b[0;31mBdbQuit\u001b[0m                                   Traceback (most recent call last)",
      "\u001b[0;32m<ipython-input-184-943f513cfba0>\u001b[0m in \u001b[0;36m<module>\u001b[0;34m\u001b[0m\n\u001b[1;32m     28\u001b[0m \u001b[0mcategory\u001b[0m \u001b[0;34m=\u001b[0m \u001b[0mcopy\u001b[0m\u001b[0;34m(\u001b[0m\u001b[0msession_accum\u001b[0m\u001b[0;34m)\u001b[0m\u001b[0;34m\u001b[0m\u001b[0;34m\u001b[0m\u001b[0m\n\u001b[1;32m     29\u001b[0m \u001b[0;34m\u001b[0m\u001b[0m\n\u001b[0;32m---> 30\u001b[0;31m \u001b[0;32mimport\u001b[0m \u001b[0mipdb\u001b[0m\u001b[0;34m;\u001b[0m \u001b[0mipdb\u001b[0m\u001b[0;34m.\u001b[0m\u001b[0mset_trace\u001b[0m\u001b[0;34m(\u001b[0m\u001b[0;34m)\u001b[0m\u001b[0;34m\u001b[0m\u001b[0;34m\u001b[0m\u001b[0m\n\u001b[0m\u001b[1;32m     31\u001b[0m \u001b[0;32mfor\u001b[0m \u001b[0mp\u001b[0m\u001b[0;34m,\u001b[0m\u001b[0mupper_label\u001b[0m \u001b[0;32min\u001b[0m \u001b[0menumerate\u001b[0m\u001b[0;34m(\u001b[0m\u001b[0mregions_to_compare\u001b[0m\u001b[0;34m)\u001b[0m\u001b[0;34m:\u001b[0m\u001b[0;34m\u001b[0m\u001b[0;34m\u001b[0m\u001b[0m\n\u001b[1;32m     32\u001b[0m \u001b[0;34m\u001b[0m\u001b[0m\n",
      "\u001b[0;32m~/anaconda3/envs/env1/lib/python3.7/site-packages/IPython/core/displayhook.py\u001b[0m in \u001b[0;36m__call__\u001b[0;34m(self, result)\u001b[0m\n\u001b[1;32m    250\u001b[0m         \u001b[0msys\u001b[0m\u001b[0;34m.\u001b[0m\u001b[0mstdout\u001b[0m\u001b[0;34m.\u001b[0m\u001b[0mflush\u001b[0m\u001b[0;34m(\u001b[0m\u001b[0;34m)\u001b[0m\u001b[0;34m\u001b[0m\u001b[0;34m\u001b[0m\u001b[0m\n\u001b[1;32m    251\u001b[0m \u001b[0;34m\u001b[0m\u001b[0m\n\u001b[0;32m--> 252\u001b[0;31m     \u001b[0;32mdef\u001b[0m \u001b[0m__call__\u001b[0m\u001b[0;34m(\u001b[0m\u001b[0mself\u001b[0m\u001b[0;34m,\u001b[0m \u001b[0mresult\u001b[0m\u001b[0;34m=\u001b[0m\u001b[0;32mNone\u001b[0m\u001b[0;34m)\u001b[0m\u001b[0;34m:\u001b[0m\u001b[0;34m\u001b[0m\u001b[0;34m\u001b[0m\u001b[0m\n\u001b[0m\u001b[1;32m    253\u001b[0m         \"\"\"Printing with history cache management.\n\u001b[1;32m    254\u001b[0m \u001b[0;34m\u001b[0m\u001b[0m\n",
      "\u001b[0;32m~/anaconda3/envs/env1/lib/python3.7/bdb.py\u001b[0m in \u001b[0;36mtrace_dispatch\u001b[0;34m(self, frame, event, arg)\u001b[0m\n\u001b[1;32m     88\u001b[0m             \u001b[0;32mreturn\u001b[0m \u001b[0mself\u001b[0m\u001b[0;34m.\u001b[0m\u001b[0mdispatch_line\u001b[0m\u001b[0;34m(\u001b[0m\u001b[0mframe\u001b[0m\u001b[0;34m)\u001b[0m\u001b[0;34m\u001b[0m\u001b[0;34m\u001b[0m\u001b[0m\n\u001b[1;32m     89\u001b[0m         \u001b[0;32mif\u001b[0m \u001b[0mevent\u001b[0m \u001b[0;34m==\u001b[0m \u001b[0;34m'call'\u001b[0m\u001b[0;34m:\u001b[0m\u001b[0;34m\u001b[0m\u001b[0;34m\u001b[0m\u001b[0m\n\u001b[0;32m---> 90\u001b[0;31m             \u001b[0;32mreturn\u001b[0m \u001b[0mself\u001b[0m\u001b[0;34m.\u001b[0m\u001b[0mdispatch_call\u001b[0m\u001b[0;34m(\u001b[0m\u001b[0mframe\u001b[0m\u001b[0;34m,\u001b[0m \u001b[0marg\u001b[0m\u001b[0;34m)\u001b[0m\u001b[0;34m\u001b[0m\u001b[0;34m\u001b[0m\u001b[0m\n\u001b[0m\u001b[1;32m     91\u001b[0m         \u001b[0;32mif\u001b[0m \u001b[0mevent\u001b[0m \u001b[0;34m==\u001b[0m \u001b[0;34m'return'\u001b[0m\u001b[0;34m:\u001b[0m\u001b[0;34m\u001b[0m\u001b[0;34m\u001b[0m\u001b[0m\n\u001b[1;32m     92\u001b[0m             \u001b[0;32mreturn\u001b[0m \u001b[0mself\u001b[0m\u001b[0;34m.\u001b[0m\u001b[0mdispatch_return\u001b[0m\u001b[0;34m(\u001b[0m\u001b[0mframe\u001b[0m\u001b[0;34m,\u001b[0m \u001b[0marg\u001b[0m\u001b[0;34m)\u001b[0m\u001b[0;34m\u001b[0m\u001b[0;34m\u001b[0m\u001b[0m\n",
      "\u001b[0;32m~/anaconda3/envs/env1/lib/python3.7/bdb.py\u001b[0m in \u001b[0;36mdispatch_call\u001b[0;34m(self, frame, arg)\u001b[0m\n\u001b[1;32m    133\u001b[0m             \u001b[0;32mreturn\u001b[0m \u001b[0mself\u001b[0m\u001b[0;34m.\u001b[0m\u001b[0mtrace_dispatch\u001b[0m\u001b[0;34m\u001b[0m\u001b[0;34m\u001b[0m\u001b[0m\n\u001b[1;32m    134\u001b[0m         \u001b[0mself\u001b[0m\u001b[0;34m.\u001b[0m\u001b[0muser_call\u001b[0m\u001b[0;34m(\u001b[0m\u001b[0mframe\u001b[0m\u001b[0;34m,\u001b[0m \u001b[0marg\u001b[0m\u001b[0;34m)\u001b[0m\u001b[0;34m\u001b[0m\u001b[0;34m\u001b[0m\u001b[0m\n\u001b[0;32m--> 135\u001b[0;31m         \u001b[0;32mif\u001b[0m \u001b[0mself\u001b[0m\u001b[0;34m.\u001b[0m\u001b[0mquitting\u001b[0m\u001b[0;34m:\u001b[0m \u001b[0;32mraise\u001b[0m \u001b[0mBdbQuit\u001b[0m\u001b[0;34m\u001b[0m\u001b[0;34m\u001b[0m\u001b[0m\n\u001b[0m\u001b[1;32m    136\u001b[0m         \u001b[0;32mreturn\u001b[0m \u001b[0mself\u001b[0m\u001b[0;34m.\u001b[0m\u001b[0mtrace_dispatch\u001b[0m\u001b[0;34m\u001b[0m\u001b[0;34m\u001b[0m\u001b[0m\n\u001b[1;32m    137\u001b[0m \u001b[0;34m\u001b[0m\u001b[0m\n",
      "\u001b[0;31mBdbQuit\u001b[0m: "
     ]
    }
   ],
   "source": [
    "# load data from each\n",
    "\n",
    "selected_period = 'surrounding_recall' \n",
    "remove_soz_ictal = False\n",
    "recall_type_switch = 3 # 0 for original, 1 for only those with subsequent, 2 for second recalls only, 3 for isolated recalls\n",
    "regions_to_compare = ['HPC','ENT'] # 'PHC'\n",
    "location_selected = 'ca1' # 'ca3' # 'dg' 'ca1' # sub # left hippocampus # right hippocampus # hippocampus\n",
    "# put '' for no subregions, len=1 in for subregion for HPC above, or len=2 (e.g. ['ca1','dg']) to compare regions\n",
    "\n",
    "pad = 2\n",
    "psth_start = -2000\n",
    "psth_end = 2000\n",
    "stats_bin = 500 # time bin width in ms to test stats on\n",
    "first_start = -1600 # going to make sequence of 3 bins and test 1st v. 3rd\n",
    "first_end = -100\n",
    "second_start = 200 # same idea\n",
    "second_end = 1700\n",
    "\n",
    "# get strings for path name for save and loading cluster data\n",
    "soz_label,recall_selection_name,subfolder = getSWRpathInfo(remove_soz_ictal,recall_type_switch,selected_period)\n",
    "\n",
    "session_accum = np.array([])\n",
    "subject_accum = copy(session_accum)\n",
    "ripple_accum1 = copy(session_accum)\n",
    "ripple_accum2 = copy(session_accum)\n",
    "category = copy(session_accum)\n",
    "\n",
    "import ipdb; ipdb.set_trace()\n",
    "for p,region in enumerate(regions_to_compare):\n",
    "    \n",
    "    # select subregion if necessary\n",
    "    temp_loc = ''\n",
    "    if len(location_selected) == 2:\n",
    "        temp_loc = location_selected[p]\n",
    "    elif len(location_selected) == 1:\n",
    "        if region == 'HPC':\n",
    "            temp_loc = location_selected            \n",
    "\n",
    "    path_name = '/home1/john/SWR/figures/'+subfolder\n",
    "    fn = os.path.join(path_name,\n",
    "        'SWRCLUSTER_'+exp+'_'+region+'_'+temp_loc+'_'+str(recall_type_switch)+\n",
    "                      '_'+soz_label+'.p')          \n",
    "    with open(fn,'rb') as f:\n",
    "        dat = pickle.load(f)\n",
    "        if p == 0:\n",
    "            data1_test1 = dat['binned_first_stats_array']; data1_test2 = dat['binned_second_stats_array'];\n",
    "            subs1 = dat['subject_name_array']; sessions1 = dat['session_name_array']\n",
    "        else:\n",
    "            data2_test1 = dat['binned_first_stats_array']; data2_test2 = dat['binned_second_stats_array'];\n",
    "            subs2 = dat['subject_name_array']; sessions2 = dat['session_name_array']\n",
    "\n",
    "# now you have sets of data loaded for two regions along with sub/sess for each-->\n",
    "# search across the subjects to find which subjects have electrodes in both regions\n",
    "\n",
    "unique_subs1 = np.unique(subs1)    \n",
    "unique_subs2 = np.unique(subs2)\n",
    "for s in unique_subs2: # this one should have fewer since always putting non-temp_loc one 2nd\n",
    "    if s in unique_subs1:\n",
    "        # has electrodes in both! Now do a mixed model just for this subject\n",
    "        a=1;\n",
    "\n",
    "\n",
    "import ipdb; ipdb.set_trace()\n",
    "\n",
    "        \n",
    "        \n",
    "## for comparison do ME stats between high and low clustering directly\n",
    "session_accum = np.append(session_accum,session_name_array)\n",
    "subject_accum = np.append(subject_accum,subject_name_array)\n",
    "ripple_accum1 = np.append(ripple_accum1,binned_first_stats_array[:,2]) # 0:2 are -1600:-100 in 500 ms bins\n",
    "ripple_accum2 = np.append(ripple_accum2,binned_second_stats_array[:,0]) # 0:2 are 200:1700 in 500 ms bins\n",
    "category = np.append(category,np.tile(p,len(session_name_array)))\n",
    "    \n",
    "if p == 1:  # have predictors accumulated for comparison now               \n",
    "    import statsmodels.formula.api as smf\n",
    "\n",
    "    # pre-recall bump 1st\n",
    "    bin_df = pd.DataFrame(data={'session':session_accum,'subject':subject_accum,\n",
    "                           'category':category,'ripple_rates':ripple_accum1})\n",
    "    vc = {'session':'0+session'}\n",
    "    sig_bin_model = smf.mixedlm(\"ripple_rates ~ category\", bin_df, groups=\"subject\", vc_formula=vc)\n",
    "    bin_model1 = sig_bin_model.fit(reml=False, method='nm')\n",
    "\n",
    "    # post_recall valley 2nd\n",
    "    bin_df = pd.DataFrame(data={'session':session_accum,'subject':subject_accum,\n",
    "                           'category':category,'ripple_rates':ripple_accum2})\n",
    "    sig_bin_model = smf.mixedlm(\"ripple_rates ~ category\", bin_df, groups=\"subject\", vc_formula=vc)\n",
    "    bin_model2 = sig_bin_model.fit(reml=False, method='nm')        \n",
    "\n",
    "    if bin_model1.pvalues[1] < 0.05:\n",
    "        plot([-600,-600+stats_bin],[line_dist,line_dist],'--',\n",
    "             color=(0,0,0),label='_nolegend_')\n",
    "    if bin_model2.pvalues[1] < 0.05:\n",
    "        plot([second_start,second_start+stats_bin],[line_dist,line_dist],'--',\n",
    "             color=(0,0,0),label='_nolegend_')\n",
    "\n",
    "    print('High clustering lists'+': '+str(sum(category==0))+' recalls')\n",
    "    print('Low clustering lists'+': '+str(sum(category==1))+' recalls')\n",
    "    print('Test 1 comparison p-value: '+str(bin_model1.pvalues[1]))\n",
    "    print('Test 2 comparison p-value: '+str(bin_model2.pvalues[1]))\n",
    "\n",
    "xticks(np.arange(psth_start,psth_end+1,500),np.arange(psth_start/1000,psth_end/1000+1,500/1000))\n",
    "xlabel('Time from recall (s)')\n",
    "ylabel('Ripple rate (events/s)')\n",
    "ylim = 0.7 # keep it here since occasionally CIs get kinda high\n",
    "ax.set_ylim(0,ylim)\n",
    "ax.set_xlim(psth_start-100,psth_end+100)\n",
    "plot([ax.get_xlim()[0],ax.get_xlim()[1]],[0.35,0.35],linewidth=1,linestyle='--',color=(0.8,0.8,0.8),label='_nolegend_')\n",
    "plot([0,0],[ax.get_ylim()[0],ax.get_ylim()[1]],linewidth=1,linestyle='-',color=(0,0,0),label='_nolegend_')\n",
    "ax.legend({'High-clustering lists','Low-clustering lists'})\n",
    "tight_layout()\n",
    "a=1;"
   ]
  },
  {
   "cell_type": "code",
   "execution_count": null,
   "metadata": {},
   "outputs": [],
   "source": []
  }
 ],
 "metadata": {
  "kernelspec": {
   "display_name": "env1",
   "language": "python",
   "name": "env1"
  },
  "language_info": {
   "codemirror_mode": {
    "name": "ipython",
    "version": 3
   },
   "file_extension": ".py",
   "mimetype": "text/x-python",
   "name": "python",
   "nbconvert_exporter": "python",
   "pygments_lexer": "ipython3",
   "version": "3.7.5"
  }
 },
 "nbformat": 4,
 "nbformat_minor": 4
}
