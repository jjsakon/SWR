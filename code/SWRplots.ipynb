{
 "cells": [
  {
   "cell_type": "code",
   "execution_count": 143,
   "metadata": {},
   "outputs": [
    {
     "name": "stdout",
     "output_type": "stream",
     "text": [
      "The autoreload extension is already loaded. To reload it, use:\n",
      "  %reload_ext autoreload\n"
     ]
    }
   ],
   "source": [
    "import pandas as pd; pd.set_option('display.max_columns', 30)\n",
    "import numpy as np\n",
    "from cmlreaders import CMLReader, get_data_index\n",
    "from ptsa.data.filters import ButterworthFilter\n",
    "import sys\n",
    "import os\n",
    "import matplotlib.pyplot as plt\n",
    "%matplotlib inline\n",
    "from pylab import *\n",
    "from copy import copy\n",
    "from scipy import stats\n",
    "import pickle\n",
    "plt.rcParams['pdf.fonttype'] = 42; plt.rcParams['ps.fonttype'] = 42 # fix fonts for Illustrator\n",
    "sys.path.append('/home1/john/Downloads/ptsa_plot-master/')\n",
    "sys.path.append('/home1/john/johnModules')\n",
    "from brain_labels import MTL_labels, LTC_labels, PFC_labels, OTHER_labels, ALL_labels # all location labels\n",
    "%load_ext autoreload\n",
    "%autoreload\n",
    "from general import *\n",
    "from SWRmodule import *\n",
    "\n",
    "df = get_data_index(\"r1\") # all RAM subjects\n",
    "exp = 'FR1'"
   ]
  },
  {
   "cell_type": "markdown",
   "metadata": {},
   "source": [
    "## Plot CA3 v. DG on same plot"
   ]
  },
  {
   "cell_type": "code",
   "execution_count": 129,
   "metadata": {},
   "outputs": [
    {
     "name": "stdout",
     "output_type": "stream",
     "text": [
      "CA1: 3211 recalls\n",
      "Test 1 p-value: 0.8551984742479201\n",
      "Test 2 p-value: 0.8407443735077846\n",
      "Dentate gyrus: 2397 recalls\n",
      "Test 1 p-value: 0.6640347671201461\n",
      "Test 2 p-value: 0.9461553452498093\n"
     ]
    },
    {
     "data": {
      "image/png": "[encoded data removed]",
      "text/plain": [
       "<Figure size 432x288 with 1 Axes>"
      ]
     },
     "metadata": {
      "needs_background": "light"
     },
     "output_type": "display_data"
    }
   ],
   "source": [
    "# load data from each\n",
    "\n",
    "selected_period = 'surrounding_recall' \n",
    "remove_soz_ictal = False\n",
    "recall_type_switch = 1 # 0 for original, 1 for only those with subsequent, 2 for second recalls only, 3 for isolated recalls\n",
    "region_name = 'HPC'\n",
    "# location_selected = 'ca1' # 'ca3' # 'dg' 'ca1' # sub # left hippocampus # right hippocampus # hippocampus\n",
    "# # (leave as '' if not HPC)\n",
    "\n",
    "pad = 2\n",
    "psth_start = -2000\n",
    "psth_end = 2000\n",
    "stats_bin = 500 # time bin width in ms to test stats on\n",
    "first_start = -1600 # going to make sequence of 3 bins and test 1st v. 3rd\n",
    "first_end = -100\n",
    "second_start = 200 # same idea\n",
    "second_end = 1700\n",
    "\n",
    "# get strings for path name for save and loading cluster data\n",
    "soz_label,recall_selection_name,subfolder = getSWRpathInfo(remove_soz_ictal,recall_type_switch,selected_period)\n",
    "\n",
    "for p,location_selected in enumerate(['ca1','dg']):\n",
    "    \n",
    "    if p==0:\n",
    "        subplots(1,1,figsize=(6,4)); ax = plt.gca()\n",
    "        color = (0,0,1)\n",
    "        label = 'CA1'\n",
    "        line_dist = 0.175\n",
    "    else:\n",
    "        color = (1,0,0)\n",
    "        label = 'Dentate gyrus'\n",
    "        line_dist = 0.15\n",
    "\n",
    "    path_name = '/home1/john/SWR/figures/'+subfolder\n",
    "    fn = os.path.join(path_name,\n",
    "        'SWR_'+exp+'_'+region_name+'_'+location_selected+'_'+str(recall_type_switch)+'_'+soz_label+'.p')            \n",
    "    with open(fn,'rb') as f:\n",
    "        dat = pickle.load(f)\n",
    "        bin_centers = dat['bin_centers']; PSTH = dat['PSTH']; CI_plot = dat['CI_plot']; num_trials = dat['num_trials'];\n",
    "        bin_model1 = dat['bin_model1']; bin_model2 = dat['bin_model2']\n",
    "\n",
    "    # make plot\n",
    "    xr = bin_centers #np.arange(psth_start,psth_end,binsize)\n",
    "\n",
    "    # plot smoothed mean +/- CI\n",
    "    if pad > 0:\n",
    "        plot(xr[pad:-pad],PSTH[pad:-pad],color=color)\n",
    "        fill_between(xr[pad:-pad], PSTH[pad:-pad]-CI_plot[0,:], PSTH[pad:-pad]+CI_plot[0,:],\n",
    "                     color=color, alpha = 0.3, label='_nolegend_')\n",
    "    else:\n",
    "        plot(xr,PSTH)\n",
    "        fill_between(xr, PSTH-CI_plot[0,:], PSTH+CI_plot[0,:],\n",
    "                     color=color, alpha = 0.3, label='_nolegend_')\n",
    "\n",
    "    # plot bands of significance\n",
    "    if bin_model1.pvalues[1] < 0.05:\n",
    "        plot([first_end-stats_bin,first_end],[line_dist,line_dist],'--',\n",
    "             color=color,label='_nolegend_')\n",
    "    if bin_model2.pvalues[1] < 0.05:\n",
    "        plot([second_start,second_start+stats_bin],[line_dist,line_dist],'--',\n",
    "             color=color,label='_nolegend_')\n",
    "    print(label+': '+str(num_trials)+' recalls')\n",
    "    print('Test 1 p-value: '+str(bin_model1.pvalues[1]))\n",
    "    print('Test 2 p-value: '+str(bin_model2.pvalues[1]))\n",
    "\n",
    "xticks(np.arange(psth_start,psth_end+1,500),np.arange(psth_start/1000,psth_end/1000+1,500/1000))\n",
    "xlabel('Time from recall (s)')\n",
    "ylabel('Ripple rate (events/s)')\n",
    "ylim = 0.7 # keep it here since occasionally CIs get kinda high\n",
    "ax.set_ylim(0,ylim)\n",
    "ax.set_xlim(psth_start-100,psth_end+100)\n",
    "plot([ax.get_xlim()[0],ax.get_xlim()[1]],[0.35,0.35],linewidth=1,linestyle='--',color=(0.8,0.8,0.8),label='_nolegend_')\n",
    "plot([0,0],[ax.get_ylim()[0],ax.get_ylim()[1]],linewidth=1,linestyle='-',color=(0,0,0),label='_nolegend_')\n",
    "ax.legend({'CA1','Dentate gyrus'})\n",
    "tight_layout()\n",
    "plt.show()\n",
    "a=1;\n",
    "a=1;"
   ]
  },
  {
   "cell_type": "markdown",
   "metadata": {},
   "source": [
    "## Single data plots"
   ]
  },
  {
   "cell_type": "code",
   "execution_count": 128,
   "metadata": {},
   "outputs": [
    {
     "data": {
      "text/plain": [
       "(<Figure size 432x288 with 1 Axes>,\n",
       " <matplotlib.axes._subplots.AxesSubplot at 0x2ae25e556d10>)"
      ]
     },
     "execution_count": 128,
     "metadata": {},
     "output_type": "execute_result"
    },
    {
     "data": {
      "text/plain": [
       "[<matplotlib.lines.Line2D at 0x2ae25aa81090>]"
      ]
     },
     "execution_count": 128,
     "metadata": {},
     "output_type": "execute_result"
    },
    {
     "data": {
      "text/plain": [
       "<matplotlib.collections.PolyCollection at 0x2ae25b0dc7d0>"
      ]
     },
     "execution_count": 128,
     "metadata": {},
     "output_type": "execute_result"
    },
    {
     "name": "stdout",
     "output_type": "stream",
     "text": [
      "Entorhinal cortex: 2339 recalls\n",
      "Test 1 p-value: 0.8569387283456839\n",
      "Test 2 p-value: 0.1603935450583852\n"
     ]
    },
    {
     "data": {
      "text/plain": [
       "([<matplotlib.axis.XTick at 0x2ae25e147b10>,\n",
       "  <matplotlib.axis.XTick at 0x2ae25e1471d0>,\n",
       "  <matplotlib.axis.XTick at 0x2ae25f14dc10>,\n",
       "  <matplotlib.axis.XTick at 0x2ae25e539e10>,\n",
       "  <matplotlib.axis.XTick at 0x2ae25e5381d0>,\n",
       "  <matplotlib.axis.XTick at 0x2ae25b0dcf90>,\n",
       "  <matplotlib.axis.XTick at 0x2ae25c52b350>,\n",
       "  <matplotlib.axis.XTick at 0x2ae25c52ba10>,\n",
       "  <matplotlib.axis.XTick at 0x2ae25c52bdd0>],\n",
       " <a list of 9 Text xticklabel objects>)"
      ]
     },
     "execution_count": 128,
     "metadata": {},
     "output_type": "execute_result"
    },
    {
     "data": {
      "text/plain": [
       "Text(0.5, 0, 'Time from recall (s)')"
      ]
     },
     "execution_count": 128,
     "metadata": {},
     "output_type": "execute_result"
    },
    {
     "data": {
      "text/plain": [
       "Text(0, 0.5, 'Ripple rate (events/s)')"
      ]
     },
     "execution_count": 128,
     "metadata": {},
     "output_type": "execute_result"
    },
    {
     "data": {
      "text/plain": [
       "(0, 0.7)"
      ]
     },
     "execution_count": 128,
     "metadata": {},
     "output_type": "execute_result"
    },
    {
     "data": {
      "text/plain": [
       "(-2100, 2100)"
      ]
     },
     "execution_count": 128,
     "metadata": {},
     "output_type": "execute_result"
    },
    {
     "data": {
      "text/plain": [
       "[<matplotlib.lines.Line2D at 0x2ae25f780a50>]"
      ]
     },
     "execution_count": 128,
     "metadata": {},
     "output_type": "execute_result"
    },
    {
     "data": {
      "text/plain": [
       "[<matplotlib.lines.Line2D at 0x2ae25f780ed0>]"
      ]
     },
     "execution_count": 128,
     "metadata": {},
     "output_type": "execute_result"
    },
    {
     "data": {
      "text/plain": [
       "<matplotlib.legend.Legend at 0x2ae25f780a90>"
      ]
     },
     "execution_count": 128,
     "metadata": {},
     "output_type": "execute_result"
    },
    {
     "name": "stdout",
     "output_type": "stream",
     "text": [
      "Entorhinal cortex: 2339 recalls\n",
      "Test 1 p-value: 0.8569387283456839\n",
      "Test 2 p-value: 0.1603935450583852\n"
     ]
    },
    {
     "data": {
      "image/png": "[encoded data removed]",
      "text/plain": [
       "<Figure size 432x288 with 1 Axes>"
      ]
     },
     "metadata": {
      "needs_background": "light"
     },
     "output_type": "display_data"
    }
   ],
   "source": [
    "# load data from each\n",
    "\n",
    "selected_period = 'surrounding_recall' \n",
    "remove_soz_ictal = False\n",
    "recall_type_switch = 0 # 0 for original, 1 for only those with subsequent, 2 for second recalls only, 3 for isolated recalls\n",
    "region_name = 'ENT' #'ENT' #'HPC' #HPC_ENT #ENT #HPC # PHC \n",
    "location_selected = '' #'ca1' # 'ca3' # 'dg' 'ca1' # sub # left hippocampus # right hippocampus # hippocampus\n",
    "# # (leave as '' if not HPC)\n",
    "\n",
    "legend_name = 'Entorhinal cortex' #'Parahippocampal cortex' #'Entorhinal'\n",
    "color = (0.5,0.5,0) # (0.5,0.5,0)\n",
    "line_dist = 0.175\n",
    "\n",
    "pad = 2\n",
    "psth_start = -2000\n",
    "psth_end = 2000\n",
    "stats_bin = 500 # time bin width in ms to test stats on\n",
    "first_start = -1600 # going to make sequence of 3 bins and test 1st v. 3rd\n",
    "first_end = -100\n",
    "second_start = 200 # same idea\n",
    "second_end = 1700\n",
    "\n",
    "# get strings for path name for save and loading cluster data\n",
    "soz_label,recall_selection_name,subfolder = getSWRpathInfo(remove_soz_ictal,recall_type_switch,selected_period)\n",
    "\n",
    "subplots(1,1,figsize=(6,4)); ax2 = plt.gca()\n",
    "\n",
    "path_name = '/home1/john/SWR/figures/'+subfolder\n",
    "fn = os.path.join(path_name,\n",
    "    'SWR_'+exp+'_'+region_name+'_'+location_selected+'_'+str(recall_type_switch)+'_'+soz_label+'.p')            \n",
    "with open(fn,'rb') as f:\n",
    "    dat = pickle.load(f)\n",
    "    bin_centers = dat['bin_centers']; PSTH = dat['PSTH']; CI_plot = dat['CI_plot']; num_trials = dat['num_trials'];\n",
    "    bin_model1 = dat['bin_model1']; bin_model2 = dat['bin_model2']\n",
    "\n",
    "# make plot\n",
    "xr = bin_centers #np.arange(psth_start,psth_end,binsize)\n",
    "\n",
    "# plot smoothed mean +/- CI\n",
    "if pad > 0:\n",
    "    plot(xr[pad:-pad],PSTH[pad:-pad],color=color);\n",
    "    fill_between(xr[pad:-pad], PSTH[pad:-pad]-CI_plot[0,:], PSTH[pad:-pad]+CI_plot[0,:],\n",
    "                 color=color, alpha = 0.3, label='_nolegend_');\n",
    "else:\n",
    "    plot(xr,PSTH);\n",
    "    fill_between(xr, PSTH-CI_plot[0,:], PSTH+CI_plot[0,:],\n",
    "                 color=color, alpha = 0.3, label='_nolegend_');\n",
    "\n",
    "# plot bands of significance\n",
    "if bin_model1.pvalues[1] < 0.05:\n",
    "    plot([first_end-stats_bin,first_end],[line_dist,line_dist],'--',\n",
    "         color=color,label='_nolegend_');\n",
    "if bin_model2.pvalues[1] < 0.05:\n",
    "    plot([second_start,second_start+stats_bin],[line_dist,line_dist],'--',\n",
    "         color=color,label='_nolegend_');\n",
    "print(legend_name+': '+str(num_trials)+' recalls')\n",
    "print('Test 1 p-value: '+str(bin_model1.pvalues[1]))\n",
    "print('Test 2 p-value: '+str(bin_model2.pvalues[1]))\n",
    "\n",
    "xticks(np.arange(psth_start,psth_end+1,500),np.arange(psth_start/1000,psth_end/1000+1,500/1000))\n",
    "xlabel('Time from recall (s)')\n",
    "ylabel('Ripple rate (events/s)')\n",
    "ylim = 0.7 # keep it here since occasionally CIs get kinda high\n",
    "ax2.set_ylim(0,ylim)\n",
    "ax2.set_xlim(psth_start-100,psth_end+100)\n",
    "plot([ax2.get_xlim()[0],ax2.get_xlim()[1]],[0.35,0.35],linewidth=1,linestyle='--',color=(0.8,0.8,0.8),label='_nolegend_')\n",
    "plot([0,0],[ax2.get_ylim()[0],ax2.get_ylim()[1]],linewidth=1,linestyle='-',color=(0,0,0),label='_nolegend_')\n",
    "plt.legend({legend_name})\n",
    "tight_layout()\n",
    "print(legend_name+': '+str(num_trials)+' recalls')\n",
    "print('Test 1 p-value: '+str(bin_model1.pvalues[1]))\n",
    "print('Test 2 p-value: '+str(bin_model2.pvalues[1]))\n",
    "a=1;\n",
    "soz_label,recall_selection_name,subfolder = getSWRpathInfo(remove_soz_ictal,recall_type_switch,selected_period)"
   ]
  },
  {
   "cell_type": "markdown",
   "metadata": {},
   "source": [
    "# Comparison plots for clustering"
   ]
  },
  {
   "cell_type": "code",
   "execution_count": 183,
   "metadata": {},
   "outputs": [
    {
     "name": "stderr",
     "output_type": "stream",
     "text": [
      "/home1/john/anaconda3/envs/env1/lib/python3.7/site-packages/statsmodels/regression/mixed_linear_model.py:2094: ConvergenceWarning: The MLE may be on the boundary of the parameter space.\n",
      "  warnings.warn(msg, ConvergenceWarning)\n"
     ]
    },
    {
     "name": "stdout",
     "output_type": "stream",
     "text": [
      "High clustering lists: 5572 recalls\n",
      "Low clustering lists: 5992 recalls\n",
      "Test 1 comparison p-value: 0.026720014977698506\n",
      "Test 2 comparison p-value: 0.6526245031374507\n"
     ]
    },
    {
     "data": {
      "image/png": "[encoded data removed]",
      "text/plain": [
       "<Figure size 432x288 with 1 Axes>"
      ]
     },
     "metadata": {
      "needs_background": "light"
     },
     "output_type": "display_data"
    }
   ],
   "source": [
    "# load data from each\n",
    "\n",
    "selected_period = 'surrounding_recall' \n",
    "remove_soz_ictal = False\n",
    "recall_type_switch = 3 # 0 for original, 1 for only those with subsequent, 2 for second recalls only, 3 for isolated recalls\n",
    "region_name = 'HPC'\n",
    "# location_selected = 'ca1' # 'ca3' # 'dg' 'ca1' # sub # left hippocampus # right hippocampus # hippocampus\n",
    "# # (leave as '' if not HPC)\n",
    "\n",
    "min_recalls = 4 # minimum recalls/list\n",
    "\n",
    "pad = 2\n",
    "psth_start = -2000\n",
    "psth_end = 2000\n",
    "stats_bin = 500 # time bin width in ms to test stats on\n",
    "first_start = -1600 # going to make sequence of 3 bins and test 1st v. 3rd\n",
    "first_end = -100\n",
    "second_start = 200 # same idea\n",
    "second_end = 1700\n",
    "\n",
    "# get strings for path name for save and loading cluster data\n",
    "soz_label,recall_selection_name,subfolder = getSWRpathInfo(remove_soz_ictal,recall_type_switch,selected_period)\n",
    "\n",
    "session_accum = np.array([])\n",
    "subject_accum = copy(session_accum)\n",
    "ripple_accum1 = copy(session_accum)\n",
    "ripple_accum2 = copy(session_accum)\n",
    "category = copy(session_accum)\n",
    "\n",
    "for p,upper_label in enumerate(['upper','lower']):\n",
    "    \n",
    "    location_selected = ''\n",
    "    if p==0:\n",
    "        subplots(1,1,figsize=(6,4)); ax = plt.gca()\n",
    "        color = (0,0,0)\n",
    "        line_dist = 0.175\n",
    "    else:\n",
    "        color = (0,0.7,0)\n",
    "        line_dist = 0.15\n",
    "\n",
    "    path_name = '/home1/john/SWR/figures/'+subfolder\n",
    "    fn = os.path.join(path_name,\n",
    "        'SWRCLUSTER_'+exp+'_'+region_name+'_'+location_selected+'_'+str(recall_type_switch)+\n",
    "                      '_'+soz_label+'_recalls-'+str(min_recalls)+'_'+upper_label+'.p')          \n",
    "    with open(fn,'rb') as f:\n",
    "        dat = pickle.load(f)\n",
    "        bin_centers = dat['bin_centers']; PSTH = dat['PSTH']; CI_plot = dat['CI_plot']; num_trials = dat['num_trials'];\n",
    "        bin_model1 = dat['bin_model1']; bin_model2 = dat['bin_model2'];\n",
    "        binned_first_stats_array = dat['binned_first_stats_array'];binned_second_stats_array = dat['binned_second_stats_array'];\n",
    "        subject_name_array = dat['subject_name_array'];session_name_array = dat['session_name_array']\n",
    "\n",
    "    # make plot\n",
    "    xr = bin_centers #np.arange(psth_start,psth_end,binsize)\n",
    "\n",
    "    # plot smoothed mean +/- CI\n",
    "    if pad > 0:\n",
    "        plot(xr[pad:-pad],PSTH[pad:-pad],color=color)\n",
    "        fill_between(xr[pad:-pad], PSTH[pad:-pad]-CI_plot[0,:], PSTH[pad:-pad]+CI_plot[0,:],\n",
    "                     color=color, alpha = 0.3, label='_nolegend_')\n",
    "    else:\n",
    "        plot(xr,PSTH)\n",
    "        fill_between(xr, PSTH-CI_plot[0,:], PSTH+CI_plot[0,:],\n",
    "                     color=color, alpha = 0.3, label='_nolegend_')\n",
    "\n",
    "    ## for comparison do ME stats between high and low clustering directly\n",
    "    session_accum = np.append(session_accum,session_name_array)\n",
    "    subject_accum = np.append(subject_accum,subject_name_array)\n",
    "    ripple_accum1 = np.append(ripple_accum1,binned_first_stats_array[:,2]) # 0:2 are -1600:-100 in 500 ms bins\n",
    "    ripple_accum2 = np.append(ripple_accum2,binned_second_stats_array[:,0]) # 0:2 are 200:1700 in 500 ms bins\n",
    "    category = np.append(category,np.tile(p,len(session_name_array)))\n",
    "    \n",
    "    if p == 1:  # have predictors accumulated for comparison now               \n",
    "        import statsmodels.formula.api as smf\n",
    "        \n",
    "        # pre-recall bump 1st\n",
    "        bin_df = pd.DataFrame(data={'session':session_accum,'subject':subject_accum,\n",
    "                               'category':category,'ripple_rates':ripple_accum1})\n",
    "        vc = {'session':'0+session'}\n",
    "        sig_bin_model = smf.mixedlm(\"ripple_rates ~ category\", bin_df, groups=\"subject\", vc_formula=vc)\n",
    "        bin_model1 = sig_bin_model.fit(reml=False, method='nm')\n",
    "        \n",
    "        # post_recall valley 2nd\n",
    "        bin_df = pd.DataFrame(data={'session':session_accum,'subject':subject_accum,\n",
    "                               'category':category,'ripple_rates':ripple_accum2})\n",
    "        sig_bin_model = smf.mixedlm(\"ripple_rates ~ category\", bin_df, groups=\"subject\", vc_formula=vc)\n",
    "        bin_model2 = sig_bin_model.fit(reml=False, method='nm')        \n",
    "        \n",
    "        if bin_model1.pvalues[1] < 0.05:\n",
    "            plot([-600,-600+stats_bin],[line_dist,line_dist],'--',\n",
    "                 color=(0,0,0),label='_nolegend_')\n",
    "        if bin_model2.pvalues[1] < 0.05:\n",
    "            plot([second_start,second_start+stats_bin],[line_dist,line_dist],'--',\n",
    "                 color=(0,0,0),label='_nolegend_')\n",
    "            \n",
    "        print('High clustering lists'+': '+str(sum(category==0))+' recalls')\n",
    "        print('Low clustering lists'+': '+str(sum(category==1))+' recalls')\n",
    "        print('Test 1 comparison p-value: '+str(bin_model1.pvalues[1]))\n",
    "        print('Test 2 comparison p-value: '+str(bin_model2.pvalues[1]))\n",
    "\n",
    "xticks(np.arange(psth_start,psth_end+1,500),np.arange(psth_start/1000,psth_end/1000+1,500/1000))\n",
    "xlabel('Time from recall (s)')\n",
    "ylabel('Ripple rate (events/s)')\n",
    "ylim = 0.7 # keep it here since occasionally CIs get kinda high\n",
    "ax.set_ylim(0,ylim)\n",
    "ax.set_xlim(psth_start-100,psth_end+100)\n",
    "plot([ax.get_xlim()[0],ax.get_xlim()[1]],[0.35,0.35],linewidth=1,linestyle='--',color=(0.8,0.8,0.8),label='_nolegend_')\n",
    "plot([0,0],[ax.get_ylim()[0],ax.get_ylim()[1]],linewidth=1,linestyle='-',color=(0,0,0),label='_nolegend_')\n",
    "ax.legend({'High-clustering lists','Low-clustering lists'})\n",
    "tight_layout()\n",
    "a=1;"
   ]
  },
  {
   "cell_type": "code",
   "execution_count": null,
   "metadata": {},
   "outputs": [],
   "source": []
  }
 ],
 "metadata": {
  "kernelspec": {
   "display_name": "env1",
   "language": "python",
   "name": "env1"
  },
  "language_info": {
   "codemirror_mode": {
    "name": "ipython",
    "version": 3
   },
   "file_extension": ".py",
   "mimetype": "text/x-python",
   "name": "python",
   "nbconvert_exporter": "python",
   "pygments_lexer": "ipython3",
   "version": "3.7.5"
  }
 },
 "nbformat": 4,
 "nbformat_minor": 4
}
