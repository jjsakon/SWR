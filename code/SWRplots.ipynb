{
 "cells": [
  {
   "cell_type": "markdown",
   "metadata": {},
   "source": [
    "## These are plots formed after saving the data across subjects run in SWRanalysis.ipynb "
   ]
  },
  {
   "cell_type": "code",
   "execution_count": 1,
   "metadata": {},
   "outputs": [
    {
     "name": "stderr",
     "output_type": "stream",
     "text": [
      "/home1/john/anaconda3/envs/env1/lib/python3.7/site-packages/ptsa/data/timeseries.py:526: FutureWarning: xarray subclass TimeSeriesX should explicitly define __slots__\n",
      "  class TimeSeriesX(TimeSeries):\n"
     ]
    }
   ],
   "source": [
    "import pandas as pd; pd.set_option('display.max_columns', 30)\n",
    "import numpy as np\n",
    "from cmlreaders import CMLReader, get_data_index\n",
    "from ptsa.data.filters import ButterworthFilter\n",
    "import sys\n",
    "import os\n",
    "import matplotlib.pyplot as plt\n",
    "%matplotlib inline\n",
    "import seaborn as sb\n",
    "from pylab import *\n",
    "from copy import copy\n",
    "from scipy import stats\n",
    "import pickle\n",
    "plt.rcParams['pdf.fonttype'] = 42; plt.rcParams['ps.fonttype'] = 42 # fix fonts for Illustrator\n",
    "sys.path.append('/home1/john/Downloads/ptsa_plot-master/')\n",
    "sys.path.append('/home1/john/johnModules')\n",
    "from brain_labels import MTL_labels, LTC_labels, PFC_labels, OTHER_labels, ALL_labels # all location labels\n",
    "%load_ext autoreload\n",
    "%autoreload\n",
    "from general import *\n",
    "from SWRmodule import *\n",
    "\n",
    "df = get_data_index(\"r1\") # all RAM subjects\n",
    "exp = 'FR1'"
   ]
  },
  {
   "cell_type": "markdown",
   "metadata": {},
   "source": [
    "## Plot CA3 v. DG on same plot"
   ]
  },
  {
   "cell_type": "code",
   "execution_count": 129,
   "metadata": {},
   "outputs": [
    {
     "name": "stdout",
     "output_type": "stream",
     "text": [
      "CA1: 3211 recalls\n",
      "Test 1 p-value: 0.8551984742479201\n",
      "Test 2 p-value: 0.8407443735077846\n",
      "Dentate gyrus: 2397 recalls\n",
      "Test 1 p-value: 0.6640347671201461\n",
      "Test 2 p-value: 0.9461553452498093\n"
     ]
    },
    {
     "data": {
      "image/png": "[encoded data removed]",
      "text/plain": [
       "<Figure size 432x288 with 1 Axes>"
      ]
     },
     "metadata": {
      "needs_background": "light"
     },
     "output_type": "display_data"
    }
   ],
   "source": [
    "# load data from each\n",
    "\n",
    "selected_period = 'surrounding_recall' \n",
    "remove_soz_ictal = False\n",
    "recall_type_switch = 1 # 0 for original, 1 for only those with subsequent, 2 for second recalls only, 3 for isolated recalls\n",
    "region_name = 'HPC'\n",
    "# location_selected = 'ca1' # 'ca3' # 'dg' 'ca1' # sub # left hippocampus # right hippocampus # hippocampus\n",
    "# # (leave as '' if not HPC)\n",
    "\n",
    "pad = 2\n",
    "psth_start = -2000\n",
    "psth_end = 2000\n",
    "stats_bin = 500 # time bin width in ms to test stats on\n",
    "first_start = -1600 # going to make sequence of 3 bins and test 1st v. 3rd\n",
    "first_end = -100\n",
    "second_start = 200 # same idea\n",
    "second_end = 1700\n",
    "\n",
    "# get strings for path name for save and loading cluster data\n",
    "soz_label,recall_selection_name,subfolder = getSWRpathInfo(remove_soz_ictal,recall_type_switch,selected_period)\n",
    "\n",
    "for p,location_selected in enumerate(['ca1','dg']):\n",
    "    \n",
    "    if p==0:\n",
    "        subplots(1,1,figsize=(6,4)); ax = plt.gca()\n",
    "        color = (0,0,1)\n",
    "        label = 'CA1'\n",
    "        line_dist = 0.175\n",
    "    else:\n",
    "        color = (1,0,0)\n",
    "        label = 'Dentate gyrus'\n",
    "        line_dist = 0.15\n",
    "\n",
    "    path_name = '/home1/john/SWR/figures/'+subfolder\n",
    "    fn = os.path.join(path_name,\n",
    "        'SWR_'+exp+'_'+region_name+'_'+location_selected+'_'+str(recall_type_switch)+'_'+soz_label+'.p')            \n",
    "    with open(fn,'rb') as f:\n",
    "        dat = pickle.load(f)\n",
    "        bin_centers = dat['bin_centers']; PSTH = dat['PSTH']; CI_plot = dat['CI_plot']; num_trials = dat['num_trials'];\n",
    "        bin_model1 = dat['bin_model1']; bin_model2 = dat['bin_model2']\n",
    "\n",
    "    # make plot\n",
    "    xr = bin_centers #np.arange(psth_start,psth_end,binsize)\n",
    "\n",
    "    # plot smoothed mean +/- CI\n",
    "    if pad > 0:\n",
    "        plot(xr[pad:-pad],PSTH[pad:-pad],color=color)\n",
    "        fill_between(xr[pad:-pad], PSTH[pad:-pad]-CI_plot[0,:], PSTH[pad:-pad]+CI_plot[0,:],\n",
    "                     color=color, alpha = 0.3, label='_nolegend_')\n",
    "    else:\n",
    "        plot(xr,PSTH)\n",
    "        fill_between(xr, PSTH-CI_plot[0,:], PSTH+CI_plot[0,:],\n",
    "                     color=color, alpha = 0.3, label='_nolegend_')\n",
    "\n",
    "    # plot bands of significance\n",
    "    if bin_model1.pvalues[1] < 0.05:\n",
    "        plot([first_end-stats_bin,first_end],[line_dist,line_dist],'--',\n",
    "             color=color,label='_nolegend_')\n",
    "    if bin_model2.pvalues[1] < 0.05:\n",
    "        plot([second_start,second_start+stats_bin],[line_dist,line_dist],'--',\n",
    "             color=color,label='_nolegend_')\n",
    "    print(label+': '+str(num_trials)+' recalls')\n",
    "    print('Test 1 p-value: '+str(bin_model1.pvalues[1]))\n",
    "    print('Test 2 p-value: '+str(bin_model2.pvalues[1]))\n",
    "\n",
    "xticks(np.arange(psth_start,psth_end+1,500),np.arange(psth_start/1000,psth_end/1000+1,500/1000))\n",
    "xlabel('Time from recall (s)')\n",
    "ylabel('Ripple rate (events/s)')\n",
    "ylim = 0.7 # keep it here since occasionally CIs get kinda high\n",
    "ax.set_ylim(0,ylim)\n",
    "ax.set_xlim(psth_start-100,psth_end+100)\n",
    "plot([ax.get_xlim()[0],ax.get_xlim()[1]],[0.35,0.35],linewidth=1,linestyle='--',color=(0.8,0.8,0.8),label='_nolegend_')\n",
    "plot([0,0],[ax.get_ylim()[0],ax.get_ylim()[1]],linewidth=1,linestyle='-',color=(0,0,0),label='_nolegend_')\n",
    "ax.legend({'CA1','Dentate gyrus'})\n",
    "tight_layout()\n",
    "plt.show()\n",
    "a=1;\n",
    "a=1;"
   ]
  },
  {
   "cell_type": "markdown",
   "metadata": {},
   "source": [
    "## Single data plots"
   ]
  },
  {
   "cell_type": "code",
   "execution_count": 207,
   "metadata": {},
   "outputs": [
    {
     "data": {
      "text/plain": [
       "(<Figure size 432x288 with 1 Axes>,\n",
       " <matplotlib.axes._subplots.AxesSubplot at 0x2ae2595a17d0>)"
      ]
     },
     "execution_count": 207,
     "metadata": {},
     "output_type": "execute_result"
    },
    {
     "data": {
      "text/plain": [
       "[<matplotlib.lines.Line2D at 0x2ae25fc1c990>]"
      ]
     },
     "execution_count": 207,
     "metadata": {},
     "output_type": "execute_result"
    },
    {
     "data": {
      "text/plain": [
       "<matplotlib.collections.PolyCollection at 0x2ae25e556cd0>"
      ]
     },
     "execution_count": 207,
     "metadata": {},
     "output_type": "execute_result"
    },
    {
     "name": "stdout",
     "output_type": "stream",
     "text": [
      "Entorhinal cortex: 1710 recalls\n",
      "Test 1 p-value: 0.7449778124644933\n",
      "Test 2 p-value: 0.08310803384052465\n"
     ]
    },
    {
     "data": {
      "text/plain": [
       "([<matplotlib.axis.XTick at 0x2ae25c78c150>,\n",
       "  <matplotlib.axis.XTick at 0x2ae25de42510>,\n",
       "  <matplotlib.axis.XTick at 0x2ae25de42bd0>,\n",
       "  <matplotlib.axis.XTick at 0x2ae2808e5c50>,\n",
       "  <matplotlib.axis.XTick at 0x2ae2808e5190>,\n",
       "  <matplotlib.axis.XTick at 0x2ae2808e5510>,\n",
       "  <matplotlib.axis.XTick at 0x2ae25a07ed90>,\n",
       "  <matplotlib.axis.XTick at 0x2ae259148050>,\n",
       "  <matplotlib.axis.XTick at 0x2ae25dbf8990>],\n",
       " <a list of 9 Text xticklabel objects>)"
      ]
     },
     "execution_count": 207,
     "metadata": {},
     "output_type": "execute_result"
    },
    {
     "data": {
      "text/plain": [
       "Text(0.5, 0, 'Time from recall (s)')"
      ]
     },
     "execution_count": 207,
     "metadata": {},
     "output_type": "execute_result"
    },
    {
     "data": {
      "text/plain": [
       "Text(0, 0.5, 'Ripple rate (events/s)')"
      ]
     },
     "execution_count": 207,
     "metadata": {},
     "output_type": "execute_result"
    },
    {
     "data": {
      "text/plain": [
       "(0, 0.7)"
      ]
     },
     "execution_count": 207,
     "metadata": {},
     "output_type": "execute_result"
    },
    {
     "data": {
      "text/plain": [
       "(-2100, 2100)"
      ]
     },
     "execution_count": 207,
     "metadata": {},
     "output_type": "execute_result"
    },
    {
     "data": {
      "text/plain": [
       "[<matplotlib.lines.Line2D at 0x2ae25ffb4b90>]"
      ]
     },
     "execution_count": 207,
     "metadata": {},
     "output_type": "execute_result"
    },
    {
     "data": {
      "text/plain": [
       "[<matplotlib.lines.Line2D at 0x2ae25ffb4890>]"
      ]
     },
     "execution_count": 207,
     "metadata": {},
     "output_type": "execute_result"
    },
    {
     "data": {
      "text/plain": [
       "<matplotlib.legend.Legend at 0x2ae25ffb4f10>"
      ]
     },
     "execution_count": 207,
     "metadata": {},
     "output_type": "execute_result"
    },
    {
     "name": "stdout",
     "output_type": "stream",
     "text": [
      "Entorhinal cortex: 1710 recalls\n",
      "Test 1 p-value: 0.7449778124644933\n",
      "Test 2 p-value: 0.08310803384052465\n"
     ]
    },
    {
     "data": {
      "image/png": "[encoded data removed]",
      "text/plain": [
       "<Figure size 432x288 with 1 Axes>"
      ]
     },
     "metadata": {
      "needs_background": "light"
     },
     "output_type": "display_data"
    }
   ],
   "source": [
    "# load data from each\n",
    "\n",
    "selected_period = 'surrounding_recall' \n",
    "remove_soz_ictal = False\n",
    "recall_type_switch = 3 # 0 for original, 1 for only those with subsequent, 2 for second recalls only, 3 for isolated recalls\n",
    "region_name = 'ENT' #'ENT' #'HPC' #HPC_ENT #ENT #HPC # PHC \n",
    "location_selected = '' #'ca1' # 'ca3' # 'dg' 'ca1' # sub # left hippocampus # right hippocampus # hippocampus\n",
    "# # (leave as '' if not HPC)\n",
    "\n",
    "legend_name = 'Entorhinal cortex' #'Parahippocampal cortex' #'Entorhinal'\n",
    "color = (0.5,0.5,0) # (0.5,0.5,0)\n",
    "line_dist = 0.175\n",
    "\n",
    "pad = 2\n",
    "psth_start = -2000\n",
    "psth_end = 2000\n",
    "stats_bin = 500 # time bin width in ms to test stats on\n",
    "first_start = -1600 # going to make sequence of 3 bins and test 1st v. 3rd\n",
    "first_end = -100\n",
    "second_start = 200 # same idea\n",
    "second_end = 1700\n",
    "\n",
    "# get strings for path name for save and loading cluster data\n",
    "soz_label,recall_selection_name,subfolder = getSWRpathInfo(remove_soz_ictal,recall_type_switch,selected_period)\n",
    "\n",
    "subplots(1,1,figsize=(6,4)); ax2 = plt.gca()\n",
    "\n",
    "path_name = '/home1/john/SWR/figures/'+subfolder\n",
    "fn = os.path.join(path_name,\n",
    "    'SWR_'+exp+'_'+region_name+'_'+location_selected+'_'+str(recall_type_switch)+'_'+soz_label+'.p')            \n",
    "with open(fn,'rb') as f:\n",
    "    dat = pickle.load(f)\n",
    "    bin_centers = dat['bin_centers']; PSTH = dat['PSTH']; CI_plot = dat['CI_plot']; num_trials = dat['num_trials'];\n",
    "    bin_model1 = dat['bin_model1']; bin_model2 = dat['bin_model2']; ss = dat['session_name_array']\n",
    "\n",
    "# make plot\n",
    "xr = bin_centers #np.arange(psth_start,psth_end,binsize)\n",
    "\n",
    "# plot smoothed mean +/- CI\n",
    "if pad > 0:\n",
    "    plot(xr[pad:-pad],PSTH[pad:-pad],color=color);\n",
    "    fill_between(xr[pad:-pad], PSTH[pad:-pad]-CI_plot[0,:], PSTH[pad:-pad]+CI_plot[0,:],\n",
    "                 color=color, alpha = 0.3, label='_nolegend_');\n",
    "else:\n",
    "    plot(xr,PSTH);\n",
    "    fill_between(xr, PSTH-CI_plot[0,:], PSTH+CI_plot[0,:],\n",
    "                 color=color, alpha = 0.3, label='_nolegend_');\n",
    "\n",
    "# plot bands of significance\n",
    "if bin_model1.pvalues[1] < 0.05:\n",
    "    plot([first_end-stats_bin,first_end],[line_dist,line_dist],'--',\n",
    "         color=color,label='_nolegend_');\n",
    "if bin_model2.pvalues[1] < 0.05:\n",
    "    plot([second_start,second_start+stats_bin],[line_dist,line_dist],'--',\n",
    "         color=color,label='_nolegend_');\n",
    "print(legend_name+': '+str(num_trials)+' recalls')\n",
    "print('Test 1 p-value: '+str(bin_model1.pvalues[1]))\n",
    "print('Test 2 p-value: '+str(bin_model2.pvalues[1]))\n",
    "\n",
    "xticks(np.arange(psth_start,psth_end+1,500),np.arange(psth_start/1000,psth_end/1000+1,500/1000))\n",
    "xlabel('Time from recall (s)')\n",
    "ylabel('Ripple rate (events/s)')\n",
    "ylim = 0.7 # keep it here since occasionally CIs get kinda high\n",
    "ax2.set_ylim(0,ylim)\n",
    "ax2.set_xlim(psth_start-100,psth_end+100)\n",
    "plot([ax2.get_xlim()[0],ax2.get_xlim()[1]],[0.35,0.35],linewidth=1,linestyle='--',color=(0.8,0.8,0.8),label='_nolegend_')\n",
    "plot([0,0],[ax2.get_ylim()[0],ax2.get_ylim()[1]],linewidth=1,linestyle='-',color=(0,0,0),label='_nolegend_')\n",
    "plt.legend({legend_name})\n",
    "tight_layout()\n",
    "print(legend_name+': '+str(num_trials)+' recalls')\n",
    "print('Test 1 p-value: '+str(bin_model1.pvalues[1]))\n",
    "print('Test 2 p-value: '+str(bin_model2.pvalues[1]))\n",
    "a=1;\n",
    "soz_label,recall_selection_name,subfolder = getSWRpathInfo(remove_soz_ictal,recall_type_switch,selected_period)"
   ]
  },
  {
   "cell_type": "markdown",
   "metadata": {},
   "source": [
    "# Comparison plots for clustering"
   ]
  },
  {
   "cell_type": "code",
   "execution_count": 183,
   "metadata": {},
   "outputs": [
    {
     "name": "stderr",
     "output_type": "stream",
     "text": [
      "/home1/john/anaconda3/envs/env1/lib/python3.7/site-packages/statsmodels/regression/mixed_linear_model.py:2094: ConvergenceWarning: The MLE may be on the boundary of the parameter space.\n",
      "  warnings.warn(msg, ConvergenceWarning)\n"
     ]
    },
    {
     "name": "stdout",
     "output_type": "stream",
     "text": [
      "High clustering lists: 5572 recalls\n",
      "Low clustering lists: 5992 recalls\n",
      "Test 1 comparison p-value: 0.026720014977698506\n",
      "Test 2 comparison p-value: 0.6526245031374507\n"
     ]
    },
    {
     "data": {
      "image/png": "[encoded data removed]",
      "text/plain": [
       "<Figure size 432x288 with 1 Axes>"
      ]
     },
     "metadata": {
      "needs_background": "light"
     },
     "output_type": "display_data"
    }
   ],
   "source": [
    "# load data from each\n",
    "\n",
    "selected_period = 'surrounding_recall' \n",
    "remove_soz_ictal = False\n",
    "recall_type_switch = 3 # 0 for original, 1 for only those with subsequent, 2 for second recalls only, 3 for isolated recalls\n",
    "region_name = 'HPC'\n",
    "# location_selected = 'ca1' # 'ca3' # 'dg' 'ca1' # sub # left hippocampus # right hippocampus # hippocampus\n",
    "# # (leave as '' if not HPC)\n",
    "\n",
    "min_recalls = 4 # minimum recalls/list\n",
    "\n",
    "pad = 2\n",
    "psth_start = -2000\n",
    "psth_end = 2000\n",
    "stats_bin = 500 # time bin width in ms to test stats on\n",
    "first_start = -1600 # going to make sequence of 3 bins and test 1st v. 3rd\n",
    "first_end = -100\n",
    "second_start = 200 # same idea\n",
    "second_end = 1700\n",
    "\n",
    "# get strings for path name for save and loading cluster data\n",
    "soz_label,recall_selection_name,subfolder = getSWRpathInfo(remove_soz_ictal,recall_type_switch,selected_period)\n",
    "\n",
    "session_accum = np.array([])\n",
    "subject_accum = copy(session_accum)\n",
    "ripple_accum1 = copy(session_accum)\n",
    "ripple_accum2 = copy(session_accum)\n",
    "category = copy(session_accum)\n",
    "\n",
    "for p,upper_label in enumerate(['upper','lower']):\n",
    "    \n",
    "    location_selected = ''\n",
    "    if p==0:\n",
    "        subplots(1,1,figsize=(6,4)); ax = plt.gca()\n",
    "        color = (0,0,0)\n",
    "        line_dist = 0.175\n",
    "    else:\n",
    "        color = (0,0.7,0)\n",
    "        line_dist = 0.15\n",
    "\n",
    "    path_name = '/home1/john/SWR/figures/'+subfolder\n",
    "    fn = os.path.join(path_name,\n",
    "        'SWRCLUSTER_'+exp+'_'+region_name+'_'+location_selected+'_'+str(recall_type_switch)+\n",
    "                      '_'+soz_label+'_recalls-'+str(min_recalls)+'_'+upper_label+'.p')          \n",
    "    with open(fn,'rb') as f:\n",
    "        dat = pickle.load(f)\n",
    "        bin_centers = dat['bin_centers']; PSTH = dat['PSTH']; CI_plot = dat['CI_plot']; num_trials = dat['num_trials'];\n",
    "        bin_model1 = dat['bin_model1']; bin_model2 = dat['bin_model2'];\n",
    "        binned_first_stats_array = dat['binned_first_stats_array'];binned_second_stats_array = dat['binned_second_stats_array'];\n",
    "        subject_name_array = dat['subject_name_array'];session_name_array = dat['session_name_array']\n",
    "\n",
    "    # make plot\n",
    "    xr = bin_centers #np.arange(psth_start,psth_end,binsize)\n",
    "\n",
    "    # plot smoothed mean +/- CI\n",
    "    if pad > 0:\n",
    "        plot(xr[pad:-pad],PSTH[pad:-pad],color=color)\n",
    "        fill_between(xr[pad:-pad], PSTH[pad:-pad]-CI_plot[0,:], PSTH[pad:-pad]+CI_plot[0,:],\n",
    "                     color=color, alpha = 0.3, label='_nolegend_')\n",
    "    else:\n",
    "        plot(xr,PSTH)\n",
    "        fill_between(xr, PSTH-CI_plot[0,:], PSTH+CI_plot[0,:],\n",
    "                     color=color, alpha = 0.3, label='_nolegend_')\n",
    "\n",
    "    ## for comparison do ME stats between high and low clustering directly\n",
    "    session_accum = np.append(session_accum,session_name_array)\n",
    "    subject_accum = np.append(subject_accum,subject_name_array)\n",
    "    ripple_accum1 = np.append(ripple_accum1,binned_first_stats_array[:,2]) # 0:2 are -1600:-100 in 500 ms bins\n",
    "    ripple_accum2 = np.append(ripple_accum2,binned_second_stats_array[:,0]) # 0:2 are 200:1700 in 500 ms bins\n",
    "    category = np.append(category,np.tile(p,len(session_name_array)))\n",
    "    \n",
    "    if p == 1:  # have predictors accumulated for comparison now               \n",
    "        import statsmodels.formula.api as smf\n",
    "        \n",
    "        # pre-recall bump 1st\n",
    "        bin_df = pd.DataFrame(data={'session':session_accum,'subject':subject_accum,\n",
    "                               'category':category,'ripple_rates':ripple_accum1})\n",
    "        vc = {'session':'0+session'}\n",
    "        sig_bin_model = smf.mixedlm(\"ripple_rates ~ category\", bin_df, groups=\"subject\", vc_formula=vc)\n",
    "        bin_model1 = sig_bin_model.fit(reml=False, method='nm')\n",
    "        \n",
    "        # post_recall valley 2nd\n",
    "        bin_df = pd.DataFrame(data={'session':session_accum,'subject':subject_accum,\n",
    "                               'category':category,'ripple_rates':ripple_accum2})\n",
    "        sig_bin_model = smf.mixedlm(\"ripple_rates ~ category\", bin_df, groups=\"subject\", vc_formula=vc)\n",
    "        bin_model2 = sig_bin_model.fit(reml=False, method='nm')        \n",
    "        \n",
    "        if bin_model1.pvalues[1] < 0.05:\n",
    "            plot([-600,-600+stats_bin],[line_dist,line_dist],'--',\n",
    "                 color=(0,0,0),label='_nolegend_')\n",
    "        if bin_model2.pvalues[1] < 0.05:\n",
    "            plot([second_start,second_start+stats_bin],[line_dist,line_dist],'--',\n",
    "                 color=(0,0,0),label='_nolegend_')\n",
    "            \n",
    "        print('High clustering lists'+': '+str(sum(category==0))+' recalls')\n",
    "        print('Low clustering lists'+': '+str(sum(category==1))+' recalls')\n",
    "        print('Test 1 comparison p-value: '+str(bin_model1.pvalues[1]))\n",
    "        print('Test 2 comparison p-value: '+str(bin_model2.pvalues[1]))\n",
    "\n",
    "xticks(np.arange(psth_start,psth_end+1,500),np.arange(psth_start/1000,psth_end/1000+1,500/1000))\n",
    "xlabel('Time from recall (s)')\n",
    "ylabel('Ripple rate (events/s)')\n",
    "ylim = 0.7 # keep it here since occasionally CIs get kinda high\n",
    "ax.set_ylim(0,ylim)\n",
    "ax.set_xlim(psth_start-100,psth_end+100)\n",
    "plot([ax.get_xlim()[0],ax.get_xlim()[1]],[0.35,0.35],linewidth=1,linestyle='--',color=(0.8,0.8,0.8),label='_nolegend_')\n",
    "plot([0,0],[ax.get_ylim()[0],ax.get_ylim()[1]],linewidth=1,linestyle='-',color=(0,0,0),label='_nolegend_')\n",
    "ax.legend({'High-clustering lists','Low-clustering lists'})\n",
    "tight_layout()\n",
    "a=1;"
   ]
  },
  {
   "cell_type": "markdown",
   "metadata": {},
   "source": [
    "## look through individual subjects to compare HPC v. ENT and HPC v. PHC directly"
   ]
  },
  {
   "cell_type": "code",
   "execution_count": 266,
   "metadata": {},
   "outputs": [
    {
     "name": "stderr",
     "output_type": "stream",
     "text": [
      "/home1/john/anaconda3/envs/env1/lib/python3.7/site-packages/statsmodels/regression/mixed_linear_model.py:2094: ConvergenceWarning: The MLE may be on the boundary of the parameter space.\n",
      "  warnings.warn(msg, ConvergenceWarning)\n",
      "/home1/john/anaconda3/envs/env1/lib/python3.7/site-packages/statsmodels/regression/mixed_linear_model.py:2115: ConvergenceWarning: The Hessian matrix at the estimated parameter values is not positive definite.\n",
      "  warnings.warn(msg, ConvergenceWarning)\n",
      "/home1/john/anaconda3/envs/env1/lib/python3.7/site-packages/statsmodels/regression/mixed_linear_model.py:2094: ConvergenceWarning: The MLE may be on the boundary of the parameter space.\n",
      "  warnings.warn(msg, ConvergenceWarning)\n",
      "/home1/john/anaconda3/envs/env1/lib/python3.7/site-packages/statsmodels/regression/mixed_linear_model.py:2115: ConvergenceWarning: The Hessian matrix at the estimated parameter values is not positive definite.\n",
      "  warnings.warn(msg, ConvergenceWarning)\n",
      "/home1/john/anaconda3/envs/env1/lib/python3.7/site-packages/statsmodels/base/model.py:1286: RuntimeWarning: invalid value encountered in sqrt\n",
      "  bse_ = np.sqrt(np.diag(self.cov_params()))\n",
      "/home1/john/anaconda3/envs/env1/lib/python3.7/site-packages/statsmodels/regression/mixed_linear_model.py:2094: ConvergenceWarning: The MLE may be on the boundary of the parameter space.\n",
      "  warnings.warn(msg, ConvergenceWarning)\n",
      "/home1/john/anaconda3/envs/env1/lib/python3.7/site-packages/statsmodels/regression/mixed_linear_model.py:2115: ConvergenceWarning: The Hessian matrix at the estimated parameter values is not positive definite.\n",
      "  warnings.warn(msg, ConvergenceWarning)\n",
      "/home1/john/anaconda3/envs/env1/lib/python3.7/site-packages/statsmodels/regression/mixed_linear_model.py:2094: ConvergenceWarning: The MLE may be on the boundary of the parameter space.\n",
      "  warnings.warn(msg, ConvergenceWarning)\n",
      "/home1/john/anaconda3/envs/env1/lib/python3.7/site-packages/statsmodels/regression/mixed_linear_model.py:2115: ConvergenceWarning: The Hessian matrix at the estimated parameter values is not positive definite.\n",
      "  warnings.warn(msg, ConvergenceWarning)\n",
      "/home1/john/anaconda3/envs/env1/lib/python3.7/site-packages/statsmodels/regression/mixed_linear_model.py:2094: ConvergenceWarning: The MLE may be on the boundary of the parameter space.\n",
      "  warnings.warn(msg, ConvergenceWarning)\n",
      "/home1/john/anaconda3/envs/env1/lib/python3.7/site-packages/statsmodels/regression/mixed_linear_model.py:2094: ConvergenceWarning: The MLE may be on the boundary of the parameter space.\n",
      "  warnings.warn(msg, ConvergenceWarning)\n",
      "/home1/john/anaconda3/envs/env1/lib/python3.7/site-packages/statsmodels/regression/mixed_linear_model.py:2094: ConvergenceWarning: The MLE may be on the boundary of the parameter space.\n",
      "  warnings.warn(msg, ConvergenceWarning)\n",
      "/home1/john/anaconda3/envs/env1/lib/python3.7/site-packages/statsmodels/regression/mixed_linear_model.py:2115: ConvergenceWarning: The Hessian matrix at the estimated parameter values is not positive definite.\n",
      "  warnings.warn(msg, ConvergenceWarning)\n",
      "/home1/john/anaconda3/envs/env1/lib/python3.7/site-packages/statsmodels/regression/mixed_linear_model.py:2094: ConvergenceWarning: The MLE may be on the boundary of the parameter space.\n",
      "  warnings.warn(msg, ConvergenceWarning)\n",
      "/home1/john/anaconda3/envs/env1/lib/python3.7/site-packages/statsmodels/regression/mixed_linear_model.py:2115: ConvergenceWarning: The Hessian matrix at the estimated parameter values is not positive definite.\n",
      "  warnings.warn(msg, ConvergenceWarning)\n",
      "/home1/john/anaconda3/envs/env1/lib/python3.7/site-packages/statsmodels/regression/mixed_linear_model.py:2094: ConvergenceWarning: The MLE may be on the boundary of the parameter space.\n",
      "  warnings.warn(msg, ConvergenceWarning)\n",
      "/home1/john/anaconda3/envs/env1/lib/python3.7/site-packages/statsmodels/regression/mixed_linear_model.py:2115: ConvergenceWarning: The Hessian matrix at the estimated parameter values is not positive definite.\n",
      "  warnings.warn(msg, ConvergenceWarning)\n",
      "/home1/john/anaconda3/envs/env1/lib/python3.7/site-packages/statsmodels/regression/mixed_linear_model.py:2094: ConvergenceWarning: The MLE may be on the boundary of the parameter space.\n",
      "  warnings.warn(msg, ConvergenceWarning)\n",
      "/home1/john/anaconda3/envs/env1/lib/python3.7/site-packages/statsmodels/regression/mixed_linear_model.py:2115: ConvergenceWarning: The Hessian matrix at the estimated parameter values is not positive definite.\n",
      "  warnings.warn(msg, ConvergenceWarning)\n",
      "/home1/john/anaconda3/envs/env1/lib/python3.7/site-packages/statsmodels/regression/mixed_linear_model.py:2094: ConvergenceWarning: The MLE may be on the boundary of the parameter space.\n",
      "  warnings.warn(msg, ConvergenceWarning)\n",
      "/home1/john/anaconda3/envs/env1/lib/python3.7/site-packages/statsmodels/regression/mixed_linear_model.py:2115: ConvergenceWarning: The Hessian matrix at the estimated parameter values is not positive definite.\n",
      "  warnings.warn(msg, ConvergenceWarning)\n",
      "/home1/john/anaconda3/envs/env1/lib/python3.7/site-packages/statsmodels/regression/mixed_linear_model.py:2094: ConvergenceWarning: The MLE may be on the boundary of the parameter space.\n",
      "  warnings.warn(msg, ConvergenceWarning)\n",
      "/home1/john/anaconda3/envs/env1/lib/python3.7/site-packages/statsmodels/regression/mixed_linear_model.py:2115: ConvergenceWarning: The Hessian matrix at the estimated parameter values is not positive definite.\n",
      "  warnings.warn(msg, ConvergenceWarning)\n",
      "/home1/john/anaconda3/envs/env1/lib/python3.7/site-packages/statsmodels/regression/mixed_linear_model.py:2094: ConvergenceWarning: The MLE may be on the boundary of the parameter space.\n",
      "  warnings.warn(msg, ConvergenceWarning)\n",
      "/home1/john/anaconda3/envs/env1/lib/python3.7/site-packages/statsmodels/regression/mixed_linear_model.py:2115: ConvergenceWarning: The Hessian matrix at the estimated parameter values is not positive definite.\n",
      "  warnings.warn(msg, ConvergenceWarning)\n",
      "/home1/john/anaconda3/envs/env1/lib/python3.7/site-packages/statsmodels/regression/mixed_linear_model.py:2094: ConvergenceWarning: The MLE may be on the boundary of the parameter space.\n",
      "  warnings.warn(msg, ConvergenceWarning)\n",
      "/home1/john/anaconda3/envs/env1/lib/python3.7/site-packages/statsmodels/regression/mixed_linear_model.py:2115: ConvergenceWarning: The Hessian matrix at the estimated parameter values is not positive definite.\n",
      "  warnings.warn(msg, ConvergenceWarning)\n",
      "/home1/john/anaconda3/envs/env1/lib/python3.7/site-packages/statsmodels/regression/mixed_linear_model.py:2094: ConvergenceWarning: The MLE may be on the boundary of the parameter space.\n",
      "  warnings.warn(msg, ConvergenceWarning)\n",
      "/home1/john/anaconda3/envs/env1/lib/python3.7/site-packages/statsmodels/regression/mixed_linear_model.py:2115: ConvergenceWarning: The Hessian matrix at the estimated parameter values is not positive definite.\n",
      "  warnings.warn(msg, ConvergenceWarning)\n",
      "/home1/john/anaconda3/envs/env1/lib/python3.7/site-packages/statsmodels/regression/mixed_linear_model.py:2094: ConvergenceWarning: The MLE may be on the boundary of the parameter space.\n",
      "  warnings.warn(msg, ConvergenceWarning)\n",
      "/home1/john/anaconda3/envs/env1/lib/python3.7/site-packages/statsmodels/regression/mixed_linear_model.py:2115: ConvergenceWarning: The Hessian matrix at the estimated parameter values is not positive definite.\n",
      "  warnings.warn(msg, ConvergenceWarning)\n",
      "/home1/john/anaconda3/envs/env1/lib/python3.7/site-packages/statsmodels/regression/mixed_linear_model.py:2094: ConvergenceWarning: The MLE may be on the boundary of the parameter space.\n",
      "  warnings.warn(msg, ConvergenceWarning)\n",
      "/home1/john/anaconda3/envs/env1/lib/python3.7/site-packages/statsmodels/regression/mixed_linear_model.py:2115: ConvergenceWarning: The Hessian matrix at the estimated parameter values is not positive definite.\n",
      "  warnings.warn(msg, ConvergenceWarning)\n",
      "/home1/john/anaconda3/envs/env1/lib/python3.7/site-packages/statsmodels/regression/mixed_linear_model.py:2094: ConvergenceWarning: The MLE may be on the boundary of the parameter space.\n",
      "  warnings.warn(msg, ConvergenceWarning)\n",
      "/home1/john/anaconda3/envs/env1/lib/python3.7/site-packages/statsmodels/regression/mixed_linear_model.py:2115: ConvergenceWarning: The Hessian matrix at the estimated parameter values is not positive definite.\n",
      "  warnings.warn(msg, ConvergenceWarning)\n",
      "/home1/john/anaconda3/envs/env1/lib/python3.7/site-packages/statsmodels/regression/mixed_linear_model.py:2094: ConvergenceWarning: The MLE may be on the boundary of the parameter space.\n",
      "  warnings.warn(msg, ConvergenceWarning)\n",
      "/home1/john/anaconda3/envs/env1/lib/python3.7/site-packages/statsmodels/regression/mixed_linear_model.py:2115: ConvergenceWarning: The Hessian matrix at the estimated parameter values is not positive definite.\n",
      "  warnings.warn(msg, ConvergenceWarning)\n",
      "/home1/john/anaconda3/envs/env1/lib/python3.7/site-packages/statsmodels/regression/mixed_linear_model.py:2094: ConvergenceWarning: The MLE may be on the boundary of the parameter space.\n",
      "  warnings.warn(msg, ConvergenceWarning)\n"
     ]
    }
   ],
   "source": [
    "import statsmodels.formula.api as smf\n",
    "\n",
    "selected_period = 'surrounding_recall' \n",
    "remove_soz_ictal = False\n",
    "recall_type_switch = 3 # 0 for original, 1 for only those with subsequent, 2 for second recalls only, 3 for isolated recalls\n",
    "regions_to_compare = ['PHC','HPC'] # 'PHC' 'ENT '# put smaller one first so positive values mean a rise\n",
    "location_selected = ['dg'] # make sure in brackets #['dg','ca1'] # 'ca3' # 'dg' 'ca1' # sub # left hippocampus # right hippocampus # hippocampus\n",
    "# put '' for no subregions, len=1 (e.g. 'ca1') in for subregion for HPC above, or len=2 (e.g. ['ca1','dg']) to compare regions\n",
    "\n",
    "pad = 2\n",
    "psth_start = -2000\n",
    "psth_end = 2000\n",
    "stats_bin = 500 # time bin width in ms to test stats on\n",
    "first_start = -1600 # going to make sequence of 3 bins and test 1st v. 3rd\n",
    "first_end = -100\n",
    "second_start = 200 # same idea\n",
    "second_end = 1700\n",
    "\n",
    "# get strings for path name for save and loading cluster data\n",
    "soz_label,recall_selection_name,subfolder = getSWRpathInfo(remove_soz_ictal,recall_type_switch,selected_period)\n",
    "\n",
    "session_accum = np.array([])\n",
    "subject_accum = copy(session_accum)\n",
    "ripple_accum1 = copy(session_accum)\n",
    "ripple_accum2 = copy(session_accum)\n",
    "category = copy(session_accum)\n",
    "\n",
    "for p,region in enumerate(regions_to_compare):\n",
    "    \n",
    "    # select subregion if necessary\n",
    "    temp_loc = ''\n",
    "    if len(location_selected) == 2:\n",
    "        temp_loc = location_selected[p]   \n",
    "    elif region == 'HPC':\n",
    "        temp_loc = location_selected[0]\n",
    "        \n",
    "    path_name = '/home1/john/SWR/figures/'+subfolder\n",
    "    fn = os.path.join(path_name,\n",
    "        'SWR_'+exp+'_'+region+'_'+temp_loc+'_'+str(recall_type_switch)+\n",
    "                      '_'+soz_label+'.p')          \n",
    "    with open(fn,'rb') as f:\n",
    "        dat = pickle.load(f)\n",
    "        if p == 0:\n",
    "            data1_test1 = dat['binned_first_stats_array']; data1_test2 = dat['binned_second_stats_array'];\n",
    "            subs1 = dat['subject_name_array']; sessions1 = dat['session_name_array']\n",
    "        else:\n",
    "            data2_test1 = dat['binned_first_stats_array']; data2_test2 = dat['binned_second_stats_array'];\n",
    "            subs2 = dat['subject_name_array']; sessions2 = dat['session_name_array']\n",
    "\n",
    "# now you have sets of data loaded for two regions along with sub/sess for each-->\n",
    "# search across the subjects to find which subjects have electrodes in both regions\n",
    "\n",
    "unique_subs1 = np.unique(subs1)    \n",
    "unique_subs2 = np.unique(subs2)\n",
    "test1_tvalues = []\n",
    "test2_tvalues = []\n",
    "for ss in unique_subs2: # this one should have fewer since always putting non-temp_loc one 2nd\n",
    "    if ss in unique_subs1:\n",
    "        # has electrodes in both! Now do a mixed model just for this subject\n",
    "        mask1 = subs1==ss\n",
    "        mask2 = subs2==ss\n",
    "        session_pred = sessions1[mask1]\n",
    "        session_pred = np.append(session_pred,sessions2[mask2])\n",
    "        category_pred = np.append(np.tile(0,sum(mask1)),np.tile(1,sum(mask2)))\n",
    "        test1_outcome = np.append(data1_test1[mask1,2],data2_test1[mask2,2])\n",
    "        test2_outcome = np.append(data1_test2[mask1,0],data2_test2[mask2,0])\n",
    "\n",
    "        # test 1 (-600:-100 ms from recall)\n",
    "        test1_df = pd.DataFrame(data={'session_pred':session_pred,\n",
    "                    'category_pred':category_pred,'test1_outcome':test1_outcome})\n",
    "        sig_bin_model = smf.mixedlm(\"test1_outcome ~ category_pred\", test1_df, groups=\"session_pred\")\n",
    "        test1_model = sig_bin_model.fit(reml=False, method='nm')\n",
    "        \n",
    "        # test 2 (200:700 ms from recall)\n",
    "        test2_df = pd.DataFrame(data={'session_pred':session_pred,\n",
    "                    'category_pred':category_pred,'test2_outcome':test2_outcome})\n",
    "        sig_bin_model = smf.mixedlm(\"test2_outcome ~ category_pred\", test2_df, groups=\"session_pred\")\n",
    "        test2_model = sig_bin_model.fit(reml=False, method='nm')\n",
    "        test1_tvalues.append(test1_model.tvalues[1])\n",
    "        test2_tvalues.append(test2_model.tvalues[1])\n",
    "a=1;"
   ]
  },
  {
   "cell_type": "code",
   "execution_count": 267,
   "metadata": {},
   "outputs": [
    {
     "data": {
      "image/png": "[encoded data removed]",
      "text/plain": [
       "<Figure size 432x288 with 1 Axes>"
      ]
     },
     "metadata": {
      "needs_background": "light"
     },
     "output_type": "display_data"
    },
    {
     "data": {
      "image/png": "[encoded data removed]",
      "text/plain": [
       "<Figure size 432x288 with 1 Axes>"
      ]
     },
     "metadata": {
      "needs_background": "light"
     },
     "output_type": "display_data"
    }
   ],
   "source": [
    "# single comparison plots:\n",
    "\n",
    "# test 1:\n",
    "figSub,axSub = plt.subplots(1,1, figsize=(6,4))\n",
    "test1_tvalues = np.array(test1_tvalues)[~np.isnan(test1_tvalues)]\n",
    "axSub.bar( 0, np.nanmean(test1_tvalues), yerr = np.nanstd(test1_tvalues)/np.sqrt(len(test1_tvalues)),\n",
    "          color = (0.5,0.5,0.5), error_kw={'elinewidth':8, 'ecolor':(0.7,0.7,0.7)} )\n",
    "sb.swarmplot(data=test1_tvalues, ax=axSub, color=(0,0.5,0.5), alpha=0.3)\n",
    "axSub.plot([axSub.get_xlim()[0],axSub.get_xlim()[1]],[0,0],linewidth=2,linestyle='--',color=(0,0,0),label='_nolegend_')\n",
    "text(0-0.1,-4,'N='+str(len(test1_tvalues)))\n",
    "axSub.set(xticks=[])\n",
    "axSub.set_ylim(-6,6) \n",
    "ylabel('t-scores')\n",
    "title('Ripple rate t-scores for -600:-100 ms by subject')\n",
    "figSub.tight_layout();\n",
    "\n",
    "# test 1:\n",
    "figSub,axSub = plt.subplots(1,1, figsize=(6,4))\n",
    "test2_tvalues = np.array(test2_tvalues)[~np.isnan(test2_tvalues)]\n",
    "axSub.bar( 0, np.nanmean(test2_tvalues), yerr = np.nanstd(test2_tvalues)/np.sqrt(len(test2_tvalues)),\n",
    "          color = (0.5,0.5,0.5), error_kw={'elinewidth':8, 'ecolor':(0.7,0.7,0.7)} )\n",
    "sb.swarmplot(data=test2_tvalues, ax=axSub, color=(0,0.5,0.5), alpha=0.3)\n",
    "axSub.plot([axSub.get_xlim()[0],axSub.get_xlim()[1]],[0,0],linewidth=2,linestyle='--',color=(0,0,0),label='_nolegend_')\n",
    "text(0-0.1,-4,'N='+str(len(test2_tvalues)))\n",
    "axSub.set(xticks=[])\n",
    "axSub.set_ylim(-6,6) \n",
    "ylabel('t-scores')\n",
    "title('Ripple rate t-scores for 200:700 ms by subject')\n",
    "figSub.tight_layout();"
   ]
  },
  {
   "cell_type": "code",
   "execution_count": 268,
   "metadata": {},
   "outputs": [
    {
     "data": {
      "text/plain": [
       "array([ 1.63678641, -0.15270266,  2.90780426, -1.05654109,  1.51766529,\n",
       "        5.00670316,  0.18577161,  0.2937039 ,  0.49145871,  0.07123431])"
      ]
     },
     "execution_count": 268,
     "metadata": {},
     "output_type": "execute_result"
    },
    {
     "data": {
      "text/plain": [
       "array([ 2.28085776,  0.49332851,  1.32418567, -0.47360222, -0.17065162,\n",
       "        3.1991913 ,  1.04071829, -0.90453403, -0.65436873,  0.43019267])"
      ]
     },
     "execution_count": 268,
     "metadata": {},
     "output_type": "execute_result"
    }
   ],
   "source": [
    "test1_tvalues\n",
    "test2_tvalues"
   ]
  },
  {
   "cell_type": "code",
   "execution_count": 276,
   "metadata": {},
   "outputs": [],
   "source": [
    "# ISOLATED RECALLS \n",
    "test = 2 # test 1 or test 2? (pre recall bump v. post recall valley)\n",
    "\n",
    "# test 1 pairwise comparisons by subject:\n",
    "if test == 1:\n",
    "    ent_ca1 = [-0.85098251,  1.54166296,  4.63857452, -0.3015888 , -1.26860286,\n",
    "            0.96750138,  1.94227705,  1.40829184,  1.49079247, -0.55716642,\n",
    "            1.76256298,  0.34580046,  1.61287741,  2.27550001] \n",
    "    ent_dg = [ 0.5513075 ,  1.41499855,  1.56763262,  3.36310246, -0.39345704,\n",
    "            2.12069449, -0.55947386,  2.07469222,  0.53792351,  1.07474658,\n",
    "            2.48864782]\n",
    "    phc_ca1 = [ 0.9227761 ,  0.45469161,  3.55058019,  0.92323064,  2.81916607,\n",
    "            1.67553711, -0.63377728,  1.3715776 ,  2.71672923, -0.69216144,\n",
    "            0.22196863,  0.        ,  0.51767695,  0.08305765,  1.84423832,\n",
    "            0.57804047]\n",
    "    phc_dg = [ 1.63678641, -0.15270266,  2.90780426, -1.05654109,  1.51766529,\n",
    "            5.00670316,  0.18577161,  0.2937039 ,  0.49145871,  0.07123431]\n",
    "    dg_ca1 = [-1.57229228,  0.        ,  0.5662012 ,  0.93370889,  3.996451  ,\n",
    "            2.05480467,  0.55332263,  0.53129917, -2.56658197,  2.26742746,\n",
    "            1.12976265,  0.5985056 , -0.61333888,  3.29413508, -2.52580118,\n",
    "            2.61367083, -1.81275028, -0.63883855,  0.08191849,  4.44774799,\n",
    "           -0.20899041,  1.44756621,  1.20283353,  0.46837062, -0.51786659,\n",
    "            0.11687449, -1.74865804,  0.81911242]\n",
    "    ent_phc = [-1.06789294,  1.90488159, -1.33252431, -0.8112575 , -0.23843643,\n",
    "            1.61614984,  1.24118203]\n",
    "\n",
    "# test 2 pairwise comparisons:\n",
    "if test == 2:\n",
    "    ent_ca1 = [-1.47821818,  1.21383203,  4.96331649,  7.14628453, -2.82560444,\n",
    "           -0.76256003,  0.28365431, -1.61677004,  1.42472831,  1.16554303,\n",
    "           -1.37117396]\n",
    "    ent_dg = [-5.39687072e-01,  5.66957601e-01,  2.17509216e+00, -8.03405889e-01,\n",
    "           -2.82348410e+00,  2.46717582e-01,  3.71880921e-01,  8.95995922e-17,\n",
    "            6.18079665e-01,  1.05654109e+00, -1.16085890e-01]\n",
    "    phc_ca1 = [ 0.45747373,  1.19145221,  3.98369836,  1.77863836,  0.45174019,\n",
    "            0.68265615, -2.12462429,  1.31448103,  1.19432621,  1.21762668,\n",
    "            0.95684317,  0.58172053]\n",
    "    phc_dg = [ 2.28085776,  0.49332851,  1.32418567, -0.47360222, -0.17065162,\n",
    "            3.1991913 ,  1.04071829, -0.90453403, -0.65436873,  0.43019267]\n",
    "    dg_ca1 = [-1.03386828e+00,  1.01904933e+00, -9.87420883e-01,  1.02318563e+00,\n",
    "            2.28089958e+00,  1.42837966e+00, -1.33598613e+00,  9.17718823e-01,\n",
    "           -1.25634334e+00,  3.43562832e-01,  1.77975074e+00,  1.07474658e+00,\n",
    "           -5.51998257e-01,  2.22206728e+00, -1.47797062e+00,  2.22443486e+00,\n",
    "            0.00000000e+00, -1.96708071e+00,  1.59499294e+00,  1.31003381e+00,\n",
    "            2.44528099e+00, -1.85077636e+00,  2.31183881e+00,  6.45893114e-01,\n",
    "            1.60570673e-16, -1.59547039e+00,  7.16705720e-01]\n",
    "    ent_phc = [-2.59366765,  2.13489435, -0.5744792 ,  0.44973256, -2.2198577 ,\n",
    "           -0.73379939,  0.67127475]"
   ]
  },
  {
   "cell_type": "code",
   "execution_count": 277,
   "metadata": {},
   "outputs": [
    {
     "name": "stderr",
     "output_type": "stream",
     "text": [
      "/home1/john/anaconda3/envs/env1/lib/python3.7/site-packages/pandas/core/frame.py:7138: FutureWarning: Sorting because non-concatenation axis is not aligned. A future version\n",
      "of pandas will change to not sort by default.\n",
      "\n",
      "To accept the future behavior, pass 'sort=False'.\n",
      "\n",
      "To retain the current behavior and silence the warning, pass 'sort=True'.\n",
      "\n",
      "  sort=sort,\n"
     ]
    },
    {
     "data": {
      "image/png": "[encoded data removed]",
      "text/plain": [
       "<Figure size 504x288 with 1 Axes>"
      ]
     },
     "metadata": {
      "needs_background": "light"
     },
     "output_type": "display_data"
    }
   ],
   "source": [
    "# multiple pairwise comparison plot:\n",
    "from scipy.stats import ttest_1samp\n",
    "from statsmodels.stats.multitest import fdrcorrection\n",
    "\n",
    "# make dataframe\n",
    "comp_data = [ent_ca1,ent_dg,phc_ca1,phc_dg,dg_ca1,ent_phc]\n",
    "comp_names = ['CA1 v. ENT','DG v. ENT','CA1 v. PHC','DG v. PHC','CA1 v. DG','PHC v. ENT']\n",
    "col_names = ['region','t-scores']\n",
    "comp_df = pd.DataFrame(columns=col_names)\n",
    "for i in range(len(comp_data)):\n",
    "    temp = pd.DataFrame(columns=col_names)\n",
    "    temp['t_scores'] = comp_data[i]\n",
    "    temp['region'] = np.tile(comp_names[i],len(comp_data[i]))\n",
    "    comp_df = comp_df.append(temp,ignore_index=False)\n",
    "    \n",
    "figSub,axSub = plt.subplots(1,1, figsize=(7,4))\n",
    "axSub.bar( range(len(comp_names)), [np.mean(i) for i in comp_data], \n",
    "          yerr = [np.std(i)/np.sqrt(len(i)) for i in comp_data],\n",
    "          color = (0.5,0.5,0.5), error_kw={'elinewidth':8, 'ecolor':(0.7,0.7,0.7)} )\n",
    "sb.swarmplot(x='region', y='t_scores', data=comp_df, ax=axSub, color=(0,0.5,0.5), alpha=0.3)\n",
    "axSub.plot([axSub.get_xlim()[0],axSub.get_xlim()[1]],[0,0],linewidth=2,linestyle='--',color=(0,0,0),label='_nolegend_')\n",
    "for i in range(len(comp_names)):\n",
    "    text(i-0.2,-5,'N='+str(len(comp_data[i])))\n",
    "# put *s for FDR-corrected significance\n",
    "p_values = []\n",
    "for i in range(len(comp_data)):\n",
    "    p_values.append(ttest_1samp(comp_data[i],0)[1])\n",
    "sig_after_correction = fdrcorrection(p_values)[0]\n",
    "for i in range(len(sig_after_correction)):\n",
    "    if sig_after_correction[i]==True:\n",
    "        text(i-0.02,-4,'*',size=15)\n",
    "\n",
    "# axSub.set(xticks=[],xticklabels=comp_names)\n",
    "axSub.set_ylim(-5.5,5.5) \n",
    "ylabel('t-scores')\n",
    "if test == 1:\n",
    "    title('Ripple rate t-scores for pre-recall bump by subject (with elecs in both regions)')\n",
    "else:\n",
    "    title('Ripple rate t-scores for post-recall valley by subject (with elecs in both regions)')\n",
    "figSub.tight_layout()\n",
    "\n",
    "save_fig = 1\n",
    "if save_fig==1:\n",
    "    savefig('../figures/t_score_comparisons/Test '+str(test)+' pairwise comparison plot')\n",
    "a=1;"
   ]
  },
  {
   "cell_type": "code",
   "execution_count": 272,
   "metadata": {},
   "outputs": [
    {
     "data": {
      "text/plain": [
       "False"
      ]
     },
     "execution_count": 272,
     "metadata": {},
     "output_type": "execute_result"
    }
   ],
   "source": [
    "sig_after_correction[1]"
   ]
  },
  {
   "cell_type": "code",
   "execution_count": 151,
   "metadata": {},
   "outputs": [
    {
     "ename": "ValueError",
     "evalue": "Could not interpret input 'day'",
     "output_type": "error",
     "traceback": [
      "\u001b[0;31m---------------------------------------------------------------------------\u001b[0m",
      "\u001b[0;31mValueError\u001b[0m                                Traceback (most recent call last)",
      "\u001b[0;32m<ipython-input-151-58384f13c589>\u001b[0m in \u001b[0;36m<module>\u001b[0;34m\u001b[0m\n\u001b[0;32m----> 1\u001b[0;31m \u001b[0msb\u001b[0m\u001b[0;34m.\u001b[0m\u001b[0mswarmplot\u001b[0m\u001b[0;34m(\u001b[0m\u001b[0mx\u001b[0m\u001b[0;34m=\u001b[0m\u001b[0;34m\"day\"\u001b[0m\u001b[0;34m,\u001b[0m \u001b[0my\u001b[0m\u001b[0;34m=\u001b[0m\u001b[0;34m\"total_bill\"\u001b[0m\u001b[0;34m,\u001b[0m \u001b[0mtdata\u001b[0m\u001b[0;34m=\u001b[0m\u001b[0mcomp_df\u001b[0m\u001b[0;34m,\u001b[0m \u001b[0max\u001b[0m\u001b[0;34m=\u001b[0m\u001b[0maxSub\u001b[0m\u001b[0;34m,\u001b[0m \u001b[0mcolor\u001b[0m\u001b[0;34m=\u001b[0m\u001b[0;34m(\u001b[0m\u001b[0;36m0\u001b[0m\u001b[0;34m,\u001b[0m\u001b[0;36m0.5\u001b[0m\u001b[0;34m,\u001b[0m\u001b[0;36m0.5\u001b[0m\u001b[0;34m)\u001b[0m\u001b[0;34m,\u001b[0m \u001b[0malpha\u001b[0m\u001b[0;34m=\u001b[0m\u001b[0;36m0.3\u001b[0m\u001b[0;34m)\u001b[0m\u001b[0;34m\u001b[0m\u001b[0;34m\u001b[0m\u001b[0m\n\u001b[0m",
      "\u001b[0;32m~/anaconda3/envs/env1/lib/python3.7/site-packages/seaborn/categorical.py\u001b[0m in \u001b[0;36mswarmplot\u001b[0;34m(x, y, hue, data, order, hue_order, dodge, orient, color, palette, size, edgecolor, linewidth, ax, **kwargs)\u001b[0m\n\u001b[1;32m   2975\u001b[0m \u001b[0;34m\u001b[0m\u001b[0m\n\u001b[1;32m   2976\u001b[0m     plotter = _SwarmPlotter(x, y, hue, data, order, hue_order,\n\u001b[0;32m-> 2977\u001b[0;31m                             dodge, orient, color, palette)\n\u001b[0m\u001b[1;32m   2978\u001b[0m     \u001b[0;32mif\u001b[0m \u001b[0max\u001b[0m \u001b[0;32mis\u001b[0m \u001b[0;32mNone\u001b[0m\u001b[0;34m:\u001b[0m\u001b[0;34m\u001b[0m\u001b[0;34m\u001b[0m\u001b[0m\n\u001b[1;32m   2979\u001b[0m         \u001b[0max\u001b[0m \u001b[0;34m=\u001b[0m \u001b[0mplt\u001b[0m\u001b[0;34m.\u001b[0m\u001b[0mgca\u001b[0m\u001b[0;34m(\u001b[0m\u001b[0;34m)\u001b[0m\u001b[0;34m\u001b[0m\u001b[0;34m\u001b[0m\u001b[0m\n",
      "\u001b[0;32m~/anaconda3/envs/env1/lib/python3.7/site-packages/seaborn/categorical.py\u001b[0m in \u001b[0;36m__init__\u001b[0;34m(self, x, y, hue, data, order, hue_order, dodge, orient, color, palette)\u001b[0m\n\u001b[1;32m   1212\u001b[0m                  dodge, orient, color, palette):\n\u001b[1;32m   1213\u001b[0m         \u001b[0;34m\"\"\"Initialize the plotter.\"\"\"\u001b[0m\u001b[0;34m\u001b[0m\u001b[0;34m\u001b[0m\u001b[0m\n\u001b[0;32m-> 1214\u001b[0;31m         \u001b[0mself\u001b[0m\u001b[0;34m.\u001b[0m\u001b[0mestablish_variables\u001b[0m\u001b[0;34m(\u001b[0m\u001b[0mx\u001b[0m\u001b[0;34m,\u001b[0m \u001b[0my\u001b[0m\u001b[0;34m,\u001b[0m \u001b[0mhue\u001b[0m\u001b[0;34m,\u001b[0m \u001b[0mdata\u001b[0m\u001b[0;34m,\u001b[0m \u001b[0morient\u001b[0m\u001b[0;34m,\u001b[0m \u001b[0morder\u001b[0m\u001b[0;34m,\u001b[0m \u001b[0mhue_order\u001b[0m\u001b[0;34m)\u001b[0m\u001b[0;34m\u001b[0m\u001b[0;34m\u001b[0m\u001b[0m\n\u001b[0m\u001b[1;32m   1215\u001b[0m         \u001b[0mself\u001b[0m\u001b[0;34m.\u001b[0m\u001b[0mestablish_colors\u001b[0m\u001b[0;34m(\u001b[0m\u001b[0mcolor\u001b[0m\u001b[0;34m,\u001b[0m \u001b[0mpalette\u001b[0m\u001b[0;34m,\u001b[0m \u001b[0;36m1\u001b[0m\u001b[0;34m)\u001b[0m\u001b[0;34m\u001b[0m\u001b[0;34m\u001b[0m\u001b[0m\n\u001b[1;32m   1216\u001b[0m \u001b[0;34m\u001b[0m\u001b[0m\n",
      "\u001b[0;32m~/anaconda3/envs/env1/lib/python3.7/site-packages/seaborn/categorical.py\u001b[0m in \u001b[0;36mestablish_variables\u001b[0;34m(self, x, y, hue, data, orient, order, hue_order, units)\u001b[0m\n\u001b[1;32m    153\u001b[0m                 \u001b[0;32mif\u001b[0m \u001b[0misinstance\u001b[0m\u001b[0;34m(\u001b[0m\u001b[0minput\u001b[0m\u001b[0;34m,\u001b[0m \u001b[0mstring_types\u001b[0m\u001b[0;34m)\u001b[0m\u001b[0;34m:\u001b[0m\u001b[0;34m\u001b[0m\u001b[0;34m\u001b[0m\u001b[0m\n\u001b[1;32m    154\u001b[0m                     \u001b[0merr\u001b[0m \u001b[0;34m=\u001b[0m \u001b[0;34m\"Could not interpret input '{}'\"\u001b[0m\u001b[0;34m.\u001b[0m\u001b[0mformat\u001b[0m\u001b[0;34m(\u001b[0m\u001b[0minput\u001b[0m\u001b[0;34m)\u001b[0m\u001b[0;34m\u001b[0m\u001b[0;34m\u001b[0m\u001b[0m\n\u001b[0;32m--> 155\u001b[0;31m                     \u001b[0;32mraise\u001b[0m \u001b[0mValueError\u001b[0m\u001b[0;34m(\u001b[0m\u001b[0merr\u001b[0m\u001b[0;34m)\u001b[0m\u001b[0;34m\u001b[0m\u001b[0;34m\u001b[0m\u001b[0m\n\u001b[0m\u001b[1;32m    156\u001b[0m \u001b[0;34m\u001b[0m\u001b[0m\n\u001b[1;32m    157\u001b[0m             \u001b[0;31m# Figure out the plotting orientation\u001b[0m\u001b[0;34m\u001b[0m\u001b[0;34m\u001b[0m\u001b[0;34m\u001b[0m\u001b[0m\n",
      "\u001b[0;31mValueError\u001b[0m: Could not interpret input 'day'"
     ]
    }
   ],
   "source": [
    "sb.swarmplot(x=\"day\", y=\"total_bill\", tdata=comp_df, ax=axSub, color=(0,0.5,0.5), alpha=0.3)"
   ]
  },
  {
   "cell_type": "code",
   "execution_count": null,
   "metadata": {},
   "outputs": [],
   "source": []
  }
 ],
 "metadata": {
  "kernelspec": {
   "display_name": "env1",
   "language": "python",
   "name": "env1"
  },
  "language_info": {
   "codemirror_mode": {
    "name": "ipython",
    "version": 3
   },
   "file_extension": ".py",
   "mimetype": "text/x-python",
   "name": "python",
   "nbconvert_exporter": "python",
   "pygments_lexer": "ipython3",
   "version": "3.7.5"
  }
 },
 "nbformat": 4,
 "nbformat_minor": 4
}
