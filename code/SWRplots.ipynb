{
 "cells": [
  {
   "cell_type": "code",
   "execution_count": 1,
   "metadata": {},
   "outputs": [
    {
     "name": "stderr",
     "output_type": "stream",
     "text": [
      "/home1/john/anaconda3/envs/env1/lib/python3.7/site-packages/ptsa/data/timeseries.py:526: FutureWarning: xarray subclass TimeSeriesX should explicitly define __slots__\n",
      "  class TimeSeriesX(TimeSeries):\n"
     ]
    }
   ],
   "source": [
    "import pandas as pd; pd.set_option('display.max_columns', 30)\n",
    "import numpy as np\n",
    "from cmlreaders import CMLReader, get_data_index\n",
    "from ptsa.data.filters import ButterworthFilter\n",
    "import sys\n",
    "import os\n",
    "import matplotlib.pyplot as plt\n",
    "%matplotlib inline\n",
    "from pylab import *\n",
    "from copy import copy\n",
    "from scipy import stats\n",
    "import pickle\n",
    "plt.rcParams['pdf.fonttype'] = 42; plt.rcParams['ps.fonttype'] = 42 # fix fonts for Illustrator\n",
    "sys.path.append('/home1/john/Downloads/ptsa_plot-master/')\n",
    "sys.path.append('/home1/john/johnModules')\n",
    "from brain_labels import MTL_labels, LTC_labels, PFC_labels, OTHER_labels, ALL_labels # all location labels\n",
    "%load_ext autoreload\n",
    "%autoreload\n",
    "from general import *\n",
    "from SWRmodule import *\n",
    "\n",
    "df = get_data_index(\"r1\") # all RAM subjects\n",
    "exp = 'FR1'"
   ]
  },
  {
   "cell_type": "markdown",
   "metadata": {},
   "source": [
    "## Plot CA3 v. DG on same plot"
   ]
  },
  {
   "cell_type": "code",
   "execution_count": 8,
   "metadata": {},
   "outputs": [
    {
     "name": "stdout",
     "output_type": "stream",
     "text": [
      "Test 1 p-value: 6.035028723471036e-10\n",
      "Test 2 p-value: 9.471208597621017e-05\n"
     ]
    },
    {
     "ename": "NameError",
     "evalue": "name 'start_array' is not defined",
     "output_type": "error",
     "traceback": [
      "\u001b[0;31m---------------------------------------------------------------------------\u001b[0m",
      "\u001b[0;31mNameError\u001b[0m                                 Traceback (most recent call last)",
      "\u001b[0;32m<ipython-input-8-cd640a9e4d42>\u001b[0m in \u001b[0;36m<module>\u001b[0;34m\u001b[0m\n\u001b[1;32m     68\u001b[0m     \u001b[0mprint\u001b[0m\u001b[0;34m(\u001b[0m\u001b[0;34m'Test 1 p-value: '\u001b[0m\u001b[0;34m+\u001b[0m\u001b[0mstr\u001b[0m\u001b[0;34m(\u001b[0m\u001b[0mbin_model1\u001b[0m\u001b[0;34m.\u001b[0m\u001b[0mpvalues\u001b[0m\u001b[0;34m[\u001b[0m\u001b[0;36m1\u001b[0m\u001b[0;34m]\u001b[0m\u001b[0;34m)\u001b[0m\u001b[0;34m)\u001b[0m\u001b[0;34m\u001b[0m\u001b[0;34m\u001b[0m\u001b[0m\n\u001b[1;32m     69\u001b[0m     \u001b[0mprint\u001b[0m\u001b[0;34m(\u001b[0m\u001b[0;34m'Test 2 p-value: '\u001b[0m\u001b[0;34m+\u001b[0m\u001b[0mstr\u001b[0m\u001b[0;34m(\u001b[0m\u001b[0mbin_model2\u001b[0m\u001b[0;34m.\u001b[0m\u001b[0mpvalues\u001b[0m\u001b[0;34m[\u001b[0m\u001b[0;36m1\u001b[0m\u001b[0;34m]\u001b[0m\u001b[0;34m)\u001b[0m\u001b[0;34m)\u001b[0m\u001b[0;34m\u001b[0m\u001b[0;34m\u001b[0m\u001b[0m\n\u001b[0;32m---> 70\u001b[0;31m     \u001b[0mprint\u001b[0m\u001b[0;34m(\u001b[0m\u001b[0mstr\u001b[0m\u001b[0;34m(\u001b[0m\u001b[0mstart_array\u001b[0m\u001b[0;34m.\u001b[0m\u001b[0mshape\u001b[0m\u001b[0;34m[\u001b[0m\u001b[0;36m0\u001b[0m\u001b[0;34m]\u001b[0m\u001b[0;34m)\u001b[0m\u001b[0;34m+\u001b[0m\u001b[0;34m' recalls'\u001b[0m\u001b[0;34m)\u001b[0m\u001b[0;34m\u001b[0m\u001b[0;34m\u001b[0m\u001b[0m\n\u001b[0m\u001b[1;32m     71\u001b[0m \u001b[0;34m\u001b[0m\u001b[0m\n\u001b[1;32m     72\u001b[0m \u001b[0ma\u001b[0m\u001b[0;34m=\u001b[0m\u001b[0;36m1\u001b[0m\u001b[0;34m;\u001b[0m\u001b[0;34m\u001b[0m\u001b[0;34m\u001b[0m\u001b[0m\n",
      "\u001b[0;31mNameError\u001b[0m: name 'start_array' is not defined"
     ]
    },
    {
     "data": {
      "image/png": "[encoded data removed]",
      "text/plain": [
       "<Figure size 432x288 with 1 Axes>"
      ]
     },
     "metadata": {
      "needs_background": "light"
     },
     "output_type": "display_data"
    }
   ],
   "source": [
    "# load data from each\n",
    "\n",
    "selected_period = 'surrounding_recall' \n",
    "remove_soz_ictal = False\n",
    "recall_type_switch = 3 # 0 for original, 1 for only those with subsequent, 2 for second recalls only, 3 for isolated recalls\n",
    "region_name = 'HPC' #'ENT' #'HPC' #HPC_ENT #ENT #HPC # PHC \n",
    "# location_selected = 'ca1' # 'ca3' # 'dg' 'ca1' # sub # left hippocampus # right hippocampus # hippocampus\n",
    "# # (leave as '' if not HPC)\n",
    "\n",
    "pad = 2\n",
    "psth_start = -2000\n",
    "psth_end = 2000\n",
    "stats_bin = 500 # time bin width in ms to test stats on\n",
    "first_start = -1600 # going to make sequence of 3 bins and test 1st v. 3rd\n",
    "first_end = -100\n",
    "second_start = 200 # same idea\n",
    "second_end = 1700\n",
    "\n",
    "# get strings for path name for save and loading cluster data\n",
    "soz_label,recall_selection_name,subfolder = getSWRpathInfo(remove_soz_ictal,recall_type_switch,selected_period)\n",
    "\n",
    "for p,location_selected in enumerate(['ca1','dg']):\n",
    "    \n",
    "    if p==1:\n",
    "        color = (0,0,1)\n",
    "        label = 'CA1'\n",
    "    else:\n",
    "        color = (1,0,0)\n",
    "        label = 'Dentate gyrus'\n",
    "\n",
    "    path_name = '/home1/john/SWR/figures/'+subfolder\n",
    "    fn = os.path.join(path_name,\n",
    "        'SWR_'+exp+'_'+region_name+'_'+location_selected+'_'+str(recall_type_switch)+'_'+soz_label+'.p')            \n",
    "    with open(fn,'rb') as f:\n",
    "        dat = pickle.load(f)\n",
    "        bin_centers = dat['bin_centers']; PSTH = dat['PSTH']; CI_plot = dat['CI_plot'];\n",
    "        bin_model1 = dat['bin_model1']; bin_model2 = dat['bin_model2']\n",
    "\n",
    "    # make plot\n",
    "    subplots(1,1,figsize=(6,4))\n",
    "    xr = bin_centers #np.arange(psth_start,psth_end,binsize)\n",
    "\n",
    "    # plot smoothed mean +/- CI\n",
    "    if pad > 0:\n",
    "        plot(xr[pad:-pad],PSTH[pad:-pad],color=color)\n",
    "        fill_between(xr[pad:-pad], PSTH[pad:-pad]-CI_plot[0,:], PSTH[pad:-pad]+CI_plot[0,:],color=color, alpha = 0.3)\n",
    "    else:\n",
    "        plot(xr,PSTH)\n",
    "        fill_between(xr, PSTH-CI_plot[0,:], PSTH+CI_plot[0,:],color=color, alpha = 0.3)\n",
    "    # bootstrap SE using random sample with replacement\n",
    "\n",
    "    xticks(np.arange(psth_start,psth_end+1,500),np.arange(psth_start/1000,psth_end/1000+1,500/1000))\n",
    "    xlabel('Time from recall (s)')\n",
    "    ylabel('Ripple rate (events/s)')\n",
    "    tight_layout()\n",
    "    ax = plt.gca()\n",
    "    ylim = 0.7 # keep it here since occasionally CIs get kinda high\n",
    "    ax.set_ylim(0,ylim)\n",
    "    ax.set_xlim(psth_start-100,psth_end+100)\n",
    "    plot([0,0],[ax.get_ylim()[0],ax.get_ylim()[1]],linewidth=1,linestyle='-',color=(0,0,0));\n",
    "    x_width = [ax.get_xlim()[0],ax.get_xlim()[1]]\n",
    "\n",
    "    # plot bands of significance\n",
    "    if bin_model1.pvalues[1] < 0.05:\n",
    "        plot([first_end-stats_bin,first_end],[0.2,0.2],color=(1,0.5,0))\n",
    "    if bin_model2.pvalues[1] < 0.05:\n",
    "        plot([second_start,second_start+stats_bin],[0.2,0.2],color=(1,0.5,0))\n",
    "    print('Test 1 p-value: '+str(bin_model1.pvalues[1]))\n",
    "    print('Test 2 p-value: '+str(bin_model2.pvalues[1]))\n",
    "    print(str(start_array.shape[0])+' recalls')\n",
    "\n",
    "a=1;"
   ]
  },
  {
   "cell_type": "code",
   "execution_count": null,
   "metadata": {},
   "outputs": [],
   "source": []
  }
 ],
 "metadata": {
  "kernelspec": {
   "display_name": "env1",
   "language": "python",
   "name": "env1"
  },
  "language_info": {
   "codemirror_mode": {
    "name": "ipython",
    "version": 3
   },
   "file_extension": ".py",
   "mimetype": "text/x-python",
   "name": "python",
   "nbconvert_exporter": "python",
   "pygments_lexer": "ipython3",
   "version": "3.7.5"
  }
 },
 "nbformat": 4,
 "nbformat_minor": 4
}
