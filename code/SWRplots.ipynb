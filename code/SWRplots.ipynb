{
 "cells": [
  {
   "cell_type": "markdown",
   "metadata": {},
   "source": [
    "## These are plots formed after saving the data across subjects run in SWRanalysis.ipynb "
   ]
  },
  {
   "cell_type": "code",
   "execution_count": 1,
   "metadata": {},
   "outputs": [
    {
     "name": "stderr",
     "output_type": "stream",
     "text": [
      "/home1/john/anaconda3/envs/env1/lib/python3.7/site-packages/ptsa/data/timeseries.py:526: FutureWarning: xarray subclass TimeSeriesX should explicitly define __slots__\n",
      "  class TimeSeriesX(TimeSeries):\n"
     ]
    }
   ],
   "source": [
    "import pandas as pd; pd.set_option('display.max_columns', 30)\n",
    "import numpy as np\n",
    "from cmlreaders import CMLReader, get_data_index\n",
    "from ptsa.data.filters import ButterworthFilter\n",
    "import sys\n",
    "import os\n",
    "import matplotlib.pyplot as plt\n",
    "%matplotlib inline\n",
    "import seaborn as sb\n",
    "from pylab import *\n",
    "from copy import copy\n",
    "from scipy import stats\n",
    "import pickle\n",
    "plt.rcParams['pdf.fonttype'] = 42; plt.rcParams['ps.fonttype'] = 42 # fix fonts for Illustrator\n",
    "sys.path.append('/home1/john/Downloads/ptsa_plot-master/')\n",
    "sys.path.append('/home1/john/johnModules')\n",
    "from brain_labels import MTL_labels, LTC_labels, PFC_labels, OTHER_labels, ALL_labels # all location labels\n",
    "%load_ext autoreload\n",
    "%autoreload\n",
    "from general import *\n",
    "from SWRmodule import *\n",
    "\n",
    "df = get_data_index(\"r1\") # all RAM subjects\n",
    "exp = 'FR1'"
   ]
  },
  {
   "cell_type": "markdown",
   "metadata": {},
   "source": [
    "## Plot CA3 v. DG on same plot"
   ]
  },
  {
   "cell_type": "code",
   "execution_count": 62,
   "metadata": {},
   "outputs": [
    {
     "name": "stdout",
     "output_type": "stream",
     "text": [
      "CA1: 7456 recalls\n",
      "Test 1 p-value: 0.0007296431418544436\n",
      "Test 2 p-value: 0.0020482936928663633\n",
      "Dentate gyrus: 5119 recalls\n",
      "Test 1 p-value: 0.026197813758447187\n",
      "Test 2 p-value: 0.17846685411252317\n"
     ]
    },
    {
     "data": {
      "image/png": "[encoded data removed]",
      "text/plain": [
       "<Figure size 432x288 with 1 Axes>"
      ]
     },
     "metadata": {
      "needs_background": "light"
     },
     "output_type": "display_data"
    }
   ],
   "source": [
    "# load data from each\n",
    "\n",
    "selected_period = 'surrounding_recall' \n",
    "remove_soz_ictal = False\n",
    "recall_type_switch = 6 # 0 for original, 1 for only those with subsequent, 2 for second recalls only, 3 for isolated recalls\n",
    "region_name = 'HPC'\n",
    "filter_type = 'hamming125200' # hamming # butter # hamming125200\n",
    "# location_selected = 'ca1' # 'ca3' # 'dg' 'ca1' # sub # left hippocampus # right hippocampus # hippocampus\n",
    "# # (leave as '' if not HPC)\n",
    "\n",
    "save_plot = 0\n",
    "\n",
    "recall_minimum = 2000\n",
    "pad = 2\n",
    "psth_start = -2000\n",
    "psth_end = 2000\n",
    "stats_bin = 500 # time bin width in ms to test stats on\n",
    "first_start = -1600 # going to make sequence of 3 bins and test 1st v. 3rd\n",
    "first_end = -100\n",
    "second_start = 200 # same idea\n",
    "second_end = 1700\n",
    "\n",
    "# get strings for path name for save and loading cluster data\n",
    "soz_label,recall_selection_name,subfolder = getSWRpathInfo(remove_soz_ictal,recall_type_switch,selected_period,recall_minimum)\n",
    "\n",
    "for p,location_selected in enumerate(['ca1','dg']):\n",
    "    \n",
    "    if p==0:\n",
    "        subplots(1,1,figsize=(6,4)); ax = plt.gca()\n",
    "        color = (0,0,0)\n",
    "        label = 'CA1'\n",
    "        line_dist = 0.175\n",
    "    else:\n",
    "        color = (1,0,0)\n",
    "        label = 'Dentate gyrus'\n",
    "        line_dist = 0.15\n",
    "\n",
    "    path_name = '/home1/john/SWR/figures/'+subfolder\n",
    "    fn = os.path.join(path_name,\n",
    "        'SWR_'+exp+'_'+region_name+'_'+location_selected+'_'+str(recall_type_switch)+'_'+soz_label+'_'+filter_type+'.p')             \n",
    "    with open(fn,'rb') as f:\n",
    "        dat = pickle.load(f)\n",
    "        bin_centers = dat['bin_centers']; PSTH = dat['PSTH']; SE_plot = dat['SE_plot']; num_trials = dat['num_trials'];\n",
    "        bin_model1 = dat['bin_model1']; bin_model2 = dat['bin_model2']\n",
    "\n",
    "    # make plot\n",
    "    xr = bin_centers #np.arange(psth_start,psth_end,binsize)\n",
    "\n",
    "    # plot smoothed mean +/- CI\n",
    "    if pad > 0:\n",
    "        SE_plot = fixSEgaps(SE_plot) # fix gaps when using 40% of data\n",
    "                    \n",
    "        plot(xr[pad:-pad],PSTH[pad:-pad],color=color)\n",
    "        fill_between(xr[pad:-pad], PSTH[pad:-pad]-SE_plot[0,:], PSTH[pad:-pad]+SE_plot[0,:],\n",
    "                     color=color, alpha = 0.3, label='_nolegend_')\n",
    "    else:\n",
    "        plot(xr,PSTH)\n",
    "        fill_between(xr, PSTH-SE_plot[0,:], PSTH+SE_plot[0,:],\n",
    "                     color=color, alpha = 0.3, label='_nolegend_')\n",
    "\n",
    "    # plot bands of significance\n",
    "    if bin_model1.pvalues[1] < 0.05:\n",
    "        plot([first_end-stats_bin,first_end],[line_dist,line_dist],'--',\n",
    "             color=color,label='_nolegend_')\n",
    "    if bin_model2.pvalues[1] < 0.05:\n",
    "        plot([second_start,second_start+stats_bin],[line_dist,line_dist],'--',\n",
    "             color=color,label='_nolegend_')\n",
    "    print(label+': '+str(num_trials)+' recalls')\n",
    "    print('Test 1 p-value: '+str(bin_model1.pvalues[1]))\n",
    "    print('Test 2 p-value: '+str(bin_model2.pvalues[1]))\n",
    "\n",
    "xticks(np.arange(psth_start,psth_end+1,500),np.arange(psth_start/1000,psth_end/1000+1,500/1000))\n",
    "xlabel('Time from recall (s)')\n",
    "ylabel('Ripple rate (events/s)')\n",
    "if filter_type == 'hamming':\n",
    "    ylim = 0.7 # keep it here since occasionally CIs get kinda high\n",
    "    plot([ax.get_xlim()[0],ax.get_xlim()[1]],[0.35,0.35],linewidth=1,linestyle='--',color=(0.8,0.8,0.8),label='_nolegend_')\n",
    "else: # for Vaz and hamming125200\n",
    "    ylim = 0.45\n",
    "    \n",
    "ax.set_ylim(0,ylim)\n",
    "ax.set_xlim(psth_start-100,psth_end+100)\n",
    "plot([0,0],[ax.get_ylim()[0],ax.get_ylim()[1]],linewidth=1,linestyle='-',color=(0,0,0),label='_nolegend_')\n",
    "ax.legend({'CA1','Dentate gyrus'})\n",
    "tight_layout()\n",
    "\n",
    "if save_plot == 1:\n",
    "    plt.savefig('../figures/PSTHplots/'+exp+'_'+'PSTH_'+region_name+'-'+str(recall_type_switch)+'.pdf',transparent=True) \n",
    "plt.show()\n",
    "a=1;"
   ]
  },
  {
   "cell_type": "code",
   "execution_count": 57,
   "metadata": {},
   "outputs": [
    {
     "data": {
      "text/plain": [
       "False"
      ]
     },
     "execution_count": 57,
     "metadata": {},
     "output_type": "execute_result"
    }
   ],
   "source": [
    "filter_type == 'hamming'"
   ]
  },
  {
   "cell_type": "markdown",
   "metadata": {},
   "source": [
    "## Single data plots"
   ]
  },
  {
   "cell_type": "code",
   "execution_count": 40,
   "metadata": {},
   "outputs": [
    {
     "name": "stdout",
     "output_type": "stream",
     "text": [
      "Entorhinal cortex: 7401 recalls\n",
      "Test 1 p-value: 0.30272511334211194\n",
      "Test 2 p-value: 0.1076246609841942\n",
      "Entorhinal cortex: 7401 recalls\n",
      "Test 1 p-value: 0.30272511334211194\n",
      "Test 2 p-value: 0.1076246609841942\n"
     ]
    },
    {
     "data": {
      "image/png": "[encoded data removed]",
      "text/plain": [
       "<Figure size 432x288 with 1 Axes>"
      ]
     },
     "metadata": {
      "needs_background": "light"
     },
     "output_type": "display_data"
    }
   ],
   "source": [
    "# load data from each\n",
    "\n",
    "save_plot = 1\n",
    "\n",
    "selected_period = 'surrounding_recall' \n",
    "remove_soz_ictal = False\n",
    "recall_type_switch = 0 # 0 for original, 1 for only those with subsequent, 2 for second recalls only, 3 for isolated recalls\n",
    "region_name = 'ENT' #'ENT' #'HPC' #HPC_ENT #ENT #HPC # PHC \n",
    "location_selected = '' #'ca1' # 'ca3' # 'dg' 'ca1' # sub # left hippocampus # right hippocampus # hippocampus\n",
    "# # (leave as '' if not HPC)\n",
    "\n",
    "if region_name == 'PHC':\n",
    "    legend_name = 'Parahippocampal cortex' #'Parahippocampal cortex' #'Entorhinal'\n",
    "    color = (0,0.5,0.5)\n",
    "elif region_name == 'ENT':\n",
    "    legend_name = 'Entorhinal cortex'\n",
    "    color = (0.5,0.5,0)\n",
    "else:\n",
    "    legend_name = location_selected\n",
    "\n",
    "line_dist = 0.1\n",
    "\n",
    "recall_minimum = 2000\n",
    "pad = 2\n",
    "psth_start = -2000\n",
    "psth_end = 2000\n",
    "stats_bin = 500 # time bin width in ms to test stats on\n",
    "first_start = -1600 # going to make sequence of 3 bins and test 1st v. 3rd\n",
    "first_end = -100\n",
    "second_start = 200 # same idea\n",
    "second_end = 1700\n",
    "\n",
    "# get strings for path name for save and loading cluster data\n",
    "soz_label,recall_selection_name,subfolder = getSWRpathInfo(remove_soz_ictal,recall_type_switch,selected_period,recall_minimum)\n",
    "\n",
    "subplots(1,1,figsize=(6,4)); ax2 = plt.gca()\n",
    "\n",
    "path_name = '/home1/john/SWR/figures/'+subfolder\n",
    "fn = os.path.join(path_name,\n",
    "    'SWR_'+exp+'_'+region_name+'_'+location_selected+'_'+str(recall_type_switch)+'_'+soz_label+'_'+filter_type+'.p')           \n",
    "with open(fn,'rb') as f:\n",
    "    dat = pickle.load(f)\n",
    "    bin_centers = dat['bin_centers']; PSTH = dat['PSTH']; SE_plot = dat['SE_plot']; num_trials = dat['num_trials'];\n",
    "    bin_model1 = dat['bin_model1']; bin_model2 = dat['bin_model2']; ss = dat['session_name_array']\n",
    "\n",
    "# make plot\n",
    "xr = bin_centers #np.arange(psth_start,psth_end,binsize)\n",
    "\n",
    "# plot smoothed mean +/- CI\n",
    "if pad > 0:\n",
    "    SE_plot = fixSEgaps(SE_plot) # fix gaps when using 40% of data\n",
    "    \n",
    "    plot(xr[pad:-pad],PSTH[pad:-pad],color=color);\n",
    "    fill_between(xr[pad:-pad], PSTH[pad:-pad]-SE_plot[0,:], PSTH[pad:-pad]+SE_plot[0,:],\n",
    "                 color=color, alpha = 0.3, label='_nolegend_');\n",
    "else:\n",
    "    plot(xr,PSTH);\n",
    "    fill_between(xr, PSTH-SE_plot[0,:], PSTH+SE_plot[0,:],\n",
    "                 color=color, alpha = 0.3, label='_nolegend_');\n",
    "\n",
    "# plot bands of significance\n",
    "if bin_model1.pvalues[1] < 0.05:\n",
    "    plot([first_end-stats_bin,first_end],[line_dist,line_dist],'--',\n",
    "         color=color,label='_nolegend_');\n",
    "if bin_model2.pvalues[1] < 0.05:\n",
    "    plot([second_start,second_start+stats_bin],[line_dist,line_dist],'--',\n",
    "         color=color,label='_nolegend_');\n",
    "print(legend_name+': '+str(num_trials)+' recalls')\n",
    "print('Test 1 p-value: '+str(bin_model1.pvalues[1]))\n",
    "print('Test 2 p-value: '+str(bin_model2.pvalues[1]))\n",
    "\n",
    "xticks(np.arange(psth_start,psth_end+1,500),np.arange(psth_start/1000,psth_end/1000+1,500/1000))\n",
    "xlabel('Time from recall (s)')\n",
    "ylabel('Ripple rate (events/s)')\n",
    "ylim = 0.7 # keep it here since occasionally CIs get kinda high\n",
    "ax2.set_ylim(0,ylim)\n",
    "ax2.set_xlim(psth_start-100,psth_end+100)\n",
    "plot([ax2.get_xlim()[0],ax2.get_xlim()[1]],[0.35,0.35],linewidth=1,linestyle='--',color=(0.8,0.8,0.8),label='_nolegend_')\n",
    "plot([0,0],[ax2.get_ylim()[0],ax2.get_ylim()[1]],linewidth=1,linestyle='-',color=(0,0,0),label='_nolegend_')\n",
    "plt.legend({legend_name})\n",
    "tight_layout()\n",
    "print(legend_name+': '+str(num_trials)+' recalls')\n",
    "print('Test 1 p-value: '+str(bin_model1.pvalues[1]))\n",
    "print('Test 2 p-value: '+str(bin_model2.pvalues[1]))\n",
    "\n",
    "if save_plot == 1:\n",
    "    plt.savefig('../figures/PSTHplots/'+exp+'_'+'SINGLE_PSTH_'+region_name+'-'+str(recall_type_switch)+\\\n",
    "                '_'+location_selected+'.pdf',transparent=True) \n",
    "plt.show()\n",
    "\n",
    "a=1;"
   ]
  },
  {
   "cell_type": "markdown",
   "metadata": {},
   "source": [
    "# Comparison plots for clustering"
   ]
  },
  {
   "cell_type": "code",
   "execution_count": 51,
   "metadata": {},
   "outputs": [
    {
     "name": "stderr",
     "output_type": "stream",
     "text": [
      "/home1/john/anaconda3/envs/env1/lib/python3.7/site-packages/statsmodels/regression/mixed_linear_model.py:2094: ConvergenceWarning: The MLE may be on the boundary of the parameter space.\n",
      "  warnings.warn(msg, ConvergenceWarning)\n"
     ]
    },
    {
     "name": "stdout",
     "output_type": "stream",
     "text": [
      "High clustering: 1968 recalls\n",
      "Low clustering: 1537 recalls\n",
      "Test 1 comparison p-value: 0.06031881245713664\n",
      "Test 2 comparison p-value: 0.04879928596055867\n"
     ]
    },
    {
     "data": {
      "image/png": "[encoded data removed]",
      "text/plain": [
       "<Figure size 432x288 with 1 Axes>"
      ]
     },
     "metadata": {
      "needs_background": "light"
     },
     "output_type": "display_data"
    }
   ],
   "source": [
    "# load data from each\n",
    "\n",
    "save_plot = 0\n",
    "\n",
    "selected_period = 'surrounding_recall' \n",
    "remove_soz_ictal = False\n",
    "recall_type_switch = 6 # 0 for original, 1 for only those with subsequent, 2 for second recalls only, 3 for isolated recalls\n",
    "exp = 'catFR1'\n",
    "region_name = 'HPC'\n",
    "location_selected = 'ca1dg' # 'ca3' # 'dg' 'ca1' # sub # left hippocampus # right hippocampus # hippocampus\n",
    "# # (leave as '' if not HPC)\n",
    "\n",
    "extra = 'remote' #'NOR1065J' # for semantic clustering since I have remote and adjacent comparisons\n",
    "## manual thing to add to end to weird cases like remove a single subject\n",
    "# remote is remote semantic v. remote other\n",
    "# adjacent is adjacent semantic v. remote other\n",
    "# NOR1065J removes this subject who has tons of data\n",
    "# adjacentNOR1065J I bet you can figure it out!\n",
    "\n",
    "select_semantic_temporal = 1 # 1 semantic, 2 temporal (not using this now), 3 temporal (using lags)\n",
    "\n",
    "min_recalls = 0 # minimum recalls/list\n",
    "\n",
    "recall_minimum = 2000\n",
    "pad = 2\n",
    "psth_start = -2000\n",
    "psth_end = 2000\n",
    "stats_bin = 500 # time bin width in ms to test stats on\n",
    "first_start = -1600 # going to make sequence of 3 bins and test 1st v. 3rd\n",
    "first_end = -100\n",
    "second_start = 200 # same idea\n",
    "second_end = 1700\n",
    "\n",
    "# get strings for path name for save and loading cluster data\n",
    "soz_label,recall_selection_name,subfolder = getSWRpathInfo(remove_soz_ictal,recall_type_switch,selected_period,recall_minimum)\n",
    "\n",
    "session_accum = np.array([])\n",
    "subject_accum = copy(session_accum)\n",
    "ripple_accum1 = copy(session_accum)\n",
    "ripple_accum2 = copy(session_accum)\n",
    "category = copy(session_accum)\n",
    "\n",
    "p=0\n",
    "for p,upper_label in enumerate(['upper','lower']):\n",
    "    \n",
    "#     location_selected = ''\n",
    "    if p==0:\n",
    "        subplots(1,1,figsize=(6,4)); ax = plt.gca()\n",
    "        color = (0,0,0)\n",
    "        line_dist = 0.175\n",
    "    else:\n",
    "        color = (0,0.5,0)\n",
    "        line_dist = 0.15\n",
    "        \n",
    "    path_name = '/home1/john/SWR/figures/'+subfolder\n",
    "\n",
    "    fn = os.path.join(path_name,\n",
    "        'SWRCLUSTER_'+exp+'_'+region_name+'_'+location_selected+'_'+str(recall_type_switch)+\n",
    "                      '_'+soz_label+'_recalls-'+str(min_recalls)+'_'+upper_label+'_'\n",
    "                      +str(select_semantic_temporal)+extra+'.p')         \n",
    "    with open(fn,'rb') as f:\n",
    "        dat = pickle.load(f)\n",
    "        bin_centers = dat['bin_centers']; PSTH = dat['PSTH']; SE_plot = dat['SE_plot']; num_trials = dat['num_trials'];\n",
    "        bin_model1 = dat['bin_model1']; bin_model2 = dat['bin_model2'];\n",
    "        binned_first_stats_array = dat['binned_first_stats_array'];binned_second_stats_array = dat['binned_second_stats_array'];\n",
    "        subject_name_array = dat['subject_name_array'];session_name_array = dat['session_name_array']\n",
    "\n",
    "    # make plot\n",
    "    xr = bin_centers #np.arange(psth_start,psth_end,binsize)\n",
    "\n",
    "    # plot smoothed mean +/- CI\n",
    "    if pad > 0:\n",
    "        SE_plot = fixSEgaps(SE_plot) # fix gaps when using 40% of data\n",
    "        \n",
    "        plot(xr[pad:-pad],PSTH[pad:-pad],color=color)\n",
    "#         fill_between(xr[pad:-pad], PSTH[pad:-pad]-SE_plot[0,:], PSTH[pad:-pad]+SE_plot[0,:],\n",
    "#                      color=color, alpha = 0.3, label='_nolegend_')\n",
    "    else:\n",
    "        plot(xr,PSTH)\n",
    "        fill_between(xr, PSTH-SE_plot[0,:], PSTH+SE_plot[0,:],\n",
    "                     color=color, alpha = 0.3, label='_nolegend_')\n",
    "\n",
    "    ## for comparison do ME stats between high and low clustering directly\n",
    "    session_accum = np.append(session_accum,session_name_array)\n",
    "    subject_accum = np.append(subject_accum,subject_name_array)\n",
    "    ripple_accum1 = np.append(ripple_accum1,binned_first_stats_array[:,2]) # 0:2 are -1600:-100 in 500 ms bins\n",
    "    ripple_accum2 = np.append(ripple_accum2,binned_second_stats_array[:,0]) # 0:2 are 200:1700 in 500 ms bins\n",
    "    category = np.append(category,np.tile(p,len(session_name_array)))\n",
    "    \n",
    "    if p == 1:  # have predictors accumulated for comparison now               \n",
    "        import statsmodels.formula.api as smf\n",
    "        \n",
    "        # pre-recall bump 1st\n",
    "        bin_df = pd.DataFrame(data={'session':session_accum,'subject':subject_accum,\n",
    "                               'category':category,'ripple_rates':ripple_accum1})\n",
    "        vc = {'session':'0+session'}\n",
    "        sig_bin_model = smf.mixedlm(\"ripple_rates ~ category\", bin_df, groups=\"subject\", vc_formula=vc)\n",
    "        bin_model1 = sig_bin_model.fit(reml=False, method='nm')\n",
    "        \n",
    "        # post_recall valley 2nd\n",
    "        bin_df = pd.DataFrame(data={'session':session_accum,'subject':subject_accum,\n",
    "                               'category':category,'ripple_rates':ripple_accum2})\n",
    "        sig_bin_model = smf.mixedlm(\"ripple_rates ~ category\", bin_df, groups=\"subject\", vc_formula=vc)\n",
    "        bin_model2 = sig_bin_model.fit(reml=False, method='nm')        \n",
    "        \n",
    "        if bin_model1.pvalues[1] < 0.05:\n",
    "            plot([-600,-600+stats_bin],[line_dist,line_dist],'--',\n",
    "                 color=(0,0,0),label='_nolegend_')\n",
    "        if bin_model2.pvalues[1] < 0.05:\n",
    "            plot([second_start,second_start+stats_bin],[line_dist,line_dist],'--',\n",
    "                 color=(0,0,0),label='_nolegend_')\n",
    "            \n",
    "        print('High clustering'+': '+str(sum(category==0))+' recalls')\n",
    "        print('Low clustering'+': '+str(sum(category==1))+' recalls')\n",
    "        print('Test 1 comparison p-value: '+str(bin_model1.pvalues[1]))\n",
    "        print('Test 2 comparison p-value: '+str(bin_model2.pvalues[1]))\n",
    "\n",
    "xticks(np.arange(psth_start,psth_end+1,500),np.arange(psth_start/1000,psth_end/1000+1,500/1000))\n",
    "xlabel('Time from recall (s)')\n",
    "ylabel('Ripple rate (events/s)')\n",
    "ylim = 0.7 # keep it here since occasionally CIs get kinda high\n",
    "ax.set_ylim(0,ylim)\n",
    "ax.set_xlim(psth_start-100,psth_end+100)\n",
    "plot([ax.get_xlim()[0],ax.get_xlim()[1]],[0.35,0.35],linewidth=1,linestyle='--',color=(0.8,0.8,0.8),label='_nolegend_')\n",
    "plot([0,0],[ax.get_ylim()[0],ax.get_ylim()[1]],linewidth=1,linestyle='-',color=(0,0,0),label='_nolegend_')\n",
    "ax.legend({'Low-clustering','High-clustering'})\n",
    "tight_layout()\n",
    "\n",
    "if save_plot == 1:\n",
    "    plt.savefig('../figures/clusteringPlots/'+exp+'_'+'PSTH_'+region_name+'-'+str(recall_type_switch)+'-'+extra+'.pdf',transparent=True) \n",
    "plt.show()\n",
    "a=1;"
   ]
  },
  {
   "cell_type": "markdown",
   "metadata": {},
   "source": [
    "## For each subject with electrodes in both HPC & (ENT or PHC) compare directly"
   ]
  },
  {
   "cell_type": "code",
   "execution_count": 24,
   "metadata": {
    "collapsed": true,
    "jupyter": {
     "outputs_hidden": true
    }
   },
   "outputs": [
    {
     "name": "stderr",
     "output_type": "stream",
     "text": [
      "/home1/john/anaconda3/envs/env1/lib/python3.7/site-packages/statsmodels/regression/mixed_linear_model.py:2094: ConvergenceWarning: The MLE may be on the boundary of the parameter space.\n",
      "  warnings.warn(msg, ConvergenceWarning)\n",
      "/home1/john/anaconda3/envs/env1/lib/python3.7/site-packages/statsmodels/regression/mixed_linear_model.py:2115: ConvergenceWarning: The Hessian matrix at the estimated parameter values is not positive definite.\n",
      "  warnings.warn(msg, ConvergenceWarning)\n",
      "/home1/john/anaconda3/envs/env1/lib/python3.7/site-packages/statsmodels/regression/mixed_linear_model.py:2094: ConvergenceWarning: The MLE may be on the boundary of the parameter space.\n",
      "  warnings.warn(msg, ConvergenceWarning)\n",
      "/home1/john/anaconda3/envs/env1/lib/python3.7/site-packages/statsmodels/regression/mixed_linear_model.py:2115: ConvergenceWarning: The Hessian matrix at the estimated parameter values is not positive definite.\n",
      "  warnings.warn(msg, ConvergenceWarning)\n",
      "/home1/john/anaconda3/envs/env1/lib/python3.7/site-packages/statsmodels/regression/mixed_linear_model.py:2094: ConvergenceWarning: The MLE may be on the boundary of the parameter space.\n",
      "  warnings.warn(msg, ConvergenceWarning)\n",
      "/home1/john/anaconda3/envs/env1/lib/python3.7/site-packages/statsmodels/regression/mixed_linear_model.py:2094: ConvergenceWarning: The MLE may be on the boundary of the parameter space.\n",
      "  warnings.warn(msg, ConvergenceWarning)\n",
      "/home1/john/anaconda3/envs/env1/lib/python3.7/site-packages/statsmodels/regression/mixed_linear_model.py:2115: ConvergenceWarning: The Hessian matrix at the estimated parameter values is not positive definite.\n",
      "  warnings.warn(msg, ConvergenceWarning)\n",
      "/home1/john/anaconda3/envs/env1/lib/python3.7/site-packages/statsmodels/regression/mixed_linear_model.py:2094: ConvergenceWarning: The MLE may be on the boundary of the parameter space.\n",
      "  warnings.warn(msg, ConvergenceWarning)\n",
      "/home1/john/anaconda3/envs/env1/lib/python3.7/site-packages/statsmodels/regression/mixed_linear_model.py:2115: ConvergenceWarning: The Hessian matrix at the estimated parameter values is not positive definite.\n",
      "  warnings.warn(msg, ConvergenceWarning)\n",
      "/home1/john/anaconda3/envs/env1/lib/python3.7/site-packages/statsmodels/regression/mixed_linear_model.py:2094: ConvergenceWarning: The MLE may be on the boundary of the parameter space.\n",
      "  warnings.warn(msg, ConvergenceWarning)\n",
      "/home1/john/anaconda3/envs/env1/lib/python3.7/site-packages/statsmodels/regression/mixed_linear_model.py:2115: ConvergenceWarning: The Hessian matrix at the estimated parameter values is not positive definite.\n",
      "  warnings.warn(msg, ConvergenceWarning)\n",
      "/home1/john/anaconda3/envs/env1/lib/python3.7/site-packages/statsmodels/regression/mixed_linear_model.py:2094: ConvergenceWarning: The MLE may be on the boundary of the parameter space.\n",
      "  warnings.warn(msg, ConvergenceWarning)\n",
      "/home1/john/anaconda3/envs/env1/lib/python3.7/site-packages/statsmodels/regression/mixed_linear_model.py:2094: ConvergenceWarning: The MLE may be on the boundary of the parameter space.\n",
      "  warnings.warn(msg, ConvergenceWarning)\n",
      "/home1/john/anaconda3/envs/env1/lib/python3.7/site-packages/statsmodels/regression/mixed_linear_model.py:2094: ConvergenceWarning: The MLE may be on the boundary of the parameter space.\n",
      "  warnings.warn(msg, ConvergenceWarning)\n",
      "/home1/john/anaconda3/envs/env1/lib/python3.7/site-packages/statsmodels/regression/mixed_linear_model.py:2094: ConvergenceWarning: The MLE may be on the boundary of the parameter space.\n",
      "  warnings.warn(msg, ConvergenceWarning)\n",
      "/home1/john/anaconda3/envs/env1/lib/python3.7/site-packages/statsmodels/regression/mixed_linear_model.py:2115: ConvergenceWarning: The Hessian matrix at the estimated parameter values is not positive definite.\n",
      "  warnings.warn(msg, ConvergenceWarning)\n",
      "/home1/john/anaconda3/envs/env1/lib/python3.7/site-packages/statsmodels/regression/mixed_linear_model.py:2094: ConvergenceWarning: The MLE may be on the boundary of the parameter space.\n",
      "  warnings.warn(msg, ConvergenceWarning)\n",
      "/home1/john/anaconda3/envs/env1/lib/python3.7/site-packages/statsmodels/regression/mixed_linear_model.py:2115: ConvergenceWarning: The Hessian matrix at the estimated parameter values is not positive definite.\n",
      "  warnings.warn(msg, ConvergenceWarning)\n",
      "/home1/john/anaconda3/envs/env1/lib/python3.7/site-packages/statsmodels/regression/mixed_linear_model.py:2094: ConvergenceWarning: The MLE may be on the boundary of the parameter space.\n",
      "  warnings.warn(msg, ConvergenceWarning)\n",
      "/home1/john/anaconda3/envs/env1/lib/python3.7/site-packages/statsmodels/regression/mixed_linear_model.py:2115: ConvergenceWarning: The Hessian matrix at the estimated parameter values is not positive definite.\n",
      "  warnings.warn(msg, ConvergenceWarning)\n",
      "/home1/john/anaconda3/envs/env1/lib/python3.7/site-packages/statsmodels/regression/mixed_linear_model.py:2094: ConvergenceWarning: The MLE may be on the boundary of the parameter space.\n",
      "  warnings.warn(msg, ConvergenceWarning)\n",
      "/home1/john/anaconda3/envs/env1/lib/python3.7/site-packages/statsmodels/regression/mixed_linear_model.py:2115: ConvergenceWarning: The Hessian matrix at the estimated parameter values is not positive definite.\n",
      "  warnings.warn(msg, ConvergenceWarning)\n",
      "/home1/john/anaconda3/envs/env1/lib/python3.7/site-packages/statsmodels/regression/mixed_linear_model.py:2094: ConvergenceWarning: The MLE may be on the boundary of the parameter space.\n",
      "  warnings.warn(msg, ConvergenceWarning)\n",
      "/home1/john/anaconda3/envs/env1/lib/python3.7/site-packages/statsmodels/regression/mixed_linear_model.py:2094: ConvergenceWarning: The MLE may be on the boundary of the parameter space.\n",
      "  warnings.warn(msg, ConvergenceWarning)\n",
      "/home1/john/anaconda3/envs/env1/lib/python3.7/site-packages/statsmodels/regression/mixed_linear_model.py:2115: ConvergenceWarning: The Hessian matrix at the estimated parameter values is not positive definite.\n",
      "  warnings.warn(msg, ConvergenceWarning)\n",
      "/home1/john/anaconda3/envs/env1/lib/python3.7/site-packages/statsmodels/regression/mixed_linear_model.py:2094: ConvergenceWarning: The MLE may be on the boundary of the parameter space.\n",
      "  warnings.warn(msg, ConvergenceWarning)\n",
      "/home1/john/anaconda3/envs/env1/lib/python3.7/site-packages/statsmodels/regression/mixed_linear_model.py:2115: ConvergenceWarning: The Hessian matrix at the estimated parameter values is not positive definite.\n",
      "  warnings.warn(msg, ConvergenceWarning)\n",
      "/home1/john/anaconda3/envs/env1/lib/python3.7/site-packages/statsmodels/regression/mixed_linear_model.py:2094: ConvergenceWarning: The MLE may be on the boundary of the parameter space.\n",
      "  warnings.warn(msg, ConvergenceWarning)\n",
      "/home1/john/anaconda3/envs/env1/lib/python3.7/site-packages/statsmodels/regression/mixed_linear_model.py:2094: ConvergenceWarning: The MLE may be on the boundary of the parameter space.\n",
      "  warnings.warn(msg, ConvergenceWarning)\n",
      "/home1/john/anaconda3/envs/env1/lib/python3.7/site-packages/statsmodels/regression/mixed_linear_model.py:2115: ConvergenceWarning: The Hessian matrix at the estimated parameter values is not positive definite.\n",
      "  warnings.warn(msg, ConvergenceWarning)\n",
      "/home1/john/anaconda3/envs/env1/lib/python3.7/site-packages/statsmodels/regression/mixed_linear_model.py:2094: ConvergenceWarning: The MLE may be on the boundary of the parameter space.\n",
      "  warnings.warn(msg, ConvergenceWarning)\n",
      "/home1/john/anaconda3/envs/env1/lib/python3.7/site-packages/statsmodels/regression/mixed_linear_model.py:2115: ConvergenceWarning: The Hessian matrix at the estimated parameter values is not positive definite.\n",
      "  warnings.warn(msg, ConvergenceWarning)\n",
      "/home1/john/anaconda3/envs/env1/lib/python3.7/site-packages/statsmodels/regression/mixed_linear_model.py:2094: ConvergenceWarning: The MLE may be on the boundary of the parameter space.\n",
      "  warnings.warn(msg, ConvergenceWarning)\n",
      "/home1/john/anaconda3/envs/env1/lib/python3.7/site-packages/statsmodels/regression/mixed_linear_model.py:2115: ConvergenceWarning: The Hessian matrix at the estimated parameter values is not positive definite.\n",
      "  warnings.warn(msg, ConvergenceWarning)\n",
      "/home1/john/anaconda3/envs/env1/lib/python3.7/site-packages/statsmodels/regression/mixed_linear_model.py:2094: ConvergenceWarning: The MLE may be on the boundary of the parameter space.\n",
      "  warnings.warn(msg, ConvergenceWarning)\n",
      "/home1/john/anaconda3/envs/env1/lib/python3.7/site-packages/statsmodels/regression/mixed_linear_model.py:2094: ConvergenceWarning: The MLE may be on the boundary of the parameter space.\n",
      "  warnings.warn(msg, ConvergenceWarning)\n",
      "/home1/john/anaconda3/envs/env1/lib/python3.7/site-packages/statsmodels/regression/mixed_linear_model.py:2115: ConvergenceWarning: The Hessian matrix at the estimated parameter values is not positive definite.\n",
      "  warnings.warn(msg, ConvergenceWarning)\n",
      "/home1/john/anaconda3/envs/env1/lib/python3.7/site-packages/statsmodels/regression/mixed_linear_model.py:2094: ConvergenceWarning: The MLE may be on the boundary of the parameter space.\n",
      "  warnings.warn(msg, ConvergenceWarning)\n"
     ]
    }
   ],
   "source": [
    "import statsmodels.formula.api as smf\n",
    "\n",
    "selected_period = 'surrounding_recall' \n",
    "remove_soz_ictal = False\n",
    "recall_type_switch = 3 # 0 for original, 1 for only those with subsequent, 2 for second recalls only, 3 for isolated recalls\n",
    "regions_to_compare = ['ENT','HPC'] # 'PHC' 'ENT '# put smaller one first so positive values mean a rise\n",
    "location_selected = ['ca1'] # make sure in brackets #['dg','ca1'] # 'ca3' # 'dg' 'ca1' # sub # left hippocampus # right hippocampus # hippocampus\n",
    "# put '' for no subregions, len=1 (e.g. 'ca1') in for subregion for HPC above, or len=2 (e.g. ['ca1','dg']) to compare regions\n",
    "\n",
    "pad = 2\n",
    "psth_start = -2000\n",
    "psth_end = 2000\n",
    "stats_bin = 500 # time bin width in ms to test stats on\n",
    "first_start = -1600 # going to make sequence of 3 bins and test 1st v. 3rd\n",
    "first_end = -100a\n",
    "second_start = 200 # same idea\n",
    "second_end = 1700\n",
    "\n",
    "# get strings for path name for save and loading cluster data\n",
    "soz_label,recall_selection_name,subfolder = getSWRpathInfo(remove_soz_ictal,recall_type_switch,selected_period)\n",
    "\n",
    "# get data for each pairwise comparison\n",
    "for p,region in enumerate(regions_to_compare):\n",
    "    \n",
    "    # select subregion if necessary\n",
    "    temp_loc = ''\n",
    "    if len(location_selected) == 2:\n",
    "        temp_loc = location_selected[p]   \n",
    "    elif region == 'HPC':\n",
    "        temp_loc = location_selected[0]\n",
    "        \n",
    "    path_name = '/home1/john/SWR/figures/'+subfolder\n",
    "    fn = os.path.join(path_name,\n",
    "        'SWR_'+exp+'_'+region+'_'+temp_loc+'_'+str(recall_type_switch)+\n",
    "                      '_'+soz_label+'.p')          \n",
    "    with open(fn,'rb') as f:\n",
    "        dat = pickle.load(f)\n",
    "        if p == 0:\n",
    "            data1_test1 = dat['binned_first_stats_array']; data1_test2 = dat['binned_second_stats_array'];\n",
    "            subs1 = dat['subject_name_array']; sessions1 = dat['session_name_array']\n",
    "        else:\n",
    "            data2_test1 = dat['binned_first_stats_array']; data2_test2 = dat['binned_second_stats_array'];\n",
    "            subs2 = dat['subject_name_array']; sessions2 = dat['session_name_array']\n",
    "\n",
    "# now you have sets of data loaded for two regions along with sub/sess for each-->\n",
    "# search across the subjects to find which subjects have electrodes in both regions\n",
    "\n",
    "unique_subs1 = np.unique(subs1)    \n",
    "unique_subs2 = np.unique(subs2)\n",
    "test1_tvalues = []\n",
    "test2_tvalues = []\n",
    "for ss in unique_subs2: # this one should have fewer since always putting non-temp_loc one 2nd\n",
    "    if ss in unique_subs1:\n",
    "        # has electrodes in both! Now do a mixed model just for this subject\n",
    "        mask1 = subs1==ss\n",
    "        mask2 = subs2==ss\n",
    "        session_pred = sessions1[mask1]\n",
    "        session_pred = np.append(session_pred,sessions2[mask2])\n",
    "        category_pred = np.append(np.tile(0,sum(mask1)),np.tile(1,sum(mask2)))\n",
    "        test1_outcome = np.append(data1_test1[mask1,2],data2_test1[mask2,2]) # 2 because 3 bins -1600:-100 ms was saved          \n",
    "        test2_outcome = np.append(data1_test2[mask1,0],data2_test2[mask2,0]) # 0 because 3 bins 200:1700 ms saved\n",
    "\n",
    "        # test 1 (-600:-100 ms from recall)\n",
    "        test1_df = pd.DataFrame(data={'session_pred':session_pred,\n",
    "                    'category_pred':category_pred,'test1_outcome':test1_outcome})\n",
    "        sig_bin_model = smf.mixedlm(\"test1_outcome ~ category_pred\", test1_df, groups=\"session_pred\")\n",
    "        test1_model = sig_bin_model.fit(reml=False, method='nm')\n",
    "        \n",
    "        # test 2 (200:700 ms from recall)\n",
    "        test2_df = pd.DataFrame(data={'session_pred':session_pred,\n",
    "                    'category_pred':category_pred,'test2_outcome':test2_outcome})\n",
    "        sig_bin_model = smf.mixedlm(\"test2_outcome ~ category_pred\", test2_df, groups=\"session_pred\")\n",
    "        test2_model = sig_bin_model.fit(reml=False, method='nm')\n",
    "        test1_tvalues.append(test1_model.tvalues[1])\n",
    "        test2_tvalues.append(test2_model.tvalues[1])\n",
    "a=1;"
   ]
  },
  {
   "cell_type": "code",
   "execution_count": 11,
   "metadata": {},
   "outputs": [
    {
     "data": {
      "text/plain": [
       "14.0"
      ]
     },
     "execution_count": 11,
     "metadata": {},
     "output_type": "execute_result"
    },
    {
     "data": {
      "text/plain": [
       "10.0"
      ]
     },
     "execution_count": 11,
     "metadata": {},
     "output_type": "execute_result"
    }
   ],
   "source": [
    "sum(data1_test1[mask1,2])\n",
    "sum(data2_test1[mask2,2])"
   ]
  },
  {
   "cell_type": "code",
   "execution_count": 4,
   "metadata": {},
   "outputs": [
    {
     "data": {
      "image/png": "[encoded data removed]",
      "text/plain": [
       "<Figure size 432x288 with 1 Axes>"
      ]
     },
     "metadata": {
      "needs_background": "light"
     },
     "output_type": "display_data"
    },
    {
     "data": {
      "image/png": "[encoded data removed]",
      "text/plain": [
       "<Figure size 432x288 with 1 Axes>"
      ]
     },
     "metadata": {
      "needs_background": "light"
     },
     "output_type": "display_data"
    }
   ],
   "source": [
    "# single comparison plots here and get data to add to dataframe for swarmplot comparisons below\n",
    "\n",
    "# test 1:\n",
    "figSub,axSub = plt.subplots(1,1, figsize=(6,4))\n",
    "test1_tvalues = np.array(test1_tvalues)[~np.isnan(test1_tvalues)]\n",
    "axSub.bar( 0, np.nanmean(test1_tvalues), yerr = np.nanstd(test1_tvalues)/np.sqrt(len(test1_tvalues)),\n",
    "          color = (0.5,0.5,0.5), error_kw={'elinewidth':8, 'ecolor':(0.7,0.7,0.7)} )\n",
    "sb.swarmplot(data=test1_tvalues, ax=axSub, color=(0,0.5,0.5), alpha=0.3)\n",
    "axSub.plot([axSub.get_xlim()[0],axSub.get_xlim()[1]],[0,0],linewidth=2,linestyle='--',color=(0,0,0),label='_nolegend_')\n",
    "text(0-0.1,-4,'N='+str(len(test1_tvalues)))\n",
    "axSub.set(xticks=[])\n",
    "axSub.set_ylim(-6,6) \n",
    "ylabel('t-scores')\n",
    "title('Ripple rate t-scores for -600:-100 ms by subject')\n",
    "figSub.tight_layout();\n",
    "\n",
    "# test 1:\n",
    "figSub,axSub = plt.subplots(1,1, figsize=(6,4))\n",
    "test2_tvalues = np.array(test2_tvalues)[~np.isnan(test2_tvalues)]\n",
    "axSub.bar( 0, np.nanmean(test2_tvalues), yerr = np.nanstd(test2_tvalues)/np.sqrt(len(test2_tvalues)),\n",
    "          color = (0.5,0.5,0.5), error_kw={'elinewidth':8, 'ecolor':(0.7,0.7,0.7)} )\n",
    "sb.swarmplot(data=test2_tvalues, ax=axSub, color=(0,0.5,0.5), alpha=0.3)\n",
    "axSub.plot([axSub.get_xlim()[0],axSub.get_xlim()[1]],[0,0],linewidth=2,linestyle='--',color=(0,0,0),label='_nolegend_')\n",
    "text(0-0.1,-4,'N='+str(len(test2_tvalues)))\n",
    "axSub.set(xticks=[])\n",
    "axSub.set_ylim(-6,6) \n",
    "ylabel('t-scores')\n",
    "title('Ripple rate t-scores for 200:700 ms by subject')\n",
    "figSub.tight_layout();"
   ]
  },
  {
   "cell_type": "code",
   "execution_count": 268,
   "metadata": {},
   "outputs": [
    {
     "data": {
      "text/plain": [
       "array([ 1.63678641, -0.15270266,  2.90780426, -1.05654109,  1.51766529,\n",
       "        5.00670316,  0.18577161,  0.2937039 ,  0.49145871,  0.07123431])"
      ]
     },
     "execution_count": 268,
     "metadata": {},
     "output_type": "execute_result"
    },
    {
     "data": {
      "text/plain": [
       "array([ 2.28085776,  0.49332851,  1.32418567, -0.47360222, -0.17065162,\n",
       "        3.1991913 ,  1.04071829, -0.90453403, -0.65436873,  0.43019267])"
      ]
     },
     "execution_count": 268,
     "metadata": {},
     "output_type": "execute_result"
    }
   ],
   "source": [
    "test1_tvalues\n",
    "test2_tvalues"
   ]
  },
  {
   "cell_type": "code",
   "execution_count": 2,
   "metadata": {},
   "outputs": [],
   "source": [
    "# ISOLATED RECALLS \n",
    "# Accumulated data from running above pairwise comparisons with ISOLATED recalls only\n",
    "\n",
    "test = 1 # test 1 or test 2? (pre recall bump v. post recall valley)\n",
    "\n",
    "# test 1 pairwise comparisons by subject:\n",
    "if test == 1:\n",
    "    ent_ca1 = [-0.85098251,  1.54166296,  4.63857452, -0.3015888 , -1.26860286,\n",
    "            0.96750138,  1.94227705,  1.40829184,  1.49079247, -0.55716642,\n",
    "            1.76256298,  0.34580046,  1.61287741,  2.27550001] \n",
    "    ent_dg = [ 0.5513075 ,  1.41499855,  1.56763262,  3.36310246, -0.39345704,\n",
    "            2.12069449, -0.55947386,  2.07469222,  0.53792351,  1.07474658,\n",
    "            2.48864782]\n",
    "    phc_ca1 = [ 0.9227761 ,  0.45469161,  3.55058019,  0.92323064,  2.81916607,\n",
    "            1.67553711, -0.63377728,  1.3715776 ,  2.71672923, -0.69216144,\n",
    "            0.22196863,  0.        ,  0.51767695,  0.08305765,  1.84423832,\n",
    "            0.57804047]\n",
    "    phc_dg = [ 1.63678641, -0.15270266,  2.90780426, -1.05654109,  1.51766529,\n",
    "            5.00670316,  0.18577161,  0.2937039 ,  0.49145871,  0.07123431]\n",
    "    dg_ca1 = [-1.57229228,  0.        ,  0.5662012 ,  0.93370889,  3.996451  ,\n",
    "            2.05480467,  0.55332263,  0.53129917, -2.56658197,  2.26742746,\n",
    "            1.12976265,  0.5985056 , -0.61333888,  3.29413508, -2.52580118,\n",
    "            2.61367083, -1.81275028, -0.63883855,  0.08191849,  4.44774799,\n",
    "           -0.20899041,  1.44756621,  1.20283353,  0.46837062, -0.51786659,\n",
    "            0.11687449, -1.74865804,  0.81911242]\n",
    "    ent_phc = [-1.06789294,  1.90488159, -1.33252431, -0.8112575 , -0.23843643,\n",
    "            1.61614984,  1.24118203]\n",
    "\n",
    "# test 2 pairwise comparisons:\n",
    "if test == 2:\n",
    "    ent_ca1 = [-1.47821818,  1.21383203,  4.96331649,  7.14628453, -2.82560444,\n",
    "           -0.76256003,  0.28365431, -1.61677004,  1.42472831,  1.16554303,\n",
    "           -1.37117396]\n",
    "    ent_dg = [-5.39687072e-01,  5.66957601e-01,  2.17509216e+00, -8.03405889e-01,\n",
    "           -2.82348410e+00,  2.46717582e-01,  3.71880921e-01,  8.95995922e-17,\n",
    "            6.18079665e-01,  1.05654109e+00, -1.16085890e-01]\n",
    "    phc_ca1 = [ 0.45747373,  1.19145221,  3.98369836,  1.77863836,  0.45174019,\n",
    "            0.68265615, -2.12462429,  1.31448103,  1.19432621,  1.21762668,\n",
    "            0.95684317,  0.58172053]\n",
    "    phc_dg = [ 2.28085776,  0.49332851,  1.32418567, -0.47360222, -0.17065162,\n",
    "            3.1991913 ,  1.04071829, -0.90453403, -0.65436873,  0.43019267]\n",
    "    dg_ca1 = [-1.03386828e+00,  1.01904933e+00, -9.87420883e-01,  1.02318563e+00,\n",
    "            2.28089958e+00,  1.42837966e+00, -1.33598613e+00,  9.17718823e-01,\n",
    "           -1.25634334e+00,  3.43562832e-01,  1.77975074e+00,  1.07474658e+00,\n",
    "           -5.51998257e-01,  2.22206728e+00, -1.47797062e+00,  2.22443486e+00,\n",
    "            0.00000000e+00, -1.96708071e+00,  1.59499294e+00,  1.31003381e+00,\n",
    "            2.44528099e+00, -1.85077636e+00,  2.31183881e+00,  6.45893114e-01,\n",
    "            1.60570673e-16, -1.59547039e+00,  7.16705720e-01]\n",
    "    ent_phc = [-2.59366765,  2.13489435, -0.5744792 ,  0.44973256, -2.2198577 ,\n",
    "           -0.73379939,  0.67127475]"
   ]
  },
  {
   "cell_type": "code",
   "execution_count": 7,
   "metadata": {},
   "outputs": [
    {
     "name": "stdout",
     "output_type": "stream",
     "text": [
      "> \u001b[0;32m/home1/john/johnModules/general.py\u001b[0m(55)\u001b[0;36mmakePairwiseComparisonPlot\u001b[0;34m()\u001b[0m\n",
      "\u001b[0;32m     54 \u001b[0;31m    \u001b[0;32mimport\u001b[0m \u001b[0mipdb\u001b[0m\u001b[0;34m;\u001b[0m \u001b[0mipdb\u001b[0m\u001b[0;34m.\u001b[0m\u001b[0mset_trace\u001b[0m\u001b[0;34m(\u001b[0m\u001b[0;34m)\u001b[0m\u001b[0;34m\u001b[0m\u001b[0;34m\u001b[0m\u001b[0m\n",
      "\u001b[0m\u001b[0;32m---> 55 \u001b[0;31m    \u001b[0mfigSub\u001b[0m\u001b[0;34m,\u001b[0m\u001b[0maxSub\u001b[0m \u001b[0;34m=\u001b[0m \u001b[0mplt\u001b[0m\u001b[0;34m.\u001b[0m\u001b[0msubplots\u001b[0m\u001b[0;34m(\u001b[0m\u001b[0;36m1\u001b[0m\u001b[0;34m,\u001b[0m\u001b[0;36m1\u001b[0m\u001b[0;34m,\u001b[0m \u001b[0mfigsize\u001b[0m\u001b[0;34m=\u001b[0m\u001b[0mfigsize\u001b[0m\u001b[0;34m)\u001b[0m\u001b[0;34m\u001b[0m\u001b[0;34m\u001b[0m\u001b[0m\n",
      "\u001b[0m\u001b[0;32m     56 \u001b[0;31m    axSub.bar( range(len(comp_names)), [np.mean(i) for i in comp_data], \n",
      "\u001b[0m\n"
     ]
    },
    {
     "name": "stdin",
     "output_type": "stream",
     "text": [
      "ipdb>  comp_df\n"
     ]
    },
    {
     "name": "stdout",
     "output_type": "stream",
     "text": [
      "      grouping  pairwise_data region t-scores\n",
      "0   CA1 v. ENT      -0.850983    NaN      NaN\n",
      "1   CA1 v. ENT       1.541663    NaN      NaN\n",
      "2   CA1 v. ENT       4.638575    NaN      NaN\n",
      "3   CA1 v. ENT      -0.301589    NaN      NaN\n",
      "4   CA1 v. ENT      -1.268603    NaN      NaN\n",
      "..         ...            ...    ...      ...\n",
      "2   PHC v. ENT      -1.332524    NaN      NaN\n",
      "3   PHC v. ENT      -0.811257    NaN      NaN\n",
      "4   PHC v. ENT      -0.238436    NaN      NaN\n",
      "5   PHC v. ENT       1.616150    NaN      NaN\n",
      "6   PHC v. ENT       1.241182    NaN      NaN\n",
      "\n",
      "[86 rows x 4 columns]\n"
     ]
    },
    {
     "name": "stdin",
     "output_type": "stream",
     "text": [
      "ipdb>  q\n"
     ]
    },
    {
     "ename": "BdbQuit",
     "evalue": "",
     "output_type": "error",
     "traceback": [
      "\u001b[0;31m---------------------------------------------------------------------------\u001b[0m",
      "\u001b[0;31mBdbQuit\u001b[0m                                   Traceback (most recent call last)",
      "\u001b[0;32m<ipython-input-7-8c27888bf998>\u001b[0m in \u001b[0;36m<module>\u001b[0;34m\u001b[0m\n\u001b[1;32m      9\u001b[0m \u001b[0;34m\u001b[0m\u001b[0m\n\u001b[1;32m     10\u001b[0m \u001b[0;31m# make plot\u001b[0m\u001b[0;34m\u001b[0m\u001b[0;34m\u001b[0m\u001b[0;34m\u001b[0m\u001b[0m\n\u001b[0;32m---> 11\u001b[0;31m \u001b[0mfdr_pvalues\u001b[0m \u001b[0;34m=\u001b[0m \u001b[0mmakePairwiseComparisonPlot\u001b[0m\u001b[0;34m(\u001b[0m\u001b[0mcomp_data\u001b[0m\u001b[0;34m,\u001b[0m\u001b[0mcomp_names\u001b[0m\u001b[0;34m,\u001b[0m\u001b[0mcol_names\u001b[0m\u001b[0;34m)\u001b[0m\u001b[0;34m\u001b[0m\u001b[0;34m\u001b[0m\u001b[0m\n\u001b[0m\u001b[1;32m     12\u001b[0m \u001b[0;32mif\u001b[0m \u001b[0mtest\u001b[0m \u001b[0;34m==\u001b[0m \u001b[0;36m1\u001b[0m\u001b[0;34m:\u001b[0m\u001b[0;34m\u001b[0m\u001b[0;34m\u001b[0m\u001b[0m\n\u001b[1;32m     13\u001b[0m     \u001b[0mplt\u001b[0m\u001b[0;34m.\u001b[0m\u001b[0mtitle\u001b[0m\u001b[0;34m(\u001b[0m\u001b[0;34m'Ripple rate t-scores for pre-recall bump by subject (with elecs in both regions)'\u001b[0m\u001b[0;34m)\u001b[0m\u001b[0;34m\u001b[0m\u001b[0;34m\u001b[0m\u001b[0m\n",
      "\u001b[0;32m~/johnModules/general.py\u001b[0m in \u001b[0;36mmakePairwiseComparisonPlot\u001b[0;34m(comp_data, comp_names, col_names, figsize)\u001b[0m\n\u001b[1;32m     53\u001b[0m         \u001b[0mcomp_df\u001b[0m \u001b[0;34m=\u001b[0m \u001b[0mcomp_df\u001b[0m\u001b[0;34m.\u001b[0m\u001b[0mappend\u001b[0m\u001b[0;34m(\u001b[0m\u001b[0mtemp\u001b[0m\u001b[0;34m,\u001b[0m\u001b[0mignore_index\u001b[0m\u001b[0;34m=\u001b[0m\u001b[0;32mFalse\u001b[0m\u001b[0;34m,\u001b[0m \u001b[0msort\u001b[0m\u001b[0;34m=\u001b[0m\u001b[0;32mTrue\u001b[0m\u001b[0;34m)\u001b[0m\u001b[0;34m\u001b[0m\u001b[0;34m\u001b[0m\u001b[0m\n\u001b[1;32m     54\u001b[0m     \u001b[0;32mimport\u001b[0m \u001b[0mipdb\u001b[0m\u001b[0;34m;\u001b[0m \u001b[0mipdb\u001b[0m\u001b[0;34m.\u001b[0m\u001b[0mset_trace\u001b[0m\u001b[0;34m(\u001b[0m\u001b[0;34m)\u001b[0m\u001b[0;34m\u001b[0m\u001b[0;34m\u001b[0m\u001b[0m\n\u001b[0;32m---> 55\u001b[0;31m     \u001b[0mfigSub\u001b[0m\u001b[0;34m,\u001b[0m\u001b[0maxSub\u001b[0m \u001b[0;34m=\u001b[0m \u001b[0mplt\u001b[0m\u001b[0;34m.\u001b[0m\u001b[0msubplots\u001b[0m\u001b[0;34m(\u001b[0m\u001b[0;36m1\u001b[0m\u001b[0;34m,\u001b[0m\u001b[0;36m1\u001b[0m\u001b[0;34m,\u001b[0m \u001b[0mfigsize\u001b[0m\u001b[0;34m=\u001b[0m\u001b[0mfigsize\u001b[0m\u001b[0;34m)\u001b[0m\u001b[0;34m\u001b[0m\u001b[0;34m\u001b[0m\u001b[0m\n\u001b[0m\u001b[1;32m     56\u001b[0m     axSub.bar( range(len(comp_names)), [np.mean(i) for i in comp_data], \n\u001b[1;32m     57\u001b[0m               \u001b[0myerr\u001b[0m \u001b[0;34m=\u001b[0m \u001b[0;34m[\u001b[0m\u001b[0;36m2\u001b[0m\u001b[0;34m*\u001b[0m\u001b[0mnp\u001b[0m\u001b[0;34m.\u001b[0m\u001b[0mstd\u001b[0m\u001b[0;34m(\u001b[0m\u001b[0mi\u001b[0m\u001b[0;34m)\u001b[0m\u001b[0;34m/\u001b[0m\u001b[0mnp\u001b[0m\u001b[0;34m.\u001b[0m\u001b[0msqrt\u001b[0m\u001b[0;34m(\u001b[0m\u001b[0mlen\u001b[0m\u001b[0;34m(\u001b[0m\u001b[0mi\u001b[0m\u001b[0;34m)\u001b[0m\u001b[0;34m)\u001b[0m \u001b[0;32mfor\u001b[0m \u001b[0mi\u001b[0m \u001b[0;32min\u001b[0m \u001b[0mcomp_data\u001b[0m\u001b[0;34m]\u001b[0m\u001b[0;34m,\u001b[0m\u001b[0;34m\u001b[0m\u001b[0;34m\u001b[0m\u001b[0m\n",
      "\u001b[0;32m~/johnModules/general.py\u001b[0m in \u001b[0;36mmakePairwiseComparisonPlot\u001b[0;34m(comp_data, comp_names, col_names, figsize)\u001b[0m\n\u001b[1;32m     53\u001b[0m         \u001b[0mcomp_df\u001b[0m \u001b[0;34m=\u001b[0m \u001b[0mcomp_df\u001b[0m\u001b[0;34m.\u001b[0m\u001b[0mappend\u001b[0m\u001b[0;34m(\u001b[0m\u001b[0mtemp\u001b[0m\u001b[0;34m,\u001b[0m\u001b[0mignore_index\u001b[0m\u001b[0;34m=\u001b[0m\u001b[0;32mFalse\u001b[0m\u001b[0;34m,\u001b[0m \u001b[0msort\u001b[0m\u001b[0;34m=\u001b[0m\u001b[0;32mTrue\u001b[0m\u001b[0;34m)\u001b[0m\u001b[0;34m\u001b[0m\u001b[0;34m\u001b[0m\u001b[0m\n\u001b[1;32m     54\u001b[0m     \u001b[0;32mimport\u001b[0m \u001b[0mipdb\u001b[0m\u001b[0;34m;\u001b[0m \u001b[0mipdb\u001b[0m\u001b[0;34m.\u001b[0m\u001b[0mset_trace\u001b[0m\u001b[0;34m(\u001b[0m\u001b[0;34m)\u001b[0m\u001b[0;34m\u001b[0m\u001b[0;34m\u001b[0m\u001b[0m\n\u001b[0;32m---> 55\u001b[0;31m     \u001b[0mfigSub\u001b[0m\u001b[0;34m,\u001b[0m\u001b[0maxSub\u001b[0m \u001b[0;34m=\u001b[0m \u001b[0mplt\u001b[0m\u001b[0;34m.\u001b[0m\u001b[0msubplots\u001b[0m\u001b[0;34m(\u001b[0m\u001b[0;36m1\u001b[0m\u001b[0;34m,\u001b[0m\u001b[0;36m1\u001b[0m\u001b[0;34m,\u001b[0m \u001b[0mfigsize\u001b[0m\u001b[0;34m=\u001b[0m\u001b[0mfigsize\u001b[0m\u001b[0;34m)\u001b[0m\u001b[0;34m\u001b[0m\u001b[0;34m\u001b[0m\u001b[0m\n\u001b[0m\u001b[1;32m     56\u001b[0m     axSub.bar( range(len(comp_names)), [np.mean(i) for i in comp_data], \n\u001b[1;32m     57\u001b[0m               \u001b[0myerr\u001b[0m \u001b[0;34m=\u001b[0m \u001b[0;34m[\u001b[0m\u001b[0;36m2\u001b[0m\u001b[0;34m*\u001b[0m\u001b[0mnp\u001b[0m\u001b[0;34m.\u001b[0m\u001b[0mstd\u001b[0m\u001b[0;34m(\u001b[0m\u001b[0mi\u001b[0m\u001b[0;34m)\u001b[0m\u001b[0;34m/\u001b[0m\u001b[0mnp\u001b[0m\u001b[0;34m.\u001b[0m\u001b[0msqrt\u001b[0m\u001b[0;34m(\u001b[0m\u001b[0mlen\u001b[0m\u001b[0;34m(\u001b[0m\u001b[0mi\u001b[0m\u001b[0;34m)\u001b[0m\u001b[0;34m)\u001b[0m \u001b[0;32mfor\u001b[0m \u001b[0mi\u001b[0m \u001b[0;32min\u001b[0m \u001b[0mcomp_data\u001b[0m\u001b[0;34m]\u001b[0m\u001b[0;34m,\u001b[0m\u001b[0;34m\u001b[0m\u001b[0;34m\u001b[0m\u001b[0m\n",
      "\u001b[0;32m~/anaconda3/envs/env1/lib/python3.7/bdb.py\u001b[0m in \u001b[0;36mtrace_dispatch\u001b[0;34m(self, frame, event, arg)\u001b[0m\n\u001b[1;32m     86\u001b[0m             \u001b[0;32mreturn\u001b[0m \u001b[0;31m# None\u001b[0m\u001b[0;34m\u001b[0m\u001b[0;34m\u001b[0m\u001b[0m\n\u001b[1;32m     87\u001b[0m         \u001b[0;32mif\u001b[0m \u001b[0mevent\u001b[0m \u001b[0;34m==\u001b[0m \u001b[0;34m'line'\u001b[0m\u001b[0;34m:\u001b[0m\u001b[0;34m\u001b[0m\u001b[0;34m\u001b[0m\u001b[0m\n\u001b[0;32m---> 88\u001b[0;31m             \u001b[0;32mreturn\u001b[0m \u001b[0mself\u001b[0m\u001b[0;34m.\u001b[0m\u001b[0mdispatch_line\u001b[0m\u001b[0;34m(\u001b[0m\u001b[0mframe\u001b[0m\u001b[0;34m)\u001b[0m\u001b[0;34m\u001b[0m\u001b[0;34m\u001b[0m\u001b[0m\n\u001b[0m\u001b[1;32m     89\u001b[0m         \u001b[0;32mif\u001b[0m \u001b[0mevent\u001b[0m \u001b[0;34m==\u001b[0m \u001b[0;34m'call'\u001b[0m\u001b[0;34m:\u001b[0m\u001b[0;34m\u001b[0m\u001b[0;34m\u001b[0m\u001b[0m\n\u001b[1;32m     90\u001b[0m             \u001b[0;32mreturn\u001b[0m \u001b[0mself\u001b[0m\u001b[0;34m.\u001b[0m\u001b[0mdispatch_call\u001b[0m\u001b[0;34m(\u001b[0m\u001b[0mframe\u001b[0m\u001b[0;34m,\u001b[0m \u001b[0marg\u001b[0m\u001b[0;34m)\u001b[0m\u001b[0;34m\u001b[0m\u001b[0;34m\u001b[0m\u001b[0m\n",
      "\u001b[0;32m~/anaconda3/envs/env1/lib/python3.7/bdb.py\u001b[0m in \u001b[0;36mdispatch_line\u001b[0;34m(self, frame)\u001b[0m\n\u001b[1;32m    111\u001b[0m         \u001b[0;32mif\u001b[0m \u001b[0mself\u001b[0m\u001b[0;34m.\u001b[0m\u001b[0mstop_here\u001b[0m\u001b[0;34m(\u001b[0m\u001b[0mframe\u001b[0m\u001b[0;34m)\u001b[0m \u001b[0;32mor\u001b[0m \u001b[0mself\u001b[0m\u001b[0;34m.\u001b[0m\u001b[0mbreak_here\u001b[0m\u001b[0;34m(\u001b[0m\u001b[0mframe\u001b[0m\u001b[0;34m)\u001b[0m\u001b[0;34m:\u001b[0m\u001b[0;34m\u001b[0m\u001b[0;34m\u001b[0m\u001b[0m\n\u001b[1;32m    112\u001b[0m             \u001b[0mself\u001b[0m\u001b[0;34m.\u001b[0m\u001b[0muser_line\u001b[0m\u001b[0;34m(\u001b[0m\u001b[0mframe\u001b[0m\u001b[0;34m)\u001b[0m\u001b[0;34m\u001b[0m\u001b[0;34m\u001b[0m\u001b[0m\n\u001b[0;32m--> 113\u001b[0;31m             \u001b[0;32mif\u001b[0m \u001b[0mself\u001b[0m\u001b[0;34m.\u001b[0m\u001b[0mquitting\u001b[0m\u001b[0;34m:\u001b[0m \u001b[0;32mraise\u001b[0m \u001b[0mBdbQuit\u001b[0m\u001b[0;34m\u001b[0m\u001b[0;34m\u001b[0m\u001b[0m\n\u001b[0m\u001b[1;32m    114\u001b[0m         \u001b[0;32mreturn\u001b[0m \u001b[0mself\u001b[0m\u001b[0;34m.\u001b[0m\u001b[0mtrace_dispatch\u001b[0m\u001b[0;34m\u001b[0m\u001b[0;34m\u001b[0m\u001b[0m\n\u001b[1;32m    115\u001b[0m \u001b[0;34m\u001b[0m\u001b[0m\n",
      "\u001b[0;31mBdbQuit\u001b[0m: "
     ]
    }
   ],
   "source": [
    "# multiple pairwise comparison plot between each region/subfield:\n",
    "# (change \"test\" in last cell to make plots for pre and post-recall bins)\n",
    "%autoreload\n",
    "\n",
    "# data and labels for plot\n",
    "comp_data = [ent_ca1,ent_dg,phc_ca1,phc_dg,dg_ca1,ent_phc]\n",
    "comp_names = ['CA1 v. ENT','DG v. ENT','CA1 v. PHC','DG v. PHC','CA1 v. DG','PHC v. ENT']\n",
    "col_names = ['region','t-scores']\n",
    "\n",
    "# make plot\n",
    "fdr_pvalues = makePairwiseComparisonPlot(comp_data,comp_names,col_names)\n",
    "if test == 1:\n",
    "    plt.title('Ripple rate t-scores for pre-recall bump by subject (with elecs in both regions)')\n",
    "else:\n",
    "    plt.title('Ripple rate t-scores for post-recall valley by subject (with elecs in both regions)')\n",
    "\n",
    "save_fig = 0\n",
    "if save_fig==1:\n",
    "    savefig('../figures/t_score_comparisons/Test '+str(test)+' pairwise comparison plot')\n",
    "a=1;"
   ]
  },
  {
   "cell_type": "markdown",
   "metadata": {},
   "source": [
    "## compare clustering at subject level: do we see more ripples before recalls for high clustering lists?"
   ]
  },
  {
   "cell_type": "code",
   "execution_count": 195,
   "metadata": {
    "collapsed": true,
    "jupyter": {
     "outputs_hidden": true
    }
   },
   "outputs": [
    {
     "name": "stderr",
     "output_type": "stream",
     "text": [
      "/home1/john/anaconda3/envs/env1/lib/python3.7/site-packages/statsmodels/regression/mixed_linear_model.py:2094: ConvergenceWarning: The MLE may be on the boundary of the parameter space.\n",
      "  warnings.warn(msg, ConvergenceWarning)\n",
      "/home1/john/anaconda3/envs/env1/lib/python3.7/site-packages/statsmodels/regression/mixed_linear_model.py:2094: ConvergenceWarning: The MLE may be on the boundary of the parameter space.\n",
      "  warnings.warn(msg, ConvergenceWarning)\n",
      "/home1/john/anaconda3/envs/env1/lib/python3.7/site-packages/statsmodels/regression/mixed_linear_model.py:2115: ConvergenceWarning: The Hessian matrix at the estimated parameter values is not positive definite.\n",
      "  warnings.warn(msg, ConvergenceWarning)\n",
      "/home1/john/anaconda3/envs/env1/lib/python3.7/site-packages/statsmodels/base/model.py:1286: RuntimeWarning: invalid value encountered in sqrt\n",
      "  bse_ = np.sqrt(np.diag(self.cov_params()))\n",
      "/home1/john/anaconda3/envs/env1/lib/python3.7/site-packages/statsmodels/regression/mixed_linear_model.py:2094: ConvergenceWarning: The MLE may be on the boundary of the parameter space.\n",
      "  warnings.warn(msg, ConvergenceWarning)\n",
      "/home1/john/anaconda3/envs/env1/lib/python3.7/site-packages/statsmodels/regression/mixed_linear_model.py:2115: ConvergenceWarning: The Hessian matrix at the estimated parameter values is not positive definite.\n",
      "  warnings.warn(msg, ConvergenceWarning)\n",
      "/home1/john/anaconda3/envs/env1/lib/python3.7/site-packages/statsmodels/regression/mixed_linear_model.py:2094: ConvergenceWarning: The MLE may be on the boundary of the parameter space.\n",
      "  warnings.warn(msg, ConvergenceWarning)\n",
      "/home1/john/anaconda3/envs/env1/lib/python3.7/site-packages/statsmodels/regression/mixed_linear_model.py:2115: ConvergenceWarning: The Hessian matrix at the estimated parameter values is not positive definite.\n",
      "  warnings.warn(msg, ConvergenceWarning)\n",
      "/home1/john/anaconda3/envs/env1/lib/python3.7/site-packages/statsmodels/regression/mixed_linear_model.py:2094: ConvergenceWarning: The MLE may be on the boundary of the parameter space.\n",
      "  warnings.warn(msg, ConvergenceWarning)\n",
      "/home1/john/anaconda3/envs/env1/lib/python3.7/site-packages/statsmodels/regression/mixed_linear_model.py:2115: ConvergenceWarning: The Hessian matrix at the estimated parameter values is not positive definite.\n",
      "  warnings.warn(msg, ConvergenceWarning)\n",
      "/home1/john/anaconda3/envs/env1/lib/python3.7/site-packages/statsmodels/regression/mixed_linear_model.py:2094: ConvergenceWarning: The MLE may be on the boundary of the parameter space.\n",
      "  warnings.warn(msg, ConvergenceWarning)\n",
      "/home1/john/anaconda3/envs/env1/lib/python3.7/site-packages/statsmodels/regression/mixed_linear_model.py:2115: ConvergenceWarning: The Hessian matrix at the estimated parameter values is not positive definite.\n",
      "  warnings.warn(msg, ConvergenceWarning)\n",
      "/home1/john/anaconda3/envs/env1/lib/python3.7/site-packages/statsmodels/regression/mixed_linear_model.py:2094: ConvergenceWarning: The MLE may be on the boundary of the parameter space.\n",
      "  warnings.warn(msg, ConvergenceWarning)\n",
      "/home1/john/anaconda3/envs/env1/lib/python3.7/site-packages/statsmodels/regression/mixed_linear_model.py:2115: ConvergenceWarning: The Hessian matrix at the estimated parameter values is not positive definite.\n",
      "  warnings.warn(msg, ConvergenceWarning)\n",
      "/home1/john/anaconda3/envs/env1/lib/python3.7/site-packages/statsmodels/regression/mixed_linear_model.py:2094: ConvergenceWarning: The MLE may be on the boundary of the parameter space.\n",
      "  warnings.warn(msg, ConvergenceWarning)\n",
      "/home1/john/anaconda3/envs/env1/lib/python3.7/site-packages/statsmodels/regression/mixed_linear_model.py:2115: ConvergenceWarning: The Hessian matrix at the estimated parameter values is not positive definite.\n",
      "  warnings.warn(msg, ConvergenceWarning)\n",
      "/home1/john/anaconda3/envs/env1/lib/python3.7/site-packages/statsmodels/regression/mixed_linear_model.py:2094: ConvergenceWarning: The MLE may be on the boundary of the parameter space.\n",
      "  warnings.warn(msg, ConvergenceWarning)\n",
      "/home1/john/anaconda3/envs/env1/lib/python3.7/site-packages/statsmodels/regression/mixed_linear_model.py:2094: ConvergenceWarning: The MLE may be on the boundary of the parameter space.\n",
      "  warnings.warn(msg, ConvergenceWarning)\n",
      "/home1/john/anaconda3/envs/env1/lib/python3.7/site-packages/statsmodels/regression/mixed_linear_model.py:2115: ConvergenceWarning: The Hessian matrix at the estimated parameter values is not positive definite.\n",
      "  warnings.warn(msg, ConvergenceWarning)\n",
      "/home1/john/anaconda3/envs/env1/lib/python3.7/site-packages/statsmodels/regression/mixed_linear_model.py:2094: ConvergenceWarning: The MLE may be on the boundary of the parameter space.\n",
      "  warnings.warn(msg, ConvergenceWarning)\n",
      "/home1/john/anaconda3/envs/env1/lib/python3.7/site-packages/statsmodels/regression/mixed_linear_model.py:2094: ConvergenceWarning: The MLE may be on the boundary of the parameter space.\n",
      "  warnings.warn(msg, ConvergenceWarning)\n",
      "/home1/john/anaconda3/envs/env1/lib/python3.7/site-packages/statsmodels/regression/mixed_linear_model.py:2115: ConvergenceWarning: The Hessian matrix at the estimated parameter values is not positive definite.\n",
      "  warnings.warn(msg, ConvergenceWarning)\n",
      "/home1/john/anaconda3/envs/env1/lib/python3.7/site-packages/statsmodels/regression/mixed_linear_model.py:2094: ConvergenceWarning: The MLE may be on the boundary of the parameter space.\n",
      "  warnings.warn(msg, ConvergenceWarning)\n",
      "/home1/john/anaconda3/envs/env1/lib/python3.7/site-packages/statsmodels/regression/mixed_linear_model.py:2115: ConvergenceWarning: The Hessian matrix at the estimated parameter values is not positive definite.\n",
      "  warnings.warn(msg, ConvergenceWarning)\n",
      "/home1/john/anaconda3/envs/env1/lib/python3.7/site-packages/statsmodels/regression/mixed_linear_model.py:2094: ConvergenceWarning: The MLE may be on the boundary of the parameter space.\n",
      "  warnings.warn(msg, ConvergenceWarning)\n",
      "/home1/john/anaconda3/envs/env1/lib/python3.7/site-packages/statsmodels/regression/mixed_linear_model.py:2115: ConvergenceWarning: The Hessian matrix at the estimated parameter values is not positive definite.\n",
      "  warnings.warn(msg, ConvergenceWarning)\n",
      "/home1/john/anaconda3/envs/env1/lib/python3.7/site-packages/statsmodels/regression/mixed_linear_model.py:2094: ConvergenceWarning: The MLE may be on the boundary of the parameter space.\n",
      "  warnings.warn(msg, ConvergenceWarning)\n",
      "/home1/john/anaconda3/envs/env1/lib/python3.7/site-packages/statsmodels/regression/mixed_linear_model.py:2115: ConvergenceWarning: The Hessian matrix at the estimated parameter values is not positive definite.\n",
      "  warnings.warn(msg, ConvergenceWarning)\n",
      "/home1/john/anaconda3/envs/env1/lib/python3.7/site-packages/statsmodels/regression/mixed_linear_model.py:2094: ConvergenceWarning: The MLE may be on the boundary of the parameter space.\n",
      "  warnings.warn(msg, ConvergenceWarning)\n",
      "/home1/john/anaconda3/envs/env1/lib/python3.7/site-packages/statsmodels/regression/mixed_linear_model.py:2094: ConvergenceWarning: The MLE may be on the boundary of the parameter space.\n",
      "  warnings.warn(msg, ConvergenceWarning)\n",
      "/home1/john/anaconda3/envs/env1/lib/python3.7/site-packages/statsmodels/regression/mixed_linear_model.py:2094: ConvergenceWarning: The MLE may be on the boundary of the parameter space.\n",
      "  warnings.warn(msg, ConvergenceWarning)\n",
      "/home1/john/anaconda3/envs/env1/lib/python3.7/site-packages/statsmodels/regression/mixed_linear_model.py:2115: ConvergenceWarning: The Hessian matrix at the estimated parameter values is not positive definite.\n",
      "  warnings.warn(msg, ConvergenceWarning)\n",
      "/home1/john/anaconda3/envs/env1/lib/python3.7/site-packages/statsmodels/regression/mixed_linear_model.py:2094: ConvergenceWarning: The MLE may be on the boundary of the parameter space.\n",
      "  warnings.warn(msg, ConvergenceWarning)\n",
      "/home1/john/anaconda3/envs/env1/lib/python3.7/site-packages/statsmodels/regression/mixed_linear_model.py:2115: ConvergenceWarning: The Hessian matrix at the estimated parameter values is not positive definite.\n",
      "  warnings.warn(msg, ConvergenceWarning)\n",
      "/home1/john/anaconda3/envs/env1/lib/python3.7/site-packages/statsmodels/regression/mixed_linear_model.py:2094: ConvergenceWarning: The MLE may be on the boundary of the parameter space.\n",
      "  warnings.warn(msg, ConvergenceWarning)\n",
      "/home1/john/anaconda3/envs/env1/lib/python3.7/site-packages/statsmodels/regression/mixed_linear_model.py:2115: ConvergenceWarning: The Hessian matrix at the estimated parameter values is not positive definite.\n",
      "  warnings.warn(msg, ConvergenceWarning)\n",
      "/home1/john/anaconda3/envs/env1/lib/python3.7/site-packages/statsmodels/regression/mixed_linear_model.py:2094: ConvergenceWarning: The MLE may be on the boundary of the parameter space.\n",
      "  warnings.warn(msg, ConvergenceWarning)\n",
      "/home1/john/anaconda3/envs/env1/lib/python3.7/site-packages/statsmodels/regression/mixed_linear_model.py:2115: ConvergenceWarning: The Hessian matrix at the estimated parameter values is not positive definite.\n",
      "  warnings.warn(msg, ConvergenceWarning)\n",
      "/home1/john/anaconda3/envs/env1/lib/python3.7/site-packages/statsmodels/regression/mixed_linear_model.py:2094: ConvergenceWarning: The MLE may be on the boundary of the parameter space.\n",
      "  warnings.warn(msg, ConvergenceWarning)\n",
      "/home1/john/anaconda3/envs/env1/lib/python3.7/site-packages/statsmodels/regression/mixed_linear_model.py:2115: ConvergenceWarning: The Hessian matrix at the estimated parameter values is not positive definite.\n",
      "  warnings.warn(msg, ConvergenceWarning)\n",
      "/home1/john/anaconda3/envs/env1/lib/python3.7/site-packages/statsmodels/regression/mixed_linear_model.py:2094: ConvergenceWarning: The MLE may be on the boundary of the parameter space.\n",
      "  warnings.warn(msg, ConvergenceWarning)\n",
      "/home1/john/anaconda3/envs/env1/lib/python3.7/site-packages/statsmodels/regression/mixed_linear_model.py:2094: ConvergenceWarning: The MLE may be on the boundary of the parameter space.\n",
      "  warnings.warn(msg, ConvergenceWarning)\n",
      "/home1/john/anaconda3/envs/env1/lib/python3.7/site-packages/statsmodels/regression/mixed_linear_model.py:2094: ConvergenceWarning: The MLE may be on the boundary of the parameter space.\n",
      "  warnings.warn(msg, ConvergenceWarning)\n",
      "/home1/john/anaconda3/envs/env1/lib/python3.7/site-packages/statsmodels/regression/mixed_linear_model.py:2094: ConvergenceWarning: The MLE may be on the boundary of the parameter space.\n",
      "  warnings.warn(msg, ConvergenceWarning)\n",
      "/home1/john/anaconda3/envs/env1/lib/python3.7/site-packages/statsmodels/regression/mixed_linear_model.py:2115: ConvergenceWarning: The Hessian matrix at the estimated parameter values is not positive definite.\n",
      "  warnings.warn(msg, ConvergenceWarning)\n",
      "/home1/john/anaconda3/envs/env1/lib/python3.7/site-packages/statsmodels/regression/mixed_linear_model.py:2094: ConvergenceWarning: The MLE may be on the boundary of the parameter space.\n",
      "  warnings.warn(msg, ConvergenceWarning)\n",
      "/home1/john/anaconda3/envs/env1/lib/python3.7/site-packages/statsmodels/regression/mixed_linear_model.py:2115: ConvergenceWarning: The Hessian matrix at the estimated parameter values is not positive definite.\n",
      "  warnings.warn(msg, ConvergenceWarning)\n",
      "/home1/john/anaconda3/envs/env1/lib/python3.7/site-packages/statsmodels/regression/mixed_linear_model.py:2094: ConvergenceWarning: The MLE may be on the boundary of the parameter space.\n",
      "  warnings.warn(msg, ConvergenceWarning)\n",
      "/home1/john/anaconda3/envs/env1/lib/python3.7/site-packages/statsmodels/regression/mixed_linear_model.py:2115: ConvergenceWarning: The Hessian matrix at the estimated parameter values is not positive definite.\n",
      "  warnings.warn(msg, ConvergenceWarning)\n",
      "/home1/john/anaconda3/envs/env1/lib/python3.7/site-packages/statsmodels/regression/mixed_linear_model.py:2094: ConvergenceWarning: The MLE may be on the boundary of the parameter space.\n",
      "  warnings.warn(msg, ConvergenceWarning)\n",
      "/home1/john/anaconda3/envs/env1/lib/python3.7/site-packages/statsmodels/regression/mixed_linear_model.py:2094: ConvergenceWarning: The MLE may be on the boundary of the parameter space.\n",
      "  warnings.warn(msg, ConvergenceWarning)\n",
      "/home1/john/anaconda3/envs/env1/lib/python3.7/site-packages/statsmodels/regression/mixed_linear_model.py:2115: ConvergenceWarning: The Hessian matrix at the estimated parameter values is not positive definite.\n",
      "  warnings.warn(msg, ConvergenceWarning)\n",
      "/home1/john/anaconda3/envs/env1/lib/python3.7/site-packages/statsmodels/regression/mixed_linear_model.py:2094: ConvergenceWarning: The MLE may be on the boundary of the parameter space.\n",
      "  warnings.warn(msg, ConvergenceWarning)\n",
      "/home1/john/anaconda3/envs/env1/lib/python3.7/site-packages/statsmodels/regression/mixed_linear_model.py:2115: ConvergenceWarning: The Hessian matrix at the estimated parameter values is not positive definite.\n",
      "  warnings.warn(msg, ConvergenceWarning)\n",
      "/home1/john/anaconda3/envs/env1/lib/python3.7/site-packages/statsmodels/regression/mixed_linear_model.py:2094: ConvergenceWarning: The MLE may be on the boundary of the parameter space.\n",
      "  warnings.warn(msg, ConvergenceWarning)\n",
      "/home1/john/anaconda3/envs/env1/lib/python3.7/site-packages/statsmodels/regression/mixed_linear_model.py:2094: ConvergenceWarning: The MLE may be on the boundary of the parameter space.\n",
      "  warnings.warn(msg, ConvergenceWarning)\n",
      "/home1/john/anaconda3/envs/env1/lib/python3.7/site-packages/statsmodels/regression/mixed_linear_model.py:2115: ConvergenceWarning: The Hessian matrix at the estimated parameter values is not positive definite.\n",
      "  warnings.warn(msg, ConvergenceWarning)\n",
      "/home1/john/anaconda3/envs/env1/lib/python3.7/site-packages/statsmodels/regression/mixed_linear_model.py:2094: ConvergenceWarning: The MLE may be on the boundary of the parameter space.\n",
      "  warnings.warn(msg, ConvergenceWarning)\n",
      "/home1/john/anaconda3/envs/env1/lib/python3.7/site-packages/statsmodels/regression/mixed_linear_model.py:2115: ConvergenceWarning: The Hessian matrix at the estimated parameter values is not positive definite.\n",
      "  warnings.warn(msg, ConvergenceWarning)\n",
      "/home1/john/anaconda3/envs/env1/lib/python3.7/site-packages/statsmodels/regression/mixed_linear_model.py:2094: ConvergenceWarning: The MLE may be on the boundary of the parameter space.\n",
      "  warnings.warn(msg, ConvergenceWarning)\n",
      "/home1/john/anaconda3/envs/env1/lib/python3.7/site-packages/statsmodels/regression/mixed_linear_model.py:2115: ConvergenceWarning: The Hessian matrix at the estimated parameter values is not positive definite.\n",
      "  warnings.warn(msg, ConvergenceWarning)\n",
      "/home1/john/anaconda3/envs/env1/lib/python3.7/site-packages/statsmodels/regression/mixed_linear_model.py:2094: ConvergenceWarning: The MLE may be on the boundary of the parameter space.\n",
      "  warnings.warn(msg, ConvergenceWarning)\n",
      "/home1/john/anaconda3/envs/env1/lib/python3.7/site-packages/statsmodels/regression/mixed_linear_model.py:2115: ConvergenceWarning: The Hessian matrix at the estimated parameter values is not positive definite.\n",
      "  warnings.warn(msg, ConvergenceWarning)\n",
      "/home1/john/anaconda3/envs/env1/lib/python3.7/site-packages/statsmodels/regression/mixed_linear_model.py:2094: ConvergenceWarning: The MLE may be on the boundary of the parameter space.\n",
      "  warnings.warn(msg, ConvergenceWarning)\n",
      "/home1/john/anaconda3/envs/env1/lib/python3.7/site-packages/statsmodels/regression/mixed_linear_model.py:2094: ConvergenceWarning: The MLE may be on the boundary of the parameter space.\n",
      "  warnings.warn(msg, ConvergenceWarning)\n",
      "/home1/john/anaconda3/envs/env1/lib/python3.7/site-packages/statsmodels/regression/mixed_linear_model.py:2115: ConvergenceWarning: The Hessian matrix at the estimated parameter values is not positive definite.\n",
      "  warnings.warn(msg, ConvergenceWarning)\n",
      "/home1/john/anaconda3/envs/env1/lib/python3.7/site-packages/statsmodels/regression/mixed_linear_model.py:2094: ConvergenceWarning: The MLE may be on the boundary of the parameter space.\n",
      "  warnings.warn(msg, ConvergenceWarning)\n",
      "/home1/john/anaconda3/envs/env1/lib/python3.7/site-packages/statsmodels/regression/mixed_linear_model.py:2115: ConvergenceWarning: The Hessian matrix at the estimated parameter values is not positive definite.\n",
      "  warnings.warn(msg, ConvergenceWarning)\n",
      "/home1/john/anaconda3/envs/env1/lib/python3.7/site-packages/statsmodels/regression/mixed_linear_model.py:2094: ConvergenceWarning: The MLE may be on the boundary of the parameter space.\n",
      "  warnings.warn(msg, ConvergenceWarning)\n",
      "/home1/john/anaconda3/envs/env1/lib/python3.7/site-packages/statsmodels/regression/mixed_linear_model.py:2115: ConvergenceWarning: The Hessian matrix at the estimated parameter values is not positive definite.\n",
      "  warnings.warn(msg, ConvergenceWarning)\n",
      "/home1/john/anaconda3/envs/env1/lib/python3.7/site-packages/statsmodels/regression/mixed_linear_model.py:2094: ConvergenceWarning: The MLE may be on the boundary of the parameter space.\n",
      "  warnings.warn(msg, ConvergenceWarning)\n",
      "/home1/john/anaconda3/envs/env1/lib/python3.7/site-packages/statsmodels/regression/mixed_linear_model.py:2115: ConvergenceWarning: The Hessian matrix at the estimated parameter values is not positive definite.\n",
      "  warnings.warn(msg, ConvergenceWarning)\n"
     ]
    }
   ],
   "source": [
    "import statsmodels.formula.api as smf\n",
    "from scipy.stats import scoreatpercentile\n",
    "\n",
    "selected_period = 'surrounding_recall' \n",
    "remove_soz_ictal = False\n",
    "recall_type_switch = 1  # 0 for original, 1 for only those with subsequent, 2 for second recalls only, 3 for isolated recalls\n",
    "region = 'HPC' # 'PHC' 'ENT '# put smaller one first so positive values mean a rise\n",
    "location_selected = '' # 'ca3' # 'dg' 'ca1' # sub # left hippocampus # right hippocampus # hippocampus\n",
    "# put '' for no subregions, len=1 (e.g. 'ca1') in for subregion for HPC above, or len=2 (e.g. ['ca1','dg']) to compare regions\n",
    "\n",
    "min_recalls = 4  # keep lists with ≥ this many recalls\n",
    "upper_label = '' # keeping all trials and splitting within subject\n",
    "\n",
    "min_trials = 50\n",
    "\n",
    "use_median = 0 # if 1, split into two halves; if not 1, then use terciles\n",
    "\n",
    "pad = 2\n",
    "psth_start = -2000\n",
    "psth_end = 2000\n",
    "stats_bin = 500 # time bin width in ms to test stats on\n",
    "first_start = -1600 # going to make sequence of 3 bins and test 1st v. 3rd\n",
    "first_end = -100\n",
    "second_start = 200 # same idea\n",
    "second_end = 1700\n",
    "\n",
    "# get strings for path name for save and loading cluster data\n",
    "soz_label,recall_selection_name,subfolder = getSWRpathInfo(remove_soz_ictal,recall_type_switch,selected_period)\n",
    "\n",
    "# select subregion if necessary\n",
    "temp_loc = ''\n",
    "if region == 'HPC':\n",
    "    if len(location_selected)>0:\n",
    "        temp_loc = location_selected\n",
    "        \n",
    "path_name = '/home1/john/SWR/figures/'+subfolder\n",
    "fn = os.path.join(path_name,\n",
    "    'SWRCLUSTER_'+exp+'_'+region+'_'+temp_loc+'_'+str(recall_type_switch)+\n",
    "                  '_'+soz_label+'_recalls-'+str(min_recalls)+'_'+upper_label+'.p')           \n",
    "with open(fn,'rb') as f:\n",
    "    dat = pickle.load(f)\n",
    "    data_test1 = dat['binned_first_stats_array']; data_test2 = dat['binned_second_stats_array'];\n",
    "    subs = dat['subject_name_array']; sessions = dat['session_name_array'];\n",
    "    clust_scores = dat['temporal_clustering_key'];\n",
    "    clust_scores_semantic = np.array(dat['semantic_clustering_key']) # semantic wasn't made array in earlier SWRanalysisClustering version\n",
    "    \n",
    "# now can split each subject into high and low clustering scores\n",
    "\n",
    "unique_subs = np.unique(subs)    \n",
    "test1_tvalues = []\n",
    "test2_tvalues = []\n",
    "for ss in unique_subs: # this one should have fewer since always putting non-temp_loc one 2nd\n",
    "    # Now do a mixed model comparing high v. low clustering just for this subject\n",
    "    sub_mask = subs==ss\n",
    "    if sum(sub_mask)>=min_trials:\n",
    "        if use_median == 1:\n",
    "            subject_median = np.median(clust_scores[sub_mask])\n",
    "            if subject_median == 1:\n",
    "                subject_median = 0.99 # happens on 1 subject with recall_type_switch=2\n",
    "            low_clust_idxs = clust_scores[sub_mask]<=subject_median\n",
    "            high_clust_idxs = clust_scores[sub_mask]>subject_median\n",
    "        else:\n",
    "            sub_high = scoreatpercentile(clust_scores[sub_mask],200/3)\n",
    "            sub_low = scoreatpercentile(clust_scores[sub_mask],100/3)\n",
    "            if sub_high == 1:\n",
    "                sub_high = 0.99 # just in case\n",
    "            low_clust_idxs = clust_scores[sub_mask]<=sub_low\n",
    "            high_clust_idxs = clust_scores[sub_mask]>=sub_high\n",
    "            if sum(low_clust_idxs) == len(low_clust_idxs) or sum(high_clust_idxs) == len(high_clust_idxs):\n",
    "                continue # can't use this subject with terciles\n",
    "            \n",
    "        category_pred = np.append(np.tile(0,sum(low_clust_idxs)),\n",
    "                                  np.tile(1,sum(high_clust_idxs)))\n",
    "        session_pred = np.append(sessions[sub_mask][low_clust_idxs],\n",
    "                                 sessions[sub_mask][high_clust_idxs])\n",
    "        test1_outcome = np.append(data_test1[sub_mask,2][low_clust_idxs], # 2 because 3 bins -1600:-100 ms was saved\n",
    "                                  data_test1[sub_mask,2][high_clust_idxs])\n",
    "        test2_outcome = np.append(data_test2[sub_mask,0][low_clust_idxs],\n",
    "                                  data_test2[sub_mask,0][high_clust_idxs])\n",
    "        # test 1 (-600:-100 ms from recall)\n",
    "        test1_df = pd.DataFrame(data={'session_pred':session_pred,\n",
    "                    'category_pred':category_pred,'test1_outcome':test1_outcome})\n",
    "        sig_bin_model = smf.mixedlm(\"test1_outcome ~ category_pred\", test1_df, groups=\"session_pred\")\n",
    "        test1_model = sig_bin_model.fit(reml=False, method='nm')\n",
    "\n",
    "        # test 2 (200:700 ms from recall)\n",
    "        test2_df = pd.DataFrame(data={'session_pred':session_pred,\n",
    "                    'category_pred':category_pred,'test2_outcome':test2_outcome})\n",
    "        sig_bin_model = smf.mixedlm(\"test2_outcome ~ category_pred\", test2_df, groups=\"session_pred\")\n",
    "        test2_model = sig_bin_model.fit(reml=False, method='nm')\n",
    "        test1_tvalues.append(test1_model.tvalues[1])\n",
    "        test2_tvalues.append(test2_model.tvalues[1])"
   ]
  },
  {
   "cell_type": "code",
   "execution_count": 196,
   "metadata": {},
   "outputs": [
    {
     "name": "stdout",
     "output_type": "stream",
     "text": [
      "0.21438668088195398\n",
      "0.244512354985359\n"
     ]
    },
    {
     "data": {
      "image/png": "[encoded data removed]",
      "text/plain": [
       "<Figure size 432x288 with 1 Axes>"
      ]
     },
     "metadata": {
      "needs_background": "light"
     },
     "output_type": "display_data"
    },
    {
     "data": {
      "image/png": "[encoded data removed]",
      "text/plain": [
       "<Figure size 432x288 with 1 Axes>"
      ]
     },
     "metadata": {
      "needs_background": "light"
     },
     "output_type": "display_data"
    }
   ],
   "source": [
    "# single comparison plots here and get data to add to dataframe for swarmplot comparisons below\n",
    "\n",
    "from scipy.stats import ttest_1samp\n",
    "\n",
    "# test 1:\n",
    "figSub,axSub = plt.subplots(1,1, figsize=(6,4))\n",
    "test1_tvalues = np.array(test1_tvalues)[~np.isnan(test1_tvalues)]\n",
    "axSub.bar( 0, np.nanmean(test1_tvalues), yerr = np.nanstd(test1_tvalues)/np.sqrt(len(test1_tvalues)),\n",
    "          color = (0.5,0.5,0.5), error_kw={'elinewidth':8, 'ecolor':(0.7,0.7,0.7)} )\n",
    "sb.swarmplot(data=test1_tvalues, ax=axSub, color=(0,0.5,0.5), alpha=0.3)\n",
    "axSub.plot([axSub.get_xlim()[0],axSub.get_xlim()[1]],[0,0],linewidth=2,linestyle='--',color=(0,0,0),label='_nolegend_')\n",
    "text(0-0.1,-4,'N='+str(len(test1_tvalues)))\n",
    "axSub.set(xticks=[])\n",
    "axSub.set_ylim(-6,6) \n",
    "ylabel('t-scores')\n",
    "title('Ripple rate t-scores for -600:-100 ms by subject')\n",
    "figSub.tight_layout()\n",
    "print(ttest_1samp(test1_tvalues,0)[1])\n",
    "\n",
    "# test 1:\n",
    "figSub,axSub = plt.subplots(1,1, figsize=(6,4))\n",
    "test2_tvalues = np.array(test2_tvalues)[~np.isnan(test2_tvalues)]\n",
    "axSub.bar( 0, np.nanmean(test2_tvalues), yerr = np.nanstd(test2_tvalues)/np.sqrt(len(test2_tvalues)),\n",
    "          color = (0.5,0.5,0.5), error_kw={'elinewidth':8, 'ecolor':(0.7,0.7,0.7)} )\n",
    "sb.swarmplot(data=test2_tvalues, ax=axSub, color=(0,0.5,0.5), alpha=0.3)\n",
    "axSub.plot([axSub.get_xlim()[0],axSub.get_xlim()[1]],[0,0],linewidth=2,linestyle='--',color=(0,0,0),label='_nolegend_')\n",
    "text(0-0.1,-4,'N='+str(len(test2_tvalues)))\n",
    "axSub.set(xticks=[])\n",
    "axSub.set_ylim(-6,6) \n",
    "ylabel('t-scores')\n",
    "title('Ripple rate t-scores for 200:700 ms by subject')\n",
    "figSub.tight_layout()\n",
    "print(ttest_1samp(test2_tvalues,0)[1]);"
   ]
  },
  {
   "cell_type": "markdown",
   "metadata": {},
   "source": [
    "## For subjects with multiple sessions, can we see consistency of pre-recall bump (or lack of one) for the same electrodes?"
   ]
  },
  {
   "cell_type": "code",
   "execution_count": 15,
   "metadata": {},
   "outputs": [
    {
     "name": "stdout",
     "output_type": "stream",
     "text": [
      "% of electrodes significant for Test 1:\n"
     ]
    },
    {
     "data": {
      "text/plain": [
       "0.04477611940298507"
      ]
     },
     "execution_count": 15,
     "metadata": {},
     "output_type": "execute_result"
    },
    {
     "name": "stdout",
     "output_type": "stream",
     "text": [
      "% of electrodes significantly different across sessions\n"
     ]
    },
    {
     "data": {
      "text/plain": [
       "0.014925373134328358"
      ]
     },
     "execution_count": 15,
     "metadata": {},
     "output_type": "execute_result"
    }
   ],
   "source": [
    "import statsmodels.formula.api as smf\n",
    "\n",
    "selected_period = 'surrounding_recall' \n",
    "remove_soz_ictal = False\n",
    "recall_type_switch = 0 # 0 for original, 1 for only those with subsequent, 2 for second recalls only, 3 for isolated recalls\n",
    "region = 'HPC' # 'PHC' 'ENT '# put smaller one first so positive values mean a rise\n",
    "location_selected = ['ca1'] # make sure in brackets #['dg','ca1'] # 'ca3' # 'dg' 'ca1' # sub # left hippocampus # right hippocampus # hippocampus\n",
    "# put '' for no subregions, len=1 (e.g. 'ca1') in for subregion for HPC above, or len=2 (e.g. ['ca1','dg']) to compare regions\n",
    "\n",
    "pad = 2\n",
    "psth_start = -2000\n",
    "psth_end = 2000\n",
    "stats_bin = 500 # time bin width in ms to test stats on\n",
    "first_start = -1600 # going to make sequence of 3 bins and test 1st v. 3rd\n",
    "first_end = -100\n",
    "second_start = 200 # same idea\n",
    "second_end = 1700\n",
    "\n",
    "# get strings for path name for save and loading cluster data\n",
    "soz_label,recall_selection_name,subfolder = getSWRpathInfo(remove_soz_ictal,recall_type_switch,selected_period,recall_minimum)\n",
    "    \n",
    "# select subregion if necessary\n",
    "temp_loc = ''\n",
    "if region == 'HPC':\n",
    "    temp_loc = location_selected[0]\n",
    "\n",
    "path_name = '/home1/john/SWR/figures/'+subfolder\n",
    "fn = os.path.join(path_name,\n",
    "    'SWR_'+exp+'_'+region+'_'+temp_loc+'_'+str(recall_type_switch)+'_'+soz_label+'_'+filter_type+'.p')          \n",
    "with open(fn,'rb') as f:\n",
    "    dat = pickle.load(f)\n",
    "    data_test1 = dat['binned_first_stats_array']; data_test2 = dat['binned_second_stats_array'];\n",
    "    subs = dat['subject_name_array']; sessions = dat['session_name_array'];\n",
    "    electrode_array = dat['electrode_array']\n",
    "\n",
    "# now you have sets of data loaded for two regions along with sub/sess for each-->\n",
    "# search across the subjects to find which subjects have electrodes in both regions\n",
    "\n",
    "unique_subs = np.unique(subs)    \n",
    "\n",
    "test1_elec_rates_across_sessions = [] # list of ripples rates by each electrode (list of lists since diff # of sessions for each)\n",
    "test2_elec_rates_across_sessions = []\n",
    "key_bin_p_values = []; key_bin_t_values = []\n",
    "session_p_values = []; session_t_values = []\n",
    "for ss in unique_subs:\n",
    "    sub_mask = subs==ss\n",
    "      \n",
    "    # for each subject, look for multiple sessions from same subject\n",
    "    unique_sessions = np.unique(sessions[sub_mask])\n",
    "    if len(unique_sessions)>1:\n",
    "        \n",
    "        # now take first session and get electrode names. Will compare future sessions with 1st only (gets complicated comparing beyond 1st)\n",
    "        first_session_unique_electrodes = np.unique(electrode_array[sessions==unique_sessions[0]])\n",
    "        \n",
    "        for elec in first_session_unique_electrodes:\n",
    "            electrode_mask = electrode_array==elec\n",
    "            sessions_with_elec = sessions[sub_mask & electrode_mask] \n",
    "            \n",
    "            if len(np.unique(sessions_with_elec))>1: # if electrode shows up in at least 2 sessions\n",
    "                temp_list1 = []\n",
    "                temp_list2 = []\n",
    "                session_pred = []\n",
    "                ripple_outcome = []\n",
    "                category_pred = []\n",
    "                for sess in np.unique(sessions_with_elec):\n",
    "                    # now have all sessions with this electrode from given subject\n",
    "                    test1_vector = data_test1[sub_mask & electrode_mask & (sessions==sess),2]\n",
    "                    test2_vector = data_test2[sub_mask & electrode_mask & (sessions==sess),2]\n",
    "                    temp_list1.append(np.mean(test1_vector))\n",
    "                    temp_list2.append(np.mean(test2_vector))\n",
    "\n",
    "                    # let's model each electrode and see if electrode ripple rate significantly changes\n",
    "                    ripple_outcome.extend( np.append(data_test1[sub_mask & electrode_mask & (sessions==sess),0],\n",
    "                                               data_test1[sub_mask & electrode_mask & (sessions==sess),2]) )\n",
    "                    session_pred.extend( np.tile(sessions[sub_mask & electrode_mask & (sessions==sess)],2) )\n",
    "                    category_pred.extend( np.append( np.zeros(len(data_test1[sub_mask & electrode_mask & (sessions==sess),0])),\n",
    "                                               np.ones(len(data_test1[sub_mask & electrode_mask & (sessions==sess),0])) ) )\n",
    "                test1_df = pd.DataFrame(data={'session_pred':session_pred,\n",
    "                        'category_pred':category_pred,'ripple_outcome':ripple_outcome})\n",
    "                sig_bin_model = smf.ols(\"ripple_outcome ~ category_pred+session_pred+category_pred*session_pred\", test1_df)\n",
    "                test1_model = sig_bin_model.fit(reml=False)\n",
    "                key_bin_p_values.append(test1_model.pvalues[2])\n",
    "                session_p_values.append(test1_model.pvalues[1])\n",
    "                key_bin_t_values.append(test1_model.tvalues[2])\n",
    "                session_t_values.append(test1_model.tvalues[1])\n",
    "\n",
    "                # for raw rate plot by session\n",
    "                test1_elec_rates_across_sessions.append(temp_list1)\n",
    "                test2_elec_rates_across_sessions.append(temp_list2)\n",
    "\n",
    "print('% of electrodes significant for Test 1:')\n",
    "sum(np.array(key_bin_p_values)<0.05)/len(key_bin_p_values)\n",
    "print('% of electrodes significantly different across sessions')\n",
    "sum(np.array(session_p_values)<0.05)/len(key_bin_p_values)"
   ]
  },
  {
   "cell_type": "code",
   "execution_count": 16,
   "metadata": {},
   "outputs": [
    {
     "data": {
      "text/plain": [
       "<matplotlib.axes._subplots.AxesSubplot at 0x2b81291050d0>"
      ]
     },
     "execution_count": 16,
     "metadata": {},
     "output_type": "execute_result"
    },
    {
     "data": {
      "image/png": "[encoded data removed]",
      "text/plain": [
       "<Figure size 432x288 with 1 Axes>"
      ]
     },
     "metadata": {
      "needs_background": "light"
     },
     "output_type": "display_data"
    },
    {
     "data": {
      "text/plain": [
       "<matplotlib.axes._subplots.AxesSubplot at 0x2b8129bc9bd0>"
      ]
     },
     "execution_count": 16,
     "metadata": {},
     "output_type": "execute_result"
    },
    {
     "data": {
      "text/plain": [
       "Text(0, 0.5, 't-scores for single electrode')"
      ]
     },
     "execution_count": 16,
     "metadata": {},
     "output_type": "execute_result"
    },
    {
     "data": {
      "text/plain": [
       "Text(0.5, 1.0, 't-scores for \"session\" predictor for same channel in different sessions')"
      ]
     },
     "execution_count": 16,
     "metadata": {},
     "output_type": "execute_result"
    },
    {
     "data": {
      "image/png": "[encoded data removed]",
      "text/plain": [
       "<Figure size 432x288 with 1 Axes>"
      ]
     },
     "metadata": {
      "needs_background": "light"
     },
     "output_type": "display_data"
    }
   ],
   "source": [
    "sb.swarmplot(y=key_bin_t_values); show()\n",
    "sb.swarmplot(y=session_t_values)\n",
    "ylabel('t-scores for single electrode')\n",
    "title('t-scores for \"session\" predictor for same channel in different sessions')"
   ]
  },
  {
   "cell_type": "code",
   "execution_count": 17,
   "metadata": {},
   "outputs": [
    {
     "name": "stdout",
     "output_type": "stream",
     "text": [
      "Mean over sessions: \n",
      "[0.43550556 0.45828919 0.49305995 0.55831521 0.52378543 0.4853129 ]\n",
      "StD over sessions:\n",
      "[0.27876792 0.28643581 0.37641312 0.22049552 0.23167703 0.18190157]\n"
     ]
    },
    {
     "data": {
      "image/png": "[encoded data removed]",
      "text/plain": [
       "<Figure size 432x864 with 1 Axes>"
      ]
     },
     "metadata": {
      "needs_background": "light"
     },
     "output_type": "display_data"
    }
   ],
   "source": [
    "figSub,axSub = plt.subplots(1,1, figsize=(6,12))\n",
    "for el in test1_elec_rates_across_sessions:\n",
    "    plot(el)\n",
    "ylabel('Ripple rate (Hz)')\n",
    "xlabel('Session')\n",
    "title('Ripple rates for same channels across sessions')\n",
    "xticks(range(6),np.arange(6)+1)\n",
    "\n",
    "from itertools import zip_longest\n",
    "mean_over_sessions = np.nanmean(np.array(list(zip_longest(*test1_elec_rates_across_sessions)),dtype=float),axis=1)\n",
    "print('Mean over sessions: ')\n",
    "print(mean_over_sessions)\n",
    "print('StD over sessions:')\n",
    "print(np.nanstd(np.array(list(zip_longest(*test1_elec_rates_across_sessions)),dtype=float),axis=1,ddof=1))\n",
    "a=1;"
   ]
  },
  {
   "cell_type": "markdown",
   "metadata": {},
   "source": [
    "## For brainplot I want the t-score for each individual electrode across subjects to plot on the 3D brain"
   ]
  },
  {
   "cell_type": "code",
   "execution_count": 34,
   "metadata": {},
   "outputs": [
    {
     "name": "stdout",
     "output_type": "stream",
     "text": [
      "ME model used for this sub\n",
      "ME model used for this sub\n",
      "ME model used for this sub\n"
     ]
    },
    {
     "name": "stderr",
     "output_type": "stream",
     "text": [
      "/home1/john/anaconda3/envs/env1/lib/python3.7/site-packages/statsmodels/regression/mixed_linear_model.py:2094: ConvergenceWarning: The MLE may be on the boundary of the parameter space.\n",
      "  warnings.warn(msg, ConvergenceWarning)\n",
      "/home1/john/anaconda3/envs/env1/lib/python3.7/site-packages/statsmodels/regression/mixed_linear_model.py:2094: ConvergenceWarning: The MLE may be on the boundary of the parameter space.\n",
      "  warnings.warn(msg, ConvergenceWarning)\n",
      "/home1/john/anaconda3/envs/env1/lib/python3.7/site-packages/statsmodels/regression/mixed_linear_model.py:2094: ConvergenceWarning: The MLE may be on the boundary of the parameter space.\n",
      "  warnings.warn(msg, ConvergenceWarning)\n",
      "/home1/john/anaconda3/envs/env1/lib/python3.7/site-packages/statsmodels/regression/mixed_linear_model.py:2094: ConvergenceWarning: The MLE may be on the boundary of the parameter space.\n",
      "  warnings.warn(msg, ConvergenceWarning)\n",
      "/home1/john/anaconda3/envs/env1/lib/python3.7/site-packages/statsmodels/regression/mixed_linear_model.py:2115: ConvergenceWarning: The Hessian matrix at the estimated parameter values is not positive definite.\n",
      "  warnings.warn(msg, ConvergenceWarning)\n",
      "/home1/john/anaconda3/envs/env1/lib/python3.7/site-packages/statsmodels/regression/mixed_linear_model.py:2094: ConvergenceWarning: The MLE may be on the boundary of the parameter space.\n",
      "  warnings.warn(msg, ConvergenceWarning)\n"
     ]
    },
    {
     "name": "stdout",
     "output_type": "stream",
     "text": [
      "ME model used for this sub\n",
      "OLS model used for this sub\n",
      "OLS model used for this sub\n",
      "OLS model used for this sub\n",
      "OLS model used for this sub\n",
      "ME model used for this sub\n"
     ]
    },
    {
     "name": "stderr",
     "output_type": "stream",
     "text": [
      "/home1/john/anaconda3/envs/env1/lib/python3.7/site-packages/statsmodels/regression/mixed_linear_model.py:2094: ConvergenceWarning: The MLE may be on the boundary of the parameter space.\n",
      "  warnings.warn(msg, ConvergenceWarning)\n",
      "/home1/john/anaconda3/envs/env1/lib/python3.7/site-packages/statsmodels/regression/mixed_linear_model.py:2094: ConvergenceWarning: The MLE may be on the boundary of the parameter space.\n",
      "  warnings.warn(msg, ConvergenceWarning)\n",
      "/home1/john/anaconda3/envs/env1/lib/python3.7/site-packages/statsmodels/regression/mixed_linear_model.py:2115: ConvergenceWarning: The Hessian matrix at the estimated parameter values is not positive definite.\n",
      "  warnings.warn(msg, ConvergenceWarning)\n",
      "/home1/john/anaconda3/envs/env1/lib/python3.7/site-packages/statsmodels/regression/mixed_linear_model.py:2094: ConvergenceWarning: The MLE may be on the boundary of the parameter space.\n",
      "  warnings.warn(msg, ConvergenceWarning)\n",
      "/home1/john/anaconda3/envs/env1/lib/python3.7/site-packages/statsmodels/regression/mixed_linear_model.py:2115: ConvergenceWarning: The Hessian matrix at the estimated parameter values is not positive definite.\n",
      "  warnings.warn(msg, ConvergenceWarning)\n",
      "/home1/john/anaconda3/envs/env1/lib/python3.7/site-packages/statsmodels/regression/mixed_linear_model.py:2094: ConvergenceWarning: The MLE may be on the boundary of the parameter space.\n",
      "  warnings.warn(msg, ConvergenceWarning)\n",
      "/home1/john/anaconda3/envs/env1/lib/python3.7/site-packages/statsmodels/regression/mixed_linear_model.py:2115: ConvergenceWarning: The Hessian matrix at the estimated parameter values is not positive definite.\n",
      "  warnings.warn(msg, ConvergenceWarning)\n",
      "/home1/john/anaconda3/envs/env1/lib/python3.7/site-packages/statsmodels/regression/mixed_linear_model.py:2094: ConvergenceWarning: The MLE may be on the boundary of the parameter space.\n",
      "  warnings.warn(msg, ConvergenceWarning)\n",
      "/home1/john/anaconda3/envs/env1/lib/python3.7/site-packages/statsmodels/regression/mixed_linear_model.py:2115: ConvergenceWarning: The Hessian matrix at the estimated parameter values is not positive definite.\n",
      "  warnings.warn(msg, ConvergenceWarning)\n",
      "/home1/john/anaconda3/envs/env1/lib/python3.7/site-packages/statsmodels/regression/mixed_linear_model.py:2094: ConvergenceWarning: The MLE may be on the boundary of the parameter space.\n",
      "  warnings.warn(msg, ConvergenceWarning)\n"
     ]
    },
    {
     "name": "stdout",
     "output_type": "stream",
     "text": [
      "ME model used for this sub\n",
      "ME model used for this sub\n"
     ]
    },
    {
     "name": "stderr",
     "output_type": "stream",
     "text": [
      "/home1/john/anaconda3/envs/env1/lib/python3.7/site-packages/statsmodels/regression/mixed_linear_model.py:2094: ConvergenceWarning: The MLE may be on the boundary of the parameter space.\n",
      "  warnings.warn(msg, ConvergenceWarning)\n",
      "/home1/john/anaconda3/envs/env1/lib/python3.7/site-packages/statsmodels/regression/mixed_linear_model.py:2115: ConvergenceWarning: The Hessian matrix at the estimated parameter values is not positive definite.\n",
      "  warnings.warn(msg, ConvergenceWarning)\n",
      "/home1/john/anaconda3/envs/env1/lib/python3.7/site-packages/statsmodels/regression/mixed_linear_model.py:2094: ConvergenceWarning: The MLE may be on the boundary of the parameter space.\n",
      "  warnings.warn(msg, ConvergenceWarning)\n",
      "/home1/john/anaconda3/envs/env1/lib/python3.7/site-packages/statsmodels/regression/mixed_linear_model.py:2094: ConvergenceWarning: The MLE may be on the boundary of the parameter space.\n",
      "  warnings.warn(msg, ConvergenceWarning)\n"
     ]
    },
    {
     "name": "stdout",
     "output_type": "stream",
     "text": [
      "ME model used for this sub\n",
      "ME model used for this sub\n"
     ]
    },
    {
     "name": "stderr",
     "output_type": "stream",
     "text": [
      "/home1/john/anaconda3/envs/env1/lib/python3.7/site-packages/statsmodels/regression/mixed_linear_model.py:2094: ConvergenceWarning: The MLE may be on the boundary of the parameter space.\n",
      "  warnings.warn(msg, ConvergenceWarning)\n",
      "/home1/john/anaconda3/envs/env1/lib/python3.7/site-packages/statsmodels/regression/mixed_linear_model.py:2094: ConvergenceWarning: The MLE may be on the boundary of the parameter space.\n",
      "  warnings.warn(msg, ConvergenceWarning)\n",
      "/home1/john/anaconda3/envs/env1/lib/python3.7/site-packages/statsmodels/regression/mixed_linear_model.py:2115: ConvergenceWarning: The Hessian matrix at the estimated parameter values is not positive definite.\n",
      "  warnings.warn(msg, ConvergenceWarning)\n",
      "/home1/john/anaconda3/envs/env1/lib/python3.7/site-packages/statsmodels/regression/mixed_linear_model.py:2094: ConvergenceWarning: The MLE may be on the boundary of the parameter space.\n",
      "  warnings.warn(msg, ConvergenceWarning)\n",
      "/home1/john/anaconda3/envs/env1/lib/python3.7/site-packages/statsmodels/regression/mixed_linear_model.py:2115: ConvergenceWarning: The Hessian matrix at the estimated parameter values is not positive definite.\n",
      "  warnings.warn(msg, ConvergenceWarning)\n"
     ]
    },
    {
     "name": "stdout",
     "output_type": "stream",
     "text": [
      "ME model used for this sub\n",
      "ME model used for this sub\n"
     ]
    },
    {
     "name": "stderr",
     "output_type": "stream",
     "text": [
      "/home1/john/anaconda3/envs/env1/lib/python3.7/site-packages/statsmodels/regression/mixed_linear_model.py:2094: ConvergenceWarning: The MLE may be on the boundary of the parameter space.\n",
      "  warnings.warn(msg, ConvergenceWarning)\n",
      "/home1/john/anaconda3/envs/env1/lib/python3.7/site-packages/statsmodels/regression/mixed_linear_model.py:2094: ConvergenceWarning: The MLE may be on the boundary of the parameter space.\n",
      "  warnings.warn(msg, ConvergenceWarning)\n",
      "/home1/john/anaconda3/envs/env1/lib/python3.7/site-packages/statsmodels/regression/mixed_linear_model.py:2094: ConvergenceWarning: The MLE may be on the boundary of the parameter space.\n",
      "  warnings.warn(msg, ConvergenceWarning)\n"
     ]
    },
    {
     "name": "stdout",
     "output_type": "stream",
     "text": [
      "ME model used for this sub\n",
      "ME model used for this sub\n"
     ]
    },
    {
     "name": "stderr",
     "output_type": "stream",
     "text": [
      "/home1/john/anaconda3/envs/env1/lib/python3.7/site-packages/statsmodels/regression/mixed_linear_model.py:2094: ConvergenceWarning: The MLE may be on the boundary of the parameter space.\n",
      "  warnings.warn(msg, ConvergenceWarning)\n",
      "/home1/john/anaconda3/envs/env1/lib/python3.7/site-packages/statsmodels/regression/mixed_linear_model.py:2094: ConvergenceWarning: The MLE may be on the boundary of the parameter space.\n",
      "  warnings.warn(msg, ConvergenceWarning)\n",
      "/home1/john/anaconda3/envs/env1/lib/python3.7/site-packages/statsmodels/regression/mixed_linear_model.py:2094: ConvergenceWarning: The MLE may be on the boundary of the parameter space.\n",
      "  warnings.warn(msg, ConvergenceWarning)\n",
      "/home1/john/anaconda3/envs/env1/lib/python3.7/site-packages/statsmodels/regression/mixed_linear_model.py:2094: ConvergenceWarning: The MLE may be on the boundary of the parameter space.\n",
      "  warnings.warn(msg, ConvergenceWarning)\n",
      "/home1/john/anaconda3/envs/env1/lib/python3.7/site-packages/statsmodels/regression/mixed_linear_model.py:2094: ConvergenceWarning: The MLE may be on the boundary of the parameter space.\n",
      "  warnings.warn(msg, ConvergenceWarning)\n",
      "/home1/john/anaconda3/envs/env1/lib/python3.7/site-packages/statsmodels/regression/mixed_linear_model.py:2094: ConvergenceWarning: The MLE may be on the boundary of the parameter space.\n",
      "  warnings.warn(msg, ConvergenceWarning)\n",
      "/home1/john/anaconda3/envs/env1/lib/python3.7/site-packages/statsmodels/regression/mixed_linear_model.py:2115: ConvergenceWarning: The Hessian matrix at the estimated parameter values is not positive definite.\n",
      "  warnings.warn(msg, ConvergenceWarning)\n",
      "/home1/john/anaconda3/envs/env1/lib/python3.7/site-packages/statsmodels/regression/mixed_linear_model.py:2094: ConvergenceWarning: The MLE may be on the boundary of the parameter space.\n",
      "  warnings.warn(msg, ConvergenceWarning)\n",
      "/home1/john/anaconda3/envs/env1/lib/python3.7/site-packages/statsmodels/regression/mixed_linear_model.py:2094: ConvergenceWarning: The MLE may be on the boundary of the parameter space.\n",
      "  warnings.warn(msg, ConvergenceWarning)\n",
      "/home1/john/anaconda3/envs/env1/lib/python3.7/site-packages/statsmodels/regression/mixed_linear_model.py:2115: ConvergenceWarning: The Hessian matrix at the estimated parameter values is not positive definite.\n",
      "  warnings.warn(msg, ConvergenceWarning)\n"
     ]
    },
    {
     "name": "stdout",
     "output_type": "stream",
     "text": [
      "ME model used for this sub\n",
      "ME model used for this sub\n",
      "ME model used for this sub\n",
      "ME model used for this sub\n",
      "ME model used for this sub\n",
      "ME model used for this sub\n",
      "ME model used for this sub\n"
     ]
    },
    {
     "name": "stderr",
     "output_type": "stream",
     "text": [
      "/home1/john/anaconda3/envs/env1/lib/python3.7/site-packages/statsmodels/regression/mixed_linear_model.py:2094: ConvergenceWarning: The MLE may be on the boundary of the parameter space.\n",
      "  warnings.warn(msg, ConvergenceWarning)\n",
      "/home1/john/anaconda3/envs/env1/lib/python3.7/site-packages/statsmodels/regression/mixed_linear_model.py:2115: ConvergenceWarning: The Hessian matrix at the estimated parameter values is not positive definite.\n",
      "  warnings.warn(msg, ConvergenceWarning)\n",
      "/home1/john/anaconda3/envs/env1/lib/python3.7/site-packages/statsmodels/regression/mixed_linear_model.py:2094: ConvergenceWarning: The MLE may be on the boundary of the parameter space.\n",
      "  warnings.warn(msg, ConvergenceWarning)\n",
      "/home1/john/anaconda3/envs/env1/lib/python3.7/site-packages/statsmodels/regression/mixed_linear_model.py:2115: ConvergenceWarning: The Hessian matrix at the estimated parameter values is not positive definite.\n",
      "  warnings.warn(msg, ConvergenceWarning)\n",
      "/home1/john/anaconda3/envs/env1/lib/python3.7/site-packages/statsmodels/regression/mixed_linear_model.py:2094: ConvergenceWarning: The MLE may be on the boundary of the parameter space.\n",
      "  warnings.warn(msg, ConvergenceWarning)\n",
      "/home1/john/anaconda3/envs/env1/lib/python3.7/site-packages/statsmodels/regression/mixed_linear_model.py:2115: ConvergenceWarning: The Hessian matrix at the estimated parameter values is not positive definite.\n",
      "  warnings.warn(msg, ConvergenceWarning)\n",
      "/home1/john/anaconda3/envs/env1/lib/python3.7/site-packages/statsmodels/regression/mixed_linear_model.py:2094: ConvergenceWarning: The MLE may be on the boundary of the parameter space.\n",
      "  warnings.warn(msg, ConvergenceWarning)\n",
      "/home1/john/anaconda3/envs/env1/lib/python3.7/site-packages/statsmodels/regression/mixed_linear_model.py:2115: ConvergenceWarning: The Hessian matrix at the estimated parameter values is not positive definite.\n",
      "  warnings.warn(msg, ConvergenceWarning)\n",
      "/home1/john/anaconda3/envs/env1/lib/python3.7/site-packages/statsmodels/regression/mixed_linear_model.py:2094: ConvergenceWarning: The MLE may be on the boundary of the parameter space.\n",
      "  warnings.warn(msg, ConvergenceWarning)\n",
      "/home1/john/anaconda3/envs/env1/lib/python3.7/site-packages/statsmodels/regression/mixed_linear_model.py:2115: ConvergenceWarning: The Hessian matrix at the estimated parameter values is not positive definite.\n",
      "  warnings.warn(msg, ConvergenceWarning)\n"
     ]
    },
    {
     "name": "stdout",
     "output_type": "stream",
     "text": [
      "ME model used for this sub\n",
      "OLS model used for this sub\n",
      "OLS model used for this sub\n",
      "ME model used for this sub\n"
     ]
    },
    {
     "name": "stderr",
     "output_type": "stream",
     "text": [
      "/home1/john/anaconda3/envs/env1/lib/python3.7/site-packages/statsmodels/regression/mixed_linear_model.py:2094: ConvergenceWarning: The MLE may be on the boundary of the parameter space.\n",
      "  warnings.warn(msg, ConvergenceWarning)\n",
      "/home1/john/anaconda3/envs/env1/lib/python3.7/site-packages/statsmodels/regression/mixed_linear_model.py:2094: ConvergenceWarning: The MLE may be on the boundary of the parameter space.\n",
      "  warnings.warn(msg, ConvergenceWarning)\n"
     ]
    },
    {
     "name": "stdout",
     "output_type": "stream",
     "text": [
      "ME model used for this sub\n",
      "ME model used for this sub\n",
      "ME model used for this sub\n"
     ]
    },
    {
     "name": "stderr",
     "output_type": "stream",
     "text": [
      "/home1/john/anaconda3/envs/env1/lib/python3.7/site-packages/statsmodels/regression/mixed_linear_model.py:2094: ConvergenceWarning: The MLE may be on the boundary of the parameter space.\n",
      "  warnings.warn(msg, ConvergenceWarning)\n",
      "/home1/john/anaconda3/envs/env1/lib/python3.7/site-packages/statsmodels/regression/mixed_linear_model.py:2115: ConvergenceWarning: The Hessian matrix at the estimated parameter values is not positive definite.\n",
      "  warnings.warn(msg, ConvergenceWarning)\n",
      "/home1/john/anaconda3/envs/env1/lib/python3.7/site-packages/statsmodels/regression/mixed_linear_model.py:2094: ConvergenceWarning: The MLE may be on the boundary of the parameter space.\n",
      "  warnings.warn(msg, ConvergenceWarning)\n",
      "/home1/john/anaconda3/envs/env1/lib/python3.7/site-packages/statsmodels/regression/mixed_linear_model.py:2115: ConvergenceWarning: The Hessian matrix at the estimated parameter values is not positive definite.\n",
      "  warnings.warn(msg, ConvergenceWarning)\n",
      "/home1/john/anaconda3/envs/env1/lib/python3.7/site-packages/statsmodels/regression/mixed_linear_model.py:2094: ConvergenceWarning: The MLE may be on the boundary of the parameter space.\n",
      "  warnings.warn(msg, ConvergenceWarning)\n"
     ]
    },
    {
     "name": "stdout",
     "output_type": "stream",
     "text": [
      "ME model used for this sub\n",
      "ME model used for this sub\n",
      "ME model used for this sub\n"
     ]
    },
    {
     "name": "stderr",
     "output_type": "stream",
     "text": [
      "/home1/john/anaconda3/envs/env1/lib/python3.7/site-packages/statsmodels/regression/mixed_linear_model.py:2094: ConvergenceWarning: The MLE may be on the boundary of the parameter space.\n",
      "  warnings.warn(msg, ConvergenceWarning)\n",
      "/home1/john/anaconda3/envs/env1/lib/python3.7/site-packages/statsmodels/regression/mixed_linear_model.py:2094: ConvergenceWarning: The MLE may be on the boundary of the parameter space.\n",
      "  warnings.warn(msg, ConvergenceWarning)\n",
      "/home1/john/anaconda3/envs/env1/lib/python3.7/site-packages/statsmodels/regression/mixed_linear_model.py:2094: ConvergenceWarning: The MLE may be on the boundary of the parameter space.\n",
      "  warnings.warn(msg, ConvergenceWarning)\n",
      "/home1/john/anaconda3/envs/env1/lib/python3.7/site-packages/statsmodels/regression/mixed_linear_model.py:2115: ConvergenceWarning: The Hessian matrix at the estimated parameter values is not positive definite.\n",
      "  warnings.warn(msg, ConvergenceWarning)\n",
      "/home1/john/anaconda3/envs/env1/lib/python3.7/site-packages/statsmodels/regression/mixed_linear_model.py:2094: ConvergenceWarning: The MLE may be on the boundary of the parameter space.\n",
      "  warnings.warn(msg, ConvergenceWarning)\n",
      "/home1/john/anaconda3/envs/env1/lib/python3.7/site-packages/statsmodels/regression/mixed_linear_model.py:2094: ConvergenceWarning: The MLE may be on the boundary of the parameter space.\n",
      "  warnings.warn(msg, ConvergenceWarning)\n"
     ]
    },
    {
     "name": "stdout",
     "output_type": "stream",
     "text": [
      "ME model used for this sub\n",
      "ME model used for this sub\n",
      "ME model used for this sub\n"
     ]
    },
    {
     "name": "stderr",
     "output_type": "stream",
     "text": [
      "/home1/john/anaconda3/envs/env1/lib/python3.7/site-packages/statsmodels/regression/mixed_linear_model.py:2094: ConvergenceWarning: The MLE may be on the boundary of the parameter space.\n",
      "  warnings.warn(msg, ConvergenceWarning)\n",
      "/home1/john/anaconda3/envs/env1/lib/python3.7/site-packages/statsmodels/regression/mixed_linear_model.py:2115: ConvergenceWarning: The Hessian matrix at the estimated parameter values is not positive definite.\n",
      "  warnings.warn(msg, ConvergenceWarning)\n",
      "/home1/john/anaconda3/envs/env1/lib/python3.7/site-packages/statsmodels/regression/mixed_linear_model.py:2094: ConvergenceWarning: The MLE may be on the boundary of the parameter space.\n",
      "  warnings.warn(msg, ConvergenceWarning)\n",
      "/home1/john/anaconda3/envs/env1/lib/python3.7/site-packages/statsmodels/regression/mixed_linear_model.py:2094: ConvergenceWarning: The MLE may be on the boundary of the parameter space.\n",
      "  warnings.warn(msg, ConvergenceWarning)\n",
      "/home1/john/anaconda3/envs/env1/lib/python3.7/site-packages/statsmodels/regression/mixed_linear_model.py:2094: ConvergenceWarning: The MLE may be on the boundary of the parameter space.\n",
      "  warnings.warn(msg, ConvergenceWarning)\n",
      "/home1/john/anaconda3/envs/env1/lib/python3.7/site-packages/statsmodels/regression/mixed_linear_model.py:2115: ConvergenceWarning: The Hessian matrix at the estimated parameter values is not positive definite.\n",
      "  warnings.warn(msg, ConvergenceWarning)\n"
     ]
    },
    {
     "name": "stdout",
     "output_type": "stream",
     "text": [
      "ME model used for this sub\n",
      "ME model used for this sub\n",
      "ME model used for this sub\n"
     ]
    },
    {
     "name": "stderr",
     "output_type": "stream",
     "text": [
      "/home1/john/anaconda3/envs/env1/lib/python3.7/site-packages/statsmodels/regression/mixed_linear_model.py:2094: ConvergenceWarning: The MLE may be on the boundary of the parameter space.\n",
      "  warnings.warn(msg, ConvergenceWarning)\n",
      "/home1/john/anaconda3/envs/env1/lib/python3.7/site-packages/statsmodels/regression/mixed_linear_model.py:2094: ConvergenceWarning: The MLE may be on the boundary of the parameter space.\n",
      "  warnings.warn(msg, ConvergenceWarning)\n",
      "/home1/john/anaconda3/envs/env1/lib/python3.7/site-packages/statsmodels/regression/mixed_linear_model.py:2094: ConvergenceWarning: The MLE may be on the boundary of the parameter space.\n",
      "  warnings.warn(msg, ConvergenceWarning)\n",
      "/home1/john/anaconda3/envs/env1/lib/python3.7/site-packages/statsmodels/regression/mixed_linear_model.py:2094: ConvergenceWarning: The MLE may be on the boundary of the parameter space.\n",
      "  warnings.warn(msg, ConvergenceWarning)\n",
      "/home1/john/anaconda3/envs/env1/lib/python3.7/site-packages/statsmodels/regression/mixed_linear_model.py:2094: ConvergenceWarning: The MLE may be on the boundary of the parameter space.\n",
      "  warnings.warn(msg, ConvergenceWarning)\n",
      "/home1/john/anaconda3/envs/env1/lib/python3.7/site-packages/statsmodels/regression/mixed_linear_model.py:2094: ConvergenceWarning: The MLE may be on the boundary of the parameter space.\n",
      "  warnings.warn(msg, ConvergenceWarning)\n",
      "/home1/john/anaconda3/envs/env1/lib/python3.7/site-packages/statsmodels/regression/mixed_linear_model.py:2115: ConvergenceWarning: The Hessian matrix at the estimated parameter values is not positive definite.\n",
      "  warnings.warn(msg, ConvergenceWarning)\n"
     ]
    },
    {
     "name": "stdout",
     "output_type": "stream",
     "text": [
      "ME model used for this sub\n",
      "ME model used for this sub\n"
     ]
    },
    {
     "name": "stderr",
     "output_type": "stream",
     "text": [
      "/home1/john/anaconda3/envs/env1/lib/python3.7/site-packages/statsmodels/regression/mixed_linear_model.py:2094: ConvergenceWarning: The MLE may be on the boundary of the parameter space.\n",
      "  warnings.warn(msg, ConvergenceWarning)\n",
      "/home1/john/anaconda3/envs/env1/lib/python3.7/site-packages/statsmodels/regression/mixed_linear_model.py:2094: ConvergenceWarning: The MLE may be on the boundary of the parameter space.\n",
      "  warnings.warn(msg, ConvergenceWarning)\n",
      "/home1/john/anaconda3/envs/env1/lib/python3.7/site-packages/statsmodels/regression/mixed_linear_model.py:2094: ConvergenceWarning: The MLE may be on the boundary of the parameter space.\n",
      "  warnings.warn(msg, ConvergenceWarning)\n",
      "/home1/john/anaconda3/envs/env1/lib/python3.7/site-packages/statsmodels/regression/mixed_linear_model.py:2115: ConvergenceWarning: The Hessian matrix at the estimated parameter values is not positive definite.\n",
      "  warnings.warn(msg, ConvergenceWarning)\n"
     ]
    },
    {
     "name": "stdout",
     "output_type": "stream",
     "text": [
      "ME model used for this sub\n",
      "ME model used for this sub\n",
      "ME model used for this sub\n"
     ]
    },
    {
     "name": "stderr",
     "output_type": "stream",
     "text": [
      "/home1/john/anaconda3/envs/env1/lib/python3.7/site-packages/statsmodels/regression/mixed_linear_model.py:2094: ConvergenceWarning: The MLE may be on the boundary of the parameter space.\n",
      "  warnings.warn(msg, ConvergenceWarning)\n",
      "/home1/john/anaconda3/envs/env1/lib/python3.7/site-packages/statsmodels/regression/mixed_linear_model.py:2094: ConvergenceWarning: The MLE may be on the boundary of the parameter space.\n",
      "  warnings.warn(msg, ConvergenceWarning)\n",
      "/home1/john/anaconda3/envs/env1/lib/python3.7/site-packages/statsmodels/regression/mixed_linear_model.py:2115: ConvergenceWarning: The Hessian matrix at the estimated parameter values is not positive definite.\n",
      "  warnings.warn(msg, ConvergenceWarning)\n",
      "/home1/john/anaconda3/envs/env1/lib/python3.7/site-packages/statsmodels/regression/mixed_linear_model.py:2094: ConvergenceWarning: The MLE may be on the boundary of the parameter space.\n",
      "  warnings.warn(msg, ConvergenceWarning)\n",
      "/home1/john/anaconda3/envs/env1/lib/python3.7/site-packages/statsmodels/regression/mixed_linear_model.py:2094: ConvergenceWarning: The MLE may be on the boundary of the parameter space.\n",
      "  warnings.warn(msg, ConvergenceWarning)\n",
      "/home1/john/anaconda3/envs/env1/lib/python3.7/site-packages/statsmodels/regression/mixed_linear_model.py:2115: ConvergenceWarning: The Hessian matrix at the estimated parameter values is not positive definite.\n",
      "  warnings.warn(msg, ConvergenceWarning)\n",
      "/home1/john/anaconda3/envs/env1/lib/python3.7/site-packages/statsmodels/regression/mixed_linear_model.py:2094: ConvergenceWarning: The MLE may be on the boundary of the parameter space.\n",
      "  warnings.warn(msg, ConvergenceWarning)\n",
      "/home1/john/anaconda3/envs/env1/lib/python3.7/site-packages/statsmodels/regression/mixed_linear_model.py:2115: ConvergenceWarning: The Hessian matrix at the estimated parameter values is not positive definite.\n",
      "  warnings.warn(msg, ConvergenceWarning)\n",
      "/home1/john/anaconda3/envs/env1/lib/python3.7/site-packages/statsmodels/regression/mixed_linear_model.py:2094: ConvergenceWarning: The MLE may be on the boundary of the parameter space.\n",
      "  warnings.warn(msg, ConvergenceWarning)\n",
      "/home1/john/anaconda3/envs/env1/lib/python3.7/site-packages/statsmodels/regression/mixed_linear_model.py:2115: ConvergenceWarning: The Hessian matrix at the estimated parameter values is not positive definite.\n",
      "  warnings.warn(msg, ConvergenceWarning)\n"
     ]
    },
    {
     "name": "stdout",
     "output_type": "stream",
     "text": [
      "ME model used for this sub\n"
     ]
    },
    {
     "name": "stderr",
     "output_type": "stream",
     "text": [
      "/home1/john/anaconda3/envs/env1/lib/python3.7/site-packages/statsmodels/base/model.py:512: ConvergenceWarning: Maximum Likelihood optimization failed to converge. Check mle_retvals\n",
      "  \"Check mle_retvals\", ConvergenceWarning)\n",
      "/home1/john/anaconda3/envs/env1/lib/python3.7/site-packages/statsmodels/regression/mixed_linear_model.py:2063: ConvergenceWarning: MixedLM optimization failed, trying a different optimizer may help.\n",
      "  warnings.warn(msg, ConvergenceWarning)\n",
      "/home1/john/anaconda3/envs/env1/lib/python3.7/site-packages/statsmodels/regression/mixed_linear_model.py:2075: ConvergenceWarning: Gradient optimization failed, |grad| = nan\n",
      "  warnings.warn(msg, ConvergenceWarning)\n",
      "/home1/john/anaconda3/envs/env1/lib/python3.7/site-packages/statsmodels/regression/mixed_linear_model.py:2094: ConvergenceWarning: The MLE may be on the boundary of the parameter space.\n",
      "  warnings.warn(msg, ConvergenceWarning)\n",
      "/home1/john/anaconda3/envs/env1/lib/python3.7/site-packages/statsmodels/regression/mixed_linear_model.py:2094: ConvergenceWarning: The MLE may be on the boundary of the parameter space.\n",
      "  warnings.warn(msg, ConvergenceWarning)\n",
      "/home1/john/anaconda3/envs/env1/lib/python3.7/site-packages/statsmodels/regression/mixed_linear_model.py:2094: ConvergenceWarning: The MLE may be on the boundary of the parameter space.\n",
      "  warnings.warn(msg, ConvergenceWarning)\n",
      "/home1/john/anaconda3/envs/env1/lib/python3.7/site-packages/statsmodels/regression/mixed_linear_model.py:2094: ConvergenceWarning: The MLE may be on the boundary of the parameter space.\n",
      "  warnings.warn(msg, ConvergenceWarning)\n"
     ]
    },
    {
     "name": "stdout",
     "output_type": "stream",
     "text": [
      "OLS model used for this sub\n",
      "ME model used for this sub\n",
      "ME model used for this sub\n"
     ]
    },
    {
     "name": "stderr",
     "output_type": "stream",
     "text": [
      "/home1/john/anaconda3/envs/env1/lib/python3.7/site-packages/statsmodels/regression/mixed_linear_model.py:2094: ConvergenceWarning: The MLE may be on the boundary of the parameter space.\n",
      "  warnings.warn(msg, ConvergenceWarning)\n",
      "/home1/john/anaconda3/envs/env1/lib/python3.7/site-packages/statsmodels/regression/mixed_linear_model.py:2094: ConvergenceWarning: The MLE may be on the boundary of the parameter space.\n",
      "  warnings.warn(msg, ConvergenceWarning)\n",
      "/home1/john/anaconda3/envs/env1/lib/python3.7/site-packages/statsmodels/regression/mixed_linear_model.py:2094: ConvergenceWarning: The MLE may be on the boundary of the parameter space.\n",
      "  warnings.warn(msg, ConvergenceWarning)\n",
      "/home1/john/anaconda3/envs/env1/lib/python3.7/site-packages/statsmodels/regression/mixed_linear_model.py:2115: ConvergenceWarning: The Hessian matrix at the estimated parameter values is not positive definite.\n",
      "  warnings.warn(msg, ConvergenceWarning)\n"
     ]
    },
    {
     "name": "stdout",
     "output_type": "stream",
     "text": [
      "ME model used for this sub\n",
      "ME model used for this sub\n",
      "ME model used for this sub\n"
     ]
    },
    {
     "name": "stderr",
     "output_type": "stream",
     "text": [
      "/home1/john/anaconda3/envs/env1/lib/python3.7/site-packages/statsmodels/regression/mixed_linear_model.py:2094: ConvergenceWarning: The MLE may be on the boundary of the parameter space.\n",
      "  warnings.warn(msg, ConvergenceWarning)\n",
      "/home1/john/anaconda3/envs/env1/lib/python3.7/site-packages/statsmodels/regression/mixed_linear_model.py:2094: ConvergenceWarning: The MLE may be on the boundary of the parameter space.\n",
      "  warnings.warn(msg, ConvergenceWarning)\n",
      "/home1/john/anaconda3/envs/env1/lib/python3.7/site-packages/statsmodels/regression/mixed_linear_model.py:2094: ConvergenceWarning: The MLE may be on the boundary of the parameter space.\n",
      "  warnings.warn(msg, ConvergenceWarning)\n"
     ]
    },
    {
     "name": "stdout",
     "output_type": "stream",
     "text": [
      "ME model used for this sub\n",
      "ME model used for this sub\n",
      "ME model used for this sub\n"
     ]
    },
    {
     "name": "stderr",
     "output_type": "stream",
     "text": [
      "/home1/john/anaconda3/envs/env1/lib/python3.7/site-packages/statsmodels/regression/mixed_linear_model.py:2094: ConvergenceWarning: The MLE may be on the boundary of the parameter space.\n",
      "  warnings.warn(msg, ConvergenceWarning)\n",
      "/home1/john/anaconda3/envs/env1/lib/python3.7/site-packages/statsmodels/regression/mixed_linear_model.py:2115: ConvergenceWarning: The Hessian matrix at the estimated parameter values is not positive definite.\n",
      "  warnings.warn(msg, ConvergenceWarning)\n",
      "/home1/john/anaconda3/envs/env1/lib/python3.7/site-packages/statsmodels/regression/mixed_linear_model.py:2094: ConvergenceWarning: The MLE may be on the boundary of the parameter space.\n",
      "  warnings.warn(msg, ConvergenceWarning)\n",
      "/home1/john/anaconda3/envs/env1/lib/python3.7/site-packages/statsmodels/regression/mixed_linear_model.py:2094: ConvergenceWarning: The MLE may be on the boundary of the parameter space.\n",
      "  warnings.warn(msg, ConvergenceWarning)\n",
      "/home1/john/anaconda3/envs/env1/lib/python3.7/site-packages/statsmodels/regression/mixed_linear_model.py:2094: ConvergenceWarning: The MLE may be on the boundary of the parameter space.\n",
      "  warnings.warn(msg, ConvergenceWarning)\n",
      "/home1/john/anaconda3/envs/env1/lib/python3.7/site-packages/statsmodels/regression/mixed_linear_model.py:2115: ConvergenceWarning: The Hessian matrix at the estimated parameter values is not positive definite.\n",
      "  warnings.warn(msg, ConvergenceWarning)\n"
     ]
    },
    {
     "name": "stdout",
     "output_type": "stream",
     "text": [
      "ME model used for this sub\n",
      "ME model used for this sub\n",
      "ME model used for this sub\n"
     ]
    },
    {
     "name": "stderr",
     "output_type": "stream",
     "text": [
      "/home1/john/anaconda3/envs/env1/lib/python3.7/site-packages/statsmodels/regression/mixed_linear_model.py:2094: ConvergenceWarning: The MLE may be on the boundary of the parameter space.\n",
      "  warnings.warn(msg, ConvergenceWarning)\n",
      "/home1/john/anaconda3/envs/env1/lib/python3.7/site-packages/statsmodels/regression/mixed_linear_model.py:2115: ConvergenceWarning: The Hessian matrix at the estimated parameter values is not positive definite.\n",
      "  warnings.warn(msg, ConvergenceWarning)\n",
      "/home1/john/anaconda3/envs/env1/lib/python3.7/site-packages/statsmodels/regression/mixed_linear_model.py:2094: ConvergenceWarning: The MLE may be on the boundary of the parameter space.\n",
      "  warnings.warn(msg, ConvergenceWarning)\n",
      "/home1/john/anaconda3/envs/env1/lib/python3.7/site-packages/statsmodels/regression/mixed_linear_model.py:2115: ConvergenceWarning: The Hessian matrix at the estimated parameter values is not positive definite.\n",
      "  warnings.warn(msg, ConvergenceWarning)\n",
      "/home1/john/anaconda3/envs/env1/lib/python3.7/site-packages/statsmodels/regression/mixed_linear_model.py:2094: ConvergenceWarning: The MLE may be on the boundary of the parameter space.\n",
      "  warnings.warn(msg, ConvergenceWarning)\n",
      "/home1/john/anaconda3/envs/env1/lib/python3.7/site-packages/statsmodels/regression/mixed_linear_model.py:2094: ConvergenceWarning: The MLE may be on the boundary of the parameter space.\n",
      "  warnings.warn(msg, ConvergenceWarning)\n",
      "/home1/john/anaconda3/envs/env1/lib/python3.7/site-packages/statsmodels/regression/mixed_linear_model.py:2094: ConvergenceWarning: The MLE may be on the boundary of the parameter space.\n",
      "  warnings.warn(msg, ConvergenceWarning)\n"
     ]
    },
    {
     "name": "stdout",
     "output_type": "stream",
     "text": [
      "ME model used for this sub\n",
      "ME model used for this sub\n"
     ]
    },
    {
     "name": "stderr",
     "output_type": "stream",
     "text": [
      "/home1/john/anaconda3/envs/env1/lib/python3.7/site-packages/statsmodels/regression/mixed_linear_model.py:2094: ConvergenceWarning: The MLE may be on the boundary of the parameter space.\n",
      "  warnings.warn(msg, ConvergenceWarning)\n"
     ]
    },
    {
     "name": "stdout",
     "output_type": "stream",
     "text": [
      "OLS model used for this sub\n",
      "OLS model used for this sub\n",
      "ME model used for this sub\n",
      "ME model used for this sub\n"
     ]
    },
    {
     "name": "stderr",
     "output_type": "stream",
     "text": [
      "/home1/john/anaconda3/envs/env1/lib/python3.7/site-packages/statsmodels/regression/mixed_linear_model.py:2094: ConvergenceWarning: The MLE may be on the boundary of the parameter space.\n",
      "  warnings.warn(msg, ConvergenceWarning)\n",
      "/home1/john/anaconda3/envs/env1/lib/python3.7/site-packages/statsmodels/regression/mixed_linear_model.py:2115: ConvergenceWarning: The Hessian matrix at the estimated parameter values is not positive definite.\n",
      "  warnings.warn(msg, ConvergenceWarning)\n"
     ]
    },
    {
     "name": "stdout",
     "output_type": "stream",
     "text": [
      "ME model used for this sub\n",
      "ME model used for this sub\n",
      "ME model used for this sub\n"
     ]
    },
    {
     "name": "stderr",
     "output_type": "stream",
     "text": [
      "/home1/john/anaconda3/envs/env1/lib/python3.7/site-packages/statsmodels/regression/mixed_linear_model.py:2094: ConvergenceWarning: The MLE may be on the boundary of the parameter space.\n",
      "  warnings.warn(msg, ConvergenceWarning)\n",
      "/home1/john/anaconda3/envs/env1/lib/python3.7/site-packages/statsmodels/regression/mixed_linear_model.py:2094: ConvergenceWarning: The MLE may be on the boundary of the parameter space.\n",
      "  warnings.warn(msg, ConvergenceWarning)\n",
      "/home1/john/anaconda3/envs/env1/lib/python3.7/site-packages/statsmodels/regression/mixed_linear_model.py:2115: ConvergenceWarning: The Hessian matrix at the estimated parameter values is not positive definite.\n",
      "  warnings.warn(msg, ConvergenceWarning)\n",
      "/home1/john/anaconda3/envs/env1/lib/python3.7/site-packages/statsmodels/regression/mixed_linear_model.py:2094: ConvergenceWarning: The MLE may be on the boundary of the parameter space.\n",
      "  warnings.warn(msg, ConvergenceWarning)\n",
      "/home1/john/anaconda3/envs/env1/lib/python3.7/site-packages/statsmodels/regression/mixed_linear_model.py:2115: ConvergenceWarning: The Hessian matrix at the estimated parameter values is not positive definite.\n",
      "  warnings.warn(msg, ConvergenceWarning)\n"
     ]
    },
    {
     "name": "stdout",
     "output_type": "stream",
     "text": [
      "ME model used for this sub\n",
      "ME model used for this sub\n",
      "ME model used for this sub\n"
     ]
    },
    {
     "name": "stderr",
     "output_type": "stream",
     "text": [
      "/home1/john/anaconda3/envs/env1/lib/python3.7/site-packages/statsmodels/regression/mixed_linear_model.py:2094: ConvergenceWarning: The MLE may be on the boundary of the parameter space.\n",
      "  warnings.warn(msg, ConvergenceWarning)\n",
      "/home1/john/anaconda3/envs/env1/lib/python3.7/site-packages/statsmodels/regression/mixed_linear_model.py:2094: ConvergenceWarning: The MLE may be on the boundary of the parameter space.\n",
      "  warnings.warn(msg, ConvergenceWarning)\n",
      "/home1/john/anaconda3/envs/env1/lib/python3.7/site-packages/statsmodels/regression/mixed_linear_model.py:2094: ConvergenceWarning: The MLE may be on the boundary of the parameter space.\n",
      "  warnings.warn(msg, ConvergenceWarning)\n",
      "/home1/john/anaconda3/envs/env1/lib/python3.7/site-packages/statsmodels/regression/mixed_linear_model.py:2115: ConvergenceWarning: The Hessian matrix at the estimated parameter values is not positive definite.\n",
      "  warnings.warn(msg, ConvergenceWarning)\n",
      "/home1/john/anaconda3/envs/env1/lib/python3.7/site-packages/statsmodels/regression/mixed_linear_model.py:2094: ConvergenceWarning: The MLE may be on the boundary of the parameter space.\n",
      "  warnings.warn(msg, ConvergenceWarning)\n",
      "/home1/john/anaconda3/envs/env1/lib/python3.7/site-packages/statsmodels/regression/mixed_linear_model.py:2115: ConvergenceWarning: The Hessian matrix at the estimated parameter values is not positive definite.\n",
      "  warnings.warn(msg, ConvergenceWarning)\n"
     ]
    },
    {
     "name": "stdout",
     "output_type": "stream",
     "text": [
      "ME model used for this sub\n",
      "ME model used for this sub\n",
      "ME model used for this sub\n",
      "ME model used for this sub\n"
     ]
    },
    {
     "name": "stderr",
     "output_type": "stream",
     "text": [
      "/home1/john/anaconda3/envs/env1/lib/python3.7/site-packages/statsmodels/regression/mixed_linear_model.py:2094: ConvergenceWarning: The MLE may be on the boundary of the parameter space.\n",
      "  warnings.warn(msg, ConvergenceWarning)\n",
      "/home1/john/anaconda3/envs/env1/lib/python3.7/site-packages/statsmodels/regression/mixed_linear_model.py:2094: ConvergenceWarning: The MLE may be on the boundary of the parameter space.\n",
      "  warnings.warn(msg, ConvergenceWarning)\n",
      "/home1/john/anaconda3/envs/env1/lib/python3.7/site-packages/statsmodels/regression/mixed_linear_model.py:2115: ConvergenceWarning: The Hessian matrix at the estimated parameter values is not positive definite.\n",
      "  warnings.warn(msg, ConvergenceWarning)\n",
      "/home1/john/anaconda3/envs/env1/lib/python3.7/site-packages/statsmodels/regression/mixed_linear_model.py:2094: ConvergenceWarning: The MLE may be on the boundary of the parameter space.\n",
      "  warnings.warn(msg, ConvergenceWarning)\n",
      "/home1/john/anaconda3/envs/env1/lib/python3.7/site-packages/statsmodels/regression/mixed_linear_model.py:2115: ConvergenceWarning: The Hessian matrix at the estimated parameter values is not positive definite.\n",
      "  warnings.warn(msg, ConvergenceWarning)\n",
      "/home1/john/anaconda3/envs/env1/lib/python3.7/site-packages/statsmodels/regression/mixed_linear_model.py:2094: ConvergenceWarning: The MLE may be on the boundary of the parameter space.\n",
      "  warnings.warn(msg, ConvergenceWarning)\n",
      "/home1/john/anaconda3/envs/env1/lib/python3.7/site-packages/statsmodels/regression/mixed_linear_model.py:2115: ConvergenceWarning: The Hessian matrix at the estimated parameter values is not positive definite.\n",
      "  warnings.warn(msg, ConvergenceWarning)\n",
      "/home1/john/anaconda3/envs/env1/lib/python3.7/site-packages/statsmodels/regression/mixed_linear_model.py:2094: ConvergenceWarning: The MLE may be on the boundary of the parameter space.\n",
      "  warnings.warn(msg, ConvergenceWarning)\n",
      "/home1/john/anaconda3/envs/env1/lib/python3.7/site-packages/statsmodels/regression/mixed_linear_model.py:2094: ConvergenceWarning: The MLE may be on the boundary of the parameter space.\n",
      "  warnings.warn(msg, ConvergenceWarning)\n",
      "/home1/john/anaconda3/envs/env1/lib/python3.7/site-packages/statsmodels/regression/mixed_linear_model.py:2115: ConvergenceWarning: The Hessian matrix at the estimated parameter values is not positive definite.\n",
      "  warnings.warn(msg, ConvergenceWarning)\n",
      "/home1/john/anaconda3/envs/env1/lib/python3.7/site-packages/statsmodels/regression/mixed_linear_model.py:2094: ConvergenceWarning: The MLE may be on the boundary of the parameter space.\n",
      "  warnings.warn(msg, ConvergenceWarning)\n",
      "/home1/john/anaconda3/envs/env1/lib/python3.7/site-packages/statsmodels/regression/mixed_linear_model.py:2115: ConvergenceWarning: The Hessian matrix at the estimated parameter values is not positive definite.\n",
      "  warnings.warn(msg, ConvergenceWarning)\n"
     ]
    },
    {
     "name": "stdout",
     "output_type": "stream",
     "text": [
      "ME model used for this sub\n",
      "ME model used for this sub\n",
      "ME model used for this sub\n",
      "ME model used for this sub\n"
     ]
    },
    {
     "name": "stderr",
     "output_type": "stream",
     "text": [
      "/home1/john/anaconda3/envs/env1/lib/python3.7/site-packages/statsmodels/regression/mixed_linear_model.py:2094: ConvergenceWarning: The MLE may be on the boundary of the parameter space.\n",
      "  warnings.warn(msg, ConvergenceWarning)\n",
      "/home1/john/anaconda3/envs/env1/lib/python3.7/site-packages/statsmodels/regression/mixed_linear_model.py:2115: ConvergenceWarning: The Hessian matrix at the estimated parameter values is not positive definite.\n",
      "  warnings.warn(msg, ConvergenceWarning)\n",
      "/home1/john/anaconda3/envs/env1/lib/python3.7/site-packages/statsmodels/regression/mixed_linear_model.py:2094: ConvergenceWarning: The MLE may be on the boundary of the parameter space.\n",
      "  warnings.warn(msg, ConvergenceWarning)\n",
      "/home1/john/anaconda3/envs/env1/lib/python3.7/site-packages/statsmodels/regression/mixed_linear_model.py:2115: ConvergenceWarning: The Hessian matrix at the estimated parameter values is not positive definite.\n",
      "  warnings.warn(msg, ConvergenceWarning)\n",
      "/home1/john/anaconda3/envs/env1/lib/python3.7/site-packages/statsmodels/regression/mixed_linear_model.py:2094: ConvergenceWarning: The MLE may be on the boundary of the parameter space.\n",
      "  warnings.warn(msg, ConvergenceWarning)\n",
      "/home1/john/anaconda3/envs/env1/lib/python3.7/site-packages/statsmodels/regression/mixed_linear_model.py:2115: ConvergenceWarning: The Hessian matrix at the estimated parameter values is not positive definite.\n",
      "  warnings.warn(msg, ConvergenceWarning)\n",
      "/home1/john/anaconda3/envs/env1/lib/python3.7/site-packages/statsmodels/regression/mixed_linear_model.py:2094: ConvergenceWarning: The MLE may be on the boundary of the parameter space.\n",
      "  warnings.warn(msg, ConvergenceWarning)\n",
      "/home1/john/anaconda3/envs/env1/lib/python3.7/site-packages/statsmodels/regression/mixed_linear_model.py:2094: ConvergenceWarning: The MLE may be on the boundary of the parameter space.\n",
      "  warnings.warn(msg, ConvergenceWarning)\n",
      "/home1/john/anaconda3/envs/env1/lib/python3.7/site-packages/statsmodels/regression/mixed_linear_model.py:2115: ConvergenceWarning: The Hessian matrix at the estimated parameter values is not positive definite.\n",
      "  warnings.warn(msg, ConvergenceWarning)\n",
      "/home1/john/anaconda3/envs/env1/lib/python3.7/site-packages/statsmodels/regression/mixed_linear_model.py:2094: ConvergenceWarning: The MLE may be on the boundary of the parameter space.\n",
      "  warnings.warn(msg, ConvergenceWarning)\n",
      "/home1/john/anaconda3/envs/env1/lib/python3.7/site-packages/statsmodels/regression/mixed_linear_model.py:2115: ConvergenceWarning: The Hessian matrix at the estimated parameter values is not positive definite.\n",
      "  warnings.warn(msg, ConvergenceWarning)\n",
      "/home1/john/anaconda3/envs/env1/lib/python3.7/site-packages/statsmodels/regression/mixed_linear_model.py:2094: ConvergenceWarning: The MLE may be on the boundary of the parameter space.\n",
      "  warnings.warn(msg, ConvergenceWarning)\n",
      "/home1/john/anaconda3/envs/env1/lib/python3.7/site-packages/statsmodels/regression/mixed_linear_model.py:2115: ConvergenceWarning: The Hessian matrix at the estimated parameter values is not positive definite.\n",
      "  warnings.warn(msg, ConvergenceWarning)\n",
      "/home1/john/anaconda3/envs/env1/lib/python3.7/site-packages/statsmodels/regression/mixed_linear_model.py:2094: ConvergenceWarning: The MLE may be on the boundary of the parameter space.\n",
      "  warnings.warn(msg, ConvergenceWarning)\n",
      "/home1/john/anaconda3/envs/env1/lib/python3.7/site-packages/statsmodels/regression/mixed_linear_model.py:2115: ConvergenceWarning: The Hessian matrix at the estimated parameter values is not positive definite.\n",
      "  warnings.warn(msg, ConvergenceWarning)\n"
     ]
    },
    {
     "name": "stdout",
     "output_type": "stream",
     "text": [
      "ME model used for this sub\n",
      "ME model used for this sub\n",
      "ME model used for this sub\n",
      "ME model used for this sub\n",
      "% of electrodes significant for Test 1:\n"
     ]
    },
    {
     "name": "stderr",
     "output_type": "stream",
     "text": [
      "/home1/john/anaconda3/envs/env1/lib/python3.7/site-packages/statsmodels/regression/mixed_linear_model.py:2094: ConvergenceWarning: The MLE may be on the boundary of the parameter space.\n",
      "  warnings.warn(msg, ConvergenceWarning)\n",
      "/home1/john/anaconda3/envs/env1/lib/python3.7/site-packages/statsmodels/regression/mixed_linear_model.py:2094: ConvergenceWarning: The MLE may be on the boundary of the parameter space.\n",
      "  warnings.warn(msg, ConvergenceWarning)\n",
      "/home1/john/anaconda3/envs/env1/lib/python3.7/site-packages/ipykernel_launcher.py:127: RuntimeWarning: invalid value encountered in less\n"
     ]
    },
    {
     "data": {
      "text/plain": [
       "0.14634146341463414"
      ]
     },
     "execution_count": 34,
     "metadata": {},
     "output_type": "execute_result"
    },
    {
     "name": "stdout",
     "output_type": "stream",
     "text": [
      "% of electrodes significantly different across sessions\n"
     ]
    },
    {
     "data": {
      "text/plain": [
       "0.04878048780487805"
      ]
     },
     "execution_count": 34,
     "metadata": {},
     "output_type": "execute_result"
    }
   ],
   "source": [
    "import statsmodels.formula.api as smf\n",
    "\n",
    "save_coords = 1\n",
    "\n",
    "selected_period = 'surrounding_recall' \n",
    "remove_soz_ictal = False\n",
    "recall_type_switch = 6  # 0 for original, 1 for only those with subsequent, 2 for second recalls only, 3 for isolated recalls\n",
    "regions = ['dg'] #['ENT','PHC'] #['ca1'] #['ca1','dg','ENT','PHC'] # 'PHC' 'ENT '# put smaller one first so positive values mean a rise\n",
    "# location_selected = [''] # make sure in brackets #['dg','ca1'] # 'ca3' # 'dg' 'ca1' # sub # left hippocampus # right hippocampus # hippocampus\n",
    "# put '' for no subregions, len=1 (e.g. 'ca1') in for subregion for HPC above, or len=2 (e.g. ['ca1','dg']) to compare regions\n",
    "\n",
    "min_trials = 35\n",
    "\n",
    "filter_type = 'hamming'\n",
    "pad = 2\n",
    "recall_minimum = 2000 # time for recall_type_switch = 3 to determine ISOLATED recalls\n",
    "psth_start = -2000\n",
    "psth_end = 2000\n",
    "stats_bin = 500 # time bin width in ms to test stats on\n",
    "first_start = -1600 # going to make sequence of 3 bins and test 1st v. 3rd\n",
    "first_end = -100\n",
    "second_start = 200 # same idea\n",
    "second_end = 1700\n",
    "\n",
    "# get strings for path name for save and loading cluster data\n",
    "soz_label,recall_selection_name,subfolder = getSWRpathInfo(remove_soz_ictal,recall_type_switch,selected_period,recall_minimum)\n",
    "\n",
    "test1_p_values = []; test1_t_values = []\n",
    "test2_p_values = []; test2_t_values = []\n",
    "test1_mean_diff = []; test2_mean_diff = []\n",
    "final_channel_coords = []; region_array = []\n",
    "\n",
    "elecs_per_sub = []\n",
    "channel_save = []\n",
    "\n",
    "for region in regions:\n",
    "    \n",
    "    # did this weird construction in case you want to combine regions. probably just make separate plots though\n",
    "    location_selected = '' \n",
    "    if region == 'ca1':\n",
    "        region = 'HPC'\n",
    "        location_selected = 'ca1'\n",
    "    elif region == 'dg':\n",
    "        region = 'HPC'\n",
    "        location_selected = 'dg'\n",
    "\n",
    "    path_name = '/home1/john/SWR/figures/'+subfolder\n",
    "    fn = os.path.join(path_name,\n",
    "        'SWR_'+exp+'_'+region+'_'+location_selected+'_'+str(recall_type_switch)+'_'+soz_label+'_'+filter_type+'.p')          \n",
    "    with open(fn,'rb') as f:\n",
    "        dat = pickle.load(f)\n",
    "        data_test1 = dat['binned_first_stats_array']; data_test2 = dat['binned_second_stats_array'];\n",
    "        subs = dat['subject_name_array']; sessions = dat['session_name_array'];\n",
    "        electrode_array = dat['electrode_array']; channel_coords_array = dat['channel_coords_array']\n",
    "\n",
    "    unique_subs = np.unique(subs)    \n",
    "\n",
    "    for ss in unique_subs:\n",
    "        sub_mask = subs==ss\n",
    "\n",
    "        # for each subject, look for all trials with same electrode\n",
    "        unique_electrodes = np.unique(electrode_array[sub_mask])\n",
    "        elecs_per_sub.append(len(unique_electrodes))\n",
    "        \n",
    "        # get t-score for each electrode in each region\n",
    "        \n",
    "        for elec in unique_electrodes:\n",
    "\n",
    "            # let's model each electrode and see if electrode ripple rate significantly changes\n",
    "            elec_mask = electrode_array==elec\n",
    "            sub_elec_mask = sub_mask & elec_mask\n",
    "            \n",
    "            if sum(sub_elec_mask) >= min_trials: # minimum trials\n",
    "                        \n",
    "                temp_list1 = []\n",
    "                temp_list2 = []\n",
    "                session_pred = []\n",
    "                ripple_outcome = []\n",
    "                category_pred = []\n",
    "\n",
    "                ripple_outcome = np.append(data_test1[sub_elec_mask,0],\n",
    "                                           data_test1[sub_elec_mask,2])\n",
    "                category_pred = np.append( np.zeros(len(data_test1[sub_elec_mask,0])),\n",
    "                                           np.ones(len(data_test1[sub_elec_mask,2])) )\n",
    "                session_pred = np.tile(sessions[sub_elec_mask],2)\n",
    "\n",
    "                test1_df = pd.DataFrame(data={'session_pred':session_pred,\n",
    "                        'category_pred':category_pred,'ripple_outcome':ripple_outcome})\n",
    "                if len(np.unique(session_pred))<=1:\n",
    "                    sig_bin_model = smf.ols(\"ripple_outcome ~ category_pred+session_pred+category_pred*session_pred\", test1_df)\n",
    "                    test1_model = sig_bin_model.fit()\n",
    "                    print('OLS model used for this sub')\n",
    "                else:\n",
    "                    print('ME model used for this sub')\n",
    "                    sig_bin_model = smf.mixedlm(\"ripple_outcome ~ category_pred\", test1_df, groups=\"session_pred\")\n",
    "                    test1_model = sig_bin_model.fit(method='nm')\n",
    "                test1_p_values.append(test1_model.pvalues[1])\n",
    "                test1_t_values.append(test1_model.tvalues[1])\n",
    "\n",
    "                ripple_outcome = np.append(data_test2[sub_elec_mask,2],\n",
    "                                           data_test2[sub_elec_mask,0])\n",
    "                category_pred = np.append( np.zeros(len(data_test2[sub_elec_mask,2])),\n",
    "                                           np.ones(len(data_test2[sub_elec_mask,0])) )\n",
    "\n",
    "                test2_df = pd.DataFrame(data={'session_pred':session_pred,\n",
    "                        'category_pred':category_pred,'ripple_outcome':ripple_outcome})\n",
    "                if len(np.unique(session_pred))<=1:\n",
    "                    sig_bin_model = smf.ols(\"ripple_outcome ~ category_pred+session_pred+category_pred*session_pred\", test2_df)\n",
    "                    test2_model = sig_bin_model.fit()\n",
    "                else:\n",
    "                    sig_bin_model = smf.mixedlm(\"ripple_outcome ~ category_pred\", test2_df, groups=\"session_pred\")\n",
    "                    test2_model = sig_bin_model.fit(method='nm')\n",
    "                test2_p_values.append(test2_model.pvalues[1])\n",
    "                test2_t_values.append(test2_model.tvalues[1])\n",
    "                test1_mean_diff.append(np.mean(data_test1[sub_elec_mask,2]) - np.mean(data_test1[sub_elec_mask,0]))\n",
    "                test2_mean_diff.append(np.mean(data_test2[sub_elec_mask,0]) - np.mean(data_test2[sub_elec_mask,2]))\n",
    "                # get the coordinates for this channel\n",
    "                temp_channel_coord = np.unique(channel_coords_array[sub_elec_mask])\n",
    "                if len(temp_channel_coord)>3: # since xyz for each\n",
    "                    print('more than 1 set of coordinates for a channel??')\n",
    "                    continue\n",
    "                else:\n",
    "                    final_channel_coords.append(channel_coords_array[sub_elec_mask][0]) # unique sorts the results so take original order\n",
    "                    region_array.append(region+location_selected)\n",
    "                \n",
    "print('% of electrodes significant for Test 1:')\n",
    "sum(np.array(test1_p_values)<0.05)/len(test1_p_values)\n",
    "print('% of electrodes significantly different across sessions')\n",
    "sum(np.array(test2_p_values)<0.05)/len(test2_p_values)\n",
    "\n",
    "if save_coords == 1:\n",
    "    fn = '../figures/t_score_comparisons/'+region+'_'+location_selected+'_sub_channel_t-scores-min-'+str(min_trials)+'_trials.npz'\n",
    "    np.savez(fn, t_values=test1_t_values, coords=final_channel_coords, region_array = region_array)"
   ]
  },
  {
   "cell_type": "code",
   "execution_count": 32,
   "metadata": {},
   "outputs": [
    {
     "data": {
      "text/plain": [
       "331"
      ]
     },
     "execution_count": 32,
     "metadata": {},
     "output_type": "execute_result"
    },
    {
     "data": {
      "text/plain": [
       "205"
      ]
     },
     "execution_count": 32,
     "metadata": {},
     "output_type": "execute_result"
    },
    {
     "data": {
      "text/plain": [
       "205"
      ]
     },
     "execution_count": 32,
     "metadata": {},
     "output_type": "execute_result"
    },
    {
     "data": {
      "text/plain": [
       "130"
      ]
     },
     "execution_count": 32,
     "metadata": {},
     "output_type": "execute_result"
    },
    {
     "data": {
      "text/plain": [
       "150"
      ]
     },
     "execution_count": 32,
     "metadata": {},
     "output_type": "execute_result"
    },
    {
     "data": {
      "text/plain": [
       "array(['1LD1-1LD2', '1LD3-1LD4', '2RD1-2RD2', '2RD2-2RD3',\n",
       "       '3LAHD1-3LAHD2', '3LAHD2-3LAHD3', '3LD1-3LD2', '3LD2-3LD3',\n",
       "       '3LD3-3LD4', '3Ld1-3Ld2', '3Ld3-3Ld4', '4RAHD1-4RAHD2',\n",
       "       '4RAHD2-4RAHD3', '4RD1-4RD2', '4RD2-4RD3', '4RD3-4RD4',\n",
       "       '5LD1-5LD2', '5LD2-5LD3', '5LD3-5LD4', '5Ld2-5Ld3', '6RD1-6RD2',\n",
       "       '6RD2-6RD3', '6RMHD2-6RMHD3', '8RD2-8RD3', '8RD3-8RD4', 'AD2-AD3',\n",
       "       'AD3-AD4', 'BRHD3-BRHD4', 'CRHD3-CRHD4', 'DA3-DA4', 'DH2-DH3',\n",
       "       'DHI1-DHI2', 'ERHD1-ERHD2', 'ERHD2-ERHD3', 'HCB2-HCB3',\n",
       "       'HCB4-HCB5', 'HCH2-HCH3', 'HCH3-HCH4', 'HCT2-HCT3', 'HH1-HH2',\n",
       "       'HH2-HH3', 'L13HD1-L13HD2', 'L13HD3-L13HD4', 'L3D2-L3D3',\n",
       "       'L5AHD3-L5AHD4', 'L5AHD4-L5AHD5', 'L5D2-L5D3', 'L7AHD3-L7AHD4',\n",
       "       'LA1-LA2', 'LA2-LA3', 'LA3-LA4', 'LAHCD1-LAHCD2', 'LAHCD2-LAHCD3',\n",
       "       'LAHCD3-LAHCD4', 'LAHCMD5-LAHCMD6', 'LAHCMD6-LAHCMD7',\n",
       "       'LAHCMD7-LAHCMD8', 'LAHD1-LAHD2', 'LATD3-LATD4', 'LB1-LB2',\n",
       "       'LB2-LB3', 'LB3-LB4', 'LB4-LB5', 'LB5-LB6', 'LBMA1-LBMA2',\n",
       "       'LC1-LC2', 'LC2-LC3', 'LC3-LC4', 'LC4-LC5', 'LD1-LD2', 'LD2-LD3',\n",
       "       'LD3-LD4', 'LD4-LD5', 'LDA1-LDA2', 'LDA2-LDA3', 'LDA3-LDA4',\n",
       "       'LDH1-LDH2', 'LDH2-LDH3', 'LDH3-LDH4', 'LE1-LE2', 'LE3-LE4',\n",
       "       'LE4-LE5', 'LF1-LF2', 'LF2-LF3', 'LFD2-LFD3', 'LH3-LH4',\n",
       "       'LHCD1-LHCD2', 'LHCD2-LHCD3', 'LHCD3-LHCD4', 'LMHD2-LMHD3',\n",
       "       'LMTD2-LMTD3', 'LOTD2-LOTD3', 'LOTD3-LOTD4', 'LOTD4-LOTD5',\n",
       "       'LOTD5-LOTD6', 'LOTD6-LOTD7', 'LOTD7-LOTD8', 'LPHCD2-LPHCD3',\n",
       "       'LPHCMD5-LPHCMD6', 'LPHCMD6-LPHCMD7', 'LPHD1-LPHD2', 'LPHD2-LPHD3',\n",
       "       'LPHD3-LPHD4', 'R4D2-R4D3', 'R6D2-R6D3', 'RA1-RA2', 'RA2-RA3',\n",
       "       'RAD1-RAD2', 'RAH1-RAH2', 'RAH2-RAH3', 'RAH3-RAH4',\n",
       "       'RAHCD1-RAHCD2', 'RAHCD2-RAHCD3', 'RAHCD4-RAHCD5', 'RAHD1-RAHD2',\n",
       "       'RAHD2-RAHD3', 'RB1-RB2', 'RB2-RB3', 'RB3-RB4', 'RC1-RC2',\n",
       "       'RC2-RC3', 'RC3-RC4', 'RD1-RD2', 'RD2-RD3', 'RD3-RD4', 'RD4-RD5',\n",
       "       'RDA2-RDA3', 'RDH2-RDH3', 'RDH3-RDH4', 'RHD1-RHD2', 'RHD2-RHD3',\n",
       "       'RHD3-RHD4', 'RHT3-RHT4', 'RM3-RM4', 'ROTD1-ROTD2', 'ROTD2-ROTD3',\n",
       "       'ROTD3-ROTD4', 'ROTD4-ROTD5', 'ROTD5-ROTD6', 'RP3-RP4',\n",
       "       'RPD1-RPD2', 'RPD2-RPD3', 'RPH1-RPH2', 'RPH3-RPH4', 'RPH4-RPH5',\n",
       "       'RPHCD1-RPHCD2', 'RPHCD2-RPHCD3', 'RPHCD3-RPHCD4', 'RPHD2-RPHD3',\n",
       "       'RPHD3-RPHD4'], dtype='<U15')"
      ]
     },
     "execution_count": 32,
     "metadata": {},
     "output_type": "execute_result"
    }
   ],
   "source": [
    "sum(elecs_per_sub)\n",
    "len(region_array)\n",
    "len(final_channel_coords)\n",
    "len(unique(subs))\n",
    "len(np.unique(electrode_array))\n",
    "np.unique(electrode_array)"
   ]
  },
  {
   "cell_type": "code",
   "execution_count": 7,
   "metadata": {},
   "outputs": [
    {
     "data": {
      "image/png": "[encoded data removed]",
      "text/plain": [
       "<Figure size 432x288 with 1 Axes>"
      ]
     },
     "metadata": {
      "needs_background": "light"
     },
     "output_type": "display_data"
    },
    {
     "name": "stdout",
     "output_type": "stream",
     "text": [
      "P(greater than 0): 0.6727272727272727\n"
     ]
    },
    {
     "data": {
      "image/png": "[encoded data removed]",
      "text/plain": [
       "<Figure size 432x288 with 1 Axes>"
      ]
     },
     "metadata": {
      "needs_background": "light"
     },
     "output_type": "display_data"
    },
    {
     "name": "stdout",
     "output_type": "stream",
     "text": [
      "P(greater than 0): 0.6727272727272727\n"
     ]
    },
    {
     "data": {
      "image/png": "[encoded data removed]",
      "text/plain": [
       "<Figure size 432x288 with 1 Axes>"
      ]
     },
     "metadata": {
      "needs_background": "light"
     },
     "output_type": "display_data"
    },
    {
     "name": "stdout",
     "output_type": "stream",
     "text": [
      "P(greater than 0): 0.36363636363636365\n"
     ]
    },
    {
     "data": {
      "image/png": "[encoded data removed]",
      "text/plain": [
       "<Figure size 432x288 with 1 Axes>"
      ]
     },
     "metadata": {
      "needs_background": "light"
     },
     "output_type": "display_data"
    },
    {
     "name": "stdout",
     "output_type": "stream",
     "text": [
      "P(greater than 0): 0.36363636363636365\n"
     ]
    }
   ],
   "source": [
    "# plot the distribution of t-values:\n",
    "sb.swarmplot(y=test1_t_values); title('Test 1 t-values by subject'); show()\n",
    "print('P(greater than 0): '+str(sum(np.array(test1_t_values)>0)/len(test1_t_values)))\n",
    "sb.swarmplot(y=test1_mean_diff); title('Test 1 mean diffs by subject'); show()\n",
    "print('P(greater than 0): '+str(sum(np.array(test1_mean_diff)>0)/len(test1_mean_diff)))\n",
    "sb.swarmplot(y=test2_t_values); title('Test 2 t-values by subject'); show()\n",
    "print('P(greater than 0): '+str(sum(np.array(test2_t_values)>0)/len(test2_t_values)))\n",
    "sb.swarmplot(y=test2_mean_diff); title('Test 2 mean diffs by subject'); show()\n",
    "print('P(greater than 0): '+str(sum(np.array(test2_mean_diff)>0)/len(test2_mean_diff)));"
   ]
  },
  {
   "cell_type": "code",
   "execution_count": 15,
   "metadata": {},
   "outputs": [
    {
     "data": {
      "text/plain": [
       "[array([-26.21, -26.76, -19.01]),\n",
       " array([-31.425, -27.255, -19.02 ]),\n",
       " array([-30.42 , -16.99 , -12.585]),\n",
       " array([ 29.945, -19.805, -19.665]),\n",
       " array([ 35.035, -19.21 , -18.705]),\n",
       " array([-28.705, -13.355, -14.37 ]),\n",
       " array([-33.465, -25.655, -10.32 ]),\n",
       " array([ 30.825, -21.43 ,  -8.425]),\n",
       " array([-28.595, -11.35 , -18.185]),\n",
       " array([-34.155, -28.665,  -8.945]),\n",
       " array([ 18.03 , -16.755, -18.925]),\n",
       " array([ 30.045, -24.465, -19.72 ]),\n",
       " array([-39.59, -24.8 , -14.42]),\n",
       " array([-23.195, -18.47 , -16.78 ]),\n",
       " array([-27.295, -40.515,  -0.71 ]),\n",
       " array([ 24.535, -14.24 , -22.535]),\n",
       " array([ 25.93, -20.23, -16.02]),\n",
       " array([ 26.66 , -26.61 , -10.185]),\n",
       " array([ 27.43 , -34.415,  -3.86 ]),\n",
       " array([-31.59 , -34.105, -13.01 ]),\n",
       " array([ 36.3  , -17.325, -18.75 ]),\n",
       " array([ 31.605, -26.095, -15.46 ]),\n",
       " array([ 23.595, -34.525,  -6.96 ]),\n",
       " array([ 28.405, -36.61 ,  -7.83 ]),\n",
       " array([-22.32, -11.59, -27.11]),\n",
       " array([-26.1  , -11.675, -26.385]),\n",
       " array([-29.63 , -11.765, -25.66 ]),\n",
       " array([ 22.48, -12.49, -24.27]),\n",
       " array([ 25.76, -12.01, -24.17]),\n",
       " array([ 28.17 , -21.185, -19.77 ]),\n",
       " array([ 35.115, -24.47 , -14.365]),\n",
       " array([ 28.035, -15.11 , -14.195]),\n",
       " array([ 33.465, -15.475, -13.86 ]),\n",
       " array([ 28.63 , -35.56 ,  -4.535]),\n",
       " array([ 34.625, -36.505,  -3.425]),\n",
       " array([ 33.22 , -31.96 , -10.455]),\n",
       " array([-24.3 , -14.86, -24.8 ]),\n",
       " array([-27.065, -16.31 , -23.685]),\n",
       " array([-30.395, -18.27 , -22.55 ]),\n",
       " array([-18.715, -21.575, -18.83 ]),\n",
       " array([-32.215, -32.15 , -15.81 ]),\n",
       " array([-22.895, -18.73 , -24.715]),\n",
       " array([-26.965, -24.41 , -21.355]),\n",
       " array([-29.26 , -26.97 , -20.215]),\n",
       " array([ 35.925, -17.085, -18.795]),\n",
       " array([-23.225, -13.595, -28.16 ]),\n",
       " array([-28.65 , -13.465, -28.245]),\n",
       " array([ 16.84, -13.54, -14.68]),\n",
       " array([ 22.95, -14.45, -14.59]),\n",
       " array([ 16.165, -15.38 , -15.425]),\n",
       " array([ 27.32 , -17.965, -14.96 ]),\n",
       " array([-30.09 , -18.275, -24.355]),\n",
       " array([ 27.505, -13.91 , -22.51 ]),\n",
       " array([ 32.18 , -13.325, -23.49 ]),\n",
       " array([-33.51 , -29.12 , -16.415]),\n",
       " array([ 30.47 , -16.345, -26.965]),\n",
       " array([-22.925, -11.71 , -27.48 ]),\n",
       " array([-26.44 , -11.805, -26.03 ]),\n",
       " array([-27.685, -25.7  , -17.33 ]),\n",
       " array([-34.205, -22.355, -16.785]),\n",
       " array([-24.735, -15.47 , -25.17 ]),\n",
       " array([-34.14 , -15.825, -24.55 ]),\n",
       " array([-27.815, -38.345, -11.085]),\n",
       " array([-32.195, -38.635, -11.305]),\n",
       " array([-36.605, -38.795, -10.98 ]),\n",
       " array([ 36.94 , -17.79 , -23.515]),\n",
       " array([-23.725, -16.25 , -18.115]),\n",
       " array([-29.275, -17.61 , -17.855]),\n",
       " array([ 21.995, -17.43 , -16.42 ]),\n",
       " array([ 26.925, -17.11 , -17.345]),\n",
       " array([ 32.525, -28.775, -10.56 ]),\n",
       " array([ 18.22 , -14.895, -23.055]),\n",
       " array([ 23.305, -14.435, -23.25 ]),\n",
       " array([ 31.28 , -17.72 , -22.365]),\n",
       " array([ 33.235, -19.4  , -23.83 ]),\n",
       " array([-27.555, -18.44 , -23.76 ]),\n",
       " array([ 30.42 , -26.035, -18.335]),\n",
       " array([ 27.61 , -25.735,  -5.975]),\n",
       " array([-32.92, -22.61, -24.17]),\n",
       " array([ 31.49, -34.71, -13.55]),\n",
       " array([-28.31 , -32.675,  -8.96 ]),\n",
       " array([-34.   , -32.62 ,  -8.655]),\n",
       " array([-28.43 , -15.675, -14.53 ]),\n",
       " array([-33.615, -17.415, -13.82 ]),\n",
       " array([-31.09 , -16.635, -21.775]),\n",
       " array([-28.135, -10.585, -23.755]),\n",
       " array([ 38.625, -23.2  , -15.295]),\n",
       " array([ 37.025, -34.   , -12.55 ]),\n",
       " array([ 30.24 , -24.58 , -17.865]),\n",
       " array([ 33.865, -24.09 , -17.635]),\n",
       " array([ 34.12 , -34.565,  -7.665]),\n",
       " array([-25.585, -17.68 , -20.895]),\n",
       " array([-31.18 , -17.205, -20.65 ]),\n",
       " array([-37.21, -38.42,  -2.92]),\n",
       " array([ 21.53 , -14.965, -12.66 ]),\n",
       " array([ 26.07 , -16.395, -11.455]),\n",
       " array([ 33.62 , -31.29 ,  -3.175]),\n",
       " array([ 39.305, -29.96 ,  -2.655]),\n",
       " array([-30.285, -13.825, -18.835]),\n",
       " array([-28.775, -15.405, -23.44 ]),\n",
       " array([-31.985, -29.73 , -11.45 ]),\n",
       " array([-23.06,  -3.41, -24.81]),\n",
       " array([-31.615, -31.58 ,  -9.755]),\n",
       " array([-29.58 , -14.005, -16.915]),\n",
       " array([-36.075, -22.35 , -15.545]),\n",
       " array([-26.995, -18.89 , -15.885]),\n",
       " array([-31.795, -39.645,  -5.07 ]),\n",
       " array([ 32.775, -18.96 , -22.73 ]),\n",
       " array([-34.635, -38.53 ,  -6.125]),\n",
       " array([-33.275, -29.245, -15.72 ]),\n",
       " array([-34.34 , -17.665, -21.66 ]),\n",
       " array([-32.815, -16.885, -18.745]),\n",
       " array([ 35.205, -15.025, -21.55 ]),\n",
       " array([-30.57542419, -28.04299355, -14.49751806]),\n",
       " array([ 35.48 , -19.385, -15.03 ]),\n",
       " array([ 32.6  , -33.395, -11.66 ]),\n",
       " array([-29.43, -35.12, -10.81]),\n",
       " array([-34.19 , -17.285, -13.16 ]),\n",
       " array([-19.8  , -17.48 , -19.255]),\n",
       " array([-29.61, -29.43, -18.09]),\n",
       " array([-36.955, -23.76 , -19.16 ]),\n",
       " array([ 32.85, -35.81, -10.37]),\n",
       " array([-24.455, -37.48 ,  -9.775]),\n",
       " array([-29.12 , -21.435, -13.165]),\n",
       " array([-36.225, -31.19 ,  -8.4  ]),\n",
       " array([ 26.585, -20.105, -21.545]),\n",
       " array([ 32.005, -19.845, -20.135]),\n",
       " array([ 26.705, -28.32 , -16.465]),\n",
       " array([ 32.04 , -27.96 , -16.405]),\n",
       " array([-25.615, -30.34 , -17.695]),\n",
       " array([ 31.3  , -11.79 , -27.275]),\n",
       " array([ 32.375, -35.745, -12.785]),\n",
       " array([-16.785, -13.85 , -17.675]),\n",
       " array([-27.72 , -15.105, -19.   ]),\n",
       " array([-26.19 , -25.975, -17.335]),\n",
       " array([ 32.76 , -19.455, -17.95 ]),\n",
       " array([ 29.115, -26.02 , -16.525]),\n",
       " array([ 34.85 , -26.485, -15.91 ]),\n",
       " array([ 31.705, -36.21 , -13.21 ]),\n",
       " array([ 36.3 , -39.33, -11.5 ]),\n",
       " array([-32.89, -27.82, -14.93]),\n",
       " array([-31.225, -12.235, -23.98 ]),\n",
       " array([-35.03 , -34.09 , -10.495]),\n",
       " array([ 37.345, -12.625, -20.1  ]),\n",
       " array([-18.505, -13.675, -19.58 ]),\n",
       " array([-24.09 , -13.8  , -19.645]),\n",
       " array([-29.695, -14.055, -19.385]),\n",
       " array([-28.685, -26.195, -17.47 ]),\n",
       " array([-32.2  , -29.535, -14.985]),\n",
       " array([-27.91 , -13.165, -25.915]),\n",
       " array([-25.9  , -32.14 , -11.055]),\n",
       " array([ 30.825, -13.085, -21.985]),\n",
       " array([-29.8  , -17.535, -24.305]),\n",
       " array([ 33.98 , -23.08 , -21.155]),\n",
       " array([-28.095, -37.035,  -6.4  ]),\n",
       " array([-30.96 , -37.505,  -6.865]),\n",
       " array([ 25.87 , -30.285, -11.055]),\n",
       " array([ 29.44 , -31.335, -10.375]),\n",
       " array([ 32.77, -32.38,  -9.95]),\n",
       " array([ 31.05 , -14.38 , -21.585]),\n",
       " array([ 35.26, -31.1 , -10.3 ]),\n",
       " array([-34.25 , -15.67 , -24.045]),\n",
       " array([-35.47, -37.19, -11.14]),\n",
       " array([ 37.99 , -20.335, -24.84 ]),\n",
       " array([ 31.735, -37.99 , -13.535]),\n",
       " array([ 35.405, -36.395, -13.24 ]),\n",
       " array([-23.935, -13.36 , -23.47 ]),\n",
       " array([-28.245, -13.28 , -24.61 ]),\n",
       " array([-21.51 , -18.335, -17.11 ]),\n",
       " array([-25.44 , -18.53 , -17.345]),\n",
       " array([-29.07 , -18.715, -17.605]),\n",
       " array([-32.955, -18.82 , -17.275]),\n",
       " array([-33.745, -37.155,  -3.41 ]),\n",
       " array([-34.075, -19.955, -13.58 ]),\n",
       " array([ 38.48 , -25.315, -11.8  ]),\n",
       " array([ 36.675, -34.105,  -5.805]),\n",
       " array([-34.355, -19.465, -20.06 ]),\n",
       " array([-29.31 , -40.835, -10.79 ]),\n",
       " array([ 36.19, -36.52, -12.36]),\n",
       " array([-34.765, -24.685, -14.57 ]),\n",
       " array([-33.96597862, -15.9523859 , -21.55002403]),\n",
       " array([-34.30423737, -19.3066473 , -17.8420105 ]),\n",
       " array([-35.36322021, -24.76582813, -15.20769691]),\n",
       " array([-36.437006  , -31.01206017, -13.69724369]),\n",
       " array([-35.31332397, -33.4657917 ,  -9.77837491]),\n",
       " array([-33.83775139, -36.09056282,  -6.50613475]),\n",
       " array([-27.35 , -21.565, -22.815]),\n",
       " array([-32.015, -21.5  , -22.485]),\n",
       " array([-23.325, -38.3  , -10.215]),\n",
       " array([-27.41 , -39.265, -10.765]),\n",
       " array([ 33.07 , -17.935, -24.175]),\n",
       " array([ 35.9  , -40.135,  -4.585]),\n",
       " array([-24.67743492, -10.76311302, -24.38025093]),\n",
       " array([-29.96667385, -12.58974791, -23.78732204]),\n",
       " array([-34.07710648, -12.81750584, -23.00680161]),\n",
       " array([-28.84569931, -12.36794186, -23.75524712]),\n",
       " array([-31.41737175, -12.04563332, -24.14351559]),\n",
       " array([-33.98904419, -11.72332478, -24.53178406]),\n",
       " array([-31.00580025, -17.66856098, -20.52380085]),\n",
       " array([-30.53145409, -17.60659409, -20.57639503]),\n",
       " array([-33.23772907, -18.59888935, -19.91635036]),\n",
       " array([-19.61013889, -10.43011904, -24.69342327]),\n",
       " array([-31.27610302, -29.81112099, -13.51900244]),\n",
       " array([ 35.18196869, -35.44550133, -12.34339428]),\n",
       " array([ 25.38533783, -11.97568464, -23.63321209]),\n",
       " array([ 37.64184761, -15.9502306 , -24.82203102]),\n",
       " array([ 31.77042007, -16.46398449, -21.44282722]),\n",
       " array([ 37.1492691 , -18.02185822, -23.01898575]),\n",
       " array([-21.81719208, -11.98729992, -23.92765617]),\n",
       " array([-34.80742264, -32.02879238, -12.47789955]),\n",
       " array([-32.9633913 , -17.03931713, -27.30346107]),\n",
       " array([ 25.32374668,  -8.14589334, -27.26983452]),\n",
       " array([ 37.03281593, -16.66548014, -20.61696911]),\n",
       " array([-32.0438385 , -22.51571941, -23.63397121]),\n",
       " array([-33.84256935, -33.46687889, -11.75647736]),\n",
       " array([-35.82843018, -34.09860992, -11.00540113]),\n",
       " array([ 28.8899889 , -25.32228565, -21.0241251 ]),\n",
       " array([-22.15103626, -11.09009075, -25.07667637]),\n",
       " array([-28.89487076, -10.08287477, -25.82253361]),\n",
       " array([ 34.77457428, -18.60599136, -25.57459068]),\n",
       " array([ 35.71969223, -34.99585533, -10.3119359 ]),\n",
       " array([-25.10780334, -12.47706699, -24.26758003]),\n",
       " array([-28.96387768, -12.96565914, -23.60130024]),\n",
       " array([-32.65402222, -36.60276604,  -8.70582438]),\n",
       " array([-34.80797005, -37.40992355,  -7.84934139]),\n",
       " array([ 29.54691029, -13.16386795, -22.9796524 ]),\n",
       " array([ 33.1746273 , -13.3964262 , -23.02991772]),\n",
       " array([ 36.86856842, -18.66321373, -19.22487926]),\n",
       " array([-34.00083923, -33.65349388, -11.20099974]),\n",
       " array([ 36.79161644, -21.51243877, -17.48269844]),\n",
       " array([-19.28575039, -13.86675787, -23.559412  ]),\n",
       " array([-24.15474319, -16.06105995, -22.57585239]),\n",
       " array([-27.63730717, -15.69593525, -22.30691147])]"
      ]
     },
     "execution_count": 15,
     "metadata": {},
     "output_type": "execute_result"
    },
    {
     "data": {
      "text/plain": [
       "['HPCca1',\n",
       " 'HPCca1',\n",
       " 'HPCca1',\n",
       " 'HPCca1',\n",
       " 'HPCca1',\n",
       " 'HPCca1',\n",
       " 'HPCca1',\n",
       " 'HPCca1',\n",
       " 'HPCca1',\n",
       " 'HPCca1',\n",
       " 'HPCca1',\n",
       " 'HPCca1',\n",
       " 'HPCca1',\n",
       " 'HPCca1',\n",
       " 'HPCca1',\n",
       " 'HPCca1',\n",
       " 'HPCca1',\n",
       " 'HPCca1',\n",
       " 'HPCca1',\n",
       " 'HPCca1',\n",
       " 'HPCca1',\n",
       " 'HPCca1',\n",
       " 'HPCca1',\n",
       " 'HPCca1',\n",
       " 'HPCca1',\n",
       " 'HPCca1',\n",
       " 'HPCca1',\n",
       " 'HPCca1',\n",
       " 'HPCca1',\n",
       " 'HPCca1',\n",
       " 'HPCca1',\n",
       " 'HPCca1',\n",
       " 'HPCca1',\n",
       " 'HPCca1',\n",
       " 'HPCca1',\n",
       " 'HPCca1',\n",
       " 'HPCca1',\n",
       " 'HPCca1',\n",
       " 'HPCca1',\n",
       " 'HPCca1',\n",
       " 'HPCca1',\n",
       " 'HPCca1',\n",
       " 'HPCca1',\n",
       " 'HPCca1',\n",
       " 'HPCca1',\n",
       " 'HPCca1',\n",
       " 'HPCca1',\n",
       " 'HPCca1',\n",
       " 'HPCca1',\n",
       " 'HPCca1',\n",
       " 'HPCca1',\n",
       " 'HPCca1',\n",
       " 'HPCca1',\n",
       " 'HPCca1',\n",
       " 'HPCca1',\n",
       " 'HPCca1',\n",
       " 'HPCca1',\n",
       " 'HPCca1',\n",
       " 'HPCca1',\n",
       " 'HPCca1',\n",
       " 'HPCca1',\n",
       " 'HPCca1',\n",
       " 'HPCca1',\n",
       " 'HPCca1',\n",
       " 'HPCca1',\n",
       " 'HPCca1',\n",
       " 'HPCca1',\n",
       " 'HPCca1',\n",
       " 'HPCca1',\n",
       " 'HPCca1',\n",
       " 'HPCca1',\n",
       " 'HPCca1',\n",
       " 'HPCca1',\n",
       " 'HPCca1',\n",
       " 'HPCca1',\n",
       " 'HPCca1',\n",
       " 'HPCca1',\n",
       " 'HPCca1',\n",
       " 'HPCca1',\n",
       " 'HPCca1',\n",
       " 'HPCca1',\n",
       " 'HPCca1',\n",
       " 'HPCca1',\n",
       " 'HPCca1',\n",
       " 'HPCca1',\n",
       " 'HPCca1',\n",
       " 'HPCca1',\n",
       " 'HPCca1',\n",
       " 'HPCca1',\n",
       " 'HPCca1',\n",
       " 'HPCca1',\n",
       " 'HPCca1',\n",
       " 'HPCca1',\n",
       " 'HPCca1',\n",
       " 'HPCca1',\n",
       " 'HPCca1',\n",
       " 'HPCca1',\n",
       " 'HPCca1',\n",
       " 'HPCca1',\n",
       " 'HPCca1',\n",
       " 'HPCca1',\n",
       " 'HPCca1',\n",
       " 'HPCca1',\n",
       " 'HPCca1',\n",
       " 'HPCca1',\n",
       " 'HPCca1',\n",
       " 'HPCca1',\n",
       " 'HPCca1',\n",
       " 'HPCca1',\n",
       " 'HPCca1',\n",
       " 'HPCca1',\n",
       " 'HPCca1',\n",
       " 'HPCca1',\n",
       " 'HPCca1',\n",
       " 'HPCca1',\n",
       " 'HPCca1',\n",
       " 'HPCca1',\n",
       " 'HPCca1',\n",
       " 'HPCca1',\n",
       " 'HPCca1',\n",
       " 'HPCca1',\n",
       " 'HPCca1',\n",
       " 'HPCca1',\n",
       " 'HPCca1',\n",
       " 'HPCca1',\n",
       " 'HPCca1',\n",
       " 'HPCca1',\n",
       " 'HPCca1',\n",
       " 'HPCca1',\n",
       " 'HPCca1',\n",
       " 'HPCca1',\n",
       " 'HPCca1',\n",
       " 'HPCca1',\n",
       " 'HPCca1',\n",
       " 'HPCca1',\n",
       " 'HPCca1',\n",
       " 'HPCca1',\n",
       " 'HPCca1',\n",
       " 'HPCca1',\n",
       " 'HPCca1',\n",
       " 'HPCca1',\n",
       " 'HPCca1',\n",
       " 'HPCca1',\n",
       " 'HPCca1',\n",
       " 'HPCca1',\n",
       " 'HPCca1',\n",
       " 'HPCca1',\n",
       " 'HPCca1',\n",
       " 'HPCca1',\n",
       " 'HPCca1',\n",
       " 'HPCca1',\n",
       " 'HPCca1',\n",
       " 'HPCca1',\n",
       " 'HPCca1',\n",
       " 'HPCca1',\n",
       " 'HPCca1',\n",
       " 'HPCca1',\n",
       " 'HPCca1',\n",
       " 'HPCca1',\n",
       " 'HPCca1',\n",
       " 'HPCca1',\n",
       " 'HPCca1',\n",
       " 'HPCca1',\n",
       " 'HPCca1',\n",
       " 'HPCca1',\n",
       " 'HPCca1',\n",
       " 'HPCca1',\n",
       " 'HPCca1',\n",
       " 'HPCca1',\n",
       " 'HPCca1',\n",
       " 'HPCca1',\n",
       " 'HPCca1',\n",
       " 'HPCca1',\n",
       " 'HPCca1',\n",
       " 'HPCca1',\n",
       " 'HPCca1',\n",
       " 'HPCca1',\n",
       " 'HPCca1',\n",
       " 'HPCca1',\n",
       " 'HPCca1',\n",
       " 'HPCca1',\n",
       " 'HPCca1',\n",
       " 'HPCca1',\n",
       " 'HPCca1',\n",
       " 'HPCca1',\n",
       " 'HPCca1',\n",
       " 'HPCca1',\n",
       " 'HPCca1',\n",
       " 'HPCca1',\n",
       " 'HPCca1',\n",
       " 'HPCca1',\n",
       " 'HPCca1',\n",
       " 'HPCca1',\n",
       " 'HPCca1',\n",
       " 'HPCca1',\n",
       " 'HPCca1',\n",
       " 'HPCca1',\n",
       " 'HPCca1',\n",
       " 'HPCca1',\n",
       " 'HPCca1',\n",
       " 'HPCca1',\n",
       " 'HPCca1',\n",
       " 'HPCca1',\n",
       " 'HPCca1',\n",
       " 'HPCca1',\n",
       " 'HPCca1',\n",
       " 'HPCca1',\n",
       " 'HPCca1',\n",
       " 'HPCca1',\n",
       " 'HPCca1',\n",
       " 'HPCca1',\n",
       " 'HPCca1',\n",
       " 'HPCca1',\n",
       " 'HPCca1',\n",
       " 'HPCca1',\n",
       " 'HPCca1',\n",
       " 'HPCca1',\n",
       " 'HPCca1',\n",
       " 'HPCca1',\n",
       " 'HPCca1',\n",
       " 'HPCca1',\n",
       " 'HPCca1',\n",
       " 'HPCca1',\n",
       " 'HPCca1',\n",
       " 'HPCca1',\n",
       " 'HPCca1',\n",
       " 'HPCca1',\n",
       " 'HPCca1',\n",
       " 'HPCca1',\n",
       " 'HPCca1',\n",
       " 'HPCca1',\n",
       " 'HPCca1',\n",
       " 'HPCca1']"
      ]
     },
     "execution_count": 15,
     "metadata": {},
     "output_type": "execute_result"
    },
    {
     "data": {
      "text/plain": [
       "233"
      ]
     },
     "execution_count": 15,
     "metadata": {},
     "output_type": "execute_result"
    },
    {
     "data": {
      "text/plain": [
       "130"
      ]
     },
     "execution_count": 15,
     "metadata": {},
     "output_type": "execute_result"
    },
    {
     "data": {
      "text/plain": [
       "150"
      ]
     },
     "execution_count": 15,
     "metadata": {},
     "output_type": "execute_result"
    },
    {
     "data": {
      "text/plain": [
       "array(['1LD1-1LD2', '1LD3-1LD4', '2RD1-2RD2', '2RD2-2RD3',\n",
       "       '3LAHD1-3LAHD2', '3LAHD2-3LAHD3', '3LD1-3LD2', '3LD2-3LD3',\n",
       "       '3LD3-3LD4', '3Ld1-3Ld2', '3Ld3-3Ld4', '4RAHD1-4RAHD2',\n",
       "       '4RAHD2-4RAHD3', '4RD1-4RD2', '4RD2-4RD3', '4RD3-4RD4',\n",
       "       '5LD1-5LD2', '5LD2-5LD3', '5LD3-5LD4', '5Ld2-5Ld3', '6RD1-6RD2',\n",
       "       '6RD2-6RD3', '6RMHD2-6RMHD3', '8RD2-8RD3', '8RD3-8RD4', 'AD2-AD3',\n",
       "       'AD3-AD4', 'BRHD3-BRHD4', 'CRHD3-CRHD4', 'DA3-DA4', 'DH2-DH3',\n",
       "       'DHI1-DHI2', 'ERHD1-ERHD2', 'ERHD2-ERHD3', 'HCB2-HCB3',\n",
       "       'HCB4-HCB5', 'HCH2-HCH3', 'HCH3-HCH4', 'HCT2-HCT3', 'HH1-HH2',\n",
       "       'HH2-HH3', 'L13HD1-L13HD2', 'L13HD3-L13HD4', 'L3D2-L3D3',\n",
       "       'L5AHD3-L5AHD4', 'L5AHD4-L5AHD5', 'L5D2-L5D3', 'L7AHD3-L7AHD4',\n",
       "       'LA1-LA2', 'LA2-LA3', 'LA3-LA4', 'LAHCD1-LAHCD2', 'LAHCD2-LAHCD3',\n",
       "       'LAHCD3-LAHCD4', 'LAHCMD5-LAHCMD6', 'LAHCMD6-LAHCMD7',\n",
       "       'LAHCMD7-LAHCMD8', 'LAHD1-LAHD2', 'LATD3-LATD4', 'LB1-LB2',\n",
       "       'LB2-LB3', 'LB3-LB4', 'LB4-LB5', 'LB5-LB6', 'LBMA1-LBMA2',\n",
       "       'LC1-LC2', 'LC2-LC3', 'LC3-LC4', 'LC4-LC5', 'LD1-LD2', 'LD2-LD3',\n",
       "       'LD3-LD4', 'LD4-LD5', 'LDA1-LDA2', 'LDA2-LDA3', 'LDA3-LDA4',\n",
       "       'LDH1-LDH2', 'LDH2-LDH3', 'LDH3-LDH4', 'LE1-LE2', 'LE3-LE4',\n",
       "       'LE4-LE5', 'LF1-LF2', 'LF2-LF3', 'LFD2-LFD3', 'LH3-LH4',\n",
       "       'LHCD1-LHCD2', 'LHCD2-LHCD3', 'LHCD3-LHCD4', 'LMHD2-LMHD3',\n",
       "       'LMTD2-LMTD3', 'LOTD2-LOTD3', 'LOTD3-LOTD4', 'LOTD4-LOTD5',\n",
       "       'LOTD5-LOTD6', 'LOTD6-LOTD7', 'LOTD7-LOTD8', 'LPHCD2-LPHCD3',\n",
       "       'LPHCMD5-LPHCMD6', 'LPHCMD6-LPHCMD7', 'LPHD1-LPHD2', 'LPHD2-LPHD3',\n",
       "       'LPHD3-LPHD4', 'R4D2-R4D3', 'R6D2-R6D3', 'RA1-RA2', 'RA2-RA3',\n",
       "       'RAD1-RAD2', 'RAH1-RAH2', 'RAH2-RAH3', 'RAH3-RAH4',\n",
       "       'RAHCD1-RAHCD2', 'RAHCD2-RAHCD3', 'RAHCD4-RAHCD5', 'RAHD1-RAHD2',\n",
       "       'RAHD2-RAHD3', 'RB1-RB2', 'RB2-RB3', 'RB3-RB4', 'RC1-RC2',\n",
       "       'RC2-RC3', 'RC3-RC4', 'RD1-RD2', 'RD2-RD3', 'RD3-RD4', 'RD4-RD5',\n",
       "       'RDA2-RDA3', 'RDH2-RDH3', 'RDH3-RDH4', 'RHD1-RHD2', 'RHD2-RHD3',\n",
       "       'RHD3-RHD4', 'RHT3-RHT4', 'RM3-RM4', 'ROTD1-ROTD2', 'ROTD2-ROTD3',\n",
       "       'ROTD3-ROTD4', 'ROTD4-ROTD5', 'ROTD5-ROTD6', 'RP3-RP4',\n",
       "       'RPD1-RPD2', 'RPD2-RPD3', 'RPH1-RPH2', 'RPH3-RPH4', 'RPH4-RPH5',\n",
       "       'RPHCD1-RPHCD2', 'RPHCD2-RPHCD3', 'RPHCD3-RPHCD4', 'RPHD2-RPHD3',\n",
       "       'RPHD3-RPHD4'], dtype='<U15')"
      ]
     },
     "execution_count": 15,
     "metadata": {},
     "output_type": "execute_result"
    }
   ],
   "source": []
  },
  {
   "cell_type": "code",
   "execution_count": null,
   "metadata": {},
   "outputs": [],
   "source": []
  }
 ],
 "metadata": {
  "kernelspec": {
   "display_name": "env1",
   "language": "python",
   "name": "env1"
  },
  "language_info": {
   "codemirror_mode": {
    "name": "ipython",
    "version": 3
   },
   "file_extension": ".py",
   "mimetype": "text/x-python",
   "name": "python",
   "nbconvert_exporter": "python",
   "pygments_lexer": "ipython3",
   "version": "3.7.5"
  }
 },
 "nbformat": 4,
 "nbformat_minor": 4
}
