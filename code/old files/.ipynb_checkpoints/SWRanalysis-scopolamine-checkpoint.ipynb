{
 "cells": [
  {
   "cell_type": "code",
   "execution_count": 1,
   "metadata": {},
   "outputs": [
    {
     "name": "stderr",
     "output_type": "stream",
     "text": [
      "/home1/john/anaconda3/envs/env1/lib/python3.7/site-packages/ptsa/data/timeseries.py:526: FutureWarning: xarray subclass TimeSeriesX should explicitly define __slots__\n",
      "  class TimeSeriesX(TimeSeries):\n",
      "/home1/john/anaconda3/envs/env1/lib/python3.7/site-packages/statsmodels/tools/_testing.py:19: FutureWarning: pandas.util.testing is deprecated. Use the functions in the public API at pandas.testing instead.\n",
      "  import pandas.util.testing as tm\n"
     ]
    }
   ],
   "source": [
    "import pandas as pd; pd.set_option('display.max_columns', 30)\n",
    "import numpy as np\n",
    "from cmlreaders import CMLReader, get_data_index\n",
    "from ptsa.data.filters import ButterworthFilter\n",
    "import sys\n",
    "import os\n",
    "import matplotlib.pyplot as plt\n",
    "%matplotlib inline\n",
    "from pylab import *\n",
    "from copy import copy\n",
    "from scipy import stats\n",
    "import pickle\n",
    "plt.rcParams['pdf.fonttype'] = 42; plt.rcParams['ps.fonttype'] = 42 # fix fonts for Illustrator\n",
    "sys.path.append('/home1/john/Downloads/ptsa_plot-master/')\n",
    "sys.path.append('/home1/john/johnModules')\n",
    "from brain_labels import MTL_labels, LTC_labels, PFC_labels, OTHER_labels, ALL_labels # all location labels\n",
    "%load_ext autoreload\n",
    "%autoreload\n",
    "from general import *\n",
    "from SWRmodule import *\n",
    "\n",
    "# usually within local run\n",
    "import mne\n",
    "from scipy.signal import firwin,filtfilt,kaiserord\n",
    "import pingouin as pg\n",
    "%autoreload\n",
    "HPC_labels,ENT_labels,PHC_labels = getMTLregions(MTL_labels)\n",
    "\n",
    "# specific to loading UTSW data\n",
    "import warnings\n",
    "warnings.simplefilter('ignore')\n",
    "from ptsa.data.readers import EEGReader\n",
    "from ptsa.data.MatlabIO import read_single_matlab_matrix_as_numpy_structured_array\n",
    "from glob import glob\n"
   ]
  },
  {
   "cell_type": "markdown",
   "metadata": {},
   "source": [
    "## Local get ripples"
   ]
  },
  {
   "cell_type": "code",
   "execution_count": 2,
   "metadata": {},
   "outputs": [
    {
     "name": "stdout",
     "output_type": "stream",
     "text": [
      "The autoreload extension is already loaded. To reload it, use:\n",
      "  %reload_ext autoreload\n",
      "['UT159' 'UT162' 'UT165' 'UT167' 'UT178' 'UT185' 'UT191' 'UT195' 'UT199'\n",
      " 'UT238' 'UT255']\n",
      "130 recalled words for CONTROL for UT159-1\n",
      "25 lists\n",
      "--Call--\n",
      "> \u001b[0;32m/home1/john/anaconda3/envs/env1/lib/python3.7/site-packages/IPython/core/displayhook.py\u001b[0m(252)\u001b[0;36m__call__\u001b[0;34m()\u001b[0m\n",
      "\u001b[0;32m    251 \u001b[0;31m\u001b[0;34m\u001b[0m\u001b[0m\n",
      "\u001b[0m\u001b[0;32m--> 252 \u001b[0;31m    \u001b[0;32mdef\u001b[0m \u001b[0m__call__\u001b[0m\u001b[0;34m(\u001b[0m\u001b[0mself\u001b[0m\u001b[0;34m,\u001b[0m \u001b[0mresult\u001b[0m\u001b[0;34m=\u001b[0m\u001b[0;32mNone\u001b[0m\u001b[0;34m)\u001b[0m\u001b[0;34m:\u001b[0m\u001b[0;34m\u001b[0m\u001b[0;34m\u001b[0m\u001b[0m\n",
      "\u001b[0m\u001b[0;32m    253 \u001b[0;31m        \"\"\"Printing with history cache management.\n",
      "\u001b[0m\n"
     ]
    },
    {
     "name": "stdin",
     "output_type": "stream",
     "text": [
      "ipdb>  u\n"
     ]
    },
    {
     "name": "stdout",
     "output_type": "stream",
     "text": [
      "> \u001b[0;32m<ipython-input-2-ddaaacac9f17>\u001b[0m(273)\u001b[0;36m<module>\u001b[0;34m()\u001b[0m\n",
      "\u001b[0;32m    272 \u001b[0;31m\u001b[0;34m\u001b[0m\u001b[0m\n",
      "\u001b[0m\u001b[0;32m--> 273 \u001b[0;31m        \u001b[0;32mimport\u001b[0m \u001b[0mipdb\u001b[0m\u001b[0;34m;\u001b[0m \u001b[0mipdb\u001b[0m\u001b[0;34m.\u001b[0m\u001b[0mset_trace\u001b[0m\u001b[0;34m(\u001b[0m\u001b[0;34m)\u001b[0m\u001b[0;34m\u001b[0m\u001b[0;34m\u001b[0m\u001b[0m\n",
      "\u001b[0m\u001b[0;32m    274 \u001b[0;31m\u001b[0;34m\u001b[0m\u001b[0m\n",
      "\u001b[0m\n"
     ]
    },
    {
     "name": "stdin",
     "output_type": "stream",
     "text": [
      "ipdb>  l\n"
     ]
    },
    {
     "name": "stdout",
     "output_type": "stream",
     "text": [
      "\u001b[1;32m    268 \u001b[0m        \u001b[0mfile_base\u001b[0m \u001b[0;34m=\u001b[0m \u001b[0mos\u001b[0m\u001b[0;34m.\u001b[0m\u001b[0mpath\u001b[0m\u001b[0;34m.\u001b[0m\u001b[0mbasename\u001b[0m\u001b[0;34m(\u001b[0m\u001b[0mpaths\u001b[0m\u001b[0;34m[\u001b[0m\u001b[0;36m0\u001b[0m\u001b[0;34m]\u001b[0m\u001b[0;34m)\u001b[0m\u001b[0;34m.\u001b[0m\u001b[0msplit\u001b[0m\u001b[0;34m(\u001b[0m\u001b[0;34m'.'\u001b[0m\u001b[0;34m)\u001b[0m\u001b[0;34m[\u001b[0m\u001b[0;36m0\u001b[0m\u001b[0;34m]\u001b[0m\u001b[0;34m\u001b[0m\u001b[0;34m\u001b[0m\u001b[0m\n",
      "\u001b[1;32m    269 \u001b[0m        \u001b[0mbase_name\u001b[0m \u001b[0;34m=\u001b[0m \u001b[0mos\u001b[0m\u001b[0;34m.\u001b[0m\u001b[0mpath\u001b[0m\u001b[0;34m.\u001b[0m\u001b[0mjoin\u001b[0m\u001b[0;34m(\u001b[0m\u001b[0mos\u001b[0m\u001b[0;34m.\u001b[0m\u001b[0mpath\u001b[0m\u001b[0;34m.\u001b[0m\u001b[0mdirname\u001b[0m\u001b[0;34m(\u001b[0m\u001b[0mpaths\u001b[0m\u001b[0;34m[\u001b[0m\u001b[0;36m0\u001b[0m\u001b[0;34m]\u001b[0m\u001b[0;34m)\u001b[0m\u001b[0;34m,\u001b[0m \u001b[0mfile_base\u001b[0m\u001b[0;34m)\u001b[0m\u001b[0;34m\u001b[0m\u001b[0;34m\u001b[0m\u001b[0m\n",
      "\u001b[1;32m    270 \u001b[0m\u001b[0;34m\u001b[0m\u001b[0m\n",
      "\u001b[1;32m    271 \u001b[0m        \u001b[0meeg_events\u001b[0m\u001b[0;34m[\u001b[0m\u001b[0;34m'eegfile'\u001b[0m\u001b[0;34m]\u001b[0m \u001b[0;34m=\u001b[0m \u001b[0mbase_name\u001b[0m\u001b[0;34m\u001b[0m\u001b[0;34m\u001b[0m\u001b[0m\n",
      "\u001b[1;32m    272 \u001b[0m\u001b[0;34m\u001b[0m\u001b[0m\n",
      "\u001b[0;32m--> 273 \u001b[0;31m        \u001b[0;32mimport\u001b[0m \u001b[0mipdb\u001b[0m\u001b[0;34m;\u001b[0m \u001b[0mipdb\u001b[0m\u001b[0;34m.\u001b[0m\u001b[0mset_trace\u001b[0m\u001b[0;34m(\u001b[0m\u001b[0;34m)\u001b[0m\u001b[0;34m\u001b[0m\u001b[0;34m\u001b[0m\u001b[0m\n",
      "\u001b[0m\u001b[1;32m    274 \u001b[0m\u001b[0;34m\u001b[0m\u001b[0m\n",
      "\u001b[1;32m    275 \u001b[0m        eeg_ptsa = EEGReader(eeg_events.to_records(),\n",
      "\u001b[1;32m    276 \u001b[0m                        \u001b[0mchannels\u001b[0m\u001b[0;34m=\u001b[0m \u001b[0mcontacts\u001b[0m\u001b[0;34m.\u001b[0m\u001b[0mcontact\u001b[0m\u001b[0;34m.\u001b[0m\u001b[0mvalues\u001b[0m\u001b[0;34m[\u001b[0m\u001b[0mcontacts\u001b[0m\u001b[0;34m.\u001b[0m\u001b[0mdescription\u001b[0m\u001b[0;34m.\u001b[0m\u001b[0mstr\u001b[0m\u001b[0;34m.\u001b[0m\u001b[0mcontains\u001b[0m\u001b[0;34m(\u001b[0m\u001b[0;34m'hippocampus'\u001b[0m\u001b[0;34m)\u001b[0m\u001b[0;34m]\u001b[0m\u001b[0;34m,\u001b[0m\u001b[0;34m\u001b[0m\u001b[0;34m\u001b[0m\u001b[0m\n",
      "\u001b[1;32m    277 \u001b[0m                        \u001b[0mstart_time\u001b[0m\u001b[0;34m=\u001b[0m\u001b[0;34m(\u001b[0m\u001b[0mpsth_start\u001b[0m\u001b[0;34m-\u001b[0m\u001b[0meeg_buffer\u001b[0m\u001b[0;34m+\u001b[0m\u001b[0malign_adjust\u001b[0m\u001b[0;34m)\u001b[0m\u001b[0;34m/\u001b[0m\u001b[0;36m1000\u001b[0m\u001b[0;34m,\u001b[0m\u001b[0;34m\u001b[0m\u001b[0;34m\u001b[0m\u001b[0m\n",
      "\u001b[1;32m    278 \u001b[0m                        end_time=(psth_end+eeg_buffer+align_adjust)/1000).read()\n",
      "\n"
     ]
    },
    {
     "name": "stdin",
     "output_type": "stream",
     "text": [
      "ipdb>  contacts.contact.values\n"
     ]
    },
    {
     "name": "stdout",
     "output_type": "stream",
     "text": [
      "array([  1,   2,   3,   4,   5,   6,   7,   8,   9,  10,  11,  12,  13,\n",
      "        14,  15,  16,  17,  18,  19,  20,  21,  22,  23,  24,  25,  26,\n",
      "        27,  28,  29,  30,  31,  32,  33,  34,  35,  36,  37,  38,  39,\n",
      "        40,  41,  42,  43,  44,  45,  46,  47,  48,  49,  50,  51,  52,\n",
      "        53,  54,  65,  66,  67,  68,  69,  70,  71,  72,  73,  74,  75,\n",
      "        76,  77,  78,  79,  80,  81,  82,  83,  84,  85,  86,  87,  88,\n",
      "        89,  90,  91,  92,  93,  94,  95,  96,  97,  98,  99, 100, 101,\n",
      "       102, 103, 104, 105, 106, 107, 108, 109, 110, 111, 112, 113, 114,\n",
      "       115, 116, 117, 118, 129, 130, 131, 132, 133, 134, 135, 136, 137,\n",
      "       138, 139, 140, 141, 142, 143, 144, 145, 146, 147, 148, 149, 150,\n",
      "       151, 152, 153, 154, 155, 156, 157, 158, 159, 160, 161, 162, 163,\n",
      "       164, 165, 166, 167, 168, 169, 170, 171, 172, 173, 174, 175, 176,\n",
      "       177, 178, 179, 180, 181, 182,  55,  56,  57,  58,  59,  60,  61,\n",
      "        62,  63,  64, 119, 120, 121, 122, 123, 124, 125, 126, 127, 128,\n",
      "       183, 184, 185, 186, 187, 188, 189, 190, 223, 224, 225, 226, 227,\n",
      "       228, 229, 230, 231, 232, 233, 234, 235, 236, 237, 238, 239, 240,\n",
      "       241, 242, 243, 244, 245, 246, 247, 248, 258, 259])\n"
     ]
    },
    {
     "name": "stdin",
     "output_type": "stream",
     "text": [
      "ipdb>  contacts.description.str\n"
     ]
    },
    {
     "name": "stdout",
     "output_type": "stream",
     "text": [
      "<pandas.core.strings.accessor.StringMethods object at 0x2aee97a88790>\n"
     ]
    },
    {
     "name": "stdin",
     "output_type": "stream",
     "text": [
      "ipdb>  contacts.description\n"
     ]
    },
    {
     "name": "stdout",
     "output_type": "stream",
     "text": [
      "0         Anterior hippocampus\n",
      "1      Anterior hippocampus/WM\n",
      "2                           WM\n",
      "3                           WM\n",
      "4                           WM\n",
      "                ...           \n",
      "213                        OUT\n",
      "214                           \n",
      "215                           \n",
      "216                           \n",
      "217                           \n",
      "Name: description, Length: 218, dtype: object\n"
     ]
    },
    {
     "name": "stdin",
     "output_type": "stream",
     "text": [
      "ipdb>  np.unique(contacts.description)\n"
     ]
    },
    {
     "name": "stdout",
     "output_type": "stream",
     "text": [
      "array(['', 'Amygdala', 'Angular', 'Anterior cingulate',\n",
      "       'Anterior cingulate/Sulcus', 'Anterior hippocampus',\n",
      "       'Anterior hippocampus/WM', 'Anterior insula',\n",
      "       'Anterior insula/sulcus', 'Anterior orbital',\n",
      "       'Anterior precuneus/Marginal sulcus', 'Collateral sulcus/Fusiform',\n",
      "       'Entorhinal', 'Entorhinal/WM', 'Frontal operculum',\n",
      "       'Fusiform anterior', 'Gyrus rectus', 'Heschl’s',\n",
      "       'IFG parc orbitalis', 'Lateral TO sulcus', 'Lateral orbital',\n",
      "       'MFG pre frontal', 'MFG pre frontal vs pre motor',\n",
      "       'MFG/SFS pre frontal', 'MFG/SFS pre frontal vs pre motor', 'MTG',\n",
      "       'MTG anterior', 'MTG posterior', 'MTG posterior vs OUT',\n",
      "       'Medial orbital', 'OUT', 'Olfactory sulcus',\n",
      "       'PHG/collateral sulcus', 'Posterior cingulate',\n",
      "       'Posterior hippocampus', 'Posterior insula', 'Precuneus',\n",
      "       'SFG anterior', 'SFG anterior/SFS', 'SFG mesial anterior',\n",
      "       'SFG mesial pre frontal', 'SFG pre frontal', 'SFG pre frontal/SFS',\n",
      "       'SFG pre-frontal/sulcus', 'SFG/SFS anterior',\n",
      "       'SFG/SFS pre frontal vs pre motor', 'SFS',\n",
      "       'SFS pre frontal vs pre motor', 'SFS/MFG pre frontal',\n",
      "       'SFS/SFG pre frontal', 'SMG', 'SPL', 'SPL/WM', 'SPL/sulcus', 'STG',\n",
      "       'STS/MTG', 'STS/MTG anterior', 'STS/STG', 'Temporal pole', 'WM',\n",
      "       'WM/MFG pre frontal', 'WM/Medial orbital',\n",
      "       'WM/Posterior cingulate', 'WM/Precuneus', 'WM/SFG anterior',\n",
      "       'WM/SFG pre frontal', 'WM/SMG', 'WM/STG', 'WM/STS', 'WM/STS/MTG',\n",
      "       'WM/STS/STG', 'WM/pre-SMA', 'WM’SFG/SFS pre frontal vs pre motor',\n",
      "       'pre-SMA'], dtype=object)\n"
     ]
    },
    {
     "name": "stdin",
     "output_type": "stream",
     "text": [
      "ipdb>  contacts.description.str.contains('hippocampus')\n"
     ]
    },
    {
     "name": "stdout",
     "output_type": "stream",
     "text": [
      "0       True\n",
      "1       True\n",
      "2      False\n",
      "3      False\n",
      "4      False\n",
      "       ...  \n",
      "213    False\n",
      "214    False\n",
      "215    False\n",
      "216    False\n",
      "217    False\n",
      "Name: description, Length: 218, dtype: bool\n"
     ]
    },
    {
     "name": "stdin",
     "output_type": "stream",
     "text": [
      "ipdb>  contacts.description.str.contains('hippocampus') & contacts.description.str.contains('Anterior')\n"
     ]
    },
    {
     "name": "stdout",
     "output_type": "stream",
     "text": [
      "0       True\n",
      "1       True\n",
      "2      False\n",
      "3      False\n",
      "4      False\n",
      "       ...  \n",
      "213    False\n",
      "214    False\n",
      "215    False\n",
      "216    False\n",
      "217    False\n",
      "Name: description, Length: 218, dtype: bool\n"
     ]
    },
    {
     "name": "stdin",
     "output_type": "stream",
     "text": [
      "ipdb>  q\n"
     ]
    },
    {
     "ename": "BdbQuit",
     "evalue": "",
     "output_type": "error",
     "traceback": [
      "\u001b[0;31m---------------------------------------------------------------------------\u001b[0m",
      "\u001b[0;31mBdbQuit\u001b[0m                                   Traceback (most recent call last)",
      "\u001b[0;32m<ipython-input-2-ddaaacac9f17>\u001b[0m in \u001b[0;36m<module>\u001b[0;34m\u001b[0m\n\u001b[1;32m    271\u001b[0m         \u001b[0meeg_events\u001b[0m\u001b[0;34m[\u001b[0m\u001b[0;34m'eegfile'\u001b[0m\u001b[0;34m]\u001b[0m \u001b[0;34m=\u001b[0m \u001b[0mbase_name\u001b[0m\u001b[0;34m\u001b[0m\u001b[0;34m\u001b[0m\u001b[0m\n\u001b[1;32m    272\u001b[0m \u001b[0;34m\u001b[0m\u001b[0m\n\u001b[0;32m--> 273\u001b[0;31m         \u001b[0;32mimport\u001b[0m \u001b[0mipdb\u001b[0m\u001b[0;34m;\u001b[0m \u001b[0mipdb\u001b[0m\u001b[0;34m.\u001b[0m\u001b[0mset_trace\u001b[0m\u001b[0;34m(\u001b[0m\u001b[0;34m)\u001b[0m\u001b[0;34m\u001b[0m\u001b[0;34m\u001b[0m\u001b[0m\n\u001b[0m\u001b[1;32m    274\u001b[0m \u001b[0;34m\u001b[0m\u001b[0m\n\u001b[1;32m    275\u001b[0m         eeg_ptsa = EEGReader(eeg_events.to_records(),\n",
      "\u001b[0;32m~/anaconda3/envs/env1/lib/python3.7/site-packages/IPython/core/displayhook.py\u001b[0m in \u001b[0;36m__call__\u001b[0;34m(self, result)\u001b[0m\n\u001b[1;32m    250\u001b[0m         \u001b[0msys\u001b[0m\u001b[0;34m.\u001b[0m\u001b[0mstdout\u001b[0m\u001b[0;34m.\u001b[0m\u001b[0mflush\u001b[0m\u001b[0;34m(\u001b[0m\u001b[0;34m)\u001b[0m\u001b[0;34m\u001b[0m\u001b[0;34m\u001b[0m\u001b[0m\n\u001b[1;32m    251\u001b[0m \u001b[0;34m\u001b[0m\u001b[0m\n\u001b[0;32m--> 252\u001b[0;31m     \u001b[0;32mdef\u001b[0m \u001b[0m__call__\u001b[0m\u001b[0;34m(\u001b[0m\u001b[0mself\u001b[0m\u001b[0;34m,\u001b[0m \u001b[0mresult\u001b[0m\u001b[0;34m=\u001b[0m\u001b[0;32mNone\u001b[0m\u001b[0;34m)\u001b[0m\u001b[0;34m:\u001b[0m\u001b[0;34m\u001b[0m\u001b[0;34m\u001b[0m\u001b[0m\n\u001b[0m\u001b[1;32m    253\u001b[0m         \"\"\"Printing with history cache management.\n\u001b[1;32m    254\u001b[0m \u001b[0;34m\u001b[0m\u001b[0m\n",
      "\u001b[0;32m~/anaconda3/envs/env1/lib/python3.7/bdb.py\u001b[0m in \u001b[0;36mtrace_dispatch\u001b[0;34m(self, frame, event, arg)\u001b[0m\n\u001b[1;32m     88\u001b[0m             \u001b[0;32mreturn\u001b[0m \u001b[0mself\u001b[0m\u001b[0;34m.\u001b[0m\u001b[0mdispatch_line\u001b[0m\u001b[0;34m(\u001b[0m\u001b[0mframe\u001b[0m\u001b[0;34m)\u001b[0m\u001b[0;34m\u001b[0m\u001b[0;34m\u001b[0m\u001b[0m\n\u001b[1;32m     89\u001b[0m         \u001b[0;32mif\u001b[0m \u001b[0mevent\u001b[0m \u001b[0;34m==\u001b[0m \u001b[0;34m'call'\u001b[0m\u001b[0;34m:\u001b[0m\u001b[0;34m\u001b[0m\u001b[0;34m\u001b[0m\u001b[0m\n\u001b[0;32m---> 90\u001b[0;31m             \u001b[0;32mreturn\u001b[0m \u001b[0mself\u001b[0m\u001b[0;34m.\u001b[0m\u001b[0mdispatch_call\u001b[0m\u001b[0;34m(\u001b[0m\u001b[0mframe\u001b[0m\u001b[0;34m,\u001b[0m \u001b[0marg\u001b[0m\u001b[0;34m)\u001b[0m\u001b[0;34m\u001b[0m\u001b[0;34m\u001b[0m\u001b[0m\n\u001b[0m\u001b[1;32m     91\u001b[0m         \u001b[0;32mif\u001b[0m \u001b[0mevent\u001b[0m \u001b[0;34m==\u001b[0m \u001b[0;34m'return'\u001b[0m\u001b[0;34m:\u001b[0m\u001b[0;34m\u001b[0m\u001b[0;34m\u001b[0m\u001b[0m\n\u001b[1;32m     92\u001b[0m             \u001b[0;32mreturn\u001b[0m \u001b[0mself\u001b[0m\u001b[0;34m.\u001b[0m\u001b[0mdispatch_return\u001b[0m\u001b[0;34m(\u001b[0m\u001b[0mframe\u001b[0m\u001b[0;34m,\u001b[0m \u001b[0marg\u001b[0m\u001b[0;34m)\u001b[0m\u001b[0;34m\u001b[0m\u001b[0;34m\u001b[0m\u001b[0m\n",
      "\u001b[0;32m~/anaconda3/envs/env1/lib/python3.7/bdb.py\u001b[0m in \u001b[0;36mdispatch_call\u001b[0;34m(self, frame, arg)\u001b[0m\n\u001b[1;32m    133\u001b[0m             \u001b[0;32mreturn\u001b[0m \u001b[0mself\u001b[0m\u001b[0;34m.\u001b[0m\u001b[0mtrace_dispatch\u001b[0m\u001b[0;34m\u001b[0m\u001b[0;34m\u001b[0m\u001b[0m\n\u001b[1;32m    134\u001b[0m         \u001b[0mself\u001b[0m\u001b[0;34m.\u001b[0m\u001b[0muser_call\u001b[0m\u001b[0;34m(\u001b[0m\u001b[0mframe\u001b[0m\u001b[0;34m,\u001b[0m \u001b[0marg\u001b[0m\u001b[0;34m)\u001b[0m\u001b[0;34m\u001b[0m\u001b[0;34m\u001b[0m\u001b[0m\n\u001b[0;32m--> 135\u001b[0;31m         \u001b[0;32mif\u001b[0m \u001b[0mself\u001b[0m\u001b[0;34m.\u001b[0m\u001b[0mquitting\u001b[0m\u001b[0;34m:\u001b[0m \u001b[0;32mraise\u001b[0m \u001b[0mBdbQuit\u001b[0m\u001b[0;34m\u001b[0m\u001b[0;34m\u001b[0m\u001b[0m\n\u001b[0m\u001b[1;32m    136\u001b[0m         \u001b[0;32mreturn\u001b[0m \u001b[0mself\u001b[0m\u001b[0;34m.\u001b[0m\u001b[0mtrace_dispatch\u001b[0m\u001b[0;34m\u001b[0m\u001b[0;34m\u001b[0m\u001b[0m\n\u001b[1;32m    137\u001b[0m \u001b[0;34m\u001b[0m\u001b[0m\n",
      "\u001b[0;31mBdbQuit\u001b[0m: "
     ]
    }
   ],
   "source": [
    "import pandas as pd\n",
    "import numpy as np\n",
    "import os\n",
    "import sys; sys.path.append('/home1/john/johnModules')\n",
    "import dill, pickle\n",
    "import mne\n",
    "from copy import copy\n",
    "from scipy.signal import firwin,filtfilt,kaiserord\n",
    "from ptsa.data.filters import ButterworthFilter\n",
    "from brain_labels import MTL_labels, LTC_labels, PFC_labels, OTHER_labels, ALL_labels # all location labels\n",
    "%load_ext autoreload\n",
    "%autoreload\n",
    "from SWRmodule import CMLReadDFRow,get_bp_tal_struct,get_elec_regions,ptsa_to_mne\n",
    "from general import superVstack\n",
    "from SWRmodule import downsampleBinary,LogDFExceptionLine,getBadChannels,getStartEndArrays,getSecondRecalls,\\\n",
    "                    removeRepeatedRecalls,getSWRpathInfo,selectRecallType,getMTLregions,\\\n",
    "                    getOutputPositions,getRecallsBeforeIntrusions,getSerialposOfRecalls,getElectrodeRanges,\\\n",
    "                    detectRipplesHamming,detectRipplesButter\n",
    "import pingouin as pg\n",
    "HPC_labels,ENT_labels,PHC_labels = getMTLregions(MTL_labels)\n",
    "\n",
    "### PARAMS ###\n",
    "\n",
    "save_values = 1\n",
    "\n",
    "selected_period = 'whole_retrieval' \n",
    "# 'surrounding_recall': aligned to time of free recall \n",
    "# 'whole_retrieval': aligned to beginning of retrieval period (beep_off)\n",
    "# 'encoding': aligned to word_on \n",
    "# 'math': aligned to math problem on\n",
    "# 'math_retrieval': aligned to math problem key-in time\n",
    "\n",
    "anterior_posterior = 0\n",
    "# 0 for all hippocampus\n",
    "# 1 for anterior hippocampus only (including WM)\n",
    "# 2 for posterior hippocampus only (including WM)\n",
    "\n",
    "# there are three periods this code is set up to look at: periods aligned to recall, the entire retrieval period, and the encoding period\n",
    "recall_type_switch = 0 # how do we select recalls?? Numbers 0:3\n",
    "# 0: Original analysis taking only recalls without a recall in 2 s IRI before them\n",
    "# 1: Take these same recalls, but keep only those WITH a recall within 2 s after they occur\n",
    "# 2: test condition where we look at second recalls within IRI ONLY\n",
    "# 3: ISOLATED only!\n",
    "# 4: only first recall of every retrieval period\n",
    "# 5: take only those recalls that come second in retrieval period within 2 s of first retrieval\n",
    "# 6: take only NOT first recall of every retrieval period\n",
    "# 7: take only NOT first recall AND ISOLATED trials (this should REALLY maximize SWR bump)\n",
    "# 10: same as 0 but with no IRI (mostly just to see number of recalls)\n",
    "\n",
    "selected_region = HPC_labels #HPC_labels # ENT_labels+HPC_labels\n",
    "\n",
    "remove_soz_ictal = 0 # 0 for nothing, 1 for remove SOZ, 2 for keep ONLY SOZ ###\n",
    "\n",
    "min_ripple_rate = 0.1 # Hz.\n",
    "max_ripple_rate = 1.5 # Hz.\n",
    "max_trial_by_trial_correlation = 0.05 # if ripples correlated more than this remove them\n",
    "max_electrode_by_electrode_correlation = 1.0 #0.2 #???\n",
    "\n",
    "filter_type = 'hamming' # see local version below for details \n",
    "# butter (Vaz algorithm)\n",
    "# hamming (Norman algorithm)\n",
    "# hamming125200 (Norman algorithm meant to capture \"true\" ripple frequency per Sullivan...Buzsaki 2011\n",
    "# hamming140250 (Same idea, but higher bands)\n",
    "\n",
    "\n",
    "## patient info ## (did this manually since there are so many inconsistencies in behavior/eeg labeling)\n",
    "\n",
    "\n",
    "sub_selection = range(11) #[5] # # [0],[1],range(11), [10]\n",
    "\n",
    "\n",
    "subs = ['UT159', 'UT162', 'UT165',\n",
    "        'UT167', 'UT178', 'UT185',\n",
    "        'UT191', 'UT195', 'UT199',\n",
    "        'UT238', 'UT255'] # UT194 is unusable\n",
    "subs = np.array(subs)[sub_selection]\n",
    "print(subs)\n",
    "\n",
    "# manually assigning the actual session numbers in the behavioral folder in home/eeg/UTXXX/\n",
    "session_nums = [ [1,2],[0,1],[0,1],\n",
    "                 [0,1],[0,1],[0,1],\n",
    "                 [0,1],[1,2],[1,2],\n",
    "                 [0,1],[0,1] \n",
    "               ] # note: the missing 0s are FR sessions not in blinded condition (UT159,UT195,UT199)\n",
    "session_nums = np.array(session_nums)[sub_selection]\n",
    "\n",
    "scopo_indicator = [ [0,1],[1,0],[0,1],\n",
    "                   [0,1],[1,0],[1,0],\n",
    "                   [0,1],[1,0],[0,1],\n",
    "                   [1,0],[0,1]\n",
    "                  ] # matches session number\n",
    "scopo_indicator = np.array(scopo_indicator)[sub_selection]\n",
    "\n",
    "# the organization of the behavioral folders does not match the EEG folders so use these \"experiment\" names to get the EEG\n",
    "# note that the folder names come from data/eeg/UTXXX/behavioral\n",
    "behav_names = [ ['FR1_scopolamine','FR1_scopolamine'],['FR1_scopolamine','FR1_scopolamine'],['FR1_scopolamine','FR1_scopolamine'],\n",
    "               ['FR1','FR1_scopolamine'],['FR1_scopolamine','FR1_scopolamine'],['FR1_scopolamine','FR1_scopolamine'],\n",
    "               ['FR1_scopolamine','FR1_scopolamine'],['FR1_scopolamine','FR1_scopolamine'],['FR1_scopolamine','FR1_scopolamine'],\n",
    "               ['FR1_scopolamine','FR1_scopolamine'],['FR1_scopolamine','FR1_scopolamine']\n",
    "              ]\n",
    "behav_names = np.array(behav_names)[sub_selection]\n",
    "\n",
    "# these come from the EEG filenames in data/eeg/UTXXX/eeg.noreref/UTXXX_TAKENAMEFROMHERE_DATE.001\n",
    "eeg_names = [ ['FR1_scopolamine','FR1_scopolamine'],['FR1_Scopolamine','FR1'],['FR1','FR1'],\n",
    "              ['FR1','FR1'],['FR1_scop','FR1_scop'],['FR1_scop','FR1_scop'],\n",
    "              ['FR1_scop','FR1_scop'],['FR1_scop','FR1_scop'],['FR1_scop','FR1_scop'],\n",
    "              ['FR1_scop','FR1_scop'],['FR1_scopolamine','FR1_scopolamine']\n",
    "            ]\n",
    "eeg_names  = np.array(eeg_names)[sub_selection]\n",
    "\n",
    "## recall params\n",
    "recall_minimum = 2000\n",
    "IRI = 2000 # inter-ripple interval...remove ripples within this range (keep only first one and remove those after it)\n",
    "retrieval_whole_time = 30000\n",
    "# encoding params\n",
    "encoding_time = 2300 # actual preentation is 1.6 s + 0.75-1.0 s so keep +700 ms so can plot +500 ms\n",
    "pre_encoding_time = -700 # since minimum ISI is 0.75 s let's only plot the 500 ms before word on with a 200 ms buffer\n",
    "# these aren't likely to be changed:\n",
    "desired_sample_rate = 500. # in Hz. This seems like lowerst common denominator recording freq.\n",
    "eeg_buffer = 300 # buffer to add to either end of IRI when processing eeg #**\n",
    "\n",
    "soz_keep = [0,1] # 0 are good elecs and 1 are SOZ elecs. Never keep 2 (bad leads) ###\n",
    "if remove_soz_ictal == 1:\n",
    "    soz_keep = [0]\n",
    "elif remove_soz_ictal == 2:\n",
    "    soz_keep = [1]\n",
    "\n",
    "### END PARAMS ###\n",
    "\n",
    "\n",
    "if 'entorhinal' in selected_region and 'left hippocampus' in selected_region:\n",
    "    region_name = 'HPC_ENT'\n",
    "elif 'entorhinal' in selected_region:\n",
    "    region_name = 'ENT'\n",
    "elif 'left hippocampus' in selected_region:\n",
    "    region_name = 'HPC'\n",
    "if selected_period == 'surrounding_recall':\n",
    "    psth_start = -IRI # only makes sense to look at period <= IRI\n",
    "    psth_end = IRI # how long to grab data after recall\n",
    "elif selected_period == 'whole_retrieval':\n",
    "    psth_start = -IRI # doesn't have to be IRI just 2000 ms is convenient\n",
    "    psth_end = IRI+retrieval_whole_time\n",
    "elif selected_period == 'encoding':\n",
    "    psth_start = pre_encoding_time\n",
    "    psth_end = encoding_time\n",
    "elif (selected_period == 'math') | (selected_period == 'math_retrieval'): #$$\n",
    "    psth_start = -2000 # just use 2000 since math problems are actually like 5 s apart typically\n",
    "    psth_end = 2000  \n",
    "    \n",
    "# loop across subjects and sessions    \n",
    "for i_sub,sub in enumerate(subs):\n",
    "\n",
    "    for i_session,session in enumerate(session_nums[i_sub]): # sessions numbers were manually added into a list of lists above    \n",
    "\n",
    "        ripple_array = []; fr_array = []; \n",
    "        trial_nums = []; \n",
    "        session_ct = 0; channel_ct = 0; total_channel_ct = 0\n",
    "        HPC_names = []; sub_names = []; sub_sess_names = []\n",
    "        electrodes_per_session = []\n",
    "        total_lists = 0; total_recalls = 0; kept_recalls = 0\n",
    "        align_adjust = 0\n",
    "        ent_elec_ct = []; sd_regions = []; not_sd_regions = []\n",
    "        ripple_ied_accum_ct = []\n",
    "        time_add_save = [];             \n",
    "        encoded_word_key_array = []\n",
    "        list_num_key = []\n",
    "\n",
    "        list_recall_num_array = []; rectime_array = []; recall_before_intrusion_array = [] # new ones added 2020-11-24\n",
    "        serialpos_array = [] # used to be encoding info but commandeered for surrounding_recalls ~~~\n",
    "        recall_position_array = []; recall_index_array = []\n",
    "\n",
    "        trial_by_trial_correlation = []; elec_by_elec_correlation = []\n",
    "        elec_ripple_rate_array = []\n",
    "\n",
    "        channel_coords = []; electrode_labels = []; channel_nums = []\n",
    "\n",
    "#         try:\n",
    "\n",
    "        ### First get the recall and word events ###\n",
    "\n",
    "        evs = pd.DataFrame.from_records( read_single_matlab_matrix_as_numpy_structured_array(\n",
    "            '/data/eeg/'+sub+'/behavioral/'+behav_names[i_sub][i_session]+'/session_'+str(session)+'/events.mat', 'events') )   \n",
    "\n",
    "        # UTSW data annoyingly uses 'item' instead of 'item_name'\n",
    "        evs = evs.rename(columns={\"item\": \"item_name\"})\n",
    "\n",
    "        # 1) change evs.recalled to False 2) comment out nonrepeat_indicator>0 for good_recalls = (or it removes all the -1s) \n",
    "        # 3) set getOutputPositions to [] 4) change save name at bottom to '_intrusions.p'\n",
    "        evs_free_recall = evs[(evs.type=='REC_WORD') & (evs.intrusion==0)] # recalled word AND correct (from this list...False for instrusions).        \n",
    "        word_evs = evs[evs['type']=='WORD'] # get words \n",
    "\n",
    "        if scopo_indicator[i_sub][i_session] == 1:\n",
    "            print(str(len(evs_free_recall))+' recalled words for SCOPO for '+sub+'-'+str(session))\n",
    "        else:\n",
    "            print(str(len(evs_free_recall))+' recalled words for CONTROL for '+sub+'-'+str(session))                \n",
    "        print(str(len(np.unique(word_evs.list)))+' lists')\n",
    "\n",
    "#             # curious to grab MATH too while I'm here\n",
    "#             math_evs = pd.DataFrame.from_records( read_single_matlab_matrix_as_numpy_structured_array(\n",
    "#                 '/data/eeg/'+sub+'/behavioral/'+behav_names[i_sub][i_session]+'/session_'+str(session)+'/MATH_events.mat','events') )\n",
    "\n",
    "\n",
    "        # select which recalls??         \n",
    "        [recall_selection_name,selected_recalls_idxs] = selectRecallType(recall_type_switch,evs_free_recall,IRI,recall_minimum)\n",
    "\n",
    "        _,nonrepeat_indicator = removeRepeatedRecalls(evs_free_recall,word_evs) # remove free recalls that happened more than once\n",
    "\n",
    "        # let's make sure remaining recalls are not repeated, have eeg, and are not from non-practice lists\n",
    "        good_recalls = selected_recalls_idxs & np.array(evs_free_recall.eegoffset>-1) & np.array(evs_free_recall.list > -1) & (nonrepeat_indicator>0)\n",
    "        evs_free_recall = evs_free_recall[good_recalls]\n",
    "\n",
    "        # get temp key of recalls that lead to intrusions ~~~\n",
    "        pre_intrusion_recalls = getRecallsBeforeIntrusions(evs,evs_free_recall)\n",
    "        \n",
    "        if selected_period == 'surrounding_recall':\n",
    "            if len(evs_free_recall)<=1: #...and that any recalls are left!\n",
    "                continue\n",
    "\n",
    "        # get output position in each list for this session's recalls\n",
    "        session_corrected_list_ops = getOutputPositions(evs,evs_free_recall)\n",
    "\n",
    "\n",
    "        ### Get UTSW localizations ###\n",
    "\n",
    "        contacts = pd.DataFrame.from_records(np.recfromtxt('/data/eeg/'+sub+'/eeg.noreref/jacksheet.txt', encoding='utf-8'))\n",
    "        contacts = contacts.rename(columns={'f0':'contact', 'f1':'label'})        \n",
    "\n",
    "        with open('/data/eeg/'+sub+'/docs/'+sub+'_depth_el_info.txt', 'r') as f:\n",
    "            lines = f.readlines()\n",
    "        lines = [line.rstrip('\\n') for line in lines]\n",
    "\n",
    "        depth_info = pd.DataFrame(columns=['label', 'description'])\n",
    "        for line in lines:\n",
    "            split = line.split()\n",
    "            try:\n",
    "                depth_info = depth_info.append({'label':split[1], 'description':' '.join(split[2:])}, ignore_index=True)\n",
    "            except IndexError:\n",
    "                continue\n",
    "        contacts = depth_info.merge(contacts, how='inner') # note it's contacts and not pairs\n",
    "\n",
    "\n",
    "        ###  Load eeg ###\n",
    "\n",
    "        if selected_period == 'surrounding_recall':\n",
    "            total_recalls = total_recalls + len(evs_free_recall) # get total recalls from lists\n",
    "            total_lists = total_lists + len(evs[evs.type=='WORD'].list.unique()) # get total lists\n",
    "            kept_recalls = kept_recalls + len(evs_free_recall)\n",
    "            eeg_events = evs_free_recall\n",
    "\n",
    "#             # fix EEG offset due to Unity implementation error\n",
    "#             eeg_events = correctEEGoffset(sub,session,exp,reader,eeg_events) # I dn't think UTSW has this error\n",
    "\n",
    "        elif selected_period == 'whole_retrieval':\n",
    "            # grab whole retrieval periods for a better baseline of SWRs\n",
    "            evs_rets = evs[evs.type=='REC_START']\n",
    "            evs_rets = evs_rets[evs_rets.list > -1] # remove practice lists **  \n",
    "\n",
    "            # remove trials that aren't working\n",
    "            if (sub == 'UT178') or ((sub == 'UT238') and (session == 1)):\n",
    "                evs_rets = evs_rets[evs_rets.eegoffset > 0] # 5 RET_STARTs at end of one session has eegoffset=0, so can't use -1\n",
    "            else:\n",
    "                evs_rets = evs_rets[evs_rets.eegoffset > -1] # any trial with no eeg gets removed by cmlreaders so it's not in ripple_array \n",
    "            if (sub == 'UT195') and (session==1):\n",
    "                evs_rets = evs_rets[:-1] # this trial doesn't load\n",
    "\n",
    "            eeg_events = evs_rets\n",
    "\n",
    "\n",
    "        # We want to get the base file name in a clean/systematic way, probably by globbing on the experiment_session name \n",
    "        # (except that experiment names were inconsistent so I manually wrote them out above)\n",
    "        root = '/data/eeg'\n",
    "        paths = glob(os.path.join(root, sub, 'eeg.noreref', sub+'_'+eeg_names[i_sub][i_session]+'_'+str(session)+'*'), recursive=True)\n",
    "        file_base = os.path.basename(paths[0]).split('.')[0]\n",
    "        base_name = os.path.join(os.path.dirname(paths[0]), file_base)\n",
    "\n",
    "        eeg_events['eegfile'] = base_name\n",
    "        \n",
    "        import ipdb; ipdb.set_trace()\n",
    "\n",
    "        if anterior_posterior == 0:\n",
    "            eeg_ptsa = EEGReader(eeg_events.to_records(),\n",
    "                            channels= contacts.contact.values[contacts.description.str.contains('hippocampus')],\n",
    "                            start_time=(psth_start-eeg_buffer+align_adjust)/1000,\n",
    "                            end_time=(psth_end+eeg_buffer+align_adjust)/1000).read()\n",
    "        elif anterior_posterior == 1:\n",
    "            eeg_ptsa = EEGReader(eeg_events.to_records(),\n",
    "                            channels= contacts.contact.values[contacts.description.str.contains('hippocampus') & \n",
    "                                                              contacts.description.str.contains('Anterior')],\n",
    "                            start_time=(psth_start-eeg_buffer+align_adjust)/1000,\n",
    "                            end_time=(psth_end+eeg_buffer+align_adjust)/1000).read()            \n",
    "        elif anterior_posterior == 2:\n",
    "            eeg_ptsa = EEGReader(eeg_events.to_records(),\n",
    "                            channels= contacts.contact.values[contacts.description.str.contains('hippocampus') &\n",
    "                                                              contacts.description.str.contains('Posterior')],\n",
    "                            start_time=(psth_start-eeg_buffer+align_adjust)/1000,\n",
    "                            end_time=(psth_end+eeg_buffer+align_adjust)/1000).read()\n",
    "            \n",
    "        # switch to event X channel X time (to match reader.load_eeg)\n",
    "        eeg_ptsa = eeg_ptsa.transpose('events','channels','time')\n",
    "        eeg_ptsa = eeg_ptsa.rename({'events':'event','channels':'channel'}) # to get same naming conventions from reader.load_eeg\n",
    "\n",
    "        sr = eeg_ptsa.samplerate        \n",
    "        sr = int(sr.values)\n",
    "\n",
    "        # If using Vaz algo can't do >250 Hz IED detection so don't use this sub\n",
    "        if (sr<990) and filter_type=='butter': #^^^\n",
    "            print('Cannot use '+sub+' since using Vaz algo and sr ≤ 500!')\n",
    "            continue        \n",
    "\n",
    "        # if weird samplerate, add a few ms to make the load work\n",
    "        if (499<sr<500) | (998<sr<1000):\n",
    "            time_add = 1\n",
    "            if (499<sr<500):\n",
    "                sr = 500\n",
    "            elif (998<sr<1000):\n",
    "                sr = 1000\n",
    "            while eeg.shape[2] < (psth_end-psth_start+2*eeg_buffer)/(1000/sr):\n",
    "                eeg = reader.load_eeg(events=eeg_events, rel_start=psth_start-eeg_buffer+align_adjust, \n",
    "                                      rel_stop=psth_end+eeg_buffer+time_add+align_adjust, clean=True, scheme=pairs)\n",
    "                if time_add>50: #**\n",
    "                    continue\n",
    "                time_add+=1\n",
    "            time_add_save.append(time_add)\n",
    "            eeg.samplerate = sr # need to overwrite those that were just fixed\n",
    "\n",
    "#             eeg_ptsa = eeg.to_ptsa() # already ptsa when using EEGReader\n",
    "#             eeg = None # clear variable\n",
    "#     #         break;break;break # to look at eeg_ptsa (plots at bottom of notebook) before filtering\n",
    "\n",
    "        # line removal...don't do 120 for now\n",
    "        eeg_ptsa = ButterworthFilter(timeseries=eeg_ptsa, freq_range=[58.,62.], filt_type='stop', order=4).filter()\n",
    "        eeg_ptsa = ButterworthFilter(timeseries=eeg_ptsa, freq_range=[178.,182.], filt_type='stop', order=4).filter()\n",
    "\n",
    "        ## FILTERS ##\n",
    "        trans_width = 5. # Width of transition region, normalized so that 1 corresponds to pi radians/sample. \n",
    "        # That is, the frequency is expressed as a fraction of the Nyquist frequency.\n",
    "        ntaps = (2/3)*np.log10(1/(10*(1e-3*1e-4)))*(sr/trans_width) # gives 400 with sr=500, trans=5\n",
    "        # formula from Belanger's Digital Processing of Signals\n",
    "        # see https://dsp.stackexchange.com/questions/31066/how-many-taps-does-an-fir-filter-need for how to use\n",
    "\n",
    "        if sr == 512 or sr == 1024 or sr == 1023.999: # last one fixes R1221P @@\n",
    "            ntaps = np.ceil(ntaps)\n",
    "        FIR_bandstop = firwin(int(ntaps+1), [70.,178.], fs=sr, window='hamming',pass_zero='bandstop')\n",
    "    #     FIR_bandpass = firwin(int(ntaps), [70.,180.], fs=sr, window='hamming',pass_zero='bandpass')\n",
    "        bandstop_25_60 = firwin(int(ntaps+1), [20.,58.], fs=sr, window='hamming',pass_zero='bandstop') # Norman 2019 IED\n",
    "    #     bandstop_60_80 = firwin(int(ntaps+1), [60.,80.], fs=sr, window='hamming',pass_zero='bandstop') # Gelinas 2016 IED\n",
    "        nyquist = sr/2\n",
    "        ntaps40, beta40 = kaiserord(40, trans_width/nyquist)\n",
    "        kaiser_40lp_filter = firwin(ntaps40, cutoff=40, window=('kaiser', beta40), scale=False, nyq=nyquist, pass_zero='lowpass')\n",
    "\n",
    "        # filter for ripples using filter selected above\n",
    "\n",
    "        if filter_type == 'hamming':\n",
    "            # need to subtract out to get the filtered signal since default is bandstop but want to keep it as PTSA        \n",
    "            eeg_rip_band = eeg_ptsa-filtfilt(FIR_bandstop,1.,eeg_ptsa) \n",
    "            #         eeg_rip_band = filtfilt(FIR_bandpass,1.,eeg_ptsa) # can't use ptsa_to_mne this way so use eeg - bandstopped signal\n",
    "            eeg_ied_band = eeg_ptsa-filtfilt(bandstop_25_60,1.,eeg_ptsa)\n",
    "        elif filter_type == 'butter':\n",
    "            eeg_rip_band = ButterworthFilter(timeseries=eeg_ptsa, freq_range=[80.,120.], filt_type='bandpass',order=2).filter()\n",
    "#             if sr == 500: # dropped below 250 Hz because too close Nyquist\n",
    "#                 eeg_ied_band = ButterworthFilter(timeseries=eeg_ptsa, freq_range=250., filt_type='highpass',order=2).filter() \n",
    "#             elif sr >= 1000:    \n",
    "#                 #this seems okay since large range far from Nyquist...problem is it likely misses key events\n",
    "            eeg_ied_band = ButterworthFilter(timeseries=eeg_ptsa, freq_range=[250.,490.], filt_type='bandpass',order=2).filter() #^^^\n",
    "            eeg_raw = ptsa_to_mne(eeg_ptsa,[0,psth_end-psth_start+2*eeg_buffer])    #**  \n",
    "#         eeg_ptsa = None # clear variable # no reason to do this in local version...really for cluster\n",
    "\n",
    "        eeg_rip_band = ptsa_to_mne(eeg_rip_band,[0,psth_end-psth_start+2*eeg_buffer]) #** \n",
    "        _ = eeg_rip_band.apply_hilbert(envelope=True)\n",
    "        eeg_ied_band = ptsa_to_mne(eeg_ied_band,[0,psth_end-psth_start+2*eeg_buffer]) #** \n",
    "        _ = eeg_ied_band.apply_hilbert(envelope=True)\n",
    "\n",
    "\n",
    "        # I don't know if UTSW has bad_leads\n",
    "\n",
    "#             # get bad channel mask\n",
    "#             try:\n",
    "#                 elec_cats = reader.load('electrode_categories') # this is cool\n",
    "#             except:\n",
    "#                 if remove_soz_ictal == 1: # if no electrode_categories file then don't consisder this patient\n",
    "#                     e = 'No electrode categories for '+sub+', session '+str(session)\n",
    "#                     LogDFExceptionLine(row, e, 'SWR_get_eeg_log.txt')\n",
    "#                     continue\n",
    "#                 else:\n",
    "#                     elec_cats = []\n",
    "\n",
    "#             bad_bp_mask = getBadChannels(tal_struct,elec_cats,remove_soz_ictal)\n",
    "\n",
    "#             # this was specific to FR1/catFR1 sessions I went through manually\n",
    "#             electrode_search_range = getElectrodeRanges(elec_regions,exp,sub,session,mont)\n",
    "\n",
    "\n",
    "        region_electrode_ct = 0\n",
    "        total_electrode_ct = 0\n",
    "        session_ripple_rate_by_elec = []\n",
    "#             for channel in electrode_search_range:\n",
    "        for channel in range(np.shape(eeg_ptsa)[1]): # every channel in hippocampus due to how contacts is selected above\n",
    "\n",
    "#                 if (elec_regions[channel] in selected_region) & \\\n",
    "#                 (bad_bp_mask[channel] in soz_keep): # selecting for SOZ or not ###\n",
    "\n",
    "            total_channel_ct+=1 # total channels before artifact removal\n",
    "\n",
    "            # get data from MNE container \n",
    "            eeg_rip = eeg_rip_band.get_data()[:,channel,:]     \n",
    "            eeg_ied = eeg_ied_band.get_data()[:,channel,:]\n",
    "\n",
    "            # select detection algorithm (note that iedlogic is same for both so always run that)\n",
    "            if filter_type == 'hamming':\n",
    "                # filter IEDs \n",
    "                eeg_ied = eeg_ied**2 # already rectified now square\n",
    "                eeg_ied = filtfilt(kaiser_40lp_filter,1.,eeg_ied) # low pass filter  \n",
    "                mean1 = np.mean(eeg_ied)\n",
    "                std1 = np.std(eeg_ied)\n",
    "                iedlogic = eeg_ied>=mean1+4*std1 # Norman et al 2018            \n",
    "                # detect ripples\n",
    "                ripplelogic = detectRipplesHamming(eeg_rip,trans_width,sr,iedlogic)\n",
    "            elif filter_type == 'butter':\n",
    "                eeg_mne = eeg_raw.get_data()[:,channel,:]\n",
    "                # detect ripples\n",
    "                ripplelogic, iedlogic = detectRipplesButter(eeg_rip,eeg_ied,eeg_mne,sr)             \n",
    "\n",
    "#                 ripple_ied_accum_ct.append([sub,session,sr,sum(ripplelogic),sum(iedlogic),sum(ripplelogic2),sum(iedlogic2),\n",
    "#                                             sum(ripplelogic_enc),sum(iedlogic_enc)])\n",
    "\n",
    "            if filter_type == 'butter': # ^^^\n",
    "                desired_sample_rate = 1000 # for Vaz algo\n",
    "            if sr>desired_sample_rate: # downsampling here for anything greater than 500 (hamming) or 1000 (butter)\n",
    "                ripplelogic = downsampleBinary(ripplelogic,sr/desired_sample_rate)\n",
    "\n",
    "            # ripples are detected, so can remove buffers now #**\n",
    "            ripplelogic = ripplelogic[:,int(eeg_buffer/(1000/desired_sample_rate)):\n",
    "                                      int((psth_end-psth_start+eeg_buffer)/(1000/desired_sample_rate))]\n",
    "            \n",
    "            # skip this electrode if the ripple rate is below threshold\n",
    "            temp_start_array,_ = getStartEndArrays(ripplelogic)\n",
    "            elec_ripple_rate = sum(temp_start_array)/temp_start_array.shape[0]/((psth_end-psth_start)/1000)\n",
    "            if elec_ripple_rate < min_ripple_rate:\n",
    "                print(sub+', '+str(session)+' skipped b/c below ripple rate thresh for ch.: '+str(channel))\n",
    "                continue\n",
    "            elif elec_ripple_rate > max_ripple_rate:\n",
    "                print(sub+', '+str(session)+' skipped b/c ABOVE ripple rate thresh for ch.: '+str(channel))\n",
    "                continue # skip this electrode\n",
    "\n",
    "            # check the ripples for this electrode and make sure they're not super correlated across trials\n",
    "\n",
    "            # first, bin the array so can get more realistic correlation not dependent on ms timing\n",
    "            binned_ripplelogic = downsampleBinary(ripplelogic,10) # downsample by 10x so 10 ms bins\n",
    "            trial_ripple_df = pd.DataFrame(data=np.transpose(binned_ripplelogic))\n",
    "            num_cols = len(list(trial_ripple_df))\n",
    "            trial_ripple_df.columns = ['col_' + str(i) for i in range(num_cols)] # generate range of ints for suffixes\n",
    "            temp_tbt_corr = np.mean(pg.pairwise_corr(trial_ripple_df,method='spearman').r)\n",
    "            if temp_tbt_corr > max_trial_by_trial_correlation:\n",
    "                print(sub+', '+str(session)+' skipped b/c above trial-by-trial correlation for ch.: '+str(channel))\n",
    "                continue\n",
    "\n",
    "            ## if this electrode passes SAVE data ##\n",
    "\n",
    "            trial_by_trial_correlation.append(temp_tbt_corr) # corr b/w trials\n",
    "            elec_ripple_rate_array.append(elec_ripple_rate) # record the average ripple rate for this electrode\n",
    "\n",
    "            # append arrays across electrodes\n",
    "            ripple_array = superVstack(ripple_array,ripplelogic) # append across electrodes\n",
    "            session_ripple_rate_by_elec = superVstack(session_ripple_rate_by_elec,np.mean(binned_ripplelogic,0)) # for correlation b/w elecs below\n",
    "\n",
    "            if selected_period == 'encoding':\n",
    "                encoded_word_key_array.append(encoded_word_key) # save the key for each electrode so easier to unpack later\n",
    "                serialpos_array.append(evs_encoding_words.serialpos)\n",
    "                if len(encoded_word_key) != ripplelogic.shape[0]:\n",
    "                    e = 'Encoded word key and ripple_array dont match for '+sub+str(session)+'_'+str(channel)\n",
    "                    LogDFExceptionLine(row, e, 'SWR_get_eeg_log.txt')\n",
    "\n",
    "            elif selected_period == 'whole_retrieval':\n",
    "                # make a matrix of the times of free recall if looking at whole retrieval period\n",
    "                list_nums = eeg_events.list.unique() # count all list numbers for this session\n",
    "                temp_fr_array = np.zeros((len(list_nums),retrieval_whole_time))\n",
    "                for ln in list_nums:\n",
    "                    list_times = evs_free_recall[evs_free_recall.list==ln].rectime # I confirmed these are accurate relative to REC_START\n",
    "                    temp_fr_array[ln-list_nums[0]][np.array(list_times)] = 1 # subtract from list_nums[0] to recenter fr_array on 0 trial           \n",
    "                fr_array = superVstack(fr_array,temp_fr_array)\n",
    "\n",
    "            elif selected_period == 'surrounding_recall':    # ~~~                                \n",
    "                # adding new values 2020-11-24 for some suggested analyses from group\n",
    "\n",
    "                # key of serialpos for recalls\n",
    "                list_nums = evs_free_recall.list.unique()   \n",
    "                temp_recalls_serialpos = []\n",
    "                for ln in list_nums:\n",
    "                    temp_sp = getSerialposOfRecalls(evs_free_recall,word_evs,ln)\n",
    "                    temp_recalls_serialpos.extend(temp_sp)\n",
    "                    # recall number per list\n",
    "                    list_recall_num_array.extend(np.tile(len(temp_sp),len(temp_sp)))\n",
    "                    # recall position per list\n",
    "                    recall_position_array.extend(np.arange(len(temp_sp))+1) # 1-indexed\n",
    "                serialpos_array.extend(np.array(temp_recalls_serialpos))\n",
    "\n",
    "                # key of rectimes for recalls\n",
    "                rectime_array.extend(np.array(evs_free_recall.rectime)) \n",
    "\n",
    "                # key of recall index numbers so I can use SWR times from start_array to grab SWR-locked EEG\n",
    "                recall_index_array.extend(np.array(evs_free_recall.index))\n",
    "\n",
    "                # key of recalls before intrusions\n",
    "                recall_before_intrusion_array.extend(pre_intrusion_recalls)\n",
    "\n",
    "            elif (selected_period == 'math') | (selected_period == 'math_retrieval'):\n",
    "\n",
    "                list_nums = eeg_events.list.unique()  \n",
    "                for ln in list_nums:\n",
    "                    num_corr_math = sum(eeg_events.list==ln)\n",
    "                    list_recall_num_array.extend(np.tile(num_corr_math,num_corr_math))\n",
    "                    recall_position_array.extend(np.arange(num_corr_math+1)) # correct math position\n",
    "\n",
    "                # either way save the rectime array\n",
    "                rectime_array.extend(np.array(eeg_events.rectime)) \n",
    "                encoded_word_key_array.extend(np.array(eeg_events.test)) # record the actual math problem  \n",
    "\n",
    "            channel_ct+=1 # total channels from beginning \n",
    "            region_electrode_ct+=1 # channel ct for this session\n",
    "#                 HPC_names.append(elec_regions[channel])\n",
    "            sub_names.append(sub)\n",
    "            sub_sess_names.append(sub+'-'+str(session))\n",
    "            print('Cumulative array size after channel: '+str(channel))\n",
    "            print(ripple_array.shape)\n",
    "            trial_nums = np.append(trial_nums,ripplelogic.shape[0])\n",
    "            electrode_labels.append(contacts.iloc[channel].label) # get names of electrodes so can look for them across sessions\n",
    "            channel_nums.append(channel)\n",
    "            list_num_key.extend(eeg_events.list)\n",
    "\n",
    "            # get atlas coordinates for this electrode\n",
    "            if 'avg.x' in contacts:\n",
    "                temp_coord = np.append(pairs.iloc[channel]['avg.x'],np.append(pairs.iloc[channel]['avg.y'],pairs.iloc[channel]['avg.z']))\n",
    "            elif 'ind.x' in contacts:\n",
    "                temp_coord = np.append(pairs.iloc[channel]['ind.x'],np.append(pairs.iloc[channel]['ind.y'],pairs.iloc[channel]['ind.z']))\n",
    "            else:\n",
    "                temp_coord = np.empty(3); temp_coord[:] = np.nan\n",
    "            channel_coords.append(temp_coord)\n",
    "\n",
    "            # additional check to make sure eeg was recorded for all events\n",
    "            if selected_period == 'surrounding_recall':\n",
    "                if evs_free_recall.shape[0] != ripplelogic.shape[0]:\n",
    "                    # this happens because eeg wasn't turned on. remove eegoffset=-1 trials; I DO THIS ABOVE NOW\n",
    "                    good_evs_free_recall = evs_free_recall.eegoffset > -1\n",
    "                    session_corrected_list_ops = session_corrected_list_ops[good_evs_free_recall]\n",
    "                    e = sub+str(session)+'_still unrecorded eegs'\n",
    "                    LogDFExceptionLine(row, e, 'SWR_get_eeg_log.txt')\n",
    "#                 ordinal_position_array.extend(session_corrected_list_ops) # update for each electrode\n",
    "\n",
    "        # before we keep all the electrodes in this session, remove sessions with elecs that are highly correlated.\n",
    "        # this really only makes sense for the cluster version, since I only do a session at a time here\n",
    "        if np.sum(session_ripple_rate_by_elec)>0 and region_electrode_ct>1:\n",
    "            session_ripple_df = pd.DataFrame(data=np.transpose(session_ripple_rate_by_elec))\n",
    "            num_cols = len(list(session_ripple_df))\n",
    "            session_ripple_df.columns = ['col_' + str(i) for i in range(num_cols)] # generate range of ints for suffixes\n",
    "#             print(pg.pairwise_corr(session_ripple_df,method='spearman').r) # print the elec-by-elec correlations\n",
    "            elec_by_elec_correlation = np.mean(pg.pairwise_corr(session_ripple_df,method='spearman').r) # correlation b/w elecs\n",
    "            if elec_by_elec_correlation > max_electrode_by_electrode_correlation:\n",
    "                print('Correlation b/w electrodes too high, corr = '+str(elec_by_elec_correlation))\n",
    "            else:\n",
    "                print('good set of electrodes (not correlated with each other)')\n",
    "\n",
    "        electrodes_per_session = np.append(electrodes_per_session,region_electrode_ct)\n",
    "        session_ct+=1\n",
    "\n",
    "\n",
    "#         except Exception as e:\n",
    "#             LogDFExceptionLine(row, e, 'LocalSWR_get_eeg_log.txt') #np.save('SWRscript_FR1.npy', ['Exception', str(e.__class__), str(e)])\n",
    "#             continue\n",
    "                \n",
    "             \n",
    "        ### save separately for each subject + session ###    \n",
    "                \n",
    "        if save_values == 1:\n",
    "\n",
    "            # get strings for path name for save and loading cluster data\n",
    "            soz_label,recall_selection_name,subfolder = getSWRpathInfo(remove_soz_ictal,recall_type_switch,selected_period,recall_minimum)\n",
    "\n",
    "            path_name = '/scratch/john/SWR_scopolamine/'+subfolder\n",
    "            if os.path.isdir(path_name) == False:\n",
    "                os.mkdir(path_name)\n",
    "                \n",
    "            # save separate data if anterior or posterior hippocampus\n",
    "            if anterior_posterior == 0:\n",
    "                extra = ''\n",
    "            elif anterior_posterior == 1:\n",
    "                extra = '_anterior'\n",
    "            elif anterior_posterior == 2:    \n",
    "                extra = '_posterior'\n",
    "                \n",
    "            # hard code experiment as 'FR1_scopolamine' since there are too many changes in nomenclature...will just use manual indexing for scopo sessions\n",
    "            fn = os.path.join(path_name, \n",
    "                'SWR_FR1_scopolamine'+'_'+sub+'_'+str(session)+'_'+region_name+'_'+selected_period+recall_selection_name+\n",
    "                              '_'+soz_label+'_'+filter_type+extra'.p')\n",
    "            with open(fn,'wb') as f:\n",
    "                pickle.dump({'region_electrode_ct':region_electrode_ct,'total_electrode_ct':total_electrode_ct, \n",
    "                            'HPC_names':HPC_names, 'sub_sess_names':sub_sess_names,\n",
    "                            'ripple_array':ripple_array, 'time_add_save':time_add_save,\n",
    "                            'trial_nums':trial_nums,'list_num_key':list_num_key,\n",
    "                            'encoded_word_key_array':encoded_word_key_array,\n",
    "                            'serialpos_array':serialpos_array,'list_recall_num_array':list_recall_num_array, # ~~\n",
    "                            'rectime_array':rectime_array,'recall_before_intrusion_array':recall_before_intrusion_array,\n",
    "                            'recall_position_array':recall_position_array,'recall_index_array':recall_index_array, # ~~\n",
    "                            'fr_array':fr_array, 'sub_names':sub_names,\n",
    "                            'total_recalls':total_recalls, 'kept_recalls':kept_recalls,\n",
    "                            'trial_by_trial_correlation':trial_by_trial_correlation, # one value for each electrode for this session\n",
    "                            'elec_by_elec_correlation':elec_by_elec_correlation,\n",
    "                            'elec_ripple_rate_array':elec_ripple_rate_array,\n",
    "                            'electrode_labels':electrode_labels,'channel_coords':channel_coords,'channel_nums':channel_nums}, f)\n",
    "                "
   ]
  },
  {
   "cell_type": "markdown",
   "metadata": {},
   "source": [
    "## Load data from local get ripples"
   ]
  },
  {
   "cell_type": "code",
   "execution_count": 7,
   "metadata": {},
   "outputs": [
    {
     "name": "stdout",
     "output_type": "stream",
     "text": [
      "UT159-2\n"
     ]
    },
    {
     "data": {
      "text/plain": [
       "(200, 17000)"
      ]
     },
     "execution_count": 7,
     "metadata": {},
     "output_type": "execute_result"
    },
    {
     "data": {
      "text/plain": [
       "200.0"
      ]
     },
     "execution_count": 7,
     "metadata": {},
     "output_type": "execute_result"
    },
    {
     "name": "stdout",
     "output_type": "stream",
     "text": [
      "UT162-0\n"
     ]
    },
    {
     "data": {
      "text/plain": [
       "(375, 17000)"
      ]
     },
     "execution_count": 7,
     "metadata": {},
     "output_type": "execute_result"
    },
    {
     "data": {
      "text/plain": [
       "375.0"
      ]
     },
     "execution_count": 7,
     "metadata": {},
     "output_type": "execute_result"
    },
    {
     "name": "stdout",
     "output_type": "stream",
     "text": [
      "UT165-1\n"
     ]
    },
    {
     "data": {
      "text/plain": [
       "(425, 17000)"
      ]
     },
     "execution_count": 7,
     "metadata": {},
     "output_type": "execute_result"
    },
    {
     "data": {
      "text/plain": [
       "425.0"
      ]
     },
     "execution_count": 7,
     "metadata": {},
     "output_type": "execute_result"
    },
    {
     "name": "stdout",
     "output_type": "stream",
     "text": [
      "UT167-1\n"
     ]
    },
    {
     "data": {
      "text/plain": [
       "(625, 17000)"
      ]
     },
     "execution_count": 7,
     "metadata": {},
     "output_type": "execute_result"
    },
    {
     "data": {
      "text/plain": [
       "625.0"
      ]
     },
     "execution_count": 7,
     "metadata": {},
     "output_type": "execute_result"
    },
    {
     "name": "stdout",
     "output_type": "stream",
     "text": [
      "UT178-0\n"
     ]
    },
    {
     "data": {
      "text/plain": [
       "(705, 17000)"
      ]
     },
     "execution_count": 7,
     "metadata": {},
     "output_type": "execute_result"
    },
    {
     "data": {
      "text/plain": [
       "705.0"
      ]
     },
     "execution_count": 7,
     "metadata": {},
     "output_type": "execute_result"
    },
    {
     "name": "stdout",
     "output_type": "stream",
     "text": [
      "UT185-0\n"
     ]
    },
    {
     "data": {
      "text/plain": [
       "(780, 17000)"
      ]
     },
     "execution_count": 7,
     "metadata": {},
     "output_type": "execute_result"
    },
    {
     "data": {
      "text/plain": [
       "780.0"
      ]
     },
     "execution_count": 7,
     "metadata": {},
     "output_type": "execute_result"
    },
    {
     "name": "stdout",
     "output_type": "stream",
     "text": [
      "UT191-1\n"
     ]
    },
    {
     "data": {
      "text/plain": [
       "(832, 17000)"
      ]
     },
     "execution_count": 7,
     "metadata": {},
     "output_type": "execute_result"
    },
    {
     "data": {
      "text/plain": [
       "832.0"
      ]
     },
     "execution_count": 7,
     "metadata": {},
     "output_type": "execute_result"
    },
    {
     "name": "stdout",
     "output_type": "stream",
     "text": [
      "UT195-1\n"
     ]
    },
    {
     "data": {
      "text/plain": [
       "(928, 17000)"
      ]
     },
     "execution_count": 7,
     "metadata": {},
     "output_type": "execute_result"
    },
    {
     "data": {
      "text/plain": [
       "928.0"
      ]
     },
     "execution_count": 7,
     "metadata": {},
     "output_type": "execute_result"
    },
    {
     "name": "stdout",
     "output_type": "stream",
     "text": [
      "UT199-2\n"
     ]
    },
    {
     "data": {
      "text/plain": [
       "(1078, 17000)"
      ]
     },
     "execution_count": 7,
     "metadata": {},
     "output_type": "execute_result"
    },
    {
     "data": {
      "text/plain": [
       "1078.0"
      ]
     },
     "execution_count": 7,
     "metadata": {},
     "output_type": "execute_result"
    },
    {
     "name": "stdout",
     "output_type": "stream",
     "text": [
      "UT238-0\n"
     ]
    },
    {
     "data": {
      "text/plain": [
       "(1096, 17000)"
      ]
     },
     "execution_count": 7,
     "metadata": {},
     "output_type": "execute_result"
    },
    {
     "data": {
      "text/plain": [
       "1096.0"
      ]
     },
     "execution_count": 7,
     "metadata": {},
     "output_type": "execute_result"
    },
    {
     "name": "stdout",
     "output_type": "stream",
     "text": [
      "UT255-1\n"
     ]
    },
    {
     "data": {
      "text/plain": [
       "(1296, 17000)"
      ]
     },
     "execution_count": 7,
     "metadata": {},
     "output_type": "execute_result"
    },
    {
     "data": {
      "text/plain": [
       "1296.0"
      ]
     },
     "execution_count": 7,
     "metadata": {},
     "output_type": "execute_result"
    },
    {
     "name": "stdout",
     "output_type": "stream",
     "text": [
      "**Done reading data**\n",
      "**Done translating to ripple_array frame**!!\n"
     ]
    },
    {
     "data": {
      "text/plain": [
       "(1296, 17000)"
      ]
     },
     "execution_count": 7,
     "metadata": {},
     "output_type": "execute_result"
    },
    {
     "name": "stdout",
     "output_type": "stream",
     "text": [
      "From 11/11 sessions with >0 HPC electrodes\n",
      "Total electrodes: 68\n",
      "Length of HPC names: 0\n",
      "Total trials: 1296.0\n",
      "Unique sessions: 11\n",
      "Unique subjects: 11\n",
      "Total electrodes: 0\n",
      "[]\n"
     ]
    }
   ],
   "source": [
    "## go through and append across sessions\n",
    "\n",
    "\n",
    "## patient info ## (did this manually since there are so many inconsistencies in behavior/eeg labeling)\n",
    "\n",
    "scopo_selection = 1\n",
    "# 0 for control only\n",
    "# 1 for scopo_only\n",
    "# 2 for all sessions\n",
    "\n",
    "sub_selection = range(11) #[0,2,3,6,7,10] #range(10) # [0],[1],range(10)\n",
    "# [0,2,3,6,7,10] patients that actually recall more than 0-3% compared to control\n",
    "\n",
    "subs = ['UT159', 'UT162', 'UT165',\n",
    "        'UT167','UT178', 'UT185',\n",
    "        'UT191', 'UT195','UT199',\n",
    "        'UT238', 'UT255'] # UT194 is unusable\n",
    "subs = np.array(subs)[sub_selection]\n",
    "# 'UT255' is new but I don't see it?\n",
    "\n",
    "# manually assigning the actual session numbers in the behavioral folder in home/eeg/UTXXX/\n",
    "session_nums = [ [1,2],[0,1],[0,1],\n",
    "                 [0,1],[0,1],[0,1],\n",
    "                 [0,1],[1,2],[1,2],\n",
    "                 [0,1],[0,1] \n",
    "               ] # note: the missing 0s are FR sessions not in blinded condition (UT159,UT195,UT199)\n",
    "session_nums = np.array(session_nums)[sub_selection]\n",
    "\n",
    "scopo_indicator = [ [0,1],[1,0],[0,1],\n",
    "                   [0,1],[1,0],[1,0],\n",
    "                   [0,1],[1,0],[0,1],\n",
    "                   [1,0],[0,1]\n",
    "                  ] # matches session number\n",
    "scopo_indicator = np.array(scopo_indicator)[sub_selection]\n",
    "\n",
    "\n",
    "## PARAMS\n",
    "\n",
    "selected_period = 'whole_retrieval'\n",
    "# 'surrounding_recall': aligned to time of free recall \n",
    "# 'whole_retrieval': aligned to beginning of retrieval period (beep_off)\n",
    "# 'encoding': aligned to word_on \n",
    "# 'math': aligned to math problem on\n",
    "# 'math_retrieval': aligned to math problem key-in time\n",
    "\n",
    "recall_type_switch = 0\n",
    "    # (1 and 3 are basically opposites...those with a subsequent recall and those without)\n",
    "    # 0: Original analysis taking only recalls without a recall in 2 s IRI before them\n",
    "    # 1: Take these same recalls, but keep only those WITH a recall within 2 s after they occur \n",
    "    # 2: test condition where we look at second recalls within IRI ONLY (there is an initial recall in 2 s before current recall)\n",
    "    # 3: isolatead recalls with no other recalls +/- RECALL_MINIMUM s\n",
    "    # 4: only first recall of every retrieval period\n",
    "    # 5: take only those recalls that come second in retrieval period within 2 s of first retrieval\n",
    "    # 6: take only NOT first recall of every retrieval period (opposite of 4)\n",
    "    # 7: take only NOT first recall AND ISOLATED trials (this should REALLY maximize SWR bump)\n",
    "    # 8: take only 2nd recalls\n",
    "    # 10: same as 0 but with no IRI (mostly just to see number of recalls)\n",
    "recall_minimum = 2000 # used if recall_type_switch = 3\n",
    "region_name = 'HPC' #'ENT' #'HPC' #HPC_ENT #ENT #HPC # PHC \n",
    "remove_soz_ictal = 0 # 0 for nothing, 1 for remove SOZ, 2 for keep ONLY SOZ ###\n",
    "filter_type = 'hamming' # butter/hamming/hamming125200/tried hamming140250 for math\n",
    "\n",
    "###\n",
    "\n",
    "# get strings for path name for save and loading cluster data\n",
    "if recall_type_switch in [0,4,6,8]:\n",
    "    # for these I'm using all trials, but selecting for which recall after the fact\n",
    "    soz_label,recall_selection_name,subfolder = getSWRpathInfo(remove_soz_ictal,0,selected_period,recall_minimum)\n",
    "else: # these others I haven't set up indexing (see >line 100 in this cell)\n",
    "    soz_label,recall_selection_name,subfolder = getSWRpathInfo(remove_soz_ictal,recall_type_switch,selected_period,recall_minimum)\n",
    "    \n",
    "ripple_array = []; \n",
    "trial_nums = []; encoded_word_key_array = []\n",
    "HPC_names = []; sub_sess_names = []\n",
    "region_electrode_ct = []; sub_names = []\n",
    "trial_by_trial_correlation = []; elec_ripple_rate_array = []\n",
    "elec_by_elec_correlation = []; fr_array = []\n",
    "list_num_key = []\n",
    "\n",
    "serialpos_array = []; list_recall_num_array = []; # ~~~\n",
    "rectime_array = []; recall_before_intrusion_array = []\n",
    "recall_position_array = []\n",
    "\n",
    "electrode_labels = []; channel_coords = []; channel_nums = []\n",
    "\n",
    "# loop across subjects and sessions    \n",
    "for i_sub,sub in enumerate(subs):\n",
    "\n",
    "    for i_session,session in enumerate(session_nums[i_sub]): # sessions numbers were manually added into a list of lists above \n",
    "        \n",
    "        scopo_session_indicator = scopo_indicator[i_sub][i_session]\n",
    "        \n",
    "        if (scopo_selection == scopo_session_indicator) | (scopo_selection == 2):\n",
    "\n",
    "#             try:\n",
    "                path_name = '/scratch/john/SWR_scopolamine/'+subfolder\n",
    "                fn = os.path.join(path_name,\n",
    "                    'SWR_FR1_scopolamine'+'_'+sub+'_'+str(session)+'_'+region_name+'_'+selected_period+recall_selection_name+\n",
    "                                  '_'+soz_label+'_'+filter_type+'.p') #'_no_param_removal.p')   #'.p') #+'.intrusions.p') # +'.-wrong.p') (for wrong math)\n",
    "                with open(fn,'rb') as f:\n",
    "                    dat = pickle.load(f)\n",
    "\n",
    "                    ripple_array = superVstack(ripple_array,dat['ripple_array']) \n",
    "                    region_electrode_ct.append(dat['region_electrode_ct'])\n",
    "                    encoded_word_key_array.extend(dat['encoded_word_key_array'])\n",
    "                    HPC_names.extend(dat['HPC_names'])\n",
    "                    sub_sess_names.extend(dat['sub_sess_names'])\n",
    "                    sub_names.extend(dat['sub_names'])\n",
    "                    trial_nums = np.append(trial_nums,dat['trial_nums'])\n",
    "\n",
    "                    # load info\n",
    "                    print(sub+'-'+str(session))\n",
    "                    np.shape(ripple_array)\n",
    "                    sum(trial_nums)\n",
    "\n",
    "                    trial_by_trial_correlation.extend(dat['trial_by_trial_correlation']) # one value for each electrode for this session\n",
    "                    elec_by_elec_correlation = np.append(elec_by_elec_correlation,dat['elec_by_elec_correlation'])\n",
    "                    elec_ripple_rate_array.extend(dat['elec_ripple_rate_array']) # ripple rate by electrode so append\n",
    "                    #,'total_recalls':total_recalls, 'kept_recalls':kept_recalls}, f)\n",
    "                    if selected_period == 'whole_retrieval':\n",
    "                        if np.shape(dat['fr_array'])[0]!=np.shape(dat['ripple_array'])[0]:\n",
    "                            print(sub+str(session))\n",
    "                        serialpos_array.extend(dat['serialpos_array'])\n",
    "                        fr_array = superVstack(fr_array,dat['fr_array'])\n",
    "                    if selected_period == 'encoding':\n",
    "                        serialpos_array.extend(dat['serialpos_array'])\n",
    "                    if selected_period == 'surrounding_recall': # ~~~\n",
    "                        serialpos_array.extend(dat['serialpos_array']); list_recall_num_array.extend(dat['list_recall_num_array']); # ~~\n",
    "                        rectime_array.extend(dat['rectime_array']); recall_before_intrusion_array.extend(dat['recall_before_intrusion_array'])\n",
    "                        recall_position_array.extend(dat['recall_position_array'])\n",
    "                    if (selected_period == 'math') | (selected_period == 'math_retrieval'):\n",
    "                        rectime_array.extend(dat['rectime_array'])\n",
    "                        recall_position_array.extend(dat['recall_position_array']); list_recall_num_array.extend(dat['list_recall_num_array'])\n",
    "\n",
    "                    electrode_labels.extend(dat['electrode_labels'])\n",
    "                    channel_coords.extend(dat['channel_coords'])\n",
    "                    channel_nums.extend(dat['channel_nums'])\n",
    "                    list_num_key.extend(dat['list_num_key'])\n",
    "\n",
    "#             except Exception as e:\n",
    "# #                 LogDFExceptionLine(row, e, 'LocalSWR_load_eeg_log.txt')  \n",
    "#                 error=1\n",
    "\n",
    "print('**Done reading data**')\n",
    "        \n",
    "## loading *all* the recalls with 0, but if it's 4 or 6 load just those trials\n",
    "\n",
    "# trying new method of loading...translate these to ripple_array length dependent on recall_type_switch \n",
    "# (this way I can always load from recall_type_switch = 0)\n",
    "\n",
    "subject_name_array,session_name_array,electrode_array,channel_coords_array,channel_nums_array = getSubSessPredictorsWithChannelNums(\n",
    "        sub_names,sub_sess_names,trial_nums,electrode_labels,channel_coords,channel_nums)\n",
    "\n",
    "if selected_period == 'surrounding_recall':\n",
    "    if recall_type_switch == 4:\n",
    "        temp_recall_idxs = np.array(recall_position_array)==1\n",
    "    elif recall_type_switch == 6:\n",
    "        temp_recall_idxs = np.array(recall_position_array)>1\n",
    "    elif recall_type_switch == 8:\n",
    "        temp_recall_idxs = np.array(recall_position_array)==2\n",
    "    else:\n",
    "        temp_recall_idxs = np.array(recall_position_array)>=0\n",
    "    serialpos_array = np.array(serialpos_array)[temp_recall_idxs]\n",
    "    recall_before_intrusion_array = np.array(recall_before_intrusion_array)[temp_recall_idxs]\n",
    "    list_num_key = np.array(list_num_key)[temp_recall_idxs]\n",
    "    rectime_array = np.array(rectime_array)[temp_recall_idxs]\n",
    "    list_recall_num_array = np.array(list_recall_num_array)[temp_recall_idxs]\n",
    "    recall_position_array = np.array(recall_position_array)[temp_recall_idxs]\n",
    "elif (selected_period == 'math') | (selected_period == 'math_retrieval'):\n",
    "    temp_recall_idxs = np.array(recall_position_array)>=0 # just keep them all for math\n",
    "    encoded_word_key_array.extend(dat['encoded_word_key_array'])\n",
    "    rectime_array = np.array(rectime_array)[temp_recall_idxs]\n",
    "    list_recall_num_array = np.array(list_recall_num_array)[temp_recall_idxs]\n",
    "    recall_position_array = np.array(recall_position_array)[temp_recall_idxs]    \n",
    "elif selected_period == 'whole_retrieval':\n",
    "    temp_recall_idxs = np.array(list_num_key)>=0\n",
    "subject_name_array = np.array(subject_name_array)[temp_recall_idxs]\n",
    "session_name_array = np.array(session_name_array)[temp_recall_idxs]\n",
    "electrode_array = np.array(electrode_array)[temp_recall_idxs]\n",
    "channel_coords_array = np.array(channel_coords_array)[temp_recall_idxs]\n",
    "channel_nums_array = np.array(channel_nums_array)[temp_recall_idxs]\n",
    "ripple_array = np.array(ripple_array)[temp_recall_idxs]\n",
    "\n",
    "    \n",
    "print('**Done translating to ripple_array frame**!!')\n",
    "    \n",
    "## some info on data loaded from cluster runs ##\n",
    "ripple_array.shape\n",
    "\n",
    "region_electrode_ct = np.array(region_electrode_ct)\n",
    "# print('Number of electrodes in each session: '); region_electrode_ct\n",
    "print('From '+str(sum(region_electrode_ct>0))+'/'+str(len(region_electrode_ct))+' sessions with >0 '+region_name+' electrodes')\n",
    "print('Total electrodes: '+str(sum(region_electrode_ct)))\n",
    "print('Length of HPC names: '+str(len(HPC_names)))\n",
    "print('Total trials: '+str(np.sum(trial_nums)))\n",
    "print('Unique sessions: '+str(len(np.unique(sub_sess_names))))\n",
    "print('Unique subjects: '+str(len(np.unique(sub_names))))\n",
    "\n",
    "# some info about regions \n",
    "print('Total electrodes: '+str(len(HPC_names)))\n",
    "unique_names = np.unique(HPC_names); print(unique_names)\n",
    "for name in unique_names:\n",
    "    num_elecs = sum(np.array([names.find(name) for names in HPC_names])>=0)\n",
    "    print(str(num_elecs)+' for '+name)\n",
    "# channel_nums"
   ]
  },
  {
   "cell_type": "markdown",
   "metadata": {},
   "source": [
    "## get start array"
   ]
  },
  {
   "cell_type": "code",
   "execution_count": 8,
   "metadata": {},
   "outputs": [
    {
     "name": "stdout",
     "output_type": "stream",
     "text": [
      "Total electrodes loaded: 68\n",
      "from 11 sessions from 11 subjects with trial nums:\n",
      "[25. 25. 25. 25. 25. 25. 25. 25. 25. 25. 25. 25. 25. 25. 25. 25. 25. 25.\n",
      " 25. 25.]\n",
      "Trial sum = 1296.0\n",
      "[]\n",
      "Number of sub_sess names: 68\n",
      "Got start_array with 1296 trials!\n",
      "Number of electrodes: 68\n",
      "...from 11 patients\n"
     ]
    }
   ],
   "source": [
    "## DO YOU WANT TO SELECT A SUBFIELD or OUTPUT POSITION?? ##  \n",
    "\n",
    "### UTSW doesn't do subfield localization for SCOPO data so all we can say is \"hippocampus\"\n",
    "\n",
    "select_subfield = False   # note: if you already ran this once, have to load again from data\n",
    "                          # also this is only for HPC. So set to FALSE for ENT and PHC\n",
    "    \n",
    "# # select for subfield if HPC\n",
    "# if select_subfield == True:\n",
    "#     location_selected = 'dg' #'dg' # 'ca3' # 'dg' 'ca1' # sub # ['ca1','dg']\n",
    "#         # left # right # left hippocampus # right hippocampus # hippocampus\n",
    "#         # to see number of each: sum(np.array([names.find('sub') for names in HPC_names])>=0)\n",
    "# else:\n",
    "#     location_selected = ''\n",
    "    \n",
    "\n",
    "### Use a task condition to select recalls?? ###\n",
    "### ...will select first one that's not 0    ###\n",
    "select_ordinal_position = 0              # select only recalls at given output position. 0 means it's off ##DEPRECATED\n",
    "select_list_position = 0 #[1,2,3] #[12]  # select only recalls at given position from encoding list. \n",
    "                                         # 0 means it's off. Must be list\n",
    "select_less_than_rectime = 0             # select only recalls < this number % 5000\n",
    "select_greater_than_rectime = 0          # select only recalls ≥ this number % 5000\n",
    "select_lists_with_recalls = 0 # list(np.arange(3,13)) # [1] so this would select ≥4 recalls. Must be list hence the list(arange...)\n",
    "                                         # select only recalls that come from lists with number in this list\n",
    "select_intrusions_next = 0               # select recalls that lead to intrusions\n",
    "    \n",
    "if filter_type.find('hamming') != -1:\n",
    "    desired_sample_rate = 500.\n",
    "else:\n",
    "    desired_sample_rate = 1000.\n",
    "sr = desired_sample_rate # fixed at this value since this is the minimum across data and can always downsample\n",
    "sr_factor = 1000/desired_sample_rate\n",
    "\n",
    "print('Total electrodes loaded: '+str(len(trial_nums)))\n",
    "print('from '+str(len(np.unique(sub_sess_names)))+' sessions from '+str(len(np.unique(sub_names)))+' subjects with trial nums:')\n",
    "print(trial_nums[0:20])\n",
    "print('Trial sum = '+str(np.sum(trial_nums)))\n",
    "print(HPC_names[0:20])\n",
    "print('Number of sub_sess names: '+str(len(sub_sess_names)))\n",
    "\n",
    "\n",
    "start_array,end_array = getStartEndArrays(ripple_array) # get start array\n",
    " \n",
    "# # if selected an output position\n",
    "# if select_ordinal_position > 0:\n",
    "#     if np.min(ordinal_position_array) == 0: # only update this once (so don't have to reload data from files)\n",
    "#         ordinal_position_array = np.array(ordinal_position_array)+1 # now 1-indexed\n",
    "#     selected_recalls = ordinal_position_array==select_ordinal_position\n",
    "# elif type(select_list_position) == list:\n",
    "#     selected_recalls = [sp in select_list_position for sp in serialpos_array]\n",
    "# elif select_intrusions_next == 1:\n",
    "#     selected_recalls = np.array(recall_before_intrusion_array)==True\n",
    "# elif select_less_than_rectime > 0:\n",
    "#     selected_recalls = np.array(rectime_array)<select_less_than_rectime\n",
    "# elif select_greater_than_rectime > 0:\n",
    "#     selected_recalls = np.array(rectime_array)>=select_greater_than_rectime\n",
    "# elif type(select_lists_with_recalls) == list:\n",
    "#     selected_recalls = [recall in select_lists_with_recalls for recall in list_recall_num_array]\n",
    "# else:\n",
    "#     selected_recalls = np.ones(len(start_array),dtype=bool)\n",
    "    \n",
    "# # get locations if selected\n",
    "\n",
    "# if select_subfield == True:\n",
    "#     # create the full vector of location name predictors\n",
    "#     location_names = []\n",
    "#     for s in range(len(HPC_names)):\n",
    "#         new_trials = int(trial_nums[s])\n",
    "#         location_names.extend(np.tile(HPC_names[s],new_trials))  \n",
    "        \n",
    "#     # now can get mask of trials in this location\n",
    "    \n",
    "#     #first, if there are two locations to combine, sort that out (DG and CA1 in particular)\n",
    "#     location_mask = np.zeros(len(location_names))\n",
    "#     for s in range(len(location_names)):\n",
    "#         if type(location_selected)==list:\n",
    "#             if location_names[s].find(location_selected[0])>=0 or location_names[s].find(location_selected[1])>=0:\n",
    "#                 location_mask[s] = True\n",
    "#         elif type(location_selected)==str:\n",
    "#             if location_names[s].find(location_selected)>=0:\n",
    "#                 location_mask[s] = True\n",
    "# else:\n",
    "#     location_mask = np.ones(len(start_array))\n",
    "\n",
    "# # gotta translate this to new frame as well from idxs in load step if selected subfield\n",
    "# if select_subfield == True: \n",
    "#     location_mask = location_mask[temp_recall_idxs] \n",
    "\n",
    "# # combine location and sorted recalls to get new ripple array:\n",
    "# updated_recalls = (location_mask+selected_recalls)==2\n",
    "    \n",
    "# # translate these predictors to vector and select recalls\n",
    "# start_array = start_array[updated_recalls]\n",
    "# end_array = end_array[updated_recalls] # used for duration calculations\n",
    "# subject_name_array = np.array(subject_name_array)[updated_recalls]\n",
    "# session_name_array = np.array(session_name_array)[updated_recalls]\n",
    "# electrode_array = np.array(electrode_array)[updated_recalls]\n",
    "# channel_coords_array = np.array(channel_coords_array)[updated_recalls]\n",
    "# channel_nums_array = np.array(channel_nums_array)[updated_recalls]\n",
    "# if selected_period in ['surrounding_recall','math','math_retrieval']:\n",
    "#     list_recall_num_array = list_recall_num_array[updated_recalls] # for subject-level analysis\n",
    "#     rectime_array = np.array(rectime_array)[updated_recalls]\n",
    "    \n",
    "print('Got start_array with '+str(start_array.shape[0])+' trials!')\n",
    "\n",
    "sub_elec = [subject_name_array[i]+electrode_array[i] for i in range(len(electrode_array))]\n",
    "print('Number of electrodes: '+str(len(np.unique(sub_elec))))\n",
    "print('...from '+str(len(np.unique(subject_name_array)))+' patients')\n",
    "        \n",
    "# # plot whole retrieval period with FR events superimposed on SWRs\n",
    "# if selected_period == 'whole_bretrieval':\n",
    "#     start_array2 = start_array # for whole retrieval period\n",
    "#     print('Base SWRs/30 s retrieval: '+str(sum(start_array2)/start_array2.shape[0]/(30000/1000)))\n",
    "#     ## can go straight to \"SWRs by time in retrieval period\" from here\n",
    "# else:\n",
    "#     print('SWRs rate in 4 s around FR: '+str(sum(start_array)/start_array.shape[0]/(4000/1000)))\n",
    "\n",
    "# # subplots(1,1,figsize=(6,9))\n",
    "# # plot([0,0],[0,fr_array.shape[0]],linewidth=1,linestyle='-',color=(0,0,0))\n",
    "# # plot(np.ones(2)*(retrieval_whole_time),[0,fr_array.shape[0]],linewidth=1,linestyle='-',color=(0,0,0))\n",
    "# # scatter(np.where(start_array2)[1]*sr_factor+psth_start,np.where(start_array2)[0],s=0.5)\n",
    "# # scatter(np.where(fr_array)[1],np.where(fr_array)[0],s=0.5,color=[1,0,0]); \n",
    "# # plt.xlabel('Retrieval period time (ms)')\n",
    "# # plt.ylabel('Retrieval period')\n",
    "# # if save_plot == 1:\n",
    "# #     plt.savefig('../plots/'+'SWR_FR_'+region_name+'-'+str(session_ct)+'_sessions_in-'+str(sub_num)+'subjects_'+filter_type+'.pdf',transparent=True)\n",
    "# # plt.show();    "
   ]
  },
  {
   "cell_type": "code",
   "execution_count": 9,
   "metadata": {},
   "outputs": [
    {
     "data": {
      "text/plain": [
       "(1296, 17000)"
      ]
     },
     "execution_count": 9,
     "metadata": {},
     "output_type": "execute_result"
    },
    {
     "data": {
      "text/plain": [
       "[<matplotlib.lines.Line2D at 0x2b35dcea4d90>]"
      ]
     },
     "execution_count": 9,
     "metadata": {},
     "output_type": "execute_result"
    },
    {
     "data": {
      "image/png": "[encoded data removed]",
      "text/plain": [
       "<Figure size 432x288 with 1 Axes>"
      ]
     },
     "metadata": {
      "needs_background": "light"
     },
     "output_type": "display_data"
    }
   ],
   "source": [
    "np.shape(start_array)\n",
    "plot(np.mean(start_array[:,1:],0))\n",
    "show()"
   ]
  },
  {
   "cell_type": "markdown",
   "metadata": {},
   "source": [
    "# Now we have the start_array, so let's plot the two conditions with and without Scopo"
   ]
  },
  {
   "cell_type": "code",
   "execution_count": 10,
   "metadata": {},
   "outputs": [
    {
     "name": "stdout",
     "output_type": "stream",
     "text": [
      "done making binned start_array with shape:\n"
     ]
    },
    {
     "data": {
      "text/plain": [
       "(1296, 64)"
      ]
     },
     "execution_count": 10,
     "metadata": {},
     "output_type": "execute_result"
    },
    {
     "name": "stdout",
     "output_type": "stream",
     "text": [
      "SEs created!\n",
      "Are these three the same length?? They should be!\n"
     ]
    },
    {
     "data": {
      "text/plain": [
       "(1296, 64)"
      ]
     },
     "execution_count": 10,
     "metadata": {},
     "output_type": "execute_result"
    },
    {
     "data": {
      "text/plain": [
       "1296"
      ]
     },
     "execution_count": 10,
     "metadata": {},
     "output_type": "execute_result"
    },
    {
     "data": {
      "text/plain": [
       "1296"
      ]
     },
     "execution_count": 10,
     "metadata": {},
     "output_type": "execute_result"
    },
    {
     "name": "stdout",
     "output_type": "stream",
     "text": [
      "Saved scopolamine PSTH!\n"
     ]
    }
   ],
   "source": [
    "%autoreload\n",
    "# make a PSTH based on start times of SWRs\n",
    "bin_size = 500 # in ms\n",
    "smoothing_triangle = 5 # triangular smoothing window width\n",
    "samples = 100\n",
    "pad = int(np.floor(smoothing_triangle/2)) # factor is how many points from middle does triangle go?\n",
    "psth_start = -2000\n",
    "psth_end = 32000 # 30 s retrieval plus 2000 after\n",
    "\n",
    "PSTH,bin_centers = fullPSTH(start_array,bin_size,smoothing_triangle,sr,psth_start)\n",
    "# bootstraps error bars by sampling from trials in raster with replacement samples number of\n",
    "# times and then taking the standard deviation across those samples\n",
    "# boot_samples = bootstrap(start_array, bootnum=samples, samples=None, # bootstrap error bars using resampling\n",
    "#                bootfunc=lambda x: bootPSTH(x,binsize,smoothing_triangle,sr,psth_start))\n",
    "# boot_SD = np.std(boot_samples,0)\n",
    "\n",
    "# get binned start array (trials X bins)\n",
    "binned_start_array = binBinaryArray(start_array,bin_size,sr_factor)\n",
    "if pad > 0:\n",
    "    binned_start_array = binned_start_array[:,pad:-pad] # remove edge bins\n",
    "print('done making binned start_array with shape:')\n",
    "binned_start_array.shape\n",
    "\n",
    "# # get trial X 1 categorical names for subjects and sessions # do this in start_array cell now\n",
    "# if select_ordinal_position == 0: # if 0 already did this in last cell\n",
    "#     subject_name_array,session_name_array = getSubSessPredictors(sub_names,sub_sess_names,trial_nums)\n",
    "\n",
    "# note that output is the net ± distance from mean\n",
    "SE_plot = getMixedEffectSEs(binned_start_array,subject_name_array,session_name_array)\n",
    "print('SEs created!')\n",
    "\n",
    "# should all be same length! (sanity check)\n",
    "print('Are these three the same length?? They should be!')\n",
    "binned_start_array.shape\n",
    "len(subject_name_array)\n",
    "len(session_name_array)\n",
    "\n",
    "if scopo_selection == 0:\n",
    "    PSTH_control = copy(PSTH)\n",
    "    SE_control = copy(SE_plot)\n",
    "    start_array_control = copy(start_array)\n",
    "    subject_name_array_control = copy(subject_name_array)\n",
    "    print('Saved control PSTH!')\n",
    "elif scopo_selection == 1:\n",
    "    PSTH_scopo = copy(PSTH)\n",
    "    SE_scopo = copy(SE_plot)\n",
    "    start_array_scopo = copy(start_array)\n",
    "    subject_name_array_scopo = copy(subject_name_array)    \n",
    "    print('Saved scopolamine PSTH!')"
   ]
  },
  {
   "cell_type": "code",
   "execution_count": 6,
   "metadata": {},
   "outputs": [
    {
     "name": "stdout",
     "output_type": "stream",
     "text": [
      "/scratch/john/SWR_scopolamine/WHOLE_RETRIEVAL/SWR_FR1_scopolamine_UT255_0_HPC_whole_retrieval_soz_in_hamming.p\n",
      "1670 recalls\n"
     ]
    },
    {
     "data": {
      "image/png": "[encoded data removed]",
      "text/plain": [
       "<Figure size 432x288 with 1 Axes>"
      ]
     },
     "metadata": {
      "needs_background": "light"
     },
     "output_type": "display_data"
    }
   ],
   "source": [
    "save_plot_data = 0\n",
    "\n",
    "# # let's measure significance at two key 500 ms bins (and compare to similar bin 500 ms earlier/later)\n",
    "# stats_bin = 500 # time bin width in ms to test stats on\n",
    "\n",
    "# first_start = -1600 # going to make sequence of 3 bins and test 1st v. 3rd\n",
    "# first_end = -100\n",
    "# second_start = 200 # same idea\n",
    "# second_end = 1700\n",
    "\n",
    "# start_array.shape\n",
    "# binned_first_stats_array = start_array[:,int((first_start-psth_start)/sr_factor):int((first_end-psth_start)/sr_factor)]\n",
    "# binned_second_stats_array = start_array[:,int((second_start-psth_start)/sr_factor):int((second_end-psth_start)/sr_factor)]\n",
    "# binned_first_stats_array = binBinaryArray(binned_first_stats_array,stats_bin,sr_factor)\n",
    "# binned_second_stats_array = binBinaryArray(binned_second_stats_array,stats_bin,sr_factor)\n",
    "# print('done binning start_arrays'); binned_start_array.shape\n",
    "\n",
    "# bin_model1 = MEstatsAcrossBins(binned_first_stats_array[:,[0,2]],subject_name_array,session_name_array)\n",
    "# bin_model2 = MEstatsAcrossBins(binned_second_stats_array[:,[0,2]],subject_name_array,session_name_array)\n",
    "# # bin_model1.summary()\n",
    "# # bin_model2.summary()\n",
    "\n",
    "\n",
    "## plot PSTH and save data for plot (see SWRplots)\n",
    "\n",
    "\n",
    "subplots(1,1,figsize=(6,4))\n",
    "xr = bin_centers #np.arange(psth_start,psth_end,binsize)\n",
    "\n",
    "# plot smoothed mean +/- CI\n",
    "if pad > 0:\n",
    "    plot(xr[pad:-pad],PSTH[pad:-pad])\n",
    "    fill_between(xr[pad:-pad], PSTH[pad:-pad]-SE_plot[0,:], PSTH[pad:-pad]+SE_plot[0,:], alpha = 0.3)\n",
    "else:\n",
    "    plot(xr,PSTH)\n",
    "    fill_between(xr, PSTH-SE_plot[0,:], PSTH+SE_plot[0,:], alpha = 0.3)\n",
    "\n",
    "xticks(np.arange(psth_start,psth_end+1,500),np.arange(psth_start/1000,psth_end/1000+1,500/1000))\n",
    "if selected_period == 'surrounding_recall':\n",
    "    xlabel('Time from recall (s)')\n",
    "elif selected_period == 'math_retrieval':    \n",
    "    xlabel('Time from response (s)')\n",
    "elif selected_period == 'math':\n",
    "    xlabel('Time from problem onset (s)')\n",
    "ylabel('Ripple rate (events/s)')\n",
    "# title('Mean of ripples for '+experiment)\n",
    "tight_layout()\n",
    "ax = plt.gca()\n",
    "if filter_type == 'hamming':\n",
    "    ylim = 0.7 # keep it here since occasionally CIs get kinda high\n",
    "else:\n",
    "    ylim = 0.45\n",
    "ax.set_ylim(0,ylim)\n",
    "ax.set_xlim(psth_start-100,psth_end+100)\n",
    "plot([0,0],[ax.get_ylim()[0],ax.get_ylim()[1]],linewidth=1,linestyle='-',color=(0,0,0));\n",
    "x_width = [ax.get_xlim()[0],ax.get_xlim()[1]]\n",
    "xticks(np.arange(0,30001,5000),np.arange(0,30.001,5.000))\n",
    "xlabel('Retrieval time (s)')\n",
    "\n",
    "# # plot bands of significance\n",
    "# if bin_model1.pvalues[1] < 0.05:\n",
    "#     plot([first_end-stats_bin,first_end],[0.2,0.2],color=(1,0.5,0))\n",
    "# if bin_model2.pvalues[1] < 0.05:\n",
    "#     plot([second_start,second_start+stats_bin],[0.2,0.2],color=(1,0.5,0))\n",
    "# num_trials = start_array.shape[0]\n",
    "\n",
    "print(fn)\n",
    "# print('Test 1 p-value: '+str(bin_model1.pvalues[1]))\n",
    "# print('Test 2 p-value: '+str(bin_model2.pvalues[1]))\n",
    "print(str(len(start_array))+' recalls')\n",
    "\n",
    "if save_plot_data == 1:\n",
    "    fn = os.path.join(path_name,\n",
    "    'SWR_FR1_scopolamine_'+region_name+'_'+location_selected+'_'+str(recall_type_switch)+'_'+soz_label+\\\n",
    "                  '_'+filter_type+'_'+sub_selection+'.p') # -GT_5000.p' # -LT_5000.p' #'-intrusions.p'\n",
    "    # get strings for path name for save and loading cluster data\n",
    "    soz_label,recall_selection_name,subfolder = getSWRpathInfo(remove_soz_ictal,recall_type_switch,selected_period,recall_minimum)\n",
    "        \n",
    "    path_name = '/home1/john/SWR/figures/'+subfolder\n",
    "    if os.path.isdir(path_name) == False:\n",
    "        os.mkdir(path_name)\n",
    "    if type(location_selected)==list:\n",
    "        location_selected = 'ca1dg'\n",
    "    with open(fn,'wb') as f:\n",
    "        pickle.dump({'bin_centers':bin_centers,'PSTH':PSTH,'SE_plot':SE_plot,'num_trials':num_trials,\n",
    "                    'bin_model1':bin_model1,'bin_model2':bin_model2,\n",
    "                    'binned_first_stats_array':binned_first_stats_array,'binned_second_stats_array':binned_second_stats_array,\n",
    "                    'subject_name_array':subject_name_array,'session_name_array':session_name_array,\n",
    "                    'electrode_array':electrode_array,'channel_coords_array':channel_coords_array}, f)\n",
    "a=1;"
   ]
  },
  {
   "cell_type": "markdown",
   "metadata": {},
   "source": [
    "# plot PSTHs scopo and control together and run stats"
   ]
  },
  {
   "cell_type": "code",
   "execution_count": 11,
   "metadata": {},
   "outputs": [
    {
     "data": {
      "image/png": "[encoded data removed]",
      "text/plain": [
       "<Figure size 432x288 with 1 Axes>"
      ]
     },
     "metadata": {
      "needs_background": "light"
     },
     "output_type": "display_data"
    }
   ],
   "source": [
    "subplots(1,1,figsize=(6,4))\n",
    "xr = bin_centers #np.arange(psth_start,psth_end,binsize)\n",
    "\n",
    "color1 = (0,0,0)\n",
    "color2 = (0.8,0.4,0.2)\n",
    "\n",
    "# plot smoothed mean +/- CI\n",
    "if pad > 0:\n",
    "    plot(xr[pad:-pad],PSTH_control[pad:-pad],color=color1)\n",
    "    fill_between(xr[pad:-pad], PSTH_control[pad:-pad]-SE_control[0,:], PSTH_control[pad:-pad]+SE_control[0,:], alpha = 0.3, color=color1,label='_nolegend_')\n",
    "    plot(xr[pad:-pad],PSTH_scopo[pad:-pad],color=color2)\n",
    "    fill_between(xr[pad:-pad], PSTH_scopo[pad:-pad]-SE_scopo[0,:], PSTH_scopo[pad:-pad]+SE_scopo[0,:], alpha = 0.3, color=color2,label='_nolegend_')    \n",
    "else:\n",
    "    plot(xr,PSTH)\n",
    "    fill_between(xr, PSTH-SE_plot[0,:], PSTH+SE_plot[0,:], alpha = 0.3)\n",
    "\n",
    "xticks(np.arange(psth_start,psth_end+1,500),np.arange(psth_start/1000,psth_end/1000+1,500/1000))\n",
    "if selected_period == 'surrounding_recall':\n",
    "    xlabel('Time from recall (s)')\n",
    "elif selected_period == 'math_retrieval':    \n",
    "    xlabel('Time from response (s)')\n",
    "elif selected_period == 'math':\n",
    "    xlabel('Time from problem onset (s)')\n",
    "ylabel('Ripple rate (events/s)')\n",
    "# title('Mean of ripples for '+experiment)\n",
    "tight_layout()\n",
    "ax = plt.gca()\n",
    "if filter_type == 'hamming':\n",
    "    ylim = 0.7 # keep it here since occasionally CIs get kinda high\n",
    "else:\n",
    "    ylim = 0.45\n",
    "ax.set_ylim(0,ylim)\n",
    "ax.set_xlim(psth_start-100,psth_end+100)\n",
    "plot([0,0],[ax.get_ylim()[0],ax.get_ylim()[1]],linewidth=1,linestyle='-',color=(0,0,0));\n",
    "x_width = [ax.get_xlim()[0],ax.get_xlim()[1]]\n",
    "xticks(np.arange(0,30001,5000),np.arange(0,30.001,5.000))\n",
    "title('N = '+str(len(np.unique(sub_names)))+ ' patients')\n",
    "\n",
    "text(13000,0.07,str(len(start_array_control))+' trials',color=color1,size=14)\n",
    "text(13000,0.03,str(len(start_array_scopo))+' trials',color=color2,size=14)\n",
    "ax.legend({'Control','Scopolamine'},loc='lower right')\n",
    "\n",
    "xlabel('Retrieval time (s)');"
   ]
  },
  {
   "cell_type": "markdown",
   "metadata": {},
   "source": [
    "# let's get a delta ripple rate for each subject individually"
   ]
  },
  {
   "cell_type": "code",
   "execution_count": 12,
   "metadata": {},
   "outputs": [],
   "source": [
    "%autoreload\n",
    "# make a PSTH based on start times of SWRs\n",
    "bin_size = 500 # in ms\n",
    "smoothing_triangle = 5 # triangular smoothing window width\n",
    "samples = 100\n",
    "pad = int(np.floor(smoothing_triangle/2)) # factor is how many points from middle does triangle go?\n",
    "psth_start = -2000\n",
    "psth_end = 32000 # 30 s retrieval plus 2000 after\n",
    "\n",
    "sub_delta_ripples = []\n",
    "\n",
    "for sub in np.unique(subject_name_array):\n",
    "    # control\n",
    "    sub_start_array_control = start_array_control[subject_name_array_control==sub]\n",
    "    sub_start_array_control = sub_start_array_control[:,1000:15000+1000]    \n",
    "    sub_PSTH_control,_ = fullPSTH(sub_start_array_control,bin_size,smoothing_triangle,sr,psth_start)\n",
    "    \n",
    "    # scopo\n",
    "    sub_start_array_scopo = start_array_scopo[subject_name_array_scopo==sub]\n",
    "    sub_start_array_scopo = sub_start_array_scopo[:,1000:15000+1000]    \n",
    "    sub_PSTH_scopo,_ = fullPSTH(sub_start_array_scopo,bin_size,smoothing_triangle,sr,psth_start)\n",
    "    \n",
    "    sub_delta_ripples.append(np.mean(sub_PSTH_control)-np.mean(sub_PSTH_scopo))\n",
    "    \n",
    "    "
   ]
  },
  {
   "cell_type": "code",
   "execution_count": 25,
   "metadata": {},
   "outputs": [
    {
     "name": "stdout",
     "output_type": "stream",
     "text": [
      "Ttest_1sampResult(statistic=1.7218511488210584, pvalue=0.11582646622467127)\n"
     ]
    },
    {
     "data": {
      "image/png": "[encoded data removed]",
      "text/plain": [
       "<Figure size 216x288 with 1 Axes>"
      ]
     },
     "metadata": {
      "needs_background": "light"
     },
     "output_type": "display_data"
    }
   ],
   "source": [
    "import seaborn as sb\n",
    "from scipy.stats import ttest_1samp\n",
    "\n",
    "\n",
    "set_pubfig()\n",
    "fig, ax = subplots(figsize=(3,4))\n",
    "plot_color = [(0,0,0)]\n",
    "temp_df = pd.DataFrame({'sub_delta_ripples':sub_delta_ripples})\n",
    "\n",
    "# now the swarm\n",
    "p1 = sb.swarmplot(ax=ax,y='sub_delta_ripples', data=temp_df, palette=plot_color) \n",
    "# ax1 = p1.axes\n",
    "ax.axhline(0, ls='--',color=plot_color[0])\n",
    "ax.set(xticks=[])\n",
    "\n",
    "ax.set(ylim=(-0.5,0.5))\n",
    "ylabel(u'Δ ripple rate (Hz)')\n",
    "title('Control *minus* scopolamine')\n",
    "\n",
    "print(ttest_1samp(sub_delta_ripples,0))\n",
    "\n",
    "tight_layout();"
   ]
  },
  {
   "cell_type": "code",
   "execution_count": 23,
   "metadata": {},
   "outputs": [
    {
     "data": {
      "image/png": "[encoded data removed]",
      "text/plain": [
       "<Figure size 432x288 with 1 Axes>"
      ]
     },
     "metadata": {
      "needs_background": "light"
     },
     "output_type": "display_data"
    }
   ],
   "source": [
    "from collections import Counter\n",
    "letter_counts = Counter(subject_name_array)\n",
    "df = pd.DataFrame.from_dict(letter_counts, orient='index')\n",
    "df.plot(kind='bar')\n",
    "xticks(rotation=45)\n",
    "ylabel('Retrieval periods X electrodes (#)')\n",
    "legend('');"
   ]
  },
  {
   "cell_type": "code",
   "execution_count": null,
   "metadata": {},
   "outputs": [],
   "source": []
  },
  {
   "cell_type": "code",
   "execution_count": null,
   "metadata": {},
   "outputs": [],
   "source": []
  },
  {
   "cell_type": "markdown",
   "metadata": {},
   "source": [
    "# get raster"
   ]
  },
  {
   "cell_type": "code",
   "execution_count": 65,
   "metadata": {
    "jupyter": {
     "source_hidden": true
    }
   },
   "outputs": [
    {
     "name": "stdout",
     "output_type": "stream",
     "text": [
      "(972, 2000)\n"
     ]
    },
    {
     "data": {
      "image/png": "[encoded data removed]",
      "text/plain": [
       "<Figure size 360x324 with 1 Axes>"
      ]
     },
     "metadata": {
      "needs_background": "light"
     },
     "output_type": "display_data"
    }
   ],
   "source": [
    "## for the raster and PSTH binarize the data by using the start indices of the ripple\n",
    "\n",
    "# Remember you gotta set recall_type_switch to 0 for this to fill out the full raster properly\n",
    "\n",
    "save_raster = 0\n",
    "\n",
    "elec_dividers_on = 0 # toggles light gray lines between electrodes\n",
    "session_dividers_on = 0\n",
    "\n",
    "dot_color = (0.1,0.1,0.1)\n",
    "between_subject_color = (0.6,0,0.6)\n",
    "between_session_color = (0,0.6,0.6)\n",
    "\n",
    "%autoreload\n",
    "psth_start = -2000\n",
    "psth_end = 2000\n",
    "\n",
    "# plot raster\n",
    "subplots(1,1,figsize=(5,4.5))   #y=100 for data cleaning # (4,6) for Fig. 4b # (4,10) for Fig. 2a\n",
    "\n",
    "scatter(np.where(start_array)[1]*sr_factor+psth_start,np.where(start_array)[0],s=4,color=dot_color) # SWR time v. trial\n",
    "xticks(np.arange(psth_start,psth_end+1,500),np.arange(psth_start/1000,psth_end/1000+1,0.5))\n",
    "xlabel('Time from recall (s)')\n",
    "ylabel('Trial')\n",
    "ax = plt.gca()\n",
    "ax.set_xlim(psth_start-100,psth_end+100)\n",
    "plot([0,0],[ax.get_ylim()[0],ax.get_ylim()[1]], linewidth=1,linestyle='-',color=(0,0,0))\n",
    "\n",
    "last_sub = sub_names[0]\n",
    "last_sess = sub_sess_names[0]\n",
    "channels_per_session = []\n",
    "trial_accum = 0\n",
    "for s in range(0,len(trial_nums)):\n",
    "    if (sub_names[s] != last_sub) | (s==1) | (s==0):\n",
    "        if s != 1:\n",
    "            # plot dark gray line between subjects\n",
    "            plot([ax.get_xlim()[0],ax.get_xlim()[1]],(0.5+np.sum(trial_nums[:s]))*np.ones(2),linewidth=1.5,linestyle='-',color=between_subject_color)\n",
    "            last_sub = sub_names[s]\n",
    "            text(2100,0.5+np.sum(trial_nums[:s]),sub_names[s])\n",
    "        elif s == 0:\n",
    "            text(2100,0,sub_names[s])\n",
    "        else: \n",
    "            if session_dividers_on==1:\n",
    "                # if 1st sub though gotta print that first gray line \n",
    "                plot([ax.get_xlim()[0],ax.get_xlim()[1]],(0.5+np.sum(trial_nums[:s]))*np.ones(2),linewidth=0.5,linestyle='-',color=between_session_color)\n",
    "                text(2100,0,sub_names[s]) # and print 1st sub name at y=0\n",
    "    else: # plot lines between electrodes\n",
    "        if elec_dividers_on == 1:\n",
    "            plot([ax.get_xlim()[0],ax.get_xlim()[1]],(0.5+np.sum(trial_nums[:s]))*np.ones(2),linewidth=0.5,linestyle='-',color=(.8,.8,.8))\n",
    "    # plot lines between sessions\n",
    "    if session_dividers_on==1:\n",
    "        if sub_sess_names[s] != last_sess:\n",
    "            plot([ax.get_xlim()[0],ax.get_xlim()[1]],(0.5+np.sum(trial_nums[:s]))*np.ones(2),linewidth=0.75,linestyle='-',color=between_session_color)\n",
    "            last_sess = sub_sess_names[s]\n",
    "            \n",
    "    channels_per_session.append(np.unique(channel_nums_array[int(trial_accum):int(trial_accum+trial_nums[s])]))\n",
    "    trial_accum = trial_accum+trial_nums[s]\n",
    "    \n",
    "plot([ax.get_xlim()[0],ax.get_xlim()[1]],-.5*np.ones(2),linewidth=1,linestyle='-',color=(.4,.4,.4))        \n",
    "plot([ax.get_xlim()[0],ax.get_xlim()[1]],(0.5+np.sum(trial_nums))*np.ones(2),linewidth=1,linestyle='-',color=(.4,.4,.4))\n",
    "ax.autoscale(enable=True, axis='y', tight=True)\n",
    "plt.tight_layout()\n",
    "# print('Total FR events: '+str(total_recalls)) # these were in whole retrieval period so not kept in usual ripple alignment\n",
    "# print('Kept FR events: '+str(kept_recalls))\n",
    "print(start_array.shape);\n",
    "if save_raster == 1:\n",
    "    if elec_dividers_on == 1:\n",
    "        plt.savefig('../figures/rasters/'+exp+'_'+'raster_'+region_name+'_'+location_selected+\n",
    "                    '-'+str(recall_type_switch)+'-'+filter_type+'.pdf',transparent=True)       \n",
    "    else:\n",
    "        plt.savefig('../figures/rasters/'+exp+'_'+'raster_'+region_name+'_'+location_selected+\n",
    "                    '-'+str(recall_type_switch)+'no_elecs-'+filter_type+'.pdf',transparent=True)\n",
    "a=1;"
   ]
  },
  {
   "cell_type": "code",
   "execution_count": null,
   "metadata": {},
   "outputs": [],
   "source": []
  },
  {
   "cell_type": "code",
   "execution_count": null,
   "metadata": {},
   "outputs": [],
   "source": []
  },
  {
   "cell_type": "code",
   "execution_count": null,
   "metadata": {},
   "outputs": [],
   "source": [
    "test = read_single_matlab_matrix_as_numpy_structured_array(\n",
    "                '/data/eeg/'+sub+'/behavioral/'+behav_names[i_sub][i_session]+'/session_'+str(session)+'/events.mat', 'events')\n",
    "np.shape(test)\n",
    "np.array(test.dtype.names)\n",
    "pd.DataFrame.from_records(test)\n",
    "\n",
    "test2 = read_single_matlab_matrix_as_numpy_structured_array(\n",
    "                '/data/eeg/'+sub+'/behavioral/'+behav_names[i_sub][i_session]+'/session_'+str(session)+'/MATH_events.mat', 'events')\n",
    "np.shape(test2)\n",
    "np.array(test2.dtype.names)\n",
    "pd.DataFrame.from_records(test2)\n",
    "\n",
    "# sub = 'UT162'\n",
    "# session = 1\n",
    "\n",
    "# evs = pd.DataFrame.from_records( read_single_matlab_matrix_as_numpy_structured_array(\n",
    "#        '/data/eeg/'+sub+'/behavioral/'+behav_names[i_sub][1]+'/session_'+str(1)+'/events.mat', 'events') )   \n",
    "\n",
    "# # UTSW data annoyingly uses 'item' instead of 'item_name'\n",
    "# evs = evs.rename(columns={\"item\": \"item_name\"})\n",
    "\n",
    "# # 1) change evs.recalled to False 2) comment out nonrepeat_indicator>0 for good_recalls = (or it removes all the -1s) \n",
    "# # 3) set getOutputPositions to [] 4) change save name at bottom to '_intrusions.p'\n",
    "# evs_free_recall = evs[(evs.type=='REC_WORD') & (evs.intrusion==0)] # recalled word AND correct (from this list...False for instrusions).        \n",
    "# word_evs = evs[evs['type']=='WORD'] # get words \n",
    "\n",
    "# test1 = read_single_matlab_matrix_as_numpy_structured_array(\n",
    "#                 '/data/eeg/'+sub+'/behavioral/'+behav_names[i_sub][i_session]+'/session_'+str(session)+'/events.mat','events')\n",
    "# test1\n",
    "# type(test1)\n",
    "# np.shape(test1)\n",
    "# pd.DataFrame.from_records(test1)\n",
    "\n",
    "# test = read_single_matlab_matrix_as_numpy_structured_array(\n",
    "#                 '/data/eeg/'+sub+'/behavioral/'+behav_names[i_sub][i_session]+'/session_'+str(session)+'/MATH_events.mat','MATH_events')\n",
    "# test\n",
    "# type(test)\n",
    "# np.shape(test)"
   ]
  }
 ],
 "metadata": {
  "kernelspec": {
   "display_name": "env1",
   "language": "python",
   "name": "env1"
  },
  "language_info": {
   "codemirror_mode": {
    "name": "ipython",
    "version": 3
   },
   "file_extension": ".py",
   "mimetype": "text/x-python",
   "name": "python",
   "nbconvert_exporter": "python",
   "pygments_lexer": "ipython3",
   "version": "3.7.5"
  }
 },
 "nbformat": 4,
 "nbformat_minor": 4
}
