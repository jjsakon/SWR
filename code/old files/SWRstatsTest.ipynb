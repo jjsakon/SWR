{
 "cells": [
  {
   "cell_type": "code",
   "execution_count": null,
   "metadata": {},
   "outputs": [],
   "source": [
    "## 2020-07-23 got this working in SWRanalysis. Backed up in github before this date"
   ]
  },
  {
   "cell_type": "markdown",
   "metadata": {},
   "source": [
    "## figure out right way to do stats for recall ripple plot"
   ]
  },
  {
   "cell_type": "code",
   "execution_count": 1,
   "metadata": {},
   "outputs": [
    {
     "name": "stderr",
     "output_type": "stream",
     "text": [
      "/home1/john/anaconda3/envs/env1/lib/python3.7/site-packages/ptsa/data/timeseries.py:526: FutureWarning: xarray subclass TimeSeriesX should explicitly define __slots__\n",
      "  class TimeSeriesX(TimeSeries):\n"
     ]
    }
   ],
   "source": [
    "import pandas as pd; pd.set_option('display.max_columns', 30)\n",
    "import numpy as np\n",
    "from cmlreaders import CMLReader, get_data_index\n",
    "from ptsa.data.filters import ButterworthFilter\n",
    "import sys\n",
    "import os\n",
    "import matplotlib.pyplot as plt\n",
    "%matplotlib inline\n",
    "from pylab import *\n",
    "from copy import copy\n",
    "from scipy import stats\n",
    "import pickle\n",
    "plt.rcParams['pdf.fonttype'] = 42; plt.rcParams['ps.fonttype'] = 42 # fix fonts for Illustrator\n",
    "sys.path.append('/home1/john/Downloads/ptsa_plot-master/')\n",
    "sys.path.append('/home1/john/johnModules')\n",
    "from brain_labels import MTL_labels, LTC_labels, PFC_labels, OTHER_labels, ALL_labels # all location labels\n",
    "%load_ext autoreload\n",
    "%autoreload\n",
    "from general import *\n",
    "from SWRmodule import *\n",
    "\n",
    "df = get_data_index(\"r1\") # all RAM subjects\n",
    "HPC_labels = [MTL_labels[i] for i in [0,1,2,3,4,8,9,10,11,12,20,24,25]] # all labels within HPC\n",
    "ENT_labels = [MTL_labels[i] for i in [6,14,22,26,28]] # all labels within entorhinal\n",
    "exp = 'FR1'\n",
    "poss_subs = df[df.experiment == exp]"
   ]
  },
  {
   "cell_type": "code",
   "execution_count": 2,
   "metadata": {},
   "outputs": [
    {
     "name": "stderr",
     "output_type": "stream",
     "text": [
      "/home1/john/anaconda3/envs/env1/lib/python3.7/site-packages/ipykernel_launcher.py:18: UserWarning: Boolean Series key will be reindexed to match DataFrame index.\n"
     ]
    },
    {
     "data": {
      "text/plain": [
       "(553, 17)"
      ]
     },
     "execution_count": 2,
     "metadata": {},
     "output_type": "execute_result"
    },
    {
     "data": {
      "text/html": [
       "<div>\n",
       "<style scoped>\n",
       "    .dataframe tbody tr th:only-of-type {\n",
       "        vertical-align: middle;\n",
       "    }\n",
       "\n",
       "    .dataframe tbody tr th {\n",
       "        vertical-align: top;\n",
       "    }\n",
       "\n",
       "    .dataframe thead th {\n",
       "        text-align: right;\n",
       "    }\n",
       "</style>\n",
       "<table border=\"1\" class=\"dataframe\">\n",
       "  <thead>\n",
       "    <tr style=\"text-align: right;\">\n",
       "      <th></th>\n",
       "      <th>Recognition</th>\n",
       "      <th>all_events</th>\n",
       "      <th>contacts</th>\n",
       "      <th>experiment</th>\n",
       "      <th>import_type</th>\n",
       "      <th>localization</th>\n",
       "      <th>math_events</th>\n",
       "      <th>montage</th>\n",
       "      <th>original_experiment</th>\n",
       "      <th>original_session</th>\n",
       "      <th>pairs</th>\n",
       "      <th>ps4_events</th>\n",
       "      <th>session</th>\n",
       "      <th>subject</th>\n",
       "      <th>subject_alias</th>\n",
       "      <th>system_version</th>\n",
       "      <th>task_events</th>\n",
       "    </tr>\n",
       "  </thead>\n",
       "  <tbody>\n",
       "    <tr>\n",
       "      <th>0</th>\n",
       "      <td>NaN</td>\n",
       "      <td>protocols/r1/subjects/R1001P/experiments/FR1/s...</td>\n",
       "      <td>protocols/r1/subjects/R1001P/localizations/0/m...</td>\n",
       "      <td>FR1</td>\n",
       "      <td>build</td>\n",
       "      <td>0</td>\n",
       "      <td>protocols/r1/subjects/R1001P/experiments/FR1/s...</td>\n",
       "      <td>0</td>\n",
       "      <td>NaN</td>\n",
       "      <td>0</td>\n",
       "      <td>protocols/r1/subjects/R1001P/localizations/0/m...</td>\n",
       "      <td>NaN</td>\n",
       "      <td>0</td>\n",
       "      <td>R1001P</td>\n",
       "      <td>R1001P</td>\n",
       "      <td>NaN</td>\n",
       "      <td>protocols/r1/subjects/R1001P/experiments/FR1/s...</td>\n",
       "    </tr>\n",
       "    <tr>\n",
       "      <th>1</th>\n",
       "      <td>NaN</td>\n",
       "      <td>protocols/r1/subjects/R1001P/experiments/FR1/s...</td>\n",
       "      <td>protocols/r1/subjects/R1001P/localizations/0/m...</td>\n",
       "      <td>FR1</td>\n",
       "      <td>build</td>\n",
       "      <td>0</td>\n",
       "      <td>protocols/r1/subjects/R1001P/experiments/FR1/s...</td>\n",
       "      <td>0</td>\n",
       "      <td>NaN</td>\n",
       "      <td>1</td>\n",
       "      <td>protocols/r1/subjects/R1001P/localizations/0/m...</td>\n",
       "      <td>NaN</td>\n",
       "      <td>1</td>\n",
       "      <td>R1001P</td>\n",
       "      <td>R1001P</td>\n",
       "      <td>NaN</td>\n",
       "      <td>protocols/r1/subjects/R1001P/experiments/FR1/s...</td>\n",
       "    </tr>\n",
       "    <tr>\n",
       "      <th>9</th>\n",
       "      <td>NaN</td>\n",
       "      <td>protocols/r1/subjects/R1002P/experiments/FR1/s...</td>\n",
       "      <td>protocols/r1/subjects/R1002P/localizations/0/m...</td>\n",
       "      <td>FR1</td>\n",
       "      <td>build</td>\n",
       "      <td>0</td>\n",
       "      <td>protocols/r1/subjects/R1002P/experiments/FR1/s...</td>\n",
       "      <td>0</td>\n",
       "      <td>NaN</td>\n",
       "      <td>0</td>\n",
       "      <td>protocols/r1/subjects/R1002P/localizations/0/m...</td>\n",
       "      <td>NaN</td>\n",
       "      <td>0</td>\n",
       "      <td>R1002P</td>\n",
       "      <td>R1002P</td>\n",
       "      <td>NaN</td>\n",
       "      <td>protocols/r1/subjects/R1002P/experiments/FR1/s...</td>\n",
       "    </tr>\n",
       "    <tr>\n",
       "      <th>10</th>\n",
       "      <td>NaN</td>\n",
       "      <td>protocols/r1/subjects/R1002P/experiments/FR1/s...</td>\n",
       "      <td>protocols/r1/subjects/R1002P/localizations/0/m...</td>\n",
       "      <td>FR1</td>\n",
       "      <td>build</td>\n",
       "      <td>0</td>\n",
       "      <td>protocols/r1/subjects/R1002P/experiments/FR1/s...</td>\n",
       "      <td>0</td>\n",
       "      <td>NaN</td>\n",
       "      <td>1</td>\n",
       "      <td>protocols/r1/subjects/R1002P/localizations/0/m...</td>\n",
       "      <td>NaN</td>\n",
       "      <td>1</td>\n",
       "      <td>R1002P</td>\n",
       "      <td>R1002P</td>\n",
       "      <td>NaN</td>\n",
       "      <td>protocols/r1/subjects/R1002P/experiments/FR1/s...</td>\n",
       "    </tr>\n",
       "    <tr>\n",
       "      <th>17</th>\n",
       "      <td>NaN</td>\n",
       "      <td>protocols/r1/subjects/R1003P/experiments/FR1/s...</td>\n",
       "      <td>protocols/r1/subjects/R1003P/localizations/0/m...</td>\n",
       "      <td>FR1</td>\n",
       "      <td>build</td>\n",
       "      <td>0</td>\n",
       "      <td>protocols/r1/subjects/R1003P/experiments/FR1/s...</td>\n",
       "      <td>0</td>\n",
       "      <td>NaN</td>\n",
       "      <td>0</td>\n",
       "      <td>protocols/r1/subjects/R1003P/localizations/0/m...</td>\n",
       "      <td>NaN</td>\n",
       "      <td>0</td>\n",
       "      <td>R1003P</td>\n",
       "      <td>R1003P</td>\n",
       "      <td>1.0</td>\n",
       "      <td>protocols/r1/subjects/R1003P/experiments/FR1/s...</td>\n",
       "    </tr>\n",
       "    <tr>\n",
       "      <th>...</th>\n",
       "      <td>...</td>\n",
       "      <td>...</td>\n",
       "      <td>...</td>\n",
       "      <td>...</td>\n",
       "      <td>...</td>\n",
       "      <td>...</td>\n",
       "      <td>...</td>\n",
       "      <td>...</td>\n",
       "      <td>...</td>\n",
       "      <td>...</td>\n",
       "      <td>...</td>\n",
       "      <td>...</td>\n",
       "      <td>...</td>\n",
       "      <td>...</td>\n",
       "      <td>...</td>\n",
       "      <td>...</td>\n",
       "      <td>...</td>\n",
       "    </tr>\n",
       "    <tr>\n",
       "      <th>2146</th>\n",
       "      <td>NaN</td>\n",
       "      <td>protocols/r1/subjects/R1462M/experiments/FR1/s...</td>\n",
       "      <td>protocols/r1/subjects/R1462M/localizations/0/m...</td>\n",
       "      <td>FR1</td>\n",
       "      <td>build</td>\n",
       "      <td>0</td>\n",
       "      <td>protocols/r1/subjects/R1462M/experiments/FR1/s...</td>\n",
       "      <td>0</td>\n",
       "      <td>NaN</td>\n",
       "      <td>NaN</td>\n",
       "      <td>protocols/r1/subjects/R1462M/localizations/0/m...</td>\n",
       "      <td>NaN</td>\n",
       "      <td>0</td>\n",
       "      <td>R1462M</td>\n",
       "      <td>R1462M</td>\n",
       "      <td>3.4</td>\n",
       "      <td>protocols/r1/subjects/R1462M/experiments/FR1/s...</td>\n",
       "    </tr>\n",
       "    <tr>\n",
       "      <th>2148</th>\n",
       "      <td>NaN</td>\n",
       "      <td>protocols/r1/subjects/R1463E/experiments/FR1/s...</td>\n",
       "      <td>protocols/r1/subjects/R1463E/localizations/1/m...</td>\n",
       "      <td>FR1</td>\n",
       "      <td>build</td>\n",
       "      <td>1</td>\n",
       "      <td>protocols/r1/subjects/R1463E/experiments/FR1/s...</td>\n",
       "      <td>1</td>\n",
       "      <td>NaN</td>\n",
       "      <td>0</td>\n",
       "      <td>protocols/r1/subjects/R1463E/localizations/1/m...</td>\n",
       "      <td>NaN</td>\n",
       "      <td>0</td>\n",
       "      <td>R1463E</td>\n",
       "      <td>R1463E_1</td>\n",
       "      <td>3.4</td>\n",
       "      <td>protocols/r1/subjects/R1463E/experiments/FR1/s...</td>\n",
       "    </tr>\n",
       "    <tr>\n",
       "      <th>2149</th>\n",
       "      <td>NaN</td>\n",
       "      <td>protocols/r1/subjects/R1463E/experiments/FR1/s...</td>\n",
       "      <td>protocols/r1/subjects/R1463E/localizations/1/m...</td>\n",
       "      <td>FR1</td>\n",
       "      <td>build</td>\n",
       "      <td>1</td>\n",
       "      <td>protocols/r1/subjects/R1463E/experiments/FR1/s...</td>\n",
       "      <td>1</td>\n",
       "      <td>NaN</td>\n",
       "      <td>1</td>\n",
       "      <td>protocols/r1/subjects/R1463E/localizations/1/m...</td>\n",
       "      <td>NaN</td>\n",
       "      <td>1</td>\n",
       "      <td>R1463E</td>\n",
       "      <td>R1463E_1</td>\n",
       "      <td>3.4</td>\n",
       "      <td>protocols/r1/subjects/R1463E/experiments/FR1/s...</td>\n",
       "    </tr>\n",
       "    <tr>\n",
       "      <th>2163</th>\n",
       "      <td>NaN</td>\n",
       "      <td>protocols/r1/subjects/R1466J/experiments/FR1/s...</td>\n",
       "      <td>protocols/r1/subjects/R1466J/localizations/0/m...</td>\n",
       "      <td>FR1</td>\n",
       "      <td>build</td>\n",
       "      <td>0</td>\n",
       "      <td>protocols/r1/subjects/R1466J/experiments/FR1/s...</td>\n",
       "      <td>0</td>\n",
       "      <td>NaN</td>\n",
       "      <td>NaN</td>\n",
       "      <td>protocols/r1/subjects/R1466J/localizations/0/m...</td>\n",
       "      <td>NaN</td>\n",
       "      <td>0</td>\n",
       "      <td>R1466J</td>\n",
       "      <td>R1466J</td>\n",
       "      <td>3.4</td>\n",
       "      <td>protocols/r1/subjects/R1466J/experiments/FR1/s...</td>\n",
       "    </tr>\n",
       "    <tr>\n",
       "      <th>2167</th>\n",
       "      <td>NaN</td>\n",
       "      <td>protocols/r1/subjects/R1467M/experiments/FR1/s...</td>\n",
       "      <td>protocols/r1/subjects/R1467M/localizations/0/m...</td>\n",
       "      <td>FR1</td>\n",
       "      <td>build</td>\n",
       "      <td>0</td>\n",
       "      <td>protocols/r1/subjects/R1467M/experiments/FR1/s...</td>\n",
       "      <td>0</td>\n",
       "      <td>NaN</td>\n",
       "      <td>NaN</td>\n",
       "      <td>protocols/r1/subjects/R1467M/localizations/0/m...</td>\n",
       "      <td>NaN</td>\n",
       "      <td>0</td>\n",
       "      <td>R1467M</td>\n",
       "      <td>R1467M</td>\n",
       "      <td>3.4</td>\n",
       "      <td>protocols/r1/subjects/R1467M/experiments/FR1/s...</td>\n",
       "    </tr>\n",
       "  </tbody>\n",
       "</table>\n",
       "<p>553 rows × 17 columns</p>\n",
       "</div>"
      ],
      "text/plain": [
       "     Recognition                                         all_events  \\\n",
       "0            NaN  protocols/r1/subjects/R1001P/experiments/FR1/s...   \n",
       "1            NaN  protocols/r1/subjects/R1001P/experiments/FR1/s...   \n",
       "9            NaN  protocols/r1/subjects/R1002P/experiments/FR1/s...   \n",
       "10           NaN  protocols/r1/subjects/R1002P/experiments/FR1/s...   \n",
       "17           NaN  protocols/r1/subjects/R1003P/experiments/FR1/s...   \n",
       "...          ...                                                ...   \n",
       "2146         NaN  protocols/r1/subjects/R1462M/experiments/FR1/s...   \n",
       "2148         NaN  protocols/r1/subjects/R1463E/experiments/FR1/s...   \n",
       "2149         NaN  protocols/r1/subjects/R1463E/experiments/FR1/s...   \n",
       "2163         NaN  protocols/r1/subjects/R1466J/experiments/FR1/s...   \n",
       "2167         NaN  protocols/r1/subjects/R1467M/experiments/FR1/s...   \n",
       "\n",
       "                                               contacts experiment  \\\n",
       "0     protocols/r1/subjects/R1001P/localizations/0/m...        FR1   \n",
       "1     protocols/r1/subjects/R1001P/localizations/0/m...        FR1   \n",
       "9     protocols/r1/subjects/R1002P/localizations/0/m...        FR1   \n",
       "10    protocols/r1/subjects/R1002P/localizations/0/m...        FR1   \n",
       "17    protocols/r1/subjects/R1003P/localizations/0/m...        FR1   \n",
       "...                                                 ...        ...   \n",
       "2146  protocols/r1/subjects/R1462M/localizations/0/m...        FR1   \n",
       "2148  protocols/r1/subjects/R1463E/localizations/1/m...        FR1   \n",
       "2149  protocols/r1/subjects/R1463E/localizations/1/m...        FR1   \n",
       "2163  protocols/r1/subjects/R1466J/localizations/0/m...        FR1   \n",
       "2167  protocols/r1/subjects/R1467M/localizations/0/m...        FR1   \n",
       "\n",
       "     import_type  localization  \\\n",
       "0          build             0   \n",
       "1          build             0   \n",
       "9          build             0   \n",
       "10         build             0   \n",
       "17         build             0   \n",
       "...          ...           ...   \n",
       "2146       build             0   \n",
       "2148       build             1   \n",
       "2149       build             1   \n",
       "2163       build             0   \n",
       "2167       build             0   \n",
       "\n",
       "                                            math_events  montage  \\\n",
       "0     protocols/r1/subjects/R1001P/experiments/FR1/s...        0   \n",
       "1     protocols/r1/subjects/R1001P/experiments/FR1/s...        0   \n",
       "9     protocols/r1/subjects/R1002P/experiments/FR1/s...        0   \n",
       "10    protocols/r1/subjects/R1002P/experiments/FR1/s...        0   \n",
       "17    protocols/r1/subjects/R1003P/experiments/FR1/s...        0   \n",
       "...                                                 ...      ...   \n",
       "2146  protocols/r1/subjects/R1462M/experiments/FR1/s...        0   \n",
       "2148  protocols/r1/subjects/R1463E/experiments/FR1/s...        1   \n",
       "2149  protocols/r1/subjects/R1463E/experiments/FR1/s...        1   \n",
       "2163  protocols/r1/subjects/R1466J/experiments/FR1/s...        0   \n",
       "2167  protocols/r1/subjects/R1467M/experiments/FR1/s...        0   \n",
       "\n",
       "     original_experiment original_session  \\\n",
       "0                    NaN                0   \n",
       "1                    NaN                1   \n",
       "9                    NaN                0   \n",
       "10                   NaN                1   \n",
       "17                   NaN                0   \n",
       "...                  ...              ...   \n",
       "2146                 NaN              NaN   \n",
       "2148                 NaN                0   \n",
       "2149                 NaN                1   \n",
       "2163                 NaN              NaN   \n",
       "2167                 NaN              NaN   \n",
       "\n",
       "                                                  pairs ps4_events  session  \\\n",
       "0     protocols/r1/subjects/R1001P/localizations/0/m...        NaN        0   \n",
       "1     protocols/r1/subjects/R1001P/localizations/0/m...        NaN        1   \n",
       "9     protocols/r1/subjects/R1002P/localizations/0/m...        NaN        0   \n",
       "10    protocols/r1/subjects/R1002P/localizations/0/m...        NaN        1   \n",
       "17    protocols/r1/subjects/R1003P/localizations/0/m...        NaN        0   \n",
       "...                                                 ...        ...      ...   \n",
       "2146  protocols/r1/subjects/R1462M/localizations/0/m...        NaN        0   \n",
       "2148  protocols/r1/subjects/R1463E/localizations/1/m...        NaN        0   \n",
       "2149  protocols/r1/subjects/R1463E/localizations/1/m...        NaN        1   \n",
       "2163  protocols/r1/subjects/R1466J/localizations/0/m...        NaN        0   \n",
       "2167  protocols/r1/subjects/R1467M/localizations/0/m...        NaN        0   \n",
       "\n",
       "     subject subject_alias  system_version  \\\n",
       "0     R1001P        R1001P             NaN   \n",
       "1     R1001P        R1001P             NaN   \n",
       "9     R1002P        R1002P             NaN   \n",
       "10    R1002P        R1002P             NaN   \n",
       "17    R1003P        R1003P             1.0   \n",
       "...      ...           ...             ...   \n",
       "2146  R1462M        R1462M             3.4   \n",
       "2148  R1463E      R1463E_1             3.4   \n",
       "2149  R1463E      R1463E_1             3.4   \n",
       "2163  R1466J        R1466J             3.4   \n",
       "2167  R1467M        R1467M             3.4   \n",
       "\n",
       "                                            task_events  \n",
       "0     protocols/r1/subjects/R1001P/experiments/FR1/s...  \n",
       "1     protocols/r1/subjects/R1001P/experiments/FR1/s...  \n",
       "9     protocols/r1/subjects/R1002P/experiments/FR1/s...  \n",
       "10    protocols/r1/subjects/R1002P/experiments/FR1/s...  \n",
       "17    protocols/r1/subjects/R1003P/experiments/FR1/s...  \n",
       "...                                                 ...  \n",
       "2146  protocols/r1/subjects/R1462M/experiments/FR1/s...  \n",
       "2148  protocols/r1/subjects/R1463E/experiments/FR1/s...  \n",
       "2149  protocols/r1/subjects/R1463E/experiments/FR1/s...  \n",
       "2163  protocols/r1/subjects/R1466J/experiments/FR1/s...  \n",
       "2167  protocols/r1/subjects/R1467M/experiments/FR1/s...  \n",
       "\n",
       "[553 rows x 17 columns]"
      ]
     },
     "execution_count": 2,
     "metadata": {},
     "output_type": "execute_result"
    }
   ],
   "source": [
    "# 575 FR sessions. first 18 of don't load so skip those \n",
    "exp_df = df[df.experiment==exp]\n",
    "exp_df = exp_df[\n",
    "                ((df.subject!='R1015J') | (df.session!=0)) & \n",
    "                ((df.subject!='R1063C') | (df.session!=1)) & \n",
    "                ((df.subject!='R1093J') | (~df.session.isin([1,2]))) &\n",
    "                ((df.subject!='R1100D') | (~df.session.isin([0,1,2]))) &\n",
    "                ((df.subject!='R1120E') | (df.session!=0)) &\n",
    "                ((df.subject!='R1122E') | (df.session!=2)) &\n",
    "                ((df.subject!='R1154D') | (df.session!=0)) &\n",
    "                ((df.subject!='R1186P') | (df.session!=0)) &\n",
    "                ((df.subject!='R1201P') | (~df.session.isin([0,1]))) &\n",
    "                ((df.subject!='R1216E') | (~df.session.isin([0,1,2]))) &\n",
    "                ((df.subject!='R1277J') | (df.session!=0)) &\n",
    "                ((df.subject!='R1413D') | (df.session!=0)) & \n",
    "                ((df.subject!='R1123C') | (df.session!=2)) & # artifacts that bleed through channels (see SWR FR1 prob sessions ppt)\n",
    "                ((df.subject!='R1151E') | (~df.session.isin([1,2]))) & # more bleed-through artifacts (see same ppt)\n",
    "                ((df.subject!='R1275D') | (df.session!=3)) # 3rd session an actual repeat of 2nd session (Paul should have removed from database by now)\n",
    "               ] \n",
    "exp_df.shape\n",
    "exp_df"
   ]
  },
  {
   "cell_type": "markdown",
   "metadata": {},
   "source": [
    "## Load from cluster run"
   ]
  },
  {
   "cell_type": "code",
   "execution_count": 3,
   "metadata": {},
   "outputs": [
    {
     "name": "stdout",
     "output_type": "stream",
     "text": [
      "2020-07-13_11-46-27: DF Exception: Sub: R1147P, Sess: 1, FileNotFoundError, [Errno 2] No such file or directory: '/scratch/john/SWR_scratch/SWR_FR1_R1147P_1_HPC_surrounding_recall_soz_in.p', file: <ipython-input-3-6c198b13def7>, line no: 38\n",
      "2020-07-13_11-46-30: DF Exception: Sub: R1243T, Sess: 3, FileNotFoundError, [Errno 2] No such file or directory: '/scratch/john/SWR_scratch/SWR_FR1_R1243T_3_HPC_surrounding_recall_soz_in.p', file: <ipython-input-3-6c198b13def7>, line no: 38\n",
      "2020-07-13_11-46-33: DF Exception: Sub: R1334T, Sess: 2, FileNotFoundError, [Errno 2] No such file or directory: '/scratch/john/SWR_scratch/SWR_FR1_R1334T_2_HPC_surrounding_recall_soz_in.p', file: <ipython-input-3-6c198b13def7>, line no: 38\n",
      "2020-07-13_11-46-33: DF Exception: Sub: R1342M, Sess: 1, FileNotFoundError, [Errno 2] No such file or directory: '/scratch/john/SWR_scratch/SWR_FR1_R1342M_1_HPC_surrounding_recall_soz_in.p', file: <ipython-input-3-6c198b13def7>, line no: 38\n",
      "Done loading!!\n"
     ]
    }
   ],
   "source": [
    "## Now to load data from cluster, have to go through and append across sessions\n",
    "\n",
    "### params that clusterRun used\n",
    "selected_period = 'surrounding_recall' # surrounding_recall # whole_retrieval # encoding \n",
    "region_name = 'HPC' #'ENT' #'HPC' #HPC_ENT #ENT #HPC \n",
    "remove_soz_ictal = False\n",
    "###\n",
    "\n",
    "if remove_soz_ictal == False:\n",
    "    soz_label = 'soz_in'\n",
    "else:\n",
    "    soz_label = 'soz_out'\n",
    "ripple_array = []; \n",
    "trial_nums = []; encoded_word_key_array = []\n",
    "HPC_names = []; sub_sess_names = []\n",
    "region_electrode_ct = []; sub_names = []\n",
    "trial_by_trial_correlation = []; elec_ripple_rate_array = []\n",
    "elec_by_elec_correlation = []\n",
    "\n",
    "## Let's randomly take half the sessions with a consistent seed\n",
    "# half_sessions = np.floor(len(exp_df)/2)\n",
    "# np.random.seed(44445)\n",
    "# randomized_half = np.random.permutation(range(len(exp_df)))[0:int(half_sessions)]\n",
    "# half_df = exp_df.iloc[randomized_half]\n",
    "\n",
    "# Actually I think it makes more sense to take half the subjects\n",
    "from SWRmodule import total_sub_names # all the unique sub names for FR1 task in df\n",
    "np.random.seed(44462) # 44462 gives 25.5k trials\n",
    "random_half_sub_names = np.random.permutation(np.unique(total_sub_names))[:int(np.floor(len(np.unique(total_sub_names))/2))]\n",
    "half_sub_idxs = np.array(findAinB(random_half_sub_names,exp_df.subject))\n",
    "half_df = exp_df.iloc[half_sub_idxs]\n",
    "\n",
    "for row in half_df.itertuples(): #sub_df.itertuples():   #exp_df.itertuples():  #half_df.itertuples(): \n",
    "    try:\n",
    "        sub = row.subject; session = row.session; exp = row.experiment\n",
    "        fn = os.path.join('/scratch/john/SWR_scratch/',\n",
    "            'SWR_'+exp+'_'+sub+'_'+str(session)+'_'+region_name+'_'+selected_period+'_'+soz_label+'.p') \n",
    "        with open(fn,'rb') as f:\n",
    "            dat = pickle.load(f)\n",
    "            ripple_array = superVstack(ripple_array,dat['ripple_array']) \n",
    "            region_electrode_ct.append(dat['region_electrode_ct'])\n",
    "            encoded_word_key_array.append(dat['encoded_word_key_array'])\n",
    "            HPC_names.extend(dat['HPC_names'])\n",
    "            sub_sess_names.extend(dat['sub_sess_names'])\n",
    "            sub_names.extend(dat['sub_names'])\n",
    "            trial_nums = np.append(trial_nums,dat['trial_nums'])\n",
    "            trial_by_trial_correlation.extend(dat['trial_by_trial_correlation']) # one value for each electrode for this session\n",
    "            elec_by_elec_correlation = np.append(elec_by_elec_correlation,dat['elec_by_elec_correlation'])\n",
    "            elec_ripple_rate_array.extend(dat['elec_ripple_rate_array']) # ripple rate by electrode so append\n",
    "            #,'total_recalls':total_recalls, 'kept_recalls':kept_recalls}, f)\n",
    "            if selected_period == 'whole_retrieval':\n",
    "                fr_array = superVstack(fr_array,dat['fr_array'])\n",
    "        \n",
    "    except Exception as e:\n",
    "        LogDFExceptionLine(row, e, 'ClusterLoadSWRTest_log.txt')\n",
    "print('Done loading!!')"
   ]
  },
  {
   "cell_type": "code",
   "execution_count": 4,
   "metadata": {},
   "outputs": [
    {
     "data": {
      "text/plain": [
       "(25544, 2000)"
      ]
     },
     "execution_count": 4,
     "metadata": {},
     "output_type": "execute_result"
    },
    {
     "data": {
      "text/plain": [
       "array([ 5,  5,  6,  3,  2,  8,  5,  5,  4,  5,  3,  8,  3,  1,  1,  3, 17,\n",
       "       17, 17, 17, 17, 17,  1,  2,  2,  4,  4,  4,  4,  7,  7,  5,  5,  5,\n",
       "        5,  5,  0,  1,  0,  1, 11, 10, 11,  9,  8,  4,  1,  1,  3,  6,  5,\n",
       "        2,  3,  3,  2, 10, 10,  3,  8,  8,  8,  4,  1,  4,  4,  5,  4,  4,\n",
       "        4,  1,  1,  2,  1,  1,  1,  1,  1,  1,  1,  4,  0,  0,  2,  3,  2,\n",
       "        4,  1,  3,  3,  3,  3,  2,  2,  2,  1,  1,  2,  1,  4,  4,  2,  3,\n",
       "        6,  8,  8,  3,  3,  3,  2,  2,  2,  2,  0,  8,  9,  2,  7,  5,  0,\n",
       "        3,  3,  1])"
      ]
     },
     "execution_count": 4,
     "metadata": {},
     "output_type": "execute_result"
    },
    {
     "name": "stdout",
     "output_type": "stream",
     "text": [
      "From 116/122 sessions with >0 HPC electrodes\n",
      "Total electrodes: 527\n",
      "Length of HPC names: 527\n"
     ]
    },
    {
     "data": {
      "text/plain": [
       "array([78., 78., 78., 78., 78., 52., 52., 52., 52., 52., 74., 74., 74.,\n",
       "       74., 74., 74., 46., 46., 46., 20.])"
      ]
     },
     "execution_count": 4,
     "metadata": {},
     "output_type": "execute_result"
    },
    {
     "name": "stdout",
     "output_type": "stream",
     "text": [
      "Total trials: 25544.0\n",
      "Unique sessions: 116\n",
      "Unique subjects: 57\n"
     ]
    }
   ],
   "source": [
    "## some info on data loaded from cluster runs ##\n",
    "\n",
    "ripple_array.shape\n",
    "np.array(region_electrode_ct)\n",
    "region_electrode_ct = np.array(region_electrode_ct)\n",
    "print('From '+str(sum(region_electrode_ct>0))+'/'+str(len(region_electrode_ct))+' sessions with >0 '+region_name+' electrodes')\n",
    "print('Total electrodes: '+str(sum(region_electrode_ct)))\n",
    "print('Length of HPC names: '+str(len(HPC_names)))\n",
    "trial_nums[0:20]\n",
    "print('Total trials: '+str(np.sum(trial_nums)))\n",
    "print('Unique sessions: '+str(len(np.unique(sub_sess_names))))\n",
    "print('Unique subjects: '+str(len(np.unique(sub_names))))"
   ]
  },
  {
   "cell_type": "markdown",
   "metadata": {},
   "source": [
    "# get start array"
   ]
  },
  {
   "cell_type": "code",
   "execution_count": 6,
   "metadata": {},
   "outputs": [
    {
     "name": "stdout",
     "output_type": "stream",
     "text": [
      "Total electrodes loaded: 527\n",
      "from 116 sessions from 57 subjects with trial nums:\n",
      "[78. 78. 78. 78. 78. 52. 52. 52. 52. 52. 74. 74. 74. 74. 74. 74. 46. 46.\n",
      " 46. 20.]\n",
      "Trial sum = 25544.0\n",
      "['left ca3', 'left ca1', 'right sub', 'right ca1', 'right ca1', 'left ca3', 'left ca1', 'right sub', 'right ca1', 'right ca1', 'right ca1', 'right dg', 'right dg', 'right sub', 'right sub', 'right ca1', 'left sub', 'left dg', 'left ca1', 'left ca1']\n",
      "Number of sub_sess names: 527\n",
      "SWRs rate in 4 s around FR: 0.3855602098340119\n"
     ]
    }
   ],
   "source": [
    "save_plot=0\n",
    "\n",
    "desired_sample_rate = 500\n",
    "sr = desired_sample_rate # fixed at this value since this is the minimum across data and can always downsample\n",
    "sr_factor = 1000/desired_sample_rate\n",
    "\n",
    "print('Total electrodes loaded: '+str(len(trial_nums)))\n",
    "print('from '+str(len(np.unique(sub_sess_names)))+' sessions from '+str(len(np.unique(sub_names)))+' subjects with trial nums:')\n",
    "print(trial_nums[0:20])\n",
    "print('Trial sum = '+str(np.sum(trial_nums)))\n",
    "print(HPC_names[0:20])\n",
    "print('Number of sub_sess names: '+str(len(sub_sess_names)))\n",
    "\n",
    "if selected_period == 'surrounding_recall':\n",
    "    start_array,end_array = getStartEndArrays(ripple_array)\n",
    "    print('SWRs rate in 4 s around FR: '+str(sum(start_array)/start_array.shape[0]/(4000/1000)))\n",
    "\n",
    "# plot whole retrieval period with FR events superimposed on SWRs\n",
    "if selected_period == 'whole_retrieval':\n",
    "    start_array2,end_array2 = getStartEndArrays(ripple_array) # for whole retrieval period\n",
    "    print('Base SWRs/30 s retrieval: '+str(sum(start_array2)/start_array2.shape[0]/(30000/1000)))\n",
    "    ## can go straight to \"SWRs by time in retrieval period\" from here\n"
   ]
  },
  {
   "cell_type": "markdown",
   "metadata": {},
   "source": [
    "# make binned_start_array which is trials X bins"
   ]
  },
  {
   "cell_type": "code",
   "execution_count": 10,
   "metadata": {},
   "outputs": [
    {
     "name": "stdout",
     "output_type": "stream",
     "text": [
      "done making binned start_array\n"
     ]
    }
   ],
   "source": [
    "# now to input time bin data give the average number of ripples in each bin\n",
    "bin_size = 100\n",
    "\n",
    "bins = np.arange(0,start_array.shape[1],bin_size/sr_factor) #start_array.shape[1]/bin_size*sr_factor\n",
    "bins = bins[2:-2] # remove edge bins\n",
    "bin_in_sr = bin_size/sr_factor\n",
    "bin_to_hz = 1000/bin_size*bin_in_sr # factor that converts binned matrix to Hz\n",
    "binned_start_array = [] # note this will be at instantaeous rate 50x lower because of bin_in_sr size\n",
    "for row in start_array:\n",
    "    temp_row = []\n",
    "    for time_bin in bins:\n",
    "        temp_row.append(bin_to_hz*np.mean(row[int(time_bin):int(time_bin+bin_in_sr)]))\n",
    "    binned_start_array = superVstack(binned_start_array,temp_row)\n",
    "print('done making binned start_array')"
   ]
  },
  {
   "cell_type": "code",
   "execution_count": 14,
   "metadata": {},
   "outputs": [
    {
     "data": {
      "text/plain": [
       "25544"
      ]
     },
     "execution_count": 14,
     "metadata": {},
     "output_type": "execute_result"
    },
    {
     "data": {
      "text/plain": [
       "25544"
      ]
     },
     "execution_count": 14,
     "metadata": {},
     "output_type": "execute_result"
    },
    {
     "data": {
      "text/plain": [
       "(25544, 36)"
      ]
     },
     "execution_count": 14,
     "metadata": {},
     "output_type": "execute_result"
    }
   ],
   "source": [
    "# get arrays of predictors for each trial so can set up ME model\n",
    "subject_name_array = []\n",
    "session_name_array = []\n",
    "\n",
    "trial_ct = 0\n",
    "for ct,subject in enumerate(sub_names):    \n",
    "    trials_this_loop = int(trial_nums[ct])\n",
    "    trial_ct = trial_ct + trials_this_loop \n",
    "    # update each array with subjects, sessions, and other prdictors\n",
    "    subject_name_array.extend(np.tile(subject,trials_this_loop))\n",
    "    session_name_array.extend(np.tile(sub_sess_names[ct],trials_this_loop))\n",
    "len(subject_name_array)\n",
    "len(session_name_array)\n",
    "binned_start_array.shape"
   ]
  },
  {
   "cell_type": "markdown",
   "metadata": {},
   "source": [
    "## get CIs for all bins"
   ]
  },
  {
   "cell_type": "code",
   "execution_count": 109,
   "metadata": {},
   "outputs": [
    {
     "data": {
      "text/plain": [
       "(25544, 36)"
      ]
     },
     "execution_count": 109,
     "metadata": {},
     "output_type": "execute_result"
    },
    {
     "name": "stderr",
     "output_type": "stream",
     "text": [
      "/home1/john/anaconda3/envs/env1/lib/python3.7/site-packages/statsmodels/regression/mixed_linear_model.py:2094: ConvergenceWarning: The MLE may be on the boundary of the parameter space.\n",
      "  warnings.warn(msg, ConvergenceWarning)\n",
      "/home1/john/anaconda3/envs/env1/lib/python3.7/site-packages/statsmodels/regression/mixed_linear_model.py:2094: ConvergenceWarning: The MLE may be on the boundary of the parameter space.\n",
      "  warnings.warn(msg, ConvergenceWarning)\n",
      "/home1/john/anaconda3/envs/env1/lib/python3.7/site-packages/statsmodels/regression/mixed_linear_model.py:2094: ConvergenceWarning: The MLE may be on the boundary of the parameter space.\n",
      "  warnings.warn(msg, ConvergenceWarning)\n",
      "/home1/john/anaconda3/envs/env1/lib/python3.7/site-packages/statsmodels/regression/mixed_linear_model.py:2094: ConvergenceWarning: The MLE may be on the boundary of the parameter space.\n",
      "  warnings.warn(msg, ConvergenceWarning)\n",
      "/home1/john/anaconda3/envs/env1/lib/python3.7/site-packages/statsmodels/regression/mixed_linear_model.py:2094: ConvergenceWarning: The MLE may be on the boundary of the parameter space.\n",
      "  warnings.warn(msg, ConvergenceWarning)\n",
      "/home1/john/anaconda3/envs/env1/lib/python3.7/site-packages/statsmodels/regression/mixed_linear_model.py:2094: ConvergenceWarning: The MLE may be on the boundary of the parameter space.\n",
      "  warnings.warn(msg, ConvergenceWarning)\n"
     ]
    }
   ],
   "source": [
    "import statsmodels.formula.api as smf\n",
    "\n",
    "# now, to set up ME regression, append each time_bin to bottom and duplicate\n",
    "binned_start_array.shape\n",
    "mean_values = []\n",
    "CIs = []\n",
    "for time_bin in range(np.shape(binned_start_array)[1]):\n",
    "    ripple_rates = binned_start_array[:,time_bin]\n",
    "    CI_df = pd.DataFrame(data={'session':session_name_array,'subject':subject_name_array,'ripple_rates':ripple_rates})\n",
    "    # now get the CIs JUST for this time bin\n",
    "    vc = {'session':'0+session'}\n",
    "    get_bin_CI_model = smf.mixedlm(\"ripple_rates ~ 1\", CI_df, groups=\"subject\", vc_formula=vc)\n",
    "    bin_model = get_bin_CI_model.fit(reml=False, method='nm')\n",
    "    mean_values.append(bin_model.params.Intercept)\n",
    "    CIs = superVstack(CIs,bin_model.conf_int().iloc[0].values)"
   ]
  },
  {
   "cell_type": "code",
   "execution_count": 113,
   "metadata": {},
   "outputs": [
    {
     "data": {
      "text/plain": [
       "<ErrorbarContainer object of 3 artists>"
      ]
     },
     "execution_count": 113,
     "metadata": {},
     "output_type": "execute_result"
    },
    {
     "data": {
      "image/png": "[encoded data removed]",
      "text/plain": [
       "<Figure size 432x288 with 1 Axes>"
      ]
     },
     "metadata": {
      "needs_background": "light"
     },
     "output_type": "display_data"
    }
   ],
   "source": [
    "# plot mean+/- CI\n",
    "CI_plot = np.array(CIs.T)\n",
    "CI_plot[0,:] = mean_values - CI_plot[0,:] # -\n",
    "CI_plot[1,:] = CI_plot[1,:] - mean_values # +\n",
    "errorbar(range(len(mean_values)),mean_values,CI_plot) # - then +"
   ]
  },
  {
   "cell_type": "code",
   "execution_count": 114,
   "metadata": {},
   "outputs": [
    {
     "data": {
      "text/plain": [
       "array([[0.0430733 , 0.03590568, 0.04230447, 0.04132363, 0.04102476,\n",
       "        0.0424575 , 0.04170811, 0.0439816 , 0.04131689, 0.04244584,\n",
       "        0.04154627, 0.04312887, 0.04266432, 0.04761731, 0.04344561,\n",
       "        0.04580109, 0.04728243, 0.04663376, 0.03959895, 0.03902533,\n",
       "        0.03376515, 0.03088836, 0.03377371, 0.03029521, 0.03534042,\n",
       "        0.03751954, 0.03522358, 0.0342484 , 0.03629798, 0.03374092,\n",
       "        0.03726718, 0.03267929, 0.03917125, 0.04054534, 0.03517268,\n",
       "        0.04106272],\n",
       "       [0.0430733 , 0.03590568, 0.04230447, 0.04132363, 0.04102476,\n",
       "        0.0424575 , 0.04170811, 0.0439816 , 0.04131689, 0.04244584,\n",
       "        0.04154627, 0.04312887, 0.04266432, 0.04761731, 0.04344561,\n",
       "        0.04580109, 0.04728243, 0.04663376, 0.03959895, 0.03902533,\n",
       "        0.03376515, 0.03088836, 0.03377371, 0.03029521, 0.03534042,\n",
       "        0.03751954, 0.03522358, 0.0342484 , 0.03629798, 0.03374092,\n",
       "        0.03726718, 0.03267929, 0.03917125, 0.04054534, 0.03517268,\n",
       "        0.04106272]])"
      ]
     },
     "execution_count": 114,
     "metadata": {},
     "output_type": "execute_result"
    }
   ],
   "source": [
    "CI_plot"
   ]
  },
  {
   "cell_type": "code",
   "execution_count": 191,
   "metadata": {
    "collapsed": true,
    "jupyter": {
     "outputs_hidden": true
    }
   },
   "outputs": [
    {
     "data": {
      "text/html": [
       "<table class=\"simpletable\">\n",
       "<tr>\n",
       "       <td>Model:</td>       <td>MixedLM</td> <td>Dependent Variable:</td> <td>ripple_rates</td> \n",
       "</tr>\n",
       "<tr>\n",
       "  <td>No. Observations:</td> <td>919584</td>        <td>Method:</td>            <td>ML</td>      \n",
       "</tr>\n",
       "<tr>\n",
       "     <td>No. Groups:</td>      <td>116</td>         <td>Scale:</td>           <td>3.8979</td>    \n",
       "</tr>\n",
       "<tr>\n",
       "  <td>Min. group size:</td>    <td>324</td>       <td>Likelihood:</td>     <td>-1930525.2769</td>\n",
       "</tr>\n",
       "<tr>\n",
       "  <td>Max. group size:</td>   <td>53244</td>      <td>Converged:</td>           <td>Yes</td>     \n",
       "</tr>\n",
       "<tr>\n",
       "  <td>Mean group size:</td>  <td>7927.4</td>           <td></td>                 <td></td>       \n",
       "</tr>\n",
       "</table>\n",
       "<table class=\"simpletable\">\n",
       "<tr>\n",
       "       <td></td>        <th>Coef.</th> <th>Std.Err.</th>    <th>z</th>   <th>P>|z|</th> <th>[0.025</th> <th>0.975]</th>\n",
       "</tr>\n",
       "<tr>\n",
       "  <th>Intercept</th>    <td>0.362</td>   <td>0.018</td>  <td>20.647</td> <td>0.000</td>  <td>0.327</td>  <td>0.396</td>\n",
       "</tr>\n",
       "<tr>\n",
       "  <th>bin[T.11]</th>   <td>-0.004</td>   <td>0.017</td>  <td>-0.247</td> <td>0.805</td> <td>-0.039</td>  <td>0.030</td>\n",
       "</tr>\n",
       "<tr>\n",
       "  <th>bin[T.12]</th>   <td>-0.013</td>   <td>0.017</td>  <td>-0.762</td> <td>0.446</td> <td>-0.048</td>  <td>0.021</td>\n",
       "</tr>\n",
       "<tr>\n",
       "  <th>bin[T.13]</th>   <td>-0.024</td>   <td>0.017</td>  <td>-1.389</td> <td>0.165</td> <td>-0.059</td>  <td>0.010</td>\n",
       "</tr>\n",
       "<tr>\n",
       "  <th>bin[T.14]</th>    <td>0.004</td>   <td>0.017</td>   <td>0.202</td> <td>0.840</td> <td>-0.031</td>  <td>0.038</td>\n",
       "</tr>\n",
       "<tr>\n",
       "  <th>bin[T.15]</th>    <td>0.008</td>   <td>0.017</td>   <td>0.471</td> <td>0.638</td> <td>-0.026</td>  <td>0.042</td>\n",
       "</tr>\n",
       "<tr>\n",
       "  <th>bin[T.16]</th>   <td>-0.012</td>   <td>0.017</td>  <td>-0.672</td> <td>0.501</td> <td>-0.046</td>  <td>0.022</td>\n",
       "</tr>\n",
       "<tr>\n",
       "  <th>bin[T.17]</th>    <td>0.008</td>   <td>0.017</td>   <td>0.471</td> <td>0.638</td> <td>-0.026</td>  <td>0.042</td>\n",
       "</tr>\n",
       "<tr>\n",
       "  <th>bin[T.18]</th>    <td>0.013</td>   <td>0.017</td>   <td>0.740</td> <td>0.460</td> <td>-0.021</td>  <td>0.047</td>\n",
       "</tr>\n",
       "<tr>\n",
       "  <th>bin[T.19]</th>    <td>0.005</td>   <td>0.017</td>   <td>0.291</td> <td>0.771</td> <td>-0.029</td>  <td>0.039</td>\n",
       "</tr>\n",
       "<tr>\n",
       "  <th>bin[T.20]</th>    <td>0.011</td>   <td>0.017</td>   <td>0.605</td> <td>0.545</td> <td>-0.024</td>  <td>0.045</td>\n",
       "</tr>\n",
       "<tr>\n",
       "  <th>bin[T.21]</th>    <td>0.030</td>   <td>0.017</td>   <td>1.726</td> <td>0.084</td> <td>-0.004</td>  <td>0.064</td>\n",
       "</tr>\n",
       "<tr>\n",
       "  <th>bin[T.22]</th>    <td>0.050</td>   <td>0.017</td>   <td>2.868</td> <td>0.004</td>  <td>0.016</td>  <td>0.084</td>\n",
       "</tr>\n",
       "<tr>\n",
       "  <th>bin[T.23]</th>    <td>0.069</td>   <td>0.017</td>   <td>3.966</td> <td>0.000</td>  <td>0.035</td>  <td>0.104</td>\n",
       "</tr>\n",
       "<tr>\n",
       "  <th>bin[T.24]</th>    <td>0.058</td>   <td>0.017</td>   <td>3.294</td> <td>0.001</td>  <td>0.023</td>  <td>0.092</td>\n",
       "</tr>\n",
       "<tr>\n",
       "  <th>bin[T.25]</th>    <td>0.065</td>   <td>0.017</td>   <td>3.720</td> <td>0.000</td>  <td>0.031</td>  <td>0.099</td>\n",
       "</tr>\n",
       "<tr>\n",
       "  <th>bin[T.26]</th>    <td>0.056</td>   <td>0.017</td>   <td>3.182</td> <td>0.001</td>  <td>0.021</td>  <td>0.090</td>\n",
       "</tr>\n",
       "<tr>\n",
       "  <th>bin[T.27]</th>    <td>0.060</td>   <td>0.017</td>   <td>3.429</td> <td>0.001</td>  <td>0.026</td>  <td>0.094</td>\n",
       "</tr>\n",
       "<tr>\n",
       "  <th>bin[T.28]</th>   <td>-0.007</td>   <td>0.017</td>  <td>-0.381</td> <td>0.703</td> <td>-0.041</td>  <td>0.028</td>\n",
       "</tr>\n",
       "<tr>\n",
       "  <th>bin[T.29]</th>   <td>-0.064</td>   <td>0.017</td>  <td>-3.653</td> <td>0.000</td> <td>-0.098</td> <td>-0.030</td>\n",
       "</tr>\n",
       "<tr>\n",
       "  <th>bin[T.30]</th>   <td>-0.060</td>   <td>0.017</td>  <td>-3.406</td> <td>0.001</td> <td>-0.094</td> <td>-0.025</td>\n",
       "</tr>\n",
       "<tr>\n",
       "  <th>bin[T.31]</th>   <td>-0.099</td>   <td>0.017</td>  <td>-5.647</td> <td>0.000</td> <td>-0.133</td> <td>-0.064</td>\n",
       "</tr>\n",
       "<tr>\n",
       "  <th>bin[T.32]</th>   <td>-0.101</td>   <td>0.017</td>  <td>-5.804</td> <td>0.000</td> <td>-0.136</td> <td>-0.067</td>\n",
       "</tr>\n",
       "<tr>\n",
       "  <th>bin[T.33]</th>   <td>-0.077</td>   <td>0.017</td>  <td>-4.415</td> <td>0.000</td> <td>-0.111</td> <td>-0.043</td>\n",
       "</tr>\n",
       "<tr>\n",
       "  <th>bin[T.34]</th>   <td>-0.092</td>   <td>0.017</td>  <td>-5.289</td> <td>0.000</td> <td>-0.127</td> <td>-0.058</td>\n",
       "</tr>\n",
       "<tr>\n",
       "  <th>bin[T.35]</th>   <td>-0.047</td>   <td>0.017</td>  <td>-2.689</td> <td>0.007</td> <td>-0.081</td> <td>-0.013</td>\n",
       "</tr>\n",
       "<tr>\n",
       "  <th>bin[T.36]</th>   <td>-0.072</td>   <td>0.017</td>  <td>-4.146</td> <td>0.000</td> <td>-0.107</td> <td>-0.038</td>\n",
       "</tr>\n",
       "<tr>\n",
       "  <th>bin[T.37]</th>   <td>-0.056</td>   <td>0.017</td>  <td>-3.205</td> <td>0.001</td> <td>-0.090</td> <td>-0.022</td>\n",
       "</tr>\n",
       "<tr>\n",
       "  <th>bin[T.38]</th>   <td>-0.061</td>   <td>0.017</td>  <td>-3.473</td> <td>0.001</td> <td>-0.095</td> <td>-0.026</td>\n",
       "</tr>\n",
       "<tr>\n",
       "  <th>bin[T.39]</th>   <td>-0.040</td>   <td>0.017</td>  <td>-2.286</td> <td>0.022</td> <td>-0.074</td> <td>-0.006</td>\n",
       "</tr>\n",
       "<tr>\n",
       "  <th>bin[T.40]</th>   <td>-0.047</td>   <td>0.017</td>  <td>-2.667</td> <td>0.008</td> <td>-0.081</td> <td>-0.012</td>\n",
       "</tr>\n",
       "<tr>\n",
       "  <th>bin[T.41]</th>   <td>-0.054</td>   <td>0.017</td>  <td>-3.115</td> <td>0.002</td> <td>-0.089</td> <td>-0.020</td>\n",
       "</tr>\n",
       "<tr>\n",
       "  <th>bin[T.42]</th>   <td>-0.050</td>   <td>0.017</td>  <td>-2.846</td> <td>0.004</td> <td>-0.084</td> <td>-0.015</td>\n",
       "</tr>\n",
       "<tr>\n",
       "  <th>bin[T.43]</th>   <td>-0.034</td>   <td>0.017</td>  <td>-1.972</td> <td>0.049</td> <td>-0.069</td> <td>-0.000</td>\n",
       "</tr>\n",
       "<tr>\n",
       "  <th>bin[T.44]</th>   <td>-0.025</td>   <td>0.017</td>  <td>-1.434</td> <td>0.152</td> <td>-0.059</td>  <td>0.009</td>\n",
       "</tr>\n",
       "<tr>\n",
       "  <th>bin[T.45]</th>   <td>-0.037</td>   <td>0.017</td>  <td>-2.129</td> <td>0.033</td> <td>-0.071</td> <td>-0.003</td>\n",
       "</tr>\n",
       "<tr>\n",
       "  <th>session Var</th>  <td>0.017</td>   <td>0.001</td>     <td></td>      <td></td>       <td></td>       <td></td>   \n",
       "</tr>\n",
       "</table>"
      ],
      "text/plain": [
       "<class 'statsmodels.iolib.summary2.Summary'>\n",
       "\"\"\"\n",
       "           Mixed Linear Model Regression Results\n",
       "===========================================================\n",
       "Model:            MixedLM Dependent Variable: ripple_rates \n",
       "No. Observations: 919584  Method:             ML           \n",
       "No. Groups:       116     Scale:              3.8979       \n",
       "Min. group size:  324     Likelihood:         -1930525.2769\n",
       "Max. group size:  53244   Converged:          Yes          \n",
       "Mean group size:  7927.4                                   \n",
       "------------------------------------------------------------\n",
       "             Coef.   Std.Err.    z     P>|z|  [0.025  0.975]\n",
       "------------------------------------------------------------\n",
       "Intercept     0.362     0.018  20.647  0.000   0.327   0.396\n",
       "bin[T.11]    -0.004     0.017  -0.247  0.805  -0.039   0.030\n",
       "bin[T.12]    -0.013     0.017  -0.762  0.446  -0.048   0.021\n",
       "bin[T.13]    -0.024     0.017  -1.389  0.165  -0.059   0.010\n",
       "bin[T.14]     0.004     0.017   0.202  0.840  -0.031   0.038\n",
       "bin[T.15]     0.008     0.017   0.471  0.638  -0.026   0.042\n",
       "bin[T.16]    -0.012     0.017  -0.672  0.501  -0.046   0.022\n",
       "bin[T.17]     0.008     0.017   0.471  0.638  -0.026   0.042\n",
       "bin[T.18]     0.013     0.017   0.740  0.460  -0.021   0.047\n",
       "bin[T.19]     0.005     0.017   0.291  0.771  -0.029   0.039\n",
       "bin[T.20]     0.011     0.017   0.605  0.545  -0.024   0.045\n",
       "bin[T.21]     0.030     0.017   1.726  0.084  -0.004   0.064\n",
       "bin[T.22]     0.050     0.017   2.868  0.004   0.016   0.084\n",
       "bin[T.23]     0.069     0.017   3.966  0.000   0.035   0.104\n",
       "bin[T.24]     0.058     0.017   3.294  0.001   0.023   0.092\n",
       "bin[T.25]     0.065     0.017   3.720  0.000   0.031   0.099\n",
       "bin[T.26]     0.056     0.017   3.182  0.001   0.021   0.090\n",
       "bin[T.27]     0.060     0.017   3.429  0.001   0.026   0.094\n",
       "bin[T.28]    -0.007     0.017  -0.381  0.703  -0.041   0.028\n",
       "bin[T.29]    -0.064     0.017  -3.653  0.000  -0.098  -0.030\n",
       "bin[T.30]    -0.060     0.017  -3.406  0.001  -0.094  -0.025\n",
       "bin[T.31]    -0.099     0.017  -5.647  0.000  -0.133  -0.064\n",
       "bin[T.32]    -0.101     0.017  -5.804  0.000  -0.136  -0.067\n",
       "bin[T.33]    -0.077     0.017  -4.415  0.000  -0.111  -0.043\n",
       "bin[T.34]    -0.092     0.017  -5.289  0.000  -0.127  -0.058\n",
       "bin[T.35]    -0.047     0.017  -2.689  0.007  -0.081  -0.013\n",
       "bin[T.36]    -0.072     0.017  -4.146  0.000  -0.107  -0.038\n",
       "bin[T.37]    -0.056     0.017  -3.205  0.001  -0.090  -0.022\n",
       "bin[T.38]    -0.061     0.017  -3.473  0.001  -0.095  -0.026\n",
       "bin[T.39]    -0.040     0.017  -2.286  0.022  -0.074  -0.006\n",
       "bin[T.40]    -0.047     0.017  -2.667  0.008  -0.081  -0.012\n",
       "bin[T.41]    -0.054     0.017  -3.115  0.002  -0.089  -0.020\n",
       "bin[T.42]    -0.050     0.017  -2.846  0.004  -0.084  -0.015\n",
       "bin[T.43]    -0.034     0.017  -1.972  0.049  -0.069  -0.000\n",
       "bin[T.44]    -0.025     0.017  -1.434  0.152  -0.059   0.009\n",
       "bin[T.45]    -0.037     0.017  -2.129  0.033  -0.071  -0.003\n",
       "session Var   0.017     0.001                               \n",
       "===========================================================\n",
       "\n",
       "\"\"\""
      ]
     },
     "execution_count": 191,
     "metadata": {},
     "output_type": "execute_result"
    }
   ],
   "source": [
    "# find significant bins via ME model\n",
    "import statsmodels.formula.api as smf\n",
    "vc = {'session':'0+session'}\n",
    "sig_bin_model = smf.mixedlm(\"ripple_rates ~ bin\", bin_df, groups=\"subject\", vc_formula=vc)\n",
    "bin_model = sig_bin_model.fit(reml=False, method='nm')\n",
    "bin_model.summary()\n",
    "\n",
    "# # making sure these are the same\n",
    "# sig_bin_model2 = smf.mixedlm(\"ripple_rates ~ bin\", bin_df, groups=\"session\")\n",
    "# bin_model2 = sig_bin_model2.fit(reml=False, method='nm')\n",
    "# bin_model2.summary()"
   ]
  },
  {
   "cell_type": "markdown",
   "metadata": {},
   "source": [
    "# compare two bins for stats"
   ]
  },
  {
   "cell_type": "code",
   "execution_count": 16,
   "metadata": {},
   "outputs": [],
   "source": [
    "bins_to_compare = [10,15]"
   ]
  },
  {
   "cell_type": "code",
   "execution_count": 233,
   "metadata": {},
   "outputs": [
    {
     "data": {
      "image/png": "[encoded data removed]",
      "text/plain": [
       "<Figure size 432x288 with 1 Axes>"
      ]
     },
     "metadata": {
      "needs_background": "light"
     },
     "output_type": "display_data"
    }
   ],
   "source": [
    "%autoreload\n",
    "bin_size = 100 # ms\n",
    "psth_start = -2000\n",
    "psth_end = 2000\n",
    "\n",
    "smoothing_triangle = 5 # triangular smoothing window width\n",
    "pad = 2 #int(np.floor(smoothing_triangle/2)) # factor is how many points from middle does triangle go?\n",
    "\n",
    "start_array.shape\n",
    "true_PSTH,bin_centers = fullPSTH(start_array,bin_size,smoothing_triangle,sr,psth_start)\n",
    "plot(remaining_bin_centers,true_PSTH[pad:-pad]) # throw away edge bins which have some weird values\n",
    "fill_between(remaining_bin_centers, (true_PSTH)[pad:-pad]+CI_plot, (true_PSTH-CI_plot)[pad:-pad], alpha = 0.3)\n",
    "\n",
    "# signify significnat bins\n",
    "for sig in remaining_bin_centers[survives_FDR]:\n",
    "    plot( range(int(sig-bin_size/2),int(sig+bin_size/2)) , 0.2*np.ones(int(bin_size)), color=(0,0,0))\n",
    "grand_mean = np.mean(true_PSTH,0)\n",
    "ax = plt.gca()\n",
    "ylim = 0.55\n",
    "ax.set_ylim(0,ylim)\n",
    "ax.set_xlim(psth_start,psth_end)\n",
    "xlabel('Time (ms)')\n",
    "ylabel('Ripple rate (Hz)')\n",
    "title('Mean of raster (bin_size = '+str(bin_size)+')');"
   ]
  },
  {
   "cell_type": "code",
   "execution_count": 231,
   "metadata": {},
   "outputs": [
    {
     "data": {
      "text/plain": [
       "array([-1750., -1650., -1550., -1450., -1350., -1250., -1150., -1050.,\n",
       "        -950.,  -850.,  -750.,  -650.,  -550.,  -450.,  -350.,  -250.,\n",
       "        -150.,   -50.,    50.,   150.,   250.,   350.,   450.,   550.,\n",
       "         650.,   750.,   850.,   950.,  1050.,  1150.,  1250.,  1350.,\n",
       "        1450.,  1550.,  1650.,  1750.])"
      ]
     },
     "execution_count": 231,
     "metadata": {},
     "output_type": "execute_result"
    }
   ],
   "source": [
    "remaining_bin_centers"
   ]
  },
  {
   "cell_type": "code",
   "execution_count": 197,
   "metadata": {},
   "outputs": [
    {
     "data": {
      "text/plain": [
       "2"
      ]
     },
     "execution_count": 197,
     "metadata": {},
     "output_type": "execute_result"
    },
    {
     "ename": "NameError",
     "evalue": "name 'TBI_model_df' is not defined",
     "output_type": "error",
     "traceback": [
      "\u001b[0;31m---------------------------------------------------------------------------\u001b[0m",
      "\u001b[0;31mNameError\u001b[0m                                 Traceback (most recent call last)",
      "\u001b[0;32m<ipython-input-197-ebb004af81c0>\u001b[0m in \u001b[0;36m<module>\u001b[0;34m\u001b[0m\n\u001b[1;32m      7\u001b[0m \u001b[0;31m#.... (set up dataframe here) ....\u001b[0m\u001b[0;34m\u001b[0m\u001b[0;34m\u001b[0m\u001b[0;34m\u001b[0m\u001b[0m\n\u001b[1;32m      8\u001b[0m \u001b[0mvcf\u001b[0m\u001b[0;34m=\u001b[0m \u001b[0;34m{\u001b[0m\u001b[0;34m'Session'\u001b[0m\u001b[0;34m:\u001b[0m\u001b[0;34m'0+C(Session)'\u001b[0m\u001b[0;34m}\u001b[0m\u001b[0;34m\u001b[0m\u001b[0;34m\u001b[0m\u001b[0m\n\u001b[0;32m----> 9\u001b[0;31m \u001b[0mmodel\u001b[0m \u001b[0;34m=\u001b[0m \u001b[0msm\u001b[0m\u001b[0;34m.\u001b[0m\u001b[0mMixedLM\u001b[0m\u001b[0;34m.\u001b[0m\u001b[0mfrom_formula\u001b[0m\u001b[0;34m(\u001b[0m\u001b[0;34m'Recall ~ C(Stim_YN)+List'\u001b[0m\u001b[0;34m,\u001b[0m \u001b[0mgroups\u001b[0m\u001b[0;34m=\u001b[0m\u001b[0;34m'Subject'\u001b[0m\u001b[0;34m,\u001b[0m \u001b[0mdata\u001b[0m\u001b[0;34m=\u001b[0m\u001b[0mTBI_model_df\u001b[0m\u001b[0;34m,\u001b[0m \u001b[0mvc_formula\u001b[0m\u001b[0;34m=\u001b[0m\u001b[0mvcf\u001b[0m\u001b[0;34m)\u001b[0m\u001b[0;34m\u001b[0m\u001b[0;34m\u001b[0m\u001b[0m\n\u001b[0m\u001b[1;32m     10\u001b[0m \u001b[0mresult\u001b[0m \u001b[0;34m=\u001b[0m \u001b[0mmodel\u001b[0m\u001b[0;34m.\u001b[0m\u001b[0mfit\u001b[0m\u001b[0;34m(\u001b[0m\u001b[0mreml\u001b[0m \u001b[0;34m=\u001b[0m \u001b[0;32mFalse\u001b[0m\u001b[0;34m,\u001b[0m \u001b[0mmethod\u001b[0m \u001b[0;34m=\u001b[0m \u001b[0;34m'nm'\u001b[0m\u001b[0;34m)\u001b[0m\u001b[0;34m\u001b[0m\u001b[0;34m\u001b[0m\u001b[0m\n",
      "\u001b[0;31mNameError\u001b[0m: name 'TBI_model_df' is not defined"
     ]
    }
   ],
   "source": [
    "# thish was to do pairwise stats:\n",
    "# now, to set up ME regression, append each time_bin to bottom and duplicate\n",
    "binned_start_array.shape\n",
    "bin_label = []\n",
    "session_name = []\n",
    "subject_name = []\n",
    "ripple_rates = []\n",
    "for time_bin in range(10,10+np.shape(binned_start_array)[1]): # adding 10 just so all values have 2 digits (easier for sort later)\n",
    "    session_name.extend(session_name_array)\n",
    "    subject_name.extend(subject_name_array)\n",
    "    bin_label.extend(np.tile(str(time_bin),start_array.shape[0]))\n",
    "    ripple_rates.extend(binned_start_array[:,time_bin-10]) # account for +10\n",
    "bin_df = pd.DataFrame(data={'session':session_name,'subject':subject_name,\n",
    "                           'bin':bin_label,'ripple_rates':ripple_rates})\n",
    "\n",
    "# this was to do FDR correction:\n",
    "from mne.stats import fdr_correction,bonferroni_correction\n",
    "# find significant bins\n",
    "bin_pvalues = bin_model.pvalues[1:]\n",
    "survives_FDR, pval_cor = fdr_correction(bin_pvalues, 0.05)  #Benjamini-Hochberg with a 0.05 threshold. \n",
    "remaining_bin_centers = bin_centers[pad:-pad]\n",
    "remaining_bin_centers\n",
    "survives_FDR\n",
    "\n",
    "# Paul instructions to get sessions nested in subjects:\n",
    "\n",
    "#basically I set up a dataframe\n",
    "#with Subject Code, Session, List #, Stim ON/OFF, and List-level recall\n",
    "\n",
    "import statsmodels.api as sm\n",
    "#.... (set up dataframe here) ....\n",
    "vcf= {'Session':'0+C(Session)'}\n",
    "model = sm.MixedLM.from_formula('Recall ~ C(Stim_YN)+List', groups='Subject', data=TBI_model_df, vc_formula=vcf) \n",
    "result = model.fit(reml = False, method = 'nm')"
   ]
  },
  {
   "cell_type": "markdown",
   "metadata": {},
   "source": [
    "I would either do one model per time bin and then FDR correct the p-values or I would have one fixed effect of time. time can either be a continuous variables (you hypothesize that your dep variable, eg power, monotonically goes up or down over time) or it can be categorical if you don't want to make that assumption\n",
    "\n",
    "If you model time as a categorical factor with X levels, and it's significant (the omnibus effect), you could then compare the different levels?\n",
    "\n",
    "yeah then you do what nick said. categorical effect of time and look at the contrast\n",
    "\n",
    "in python you do \"DV ~ C(time)\" (edited) \n",
    "\n",
    "the c makes time a categorical variable\n",
    "\n",
    "you can also specify the coding for said variable (edited) \n",
    "\n",
    "e.g. C(time, Treatment) makes it treatment coded\n",
    "\n",
    "https://www.statsmodels.org/devel/contrasts.html\n",
    "\n",
    "that way you determine which contrasts it spits out, which is relevant for the comparisons among bins that you are interested in"
   ]
  },
  {
   "cell_type": "markdown",
   "metadata": {},
   "source": [
    "# get a list of all the separate start_arrays for each subject so can create within-subjects confidence intervals\n",
    "# note: we decided not to use this since doesn't make sense for non-blocked data"
   ]
  },
  {
   "cell_type": "code",
   "execution_count": 62,
   "metadata": {},
   "outputs": [],
   "source": [
    "temp_sub_array = []\n",
    "previous_sub = []\n",
    "separate_subject_start_arrays = []\n",
    "# get arrays of predictors for each trial so can set up ME model\n",
    "subject_name_array = []\n",
    "session_name_array = []\n",
    "\n",
    "separate_sub_trial_number = []\n",
    "trial_ct = 0\n",
    "for ct,subject in enumerate(sub_names):\n",
    "    current_range = range(int(trial_ct),int(trial_ct+trial_nums[ct]))\n",
    "    if ct == len(sub_names)-1: # if last sub\n",
    "        if previous_sub == subject: # then stack last ripplearray and append it\n",
    "            temp_sub_array = superVstack(temp_sub_array,start_array[current_range])\n",
    "            separate_subject_start_arrays.append(temp_sub_array)\n",
    "        else:\n",
    "            separate_subject_start_arrays.append(temp_sub_array) # append previous one\n",
    "            temp_sub_array = start_array[current_range] # get new,last one\n",
    "            separate_subject_start_arrays.append(temp_sub_array) # append this last one too\n",
    "    elif previous_sub == subject or ct == 0: # keep appending if same sub\n",
    "        temp_sub_array = superVstack(temp_sub_array,start_array[current_range])\n",
    "    else: # if this is a new sub, append last one to the saved list and restart temp_array\n",
    "        separate_subject_start_arrays.append(temp_sub_array)\n",
    "        temp_sub_array = start_array[current_range] # for this new sub, append first range\n",
    "    previous_sub = subject\n",
    "    \n",
    "    trials_this_loop = int(trial_nums[ct])\n",
    "    trial_ct = trial_ct + trials_this_loop \n",
    "    # update each array with subjects, sessions, and other prdictors\n",
    "    subject_name_array.extend(np.tile(subject,trials_this_loop))\n",
    "    session_name_array.extend(np.tile(sub_sess_names[ct],trials_this_loop))\n",
    "    \n",
    "# get the PSTH for each of these separate subjects and subtract the mean of this PSTH to remove between-subject variance\n",
    "corrected_sub_PSTHs = []\n",
    "for sub_start_array in separate_subject_start_arrays:\n",
    "    sub_PSTH,_ = fullPSTH(sub_start_array,bin_size,1,sr,psth_start)\n",
    "    sub_PSTH = sub_PSTH-np.mean(sub_PSTH)+grand_mean\n",
    "    corrected_sub_PSTHs = superVstack(corrected_sub_PSTHs,sub_PSTH)\n",
    "# calculate confidence intervals\n",
    "num_subs,num_bins = corrected_sub_PSTHs.shape\n",
    "t_value = stats.t.ppf(1-0.025, num_subs-1)\n",
    "mean_within_subs = np.mean(corrected_sub_PSTHs,0)\n",
    "CI_within = t_value * np.std(corrected_sub_PSTHs,0) / np.sqrt(num_subs) * np.sqrt(num_bins/(num_bins-1))"
   ]
  },
  {
   "cell_type": "code",
   "execution_count": 33,
   "metadata": {},
   "outputs": [
    {
     "data": {
      "image/png": "[encoded data removed]",
      "text/plain": [
       "<Figure size 432x288 with 1 Axes>"
      ]
     },
     "metadata": {
      "needs_background": "light"
     },
     "output_type": "display_data"
    }
   ],
   "source": [
    "# make a PSTH based on start times of SWRs\n",
    "smoothing_triangle = 5 # triangular smoothing window width\n",
    "pad = int(np.floor(smoothing_triangle/2)) # factor is how many points from middle does triangle go?\n",
    "\n",
    "PSTH,bin_centers = fullPSTH(start_array,bin_size,smoothing_triangle,sr,psth_start)\n",
    "\n",
    "## if want to plot the within-subjects mean instead! (averages across subjects instead of binning whole array)\n",
    "PSTH = mean_within_subs \n",
    "# plot PSTH\n",
    "subplots(1,1,figsize=(6,4))\n",
    "xr = bin_centers #np.arange(psth_start,psth_end,binsize)\n",
    "#plot(xr,norm_count[0]) # actual data\n",
    "plot(xr[pad:-pad],PSTH[pad:-pad])\n",
    "fill_between(xr[pad:-pad], (PSTH+CI_within)[pad:-pad], (PSTH-CI_within)[pad:-pad], alpha = 0.3)\n",
    "# plot(xr[pad:-pad],mean_within_subs[pad:-pad]) # the mean between subjects # if want to plot within-subjects mean over the top\n",
    "\n",
    "xticks(np.arange(psth_start,psth_end+1,500),np.arange(psth_start/1000,psth_end/1000+1,500/1000))\n",
    "xlabel('Time from recall (s)')\n",
    "ylabel('Ripple rate (events/s)')\n",
    "tight_layout()\n",
    "ax = plt.gca()\n",
    "ylim = 0.55\n",
    "ax.set_ylim(0,ylim)\n",
    "ax.set_xlim(psth_start-100,psth_end+100)\n",
    "plot([0,0],[ax.get_ylim()[0],ax.get_ylim()[1]],linewidth=1,linestyle='-',color=(0,0,0));\n",
    "x_width = [ax.get_xlim()[0],ax.get_xlim()[1]]\n",
    "title('Average across subject averages (not the full raster)');"
   ]
  }
 ],
 "metadata": {
  "kernelspec": {
   "display_name": "env1",
   "language": "python",
   "name": "env1"
  },
  "language_info": {
   "codemirror_mode": {
    "name": "ipython",
    "version": 3
   },
   "file_extension": ".py",
   "mimetype": "text/x-python",
   "name": "python",
   "nbconvert_exporter": "python",
   "pygments_lexer": "ipython3",
   "version": "3.7.5"
  }
 },
 "nbformat": 4,
 "nbformat_minor": 4
}
