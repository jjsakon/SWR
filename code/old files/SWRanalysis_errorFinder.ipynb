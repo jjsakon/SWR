{
 "cells": [
  {
   "cell_type": "code",
   "execution_count": null,
   "metadata": {},
   "outputs": [],
   "source": [
    "## This looked for loading errors up until PTSA load. Was before Cluster though so probably not as useful"
   ]
  },
  {
   "cell_type": "code",
   "execution_count": 1,
   "metadata": {},
   "outputs": [
    {
     "name": "stderr",
     "output_type": "stream",
     "text": [
      "/home1/john/anaconda3/envs/env1/lib/python3.7/site-packages/ptsa/data/timeseries.py:526: FutureWarning: xarray subclass TimeSeriesX should explicitly define __slots__\n",
      "  class TimeSeriesX(TimeSeries):\n"
     ]
    }
   ],
   "source": [
    "import pandas as pd; pd.set_option('display.max_columns', 30)\n",
    "import numpy as np\n",
    "from cmlreaders import CMLReader, get_data_index\n",
    "import sys\n",
    "import os\n",
    "import matplotlib.pyplot as plt\n",
    "%matplotlib inline\n",
    "from pylab import *\n",
    "from copy import copy\n",
    "from scipy import stats\n",
    "import pickle\n",
    "plt.rcParams['pdf.fonttype'] = 42; plt.rcParams['ps.fonttype'] = 42 # fix fonts for Illustrator\n",
    "sys.path.append('/home1/john/Downloads/ptsa_plot-master/')\n",
    "sys.path.append('/home1/john/johnModules')\n",
    "from brain_labels import MTL_labels, LTC_labels, PFC_labels, OTHER_labels, ALL_labels # all location labels\n",
    "%load_ext autoreload\n",
    "%autoreload\n",
    "from general import *\n",
    "from SWRmodule import *\n",
    "\n",
    "df = get_data_index(\"r1\") # all RAM subjects\n",
    "HPC_labels = [MTL_labels[i] for i in [0,1,2,3,4,8,9,10,11,12,20,24,25]] # all labels within HPC\n",
    "ENT_labels = [MTL_labels[i] for i in [6,14,22,26,28]] # all labels within entorhinal\n",
    "exp = 'FR1'\n",
    "poss_subs = df[df.experiment == exp]"
   ]
  },
  {
   "cell_type": "code",
   "execution_count": 22,
   "metadata": {},
   "outputs": [
    {
     "data": {
      "text/html": [
       "<div>\n",
       "<style scoped>\n",
       "    .dataframe tbody tr th:only-of-type {\n",
       "        vertical-align: middle;\n",
       "    }\n",
       "\n",
       "    .dataframe tbody tr th {\n",
       "        vertical-align: top;\n",
       "    }\n",
       "\n",
       "    .dataframe thead th {\n",
       "        text-align: right;\n",
       "    }\n",
       "</style>\n",
       "<table border=\"1\" class=\"dataframe\">\n",
       "  <thead>\n",
       "    <tr style=\"text-align: right;\">\n",
       "      <th></th>\n",
       "      <th>Recognition</th>\n",
       "      <th>all_events</th>\n",
       "      <th>contacts</th>\n",
       "      <th>experiment</th>\n",
       "      <th>import_type</th>\n",
       "      <th>localization</th>\n",
       "      <th>math_events</th>\n",
       "      <th>montage</th>\n",
       "      <th>original_experiment</th>\n",
       "      <th>original_session</th>\n",
       "      <th>pairs</th>\n",
       "      <th>ps4_events</th>\n",
       "      <th>session</th>\n",
       "      <th>subject</th>\n",
       "      <th>subject_alias</th>\n",
       "      <th>system_version</th>\n",
       "      <th>task_events</th>\n",
       "    </tr>\n",
       "  </thead>\n",
       "  <tbody>\n",
       "    <tr>\n",
       "      <th>1762</th>\n",
       "      <td>NaN</td>\n",
       "      <td>protocols/r1/subjects/R1345D/experiments/FR1/s...</td>\n",
       "      <td>protocols/r1/subjects/R1345D/localizations/0/m...</td>\n",
       "      <td>FR1</td>\n",
       "      <td>build</td>\n",
       "      <td>0</td>\n",
       "      <td>protocols/r1/subjects/R1345D/experiments/FR1/s...</td>\n",
       "      <td>0</td>\n",
       "      <td>NaN</td>\n",
       "      <td>NaN</td>\n",
       "      <td>protocols/r1/subjects/R1345D/localizations/0/m...</td>\n",
       "      <td>NaN</td>\n",
       "      <td>1</td>\n",
       "      <td>R1345D</td>\n",
       "      <td>R1345D</td>\n",
       "      <td>3.1</td>\n",
       "      <td>protocols/r1/subjects/R1345D/experiments/FR1/s...</td>\n",
       "    </tr>\n",
       "  </tbody>\n",
       "</table>\n",
       "</div>"
      ],
      "text/plain": [
       "     Recognition                                         all_events  \\\n",
       "1762         NaN  protocols/r1/subjects/R1345D/experiments/FR1/s...   \n",
       "\n",
       "                                               contacts experiment  \\\n",
       "1762  protocols/r1/subjects/R1345D/localizations/0/m...        FR1   \n",
       "\n",
       "     import_type  localization  \\\n",
       "1762       build             0   \n",
       "\n",
       "                                            math_events  montage  \\\n",
       "1762  protocols/r1/subjects/R1345D/experiments/FR1/s...        0   \n",
       "\n",
       "     original_experiment original_session  \\\n",
       "1762                 NaN              NaN   \n",
       "\n",
       "                                                  pairs ps4_events  session  \\\n",
       "1762  protocols/r1/subjects/R1345D/localizations/0/m...        NaN        1   \n",
       "\n",
       "     subject subject_alias  system_version  \\\n",
       "1762  R1345D        R1345D             3.1   \n",
       "\n",
       "                                            task_events  \n",
       "1762  protocols/r1/subjects/R1345D/experiments/FR1/s...  "
      ]
     },
     "execution_count": 22,
     "metadata": {},
     "output_type": "execute_result"
    }
   ],
   "source": [
    "# for now, get an example subject's FR data\n",
    "# subs = ['R1112M','R1163T'] #'R1112M' # subjects with FR1 and catFR1. SRs of 1000 and 500 tho\n",
    "# subs = ['R1002P','R1003P','R1006P','R1010J','R1112M','R1163T'] # initial 6 for hippocampus\n",
    "# subs = ['R1112M','R1018P','R1020J','R1022J','R1023J','R1026D','R1027J'] # 7 with entorhinal\n",
    "# subs = ['R1010J','R1112M'] # original 2\n",
    "subs = ['R1345D'] #['R1006P'] #'['R1112M']\n",
    "# subs = ['R1212P']\n",
    "bad_subs = ['R1001P''R1015J']\n",
    "# sess = 2\n",
    "\n",
    "# sub_df = df[(df.subject.isin(subs))  & (df.experiment == exp)] # all sessions for subs\n",
    "sub_df = df[(df.subject.isin(subs))  & (df.experiment == exp) & (df.session==1)] # single session\n",
    "# sub_df = df[(df.experiment == exp) & (df.session == 0)] # all FR subs \n",
    "# sub_df = sub_df[4:5]\n",
    "sub_df"
   ]
  },
  {
   "cell_type": "code",
   "execution_count": 8,
   "metadata": {},
   "outputs": [
    {
     "data": {
      "text/html": [
       "<div>\n",
       "<style scoped>\n",
       "    .dataframe tbody tr th:only-of-type {\n",
       "        vertical-align: middle;\n",
       "    }\n",
       "\n",
       "    .dataframe tbody tr th {\n",
       "        vertical-align: top;\n",
       "    }\n",
       "\n",
       "    .dataframe thead th {\n",
       "        text-align: right;\n",
       "    }\n",
       "</style>\n",
       "<table border=\"1\" class=\"dataframe\">\n",
       "  <thead>\n",
       "    <tr style=\"text-align: right;\">\n",
       "      <th></th>\n",
       "      <th>Recognition</th>\n",
       "      <th>all_events</th>\n",
       "      <th>contacts</th>\n",
       "      <th>experiment</th>\n",
       "      <th>import_type</th>\n",
       "      <th>localization</th>\n",
       "      <th>math_events</th>\n",
       "      <th>montage</th>\n",
       "      <th>original_experiment</th>\n",
       "      <th>original_session</th>\n",
       "      <th>pairs</th>\n",
       "      <th>ps4_events</th>\n",
       "      <th>session</th>\n",
       "      <th>subject</th>\n",
       "      <th>subject_alias</th>\n",
       "      <th>system_version</th>\n",
       "      <th>task_events</th>\n",
       "    </tr>\n",
       "  </thead>\n",
       "  <tbody>\n",
       "    <tr>\n",
       "      <th>25</th>\n",
       "      <td>NaN</td>\n",
       "      <td>protocols/r1/subjects/R1006P/experiments/FR1/s...</td>\n",
       "      <td>protocols/r1/subjects/R1006P/localizations/0/m...</td>\n",
       "      <td>FR1</td>\n",
       "      <td>build</td>\n",
       "      <td>0</td>\n",
       "      <td>protocols/r1/subjects/R1006P/experiments/FR1/s...</td>\n",
       "      <td>0</td>\n",
       "      <td>NaN</td>\n",
       "      <td>0</td>\n",
       "      <td>protocols/r1/subjects/R1006P/localizations/0/m...</td>\n",
       "      <td>NaN</td>\n",
       "      <td>0</td>\n",
       "      <td>R1006P</td>\n",
       "      <td>R1006P</td>\n",
       "      <td>NaN</td>\n",
       "      <td>protocols/r1/subjects/R1006P/experiments/FR1/s...</td>\n",
       "    </tr>\n",
       "    <tr>\n",
       "      <th>26</th>\n",
       "      <td>NaN</td>\n",
       "      <td>protocols/r1/subjects/R1006P/experiments/FR1/s...</td>\n",
       "      <td>protocols/r1/subjects/R1006P/localizations/0/m...</td>\n",
       "      <td>FR1</td>\n",
       "      <td>build</td>\n",
       "      <td>0</td>\n",
       "      <td>protocols/r1/subjects/R1006P/experiments/FR1/s...</td>\n",
       "      <td>0</td>\n",
       "      <td>NaN</td>\n",
       "      <td>1</td>\n",
       "      <td>protocols/r1/subjects/R1006P/localizations/0/m...</td>\n",
       "      <td>NaN</td>\n",
       "      <td>1</td>\n",
       "      <td>R1006P</td>\n",
       "      <td>R1006P</td>\n",
       "      <td>NaN</td>\n",
       "      <td>protocols/r1/subjects/R1006P/experiments/FR1/s...</td>\n",
       "    </tr>\n",
       "    <tr>\n",
       "      <th>37</th>\n",
       "      <td>NaN</td>\n",
       "      <td>protocols/r1/subjects/R1010J/experiments/FR1/s...</td>\n",
       "      <td>protocols/r1/subjects/R1010J/localizations/0/m...</td>\n",
       "      <td>FR1</td>\n",
       "      <td>build</td>\n",
       "      <td>0</td>\n",
       "      <td>protocols/r1/subjects/R1010J/experiments/FR1/s...</td>\n",
       "      <td>0</td>\n",
       "      <td>NaN</td>\n",
       "      <td>0</td>\n",
       "      <td>protocols/r1/subjects/R1010J/localizations/0/m...</td>\n",
       "      <td>NaN</td>\n",
       "      <td>0</td>\n",
       "      <td>R1010J</td>\n",
       "      <td>R1010J</td>\n",
       "      <td>NaN</td>\n",
       "      <td>protocols/r1/subjects/R1010J/experiments/FR1/s...</td>\n",
       "    </tr>\n",
       "    <tr>\n",
       "      <th>38</th>\n",
       "      <td>NaN</td>\n",
       "      <td>protocols/r1/subjects/R1010J/experiments/FR1/s...</td>\n",
       "      <td>protocols/r1/subjects/R1010J/localizations/0/m...</td>\n",
       "      <td>FR1</td>\n",
       "      <td>build</td>\n",
       "      <td>0</td>\n",
       "      <td>protocols/r1/subjects/R1010J/experiments/FR1/s...</td>\n",
       "      <td>0</td>\n",
       "      <td>NaN</td>\n",
       "      <td>1</td>\n",
       "      <td>protocols/r1/subjects/R1010J/localizations/0/m...</td>\n",
       "      <td>NaN</td>\n",
       "      <td>1</td>\n",
       "      <td>R1010J</td>\n",
       "      <td>R1010J</td>\n",
       "      <td>NaN</td>\n",
       "      <td>protocols/r1/subjects/R1010J/experiments/FR1/s...</td>\n",
       "    </tr>\n",
       "    <tr>\n",
       "      <th>48</th>\n",
       "      <td>NaN</td>\n",
       "      <td>protocols/r1/subjects/R1015J/experiments/FR1/s...</td>\n",
       "      <td>protocols/r1/subjects/R1015J/localizations/0/m...</td>\n",
       "      <td>FR1</td>\n",
       "      <td>build</td>\n",
       "      <td>0</td>\n",
       "      <td>protocols/r1/subjects/R1015J/experiments/FR1/s...</td>\n",
       "      <td>0</td>\n",
       "      <td>NaN</td>\n",
       "      <td>0</td>\n",
       "      <td>protocols/r1/subjects/R1015J/localizations/0/m...</td>\n",
       "      <td>NaN</td>\n",
       "      <td>0</td>\n",
       "      <td>R1015J</td>\n",
       "      <td>R1015J</td>\n",
       "      <td>NaN</td>\n",
       "      <td>protocols/r1/subjects/R1015J/experiments/FR1/s...</td>\n",
       "    </tr>\n",
       "    <tr>\n",
       "      <th>...</th>\n",
       "      <td>...</td>\n",
       "      <td>...</td>\n",
       "      <td>...</td>\n",
       "      <td>...</td>\n",
       "      <td>...</td>\n",
       "      <td>...</td>\n",
       "      <td>...</td>\n",
       "      <td>...</td>\n",
       "      <td>...</td>\n",
       "      <td>...</td>\n",
       "      <td>...</td>\n",
       "      <td>...</td>\n",
       "      <td>...</td>\n",
       "      <td>...</td>\n",
       "      <td>...</td>\n",
       "      <td>...</td>\n",
       "      <td>...</td>\n",
       "    </tr>\n",
       "    <tr>\n",
       "      <th>2147</th>\n",
       "      <td>NaN</td>\n",
       "      <td>protocols/r1/subjects/R1462M/experiments/FR1/s...</td>\n",
       "      <td>protocols/r1/subjects/R1462M/localizations/0/m...</td>\n",
       "      <td>FR1</td>\n",
       "      <td>build</td>\n",
       "      <td>0</td>\n",
       "      <td>protocols/r1/subjects/R1462M/experiments/FR1/s...</td>\n",
       "      <td>0</td>\n",
       "      <td>NaN</td>\n",
       "      <td>NaN</td>\n",
       "      <td>protocols/r1/subjects/R1462M/localizations/0/m...</td>\n",
       "      <td>NaN</td>\n",
       "      <td>0</td>\n",
       "      <td>R1462M</td>\n",
       "      <td>R1462M</td>\n",
       "      <td>3.4</td>\n",
       "      <td>protocols/r1/subjects/R1462M/experiments/FR1/s...</td>\n",
       "    </tr>\n",
       "    <tr>\n",
       "      <th>2149</th>\n",
       "      <td>NaN</td>\n",
       "      <td>protocols/r1/subjects/R1463E/experiments/FR1/s...</td>\n",
       "      <td>protocols/r1/subjects/R1463E/localizations/1/m...</td>\n",
       "      <td>FR1</td>\n",
       "      <td>build</td>\n",
       "      <td>1</td>\n",
       "      <td>protocols/r1/subjects/R1463E/experiments/FR1/s...</td>\n",
       "      <td>1</td>\n",
       "      <td>NaN</td>\n",
       "      <td>0</td>\n",
       "      <td>protocols/r1/subjects/R1463E/localizations/1/m...</td>\n",
       "      <td>NaN</td>\n",
       "      <td>0</td>\n",
       "      <td>R1463E</td>\n",
       "      <td>R1463E_1</td>\n",
       "      <td>3.4</td>\n",
       "      <td>protocols/r1/subjects/R1463E/experiments/FR1/s...</td>\n",
       "    </tr>\n",
       "    <tr>\n",
       "      <th>2150</th>\n",
       "      <td>NaN</td>\n",
       "      <td>protocols/r1/subjects/R1463E/experiments/FR1/s...</td>\n",
       "      <td>protocols/r1/subjects/R1463E/localizations/1/m...</td>\n",
       "      <td>FR1</td>\n",
       "      <td>build</td>\n",
       "      <td>1</td>\n",
       "      <td>protocols/r1/subjects/R1463E/experiments/FR1/s...</td>\n",
       "      <td>1</td>\n",
       "      <td>NaN</td>\n",
       "      <td>1</td>\n",
       "      <td>protocols/r1/subjects/R1463E/localizations/1/m...</td>\n",
       "      <td>NaN</td>\n",
       "      <td>1</td>\n",
       "      <td>R1463E</td>\n",
       "      <td>R1463E_1</td>\n",
       "      <td>3.4</td>\n",
       "      <td>protocols/r1/subjects/R1463E/experiments/FR1/s...</td>\n",
       "    </tr>\n",
       "    <tr>\n",
       "      <th>2164</th>\n",
       "      <td>NaN</td>\n",
       "      <td>protocols/r1/subjects/R1466J/experiments/FR1/s...</td>\n",
       "      <td>protocols/r1/subjects/R1466J/localizations/0/m...</td>\n",
       "      <td>FR1</td>\n",
       "      <td>build</td>\n",
       "      <td>0</td>\n",
       "      <td>protocols/r1/subjects/R1466J/experiments/FR1/s...</td>\n",
       "      <td>0</td>\n",
       "      <td>NaN</td>\n",
       "      <td>NaN</td>\n",
       "      <td>protocols/r1/subjects/R1466J/localizations/0/m...</td>\n",
       "      <td>NaN</td>\n",
       "      <td>0</td>\n",
       "      <td>R1466J</td>\n",
       "      <td>R1466J</td>\n",
       "      <td>3.4</td>\n",
       "      <td>protocols/r1/subjects/R1466J/experiments/FR1/s...</td>\n",
       "    </tr>\n",
       "    <tr>\n",
       "      <th>2168</th>\n",
       "      <td>NaN</td>\n",
       "      <td>protocols/r1/subjects/R1467M/experiments/FR1/s...</td>\n",
       "      <td>protocols/r1/subjects/R1467M/localizations/0/m...</td>\n",
       "      <td>FR1</td>\n",
       "      <td>build</td>\n",
       "      <td>0</td>\n",
       "      <td>protocols/r1/subjects/R1467M/experiments/FR1/s...</td>\n",
       "      <td>0</td>\n",
       "      <td>NaN</td>\n",
       "      <td>NaN</td>\n",
       "      <td>protocols/r1/subjects/R1467M/localizations/0/m...</td>\n",
       "      <td>NaN</td>\n",
       "      <td>0</td>\n",
       "      <td>R1467M</td>\n",
       "      <td>R1467M</td>\n",
       "      <td>3.4</td>\n",
       "      <td>protocols/r1/subjects/R1467M/experiments/FR1/s...</td>\n",
       "    </tr>\n",
       "  </tbody>\n",
       "</table>\n",
       "<p>569 rows × 17 columns</p>\n",
       "</div>"
      ],
      "text/plain": [
       "     Recognition                                         all_events  \\\n",
       "25           NaN  protocols/r1/subjects/R1006P/experiments/FR1/s...   \n",
       "26           NaN  protocols/r1/subjects/R1006P/experiments/FR1/s...   \n",
       "37           NaN  protocols/r1/subjects/R1010J/experiments/FR1/s...   \n",
       "38           NaN  protocols/r1/subjects/R1010J/experiments/FR1/s...   \n",
       "48           NaN  protocols/r1/subjects/R1015J/experiments/FR1/s...   \n",
       "...          ...                                                ...   \n",
       "2147         NaN  protocols/r1/subjects/R1462M/experiments/FR1/s...   \n",
       "2149         NaN  protocols/r1/subjects/R1463E/experiments/FR1/s...   \n",
       "2150         NaN  protocols/r1/subjects/R1463E/experiments/FR1/s...   \n",
       "2164         NaN  protocols/r1/subjects/R1466J/experiments/FR1/s...   \n",
       "2168         NaN  protocols/r1/subjects/R1467M/experiments/FR1/s...   \n",
       "\n",
       "                                               contacts experiment  \\\n",
       "25    protocols/r1/subjects/R1006P/localizations/0/m...        FR1   \n",
       "26    protocols/r1/subjects/R1006P/localizations/0/m...        FR1   \n",
       "37    protocols/r1/subjects/R1010J/localizations/0/m...        FR1   \n",
       "38    protocols/r1/subjects/R1010J/localizations/0/m...        FR1   \n",
       "48    protocols/r1/subjects/R1015J/localizations/0/m...        FR1   \n",
       "...                                                 ...        ...   \n",
       "2147  protocols/r1/subjects/R1462M/localizations/0/m...        FR1   \n",
       "2149  protocols/r1/subjects/R1463E/localizations/1/m...        FR1   \n",
       "2150  protocols/r1/subjects/R1463E/localizations/1/m...        FR1   \n",
       "2164  protocols/r1/subjects/R1466J/localizations/0/m...        FR1   \n",
       "2168  protocols/r1/subjects/R1467M/localizations/0/m...        FR1   \n",
       "\n",
       "     import_type  localization  \\\n",
       "25         build             0   \n",
       "26         build             0   \n",
       "37         build             0   \n",
       "38         build             0   \n",
       "48         build             0   \n",
       "...          ...           ...   \n",
       "2147       build             0   \n",
       "2149       build             1   \n",
       "2150       build             1   \n",
       "2164       build             0   \n",
       "2168       build             0   \n",
       "\n",
       "                                            math_events  montage  \\\n",
       "25    protocols/r1/subjects/R1006P/experiments/FR1/s...        0   \n",
       "26    protocols/r1/subjects/R1006P/experiments/FR1/s...        0   \n",
       "37    protocols/r1/subjects/R1010J/experiments/FR1/s...        0   \n",
       "38    protocols/r1/subjects/R1010J/experiments/FR1/s...        0   \n",
       "48    protocols/r1/subjects/R1015J/experiments/FR1/s...        0   \n",
       "...                                                 ...      ...   \n",
       "2147  protocols/r1/subjects/R1462M/experiments/FR1/s...        0   \n",
       "2149  protocols/r1/subjects/R1463E/experiments/FR1/s...        1   \n",
       "2150  protocols/r1/subjects/R1463E/experiments/FR1/s...        1   \n",
       "2164  protocols/r1/subjects/R1466J/experiments/FR1/s...        0   \n",
       "2168  protocols/r1/subjects/R1467M/experiments/FR1/s...        0   \n",
       "\n",
       "     original_experiment original_session  \\\n",
       "25                   NaN                0   \n",
       "26                   NaN                1   \n",
       "37                   NaN                0   \n",
       "38                   NaN                1   \n",
       "48                   NaN                0   \n",
       "...                  ...              ...   \n",
       "2147                 NaN              NaN   \n",
       "2149                 NaN                0   \n",
       "2150                 NaN                1   \n",
       "2164                 NaN              NaN   \n",
       "2168                 NaN              NaN   \n",
       "\n",
       "                                                  pairs ps4_events  session  \\\n",
       "25    protocols/r1/subjects/R1006P/localizations/0/m...        NaN        0   \n",
       "26    protocols/r1/subjects/R1006P/localizations/0/m...        NaN        1   \n",
       "37    protocols/r1/subjects/R1010J/localizations/0/m...        NaN        0   \n",
       "38    protocols/r1/subjects/R1010J/localizations/0/m...        NaN        1   \n",
       "48    protocols/r1/subjects/R1015J/localizations/0/m...        NaN        0   \n",
       "...                                                 ...        ...      ...   \n",
       "2147  protocols/r1/subjects/R1462M/localizations/0/m...        NaN        0   \n",
       "2149  protocols/r1/subjects/R1463E/localizations/1/m...        NaN        0   \n",
       "2150  protocols/r1/subjects/R1463E/localizations/1/m...        NaN        1   \n",
       "2164  protocols/r1/subjects/R1466J/localizations/0/m...        NaN        0   \n",
       "2168  protocols/r1/subjects/R1467M/localizations/0/m...        NaN        0   \n",
       "\n",
       "     subject subject_alias  system_version  \\\n",
       "25    R1006P        R1006P             NaN   \n",
       "26    R1006P        R1006P             NaN   \n",
       "37    R1010J        R1010J             NaN   \n",
       "38    R1010J        R1010J             NaN   \n",
       "48    R1015J        R1015J             NaN   \n",
       "...      ...           ...             ...   \n",
       "2147  R1462M        R1462M             3.4   \n",
       "2149  R1463E      R1463E_1             3.4   \n",
       "2150  R1463E      R1463E_1             3.4   \n",
       "2164  R1466J        R1466J             3.4   \n",
       "2168  R1467M        R1467M             3.4   \n",
       "\n",
       "                                            task_events  \n",
       "25    protocols/r1/subjects/R1006P/experiments/FR1/s...  \n",
       "26    protocols/r1/subjects/R1006P/experiments/FR1/s...  \n",
       "37    protocols/r1/subjects/R1010J/experiments/FR1/s...  \n",
       "38    protocols/r1/subjects/R1010J/experiments/FR1/s...  \n",
       "48    protocols/r1/subjects/R1015J/experiments/FR1/s...  \n",
       "...                                                 ...  \n",
       "2147  protocols/r1/subjects/R1462M/experiments/FR1/s...  \n",
       "2149  protocols/r1/subjects/R1463E/experiments/FR1/s...  \n",
       "2150  protocols/r1/subjects/R1463E/experiments/FR1/s...  \n",
       "2164  protocols/r1/subjects/R1466J/experiments/FR1/s...  \n",
       "2168  protocols/r1/subjects/R1467M/experiments/FR1/s...  \n",
       "\n",
       "[569 rows x 17 columns]"
      ]
     },
     "execution_count": 8,
     "metadata": {},
     "output_type": "execute_result"
    }
   ],
   "source": [
    "exp_df = df[df.experiment==exp]\n",
    "exp_df = exp_df[6:]\n",
    "exp_df"
   ]
  },
  {
   "cell_type": "markdown",
   "metadata": {},
   "source": [
    "## TEST HOW MANY SESSIONS RUN AND LOG THOSE THAT DON'T"
   ]
  },
  {
   "cell_type": "code",
   "execution_count": 4,
   "metadata": {},
   "outputs": [
    {
     "data": {
      "text/plain": [
       "[]"
      ]
     },
     "execution_count": 4,
     "metadata": {},
     "output_type": "execute_result"
    }
   ],
   "source": [
    "time_add_save"
   ]
  },
  {
   "cell_type": "code",
   "execution_count": null,
   "metadata": {
    "collapsed": true,
    "jupyter": {
     "outputs_hidden": true
    }
   },
   "outputs": [
    {
     "name": "stderr",
     "output_type": "stream",
     "text": [
      "/home1/john/Downloads/cmlreaders-master/cmlreaders/path_finder.py:239: MultiplePathsFoundWarning: Multiple files found: /protocols/r1/subjects/R1006P/localizations/0/montages/0/neuroradiology/current_processed/pairs.json\n",
      "/data/eeg/R1006P/tal/R1006P_talLocs_database_bipol.mat returning the first file found\n",
      "  warnings.warn(msg, MultiplePathsFoundWarning)\n",
      "/home1/john/anaconda3/envs/env1/lib/python3.7/site-packages/ptsa/data/readers/tal.py:43: FutureWarning: Lab-specific readers may be moved to the cmlreaders package (https://github.com/pennmem/cmlreaders)\n",
      "  FutureWarning)\n",
      "/home1/john/Downloads/cmlreaders-master/cmlreaders/path_finder.py:239: MultiplePathsFoundWarning: Multiple files found: /protocols/r1/subjects/R1006P/experiments/FR1/sessions/0/ephys/current_processed/sources.json\n",
      "/data/eeg/R1006P/eeg.noreref/params.txt returning the first file found\n",
      "  warnings.warn(msg, MultiplePathsFoundWarning)\n"
     ]
    },
    {
     "name": "stdout",
     "output_type": "stream",
     "text": [
      "loaded eeg for R1006P0\n",
      "getting PTSA\n",
      "64 matching events found\n",
      "No baseline correction applied\n",
      "Not setting metadata\n",
      "0 projection items activated\n",
      "0 bad epochs dropped\n"
     ]
    },
    {
     "name": "stderr",
     "output_type": "stream",
     "text": [
      "/home1/john/Downloads/cmlreaders-master/cmlreaders/path_finder.py:239: MultiplePathsFoundWarning: Multiple files found: /protocols/r1/subjects/R1006P/localizations/0/montages/0/neuroradiology/current_processed/pairs.json\n",
      "/data/eeg/R1006P/tal/R1006P_talLocs_database_bipol.mat returning the first file found\n",
      "  warnings.warn(msg, MultiplePathsFoundWarning)\n",
      "/home1/john/anaconda3/envs/env1/lib/python3.7/site-packages/ptsa/data/readers/tal.py:43: FutureWarning: Lab-specific readers may be moved to the cmlreaders package (https://github.com/pennmem/cmlreaders)\n",
      "  FutureWarning)\n",
      "/home1/john/Downloads/cmlreaders-master/cmlreaders/path_finder.py:239: MultiplePathsFoundWarning: Multiple files found: /protocols/r1/subjects/R1006P/experiments/FR1/sessions/1/ephys/current_processed/sources.json\n",
      "/data/eeg/R1006P/eeg.noreref/R1006P_12Feb15_1126.params.txt\n",
      "/data/eeg/R1006P/eeg.noreref/params.txt returning the first file found\n",
      "  warnings.warn(msg, MultiplePathsFoundWarning)\n"
     ]
    },
    {
     "name": "stdout",
     "output_type": "stream",
     "text": [
      "loaded eeg for R1006P1\n",
      "getting PTSA\n",
      "33 matching events found\n",
      "No baseline correction applied\n",
      "Not setting metadata\n",
      "0 projection items activated\n",
      "0 bad epochs dropped\n"
     ]
    },
    {
     "name": "stderr",
     "output_type": "stream",
     "text": [
      "/home1/john/Downloads/cmlreaders-master/cmlreaders/path_finder.py:239: MultiplePathsFoundWarning: Multiple files found: /protocols/r1/subjects/R1010J/localizations/0/montages/0/neuroradiology/current_processed/pairs.json\n",
      "/data/eeg/R1010J/tal/R1010J_talLocs_database_bipol.mat returning the first file found\n",
      "  warnings.warn(msg, MultiplePathsFoundWarning)\n",
      "/home1/john/anaconda3/envs/env1/lib/python3.7/site-packages/ptsa/data/readers/tal.py:43: FutureWarning: Lab-specific readers may be moved to the cmlreaders package (https://github.com/pennmem/cmlreaders)\n",
      "  FutureWarning)\n",
      "/home1/john/Downloads/cmlreaders-master/cmlreaders/path_finder.py:239: MultiplePathsFoundWarning: Multiple files found: /protocols/r1/subjects/R1010J/experiments/FR1/sessions/0/ephys/current_processed/sources.json\n",
      "/data/eeg/R1010J/eeg.noreref/params.txt returning the first file found\n",
      "  warnings.warn(msg, MultiplePathsFoundWarning)\n"
     ]
    },
    {
     "name": "stdout",
     "output_type": "stream",
     "text": [
      "loaded eeg for R1010J0\n",
      "getting PTSA\n",
      "53 matching events found\n",
      "No baseline correction applied\n",
      "Not setting metadata\n",
      "0 projection items activated\n",
      "0 bad epochs dropped\n"
     ]
    },
    {
     "name": "stderr",
     "output_type": "stream",
     "text": [
      "/home1/john/Downloads/cmlreaders-master/cmlreaders/path_finder.py:239: MultiplePathsFoundWarning: Multiple files found: /protocols/r1/subjects/R1010J/localizations/0/montages/0/neuroradiology/current_processed/pairs.json\n",
      "/data/eeg/R1010J/tal/R1010J_talLocs_database_bipol.mat returning the first file found\n",
      "  warnings.warn(msg, MultiplePathsFoundWarning)\n",
      "/home1/john/anaconda3/envs/env1/lib/python3.7/site-packages/ptsa/data/readers/tal.py:43: FutureWarning: Lab-specific readers may be moved to the cmlreaders package (https://github.com/pennmem/cmlreaders)\n",
      "  FutureWarning)\n",
      "/home1/john/Downloads/cmlreaders-master/cmlreaders/path_finder.py:239: MultiplePathsFoundWarning: Multiple files found: /protocols/r1/subjects/R1010J/experiments/FR1/sessions/1/ephys/current_processed/sources.json\n",
      "/data/eeg/R1010J/eeg.noreref/params.txt returning the first file found\n",
      "  warnings.warn(msg, MultiplePathsFoundWarning)\n"
     ]
    },
    {
     "name": "stdout",
     "output_type": "stream",
     "text": [
      "loaded eeg for R1010J1\n",
      "getting PTSA\n",
      "51 matching events found\n",
      "No baseline correction applied\n",
      "Not setting metadata\n",
      "0 projection items activated\n",
      "0 bad epochs dropped\n",
      "2020-06-01_16-03-14: DF Exception: Sub: R1015J, Sess: 0, ValueError, Item wrong length 1 instead of 0., file: <ipython-input-9-125176e14c87>, line no: 59\n"
     ]
    },
    {
     "name": "stderr",
     "output_type": "stream",
     "text": [
      "/home1/john/Downloads/cmlreaders-master/cmlreaders/path_finder.py:239: MultiplePathsFoundWarning: Multiple files found: /protocols/r1/subjects/R1018P/localizations/0/montages/0/neuroradiology/current_processed/pairs.json\n",
      "/data/eeg/R1018P/tal/R1018P_talLocs_database_bipol.mat returning the first file found\n",
      "  warnings.warn(msg, MultiplePathsFoundWarning)\n",
      "/home1/john/Downloads/cmlreaders-master/cmlreaders/readers/electrodes.py:236: MissingCoordinatesWarning: Could not load MNI coordinates\n",
      "  \"Could not load MNI coordinates\"))\n",
      "/home1/john/anaconda3/envs/env1/lib/python3.7/site-packages/ptsa/data/readers/tal.py:43: FutureWarning: Lab-specific readers may be moved to the cmlreaders package (https://github.com/pennmem/cmlreaders)\n",
      "  FutureWarning)\n",
      "/home1/john/Downloads/cmlreaders-master/cmlreaders/path_finder.py:239: MultiplePathsFoundWarning: Multiple files found: /protocols/r1/subjects/R1018P/experiments/FR1/sessions/0/ephys/current_processed/sources.json\n",
      "/data/eeg/R1018P/eeg.noreref/params.txt returning the first file found\n",
      "  warnings.warn(msg, MultiplePathsFoundWarning)\n"
     ]
    },
    {
     "name": "stdout",
     "output_type": "stream",
     "text": [
      "loaded eeg for R1018P0\n",
      "getting PTSA\n",
      "48 matching events found\n",
      "No baseline correction applied\n",
      "Not setting metadata\n",
      "0 projection items activated\n",
      "0 bad epochs dropped\n"
     ]
    },
    {
     "name": "stderr",
     "output_type": "stream",
     "text": [
      "/home1/john/Downloads/cmlreaders-master/cmlreaders/path_finder.py:239: MultiplePathsFoundWarning: Multiple files found: /protocols/r1/subjects/R1020J/localizations/0/montages/0/neuroradiology/current_processed/pairs.json\n",
      "/data/eeg/R1020J/tal/R1020J_talLocs_database_bipol.mat returning the first file found\n",
      "  warnings.warn(msg, MultiplePathsFoundWarning)\n"
     ]
    },
    {
     "name": "stdout",
     "output_type": "stream",
     "text": [
      "loaded eeg for R1020J0\n",
      "getting PTSA\n",
      "74 matching events found\n",
      "No baseline correction applied\n",
      "Not setting metadata\n",
      "0 projection items activated\n",
      "0 bad epochs dropped\n"
     ]
    },
    {
     "name": "stderr",
     "output_type": "stream",
     "text": [
      "/home1/john/Downloads/cmlreaders-master/cmlreaders/path_finder.py:239: MultiplePathsFoundWarning: Multiple files found: /protocols/r1/subjects/R1022J/localizations/0/montages/0/neuroradiology/current_processed/pairs.json\n",
      "/data/eeg/R1022J/tal/R1022J_talLocs_database_bipol.mat returning the first file found\n",
      "  warnings.warn(msg, MultiplePathsFoundWarning)\n",
      "/home1/john/anaconda3/envs/env1/lib/python3.7/site-packages/pandas/core/indexing.py:1418: FutureWarning: \n",
      "Passing list-likes to .loc or [] with any missing label will raise\n",
      "KeyError in the future, you can use .reindex() as an alternative.\n",
      "\n",
      "See the documentation here:\n",
      "https://pandas.pydata.org/pandas-docs/stable/user_guide/indexing.html#deprecate-loc-reindex-listlike\n",
      "  return self._getitem_tuple(key)\n",
      "/home1/john/Downloads/cmlreaders-master/cmlreaders/readers/electrodes.py:236: MissingCoordinatesWarning: Could not load MNI coordinates\n",
      "  \"Could not load MNI coordinates\"))\n",
      "/home1/john/anaconda3/envs/env1/lib/python3.7/site-packages/ptsa/data/readers/tal.py:43: FutureWarning: Lab-specific readers may be moved to the cmlreaders package (https://github.com/pennmem/cmlreaders)\n",
      "  FutureWarning)\n",
      "/home1/john/Downloads/cmlreaders-master/cmlreaders/path_finder.py:239: MultiplePathsFoundWarning: Multiple files found: /protocols/r1/subjects/R1022J/experiments/FR1/sessions/0/ephys/current_processed/sources.json\n",
      "/data/eeg/R1022J/eeg.noreref/params.txt returning the first file found\n",
      "  warnings.warn(msg, MultiplePathsFoundWarning)\n"
     ]
    },
    {
     "name": "stdout",
     "output_type": "stream",
     "text": [
      "loaded eeg for R1022J0\n",
      "getting PTSA\n",
      "46 matching events found\n",
      "No baseline correction applied\n",
      "Not setting metadata\n",
      "0 projection items activated\n",
      "0 bad epochs dropped\n"
     ]
    },
    {
     "name": "stderr",
     "output_type": "stream",
     "text": [
      "/home1/john/Downloads/cmlreaders-master/cmlreaders/path_finder.py:239: MultiplePathsFoundWarning: Multiple files found: /protocols/r1/subjects/R1023J/localizations/0/montages/0/neuroradiology/current_processed/pairs.json\n",
      "/data/eeg/R1023J/tal/R1023J_talLocs_database_bipol.mat returning the first file found\n",
      "  warnings.warn(msg, MultiplePathsFoundWarning)\n",
      "/home1/john/anaconda3/envs/env1/lib/python3.7/site-packages/ptsa/data/readers/tal.py:43: FutureWarning: Lab-specific readers may be moved to the cmlreaders package (https://github.com/pennmem/cmlreaders)\n",
      "  FutureWarning)\n",
      "/home1/john/Downloads/cmlreaders-master/cmlreaders/path_finder.py:239: MultiplePathsFoundWarning: Multiple files found: /protocols/r1/subjects/R1023J/experiments/FR1/sessions/0/ephys/current_processed/sources.json\n",
      "/data/eeg/R1023J/eeg.noreref/params.txt returning the first file found\n",
      "  warnings.warn(msg, MultiplePathsFoundWarning)\n"
     ]
    },
    {
     "name": "stdout",
     "output_type": "stream",
     "text": [
      "loaded eeg for R1023J0\n",
      "getting PTSA\n",
      "28 matching events found\n",
      "No baseline correction applied\n",
      "Not setting metadata\n",
      "0 projection items activated\n",
      "0 bad epochs dropped\n"
     ]
    },
    {
     "name": "stderr",
     "output_type": "stream",
     "text": [
      "/home1/john/Downloads/cmlreaders-master/cmlreaders/path_finder.py:239: MultiplePathsFoundWarning: Multiple files found: /protocols/r1/subjects/R1026D/localizations/0/montages/0/neuroradiology/current_processed/pairs.json\n",
      "/data/eeg/R1026D/tal/R1026D_talLocs_database_bipol.mat returning the first file found\n",
      "  warnings.warn(msg, MultiplePathsFoundWarning)\n",
      "/home1/john/Downloads/cmlreaders-master/cmlreaders/readers/electrodes.py:236: MissingCoordinatesWarning: Could not load MNI coordinates\n",
      "  \"Could not load MNI coordinates\"))\n",
      "/home1/john/anaconda3/envs/env1/lib/python3.7/site-packages/ptsa/data/readers/tal.py:43: FutureWarning: Lab-specific readers may be moved to the cmlreaders package (https://github.com/pennmem/cmlreaders)\n",
      "  FutureWarning)\n",
      "/home1/john/Downloads/cmlreaders-master/cmlreaders/path_finder.py:239: MultiplePathsFoundWarning: Multiple files found: /protocols/r1/subjects/R1026D/experiments/FR1/sessions/0/ephys/current_processed/sources.json\n",
      "/data/eeg/R1026D/eeg.noreref/params.txt returning the first file found\n",
      "  warnings.warn(msg, MultiplePathsFoundWarning)\n"
     ]
    },
    {
     "name": "stdout",
     "output_type": "stream",
     "text": [
      "loaded eeg for R1026D0\n",
      "getting PTSA\n",
      "54 matching events found\n",
      "No baseline correction applied\n",
      "Not setting metadata\n",
      "0 projection items activated\n",
      "0 bad epochs dropped\n"
     ]
    },
    {
     "name": "stderr",
     "output_type": "stream",
     "text": [
      "/home1/john/Downloads/cmlreaders-master/cmlreaders/path_finder.py:239: MultiplePathsFoundWarning: Multiple files found: /protocols/r1/subjects/R1027J/localizations/0/montages/0/neuroradiology/current_processed/pairs.json\n",
      "/data/eeg/R1027J/tal/R1027J_talLocs_database_bipol.mat returning the first file found\n",
      "  warnings.warn(msg, MultiplePathsFoundWarning)\n",
      "/home1/john/anaconda3/envs/env1/lib/python3.7/site-packages/ptsa/data/readers/tal.py:43: FutureWarning: Lab-specific readers may be moved to the cmlreaders package (https://github.com/pennmem/cmlreaders)\n",
      "  FutureWarning)\n",
      "/home1/john/Downloads/cmlreaders-master/cmlreaders/path_finder.py:239: MultiplePathsFoundWarning: Multiple files found: /protocols/r1/subjects/R1027J/experiments/FR1/sessions/0/ephys/current_processed/sources.json\n",
      "/data/eeg/R1027J/eeg.noreref/params.txt returning the first file found\n",
      "  warnings.warn(msg, MultiplePathsFoundWarning)\n"
     ]
    },
    {
     "name": "stdout",
     "output_type": "stream",
     "text": [
      "loaded eeg for R1027J0\n",
      "getting PTSA\n",
      "20 matching events found\n",
      "No baseline correction applied\n",
      "Not setting metadata\n",
      "0 projection items activated\n",
      "0 bad epochs dropped\n"
     ]
    },
    {
     "name": "stderr",
     "output_type": "stream",
     "text": [
      "/home1/john/Downloads/cmlreaders-master/cmlreaders/path_finder.py:239: MultiplePathsFoundWarning: Multiple files found: /protocols/r1/subjects/R1030J/localizations/0/montages/0/neuroradiology/current_processed/pairs.json\n",
      "/data/eeg/R1030J/tal/R1030J_talLocs_database_bipol.mat returning the first file found\n",
      "  warnings.warn(msg, MultiplePathsFoundWarning)\n",
      "/home1/john/anaconda3/envs/env1/lib/python3.7/site-packages/ptsa/data/readers/tal.py:43: FutureWarning: Lab-specific readers may be moved to the cmlreaders package (https://github.com/pennmem/cmlreaders)\n",
      "  FutureWarning)\n",
      "/home1/john/Downloads/cmlreaders-master/cmlreaders/path_finder.py:239: MultiplePathsFoundWarning: Multiple files found: /protocols/r1/subjects/R1030J/experiments/FR1/sessions/0/ephys/current_processed/sources.json\n",
      "/data/eeg/R1030J/eeg.noreref/params.txt returning the first file found\n",
      "  warnings.warn(msg, MultiplePathsFoundWarning)\n"
     ]
    },
    {
     "name": "stdout",
     "output_type": "stream",
     "text": [
      "loaded eeg for R1030J0\n",
      "getting PTSA\n",
      "67 matching events found\n",
      "No baseline correction applied\n",
      "Not setting metadata\n",
      "0 projection items activated\n",
      "0 bad epochs dropped\n"
     ]
    },
    {
     "name": "stderr",
     "output_type": "stream",
     "text": [
      "/home1/john/Downloads/cmlreaders-master/cmlreaders/path_finder.py:239: MultiplePathsFoundWarning: Multiple files found: /protocols/r1/subjects/R1031M/localizations/0/montages/0/neuroradiology/current_processed/pairs.json\n",
      "/data/eeg/R1031M/tal/R1031M_talLocs_database_bipol.mat returning the first file found\n",
      "  warnings.warn(msg, MultiplePathsFoundWarning)\n",
      "/home1/john/Downloads/cmlreaders-master/cmlreaders/readers/electrodes.py:236: MissingCoordinatesWarning: Could not load MNI coordinates\n",
      "  \"Could not load MNI coordinates\"))\n",
      "/home1/john/anaconda3/envs/env1/lib/python3.7/site-packages/ptsa/data/readers/tal.py:43: FutureWarning: Lab-specific readers may be moved to the cmlreaders package (https://github.com/pennmem/cmlreaders)\n",
      "  FutureWarning)\n",
      "/home1/john/Downloads/cmlreaders-master/cmlreaders/path_finder.py:239: MultiplePathsFoundWarning: Multiple files found: /protocols/r1/subjects/R1031M/experiments/FR1/sessions/0/ephys/current_processed/sources.json\n",
      "/data/eeg/R1031M/eeg.noreref/params.txt returning the first file found\n",
      "  warnings.warn(msg, MultiplePathsFoundWarning)\n"
     ]
    },
    {
     "name": "stdout",
     "output_type": "stream",
     "text": [
      "loaded eeg for R1031M0\n",
      "getting PTSA\n",
      "51 matching events found\n",
      "No baseline correction applied\n",
      "Not setting metadata\n",
      "0 projection items activated\n",
      "0 bad epochs dropped\n"
     ]
    },
    {
     "name": "stderr",
     "output_type": "stream",
     "text": [
      "/home1/john/Downloads/cmlreaders-master/cmlreaders/path_finder.py:239: MultiplePathsFoundWarning: Multiple files found: /protocols/r1/subjects/R1032D/localizations/0/montages/0/neuroradiology/current_processed/pairs.json\n",
      "/data/eeg/R1032D/tal/R1032D_talLocs_database_bipol.mat returning the first file found\n",
      "  warnings.warn(msg, MultiplePathsFoundWarning)\n",
      "/home1/john/Downloads/cmlreaders-master/cmlreaders/readers/electrodes.py:236: MissingCoordinatesWarning: Could not load MNI coordinates\n",
      "  \"Could not load MNI coordinates\"))\n",
      "/home1/john/anaconda3/envs/env1/lib/python3.7/site-packages/ptsa/data/readers/tal.py:43: FutureWarning: Lab-specific readers may be moved to the cmlreaders package (https://github.com/pennmem/cmlreaders)\n",
      "  FutureWarning)\n",
      "/home1/john/Downloads/cmlreaders-master/cmlreaders/path_finder.py:239: MultiplePathsFoundWarning: Multiple files found: /protocols/r1/subjects/R1032D/experiments/FR1/sessions/0/ephys/current_processed/sources.json\n",
      "/data/eeg/R1032D/eeg.noreref/params.txt returning the first file found\n",
      "  warnings.warn(msg, MultiplePathsFoundWarning)\n"
     ]
    },
    {
     "name": "stdout",
     "output_type": "stream",
     "text": [
      "loaded eeg for R1032D0\n",
      "getting PTSA\n",
      "49 matching events found\n",
      "No baseline correction applied\n",
      "Not setting metadata\n",
      "0 projection items activated\n",
      "0 bad epochs dropped\n"
     ]
    },
    {
     "name": "stderr",
     "output_type": "stream",
     "text": [
      "/home1/john/Downloads/cmlreaders-master/cmlreaders/path_finder.py:239: MultiplePathsFoundWarning: Multiple files found: /protocols/r1/subjects/R1033D/localizations/0/montages/0/neuroradiology/current_processed/pairs.json\n",
      "/data/eeg/R1033D/tal/R1033D_talLocs_database_bipol.mat returning the first file found\n",
      "  warnings.warn(msg, MultiplePathsFoundWarning)\n",
      "/home1/john/Downloads/cmlreaders-master/cmlreaders/readers/electrodes.py:236: MissingCoordinatesWarning: Could not load MNI coordinates\n",
      "  \"Could not load MNI coordinates\"))\n",
      "/home1/john/anaconda3/envs/env1/lib/python3.7/site-packages/ptsa/data/readers/tal.py:43: FutureWarning: Lab-specific readers may be moved to the cmlreaders package (https://github.com/pennmem/cmlreaders)\n",
      "  FutureWarning)\n",
      "/home1/john/Downloads/cmlreaders-master/cmlreaders/path_finder.py:239: MultiplePathsFoundWarning: Multiple files found: /protocols/r1/subjects/R1033D/experiments/FR1/sessions/0/ephys/current_processed/sources.json\n",
      "/data/eeg/R1033D/eeg.noreref/params.txt returning the first file found\n",
      "  warnings.warn(msg, MultiplePathsFoundWarning)\n"
     ]
    },
    {
     "name": "stdout",
     "output_type": "stream",
     "text": [
      "loaded eeg for R1033D0\n",
      "getting PTSA\n",
      "18 matching events found\n",
      "No baseline correction applied\n",
      "Not setting metadata\n",
      "0 projection items activated\n",
      "0 bad epochs dropped\n"
     ]
    },
    {
     "name": "stderr",
     "output_type": "stream",
     "text": [
      "/home1/john/Downloads/cmlreaders-master/cmlreaders/path_finder.py:239: MultiplePathsFoundWarning: Multiple files found: /protocols/r1/subjects/R1034D/localizations/0/montages/0/neuroradiology/current_processed/pairs.json\n",
      "/data/eeg/R1034D/tal/R1034D_talLocs_database_bipol.mat returning the first file found\n",
      "  warnings.warn(msg, MultiplePathsFoundWarning)\n",
      "/home1/john/Downloads/cmlreaders-master/cmlreaders/readers/electrodes.py:236: MissingCoordinatesWarning: Could not load MNI coordinates\n",
      "  \"Could not load MNI coordinates\"))\n",
      "/home1/john/anaconda3/envs/env1/lib/python3.7/site-packages/ptsa/data/readers/tal.py:43: FutureWarning: Lab-specific readers may be moved to the cmlreaders package (https://github.com/pennmem/cmlreaders)\n",
      "  FutureWarning)\n",
      "/home1/john/Downloads/cmlreaders-master/cmlreaders/path_finder.py:239: MultiplePathsFoundWarning: Multiple files found: /protocols/r1/subjects/R1034D/experiments/FR1/sessions/0/ephys/current_processed/sources.json\n",
      "/data/eeg/R1034D/eeg.noreref/params.txt returning the first file found\n",
      "  warnings.warn(msg, MultiplePathsFoundWarning)\n"
     ]
    },
    {
     "name": "stdout",
     "output_type": "stream",
     "text": [
      "loaded eeg for R1034D0\n",
      "getting PTSA\n",
      "12 matching events found\n",
      "No baseline correction applied\n",
      "Not setting metadata\n",
      "0 projection items activated\n",
      "0 bad epochs dropped\n"
     ]
    },
    {
     "name": "stderr",
     "output_type": "stream",
     "text": [
      "/home1/john/Downloads/cmlreaders-master/cmlreaders/path_finder.py:239: MultiplePathsFoundWarning: Multiple files found: /protocols/r1/subjects/R1034D/localizations/0/montages/0/neuroradiology/current_processed/pairs.json\n",
      "/data/eeg/R1034D/tal/R1034D_talLocs_database_bipol.mat returning the first file found\n",
      "  warnings.warn(msg, MultiplePathsFoundWarning)\n",
      "/home1/john/Downloads/cmlreaders-master/cmlreaders/readers/electrodes.py:236: MissingCoordinatesWarning: Could not load MNI coordinates\n",
      "  \"Could not load MNI coordinates\"))\n",
      "/home1/john/anaconda3/envs/env1/lib/python3.7/site-packages/ptsa/data/readers/tal.py:43: FutureWarning: Lab-specific readers may be moved to the cmlreaders package (https://github.com/pennmem/cmlreaders)\n",
      "  FutureWarning)\n",
      "/home1/john/Downloads/cmlreaders-master/cmlreaders/path_finder.py:239: MultiplePathsFoundWarning: Multiple files found: /protocols/r1/subjects/R1034D/experiments/FR1/sessions/1/ephys/current_processed/sources.json\n",
      "/data/eeg/R1034D/eeg.noreref/params.txt returning the first file found\n",
      "  warnings.warn(msg, MultiplePathsFoundWarning)\n"
     ]
    },
    {
     "name": "stdout",
     "output_type": "stream",
     "text": [
      "loaded eeg for R1034D1\n",
      "getting PTSA\n",
      "17 matching events found\n",
      "No baseline correction applied\n",
      "Not setting metadata\n",
      "0 projection items activated\n",
      "0 bad epochs dropped\n"
     ]
    },
    {
     "name": "stderr",
     "output_type": "stream",
     "text": [
      "/home1/john/Downloads/cmlreaders-master/cmlreaders/path_finder.py:239: MultiplePathsFoundWarning: Multiple files found: /protocols/r1/subjects/R1034D/localizations/0/montages/0/neuroradiology/current_processed/pairs.json\n",
      "/data/eeg/R1034D/tal/R1034D_talLocs_database_bipol.mat returning the first file found\n",
      "  warnings.warn(msg, MultiplePathsFoundWarning)\n",
      "/home1/john/Downloads/cmlreaders-master/cmlreaders/readers/electrodes.py:236: MissingCoordinatesWarning: Could not load MNI coordinates\n",
      "  \"Could not load MNI coordinates\"))\n",
      "/home1/john/anaconda3/envs/env1/lib/python3.7/site-packages/ptsa/data/readers/tal.py:43: FutureWarning: Lab-specific readers may be moved to the cmlreaders package (https://github.com/pennmem/cmlreaders)\n",
      "  FutureWarning)\n",
      "/home1/john/Downloads/cmlreaders-master/cmlreaders/path_finder.py:239: MultiplePathsFoundWarning: Multiple files found: /protocols/r1/subjects/R1034D/experiments/FR1/sessions/2/ephys/current_processed/sources.json\n",
      "/data/eeg/R1034D/eeg.noreref/params.txt returning the first file found\n",
      "  warnings.warn(msg, MultiplePathsFoundWarning)\n"
     ]
    },
    {
     "name": "stdout",
     "output_type": "stream",
     "text": [
      "loaded eeg for R1034D2\n",
      "getting PTSA\n",
      "3 matching events found\n",
      "No baseline correction applied\n",
      "Not setting metadata\n",
      "0 projection items activated\n",
      "0 bad epochs dropped\n"
     ]
    },
    {
     "name": "stderr",
     "output_type": "stream",
     "text": [
      "/home1/john/Downloads/cmlreaders-master/cmlreaders/path_finder.py:239: MultiplePathsFoundWarning: Multiple files found: /protocols/r1/subjects/R1035M/localizations/0/montages/0/neuroradiology/current_processed/pairs.json\n",
      "/data/eeg/R1035M/tal/R1035M_talLocs_database_bipol.mat returning the first file found\n",
      "  warnings.warn(msg, MultiplePathsFoundWarning)\n",
      "/home1/john/Downloads/cmlreaders-master/cmlreaders/readers/electrodes.py:236: MissingCoordinatesWarning: Could not load MNI coordinates\n",
      "  \"Could not load MNI coordinates\"))\n",
      "/home1/john/anaconda3/envs/env1/lib/python3.7/site-packages/ptsa/data/readers/tal.py:43: FutureWarning: Lab-specific readers may be moved to the cmlreaders package (https://github.com/pennmem/cmlreaders)\n",
      "  FutureWarning)\n",
      "/home1/john/Downloads/cmlreaders-master/cmlreaders/path_finder.py:239: MultiplePathsFoundWarning: Multiple files found: /protocols/r1/subjects/R1035M/experiments/FR1/sessions/0/ephys/current_processed/sources.json\n",
      "/data/eeg/R1035M/eeg.noreref/params.txt returning the first file found\n",
      "  warnings.warn(msg, MultiplePathsFoundWarning)\n"
     ]
    },
    {
     "name": "stdout",
     "output_type": "stream",
     "text": [
      "loaded eeg for R1035M0\n",
      "getting PTSA\n",
      "38 matching events found\n",
      "No baseline correction applied\n",
      "Not setting metadata\n",
      "0 projection items activated\n",
      "0 bad epochs dropped\n"
     ]
    },
    {
     "name": "stderr",
     "output_type": "stream",
     "text": [
      "/home1/john/Downloads/cmlreaders-master/cmlreaders/path_finder.py:239: MultiplePathsFoundWarning: Multiple files found: /protocols/r1/subjects/R1036M/localizations/0/montages/0/neuroradiology/current_processed/pairs.json\n",
      "/data/eeg/R1036M/tal/R1036M_talLocs_database_bipol.mat returning the first file found\n",
      "  warnings.warn(msg, MultiplePathsFoundWarning)\n",
      "/home1/john/Downloads/cmlreaders-master/cmlreaders/readers/electrodes.py:236: MissingCoordinatesWarning: Could not load MNI coordinates\n",
      "  \"Could not load MNI coordinates\"))\n",
      "/home1/john/anaconda3/envs/env1/lib/python3.7/site-packages/ptsa/data/readers/tal.py:43: FutureWarning: Lab-specific readers may be moved to the cmlreaders package (https://github.com/pennmem/cmlreaders)\n",
      "  FutureWarning)\n",
      "/home1/john/Downloads/cmlreaders-master/cmlreaders/path_finder.py:239: MultiplePathsFoundWarning: Multiple files found: /protocols/r1/subjects/R1036M/experiments/FR1/sessions/0/ephys/current_processed/sources.json\n",
      "/data/eeg/R1036M/eeg.noreref/params.txt returning the first file found\n",
      "  warnings.warn(msg, MultiplePathsFoundWarning)\n"
     ]
    },
    {
     "name": "stdout",
     "output_type": "stream",
     "text": [
      "loaded eeg for R1036M0\n",
      "getting PTSA\n",
      "43 matching events found\n",
      "No baseline correction applied\n",
      "Not setting metadata\n",
      "0 projection items activated\n",
      "0 bad epochs dropped\n"
     ]
    },
    {
     "name": "stderr",
     "output_type": "stream",
     "text": [
      "/home1/john/Downloads/cmlreaders-master/cmlreaders/path_finder.py:239: MultiplePathsFoundWarning: Multiple files found: /protocols/r1/subjects/R1039M/localizations/0/montages/0/neuroradiology/current_processed/pairs.json\n",
      "/data/eeg/R1039M/tal/R1039M_talLocs_database_bipol.mat returning the first file found\n",
      "  warnings.warn(msg, MultiplePathsFoundWarning)\n",
      "/home1/john/Downloads/cmlreaders-master/cmlreaders/readers/electrodes.py:236: MissingCoordinatesWarning: Could not load MNI coordinates\n",
      "  \"Could not load MNI coordinates\"))\n",
      "/home1/john/anaconda3/envs/env1/lib/python3.7/site-packages/ptsa/data/readers/tal.py:43: FutureWarning: Lab-specific readers may be moved to the cmlreaders package (https://github.com/pennmem/cmlreaders)\n",
      "  FutureWarning)\n",
      "/home1/john/Downloads/cmlreaders-master/cmlreaders/path_finder.py:239: MultiplePathsFoundWarning: Multiple files found: /protocols/r1/subjects/R1039M/experiments/FR1/sessions/0/ephys/current_processed/sources.json\n",
      "/data/eeg/R1039M/eeg.noreref/params.txt returning the first file found\n",
      "  warnings.warn(msg, MultiplePathsFoundWarning)\n"
     ]
    },
    {
     "name": "stdout",
     "output_type": "stream",
     "text": [
      "loaded eeg for R1039M0\n",
      "getting PTSA\n",
      "36 matching events found\n",
      "No baseline correction applied\n",
      "Not setting metadata\n",
      "0 projection items activated\n",
      "0 bad epochs dropped\n"
     ]
    },
    {
     "name": "stderr",
     "output_type": "stream",
     "text": [
      "/home1/john/Downloads/cmlreaders-master/cmlreaders/path_finder.py:239: MultiplePathsFoundWarning: Multiple files found: /protocols/r1/subjects/R1042M/localizations/0/montages/0/neuroradiology/current_processed/pairs.json\n",
      "/data/eeg/R1042M/tal/R1042M_talLocs_database_bipol.mat returning the first file found\n",
      "  warnings.warn(msg, MultiplePathsFoundWarning)\n",
      "/home1/john/Downloads/cmlreaders-master/cmlreaders/readers/electrodes.py:236: MissingCoordinatesWarning: Could not load MNI coordinates\n",
      "  \"Could not load MNI coordinates\"))\n",
      "/home1/john/anaconda3/envs/env1/lib/python3.7/site-packages/ptsa/data/readers/tal.py:43: FutureWarning: Lab-specific readers may be moved to the cmlreaders package (https://github.com/pennmem/cmlreaders)\n",
      "  FutureWarning)\n",
      "/home1/john/Downloads/cmlreaders-master/cmlreaders/path_finder.py:239: MultiplePathsFoundWarning: Multiple files found: /protocols/r1/subjects/R1042M/experiments/FR1/sessions/0/ephys/current_processed/sources.json\n",
      "/data/eeg/R1042M/eeg.noreref/params.txt returning the first file found\n",
      "  warnings.warn(msg, MultiplePathsFoundWarning)\n"
     ]
    },
    {
     "name": "stdout",
     "output_type": "stream",
     "text": [
      "loaded eeg for R1042M0\n",
      "getting PTSA\n",
      "65 matching events found\n",
      "No baseline correction applied\n",
      "Not setting metadata\n",
      "0 projection items activated\n",
      "0 bad epochs dropped\n"
     ]
    },
    {
     "name": "stderr",
     "output_type": "stream",
     "text": [
      "/home1/john/Downloads/cmlreaders-master/cmlreaders/path_finder.py:239: MultiplePathsFoundWarning: Multiple files found: /protocols/r1/subjects/R1044J/localizations/0/montages/0/neuroradiology/current_processed/pairs.json\n",
      "/data/eeg/R1044J/tal/R1044J_talLocs_database_bipol.mat returning the first file found\n",
      "  warnings.warn(msg, MultiplePathsFoundWarning)\n",
      "/home1/john/anaconda3/envs/env1/lib/python3.7/site-packages/ptsa/data/readers/tal.py:43: FutureWarning: Lab-specific readers may be moved to the cmlreaders package (https://github.com/pennmem/cmlreaders)\n",
      "  FutureWarning)\n",
      "/home1/john/Downloads/cmlreaders-master/cmlreaders/path_finder.py:239: MultiplePathsFoundWarning: Multiple files found: /protocols/r1/subjects/R1044J/experiments/FR1/sessions/0/ephys/current_processed/sources.json\n",
      "/data/eeg/R1044J/eeg.noreref/params.txt returning the first file found\n",
      "  warnings.warn(msg, MultiplePathsFoundWarning)\n"
     ]
    },
    {
     "name": "stdout",
     "output_type": "stream",
     "text": [
      "loaded eeg for R1044J0\n",
      "getting PTSA\n",
      "9 matching events found\n",
      "No baseline correction applied\n",
      "Not setting metadata\n",
      "0 projection items activated\n",
      "0 bad epochs dropped\n"
     ]
    },
    {
     "name": "stderr",
     "output_type": "stream",
     "text": [
      "/home1/john/Downloads/cmlreaders-master/cmlreaders/path_finder.py:239: MultiplePathsFoundWarning: Multiple files found: /protocols/r1/subjects/R1045E/localizations/0/montages/0/neuroradiology/current_processed/pairs.json\n",
      "/data/eeg/R1045E/tal/R1045E_talLocs_database_bipol.mat returning the first file found\n",
      "  warnings.warn(msg, MultiplePathsFoundWarning)\n",
      "/home1/john/Downloads/cmlreaders-master/cmlreaders/readers/electrodes.py:236: MissingCoordinatesWarning: Could not load MNI coordinates\n",
      "  \"Could not load MNI coordinates\"))\n",
      "/home1/john/anaconda3/envs/env1/lib/python3.7/site-packages/ptsa/data/readers/tal.py:43: FutureWarning: Lab-specific readers may be moved to the cmlreaders package (https://github.com/pennmem/cmlreaders)\n",
      "  FutureWarning)\n",
      "/home1/john/Downloads/cmlreaders-master/cmlreaders/path_finder.py:239: MultiplePathsFoundWarning: Multiple files found: /protocols/r1/subjects/R1045E/experiments/FR1/sessions/0/ephys/current_processed/sources.json\n",
      "/data/eeg/R1045E/eeg.noreref/params.txt returning the first file found\n",
      "  warnings.warn(msg, MultiplePathsFoundWarning)\n"
     ]
    },
    {
     "name": "stdout",
     "output_type": "stream",
     "text": [
      "loaded eeg for R1045E0\n",
      "getting PTSA\n",
      "75 matching events found\n",
      "No baseline correction applied\n",
      "Not setting metadata\n",
      "0 projection items activated\n",
      "0 bad epochs dropped\n"
     ]
    },
    {
     "name": "stderr",
     "output_type": "stream",
     "text": [
      "/home1/john/Downloads/cmlreaders-master/cmlreaders/path_finder.py:239: MultiplePathsFoundWarning: Multiple files found: /protocols/r1/subjects/R1048E/localizations/0/montages/0/neuroradiology/current_processed/pairs.json\n",
      "/data/eeg/R1048E/tal/R1048E_talLocs_database_bipol.mat returning the first file found\n",
      "  warnings.warn(msg, MultiplePathsFoundWarning)\n",
      "/home1/john/Downloads/cmlreaders-master/cmlreaders/readers/electrodes.py:236: MissingCoordinatesWarning: Could not load MNI coordinates\n",
      "  \"Could not load MNI coordinates\"))\n",
      "/home1/john/anaconda3/envs/env1/lib/python3.7/site-packages/ptsa/data/readers/tal.py:43: FutureWarning: Lab-specific readers may be moved to the cmlreaders package (https://github.com/pennmem/cmlreaders)\n",
      "  FutureWarning)\n",
      "/home1/john/Downloads/cmlreaders-master/cmlreaders/path_finder.py:239: MultiplePathsFoundWarning: Multiple files found: /protocols/r1/subjects/R1048E/experiments/FR1/sessions/0/ephys/current_processed/sources.json\n",
      "/data/eeg/R1048E/eeg.noreref/params.txt returning the first file found\n",
      "  warnings.warn(msg, MultiplePathsFoundWarning)\n"
     ]
    },
    {
     "name": "stdout",
     "output_type": "stream",
     "text": [
      "loaded eeg for R1048E0\n",
      "getting PTSA\n",
      "107 matching events found\n",
      "No baseline correction applied\n",
      "Not setting metadata\n",
      "0 projection items activated\n",
      "0 bad epochs dropped\n"
     ]
    },
    {
     "name": "stderr",
     "output_type": "stream",
     "text": [
      "/home1/john/Downloads/cmlreaders-master/cmlreaders/path_finder.py:239: MultiplePathsFoundWarning: Multiple files found: /protocols/r1/subjects/R1049J/localizations/0/montages/0/neuroradiology/current_processed/pairs.json\n",
      "/data/eeg/R1049J/tal/R1049J_talLocs_database_bipol.mat returning the first file found\n",
      "  warnings.warn(msg, MultiplePathsFoundWarning)\n",
      "/home1/john/Downloads/cmlreaders-master/cmlreaders/readers/electrodes.py:236: MissingCoordinatesWarning: Could not load MNI coordinates\n",
      "  \"Could not load MNI coordinates\"))\n",
      "/home1/john/anaconda3/envs/env1/lib/python3.7/site-packages/ptsa/data/readers/tal.py:43: FutureWarning: Lab-specific readers may be moved to the cmlreaders package (https://github.com/pennmem/cmlreaders)\n",
      "  FutureWarning)\n",
      "/home1/john/Downloads/cmlreaders-master/cmlreaders/path_finder.py:239: MultiplePathsFoundWarning: Multiple files found: /protocols/r1/subjects/R1049J/experiments/FR1/sessions/0/ephys/current_processed/sources.json\n",
      "/data/eeg/R1049J/eeg.noreref/params.txt returning the first file found\n",
      "  warnings.warn(msg, MultiplePathsFoundWarning)\n"
     ]
    },
    {
     "name": "stdout",
     "output_type": "stream",
     "text": [
      "loaded eeg for R1049J0\n",
      "getting PTSA\n",
      "26 matching events found\n",
      "No baseline correction applied\n",
      "Not setting metadata\n",
      "0 projection items activated\n",
      "0 bad epochs dropped\n"
     ]
    },
    {
     "name": "stderr",
     "output_type": "stream",
     "text": [
      "/home1/john/Downloads/cmlreaders-master/cmlreaders/path_finder.py:239: MultiplePathsFoundWarning: Multiple files found: /protocols/r1/subjects/R1050M/localizations/0/montages/0/neuroradiology/current_processed/pairs.json\n",
      "/data/eeg/R1050M/tal/R1050M_talLocs_database_bipol.mat returning the first file found\n",
      "  warnings.warn(msg, MultiplePathsFoundWarning)\n",
      "/home1/john/Downloads/cmlreaders-master/cmlreaders/readers/electrodes.py:236: MissingCoordinatesWarning: Could not load MNI coordinates\n",
      "  \"Could not load MNI coordinates\"))\n",
      "/home1/john/anaconda3/envs/env1/lib/python3.7/site-packages/ptsa/data/readers/tal.py:43: FutureWarning: Lab-specific readers may be moved to the cmlreaders package (https://github.com/pennmem/cmlreaders)\n",
      "  FutureWarning)\n",
      "/home1/john/Downloads/cmlreaders-master/cmlreaders/path_finder.py:239: MultiplePathsFoundWarning: Multiple files found: /protocols/r1/subjects/R1050M/experiments/FR1/sessions/0/ephys/current_processed/sources.json\n",
      "/data/eeg/R1050M/eeg.noreref/params.txt returning the first file found\n",
      "  warnings.warn(msg, MultiplePathsFoundWarning)\n"
     ]
    },
    {
     "name": "stdout",
     "output_type": "stream",
     "text": [
      "loaded eeg for R1050M0\n",
      "getting PTSA\n",
      "82 matching events found\n",
      "No baseline correction applied\n",
      "Not setting metadata\n",
      "0 projection items activated\n",
      "0 bad epochs dropped\n"
     ]
    },
    {
     "name": "stderr",
     "output_type": "stream",
     "text": [
      "/home1/john/Downloads/cmlreaders-master/cmlreaders/path_finder.py:239: MultiplePathsFoundWarning: Multiple files found: /protocols/r1/subjects/R1051J/localizations/0/montages/0/neuroradiology/current_processed/pairs.json\n",
      "/data/eeg/R1051J/tal/R1051J_talLocs_database_bipol.mat returning the first file found\n",
      "  warnings.warn(msg, MultiplePathsFoundWarning)\n",
      "/home1/john/Downloads/cmlreaders-master/cmlreaders/readers/electrodes.py:236: MissingCoordinatesWarning: Could not load MNI coordinates\n",
      "  \"Could not load MNI coordinates\"))\n",
      "/home1/john/anaconda3/envs/env1/lib/python3.7/site-packages/ptsa/data/readers/tal.py:43: FutureWarning: Lab-specific readers may be moved to the cmlreaders package (https://github.com/pennmem/cmlreaders)\n",
      "  FutureWarning)\n",
      "/home1/john/Downloads/cmlreaders-master/cmlreaders/path_finder.py:239: MultiplePathsFoundWarning: Multiple files found: /protocols/r1/subjects/R1051J/experiments/FR1/sessions/0/ephys/current_processed/sources.json\n",
      "/data/eeg/R1051J/eeg.noreref/params.txt returning the first file found\n",
      "  warnings.warn(msg, MultiplePathsFoundWarning)\n"
     ]
    },
    {
     "name": "stdout",
     "output_type": "stream",
     "text": [
      "loaded eeg for R1051J0\n",
      "getting PTSA\n",
      "56 matching events found\n",
      "No baseline correction applied\n",
      "Not setting metadata\n",
      "0 projection items activated\n",
      "0 bad epochs dropped\n"
     ]
    },
    {
     "name": "stderr",
     "output_type": "stream",
     "text": [
      "/home1/john/Downloads/cmlreaders-master/cmlreaders/path_finder.py:239: MultiplePathsFoundWarning: Multiple files found: /protocols/r1/subjects/R1051J/localizations/0/montages/0/neuroradiology/current_processed/pairs.json\n",
      "/data/eeg/R1051J/tal/R1051J_talLocs_database_bipol.mat returning the first file found\n",
      "  warnings.warn(msg, MultiplePathsFoundWarning)\n",
      "/home1/john/Downloads/cmlreaders-master/cmlreaders/readers/electrodes.py:236: MissingCoordinatesWarning: Could not load MNI coordinates\n",
      "  \"Could not load MNI coordinates\"))\n",
      "/home1/john/anaconda3/envs/env1/lib/python3.7/site-packages/ptsa/data/readers/tal.py:43: FutureWarning: Lab-specific readers may be moved to the cmlreaders package (https://github.com/pennmem/cmlreaders)\n",
      "  FutureWarning)\n",
      "/home1/john/Downloads/cmlreaders-master/cmlreaders/path_finder.py:239: MultiplePathsFoundWarning: Multiple files found: /protocols/r1/subjects/R1051J/experiments/FR1/sessions/1/ephys/current_processed/sources.json\n",
      "/data/eeg/R1051J/eeg.noreref/params.txt returning the first file found\n",
      "  warnings.warn(msg, MultiplePathsFoundWarning)\n"
     ]
    },
    {
     "name": "stdout",
     "output_type": "stream",
     "text": [
      "loaded eeg for R1051J1\n",
      "getting PTSA\n",
      "67 matching events found\n",
      "No baseline correction applied\n",
      "Not setting metadata\n",
      "0 projection items activated\n",
      "0 bad epochs dropped\n"
     ]
    },
    {
     "name": "stderr",
     "output_type": "stream",
     "text": [
      "/home1/john/Downloads/cmlreaders-master/cmlreaders/path_finder.py:239: MultiplePathsFoundWarning: Multiple files found: /protocols/r1/subjects/R1051J/localizations/0/montages/0/neuroradiology/current_processed/pairs.json\n",
      "/data/eeg/R1051J/tal/R1051J_talLocs_database_bipol.mat returning the first file found\n",
      "  warnings.warn(msg, MultiplePathsFoundWarning)\n",
      "/home1/john/Downloads/cmlreaders-master/cmlreaders/readers/electrodes.py:236: MissingCoordinatesWarning: Could not load MNI coordinates\n",
      "  \"Could not load MNI coordinates\"))\n",
      "/home1/john/anaconda3/envs/env1/lib/python3.7/site-packages/ptsa/data/readers/tal.py:43: FutureWarning: Lab-specific readers may be moved to the cmlreaders package (https://github.com/pennmem/cmlreaders)\n",
      "  FutureWarning)\n",
      "/home1/john/Downloads/cmlreaders-master/cmlreaders/path_finder.py:239: MultiplePathsFoundWarning: Multiple files found: /protocols/r1/subjects/R1051J/experiments/FR1/sessions/2/ephys/current_processed/sources.json\n",
      "/data/eeg/R1051J/eeg.noreref/params.txt returning the first file found\n",
      "  warnings.warn(msg, MultiplePathsFoundWarning)\n"
     ]
    },
    {
     "name": "stdout",
     "output_type": "stream",
     "text": [
      "loaded eeg for R1051J2\n",
      "getting PTSA\n",
      "62 matching events found\n",
      "No baseline correction applied\n",
      "Not setting metadata\n",
      "0 projection items activated\n",
      "0 bad epochs dropped\n"
     ]
    },
    {
     "name": "stderr",
     "output_type": "stream",
     "text": [
      "/home1/john/Downloads/cmlreaders-master/cmlreaders/path_finder.py:239: MultiplePathsFoundWarning: Multiple files found: /protocols/r1/subjects/R1052E/localizations/0/montages/1/neuroradiology/current_processed/pairs.json\n",
      "/data/eeg/R1052E_1/tal/R1052E_1_talLocs_database_bipol.mat returning the first file found\n",
      "  warnings.warn(msg, MultiplePathsFoundWarning)\n",
      "/home1/john/Downloads/cmlreaders-master/cmlreaders/path_finder.py:239: MultiplePathsFoundWarning: Multiple files found: /protocols/r1/subjects/R1052E/experiments/FR1/sessions/0/ephys/current_processed/sources.json\n",
      "/data/eeg/R1052E/eeg.noreref/params.txt returning the first file found\n",
      "  warnings.warn(msg, MultiplePathsFoundWarning)\n"
     ]
    },
    {
     "name": "stdout",
     "output_type": "stream",
     "text": [
      "loaded eeg for R1052E0\n",
      "getting PTSA\n",
      "70 matching events found\n",
      "No baseline correction applied\n",
      "Not setting metadata\n",
      "0 projection items activated\n",
      "0 bad epochs dropped\n"
     ]
    },
    {
     "name": "stderr",
     "output_type": "stream",
     "text": [
      "/home1/john/Downloads/cmlreaders-master/cmlreaders/path_finder.py:239: MultiplePathsFoundWarning: Multiple files found: /protocols/r1/subjects/R1052E/experiments/FR1/sessions/1/ephys/current_processed/sources.json\n",
      "/data/eeg/R1052E/eeg.noreref/params.txt returning the first file found\n",
      "  warnings.warn(msg, MultiplePathsFoundWarning)\n"
     ]
    },
    {
     "name": "stdout",
     "output_type": "stream",
     "text": [
      "loaded eeg for R1052E1\n",
      "getting PTSA\n",
      "69 matching events found\n",
      "No baseline correction applied\n",
      "Not setting metadata\n",
      "0 projection items activated\n",
      "0 bad epochs dropped\n"
     ]
    },
    {
     "name": "stderr",
     "output_type": "stream",
     "text": [
      "/home1/john/Downloads/cmlreaders-master/cmlreaders/path_finder.py:239: MultiplePathsFoundWarning: Multiple files found: /protocols/r1/subjects/R1053M/localizations/0/montages/0/neuroradiology/current_processed/pairs.json\n",
      "/data/eeg/R1053M/tal/R1053M_talLocs_database_bipol.mat returning the first file found\n",
      "  warnings.warn(msg, MultiplePathsFoundWarning)\n",
      "/home1/john/Downloads/cmlreaders-master/cmlreaders/readers/electrodes.py:236: MissingCoordinatesWarning: Could not load MNI coordinates\n",
      "  \"Could not load MNI coordinates\"))\n",
      "/home1/john/anaconda3/envs/env1/lib/python3.7/site-packages/ptsa/data/readers/tal.py:43: FutureWarning: Lab-specific readers may be moved to the cmlreaders package (https://github.com/pennmem/cmlreaders)\n",
      "  FutureWarning)\n",
      "/home1/john/Downloads/cmlreaders-master/cmlreaders/path_finder.py:239: MultiplePathsFoundWarning: Multiple files found: /protocols/r1/subjects/R1053M/experiments/FR1/sessions/0/ephys/current_processed/sources.json\n",
      "/data/eeg/R1053M/eeg.noreref/params.txt returning the first file found\n",
      "  warnings.warn(msg, MultiplePathsFoundWarning)\n"
     ]
    },
    {
     "name": "stdout",
     "output_type": "stream",
     "text": [
      "loaded eeg for R1053M0\n",
      "getting PTSA\n",
      "30 matching events found\n",
      "No baseline correction applied\n",
      "Not setting metadata\n",
      "0 projection items activated\n",
      "0 bad epochs dropped\n"
     ]
    },
    {
     "name": "stderr",
     "output_type": "stream",
     "text": [
      "/home1/john/Downloads/cmlreaders-master/cmlreaders/path_finder.py:239: MultiplePathsFoundWarning: Multiple files found: /protocols/r1/subjects/R1054J/localizations/0/montages/0/neuroradiology/current_processed/pairs.json\n",
      "/data/eeg/R1054J/tal/R1054J_talLocs_database_bipol.mat returning the first file found\n",
      "  warnings.warn(msg, MultiplePathsFoundWarning)\n",
      "/home1/john/Downloads/cmlreaders-master/cmlreaders/readers/electrodes.py:236: MissingCoordinatesWarning: Could not load MNI coordinates\n",
      "  \"Could not load MNI coordinates\"))\n",
      "/home1/john/anaconda3/envs/env1/lib/python3.7/site-packages/ptsa/data/readers/tal.py:43: FutureWarning: Lab-specific readers may be moved to the cmlreaders package (https://github.com/pennmem/cmlreaders)\n",
      "  FutureWarning)\n",
      "/home1/john/Downloads/cmlreaders-master/cmlreaders/path_finder.py:239: MultiplePathsFoundWarning: Multiple files found: /protocols/r1/subjects/R1054J/experiments/FR1/sessions/0/ephys/current_processed/sources.json\n",
      "/data/eeg/R1054J/eeg.noreref/params.txt returning the first file found\n",
      "  warnings.warn(msg, MultiplePathsFoundWarning)\n"
     ]
    },
    {
     "name": "stdout",
     "output_type": "stream",
     "text": [
      "loaded eeg for R1054J0\n",
      "getting PTSA\n",
      "58 matching events found\n",
      "No baseline correction applied\n",
      "Not setting metadata\n",
      "0 projection items activated\n",
      "0 bad epochs dropped\n"
     ]
    },
    {
     "name": "stderr",
     "output_type": "stream",
     "text": [
      "/home1/john/Downloads/cmlreaders-master/cmlreaders/path_finder.py:239: MultiplePathsFoundWarning: Multiple files found: /protocols/r1/subjects/R1054J/localizations/0/montages/0/neuroradiology/current_processed/pairs.json\n",
      "/data/eeg/R1054J/tal/R1054J_talLocs_database_bipol.mat returning the first file found\n",
      "  warnings.warn(msg, MultiplePathsFoundWarning)\n",
      "/home1/john/Downloads/cmlreaders-master/cmlreaders/readers/electrodes.py:236: MissingCoordinatesWarning: Could not load MNI coordinates\n",
      "  \"Could not load MNI coordinates\"))\n",
      "/home1/john/anaconda3/envs/env1/lib/python3.7/site-packages/ptsa/data/readers/tal.py:43: FutureWarning: Lab-specific readers may be moved to the cmlreaders package (https://github.com/pennmem/cmlreaders)\n",
      "  FutureWarning)\n",
      "/home1/john/Downloads/cmlreaders-master/cmlreaders/path_finder.py:239: MultiplePathsFoundWarning: Multiple files found: /protocols/r1/subjects/R1054J/experiments/FR1/sessions/1/ephys/current_processed/sources.json\n",
      "/data/eeg/R1054J/eeg.noreref/params.txt returning the first file found\n",
      "  warnings.warn(msg, MultiplePathsFoundWarning)\n"
     ]
    },
    {
     "name": "stdout",
     "output_type": "stream",
     "text": [
      "loaded eeg for R1054J1\n",
      "getting PTSA\n",
      "58 matching events found\n",
      "No baseline correction applied\n",
      "Not setting metadata\n",
      "0 projection items activated\n",
      "0 bad epochs dropped\n"
     ]
    },
    {
     "name": "stderr",
     "output_type": "stream",
     "text": [
      "/home1/john/Downloads/cmlreaders-master/cmlreaders/path_finder.py:239: MultiplePathsFoundWarning: Multiple files found: /protocols/r1/subjects/R1056M/localizations/0/montages/0/neuroradiology/current_processed/pairs.json\n",
      "/data/eeg/R1056M/tal/R1056M_talLocs_database_bipol.mat returning the first file found\n",
      "  warnings.warn(msg, MultiplePathsFoundWarning)\n",
      "/home1/john/Downloads/cmlreaders-master/cmlreaders/readers/electrodes.py:236: MissingCoordinatesWarning: Could not load MNI coordinates\n",
      "  \"Could not load MNI coordinates\"))\n",
      "/home1/john/anaconda3/envs/env1/lib/python3.7/site-packages/ptsa/data/readers/tal.py:43: FutureWarning: Lab-specific readers may be moved to the cmlreaders package (https://github.com/pennmem/cmlreaders)\n",
      "  FutureWarning)\n",
      "/home1/john/Downloads/cmlreaders-master/cmlreaders/path_finder.py:239: MultiplePathsFoundWarning: Multiple files found: /protocols/r1/subjects/R1056M/experiments/FR1/sessions/0/ephys/current_processed/sources.json\n",
      "/data/eeg/R1056M/eeg.noreref/params.txt returning the first file found\n",
      "  warnings.warn(msg, MultiplePathsFoundWarning)\n"
     ]
    },
    {
     "name": "stdout",
     "output_type": "stream",
     "text": [
      "loaded eeg for R1056M0\n",
      "getting PTSA\n",
      "47 matching events found\n",
      "No baseline correction applied\n",
      "Not setting metadata\n",
      "0 projection items activated\n",
      "0 bad epochs dropped\n"
     ]
    },
    {
     "name": "stderr",
     "output_type": "stream",
     "text": [
      "/home1/john/Downloads/cmlreaders-master/cmlreaders/path_finder.py:239: MultiplePathsFoundWarning: Multiple files found: /protocols/r1/subjects/R1057E/localizations/0/montages/0/neuroradiology/current_processed/pairs.json\n",
      "/data/eeg/R1057E/tal/R1057E_talLocs_database_bipol.mat returning the first file found\n",
      "  warnings.warn(msg, MultiplePathsFoundWarning)\n",
      "/home1/john/Downloads/cmlreaders-master/cmlreaders/readers/electrodes.py:236: MissingCoordinatesWarning: Could not load MNI coordinates\n",
      "  \"Could not load MNI coordinates\"))\n",
      "/home1/john/anaconda3/envs/env1/lib/python3.7/site-packages/ptsa/data/readers/tal.py:43: FutureWarning: Lab-specific readers may be moved to the cmlreaders package (https://github.com/pennmem/cmlreaders)\n",
      "  FutureWarning)\n",
      "/home1/john/Downloads/cmlreaders-master/cmlreaders/path_finder.py:239: MultiplePathsFoundWarning: Multiple files found: /protocols/r1/subjects/R1057E/experiments/FR1/sessions/0/ephys/current_processed/sources.json\n",
      "/data/eeg/R1057E/eeg.noreref/params.txt returning the first file found\n",
      "  warnings.warn(msg, MultiplePathsFoundWarning)\n"
     ]
    },
    {
     "name": "stdout",
     "output_type": "stream",
     "text": [
      "loaded eeg for R1057E0\n",
      "getting PTSA\n",
      "28 matching events found\n",
      "No baseline correction applied\n",
      "Not setting metadata\n",
      "0 projection items activated\n",
      "0 bad epochs dropped\n"
     ]
    },
    {
     "name": "stderr",
     "output_type": "stream",
     "text": [
      "/home1/john/Downloads/cmlreaders-master/cmlreaders/path_finder.py:239: MultiplePathsFoundWarning: Multiple files found: /protocols/r1/subjects/R1059J/localizations/0/montages/0/neuroradiology/current_processed/pairs.json\n",
      "/data/eeg/R1059J/tal/R1059J_talLocs_database_bipol.mat returning the first file found\n",
      "  warnings.warn(msg, MultiplePathsFoundWarning)\n",
      "/home1/john/Downloads/cmlreaders-master/cmlreaders/path_finder.py:239: MultiplePathsFoundWarning: Multiple files found: /protocols/r1/subjects/R1059J/experiments/FR1/sessions/0/ephys/current_processed/sources.json\n",
      "/data/eeg/R1059J/eeg.noreref/params.txt returning the first file found\n",
      "  warnings.warn(msg, MultiplePathsFoundWarning)\n"
     ]
    },
    {
     "name": "stdout",
     "output_type": "stream",
     "text": [
      "loaded eeg for R1059J0\n",
      "getting PTSA\n",
      "7 matching events found\n",
      "No baseline correction applied\n",
      "Not setting metadata\n",
      "0 projection items activated\n",
      "0 bad epochs dropped\n"
     ]
    },
    {
     "name": "stderr",
     "output_type": "stream",
     "text": [
      "/home1/john/Downloads/cmlreaders-master/cmlreaders/path_finder.py:239: MultiplePathsFoundWarning: Multiple files found: /protocols/r1/subjects/R1059J/experiments/FR1/sessions/1/ephys/current_processed/sources.json\n",
      "/data/eeg/R1059J/eeg.noreref/params.txt returning the first file found\n",
      "  warnings.warn(msg, MultiplePathsFoundWarning)\n"
     ]
    },
    {
     "name": "stdout",
     "output_type": "stream",
     "text": [
      "loaded eeg for R1059J1\n",
      "getting PTSA\n",
      "21 matching events found\n",
      "No baseline correction applied\n",
      "Not setting metadata\n",
      "0 projection items activated\n",
      "0 bad epochs dropped\n"
     ]
    },
    {
     "name": "stderr",
     "output_type": "stream",
     "text": [
      "/home1/john/Downloads/cmlreaders-master/cmlreaders/path_finder.py:239: MultiplePathsFoundWarning: Multiple files found: /protocols/r1/subjects/R1060M/localizations/0/montages/0/neuroradiology/current_processed/pairs.json\n",
      "/data/eeg/R1060M/tal/R1060M_talLocs_database_bipol.mat returning the first file found\n",
      "  warnings.warn(msg, MultiplePathsFoundWarning)\n",
      "/home1/john/anaconda3/envs/env1/lib/python3.7/site-packages/ptsa/data/readers/tal.py:43: FutureWarning: Lab-specific readers may be moved to the cmlreaders package (https://github.com/pennmem/cmlreaders)\n",
      "  FutureWarning)\n",
      "/home1/john/Downloads/cmlreaders-master/cmlreaders/path_finder.py:239: MultiplePathsFoundWarning: Multiple files found: /protocols/r1/subjects/R1060M/experiments/FR1/sessions/0/ephys/current_processed/sources.json\n",
      "/data/eeg/R1060M/eeg.noreref/params.txt returning the first file found\n",
      "  warnings.warn(msg, MultiplePathsFoundWarning)\n"
     ]
    },
    {
     "name": "stdout",
     "output_type": "stream",
     "text": [
      "loaded eeg for R1060M0\n",
      "getting PTSA\n",
      "55 matching events found\n",
      "No baseline correction applied\n",
      "Not setting metadata\n",
      "0 projection items activated\n",
      "0 bad epochs dropped\n"
     ]
    },
    {
     "name": "stderr",
     "output_type": "stream",
     "text": [
      "/home1/john/Downloads/cmlreaders-master/cmlreaders/path_finder.py:239: MultiplePathsFoundWarning: Multiple files found: /protocols/r1/subjects/R1060M/localizations/0/montages/0/neuroradiology/current_processed/pairs.json\n",
      "/data/eeg/R1060M/tal/R1060M_talLocs_database_bipol.mat returning the first file found\n",
      "  warnings.warn(msg, MultiplePathsFoundWarning)\n",
      "/home1/john/anaconda3/envs/env1/lib/python3.7/site-packages/ptsa/data/readers/tal.py:43: FutureWarning: Lab-specific readers may be moved to the cmlreaders package (https://github.com/pennmem/cmlreaders)\n",
      "  FutureWarning)\n",
      "/home1/john/Downloads/cmlreaders-master/cmlreaders/path_finder.py:239: MultiplePathsFoundWarning: Multiple files found: /protocols/r1/subjects/R1060M/experiments/FR1/sessions/1/ephys/current_processed/sources.json\n",
      "/data/eeg/R1060M/eeg.noreref/params.txt returning the first file found\n",
      "  warnings.warn(msg, MultiplePathsFoundWarning)\n"
     ]
    },
    {
     "name": "stdout",
     "output_type": "stream",
     "text": [
      "loaded eeg for R1060M1\n",
      "getting PTSA\n",
      "61 matching events found\n",
      "No baseline correction applied\n",
      "Not setting metadata\n",
      "0 projection items activated\n",
      "0 bad epochs dropped\n"
     ]
    },
    {
     "name": "stderr",
     "output_type": "stream",
     "text": [
      "/home1/john/Downloads/cmlreaders-master/cmlreaders/path_finder.py:239: MultiplePathsFoundWarning: Multiple files found: /protocols/r1/subjects/R1060M/localizations/0/montages/0/neuroradiology/current_processed/pairs.json\n",
      "/data/eeg/R1060M/tal/R1060M_talLocs_database_bipol.mat returning the first file found\n",
      "  warnings.warn(msg, MultiplePathsFoundWarning)\n",
      "/home1/john/anaconda3/envs/env1/lib/python3.7/site-packages/ptsa/data/readers/tal.py:43: FutureWarning: Lab-specific readers may be moved to the cmlreaders package (https://github.com/pennmem/cmlreaders)\n",
      "  FutureWarning)\n",
      "/home1/john/Downloads/cmlreaders-master/cmlreaders/path_finder.py:239: MultiplePathsFoundWarning: Multiple files found: /protocols/r1/subjects/R1060M/experiments/FR1/sessions/2/ephys/current_processed/sources.json\n",
      "/data/eeg/R1060M/eeg.noreref/params.txt returning the first file found\n",
      "  warnings.warn(msg, MultiplePathsFoundWarning)\n"
     ]
    },
    {
     "name": "stdout",
     "output_type": "stream",
     "text": [
      "loaded eeg for R1060M2\n",
      "getting PTSA\n",
      "63 matching events found\n",
      "No baseline correction applied\n",
      "Not setting metadata\n",
      "0 projection items activated\n",
      "0 bad epochs dropped\n"
     ]
    },
    {
     "name": "stderr",
     "output_type": "stream",
     "text": [
      "/home1/john/Downloads/cmlreaders-master/cmlreaders/path_finder.py:239: MultiplePathsFoundWarning: Multiple files found: /protocols/r1/subjects/R1060M/localizations/0/montages/0/neuroradiology/current_processed/pairs.json\n",
      "/data/eeg/R1060M/tal/R1060M_talLocs_database_bipol.mat returning the first file found\n",
      "  warnings.warn(msg, MultiplePathsFoundWarning)\n",
      "/home1/john/anaconda3/envs/env1/lib/python3.7/site-packages/ptsa/data/readers/tal.py:43: FutureWarning: Lab-specific readers may be moved to the cmlreaders package (https://github.com/pennmem/cmlreaders)\n",
      "  FutureWarning)\n",
      "/home1/john/Downloads/cmlreaders-master/cmlreaders/path_finder.py:239: MultiplePathsFoundWarning: Multiple files found: /protocols/r1/subjects/R1060M/experiments/FR1/sessions/3/ephys/current_processed/sources.json\n",
      "/data/eeg/R1060M/eeg.noreref/params.txt returning the first file found\n",
      "  warnings.warn(msg, MultiplePathsFoundWarning)\n"
     ]
    },
    {
     "name": "stdout",
     "output_type": "stream",
     "text": [
      "loaded eeg for R1060M3\n",
      "getting PTSA\n",
      "35 matching events found\n",
      "No baseline correction applied\n",
      "Not setting metadata\n",
      "0 projection items activated\n",
      "0 bad epochs dropped\n"
     ]
    },
    {
     "name": "stderr",
     "output_type": "stream",
     "text": [
      "/home1/john/Downloads/cmlreaders-master/cmlreaders/path_finder.py:239: MultiplePathsFoundWarning: Multiple files found: /protocols/r1/subjects/R1061T/localizations/0/montages/0/neuroradiology/current_processed/pairs.json\n",
      "/data/eeg/R1061T/tal/R1061T_talLocs_database_bipol.mat returning the first file found\n",
      "  warnings.warn(msg, MultiplePathsFoundWarning)\n",
      "/home1/john/Downloads/cmlreaders-master/cmlreaders/readers/electrodes.py:236: MissingCoordinatesWarning: Could not load MNI coordinates\n",
      "  \"Could not load MNI coordinates\"))\n",
      "/home1/john/anaconda3/envs/env1/lib/python3.7/site-packages/ptsa/data/readers/tal.py:43: FutureWarning: Lab-specific readers may be moved to the cmlreaders package (https://github.com/pennmem/cmlreaders)\n",
      "  FutureWarning)\n",
      "/home1/john/Downloads/cmlreaders-master/cmlreaders/path_finder.py:239: MultiplePathsFoundWarning: Multiple files found: /protocols/r1/subjects/R1061T/experiments/FR1/sessions/0/ephys/current_processed/sources.json\n",
      "/data/eeg/R1061T/eeg.noreref/R1061T_B_09Jul15_1325.params.txt\n",
      "/data/eeg/R1061T/eeg.noreref/params.txt returning the first file found\n",
      "  warnings.warn(msg, MultiplePathsFoundWarning)\n"
     ]
    },
    {
     "name": "stdout",
     "output_type": "stream",
     "text": [
      "loaded eeg for R1061T0\n",
      "getting PTSA\n",
      "63 matching events found\n",
      "No baseline correction applied\n",
      "Not setting metadata\n",
      "0 projection items activated\n",
      "0 bad epochs dropped\n"
     ]
    },
    {
     "name": "stderr",
     "output_type": "stream",
     "text": [
      "/home1/john/Downloads/cmlreaders-master/cmlreaders/path_finder.py:239: MultiplePathsFoundWarning: Multiple files found: /protocols/r1/subjects/R1061T/localizations/0/montages/0/neuroradiology/current_processed/pairs.json\n",
      "/data/eeg/R1061T/tal/R1061T_talLocs_database_bipol.mat returning the first file found\n",
      "  warnings.warn(msg, MultiplePathsFoundWarning)\n",
      "/home1/john/Downloads/cmlreaders-master/cmlreaders/readers/electrodes.py:236: MissingCoordinatesWarning: Could not load MNI coordinates\n",
      "  \"Could not load MNI coordinates\"))\n",
      "/home1/john/anaconda3/envs/env1/lib/python3.7/site-packages/ptsa/data/readers/tal.py:43: FutureWarning: Lab-specific readers may be moved to the cmlreaders package (https://github.com/pennmem/cmlreaders)\n",
      "  FutureWarning)\n",
      "/home1/john/Downloads/cmlreaders-master/cmlreaders/path_finder.py:239: MultiplePathsFoundWarning: Multiple files found: /protocols/r1/subjects/R1061T/experiments/FR1/sessions/1/ephys/current_processed/sources.json\n",
      "/data/eeg/R1061T/eeg.noreref/R1061T_B_12Jul15_0927.params.txt\n",
      "/data/eeg/R1061T/eeg.noreref/params.txt returning the first file found\n",
      "  warnings.warn(msg, MultiplePathsFoundWarning)\n"
     ]
    },
    {
     "name": "stdout",
     "output_type": "stream",
     "text": [
      "loaded eeg for R1061T1\n",
      "getting PTSA\n",
      "48 matching events found\n",
      "No baseline correction applied\n",
      "Not setting metadata\n",
      "0 projection items activated\n",
      "0 bad epochs dropped\n"
     ]
    },
    {
     "name": "stderr",
     "output_type": "stream",
     "text": [
      "/home1/john/Downloads/cmlreaders-master/cmlreaders/path_finder.py:239: MultiplePathsFoundWarning: Multiple files found: /protocols/r1/subjects/R1061T/localizations/0/montages/0/neuroradiology/current_processed/pairs.json\n",
      "/data/eeg/R1061T/tal/R1061T_talLocs_database_bipol.mat returning the first file found\n",
      "  warnings.warn(msg, MultiplePathsFoundWarning)\n",
      "/home1/john/Downloads/cmlreaders-master/cmlreaders/readers/electrodes.py:236: MissingCoordinatesWarning: Could not load MNI coordinates\n",
      "  \"Could not load MNI coordinates\"))\n",
      "/home1/john/anaconda3/envs/env1/lib/python3.7/site-packages/ptsa/data/readers/tal.py:43: FutureWarning: Lab-specific readers may be moved to the cmlreaders package (https://github.com/pennmem/cmlreaders)\n",
      "  FutureWarning)\n",
      "/home1/john/Downloads/cmlreaders-master/cmlreaders/path_finder.py:239: MultiplePathsFoundWarning: Multiple files found: /protocols/r1/subjects/R1061T/experiments/FR1/sessions/2/ephys/current_processed/sources.json\n",
      "/data/eeg/R1061T/eeg.noreref/R1061T_B_13Jul15_1051.params.txt\n",
      "/data/eeg/R1061T/eeg.noreref/params.txt returning the first file found\n",
      "  warnings.warn(msg, MultiplePathsFoundWarning)\n"
     ]
    },
    {
     "name": "stdout",
     "output_type": "stream",
     "text": [
      "loaded eeg for R1061T2\n",
      "getting PTSA\n",
      "47 matching events found\n",
      "No baseline correction applied\n",
      "Not setting metadata\n",
      "0 projection items activated\n",
      "0 bad epochs dropped\n"
     ]
    },
    {
     "name": "stderr",
     "output_type": "stream",
     "text": [
      "/home1/john/Downloads/cmlreaders-master/cmlreaders/path_finder.py:239: MultiplePathsFoundWarning: Multiple files found: /protocols/r1/subjects/R1061T/localizations/0/montages/0/neuroradiology/current_processed/pairs.json\n",
      "/data/eeg/R1061T/tal/R1061T_talLocs_database_bipol.mat returning the first file found\n",
      "  warnings.warn(msg, MultiplePathsFoundWarning)\n",
      "/home1/john/Downloads/cmlreaders-master/cmlreaders/readers/electrodes.py:236: MissingCoordinatesWarning: Could not load MNI coordinates\n",
      "  \"Could not load MNI coordinates\"))\n",
      "/home1/john/anaconda3/envs/env1/lib/python3.7/site-packages/ptsa/data/readers/tal.py:43: FutureWarning: Lab-specific readers may be moved to the cmlreaders package (https://github.com/pennmem/cmlreaders)\n",
      "  FutureWarning)\n",
      "/home1/john/Downloads/cmlreaders-master/cmlreaders/path_finder.py:239: MultiplePathsFoundWarning: Multiple files found: /protocols/r1/subjects/R1061T/experiments/FR1/sessions/3/ephys/current_processed/sources.json\n",
      "/data/eeg/R1061T/eeg.noreref/R1061T_B_15Jul15_1555.params.txt\n",
      "/data/eeg/R1061T/eeg.noreref/params.txt returning the first file found\n",
      "  warnings.warn(msg, MultiplePathsFoundWarning)\n"
     ]
    },
    {
     "name": "stdout",
     "output_type": "stream",
     "text": [
      "loaded eeg for R1061T3\n",
      "getting PTSA\n",
      "77 matching events found\n",
      "No baseline correction applied\n",
      "Not setting metadata\n",
      "0 projection items activated\n",
      "0 bad epochs dropped\n"
     ]
    },
    {
     "name": "stderr",
     "output_type": "stream",
     "text": [
      "/home1/john/Downloads/cmlreaders-master/cmlreaders/path_finder.py:239: MultiplePathsFoundWarning: Multiple files found: /protocols/r1/subjects/R1062J/localizations/0/montages/0/neuroradiology/current_processed/pairs.json\n",
      "/data/eeg/R1062J/tal/R1062J_talLocs_database_bipol.mat returning the first file found\n",
      "  warnings.warn(msg, MultiplePathsFoundWarning)\n",
      "/home1/john/anaconda3/envs/env1/lib/python3.7/site-packages/ptsa/data/readers/tal.py:43: FutureWarning: Lab-specific readers may be moved to the cmlreaders package (https://github.com/pennmem/cmlreaders)\n",
      "  FutureWarning)\n",
      "/home1/john/Downloads/cmlreaders-master/cmlreaders/path_finder.py:239: MultiplePathsFoundWarning: Multiple files found: /protocols/r1/subjects/R1062J/experiments/FR1/sessions/0/ephys/current_processed/sources.json\n",
      "/data/eeg/R1062J/eeg.noreref/params.txt returning the first file found\n",
      "  warnings.warn(msg, MultiplePathsFoundWarning)\n"
     ]
    },
    {
     "name": "stdout",
     "output_type": "stream",
     "text": [
      "loaded eeg for R1062J0\n",
      "getting PTSA\n",
      "9 matching events found\n",
      "No baseline correction applied\n",
      "Not setting metadata\n",
      "0 projection items activated\n",
      "0 bad epochs dropped\n"
     ]
    },
    {
     "name": "stderr",
     "output_type": "stream",
     "text": [
      "/home1/john/Downloads/cmlreaders-master/cmlreaders/path_finder.py:239: MultiplePathsFoundWarning: Multiple files found: /protocols/r1/subjects/R1062J/localizations/0/montages/0/neuroradiology/current_processed/pairs.json\n",
      "/data/eeg/R1062J/tal/R1062J_talLocs_database_bipol.mat returning the first file found\n",
      "  warnings.warn(msg, MultiplePathsFoundWarning)\n",
      "/home1/john/anaconda3/envs/env1/lib/python3.7/site-packages/ptsa/data/readers/tal.py:43: FutureWarning: Lab-specific readers may be moved to the cmlreaders package (https://github.com/pennmem/cmlreaders)\n",
      "  FutureWarning)\n",
      "/home1/john/Downloads/cmlreaders-master/cmlreaders/path_finder.py:239: MultiplePathsFoundWarning: Multiple files found: /protocols/r1/subjects/R1062J/experiments/FR1/sessions/1/ephys/current_processed/sources.json\n",
      "/data/eeg/R1062J/eeg.noreref/params.txt returning the first file found\n",
      "  warnings.warn(msg, MultiplePathsFoundWarning)\n"
     ]
    },
    {
     "name": "stdout",
     "output_type": "stream",
     "text": [
      "loaded eeg for R1062J1\n",
      "getting PTSA\n",
      "4 matching events found\n",
      "No baseline correction applied\n",
      "Not setting metadata\n",
      "0 projection items activated\n",
      "0 bad epochs dropped\n"
     ]
    },
    {
     "name": "stderr",
     "output_type": "stream",
     "text": [
      "/home1/john/Downloads/cmlreaders-master/cmlreaders/path_finder.py:239: MultiplePathsFoundWarning: Multiple files found: /protocols/r1/subjects/R1062J/localizations/0/montages/0/neuroradiology/current_processed/pairs.json\n",
      "/data/eeg/R1062J/tal/R1062J_talLocs_database_bipol.mat returning the first file found\n",
      "  warnings.warn(msg, MultiplePathsFoundWarning)\n",
      "/home1/john/anaconda3/envs/env1/lib/python3.7/site-packages/ptsa/data/readers/tal.py:43: FutureWarning: Lab-specific readers may be moved to the cmlreaders package (https://github.com/pennmem/cmlreaders)\n",
      "  FutureWarning)\n",
      "/home1/john/Downloads/cmlreaders-master/cmlreaders/path_finder.py:239: MultiplePathsFoundWarning: Multiple files found: /protocols/r1/subjects/R1062J/experiments/FR1/sessions/2/ephys/current_processed/sources.json\n",
      "/data/eeg/R1062J/eeg.noreref/params.txt returning the first file found\n",
      "  warnings.warn(msg, MultiplePathsFoundWarning)\n"
     ]
    },
    {
     "name": "stdout",
     "output_type": "stream",
     "text": [
      "loaded eeg for R1062J2\n",
      "getting PTSA\n",
      "7 matching events found\n",
      "No baseline correction applied\n",
      "Not setting metadata\n",
      "0 projection items activated\n",
      "0 bad epochs dropped\n"
     ]
    },
    {
     "name": "stderr",
     "output_type": "stream",
     "text": [
      "/home1/john/Downloads/cmlreaders-master/cmlreaders/path_finder.py:239: MultiplePathsFoundWarning: Multiple files found: /protocols/r1/subjects/R1062J/localizations/0/montages/0/neuroradiology/current_processed/pairs.json\n",
      "/data/eeg/R1062J/tal/R1062J_talLocs_database_bipol.mat returning the first file found\n",
      "  warnings.warn(msg, MultiplePathsFoundWarning)\n",
      "/home1/john/anaconda3/envs/env1/lib/python3.7/site-packages/ptsa/data/readers/tal.py:43: FutureWarning: Lab-specific readers may be moved to the cmlreaders package (https://github.com/pennmem/cmlreaders)\n",
      "  FutureWarning)\n",
      "/home1/john/Downloads/cmlreaders-master/cmlreaders/path_finder.py:239: MultiplePathsFoundWarning: Multiple files found: /protocols/r1/subjects/R1062J/experiments/FR1/sessions/3/ephys/current_processed/sources.json\n",
      "/data/eeg/R1062J/eeg.noreref/params.txt returning the first file found\n",
      "  warnings.warn(msg, MultiplePathsFoundWarning)\n"
     ]
    },
    {
     "name": "stdout",
     "output_type": "stream",
     "text": [
      "loaded eeg for R1062J3\n",
      "getting PTSA\n",
      "30 matching events found\n",
      "No baseline correction applied\n",
      "Not setting metadata\n",
      "0 projection items activated\n",
      "0 bad epochs dropped\n"
     ]
    },
    {
     "name": "stderr",
     "output_type": "stream",
     "text": [
      "/home1/john/Downloads/cmlreaders-master/cmlreaders/path_finder.py:239: MultiplePathsFoundWarning: Multiple files found: /protocols/r1/subjects/R1063C/localizations/0/montages/0/neuroradiology/current_processed/pairs.json\n",
      "/data/eeg/R1063C/tal/R1063C_talLocs_database_bipol.mat returning the first file found\n",
      "  warnings.warn(msg, MultiplePathsFoundWarning)\n",
      "/home1/john/Downloads/cmlreaders-master/cmlreaders/path_finder.py:239: MultiplePathsFoundWarning: Multiple files found: /protocols/r1/subjects/R1063C/experiments/FR1/sessions/0/ephys/current_processed/sources.json\n",
      "/data/eeg/R1063C/eeg.noreref/params.txt returning the first file found\n",
      "  warnings.warn(msg, MultiplePathsFoundWarning)\n"
     ]
    },
    {
     "name": "stdout",
     "output_type": "stream",
     "text": [
      "loaded eeg for R1063C0\n",
      "getting PTSA\n",
      "46 matching events found\n",
      "No baseline correction applied\n",
      "Not setting metadata\n",
      "0 projection items activated\n",
      "0 bad epochs dropped\n"
     ]
    },
    {
     "name": "stderr",
     "output_type": "stream",
     "text": [
      "/home1/john/Downloads/cmlreaders-master/cmlreaders/path_finder.py:239: MultiplePathsFoundWarning: Multiple files found: /protocols/r1/subjects/R1063C/localizations/0/montages/1/neuroradiology/current_processed/pairs.json\n",
      "/data/eeg/R1063C_1/tal/R1063C_1_talLocs_database_bipol.mat returning the first file found\n",
      "  warnings.warn(msg, MultiplePathsFoundWarning)\n",
      "/home1/john/anaconda3/envs/env1/lib/python3.7/site-packages/ptsa/data/readers/tal.py:43: FutureWarning: Lab-specific readers may be moved to the cmlreaders package (https://github.com/pennmem/cmlreaders)\n",
      "  FutureWarning)\n",
      "/home1/john/Downloads/cmlreaders-master/cmlreaders/path_finder.py:239: MultiplePathsFoundWarning: Multiple files found: /protocols/r1/subjects/R1063C/experiments/FR1/sessions/1/ephys/current_processed/sources.json\n",
      "/data/eeg/R1063C/eeg.noreref/params.txt returning the first file found\n",
      "  warnings.warn(msg, MultiplePathsFoundWarning)\n"
     ]
    },
    {
     "name": "stdout",
     "output_type": "stream",
     "text": [
      "2020-06-01_16-13-17: DF Exception: Sub: R1063C, Sess: 1, ValueError, operands could not be broadcast together with shapes (108,2000) (107,2000) , file: <ipython-input-9-125176e14c87>, line no: 86\n"
     ]
    },
    {
     "name": "stderr",
     "output_type": "stream",
     "text": [
      "/home1/john/Downloads/cmlreaders-master/cmlreaders/path_finder.py:239: MultiplePathsFoundWarning: Multiple files found: /protocols/r1/subjects/R1065J/localizations/0/montages/0/neuroradiology/current_processed/pairs.json\n",
      "/data/eeg/R1065J/tal/R1065J_talLocs_database_bipol.mat returning the first file found\n",
      "  warnings.warn(msg, MultiplePathsFoundWarning)\n",
      "/home1/john/anaconda3/envs/env1/lib/python3.7/site-packages/ptsa/data/readers/tal.py:43: FutureWarning: Lab-specific readers may be moved to the cmlreaders package (https://github.com/pennmem/cmlreaders)\n",
      "  FutureWarning)\n",
      "/home1/john/Downloads/cmlreaders-master/cmlreaders/path_finder.py:239: MultiplePathsFoundWarning: Multiple files found: /protocols/r1/subjects/R1065J/experiments/FR1/sessions/0/ephys/current_processed/sources.json\n",
      "/data/eeg/R1065J/eeg.noreref/params.txt returning the first file found\n",
      "  warnings.warn(msg, MultiplePathsFoundWarning)\n"
     ]
    },
    {
     "name": "stdout",
     "output_type": "stream",
     "text": [
      "loaded eeg for R1065J0\n",
      "getting PTSA\n",
      "83 matching events found\n",
      "No baseline correction applied\n",
      "Not setting metadata\n",
      "0 projection items activated\n",
      "0 bad epochs dropped\n"
     ]
    },
    {
     "name": "stderr",
     "output_type": "stream",
     "text": [
      "/home1/john/Downloads/cmlreaders-master/cmlreaders/path_finder.py:239: MultiplePathsFoundWarning: Multiple files found: /protocols/r1/subjects/R1065J/localizations/0/montages/0/neuroradiology/current_processed/pairs.json\n",
      "/data/eeg/R1065J/tal/R1065J_talLocs_database_bipol.mat returning the first file found\n",
      "  warnings.warn(msg, MultiplePathsFoundWarning)\n",
      "/home1/john/anaconda3/envs/env1/lib/python3.7/site-packages/ptsa/data/readers/tal.py:43: FutureWarning: Lab-specific readers may be moved to the cmlreaders package (https://github.com/pennmem/cmlreaders)\n",
      "  FutureWarning)\n",
      "/home1/john/Downloads/cmlreaders-master/cmlreaders/path_finder.py:239: MultiplePathsFoundWarning: Multiple files found: /protocols/r1/subjects/R1065J/experiments/FR1/sessions/1/ephys/current_processed/sources.json\n",
      "/data/eeg/R1065J/eeg.noreref/params.txt returning the first file found\n",
      "  warnings.warn(msg, MultiplePathsFoundWarning)\n"
     ]
    },
    {
     "name": "stdout",
     "output_type": "stream",
     "text": [
      "loaded eeg for R1065J1\n",
      "getting PTSA\n",
      "85 matching events found\n",
      "No baseline correction applied\n",
      "Not setting metadata\n",
      "0 projection items activated\n",
      "0 bad epochs dropped\n"
     ]
    },
    {
     "name": "stderr",
     "output_type": "stream",
     "text": [
      "/home1/john/Downloads/cmlreaders-master/cmlreaders/path_finder.py:239: MultiplePathsFoundWarning: Multiple files found: /protocols/r1/subjects/R1065J/localizations/0/montages/0/neuroradiology/current_processed/pairs.json\n",
      "/data/eeg/R1065J/tal/R1065J_talLocs_database_bipol.mat returning the first file found\n",
      "  warnings.warn(msg, MultiplePathsFoundWarning)\n",
      "/home1/john/anaconda3/envs/env1/lib/python3.7/site-packages/ptsa/data/readers/tal.py:43: FutureWarning: Lab-specific readers may be moved to the cmlreaders package (https://github.com/pennmem/cmlreaders)\n",
      "  FutureWarning)\n",
      "/home1/john/Downloads/cmlreaders-master/cmlreaders/path_finder.py:239: MultiplePathsFoundWarning: Multiple files found: /protocols/r1/subjects/R1065J/experiments/FR1/sessions/2/ephys/current_processed/sources.json\n",
      "/data/eeg/R1065J/eeg.noreref/params.txt returning the first file found\n",
      "  warnings.warn(msg, MultiplePathsFoundWarning)\n"
     ]
    },
    {
     "name": "stdout",
     "output_type": "stream",
     "text": [
      "loaded eeg for R1065J2\n",
      "getting PTSA\n",
      "77 matching events found\n",
      "No baseline correction applied\n",
      "Not setting metadata\n",
      "0 projection items activated\n",
      "0 bad epochs dropped\n"
     ]
    },
    {
     "name": "stderr",
     "output_type": "stream",
     "text": [
      "/home1/john/Downloads/cmlreaders-master/cmlreaders/path_finder.py:239: MultiplePathsFoundWarning: Multiple files found: /protocols/r1/subjects/R1065J/localizations/0/montages/0/neuroradiology/current_processed/pairs.json\n",
      "/data/eeg/R1065J/tal/R1065J_talLocs_database_bipol.mat returning the first file found\n",
      "  warnings.warn(msg, MultiplePathsFoundWarning)\n",
      "/home1/john/anaconda3/envs/env1/lib/python3.7/site-packages/ptsa/data/readers/tal.py:43: FutureWarning: Lab-specific readers may be moved to the cmlreaders package (https://github.com/pennmem/cmlreaders)\n",
      "  FutureWarning)\n",
      "/home1/john/Downloads/cmlreaders-master/cmlreaders/path_finder.py:239: MultiplePathsFoundWarning: Multiple files found: /protocols/r1/subjects/R1065J/experiments/FR1/sessions/3/ephys/current_processed/sources.json\n",
      "/data/eeg/R1065J/eeg.noreref/params.txt returning the first file found\n",
      "  warnings.warn(msg, MultiplePathsFoundWarning)\n"
     ]
    },
    {
     "name": "stdout",
     "output_type": "stream",
     "text": [
      "loaded eeg for R1065J3\n",
      "getting PTSA\n",
      "82 matching events found\n",
      "No baseline correction applied\n",
      "Not setting metadata\n",
      "0 projection items activated\n",
      "0 bad epochs dropped\n"
     ]
    },
    {
     "name": "stderr",
     "output_type": "stream",
     "text": [
      "/home1/john/Downloads/cmlreaders-master/cmlreaders/path_finder.py:239: MultiplePathsFoundWarning: Multiple files found: /protocols/r1/subjects/R1065J/localizations/0/montages/0/neuroradiology/current_processed/pairs.json\n",
      "/data/eeg/R1065J/tal/R1065J_talLocs_database_bipol.mat returning the first file found\n",
      "  warnings.warn(msg, MultiplePathsFoundWarning)\n",
      "/home1/john/anaconda3/envs/env1/lib/python3.7/site-packages/ptsa/data/readers/tal.py:43: FutureWarning: Lab-specific readers may be moved to the cmlreaders package (https://github.com/pennmem/cmlreaders)\n",
      "  FutureWarning)\n",
      "/home1/john/Downloads/cmlreaders-master/cmlreaders/path_finder.py:239: MultiplePathsFoundWarning: Multiple files found: /protocols/r1/subjects/R1065J/experiments/FR1/sessions/4/ephys/current_processed/sources.json\n",
      "/data/eeg/R1065J/eeg.noreref/params.txt returning the first file found\n",
      "  warnings.warn(msg, MultiplePathsFoundWarning)\n"
     ]
    },
    {
     "name": "stdout",
     "output_type": "stream",
     "text": [
      "loaded eeg for R1065J4\n",
      "getting PTSA\n",
      "76 matching events found\n",
      "No baseline correction applied\n",
      "Not setting metadata\n",
      "0 projection items activated\n",
      "0 bad epochs dropped\n"
     ]
    },
    {
     "name": "stderr",
     "output_type": "stream",
     "text": [
      "/home1/john/Downloads/cmlreaders-master/cmlreaders/path_finder.py:239: MultiplePathsFoundWarning: Multiple files found: /protocols/r1/subjects/R1065J/localizations/0/montages/0/neuroradiology/current_processed/pairs.json\n",
      "/data/eeg/R1065J/tal/R1065J_talLocs_database_bipol.mat returning the first file found\n",
      "  warnings.warn(msg, MultiplePathsFoundWarning)\n",
      "/home1/john/anaconda3/envs/env1/lib/python3.7/site-packages/ptsa/data/readers/tal.py:43: FutureWarning: Lab-specific readers may be moved to the cmlreaders package (https://github.com/pennmem/cmlreaders)\n",
      "  FutureWarning)\n",
      "/home1/john/Downloads/cmlreaders-master/cmlreaders/path_finder.py:239: MultiplePathsFoundWarning: Multiple files found: /protocols/r1/subjects/R1065J/experiments/FR1/sessions/5/ephys/current_processed/sources.json\n",
      "/data/eeg/R1065J/eeg.noreref/params.txt returning the first file found\n",
      "  warnings.warn(msg, MultiplePathsFoundWarning)\n"
     ]
    },
    {
     "name": "stdout",
     "output_type": "stream",
     "text": [
      "loaded eeg for R1065J5\n",
      "getting PTSA\n",
      "87 matching events found\n",
      "No baseline correction applied\n",
      "Not setting metadata\n",
      "0 projection items activated\n",
      "0 bad epochs dropped\n"
     ]
    },
    {
     "name": "stderr",
     "output_type": "stream",
     "text": [
      "/home1/john/Downloads/cmlreaders-master/cmlreaders/path_finder.py:239: MultiplePathsFoundWarning: Multiple files found: /protocols/r1/subjects/R1066P/localizations/0/montages/0/neuroradiology/current_processed/pairs.json\n",
      "/data/eeg/R1066P/tal/R1066P_talLocs_database_bipol.mat returning the first file found\n",
      "  warnings.warn(msg, MultiplePathsFoundWarning)\n",
      "/home1/john/anaconda3/envs/env1/lib/python3.7/site-packages/ptsa/data/readers/tal.py:43: FutureWarning: Lab-specific readers may be moved to the cmlreaders package (https://github.com/pennmem/cmlreaders)\n",
      "  FutureWarning)\n",
      "/home1/john/Downloads/cmlreaders-master/cmlreaders/path_finder.py:239: MultiplePathsFoundWarning: Multiple files found: /protocols/r1/subjects/R1066P/experiments/FR1/sessions/0/ephys/current_processed/sources.json\n",
      "/data/eeg/R1066P/eeg.noreref/params.txt returning the first file found\n",
      "  warnings.warn(msg, MultiplePathsFoundWarning)\n"
     ]
    },
    {
     "name": "stdout",
     "output_type": "stream",
     "text": [
      "loaded eeg for R1066P0\n",
      "getting PTSA\n",
      "66 matching events found\n",
      "No baseline correction applied\n",
      "Not setting metadata\n",
      "0 projection items activated\n",
      "0 bad epochs dropped\n"
     ]
    },
    {
     "name": "stderr",
     "output_type": "stream",
     "text": [
      "/home1/john/Downloads/cmlreaders-master/cmlreaders/path_finder.py:239: MultiplePathsFoundWarning: Multiple files found: /protocols/r1/subjects/R1066P/localizations/0/montages/0/neuroradiology/current_processed/pairs.json\n",
      "/data/eeg/R1066P/tal/R1066P_talLocs_database_bipol.mat returning the first file found\n",
      "  warnings.warn(msg, MultiplePathsFoundWarning)\n",
      "/home1/john/anaconda3/envs/env1/lib/python3.7/site-packages/ptsa/data/readers/tal.py:43: FutureWarning: Lab-specific readers may be moved to the cmlreaders package (https://github.com/pennmem/cmlreaders)\n",
      "  FutureWarning)\n",
      "/home1/john/Downloads/cmlreaders-master/cmlreaders/path_finder.py:239: MultiplePathsFoundWarning: Multiple files found: /protocols/r1/subjects/R1066P/experiments/FR1/sessions/1/ephys/current_processed/sources.json\n",
      "/data/eeg/R1066P/eeg.noreref/params.txt returning the first file found\n",
      "  warnings.warn(msg, MultiplePathsFoundWarning)\n"
     ]
    },
    {
     "name": "stdout",
     "output_type": "stream",
     "text": [
      "loaded eeg for R1066P1\n",
      "getting PTSA\n",
      "25 matching events found\n",
      "No baseline correction applied\n",
      "Not setting metadata\n",
      "0 projection items activated\n",
      "0 bad epochs dropped\n"
     ]
    },
    {
     "name": "stderr",
     "output_type": "stream",
     "text": [
      "/home1/john/Downloads/cmlreaders-master/cmlreaders/path_finder.py:239: MultiplePathsFoundWarning: Multiple files found: /protocols/r1/subjects/R1066P/localizations/0/montages/0/neuroradiology/current_processed/pairs.json\n",
      "/data/eeg/R1066P/tal/R1066P_talLocs_database_bipol.mat returning the first file found\n",
      "  warnings.warn(msg, MultiplePathsFoundWarning)\n",
      "/home1/john/anaconda3/envs/env1/lib/python3.7/site-packages/ptsa/data/readers/tal.py:43: FutureWarning: Lab-specific readers may be moved to the cmlreaders package (https://github.com/pennmem/cmlreaders)\n",
      "  FutureWarning)\n",
      "/home1/john/Downloads/cmlreaders-master/cmlreaders/path_finder.py:239: MultiplePathsFoundWarning: Multiple files found: /protocols/r1/subjects/R1066P/experiments/FR1/sessions/2/ephys/current_processed/sources.json\n",
      "/data/eeg/R1066P/eeg.noreref/params.txt returning the first file found\n",
      "  warnings.warn(msg, MultiplePathsFoundWarning)\n"
     ]
    },
    {
     "name": "stdout",
     "output_type": "stream",
     "text": [
      "loaded eeg for R1066P2\n",
      "getting PTSA\n",
      "49 matching events found\n",
      "No baseline correction applied\n",
      "Not setting metadata\n",
      "0 projection items activated\n",
      "0 bad epochs dropped\n"
     ]
    },
    {
     "name": "stderr",
     "output_type": "stream",
     "text": [
      "/home1/john/Downloads/cmlreaders-master/cmlreaders/path_finder.py:239: MultiplePathsFoundWarning: Multiple files found: /protocols/r1/subjects/R1066P/localizations/0/montages/0/neuroradiology/current_processed/pairs.json\n",
      "/data/eeg/R1066P/tal/R1066P_talLocs_database_bipol.mat returning the first file found\n",
      "  warnings.warn(msg, MultiplePathsFoundWarning)\n",
      "/home1/john/anaconda3/envs/env1/lib/python3.7/site-packages/ptsa/data/readers/tal.py:43: FutureWarning: Lab-specific readers may be moved to the cmlreaders package (https://github.com/pennmem/cmlreaders)\n",
      "  FutureWarning)\n",
      "/home1/john/Downloads/cmlreaders-master/cmlreaders/path_finder.py:239: MultiplePathsFoundWarning: Multiple files found: /protocols/r1/subjects/R1066P/experiments/FR1/sessions/3/ephys/current_processed/sources.json\n",
      "/data/eeg/R1066P/eeg.noreref/params.txt returning the first file found\n",
      "  warnings.warn(msg, MultiplePathsFoundWarning)\n"
     ]
    },
    {
     "name": "stdout",
     "output_type": "stream",
     "text": [
      "loaded eeg for R1066P3\n",
      "getting PTSA\n",
      "49 matching events found\n",
      "No baseline correction applied\n",
      "Not setting metadata\n",
      "0 projection items activated\n",
      "0 bad epochs dropped\n"
     ]
    },
    {
     "name": "stderr",
     "output_type": "stream",
     "text": [
      "/home1/john/Downloads/cmlreaders-master/cmlreaders/path_finder.py:239: MultiplePathsFoundWarning: Multiple files found: /protocols/r1/subjects/R1067P/localizations/0/montages/0/neuroradiology/current_processed/pairs.json\n",
      "/data/eeg/R1067P/tal/R1067P_talLocs_database_bipol.mat returning the first file found\n",
      "  warnings.warn(msg, MultiplePathsFoundWarning)\n",
      "/home1/john/Downloads/cmlreaders-master/cmlreaders/readers/electrodes.py:236: MissingCoordinatesWarning: Could not load MNI coordinates\n",
      "  \"Could not load MNI coordinates\"))\n",
      "/home1/john/anaconda3/envs/env1/lib/python3.7/site-packages/ptsa/data/readers/tal.py:43: FutureWarning: Lab-specific readers may be moved to the cmlreaders package (https://github.com/pennmem/cmlreaders)\n",
      "  FutureWarning)\n",
      "/home1/john/Downloads/cmlreaders-master/cmlreaders/path_finder.py:239: MultiplePathsFoundWarning: Multiple files found: /protocols/r1/subjects/R1067P/experiments/FR1/sessions/0/ephys/current_processed/sources.json\n",
      "/data/eeg/R1067P/eeg.noreref/params.txt returning the first file found\n",
      "  warnings.warn(msg, MultiplePathsFoundWarning)\n"
     ]
    },
    {
     "name": "stdout",
     "output_type": "stream",
     "text": [
      "loaded eeg for R1067P0\n",
      "getting PTSA\n",
      "26 matching events found\n",
      "No baseline correction applied\n",
      "Not setting metadata\n",
      "0 projection items activated\n",
      "0 bad epochs dropped\n"
     ]
    },
    {
     "name": "stderr",
     "output_type": "stream",
     "text": [
      "/home1/john/Downloads/cmlreaders-master/cmlreaders/path_finder.py:239: MultiplePathsFoundWarning: Multiple files found: /protocols/r1/subjects/R1067P/localizations/0/montages/0/neuroradiology/current_processed/pairs.json\n",
      "/data/eeg/R1067P/tal/R1067P_talLocs_database_bipol.mat returning the first file found\n",
      "  warnings.warn(msg, MultiplePathsFoundWarning)\n",
      "/home1/john/Downloads/cmlreaders-master/cmlreaders/readers/electrodes.py:236: MissingCoordinatesWarning: Could not load MNI coordinates\n",
      "  \"Could not load MNI coordinates\"))\n",
      "/home1/john/anaconda3/envs/env1/lib/python3.7/site-packages/ptsa/data/readers/tal.py:43: FutureWarning: Lab-specific readers may be moved to the cmlreaders package (https://github.com/pennmem/cmlreaders)\n",
      "  FutureWarning)\n",
      "/home1/john/Downloads/cmlreaders-master/cmlreaders/path_finder.py:239: MultiplePathsFoundWarning: Multiple files found: /protocols/r1/subjects/R1067P/experiments/FR1/sessions/1/ephys/current_processed/sources.json\n",
      "/data/eeg/R1067P/eeg.noreref/params.txt returning the first file found\n",
      "  warnings.warn(msg, MultiplePathsFoundWarning)\n"
     ]
    },
    {
     "name": "stdout",
     "output_type": "stream",
     "text": [
      "loaded eeg for R1067P1\n",
      "getting PTSA\n",
      "25 matching events found\n",
      "No baseline correction applied\n",
      "Not setting metadata\n",
      "0 projection items activated\n",
      "0 bad epochs dropped\n"
     ]
    },
    {
     "name": "stderr",
     "output_type": "stream",
     "text": [
      "/home1/john/Downloads/cmlreaders-master/cmlreaders/path_finder.py:239: MultiplePathsFoundWarning: Multiple files found: /protocols/r1/subjects/R1067P/localizations/0/montages/0/neuroradiology/current_processed/pairs.json\n",
      "/data/eeg/R1067P/tal/R1067P_talLocs_database_bipol.mat returning the first file found\n",
      "  warnings.warn(msg, MultiplePathsFoundWarning)\n",
      "/home1/john/Downloads/cmlreaders-master/cmlreaders/readers/electrodes.py:236: MissingCoordinatesWarning: Could not load MNI coordinates\n",
      "  \"Could not load MNI coordinates\"))\n",
      "/home1/john/anaconda3/envs/env1/lib/python3.7/site-packages/ptsa/data/readers/tal.py:43: FutureWarning: Lab-specific readers may be moved to the cmlreaders package (https://github.com/pennmem/cmlreaders)\n",
      "  FutureWarning)\n",
      "/home1/john/Downloads/cmlreaders-master/cmlreaders/path_finder.py:239: MultiplePathsFoundWarning: Multiple files found: /protocols/r1/subjects/R1067P/experiments/FR1/sessions/2/ephys/current_processed/sources.json\n",
      "/data/eeg/R1067P/eeg.noreref/params.txt returning the first file found\n",
      "  warnings.warn(msg, MultiplePathsFoundWarning)\n"
     ]
    },
    {
     "name": "stdout",
     "output_type": "stream",
     "text": [
      "loaded eeg for R1067P2\n",
      "getting PTSA\n",
      "41 matching events found\n",
      "No baseline correction applied\n",
      "Not setting metadata\n",
      "0 projection items activated\n",
      "0 bad epochs dropped\n"
     ]
    },
    {
     "name": "stderr",
     "output_type": "stream",
     "text": [
      "/home1/john/Downloads/cmlreaders-master/cmlreaders/path_finder.py:239: MultiplePathsFoundWarning: Multiple files found: /protocols/r1/subjects/R1068J/localizations/0/montages/0/neuroradiology/current_processed/pairs.json\n",
      "/data/eeg/R1068J/tal/R1068J_talLocs_database_bipol.mat returning the first file found\n",
      "  warnings.warn(msg, MultiplePathsFoundWarning)\n",
      "/home1/john/anaconda3/envs/env1/lib/python3.7/site-packages/ptsa/data/readers/tal.py:43: FutureWarning: Lab-specific readers may be moved to the cmlreaders package (https://github.com/pennmem/cmlreaders)\n",
      "  FutureWarning)\n",
      "/home1/john/Downloads/cmlreaders-master/cmlreaders/path_finder.py:239: MultiplePathsFoundWarning: Multiple files found: /protocols/r1/subjects/R1068J/experiments/FR1/sessions/0/ephys/current_processed/sources.json\n",
      "/data/eeg/R1068J/eeg.noreref/params.txt returning the first file found\n",
      "  warnings.warn(msg, MultiplePathsFoundWarning)\n"
     ]
    },
    {
     "name": "stdout",
     "output_type": "stream",
     "text": [
      "loaded eeg for R1068J0\n",
      "getting PTSA\n",
      "41 matching events found\n",
      "No baseline correction applied\n",
      "Not setting metadata\n",
      "0 projection items activated\n",
      "0 bad epochs dropped\n"
     ]
    },
    {
     "name": "stderr",
     "output_type": "stream",
     "text": [
      "/home1/john/Downloads/cmlreaders-master/cmlreaders/path_finder.py:239: MultiplePathsFoundWarning: Multiple files found: /protocols/r1/subjects/R1068J/localizations/0/montages/0/neuroradiology/current_processed/pairs.json\n",
      "/data/eeg/R1068J/tal/R1068J_talLocs_database_bipol.mat returning the first file found\n",
      "  warnings.warn(msg, MultiplePathsFoundWarning)\n",
      "/home1/john/anaconda3/envs/env1/lib/python3.7/site-packages/ptsa/data/readers/tal.py:43: FutureWarning: Lab-specific readers may be moved to the cmlreaders package (https://github.com/pennmem/cmlreaders)\n",
      "  FutureWarning)\n",
      "/home1/john/Downloads/cmlreaders-master/cmlreaders/path_finder.py:239: MultiplePathsFoundWarning: Multiple files found: /protocols/r1/subjects/R1068J/experiments/FR1/sessions/1/ephys/current_processed/sources.json\n",
      "/data/eeg/R1068J/eeg.noreref/params.txt returning the first file found\n",
      "  warnings.warn(msg, MultiplePathsFoundWarning)\n"
     ]
    },
    {
     "name": "stdout",
     "output_type": "stream",
     "text": [
      "loaded eeg for R1068J1\n",
      "getting PTSA\n",
      "56 matching events found\n",
      "No baseline correction applied\n",
      "Not setting metadata\n",
      "0 projection items activated\n",
      "0 bad epochs dropped\n"
     ]
    },
    {
     "name": "stderr",
     "output_type": "stream",
     "text": [
      "/home1/john/Downloads/cmlreaders-master/cmlreaders/path_finder.py:239: MultiplePathsFoundWarning: Multiple files found: /protocols/r1/subjects/R1068J/localizations/0/montages/0/neuroradiology/current_processed/pairs.json\n",
      "/data/eeg/R1068J/tal/R1068J_talLocs_database_bipol.mat returning the first file found\n",
      "  warnings.warn(msg, MultiplePathsFoundWarning)\n",
      "/home1/john/anaconda3/envs/env1/lib/python3.7/site-packages/ptsa/data/readers/tal.py:43: FutureWarning: Lab-specific readers may be moved to the cmlreaders package (https://github.com/pennmem/cmlreaders)\n",
      "  FutureWarning)\n",
      "/home1/john/Downloads/cmlreaders-master/cmlreaders/path_finder.py:239: MultiplePathsFoundWarning: Multiple files found: /protocols/r1/subjects/R1068J/experiments/FR1/sessions/2/ephys/current_processed/sources.json\n",
      "/data/eeg/R1068J/eeg.noreref/params.txt returning the first file found\n",
      "  warnings.warn(msg, MultiplePathsFoundWarning)\n"
     ]
    },
    {
     "name": "stdout",
     "output_type": "stream",
     "text": [
      "loaded eeg for R1068J2\n",
      "getting PTSA\n",
      "44 matching events found\n",
      "No baseline correction applied\n",
      "Not setting metadata\n",
      "0 projection items activated\n",
      "0 bad epochs dropped\n"
     ]
    },
    {
     "name": "stderr",
     "output_type": "stream",
     "text": [
      "/home1/john/Downloads/cmlreaders-master/cmlreaders/path_finder.py:239: MultiplePathsFoundWarning: Multiple files found: /protocols/r1/subjects/R1069M/localizations/0/montages/0/neuroradiology/current_processed/pairs.json\n",
      "/data/eeg/R1069M/tal/R1069M_talLocs_database_bipol.mat returning the first file found\n",
      "  warnings.warn(msg, MultiplePathsFoundWarning)\n",
      "/home1/john/anaconda3/envs/env1/lib/python3.7/site-packages/ptsa/data/readers/tal.py:43: FutureWarning: Lab-specific readers may be moved to the cmlreaders package (https://github.com/pennmem/cmlreaders)\n",
      "  FutureWarning)\n",
      "/home1/john/Downloads/cmlreaders-master/cmlreaders/path_finder.py:239: MultiplePathsFoundWarning: Multiple files found: /protocols/r1/subjects/R1069M/experiments/FR1/sessions/0/ephys/current_processed/sources.json\n",
      "/data/eeg/R1069M/eeg.noreref/params.txt returning the first file found\n",
      "  warnings.warn(msg, MultiplePathsFoundWarning)\n"
     ]
    },
    {
     "name": "stdout",
     "output_type": "stream",
     "text": [
      "loaded eeg for R1069M0\n",
      "getting PTSA\n",
      "56 matching events found\n",
      "No baseline correction applied\n",
      "Not setting metadata\n",
      "0 projection items activated\n",
      "0 bad epochs dropped\n"
     ]
    },
    {
     "name": "stderr",
     "output_type": "stream",
     "text": [
      "/home1/john/Downloads/cmlreaders-master/cmlreaders/path_finder.py:239: MultiplePathsFoundWarning: Multiple files found: /protocols/r1/subjects/R1070T/localizations/0/montages/0/neuroradiology/current_processed/pairs.json\n",
      "/data/eeg/R1070T/tal/R1070T_talLocs_database_bipol.mat returning the first file found\n",
      "  warnings.warn(msg, MultiplePathsFoundWarning)\n",
      "/home1/john/anaconda3/envs/env1/lib/python3.7/site-packages/ptsa/data/readers/tal.py:43: FutureWarning: Lab-specific readers may be moved to the cmlreaders package (https://github.com/pennmem/cmlreaders)\n",
      "  FutureWarning)\n",
      "/home1/john/Downloads/cmlreaders-master/cmlreaders/path_finder.py:239: MultiplePathsFoundWarning: Multiple files found: /protocols/r1/subjects/R1070T/experiments/FR1/sessions/0/ephys/current_processed/sources.json\n",
      "/data/eeg/R1070T/eeg.noreref/params.txt returning the first file found\n",
      "  warnings.warn(msg, MultiplePathsFoundWarning)\n"
     ]
    },
    {
     "name": "stdout",
     "output_type": "stream",
     "text": [
      "loaded eeg for R1070T0\n",
      "getting PTSA\n",
      "12 matching events found\n",
      "No baseline correction applied\n",
      "Not setting metadata\n",
      "0 projection items activated\n",
      "0 bad epochs dropped\n"
     ]
    },
    {
     "name": "stderr",
     "output_type": "stream",
     "text": [
      "/home1/john/Downloads/cmlreaders-master/cmlreaders/path_finder.py:239: MultiplePathsFoundWarning: Multiple files found: /protocols/r1/subjects/R1070T/localizations/0/montages/0/neuroradiology/current_processed/pairs.json\n",
      "/data/eeg/R1070T/tal/R1070T_talLocs_database_bipol.mat returning the first file found\n",
      "  warnings.warn(msg, MultiplePathsFoundWarning)\n",
      "/home1/john/anaconda3/envs/env1/lib/python3.7/site-packages/ptsa/data/readers/tal.py:43: FutureWarning: Lab-specific readers may be moved to the cmlreaders package (https://github.com/pennmem/cmlreaders)\n",
      "  FutureWarning)\n",
      "/home1/john/Downloads/cmlreaders-master/cmlreaders/path_finder.py:239: MultiplePathsFoundWarning: Multiple files found: /protocols/r1/subjects/R1070T/experiments/FR1/sessions/1/ephys/current_processed/sources.json\n",
      "/data/eeg/R1070T/eeg.noreref/params.txt returning the first file found\n",
      "  warnings.warn(msg, MultiplePathsFoundWarning)\n"
     ]
    },
    {
     "name": "stdout",
     "output_type": "stream",
     "text": [
      "loaded eeg for R1070T1\n",
      "getting PTSA\n",
      "33 matching events found\n",
      "No baseline correction applied\n",
      "Not setting metadata\n",
      "0 projection items activated\n",
      "0 bad epochs dropped\n"
     ]
    },
    {
     "name": "stderr",
     "output_type": "stream",
     "text": [
      "/home1/john/Downloads/cmlreaders-master/cmlreaders/path_finder.py:239: MultiplePathsFoundWarning: Multiple files found: /protocols/r1/subjects/R1070T/localizations/0/montages/0/neuroradiology/current_processed/pairs.json\n",
      "/data/eeg/R1070T/tal/R1070T_talLocs_database_bipol.mat returning the first file found\n",
      "  warnings.warn(msg, MultiplePathsFoundWarning)\n",
      "/home1/john/anaconda3/envs/env1/lib/python3.7/site-packages/ptsa/data/readers/tal.py:43: FutureWarning: Lab-specific readers may be moved to the cmlreaders package (https://github.com/pennmem/cmlreaders)\n",
      "  FutureWarning)\n",
      "/home1/john/Downloads/cmlreaders-master/cmlreaders/path_finder.py:239: MultiplePathsFoundWarning: Multiple files found: /protocols/r1/subjects/R1070T/experiments/FR1/sessions/2/ephys/current_processed/sources.json\n",
      "/data/eeg/R1070T/eeg.noreref/params.txt returning the first file found\n",
      "  warnings.warn(msg, MultiplePathsFoundWarning)\n"
     ]
    },
    {
     "name": "stdout",
     "output_type": "stream",
     "text": [
      "loaded eeg for R1070T2\n",
      "getting PTSA\n",
      "43 matching events found\n",
      "No baseline correction applied\n",
      "Not setting metadata\n",
      "0 projection items activated\n",
      "0 bad epochs dropped\n"
     ]
    },
    {
     "name": "stderr",
     "output_type": "stream",
     "text": [
      "/home1/john/Downloads/cmlreaders-master/cmlreaders/path_finder.py:239: MultiplePathsFoundWarning: Multiple files found: /protocols/r1/subjects/R1074M/localizations/0/montages/0/neuroradiology/current_processed/pairs.json\n",
      "/data/eeg/R1074M/tal/R1074M_talLocs_database_bipol.mat returning the first file found\n",
      "  warnings.warn(msg, MultiplePathsFoundWarning)\n",
      "/home1/john/anaconda3/envs/env1/lib/python3.7/site-packages/ptsa/data/readers/tal.py:43: FutureWarning: Lab-specific readers may be moved to the cmlreaders package (https://github.com/pennmem/cmlreaders)\n",
      "  FutureWarning)\n",
      "/home1/john/Downloads/cmlreaders-master/cmlreaders/path_finder.py:239: MultiplePathsFoundWarning: Multiple files found: /protocols/r1/subjects/R1074M/experiments/FR1/sessions/0/ephys/current_processed/sources.json\n",
      "/data/eeg/R1074M/eeg.noreref/params.txt returning the first file found\n",
      "  warnings.warn(msg, MultiplePathsFoundWarning)\n"
     ]
    },
    {
     "name": "stdout",
     "output_type": "stream",
     "text": [
      "loaded eeg for R1074M0\n",
      "getting PTSA\n",
      "37 matching events found\n",
      "No baseline correction applied\n",
      "Not setting metadata\n",
      "0 projection items activated\n",
      "0 bad epochs dropped\n"
     ]
    },
    {
     "name": "stderr",
     "output_type": "stream",
     "text": [
      "/home1/john/Downloads/cmlreaders-master/cmlreaders/path_finder.py:239: MultiplePathsFoundWarning: Multiple files found: /protocols/r1/subjects/R1075J/localizations/0/montages/0/neuroradiology/current_processed/pairs.json\n",
      "/data/eeg/R1075J/tal/R1075J_talLocs_database_bipol.mat returning the first file found\n",
      "  warnings.warn(msg, MultiplePathsFoundWarning)\n",
      "/home1/john/anaconda3/envs/env1/lib/python3.7/site-packages/ptsa/data/readers/tal.py:43: FutureWarning: Lab-specific readers may be moved to the cmlreaders package (https://github.com/pennmem/cmlreaders)\n",
      "  FutureWarning)\n",
      "/home1/john/Downloads/cmlreaders-master/cmlreaders/path_finder.py:239: MultiplePathsFoundWarning: Multiple files found: /protocols/r1/subjects/R1075J/experiments/FR1/sessions/0/ephys/current_processed/sources.json\n",
      "/data/eeg/R1075J/eeg.noreref/params.txt returning the first file found\n",
      "  warnings.warn(msg, MultiplePathsFoundWarning)\n"
     ]
    },
    {
     "name": "stdout",
     "output_type": "stream",
     "text": [
      "loaded eeg for R1075J0\n",
      "getting PTSA\n",
      "65 matching events found\n",
      "No baseline correction applied\n",
      "Not setting metadata\n",
      "0 projection items activated\n",
      "0 bad epochs dropped\n"
     ]
    },
    {
     "name": "stderr",
     "output_type": "stream",
     "text": [
      "/home1/john/Downloads/cmlreaders-master/cmlreaders/path_finder.py:239: MultiplePathsFoundWarning: Multiple files found: /protocols/r1/subjects/R1075J/localizations/0/montages/0/neuroradiology/current_processed/pairs.json\n",
      "/data/eeg/R1075J/tal/R1075J_talLocs_database_bipol.mat returning the first file found\n",
      "  warnings.warn(msg, MultiplePathsFoundWarning)\n",
      "/home1/john/anaconda3/envs/env1/lib/python3.7/site-packages/ptsa/data/readers/tal.py:43: FutureWarning: Lab-specific readers may be moved to the cmlreaders package (https://github.com/pennmem/cmlreaders)\n",
      "  FutureWarning)\n",
      "/home1/john/Downloads/cmlreaders-master/cmlreaders/path_finder.py:239: MultiplePathsFoundWarning: Multiple files found: /protocols/r1/subjects/R1075J/experiments/FR1/sessions/1/ephys/current_processed/sources.json\n",
      "/data/eeg/R1075J/eeg.noreref/params.txt returning the first file found\n",
      "  warnings.warn(msg, MultiplePathsFoundWarning)\n"
     ]
    },
    {
     "name": "stdout",
     "output_type": "stream",
     "text": [
      "loaded eeg for R1075J1\n",
      "getting PTSA\n",
      "37 matching events found\n",
      "No baseline correction applied\n",
      "Not setting metadata\n",
      "0 projection items activated\n",
      "0 bad epochs dropped\n"
     ]
    },
    {
     "name": "stderr",
     "output_type": "stream",
     "text": [
      "/home1/john/Downloads/cmlreaders-master/cmlreaders/path_finder.py:239: MultiplePathsFoundWarning: Multiple files found: /protocols/r1/subjects/R1076D/localizations/0/montages/0/neuroradiology/current_processed/pairs.json\n",
      "/data/eeg/R1076D/tal/R1076D_talLocs_database_bipol.mat returning the first file found\n",
      "  warnings.warn(msg, MultiplePathsFoundWarning)\n",
      "/home1/john/Downloads/cmlreaders-master/cmlreaders/readers/electrodes.py:236: MissingCoordinatesWarning: Could not load MNI coordinates\n",
      "  \"Could not load MNI coordinates\"))\n",
      "/home1/john/anaconda3/envs/env1/lib/python3.7/site-packages/ptsa/data/readers/tal.py:43: FutureWarning: Lab-specific readers may be moved to the cmlreaders package (https://github.com/pennmem/cmlreaders)\n",
      "  FutureWarning)\n",
      "/home1/john/Downloads/cmlreaders-master/cmlreaders/path_finder.py:239: MultiplePathsFoundWarning: Multiple files found: /protocols/r1/subjects/R1076D/experiments/FR1/sessions/0/ephys/current_processed/sources.json\n",
      "/data/eeg/R1076D/eeg.noreref/R1076D_FR1_0_07Apr16_1346.params.txt\n",
      "/data/eeg/R1076D/eeg.noreref/params.txt returning the first file found\n",
      "  warnings.warn(msg, MultiplePathsFoundWarning)\n"
     ]
    },
    {
     "name": "stdout",
     "output_type": "stream",
     "text": [
      "loaded eeg for R1076D0\n",
      "getting PTSA\n",
      "50 matching events found\n",
      "No baseline correction applied\n",
      "Not setting metadata\n",
      "0 projection items activated\n",
      "0 bad epochs dropped\n"
     ]
    },
    {
     "name": "stderr",
     "output_type": "stream",
     "text": [
      "/home1/john/Downloads/cmlreaders-master/cmlreaders/path_finder.py:239: MultiplePathsFoundWarning: Multiple files found: /protocols/r1/subjects/R1076D/localizations/0/montages/0/neuroradiology/current_processed/pairs.json\n",
      "/data/eeg/R1076D/tal/R1076D_talLocs_database_bipol.mat returning the first file found\n",
      "  warnings.warn(msg, MultiplePathsFoundWarning)\n",
      "/home1/john/Downloads/cmlreaders-master/cmlreaders/readers/electrodes.py:236: MissingCoordinatesWarning: Could not load MNI coordinates\n",
      "  \"Could not load MNI coordinates\"))\n",
      "/home1/john/anaconda3/envs/env1/lib/python3.7/site-packages/ptsa/data/readers/tal.py:43: FutureWarning: Lab-specific readers may be moved to the cmlreaders package (https://github.com/pennmem/cmlreaders)\n",
      "  FutureWarning)\n",
      "/home1/john/Downloads/cmlreaders-master/cmlreaders/path_finder.py:239: MultiplePathsFoundWarning: Multiple files found: /protocols/r1/subjects/R1076D/experiments/FR1/sessions/1/ephys/current_processed/sources.json\n",
      "/data/eeg/R1076D/eeg.noreref/R1076D_FR1_1_06Apr16_1833.params.txt\n",
      "/data/eeg/R1076D/eeg.noreref/params.txt returning the first file found\n",
      "  warnings.warn(msg, MultiplePathsFoundWarning)\n"
     ]
    },
    {
     "name": "stdout",
     "output_type": "stream",
     "text": [
      "loaded eeg for R1076D1\n",
      "getting PTSA\n",
      "57 matching events found\n",
      "No baseline correction applied\n",
      "Not setting metadata\n",
      "0 projection items activated\n",
      "0 bad epochs dropped\n"
     ]
    },
    {
     "name": "stderr",
     "output_type": "stream",
     "text": [
      "/home1/john/Downloads/cmlreaders-master/cmlreaders/path_finder.py:239: MultiplePathsFoundWarning: Multiple files found: /protocols/r1/subjects/R1077T/localizations/0/montages/0/neuroradiology/current_processed/pairs.json\n",
      "/data/eeg/R1077T/tal/R1077T_talLocs_database_bipol.mat returning the first file found\n",
      "  warnings.warn(msg, MultiplePathsFoundWarning)\n",
      "/home1/john/anaconda3/envs/env1/lib/python3.7/site-packages/ptsa/data/readers/tal.py:43: FutureWarning: Lab-specific readers may be moved to the cmlreaders package (https://github.com/pennmem/cmlreaders)\n",
      "  FutureWarning)\n",
      "/home1/john/Downloads/cmlreaders-master/cmlreaders/path_finder.py:239: MultiplePathsFoundWarning: Multiple files found: /protocols/r1/subjects/R1077T/experiments/FR1/sessions/0/ephys/current_processed/sources.json\n",
      "/data/eeg/R1077T/eeg.noreref/params.txt returning the first file found\n",
      "  warnings.warn(msg, MultiplePathsFoundWarning)\n"
     ]
    },
    {
     "name": "stdout",
     "output_type": "stream",
     "text": [
      "loaded eeg for R1077T0\n",
      "getting PTSA\n",
      "51 matching events found\n",
      "No baseline correction applied\n",
      "Not setting metadata\n",
      "0 projection items activated\n",
      "0 bad epochs dropped\n"
     ]
    },
    {
     "name": "stderr",
     "output_type": "stream",
     "text": [
      "/home1/john/Downloads/cmlreaders-master/cmlreaders/path_finder.py:239: MultiplePathsFoundWarning: Multiple files found: /protocols/r1/subjects/R1077T/localizations/0/montages/0/neuroradiology/current_processed/pairs.json\n",
      "/data/eeg/R1077T/tal/R1077T_talLocs_database_bipol.mat returning the first file found\n",
      "  warnings.warn(msg, MultiplePathsFoundWarning)\n",
      "/home1/john/anaconda3/envs/env1/lib/python3.7/site-packages/ptsa/data/readers/tal.py:43: FutureWarning: Lab-specific readers may be moved to the cmlreaders package (https://github.com/pennmem/cmlreaders)\n",
      "  FutureWarning)\n",
      "/home1/john/Downloads/cmlreaders-master/cmlreaders/path_finder.py:239: MultiplePathsFoundWarning: Multiple files found: /protocols/r1/subjects/R1077T/experiments/FR1/sessions/1/ephys/current_processed/sources.json\n",
      "/data/eeg/R1077T/eeg.noreref/params.txt returning the first file found\n",
      "  warnings.warn(msg, MultiplePathsFoundWarning)\n"
     ]
    },
    {
     "name": "stdout",
     "output_type": "stream",
     "text": [
      "loaded eeg for R1077T1\n",
      "getting PTSA\n",
      "41 matching events found\n",
      "No baseline correction applied\n",
      "Not setting metadata\n",
      "0 projection items activated\n",
      "0 bad epochs dropped\n"
     ]
    },
    {
     "name": "stderr",
     "output_type": "stream",
     "text": [
      "/home1/john/Downloads/cmlreaders-master/cmlreaders/path_finder.py:239: MultiplePathsFoundWarning: Multiple files found: /protocols/r1/subjects/R1077T/localizations/0/montages/0/neuroradiology/current_processed/pairs.json\n",
      "/data/eeg/R1077T/tal/R1077T_talLocs_database_bipol.mat returning the first file found\n",
      "  warnings.warn(msg, MultiplePathsFoundWarning)\n",
      "/home1/john/anaconda3/envs/env1/lib/python3.7/site-packages/ptsa/data/readers/tal.py:43: FutureWarning: Lab-specific readers may be moved to the cmlreaders package (https://github.com/pennmem/cmlreaders)\n",
      "  FutureWarning)\n",
      "/home1/john/Downloads/cmlreaders-master/cmlreaders/path_finder.py:239: MultiplePathsFoundWarning: Multiple files found: /protocols/r1/subjects/R1077T/experiments/FR1/sessions/2/ephys/current_processed/sources.json\n",
      "/data/eeg/R1077T/eeg.noreref/params.txt returning the first file found\n",
      "  warnings.warn(msg, MultiplePathsFoundWarning)\n"
     ]
    },
    {
     "name": "stdout",
     "output_type": "stream",
     "text": [
      "loaded eeg for R1077T2\n",
      "getting PTSA\n",
      "52 matching events found\n",
      "No baseline correction applied\n",
      "Not setting metadata\n",
      "0 projection items activated\n",
      "0 bad epochs dropped\n"
     ]
    },
    {
     "name": "stderr",
     "output_type": "stream",
     "text": [
      "/home1/john/Downloads/cmlreaders-master/cmlreaders/path_finder.py:239: MultiplePathsFoundWarning: Multiple files found: /protocols/r1/subjects/R1077T/localizations/0/montages/0/neuroradiology/current_processed/pairs.json\n",
      "/data/eeg/R1077T/tal/R1077T_talLocs_database_bipol.mat returning the first file found\n",
      "  warnings.warn(msg, MultiplePathsFoundWarning)\n",
      "/home1/john/anaconda3/envs/env1/lib/python3.7/site-packages/ptsa/data/readers/tal.py:43: FutureWarning: Lab-specific readers may be moved to the cmlreaders package (https://github.com/pennmem/cmlreaders)\n",
      "  FutureWarning)\n",
      "/home1/john/Downloads/cmlreaders-master/cmlreaders/path_finder.py:239: MultiplePathsFoundWarning: Multiple files found: /protocols/r1/subjects/R1077T/experiments/FR1/sessions/3/ephys/current_processed/sources.json\n",
      "/data/eeg/R1077T/eeg.noreref/params.txt returning the first file found\n",
      "  warnings.warn(msg, MultiplePathsFoundWarning)\n"
     ]
    },
    {
     "name": "stdout",
     "output_type": "stream",
     "text": [
      "loaded eeg for R1077T3\n",
      "getting PTSA\n",
      "15 matching events found\n",
      "No baseline correction applied\n",
      "Not setting metadata\n",
      "0 projection items activated\n",
      "0 bad epochs dropped\n"
     ]
    },
    {
     "name": "stderr",
     "output_type": "stream",
     "text": [
      "/home1/john/Downloads/cmlreaders-master/cmlreaders/path_finder.py:239: MultiplePathsFoundWarning: Multiple files found: /protocols/r1/subjects/R1080E/localizations/0/montages/0/neuroradiology/current_processed/pairs.json\n",
      "/data/eeg/R1080E/tal/R1080E_talLocs_database_bipol.mat returning the first file found\n",
      "  warnings.warn(msg, MultiplePathsFoundWarning)\n",
      "/home1/john/anaconda3/envs/env1/lib/python3.7/site-packages/ptsa/data/readers/tal.py:43: FutureWarning: Lab-specific readers may be moved to the cmlreaders package (https://github.com/pennmem/cmlreaders)\n",
      "  FutureWarning)\n",
      "/home1/john/Downloads/cmlreaders-master/cmlreaders/path_finder.py:239: MultiplePathsFoundWarning: Multiple files found: /protocols/r1/subjects/R1080E/experiments/FR1/sessions/0/ephys/current_processed/sources.json\n",
      "/data/eeg/R1080E/eeg.noreref/params.txt returning the first file found\n",
      "  warnings.warn(msg, MultiplePathsFoundWarning)\n"
     ]
    },
    {
     "name": "stdout",
     "output_type": "stream",
     "text": [
      "loaded eeg for R1080E0\n",
      "getting PTSA\n",
      "33 matching events found\n",
      "No baseline correction applied\n",
      "Not setting metadata\n",
      "0 projection items activated\n",
      "0 bad epochs dropped\n"
     ]
    },
    {
     "name": "stderr",
     "output_type": "stream",
     "text": [
      "/home1/john/Downloads/cmlreaders-master/cmlreaders/path_finder.py:239: MultiplePathsFoundWarning: Multiple files found: /protocols/r1/subjects/R1080E/localizations/0/montages/0/neuroradiology/current_processed/pairs.json\n",
      "/data/eeg/R1080E/tal/R1080E_talLocs_database_bipol.mat returning the first file found\n",
      "  warnings.warn(msg, MultiplePathsFoundWarning)\n",
      "/home1/john/anaconda3/envs/env1/lib/python3.7/site-packages/ptsa/data/readers/tal.py:43: FutureWarning: Lab-specific readers may be moved to the cmlreaders package (https://github.com/pennmem/cmlreaders)\n",
      "  FutureWarning)\n",
      "/home1/john/Downloads/cmlreaders-master/cmlreaders/path_finder.py:239: MultiplePathsFoundWarning: Multiple files found: /protocols/r1/subjects/R1080E/experiments/FR1/sessions/1/ephys/current_processed/sources.json\n",
      "/data/eeg/R1080E/eeg.noreref/params.txt returning the first file found\n",
      "  warnings.warn(msg, MultiplePathsFoundWarning)\n"
     ]
    },
    {
     "name": "stdout",
     "output_type": "stream",
     "text": [
      "loaded eeg for R1080E1\n",
      "getting PTSA\n",
      "40 matching events found\n",
      "No baseline correction applied\n",
      "Not setting metadata\n",
      "0 projection items activated\n",
      "0 bad epochs dropped\n"
     ]
    },
    {
     "name": "stderr",
     "output_type": "stream",
     "text": [
      "/home1/john/Downloads/cmlreaders-master/cmlreaders/path_finder.py:239: MultiplePathsFoundWarning: Multiple files found: /protocols/r1/subjects/R1081J/localizations/0/montages/0/neuroradiology/current_processed/pairs.json\n",
      "/data/eeg/R1081J/tal/R1081J_talLocs_database_bipol.mat returning the first file found\n",
      "  warnings.warn(msg, MultiplePathsFoundWarning)\n",
      "/home1/john/Downloads/cmlreaders-master/cmlreaders/readers/electrodes.py:236: MissingCoordinatesWarning: Could not load MNI coordinates\n",
      "  \"Could not load MNI coordinates\"))\n",
      "/home1/john/anaconda3/envs/env1/lib/python3.7/site-packages/ptsa/data/readers/tal.py:43: FutureWarning: Lab-specific readers may be moved to the cmlreaders package (https://github.com/pennmem/cmlreaders)\n",
      "  FutureWarning)\n",
      "/home1/john/Downloads/cmlreaders-master/cmlreaders/path_finder.py:239: MultiplePathsFoundWarning: Multiple files found: /protocols/r1/subjects/R1081J/experiments/FR1/sessions/0/ephys/current_processed/sources.json\n",
      "/data/eeg/R1081J/eeg.noreref/params.txt returning the first file found\n",
      "  warnings.warn(msg, MultiplePathsFoundWarning)\n"
     ]
    },
    {
     "name": "stdout",
     "output_type": "stream",
     "text": [
      "loaded eeg for R1081J0\n",
      "getting PTSA\n",
      "5 matching events found\n",
      "No baseline correction applied\n",
      "Not setting metadata\n",
      "0 projection items activated\n",
      "0 bad epochs dropped\n"
     ]
    },
    {
     "name": "stderr",
     "output_type": "stream",
     "text": [
      "/home1/john/Downloads/cmlreaders-master/cmlreaders/path_finder.py:239: MultiplePathsFoundWarning: Multiple files found: /protocols/r1/subjects/R1081J/localizations/0/montages/0/neuroradiology/current_processed/pairs.json\n",
      "/data/eeg/R1081J/tal/R1081J_talLocs_database_bipol.mat returning the first file found\n",
      "  warnings.warn(msg, MultiplePathsFoundWarning)\n",
      "/home1/john/Downloads/cmlreaders-master/cmlreaders/readers/electrodes.py:236: MissingCoordinatesWarning: Could not load MNI coordinates\n",
      "  \"Could not load MNI coordinates\"))\n",
      "/home1/john/anaconda3/envs/env1/lib/python3.7/site-packages/ptsa/data/readers/tal.py:43: FutureWarning: Lab-specific readers may be moved to the cmlreaders package (https://github.com/pennmem/cmlreaders)\n",
      "  FutureWarning)\n",
      "/home1/john/Downloads/cmlreaders-master/cmlreaders/path_finder.py:239: MultiplePathsFoundWarning: Multiple files found: /protocols/r1/subjects/R1081J/experiments/FR1/sessions/1/ephys/current_processed/sources.json\n",
      "/data/eeg/R1081J/eeg.noreref/params.txt returning the first file found\n",
      "  warnings.warn(msg, MultiplePathsFoundWarning)\n"
     ]
    },
    {
     "name": "stdout",
     "output_type": "stream",
     "text": [
      "loaded eeg for R1081J1\n",
      "getting PTSA\n",
      "11 matching events found\n",
      "No baseline correction applied\n",
      "Not setting metadata\n",
      "0 projection items activated\n",
      "0 bad epochs dropped\n"
     ]
    },
    {
     "name": "stderr",
     "output_type": "stream",
     "text": [
      "/home1/john/Downloads/cmlreaders-master/cmlreaders/path_finder.py:239: MultiplePathsFoundWarning: Multiple files found: /protocols/r1/subjects/R1083J/localizations/0/montages/0/neuroradiology/current_processed/pairs.json\n",
      "/data/eeg/R1083J/tal/R1083J_talLocs_database_bipol.mat returning the first file found\n",
      "  warnings.warn(msg, MultiplePathsFoundWarning)\n",
      "/home1/john/anaconda3/envs/env1/lib/python3.7/site-packages/ptsa/data/readers/tal.py:43: FutureWarning: Lab-specific readers may be moved to the cmlreaders package (https://github.com/pennmem/cmlreaders)\n",
      "  FutureWarning)\n",
      "/home1/john/Downloads/cmlreaders-master/cmlreaders/path_finder.py:239: MultiplePathsFoundWarning: Multiple files found: /protocols/r1/subjects/R1083J/experiments/FR1/sessions/0/ephys/current_processed/sources.json\n",
      "/data/eeg/R1083J/eeg.noreref/params.txt returning the first file found\n",
      "  warnings.warn(msg, MultiplePathsFoundWarning)\n"
     ]
    },
    {
     "name": "stdout",
     "output_type": "stream",
     "text": [
      "loaded eeg for R1083J0\n",
      "getting PTSA\n",
      "40 matching events found\n",
      "No baseline correction applied\n",
      "Not setting metadata\n",
      "0 projection items activated\n",
      "0 bad epochs dropped\n"
     ]
    },
    {
     "name": "stderr",
     "output_type": "stream",
     "text": [
      "/home1/john/Downloads/cmlreaders-master/cmlreaders/path_finder.py:239: MultiplePathsFoundWarning: Multiple files found: /protocols/r1/subjects/R1083J/localizations/0/montages/0/neuroradiology/current_processed/pairs.json\n",
      "/data/eeg/R1083J/tal/R1083J_talLocs_database_bipol.mat returning the first file found\n",
      "  warnings.warn(msg, MultiplePathsFoundWarning)\n",
      "/home1/john/anaconda3/envs/env1/lib/python3.7/site-packages/ptsa/data/readers/tal.py:43: FutureWarning: Lab-specific readers may be moved to the cmlreaders package (https://github.com/pennmem/cmlreaders)\n",
      "  FutureWarning)\n",
      "/home1/john/Downloads/cmlreaders-master/cmlreaders/path_finder.py:239: MultiplePathsFoundWarning: Multiple files found: /protocols/r1/subjects/R1083J/experiments/FR1/sessions/1/ephys/current_processed/sources.json\n",
      "/data/eeg/R1083J/eeg.noreref/params.txt returning the first file found\n",
      "  warnings.warn(msg, MultiplePathsFoundWarning)\n"
     ]
    },
    {
     "name": "stdout",
     "output_type": "stream",
     "text": [
      "loaded eeg for R1083J1\n",
      "getting PTSA\n",
      "27 matching events found\n",
      "No baseline correction applied\n",
      "Not setting metadata\n",
      "0 projection items activated\n",
      "0 bad epochs dropped\n"
     ]
    },
    {
     "name": "stderr",
     "output_type": "stream",
     "text": [
      "/home1/john/Downloads/cmlreaders-master/cmlreaders/path_finder.py:239: MultiplePathsFoundWarning: Multiple files found: /protocols/r1/subjects/R1083J/localizations/0/montages/0/neuroradiology/current_processed/pairs.json\n",
      "/data/eeg/R1083J/tal/R1083J_talLocs_database_bipol.mat returning the first file found\n",
      "  warnings.warn(msg, MultiplePathsFoundWarning)\n",
      "/home1/john/anaconda3/envs/env1/lib/python3.7/site-packages/ptsa/data/readers/tal.py:43: FutureWarning: Lab-specific readers may be moved to the cmlreaders package (https://github.com/pennmem/cmlreaders)\n",
      "  FutureWarning)\n",
      "/home1/john/Downloads/cmlreaders-master/cmlreaders/path_finder.py:239: MultiplePathsFoundWarning: Multiple files found: /protocols/r1/subjects/R1083J/experiments/FR1/sessions/2/ephys/current_processed/sources.json\n",
      "/data/eeg/R1083J/eeg.noreref/params.txt returning the first file found\n",
      "  warnings.warn(msg, MultiplePathsFoundWarning)\n"
     ]
    },
    {
     "name": "stdout",
     "output_type": "stream",
     "text": [
      "loaded eeg for R1083J2\n",
      "getting PTSA\n",
      "43 matching events found\n",
      "No baseline correction applied\n",
      "Not setting metadata\n",
      "0 projection items activated\n",
      "0 bad epochs dropped\n"
     ]
    },
    {
     "name": "stderr",
     "output_type": "stream",
     "text": [
      "/home1/john/Downloads/cmlreaders-master/cmlreaders/path_finder.py:239: MultiplePathsFoundWarning: Multiple files found: /protocols/r1/subjects/R1083J/localizations/0/montages/0/neuroradiology/current_processed/pairs.json\n",
      "/data/eeg/R1083J/tal/R1083J_talLocs_database_bipol.mat returning the first file found\n",
      "  warnings.warn(msg, MultiplePathsFoundWarning)\n",
      "/home1/john/anaconda3/envs/env1/lib/python3.7/site-packages/ptsa/data/readers/tal.py:43: FutureWarning: Lab-specific readers may be moved to the cmlreaders package (https://github.com/pennmem/cmlreaders)\n",
      "  FutureWarning)\n",
      "/home1/john/Downloads/cmlreaders-master/cmlreaders/path_finder.py:239: MultiplePathsFoundWarning: Multiple files found: /protocols/r1/subjects/R1083J/experiments/FR1/sessions/3/ephys/current_processed/sources.json\n",
      "/data/eeg/R1083J/eeg.noreref/params.txt returning the first file found\n",
      "  warnings.warn(msg, MultiplePathsFoundWarning)\n"
     ]
    },
    {
     "name": "stdout",
     "output_type": "stream",
     "text": [
      "loaded eeg for R1083J3\n",
      "getting PTSA\n",
      "35 matching events found\n",
      "No baseline correction applied\n",
      "Not setting metadata\n",
      "0 projection items activated\n",
      "0 bad epochs dropped\n"
     ]
    },
    {
     "name": "stderr",
     "output_type": "stream",
     "text": [
      "/home1/john/Downloads/cmlreaders-master/cmlreaders/path_finder.py:239: MultiplePathsFoundWarning: Multiple files found: /protocols/r1/subjects/R1083J/localizations/0/montages/0/neuroradiology/current_processed/pairs.json\n",
      "/data/eeg/R1083J/tal/R1083J_talLocs_database_bipol.mat returning the first file found\n",
      "  warnings.warn(msg, MultiplePathsFoundWarning)\n",
      "/home1/john/anaconda3/envs/env1/lib/python3.7/site-packages/ptsa/data/readers/tal.py:43: FutureWarning: Lab-specific readers may be moved to the cmlreaders package (https://github.com/pennmem/cmlreaders)\n",
      "  FutureWarning)\n",
      "/home1/john/Downloads/cmlreaders-master/cmlreaders/path_finder.py:239: MultiplePathsFoundWarning: Multiple files found: /protocols/r1/subjects/R1083J/experiments/FR1/sessions/4/ephys/current_processed/sources.json\n",
      "/data/eeg/R1083J/eeg.noreref/params.txt returning the first file found\n",
      "  warnings.warn(msg, MultiplePathsFoundWarning)\n"
     ]
    },
    {
     "name": "stdout",
     "output_type": "stream",
     "text": [
      "loaded eeg for R1083J4\n",
      "getting PTSA\n",
      "16 matching events found\n",
      "No baseline correction applied\n",
      "Not setting metadata\n",
      "0 projection items activated\n",
      "0 bad epochs dropped\n"
     ]
    },
    {
     "name": "stderr",
     "output_type": "stream",
     "text": [
      "/home1/john/Downloads/cmlreaders-master/cmlreaders/path_finder.py:239: MultiplePathsFoundWarning: Multiple files found: /protocols/r1/subjects/R1084T/localizations/0/montages/0/neuroradiology/current_processed/pairs.json\n",
      "/data/eeg/R1084T/tal/R1084T_talLocs_database_bipol.mat returning the first file found\n",
      "  warnings.warn(msg, MultiplePathsFoundWarning)\n",
      "/home1/john/anaconda3/envs/env1/lib/python3.7/site-packages/ptsa/data/readers/tal.py:43: FutureWarning: Lab-specific readers may be moved to the cmlreaders package (https://github.com/pennmem/cmlreaders)\n",
      "  FutureWarning)\n",
      "/home1/john/Downloads/cmlreaders-master/cmlreaders/path_finder.py:239: MultiplePathsFoundWarning: Multiple files found: /protocols/r1/subjects/R1084T/experiments/FR1/sessions/0/ephys/current_processed/sources.json\n",
      "/data/eeg/R1084T/eeg.noreref/params.txt returning the first file found\n",
      "  warnings.warn(msg, MultiplePathsFoundWarning)\n"
     ]
    },
    {
     "name": "stdout",
     "output_type": "stream",
     "text": [
      "loaded eeg for R1084T0\n",
      "getting PTSA\n",
      "34 matching events found\n",
      "No baseline correction applied\n",
      "Not setting metadata\n",
      "0 projection items activated\n",
      "0 bad epochs dropped\n"
     ]
    },
    {
     "name": "stderr",
     "output_type": "stream",
     "text": [
      "/home1/john/Downloads/cmlreaders-master/cmlreaders/path_finder.py:239: MultiplePathsFoundWarning: Multiple files found: /protocols/r1/subjects/R1086M/localizations/0/montages/0/neuroradiology/current_processed/pairs.json\n",
      "/data/eeg/R1086M/tal/R1086M_talLocs_database_bipol.mat returning the first file found\n",
      "  warnings.warn(msg, MultiplePathsFoundWarning)\n",
      "/home1/john/anaconda3/envs/env1/lib/python3.7/site-packages/ptsa/data/readers/tal.py:43: FutureWarning: Lab-specific readers may be moved to the cmlreaders package (https://github.com/pennmem/cmlreaders)\n",
      "  FutureWarning)\n",
      "/home1/john/Downloads/cmlreaders-master/cmlreaders/path_finder.py:239: MultiplePathsFoundWarning: Multiple files found: /protocols/r1/subjects/R1086M/experiments/FR1/sessions/0/ephys/current_processed/sources.json\n",
      "/data/eeg/R1086M/eeg.noreref/params.txt returning the first file found\n",
      "  warnings.warn(msg, MultiplePathsFoundWarning)\n"
     ]
    },
    {
     "name": "stdout",
     "output_type": "stream",
     "text": [
      "loaded eeg for R1086M0\n",
      "getting PTSA\n",
      "25 matching events found\n",
      "No baseline correction applied\n",
      "Not setting metadata\n",
      "0 projection items activated\n",
      "0 bad epochs dropped\n"
     ]
    },
    {
     "name": "stderr",
     "output_type": "stream",
     "text": [
      "/home1/john/Downloads/cmlreaders-master/cmlreaders/path_finder.py:239: MultiplePathsFoundWarning: Multiple files found: /protocols/r1/subjects/R1089P/localizations/0/montages/0/neuroradiology/current_processed/pairs.json\n",
      "/data/eeg/R1089P/tal/R1089P_talLocs_database_bipol.mat returning the first file found\n",
      "  warnings.warn(msg, MultiplePathsFoundWarning)\n",
      "/home1/john/anaconda3/envs/env1/lib/python3.7/site-packages/ptsa/data/readers/tal.py:43: FutureWarning: Lab-specific readers may be moved to the cmlreaders package (https://github.com/pennmem/cmlreaders)\n",
      "  FutureWarning)\n",
      "/home1/john/Downloads/cmlreaders-master/cmlreaders/path_finder.py:239: MultiplePathsFoundWarning: Multiple files found: /protocols/r1/subjects/R1089P/experiments/FR1/sessions/0/ephys/current_processed/sources.json\n",
      "/data/eeg/R1089P/eeg.noreref/params.txt returning the first file found\n",
      "  warnings.warn(msg, MultiplePathsFoundWarning)\n"
     ]
    },
    {
     "name": "stdout",
     "output_type": "stream",
     "text": [
      "loaded eeg for R1089P0\n",
      "getting PTSA\n",
      "32 matching events found\n",
      "No baseline correction applied\n",
      "Not setting metadata\n",
      "0 projection items activated\n",
      "0 bad epochs dropped\n"
     ]
    },
    {
     "name": "stderr",
     "output_type": "stream",
     "text": [
      "/home1/john/Downloads/cmlreaders-master/cmlreaders/path_finder.py:239: MultiplePathsFoundWarning: Multiple files found: /protocols/r1/subjects/R1092J/localizations/0/montages/2/neuroradiology/current_processed/pairs.json\n",
      "/data/eeg/R1092J_2/tal/R1092J_2_talLocs_database_bipol.mat returning the first file found\n",
      "  warnings.warn(msg, MultiplePathsFoundWarning)\n",
      "/home1/john/Downloads/cmlreaders-master/cmlreaders/readers/electrodes.py:236: MissingCoordinatesWarning: Could not load MNI coordinates\n",
      "  \"Could not load MNI coordinates\"))\n",
      "/home1/john/anaconda3/envs/env1/lib/python3.7/site-packages/ptsa/data/readers/tal.py:43: FutureWarning: Lab-specific readers may be moved to the cmlreaders package (https://github.com/pennmem/cmlreaders)\n",
      "  FutureWarning)\n",
      "/home1/john/Downloads/cmlreaders-master/cmlreaders/path_finder.py:239: MultiplePathsFoundWarning: Multiple files found: /protocols/r1/subjects/R1092J/experiments/FR1/sessions/0/ephys/current_processed/sources.json\n",
      "/data/eeg/R1092J/eeg.noreref/params.txt returning the first file found\n",
      "  warnings.warn(msg, MultiplePathsFoundWarning)\n"
     ]
    },
    {
     "name": "stdout",
     "output_type": "stream",
     "text": [
      "loaded eeg for R1092J0\n",
      "getting PTSA\n",
      "57 matching events found\n",
      "No baseline correction applied\n",
      "Not setting metadata\n",
      "0 projection items activated\n",
      "0 bad epochs dropped\n"
     ]
    },
    {
     "name": "stderr",
     "output_type": "stream",
     "text": [
      "/home1/john/Downloads/cmlreaders-master/cmlreaders/path_finder.py:239: MultiplePathsFoundWarning: Multiple files found: /protocols/r1/subjects/R1092J/localizations/0/montages/2/neuroradiology/current_processed/pairs.json\n",
      "/data/eeg/R1092J_2/tal/R1092J_2_talLocs_database_bipol.mat returning the first file found\n",
      "  warnings.warn(msg, MultiplePathsFoundWarning)\n",
      "/home1/john/Downloads/cmlreaders-master/cmlreaders/readers/electrodes.py:236: MissingCoordinatesWarning: Could not load MNI coordinates\n",
      "  \"Could not load MNI coordinates\"))\n",
      "/home1/john/anaconda3/envs/env1/lib/python3.7/site-packages/ptsa/data/readers/tal.py:43: FutureWarning: Lab-specific readers may be moved to the cmlreaders package (https://github.com/pennmem/cmlreaders)\n",
      "  FutureWarning)\n",
      "/home1/john/Downloads/cmlreaders-master/cmlreaders/path_finder.py:239: MultiplePathsFoundWarning: Multiple files found: /protocols/r1/subjects/R1092J/experiments/FR1/sessions/1/ephys/current_processed/sources.json\n",
      "/data/eeg/R1092J/eeg.noreref/params.txt returning the first file found\n",
      "  warnings.warn(msg, MultiplePathsFoundWarning)\n"
     ]
    },
    {
     "name": "stdout",
     "output_type": "stream",
     "text": [
      "loaded eeg for R1092J1\n",
      "getting PTSA\n",
      "61 matching events found\n",
      "No baseline correction applied\n",
      "Not setting metadata\n",
      "0 projection items activated\n",
      "0 bad epochs dropped\n"
     ]
    },
    {
     "name": "stderr",
     "output_type": "stream",
     "text": [
      "/home1/john/Downloads/cmlreaders-master/cmlreaders/path_finder.py:239: MultiplePathsFoundWarning: Multiple files found: /protocols/r1/subjects/R1092J/localizations/0/montages/2/neuroradiology/current_processed/pairs.json\n",
      "/data/eeg/R1092J_2/tal/R1092J_2_talLocs_database_bipol.mat returning the first file found\n",
      "  warnings.warn(msg, MultiplePathsFoundWarning)\n",
      "/home1/john/Downloads/cmlreaders-master/cmlreaders/readers/electrodes.py:236: MissingCoordinatesWarning: Could not load MNI coordinates\n",
      "  \"Could not load MNI coordinates\"))\n",
      "/home1/john/anaconda3/envs/env1/lib/python3.7/site-packages/ptsa/data/readers/tal.py:43: FutureWarning: Lab-specific readers may be moved to the cmlreaders package (https://github.com/pennmem/cmlreaders)\n",
      "  FutureWarning)\n",
      "/home1/john/Downloads/cmlreaders-master/cmlreaders/path_finder.py:239: MultiplePathsFoundWarning: Multiple files found: /protocols/r1/subjects/R1092J/experiments/FR1/sessions/2/ephys/current_processed/sources.json\n",
      "/data/eeg/R1092J/eeg.noreref/params.txt returning the first file found\n",
      "  warnings.warn(msg, MultiplePathsFoundWarning)\n"
     ]
    },
    {
     "name": "stdout",
     "output_type": "stream",
     "text": [
      "loaded eeg for R1092J2\n",
      "getting PTSA\n",
      "46 matching events found\n",
      "No baseline correction applied\n",
      "Not setting metadata\n",
      "0 projection items activated\n",
      "0 bad epochs dropped\n"
     ]
    },
    {
     "name": "stderr",
     "output_type": "stream",
     "text": [
      "/home1/john/Downloads/cmlreaders-master/cmlreaders/path_finder.py:239: MultiplePathsFoundWarning: Multiple files found: /protocols/r1/subjects/R1092J/localizations/0/montages/3/neuroradiology/current_processed/pairs.json\n",
      "/data/eeg/R1092J_3/tal/R1092J_3_talLocs_database_bipol.mat returning the first file found\n",
      "  warnings.warn(msg, MultiplePathsFoundWarning)\n",
      "/home1/john/Downloads/cmlreaders-master/cmlreaders/readers/electrodes.py:236: MissingCoordinatesWarning: Could not load MNI coordinates\n",
      "  \"Could not load MNI coordinates\"))\n",
      "/home1/john/anaconda3/envs/env1/lib/python3.7/site-packages/ptsa/data/readers/tal.py:43: FutureWarning: Lab-specific readers may be moved to the cmlreaders package (https://github.com/pennmem/cmlreaders)\n",
      "  FutureWarning)\n",
      "/home1/john/Downloads/cmlreaders-master/cmlreaders/path_finder.py:239: MultiplePathsFoundWarning: Multiple files found: /protocols/r1/subjects/R1092J/experiments/FR1/sessions/3/ephys/current_processed/sources.json\n",
      "/data/eeg/R1092J/eeg.noreref/params.txt returning the first file found\n",
      "  warnings.warn(msg, MultiplePathsFoundWarning)\n"
     ]
    },
    {
     "name": "stdout",
     "output_type": "stream",
     "text": [
      "loaded eeg for R1092J3\n",
      "getting PTSA\n",
      "77 matching events found\n",
      "No baseline correction applied\n",
      "Not setting metadata\n",
      "0 projection items activated\n",
      "0 bad epochs dropped\n"
     ]
    },
    {
     "name": "stderr",
     "output_type": "stream",
     "text": [
      "/home1/john/Downloads/cmlreaders-master/cmlreaders/path_finder.py:239: MultiplePathsFoundWarning: Multiple files found: /protocols/r1/subjects/R1093J/localizations/0/montages/1/neuroradiology/current_processed/pairs.json\n",
      "/data/eeg/R1093J_1/tal/R1093J_1_talLocs_database_bipol.mat returning the first file found\n",
      "  warnings.warn(msg, MultiplePathsFoundWarning)\n",
      "/home1/john/Downloads/cmlreaders-master/cmlreaders/readers/electrodes.py:236: MissingCoordinatesWarning: Could not load MNI coordinates\n",
      "  \"Could not load MNI coordinates\"))\n",
      "/home1/john/anaconda3/envs/env1/lib/python3.7/site-packages/ptsa/data/readers/tal.py:43: FutureWarning: Lab-specific readers may be moved to the cmlreaders package (https://github.com/pennmem/cmlreaders)\n",
      "  FutureWarning)\n",
      "/home1/john/Downloads/cmlreaders-master/cmlreaders/path_finder.py:239: MultiplePathsFoundWarning: Multiple files found: /protocols/r1/subjects/R1093J/experiments/FR1/sessions/0/ephys/current_processed/sources.json\n",
      "/data/eeg/R1093J/eeg.noreref/params.txt returning the first file found\n",
      "  warnings.warn(msg, MultiplePathsFoundWarning)\n"
     ]
    },
    {
     "name": "stdout",
     "output_type": "stream",
     "text": [
      "loaded eeg for R1093J0\n",
      "getting PTSA\n",
      "34 matching events found\n",
      "No baseline correction applied\n",
      "Not setting metadata\n",
      "0 projection items activated\n",
      "0 bad epochs dropped\n"
     ]
    },
    {
     "name": "stderr",
     "output_type": "stream",
     "text": [
      "/home1/john/Downloads/cmlreaders-master/cmlreaders/path_finder.py:239: MultiplePathsFoundWarning: Multiple files found: /protocols/r1/subjects/R1093J/localizations/0/montages/1/neuroradiology/current_processed/pairs.json\n",
      "/data/eeg/R1093J_1/tal/R1093J_1_talLocs_database_bipol.mat returning the first file found\n",
      "  warnings.warn(msg, MultiplePathsFoundWarning)\n",
      "/home1/john/Downloads/cmlreaders-master/cmlreaders/readers/electrodes.py:236: MissingCoordinatesWarning: Could not load MNI coordinates\n",
      "  \"Could not load MNI coordinates\"))\n",
      "/home1/john/anaconda3/envs/env1/lib/python3.7/site-packages/ptsa/data/readers/tal.py:43: FutureWarning: Lab-specific readers may be moved to the cmlreaders package (https://github.com/pennmem/cmlreaders)\n",
      "  FutureWarning)\n",
      "/home1/john/Downloads/cmlreaders-master/cmlreaders/path_finder.py:239: MultiplePathsFoundWarning: Multiple files found: /protocols/r1/subjects/R1093J/experiments/FR1/sessions/1/ephys/current_processed/sources.json\n",
      "/data/eeg/R1093J/eeg.noreref/params.txt returning the first file found\n",
      "  warnings.warn(msg, MultiplePathsFoundWarning)\n"
     ]
    },
    {
     "name": "stdout",
     "output_type": "stream",
     "text": [
      "2020-06-01_16-24-01: DF Exception: Sub: R1093J, Sess: 1, ValueError, split EEG filenames don't seem to match what are in the events, file: <ipython-input-9-125176e14c87>, line no: 86\n"
     ]
    },
    {
     "name": "stderr",
     "output_type": "stream",
     "text": [
      "/home1/john/Downloads/cmlreaders-master/cmlreaders/path_finder.py:239: MultiplePathsFoundWarning: Multiple files found: /protocols/r1/subjects/R1093J/localizations/0/montages/1/neuroradiology/current_processed/pairs.json\n",
      "/data/eeg/R1093J_1/tal/R1093J_1_talLocs_database_bipol.mat returning the first file found\n",
      "  warnings.warn(msg, MultiplePathsFoundWarning)\n",
      "/home1/john/Downloads/cmlreaders-master/cmlreaders/readers/electrodes.py:236: MissingCoordinatesWarning: Could not load MNI coordinates\n",
      "  \"Could not load MNI coordinates\"))\n",
      "/home1/john/anaconda3/envs/env1/lib/python3.7/site-packages/ptsa/data/readers/tal.py:43: FutureWarning: Lab-specific readers may be moved to the cmlreaders package (https://github.com/pennmem/cmlreaders)\n",
      "  FutureWarning)\n",
      "/home1/john/Downloads/cmlreaders-master/cmlreaders/path_finder.py:239: MultiplePathsFoundWarning: Multiple files found: /protocols/r1/subjects/R1093J/experiments/FR1/sessions/2/ephys/current_processed/sources.json\n",
      "/data/eeg/R1093J/eeg.noreref/params.txt returning the first file found\n",
      "  warnings.warn(msg, MultiplePathsFoundWarning)\n"
     ]
    },
    {
     "name": "stdout",
     "output_type": "stream",
     "text": [
      "2020-06-01_16-24-02: DF Exception: Sub: R1093J, Sess: 2, ValueError, split EEG filenames don't seem to match what are in the events, file: <ipython-input-9-125176e14c87>, line no: 86\n"
     ]
    },
    {
     "name": "stderr",
     "output_type": "stream",
     "text": [
      "/home1/john/Downloads/cmlreaders-master/cmlreaders/path_finder.py:239: MultiplePathsFoundWarning: Multiple files found: /protocols/r1/subjects/R1094T/localizations/0/montages/0/neuroradiology/current_processed/pairs.json\n",
      "/data/eeg/R1094T/tal/R1094T_talLocs_database_bipol.mat returning the first file found\n",
      "  warnings.warn(msg, MultiplePathsFoundWarning)\n",
      "/home1/john/Downloads/cmlreaders-master/cmlreaders/readers/electrodes.py:236: MissingCoordinatesWarning: Could not load MNI coordinates\n",
      "  \"Could not load MNI coordinates\"))\n",
      "/home1/john/anaconda3/envs/env1/lib/python3.7/site-packages/ptsa/data/readers/tal.py:43: FutureWarning: Lab-specific readers may be moved to the cmlreaders package (https://github.com/pennmem/cmlreaders)\n",
      "  FutureWarning)\n",
      "/home1/john/Downloads/cmlreaders-master/cmlreaders/path_finder.py:239: MultiplePathsFoundWarning: Multiple files found: /protocols/r1/subjects/R1094T/experiments/FR1/sessions/0/ephys/current_processed/sources.json\n",
      "/data/eeg/R1094T/eeg.noreref/params.txt returning the first file found\n",
      "  warnings.warn(msg, MultiplePathsFoundWarning)\n"
     ]
    },
    {
     "name": "stdout",
     "output_type": "stream",
     "text": [
      "loaded eeg for R1094T0\n",
      "getting PTSA\n",
      "33 matching events found\n",
      "No baseline correction applied\n",
      "Not setting metadata\n",
      "0 projection items activated\n",
      "0 bad epochs dropped\n"
     ]
    },
    {
     "name": "stderr",
     "output_type": "stream",
     "text": [
      "/home1/john/Downloads/cmlreaders-master/cmlreaders/path_finder.py:239: MultiplePathsFoundWarning: Multiple files found: /protocols/r1/subjects/R1094T/localizations/0/montages/0/neuroradiology/current_processed/pairs.json\n",
      "/data/eeg/R1094T/tal/R1094T_talLocs_database_bipol.mat returning the first file found\n",
      "  warnings.warn(msg, MultiplePathsFoundWarning)\n",
      "/home1/john/Downloads/cmlreaders-master/cmlreaders/readers/electrodes.py:236: MissingCoordinatesWarning: Could not load MNI coordinates\n",
      "  \"Could not load MNI coordinates\"))\n",
      "/home1/john/anaconda3/envs/env1/lib/python3.7/site-packages/ptsa/data/readers/tal.py:43: FutureWarning: Lab-specific readers may be moved to the cmlreaders package (https://github.com/pennmem/cmlreaders)\n",
      "  FutureWarning)\n",
      "/home1/john/Downloads/cmlreaders-master/cmlreaders/path_finder.py:239: MultiplePathsFoundWarning: Multiple files found: /protocols/r1/subjects/R1094T/experiments/FR1/sessions/1/ephys/current_processed/sources.json\n",
      "/data/eeg/R1094T/eeg.noreref/params.txt returning the first file found\n",
      "  warnings.warn(msg, MultiplePathsFoundWarning)\n"
     ]
    },
    {
     "name": "stdout",
     "output_type": "stream",
     "text": [
      "loaded eeg for R1094T1\n",
      "getting PTSA\n",
      "41 matching events found\n",
      "No baseline correction applied\n",
      "Not setting metadata\n",
      "0 projection items activated\n",
      "0 bad epochs dropped\n"
     ]
    },
    {
     "name": "stderr",
     "output_type": "stream",
     "text": [
      "/home1/john/Downloads/cmlreaders-master/cmlreaders/path_finder.py:239: MultiplePathsFoundWarning: Multiple files found: /protocols/r1/subjects/R1094T/localizations/0/montages/0/neuroradiology/current_processed/pairs.json\n",
      "/data/eeg/R1094T/tal/R1094T_talLocs_database_bipol.mat returning the first file found\n",
      "  warnings.warn(msg, MultiplePathsFoundWarning)\n",
      "/home1/john/Downloads/cmlreaders-master/cmlreaders/readers/electrodes.py:236: MissingCoordinatesWarning: Could not load MNI coordinates\n",
      "  \"Could not load MNI coordinates\"))\n",
      "/home1/john/anaconda3/envs/env1/lib/python3.7/site-packages/ptsa/data/readers/tal.py:43: FutureWarning: Lab-specific readers may be moved to the cmlreaders package (https://github.com/pennmem/cmlreaders)\n",
      "  FutureWarning)\n",
      "/home1/john/Downloads/cmlreaders-master/cmlreaders/path_finder.py:239: MultiplePathsFoundWarning: Multiple files found: /protocols/r1/subjects/R1094T/experiments/FR1/sessions/2/ephys/current_processed/sources.json\n",
      "/data/eeg/R1094T/eeg.noreref/params.txt returning the first file found\n",
      "  warnings.warn(msg, MultiplePathsFoundWarning)\n"
     ]
    },
    {
     "name": "stdout",
     "output_type": "stream",
     "text": [
      "loaded eeg for R1094T2\n",
      "getting PTSA\n",
      "27 matching events found\n",
      "No baseline correction applied\n",
      "Not setting metadata\n",
      "0 projection items activated\n",
      "0 bad epochs dropped\n"
     ]
    },
    {
     "name": "stderr",
     "output_type": "stream",
     "text": [
      "/home1/john/Downloads/cmlreaders-master/cmlreaders/path_finder.py:239: MultiplePathsFoundWarning: Multiple files found: /protocols/r1/subjects/R1096E/localizations/0/montages/0/neuroradiology/current_processed/pairs.json\n",
      "/data/eeg/R1096E/tal/R1096E_talLocs_database_bipol.mat returning the first file found\n",
      "  warnings.warn(msg, MultiplePathsFoundWarning)\n",
      "/home1/john/Downloads/cmlreaders-master/cmlreaders/readers/electrodes.py:236: MissingCoordinatesWarning: Could not load MNI coordinates\n",
      "  \"Could not load MNI coordinates\"))\n",
      "/home1/john/anaconda3/envs/env1/lib/python3.7/site-packages/ptsa/data/readers/tal.py:43: FutureWarning: Lab-specific readers may be moved to the cmlreaders package (https://github.com/pennmem/cmlreaders)\n",
      "  FutureWarning)\n",
      "/home1/john/Downloads/cmlreaders-master/cmlreaders/path_finder.py:239: MultiplePathsFoundWarning: Multiple files found: /protocols/r1/subjects/R1096E/experiments/FR1/sessions/0/ephys/current_processed/sources.json\n",
      "/data/eeg/R1096E/eeg.noreref/params.txt returning the first file found\n",
      "  warnings.warn(msg, MultiplePathsFoundWarning)\n"
     ]
    },
    {
     "name": "stdout",
     "output_type": "stream",
     "text": [
      "loaded eeg for R1096E0\n",
      "getting PTSA\n",
      "7 matching events found\n",
      "No baseline correction applied\n",
      "Not setting metadata\n",
      "0 projection items activated\n",
      "0 bad epochs dropped\n"
     ]
    },
    {
     "name": "stderr",
     "output_type": "stream",
     "text": [
      "/home1/john/Downloads/cmlreaders-master/cmlreaders/path_finder.py:239: MultiplePathsFoundWarning: Multiple files found: /protocols/r1/subjects/R1096E/localizations/0/montages/0/neuroradiology/current_processed/pairs.json\n",
      "/data/eeg/R1096E/tal/R1096E_talLocs_database_bipol.mat returning the first file found\n",
      "  warnings.warn(msg, MultiplePathsFoundWarning)\n",
      "/home1/john/Downloads/cmlreaders-master/cmlreaders/readers/electrodes.py:236: MissingCoordinatesWarning: Could not load MNI coordinates\n",
      "  \"Could not load MNI coordinates\"))\n",
      "/home1/john/anaconda3/envs/env1/lib/python3.7/site-packages/ptsa/data/readers/tal.py:43: FutureWarning: Lab-specific readers may be moved to the cmlreaders package (https://github.com/pennmem/cmlreaders)\n",
      "  FutureWarning)\n",
      "/home1/john/Downloads/cmlreaders-master/cmlreaders/path_finder.py:239: MultiplePathsFoundWarning: Multiple files found: /protocols/r1/subjects/R1096E/experiments/FR1/sessions/1/ephys/current_processed/sources.json\n",
      "/data/eeg/R1096E/eeg.noreref/params.txt returning the first file found\n",
      "  warnings.warn(msg, MultiplePathsFoundWarning)\n"
     ]
    },
    {
     "name": "stdout",
     "output_type": "stream",
     "text": [
      "loaded eeg for R1096E1\n",
      "getting PTSA\n",
      "73 matching events found\n",
      "No baseline correction applied\n",
      "Not setting metadata\n",
      "0 projection items activated\n",
      "0 bad epochs dropped\n"
     ]
    },
    {
     "name": "stderr",
     "output_type": "stream",
     "text": [
      "/home1/john/Downloads/cmlreaders-master/cmlreaders/path_finder.py:239: MultiplePathsFoundWarning: Multiple files found: /protocols/r1/subjects/R1098D/localizations/0/montages/0/neuroradiology/current_processed/pairs.json\n",
      "/data/eeg/R1098D/tal/R1098D_talLocs_database_bipol.mat returning the first file found\n",
      "  warnings.warn(msg, MultiplePathsFoundWarning)\n",
      "/home1/john/Downloads/cmlreaders-master/cmlreaders/readers/electrodes.py:236: MissingCoordinatesWarning: Could not load MNI coordinates\n",
      "  \"Could not load MNI coordinates\"))\n",
      "/home1/john/anaconda3/envs/env1/lib/python3.7/site-packages/ptsa/data/readers/tal.py:43: FutureWarning: Lab-specific readers may be moved to the cmlreaders package (https://github.com/pennmem/cmlreaders)\n",
      "  FutureWarning)\n",
      "/home1/john/Downloads/cmlreaders-master/cmlreaders/path_finder.py:239: MultiplePathsFoundWarning: Multiple files found: /protocols/r1/subjects/R1098D/experiments/FR1/sessions/0/ephys/current_processed/sources.json\n",
      "/data/eeg/R1098D/eeg.noreref/R1098D_FR1_0_31Dec15_1519.params.txt\n",
      "/data/eeg/R1098D/eeg.noreref/params.txt returning the first file found\n",
      "  warnings.warn(msg, MultiplePathsFoundWarning)\n"
     ]
    },
    {
     "name": "stdout",
     "output_type": "stream",
     "text": [
      "loaded eeg for R1098D0\n",
      "getting PTSA\n",
      "43 matching events found\n",
      "No baseline correction applied\n",
      "Not setting metadata\n",
      "0 projection items activated\n",
      "0 bad epochs dropped\n"
     ]
    },
    {
     "name": "stderr",
     "output_type": "stream",
     "text": [
      "/home1/john/Downloads/cmlreaders-master/cmlreaders/path_finder.py:239: MultiplePathsFoundWarning: Multiple files found: /protocols/r1/subjects/R1098D/localizations/0/montages/0/neuroradiology/current_processed/pairs.json\n",
      "/data/eeg/R1098D/tal/R1098D_talLocs_database_bipol.mat returning the first file found\n",
      "  warnings.warn(msg, MultiplePathsFoundWarning)\n",
      "/home1/john/Downloads/cmlreaders-master/cmlreaders/readers/electrodes.py:236: MissingCoordinatesWarning: Could not load MNI coordinates\n",
      "  \"Could not load MNI coordinates\"))\n",
      "/home1/john/anaconda3/envs/env1/lib/python3.7/site-packages/ptsa/data/readers/tal.py:43: FutureWarning: Lab-specific readers may be moved to the cmlreaders package (https://github.com/pennmem/cmlreaders)\n",
      "  FutureWarning)\n",
      "/home1/john/Downloads/cmlreaders-master/cmlreaders/path_finder.py:239: MultiplePathsFoundWarning: Multiple files found: /protocols/r1/subjects/R1098D/experiments/FR1/sessions/1/ephys/current_processed/sources.json\n",
      "/data/eeg/R1098D/eeg.noreref/params.txt returning the first file found\n",
      "  warnings.warn(msg, MultiplePathsFoundWarning)\n"
     ]
    },
    {
     "name": "stdout",
     "output_type": "stream",
     "text": [
      "loaded eeg for R1098D1\n",
      "getting PTSA\n",
      "32 matching events found\n",
      "No baseline correction applied\n",
      "Not setting metadata\n",
      "0 projection items activated\n",
      "0 bad epochs dropped\n"
     ]
    },
    {
     "name": "stderr",
     "output_type": "stream",
     "text": [
      "/home1/john/Downloads/cmlreaders-master/cmlreaders/path_finder.py:239: MultiplePathsFoundWarning: Multiple files found: /protocols/r1/subjects/R1098D/localizations/0/montages/0/neuroradiology/current_processed/pairs.json\n",
      "/data/eeg/R1098D/tal/R1098D_talLocs_database_bipol.mat returning the first file found\n",
      "  warnings.warn(msg, MultiplePathsFoundWarning)\n",
      "/home1/john/Downloads/cmlreaders-master/cmlreaders/readers/electrodes.py:236: MissingCoordinatesWarning: Could not load MNI coordinates\n",
      "  \"Could not load MNI coordinates\"))\n",
      "/home1/john/anaconda3/envs/env1/lib/python3.7/site-packages/ptsa/data/readers/tal.py:43: FutureWarning: Lab-specific readers may be moved to the cmlreaders package (https://github.com/pennmem/cmlreaders)\n",
      "  FutureWarning)\n",
      "/home1/john/Downloads/cmlreaders-master/cmlreaders/path_finder.py:239: MultiplePathsFoundWarning: Multiple files found: /protocols/r1/subjects/R1098D/experiments/FR1/sessions/2/ephys/current_processed/sources.json\n",
      "/data/eeg/R1098D/eeg.noreref/params.txt returning the first file found\n",
      "  warnings.warn(msg, MultiplePathsFoundWarning)\n"
     ]
    },
    {
     "name": "stdout",
     "output_type": "stream",
     "text": [
      "loaded eeg for R1098D2\n",
      "getting PTSA\n",
      "29 matching events found\n",
      "No baseline correction applied\n",
      "Not setting metadata\n",
      "0 projection items activated\n",
      "0 bad epochs dropped\n",
      "2020-06-01_16-26-10: DF Exception: Sub: R1100D, Sess: 0, ValueError, Item wrong length 1 instead of 0., file: <ipython-input-9-125176e14c87>, line no: 59\n",
      "2020-06-01_16-26-10: DF Exception: Sub: R1100D, Sess: 1, ValueError, Item wrong length 1 instead of 0., file: <ipython-input-9-125176e14c87>, line no: 59\n"
     ]
    },
    {
     "name": "stderr",
     "output_type": "stream",
     "text": [
      "/home1/john/Downloads/cmlreaders-master/cmlreaders/path_finder.py:239: MultiplePathsFoundWarning: Multiple files found: /protocols/r1/subjects/R1100D/localizations/0/montages/0/neuroradiology/current_processed/pairs.json\n",
      "/data/eeg/R1100D/tal/R1100D_talLocs_database_bipol.mat returning the first file found\n",
      "  warnings.warn(msg, MultiplePathsFoundWarning)\n",
      "/home1/john/anaconda3/envs/env1/lib/python3.7/site-packages/ptsa/data/readers/tal.py:43: FutureWarning: Lab-specific readers may be moved to the cmlreaders package (https://github.com/pennmem/cmlreaders)\n",
      "  FutureWarning)\n",
      "/home1/john/Downloads/cmlreaders-master/cmlreaders/path_finder.py:239: MultiplePathsFoundWarning: Multiple files found: /protocols/r1/subjects/R1100D/experiments/FR1/sessions/2/ephys/current_processed/sources.json\n",
      "/data/eeg/R1100D/eeg.noreref/R1100D_FR1_2_20Dec15_1342.params.txt\n",
      "/data/eeg/R1100D/eeg.noreref/params.txt returning the first file found\n",
      "  warnings.warn(msg, MultiplePathsFoundWarning)\n"
     ]
    },
    {
     "name": "stdout",
     "output_type": "stream",
     "text": [
      "loaded eeg for R1100D2\n",
      "getting PTSA\n",
      "3 matching events found\n",
      "No baseline correction applied\n",
      "Not setting metadata\n",
      "0 projection items activated\n",
      "0 bad epochs dropped\n"
     ]
    },
    {
     "name": "stderr",
     "output_type": "stream",
     "text": [
      "/home1/john/Downloads/cmlreaders-master/cmlreaders/path_finder.py:239: MultiplePathsFoundWarning: Multiple files found: /protocols/r1/subjects/R1101T/localizations/0/montages/0/neuroradiology/current_processed/pairs.json\n",
      "/data/eeg/R1101T/tal/R1101T_talLocs_database_bipol.mat returning the first file found\n",
      "  warnings.warn(msg, MultiplePathsFoundWarning)\n",
      "/home1/john/anaconda3/envs/env1/lib/python3.7/site-packages/ptsa/data/readers/tal.py:43: FutureWarning: Lab-specific readers may be moved to the cmlreaders package (https://github.com/pennmem/cmlreaders)\n",
      "  FutureWarning)\n",
      "/home1/john/Downloads/cmlreaders-master/cmlreaders/path_finder.py:239: MultiplePathsFoundWarning: Multiple files found: /protocols/r1/subjects/R1101T/experiments/FR1/sessions/0/ephys/current_processed/sources.json\n",
      "/data/eeg/R1101T/eeg.noreref/params.txt returning the first file found\n",
      "  warnings.warn(msg, MultiplePathsFoundWarning)\n"
     ]
    },
    {
     "name": "stdout",
     "output_type": "stream",
     "text": [
      "loaded eeg for R1101T0\n",
      "getting PTSA\n",
      "58 matching events found\n",
      "No baseline correction applied\n",
      "Not setting metadata\n",
      "0 projection items activated\n",
      "0 bad epochs dropped\n"
     ]
    },
    {
     "name": "stderr",
     "output_type": "stream",
     "text": [
      "/home1/john/Downloads/cmlreaders-master/cmlreaders/path_finder.py:239: MultiplePathsFoundWarning: Multiple files found: /protocols/r1/subjects/R1102P/localizations/0/montages/0/neuroradiology/current_processed/pairs.json\n",
      "/data/eeg/R1102P/tal/R1102P_talLocs_database_bipol.mat returning the first file found\n",
      "  warnings.warn(msg, MultiplePathsFoundWarning)\n",
      "/home1/john/Downloads/cmlreaders-master/cmlreaders/readers/electrodes.py:236: MissingCoordinatesWarning: Could not load MNI coordinates\n",
      "  \"Could not load MNI coordinates\"))\n",
      "/home1/john/anaconda3/envs/env1/lib/python3.7/site-packages/ptsa/data/readers/tal.py:43: FutureWarning: Lab-specific readers may be moved to the cmlreaders package (https://github.com/pennmem/cmlreaders)\n",
      "  FutureWarning)\n",
      "/home1/john/Downloads/cmlreaders-master/cmlreaders/path_finder.py:239: MultiplePathsFoundWarning: Multiple files found: /protocols/r1/subjects/R1102P/experiments/FR1/sessions/0/ephys/current_processed/sources.json\n",
      "/data/eeg/R1102P/eeg.noreref/params.txt returning the first file found\n",
      "  warnings.warn(msg, MultiplePathsFoundWarning)\n"
     ]
    },
    {
     "name": "stdout",
     "output_type": "stream",
     "text": [
      "loaded eeg for R1102P0\n",
      "getting PTSA\n",
      "45 matching events found\n",
      "No baseline correction applied\n",
      "Not setting metadata\n",
      "0 projection items activated\n",
      "0 bad epochs dropped\n"
     ]
    },
    {
     "name": "stderr",
     "output_type": "stream",
     "text": [
      "/home1/john/Downloads/cmlreaders-master/cmlreaders/path_finder.py:239: MultiplePathsFoundWarning: Multiple files found: /protocols/r1/subjects/R1104D/localizations/0/montages/0/neuroradiology/current_processed/pairs.json\n",
      "/data/eeg/R1104D/tal/R1104D_talLocs_database_bipol.mat returning the first file found\n",
      "  warnings.warn(msg, MultiplePathsFoundWarning)\n",
      "/home1/john/anaconda3/envs/env1/lib/python3.7/site-packages/ptsa/data/readers/tal.py:43: FutureWarning: Lab-specific readers may be moved to the cmlreaders package (https://github.com/pennmem/cmlreaders)\n",
      "  FutureWarning)\n",
      "/home1/john/Downloads/cmlreaders-master/cmlreaders/path_finder.py:239: MultiplePathsFoundWarning: Multiple files found: /protocols/r1/subjects/R1104D/experiments/FR1/sessions/0/ephys/current_processed/sources.json\n",
      "/data/eeg/R1104D/eeg.noreref/R1104D_FR1_0_02Nov15_1308.params.txt\n",
      "/data/eeg/R1104D/eeg.noreref/params.txt returning the first file found\n",
      "  warnings.warn(msg, MultiplePathsFoundWarning)\n"
     ]
    },
    {
     "name": "stdout",
     "output_type": "stream",
     "text": [
      "loaded eeg for R1104D0\n",
      "getting PTSA\n",
      "57 matching events found\n",
      "No baseline correction applied\n",
      "Not setting metadata\n",
      "0 projection items activated\n",
      "0 bad epochs dropped\n"
     ]
    },
    {
     "name": "stderr",
     "output_type": "stream",
     "text": [
      "/home1/john/Downloads/cmlreaders-master/cmlreaders/path_finder.py:239: MultiplePathsFoundWarning: Multiple files found: /protocols/r1/subjects/R1105E/localizations/0/montages/0/neuroradiology/current_processed/pairs.json\n",
      "/data/eeg/R1105E/tal/R1105E_talLocs_database_bipol.mat returning the first file found\n",
      "  warnings.warn(msg, MultiplePathsFoundWarning)\n",
      "/home1/john/anaconda3/envs/env1/lib/python3.7/site-packages/ptsa/data/readers/tal.py:43: FutureWarning: Lab-specific readers may be moved to the cmlreaders package (https://github.com/pennmem/cmlreaders)\n",
      "  FutureWarning)\n",
      "/home1/john/Downloads/cmlreaders-master/cmlreaders/path_finder.py:239: MultiplePathsFoundWarning: Multiple files found: /protocols/r1/subjects/R1105E/experiments/FR1/sessions/0/ephys/current_processed/sources.json\n",
      "/data/eeg/R1105E/eeg.noreref/params.txt returning the first file found\n",
      "  warnings.warn(msg, MultiplePathsFoundWarning)\n"
     ]
    },
    {
     "name": "stdout",
     "output_type": "stream",
     "text": [
      "loaded eeg for R1105E0\n",
      "getting PTSA\n",
      "59 matching events found\n",
      "No baseline correction applied\n",
      "Not setting metadata\n",
      "0 projection items activated\n",
      "0 bad epochs dropped\n"
     ]
    },
    {
     "name": "stderr",
     "output_type": "stream",
     "text": [
      "/home1/john/Downloads/cmlreaders-master/cmlreaders/path_finder.py:239: MultiplePathsFoundWarning: Multiple files found: /protocols/r1/subjects/R1106M/localizations/0/montages/0/neuroradiology/current_processed/pairs.json\n",
      "/data/eeg/R1106M/tal/R1106M_talLocs_database_bipol.mat returning the first file found\n",
      "  warnings.warn(msg, MultiplePathsFoundWarning)\n",
      "/home1/john/anaconda3/envs/env1/lib/python3.7/site-packages/ptsa/data/readers/tal.py:43: FutureWarning: Lab-specific readers may be moved to the cmlreaders package (https://github.com/pennmem/cmlreaders)\n",
      "  FutureWarning)\n",
      "/home1/john/Downloads/cmlreaders-master/cmlreaders/path_finder.py:239: MultiplePathsFoundWarning: Multiple files found: /protocols/r1/subjects/R1106M/experiments/FR1/sessions/0/ephys/current_processed/sources.json\n",
      "/data/eeg/R1106M/eeg.noreref/R1106M_FR1_0_13Nov15_1629.params.txt\n",
      "/data/eeg/R1106M/eeg.noreref/params.txt returning the first file found\n",
      "  warnings.warn(msg, MultiplePathsFoundWarning)\n"
     ]
    },
    {
     "name": "stdout",
     "output_type": "stream",
     "text": [
      "loaded eeg for R1106M0\n",
      "getting PTSA\n",
      "15 matching events found\n",
      "No baseline correction applied\n",
      "Not setting metadata\n",
      "0 projection items activated\n",
      "0 bad epochs dropped\n"
     ]
    },
    {
     "name": "stderr",
     "output_type": "stream",
     "text": [
      "/home1/john/Downloads/cmlreaders-master/cmlreaders/path_finder.py:239: MultiplePathsFoundWarning: Multiple files found: /protocols/r1/subjects/R1106M/localizations/0/montages/0/neuroradiology/current_processed/pairs.json\n",
      "/data/eeg/R1106M/tal/R1106M_talLocs_database_bipol.mat returning the first file found\n",
      "  warnings.warn(msg, MultiplePathsFoundWarning)\n",
      "/home1/john/anaconda3/envs/env1/lib/python3.7/site-packages/ptsa/data/readers/tal.py:43: FutureWarning: Lab-specific readers may be moved to the cmlreaders package (https://github.com/pennmem/cmlreaders)\n",
      "  FutureWarning)\n",
      "/home1/john/Downloads/cmlreaders-master/cmlreaders/path_finder.py:239: MultiplePathsFoundWarning: Multiple files found: /protocols/r1/subjects/R1106M/experiments/FR1/sessions/1/ephys/current_processed/sources.json\n",
      "/data/eeg/R1106M/eeg.noreref/R1106M_FR1_1_14Nov15_1805.params.txt\n",
      "/data/eeg/R1106M/eeg.noreref/params.txt returning the first file found\n",
      "  warnings.warn(msg, MultiplePathsFoundWarning)\n"
     ]
    },
    {
     "name": "stdout",
     "output_type": "stream",
     "text": [
      "loaded eeg for R1106M1\n",
      "getting PTSA\n",
      "31 matching events found\n",
      "No baseline correction applied\n",
      "Not setting metadata\n",
      "0 projection items activated\n",
      "0 bad epochs dropped\n"
     ]
    },
    {
     "name": "stderr",
     "output_type": "stream",
     "text": [
      "/home1/john/Downloads/cmlreaders-master/cmlreaders/path_finder.py:239: MultiplePathsFoundWarning: Multiple files found: /protocols/r1/subjects/R1108J/localizations/0/montages/1/neuroradiology/current_processed/pairs.json\n",
      "/data/eeg/R1108J_1/tal/R1108J_1_talLocs_database_bipol.mat returning the first file found\n",
      "  warnings.warn(msg, MultiplePathsFoundWarning)\n",
      "/home1/john/Downloads/cmlreaders-master/cmlreaders/readers/electrodes.py:236: MissingCoordinatesWarning: Could not load MNI coordinates\n",
      "  \"Could not load MNI coordinates\"))\n",
      "/home1/john/anaconda3/envs/env1/lib/python3.7/site-packages/ptsa/data/readers/tal.py:43: FutureWarning: Lab-specific readers may be moved to the cmlreaders package (https://github.com/pennmem/cmlreaders)\n",
      "  FutureWarning)\n",
      "/home1/john/Downloads/cmlreaders-master/cmlreaders/path_finder.py:239: MultiplePathsFoundWarning: Multiple files found: /protocols/r1/subjects/R1108J/experiments/FR1/sessions/0/ephys/current_processed/sources.json\n",
      "/data/eeg/R1108J/eeg.noreref/params.txt returning the first file found\n",
      "  warnings.warn(msg, MultiplePathsFoundWarning)\n"
     ]
    },
    {
     "name": "stdout",
     "output_type": "stream",
     "text": [
      "loaded eeg for R1108J0\n",
      "getting PTSA\n",
      "55 matching events found\n",
      "No baseline correction applied\n",
      "Not setting metadata\n",
      "0 projection items activated\n",
      "0 bad epochs dropped\n"
     ]
    },
    {
     "name": "stderr",
     "output_type": "stream",
     "text": [
      "/home1/john/Downloads/cmlreaders-master/cmlreaders/path_finder.py:239: MultiplePathsFoundWarning: Multiple files found: /protocols/r1/subjects/R1108J/localizations/0/montages/1/neuroradiology/current_processed/pairs.json\n",
      "/data/eeg/R1108J_1/tal/R1108J_1_talLocs_database_bipol.mat returning the first file found\n",
      "  warnings.warn(msg, MultiplePathsFoundWarning)\n",
      "/home1/john/Downloads/cmlreaders-master/cmlreaders/readers/electrodes.py:236: MissingCoordinatesWarning: Could not load MNI coordinates\n",
      "  \"Could not load MNI coordinates\"))\n",
      "/home1/john/anaconda3/envs/env1/lib/python3.7/site-packages/ptsa/data/readers/tal.py:43: FutureWarning: Lab-specific readers may be moved to the cmlreaders package (https://github.com/pennmem/cmlreaders)\n",
      "  FutureWarning)\n",
      "/home1/john/Downloads/cmlreaders-master/cmlreaders/path_finder.py:239: MultiplePathsFoundWarning: Multiple files found: /protocols/r1/subjects/R1108J/experiments/FR1/sessions/1/ephys/current_processed/sources.json\n",
      "/data/eeg/R1108J/eeg.noreref/params.txt returning the first file found\n",
      "  warnings.warn(msg, MultiplePathsFoundWarning)\n"
     ]
    },
    {
     "name": "stdout",
     "output_type": "stream",
     "text": [
      "loaded eeg for R1108J1\n",
      "getting PTSA\n",
      "59 matching events found\n",
      "No baseline correction applied\n",
      "Not setting metadata\n",
      "0 projection items activated\n",
      "0 bad epochs dropped\n"
     ]
    },
    {
     "name": "stderr",
     "output_type": "stream",
     "text": [
      "/home1/john/Downloads/cmlreaders-master/cmlreaders/path_finder.py:239: MultiplePathsFoundWarning: Multiple files found: /protocols/r1/subjects/R1108J/localizations/0/montages/1/neuroradiology/current_processed/pairs.json\n",
      "/data/eeg/R1108J_1/tal/R1108J_1_talLocs_database_bipol.mat returning the first file found\n",
      "  warnings.warn(msg, MultiplePathsFoundWarning)\n",
      "/home1/john/Downloads/cmlreaders-master/cmlreaders/readers/electrodes.py:236: MissingCoordinatesWarning: Could not load MNI coordinates\n",
      "  \"Could not load MNI coordinates\"))\n",
      "/home1/john/anaconda3/envs/env1/lib/python3.7/site-packages/ptsa/data/readers/tal.py:43: FutureWarning: Lab-specific readers may be moved to the cmlreaders package (https://github.com/pennmem/cmlreaders)\n",
      "  FutureWarning)\n",
      "/home1/john/Downloads/cmlreaders-master/cmlreaders/path_finder.py:239: MultiplePathsFoundWarning: Multiple files found: /protocols/r1/subjects/R1108J/experiments/FR1/sessions/2/ephys/current_processed/sources.json\n",
      "/data/eeg/R1108J/eeg.noreref/params.txt returning the first file found\n",
      "  warnings.warn(msg, MultiplePathsFoundWarning)\n"
     ]
    },
    {
     "name": "stdout",
     "output_type": "stream",
     "text": [
      "loaded eeg for R1108J2\n",
      "getting PTSA\n",
      "20 matching events found\n",
      "No baseline correction applied\n",
      "Not setting metadata\n",
      "0 projection items activated\n",
      "0 bad epochs dropped\n"
     ]
    },
    {
     "name": "stderr",
     "output_type": "stream",
     "text": [
      "/home1/john/Downloads/cmlreaders-master/cmlreaders/path_finder.py:239: MultiplePathsFoundWarning: Multiple files found: /protocols/r1/subjects/R1108J/localizations/0/montages/1/neuroradiology/current_processed/pairs.json\n",
      "/data/eeg/R1108J_1/tal/R1108J_1_talLocs_database_bipol.mat returning the first file found\n",
      "  warnings.warn(msg, MultiplePathsFoundWarning)\n",
      "/home1/john/Downloads/cmlreaders-master/cmlreaders/readers/electrodes.py:236: MissingCoordinatesWarning: Could not load MNI coordinates\n",
      "  \"Could not load MNI coordinates\"))\n",
      "/home1/john/anaconda3/envs/env1/lib/python3.7/site-packages/ptsa/data/readers/tal.py:43: FutureWarning: Lab-specific readers may be moved to the cmlreaders package (https://github.com/pennmem/cmlreaders)\n",
      "  FutureWarning)\n",
      "/home1/john/Downloads/cmlreaders-master/cmlreaders/path_finder.py:239: MultiplePathsFoundWarning: Multiple files found: /protocols/r1/subjects/R1108J/experiments/FR1/sessions/3/ephys/current_processed/sources.json\n",
      "/data/eeg/R1108J/eeg.noreref/params.txt returning the first file found\n",
      "  warnings.warn(msg, MultiplePathsFoundWarning)\n"
     ]
    },
    {
     "name": "stdout",
     "output_type": "stream",
     "text": [
      "loaded eeg for R1108J3\n",
      "getting PTSA\n",
      "27 matching events found\n",
      "No baseline correction applied\n",
      "Not setting metadata\n",
      "0 projection items activated\n",
      "0 bad epochs dropped\n"
     ]
    },
    {
     "name": "stderr",
     "output_type": "stream",
     "text": [
      "/home1/john/Downloads/cmlreaders-master/cmlreaders/path_finder.py:239: MultiplePathsFoundWarning: Multiple files found: /protocols/r1/subjects/R1111M/localizations/0/montages/0/neuroradiology/current_processed/pairs.json\n",
      "/data/eeg/R1111M/tal/R1111M_talLocs_database_bipol.mat returning the first file found\n",
      "  warnings.warn(msg, MultiplePathsFoundWarning)\n",
      "/home1/john/anaconda3/envs/env1/lib/python3.7/site-packages/ptsa/data/readers/tal.py:43: FutureWarning: Lab-specific readers may be moved to the cmlreaders package (https://github.com/pennmem/cmlreaders)\n",
      "  FutureWarning)\n",
      "/home1/john/Downloads/cmlreaders-master/cmlreaders/path_finder.py:239: MultiplePathsFoundWarning: Multiple files found: /protocols/r1/subjects/R1111M/experiments/FR1/sessions/0/ephys/current_processed/sources.json\n",
      "/data/eeg/R1111M/eeg.noreref/R1111M_FR1_0_22Jan16_1638.params.txt\n",
      "/data/eeg/R1111M/eeg.noreref/params.txt returning the first file found\n",
      "  warnings.warn(msg, MultiplePathsFoundWarning)\n"
     ]
    },
    {
     "name": "stdout",
     "output_type": "stream",
     "text": [
      "loaded eeg for R1111M0\n",
      "getting PTSA\n",
      "66 matching events found\n",
      "No baseline correction applied\n",
      "Not setting metadata\n",
      "0 projection items activated\n",
      "0 bad epochs dropped\n"
     ]
    },
    {
     "name": "stderr",
     "output_type": "stream",
     "text": [
      "/home1/john/Downloads/cmlreaders-master/cmlreaders/path_finder.py:239: MultiplePathsFoundWarning: Multiple files found: /protocols/r1/subjects/R1111M/localizations/0/montages/0/neuroradiology/current_processed/pairs.json\n",
      "/data/eeg/R1111M/tal/R1111M_talLocs_database_bipol.mat returning the first file found\n",
      "  warnings.warn(msg, MultiplePathsFoundWarning)\n",
      "/home1/john/anaconda3/envs/env1/lib/python3.7/site-packages/ptsa/data/readers/tal.py:43: FutureWarning: Lab-specific readers may be moved to the cmlreaders package (https://github.com/pennmem/cmlreaders)\n",
      "  FutureWarning)\n",
      "/home1/john/Downloads/cmlreaders-master/cmlreaders/path_finder.py:239: MultiplePathsFoundWarning: Multiple files found: /protocols/r1/subjects/R1111M/experiments/FR1/sessions/1/ephys/current_processed/sources.json\n",
      "/data/eeg/R1111M/eeg.noreref/R1111M_FR1_1_23Jan16_1748.params.txt\n",
      "/data/eeg/R1111M/eeg.noreref/params.txt returning the first file found\n",
      "  warnings.warn(msg, MultiplePathsFoundWarning)\n"
     ]
    },
    {
     "name": "stdout",
     "output_type": "stream",
     "text": [
      "loaded eeg for R1111M1\n",
      "getting PTSA\n",
      "39 matching events found\n",
      "No baseline correction applied\n",
      "Not setting metadata\n",
      "0 projection items activated\n",
      "0 bad epochs dropped\n"
     ]
    },
    {
     "name": "stderr",
     "output_type": "stream",
     "text": [
      "/home1/john/Downloads/cmlreaders-master/cmlreaders/path_finder.py:239: MultiplePathsFoundWarning: Multiple files found: /protocols/r1/subjects/R1111M/localizations/0/montages/0/neuroradiology/current_processed/pairs.json\n",
      "/data/eeg/R1111M/tal/R1111M_talLocs_database_bipol.mat returning the first file found\n",
      "  warnings.warn(msg, MultiplePathsFoundWarning)\n",
      "/home1/john/anaconda3/envs/env1/lib/python3.7/site-packages/ptsa/data/readers/tal.py:43: FutureWarning: Lab-specific readers may be moved to the cmlreaders package (https://github.com/pennmem/cmlreaders)\n",
      "  FutureWarning)\n",
      "/home1/john/Downloads/cmlreaders-master/cmlreaders/path_finder.py:239: MultiplePathsFoundWarning: Multiple files found: /protocols/r1/subjects/R1111M/experiments/FR1/sessions/2/ephys/current_processed/sources.json\n",
      "/data/eeg/R1111M/eeg.noreref/R1111M_FR1_2_26Jan16_1408.params.txt\n",
      "/data/eeg/R1111M/eeg.noreref/params.txt returning the first file found\n",
      "  warnings.warn(msg, MultiplePathsFoundWarning)\n"
     ]
    },
    {
     "name": "stdout",
     "output_type": "stream",
     "text": [
      "loaded eeg for R1111M2\n",
      "getting PTSA\n",
      "82 matching events found\n",
      "No baseline correction applied\n",
      "Not setting metadata\n",
      "0 projection items activated\n",
      "0 bad epochs dropped\n"
     ]
    },
    {
     "name": "stderr",
     "output_type": "stream",
     "text": [
      "/home1/john/Downloads/cmlreaders-master/cmlreaders/path_finder.py:239: MultiplePathsFoundWarning: Multiple files found: /protocols/r1/subjects/R1111M/localizations/0/montages/0/neuroradiology/current_processed/pairs.json\n",
      "/data/eeg/R1111M/tal/R1111M_talLocs_database_bipol.mat returning the first file found\n",
      "  warnings.warn(msg, MultiplePathsFoundWarning)\n",
      "/home1/john/anaconda3/envs/env1/lib/python3.7/site-packages/ptsa/data/readers/tal.py:43: FutureWarning: Lab-specific readers may be moved to the cmlreaders package (https://github.com/pennmem/cmlreaders)\n",
      "  FutureWarning)\n",
      "/home1/john/Downloads/cmlreaders-master/cmlreaders/path_finder.py:239: MultiplePathsFoundWarning: Multiple files found: /protocols/r1/subjects/R1111M/experiments/FR1/sessions/3/ephys/current_processed/sources.json\n",
      "/data/eeg/R1111M/eeg.noreref/R1111M_FR1_3_02Feb16_1528.params.txt\n",
      "/data/eeg/R1111M/eeg.noreref/params.txt returning the first file found\n",
      "  warnings.warn(msg, MultiplePathsFoundWarning)\n"
     ]
    },
    {
     "name": "stdout",
     "output_type": "stream",
     "text": [
      "loaded eeg for R1111M3\n",
      "getting PTSA\n",
      "65 matching events found\n",
      "No baseline correction applied\n",
      "Not setting metadata\n",
      "0 projection items activated\n",
      "0 bad epochs dropped\n"
     ]
    },
    {
     "name": "stderr",
     "output_type": "stream",
     "text": [
      "/home1/john/Downloads/cmlreaders-master/cmlreaders/path_finder.py:239: MultiplePathsFoundWarning: Multiple files found: /protocols/r1/subjects/R1112M/localizations/0/montages/0/neuroradiology/current_processed/pairs.json\n",
      "/data/eeg/R1112M/tal/R1112M_talLocs_database_bipol.mat returning the first file found\n",
      "  warnings.warn(msg, MultiplePathsFoundWarning)\n",
      "/home1/john/anaconda3/envs/env1/lib/python3.7/site-packages/ptsa/data/readers/tal.py:43: FutureWarning: Lab-specific readers may be moved to the cmlreaders package (https://github.com/pennmem/cmlreaders)\n",
      "  FutureWarning)\n",
      "/home1/john/Downloads/cmlreaders-master/cmlreaders/path_finder.py:239: MultiplePathsFoundWarning: Multiple files found: /protocols/r1/subjects/R1112M/experiments/FR1/sessions/0/ephys/current_processed/sources.json\n",
      "/data/eeg/R1112M/eeg.noreref/R1112M_FR1_0_01Dec15_1545.params.txt\n",
      "/data/eeg/R1112M/eeg.noreref/params.txt returning the first file found\n",
      "  warnings.warn(msg, MultiplePathsFoundWarning)\n"
     ]
    },
    {
     "name": "stdout",
     "output_type": "stream",
     "text": [
      "loaded eeg for R1112M0\n",
      "getting PTSA\n",
      "27 matching events found\n",
      "No baseline correction applied\n",
      "Not setting metadata\n",
      "0 projection items activated\n",
      "0 bad epochs dropped\n"
     ]
    },
    {
     "name": "stderr",
     "output_type": "stream",
     "text": [
      "/home1/john/Downloads/cmlreaders-master/cmlreaders/path_finder.py:239: MultiplePathsFoundWarning: Multiple files found: /protocols/r1/subjects/R1112M/localizations/0/montages/0/neuroradiology/current_processed/pairs.json\n",
      "/data/eeg/R1112M/tal/R1112M_talLocs_database_bipol.mat returning the first file found\n",
      "  warnings.warn(msg, MultiplePathsFoundWarning)\n",
      "/home1/john/anaconda3/envs/env1/lib/python3.7/site-packages/ptsa/data/readers/tal.py:43: FutureWarning: Lab-specific readers may be moved to the cmlreaders package (https://github.com/pennmem/cmlreaders)\n",
      "  FutureWarning)\n",
      "/home1/john/Downloads/cmlreaders-master/cmlreaders/path_finder.py:239: MultiplePathsFoundWarning: Multiple files found: /protocols/r1/subjects/R1112M/experiments/FR1/sessions/1/ephys/current_processed/sources.json\n",
      "/data/eeg/R1112M/eeg.noreref/R1112M_FR1_1_03Dec15_0938.params.txt\n",
      "/data/eeg/R1112M/eeg.noreref/params.txt returning the first file found\n",
      "  warnings.warn(msg, MultiplePathsFoundWarning)\n"
     ]
    },
    {
     "name": "stdout",
     "output_type": "stream",
     "text": [
      "loaded eeg for R1112M1\n",
      "getting PTSA\n",
      "33 matching events found\n",
      "No baseline correction applied\n",
      "Not setting metadata\n",
      "0 projection items activated\n",
      "0 bad epochs dropped\n"
     ]
    },
    {
     "name": "stderr",
     "output_type": "stream",
     "text": [
      "/home1/john/Downloads/cmlreaders-master/cmlreaders/path_finder.py:239: MultiplePathsFoundWarning: Multiple files found: /protocols/r1/subjects/R1112M/localizations/0/montages/0/neuroradiology/current_processed/pairs.json\n",
      "/data/eeg/R1112M/tal/R1112M_talLocs_database_bipol.mat returning the first file found\n",
      "  warnings.warn(msg, MultiplePathsFoundWarning)\n",
      "/home1/john/anaconda3/envs/env1/lib/python3.7/site-packages/ptsa/data/readers/tal.py:43: FutureWarning: Lab-specific readers may be moved to the cmlreaders package (https://github.com/pennmem/cmlreaders)\n",
      "  FutureWarning)\n",
      "/home1/john/Downloads/cmlreaders-master/cmlreaders/path_finder.py:239: MultiplePathsFoundWarning: Multiple files found: /protocols/r1/subjects/R1112M/experiments/FR1/sessions/2/ephys/current_processed/sources.json\n",
      "/data/eeg/R1112M/eeg.noreref/R1112M_FR1_2_05Dec15_0921.params.txt\n",
      "/data/eeg/R1112M/eeg.noreref/params.txt returning the first file found\n",
      "  warnings.warn(msg, MultiplePathsFoundWarning)\n"
     ]
    },
    {
     "name": "stdout",
     "output_type": "stream",
     "text": [
      "loaded eeg for R1112M2\n",
      "getting PTSA\n",
      "12 matching events found\n",
      "No baseline correction applied\n",
      "Not setting metadata\n",
      "0 projection items activated\n",
      "0 bad epochs dropped\n"
     ]
    },
    {
     "name": "stderr",
     "output_type": "stream",
     "text": [
      "/home1/john/Downloads/cmlreaders-master/cmlreaders/path_finder.py:239: MultiplePathsFoundWarning: Multiple files found: /protocols/r1/subjects/R1113T/localizations/0/montages/0/neuroradiology/current_processed/pairs.json\n",
      "/data/eeg/R1113T/tal/R1113T_talLocs_database_bipol.mat returning the first file found\n",
      "  warnings.warn(msg, MultiplePathsFoundWarning)\n",
      "/home1/john/anaconda3/envs/env1/lib/python3.7/site-packages/ptsa/data/readers/tal.py:43: FutureWarning: Lab-specific readers may be moved to the cmlreaders package (https://github.com/pennmem/cmlreaders)\n",
      "  FutureWarning)\n",
      "/home1/john/Downloads/cmlreaders-master/cmlreaders/path_finder.py:239: MultiplePathsFoundWarning: Multiple files found: /protocols/r1/subjects/R1113T/experiments/FR1/sessions/0/ephys/current_processed/sources.json\n",
      "/data/eeg/R1113T/eeg.noreref/R1113T_FR1_0_19Nov15_0835.params.txt\n",
      "/data/eeg/R1113T/eeg.noreref/params.txt returning the first file found\n",
      "  warnings.warn(msg, MultiplePathsFoundWarning)\n"
     ]
    },
    {
     "name": "stdout",
     "output_type": "stream",
     "text": [
      "loaded eeg for R1113T0\n",
      "getting PTSA\n",
      "13 matching events found\n",
      "No baseline correction applied\n",
      "Not setting metadata\n",
      "0 projection items activated\n",
      "0 bad epochs dropped\n",
      "2020-06-01_16-29-50: DF Exception: Sub: R1113T, Sess: 0, Manual error, Manual error: MNE eeg evs do not match len(evs_free_recall), file: , line no: XXX\n"
     ]
    },
    {
     "name": "stderr",
     "output_type": "stream",
     "text": [
      "/home1/john/Downloads/cmlreaders-master/cmlreaders/path_finder.py:239: MultiplePathsFoundWarning: Multiple files found: /protocols/r1/subjects/R1113T/localizations/0/montages/0/neuroradiology/current_processed/pairs.json\n",
      "/data/eeg/R1113T/tal/R1113T_talLocs_database_bipol.mat returning the first file found\n",
      "  warnings.warn(msg, MultiplePathsFoundWarning)\n",
      "/home1/john/anaconda3/envs/env1/lib/python3.7/site-packages/ptsa/data/readers/tal.py:43: FutureWarning: Lab-specific readers may be moved to the cmlreaders package (https://github.com/pennmem/cmlreaders)\n",
      "  FutureWarning)\n",
      "/home1/john/Downloads/cmlreaders-master/cmlreaders/path_finder.py:239: MultiplePathsFoundWarning: Multiple files found: /protocols/r1/subjects/R1113T/experiments/FR1/sessions/1/ephys/current_processed/sources.json\n",
      "/data/eeg/R1113T/eeg.noreref/R1113T_FR1_1_20Nov15_1347.params.txt\n",
      "/data/eeg/R1113T/eeg.noreref/params.txt returning the first file found\n",
      "  warnings.warn(msg, MultiplePathsFoundWarning)\n"
     ]
    },
    {
     "name": "stdout",
     "output_type": "stream",
     "text": [
      "loaded eeg for R1113T1\n",
      "getting PTSA\n",
      "51 matching events found\n",
      "No baseline correction applied\n",
      "Not setting metadata\n",
      "0 projection items activated\n",
      "0 bad epochs dropped\n"
     ]
    },
    {
     "name": "stderr",
     "output_type": "stream",
     "text": [
      "/home1/john/Downloads/cmlreaders-master/cmlreaders/path_finder.py:239: MultiplePathsFoundWarning: Multiple files found: /protocols/r1/subjects/R1113T/localizations/0/montages/0/neuroradiology/current_processed/pairs.json\n",
      "/data/eeg/R1113T/tal/R1113T_talLocs_database_bipol.mat returning the first file found\n",
      "  warnings.warn(msg, MultiplePathsFoundWarning)\n",
      "/home1/john/anaconda3/envs/env1/lib/python3.7/site-packages/ptsa/data/readers/tal.py:43: FutureWarning: Lab-specific readers may be moved to the cmlreaders package (https://github.com/pennmem/cmlreaders)\n",
      "  FutureWarning)\n",
      "/home1/john/Downloads/cmlreaders-master/cmlreaders/path_finder.py:239: MultiplePathsFoundWarning: Multiple files found: /protocols/r1/subjects/R1113T/experiments/FR1/sessions/2/ephys/current_processed/sources.json\n",
      "/data/eeg/R1113T/eeg.noreref/R1113T_FR1_2_24Nov15_1052.params.txt\n",
      "/data/eeg/R1113T/eeg.noreref/params.txt returning the first file found\n",
      "  warnings.warn(msg, MultiplePathsFoundWarning)\n"
     ]
    },
    {
     "name": "stdout",
     "output_type": "stream",
     "text": [
      "loaded eeg for R1113T2\n",
      "getting PTSA\n",
      "16 matching events found\n",
      "No baseline correction applied\n",
      "Not setting metadata\n",
      "0 projection items activated\n",
      "0 bad epochs dropped\n"
     ]
    },
    {
     "name": "stderr",
     "output_type": "stream",
     "text": [
      "/home1/john/Downloads/cmlreaders-master/cmlreaders/path_finder.py:239: MultiplePathsFoundWarning: Multiple files found: /protocols/r1/subjects/R1114C/localizations/0/montages/0/neuroradiology/current_processed/pairs.json\n",
      "/data/eeg/R1114C/tal/R1114C_talLocs_database_bipol.mat returning the first file found\n",
      "  warnings.warn(msg, MultiplePathsFoundWarning)\n",
      "/home1/john/anaconda3/envs/env1/lib/python3.7/site-packages/ptsa/data/readers/tal.py:43: FutureWarning: Lab-specific readers may be moved to the cmlreaders package (https://github.com/pennmem/cmlreaders)\n",
      "  FutureWarning)\n",
      "/home1/john/Downloads/cmlreaders-master/cmlreaders/path_finder.py:239: MultiplePathsFoundWarning: Multiple files found: /protocols/r1/subjects/R1114C/experiments/FR1/sessions/0/ephys/current_processed/sources.json\n",
      "/data/eeg/R1114C/eeg.noreref/R1114C_FR1_0_27Nov15_1204.params.txt\n",
      "/data/eeg/R1114C/eeg.noreref/params.txt returning the first file found\n",
      "  warnings.warn(msg, MultiplePathsFoundWarning)\n"
     ]
    },
    {
     "name": "stdout",
     "output_type": "stream",
     "text": [
      "loaded eeg for R1114C0\n",
      "getting PTSA\n",
      "53 matching events found\n",
      "No baseline correction applied\n",
      "Not setting metadata\n",
      "0 projection items activated\n",
      "0 bad epochs dropped\n"
     ]
    },
    {
     "name": "stderr",
     "output_type": "stream",
     "text": [
      "/home1/john/Downloads/cmlreaders-master/cmlreaders/path_finder.py:239: MultiplePathsFoundWarning: Multiple files found: /protocols/r1/subjects/R1115T/localizations/0/montages/0/neuroradiology/current_processed/pairs.json\n",
      "/data/eeg/R1115T/tal/R1115T_talLocs_database_bipol.mat returning the first file found\n",
      "  warnings.warn(msg, MultiplePathsFoundWarning)\n",
      "/home1/john/anaconda3/envs/env1/lib/python3.7/site-packages/ptsa/data/readers/tal.py:43: FutureWarning: Lab-specific readers may be moved to the cmlreaders package (https://github.com/pennmem/cmlreaders)\n",
      "  FutureWarning)\n",
      "/home1/john/Downloads/cmlreaders-master/cmlreaders/path_finder.py:239: MultiplePathsFoundWarning: Multiple files found: /protocols/r1/subjects/R1115T/experiments/FR1/sessions/0/ephys/current_processed/sources.json\n",
      "/data/eeg/R1115T/eeg.noreref/params.txt returning the first file found\n",
      "  warnings.warn(msg, MultiplePathsFoundWarning)\n"
     ]
    },
    {
     "name": "stdout",
     "output_type": "stream",
     "text": [
      "loaded eeg for R1115T0\n",
      "getting PTSA\n",
      "46 matching events found\n",
      "No baseline correction applied\n",
      "Not setting metadata\n",
      "0 projection items activated\n",
      "0 bad epochs dropped\n"
     ]
    },
    {
     "name": "stderr",
     "output_type": "stream",
     "text": [
      "/home1/john/Downloads/cmlreaders-master/cmlreaders/path_finder.py:239: MultiplePathsFoundWarning: Multiple files found: /protocols/r1/subjects/R1118N/localizations/1/montages/1/neuroradiology/current_processed/pairs.json\n",
      "/data/eeg/R1118N_1/tal/R1118N_1_talLocs_database_bipol.mat returning the first file found\n",
      "  warnings.warn(msg, MultiplePathsFoundWarning)\n",
      "/home1/john/Downloads/cmlreaders-master/cmlreaders/readers/electrodes.py:236: MissingCoordinatesWarning: Could not load MNI coordinates\n",
      "  \"Could not load MNI coordinates\"))\n",
      "/home1/john/anaconda3/envs/env1/lib/python3.7/site-packages/ptsa/data/readers/tal.py:43: FutureWarning: Lab-specific readers may be moved to the cmlreaders package (https://github.com/pennmem/cmlreaders)\n",
      "  FutureWarning)\n",
      "/home1/john/Downloads/cmlreaders-master/cmlreaders/path_finder.py:239: MultiplePathsFoundWarning: Multiple files found: /protocols/r1/subjects/R1118N/experiments/FR1/sessions/0/ephys/current_processed/sources.json\n",
      "/data/eeg/R1118N/eeg.noreref/params.txt returning the first file found\n",
      "  warnings.warn(msg, MultiplePathsFoundWarning)\n"
     ]
    },
    {
     "name": "stdout",
     "output_type": "stream",
     "text": [
      "loaded eeg for R1118N0\n",
      "getting PTSA\n",
      "36 matching events found\n",
      "No baseline correction applied\n",
      "Not setting metadata\n",
      "0 projection items activated\n",
      "0 bad epochs dropped\n"
     ]
    },
    {
     "name": "stderr",
     "output_type": "stream",
     "text": [
      "/home1/john/Downloads/cmlreaders-master/cmlreaders/path_finder.py:239: MultiplePathsFoundWarning: Multiple files found: /protocols/r1/subjects/R1118N/localizations/1/montages/1/neuroradiology/current_processed/pairs.json\n",
      "/data/eeg/R1118N_1/tal/R1118N_1_talLocs_database_bipol.mat returning the first file found\n",
      "  warnings.warn(msg, MultiplePathsFoundWarning)\n",
      "/home1/john/Downloads/cmlreaders-master/cmlreaders/readers/electrodes.py:236: MissingCoordinatesWarning: Could not load MNI coordinates\n",
      "  \"Could not load MNI coordinates\"))\n",
      "/home1/john/anaconda3/envs/env1/lib/python3.7/site-packages/ptsa/data/readers/tal.py:43: FutureWarning: Lab-specific readers may be moved to the cmlreaders package (https://github.com/pennmem/cmlreaders)\n",
      "  FutureWarning)\n",
      "/home1/john/Downloads/cmlreaders-master/cmlreaders/path_finder.py:239: MultiplePathsFoundWarning: Multiple files found: /protocols/r1/subjects/R1118N/experiments/FR1/sessions/1/ephys/current_processed/sources.json\n",
      "/data/eeg/R1118N/eeg.noreref/params.txt returning the first file found\n",
      "  warnings.warn(msg, MultiplePathsFoundWarning)\n"
     ]
    },
    {
     "name": "stdout",
     "output_type": "stream",
     "text": [
      "loaded eeg for R1118N1\n",
      "getting PTSA\n",
      "48 matching events found\n",
      "No baseline correction applied\n",
      "Not setting metadata\n",
      "0 projection items activated\n",
      "0 bad epochs dropped\n"
     ]
    },
    {
     "name": "stderr",
     "output_type": "stream",
     "text": [
      "/home1/john/Downloads/cmlreaders-master/cmlreaders/path_finder.py:239: MultiplePathsFoundWarning: Multiple files found: /protocols/r1/subjects/R1120E/localizations/0/montages/0/neuroradiology/current_processed/pairs.json\n",
      "/data/eeg/R1120E/tal/R1120E_talLocs_database_bipol.mat returning the first file found\n",
      "  warnings.warn(msg, MultiplePathsFoundWarning)\n",
      "/home1/john/anaconda3/envs/env1/lib/python3.7/site-packages/ptsa/data/readers/tal.py:43: FutureWarning: Lab-specific readers may be moved to the cmlreaders package (https://github.com/pennmem/cmlreaders)\n",
      "  FutureWarning)\n",
      "/home1/john/Downloads/cmlreaders-master/cmlreaders/path_finder.py:239: MultiplePathsFoundWarning: Multiple files found: /protocols/r1/subjects/R1120E/experiments/FR1/sessions/0/ephys/current_processed/sources.json\n",
      "/data/eeg/R1120E/eeg.noreref/R1120E_FR1_0_18Dec15_1403.params.txt\n",
      "/data/eeg/R1120E/eeg.noreref/params.txt returning the first file found\n",
      "  warnings.warn(msg, MultiplePathsFoundWarning)\n"
     ]
    },
    {
     "name": "stdout",
     "output_type": "stream",
     "text": [
      "loaded eeg for R1120E0\n",
      "getting PTSA\n",
      "65 matching events found\n",
      "No baseline correction applied\n",
      "Not setting metadata\n",
      "0 projection items activated\n",
      "0 bad epochs dropped\n"
     ]
    },
    {
     "name": "stderr",
     "output_type": "stream",
     "text": [
      "/home1/john/Downloads/cmlreaders-master/cmlreaders/path_finder.py:239: MultiplePathsFoundWarning: Multiple files found: /protocols/r1/subjects/R1120E/localizations/0/montages/0/neuroradiology/current_processed/pairs.json\n",
      "/data/eeg/R1120E/tal/R1120E_talLocs_database_bipol.mat returning the first file found\n",
      "  warnings.warn(msg, MultiplePathsFoundWarning)\n",
      "/home1/john/anaconda3/envs/env1/lib/python3.7/site-packages/ptsa/data/readers/tal.py:43: FutureWarning: Lab-specific readers may be moved to the cmlreaders package (https://github.com/pennmem/cmlreaders)\n",
      "  FutureWarning)\n",
      "/home1/john/Downloads/cmlreaders-master/cmlreaders/path_finder.py:239: MultiplePathsFoundWarning: Multiple files found: /protocols/r1/subjects/R1120E/experiments/FR1/sessions/1/ephys/current_processed/sources.json\n",
      "/data/eeg/R1120E/eeg.noreref/R1120E_FR1_1_19Dec15_1047.params.txt\n",
      "/data/eeg/R1120E/eeg.noreref/params.txt returning the first file found\n",
      "  warnings.warn(msg, MultiplePathsFoundWarning)\n"
     ]
    },
    {
     "name": "stdout",
     "output_type": "stream",
     "text": [
      "loaded eeg for R1120E1\n",
      "getting PTSA\n",
      "69 matching events found\n",
      "No baseline correction applied\n",
      "Not setting metadata\n",
      "0 projection items activated\n",
      "0 bad epochs dropped\n"
     ]
    },
    {
     "name": "stderr",
     "output_type": "stream",
     "text": [
      "/home1/john/Downloads/cmlreaders-master/cmlreaders/path_finder.py:239: MultiplePathsFoundWarning: Multiple files found: /protocols/r1/subjects/R1121M/localizations/0/montages/0/neuroradiology/current_processed/pairs.json\n",
      "/data/eeg/R1121M/tal/R1121M_talLocs_database_bipol.mat returning the first file found\n",
      "  warnings.warn(msg, MultiplePathsFoundWarning)\n",
      "/home1/john/anaconda3/envs/env1/lib/python3.7/site-packages/ptsa/data/readers/tal.py:43: FutureWarning: Lab-specific readers may be moved to the cmlreaders package (https://github.com/pennmem/cmlreaders)\n",
      "  FutureWarning)\n",
      "/home1/john/Downloads/cmlreaders-master/cmlreaders/path_finder.py:239: MultiplePathsFoundWarning: Multiple files found: /protocols/r1/subjects/R1121M/experiments/FR1/sessions/0/ephys/current_processed/sources.json\n",
      "/data/eeg/R1121M/eeg.noreref/R1121M_FR1_0_19Dec15_1050.params.txt\n",
      "/data/eeg/R1121M/eeg.noreref/params.txt returning the first file found\n",
      "  warnings.warn(msg, MultiplePathsFoundWarning)\n"
     ]
    },
    {
     "name": "stdout",
     "output_type": "stream",
     "text": [
      "loaded eeg for R1121M0\n",
      "getting PTSA\n",
      "8 matching events found\n",
      "No baseline correction applied\n",
      "Not setting metadata\n",
      "0 projection items activated\n",
      "0 bad epochs dropped\n"
     ]
    },
    {
     "name": "stderr",
     "output_type": "stream",
     "text": [
      "/home1/john/Downloads/cmlreaders-master/cmlreaders/path_finder.py:239: MultiplePathsFoundWarning: Multiple files found: /protocols/r1/subjects/R1121M/localizations/0/montages/0/neuroradiology/current_processed/pairs.json\n",
      "/data/eeg/R1121M/tal/R1121M_talLocs_database_bipol.mat returning the first file found\n",
      "  warnings.warn(msg, MultiplePathsFoundWarning)\n",
      "/home1/john/anaconda3/envs/env1/lib/python3.7/site-packages/ptsa/data/readers/tal.py:43: FutureWarning: Lab-specific readers may be moved to the cmlreaders package (https://github.com/pennmem/cmlreaders)\n",
      "  FutureWarning)\n",
      "/home1/john/Downloads/cmlreaders-master/cmlreaders/path_finder.py:239: MultiplePathsFoundWarning: Multiple files found: /protocols/r1/subjects/R1121M/experiments/FR1/sessions/1/ephys/current_processed/sources.json\n",
      "/data/eeg/R1121M/eeg.noreref/R1121M_FR1_0_19Dec15_1235.params.txt\n",
      "/data/eeg/R1121M/eeg.noreref/params.txt returning the first file found\n",
      "  warnings.warn(msg, MultiplePathsFoundWarning)\n"
     ]
    },
    {
     "name": "stdout",
     "output_type": "stream",
     "text": [
      "loaded eeg for R1121M1\n",
      "getting PTSA\n",
      "33 matching events found\n",
      "No baseline correction applied\n",
      "Not setting metadata\n",
      "0 projection items activated\n",
      "0 bad epochs dropped\n"
     ]
    },
    {
     "name": "stderr",
     "output_type": "stream",
     "text": [
      "/home1/john/Downloads/cmlreaders-master/cmlreaders/path_finder.py:239: MultiplePathsFoundWarning: Multiple files found: /protocols/r1/subjects/R1121M/localizations/0/montages/0/neuroradiology/current_processed/pairs.json\n",
      "/data/eeg/R1121M/tal/R1121M_talLocs_database_bipol.mat returning the first file found\n",
      "  warnings.warn(msg, MultiplePathsFoundWarning)\n",
      "/home1/john/anaconda3/envs/env1/lib/python3.7/site-packages/ptsa/data/readers/tal.py:43: FutureWarning: Lab-specific readers may be moved to the cmlreaders package (https://github.com/pennmem/cmlreaders)\n",
      "  FutureWarning)\n",
      "/home1/john/Downloads/cmlreaders-master/cmlreaders/path_finder.py:239: MultiplePathsFoundWarning: Multiple files found: /protocols/r1/subjects/R1121M/experiments/FR1/sessions/2/ephys/current_processed/sources.json\n",
      "/data/eeg/R1121M/eeg.noreref/R1121M_FR1_1_20Dec15_0954.params.txt\n",
      "/data/eeg/R1121M/eeg.noreref/params.txt returning the first file found\n",
      "  warnings.warn(msg, MultiplePathsFoundWarning)\n"
     ]
    },
    {
     "name": "stdout",
     "output_type": "stream",
     "text": [
      "loaded eeg for R1121M2\n",
      "getting PTSA\n",
      "6 matching events found\n",
      "No baseline correction applied\n",
      "Not setting metadata\n",
      "0 projection items activated\n",
      "0 bad epochs dropped\n"
     ]
    },
    {
     "name": "stderr",
     "output_type": "stream",
     "text": [
      "/home1/john/Downloads/cmlreaders-master/cmlreaders/path_finder.py:239: MultiplePathsFoundWarning: Multiple files found: /protocols/r1/subjects/R1121M/localizations/0/montages/0/neuroradiology/current_processed/pairs.json\n",
      "/data/eeg/R1121M/tal/R1121M_talLocs_database_bipol.mat returning the first file found\n",
      "  warnings.warn(msg, MultiplePathsFoundWarning)\n",
      "/home1/john/anaconda3/envs/env1/lib/python3.7/site-packages/ptsa/data/readers/tal.py:43: FutureWarning: Lab-specific readers may be moved to the cmlreaders package (https://github.com/pennmem/cmlreaders)\n",
      "  FutureWarning)\n",
      "/home1/john/Downloads/cmlreaders-master/cmlreaders/path_finder.py:239: MultiplePathsFoundWarning: Multiple files found: /protocols/r1/subjects/R1121M/experiments/FR1/sessions/3/ephys/current_processed/sources.json\n",
      "/data/eeg/R1121M/eeg.noreref/R1121M_FR1_1_20Dec15_1117.params.txt\n",
      "/data/eeg/R1121M/eeg.noreref/params.txt returning the first file found\n",
      "  warnings.warn(msg, MultiplePathsFoundWarning)\n"
     ]
    },
    {
     "name": "stdout",
     "output_type": "stream",
     "text": [
      "loaded eeg for R1121M3\n",
      "getting PTSA\n",
      "8 matching events found\n",
      "No baseline correction applied\n",
      "Not setting metadata\n",
      "0 projection items activated\n",
      "0 bad epochs dropped\n"
     ]
    },
    {
     "name": "stderr",
     "output_type": "stream",
     "text": [
      "/home1/john/Downloads/cmlreaders-master/cmlreaders/path_finder.py:239: MultiplePathsFoundWarning: Multiple files found: /protocols/r1/subjects/R1121M/localizations/0/montages/0/neuroradiology/current_processed/pairs.json\n",
      "/data/eeg/R1121M/tal/R1121M_talLocs_database_bipol.mat returning the first file found\n",
      "  warnings.warn(msg, MultiplePathsFoundWarning)\n",
      "/home1/john/anaconda3/envs/env1/lib/python3.7/site-packages/ptsa/data/readers/tal.py:43: FutureWarning: Lab-specific readers may be moved to the cmlreaders package (https://github.com/pennmem/cmlreaders)\n",
      "  FutureWarning)\n",
      "/home1/john/Downloads/cmlreaders-master/cmlreaders/path_finder.py:239: MultiplePathsFoundWarning: Multiple files found: /protocols/r1/subjects/R1121M/experiments/FR1/sessions/4/ephys/current_processed/sources.json\n",
      "/data/eeg/R1121M/eeg.noreref/R1121M_FR1_1_20Dec15_1303.params.txt\n",
      "/data/eeg/R1121M/eeg.noreref/params.txt returning the first file found\n",
      "  warnings.warn(msg, MultiplePathsFoundWarning)\n"
     ]
    },
    {
     "name": "stdout",
     "output_type": "stream",
     "text": [
      "loaded eeg for R1121M4\n",
      "getting PTSA\n",
      "3 matching events found\n",
      "No baseline correction applied\n",
      "Not setting metadata\n",
      "0 projection items activated\n",
      "0 bad epochs dropped\n"
     ]
    },
    {
     "name": "stderr",
     "output_type": "stream",
     "text": [
      "/home1/john/Downloads/cmlreaders-master/cmlreaders/path_finder.py:239: MultiplePathsFoundWarning: Multiple files found: /protocols/r1/subjects/R1121M/localizations/0/montages/0/neuroradiology/current_processed/pairs.json\n",
      "/data/eeg/R1121M/tal/R1121M_talLocs_database_bipol.mat returning the first file found\n",
      "  warnings.warn(msg, MultiplePathsFoundWarning)\n",
      "/home1/john/anaconda3/envs/env1/lib/python3.7/site-packages/ptsa/data/readers/tal.py:43: FutureWarning: Lab-specific readers may be moved to the cmlreaders package (https://github.com/pennmem/cmlreaders)\n",
      "  FutureWarning)\n",
      "/home1/john/Downloads/cmlreaders-master/cmlreaders/path_finder.py:239: MultiplePathsFoundWarning: Multiple files found: /protocols/r1/subjects/R1121M/experiments/FR1/sessions/5/ephys/current_processed/sources.json\n",
      "/data/eeg/R1121M/eeg.noreref/R1121M_FR1_1_20Dec15_1616.params.txt\n",
      "/data/eeg/R1121M/eeg.noreref/params.txt returning the first file found\n",
      "  warnings.warn(msg, MultiplePathsFoundWarning)\n"
     ]
    },
    {
     "name": "stdout",
     "output_type": "stream",
     "text": [
      "loaded eeg for R1121M5\n",
      "getting PTSA\n",
      "21 matching events found\n",
      "No baseline correction applied\n",
      "Not setting metadata\n",
      "0 projection items activated\n",
      "0 bad epochs dropped\n"
     ]
    },
    {
     "name": "stderr",
     "output_type": "stream",
     "text": [
      "/home1/john/Downloads/cmlreaders-master/cmlreaders/path_finder.py:239: MultiplePathsFoundWarning: Multiple files found: /protocols/r1/subjects/R1121M/localizations/0/montages/0/neuroradiology/current_processed/pairs.json\n",
      "/data/eeg/R1121M/tal/R1121M_talLocs_database_bipol.mat returning the first file found\n",
      "  warnings.warn(msg, MultiplePathsFoundWarning)\n",
      "/home1/john/anaconda3/envs/env1/lib/python3.7/site-packages/ptsa/data/readers/tal.py:43: FutureWarning: Lab-specific readers may be moved to the cmlreaders package (https://github.com/pennmem/cmlreaders)\n",
      "  FutureWarning)\n",
      "/home1/john/Downloads/cmlreaders-master/cmlreaders/path_finder.py:239: MultiplePathsFoundWarning: Multiple files found: /protocols/r1/subjects/R1121M/experiments/FR1/sessions/6/ephys/current_processed/sources.json\n",
      "/data/eeg/R1121M/eeg.noreref/R1121M_FR1_2_21Dec15_0919.params.txt\n",
      "/data/eeg/R1121M/eeg.noreref/params.txt returning the first file found\n",
      "  warnings.warn(msg, MultiplePathsFoundWarning)\n"
     ]
    },
    {
     "name": "stdout",
     "output_type": "stream",
     "text": [
      "loaded eeg for R1121M6\n",
      "getting PTSA\n",
      "25 matching events found\n",
      "No baseline correction applied\n",
      "Not setting metadata\n",
      "0 projection items activated\n",
      "0 bad epochs dropped\n"
     ]
    },
    {
     "name": "stderr",
     "output_type": "stream",
     "text": [
      "/home1/john/Downloads/cmlreaders-master/cmlreaders/path_finder.py:239: MultiplePathsFoundWarning: Multiple files found: /protocols/r1/subjects/R1121M/localizations/0/montages/0/neuroradiology/current_processed/pairs.json\n",
      "/data/eeg/R1121M/tal/R1121M_talLocs_database_bipol.mat returning the first file found\n",
      "  warnings.warn(msg, MultiplePathsFoundWarning)\n",
      "/home1/john/anaconda3/envs/env1/lib/python3.7/site-packages/ptsa/data/readers/tal.py:43: FutureWarning: Lab-specific readers may be moved to the cmlreaders package (https://github.com/pennmem/cmlreaders)\n",
      "  FutureWarning)\n",
      "/home1/john/Downloads/cmlreaders-master/cmlreaders/path_finder.py:239: MultiplePathsFoundWarning: Multiple files found: /protocols/r1/subjects/R1121M/experiments/FR1/sessions/7/ephys/current_processed/sources.json\n",
      "/data/eeg/R1121M/eeg.noreref/R1121M_FR1_2_21Dec15_1838.params.txt\n",
      "/data/eeg/R1121M/eeg.noreref/params.txt returning the first file found\n",
      "  warnings.warn(msg, MultiplePathsFoundWarning)\n"
     ]
    },
    {
     "name": "stdout",
     "output_type": "stream",
     "text": [
      "loaded eeg for R1121M7\n",
      "getting PTSA\n",
      "17 matching events found\n",
      "No baseline correction applied\n",
      "Not setting metadata\n",
      "0 projection items activated\n",
      "0 bad epochs dropped\n"
     ]
    },
    {
     "name": "stderr",
     "output_type": "stream",
     "text": [
      "/home1/john/Downloads/cmlreaders-master/cmlreaders/path_finder.py:239: MultiplePathsFoundWarning: Multiple files found: /protocols/r1/subjects/R1122E/localizations/0/montages/0/neuroradiology/current_processed/pairs.json\n",
      "/data/eeg/R1122E/tal/R1122E_talLocs_database_bipol.mat returning the first file found\n",
      "  warnings.warn(msg, MultiplePathsFoundWarning)\n",
      "/home1/john/anaconda3/envs/env1/lib/python3.7/site-packages/ptsa/data/readers/tal.py:43: FutureWarning: Lab-specific readers may be moved to the cmlreaders package (https://github.com/pennmem/cmlreaders)\n",
      "  FutureWarning)\n",
      "/home1/john/Downloads/cmlreaders-master/cmlreaders/path_finder.py:239: MultiplePathsFoundWarning: Multiple files found: /protocols/r1/subjects/R1122E/experiments/FR1/sessions/0/ephys/current_processed/sources.json\n",
      "/data/eeg/R1122E/eeg.noreref/R1122E_FR1_0_15Jan16_1327.params.txt\n",
      "/data/eeg/R1122E/eeg.noreref/params.txt returning the first file found\n",
      "  warnings.warn(msg, MultiplePathsFoundWarning)\n"
     ]
    },
    {
     "name": "stdout",
     "output_type": "stream",
     "text": [
      "loaded eeg for R1122E0\n",
      "getting PTSA\n",
      "43 matching events found\n",
      "No baseline correction applied\n",
      "Not setting metadata\n",
      "0 projection items activated\n",
      "0 bad epochs dropped\n"
     ]
    },
    {
     "name": "stderr",
     "output_type": "stream",
     "text": [
      "/home1/john/Downloads/cmlreaders-master/cmlreaders/path_finder.py:239: MultiplePathsFoundWarning: Multiple files found: /protocols/r1/subjects/R1122E/localizations/0/montages/0/neuroradiology/current_processed/pairs.json\n",
      "/data/eeg/R1122E/tal/R1122E_talLocs_database_bipol.mat returning the first file found\n",
      "  warnings.warn(msg, MultiplePathsFoundWarning)\n",
      "/home1/john/anaconda3/envs/env1/lib/python3.7/site-packages/ptsa/data/readers/tal.py:43: FutureWarning: Lab-specific readers may be moved to the cmlreaders package (https://github.com/pennmem/cmlreaders)\n",
      "  FutureWarning)\n",
      "/home1/john/Downloads/cmlreaders-master/cmlreaders/path_finder.py:239: MultiplePathsFoundWarning: Multiple files found: /protocols/r1/subjects/R1122E/experiments/FR1/sessions/1/ephys/current_processed/sources.json\n",
      "/data/eeg/R1122E/eeg.noreref/R1122E_FR1_1_16Jan16_1208.params.txt\n",
      "/data/eeg/R1122E/eeg.noreref/params.txt returning the first file found\n",
      "  warnings.warn(msg, MultiplePathsFoundWarning)\n"
     ]
    },
    {
     "name": "stdout",
     "output_type": "stream",
     "text": [
      "loaded eeg for R1122E1\n",
      "getting PTSA\n",
      "78 matching events found\n",
      "No baseline correction applied\n",
      "Not setting metadata\n",
      "0 projection items activated\n",
      "0 bad epochs dropped\n"
     ]
    },
    {
     "name": "stderr",
     "output_type": "stream",
     "text": [
      "/home1/john/Downloads/cmlreaders-master/cmlreaders/path_finder.py:239: MultiplePathsFoundWarning: Multiple files found: /protocols/r1/subjects/R1122E/localizations/0/montages/0/neuroradiology/current_processed/pairs.json\n",
      "/data/eeg/R1122E/tal/R1122E_talLocs_database_bipol.mat returning the first file found\n",
      "  warnings.warn(msg, MultiplePathsFoundWarning)\n",
      "/home1/john/anaconda3/envs/env1/lib/python3.7/site-packages/ptsa/data/readers/tal.py:43: FutureWarning: Lab-specific readers may be moved to the cmlreaders package (https://github.com/pennmem/cmlreaders)\n",
      "  FutureWarning)\n",
      "/home1/john/Downloads/cmlreaders-master/cmlreaders/path_finder.py:239: MultiplePathsFoundWarning: Multiple files found: /protocols/r1/subjects/R1122E/experiments/FR1/sessions/2/ephys/current_processed/sources.json\n",
      "/data/eeg/R1122E/eeg.noreref/R1122E_FR1_2_18Jan16_1505.params.txt\n",
      "/data/eeg/R1122E/eeg.noreref/params.txt returning the first file found\n",
      "  warnings.warn(msg, MultiplePathsFoundWarning)\n"
     ]
    },
    {
     "name": "stdout",
     "output_type": "stream",
     "text": [
      "loaded eeg for R1122E2\n",
      "getting PTSA\n",
      "74 matching events found\n",
      "No baseline correction applied\n",
      "Not setting metadata\n",
      "0 projection items activated\n",
      "0 bad epochs dropped\n"
     ]
    },
    {
     "name": "stderr",
     "output_type": "stream",
     "text": [
      "/home1/john/Downloads/cmlreaders-master/cmlreaders/path_finder.py:239: MultiplePathsFoundWarning: Multiple files found: /protocols/r1/subjects/R1123C/localizations/0/montages/0/neuroradiology/current_processed/pairs.json\n",
      "/data/eeg/R1123C/tal/R1123C_talLocs_database_bipol.mat returning the first file found\n",
      "  warnings.warn(msg, MultiplePathsFoundWarning)\n",
      "/home1/john/anaconda3/envs/env1/lib/python3.7/site-packages/ptsa/data/readers/tal.py:43: FutureWarning: Lab-specific readers may be moved to the cmlreaders package (https://github.com/pennmem/cmlreaders)\n",
      "  FutureWarning)\n",
      "/home1/john/Downloads/cmlreaders-master/cmlreaders/path_finder.py:239: MultiplePathsFoundWarning: Multiple files found: /protocols/r1/subjects/R1123C/experiments/FR1/sessions/0/ephys/current_processed/sources.json\n",
      "/data/eeg/R1123C/eeg.noreref/R1123C_FR1_0_11Jan16_1323.params.txt\n",
      "/data/eeg/R1123C/eeg.noreref/params.txt returning the first file found\n",
      "  warnings.warn(msg, MultiplePathsFoundWarning)\n"
     ]
    },
    {
     "name": "stdout",
     "output_type": "stream",
     "text": [
      "loaded eeg for R1123C0\n",
      "getting PTSA\n",
      "38 matching events found\n",
      "No baseline correction applied\n",
      "Not setting metadata\n",
      "0 projection items activated\n",
      "0 bad epochs dropped\n"
     ]
    },
    {
     "name": "stderr",
     "output_type": "stream",
     "text": [
      "/home1/john/Downloads/cmlreaders-master/cmlreaders/path_finder.py:239: MultiplePathsFoundWarning: Multiple files found: /protocols/r1/subjects/R1123C/localizations/0/montages/0/neuroradiology/current_processed/pairs.json\n",
      "/data/eeg/R1123C/tal/R1123C_talLocs_database_bipol.mat returning the first file found\n",
      "  warnings.warn(msg, MultiplePathsFoundWarning)\n",
      "/home1/john/anaconda3/envs/env1/lib/python3.7/site-packages/ptsa/data/readers/tal.py:43: FutureWarning: Lab-specific readers may be moved to the cmlreaders package (https://github.com/pennmem/cmlreaders)\n",
      "  FutureWarning)\n",
      "/home1/john/Downloads/cmlreaders-master/cmlreaders/path_finder.py:239: MultiplePathsFoundWarning: Multiple files found: /protocols/r1/subjects/R1123C/experiments/FR1/sessions/1/ephys/current_processed/sources.json\n",
      "/data/eeg/R1123C/eeg.noreref/R1123C_FR1_1_13Jan16_1337.params.txt\n",
      "/data/eeg/R1123C/eeg.noreref/params.txt returning the first file found\n",
      "  warnings.warn(msg, MultiplePathsFoundWarning)\n"
     ]
    },
    {
     "name": "stdout",
     "output_type": "stream",
     "text": [
      "loaded eeg for R1123C1\n",
      "getting PTSA\n",
      "38 matching events found\n",
      "No baseline correction applied\n",
      "Not setting metadata\n",
      "0 projection items activated\n",
      "0 bad epochs dropped\n"
     ]
    },
    {
     "name": "stderr",
     "output_type": "stream",
     "text": [
      "/home1/john/Downloads/cmlreaders-master/cmlreaders/path_finder.py:239: MultiplePathsFoundWarning: Multiple files found: /protocols/r1/subjects/R1123C/localizations/0/montages/0/neuroradiology/current_processed/pairs.json\n",
      "/data/eeg/R1123C/tal/R1123C_talLocs_database_bipol.mat returning the first file found\n",
      "  warnings.warn(msg, MultiplePathsFoundWarning)\n",
      "/home1/john/anaconda3/envs/env1/lib/python3.7/site-packages/ptsa/data/readers/tal.py:43: FutureWarning: Lab-specific readers may be moved to the cmlreaders package (https://github.com/pennmem/cmlreaders)\n",
      "  FutureWarning)\n",
      "/home1/john/Downloads/cmlreaders-master/cmlreaders/path_finder.py:239: MultiplePathsFoundWarning: Multiple files found: /protocols/r1/subjects/R1123C/experiments/FR1/sessions/2/ephys/current_processed/sources.json\n",
      "/data/eeg/R1123C/eeg.noreref/R1123C_FR1_2_19Jan16_1315.params.txt\n",
      "/data/eeg/R1123C/eeg.noreref/params.txt returning the first file found\n",
      "  warnings.warn(msg, MultiplePathsFoundWarning)\n"
     ]
    },
    {
     "name": "stdout",
     "output_type": "stream",
     "text": [
      "loaded eeg for R1123C2\n",
      "getting PTSA\n",
      "32 matching events found\n",
      "No baseline correction applied\n",
      "Not setting metadata\n",
      "0 projection items activated\n",
      "0 bad epochs dropped\n"
     ]
    },
    {
     "name": "stderr",
     "output_type": "stream",
     "text": [
      "/home1/john/Downloads/cmlreaders-master/cmlreaders/path_finder.py:239: MultiplePathsFoundWarning: Multiple files found: /protocols/r1/subjects/R1124J/localizations/0/montages/1/neuroradiology/current_processed/pairs.json\n",
      "/data/eeg/R1124J_1/tal/R1124J_1_talLocs_database_bipol.mat returning the first file found\n",
      "  warnings.warn(msg, MultiplePathsFoundWarning)\n",
      "/home1/john/Downloads/cmlreaders-master/cmlreaders/readers/electrodes.py:236: MissingCoordinatesWarning: Could not load MNI coordinates\n",
      "  \"Could not load MNI coordinates\"))\n",
      "/home1/john/anaconda3/envs/env1/lib/python3.7/site-packages/ptsa/data/readers/tal.py:43: FutureWarning: Lab-specific readers may be moved to the cmlreaders package (https://github.com/pennmem/cmlreaders)\n",
      "  FutureWarning)\n",
      "/home1/john/Downloads/cmlreaders-master/cmlreaders/path_finder.py:239: MultiplePathsFoundWarning: Multiple files found: /protocols/r1/subjects/R1124J/experiments/FR1/sessions/0/ephys/current_processed/sources.json\n",
      "/data/eeg/R1124J/eeg.noreref/params.txt returning the first file found\n",
      "  warnings.warn(msg, MultiplePathsFoundWarning)\n"
     ]
    },
    {
     "name": "stdout",
     "output_type": "stream",
     "text": [
      "loaded eeg for R1124J0\n",
      "getting PTSA\n",
      "81 matching events found\n",
      "No baseline correction applied\n",
      "Not setting metadata\n",
      "0 projection items activated\n",
      "0 bad epochs dropped\n"
     ]
    },
    {
     "name": "stderr",
     "output_type": "stream",
     "text": [
      "/home1/john/Downloads/cmlreaders-master/cmlreaders/path_finder.py:239: MultiplePathsFoundWarning: Multiple files found: /protocols/r1/subjects/R1124J/localizations/0/montages/1/neuroradiology/current_processed/pairs.json\n",
      "/data/eeg/R1124J_1/tal/R1124J_1_talLocs_database_bipol.mat returning the first file found\n",
      "  warnings.warn(msg, MultiplePathsFoundWarning)\n",
      "/home1/john/Downloads/cmlreaders-master/cmlreaders/readers/electrodes.py:236: MissingCoordinatesWarning: Could not load MNI coordinates\n",
      "  \"Could not load MNI coordinates\"))\n",
      "/home1/john/anaconda3/envs/env1/lib/python3.7/site-packages/ptsa/data/readers/tal.py:43: FutureWarning: Lab-specific readers may be moved to the cmlreaders package (https://github.com/pennmem/cmlreaders)\n",
      "  FutureWarning)\n",
      "/home1/john/Downloads/cmlreaders-master/cmlreaders/path_finder.py:239: MultiplePathsFoundWarning: Multiple files found: /protocols/r1/subjects/R1124J/experiments/FR1/sessions/1/ephys/current_processed/sources.json\n",
      "/data/eeg/R1124J/eeg.noreref/params.txt returning the first file found\n",
      "  warnings.warn(msg, MultiplePathsFoundWarning)\n"
     ]
    },
    {
     "name": "stdout",
     "output_type": "stream",
     "text": [
      "loaded eeg for R1124J1\n",
      "getting PTSA\n",
      "107 matching events found\n",
      "No baseline correction applied\n",
      "Not setting metadata\n",
      "0 projection items activated\n",
      "0 bad epochs dropped\n"
     ]
    },
    {
     "name": "stderr",
     "output_type": "stream",
     "text": [
      "/home1/john/Downloads/cmlreaders-master/cmlreaders/path_finder.py:239: MultiplePathsFoundWarning: Multiple files found: /protocols/r1/subjects/R1124J/localizations/0/montages/1/neuroradiology/current_processed/pairs.json\n",
      "/data/eeg/R1124J_1/tal/R1124J_1_talLocs_database_bipol.mat returning the first file found\n",
      "  warnings.warn(msg, MultiplePathsFoundWarning)\n",
      "/home1/john/Downloads/cmlreaders-master/cmlreaders/readers/electrodes.py:236: MissingCoordinatesWarning: Could not load MNI coordinates\n",
      "  \"Could not load MNI coordinates\"))\n",
      "/home1/john/anaconda3/envs/env1/lib/python3.7/site-packages/ptsa/data/readers/tal.py:43: FutureWarning: Lab-specific readers may be moved to the cmlreaders package (https://github.com/pennmem/cmlreaders)\n",
      "  FutureWarning)\n",
      "/home1/john/Downloads/cmlreaders-master/cmlreaders/path_finder.py:239: MultiplePathsFoundWarning: Multiple files found: /protocols/r1/subjects/R1124J/experiments/FR1/sessions/2/ephys/current_processed/sources.json\n",
      "/data/eeg/R1124J/eeg.noreref/params.txt returning the first file found\n",
      "  warnings.warn(msg, MultiplePathsFoundWarning)\n"
     ]
    },
    {
     "name": "stdout",
     "output_type": "stream",
     "text": [
      "loaded eeg for R1124J2\n",
      "getting PTSA\n",
      "111 matching events found\n",
      "No baseline correction applied\n",
      "Not setting metadata\n",
      "0 projection items activated\n",
      "0 bad epochs dropped\n"
     ]
    },
    {
     "name": "stderr",
     "output_type": "stream",
     "text": [
      "/home1/john/Downloads/cmlreaders-master/cmlreaders/path_finder.py:239: MultiplePathsFoundWarning: Multiple files found: /protocols/r1/subjects/R1125T/localizations/0/montages/0/neuroradiology/current_processed/pairs.json\n",
      "/data/eeg/R1125T/tal/R1125T_talLocs_database_bipol.mat returning the first file found\n",
      "  warnings.warn(msg, MultiplePathsFoundWarning)\n",
      "/home1/john/anaconda3/envs/env1/lib/python3.7/site-packages/ptsa/data/readers/tal.py:43: FutureWarning: Lab-specific readers may be moved to the cmlreaders package (https://github.com/pennmem/cmlreaders)\n",
      "  FutureWarning)\n",
      "/home1/john/Downloads/cmlreaders-master/cmlreaders/path_finder.py:239: MultiplePathsFoundWarning: Multiple files found: /protocols/r1/subjects/R1125T/experiments/FR1/sessions/0/ephys/current_processed/sources.json\n",
      "/data/eeg/R1125T/eeg.noreref/R1125T_FR1_0_07Jan16_1547.params.txt\n",
      "/data/eeg/R1125T/eeg.noreref/params.txt returning the first file found\n",
      "  warnings.warn(msg, MultiplePathsFoundWarning)\n"
     ]
    },
    {
     "name": "stdout",
     "output_type": "stream",
     "text": [
      "loaded eeg for R1125T0\n",
      "getting PTSA\n",
      "37 matching events found\n",
      "No baseline correction applied\n",
      "Not setting metadata\n",
      "0 projection items activated\n",
      "0 bad epochs dropped\n"
     ]
    },
    {
     "name": "stderr",
     "output_type": "stream",
     "text": [
      "/home1/john/Downloads/cmlreaders-master/cmlreaders/path_finder.py:239: MultiplePathsFoundWarning: Multiple files found: /protocols/r1/subjects/R1125T/localizations/0/montages/0/neuroradiology/current_processed/pairs.json\n",
      "/data/eeg/R1125T/tal/R1125T_talLocs_database_bipol.mat returning the first file found\n",
      "  warnings.warn(msg, MultiplePathsFoundWarning)\n",
      "/home1/john/anaconda3/envs/env1/lib/python3.7/site-packages/ptsa/data/readers/tal.py:43: FutureWarning: Lab-specific readers may be moved to the cmlreaders package (https://github.com/pennmem/cmlreaders)\n",
      "  FutureWarning)\n",
      "/home1/john/Downloads/cmlreaders-master/cmlreaders/path_finder.py:239: MultiplePathsFoundWarning: Multiple files found: /protocols/r1/subjects/R1125T/experiments/FR1/sessions/1/ephys/current_processed/sources.json\n",
      "/data/eeg/R1125T/eeg.noreref/R1125T_FR1_1_08Jan16_0926.params.txt\n",
      "/data/eeg/R1125T/eeg.noreref/params.txt returning the first file found\n",
      "  warnings.warn(msg, MultiplePathsFoundWarning)\n"
     ]
    },
    {
     "name": "stdout",
     "output_type": "stream",
     "text": [
      "loaded eeg for R1125T1\n",
      "getting PTSA\n",
      "37 matching events found\n",
      "No baseline correction applied\n",
      "Not setting metadata\n",
      "0 projection items activated\n",
      "0 bad epochs dropped\n"
     ]
    },
    {
     "name": "stderr",
     "output_type": "stream",
     "text": [
      "/home1/john/Downloads/cmlreaders-master/cmlreaders/path_finder.py:239: MultiplePathsFoundWarning: Multiple files found: /protocols/r1/subjects/R1125T/localizations/0/montages/0/neuroradiology/current_processed/pairs.json\n",
      "/data/eeg/R1125T/tal/R1125T_talLocs_database_bipol.mat returning the first file found\n",
      "  warnings.warn(msg, MultiplePathsFoundWarning)\n",
      "/home1/john/anaconda3/envs/env1/lib/python3.7/site-packages/ptsa/data/readers/tal.py:43: FutureWarning: Lab-specific readers may be moved to the cmlreaders package (https://github.com/pennmem/cmlreaders)\n",
      "  FutureWarning)\n",
      "/home1/john/Downloads/cmlreaders-master/cmlreaders/path_finder.py:239: MultiplePathsFoundWarning: Multiple files found: /protocols/r1/subjects/R1125T/experiments/FR1/sessions/2/ephys/current_processed/sources.json\n",
      "/data/eeg/R1125T/eeg.noreref/R1125T_FR1_2_10Jan16_1241.params.txt\n",
      "/data/eeg/R1125T/eeg.noreref/params.txt returning the first file found\n",
      "  warnings.warn(msg, MultiplePathsFoundWarning)\n"
     ]
    },
    {
     "name": "stdout",
     "output_type": "stream",
     "text": [
      "loaded eeg for R1125T2\n",
      "getting PTSA\n",
      "25 matching events found\n",
      "No baseline correction applied\n",
      "Not setting metadata\n",
      "0 projection items activated\n",
      "0 bad epochs dropped\n"
     ]
    },
    {
     "name": "stderr",
     "output_type": "stream",
     "text": [
      "/home1/john/Downloads/cmlreaders-master/cmlreaders/path_finder.py:239: MultiplePathsFoundWarning: Multiple files found: /protocols/r1/subjects/R1127P/localizations/0/montages/1/neuroradiology/current_processed/pairs.json\n",
      "/data/eeg/R1127P_1/tal/R1127P_1_talLocs_database_bipol.mat returning the first file found\n",
      "  warnings.warn(msg, MultiplePathsFoundWarning)\n",
      "/home1/john/Downloads/cmlreaders-master/cmlreaders/readers/electrodes.py:236: MissingCoordinatesWarning: Could not load MNI coordinates\n",
      "  \"Could not load MNI coordinates\"))\n",
      "/home1/john/anaconda3/envs/env1/lib/python3.7/site-packages/ptsa/data/readers/tal.py:43: FutureWarning: Lab-specific readers may be moved to the cmlreaders package (https://github.com/pennmem/cmlreaders)\n",
      "  FutureWarning)\n",
      "/home1/john/Downloads/cmlreaders-master/cmlreaders/path_finder.py:239: MultiplePathsFoundWarning: Multiple files found: /protocols/r1/subjects/R1127P/experiments/FR1/sessions/1/ephys/current_processed/sources.json\n",
      "/data/eeg/R1127P/eeg.noreref/params.txt returning the first file found\n",
      "  warnings.warn(msg, MultiplePathsFoundWarning)\n"
     ]
    },
    {
     "name": "stdout",
     "output_type": "stream",
     "text": [
      "loaded eeg for R1127P1\n",
      "getting PTSA\n",
      "67 matching events found\n",
      "No baseline correction applied\n",
      "Not setting metadata\n",
      "0 projection items activated\n",
      "0 bad epochs dropped\n"
     ]
    },
    {
     "name": "stderr",
     "output_type": "stream",
     "text": [
      "/home1/john/Downloads/cmlreaders-master/cmlreaders/path_finder.py:239: MultiplePathsFoundWarning: Multiple files found: /protocols/r1/subjects/R1128E/localizations/0/montages/0/neuroradiology/current_processed/pairs.json\n",
      "/data/eeg/R1128E/tal/R1128E_talLocs_database_bipol.mat returning the first file found\n",
      "  warnings.warn(msg, MultiplePathsFoundWarning)\n",
      "/home1/john/Downloads/cmlreaders-master/cmlreaders/readers/electrodes.py:236: MissingCoordinatesWarning: Could not load MNI coordinates\n",
      "  \"Could not load MNI coordinates\"))\n",
      "/home1/john/anaconda3/envs/env1/lib/python3.7/site-packages/ptsa/data/readers/tal.py:43: FutureWarning: Lab-specific readers may be moved to the cmlreaders package (https://github.com/pennmem/cmlreaders)\n",
      "  FutureWarning)\n",
      "/home1/john/Downloads/cmlreaders-master/cmlreaders/path_finder.py:239: MultiplePathsFoundWarning: Multiple files found: /protocols/r1/subjects/R1128E/experiments/FR1/sessions/0/ephys/current_processed/sources.json\n",
      "/data/eeg/R1128E/eeg.noreref/R1128E_FR1_0_11Jan16_1359.params.txt\n",
      "/data/eeg/R1128E/eeg.noreref/params.txt returning the first file found\n",
      "  warnings.warn(msg, MultiplePathsFoundWarning)\n"
     ]
    },
    {
     "name": "stdout",
     "output_type": "stream",
     "text": [
      "loaded eeg for R1128E0\n",
      "getting PTSA\n",
      "69 matching events found\n",
      "No baseline correction applied\n",
      "Not setting metadata\n",
      "0 projection items activated\n",
      "0 bad epochs dropped\n"
     ]
    },
    {
     "name": "stderr",
     "output_type": "stream",
     "text": [
      "/home1/john/Downloads/cmlreaders-master/cmlreaders/path_finder.py:239: MultiplePathsFoundWarning: Multiple files found: /protocols/r1/subjects/R1129D/localizations/0/montages/0/neuroradiology/current_processed/pairs.json\n",
      "/data/eeg/R1129D/tal/R1129D_talLocs_database_bipol.mat returning the first file found\n",
      "  warnings.warn(msg, MultiplePathsFoundWarning)\n",
      "/home1/john/anaconda3/envs/env1/lib/python3.7/site-packages/ptsa/data/readers/tal.py:43: FutureWarning: Lab-specific readers may be moved to the cmlreaders package (https://github.com/pennmem/cmlreaders)\n",
      "  FutureWarning)\n",
      "/home1/john/Downloads/cmlreaders-master/cmlreaders/path_finder.py:239: MultiplePathsFoundWarning: Multiple files found: /protocols/r1/subjects/R1129D/experiments/FR1/sessions/0/ephys/current_processed/sources.json\n",
      "/data/eeg/R1129D/eeg.noreref/R1129D_FR1_0_19Jan16_1614.params.txt\n",
      "/data/eeg/R1129D/eeg.noreref/params.txt returning the first file found\n",
      "  warnings.warn(msg, MultiplePathsFoundWarning)\n"
     ]
    },
    {
     "name": "stdout",
     "output_type": "stream",
     "text": [
      "loaded eeg for R1129D0\n",
      "getting PTSA\n",
      "15 matching events found\n",
      "No baseline correction applied\n",
      "Not setting metadata\n",
      "0 projection items activated\n",
      "0 bad epochs dropped\n"
     ]
    },
    {
     "name": "stderr",
     "output_type": "stream",
     "text": [
      "/home1/john/Downloads/cmlreaders-master/cmlreaders/path_finder.py:239: MultiplePathsFoundWarning: Multiple files found: /protocols/r1/subjects/R1129D/localizations/0/montages/0/neuroradiology/current_processed/pairs.json\n",
      "/data/eeg/R1129D/tal/R1129D_talLocs_database_bipol.mat returning the first file found\n",
      "  warnings.warn(msg, MultiplePathsFoundWarning)\n",
      "/home1/john/anaconda3/envs/env1/lib/python3.7/site-packages/ptsa/data/readers/tal.py:43: FutureWarning: Lab-specific readers may be moved to the cmlreaders package (https://github.com/pennmem/cmlreaders)\n",
      "  FutureWarning)\n",
      "/home1/john/Downloads/cmlreaders-master/cmlreaders/path_finder.py:239: MultiplePathsFoundWarning: Multiple files found: /protocols/r1/subjects/R1129D/experiments/FR1/sessions/1/ephys/current_processed/sources.json\n",
      "/data/eeg/R1129D/eeg.noreref/params.txt returning the first file found\n",
      "  warnings.warn(msg, MultiplePathsFoundWarning)\n"
     ]
    },
    {
     "name": "stdout",
     "output_type": "stream",
     "text": [
      "loaded eeg for R1129D1\n",
      "getting PTSA\n",
      "23 matching events found\n",
      "No baseline correction applied\n",
      "Not setting metadata\n",
      "0 projection items activated\n",
      "0 bad epochs dropped\n"
     ]
    },
    {
     "name": "stderr",
     "output_type": "stream",
     "text": [
      "/home1/john/Downloads/cmlreaders-master/cmlreaders/path_finder.py:239: MultiplePathsFoundWarning: Multiple files found: /protocols/r1/subjects/R1130M/localizations/0/montages/0/neuroradiology/current_processed/pairs.json\n",
      "/data/eeg/R1130M/tal/R1130M_talLocs_database_bipol.mat returning the first file found\n",
      "  warnings.warn(msg, MultiplePathsFoundWarning)\n",
      "/home1/john/Downloads/cmlreaders-master/cmlreaders/readers/electrodes.py:236: MissingCoordinatesWarning: Could not load MNI coordinates\n",
      "  \"Could not load MNI coordinates\"))\n",
      "/home1/john/anaconda3/envs/env1/lib/python3.7/site-packages/ptsa/data/readers/tal.py:43: FutureWarning: Lab-specific readers may be moved to the cmlreaders package (https://github.com/pennmem/cmlreaders)\n",
      "  FutureWarning)\n",
      "/home1/john/Downloads/cmlreaders-master/cmlreaders/path_finder.py:239: MultiplePathsFoundWarning: Multiple files found: /protocols/r1/subjects/R1130M/experiments/FR1/sessions/0/ephys/current_processed/sources.json\n",
      "/data/eeg/R1130M/eeg.noreref/R1130M_FR1_0_19Jan16_0958.params.txt\n",
      "/data/eeg/R1130M/eeg.noreref/params.txt returning the first file found\n",
      "  warnings.warn(msg, MultiplePathsFoundWarning)\n"
     ]
    },
    {
     "name": "stdout",
     "output_type": "stream",
     "text": [
      "loaded eeg for R1130M0\n",
      "getting PTSA\n",
      "37 matching events found\n",
      "No baseline correction applied\n",
      "Not setting metadata\n",
      "0 projection items activated\n",
      "0 bad epochs dropped\n"
     ]
    },
    {
     "name": "stderr",
     "output_type": "stream",
     "text": [
      "/home1/john/Downloads/cmlreaders-master/cmlreaders/path_finder.py:239: MultiplePathsFoundWarning: Multiple files found: /protocols/r1/subjects/R1130M/localizations/0/montages/0/neuroradiology/current_processed/pairs.json\n",
      "/data/eeg/R1130M/tal/R1130M_talLocs_database_bipol.mat returning the first file found\n",
      "  warnings.warn(msg, MultiplePathsFoundWarning)\n",
      "/home1/john/Downloads/cmlreaders-master/cmlreaders/readers/electrodes.py:236: MissingCoordinatesWarning: Could not load MNI coordinates\n",
      "  \"Could not load MNI coordinates\"))\n",
      "/home1/john/anaconda3/envs/env1/lib/python3.7/site-packages/ptsa/data/readers/tal.py:43: FutureWarning: Lab-specific readers may be moved to the cmlreaders package (https://github.com/pennmem/cmlreaders)\n",
      "  FutureWarning)\n",
      "/home1/john/Downloads/cmlreaders-master/cmlreaders/path_finder.py:239: MultiplePathsFoundWarning: Multiple files found: /protocols/r1/subjects/R1130M/experiments/FR1/sessions/1/ephys/current_processed/sources.json\n",
      "/data/eeg/R1130M/eeg.noreref/R1130M_FR1_1_19Jan16_1450.params.txt\n",
      "/data/eeg/R1130M/eeg.noreref/params.txt returning the first file found\n",
      "  warnings.warn(msg, MultiplePathsFoundWarning)\n"
     ]
    },
    {
     "name": "stdout",
     "output_type": "stream",
     "text": [
      "loaded eeg for R1130M1\n",
      "getting PTSA\n",
      "24 matching events found\n",
      "No baseline correction applied\n",
      "Not setting metadata\n",
      "0 projection items activated\n",
      "0 bad epochs dropped\n"
     ]
    },
    {
     "name": "stderr",
     "output_type": "stream",
     "text": [
      "/home1/john/Downloads/cmlreaders-master/cmlreaders/path_finder.py:239: MultiplePathsFoundWarning: Multiple files found: /protocols/r1/subjects/R1131M/localizations/0/montages/0/neuroradiology/current_processed/pairs.json\n",
      "/data/eeg/R1131M/tal/R1131M_talLocs_database_bipol.mat returning the first file found\n",
      "  warnings.warn(msg, MultiplePathsFoundWarning)\n",
      "/home1/john/anaconda3/envs/env1/lib/python3.7/site-packages/ptsa/data/readers/tal.py:43: FutureWarning: Lab-specific readers may be moved to the cmlreaders package (https://github.com/pennmem/cmlreaders)\n",
      "  FutureWarning)\n",
      "/home1/john/Downloads/cmlreaders-master/cmlreaders/path_finder.py:239: MultiplePathsFoundWarning: Multiple files found: /protocols/r1/subjects/R1131M/experiments/FR1/sessions/0/ephys/current_processed/sources.json\n",
      "/data/eeg/R1131M/eeg.noreref/R1131M_FR1_0_23Jan16_0931.params.txt\n",
      "/data/eeg/R1131M/eeg.noreref/params.txt returning the first file found\n",
      "  warnings.warn(msg, MultiplePathsFoundWarning)\n"
     ]
    },
    {
     "name": "stdout",
     "output_type": "stream",
     "text": [
      "loaded eeg for R1131M0\n",
      "getting PTSA\n",
      "41 matching events found\n",
      "No baseline correction applied\n",
      "Not setting metadata\n",
      "0 projection items activated\n",
      "0 bad epochs dropped\n"
     ]
    },
    {
     "name": "stderr",
     "output_type": "stream",
     "text": [
      "/home1/john/Downloads/cmlreaders-master/cmlreaders/path_finder.py:239: MultiplePathsFoundWarning: Multiple files found: /protocols/r1/subjects/R1134T/localizations/0/montages/0/neuroradiology/current_processed/pairs.json\n",
      "/data/eeg/R1134T/tal/R1134T_talLocs_database_bipol.mat returning the first file found\n",
      "  warnings.warn(msg, MultiplePathsFoundWarning)\n",
      "/home1/john/anaconda3/envs/env1/lib/python3.7/site-packages/ptsa/data/readers/tal.py:43: FutureWarning: Lab-specific readers may be moved to the cmlreaders package (https://github.com/pennmem/cmlreaders)\n",
      "  FutureWarning)\n",
      "/home1/john/Downloads/cmlreaders-master/cmlreaders/path_finder.py:239: MultiplePathsFoundWarning: Multiple files found: /protocols/r1/subjects/R1134T/experiments/FR1/sessions/0/ephys/current_processed/sources.json\n",
      "/data/eeg/R1134T/eeg.noreref/R1134T_FR1_0_22Jan16_1534.params.txt\n",
      "/data/eeg/R1134T/eeg.noreref/params.txt returning the first file found\n",
      "  warnings.warn(msg, MultiplePathsFoundWarning)\n"
     ]
    },
    {
     "name": "stdout",
     "output_type": "stream",
     "text": [
      "loaded eeg for R1134T0\n",
      "getting PTSA\n",
      "42 matching events found\n",
      "No baseline correction applied\n",
      "Not setting metadata\n",
      "0 projection items activated\n",
      "0 bad epochs dropped\n"
     ]
    },
    {
     "name": "stderr",
     "output_type": "stream",
     "text": [
      "/home1/john/Downloads/cmlreaders-master/cmlreaders/path_finder.py:239: MultiplePathsFoundWarning: Multiple files found: /protocols/r1/subjects/R1134T/localizations/0/montages/0/neuroradiology/current_processed/pairs.json\n",
      "/data/eeg/R1134T/tal/R1134T_talLocs_database_bipol.mat returning the first file found\n",
      "  warnings.warn(msg, MultiplePathsFoundWarning)\n",
      "/home1/john/anaconda3/envs/env1/lib/python3.7/site-packages/ptsa/data/readers/tal.py:43: FutureWarning: Lab-specific readers may be moved to the cmlreaders package (https://github.com/pennmem/cmlreaders)\n",
      "  FutureWarning)\n",
      "/home1/john/Downloads/cmlreaders-master/cmlreaders/path_finder.py:239: MultiplePathsFoundWarning: Multiple files found: /protocols/r1/subjects/R1134T/experiments/FR1/sessions/1/ephys/current_processed/sources.json\n",
      "/data/eeg/R1134T/eeg.noreref/R1134T_FR1_1_24Jan16_1105.params.txt\n",
      "/data/eeg/R1134T/eeg.noreref/params.txt returning the first file found\n",
      "  warnings.warn(msg, MultiplePathsFoundWarning)\n"
     ]
    },
    {
     "name": "stdout",
     "output_type": "stream",
     "text": [
      "loaded eeg for R1134T1\n",
      "getting PTSA\n",
      "4 matching events found\n",
      "No baseline correction applied\n",
      "Not setting metadata\n",
      "0 projection items activated\n",
      "0 bad epochs dropped\n"
     ]
    },
    {
     "name": "stderr",
     "output_type": "stream",
     "text": [
      "/home1/john/Downloads/cmlreaders-master/cmlreaders/path_finder.py:239: MultiplePathsFoundWarning: Multiple files found: /protocols/r1/subjects/R1134T/localizations/0/montages/0/neuroradiology/current_processed/pairs.json\n",
      "/data/eeg/R1134T/tal/R1134T_talLocs_database_bipol.mat returning the first file found\n",
      "  warnings.warn(msg, MultiplePathsFoundWarning)\n",
      "/home1/john/anaconda3/envs/env1/lib/python3.7/site-packages/ptsa/data/readers/tal.py:43: FutureWarning: Lab-specific readers may be moved to the cmlreaders package (https://github.com/pennmem/cmlreaders)\n",
      "  FutureWarning)\n",
      "/home1/john/Downloads/cmlreaders-master/cmlreaders/path_finder.py:239: MultiplePathsFoundWarning: Multiple files found: /protocols/r1/subjects/R1134T/experiments/FR1/sessions/2/ephys/current_processed/sources.json\n",
      "/data/eeg/R1134T/eeg.noreref/R1134T_FR1_2_25Jan16_1347.params.txt\n",
      "/data/eeg/R1134T/eeg.noreref/params.txt returning the first file found\n",
      "  warnings.warn(msg, MultiplePathsFoundWarning)\n"
     ]
    },
    {
     "name": "stdout",
     "output_type": "stream",
     "text": [
      "loaded eeg for R1134T2\n",
      "getting PTSA\n",
      "27 matching events found\n",
      "No baseline correction applied\n",
      "Not setting metadata\n",
      "0 projection items activated\n",
      "0 bad epochs dropped\n"
     ]
    },
    {
     "name": "stderr",
     "output_type": "stream",
     "text": [
      "/home1/john/Downloads/cmlreaders-master/cmlreaders/path_finder.py:239: MultiplePathsFoundWarning: Multiple files found: /protocols/r1/subjects/R1135E/localizations/0/montages/0/neuroradiology/current_processed/pairs.json\n",
      "/data/eeg/R1135E/tal/R1135E_talLocs_database_bipol.mat returning the first file found\n",
      "  warnings.warn(msg, MultiplePathsFoundWarning)\n",
      "/home1/john/Downloads/cmlreaders-master/cmlreaders/readers/electrodes.py:236: MissingCoordinatesWarning: Could not load MNI coordinates\n",
      "  \"Could not load MNI coordinates\"))\n",
      "/home1/john/anaconda3/envs/env1/lib/python3.7/site-packages/ptsa/data/readers/tal.py:43: FutureWarning: Lab-specific readers may be moved to the cmlreaders package (https://github.com/pennmem/cmlreaders)\n",
      "  FutureWarning)\n",
      "/home1/john/Downloads/cmlreaders-master/cmlreaders/path_finder.py:239: MultiplePathsFoundWarning: Multiple files found: /protocols/r1/subjects/R1135E/experiments/FR1/sessions/0/ephys/current_processed/sources.json\n",
      "/data/eeg/R1135E/eeg.noreref/R1135E_FR1_0_29Jan16_1259.params.txt\n",
      "/data/eeg/R1135E/eeg.noreref/params.txt returning the first file found\n",
      "  warnings.warn(msg, MultiplePathsFoundWarning)\n"
     ]
    },
    {
     "name": "stdout",
     "output_type": "stream",
     "text": [
      "loaded eeg for R1135E0\n",
      "getting PTSA\n",
      "23 matching events found\n",
      "No baseline correction applied\n",
      "Not setting metadata\n",
      "0 projection items activated\n",
      "0 bad epochs dropped\n"
     ]
    },
    {
     "name": "stderr",
     "output_type": "stream",
     "text": [
      "/home1/john/Downloads/cmlreaders-master/cmlreaders/path_finder.py:239: MultiplePathsFoundWarning: Multiple files found: /protocols/r1/subjects/R1135E/localizations/0/montages/0/neuroradiology/current_processed/pairs.json\n",
      "/data/eeg/R1135E/tal/R1135E_talLocs_database_bipol.mat returning the first file found\n",
      "  warnings.warn(msg, MultiplePathsFoundWarning)\n",
      "/home1/john/Downloads/cmlreaders-master/cmlreaders/readers/electrodes.py:236: MissingCoordinatesWarning: Could not load MNI coordinates\n",
      "  \"Could not load MNI coordinates\"))\n",
      "/home1/john/anaconda3/envs/env1/lib/python3.7/site-packages/ptsa/data/readers/tal.py:43: FutureWarning: Lab-specific readers may be moved to the cmlreaders package (https://github.com/pennmem/cmlreaders)\n",
      "  FutureWarning)\n",
      "/home1/john/Downloads/cmlreaders-master/cmlreaders/path_finder.py:239: MultiplePathsFoundWarning: Multiple files found: /protocols/r1/subjects/R1135E/experiments/FR1/sessions/1/ephys/current_processed/sources.json\n",
      "/data/eeg/R1135E/eeg.noreref/R1135E_FR1_1_30Jan16_1457.params.txt\n",
      "/data/eeg/R1135E/eeg.noreref/params.txt returning the first file found\n",
      "  warnings.warn(msg, MultiplePathsFoundWarning)\n"
     ]
    },
    {
     "name": "stdout",
     "output_type": "stream",
     "text": [
      "loaded eeg for R1135E1\n",
      "getting PTSA\n",
      "38 matching events found\n",
      "No baseline correction applied\n",
      "Not setting metadata\n",
      "0 projection items activated\n",
      "0 bad epochs dropped\n"
     ]
    },
    {
     "name": "stderr",
     "output_type": "stream",
     "text": [
      "/home1/john/Downloads/cmlreaders-master/cmlreaders/path_finder.py:239: MultiplePathsFoundWarning: Multiple files found: /protocols/r1/subjects/R1135E/localizations/0/montages/0/neuroradiology/current_processed/pairs.json\n",
      "/data/eeg/R1135E/tal/R1135E_talLocs_database_bipol.mat returning the first file found\n",
      "  warnings.warn(msg, MultiplePathsFoundWarning)\n",
      "/home1/john/Downloads/cmlreaders-master/cmlreaders/readers/electrodes.py:236: MissingCoordinatesWarning: Could not load MNI coordinates\n",
      "  \"Could not load MNI coordinates\"))\n",
      "/home1/john/anaconda3/envs/env1/lib/python3.7/site-packages/ptsa/data/readers/tal.py:43: FutureWarning: Lab-specific readers may be moved to the cmlreaders package (https://github.com/pennmem/cmlreaders)\n",
      "  FutureWarning)\n",
      "/home1/john/Downloads/cmlreaders-master/cmlreaders/path_finder.py:239: MultiplePathsFoundWarning: Multiple files found: /protocols/r1/subjects/R1135E/experiments/FR1/sessions/2/ephys/current_processed/sources.json\n",
      "/data/eeg/R1135E/eeg.noreref/R1135E_FR1_2_01Feb16_1500.params.txt\n",
      "/data/eeg/R1135E/eeg.noreref/params.txt returning the first file found\n",
      "  warnings.warn(msg, MultiplePathsFoundWarning)\n"
     ]
    },
    {
     "name": "stdout",
     "output_type": "stream",
     "text": [
      "loaded eeg for R1135E2\n",
      "getting PTSA\n",
      "24 matching events found\n",
      "No baseline correction applied\n",
      "Not setting metadata\n",
      "0 projection items activated\n",
      "0 bad epochs dropped\n"
     ]
    },
    {
     "name": "stderr",
     "output_type": "stream",
     "text": [
      "/home1/john/Downloads/cmlreaders-master/cmlreaders/path_finder.py:239: MultiplePathsFoundWarning: Multiple files found: /protocols/r1/subjects/R1135E/localizations/0/montages/0/neuroradiology/current_processed/pairs.json\n",
      "/data/eeg/R1135E/tal/R1135E_talLocs_database_bipol.mat returning the first file found\n",
      "  warnings.warn(msg, MultiplePathsFoundWarning)\n",
      "/home1/john/Downloads/cmlreaders-master/cmlreaders/readers/electrodes.py:236: MissingCoordinatesWarning: Could not load MNI coordinates\n",
      "  \"Could not load MNI coordinates\"))\n",
      "/home1/john/anaconda3/envs/env1/lib/python3.7/site-packages/ptsa/data/readers/tal.py:43: FutureWarning: Lab-specific readers may be moved to the cmlreaders package (https://github.com/pennmem/cmlreaders)\n",
      "  FutureWarning)\n",
      "/home1/john/Downloads/cmlreaders-master/cmlreaders/path_finder.py:239: MultiplePathsFoundWarning: Multiple files found: /protocols/r1/subjects/R1135E/experiments/FR1/sessions/3/ephys/current_processed/sources.json\n",
      "/data/eeg/R1135E/eeg.noreref/R1135E_FR1_3_02Feb16_1126.params.txt\n",
      "/data/eeg/R1135E/eeg.noreref/params.txt returning the first file found\n",
      "  warnings.warn(msg, MultiplePathsFoundWarning)\n"
     ]
    },
    {
     "name": "stdout",
     "output_type": "stream",
     "text": [
      "loaded eeg for R1135E3\n",
      "getting PTSA\n",
      "11 matching events found\n",
      "No baseline correction applied\n",
      "Not setting metadata\n",
      "0 projection items activated\n",
      "0 bad epochs dropped\n"
     ]
    },
    {
     "name": "stderr",
     "output_type": "stream",
     "text": [
      "/home1/john/Downloads/cmlreaders-master/cmlreaders/path_finder.py:239: MultiplePathsFoundWarning: Multiple files found: /protocols/r1/subjects/R1136N/localizations/0/montages/0/neuroradiology/current_processed/pairs.json\n",
      "/data/eeg/R1136N/tal/R1136N_talLocs_database_bipol.mat returning the first file found\n",
      "  warnings.warn(msg, MultiplePathsFoundWarning)\n",
      "/home1/john/Downloads/cmlreaders-master/cmlreaders/readers/electrodes.py:236: MissingCoordinatesWarning: Could not load MNI coordinates\n",
      "  \"Could not load MNI coordinates\"))\n",
      "/home1/john/anaconda3/envs/env1/lib/python3.7/site-packages/ptsa/data/readers/tal.py:43: FutureWarning: Lab-specific readers may be moved to the cmlreaders package (https://github.com/pennmem/cmlreaders)\n",
      "  FutureWarning)\n",
      "/home1/john/Downloads/cmlreaders-master/cmlreaders/path_finder.py:239: MultiplePathsFoundWarning: Multiple files found: /protocols/r1/subjects/R1136N/experiments/FR1/sessions/0/ephys/current_processed/sources.json\n",
      "/data/eeg/R1136N/eeg.noreref/R1136N_FR1_0_01Feb16_1541.params.txt\n",
      "/data/eeg/R1136N/eeg.noreref/params.txt returning the first file found\n",
      "  warnings.warn(msg, MultiplePathsFoundWarning)\n"
     ]
    },
    {
     "name": "stdout",
     "output_type": "stream",
     "text": [
      "loaded eeg for R1136N0\n",
      "getting PTSA\n",
      "23 matching events found\n",
      "No baseline correction applied\n",
      "Not setting metadata\n",
      "0 projection items activated\n",
      "0 bad epochs dropped\n"
     ]
    },
    {
     "name": "stderr",
     "output_type": "stream",
     "text": [
      "/home1/john/Downloads/cmlreaders-master/cmlreaders/path_finder.py:239: MultiplePathsFoundWarning: Multiple files found: /protocols/r1/subjects/R1136N/localizations/0/montages/0/neuroradiology/current_processed/pairs.json\n",
      "/data/eeg/R1136N/tal/R1136N_talLocs_database_bipol.mat returning the first file found\n",
      "  warnings.warn(msg, MultiplePathsFoundWarning)\n",
      "/home1/john/Downloads/cmlreaders-master/cmlreaders/readers/electrodes.py:236: MissingCoordinatesWarning: Could not load MNI coordinates\n",
      "  \"Could not load MNI coordinates\"))\n",
      "/home1/john/anaconda3/envs/env1/lib/python3.7/site-packages/ptsa/data/readers/tal.py:43: FutureWarning: Lab-specific readers may be moved to the cmlreaders package (https://github.com/pennmem/cmlreaders)\n",
      "  FutureWarning)\n",
      "/home1/john/Downloads/cmlreaders-master/cmlreaders/path_finder.py:239: MultiplePathsFoundWarning: Multiple files found: /protocols/r1/subjects/R1136N/experiments/FR1/sessions/1/ephys/current_processed/sources.json\n",
      "/data/eeg/R1136N/eeg.noreref/R1136N_FR1_1_10Feb16_1047.params.txt\n",
      "/data/eeg/R1136N/eeg.noreref/params.txt returning the first file found\n",
      "  warnings.warn(msg, MultiplePathsFoundWarning)\n"
     ]
    },
    {
     "name": "stdout",
     "output_type": "stream",
     "text": [
      "loaded eeg for R1136N1\n",
      "getting PTSA\n",
      "46 matching events found\n",
      "No baseline correction applied\n",
      "Not setting metadata\n",
      "0 projection items activated\n",
      "0 bad epochs dropped\n"
     ]
    },
    {
     "name": "stderr",
     "output_type": "stream",
     "text": [
      "/home1/john/Downloads/cmlreaders-master/cmlreaders/path_finder.py:239: MultiplePathsFoundWarning: Multiple files found: /protocols/r1/subjects/R1137E/localizations/0/montages/0/neuroradiology/current_processed/pairs.json\n",
      "/data/eeg/R1137E/tal/R1137E_talLocs_database_bipol.mat returning the first file found\n",
      "  warnings.warn(msg, MultiplePathsFoundWarning)\n",
      "/home1/john/Downloads/cmlreaders-master/cmlreaders/readers/electrodes.py:236: MissingCoordinatesWarning: Could not load MNI coordinates\n",
      "  \"Could not load MNI coordinates\"))\n",
      "/home1/john/anaconda3/envs/env1/lib/python3.7/site-packages/ptsa/data/readers/tal.py:43: FutureWarning: Lab-specific readers may be moved to the cmlreaders package (https://github.com/pennmem/cmlreaders)\n",
      "  FutureWarning)\n",
      "/home1/john/Downloads/cmlreaders-master/cmlreaders/path_finder.py:239: MultiplePathsFoundWarning: Multiple files found: /protocols/r1/subjects/R1137E/experiments/FR1/sessions/0/ephys/current_processed/sources.json\n",
      "/data/eeg/R1137E/eeg.noreref/R1137E_FR1_0_22Jan16_1607.params.txt\n",
      "/data/eeg/R1137E/eeg.noreref/params.txt returning the first file found\n",
      "  warnings.warn(msg, MultiplePathsFoundWarning)\n"
     ]
    },
    {
     "name": "stdout",
     "output_type": "stream",
     "text": [
      "loaded eeg for R1137E0\n",
      "getting PTSA\n",
      "51 matching events found\n",
      "No baseline correction applied\n",
      "Not setting metadata\n",
      "0 projection items activated\n",
      "0 bad epochs dropped\n",
      "2020-06-01_16-38-09: DF Exception: Sub: R1137E, Sess: 0, Manual error, Manual error: MNE eeg evs do not match len(evs_free_recall), file: , line no: XXX\n"
     ]
    },
    {
     "name": "stderr",
     "output_type": "stream",
     "text": [
      "/home1/john/Downloads/cmlreaders-master/cmlreaders/path_finder.py:239: MultiplePathsFoundWarning: Multiple files found: /protocols/r1/subjects/R1137E/localizations/0/montages/0/neuroradiology/current_processed/pairs.json\n",
      "/data/eeg/R1137E/tal/R1137E_talLocs_database_bipol.mat returning the first file found\n",
      "  warnings.warn(msg, MultiplePathsFoundWarning)\n",
      "/home1/john/Downloads/cmlreaders-master/cmlreaders/readers/electrodes.py:236: MissingCoordinatesWarning: Could not load MNI coordinates\n",
      "  \"Could not load MNI coordinates\"))\n",
      "/home1/john/anaconda3/envs/env1/lib/python3.7/site-packages/ptsa/data/readers/tal.py:43: FutureWarning: Lab-specific readers may be moved to the cmlreaders package (https://github.com/pennmem/cmlreaders)\n",
      "  FutureWarning)\n",
      "/home1/john/Downloads/cmlreaders-master/cmlreaders/path_finder.py:239: MultiplePathsFoundWarning: Multiple files found: /protocols/r1/subjects/R1137E/experiments/FR1/sessions/1/ephys/current_processed/sources.json\n",
      "/data/eeg/R1137E/eeg.noreref/R1137E_FR1_1_24Jan16_1336.params.txt\n",
      "/data/eeg/R1137E/eeg.noreref/params.txt returning the first file found\n",
      "  warnings.warn(msg, MultiplePathsFoundWarning)\n"
     ]
    },
    {
     "name": "stdout",
     "output_type": "stream",
     "text": [
      "loaded eeg for R1137E1\n",
      "getting PTSA\n",
      "63 matching events found\n",
      "No baseline correction applied\n",
      "Not setting metadata\n",
      "0 projection items activated\n",
      "0 bad epochs dropped\n"
     ]
    },
    {
     "name": "stderr",
     "output_type": "stream",
     "text": [
      "/home1/john/Downloads/cmlreaders-master/cmlreaders/path_finder.py:239: MultiplePathsFoundWarning: Multiple files found: /protocols/r1/subjects/R1137E/localizations/0/montages/0/neuroradiology/current_processed/pairs.json\n",
      "/data/eeg/R1137E/tal/R1137E_talLocs_database_bipol.mat returning the first file found\n",
      "  warnings.warn(msg, MultiplePathsFoundWarning)\n",
      "/home1/john/Downloads/cmlreaders-master/cmlreaders/readers/electrodes.py:236: MissingCoordinatesWarning: Could not load MNI coordinates\n",
      "  \"Could not load MNI coordinates\"))\n",
      "/home1/john/anaconda3/envs/env1/lib/python3.7/site-packages/ptsa/data/readers/tal.py:43: FutureWarning: Lab-specific readers may be moved to the cmlreaders package (https://github.com/pennmem/cmlreaders)\n",
      "  FutureWarning)\n",
      "/home1/john/Downloads/cmlreaders-master/cmlreaders/path_finder.py:239: MultiplePathsFoundWarning: Multiple files found: /protocols/r1/subjects/R1137E/experiments/FR1/sessions/2/ephys/current_processed/sources.json\n",
      "/data/eeg/R1137E/eeg.noreref/R1137E_FR1_2_25Jan16_1110.params.txt\n",
      "/data/eeg/R1137E/eeg.noreref/params.txt returning the first file found\n",
      "  warnings.warn(msg, MultiplePathsFoundWarning)\n"
     ]
    },
    {
     "name": "stdout",
     "output_type": "stream",
     "text": [
      "loaded eeg for R1137E2\n",
      "getting PTSA\n",
      "65 matching events found\n",
      "No baseline correction applied\n",
      "Not setting metadata\n",
      "0 projection items activated\n",
      "0 bad epochs dropped\n"
     ]
    },
    {
     "name": "stderr",
     "output_type": "stream",
     "text": [
      "/home1/john/Downloads/cmlreaders-master/cmlreaders/path_finder.py:239: MultiplePathsFoundWarning: Multiple files found: /protocols/r1/subjects/R1138T/localizations/0/montages/0/neuroradiology/current_processed/pairs.json\n",
      "/data/eeg/R1138T/tal/R1138T_talLocs_database_bipol.mat returning the first file found\n",
      "  warnings.warn(msg, MultiplePathsFoundWarning)\n",
      "/home1/john/anaconda3/envs/env1/lib/python3.7/site-packages/ptsa/data/readers/tal.py:43: FutureWarning: Lab-specific readers may be moved to the cmlreaders package (https://github.com/pennmem/cmlreaders)\n",
      "  FutureWarning)\n",
      "/home1/john/Downloads/cmlreaders-master/cmlreaders/path_finder.py:239: MultiplePathsFoundWarning: Multiple files found: /protocols/r1/subjects/R1138T/experiments/FR1/sessions/0/ephys/current_processed/sources.json\n",
      "/data/eeg/R1138T/eeg.noreref/R1138T_FR1_0_03Feb16_1453.params.txt\n",
      "/data/eeg/R1138T/eeg.noreref/params.txt returning the first file found\n",
      "  warnings.warn(msg, MultiplePathsFoundWarning)\n"
     ]
    },
    {
     "name": "stdout",
     "output_type": "stream",
     "text": [
      "loaded eeg for R1138T0\n",
      "getting PTSA\n",
      "34 matching events found\n",
      "No baseline correction applied\n",
      "Not setting metadata\n",
      "0 projection items activated\n",
      "0 bad epochs dropped\n"
     ]
    },
    {
     "name": "stderr",
     "output_type": "stream",
     "text": [
      "/home1/john/Downloads/cmlreaders-master/cmlreaders/path_finder.py:239: MultiplePathsFoundWarning: Multiple files found: /protocols/r1/subjects/R1142N/localizations/0/montages/0/neuroradiology/current_processed/pairs.json\n",
      "/data/eeg/R1142N/tal/R1142N_talLocs_database_bipol.mat returning the first file found\n",
      "  warnings.warn(msg, MultiplePathsFoundWarning)\n",
      "/home1/john/Downloads/cmlreaders-master/cmlreaders/readers/electrodes.py:236: MissingCoordinatesWarning: Could not load MNI coordinates\n",
      "  \"Could not load MNI coordinates\"))\n",
      "/home1/john/anaconda3/envs/env1/lib/python3.7/site-packages/ptsa/data/readers/tal.py:43: FutureWarning: Lab-specific readers may be moved to the cmlreaders package (https://github.com/pennmem/cmlreaders)\n",
      "  FutureWarning)\n",
      "/home1/john/Downloads/cmlreaders-master/cmlreaders/path_finder.py:239: MultiplePathsFoundWarning: Multiple files found: /protocols/r1/subjects/R1142N/experiments/FR1/sessions/0/ephys/current_processed/sources.json\n",
      "/data/eeg/R1142N/eeg.noreref/R1142N_FR1_0_22Feb16_1029.params.txt\n",
      "/data/eeg/R1142N/eeg.noreref/params.txt returning the first file found\n",
      "  warnings.warn(msg, MultiplePathsFoundWarning)\n"
     ]
    },
    {
     "name": "stdout",
     "output_type": "stream",
     "text": [
      "loaded eeg for R1142N0\n",
      "getting PTSA\n",
      "39 matching events found\n",
      "No baseline correction applied\n",
      "Not setting metadata\n",
      "0 projection items activated\n",
      "0 bad epochs dropped\n"
     ]
    },
    {
     "name": "stderr",
     "output_type": "stream",
     "text": [
      "/home1/john/Downloads/cmlreaders-master/cmlreaders/path_finder.py:239: MultiplePathsFoundWarning: Multiple files found: /protocols/r1/subjects/R1145J/localizations/0/montages/1/neuroradiology/current_processed/pairs.json\n",
      "/data/eeg/R1145J_1/tal/R1145J_1_talLocs_database_bipol.mat returning the first file found\n",
      "  warnings.warn(msg, MultiplePathsFoundWarning)\n",
      "/home1/john/Downloads/cmlreaders-master/cmlreaders/readers/electrodes.py:236: MissingCoordinatesWarning: Could not load MNI coordinates\n",
      "  \"Could not load MNI coordinates\"))\n",
      "/home1/john/anaconda3/envs/env1/lib/python3.7/site-packages/ptsa/data/readers/tal.py:43: FutureWarning: Lab-specific readers may be moved to the cmlreaders package (https://github.com/pennmem/cmlreaders)\n",
      "  FutureWarning)\n",
      "/home1/john/Downloads/cmlreaders-master/cmlreaders/path_finder.py:239: MultiplePathsFoundWarning: Multiple files found: /protocols/r1/subjects/R1145J/experiments/FR1/sessions/0/ephys/current_processed/sources.json\n",
      "/data/eeg/R1145J/eeg.noreref/params.txt returning the first file found\n",
      "  warnings.warn(msg, MultiplePathsFoundWarning)\n"
     ]
    },
    {
     "name": "stdout",
     "output_type": "stream",
     "text": [
      "loaded eeg for R1145J0\n",
      "getting PTSA\n",
      "66 matching events found\n",
      "No baseline correction applied\n",
      "Not setting metadata\n",
      "0 projection items activated\n",
      "0 bad epochs dropped\n"
     ]
    },
    {
     "name": "stderr",
     "output_type": "stream",
     "text": [
      "/home1/john/Downloads/cmlreaders-master/cmlreaders/path_finder.py:239: MultiplePathsFoundWarning: Multiple files found: /protocols/r1/subjects/R1145J/localizations/0/montages/1/neuroradiology/current_processed/pairs.json\n",
      "/data/eeg/R1145J_1/tal/R1145J_1_talLocs_database_bipol.mat returning the first file found\n",
      "  warnings.warn(msg, MultiplePathsFoundWarning)\n",
      "/home1/john/Downloads/cmlreaders-master/cmlreaders/readers/electrodes.py:236: MissingCoordinatesWarning: Could not load MNI coordinates\n",
      "  \"Could not load MNI coordinates\"))\n",
      "/home1/john/anaconda3/envs/env1/lib/python3.7/site-packages/ptsa/data/readers/tal.py:43: FutureWarning: Lab-specific readers may be moved to the cmlreaders package (https://github.com/pennmem/cmlreaders)\n",
      "  FutureWarning)\n",
      "/home1/john/Downloads/cmlreaders-master/cmlreaders/path_finder.py:239: MultiplePathsFoundWarning: Multiple files found: /protocols/r1/subjects/R1145J/experiments/FR1/sessions/1/ephys/current_processed/sources.json\n",
      "/data/eeg/R1145J/eeg.noreref/params.txt returning the first file found\n",
      "  warnings.warn(msg, MultiplePathsFoundWarning)\n"
     ]
    },
    {
     "name": "stdout",
     "output_type": "stream",
     "text": [
      "loaded eeg for R1145J1\n",
      "getting PTSA\n",
      "42 matching events found\n",
      "No baseline correction applied\n",
      "Not setting metadata\n",
      "0 projection items activated\n",
      "0 bad epochs dropped\n"
     ]
    },
    {
     "name": "stderr",
     "output_type": "stream",
     "text": [
      "/home1/john/Downloads/cmlreaders-master/cmlreaders/path_finder.py:239: MultiplePathsFoundWarning: Multiple files found: /protocols/r1/subjects/R1145J/localizations/0/montages/1/neuroradiology/current_processed/pairs.json\n",
      "/data/eeg/R1145J_1/tal/R1145J_1_talLocs_database_bipol.mat returning the first file found\n",
      "  warnings.warn(msg, MultiplePathsFoundWarning)\n",
      "/home1/john/Downloads/cmlreaders-master/cmlreaders/readers/electrodes.py:236: MissingCoordinatesWarning: Could not load MNI coordinates\n",
      "  \"Could not load MNI coordinates\"))\n",
      "/home1/john/anaconda3/envs/env1/lib/python3.7/site-packages/ptsa/data/readers/tal.py:43: FutureWarning: Lab-specific readers may be moved to the cmlreaders package (https://github.com/pennmem/cmlreaders)\n",
      "  FutureWarning)\n",
      "/home1/john/Downloads/cmlreaders-master/cmlreaders/path_finder.py:239: MultiplePathsFoundWarning: Multiple files found: /protocols/r1/subjects/R1145J/experiments/FR1/sessions/2/ephys/current_processed/sources.json\n",
      "/data/eeg/R1145J/eeg.noreref/params.txt returning the first file found\n",
      "  warnings.warn(msg, MultiplePathsFoundWarning)\n"
     ]
    },
    {
     "name": "stdout",
     "output_type": "stream",
     "text": [
      "loaded eeg for R1145J2\n",
      "getting PTSA\n",
      "61 matching events found\n",
      "No baseline correction applied\n",
      "Not setting metadata\n",
      "0 projection items activated\n",
      "0 bad epochs dropped\n"
     ]
    },
    {
     "name": "stderr",
     "output_type": "stream",
     "text": [
      "/home1/john/Downloads/cmlreaders-master/cmlreaders/path_finder.py:239: MultiplePathsFoundWarning: Multiple files found: /protocols/r1/subjects/R1145J/localizations/0/montages/1/neuroradiology/current_processed/pairs.json\n",
      "/data/eeg/R1145J_1/tal/R1145J_1_talLocs_database_bipol.mat returning the first file found\n",
      "  warnings.warn(msg, MultiplePathsFoundWarning)\n",
      "/home1/john/Downloads/cmlreaders-master/cmlreaders/readers/electrodes.py:236: MissingCoordinatesWarning: Could not load MNI coordinates\n",
      "  \"Could not load MNI coordinates\"))\n",
      "/home1/john/anaconda3/envs/env1/lib/python3.7/site-packages/ptsa/data/readers/tal.py:43: FutureWarning: Lab-specific readers may be moved to the cmlreaders package (https://github.com/pennmem/cmlreaders)\n",
      "  FutureWarning)\n",
      "/home1/john/Downloads/cmlreaders-master/cmlreaders/path_finder.py:239: MultiplePathsFoundWarning: Multiple files found: /protocols/r1/subjects/R1145J/experiments/FR1/sessions/3/ephys/current_processed/sources.json\n",
      "/data/eeg/R1145J/eeg.noreref/params.txt returning the first file found\n",
      "  warnings.warn(msg, MultiplePathsFoundWarning)\n"
     ]
    },
    {
     "name": "stdout",
     "output_type": "stream",
     "text": [
      "loaded eeg for R1145J3\n",
      "getting PTSA\n",
      "62 matching events found\n",
      "No baseline correction applied\n",
      "Not setting metadata\n",
      "0 projection items activated\n",
      "0 bad epochs dropped\n"
     ]
    },
    {
     "name": "stderr",
     "output_type": "stream",
     "text": [
      "/home1/john/Downloads/cmlreaders-master/cmlreaders/path_finder.py:239: MultiplePathsFoundWarning: Multiple files found: /protocols/r1/subjects/R1146E/localizations/0/montages/0/neuroradiology/current_processed/pairs.json\n",
      "/data/eeg/R1146E/tal/R1146E_talLocs_database_bipol.mat returning the first file found\n",
      "  warnings.warn(msg, MultiplePathsFoundWarning)\n",
      "/home1/john/Downloads/cmlreaders-master/cmlreaders/readers/electrodes.py:236: MissingCoordinatesWarning: Could not load MNI coordinates\n",
      "  \"Could not load MNI coordinates\"))\n",
      "/home1/john/anaconda3/envs/env1/lib/python3.7/site-packages/ptsa/data/readers/tal.py:43: FutureWarning: Lab-specific readers may be moved to the cmlreaders package (https://github.com/pennmem/cmlreaders)\n",
      "  FutureWarning)\n",
      "/home1/john/Downloads/cmlreaders-master/cmlreaders/path_finder.py:239: MultiplePathsFoundWarning: Multiple files found: /protocols/r1/subjects/R1146E/experiments/FR1/sessions/0/ephys/current_processed/sources.json\n",
      "/data/eeg/R1146E/eeg.noreref/R1146E_FR1_0_04Mar16_2256.params.txt\n",
      "/data/eeg/R1146E/eeg.noreref/params.txt returning the first file found\n",
      "  warnings.warn(msg, MultiplePathsFoundWarning)\n"
     ]
    },
    {
     "name": "stdout",
     "output_type": "stream",
     "text": [
      "loaded eeg for R1146E0\n",
      "getting PTSA\n",
      "33 matching events found\n",
      "No baseline correction applied\n",
      "Not setting metadata\n",
      "0 projection items activated\n",
      "0 bad epochs dropped\n"
     ]
    },
    {
     "name": "stderr",
     "output_type": "stream",
     "text": [
      "/home1/john/Downloads/cmlreaders-master/cmlreaders/path_finder.py:239: MultiplePathsFoundWarning: Multiple files found: /protocols/r1/subjects/R1146E/localizations/0/montages/0/neuroradiology/current_processed/pairs.json\n",
      "/data/eeg/R1146E/tal/R1146E_talLocs_database_bipol.mat returning the first file found\n",
      "  warnings.warn(msg, MultiplePathsFoundWarning)\n",
      "/home1/john/Downloads/cmlreaders-master/cmlreaders/readers/electrodes.py:236: MissingCoordinatesWarning: Could not load MNI coordinates\n",
      "  \"Could not load MNI coordinates\"))\n",
      "/home1/john/anaconda3/envs/env1/lib/python3.7/site-packages/ptsa/data/readers/tal.py:43: FutureWarning: Lab-specific readers may be moved to the cmlreaders package (https://github.com/pennmem/cmlreaders)\n",
      "  FutureWarning)\n",
      "/home1/john/Downloads/cmlreaders-master/cmlreaders/path_finder.py:239: MultiplePathsFoundWarning: Multiple files found: /protocols/r1/subjects/R1146E/experiments/FR1/sessions/1/ephys/current_processed/sources.json\n",
      "/data/eeg/R1146E/eeg.noreref/R1146E_FR1_1_05Mar16_1938.params.txt\n",
      "/data/eeg/R1146E/eeg.noreref/params.txt returning the first file found\n",
      "  warnings.warn(msg, MultiplePathsFoundWarning)\n"
     ]
    },
    {
     "name": "stdout",
     "output_type": "stream",
     "text": [
      "loaded eeg for R1146E1\n",
      "getting PTSA\n",
      "39 matching events found\n",
      "No baseline correction applied\n",
      "Not setting metadata\n",
      "0 projection items activated\n",
      "0 bad epochs dropped\n"
     ]
    },
    {
     "name": "stderr",
     "output_type": "stream",
     "text": [
      "/home1/john/Downloads/cmlreaders-master/cmlreaders/path_finder.py:239: MultiplePathsFoundWarning: Multiple files found: /protocols/r1/subjects/R1146E/localizations/0/montages/0/neuroradiology/current_processed/pairs.json\n",
      "/data/eeg/R1146E/tal/R1146E_talLocs_database_bipol.mat returning the first file found\n",
      "  warnings.warn(msg, MultiplePathsFoundWarning)\n",
      "/home1/john/Downloads/cmlreaders-master/cmlreaders/readers/electrodes.py:236: MissingCoordinatesWarning: Could not load MNI coordinates\n",
      "  \"Could not load MNI coordinates\"))\n",
      "/home1/john/anaconda3/envs/env1/lib/python3.7/site-packages/ptsa/data/readers/tal.py:43: FutureWarning: Lab-specific readers may be moved to the cmlreaders package (https://github.com/pennmem/cmlreaders)\n",
      "  FutureWarning)\n",
      "/home1/john/Downloads/cmlreaders-master/cmlreaders/path_finder.py:239: MultiplePathsFoundWarning: Multiple files found: /protocols/r1/subjects/R1146E/experiments/FR1/sessions/2/ephys/current_processed/sources.json\n",
      "/data/eeg/R1146E/eeg.noreref/R1146E_FR1_2_06Mar16_2301.params.txt\n",
      "/data/eeg/R1146E/eeg.noreref/params.txt returning the first file found\n",
      "  warnings.warn(msg, MultiplePathsFoundWarning)\n"
     ]
    },
    {
     "name": "stdout",
     "output_type": "stream",
     "text": [
      "loaded eeg for R1146E2\n",
      "getting PTSA\n",
      "31 matching events found\n",
      "No baseline correction applied\n",
      "Not setting metadata\n",
      "0 projection items activated\n",
      "0 bad epochs dropped\n"
     ]
    },
    {
     "name": "stderr",
     "output_type": "stream",
     "text": [
      "/home1/john/Downloads/cmlreaders-master/cmlreaders/path_finder.py:239: MultiplePathsFoundWarning: Multiple files found: /protocols/r1/subjects/R1147P/localizations/0/montages/0/neuroradiology/current_processed/pairs.json\n",
      "/data/eeg/R1147P/tal/R1147P_talLocs_database_bipol.mat returning the first file found\n",
      "  warnings.warn(msg, MultiplePathsFoundWarning)\n",
      "/home1/john/Downloads/cmlreaders-master/cmlreaders/readers/electrodes.py:236: MissingCoordinatesWarning: Could not load MNI coordinates\n",
      "  \"Could not load MNI coordinates\"))\n",
      "/home1/john/anaconda3/envs/env1/lib/python3.7/site-packages/ptsa/data/readers/tal.py:43: FutureWarning: Lab-specific readers may be moved to the cmlreaders package (https://github.com/pennmem/cmlreaders)\n",
      "  FutureWarning)\n",
      "/home1/john/Downloads/cmlreaders-master/cmlreaders/path_finder.py:239: MultiplePathsFoundWarning: Multiple files found: /protocols/r1/subjects/R1147P/experiments/FR1/sessions/0/ephys/current_processed/sources.json\n",
      "/data/eeg/R1147P/eeg.noreref/R1147P_FR1_0_12Mar16_1734.params.txt\n",
      "/data/eeg/R1147P/eeg.noreref/params.txt returning the first file found\n",
      "  warnings.warn(msg, MultiplePathsFoundWarning)\n"
     ]
    },
    {
     "name": "stdout",
     "output_type": "stream",
     "text": [
      "loaded eeg for R1147P0\n",
      "getting PTSA\n",
      "46 matching events found\n",
      "No baseline correction applied\n",
      "Not setting metadata\n",
      "0 projection items activated\n",
      "0 bad epochs dropped\n"
     ]
    },
    {
     "name": "stderr",
     "output_type": "stream",
     "text": [
      "/home1/john/Downloads/cmlreaders-master/cmlreaders/path_finder.py:239: MultiplePathsFoundWarning: Multiple files found: /protocols/r1/subjects/R1147P/localizations/0/montages/0/neuroradiology/current_processed/pairs.json\n",
      "/data/eeg/R1147P/tal/R1147P_talLocs_database_bipol.mat returning the first file found\n",
      "  warnings.warn(msg, MultiplePathsFoundWarning)\n",
      "/home1/john/Downloads/cmlreaders-master/cmlreaders/readers/electrodes.py:236: MissingCoordinatesWarning: Could not load MNI coordinates\n",
      "  \"Could not load MNI coordinates\"))\n",
      "/home1/john/anaconda3/envs/env1/lib/python3.7/site-packages/ptsa/data/readers/tal.py:43: FutureWarning: Lab-specific readers may be moved to the cmlreaders package (https://github.com/pennmem/cmlreaders)\n",
      "  FutureWarning)\n",
      "/home1/john/Downloads/cmlreaders-master/cmlreaders/path_finder.py:239: MultiplePathsFoundWarning: Multiple files found: /protocols/r1/subjects/R1147P/experiments/FR1/sessions/1/ephys/current_processed/sources.json\n",
      "/data/eeg/R1147P/eeg.noreref/params.txt returning the first file found\n",
      "  warnings.warn(msg, MultiplePathsFoundWarning)\n"
     ]
    },
    {
     "name": "stdout",
     "output_type": "stream",
     "text": [
      "loaded eeg for R1147P1\n",
      "getting PTSA\n",
      "6 matching events found\n",
      "No baseline correction applied\n",
      "Not setting metadata\n",
      "0 projection items activated\n",
      "0 bad epochs dropped\n"
     ]
    },
    {
     "name": "stderr",
     "output_type": "stream",
     "text": [
      "/home1/john/Downloads/cmlreaders-master/cmlreaders/path_finder.py:239: MultiplePathsFoundWarning: Multiple files found: /protocols/r1/subjects/R1147P/localizations/0/montages/0/neuroradiology/current_processed/pairs.json\n",
      "/data/eeg/R1147P/tal/R1147P_talLocs_database_bipol.mat returning the first file found\n",
      "  warnings.warn(msg, MultiplePathsFoundWarning)\n",
      "/home1/john/Downloads/cmlreaders-master/cmlreaders/readers/electrodes.py:236: MissingCoordinatesWarning: Could not load MNI coordinates\n",
      "  \"Could not load MNI coordinates\"))\n",
      "/home1/john/anaconda3/envs/env1/lib/python3.7/site-packages/ptsa/data/readers/tal.py:43: FutureWarning: Lab-specific readers may be moved to the cmlreaders package (https://github.com/pennmem/cmlreaders)\n",
      "  FutureWarning)\n",
      "/home1/john/Downloads/cmlreaders-master/cmlreaders/path_finder.py:239: MultiplePathsFoundWarning: Multiple files found: /protocols/r1/subjects/R1147P/experiments/FR1/sessions/2/ephys/current_processed/sources.json\n",
      "/data/eeg/R1147P/eeg.noreref/params.txt returning the first file found\n",
      "  warnings.warn(msg, MultiplePathsFoundWarning)\n"
     ]
    },
    {
     "name": "stdout",
     "output_type": "stream",
     "text": [
      "loaded eeg for R1147P2\n",
      "getting PTSA\n",
      "14 matching events found\n",
      "No baseline correction applied\n",
      "Not setting metadata\n",
      "0 projection items activated\n",
      "0 bad epochs dropped\n"
     ]
    },
    {
     "name": "stderr",
     "output_type": "stream",
     "text": [
      "/home1/john/Downloads/cmlreaders-master/cmlreaders/path_finder.py:239: MultiplePathsFoundWarning: Multiple files found: /protocols/r1/subjects/R1148P/localizations/0/montages/0/neuroradiology/current_processed/pairs.json\n",
      "/data/eeg/R1148P/tal/R1148P_talLocs_database_bipol.mat returning the first file found\n",
      "  warnings.warn(msg, MultiplePathsFoundWarning)\n",
      "/home1/john/anaconda3/envs/env1/lib/python3.7/site-packages/ptsa/data/readers/tal.py:43: FutureWarning: Lab-specific readers may be moved to the cmlreaders package (https://github.com/pennmem/cmlreaders)\n",
      "  FutureWarning)\n",
      "/home1/john/Downloads/cmlreaders-master/cmlreaders/path_finder.py:239: MultiplePathsFoundWarning: Multiple files found: /protocols/r1/subjects/R1148P/experiments/FR1/sessions/0/ephys/current_processed/sources.json\n",
      "/data/eeg/R1148P/eeg.noreref/R1148P_FR1_0_14May16_1710.params.txt\n",
      "/data/eeg/R1148P/eeg.noreref/params.txt returning the first file found\n",
      "  warnings.warn(msg, MultiplePathsFoundWarning)\n"
     ]
    },
    {
     "name": "stdout",
     "output_type": "stream",
     "text": [
      "loaded eeg for R1148P0\n",
      "getting PTSA\n",
      "48 matching events found\n",
      "No baseline correction applied\n",
      "Not setting metadata\n",
      "0 projection items activated\n",
      "0 bad epochs dropped\n"
     ]
    },
    {
     "name": "stderr",
     "output_type": "stream",
     "text": [
      "/home1/john/Downloads/cmlreaders-master/cmlreaders/path_finder.py:239: MultiplePathsFoundWarning: Multiple files found: /protocols/r1/subjects/R1149N/localizations/0/montages/0/neuroradiology/current_processed/pairs.json\n",
      "/data/eeg/R1149N/tal/R1149N_talLocs_database_bipol.mat returning the first file found\n",
      "  warnings.warn(msg, MultiplePathsFoundWarning)\n",
      "/home1/john/anaconda3/envs/env1/lib/python3.7/site-packages/pandas/core/indexing.py:1418: FutureWarning: \n",
      "Passing list-likes to .loc or [] with any missing label will raise\n",
      "KeyError in the future, you can use .reindex() as an alternative.\n",
      "\n",
      "See the documentation here:\n",
      "https://pandas.pydata.org/pandas-docs/stable/user_guide/indexing.html#deprecate-loc-reindex-listlike\n",
      "  return self._getitem_tuple(key)\n",
      "/home1/john/Downloads/cmlreaders-master/cmlreaders/readers/electrodes.py:236: MissingCoordinatesWarning: Could not load MNI coordinates\n",
      "  \"Could not load MNI coordinates\"))\n",
      "/home1/john/anaconda3/envs/env1/lib/python3.7/site-packages/ptsa/data/readers/tal.py:43: FutureWarning: Lab-specific readers may be moved to the cmlreaders package (https://github.com/pennmem/cmlreaders)\n",
      "  FutureWarning)\n",
      "/home1/john/Downloads/cmlreaders-master/cmlreaders/path_finder.py:239: MultiplePathsFoundWarning: Multiple files found: /protocols/r1/subjects/R1149N/experiments/FR1/sessions/0/ephys/current_processed/sources.json\n",
      "/data/eeg/R1149N/eeg.noreref/R1149N_FR1_0_07Mar16_1014.params.txt\n",
      "/data/eeg/R1149N/eeg.noreref/params.txt returning the first file found\n",
      "  warnings.warn(msg, MultiplePathsFoundWarning)\n"
     ]
    },
    {
     "name": "stdout",
     "output_type": "stream",
     "text": [
      "loaded eeg for R1149N0\n",
      "getting PTSA\n",
      "34 matching events found\n",
      "No baseline correction applied\n",
      "Not setting metadata\n",
      "0 projection items activated\n",
      "0 bad epochs dropped\n"
     ]
    },
    {
     "name": "stderr",
     "output_type": "stream",
     "text": [
      "/home1/john/Downloads/cmlreaders-master/cmlreaders/path_finder.py:239: MultiplePathsFoundWarning: Multiple files found: /protocols/r1/subjects/R1150J/localizations/0/montages/0/neuroradiology/current_processed/pairs.json\n",
      "/data/eeg/R1150J/tal/R1150J_talLocs_database_bipol.mat returning the first file found\n",
      "  warnings.warn(msg, MultiplePathsFoundWarning)\n",
      "/home1/john/anaconda3/envs/env1/lib/python3.7/site-packages/ptsa/data/readers/tal.py:43: FutureWarning: Lab-specific readers may be moved to the cmlreaders package (https://github.com/pennmem/cmlreaders)\n",
      "  FutureWarning)\n",
      "/home1/john/Downloads/cmlreaders-master/cmlreaders/path_finder.py:239: MultiplePathsFoundWarning: Multiple files found: /protocols/r1/subjects/R1150J/experiments/FR1/sessions/0/ephys/current_processed/sources.json\n",
      "/data/eeg/R1150J/eeg.noreref/params.txt returning the first file found\n",
      "  warnings.warn(msg, MultiplePathsFoundWarning)\n"
     ]
    },
    {
     "name": "stdout",
     "output_type": "stream",
     "text": [
      "loaded eeg for R1150J0\n",
      "getting PTSA\n",
      "43 matching events found\n",
      "No baseline correction applied\n",
      "Not setting metadata\n",
      "0 projection items activated\n",
      "0 bad epochs dropped\n"
     ]
    },
    {
     "name": "stderr",
     "output_type": "stream",
     "text": [
      "/home1/john/Downloads/cmlreaders-master/cmlreaders/path_finder.py:239: MultiplePathsFoundWarning: Multiple files found: /protocols/r1/subjects/R1150J/localizations/0/montages/0/neuroradiology/current_processed/pairs.json\n",
      "/data/eeg/R1150J/tal/R1150J_talLocs_database_bipol.mat returning the first file found\n",
      "  warnings.warn(msg, MultiplePathsFoundWarning)\n",
      "/home1/john/anaconda3/envs/env1/lib/python3.7/site-packages/ptsa/data/readers/tal.py:43: FutureWarning: Lab-specific readers may be moved to the cmlreaders package (https://github.com/pennmem/cmlreaders)\n",
      "  FutureWarning)\n",
      "/home1/john/Downloads/cmlreaders-master/cmlreaders/path_finder.py:239: MultiplePathsFoundWarning: Multiple files found: /protocols/r1/subjects/R1150J/experiments/FR1/sessions/1/ephys/current_processed/sources.json\n",
      "/data/eeg/R1150J/eeg.noreref/params.txt returning the first file found\n",
      "  warnings.warn(msg, MultiplePathsFoundWarning)\n"
     ]
    },
    {
     "name": "stdout",
     "output_type": "stream",
     "text": [
      "loaded eeg for R1150J1\n",
      "getting PTSA\n",
      "30 matching events found\n",
      "No baseline correction applied\n",
      "Not setting metadata\n",
      "0 projection items activated\n",
      "0 bad epochs dropped\n"
     ]
    },
    {
     "name": "stderr",
     "output_type": "stream",
     "text": [
      "/home1/john/Downloads/cmlreaders-master/cmlreaders/path_finder.py:239: MultiplePathsFoundWarning: Multiple files found: /protocols/r1/subjects/R1151E/localizations/0/montages/0/neuroradiology/current_processed/pairs.json\n",
      "/data/eeg/R1151E/tal/R1151E_talLocs_database_bipol.mat returning the first file found\n",
      "  warnings.warn(msg, MultiplePathsFoundWarning)\n",
      "/home1/john/anaconda3/envs/env1/lib/python3.7/site-packages/ptsa/data/readers/tal.py:43: FutureWarning: Lab-specific readers may be moved to the cmlreaders package (https://github.com/pennmem/cmlreaders)\n",
      "  FutureWarning)\n",
      "/home1/john/Downloads/cmlreaders-master/cmlreaders/path_finder.py:239: MultiplePathsFoundWarning: Multiple files found: /protocols/r1/subjects/R1151E/experiments/FR1/sessions/0/ephys/current_processed/sources.json\n",
      "/data/eeg/R1151E/eeg.noreref/R1151E_FR1_0_11Mar16_1849.params.txt\n",
      "/data/eeg/R1151E/eeg.noreref/params.txt returning the first file found\n",
      "  warnings.warn(msg, MultiplePathsFoundWarning)\n"
     ]
    },
    {
     "name": "stdout",
     "output_type": "stream",
     "text": [
      "loaded eeg for R1151E0\n",
      "getting PTSA\n",
      "47 matching events found\n",
      "No baseline correction applied\n",
      "Not setting metadata\n",
      "0 projection items activated\n",
      "0 bad epochs dropped\n"
     ]
    },
    {
     "name": "stderr",
     "output_type": "stream",
     "text": [
      "/home1/john/Downloads/cmlreaders-master/cmlreaders/path_finder.py:239: MultiplePathsFoundWarning: Multiple files found: /protocols/r1/subjects/R1151E/localizations/0/montages/0/neuroradiology/current_processed/pairs.json\n",
      "/data/eeg/R1151E/tal/R1151E_talLocs_database_bipol.mat returning the first file found\n",
      "  warnings.warn(msg, MultiplePathsFoundWarning)\n",
      "/home1/john/anaconda3/envs/env1/lib/python3.7/site-packages/ptsa/data/readers/tal.py:43: FutureWarning: Lab-specific readers may be moved to the cmlreaders package (https://github.com/pennmem/cmlreaders)\n",
      "  FutureWarning)\n",
      "/home1/john/Downloads/cmlreaders-master/cmlreaders/path_finder.py:239: MultiplePathsFoundWarning: Multiple files found: /protocols/r1/subjects/R1151E/experiments/FR1/sessions/1/ephys/current_processed/sources.json\n",
      "/data/eeg/R1151E/eeg.noreref/R1151E_FR1_1_15Mar16_1654.params.txt\n",
      "/data/eeg/R1151E/eeg.noreref/params.txt returning the first file found\n",
      "  warnings.warn(msg, MultiplePathsFoundWarning)\n"
     ]
    },
    {
     "name": "stdout",
     "output_type": "stream",
     "text": [
      "loaded eeg for R1151E1\n",
      "getting PTSA\n",
      "39 matching events found\n",
      "No baseline correction applied\n",
      "Not setting metadata\n",
      "0 projection items activated\n",
      "0 bad epochs dropped\n"
     ]
    },
    {
     "name": "stderr",
     "output_type": "stream",
     "text": [
      "/home1/john/Downloads/cmlreaders-master/cmlreaders/path_finder.py:239: MultiplePathsFoundWarning: Multiple files found: /protocols/r1/subjects/R1151E/localizations/0/montages/0/neuroradiology/current_processed/pairs.json\n",
      "/data/eeg/R1151E/tal/R1151E_talLocs_database_bipol.mat returning the first file found\n",
      "  warnings.warn(msg, MultiplePathsFoundWarning)\n",
      "/home1/john/anaconda3/envs/env1/lib/python3.7/site-packages/ptsa/data/readers/tal.py:43: FutureWarning: Lab-specific readers may be moved to the cmlreaders package (https://github.com/pennmem/cmlreaders)\n",
      "  FutureWarning)\n",
      "/home1/john/Downloads/cmlreaders-master/cmlreaders/path_finder.py:239: MultiplePathsFoundWarning: Multiple files found: /protocols/r1/subjects/R1151E/experiments/FR1/sessions/2/ephys/current_processed/sources.json\n",
      "/data/eeg/R1151E/eeg.noreref/R1151E_FR1_2_16Mar16_2141.params.txt\n",
      "/data/eeg/R1151E/eeg.noreref/params.txt returning the first file found\n",
      "  warnings.warn(msg, MultiplePathsFoundWarning)\n"
     ]
    },
    {
     "name": "stdout",
     "output_type": "stream",
     "text": [
      "loaded eeg for R1151E2\n",
      "getting PTSA\n",
      "16 matching events found\n",
      "No baseline correction applied\n",
      "Not setting metadata\n",
      "0 projection items activated\n",
      "0 bad epochs dropped\n"
     ]
    },
    {
     "name": "stderr",
     "output_type": "stream",
     "text": [
      "/home1/john/Downloads/cmlreaders-master/cmlreaders/path_finder.py:239: MultiplePathsFoundWarning: Multiple files found: /protocols/r1/subjects/R1153T/localizations/0/montages/0/neuroradiology/current_processed/pairs.json\n",
      "/data/eeg/R1153T/tal/R1153T_talLocs_database_bipol.mat returning the first file found\n",
      "  warnings.warn(msg, MultiplePathsFoundWarning)\n",
      "/home1/john/anaconda3/envs/env1/lib/python3.7/site-packages/ptsa/data/readers/tal.py:43: FutureWarning: Lab-specific readers may be moved to the cmlreaders package (https://github.com/pennmem/cmlreaders)\n",
      "  FutureWarning)\n",
      "/home1/john/Downloads/cmlreaders-master/cmlreaders/path_finder.py:239: MultiplePathsFoundWarning: Multiple files found: /protocols/r1/subjects/R1153T/experiments/FR1/sessions/0/ephys/current_processed/sources.json\n",
      "/data/eeg/R1153T/eeg.noreref/params.txt returning the first file found\n",
      "  warnings.warn(msg, MultiplePathsFoundWarning)\n"
     ]
    },
    {
     "name": "stdout",
     "output_type": "stream",
     "text": [
      "loaded eeg for R1153T0\n",
      "getting PTSA\n",
      "29 matching events found\n",
      "No baseline correction applied\n",
      "Not setting metadata\n",
      "0 projection items activated\n",
      "0 bad epochs dropped\n"
     ]
    },
    {
     "name": "stderr",
     "output_type": "stream",
     "text": [
      "/home1/john/Downloads/cmlreaders-master/cmlreaders/path_finder.py:239: MultiplePathsFoundWarning: Multiple files found: /protocols/r1/subjects/R1153T/localizations/0/montages/0/neuroradiology/current_processed/pairs.json\n",
      "/data/eeg/R1153T/tal/R1153T_talLocs_database_bipol.mat returning the first file found\n",
      "  warnings.warn(msg, MultiplePathsFoundWarning)\n",
      "/home1/john/anaconda3/envs/env1/lib/python3.7/site-packages/ptsa/data/readers/tal.py:43: FutureWarning: Lab-specific readers may be moved to the cmlreaders package (https://github.com/pennmem/cmlreaders)\n",
      "  FutureWarning)\n",
      "/home1/john/Downloads/cmlreaders-master/cmlreaders/path_finder.py:239: MultiplePathsFoundWarning: Multiple files found: /protocols/r1/subjects/R1153T/experiments/FR1/sessions/1/ephys/current_processed/sources.json\n",
      "/data/eeg/R1153T/eeg.noreref/params.txt returning the first file found\n",
      "  warnings.warn(msg, MultiplePathsFoundWarning)\n"
     ]
    },
    {
     "name": "stdout",
     "output_type": "stream",
     "text": [
      "loaded eeg for R1153T1\n",
      "getting PTSA\n",
      "38 matching events found\n",
      "No baseline correction applied\n",
      "Not setting metadata\n",
      "0 projection items activated\n",
      "0 bad epochs dropped\n"
     ]
    },
    {
     "name": "stderr",
     "output_type": "stream",
     "text": [
      "/home1/john/Downloads/cmlreaders-master/cmlreaders/path_finder.py:239: MultiplePathsFoundWarning: Multiple files found: /protocols/r1/subjects/R1153T/localizations/0/montages/0/neuroradiology/current_processed/pairs.json\n",
      "/data/eeg/R1153T/tal/R1153T_talLocs_database_bipol.mat returning the first file found\n",
      "  warnings.warn(msg, MultiplePathsFoundWarning)\n",
      "/home1/john/anaconda3/envs/env1/lib/python3.7/site-packages/ptsa/data/readers/tal.py:43: FutureWarning: Lab-specific readers may be moved to the cmlreaders package (https://github.com/pennmem/cmlreaders)\n",
      "  FutureWarning)\n",
      "/home1/john/Downloads/cmlreaders-master/cmlreaders/path_finder.py:239: MultiplePathsFoundWarning: Multiple files found: /protocols/r1/subjects/R1153T/experiments/FR1/sessions/2/ephys/current_processed/sources.json\n",
      "/data/eeg/R1153T/eeg.noreref/params.txt returning the first file found\n",
      "  warnings.warn(msg, MultiplePathsFoundWarning)\n"
     ]
    },
    {
     "name": "stdout",
     "output_type": "stream",
     "text": [
      "loaded eeg for R1153T2\n",
      "getting PTSA\n",
      "21 matching events found\n",
      "No baseline correction applied\n",
      "Not setting metadata\n",
      "0 projection items activated\n",
      "0 bad epochs dropped\n"
     ]
    },
    {
     "name": "stderr",
     "output_type": "stream",
     "text": [
      "/home1/john/Downloads/cmlreaders-master/cmlreaders/path_finder.py:239: MultiplePathsFoundWarning: Multiple files found: /protocols/r1/subjects/R1154D/localizations/0/montages/0/neuroradiology/current_processed/pairs.json\n",
      "/data/eeg/R1154D/tal/R1154D_talLocs_database_bipol.mat returning the first file found\n",
      "  warnings.warn(msg, MultiplePathsFoundWarning)\n",
      "/home1/john/Downloads/cmlreaders-master/cmlreaders/readers/electrodes.py:236: MissingCoordinatesWarning: Could not load MNI coordinates\n",
      "  \"Could not load MNI coordinates\"))\n",
      "/home1/john/anaconda3/envs/env1/lib/python3.7/site-packages/ptsa/data/readers/tal.py:43: FutureWarning: Lab-specific readers may be moved to the cmlreaders package (https://github.com/pennmem/cmlreaders)\n",
      "  FutureWarning)\n",
      "/home1/john/Downloads/cmlreaders-master/cmlreaders/path_finder.py:239: MultiplePathsFoundWarning: Multiple files found: /protocols/r1/subjects/R1154D/experiments/FR1/sessions/0/ephys/current_processed/sources.json\n",
      "/data/eeg/R1154D/eeg.noreref/R1154D_FR1_0_10May16_1745.params.txt\n",
      "/data/eeg/R1154D/eeg.noreref/params.txt returning the first file found\n",
      "  warnings.warn(msg, MultiplePathsFoundWarning)\n"
     ]
    },
    {
     "name": "stdout",
     "output_type": "stream",
     "text": [
      "loaded eeg for R1154D0\n",
      "getting PTSA\n",
      "53 matching events found\n",
      "No baseline correction applied\n",
      "Not setting metadata\n",
      "0 projection items activated\n",
      "0 bad epochs dropped\n"
     ]
    },
    {
     "name": "stderr",
     "output_type": "stream",
     "text": [
      "/home1/john/Downloads/cmlreaders-master/cmlreaders/path_finder.py:239: MultiplePathsFoundWarning: Multiple files found: /protocols/r1/subjects/R1154D/localizations/0/montages/0/neuroradiology/current_processed/pairs.json\n",
      "/data/eeg/R1154D/tal/R1154D_talLocs_database_bipol.mat returning the first file found\n",
      "  warnings.warn(msg, MultiplePathsFoundWarning)\n",
      "/home1/john/Downloads/cmlreaders-master/cmlreaders/readers/electrodes.py:236: MissingCoordinatesWarning: Could not load MNI coordinates\n",
      "  \"Could not load MNI coordinates\"))\n",
      "/home1/john/anaconda3/envs/env1/lib/python3.7/site-packages/ptsa/data/readers/tal.py:43: FutureWarning: Lab-specific readers may be moved to the cmlreaders package (https://github.com/pennmem/cmlreaders)\n",
      "  FutureWarning)\n",
      "/home1/john/Downloads/cmlreaders-master/cmlreaders/path_finder.py:239: MultiplePathsFoundWarning: Multiple files found: /protocols/r1/subjects/R1154D/experiments/FR1/sessions/1/ephys/current_processed/sources.json\n",
      "/data/eeg/R1154D/eeg.noreref/params.txt returning the first file found\n",
      "  warnings.warn(msg, MultiplePathsFoundWarning)\n"
     ]
    },
    {
     "name": "stdout",
     "output_type": "stream",
     "text": [
      "loaded eeg for R1154D1\n",
      "getting PTSA\n",
      "65 matching events found\n",
      "No baseline correction applied\n",
      "Not setting metadata\n",
      "0 projection items activated\n",
      "0 bad epochs dropped\n"
     ]
    },
    {
     "name": "stderr",
     "output_type": "stream",
     "text": [
      "/home1/john/Downloads/cmlreaders-master/cmlreaders/path_finder.py:239: MultiplePathsFoundWarning: Multiple files found: /protocols/r1/subjects/R1154D/localizations/0/montages/0/neuroradiology/current_processed/pairs.json\n",
      "/data/eeg/R1154D/tal/R1154D_talLocs_database_bipol.mat returning the first file found\n",
      "  warnings.warn(msg, MultiplePathsFoundWarning)\n",
      "/home1/john/Downloads/cmlreaders-master/cmlreaders/readers/electrodes.py:236: MissingCoordinatesWarning: Could not load MNI coordinates\n",
      "  \"Could not load MNI coordinates\"))\n",
      "/home1/john/anaconda3/envs/env1/lib/python3.7/site-packages/ptsa/data/readers/tal.py:43: FutureWarning: Lab-specific readers may be moved to the cmlreaders package (https://github.com/pennmem/cmlreaders)\n",
      "  FutureWarning)\n",
      "/home1/john/Downloads/cmlreaders-master/cmlreaders/path_finder.py:239: MultiplePathsFoundWarning: Multiple files found: /protocols/r1/subjects/R1154D/experiments/FR1/sessions/2/ephys/current_processed/sources.json\n",
      "/data/eeg/R1154D/eeg.noreref/params.txt returning the first file found\n",
      "  warnings.warn(msg, MultiplePathsFoundWarning)\n"
     ]
    },
    {
     "name": "stdout",
     "output_type": "stream",
     "text": [
      "loaded eeg for R1154D2\n",
      "getting PTSA\n",
      "55 matching events found\n",
      "No baseline correction applied\n",
      "Not setting metadata\n",
      "0 projection items activated\n",
      "0 bad epochs dropped\n"
     ]
    },
    {
     "name": "stderr",
     "output_type": "stream",
     "text": [
      "/home1/john/Downloads/cmlreaders-master/cmlreaders/path_finder.py:239: MultiplePathsFoundWarning: Multiple files found: /protocols/r1/subjects/R1155D/localizations/0/montages/0/neuroradiology/current_processed/pairs.json\n",
      "/data/eeg/R1155D/tal/R1155D_talLocs_database_bipol.mat returning the first file found\n",
      "  warnings.warn(msg, MultiplePathsFoundWarning)\n",
      "/home1/john/anaconda3/envs/env1/lib/python3.7/site-packages/ptsa/data/readers/tal.py:43: FutureWarning: Lab-specific readers may be moved to the cmlreaders package (https://github.com/pennmem/cmlreaders)\n",
      "  FutureWarning)\n",
      "/home1/john/Downloads/cmlreaders-master/cmlreaders/path_finder.py:239: MultiplePathsFoundWarning: Multiple files found: /protocols/r1/subjects/R1155D/experiments/FR1/sessions/0/ephys/current_processed/sources.json\n",
      "/data/eeg/R1155D/eeg.noreref/R1155D_FR1_0_25Mar16_1255.params.txt\n",
      "/data/eeg/R1155D/eeg.noreref/params.txt returning the first file found\n",
      "  warnings.warn(msg, MultiplePathsFoundWarning)\n"
     ]
    },
    {
     "name": "stdout",
     "output_type": "stream",
     "text": [
      "loaded eeg for R1155D0\n",
      "getting PTSA\n",
      "22 matching events found\n",
      "No baseline correction applied\n",
      "Not setting metadata\n",
      "0 projection items activated\n",
      "0 bad epochs dropped\n"
     ]
    },
    {
     "name": "stderr",
     "output_type": "stream",
     "text": [
      "/home1/john/Downloads/cmlreaders-master/cmlreaders/path_finder.py:239: MultiplePathsFoundWarning: Multiple files found: /protocols/r1/subjects/R1156D/localizations/0/montages/0/neuroradiology/current_processed/pairs.json\n",
      "/data/eeg/R1156D/tal/R1156D_talLocs_database_bipol.mat returning the first file found\n",
      "  warnings.warn(msg, MultiplePathsFoundWarning)\n",
      "/home1/john/Downloads/cmlreaders-master/cmlreaders/readers/electrodes.py:236: MissingCoordinatesWarning: Could not load MNI coordinates\n",
      "  \"Could not load MNI coordinates\"))\n",
      "/home1/john/anaconda3/envs/env1/lib/python3.7/site-packages/ptsa/data/readers/tal.py:43: FutureWarning: Lab-specific readers may be moved to the cmlreaders package (https://github.com/pennmem/cmlreaders)\n",
      "  FutureWarning)\n",
      "/home1/john/Downloads/cmlreaders-master/cmlreaders/path_finder.py:239: MultiplePathsFoundWarning: Multiple files found: /protocols/r1/subjects/R1156D/experiments/FR1/sessions/0/ephys/current_processed/sources.json\n",
      "/data/eeg/R1156D/eeg.noreref/R1156D_FR1_0_12May16_1942.params.txt\n",
      "/data/eeg/R1156D/eeg.noreref/params.txt returning the first file found\n",
      "  warnings.warn(msg, MultiplePathsFoundWarning)\n"
     ]
    },
    {
     "name": "stdout",
     "output_type": "stream",
     "text": [
      "loaded eeg for R1156D0\n",
      "getting PTSA\n",
      "53 matching events found\n",
      "No baseline correction applied\n",
      "Not setting metadata\n",
      "0 projection items activated\n",
      "0 bad epochs dropped\n"
     ]
    },
    {
     "name": "stderr",
     "output_type": "stream",
     "text": [
      "/home1/john/Downloads/cmlreaders-master/cmlreaders/path_finder.py:239: MultiplePathsFoundWarning: Multiple files found: /protocols/r1/subjects/R1156D/localizations/0/montages/0/neuroradiology/current_processed/pairs.json\n",
      "/data/eeg/R1156D/tal/R1156D_talLocs_database_bipol.mat returning the first file found\n",
      "  warnings.warn(msg, MultiplePathsFoundWarning)\n",
      "/home1/john/Downloads/cmlreaders-master/cmlreaders/readers/electrodes.py:236: MissingCoordinatesWarning: Could not load MNI coordinates\n",
      "  \"Could not load MNI coordinates\"))\n",
      "/home1/john/anaconda3/envs/env1/lib/python3.7/site-packages/ptsa/data/readers/tal.py:43: FutureWarning: Lab-specific readers may be moved to the cmlreaders package (https://github.com/pennmem/cmlreaders)\n",
      "  FutureWarning)\n",
      "/home1/john/Downloads/cmlreaders-master/cmlreaders/path_finder.py:239: MultiplePathsFoundWarning: Multiple files found: /protocols/r1/subjects/R1156D/experiments/FR1/sessions/1/ephys/current_processed/sources.json\n",
      "/data/eeg/R1156D/eeg.noreref/R1156D_FR1_1_13May16_1819.params.txt\n",
      "/data/eeg/R1156D/eeg.noreref/params.txt returning the first file found\n",
      "  warnings.warn(msg, MultiplePathsFoundWarning)\n"
     ]
    },
    {
     "name": "stdout",
     "output_type": "stream",
     "text": [
      "loaded eeg for R1156D1\n",
      "getting PTSA\n",
      "53 matching events found\n",
      "No baseline correction applied\n",
      "Not setting metadata\n",
      "0 projection items activated\n",
      "0 bad epochs dropped\n"
     ]
    },
    {
     "name": "stderr",
     "output_type": "stream",
     "text": [
      "/home1/john/Downloads/cmlreaders-master/cmlreaders/path_finder.py:239: MultiplePathsFoundWarning: Multiple files found: /protocols/r1/subjects/R1156D/localizations/0/montages/0/neuroradiology/current_processed/pairs.json\n",
      "/data/eeg/R1156D/tal/R1156D_talLocs_database_bipol.mat returning the first file found\n",
      "  warnings.warn(msg, MultiplePathsFoundWarning)\n",
      "/home1/john/Downloads/cmlreaders-master/cmlreaders/readers/electrodes.py:236: MissingCoordinatesWarning: Could not load MNI coordinates\n",
      "  \"Could not load MNI coordinates\"))\n",
      "/home1/john/anaconda3/envs/env1/lib/python3.7/site-packages/ptsa/data/readers/tal.py:43: FutureWarning: Lab-specific readers may be moved to the cmlreaders package (https://github.com/pennmem/cmlreaders)\n",
      "  FutureWarning)\n",
      "/home1/john/Downloads/cmlreaders-master/cmlreaders/path_finder.py:239: MultiplePathsFoundWarning: Multiple files found: /protocols/r1/subjects/R1156D/experiments/FR1/sessions/2/ephys/current_processed/sources.json\n",
      "/data/eeg/R1156D/eeg.noreref/R1156D_FR1_2_15May16_1529.params.txt\n",
      "/data/eeg/R1156D/eeg.noreref/params.txt returning the first file found\n",
      "  warnings.warn(msg, MultiplePathsFoundWarning)\n"
     ]
    },
    {
     "name": "stdout",
     "output_type": "stream",
     "text": [
      "loaded eeg for R1156D2\n",
      "getting PTSA\n",
      "56 matching events found\n",
      "No baseline correction applied\n",
      "Not setting metadata\n",
      "0 projection items activated\n",
      "0 bad epochs dropped\n"
     ]
    },
    {
     "name": "stderr",
     "output_type": "stream",
     "text": [
      "/home1/john/Downloads/cmlreaders-master/cmlreaders/path_finder.py:239: MultiplePathsFoundWarning: Multiple files found: /protocols/r1/subjects/R1156D/localizations/0/montages/0/neuroradiology/current_processed/pairs.json\n",
      "/data/eeg/R1156D/tal/R1156D_talLocs_database_bipol.mat returning the first file found\n",
      "  warnings.warn(msg, MultiplePathsFoundWarning)\n",
      "/home1/john/Downloads/cmlreaders-master/cmlreaders/readers/electrodes.py:236: MissingCoordinatesWarning: Could not load MNI coordinates\n",
      "  \"Could not load MNI coordinates\"))\n",
      "/home1/john/anaconda3/envs/env1/lib/python3.7/site-packages/ptsa/data/readers/tal.py:43: FutureWarning: Lab-specific readers may be moved to the cmlreaders package (https://github.com/pennmem/cmlreaders)\n",
      "  FutureWarning)\n",
      "/home1/john/Downloads/cmlreaders-master/cmlreaders/path_finder.py:239: MultiplePathsFoundWarning: Multiple files found: /protocols/r1/subjects/R1156D/experiments/FR1/sessions/3/ephys/current_processed/sources.json\n",
      "/data/eeg/R1156D/eeg.noreref/R1156D_FR1_3_21May16_1633.params.txt\n",
      "/data/eeg/R1156D/eeg.noreref/params.txt returning the first file found\n",
      "  warnings.warn(msg, MultiplePathsFoundWarning)\n"
     ]
    },
    {
     "name": "stdout",
     "output_type": "stream",
     "text": [
      "loaded eeg for R1156D3\n",
      "getting PTSA\n",
      "31 matching events found\n",
      "No baseline correction applied\n",
      "Not setting metadata\n",
      "0 projection items activated\n",
      "0 bad epochs dropped\n"
     ]
    },
    {
     "name": "stderr",
     "output_type": "stream",
     "text": [
      "/home1/john/Downloads/cmlreaders-master/cmlreaders/path_finder.py:239: MultiplePathsFoundWarning: Multiple files found: /protocols/r1/subjects/R1158T/localizations/0/montages/0/neuroradiology/current_processed/pairs.json\n",
      "/data/eeg/R1158T/tal/R1158T_talLocs_database_bipol.mat returning the first file found\n",
      "  warnings.warn(msg, MultiplePathsFoundWarning)\n",
      "/home1/john/anaconda3/envs/env1/lib/python3.7/site-packages/ptsa/data/readers/tal.py:43: FutureWarning: Lab-specific readers may be moved to the cmlreaders package (https://github.com/pennmem/cmlreaders)\n",
      "  FutureWarning)\n",
      "/home1/john/Downloads/cmlreaders-master/cmlreaders/path_finder.py:239: MultiplePathsFoundWarning: Multiple files found: /protocols/r1/subjects/R1158T/experiments/FR1/sessions/0/ephys/current_processed/sources.json\n",
      "/data/eeg/R1158T/eeg.noreref/R1158T_FR1_0_30Mar16_1907.params.txt\n",
      "/data/eeg/R1158T/eeg.noreref/params.txt returning the first file found\n",
      "  warnings.warn(msg, MultiplePathsFoundWarning)\n"
     ]
    },
    {
     "name": "stdout",
     "output_type": "stream",
     "text": [
      "loaded eeg for R1158T0\n",
      "getting PTSA\n",
      "16 matching events found\n",
      "No baseline correction applied\n",
      "Not setting metadata\n",
      "0 projection items activated\n",
      "0 bad epochs dropped\n"
     ]
    },
    {
     "name": "stderr",
     "output_type": "stream",
     "text": [
      "/home1/john/Downloads/cmlreaders-master/cmlreaders/path_finder.py:239: MultiplePathsFoundWarning: Multiple files found: /protocols/r1/subjects/R1158T/localizations/0/montages/0/neuroradiology/current_processed/pairs.json\n",
      "/data/eeg/R1158T/tal/R1158T_talLocs_database_bipol.mat returning the first file found\n",
      "  warnings.warn(msg, MultiplePathsFoundWarning)\n",
      "/home1/john/anaconda3/envs/env1/lib/python3.7/site-packages/ptsa/data/readers/tal.py:43: FutureWarning: Lab-specific readers may be moved to the cmlreaders package (https://github.com/pennmem/cmlreaders)\n",
      "  FutureWarning)\n",
      "/home1/john/Downloads/cmlreaders-master/cmlreaders/path_finder.py:239: MultiplePathsFoundWarning: Multiple files found: /protocols/r1/subjects/R1158T/experiments/FR1/sessions/1/ephys/current_processed/sources.json\n",
      "/data/eeg/R1158T/eeg.noreref/R1158T_FR1_1_01Apr16_1929.params.txt\n",
      "/data/eeg/R1158T/eeg.noreref/params.txt returning the first file found\n",
      "  warnings.warn(msg, MultiplePathsFoundWarning)\n"
     ]
    },
    {
     "name": "stdout",
     "output_type": "stream",
     "text": [
      "loaded eeg for R1158T1\n",
      "getting PTSA\n",
      "33 matching events found\n",
      "No baseline correction applied\n",
      "Not setting metadata\n",
      "0 projection items activated\n",
      "0 bad epochs dropped\n"
     ]
    },
    {
     "name": "stderr",
     "output_type": "stream",
     "text": [
      "/home1/john/Downloads/cmlreaders-master/cmlreaders/path_finder.py:239: MultiplePathsFoundWarning: Multiple files found: /protocols/r1/subjects/R1158T/localizations/0/montages/0/neuroradiology/current_processed/pairs.json\n",
      "/data/eeg/R1158T/tal/R1158T_talLocs_database_bipol.mat returning the first file found\n",
      "  warnings.warn(msg, MultiplePathsFoundWarning)\n",
      "/home1/john/anaconda3/envs/env1/lib/python3.7/site-packages/ptsa/data/readers/tal.py:43: FutureWarning: Lab-specific readers may be moved to the cmlreaders package (https://github.com/pennmem/cmlreaders)\n",
      "  FutureWarning)\n",
      "/home1/john/Downloads/cmlreaders-master/cmlreaders/path_finder.py:239: MultiplePathsFoundWarning: Multiple files found: /protocols/r1/subjects/R1158T/experiments/FR1/sessions/2/ephys/current_processed/sources.json\n",
      "/data/eeg/R1158T/eeg.noreref/params.txt returning the first file found\n",
      "  warnings.warn(msg, MultiplePathsFoundWarning)\n"
     ]
    },
    {
     "name": "stdout",
     "output_type": "stream",
     "text": [
      "loaded eeg for R1158T2\n",
      "getting PTSA\n",
      "27 matching events found\n",
      "No baseline correction applied\n",
      "Not setting metadata\n",
      "0 projection items activated\n",
      "0 bad epochs dropped\n"
     ]
    },
    {
     "name": "stderr",
     "output_type": "stream",
     "text": [
      "/home1/john/Downloads/cmlreaders-master/cmlreaders/path_finder.py:239: MultiplePathsFoundWarning: Multiple files found: /protocols/r1/subjects/R1159P/localizations/0/montages/0/neuroradiology/current_processed/pairs.json\n",
      "/data/eeg/R1159P/tal/R1159P_talLocs_database_bipol.mat returning the first file found\n",
      "  warnings.warn(msg, MultiplePathsFoundWarning)\n",
      "/home1/john/anaconda3/envs/env1/lib/python3.7/site-packages/ptsa/data/readers/tal.py:43: FutureWarning: Lab-specific readers may be moved to the cmlreaders package (https://github.com/pennmem/cmlreaders)\n",
      "  FutureWarning)\n",
      "/home1/john/Downloads/cmlreaders-master/cmlreaders/path_finder.py:239: MultiplePathsFoundWarning: Multiple files found: /protocols/r1/subjects/R1159P/experiments/FR1/sessions/0/ephys/current_processed/sources.json\n",
      "/data/eeg/R1159P/eeg.noreref/R1159P_FR1_0_02Apr16_2014.params.txt\n",
      "/data/eeg/R1159P/eeg.noreref/params.txt returning the first file found\n",
      "  warnings.warn(msg, MultiplePathsFoundWarning)\n"
     ]
    },
    {
     "name": "stdout",
     "output_type": "stream",
     "text": [
      "loaded eeg for R1159P0\n",
      "getting PTSA\n",
      "21 matching events found\n",
      "No baseline correction applied\n",
      "Not setting metadata\n",
      "0 projection items activated\n",
      "0 bad epochs dropped\n"
     ]
    },
    {
     "name": "stderr",
     "output_type": "stream",
     "text": [
      "/home1/john/Downloads/cmlreaders-master/cmlreaders/path_finder.py:239: MultiplePathsFoundWarning: Multiple files found: /protocols/r1/subjects/R1161E/localizations/0/montages/0/neuroradiology/current_processed/pairs.json\n",
      "/data/eeg/R1161E/tal/R1161E_talLocs_database_bipol.mat returning the first file found\n",
      "  warnings.warn(msg, MultiplePathsFoundWarning)\n",
      "/home1/john/Downloads/cmlreaders-master/cmlreaders/readers/electrodes.py:236: MissingCoordinatesWarning: Could not load MNI coordinates\n",
      "  \"Could not load MNI coordinates\"))\n",
      "/home1/john/anaconda3/envs/env1/lib/python3.7/site-packages/ptsa/data/readers/tal.py:43: FutureWarning: Lab-specific readers may be moved to the cmlreaders package (https://github.com/pennmem/cmlreaders)\n",
      "  FutureWarning)\n",
      "/home1/john/Downloads/cmlreaders-master/cmlreaders/path_finder.py:239: MultiplePathsFoundWarning: Multiple files found: /protocols/r1/subjects/R1161E/experiments/FR1/sessions/0/ephys/current_processed/sources.json\n",
      "/data/eeg/R1161E/eeg.noreref/R1161E_FR1_0_09Apr16_1950.params.txt\n",
      "/data/eeg/R1161E/eeg.noreref/params.txt returning the first file found\n",
      "  warnings.warn(msg, MultiplePathsFoundWarning)\n"
     ]
    },
    {
     "name": "stdout",
     "output_type": "stream",
     "text": [
      "loaded eeg for R1161E0\n",
      "getting PTSA\n",
      "102 matching events found\n",
      "No baseline correction applied\n",
      "Not setting metadata\n",
      "0 projection items activated\n",
      "0 bad epochs dropped\n"
     ]
    },
    {
     "name": "stderr",
     "output_type": "stream",
     "text": [
      "/home1/john/Downloads/cmlreaders-master/cmlreaders/path_finder.py:239: MultiplePathsFoundWarning: Multiple files found: /protocols/r1/subjects/R1161E/localizations/0/montages/0/neuroradiology/current_processed/pairs.json\n",
      "/data/eeg/R1161E/tal/R1161E_talLocs_database_bipol.mat returning the first file found\n",
      "  warnings.warn(msg, MultiplePathsFoundWarning)\n",
      "/home1/john/Downloads/cmlreaders-master/cmlreaders/readers/electrodes.py:236: MissingCoordinatesWarning: Could not load MNI coordinates\n",
      "  \"Could not load MNI coordinates\"))\n",
      "/home1/john/anaconda3/envs/env1/lib/python3.7/site-packages/ptsa/data/readers/tal.py:43: FutureWarning: Lab-specific readers may be moved to the cmlreaders package (https://github.com/pennmem/cmlreaders)\n",
      "  FutureWarning)\n",
      "/home1/john/Downloads/cmlreaders-master/cmlreaders/path_finder.py:239: MultiplePathsFoundWarning: Multiple files found: /protocols/r1/subjects/R1161E/experiments/FR1/sessions/1/ephys/current_processed/sources.json\n",
      "/data/eeg/R1161E/eeg.noreref/R1161E_FR1_1_11Apr16_1459.params.txt\n",
      "/data/eeg/R1161E/eeg.noreref/params.txt returning the first file found\n",
      "  warnings.warn(msg, MultiplePathsFoundWarning)\n"
     ]
    },
    {
     "name": "stdout",
     "output_type": "stream",
     "text": [
      "loaded eeg for R1161E1\n",
      "getting PTSA\n",
      "81 matching events found\n",
      "No baseline correction applied\n",
      "Not setting metadata\n",
      "0 projection items activated\n",
      "0 bad epochs dropped\n"
     ]
    },
    {
     "name": "stderr",
     "output_type": "stream",
     "text": [
      "/home1/john/Downloads/cmlreaders-master/cmlreaders/path_finder.py:239: MultiplePathsFoundWarning: Multiple files found: /protocols/r1/subjects/R1161E/localizations/0/montages/0/neuroradiology/current_processed/pairs.json\n",
      "/data/eeg/R1161E/tal/R1161E_talLocs_database_bipol.mat returning the first file found\n",
      "  warnings.warn(msg, MultiplePathsFoundWarning)\n",
      "/home1/john/Downloads/cmlreaders-master/cmlreaders/readers/electrodes.py:236: MissingCoordinatesWarning: Could not load MNI coordinates\n",
      "  \"Could not load MNI coordinates\"))\n",
      "/home1/john/anaconda3/envs/env1/lib/python3.7/site-packages/ptsa/data/readers/tal.py:43: FutureWarning: Lab-specific readers may be moved to the cmlreaders package (https://github.com/pennmem/cmlreaders)\n",
      "  FutureWarning)\n",
      "/home1/john/Downloads/cmlreaders-master/cmlreaders/path_finder.py:239: MultiplePathsFoundWarning: Multiple files found: /protocols/r1/subjects/R1161E/experiments/FR1/sessions/2/ephys/current_processed/sources.json\n",
      "/data/eeg/R1161E/eeg.noreref/R1161E_FR1_2_12Apr16_2100.params.txt\n",
      "/data/eeg/R1161E/eeg.noreref/params.txt returning the first file found\n",
      "  warnings.warn(msg, MultiplePathsFoundWarning)\n"
     ]
    },
    {
     "name": "stdout",
     "output_type": "stream",
     "text": [
      "loaded eeg for R1161E2\n",
      "getting PTSA\n",
      "91 matching events found\n",
      "No baseline correction applied\n",
      "Not setting metadata\n",
      "0 projection items activated\n",
      "0 bad epochs dropped\n"
     ]
    },
    {
     "name": "stderr",
     "output_type": "stream",
     "text": [
      "/home1/john/Downloads/cmlreaders-master/cmlreaders/path_finder.py:239: MultiplePathsFoundWarning: Multiple files found: /protocols/r1/subjects/R1162N/localizations/0/montages/0/neuroradiology/current_processed/pairs.json\n",
      "/data/eeg/R1162N/tal/R1162N_talLocs_database_bipol.mat returning the first file found\n",
      "  warnings.warn(msg, MultiplePathsFoundWarning)\n",
      "/home1/john/anaconda3/envs/env1/lib/python3.7/site-packages/ptsa/data/readers/tal.py:43: FutureWarning: Lab-specific readers may be moved to the cmlreaders package (https://github.com/pennmem/cmlreaders)\n",
      "  FutureWarning)\n",
      "/home1/john/Downloads/cmlreaders-master/cmlreaders/path_finder.py:239: MultiplePathsFoundWarning: Multiple files found: /protocols/r1/subjects/R1162N/experiments/FR1/sessions/0/ephys/current_processed/sources.json\n",
      "/data/eeg/R1162N/eeg.noreref/R1162N_FR1_0_18Apr16_1033.params.txt\n",
      "/data/eeg/R1162N/eeg.noreref/params.txt returning the first file found\n",
      "  warnings.warn(msg, MultiplePathsFoundWarning)\n"
     ]
    },
    {
     "name": "stdout",
     "output_type": "stream",
     "text": [
      "loaded eeg for R1162N0\n",
      "getting PTSA\n",
      "36 matching events found\n",
      "No baseline correction applied\n",
      "Not setting metadata\n",
      "0 projection items activated\n",
      "0 bad epochs dropped\n"
     ]
    },
    {
     "name": "stderr",
     "output_type": "stream",
     "text": [
      "/home1/john/Downloads/cmlreaders-master/cmlreaders/path_finder.py:239: MultiplePathsFoundWarning: Multiple files found: /protocols/r1/subjects/R1163T/localizations/0/montages/0/neuroradiology/current_processed/pairs.json\n",
      "/data/eeg/R1163T/tal/R1163T_talLocs_database_bipol.mat returning the first file found\n",
      "  warnings.warn(msg, MultiplePathsFoundWarning)\n",
      "/home1/john/anaconda3/envs/env1/lib/python3.7/site-packages/ptsa/data/readers/tal.py:43: FutureWarning: Lab-specific readers may be moved to the cmlreaders package (https://github.com/pennmem/cmlreaders)\n",
      "  FutureWarning)\n",
      "/home1/john/Downloads/cmlreaders-master/cmlreaders/path_finder.py:239: MultiplePathsFoundWarning: Multiple files found: /protocols/r1/subjects/R1163T/experiments/FR1/sessions/0/ephys/current_processed/sources.json\n",
      "/data/eeg/R1163T/eeg.noreref/R1163T_FR1_0_14Apr16_1429.params.txt\n",
      "/data/eeg/R1163T/eeg.noreref/params.txt returning the first file found\n",
      "  warnings.warn(msg, MultiplePathsFoundWarning)\n"
     ]
    },
    {
     "name": "stdout",
     "output_type": "stream",
     "text": [
      "loaded eeg for R1163T0\n",
      "getting PTSA\n",
      "18 matching events found\n",
      "No baseline correction applied\n",
      "Not setting metadata\n",
      "0 projection items activated\n",
      "0 bad epochs dropped\n"
     ]
    },
    {
     "name": "stderr",
     "output_type": "stream",
     "text": [
      "/home1/john/Downloads/cmlreaders-master/cmlreaders/path_finder.py:239: MultiplePathsFoundWarning: Multiple files found: /protocols/r1/subjects/R1163T/localizations/0/montages/0/neuroradiology/current_processed/pairs.json\n",
      "/data/eeg/R1163T/tal/R1163T_talLocs_database_bipol.mat returning the first file found\n",
      "  warnings.warn(msg, MultiplePathsFoundWarning)\n",
      "/home1/john/anaconda3/envs/env1/lib/python3.7/site-packages/ptsa/data/readers/tal.py:43: FutureWarning: Lab-specific readers may be moved to the cmlreaders package (https://github.com/pennmem/cmlreaders)\n",
      "  FutureWarning)\n",
      "/home1/john/Downloads/cmlreaders-master/cmlreaders/path_finder.py:239: MultiplePathsFoundWarning: Multiple files found: /protocols/r1/subjects/R1163T/experiments/FR1/sessions/1/ephys/current_processed/sources.json\n",
      "/data/eeg/R1163T/eeg.noreref/R1163T_FR1_1_15Apr16_1606.params.txt\n",
      "/data/eeg/R1163T/eeg.noreref/params.txt returning the first file found\n",
      "  warnings.warn(msg, MultiplePathsFoundWarning)\n"
     ]
    },
    {
     "name": "stdout",
     "output_type": "stream",
     "text": [
      "loaded eeg for R1163T1\n",
      "getting PTSA\n",
      "34 matching events found\n",
      "No baseline correction applied\n",
      "Not setting metadata\n",
      "0 projection items activated\n",
      "0 bad epochs dropped\n"
     ]
    },
    {
     "name": "stderr",
     "output_type": "stream",
     "text": [
      "/home1/john/Downloads/cmlreaders-master/cmlreaders/path_finder.py:239: MultiplePathsFoundWarning: Multiple files found: /protocols/r1/subjects/R1164E/localizations/0/montages/0/neuroradiology/current_processed/pairs.json\n",
      "/data/eeg/R1164E/tal/R1164E_talLocs_database_bipol.mat returning the first file found\n",
      "  warnings.warn(msg, MultiplePathsFoundWarning)\n",
      "/home1/john/anaconda3/envs/env1/lib/python3.7/site-packages/ptsa/data/readers/tal.py:43: FutureWarning: Lab-specific readers may be moved to the cmlreaders package (https://github.com/pennmem/cmlreaders)\n",
      "  FutureWarning)\n",
      "/home1/john/Downloads/cmlreaders-master/cmlreaders/path_finder.py:239: MultiplePathsFoundWarning: Multiple files found: /protocols/r1/subjects/R1164E/experiments/FR1/sessions/0/ephys/current_processed/sources.json\n",
      "/data/eeg/R1164E/eeg.noreref/R1164E_FR1_0_24Apr16_1645.params.txt\n",
      "/data/eeg/R1164E/eeg.noreref/params.txt returning the first file found\n",
      "  warnings.warn(msg, MultiplePathsFoundWarning)\n"
     ]
    },
    {
     "name": "stdout",
     "output_type": "stream",
     "text": [
      "loaded eeg for R1164E0\n",
      "getting PTSA\n",
      "42 matching events found\n",
      "No baseline correction applied\n",
      "Not setting metadata\n",
      "0 projection items activated\n",
      "0 bad epochs dropped\n"
     ]
    },
    {
     "name": "stderr",
     "output_type": "stream",
     "text": [
      "/home1/john/Downloads/cmlreaders-master/cmlreaders/path_finder.py:239: MultiplePathsFoundWarning: Multiple files found: /protocols/r1/subjects/R1166D/localizations/0/montages/0/neuroradiology/current_processed/pairs.json\n",
      "/data/eeg/R1166D/tal/R1166D_talLocs_database_bipol.mat returning the first file found\n",
      "  warnings.warn(msg, MultiplePathsFoundWarning)\n",
      "/home1/john/anaconda3/envs/env1/lib/python3.7/site-packages/ptsa/data/readers/tal.py:43: FutureWarning: Lab-specific readers may be moved to the cmlreaders package (https://github.com/pennmem/cmlreaders)\n",
      "  FutureWarning)\n",
      "/home1/john/Downloads/cmlreaders-master/cmlreaders/path_finder.py:239: MultiplePathsFoundWarning: Multiple files found: /protocols/r1/subjects/R1166D/experiments/FR1/sessions/0/ephys/current_processed/sources.json\n",
      "/data/eeg/R1166D/eeg.noreref/R1166D_FR1_0_20Apr16_1846.params.txt\n",
      "/data/eeg/R1166D/eeg.noreref/params.txt returning the first file found\n",
      "  warnings.warn(msg, MultiplePathsFoundWarning)\n"
     ]
    },
    {
     "name": "stdout",
     "output_type": "stream",
     "text": [
      "loaded eeg for R1166D0\n",
      "getting PTSA\n",
      "29 matching events found\n",
      "No baseline correction applied\n",
      "Not setting metadata\n",
      "0 projection items activated\n",
      "0 bad epochs dropped\n"
     ]
    },
    {
     "name": "stderr",
     "output_type": "stream",
     "text": [
      "/home1/john/Downloads/cmlreaders-master/cmlreaders/path_finder.py:239: MultiplePathsFoundWarning: Multiple files found: /protocols/r1/subjects/R1166D/localizations/0/montages/0/neuroradiology/current_processed/pairs.json\n",
      "/data/eeg/R1166D/tal/R1166D_talLocs_database_bipol.mat returning the first file found\n",
      "  warnings.warn(msg, MultiplePathsFoundWarning)\n",
      "/home1/john/anaconda3/envs/env1/lib/python3.7/site-packages/ptsa/data/readers/tal.py:43: FutureWarning: Lab-specific readers may be moved to the cmlreaders package (https://github.com/pennmem/cmlreaders)\n",
      "  FutureWarning)\n",
      "/home1/john/Downloads/cmlreaders-master/cmlreaders/path_finder.py:239: MultiplePathsFoundWarning: Multiple files found: /protocols/r1/subjects/R1166D/experiments/FR1/sessions/1/ephys/current_processed/sources.json\n",
      "/data/eeg/R1166D/eeg.noreref/R1166D_FR1_1_22Apr16_2012.params.txt\n",
      "/data/eeg/R1166D/eeg.noreref/params.txt returning the first file found\n",
      "  warnings.warn(msg, MultiplePathsFoundWarning)\n"
     ]
    },
    {
     "name": "stdout",
     "output_type": "stream",
     "text": [
      "loaded eeg for R1166D1\n",
      "getting PTSA\n",
      "48 matching events found\n",
      "No baseline correction applied\n",
      "Not setting metadata\n",
      "0 projection items activated\n",
      "0 bad epochs dropped\n"
     ]
    },
    {
     "name": "stderr",
     "output_type": "stream",
     "text": [
      "/home1/john/Downloads/cmlreaders-master/cmlreaders/path_finder.py:239: MultiplePathsFoundWarning: Multiple files found: /protocols/r1/subjects/R1166D/localizations/0/montages/0/neuroradiology/current_processed/pairs.json\n",
      "/data/eeg/R1166D/tal/R1166D_talLocs_database_bipol.mat returning the first file found\n",
      "  warnings.warn(msg, MultiplePathsFoundWarning)\n",
      "/home1/john/anaconda3/envs/env1/lib/python3.7/site-packages/ptsa/data/readers/tal.py:43: FutureWarning: Lab-specific readers may be moved to the cmlreaders package (https://github.com/pennmem/cmlreaders)\n",
      "  FutureWarning)\n",
      "/home1/john/Downloads/cmlreaders-master/cmlreaders/path_finder.py:239: MultiplePathsFoundWarning: Multiple files found: /protocols/r1/subjects/R1166D/experiments/FR1/sessions/2/ephys/current_processed/sources.json\n",
      "/data/eeg/R1166D/eeg.noreref/R1166D_FR1_2_23Apr16_1248.params.txt\n",
      "/data/eeg/R1166D/eeg.noreref/params.txt returning the first file found\n",
      "  warnings.warn(msg, MultiplePathsFoundWarning)\n"
     ]
    },
    {
     "name": "stdout",
     "output_type": "stream",
     "text": [
      "loaded eeg for R1166D2\n",
      "getting PTSA\n",
      "42 matching events found\n",
      "No baseline correction applied\n",
      "Not setting metadata\n",
      "0 projection items activated\n",
      "0 bad epochs dropped\n"
     ]
    },
    {
     "name": "stderr",
     "output_type": "stream",
     "text": [
      "/home1/john/Downloads/cmlreaders-master/cmlreaders/path_finder.py:239: MultiplePathsFoundWarning: Multiple files found: /protocols/r1/subjects/R1167M/localizations/0/montages/0/neuroradiology/current_processed/pairs.json\n",
      "/data/eeg/R1167M/tal/R1167M_talLocs_database_bipol.mat returning the first file found\n",
      "  warnings.warn(msg, MultiplePathsFoundWarning)\n",
      "/home1/john/anaconda3/envs/env1/lib/python3.7/site-packages/ptsa/data/readers/tal.py:43: FutureWarning: Lab-specific readers may be moved to the cmlreaders package (https://github.com/pennmem/cmlreaders)\n",
      "  FutureWarning)\n",
      "/home1/john/Downloads/cmlreaders-master/cmlreaders/path_finder.py:239: MultiplePathsFoundWarning: Multiple files found: /protocols/r1/subjects/R1167M/experiments/FR1/sessions/0/ephys/current_processed/sources.json\n",
      "/data/eeg/R1167M/eeg.noreref/params.txt returning the first file found\n",
      "  warnings.warn(msg, MultiplePathsFoundWarning)\n"
     ]
    },
    {
     "name": "stdout",
     "output_type": "stream",
     "text": [
      "loaded eeg for R1167M0\n",
      "getting PTSA\n",
      "33 matching events found\n",
      "No baseline correction applied\n",
      "Not setting metadata\n",
      "0 projection items activated\n",
      "0 bad epochs dropped\n"
     ]
    },
    {
     "name": "stderr",
     "output_type": "stream",
     "text": [
      "/home1/john/Downloads/cmlreaders-master/cmlreaders/path_finder.py:239: MultiplePathsFoundWarning: Multiple files found: /protocols/r1/subjects/R1167M/localizations/0/montages/0/neuroradiology/current_processed/pairs.json\n",
      "/data/eeg/R1167M/tal/R1167M_talLocs_database_bipol.mat returning the first file found\n",
      "  warnings.warn(msg, MultiplePathsFoundWarning)\n",
      "/home1/john/anaconda3/envs/env1/lib/python3.7/site-packages/ptsa/data/readers/tal.py:43: FutureWarning: Lab-specific readers may be moved to the cmlreaders package (https://github.com/pennmem/cmlreaders)\n",
      "  FutureWarning)\n",
      "/home1/john/Downloads/cmlreaders-master/cmlreaders/path_finder.py:239: MultiplePathsFoundWarning: Multiple files found: /protocols/r1/subjects/R1167M/experiments/FR1/sessions/1/ephys/current_processed/sources.json\n",
      "/data/eeg/R1167M/eeg.noreref/params.txt returning the first file found\n",
      "  warnings.warn(msg, MultiplePathsFoundWarning)\n"
     ]
    },
    {
     "name": "stdout",
     "output_type": "stream",
     "text": [
      "loaded eeg for R1167M1\n",
      "getting PTSA\n",
      "36 matching events found\n",
      "No baseline correction applied\n",
      "Not setting metadata\n",
      "0 projection items activated\n",
      "0 bad epochs dropped\n"
     ]
    },
    {
     "name": "stderr",
     "output_type": "stream",
     "text": [
      "/home1/john/Downloads/cmlreaders-master/cmlreaders/path_finder.py:239: MultiplePathsFoundWarning: Multiple files found: /protocols/r1/subjects/R1168T/localizations/0/montages/0/neuroradiology/current_processed/pairs.json\n",
      "/data/eeg/R1168T/tal/R1168T_talLocs_database_bipol.mat returning the first file found\n",
      "  warnings.warn(msg, MultiplePathsFoundWarning)\n",
      "/home1/john/anaconda3/envs/env1/lib/python3.7/site-packages/ptsa/data/readers/tal.py:43: FutureWarning: Lab-specific readers may be moved to the cmlreaders package (https://github.com/pennmem/cmlreaders)\n",
      "  FutureWarning)\n",
      "/home1/john/Downloads/cmlreaders-master/cmlreaders/path_finder.py:239: MultiplePathsFoundWarning: Multiple files found: /protocols/r1/subjects/R1168T/experiments/FR1/sessions/0/ephys/current_processed/sources.json\n",
      "/data/eeg/R1168T/eeg.noreref/R1168T_FR1_0_27Apr16_1941.params.txt\n",
      "/data/eeg/R1168T/eeg.noreref/params.txt returning the first file found\n",
      "  warnings.warn(msg, MultiplePathsFoundWarning)\n"
     ]
    },
    {
     "name": "stdout",
     "output_type": "stream",
     "text": [
      "loaded eeg for R1168T0\n",
      "getting PTSA\n",
      "35 matching events found\n",
      "No baseline correction applied\n",
      "Not setting metadata\n",
      "0 projection items activated\n",
      "0 bad epochs dropped\n"
     ]
    },
    {
     "name": "stderr",
     "output_type": "stream",
     "text": [
      "/home1/john/Downloads/cmlreaders-master/cmlreaders/path_finder.py:239: MultiplePathsFoundWarning: Multiple files found: /protocols/r1/subjects/R1168T/localizations/0/montages/0/neuroradiology/current_processed/pairs.json\n",
      "/data/eeg/R1168T/tal/R1168T_talLocs_database_bipol.mat returning the first file found\n",
      "  warnings.warn(msg, MultiplePathsFoundWarning)\n",
      "/home1/john/anaconda3/envs/env1/lib/python3.7/site-packages/ptsa/data/readers/tal.py:43: FutureWarning: Lab-specific readers may be moved to the cmlreaders package (https://github.com/pennmem/cmlreaders)\n",
      "  FutureWarning)\n",
      "/home1/john/Downloads/cmlreaders-master/cmlreaders/path_finder.py:239: MultiplePathsFoundWarning: Multiple files found: /protocols/r1/subjects/R1168T/experiments/FR1/sessions/1/ephys/current_processed/sources.json\n",
      "/data/eeg/R1168T/eeg.noreref/R1168T_FR1_1_29Apr16_1454.params.txt\n",
      "/data/eeg/R1168T/eeg.noreref/params.txt returning the first file found\n",
      "  warnings.warn(msg, MultiplePathsFoundWarning)\n"
     ]
    },
    {
     "name": "stdout",
     "output_type": "stream",
     "text": [
      "loaded eeg for R1168T1\n",
      "getting PTSA\n",
      "35 matching events found\n",
      "No baseline correction applied\n",
      "Not setting metadata\n",
      "0 projection items activated\n",
      "0 bad epochs dropped\n"
     ]
    },
    {
     "name": "stderr",
     "output_type": "stream",
     "text": [
      "/home1/john/Downloads/cmlreaders-master/cmlreaders/path_finder.py:239: MultiplePathsFoundWarning: Multiple files found: /protocols/r1/subjects/R1168T/localizations/0/montages/0/neuroradiology/current_processed/pairs.json\n",
      "/data/eeg/R1168T/tal/R1168T_talLocs_database_bipol.mat returning the first file found\n",
      "  warnings.warn(msg, MultiplePathsFoundWarning)\n",
      "/home1/john/anaconda3/envs/env1/lib/python3.7/site-packages/ptsa/data/readers/tal.py:43: FutureWarning: Lab-specific readers may be moved to the cmlreaders package (https://github.com/pennmem/cmlreaders)\n",
      "  FutureWarning)\n",
      "/home1/john/Downloads/cmlreaders-master/cmlreaders/path_finder.py:239: MultiplePathsFoundWarning: Multiple files found: /protocols/r1/subjects/R1168T/experiments/FR1/sessions/2/ephys/current_processed/sources.json\n",
      "/data/eeg/R1168T/eeg.noreref/R1168T_FR1_2_30Apr16_2113.params.txt\n",
      "/data/eeg/R1168T/eeg.noreref/params.txt returning the first file found\n",
      "  warnings.warn(msg, MultiplePathsFoundWarning)\n"
     ]
    },
    {
     "name": "stdout",
     "output_type": "stream",
     "text": [
      "loaded eeg for R1168T2\n",
      "getting PTSA\n",
      "35 matching events found\n",
      "No baseline correction applied\n",
      "Not setting metadata\n",
      "0 projection items activated\n",
      "0 bad epochs dropped\n"
     ]
    },
    {
     "name": "stderr",
     "output_type": "stream",
     "text": [
      "/home1/john/Downloads/cmlreaders-master/cmlreaders/path_finder.py:239: MultiplePathsFoundWarning: Multiple files found: /protocols/r1/subjects/R1169P/localizations/0/montages/0/neuroradiology/current_processed/pairs.json\n",
      "/data/eeg/R1169P/tal/R1169P_talLocs_database_bipol.mat returning the first file found\n",
      "  warnings.warn(msg, MultiplePathsFoundWarning)\n",
      "/home1/john/anaconda3/envs/env1/lib/python3.7/site-packages/ptsa/data/readers/tal.py:43: FutureWarning: Lab-specific readers may be moved to the cmlreaders package (https://github.com/pennmem/cmlreaders)\n",
      "  FutureWarning)\n",
      "/home1/john/Downloads/cmlreaders-master/cmlreaders/path_finder.py:239: MultiplePathsFoundWarning: Multiple files found: /protocols/r1/subjects/R1169P/experiments/FR1/sessions/0/ephys/current_processed/sources.json\n",
      "/data/eeg/R1169P/eeg.noreref/R1169P_FR1_0_30Apr16_1334.params.txt\n",
      "/data/eeg/R1169P/eeg.noreref/params.txt returning the first file found\n",
      "  warnings.warn(msg, MultiplePathsFoundWarning)\n"
     ]
    },
    {
     "name": "stdout",
     "output_type": "stream",
     "text": [
      "loaded eeg for R1169P0\n",
      "getting PTSA\n",
      "56 matching events found\n",
      "No baseline correction applied\n",
      "Not setting metadata\n",
      "0 projection items activated\n",
      "0 bad epochs dropped\n"
     ]
    },
    {
     "name": "stderr",
     "output_type": "stream",
     "text": [
      "/home1/john/Downloads/cmlreaders-master/cmlreaders/path_finder.py:239: MultiplePathsFoundWarning: Multiple files found: /protocols/r1/subjects/R1169P/localizations/0/montages/0/neuroradiology/current_processed/pairs.json\n",
      "/data/eeg/R1169P/tal/R1169P_talLocs_database_bipol.mat returning the first file found\n",
      "  warnings.warn(msg, MultiplePathsFoundWarning)\n",
      "/home1/john/anaconda3/envs/env1/lib/python3.7/site-packages/ptsa/data/readers/tal.py:43: FutureWarning: Lab-specific readers may be moved to the cmlreaders package (https://github.com/pennmem/cmlreaders)\n",
      "  FutureWarning)\n",
      "/home1/john/Downloads/cmlreaders-master/cmlreaders/path_finder.py:239: MultiplePathsFoundWarning: Multiple files found: /protocols/r1/subjects/R1169P/experiments/FR1/sessions/1/ephys/current_processed/sources.json\n",
      "/data/eeg/R1169P/eeg.noreref/R1169P_FR1_1_01May16_1455.params.txt\n",
      "/data/eeg/R1169P/eeg.noreref/params.txt returning the first file found\n",
      "  warnings.warn(msg, MultiplePathsFoundWarning)\n"
     ]
    },
    {
     "name": "stdout",
     "output_type": "stream",
     "text": [
      "loaded eeg for R1169P1\n",
      "getting PTSA\n",
      "54 matching events found\n",
      "No baseline correction applied\n",
      "Not setting metadata\n",
      "0 projection items activated\n",
      "0 bad epochs dropped\n"
     ]
    },
    {
     "name": "stderr",
     "output_type": "stream",
     "text": [
      "/home1/john/Downloads/cmlreaders-master/cmlreaders/path_finder.py:239: MultiplePathsFoundWarning: Multiple files found: /protocols/r1/subjects/R1170J/localizations/0/montages/1/neuroradiology/current_processed/pairs.json\n",
      "/data/eeg/R1170J_1/tal/R1170J_1_talLocs_database_bipol.mat returning the first file found\n",
      "  warnings.warn(msg, MultiplePathsFoundWarning)\n",
      "/home1/john/Downloads/cmlreaders-master/cmlreaders/readers/electrodes.py:236: MissingCoordinatesWarning: Could not load MNI coordinates\n",
      "  \"Could not load MNI coordinates\"))\n",
      "/home1/john/anaconda3/envs/env1/lib/python3.7/site-packages/ptsa/data/readers/tal.py:43: FutureWarning: Lab-specific readers may be moved to the cmlreaders package (https://github.com/pennmem/cmlreaders)\n",
      "  FutureWarning)\n",
      "/home1/john/Downloads/cmlreaders-master/cmlreaders/path_finder.py:239: MultiplePathsFoundWarning: Multiple files found: /protocols/r1/subjects/R1170J/experiments/FR1/sessions/0/ephys/current_processed/sources.json\n",
      "/data/eeg/R1170J/eeg.noreref/params.txt returning the first file found\n",
      "  warnings.warn(msg, MultiplePathsFoundWarning)\n"
     ]
    },
    {
     "name": "stdout",
     "output_type": "stream",
     "text": [
      "loaded eeg for R1170J0\n",
      "getting PTSA\n",
      "27 matching events found\n",
      "No baseline correction applied\n",
      "Not setting metadata\n",
      "0 projection items activated\n",
      "0 bad epochs dropped\n"
     ]
    },
    {
     "name": "stderr",
     "output_type": "stream",
     "text": [
      "/home1/john/Downloads/cmlreaders-master/cmlreaders/path_finder.py:239: MultiplePathsFoundWarning: Multiple files found: /protocols/r1/subjects/R1170J/localizations/0/montages/1/neuroradiology/current_processed/pairs.json\n",
      "/data/eeg/R1170J_1/tal/R1170J_1_talLocs_database_bipol.mat returning the first file found\n",
      "  warnings.warn(msg, MultiplePathsFoundWarning)\n",
      "/home1/john/Downloads/cmlreaders-master/cmlreaders/readers/electrodes.py:236: MissingCoordinatesWarning: Could not load MNI coordinates\n",
      "  \"Could not load MNI coordinates\"))\n",
      "/home1/john/anaconda3/envs/env1/lib/python3.7/site-packages/ptsa/data/readers/tal.py:43: FutureWarning: Lab-specific readers may be moved to the cmlreaders package (https://github.com/pennmem/cmlreaders)\n",
      "  FutureWarning)\n",
      "/home1/john/Downloads/cmlreaders-master/cmlreaders/path_finder.py:239: MultiplePathsFoundWarning: Multiple files found: /protocols/r1/subjects/R1170J/experiments/FR1/sessions/1/ephys/current_processed/sources.json\n",
      "/data/eeg/R1170J/eeg.noreref/params.txt returning the first file found\n",
      "  warnings.warn(msg, MultiplePathsFoundWarning)\n"
     ]
    },
    {
     "name": "stdout",
     "output_type": "stream",
     "text": [
      "loaded eeg for R1170J1\n",
      "getting PTSA\n",
      "34 matching events found\n",
      "No baseline correction applied\n",
      "Not setting metadata\n",
      "0 projection items activated\n",
      "0 bad epochs dropped\n"
     ]
    },
    {
     "name": "stderr",
     "output_type": "stream",
     "text": [
      "/home1/john/Downloads/cmlreaders-master/cmlreaders/path_finder.py:239: MultiplePathsFoundWarning: Multiple files found: /protocols/r1/subjects/R1170J/localizations/0/montages/1/neuroradiology/current_processed/pairs.json\n",
      "/data/eeg/R1170J_1/tal/R1170J_1_talLocs_database_bipol.mat returning the first file found\n",
      "  warnings.warn(msg, MultiplePathsFoundWarning)\n",
      "/home1/john/Downloads/cmlreaders-master/cmlreaders/readers/electrodes.py:236: MissingCoordinatesWarning: Could not load MNI coordinates\n",
      "  \"Could not load MNI coordinates\"))\n",
      "/home1/john/anaconda3/envs/env1/lib/python3.7/site-packages/ptsa/data/readers/tal.py:43: FutureWarning: Lab-specific readers may be moved to the cmlreaders package (https://github.com/pennmem/cmlreaders)\n",
      "  FutureWarning)\n",
      "/home1/john/Downloads/cmlreaders-master/cmlreaders/path_finder.py:239: MultiplePathsFoundWarning: Multiple files found: /protocols/r1/subjects/R1170J/experiments/FR1/sessions/2/ephys/current_processed/sources.json\n",
      "/data/eeg/R1170J/eeg.noreref/params.txt returning the first file found\n",
      "  warnings.warn(msg, MultiplePathsFoundWarning)\n"
     ]
    },
    {
     "name": "stdout",
     "output_type": "stream",
     "text": [
      "loaded eeg for R1170J2\n",
      "getting PTSA\n",
      "24 matching events found\n",
      "No baseline correction applied\n",
      "Not setting metadata\n",
      "0 projection items activated\n",
      "0 bad epochs dropped\n"
     ]
    },
    {
     "name": "stderr",
     "output_type": "stream",
     "text": [
      "/home1/john/Downloads/cmlreaders-master/cmlreaders/path_finder.py:239: MultiplePathsFoundWarning: Multiple files found: /protocols/r1/subjects/R1171M/localizations/0/montages/0/neuroradiology/current_processed/pairs.json\n",
      "/data/eeg/R1171M/tal/R1171M_talLocs_database_bipol.mat returning the first file found\n",
      "  warnings.warn(msg, MultiplePathsFoundWarning)\n",
      "/home1/john/anaconda3/envs/env1/lib/python3.7/site-packages/ptsa/data/readers/tal.py:43: FutureWarning: Lab-specific readers may be moved to the cmlreaders package (https://github.com/pennmem/cmlreaders)\n",
      "  FutureWarning)\n",
      "/home1/john/Downloads/cmlreaders-master/cmlreaders/path_finder.py:239: MultiplePathsFoundWarning: Multiple files found: /protocols/r1/subjects/R1171M/experiments/FR1/sessions/1/ephys/current_processed/sources.json\n",
      "/data/eeg/R1171M/eeg.noreref/R1171M_FR1_1_04May16_1833.params.txt\n",
      "/data/eeg/R1171M/eeg.noreref/params.txt returning the first file found\n",
      "  warnings.warn(msg, MultiplePathsFoundWarning)\n"
     ]
    },
    {
     "name": "stdout",
     "output_type": "stream",
     "text": [
      "loaded eeg for R1171M1\n",
      "getting PTSA\n",
      "27 matching events found\n",
      "No baseline correction applied\n",
      "Not setting metadata\n",
      "0 projection items activated\n",
      "0 bad epochs dropped\n"
     ]
    },
    {
     "name": "stderr",
     "output_type": "stream",
     "text": [
      "/home1/john/Downloads/cmlreaders-master/cmlreaders/path_finder.py:239: MultiplePathsFoundWarning: Multiple files found: /protocols/r1/subjects/R1171M/localizations/0/montages/0/neuroradiology/current_processed/pairs.json\n",
      "/data/eeg/R1171M/tal/R1171M_talLocs_database_bipol.mat returning the first file found\n",
      "  warnings.warn(msg, MultiplePathsFoundWarning)\n",
      "/home1/john/anaconda3/envs/env1/lib/python3.7/site-packages/ptsa/data/readers/tal.py:43: FutureWarning: Lab-specific readers may be moved to the cmlreaders package (https://github.com/pennmem/cmlreaders)\n",
      "  FutureWarning)\n",
      "/home1/john/Downloads/cmlreaders-master/cmlreaders/path_finder.py:239: MultiplePathsFoundWarning: Multiple files found: /protocols/r1/subjects/R1171M/experiments/FR1/sessions/2/ephys/current_processed/sources.json\n",
      "/data/eeg/R1171M/eeg.noreref/R1171M_FR1_2_04May16_2029.params.txt\n",
      "/data/eeg/R1171M/eeg.noreref/params.txt returning the first file found\n",
      "  warnings.warn(msg, MultiplePathsFoundWarning)\n"
     ]
    },
    {
     "name": "stdout",
     "output_type": "stream",
     "text": [
      "loaded eeg for R1171M2\n",
      "getting PTSA\n",
      "30 matching events found\n",
      "No baseline correction applied\n",
      "Not setting metadata\n",
      "0 projection items activated\n",
      "0 bad epochs dropped\n"
     ]
    },
    {
     "name": "stderr",
     "output_type": "stream",
     "text": [
      "/home1/john/Downloads/cmlreaders-master/cmlreaders/path_finder.py:239: MultiplePathsFoundWarning: Multiple files found: /protocols/r1/subjects/R1172E/localizations/0/montages/0/neuroradiology/current_processed/pairs.json\n",
      "/data/eeg/R1172E/tal/R1172E_talLocs_database_bipol.mat returning the first file found\n",
      "  warnings.warn(msg, MultiplePathsFoundWarning)\n",
      "/home1/john/anaconda3/envs/env1/lib/python3.7/site-packages/ptsa/data/readers/tal.py:43: FutureWarning: Lab-specific readers may be moved to the cmlreaders package (https://github.com/pennmem/cmlreaders)\n",
      "  FutureWarning)\n",
      "/home1/john/Downloads/cmlreaders-master/cmlreaders/path_finder.py:239: MultiplePathsFoundWarning: Multiple files found: /protocols/r1/subjects/R1172E/experiments/FR1/sessions/0/ephys/current_processed/sources.json\n",
      "/data/eeg/R1172E/eeg.noreref/R1172E_FR1_0_09May16_1646.params.txt\n",
      "/data/eeg/R1172E/eeg.noreref/params.txt returning the first file found\n",
      "  warnings.warn(msg, MultiplePathsFoundWarning)\n",
      "/home1/john/Downloads/cmlreaders-master/cmlreaders/path_finder.py:239: MultiplePathsFoundWarning: Multiple files found: /protocols/r1/subjects/R1172E/experiments/FR1/sessions/0/ephys/current_processed/sources.json\n",
      "/data/eeg/R1172E/eeg.noreref/R1172E_FR1_0_09May16_1812.params.txt\n",
      "/data/eeg/R1172E/eeg.noreref/params.txt returning the first file found\n",
      "  warnings.warn(msg, MultiplePathsFoundWarning)\n",
      "/home1/john/Downloads/cmlreaders-master/cmlreaders/path_finder.py:239: MultiplePathsFoundWarning: Multiple files found: /protocols/r1/subjects/R1172E/experiments/FR1/sessions/0/ephys/current_processed/sources.json\n",
      "/data/eeg/R1172E/eeg.noreref/R1172E_FR1_0_09May16_1827.params.txt\n",
      "/data/eeg/R1172E/eeg.noreref/params.txt returning the first file found\n",
      "  warnings.warn(msg, MultiplePathsFoundWarning)\n"
     ]
    },
    {
     "name": "stdout",
     "output_type": "stream",
     "text": [
      "loaded eeg for R1172E0\n",
      "getting PTSA\n",
      "48 matching events found\n",
      "No baseline correction applied\n",
      "Not setting metadata\n",
      "0 projection items activated\n",
      "0 bad epochs dropped\n"
     ]
    },
    {
     "name": "stderr",
     "output_type": "stream",
     "text": [
      "/home1/john/Downloads/cmlreaders-master/cmlreaders/path_finder.py:239: MultiplePathsFoundWarning: Multiple files found: /protocols/r1/subjects/R1172E/localizations/0/montages/0/neuroradiology/current_processed/pairs.json\n",
      "/data/eeg/R1172E/tal/R1172E_talLocs_database_bipol.mat returning the first file found\n",
      "  warnings.warn(msg, MultiplePathsFoundWarning)\n",
      "/home1/john/anaconda3/envs/env1/lib/python3.7/site-packages/ptsa/data/readers/tal.py:43: FutureWarning: Lab-specific readers may be moved to the cmlreaders package (https://github.com/pennmem/cmlreaders)\n",
      "  FutureWarning)\n",
      "/home1/john/Downloads/cmlreaders-master/cmlreaders/path_finder.py:239: MultiplePathsFoundWarning: Multiple files found: /protocols/r1/subjects/R1172E/experiments/FR1/sessions/1/ephys/current_processed/sources.json\n",
      "/data/eeg/R1172E/eeg.noreref/R1172E_FR1_1_10May16_2028.params.txt\n",
      "/data/eeg/R1172E/eeg.noreref/params.txt returning the first file found\n",
      "  warnings.warn(msg, MultiplePathsFoundWarning)\n"
     ]
    },
    {
     "name": "stdout",
     "output_type": "stream",
     "text": [
      "loaded eeg for R1172E1\n",
      "getting PTSA\n",
      "40 matching events found\n",
      "No baseline correction applied\n",
      "Not setting metadata\n",
      "0 projection items activated\n",
      "0 bad epochs dropped\n"
     ]
    },
    {
     "name": "stderr",
     "output_type": "stream",
     "text": [
      "/home1/john/Downloads/cmlreaders-master/cmlreaders/path_finder.py:239: MultiplePathsFoundWarning: Multiple files found: /protocols/r1/subjects/R1172E/localizations/0/montages/0/neuroradiology/current_processed/pairs.json\n",
      "/data/eeg/R1172E/tal/R1172E_talLocs_database_bipol.mat returning the first file found\n",
      "  warnings.warn(msg, MultiplePathsFoundWarning)\n",
      "/home1/john/anaconda3/envs/env1/lib/python3.7/site-packages/ptsa/data/readers/tal.py:43: FutureWarning: Lab-specific readers may be moved to the cmlreaders package (https://github.com/pennmem/cmlreaders)\n",
      "  FutureWarning)\n",
      "/home1/john/Downloads/cmlreaders-master/cmlreaders/path_finder.py:239: MultiplePathsFoundWarning: Multiple files found: /protocols/r1/subjects/R1172E/experiments/FR1/sessions/2/ephys/current_processed/sources.json\n",
      "/data/eeg/R1172E/eeg.noreref/params.txt returning the first file found\n",
      "  warnings.warn(msg, MultiplePathsFoundWarning)\n"
     ]
    },
    {
     "name": "stdout",
     "output_type": "stream",
     "text": [
      "loaded eeg for R1172E2\n",
      "getting PTSA\n",
      "43 matching events found\n",
      "No baseline correction applied\n",
      "Not setting metadata\n",
      "0 projection items activated\n",
      "0 bad epochs dropped\n"
     ]
    },
    {
     "name": "stderr",
     "output_type": "stream",
     "text": [
      "/home1/john/Downloads/cmlreaders-master/cmlreaders/path_finder.py:239: MultiplePathsFoundWarning: Multiple files found: /protocols/r1/subjects/R1173J/localizations/0/montages/0/neuroradiology/current_processed/pairs.json\n",
      "/data/eeg/R1173J/tal/R1173J_talLocs_database_bipol.mat returning the first file found\n",
      "  warnings.warn(msg, MultiplePathsFoundWarning)\n",
      "/home1/john/anaconda3/envs/env1/lib/python3.7/site-packages/ptsa/data/readers/tal.py:43: FutureWarning: Lab-specific readers may be moved to the cmlreaders package (https://github.com/pennmem/cmlreaders)\n",
      "  FutureWarning)\n",
      "/home1/john/Downloads/cmlreaders-master/cmlreaders/path_finder.py:239: MultiplePathsFoundWarning: Multiple files found: /protocols/r1/subjects/R1173J/experiments/FR1/sessions/0/ephys/current_processed/sources.json\n",
      "/data/eeg/R1173J/eeg.noreref/R1173J_FR1_0_12May16_1828.params.txt\n",
      "/data/eeg/R1173J/eeg.noreref/params.txt returning the first file found\n",
      "  warnings.warn(msg, MultiplePathsFoundWarning)\n"
     ]
    },
    {
     "name": "stdout",
     "output_type": "stream",
     "text": [
      "loaded eeg for R1173J0\n",
      "getting PTSA\n",
      "61 matching events found\n",
      "No baseline correction applied\n",
      "Not setting metadata\n",
      "0 projection items activated\n",
      "0 bad epochs dropped\n"
     ]
    },
    {
     "name": "stderr",
     "output_type": "stream",
     "text": [
      "/home1/john/Downloads/cmlreaders-master/cmlreaders/path_finder.py:239: MultiplePathsFoundWarning: Multiple files found: /protocols/r1/subjects/R1173J/localizations/0/montages/0/neuroradiology/current_processed/pairs.json\n",
      "/data/eeg/R1173J/tal/R1173J_talLocs_database_bipol.mat returning the first file found\n",
      "  warnings.warn(msg, MultiplePathsFoundWarning)\n",
      "/home1/john/anaconda3/envs/env1/lib/python3.7/site-packages/ptsa/data/readers/tal.py:43: FutureWarning: Lab-specific readers may be moved to the cmlreaders package (https://github.com/pennmem/cmlreaders)\n",
      "  FutureWarning)\n",
      "/home1/john/Downloads/cmlreaders-master/cmlreaders/path_finder.py:239: MultiplePathsFoundWarning: Multiple files found: /protocols/r1/subjects/R1173J/experiments/FR1/sessions/1/ephys/current_processed/sources.json\n",
      "/data/eeg/R1173J/eeg.noreref/R1173J_FR1_1_15May16_1608.params.txt\n",
      "/data/eeg/R1173J/eeg.noreref/params.txt returning the first file found\n",
      "  warnings.warn(msg, MultiplePathsFoundWarning)\n"
     ]
    },
    {
     "name": "stdout",
     "output_type": "stream",
     "text": [
      "loaded eeg for R1173J1\n",
      "getting PTSA\n",
      "62 matching events found\n",
      "No baseline correction applied\n",
      "Not setting metadata\n",
      "0 projection items activated\n",
      "0 bad epochs dropped\n"
     ]
    },
    {
     "name": "stderr",
     "output_type": "stream",
     "text": [
      "/home1/john/Downloads/cmlreaders-master/cmlreaders/path_finder.py:239: MultiplePathsFoundWarning: Multiple files found: /protocols/r1/subjects/R1174T/localizations/0/montages/0/neuroradiology/current_processed/pairs.json\n",
      "/data/eeg/R1174T/tal/R1174T_talLocs_database_bipol.mat returning the first file found\n",
      "  warnings.warn(msg, MultiplePathsFoundWarning)\n",
      "/home1/john/anaconda3/envs/env1/lib/python3.7/site-packages/ptsa/data/readers/tal.py:43: FutureWarning: Lab-specific readers may be moved to the cmlreaders package (https://github.com/pennmem/cmlreaders)\n",
      "  FutureWarning)\n",
      "/home1/john/Downloads/cmlreaders-master/cmlreaders/path_finder.py:239: MultiplePathsFoundWarning: Multiple files found: /protocols/r1/subjects/R1174T/experiments/FR1/sessions/0/ephys/current_processed/sources.json\n",
      "/data/eeg/R1174T/eeg.noreref/R1174T_FR1_0_13May16_1501.params.txt\n",
      "/data/eeg/R1174T/eeg.noreref/params.txt returning the first file found\n",
      "  warnings.warn(msg, MultiplePathsFoundWarning)\n"
     ]
    },
    {
     "name": "stdout",
     "output_type": "stream",
     "text": [
      "loaded eeg for R1174T0\n",
      "getting PTSA\n",
      "28 matching events found\n",
      "No baseline correction applied\n",
      "Not setting metadata\n",
      "0 projection items activated\n",
      "0 bad epochs dropped\n"
     ]
    },
    {
     "name": "stderr",
     "output_type": "stream",
     "text": [
      "/home1/john/Downloads/cmlreaders-master/cmlreaders/path_finder.py:239: MultiplePathsFoundWarning: Multiple files found: /protocols/r1/subjects/R1174T/localizations/0/montages/0/neuroradiology/current_processed/pairs.json\n",
      "/data/eeg/R1174T/tal/R1174T_talLocs_database_bipol.mat returning the first file found\n",
      "  warnings.warn(msg, MultiplePathsFoundWarning)\n",
      "/home1/john/anaconda3/envs/env1/lib/python3.7/site-packages/ptsa/data/readers/tal.py:43: FutureWarning: Lab-specific readers may be moved to the cmlreaders package (https://github.com/pennmem/cmlreaders)\n",
      "  FutureWarning)\n",
      "/home1/john/Downloads/cmlreaders-master/cmlreaders/path_finder.py:239: MultiplePathsFoundWarning: Multiple files found: /protocols/r1/subjects/R1174T/experiments/FR1/sessions/1/ephys/current_processed/sources.json\n",
      "/data/eeg/R1174T/eeg.noreref/R1174T_FR1_1_13May16_1908.params.txt\n",
      "/data/eeg/R1174T/eeg.noreref/params.txt returning the first file found\n",
      "  warnings.warn(msg, MultiplePathsFoundWarning)\n"
     ]
    },
    {
     "name": "stdout",
     "output_type": "stream",
     "text": [
      "loaded eeg for R1174T1\n",
      "getting PTSA\n",
      "54 matching events found\n",
      "No baseline correction applied\n",
      "Not setting metadata\n",
      "0 projection items activated\n",
      "0 bad epochs dropped\n"
     ]
    },
    {
     "name": "stderr",
     "output_type": "stream",
     "text": [
      "/home1/john/Downloads/cmlreaders-master/cmlreaders/path_finder.py:239: MultiplePathsFoundWarning: Multiple files found: /protocols/r1/subjects/R1175N/localizations/0/montages/0/neuroradiology/current_processed/pairs.json\n",
      "/data/eeg/R1175N/tal/R1175N_talLocs_database_bipol.mat returning the first file found\n",
      "  warnings.warn(msg, MultiplePathsFoundWarning)\n",
      "/home1/john/anaconda3/envs/env1/lib/python3.7/site-packages/ptsa/data/readers/tal.py:43: FutureWarning: Lab-specific readers may be moved to the cmlreaders package (https://github.com/pennmem/cmlreaders)\n",
      "  FutureWarning)\n",
      "/home1/john/Downloads/cmlreaders-master/cmlreaders/path_finder.py:239: MultiplePathsFoundWarning: Multiple files found: /protocols/r1/subjects/R1175N/experiments/FR1/sessions/0/ephys/current_processed/sources.json\n",
      "/data/eeg/R1175N/eeg.noreref/R1175N_FR1_0_19May16_1858.params.txt\n",
      "/data/eeg/R1175N/eeg.noreref/params.txt returning the first file found\n",
      "  warnings.warn(msg, MultiplePathsFoundWarning)\n"
     ]
    },
    {
     "name": "stdout",
     "output_type": "stream",
     "text": [
      "loaded eeg for R1175N0\n",
      "getting PTSA\n",
      "33 matching events found\n",
      "No baseline correction applied\n",
      "Not setting metadata\n",
      "0 projection items activated\n",
      "0 bad epochs dropped\n"
     ]
    },
    {
     "name": "stderr",
     "output_type": "stream",
     "text": [
      "/home1/john/Downloads/cmlreaders-master/cmlreaders/path_finder.py:239: MultiplePathsFoundWarning: Multiple files found: /protocols/r1/subjects/R1176M/localizations/0/montages/0/neuroradiology/current_processed/pairs.json\n",
      "/data/eeg/R1176M/tal/R1176M_talLocs_database_bipol.mat returning the first file found\n",
      "  warnings.warn(msg, MultiplePathsFoundWarning)\n",
      "/home1/john/anaconda3/envs/env1/lib/python3.7/site-packages/ptsa/data/readers/tal.py:43: FutureWarning: Lab-specific readers may be moved to the cmlreaders package (https://github.com/pennmem/cmlreaders)\n",
      "  FutureWarning)\n",
      "/home1/john/Downloads/cmlreaders-master/cmlreaders/path_finder.py:239: MultiplePathsFoundWarning: Multiple files found: /protocols/r1/subjects/R1176M/experiments/FR1/sessions/0/ephys/current_processed/sources.json\n",
      "/data/eeg/R1176M/eeg.noreref/R1176M_FR1_0_20May16_1715.params.txt\n",
      "/data/eeg/R1176M/eeg.noreref/params.txt returning the first file found\n",
      "  warnings.warn(msg, MultiplePathsFoundWarning)\n"
     ]
    },
    {
     "name": "stdout",
     "output_type": "stream",
     "text": [
      "loaded eeg for R1176M0\n",
      "getting PTSA\n",
      "55 matching events found\n",
      "No baseline correction applied\n",
      "Not setting metadata\n",
      "0 projection items activated\n",
      "0 bad epochs dropped\n"
     ]
    },
    {
     "name": "stderr",
     "output_type": "stream",
     "text": [
      "/home1/john/Downloads/cmlreaders-master/cmlreaders/path_finder.py:239: MultiplePathsFoundWarning: Multiple files found: /protocols/r1/subjects/R1177M/localizations/0/montages/0/neuroradiology/current_processed/pairs.json\n",
      "/data/eeg/R1177M/tal/R1177M_talLocs_database_bipol.mat returning the first file found\n",
      "  warnings.warn(msg, MultiplePathsFoundWarning)\n",
      "/home1/john/anaconda3/envs/env1/lib/python3.7/site-packages/ptsa/data/readers/tal.py:43: FutureWarning: Lab-specific readers may be moved to the cmlreaders package (https://github.com/pennmem/cmlreaders)\n",
      "  FutureWarning)\n",
      "/home1/john/Downloads/cmlreaders-master/cmlreaders/path_finder.py:239: MultiplePathsFoundWarning: Multiple files found: /protocols/r1/subjects/R1177M/experiments/FR1/sessions/0/ephys/current_processed/sources.json\n",
      "/data/eeg/R1177M/eeg.noreref/R1177M_FR1_0_25May16_1012.params.txt\n",
      "/data/eeg/R1177M/eeg.noreref/params.txt returning the first file found\n",
      "  warnings.warn(msg, MultiplePathsFoundWarning)\n"
     ]
    },
    {
     "name": "stdout",
     "output_type": "stream",
     "text": [
      "loaded eeg for R1177M0\n",
      "getting PTSA\n",
      "49 matching events found\n",
      "No baseline correction applied\n",
      "Not setting metadata\n",
      "0 projection items activated\n",
      "0 bad epochs dropped\n"
     ]
    },
    {
     "name": "stderr",
     "output_type": "stream",
     "text": [
      "/home1/john/Downloads/cmlreaders-master/cmlreaders/path_finder.py:239: MultiplePathsFoundWarning: Multiple files found: /protocols/r1/subjects/R1177M/localizations/0/montages/0/neuroradiology/current_processed/pairs.json\n",
      "/data/eeg/R1177M/tal/R1177M_talLocs_database_bipol.mat returning the first file found\n",
      "  warnings.warn(msg, MultiplePathsFoundWarning)\n",
      "/home1/john/anaconda3/envs/env1/lib/python3.7/site-packages/ptsa/data/readers/tal.py:43: FutureWarning: Lab-specific readers may be moved to the cmlreaders package (https://github.com/pennmem/cmlreaders)\n",
      "  FutureWarning)\n",
      "/home1/john/Downloads/cmlreaders-master/cmlreaders/path_finder.py:239: MultiplePathsFoundWarning: Multiple files found: /protocols/r1/subjects/R1177M/experiments/FR1/sessions/1/ephys/current_processed/sources.json\n",
      "/data/eeg/R1177M/eeg.noreref/R1177M_FR1_1_26May16_1148.params.txt\n",
      "/data/eeg/R1177M/eeg.noreref/params.txt returning the first file found\n",
      "  warnings.warn(msg, MultiplePathsFoundWarning)\n"
     ]
    },
    {
     "name": "stdout",
     "output_type": "stream",
     "text": [
      "loaded eeg for R1177M1\n",
      "getting PTSA\n",
      "15 matching events found\n",
      "No baseline correction applied\n",
      "Not setting metadata\n",
      "0 projection items activated\n",
      "0 bad epochs dropped\n"
     ]
    },
    {
     "name": "stderr",
     "output_type": "stream",
     "text": [
      "/home1/john/Downloads/cmlreaders-master/cmlreaders/path_finder.py:239: MultiplePathsFoundWarning: Multiple files found: /protocols/r1/subjects/R1178P/localizations/0/montages/0/neuroradiology/current_processed/pairs.json\n",
      "/data/eeg/R1178P/tal/R1178P_talLocs_database_bipol.mat returning the first file found\n",
      "  warnings.warn(msg, MultiplePathsFoundWarning)\n",
      "/home1/john/anaconda3/envs/env1/lib/python3.7/site-packages/ptsa/data/readers/tal.py:43: FutureWarning: Lab-specific readers may be moved to the cmlreaders package (https://github.com/pennmem/cmlreaders)\n",
      "  FutureWarning)\n",
      "/home1/john/Downloads/cmlreaders-master/cmlreaders/path_finder.py:239: MultiplePathsFoundWarning: Multiple files found: /protocols/r1/subjects/R1178P/experiments/FR1/sessions/0/ephys/current_processed/sources.json\n",
      "/data/eeg/R1178P/eeg.noreref/R1178P_FR1_0_29May16_1802.params.txt\n",
      "/data/eeg/R1178P/eeg.noreref/params.txt returning the first file found\n",
      "  warnings.warn(msg, MultiplePathsFoundWarning)\n"
     ]
    },
    {
     "name": "stdout",
     "output_type": "stream",
     "text": [
      "loaded eeg for R1178P0\n",
      "getting PTSA\n",
      "8 matching events found\n",
      "No baseline correction applied\n",
      "Not setting metadata\n",
      "0 projection items activated\n",
      "0 bad epochs dropped\n"
     ]
    },
    {
     "name": "stderr",
     "output_type": "stream",
     "text": [
      "/home1/john/Downloads/cmlreaders-master/cmlreaders/path_finder.py:239: MultiplePathsFoundWarning: Multiple files found: /protocols/r1/subjects/R1178P/localizations/0/montages/0/neuroradiology/current_processed/pairs.json\n",
      "/data/eeg/R1178P/tal/R1178P_talLocs_database_bipol.mat returning the first file found\n",
      "  warnings.warn(msg, MultiplePathsFoundWarning)\n",
      "/home1/john/anaconda3/envs/env1/lib/python3.7/site-packages/ptsa/data/readers/tal.py:43: FutureWarning: Lab-specific readers may be moved to the cmlreaders package (https://github.com/pennmem/cmlreaders)\n",
      "  FutureWarning)\n",
      "/home1/john/Downloads/cmlreaders-master/cmlreaders/path_finder.py:239: MultiplePathsFoundWarning: Multiple files found: /protocols/r1/subjects/R1178P/experiments/FR1/sessions/1/ephys/current_processed/sources.json\n",
      "/data/eeg/R1178P/eeg.noreref/R1178P_FR1_1_30May16_1727.params.txt\n",
      "/data/eeg/R1178P/eeg.noreref/params.txt returning the first file found\n",
      "  warnings.warn(msg, MultiplePathsFoundWarning)\n"
     ]
    },
    {
     "name": "stdout",
     "output_type": "stream",
     "text": [
      "loaded eeg for R1178P1\n",
      "getting PTSA\n",
      "36 matching events found\n",
      "No baseline correction applied\n",
      "Not setting metadata\n",
      "0 projection items activated\n",
      "0 bad epochs dropped\n"
     ]
    },
    {
     "name": "stderr",
     "output_type": "stream",
     "text": [
      "/home1/john/Downloads/cmlreaders-master/cmlreaders/path_finder.py:239: MultiplePathsFoundWarning: Multiple files found: /protocols/r1/subjects/R1184M/localizations/0/montages/0/neuroradiology/current_processed/pairs.json\n",
      "/data/eeg/R1184M/tal/R1184M_talLocs_database_bipol.mat returning the first file found\n",
      "  warnings.warn(msg, MultiplePathsFoundWarning)\n",
      "/home1/john/anaconda3/envs/env1/lib/python3.7/site-packages/ptsa/data/readers/tal.py:43: FutureWarning: Lab-specific readers may be moved to the cmlreaders package (https://github.com/pennmem/cmlreaders)\n",
      "  FutureWarning)\n",
      "/home1/john/Downloads/cmlreaders-master/cmlreaders/path_finder.py:239: MultiplePathsFoundWarning: Multiple files found: /protocols/r1/subjects/R1184M/experiments/FR1/sessions/0/ephys/current_processed/sources.json\n",
      "/data/eeg/R1184M/eeg.noreref/R1184M_FR1_0_11Jun16_1535.params.txt\n",
      "/data/eeg/R1184M/eeg.noreref/params.txt returning the first file found\n",
      "  warnings.warn(msg, MultiplePathsFoundWarning)\n"
     ]
    },
    {
     "name": "stdout",
     "output_type": "stream",
     "text": [
      "loaded eeg for R1184M0\n",
      "getting PTSA\n",
      "33 matching events found\n",
      "No baseline correction applied\n",
      "Not setting metadata\n",
      "0 projection items activated\n",
      "0 bad epochs dropped\n"
     ]
    },
    {
     "name": "stderr",
     "output_type": "stream",
     "text": [
      "/home1/john/Downloads/cmlreaders-master/cmlreaders/path_finder.py:239: MultiplePathsFoundWarning: Multiple files found: /protocols/r1/subjects/R1185N/localizations/1/montages/1/neuroradiology/current_processed/pairs.json\n",
      "/data/eeg/R1185N_1/tal/R1185N_1_talLocs_database_bipol.mat returning the first file found\n",
      "  warnings.warn(msg, MultiplePathsFoundWarning)\n",
      "/home1/john/Downloads/cmlreaders-master/cmlreaders/readers/electrodes.py:236: MissingCoordinatesWarning: Could not load MNI coordinates\n",
      "  \"Could not load MNI coordinates\"))\n",
      "/home1/john/anaconda3/envs/env1/lib/python3.7/site-packages/ptsa/data/readers/tal.py:43: FutureWarning: Lab-specific readers may be moved to the cmlreaders package (https://github.com/pennmem/cmlreaders)\n",
      "  FutureWarning)\n",
      "/home1/john/Downloads/cmlreaders-master/cmlreaders/path_finder.py:239: MultiplePathsFoundWarning: Multiple files found: /protocols/r1/subjects/R1185N/experiments/FR1/sessions/0/ephys/current_processed/sources.json\n",
      "/data/eeg/R1185N/eeg.noreref/params.txt returning the first file found\n",
      "  warnings.warn(msg, MultiplePathsFoundWarning)\n"
     ]
    },
    {
     "name": "stdout",
     "output_type": "stream",
     "text": [
      "loaded eeg for R1185N0\n",
      "getting PTSA\n",
      "30 matching events found\n",
      "No baseline correction applied\n",
      "Not setting metadata\n",
      "0 projection items activated\n",
      "0 bad epochs dropped\n"
     ]
    },
    {
     "name": "stderr",
     "output_type": "stream",
     "text": [
      "/home1/john/Downloads/cmlreaders-master/cmlreaders/path_finder.py:239: MultiplePathsFoundWarning: Multiple files found: /protocols/r1/subjects/R1186P/localizations/0/montages/0/neuroradiology/current_processed/pairs.json\n",
      "/data/eeg/R1186P/tal/R1186P_talLocs_database_bipol.mat returning the first file found\n",
      "  warnings.warn(msg, MultiplePathsFoundWarning)\n",
      "/home1/john/Downloads/cmlreaders-master/cmlreaders/readers/electrodes.py:236: MissingCoordinatesWarning: Could not load MNI coordinates\n",
      "  \"Could not load MNI coordinates\"))\n",
      "/home1/john/anaconda3/envs/env1/lib/python3.7/site-packages/ptsa/data/readers/tal.py:43: FutureWarning: Lab-specific readers may be moved to the cmlreaders package (https://github.com/pennmem/cmlreaders)\n",
      "  FutureWarning)\n",
      "/home1/john/Downloads/cmlreaders-master/cmlreaders/path_finder.py:239: MultiplePathsFoundWarning: Multiple files found: /protocols/r1/subjects/R1186P/experiments/FR1/sessions/0/ephys/current_processed/sources.json\n",
      "/data/eeg/R1186P/eeg.noreref/R1186P_FR1_0_13Jun16_2015.params.txt\n",
      "/data/eeg/R1186P/eeg.noreref/params.txt returning the first file found\n",
      "  warnings.warn(msg, MultiplePathsFoundWarning)\n"
     ]
    },
    {
     "name": "stdout",
     "output_type": "stream",
     "text": [
      "loaded eeg for R1186P0\n",
      "getting PTSA\n",
      "5 matching events found\n",
      "No baseline correction applied\n",
      "Not setting metadata\n",
      "0 projection items activated\n",
      "0 bad epochs dropped\n"
     ]
    },
    {
     "name": "stderr",
     "output_type": "stream",
     "text": [
      "/home1/john/Downloads/cmlreaders-master/cmlreaders/path_finder.py:239: MultiplePathsFoundWarning: Multiple files found: /protocols/r1/subjects/R1187P/localizations/0/montages/0/neuroradiology/current_processed/pairs.json\n",
      "/data/eeg/R1187P/tal/R1187P_talLocs_database_bipol.mat returning the first file found\n",
      "  warnings.warn(msg, MultiplePathsFoundWarning)\n",
      "/home1/john/Downloads/cmlreaders-master/cmlreaders/readers/electrodes.py:236: MissingCoordinatesWarning: Could not load MNI coordinates\n",
      "  \"Could not load MNI coordinates\"))\n",
      "/home1/john/anaconda3/envs/env1/lib/python3.7/site-packages/ptsa/data/readers/tal.py:43: FutureWarning: Lab-specific readers may be moved to the cmlreaders package (https://github.com/pennmem/cmlreaders)\n",
      "  FutureWarning)\n",
      "/home1/john/Downloads/cmlreaders-master/cmlreaders/path_finder.py:239: MultiplePathsFoundWarning: Multiple files found: /protocols/r1/subjects/R1187P/experiments/FR1/sessions/0/ephys/current_processed/sources.json\n",
      "/data/eeg/R1187P/eeg.noreref/R1187P_FR1_0_26Jun16_1410.params.txt\n",
      "/data/eeg/R1187P/eeg.noreref/params.txt returning the first file found\n",
      "  warnings.warn(msg, MultiplePathsFoundWarning)\n"
     ]
    },
    {
     "name": "stdout",
     "output_type": "stream",
     "text": [
      "loaded eeg for R1187P0\n",
      "getting PTSA\n",
      "25 matching events found\n",
      "No baseline correction applied\n",
      "Not setting metadata\n",
      "0 projection items activated\n",
      "0 bad epochs dropped\n"
     ]
    },
    {
     "name": "stderr",
     "output_type": "stream",
     "text": [
      "/home1/john/Downloads/cmlreaders-master/cmlreaders/path_finder.py:239: MultiplePathsFoundWarning: Multiple files found: /protocols/r1/subjects/R1187P/localizations/0/montages/0/neuroradiology/current_processed/pairs.json\n",
      "/data/eeg/R1187P/tal/R1187P_talLocs_database_bipol.mat returning the first file found\n",
      "  warnings.warn(msg, MultiplePathsFoundWarning)\n",
      "/home1/john/Downloads/cmlreaders-master/cmlreaders/readers/electrodes.py:236: MissingCoordinatesWarning: Could not load MNI coordinates\n",
      "  \"Could not load MNI coordinates\"))\n",
      "/home1/john/anaconda3/envs/env1/lib/python3.7/site-packages/ptsa/data/readers/tal.py:43: FutureWarning: Lab-specific readers may be moved to the cmlreaders package (https://github.com/pennmem/cmlreaders)\n",
      "  FutureWarning)\n",
      "/home1/john/Downloads/cmlreaders-master/cmlreaders/path_finder.py:239: MultiplePathsFoundWarning: Multiple files found: /protocols/r1/subjects/R1187P/experiments/FR1/sessions/1/ephys/current_processed/sources.json\n",
      "/data/eeg/R1187P/eeg.noreref/R1187P_FR1_1_28Jun16_2058.params.txt\n",
      "/data/eeg/R1187P/eeg.noreref/params.txt returning the first file found\n",
      "  warnings.warn(msg, MultiplePathsFoundWarning)\n"
     ]
    },
    {
     "name": "stdout",
     "output_type": "stream",
     "text": [
      "loaded eeg for R1187P1\n",
      "getting PTSA\n",
      "10 matching events found\n",
      "No baseline correction applied\n",
      "Not setting metadata\n",
      "0 projection items activated\n",
      "0 bad epochs dropped\n"
     ]
    },
    {
     "name": "stderr",
     "output_type": "stream",
     "text": [
      "/home1/john/Downloads/cmlreaders-master/cmlreaders/path_finder.py:239: MultiplePathsFoundWarning: Multiple files found: /protocols/r1/subjects/R1189M/localizations/0/montages/0/neuroradiology/current_processed/pairs.json\n",
      "/data/eeg/R1189M/tal/R1189M_talLocs_database_bipol.mat returning the first file found\n",
      "  warnings.warn(msg, MultiplePathsFoundWarning)\n",
      "/home1/john/anaconda3/envs/env1/lib/python3.7/site-packages/ptsa/data/readers/tal.py:43: FutureWarning: Lab-specific readers may be moved to the cmlreaders package (https://github.com/pennmem/cmlreaders)\n",
      "  FutureWarning)\n",
      "/home1/john/Downloads/cmlreaders-master/cmlreaders/path_finder.py:239: MultiplePathsFoundWarning: Multiple files found: /protocols/r1/subjects/R1189M/experiments/FR1/sessions/0/ephys/current_processed/sources.json\n",
      "/data/eeg/R1189M/eeg.noreref/R1189M_FR1_0_26Jul16_1522.params.txt\n",
      "/data/eeg/R1189M/eeg.noreref/params.txt returning the first file found\n",
      "  warnings.warn(msg, MultiplePathsFoundWarning)\n"
     ]
    },
    {
     "name": "stdout",
     "output_type": "stream",
     "text": [
      "loaded eeg for R1189M0\n",
      "getting PTSA\n",
      "74 matching events found\n",
      "No baseline correction applied\n",
      "Not setting metadata\n",
      "0 projection items activated\n",
      "0 bad epochs dropped\n"
     ]
    },
    {
     "name": "stderr",
     "output_type": "stream",
     "text": [
      "/home1/john/Downloads/cmlreaders-master/cmlreaders/path_finder.py:239: MultiplePathsFoundWarning: Multiple files found: /protocols/r1/subjects/R1189M/localizations/0/montages/0/neuroradiology/current_processed/pairs.json\n",
      "/data/eeg/R1189M/tal/R1189M_talLocs_database_bipol.mat returning the first file found\n",
      "  warnings.warn(msg, MultiplePathsFoundWarning)\n",
      "/home1/john/anaconda3/envs/env1/lib/python3.7/site-packages/ptsa/data/readers/tal.py:43: FutureWarning: Lab-specific readers may be moved to the cmlreaders package (https://github.com/pennmem/cmlreaders)\n",
      "  FutureWarning)\n",
      "/home1/john/Downloads/cmlreaders-master/cmlreaders/path_finder.py:239: MultiplePathsFoundWarning: Multiple files found: /protocols/r1/subjects/R1189M/experiments/FR1/sessions/1/ephys/current_processed/sources.json\n",
      "/data/eeg/R1189M/eeg.noreref/R1189M_FR1_1_27Jul16_1429.params.txt\n",
      "/data/eeg/R1189M/eeg.noreref/params.txt returning the first file found\n",
      "  warnings.warn(msg, MultiplePathsFoundWarning)\n"
     ]
    },
    {
     "name": "stdout",
     "output_type": "stream",
     "text": [
      "loaded eeg for R1189M1\n",
      "getting PTSA\n",
      "44 matching events found\n",
      "No baseline correction applied\n",
      "Not setting metadata\n",
      "0 projection items activated\n",
      "0 bad epochs dropped\n"
     ]
    },
    {
     "name": "stderr",
     "output_type": "stream",
     "text": [
      "/home1/john/Downloads/cmlreaders-master/cmlreaders/path_finder.py:239: MultiplePathsFoundWarning: Multiple files found: /protocols/r1/subjects/R1189M/localizations/0/montages/0/neuroradiology/current_processed/pairs.json\n",
      "/data/eeg/R1189M/tal/R1189M_talLocs_database_bipol.mat returning the first file found\n",
      "  warnings.warn(msg, MultiplePathsFoundWarning)\n",
      "/home1/john/anaconda3/envs/env1/lib/python3.7/site-packages/ptsa/data/readers/tal.py:43: FutureWarning: Lab-specific readers may be moved to the cmlreaders package (https://github.com/pennmem/cmlreaders)\n",
      "  FutureWarning)\n",
      "/home1/john/Downloads/cmlreaders-master/cmlreaders/path_finder.py:239: MultiplePathsFoundWarning: Multiple files found: /protocols/r1/subjects/R1189M/experiments/FR1/sessions/2/ephys/current_processed/sources.json\n",
      "/data/eeg/R1189M/eeg.noreref/R1189M_FR1_2_28Jul16_1651.params.txt\n",
      "/data/eeg/R1189M/eeg.noreref/params.txt returning the first file found\n",
      "  warnings.warn(msg, MultiplePathsFoundWarning)\n"
     ]
    },
    {
     "name": "stdout",
     "output_type": "stream",
     "text": [
      "loaded eeg for R1189M2\n",
      "getting PTSA\n",
      "79 matching events found\n",
      "No baseline correction applied\n",
      "Not setting metadata\n",
      "0 projection items activated\n",
      "0 bad epochs dropped\n"
     ]
    },
    {
     "name": "stderr",
     "output_type": "stream",
     "text": [
      "/home1/john/Downloads/cmlreaders-master/cmlreaders/path_finder.py:239: MultiplePathsFoundWarning: Multiple files found: /protocols/r1/subjects/R1191J/localizations/0/montages/0/neuroradiology/current_processed/pairs.json\n",
      "/data/eeg/R1191J/tal/R1191J_talLocs_database_bipol.mat returning the first file found\n",
      "  warnings.warn(msg, MultiplePathsFoundWarning)\n",
      "/home1/john/Downloads/cmlreaders-master/cmlreaders/readers/electrodes.py:236: MissingCoordinatesWarning: Could not load MNI coordinates\n",
      "  \"Could not load MNI coordinates\"))\n",
      "/home1/john/anaconda3/envs/env1/lib/python3.7/site-packages/ptsa/data/readers/tal.py:43: FutureWarning: Lab-specific readers may be moved to the cmlreaders package (https://github.com/pennmem/cmlreaders)\n",
      "  FutureWarning)\n",
      "/home1/john/Downloads/cmlreaders-master/cmlreaders/path_finder.py:239: MultiplePathsFoundWarning: Multiple files found: /protocols/r1/subjects/R1191J/experiments/FR1/sessions/0/ephys/current_processed/sources.json\n",
      "/data/eeg/R1191J/eeg.noreref/R1191J_FR1_0_21Jun16_1416.params.txt\n",
      "/data/eeg/R1191J/eeg.noreref/params.txt returning the first file found\n",
      "  warnings.warn(msg, MultiplePathsFoundWarning)\n"
     ]
    },
    {
     "name": "stdout",
     "output_type": "stream",
     "text": [
      "loaded eeg for R1191J0\n",
      "getting PTSA\n",
      "20 matching events found\n",
      "No baseline correction applied\n",
      "Not setting metadata\n",
      "0 projection items activated\n",
      "0 bad epochs dropped\n"
     ]
    },
    {
     "name": "stderr",
     "output_type": "stream",
     "text": [
      "/home1/john/Downloads/cmlreaders-master/cmlreaders/path_finder.py:239: MultiplePathsFoundWarning: Multiple files found: /protocols/r1/subjects/R1191J/localizations/0/montages/0/neuroradiology/current_processed/pairs.json\n",
      "/data/eeg/R1191J/tal/R1191J_talLocs_database_bipol.mat returning the first file found\n",
      "  warnings.warn(msg, MultiplePathsFoundWarning)\n",
      "/home1/john/Downloads/cmlreaders-master/cmlreaders/readers/electrodes.py:236: MissingCoordinatesWarning: Could not load MNI coordinates\n",
      "  \"Could not load MNI coordinates\"))\n",
      "/home1/john/anaconda3/envs/env1/lib/python3.7/site-packages/ptsa/data/readers/tal.py:43: FutureWarning: Lab-specific readers may be moved to the cmlreaders package (https://github.com/pennmem/cmlreaders)\n",
      "  FutureWarning)\n",
      "/home1/john/Downloads/cmlreaders-master/cmlreaders/path_finder.py:239: MultiplePathsFoundWarning: Multiple files found: /protocols/r1/subjects/R1191J/experiments/FR1/sessions/1/ephys/current_processed/sources.json\n",
      "/data/eeg/R1191J/eeg.noreref/R1191J_FR1_1_24Jun16_1420.params.txt\n",
      "/data/eeg/R1191J/eeg.noreref/params.txt returning the first file found\n",
      "  warnings.warn(msg, MultiplePathsFoundWarning)\n"
     ]
    },
    {
     "name": "stdout",
     "output_type": "stream",
     "text": [
      "loaded eeg for R1191J1\n",
      "getting PTSA\n",
      "30 matching events found\n",
      "No baseline correction applied\n",
      "Not setting metadata\n",
      "0 projection items activated\n",
      "0 bad epochs dropped\n"
     ]
    },
    {
     "name": "stderr",
     "output_type": "stream",
     "text": [
      "/home1/john/Downloads/cmlreaders-master/cmlreaders/path_finder.py:239: MultiplePathsFoundWarning: Multiple files found: /protocols/r1/subjects/R1191J/localizations/0/montages/0/neuroradiology/current_processed/pairs.json\n",
      "/data/eeg/R1191J/tal/R1191J_talLocs_database_bipol.mat returning the first file found\n",
      "  warnings.warn(msg, MultiplePathsFoundWarning)\n",
      "/home1/john/Downloads/cmlreaders-master/cmlreaders/readers/electrodes.py:236: MissingCoordinatesWarning: Could not load MNI coordinates\n",
      "  \"Could not load MNI coordinates\"))\n",
      "/home1/john/anaconda3/envs/env1/lib/python3.7/site-packages/ptsa/data/readers/tal.py:43: FutureWarning: Lab-specific readers may be moved to the cmlreaders package (https://github.com/pennmem/cmlreaders)\n",
      "  FutureWarning)\n",
      "/home1/john/Downloads/cmlreaders-master/cmlreaders/path_finder.py:239: MultiplePathsFoundWarning: Multiple files found: /protocols/r1/subjects/R1191J/experiments/FR1/sessions/2/ephys/current_processed/sources.json\n",
      "/data/eeg/R1191J/eeg.noreref/R1191J_FR1_2_26Jun16_1824.params.txt\n",
      "/data/eeg/R1191J/eeg.noreref/params.txt returning the first file found\n",
      "  warnings.warn(msg, MultiplePathsFoundWarning)\n"
     ]
    },
    {
     "name": "stdout",
     "output_type": "stream",
     "text": [
      "loaded eeg for R1191J2\n",
      "getting PTSA\n",
      "9 matching events found\n",
      "No baseline correction applied\n",
      "Not setting metadata\n",
      "0 projection items activated\n",
      "0 bad epochs dropped\n"
     ]
    },
    {
     "name": "stderr",
     "output_type": "stream",
     "text": [
      "/home1/john/Downloads/cmlreaders-master/cmlreaders/path_finder.py:239: MultiplePathsFoundWarning: Multiple files found: /protocols/r1/subjects/R1193T/localizations/0/montages/0/neuroradiology/current_processed/pairs.json\n",
      "/data/eeg/R1193T/tal/R1193T_talLocs_database_bipol.mat returning the first file found\n",
      "  warnings.warn(msg, MultiplePathsFoundWarning)\n",
      "/home1/john/anaconda3/envs/env1/lib/python3.7/site-packages/ptsa/data/readers/tal.py:43: FutureWarning: Lab-specific readers may be moved to the cmlreaders package (https://github.com/pennmem/cmlreaders)\n",
      "  FutureWarning)\n",
      "/home1/john/Downloads/cmlreaders-master/cmlreaders/path_finder.py:239: MultiplePathsFoundWarning: Multiple files found: /protocols/r1/subjects/R1193T/experiments/FR1/sessions/0/ephys/current_processed/sources.json\n",
      "/data/eeg/R1193T/eeg.noreref/R1193T_FR1_0_30Jun16_1936.params.txt\n",
      "/data/eeg/R1193T/eeg.noreref/params.txt returning the first file found\n",
      "  warnings.warn(msg, MultiplePathsFoundWarning)\n"
     ]
    },
    {
     "name": "stdout",
     "output_type": "stream",
     "text": [
      "loaded eeg for R1193T0\n",
      "getting PTSA\n",
      "21 matching events found\n",
      "No baseline correction applied\n",
      "Not setting metadata\n",
      "0 projection items activated\n",
      "0 bad epochs dropped\n"
     ]
    },
    {
     "name": "stderr",
     "output_type": "stream",
     "text": [
      "/home1/john/Downloads/cmlreaders-master/cmlreaders/path_finder.py:239: MultiplePathsFoundWarning: Multiple files found: /protocols/r1/subjects/R1193T/localizations/0/montages/0/neuroradiology/current_processed/pairs.json\n",
      "/data/eeg/R1193T/tal/R1193T_talLocs_database_bipol.mat returning the first file found\n",
      "  warnings.warn(msg, MultiplePathsFoundWarning)\n",
      "/home1/john/anaconda3/envs/env1/lib/python3.7/site-packages/ptsa/data/readers/tal.py:43: FutureWarning: Lab-specific readers may be moved to the cmlreaders package (https://github.com/pennmem/cmlreaders)\n",
      "  FutureWarning)\n",
      "/home1/john/Downloads/cmlreaders-master/cmlreaders/path_finder.py:239: MultiplePathsFoundWarning: Multiple files found: /protocols/r1/subjects/R1193T/experiments/FR1/sessions/1/ephys/current_processed/sources.json\n",
      "/data/eeg/R1193T/eeg.noreref/R1193T_FR1_1_01Jul16_1535.params.txt\n",
      "/data/eeg/R1193T/eeg.noreref/params.txt returning the first file found\n",
      "  warnings.warn(msg, MultiplePathsFoundWarning)\n"
     ]
    },
    {
     "name": "stdout",
     "output_type": "stream",
     "text": [
      "loaded eeg for R1193T1\n",
      "getting PTSA\n",
      "45 matching events found\n",
      "No baseline correction applied\n",
      "Not setting metadata\n",
      "0 projection items activated\n",
      "0 bad epochs dropped\n"
     ]
    },
    {
     "name": "stderr",
     "output_type": "stream",
     "text": [
      "/home1/john/Downloads/cmlreaders-master/cmlreaders/path_finder.py:239: MultiplePathsFoundWarning: Multiple files found: /protocols/r1/subjects/R1193T/localizations/0/montages/0/neuroradiology/current_processed/pairs.json\n",
      "/data/eeg/R1193T/tal/R1193T_talLocs_database_bipol.mat returning the first file found\n",
      "  warnings.warn(msg, MultiplePathsFoundWarning)\n",
      "/home1/john/anaconda3/envs/env1/lib/python3.7/site-packages/ptsa/data/readers/tal.py:43: FutureWarning: Lab-specific readers may be moved to the cmlreaders package (https://github.com/pennmem/cmlreaders)\n",
      "  FutureWarning)\n",
      "/home1/john/Downloads/cmlreaders-master/cmlreaders/path_finder.py:239: MultiplePathsFoundWarning: Multiple files found: /protocols/r1/subjects/R1193T/experiments/FR1/sessions/2/ephys/current_processed/sources.json\n",
      "/data/eeg/R1193T/eeg.noreref/params.txt returning the first file found\n",
      "  warnings.warn(msg, MultiplePathsFoundWarning)\n"
     ]
    },
    {
     "name": "stdout",
     "output_type": "stream",
     "text": [
      "loaded eeg for R1193T2\n",
      "getting PTSA\n",
      "28 matching events found\n",
      "No baseline correction applied\n",
      "Not setting metadata\n",
      "0 projection items activated\n",
      "0 bad epochs dropped\n"
     ]
    },
    {
     "name": "stderr",
     "output_type": "stream",
     "text": [
      "/home1/john/Downloads/cmlreaders-master/cmlreaders/path_finder.py:239: MultiplePathsFoundWarning: Multiple files found: /protocols/r1/subjects/R1195E/localizations/0/montages/0/neuroradiology/current_processed/pairs.json\n",
      "/data/eeg/R1195E/tal/R1195E_talLocs_database_bipol.mat returning the first file found\n",
      "  warnings.warn(msg, MultiplePathsFoundWarning)\n",
      "/home1/john/anaconda3/envs/env1/lib/python3.7/site-packages/ptsa/data/readers/tal.py:43: FutureWarning: Lab-specific readers may be moved to the cmlreaders package (https://github.com/pennmem/cmlreaders)\n",
      "  FutureWarning)\n",
      "/home1/john/Downloads/cmlreaders-master/cmlreaders/path_finder.py:239: MultiplePathsFoundWarning: Multiple files found: /protocols/r1/subjects/R1195E/experiments/FR1/sessions/0/ephys/current_processed/sources.json\n",
      "/data/eeg/R1195E/eeg.noreref/R1195E_FR1_0_05Jul16_2204.params.txt\n",
      "/data/eeg/R1195E/eeg.noreref/params.txt returning the first file found\n",
      "  warnings.warn(msg, MultiplePathsFoundWarning)\n"
     ]
    },
    {
     "name": "stdout",
     "output_type": "stream",
     "text": [
      "loaded eeg for R1195E0\n",
      "getting PTSA\n",
      "58 matching events found\n",
      "No baseline correction applied\n",
      "Not setting metadata\n",
      "0 projection items activated\n",
      "0 bad epochs dropped\n"
     ]
    },
    {
     "name": "stderr",
     "output_type": "stream",
     "text": [
      "/home1/john/Downloads/cmlreaders-master/cmlreaders/path_finder.py:239: MultiplePathsFoundWarning: Multiple files found: /protocols/r1/subjects/R1195E/localizations/0/montages/0/neuroradiology/current_processed/pairs.json\n",
      "/data/eeg/R1195E/tal/R1195E_talLocs_database_bipol.mat returning the first file found\n",
      "  warnings.warn(msg, MultiplePathsFoundWarning)\n",
      "/home1/john/anaconda3/envs/env1/lib/python3.7/site-packages/ptsa/data/readers/tal.py:43: FutureWarning: Lab-specific readers may be moved to the cmlreaders package (https://github.com/pennmem/cmlreaders)\n",
      "  FutureWarning)\n",
      "/home1/john/Downloads/cmlreaders-master/cmlreaders/path_finder.py:239: MultiplePathsFoundWarning: Multiple files found: /protocols/r1/subjects/R1195E/experiments/FR1/sessions/1/ephys/current_processed/sources.json\n",
      "/data/eeg/R1195E/eeg.noreref/R1195E_FR1_1_06Jul16_2156.params.txt\n",
      "/data/eeg/R1195E/eeg.noreref/params.txt returning the first file found\n",
      "  warnings.warn(msg, MultiplePathsFoundWarning)\n"
     ]
    },
    {
     "name": "stdout",
     "output_type": "stream",
     "text": [
      "loaded eeg for R1195E1\n",
      "getting PTSA\n",
      "79 matching events found\n",
      "No baseline correction applied\n",
      "Not setting metadata\n",
      "0 projection items activated\n",
      "0 bad epochs dropped\n"
     ]
    },
    {
     "name": "stderr",
     "output_type": "stream",
     "text": [
      "/home1/john/Downloads/cmlreaders-master/cmlreaders/path_finder.py:239: MultiplePathsFoundWarning: Multiple files found: /protocols/r1/subjects/R1195E/localizations/0/montages/0/neuroradiology/current_processed/pairs.json\n",
      "/data/eeg/R1195E/tal/R1195E_talLocs_database_bipol.mat returning the first file found\n",
      "  warnings.warn(msg, MultiplePathsFoundWarning)\n",
      "/home1/john/anaconda3/envs/env1/lib/python3.7/site-packages/ptsa/data/readers/tal.py:43: FutureWarning: Lab-specific readers may be moved to the cmlreaders package (https://github.com/pennmem/cmlreaders)\n",
      "  FutureWarning)\n",
      "/home1/john/Downloads/cmlreaders-master/cmlreaders/path_finder.py:239: MultiplePathsFoundWarning: Multiple files found: /protocols/r1/subjects/R1195E/experiments/FR1/sessions/2/ephys/current_processed/sources.json\n",
      "/data/eeg/R1195E/eeg.noreref/R1195E_FR1_2_07Jul16_1713.params.txt\n",
      "/data/eeg/R1195E/eeg.noreref/params.txt returning the first file found\n",
      "  warnings.warn(msg, MultiplePathsFoundWarning)\n"
     ]
    },
    {
     "name": "stdout",
     "output_type": "stream",
     "text": [
      "loaded eeg for R1195E2\n",
      "getting PTSA\n",
      "97 matching events found\n",
      "No baseline correction applied\n",
      "Not setting metadata\n",
      "0 projection items activated\n",
      "0 bad epochs dropped\n"
     ]
    },
    {
     "name": "stderr",
     "output_type": "stream",
     "text": [
      "/home1/john/Downloads/cmlreaders-master/cmlreaders/path_finder.py:239: MultiplePathsFoundWarning: Multiple files found: /protocols/r1/subjects/R1196N/localizations/0/montages/0/neuroradiology/current_processed/pairs.json\n",
      "/data/eeg/R1196N/tal/R1196N_talLocs_database_bipol.mat returning the first file found\n",
      "  warnings.warn(msg, MultiplePathsFoundWarning)\n",
      "/home1/john/anaconda3/envs/env1/lib/python3.7/site-packages/ptsa/data/readers/tal.py:43: FutureWarning: Lab-specific readers may be moved to the cmlreaders package (https://github.com/pennmem/cmlreaders)\n",
      "  FutureWarning)\n",
      "/home1/john/Downloads/cmlreaders-master/cmlreaders/path_finder.py:239: MultiplePathsFoundWarning: Multiple files found: /protocols/r1/subjects/R1196N/experiments/FR1/sessions/0/ephys/current_processed/sources.json\n",
      "/data/eeg/R1196N/eeg.noreref/R1196N_FR1_0_17Jul16_1502.params.txt\n",
      "/data/eeg/R1196N/eeg.noreref/params.txt returning the first file found\n",
      "  warnings.warn(msg, MultiplePathsFoundWarning)\n"
     ]
    },
    {
     "name": "stdout",
     "output_type": "stream",
     "text": [
      "loaded eeg for R1196N0\n",
      "getting PTSA\n",
      "52 matching events found\n",
      "No baseline correction applied\n",
      "Not setting metadata\n",
      "0 projection items activated\n",
      "0 bad epochs dropped\n"
     ]
    },
    {
     "name": "stderr",
     "output_type": "stream",
     "text": [
      "/home1/john/Downloads/cmlreaders-master/cmlreaders/path_finder.py:239: MultiplePathsFoundWarning: Multiple files found: /protocols/r1/subjects/R1196N/localizations/0/montages/0/neuroradiology/current_processed/pairs.json\n",
      "/data/eeg/R1196N/tal/R1196N_talLocs_database_bipol.mat returning the first file found\n",
      "  warnings.warn(msg, MultiplePathsFoundWarning)\n",
      "/home1/john/anaconda3/envs/env1/lib/python3.7/site-packages/ptsa/data/readers/tal.py:43: FutureWarning: Lab-specific readers may be moved to the cmlreaders package (https://github.com/pennmem/cmlreaders)\n",
      "  FutureWarning)\n",
      "/home1/john/Downloads/cmlreaders-master/cmlreaders/path_finder.py:239: MultiplePathsFoundWarning: Multiple files found: /protocols/r1/subjects/R1196N/experiments/FR1/sessions/1/ephys/current_processed/sources.json\n",
      "/data/eeg/R1196N/eeg.noreref/R1196N_FR1_1_20Jul16_1818.params.txt\n",
      "/data/eeg/R1196N/eeg.noreref/params.txt returning the first file found\n",
      "  warnings.warn(msg, MultiplePathsFoundWarning)\n"
     ]
    },
    {
     "name": "stdout",
     "output_type": "stream",
     "text": [
      "loaded eeg for R1196N1\n",
      "getting PTSA\n",
      "60 matching events found\n",
      "No baseline correction applied\n",
      "Not setting metadata\n",
      "0 projection items activated\n",
      "0 bad epochs dropped\n"
     ]
    },
    {
     "name": "stderr",
     "output_type": "stream",
     "text": [
      "/home1/john/Downloads/cmlreaders-master/cmlreaders/path_finder.py:239: MultiplePathsFoundWarning: Multiple files found: /protocols/r1/subjects/R1198M/localizations/0/montages/0/neuroradiology/current_processed/pairs.json\n",
      "/data/eeg/R1198M/tal/R1198M_talLocs_database_bipol.mat returning the first file found\n",
      "  warnings.warn(msg, MultiplePathsFoundWarning)\n",
      "/home1/john/anaconda3/envs/env1/lib/python3.7/site-packages/ptsa/data/readers/tal.py:43: FutureWarning: Lab-specific readers may be moved to the cmlreaders package (https://github.com/pennmem/cmlreaders)\n",
      "  FutureWarning)\n",
      "/home1/john/Downloads/cmlreaders-master/cmlreaders/path_finder.py:239: MultiplePathsFoundWarning: Multiple files found: /protocols/r1/subjects/R1198M/experiments/FR1/sessions/0/ephys/current_processed/sources.json\n",
      "/data/eeg/R1198M/eeg.noreref/R1198M_FR1_0_14Jul16_0829.params.txt\n",
      "/data/eeg/R1198M/eeg.noreref/params.txt returning the first file found\n",
      "  warnings.warn(msg, MultiplePathsFoundWarning)\n"
     ]
    },
    {
     "name": "stdout",
     "output_type": "stream",
     "text": [
      "loaded eeg for R1198M0\n",
      "getting PTSA\n",
      "25 matching events found\n",
      "No baseline correction applied\n",
      "Not setting metadata\n",
      "0 projection items activated\n",
      "0 bad epochs dropped\n"
     ]
    },
    {
     "name": "stderr",
     "output_type": "stream",
     "text": [
      "/home1/john/Downloads/cmlreaders-master/cmlreaders/path_finder.py:239: MultiplePathsFoundWarning: Multiple files found: /protocols/r1/subjects/R1200T/localizations/0/montages/0/neuroradiology/current_processed/pairs.json\n",
      "/data/eeg/R1200T/tal/R1200T_talLocs_database_bipol.mat returning the first file found\n",
      "  warnings.warn(msg, MultiplePathsFoundWarning)\n",
      "/home1/john/anaconda3/envs/env1/lib/python3.7/site-packages/ptsa/data/readers/tal.py:43: FutureWarning: Lab-specific readers may be moved to the cmlreaders package (https://github.com/pennmem/cmlreaders)\n",
      "  FutureWarning)\n",
      "/home1/john/Downloads/cmlreaders-master/cmlreaders/path_finder.py:239: MultiplePathsFoundWarning: Multiple files found: /protocols/r1/subjects/R1200T/experiments/FR1/sessions/0/ephys/current_processed/sources.json\n",
      "/data/eeg/R1200T/eeg.noreref/R1200T_FR1_0_22Jul16_1605.params.txt\n",
      "/data/eeg/R1200T/eeg.noreref/params.txt returning the first file found\n",
      "  warnings.warn(msg, MultiplePathsFoundWarning)\n"
     ]
    },
    {
     "name": "stdout",
     "output_type": "stream",
     "text": [
      "loaded eeg for R1200T0\n",
      "getting PTSA\n",
      "62 matching events found\n",
      "No baseline correction applied\n",
      "Not setting metadata\n",
      "0 projection items activated\n",
      "0 bad epochs dropped\n"
     ]
    },
    {
     "name": "stderr",
     "output_type": "stream",
     "text": [
      "/home1/john/Downloads/cmlreaders-master/cmlreaders/path_finder.py:239: MultiplePathsFoundWarning: Multiple files found: /protocols/r1/subjects/R1200T/localizations/0/montages/0/neuroradiology/current_processed/pairs.json\n",
      "/data/eeg/R1200T/tal/R1200T_talLocs_database_bipol.mat returning the first file found\n",
      "  warnings.warn(msg, MultiplePathsFoundWarning)\n",
      "/home1/john/anaconda3/envs/env1/lib/python3.7/site-packages/ptsa/data/readers/tal.py:43: FutureWarning: Lab-specific readers may be moved to the cmlreaders package (https://github.com/pennmem/cmlreaders)\n",
      "  FutureWarning)\n",
      "/home1/john/Downloads/cmlreaders-master/cmlreaders/path_finder.py:239: MultiplePathsFoundWarning: Multiple files found: /protocols/r1/subjects/R1200T/experiments/FR1/sessions/1/ephys/current_processed/sources.json\n",
      "/data/eeg/R1200T/eeg.noreref/R1200T_FR1_1_22Jul16_2043.params.txt\n",
      "/data/eeg/R1200T/eeg.noreref/params.txt returning the first file found\n",
      "  warnings.warn(msg, MultiplePathsFoundWarning)\n"
     ]
    },
    {
     "name": "stdout",
     "output_type": "stream",
     "text": [
      "loaded eeg for R1200T1\n",
      "getting PTSA\n",
      "48 matching events found\n",
      "No baseline correction applied\n",
      "Not setting metadata\n",
      "0 projection items activated\n",
      "0 bad epochs dropped\n"
     ]
    },
    {
     "name": "stderr",
     "output_type": "stream",
     "text": [
      "/home1/john/Downloads/cmlreaders-master/cmlreaders/path_finder.py:239: MultiplePathsFoundWarning: Multiple files found: /protocols/r1/subjects/R1200T/localizations/0/montages/0/neuroradiology/current_processed/pairs.json\n",
      "/data/eeg/R1200T/tal/R1200T_talLocs_database_bipol.mat returning the first file found\n",
      "  warnings.warn(msg, MultiplePathsFoundWarning)\n",
      "/home1/john/anaconda3/envs/env1/lib/python3.7/site-packages/ptsa/data/readers/tal.py:43: FutureWarning: Lab-specific readers may be moved to the cmlreaders package (https://github.com/pennmem/cmlreaders)\n",
      "  FutureWarning)\n",
      "/home1/john/Downloads/cmlreaders-master/cmlreaders/path_finder.py:239: MultiplePathsFoundWarning: Multiple files found: /protocols/r1/subjects/R1200T/experiments/FR1/sessions/2/ephys/current_processed/sources.json\n",
      "/data/eeg/R1200T/eeg.noreref/R1200T_FR1_2_25Jul16_1916.params.txt\n",
      "/data/eeg/R1200T/eeg.noreref/params.txt returning the first file found\n",
      "  warnings.warn(msg, MultiplePathsFoundWarning)\n",
      "/home1/john/Downloads/cmlreaders-master/cmlreaders/path_finder.py:239: MultiplePathsFoundWarning: Multiple files found: /protocols/r1/subjects/R1200T/experiments/FR1/sessions/2/ephys/current_processed/sources.json\n",
      "/data/eeg/R1200T/eeg.noreref/R1200T_FR1_2_25Jul16_1945.params.txt\n",
      "/data/eeg/R1200T/eeg.noreref/params.txt returning the first file found\n",
      "  warnings.warn(msg, MultiplePathsFoundWarning)\n"
     ]
    },
    {
     "name": "stdout",
     "output_type": "stream",
     "text": [
      "loaded eeg for R1200T2\n",
      "getting PTSA\n",
      "30 matching events found\n",
      "No baseline correction applied\n",
      "Not setting metadata\n",
      "0 projection items activated\n",
      "0 bad epochs dropped\n"
     ]
    },
    {
     "name": "stderr",
     "output_type": "stream",
     "text": [
      "/home1/john/Downloads/cmlreaders-master/cmlreaders/path_finder.py:239: MultiplePathsFoundWarning: Multiple files found: /protocols/r1/subjects/R1201P/localizations/0/montages/1/neuroradiology/current_processed/pairs.json\n",
      "/data/eeg/R1201P_1/tal/R1201P_1_talLocs_database_bipol.mat returning the first file found\n",
      "  warnings.warn(msg, MultiplePathsFoundWarning)\n",
      "/home1/john/Downloads/cmlreaders-master/cmlreaders/readers/electrodes.py:236: MissingCoordinatesWarning: Could not load MNI coordinates\n",
      "  \"Could not load MNI coordinates\"))\n",
      "/home1/john/anaconda3/envs/env1/lib/python3.7/site-packages/ptsa/data/readers/tal.py:43: FutureWarning: Lab-specific readers may be moved to the cmlreaders package (https://github.com/pennmem/cmlreaders)\n",
      "  FutureWarning)\n",
      "/home1/john/Downloads/cmlreaders-master/cmlreaders/path_finder.py:239: MultiplePathsFoundWarning: Multiple files found: /protocols/r1/subjects/R1201P/experiments/FR1/sessions/0/ephys/current_processed/sources.json\n",
      "/data/eeg/R1201P/eeg.noreref/params.txt returning the first file found\n",
      "  warnings.warn(msg, MultiplePathsFoundWarning)\n"
     ]
    },
    {
     "name": "stdout",
     "output_type": "stream",
     "text": [
      "loaded eeg for R1201P0\n",
      "getting PTSA\n",
      "46 matching events found\n",
      "No baseline correction applied\n",
      "Not setting metadata\n",
      "0 projection items activated\n",
      "0 bad epochs dropped\n"
     ]
    },
    {
     "name": "stderr",
     "output_type": "stream",
     "text": [
      "/home1/john/Downloads/cmlreaders-master/cmlreaders/path_finder.py:239: MultiplePathsFoundWarning: Multiple files found: /protocols/r1/subjects/R1201P/localizations/0/montages/1/neuroradiology/current_processed/pairs.json\n",
      "/data/eeg/R1201P_1/tal/R1201P_1_talLocs_database_bipol.mat returning the first file found\n",
      "  warnings.warn(msg, MultiplePathsFoundWarning)\n",
      "/home1/john/Downloads/cmlreaders-master/cmlreaders/readers/electrodes.py:236: MissingCoordinatesWarning: Could not load MNI coordinates\n",
      "  \"Could not load MNI coordinates\"))\n",
      "/home1/john/anaconda3/envs/env1/lib/python3.7/site-packages/ptsa/data/readers/tal.py:43: FutureWarning: Lab-specific readers may be moved to the cmlreaders package (https://github.com/pennmem/cmlreaders)\n",
      "  FutureWarning)\n",
      "/home1/john/Downloads/cmlreaders-master/cmlreaders/path_finder.py:239: MultiplePathsFoundWarning: Multiple files found: /protocols/r1/subjects/R1201P/experiments/FR1/sessions/1/ephys/current_processed/sources.json\n",
      "/data/eeg/R1201P/eeg.noreref/params.txt returning the first file found\n",
      "  warnings.warn(msg, MultiplePathsFoundWarning)\n"
     ]
    },
    {
     "name": "stdout",
     "output_type": "stream",
     "text": [
      "loaded eeg for R1201P1\n",
      "getting PTSA\n",
      "46 matching events found\n",
      "No baseline correction applied\n",
      "Not setting metadata\n",
      "0 projection items activated\n",
      "0 bad epochs dropped\n"
     ]
    },
    {
     "name": "stderr",
     "output_type": "stream",
     "text": [
      "/home1/john/Downloads/cmlreaders-master/cmlreaders/path_finder.py:239: MultiplePathsFoundWarning: Multiple files found: /protocols/r1/subjects/R1202M/localizations/0/montages/0/neuroradiology/current_processed/pairs.json\n",
      "/data/eeg/R1202M/tal/R1202M_talLocs_database_bipol.mat returning the first file found\n",
      "  warnings.warn(msg, MultiplePathsFoundWarning)\n",
      "/home1/john/anaconda3/envs/env1/lib/python3.7/site-packages/ptsa/data/readers/tal.py:43: FutureWarning: Lab-specific readers may be moved to the cmlreaders package (https://github.com/pennmem/cmlreaders)\n",
      "  FutureWarning)\n",
      "/home1/john/Downloads/cmlreaders-master/cmlreaders/path_finder.py:239: MultiplePathsFoundWarning: Multiple files found: /protocols/r1/subjects/R1202M/experiments/FR1/sessions/0/ephys/current_processed/sources.json\n",
      "/data/eeg/R1202M/eeg.noreref/R1202M_FR1_0_05Aug16_1437.params.txt\n",
      "/data/eeg/R1202M/eeg.noreref/params.txt returning the first file found\n",
      "  warnings.warn(msg, MultiplePathsFoundWarning)\n"
     ]
    },
    {
     "name": "stdout",
     "output_type": "stream",
     "text": [
      "loaded eeg for R1202M0\n",
      "getting PTSA\n",
      "54 matching events found\n",
      "No baseline correction applied\n",
      "Not setting metadata\n",
      "0 projection items activated\n",
      "0 bad epochs dropped\n"
     ]
    },
    {
     "name": "stderr",
     "output_type": "stream",
     "text": [
      "/home1/john/Downloads/cmlreaders-master/cmlreaders/path_finder.py:239: MultiplePathsFoundWarning: Multiple files found: /protocols/r1/subjects/R1202M/localizations/0/montages/0/neuroradiology/current_processed/pairs.json\n",
      "/data/eeg/R1202M/tal/R1202M_talLocs_database_bipol.mat returning the first file found\n",
      "  warnings.warn(msg, MultiplePathsFoundWarning)\n",
      "/home1/john/anaconda3/envs/env1/lib/python3.7/site-packages/ptsa/data/readers/tal.py:43: FutureWarning: Lab-specific readers may be moved to the cmlreaders package (https://github.com/pennmem/cmlreaders)\n",
      "  FutureWarning)\n",
      "/home1/john/Downloads/cmlreaders-master/cmlreaders/path_finder.py:239: MultiplePathsFoundWarning: Multiple files found: /protocols/r1/subjects/R1202M/experiments/FR1/sessions/1/ephys/current_processed/sources.json\n",
      "/data/eeg/R1202M/eeg.noreref/R1202M_FR1_1_06Aug16_1623.params.txt\n",
      "/data/eeg/R1202M/eeg.noreref/params.txt returning the first file found\n",
      "  warnings.warn(msg, MultiplePathsFoundWarning)\n"
     ]
    },
    {
     "name": "stdout",
     "output_type": "stream",
     "text": [
      "loaded eeg for R1202M1\n",
      "getting PTSA\n",
      "39 matching events found\n",
      "No baseline correction applied\n",
      "Not setting metadata\n",
      "0 projection items activated\n",
      "0 bad epochs dropped\n"
     ]
    },
    {
     "name": "stderr",
     "output_type": "stream",
     "text": [
      "/home1/john/Downloads/cmlreaders-master/cmlreaders/path_finder.py:239: MultiplePathsFoundWarning: Multiple files found: /protocols/r1/subjects/R1203T/localizations/0/montages/0/neuroradiology/current_processed/pairs.json\n",
      "/data/eeg/R1203T/tal/R1203T_talLocs_database_bipol.mat returning the first file found\n",
      "  warnings.warn(msg, MultiplePathsFoundWarning)\n",
      "/home1/john/anaconda3/envs/env1/lib/python3.7/site-packages/ptsa/data/readers/tal.py:43: FutureWarning: Lab-specific readers may be moved to the cmlreaders package (https://github.com/pennmem/cmlreaders)\n",
      "  FutureWarning)\n",
      "/home1/john/Downloads/cmlreaders-master/cmlreaders/path_finder.py:239: MultiplePathsFoundWarning: Multiple files found: /protocols/r1/subjects/R1203T/experiments/FR1/sessions/0/ephys/current_processed/sources.json\n",
      "/data/eeg/R1203T/eeg.noreref/R1203T_FR1_0_07Aug16_2008.params.txt\n",
      "/data/eeg/R1203T/eeg.noreref/params.txt returning the first file found\n",
      "  warnings.warn(msg, MultiplePathsFoundWarning)\n"
     ]
    },
    {
     "name": "stdout",
     "output_type": "stream",
     "text": [
      "loaded eeg for R1203T0\n",
      "getting PTSA\n",
      "39 matching events found\n",
      "No baseline correction applied\n",
      "Not setting metadata\n",
      "0 projection items activated\n",
      "0 bad epochs dropped\n"
     ]
    },
    {
     "name": "stderr",
     "output_type": "stream",
     "text": [
      "/home1/john/Downloads/cmlreaders-master/cmlreaders/path_finder.py:239: MultiplePathsFoundWarning: Multiple files found: /protocols/r1/subjects/R1204T/localizations/0/montages/0/neuroradiology/current_processed/pairs.json\n",
      "/data/eeg/R1204T/tal/R1204T_talLocs_database_bipol.mat returning the first file found\n",
      "  warnings.warn(msg, MultiplePathsFoundWarning)\n",
      "/home1/john/anaconda3/envs/env1/lib/python3.7/site-packages/ptsa/data/readers/tal.py:43: FutureWarning: Lab-specific readers may be moved to the cmlreaders package (https://github.com/pennmem/cmlreaders)\n",
      "  FutureWarning)\n",
      "/home1/john/Downloads/cmlreaders-master/cmlreaders/path_finder.py:239: MultiplePathsFoundWarning: Multiple files found: /protocols/r1/subjects/R1204T/experiments/FR1/sessions/0/ephys/current_processed/sources.json\n",
      "/data/eeg/R1204T/eeg.noreref/R1204T_FR1_0_17Aug16_2024.params.txt\n",
      "/data/eeg/R1204T/eeg.noreref/params.txt returning the first file found\n",
      "  warnings.warn(msg, MultiplePathsFoundWarning)\n"
     ]
    },
    {
     "name": "stdout",
     "output_type": "stream",
     "text": [
      "loaded eeg for R1204T0\n",
      "getting PTSA\n",
      "26 matching events found\n",
      "No baseline correction applied\n",
      "Not setting metadata\n",
      "0 projection items activated\n",
      "0 bad epochs dropped\n"
     ]
    },
    {
     "name": "stderr",
     "output_type": "stream",
     "text": [
      "/home1/john/Downloads/cmlreaders-master/cmlreaders/path_finder.py:239: MultiplePathsFoundWarning: Multiple files found: /protocols/r1/subjects/R1204T/localizations/0/montages/0/neuroradiology/current_processed/pairs.json\n",
      "/data/eeg/R1204T/tal/R1204T_talLocs_database_bipol.mat returning the first file found\n",
      "  warnings.warn(msg, MultiplePathsFoundWarning)\n",
      "/home1/john/anaconda3/envs/env1/lib/python3.7/site-packages/ptsa/data/readers/tal.py:43: FutureWarning: Lab-specific readers may be moved to the cmlreaders package (https://github.com/pennmem/cmlreaders)\n",
      "  FutureWarning)\n",
      "/home1/john/Downloads/cmlreaders-master/cmlreaders/path_finder.py:239: MultiplePathsFoundWarning: Multiple files found: /protocols/r1/subjects/R1204T/experiments/FR1/sessions/1/ephys/current_processed/sources.json\n",
      "/data/eeg/R1204T/eeg.noreref/R1204T_FR1_1_18Aug16_1447.params.txt\n",
      "/data/eeg/R1204T/eeg.noreref/params.txt returning the first file found\n",
      "  warnings.warn(msg, MultiplePathsFoundWarning)\n"
     ]
    },
    {
     "name": "stdout",
     "output_type": "stream",
     "text": [
      "loaded eeg for R1204T1\n",
      "getting PTSA\n",
      "37 matching events found\n",
      "No baseline correction applied\n",
      "Not setting metadata\n",
      "0 projection items activated\n",
      "0 bad epochs dropped\n"
     ]
    },
    {
     "name": "stderr",
     "output_type": "stream",
     "text": [
      "/home1/john/Downloads/cmlreaders-master/cmlreaders/path_finder.py:239: MultiplePathsFoundWarning: Multiple files found: /protocols/r1/subjects/R1207J/localizations/0/montages/0/neuroradiology/current_processed/pairs.json\n",
      "/data/eeg/R1207J/tal/R1207J_talLocs_database_bipol.mat returning the first file found\n",
      "  warnings.warn(msg, MultiplePathsFoundWarning)\n",
      "/home1/john/Downloads/cmlreaders-master/cmlreaders/path_finder.py:239: MultiplePathsFoundWarning: Multiple files found: /protocols/r1/subjects/R1207J/experiments/FR1/sessions/0/ephys/current_processed/sources.json\n",
      "/data/eeg/R1207J/eeg.noreref/R1207J_FR1_0_20Aug16_1404.params.txt\n",
      "/data/eeg/R1207J/eeg.noreref/params.txt returning the first file found\n",
      "  warnings.warn(msg, MultiplePathsFoundWarning)\n"
     ]
    },
    {
     "name": "stdout",
     "output_type": "stream",
     "text": [
      "loaded eeg for R1207J0\n",
      "getting PTSA\n",
      "42 matching events found\n",
      "No baseline correction applied\n",
      "Not setting metadata\n",
      "0 projection items activated\n",
      "0 bad epochs dropped\n"
     ]
    },
    {
     "name": "stderr",
     "output_type": "stream",
     "text": [
      "/home1/john/Downloads/cmlreaders-master/cmlreaders/path_finder.py:239: MultiplePathsFoundWarning: Multiple files found: /protocols/r1/subjects/R1207J/experiments/FR1/sessions/1/ephys/current_processed/sources.json\n",
      "/data/eeg/R1207J/eeg.noreref/R1207J_FR1_1_25Aug16_1331.params.txt\n",
      "/data/eeg/R1207J/eeg.noreref/params.txt returning the first file found\n",
      "  warnings.warn(msg, MultiplePathsFoundWarning)\n"
     ]
    },
    {
     "name": "stdout",
     "output_type": "stream",
     "text": [
      "loaded eeg for R1207J1\n",
      "getting PTSA\n",
      "45 matching events found\n",
      "No baseline correction applied\n",
      "Not setting metadata\n",
      "0 projection items activated\n",
      "0 bad epochs dropped\n"
     ]
    },
    {
     "name": "stderr",
     "output_type": "stream",
     "text": [
      "/home1/john/Downloads/cmlreaders-master/cmlreaders/path_finder.py:239: MultiplePathsFoundWarning: Multiple files found: /protocols/r1/subjects/R1212P/localizations/0/montages/0/neuroradiology/current_processed/pairs.json\n",
      "/data/eeg/R1212P/tal/R1212P_talLocs_database_bipol.mat returning the first file found\n",
      "  warnings.warn(msg, MultiplePathsFoundWarning)\n",
      "/home1/john/Downloads/cmlreaders-master/cmlreaders/readers/electrodes.py:236: MissingCoordinatesWarning: Could not load MNI coordinates\n",
      "  \"Could not load MNI coordinates\"))\n",
      "/home1/john/anaconda3/envs/env1/lib/python3.7/site-packages/ptsa/data/readers/tal.py:43: FutureWarning: Lab-specific readers may be moved to the cmlreaders package (https://github.com/pennmem/cmlreaders)\n",
      "  FutureWarning)\n",
      "/home1/john/Downloads/cmlreaders-master/cmlreaders/path_finder.py:239: MultiplePathsFoundWarning: Multiple files found: /protocols/r1/subjects/R1212P/experiments/FR1/sessions/10/ephys/current_processed/sources.json\n",
      "/data/eeg/R1212P/eeg.noreref/R1212P_FR1_10_12Oct16_1345.params.txt\n",
      "/data/eeg/R1212P/eeg.noreref/params.txt returning the first file found\n",
      "  warnings.warn(msg, MultiplePathsFoundWarning)\n"
     ]
    },
    {
     "name": "stdout",
     "output_type": "stream",
     "text": [
      "loaded eeg for R1212P10\n",
      "getting PTSA\n",
      "2020-06-01_17-01-00: DF Exception: Sub: R1212P, Sess: 10, ValueError, A filter with an even number of coefficients must have zero response at the Nyquist frequency., file: <ipython-input-9-125176e14c87>, line no: 129\n"
     ]
    },
    {
     "name": "stderr",
     "output_type": "stream",
     "text": [
      "/home1/john/Downloads/cmlreaders-master/cmlreaders/path_finder.py:239: MultiplePathsFoundWarning: Multiple files found: /protocols/r1/subjects/R1212P/localizations/0/montages/0/neuroradiology/current_processed/pairs.json\n",
      "/data/eeg/R1212P/tal/R1212P_talLocs_database_bipol.mat returning the first file found\n",
      "  warnings.warn(msg, MultiplePathsFoundWarning)\n",
      "/home1/john/Downloads/cmlreaders-master/cmlreaders/readers/electrodes.py:236: MissingCoordinatesWarning: Could not load MNI coordinates\n",
      "  \"Could not load MNI coordinates\"))\n",
      "/home1/john/anaconda3/envs/env1/lib/python3.7/site-packages/ptsa/data/readers/tal.py:43: FutureWarning: Lab-specific readers may be moved to the cmlreaders package (https://github.com/pennmem/cmlreaders)\n",
      "  FutureWarning)\n",
      "/home1/john/Downloads/cmlreaders-master/cmlreaders/path_finder.py:239: MultiplePathsFoundWarning: Multiple files found: /protocols/r1/subjects/R1212P/experiments/FR1/sessions/2/ephys/current_processed/sources.json\n",
      "/data/eeg/R1212P/eeg.noreref/R1212P_FR1_2_01Oct16_1452.params.txt\n",
      "/data/eeg/R1212P/eeg.noreref/params.txt returning the first file found\n",
      "  warnings.warn(msg, MultiplePathsFoundWarning)\n"
     ]
    },
    {
     "name": "stdout",
     "output_type": "stream",
     "text": [
      "loaded eeg for R1212P2\n",
      "getting PTSA\n",
      "2020-06-01_17-01-03: DF Exception: Sub: R1212P, Sess: 2, ValueError, A filter with an even number of coefficients must have zero response at the Nyquist frequency., file: <ipython-input-9-125176e14c87>, line no: 129\n"
     ]
    },
    {
     "name": "stderr",
     "output_type": "stream",
     "text": [
      "/home1/john/Downloads/cmlreaders-master/cmlreaders/path_finder.py:239: MultiplePathsFoundWarning: Multiple files found: /protocols/r1/subjects/R1214M/localizations/0/montages/0/neuroradiology/current_processed/pairs.json\n",
      "/data/eeg/R1214M/tal/R1214M_talLocs_database_bipol.mat returning the first file found\n",
      "  warnings.warn(msg, MultiplePathsFoundWarning)\n",
      "/home1/john/Downloads/cmlreaders-master/cmlreaders/readers/electrodes.py:236: MissingCoordinatesWarning: Could not load MNI coordinates\n",
      "  \"Could not load MNI coordinates\"))\n",
      "/home1/john/anaconda3/envs/env1/lib/python3.7/site-packages/ptsa/data/readers/tal.py:43: FutureWarning: Lab-specific readers may be moved to the cmlreaders package (https://github.com/pennmem/cmlreaders)\n",
      "  FutureWarning)\n",
      "/home1/john/Downloads/cmlreaders-master/cmlreaders/path_finder.py:239: MultiplePathsFoundWarning: Multiple files found: /protocols/r1/subjects/R1214M/experiments/FR1/sessions/0/ephys/current_processed/sources.json\n",
      "/data/eeg/R1214M/eeg.noreref/R1214M_FR1_0_01Sep16_1507.params.txt\n",
      "/data/eeg/R1214M/eeg.noreref/params.txt returning the first file found\n",
      "  warnings.warn(msg, MultiplePathsFoundWarning)\n"
     ]
    },
    {
     "name": "stdout",
     "output_type": "stream",
     "text": [
      "loaded eeg for R1214M0\n",
      "getting PTSA\n",
      "18 matching events found\n",
      "No baseline correction applied\n",
      "Not setting metadata\n",
      "0 projection items activated\n",
      "0 bad epochs dropped\n"
     ]
    },
    {
     "name": "stderr",
     "output_type": "stream",
     "text": [
      "/home1/john/Downloads/cmlreaders-master/cmlreaders/path_finder.py:239: MultiplePathsFoundWarning: Multiple files found: /protocols/r1/subjects/R1215M/localizations/0/montages/0/neuroradiology/current_processed/pairs.json\n",
      "/data/eeg/R1215M/tal/R1215M_talLocs_database_bipol.mat returning the first file found\n",
      "  warnings.warn(msg, MultiplePathsFoundWarning)\n",
      "/home1/john/anaconda3/envs/env1/lib/python3.7/site-packages/ptsa/data/readers/tal.py:43: FutureWarning: Lab-specific readers may be moved to the cmlreaders package (https://github.com/pennmem/cmlreaders)\n",
      "  FutureWarning)\n",
      "/home1/john/Downloads/cmlreaders-master/cmlreaders/path_finder.py:239: MultiplePathsFoundWarning: Multiple files found: /protocols/r1/subjects/R1215M/experiments/FR1/sessions/0/ephys/current_processed/sources.json\n",
      "/data/eeg/R1215M/eeg.noreref/R1215M_FR1_0_09Sep16_1502.params.txt\n",
      "/data/eeg/R1215M/eeg.noreref/params.txt returning the first file found\n",
      "  warnings.warn(msg, MultiplePathsFoundWarning)\n"
     ]
    },
    {
     "name": "stdout",
     "output_type": "stream",
     "text": [
      "loaded eeg for R1215M0\n",
      "getting PTSA\n",
      "34 matching events found\n",
      "No baseline correction applied\n",
      "Not setting metadata\n",
      "0 projection items activated\n",
      "0 bad epochs dropped\n"
     ]
    },
    {
     "name": "stderr",
     "output_type": "stream",
     "text": [
      "/home1/john/Downloads/cmlreaders-master/cmlreaders/path_finder.py:239: MultiplePathsFoundWarning: Multiple files found: /protocols/r1/subjects/R1215M/localizations/0/montages/0/neuroradiology/current_processed/pairs.json\n",
      "/data/eeg/R1215M/tal/R1215M_talLocs_database_bipol.mat returning the first file found\n",
      "  warnings.warn(msg, MultiplePathsFoundWarning)\n",
      "/home1/john/anaconda3/envs/env1/lib/python3.7/site-packages/ptsa/data/readers/tal.py:43: FutureWarning: Lab-specific readers may be moved to the cmlreaders package (https://github.com/pennmem/cmlreaders)\n",
      "  FutureWarning)\n",
      "/home1/john/Downloads/cmlreaders-master/cmlreaders/path_finder.py:239: MultiplePathsFoundWarning: Multiple files found: /protocols/r1/subjects/R1215M/experiments/FR1/sessions/1/ephys/current_processed/sources.json\n",
      "/data/eeg/R1215M/eeg.noreref/R1215M_FR1_1_10Sep16_1555.params.txt\n",
      "/data/eeg/R1215M/eeg.noreref/params.txt returning the first file found\n",
      "  warnings.warn(msg, MultiplePathsFoundWarning)\n"
     ]
    },
    {
     "name": "stdout",
     "output_type": "stream",
     "text": [
      "loaded eeg for R1215M1\n",
      "getting PTSA\n",
      "49 matching events found\n",
      "No baseline correction applied\n",
      "Not setting metadata\n",
      "0 projection items activated\n",
      "0 bad epochs dropped\n"
     ]
    },
    {
     "name": "stderr",
     "output_type": "stream",
     "text": [
      "/home1/john/Downloads/cmlreaders-master/cmlreaders/path_finder.py:239: MultiplePathsFoundWarning: Multiple files found: /protocols/r1/subjects/R1215M/localizations/0/montages/0/neuroradiology/current_processed/pairs.json\n",
      "/data/eeg/R1215M/tal/R1215M_talLocs_database_bipol.mat returning the first file found\n",
      "  warnings.warn(msg, MultiplePathsFoundWarning)\n",
      "/home1/john/anaconda3/envs/env1/lib/python3.7/site-packages/ptsa/data/readers/tal.py:43: FutureWarning: Lab-specific readers may be moved to the cmlreaders package (https://github.com/pennmem/cmlreaders)\n",
      "  FutureWarning)\n",
      "/home1/john/Downloads/cmlreaders-master/cmlreaders/path_finder.py:239: MultiplePathsFoundWarning: Multiple files found: /protocols/r1/subjects/R1215M/experiments/FR1/sessions/2/ephys/current_processed/sources.json\n",
      "/data/eeg/R1215M/eeg.noreref/R1215M_FR1_2_12Sep16_1440.params.txt\n",
      "/data/eeg/R1215M/eeg.noreref/params.txt returning the first file found\n",
      "  warnings.warn(msg, MultiplePathsFoundWarning)\n"
     ]
    },
    {
     "name": "stdout",
     "output_type": "stream",
     "text": [
      "loaded eeg for R1215M2\n",
      "getting PTSA\n",
      "62 matching events found\n",
      "No baseline correction applied\n",
      "Not setting metadata\n",
      "0 projection items activated\n",
      "0 bad epochs dropped\n"
     ]
    },
    {
     "name": "stderr",
     "output_type": "stream",
     "text": [
      "/home1/john/Downloads/cmlreaders-master/cmlreaders/path_finder.py:239: MultiplePathsFoundWarning: Multiple files found: /protocols/r1/subjects/R1216E/localizations/0/montages/1/neuroradiology/current_processed/pairs.json\n",
      "/data/eeg/R1216E_1/tal/R1216E_1_talLocs_database_bipol.mat returning the first file found\n",
      "  warnings.warn(msg, MultiplePathsFoundWarning)\n",
      "/home1/john/anaconda3/envs/env1/lib/python3.7/site-packages/ptsa/data/readers/tal.py:43: FutureWarning: Lab-specific readers may be moved to the cmlreaders package (https://github.com/pennmem/cmlreaders)\n",
      "  FutureWarning)\n"
     ]
    },
    {
     "name": "stdout",
     "output_type": "stream",
     "text": [
      "2020-06-01_17-01-35: DF Exception: Sub: R1216E, Sess: 0, ValueError, split EEG filenames don't seem to match what are in the events, file: <ipython-input-9-125176e14c87>, line no: 86\n"
     ]
    },
    {
     "name": "stderr",
     "output_type": "stream",
     "text": [
      "/home1/john/Downloads/cmlreaders-master/cmlreaders/path_finder.py:239: MultiplePathsFoundWarning: Multiple files found: /protocols/r1/subjects/R1216E/localizations/0/montages/1/neuroradiology/current_processed/pairs.json\n",
      "/data/eeg/R1216E_1/tal/R1216E_1_talLocs_database_bipol.mat returning the first file found\n",
      "  warnings.warn(msg, MultiplePathsFoundWarning)\n",
      "/home1/john/anaconda3/envs/env1/lib/python3.7/site-packages/ptsa/data/readers/tal.py:43: FutureWarning: Lab-specific readers may be moved to the cmlreaders package (https://github.com/pennmem/cmlreaders)\n",
      "  FutureWarning)\n"
     ]
    },
    {
     "name": "stdout",
     "output_type": "stream",
     "text": [
      "2020-06-01_17-01-36: DF Exception: Sub: R1216E, Sess: 1, ValueError, len(channels) (56) must be the same length as the second data dimension (33), file: <ipython-input-9-125176e14c87>, line no: 86\n"
     ]
    },
    {
     "name": "stderr",
     "output_type": "stream",
     "text": [
      "/home1/john/Downloads/cmlreaders-master/cmlreaders/path_finder.py:239: MultiplePathsFoundWarning: Multiple files found: /protocols/r1/subjects/R1216E/localizations/0/montages/1/neuroradiology/current_processed/pairs.json\n",
      "/data/eeg/R1216E_1/tal/R1216E_1_talLocs_database_bipol.mat returning the first file found\n",
      "  warnings.warn(msg, MultiplePathsFoundWarning)\n",
      "/home1/john/anaconda3/envs/env1/lib/python3.7/site-packages/ptsa/data/readers/tal.py:43: FutureWarning: Lab-specific readers may be moved to the cmlreaders package (https://github.com/pennmem/cmlreaders)\n",
      "  FutureWarning)\n"
     ]
    },
    {
     "name": "stdout",
     "output_type": "stream",
     "text": [
      "2020-06-01_17-01-37: DF Exception: Sub: R1216E, Sess: 2, ValueError, len(channels) (56) must be the same length as the second data dimension (33), file: <ipython-input-9-125176e14c87>, line no: 86\n"
     ]
    },
    {
     "name": "stderr",
     "output_type": "stream",
     "text": [
      "/home1/john/Downloads/cmlreaders-master/cmlreaders/path_finder.py:239: MultiplePathsFoundWarning: Multiple files found: /protocols/r1/subjects/R1217T/localizations/0/montages/0/neuroradiology/current_processed/pairs.json\n",
      "/data/eeg/R1217T/tal/R1217T_talLocs_database_bipol.mat returning the first file found\n",
      "  warnings.warn(msg, MultiplePathsFoundWarning)\n",
      "/home1/john/Downloads/cmlreaders-master/cmlreaders/readers/electrodes.py:236: MissingCoordinatesWarning: Could not load MNI coordinates\n",
      "  \"Could not load MNI coordinates\"))\n",
      "/home1/john/anaconda3/envs/env1/lib/python3.7/site-packages/ptsa/data/readers/tal.py:43: FutureWarning: Lab-specific readers may be moved to the cmlreaders package (https://github.com/pennmem/cmlreaders)\n",
      "  FutureWarning)\n",
      "/home1/john/Downloads/cmlreaders-master/cmlreaders/path_finder.py:239: MultiplePathsFoundWarning: Multiple files found: /protocols/r1/subjects/R1217T/experiments/FR1/sessions/0/ephys/current_processed/sources.json\n",
      "/data/eeg/R1217T/eeg.noreref/R1217T_FR1_0_02Sep16_1506.params.txt\n",
      "/data/eeg/R1217T/eeg.noreref/params.txt returning the first file found\n",
      "  warnings.warn(msg, MultiplePathsFoundWarning)\n"
     ]
    },
    {
     "name": "stdout",
     "output_type": "stream",
     "text": [
      "loaded eeg for R1217T0\n",
      "getting PTSA\n",
      "46 matching events found\n",
      "No baseline correction applied\n",
      "Not setting metadata\n",
      "0 projection items activated\n",
      "0 bad epochs dropped\n"
     ]
    },
    {
     "name": "stderr",
     "output_type": "stream",
     "text": [
      "/home1/john/Downloads/cmlreaders-master/cmlreaders/path_finder.py:239: MultiplePathsFoundWarning: Multiple files found: /protocols/r1/subjects/R1217T/localizations/0/montages/0/neuroradiology/current_processed/pairs.json\n",
      "/data/eeg/R1217T/tal/R1217T_talLocs_database_bipol.mat returning the first file found\n",
      "  warnings.warn(msg, MultiplePathsFoundWarning)\n",
      "/home1/john/Downloads/cmlreaders-master/cmlreaders/readers/electrodes.py:236: MissingCoordinatesWarning: Could not load MNI coordinates\n",
      "  \"Could not load MNI coordinates\"))\n",
      "/home1/john/anaconda3/envs/env1/lib/python3.7/site-packages/ptsa/data/readers/tal.py:43: FutureWarning: Lab-specific readers may be moved to the cmlreaders package (https://github.com/pennmem/cmlreaders)\n",
      "  FutureWarning)\n",
      "/home1/john/Downloads/cmlreaders-master/cmlreaders/path_finder.py:239: MultiplePathsFoundWarning: Multiple files found: /protocols/r1/subjects/R1217T/experiments/FR1/sessions/1/ephys/current_processed/sources.json\n",
      "/data/eeg/R1217T/eeg.noreref/R1217T_FR1_1_06Sep16_1458.params.txt\n",
      "/data/eeg/R1217T/eeg.noreref/params.txt returning the first file found\n",
      "  warnings.warn(msg, MultiplePathsFoundWarning)\n"
     ]
    },
    {
     "name": "stdout",
     "output_type": "stream",
     "text": [
      "loaded eeg for R1217T1\n",
      "getting PTSA\n",
      "51 matching events found\n",
      "No baseline correction applied\n",
      "Not setting metadata\n",
      "0 projection items activated\n",
      "0 bad epochs dropped\n"
     ]
    },
    {
     "name": "stderr",
     "output_type": "stream",
     "text": [
      "/home1/john/Downloads/cmlreaders-master/cmlreaders/path_finder.py:239: MultiplePathsFoundWarning: Multiple files found: /protocols/r1/subjects/R1217T/localizations/0/montages/0/neuroradiology/current_processed/pairs.json\n",
      "/data/eeg/R1217T/tal/R1217T_talLocs_database_bipol.mat returning the first file found\n",
      "  warnings.warn(msg, MultiplePathsFoundWarning)\n",
      "/home1/john/Downloads/cmlreaders-master/cmlreaders/readers/electrodes.py:236: MissingCoordinatesWarning: Could not load MNI coordinates\n",
      "  \"Could not load MNI coordinates\"))\n",
      "/home1/john/anaconda3/envs/env1/lib/python3.7/site-packages/ptsa/data/readers/tal.py:43: FutureWarning: Lab-specific readers may be moved to the cmlreaders package (https://github.com/pennmem/cmlreaders)\n",
      "  FutureWarning)\n",
      "/home1/john/Downloads/cmlreaders-master/cmlreaders/path_finder.py:239: MultiplePathsFoundWarning: Multiple files found: /protocols/r1/subjects/R1217T/experiments/FR1/sessions/2/ephys/current_processed/sources.json\n",
      "/data/eeg/R1217T/eeg.noreref/R1217T_FR1_2_07Sep16_1537.params.txt\n",
      "/data/eeg/R1217T/eeg.noreref/params.txt returning the first file found\n",
      "  warnings.warn(msg, MultiplePathsFoundWarning)\n"
     ]
    },
    {
     "name": "stdout",
     "output_type": "stream",
     "text": [
      "loaded eeg for R1217T2\n",
      "getting PTSA\n",
      "38 matching events found\n",
      "No baseline correction applied\n",
      "Not setting metadata\n",
      "0 projection items activated\n",
      "0 bad epochs dropped\n"
     ]
    },
    {
     "name": "stderr",
     "output_type": "stream",
     "text": [
      "/home1/john/Downloads/cmlreaders-master/cmlreaders/path_finder.py:239: MultiplePathsFoundWarning: Multiple files found: /protocols/r1/subjects/R1221P/localizations/0/montages/0/neuroradiology/current_processed/pairs.json\n",
      "/data/eeg/R1221P/tal/R1221P_talLocs_database_bipol.mat returning the first file found\n",
      "  warnings.warn(msg, MultiplePathsFoundWarning)\n",
      "/home1/john/Downloads/cmlreaders-master/cmlreaders/readers/electrodes.py:236: MissingCoordinatesWarning: Could not load MNI coordinates\n",
      "  \"Could not load MNI coordinates\"))\n",
      "/home1/john/anaconda3/envs/env1/lib/python3.7/site-packages/ptsa/data/readers/tal.py:43: FutureWarning: Lab-specific readers may be moved to the cmlreaders package (https://github.com/pennmem/cmlreaders)\n",
      "  FutureWarning)\n",
      "/home1/john/Downloads/cmlreaders-master/cmlreaders/path_finder.py:239: MultiplePathsFoundWarning: Multiple files found: /protocols/r1/subjects/R1221P/experiments/FR1/sessions/1/ephys/current_processed/sources.json\n",
      "/data/eeg/R1221P/eeg.noreref/R1221P_FR1_1_18Sep16_1158.params.txt\n",
      "/data/eeg/R1221P/eeg.noreref/params.txt returning the first file found\n",
      "  warnings.warn(msg, MultiplePathsFoundWarning)\n"
     ]
    },
    {
     "name": "stdout",
     "output_type": "stream",
     "text": [
      "loaded eeg for R1221P1\n",
      "getting PTSA\n",
      "2020-06-01_17-02-28: DF Exception: Sub: R1221P, Sess: 1, ValueError, A filter with an even number of coefficients must have zero response at the Nyquist frequency., file: <ipython-input-9-125176e14c87>, line no: 129\n"
     ]
    },
    {
     "name": "stderr",
     "output_type": "stream",
     "text": [
      "/home1/john/Downloads/cmlreaders-master/cmlreaders/path_finder.py:239: MultiplePathsFoundWarning: Multiple files found: /protocols/r1/subjects/R1222M/localizations/0/montages/0/neuroradiology/current_processed/pairs.json\n",
      "/data/eeg/R1222M/tal/R1222M_talLocs_database_bipol.mat returning the first file found\n",
      "  warnings.warn(msg, MultiplePathsFoundWarning)\n",
      "/home1/john/Downloads/cmlreaders-master/cmlreaders/readers/electrodes.py:236: MissingCoordinatesWarning: Could not load MNI coordinates\n",
      "  \"Could not load MNI coordinates\"))\n",
      "/home1/john/anaconda3/envs/env1/lib/python3.7/site-packages/ptsa/data/readers/tal.py:43: FutureWarning: Lab-specific readers may be moved to the cmlreaders package (https://github.com/pennmem/cmlreaders)\n",
      "  FutureWarning)\n",
      "/home1/john/Downloads/cmlreaders-master/cmlreaders/path_finder.py:239: MultiplePathsFoundWarning: Multiple files found: /protocols/r1/subjects/R1222M/experiments/FR1/sessions/0/ephys/current_processed/sources.json\n",
      "/data/eeg/R1222M/eeg.noreref/R1222M_FR1_0_17Sep16_1838.params.txt\n",
      "/data/eeg/R1222M/eeg.noreref/params.txt returning the first file found\n",
      "  warnings.warn(msg, MultiplePathsFoundWarning)\n"
     ]
    },
    {
     "name": "stdout",
     "output_type": "stream",
     "text": [
      "loaded eeg for R1222M0\n",
      "getting PTSA\n",
      "46 matching events found\n",
      "No baseline correction applied\n",
      "Not setting metadata\n",
      "0 projection items activated\n",
      "0 bad epochs dropped\n"
     ]
    },
    {
     "name": "stderr",
     "output_type": "stream",
     "text": [
      "/home1/john/Downloads/cmlreaders-master/cmlreaders/path_finder.py:239: MultiplePathsFoundWarning: Multiple files found: /protocols/r1/subjects/R1222M/localizations/0/montages/0/neuroradiology/current_processed/pairs.json\n",
      "/data/eeg/R1222M/tal/R1222M_talLocs_database_bipol.mat returning the first file found\n",
      "  warnings.warn(msg, MultiplePathsFoundWarning)\n",
      "/home1/john/Downloads/cmlreaders-master/cmlreaders/readers/electrodes.py:236: MissingCoordinatesWarning: Could not load MNI coordinates\n",
      "  \"Could not load MNI coordinates\"))\n",
      "/home1/john/anaconda3/envs/env1/lib/python3.7/site-packages/ptsa/data/readers/tal.py:43: FutureWarning: Lab-specific readers may be moved to the cmlreaders package (https://github.com/pennmem/cmlreaders)\n",
      "  FutureWarning)\n",
      "/home1/john/Downloads/cmlreaders-master/cmlreaders/path_finder.py:239: MultiplePathsFoundWarning: Multiple files found: /protocols/r1/subjects/R1222M/experiments/FR1/sessions/1/ephys/current_processed/sources.json\n",
      "/data/eeg/R1222M/eeg.noreref/R1222M_FR1_1_17Sep16_2002.params.txt\n",
      "/data/eeg/R1222M/eeg.noreref/params.txt returning the first file found\n",
      "  warnings.warn(msg, MultiplePathsFoundWarning)\n"
     ]
    },
    {
     "name": "stdout",
     "output_type": "stream",
     "text": [
      "loaded eeg for R1222M1\n",
      "getting PTSA\n",
      "67 matching events found\n",
      "No baseline correction applied\n",
      "Not setting metadata\n",
      "0 projection items activated\n",
      "0 bad epochs dropped\n"
     ]
    },
    {
     "name": "stderr",
     "output_type": "stream",
     "text": [
      "/home1/john/Downloads/cmlreaders-master/cmlreaders/path_finder.py:239: MultiplePathsFoundWarning: Multiple files found: /protocols/r1/subjects/R1222M/localizations/0/montages/0/neuroradiology/current_processed/pairs.json\n",
      "/data/eeg/R1222M/tal/R1222M_talLocs_database_bipol.mat returning the first file found\n",
      "  warnings.warn(msg, MultiplePathsFoundWarning)\n",
      "/home1/john/Downloads/cmlreaders-master/cmlreaders/readers/electrodes.py:236: MissingCoordinatesWarning: Could not load MNI coordinates\n",
      "  \"Could not load MNI coordinates\"))\n",
      "/home1/john/anaconda3/envs/env1/lib/python3.7/site-packages/ptsa/data/readers/tal.py:43: FutureWarning: Lab-specific readers may be moved to the cmlreaders package (https://github.com/pennmem/cmlreaders)\n",
      "  FutureWarning)\n",
      "/home1/john/Downloads/cmlreaders-master/cmlreaders/path_finder.py:239: MultiplePathsFoundWarning: Multiple files found: /protocols/r1/subjects/R1222M/experiments/FR1/sessions/2/ephys/current_processed/sources.json\n",
      "/data/eeg/R1222M/eeg.noreref/R1222M_FR1_2_18Sep16_1615.params.txt\n",
      "/data/eeg/R1222M/eeg.noreref/params.txt returning the first file found\n",
      "  warnings.warn(msg, MultiplePathsFoundWarning)\n"
     ]
    },
    {
     "name": "stdout",
     "output_type": "stream",
     "text": [
      "loaded eeg for R1222M2\n",
      "getting PTSA\n",
      "46 matching events found\n",
      "No baseline correction applied\n",
      "Not setting metadata\n",
      "0 projection items activated\n",
      "0 bad epochs dropped\n"
     ]
    },
    {
     "name": "stderr",
     "output_type": "stream",
     "text": [
      "/home1/john/Downloads/cmlreaders-master/cmlreaders/path_finder.py:239: MultiplePathsFoundWarning: Multiple files found: /protocols/r1/subjects/R1223E/localizations/0/montages/0/neuroradiology/current_processed/pairs.json\n",
      "/data/eeg/R1223E/tal/R1223E_talLocs_database_bipol.mat returning the first file found\n",
      "  warnings.warn(msg, MultiplePathsFoundWarning)\n",
      "/home1/john/anaconda3/envs/env1/lib/python3.7/site-packages/ptsa/data/readers/tal.py:43: FutureWarning: Lab-specific readers may be moved to the cmlreaders package (https://github.com/pennmem/cmlreaders)\n",
      "  FutureWarning)\n",
      "/home1/john/Downloads/cmlreaders-master/cmlreaders/path_finder.py:239: MultiplePathsFoundWarning: Multiple files found: /protocols/r1/subjects/R1223E/experiments/FR1/sessions/0/ephys/current_processed/sources.json\n",
      "/data/eeg/R1223E/eeg.noreref/R1223E_FR1_0_26Sep16_1554.params.txt\n",
      "/data/eeg/R1223E/eeg.noreref/params.txt returning the first file found\n",
      "  warnings.warn(msg, MultiplePathsFoundWarning)\n"
     ]
    },
    {
     "name": "stdout",
     "output_type": "stream",
     "text": [
      "loaded eeg for R1223E0\n",
      "getting PTSA\n",
      "37 matching events found\n",
      "No baseline correction applied\n",
      "Not setting metadata\n",
      "0 projection items activated\n",
      "0 bad epochs dropped\n"
     ]
    },
    {
     "name": "stderr",
     "output_type": "stream",
     "text": [
      "/home1/john/Downloads/cmlreaders-master/cmlreaders/path_finder.py:239: MultiplePathsFoundWarning: Multiple files found: /protocols/r1/subjects/R1223E/localizations/0/montages/0/neuroradiology/current_processed/pairs.json\n",
      "/data/eeg/R1223E/tal/R1223E_talLocs_database_bipol.mat returning the first file found\n",
      "  warnings.warn(msg, MultiplePathsFoundWarning)\n",
      "/home1/john/anaconda3/envs/env1/lib/python3.7/site-packages/ptsa/data/readers/tal.py:43: FutureWarning: Lab-specific readers may be moved to the cmlreaders package (https://github.com/pennmem/cmlreaders)\n",
      "  FutureWarning)\n",
      "/home1/john/Downloads/cmlreaders-master/cmlreaders/path_finder.py:239: MultiplePathsFoundWarning: Multiple files found: /protocols/r1/subjects/R1223E/experiments/FR1/sessions/1/ephys/current_processed/sources.json\n",
      "/data/eeg/R1223E/eeg.noreref/R1223E_FR1_1_27Sep16_2112.params.txt\n",
      "/data/eeg/R1223E/eeg.noreref/params.txt returning the first file found\n",
      "  warnings.warn(msg, MultiplePathsFoundWarning)\n"
     ]
    },
    {
     "name": "stdout",
     "output_type": "stream",
     "text": [
      "loaded eeg for R1223E1\n",
      "getting PTSA\n",
      "56 matching events found\n",
      "No baseline correction applied\n",
      "Not setting metadata\n",
      "0 projection items activated\n",
      "0 bad epochs dropped\n"
     ]
    },
    {
     "name": "stderr",
     "output_type": "stream",
     "text": [
      "/home1/john/Downloads/cmlreaders-master/cmlreaders/path_finder.py:239: MultiplePathsFoundWarning: Multiple files found: /protocols/r1/subjects/R1223E/localizations/0/montages/0/neuroradiology/current_processed/pairs.json\n",
      "/data/eeg/R1223E/tal/R1223E_talLocs_database_bipol.mat returning the first file found\n",
      "  warnings.warn(msg, MultiplePathsFoundWarning)\n",
      "/home1/john/anaconda3/envs/env1/lib/python3.7/site-packages/ptsa/data/readers/tal.py:43: FutureWarning: Lab-specific readers may be moved to the cmlreaders package (https://github.com/pennmem/cmlreaders)\n",
      "  FutureWarning)\n",
      "/home1/john/Downloads/cmlreaders-master/cmlreaders/path_finder.py:239: MultiplePathsFoundWarning: Multiple files found: /protocols/r1/subjects/R1223E/experiments/FR1/sessions/2/ephys/current_processed/sources.json\n",
      "/data/eeg/R1223E/eeg.noreref/R1223E_FR1_2_28Sep16_1829.params.txt\n",
      "/data/eeg/R1223E/eeg.noreref/params.txt returning the first file found\n",
      "  warnings.warn(msg, MultiplePathsFoundWarning)\n"
     ]
    },
    {
     "name": "stdout",
     "output_type": "stream",
     "text": [
      "loaded eeg for R1223E2\n",
      "getting PTSA\n",
      "39 matching events found\n",
      "No baseline correction applied\n",
      "Not setting metadata\n",
      "0 projection items activated\n",
      "0 bad epochs dropped\n"
     ]
    },
    {
     "name": "stderr",
     "output_type": "stream",
     "text": [
      "/home1/john/Downloads/cmlreaders-master/cmlreaders/path_finder.py:239: MultiplePathsFoundWarning: Multiple files found: /protocols/r1/subjects/R1226D/localizations/0/montages/0/neuroradiology/current_processed/pairs.json\n",
      "/data/eeg/R1226D/tal/R1226D_talLocs_database_bipol.mat returning the first file found\n",
      "  warnings.warn(msg, MultiplePathsFoundWarning)\n",
      "/home1/john/Downloads/cmlreaders-master/cmlreaders/readers/electrodes.py:236: MissingCoordinatesWarning: Could not load MNI coordinates\n",
      "  \"Could not load MNI coordinates\"))\n",
      "/home1/john/anaconda3/envs/env1/lib/python3.7/site-packages/ptsa/data/readers/tal.py:43: FutureWarning: Lab-specific readers may be moved to the cmlreaders package (https://github.com/pennmem/cmlreaders)\n",
      "  FutureWarning)\n",
      "/home1/john/Downloads/cmlreaders-master/cmlreaders/path_finder.py:239: MultiplePathsFoundWarning: Multiple files found: /protocols/r1/subjects/R1226D/experiments/FR1/sessions/0/ephys/current_processed/sources.json\n",
      "/data/eeg/R1226D/eeg.noreref/R1226D_FR1_0_30Nov16_2120.params.txt\n",
      "/data/eeg/R1226D/eeg.noreref/params.txt returning the first file found\n",
      "  warnings.warn(msg, MultiplePathsFoundWarning)\n"
     ]
    },
    {
     "name": "stdout",
     "output_type": "stream",
     "text": [
      "loaded eeg for R1226D0\n",
      "getting PTSA\n",
      "40 matching events found\n",
      "No baseline correction applied\n",
      "Not setting metadata\n",
      "0 projection items activated\n",
      "0 bad epochs dropped\n"
     ]
    },
    {
     "name": "stderr",
     "output_type": "stream",
     "text": [
      "/home1/john/Downloads/cmlreaders-master/cmlreaders/path_finder.py:239: MultiplePathsFoundWarning: Multiple files found: /protocols/r1/subjects/R1226D/localizations/0/montages/0/neuroradiology/current_processed/pairs.json\n",
      "/data/eeg/R1226D/tal/R1226D_talLocs_database_bipol.mat returning the first file found\n",
      "  warnings.warn(msg, MultiplePathsFoundWarning)\n",
      "/home1/john/Downloads/cmlreaders-master/cmlreaders/readers/electrodes.py:236: MissingCoordinatesWarning: Could not load MNI coordinates\n",
      "  \"Could not load MNI coordinates\"))\n",
      "/home1/john/anaconda3/envs/env1/lib/python3.7/site-packages/ptsa/data/readers/tal.py:43: FutureWarning: Lab-specific readers may be moved to the cmlreaders package (https://github.com/pennmem/cmlreaders)\n",
      "  FutureWarning)\n",
      "/home1/john/Downloads/cmlreaders-master/cmlreaders/path_finder.py:239: MultiplePathsFoundWarning: Multiple files found: /protocols/r1/subjects/R1226D/experiments/FR1/sessions/1/ephys/current_processed/sources.json\n",
      "/data/eeg/R1226D/eeg.noreref/R1226D_FR1_1_01Dec16_1613.params.txt\n",
      "/data/eeg/R1226D/eeg.noreref/params.txt returning the first file found\n",
      "  warnings.warn(msg, MultiplePathsFoundWarning)\n"
     ]
    },
    {
     "name": "stdout",
     "output_type": "stream",
     "text": [
      "loaded eeg for R1226D1\n",
      "getting PTSA\n",
      "69 matching events found\n",
      "No baseline correction applied\n",
      "Not setting metadata\n",
      "0 projection items activated\n",
      "0 bad epochs dropped\n"
     ]
    },
    {
     "name": "stderr",
     "output_type": "stream",
     "text": [
      "/home1/john/Downloads/cmlreaders-master/cmlreaders/path_finder.py:239: MultiplePathsFoundWarning: Multiple files found: /protocols/r1/subjects/R1228M/localizations/0/montages/0/neuroradiology/current_processed/pairs.json\n",
      "/data/eeg/R1228M/tal/R1228M_talLocs_database_bipol.mat returning the first file found\n",
      "  warnings.warn(msg, MultiplePathsFoundWarning)\n",
      "/home1/john/anaconda3/envs/env1/lib/python3.7/site-packages/ptsa/data/readers/tal.py:43: FutureWarning: Lab-specific readers may be moved to the cmlreaders package (https://github.com/pennmem/cmlreaders)\n",
      "  FutureWarning)\n",
      "/home1/john/Downloads/cmlreaders-master/cmlreaders/path_finder.py:239: MultiplePathsFoundWarning: Multiple files found: /protocols/r1/subjects/R1228M/experiments/FR1/sessions/0/ephys/current_processed/sources.json\n",
      "/data/eeg/R1228M/eeg.noreref/R1228M_FR1_0_30Sep16_1927.params.txt\n",
      "/data/eeg/R1228M/eeg.noreref/params.txt returning the first file found\n",
      "  warnings.warn(msg, MultiplePathsFoundWarning)\n"
     ]
    },
    {
     "name": "stdout",
     "output_type": "stream",
     "text": [
      "loaded eeg for R1228M0\n",
      "getting PTSA\n",
      "57 matching events found\n",
      "No baseline correction applied\n",
      "Not setting metadata\n",
      "0 projection items activated\n",
      "0 bad epochs dropped\n"
     ]
    },
    {
     "name": "stderr",
     "output_type": "stream",
     "text": [
      "/home1/john/Downloads/cmlreaders-master/cmlreaders/path_finder.py:239: MultiplePathsFoundWarning: Multiple files found: /protocols/r1/subjects/R1228M/localizations/0/montages/0/neuroradiology/current_processed/pairs.json\n",
      "/data/eeg/R1228M/tal/R1228M_talLocs_database_bipol.mat returning the first file found\n",
      "  warnings.warn(msg, MultiplePathsFoundWarning)\n",
      "/home1/john/anaconda3/envs/env1/lib/python3.7/site-packages/ptsa/data/readers/tal.py:43: FutureWarning: Lab-specific readers may be moved to the cmlreaders package (https://github.com/pennmem/cmlreaders)\n",
      "  FutureWarning)\n",
      "/home1/john/Downloads/cmlreaders-master/cmlreaders/path_finder.py:239: MultiplePathsFoundWarning: Multiple files found: /protocols/r1/subjects/R1228M/experiments/FR1/sessions/1/ephys/current_processed/sources.json\n",
      "/data/eeg/R1228M/eeg.noreref/R1228M_FR1_1_01Oct16_1509.params.txt\n",
      "/data/eeg/R1228M/eeg.noreref/params.txt returning the first file found\n",
      "  warnings.warn(msg, MultiplePathsFoundWarning)\n"
     ]
    },
    {
     "name": "stdout",
     "output_type": "stream",
     "text": [
      "loaded eeg for R1228M1\n",
      "getting PTSA\n",
      "40 matching events found\n",
      "No baseline correction applied\n",
      "Not setting metadata\n",
      "0 projection items activated\n",
      "0 bad epochs dropped\n"
     ]
    },
    {
     "name": "stderr",
     "output_type": "stream",
     "text": [
      "/home1/john/Downloads/cmlreaders-master/cmlreaders/path_finder.py:239: MultiplePathsFoundWarning: Multiple files found: /protocols/r1/subjects/R1229M/localizations/0/montages/0/neuroradiology/current_processed/pairs.json\n",
      "/data/eeg/R1229M/tal/R1229M_talLocs_database_bipol.mat returning the first file found\n",
      "  warnings.warn(msg, MultiplePathsFoundWarning)\n",
      "/home1/john/anaconda3/envs/env1/lib/python3.7/site-packages/ptsa/data/readers/tal.py:43: FutureWarning: Lab-specific readers may be moved to the cmlreaders package (https://github.com/pennmem/cmlreaders)\n",
      "  FutureWarning)\n",
      "/home1/john/Downloads/cmlreaders-master/cmlreaders/path_finder.py:239: MultiplePathsFoundWarning: Multiple files found: /protocols/r1/subjects/R1229M/experiments/FR1/sessions/0/ephys/current_processed/sources.json\n",
      "/data/eeg/R1229M/eeg.noreref/R1229M_FR1_0_04Oct16_1834.params.txt\n",
      "/data/eeg/R1229M/eeg.noreref/params.txt returning the first file found\n",
      "  warnings.warn(msg, MultiplePathsFoundWarning)\n"
     ]
    },
    {
     "name": "stdout",
     "output_type": "stream",
     "text": [
      "loaded eeg for R1229M0\n",
      "getting PTSA\n",
      "24 matching events found\n",
      "No baseline correction applied\n",
      "Not setting metadata\n",
      "0 projection items activated\n",
      "0 bad epochs dropped\n"
     ]
    },
    {
     "name": "stderr",
     "output_type": "stream",
     "text": [
      "/home1/john/Downloads/cmlreaders-master/cmlreaders/path_finder.py:239: MultiplePathsFoundWarning: Multiple files found: /protocols/r1/subjects/R1229M/localizations/0/montages/0/neuroradiology/current_processed/pairs.json\n",
      "/data/eeg/R1229M/tal/R1229M_talLocs_database_bipol.mat returning the first file found\n",
      "  warnings.warn(msg, MultiplePathsFoundWarning)\n",
      "/home1/john/anaconda3/envs/env1/lib/python3.7/site-packages/ptsa/data/readers/tal.py:43: FutureWarning: Lab-specific readers may be moved to the cmlreaders package (https://github.com/pennmem/cmlreaders)\n",
      "  FutureWarning)\n",
      "/home1/john/Downloads/cmlreaders-master/cmlreaders/path_finder.py:239: MultiplePathsFoundWarning: Multiple files found: /protocols/r1/subjects/R1229M/experiments/FR1/sessions/1/ephys/current_processed/sources.json\n",
      "/data/eeg/R1229M/eeg.noreref/R1229M_FR1_1_05Oct16_2014.params.txt\n",
      "/data/eeg/R1229M/eeg.noreref/params.txt returning the first file found\n",
      "  warnings.warn(msg, MultiplePathsFoundWarning)\n"
     ]
    },
    {
     "name": "stdout",
     "output_type": "stream",
     "text": [
      "loaded eeg for R1229M1\n",
      "getting PTSA\n",
      "17 matching events found\n",
      "No baseline correction applied\n",
      "Not setting metadata\n",
      "0 projection items activated\n",
      "0 bad epochs dropped\n"
     ]
    },
    {
     "name": "stderr",
     "output_type": "stream",
     "text": [
      "/home1/john/Downloads/cmlreaders-master/cmlreaders/path_finder.py:239: MultiplePathsFoundWarning: Multiple files found: /protocols/r1/subjects/R1230J/localizations/0/montages/0/neuroradiology/current_processed/pairs.json\n",
      "/data/eeg/R1230J/tal/R1230J_talLocs_database_bipol.mat returning the first file found\n",
      "  warnings.warn(msg, MultiplePathsFoundWarning)\n",
      "/home1/john/anaconda3/envs/env1/lib/python3.7/site-packages/ptsa/data/readers/tal.py:43: FutureWarning: Lab-specific readers may be moved to the cmlreaders package (https://github.com/pennmem/cmlreaders)\n",
      "  FutureWarning)\n",
      "/home1/john/Downloads/cmlreaders-master/cmlreaders/path_finder.py:239: MultiplePathsFoundWarning: Multiple files found: /protocols/r1/subjects/R1230J/experiments/FR1/sessions/0/ephys/current_processed/sources.json\n",
      "/data/eeg/R1230J/eeg.noreref/R1230J_FR1_0_09Oct16_1757.params.txt\n",
      "/data/eeg/R1230J/eeg.noreref/params.txt returning the first file found\n",
      "  warnings.warn(msg, MultiplePathsFoundWarning)\n"
     ]
    },
    {
     "name": "stdout",
     "output_type": "stream",
     "text": [
      "loaded eeg for R1230J0\n",
      "getting PTSA\n",
      "62 matching events found\n",
      "No baseline correction applied\n",
      "Not setting metadata\n",
      "0 projection items activated\n",
      "0 bad epochs dropped\n"
     ]
    },
    {
     "name": "stderr",
     "output_type": "stream",
     "text": [
      "/home1/john/Downloads/cmlreaders-master/cmlreaders/path_finder.py:239: MultiplePathsFoundWarning: Multiple files found: /protocols/r1/subjects/R1230J/localizations/0/montages/0/neuroradiology/current_processed/pairs.json\n",
      "/data/eeg/R1230J/tal/R1230J_talLocs_database_bipol.mat returning the first file found\n",
      "  warnings.warn(msg, MultiplePathsFoundWarning)\n",
      "/home1/john/anaconda3/envs/env1/lib/python3.7/site-packages/ptsa/data/readers/tal.py:43: FutureWarning: Lab-specific readers may be moved to the cmlreaders package (https://github.com/pennmem/cmlreaders)\n",
      "  FutureWarning)\n",
      "/home1/john/Downloads/cmlreaders-master/cmlreaders/path_finder.py:239: MultiplePathsFoundWarning: Multiple files found: /protocols/r1/subjects/R1230J/experiments/FR1/sessions/2/ephys/current_processed/sources.json\n",
      "/data/eeg/R1230J/eeg.noreref/R1230J_FR1_2_12Oct16_1435.params.txt\n",
      "/data/eeg/R1230J/eeg.noreref/params.txt returning the first file found\n",
      "  warnings.warn(msg, MultiplePathsFoundWarning)\n"
     ]
    },
    {
     "name": "stdout",
     "output_type": "stream",
     "text": [
      "loaded eeg for R1230J2\n",
      "getting PTSA\n",
      "44 matching events found\n",
      "No baseline correction applied\n",
      "Not setting metadata\n",
      "0 projection items activated\n",
      "0 bad epochs dropped\n"
     ]
    },
    {
     "name": "stderr",
     "output_type": "stream",
     "text": [
      "/home1/john/Downloads/cmlreaders-master/cmlreaders/path_finder.py:239: MultiplePathsFoundWarning: Multiple files found: /protocols/r1/subjects/R1230J/localizations/0/montages/0/neuroradiology/current_processed/pairs.json\n",
      "/data/eeg/R1230J/tal/R1230J_talLocs_database_bipol.mat returning the first file found\n",
      "  warnings.warn(msg, MultiplePathsFoundWarning)\n",
      "/home1/john/anaconda3/envs/env1/lib/python3.7/site-packages/ptsa/data/readers/tal.py:43: FutureWarning: Lab-specific readers may be moved to the cmlreaders package (https://github.com/pennmem/cmlreaders)\n",
      "  FutureWarning)\n",
      "/home1/john/Downloads/cmlreaders-master/cmlreaders/path_finder.py:239: MultiplePathsFoundWarning: Multiple files found: /protocols/r1/subjects/R1230J/experiments/FR1/sessions/4/ephys/current_processed/sources.json\n",
      "/data/eeg/R1230J/eeg.noreref/R1230J_FR1_4_13Oct16_1903.params.txt\n",
      "/data/eeg/R1230J/eeg.noreref/params.txt returning the first file found\n",
      "  warnings.warn(msg, MultiplePathsFoundWarning)\n"
     ]
    },
    {
     "name": "stdout",
     "output_type": "stream",
     "text": [
      "loaded eeg for R1230J4\n",
      "getting PTSA\n",
      "27 matching events found\n",
      "No baseline correction applied\n",
      "Not setting metadata\n",
      "0 projection items activated\n",
      "0 bad epochs dropped\n"
     ]
    },
    {
     "name": "stderr",
     "output_type": "stream",
     "text": [
      "/home1/john/Downloads/cmlreaders-master/cmlreaders/path_finder.py:239: MultiplePathsFoundWarning: Multiple files found: /protocols/r1/subjects/R1230J/localizations/0/montages/0/neuroradiology/current_processed/pairs.json\n",
      "/data/eeg/R1230J/tal/R1230J_talLocs_database_bipol.mat returning the first file found\n",
      "  warnings.warn(msg, MultiplePathsFoundWarning)\n",
      "/home1/john/anaconda3/envs/env1/lib/python3.7/site-packages/ptsa/data/readers/tal.py:43: FutureWarning: Lab-specific readers may be moved to the cmlreaders package (https://github.com/pennmem/cmlreaders)\n",
      "  FutureWarning)\n",
      "/home1/john/Downloads/cmlreaders-master/cmlreaders/path_finder.py:239: MultiplePathsFoundWarning: Multiple files found: /protocols/r1/subjects/R1230J/experiments/FR1/sessions/5/ephys/current_processed/sources.json\n",
      "/data/eeg/R1230J/eeg.noreref/R1230J_FR1_5_14Oct16_1402.params.txt\n",
      "/data/eeg/R1230J/eeg.noreref/params.txt returning the first file found\n",
      "  warnings.warn(msg, MultiplePathsFoundWarning)\n"
     ]
    },
    {
     "name": "stdout",
     "output_type": "stream",
     "text": [
      "loaded eeg for R1230J5\n",
      "getting PTSA\n",
      "32 matching events found\n",
      "No baseline correction applied\n",
      "Not setting metadata\n",
      "0 projection items activated\n",
      "0 bad epochs dropped\n"
     ]
    },
    {
     "name": "stderr",
     "output_type": "stream",
     "text": [
      "/home1/john/Downloads/cmlreaders-master/cmlreaders/path_finder.py:239: MultiplePathsFoundWarning: Multiple files found: /protocols/r1/subjects/R1230J/localizations/0/montages/0/neuroradiology/current_processed/pairs.json\n",
      "/data/eeg/R1230J/tal/R1230J_talLocs_database_bipol.mat returning the first file found\n",
      "  warnings.warn(msg, MultiplePathsFoundWarning)\n",
      "/home1/john/anaconda3/envs/env1/lib/python3.7/site-packages/ptsa/data/readers/tal.py:43: FutureWarning: Lab-specific readers may be moved to the cmlreaders package (https://github.com/pennmem/cmlreaders)\n",
      "  FutureWarning)\n",
      "/home1/john/Downloads/cmlreaders-master/cmlreaders/path_finder.py:239: MultiplePathsFoundWarning: Multiple files found: /protocols/r1/subjects/R1230J/experiments/FR1/sessions/6/ephys/current_processed/sources.json\n",
      "/data/eeg/R1230J/eeg.noreref/params.txt returning the first file found\n",
      "  warnings.warn(msg, MultiplePathsFoundWarning)\n"
     ]
    },
    {
     "name": "stdout",
     "output_type": "stream",
     "text": [
      "loaded eeg for R1230J6\n",
      "getting PTSA\n",
      "36 matching events found\n",
      "No baseline correction applied\n",
      "Not setting metadata\n",
      "0 projection items activated\n",
      "0 bad epochs dropped\n"
     ]
    },
    {
     "name": "stderr",
     "output_type": "stream",
     "text": [
      "/home1/john/Downloads/cmlreaders-master/cmlreaders/path_finder.py:239: MultiplePathsFoundWarning: Multiple files found: /protocols/r1/subjects/R1231M/localizations/0/montages/0/neuroradiology/current_processed/pairs.json\n",
      "/data/eeg/R1231M/tal/R1231M_talLocs_database_bipol.mat returning the first file found\n",
      "  warnings.warn(msg, MultiplePathsFoundWarning)\n",
      "/home1/john/Downloads/cmlreaders-master/cmlreaders/readers/electrodes.py:236: MissingCoordinatesWarning: Could not load MNI coordinates\n",
      "  \"Could not load MNI coordinates\"))\n",
      "/home1/john/anaconda3/envs/env1/lib/python3.7/site-packages/ptsa/data/readers/tal.py:43: FutureWarning: Lab-specific readers may be moved to the cmlreaders package (https://github.com/pennmem/cmlreaders)\n",
      "  FutureWarning)\n",
      "/home1/john/Downloads/cmlreaders-master/cmlreaders/path_finder.py:239: MultiplePathsFoundWarning: Multiple files found: /protocols/r1/subjects/R1231M/experiments/FR1/sessions/0/ephys/current_processed/sources.json\n",
      "/data/eeg/R1231M/eeg.noreref/R1231M_FR1_0_10Oct16_1939.params.txt\n",
      "/data/eeg/R1231M/eeg.noreref/params.txt returning the first file found\n",
      "  warnings.warn(msg, MultiplePathsFoundWarning)\n"
     ]
    },
    {
     "name": "stdout",
     "output_type": "stream",
     "text": [
      "loaded eeg for R1231M0\n",
      "getting PTSA\n",
      "71 matching events found\n",
      "No baseline correction applied\n",
      "Not setting metadata\n",
      "0 projection items activated\n",
      "0 bad epochs dropped\n"
     ]
    },
    {
     "name": "stderr",
     "output_type": "stream",
     "text": [
      "/home1/john/Downloads/cmlreaders-master/cmlreaders/path_finder.py:239: MultiplePathsFoundWarning: Multiple files found: /protocols/r1/subjects/R1231M/localizations/0/montages/0/neuroradiology/current_processed/pairs.json\n",
      "/data/eeg/R1231M/tal/R1231M_talLocs_database_bipol.mat returning the first file found\n",
      "  warnings.warn(msg, MultiplePathsFoundWarning)\n",
      "/home1/john/Downloads/cmlreaders-master/cmlreaders/readers/electrodes.py:236: MissingCoordinatesWarning: Could not load MNI coordinates\n",
      "  \"Could not load MNI coordinates\"))\n",
      "/home1/john/anaconda3/envs/env1/lib/python3.7/site-packages/ptsa/data/readers/tal.py:43: FutureWarning: Lab-specific readers may be moved to the cmlreaders package (https://github.com/pennmem/cmlreaders)\n",
      "  FutureWarning)\n",
      "/home1/john/Downloads/cmlreaders-master/cmlreaders/path_finder.py:239: MultiplePathsFoundWarning: Multiple files found: /protocols/r1/subjects/R1231M/experiments/FR1/sessions/1/ephys/current_processed/sources.json\n",
      "/data/eeg/R1231M/eeg.noreref/R1231M_FR1_1_12Oct16_1913.params.txt\n",
      "/data/eeg/R1231M/eeg.noreref/params.txt returning the first file found\n",
      "  warnings.warn(msg, MultiplePathsFoundWarning)\n",
      "/home1/john/Downloads/cmlreaders-master/cmlreaders/path_finder.py:239: MultiplePathsFoundWarning: Multiple files found: /protocols/r1/subjects/R1231M/experiments/FR1/sessions/1/ephys/current_processed/sources.json\n",
      "/data/eeg/R1231M/eeg.noreref/R1231M_FR1_1_12Oct16_1937.params.txt\n",
      "/data/eeg/R1231M/eeg.noreref/params.txt returning the first file found\n",
      "  warnings.warn(msg, MultiplePathsFoundWarning)\n"
     ]
    },
    {
     "name": "stdout",
     "output_type": "stream",
     "text": [
      "loaded eeg for R1231M1\n",
      "getting PTSA\n",
      "48 matching events found\n",
      "No baseline correction applied\n",
      "Not setting metadata\n",
      "0 projection items activated\n",
      "0 bad epochs dropped\n"
     ]
    },
    {
     "name": "stderr",
     "output_type": "stream",
     "text": [
      "/home1/john/Downloads/cmlreaders-master/cmlreaders/path_finder.py:239: MultiplePathsFoundWarning: Multiple files found: /protocols/r1/subjects/R1232N/localizations/0/montages/0/neuroradiology/current_processed/pairs.json\n",
      "/data/eeg/R1232N/tal/R1232N_talLocs_database_bipol.mat returning the first file found\n",
      "  warnings.warn(msg, MultiplePathsFoundWarning)\n",
      "/home1/john/Downloads/cmlreaders-master/cmlreaders/readers/electrodes.py:236: MissingCoordinatesWarning: Could not load MNI coordinates\n",
      "  \"Could not load MNI coordinates\"))\n",
      "/home1/john/anaconda3/envs/env1/lib/python3.7/site-packages/ptsa/data/readers/tal.py:43: FutureWarning: Lab-specific readers may be moved to the cmlreaders package (https://github.com/pennmem/cmlreaders)\n",
      "  FutureWarning)\n",
      "/home1/john/Downloads/cmlreaders-master/cmlreaders/path_finder.py:239: MultiplePathsFoundWarning: Multiple files found: /protocols/r1/subjects/R1232N/experiments/FR1/sessions/0/ephys/current_processed/sources.json\n",
      "/data/eeg/R1232N/eeg.noreref/R1232N_FR1_0_10Oct16_2158.params.txt\n",
      "/data/eeg/R1232N/eeg.noreref/params.txt returning the first file found\n",
      "  warnings.warn(msg, MultiplePathsFoundWarning)\n"
     ]
    },
    {
     "name": "stdout",
     "output_type": "stream",
     "text": [
      "loaded eeg for R1232N0\n",
      "getting PTSA\n",
      "45 matching events found\n",
      "No baseline correction applied\n",
      "Not setting metadata\n",
      "0 projection items activated\n",
      "0 bad epochs dropped\n"
     ]
    },
    {
     "name": "stderr",
     "output_type": "stream",
     "text": [
      "/home1/john/Downloads/cmlreaders-master/cmlreaders/path_finder.py:239: MultiplePathsFoundWarning: Multiple files found: /protocols/r1/subjects/R1234D/localizations/0/montages/0/neuroradiology/current_processed/pairs.json\n",
      "/data/eeg/R1234D/tal/R1234D_talLocs_database_bipol.mat returning the first file found\n",
      "  warnings.warn(msg, MultiplePathsFoundWarning)\n",
      "/home1/john/Downloads/cmlreaders-master/cmlreaders/readers/electrodes.py:236: MissingCoordinatesWarning: Could not load MNI coordinates\n",
      "  \"Could not load MNI coordinates\"))\n",
      "/home1/john/anaconda3/envs/env1/lib/python3.7/site-packages/ptsa/data/readers/tal.py:43: FutureWarning: Lab-specific readers may be moved to the cmlreaders package (https://github.com/pennmem/cmlreaders)\n",
      "  FutureWarning)\n",
      "/home1/john/Downloads/cmlreaders-master/cmlreaders/path_finder.py:239: MultiplePathsFoundWarning: Multiple files found: /protocols/r1/subjects/R1234D/experiments/FR1/sessions/0/ephys/current_processed/sources.json\n",
      "/data/eeg/R1234D/eeg.noreref/R1234D_FR1_0_13Oct16_1730.params.txt\n",
      "/data/eeg/R1234D/eeg.noreref/params.txt returning the first file found\n",
      "  warnings.warn(msg, MultiplePathsFoundWarning)\n"
     ]
    },
    {
     "name": "stdout",
     "output_type": "stream",
     "text": [
      "loaded eeg for R1234D0\n",
      "getting PTSA\n",
      "59 matching events found\n",
      "No baseline correction applied\n",
      "Not setting metadata\n",
      "0 projection items activated\n",
      "0 bad epochs dropped\n"
     ]
    },
    {
     "name": "stderr",
     "output_type": "stream",
     "text": [
      "/home1/john/Downloads/cmlreaders-master/cmlreaders/path_finder.py:239: MultiplePathsFoundWarning: Multiple files found: /protocols/r1/subjects/R1234D/localizations/0/montages/0/neuroradiology/current_processed/pairs.json\n",
      "/data/eeg/R1234D/tal/R1234D_talLocs_database_bipol.mat returning the first file found\n",
      "  warnings.warn(msg, MultiplePathsFoundWarning)\n",
      "/home1/john/Downloads/cmlreaders-master/cmlreaders/readers/electrodes.py:236: MissingCoordinatesWarning: Could not load MNI coordinates\n",
      "  \"Could not load MNI coordinates\"))\n",
      "/home1/john/anaconda3/envs/env1/lib/python3.7/site-packages/ptsa/data/readers/tal.py:43: FutureWarning: Lab-specific readers may be moved to the cmlreaders package (https://github.com/pennmem/cmlreaders)\n",
      "  FutureWarning)\n",
      "/home1/john/Downloads/cmlreaders-master/cmlreaders/path_finder.py:239: MultiplePathsFoundWarning: Multiple files found: /protocols/r1/subjects/R1234D/experiments/FR1/sessions/1/ephys/current_processed/sources.json\n",
      "/data/eeg/R1234D/eeg.noreref/R1234D_FR1_1_18Oct16_1914.params.txt\n",
      "/data/eeg/R1234D/eeg.noreref/params.txt returning the first file found\n",
      "  warnings.warn(msg, MultiplePathsFoundWarning)\n"
     ]
    },
    {
     "name": "stdout",
     "output_type": "stream",
     "text": [
      "loaded eeg for R1234D1\n",
      "getting PTSA\n",
      "46 matching events found\n",
      "No baseline correction applied\n",
      "Not setting metadata\n",
      "0 projection items activated\n",
      "0 bad epochs dropped\n"
     ]
    },
    {
     "name": "stderr",
     "output_type": "stream",
     "text": [
      "/home1/john/Downloads/cmlreaders-master/cmlreaders/path_finder.py:239: MultiplePathsFoundWarning: Multiple files found: /protocols/r1/subjects/R1236J/localizations/0/montages/0/neuroradiology/current_processed/pairs.json\n",
      "/data/eeg/R1236J/tal/R1236J_talLocs_database_bipol.mat returning the first file found\n",
      "  warnings.warn(msg, MultiplePathsFoundWarning)\n",
      "/home1/john/anaconda3/envs/env1/lib/python3.7/site-packages/ptsa/data/readers/tal.py:43: FutureWarning: Lab-specific readers may be moved to the cmlreaders package (https://github.com/pennmem/cmlreaders)\n",
      "  FutureWarning)\n",
      "/home1/john/Downloads/cmlreaders-master/cmlreaders/path_finder.py:239: MultiplePathsFoundWarning: Multiple files found: /protocols/r1/subjects/R1236J/experiments/FR1/sessions/0/ephys/current_processed/sources.json\n",
      "/data/eeg/R1236J/eeg.noreref/R1236J_FR1_0_27Oct16_1928.params.txt\n",
      "/data/eeg/R1236J/eeg.noreref/params.txt returning the first file found\n",
      "  warnings.warn(msg, MultiplePathsFoundWarning)\n"
     ]
    },
    {
     "name": "stdout",
     "output_type": "stream",
     "text": [
      "loaded eeg for R1236J0\n",
      "getting PTSA\n",
      "54 matching events found\n",
      "No baseline correction applied\n",
      "Not setting metadata\n",
      "0 projection items activated\n",
      "0 bad epochs dropped\n"
     ]
    },
    {
     "name": "stderr",
     "output_type": "stream",
     "text": [
      "/home1/john/Downloads/cmlreaders-master/cmlreaders/path_finder.py:239: MultiplePathsFoundWarning: Multiple files found: /protocols/r1/subjects/R1236J/localizations/0/montages/0/neuroradiology/current_processed/pairs.json\n",
      "/data/eeg/R1236J/tal/R1236J_talLocs_database_bipol.mat returning the first file found\n",
      "  warnings.warn(msg, MultiplePathsFoundWarning)\n",
      "/home1/john/anaconda3/envs/env1/lib/python3.7/site-packages/ptsa/data/readers/tal.py:43: FutureWarning: Lab-specific readers may be moved to the cmlreaders package (https://github.com/pennmem/cmlreaders)\n",
      "  FutureWarning)\n",
      "/home1/john/Downloads/cmlreaders-master/cmlreaders/path_finder.py:239: MultiplePathsFoundWarning: Multiple files found: /protocols/r1/subjects/R1236J/experiments/FR1/sessions/1/ephys/current_processed/sources.json\n",
      "/data/eeg/R1236J/eeg.noreref/R1236J_FR1_1_29Oct16_1723.params.txt\n",
      "/data/eeg/R1236J/eeg.noreref/params.txt returning the first file found\n",
      "  warnings.warn(msg, MultiplePathsFoundWarning)\n"
     ]
    },
    {
     "name": "stdout",
     "output_type": "stream",
     "text": [
      "loaded eeg for R1236J1\n",
      "getting PTSA\n",
      "61 matching events found\n",
      "No baseline correction applied\n",
      "Not setting metadata\n",
      "0 projection items activated\n",
      "0 bad epochs dropped\n"
     ]
    },
    {
     "name": "stderr",
     "output_type": "stream",
     "text": [
      "/home1/john/Downloads/cmlreaders-master/cmlreaders/path_finder.py:239: MultiplePathsFoundWarning: Multiple files found: /protocols/r1/subjects/R1236J/localizations/0/montages/0/neuroradiology/current_processed/pairs.json\n",
      "/data/eeg/R1236J/tal/R1236J_talLocs_database_bipol.mat returning the first file found\n",
      "  warnings.warn(msg, MultiplePathsFoundWarning)\n",
      "/home1/john/anaconda3/envs/env1/lib/python3.7/site-packages/ptsa/data/readers/tal.py:43: FutureWarning: Lab-specific readers may be moved to the cmlreaders package (https://github.com/pennmem/cmlreaders)\n",
      "  FutureWarning)\n",
      "/home1/john/Downloads/cmlreaders-master/cmlreaders/path_finder.py:239: MultiplePathsFoundWarning: Multiple files found: /protocols/r1/subjects/R1236J/experiments/FR1/sessions/2/ephys/current_processed/sources.json\n",
      "/data/eeg/R1236J/eeg.noreref/R1236J_FR1_2_30Oct16_1615.params.txt\n",
      "/data/eeg/R1236J/eeg.noreref/params.txt returning the first file found\n",
      "  warnings.warn(msg, MultiplePathsFoundWarning)\n"
     ]
    },
    {
     "name": "stdout",
     "output_type": "stream",
     "text": [
      "loaded eeg for R1236J2\n",
      "getting PTSA\n",
      "67 matching events found\n",
      "No baseline correction applied\n",
      "Not setting metadata\n",
      "0 projection items activated\n",
      "0 bad epochs dropped\n"
     ]
    },
    {
     "name": "stderr",
     "output_type": "stream",
     "text": [
      "/home1/john/Downloads/cmlreaders-master/cmlreaders/path_finder.py:239: MultiplePathsFoundWarning: Multiple files found: /protocols/r1/subjects/R1236J/localizations/0/montages/0/neuroradiology/current_processed/pairs.json\n",
      "/data/eeg/R1236J/tal/R1236J_talLocs_database_bipol.mat returning the first file found\n",
      "  warnings.warn(msg, MultiplePathsFoundWarning)\n",
      "/home1/john/anaconda3/envs/env1/lib/python3.7/site-packages/ptsa/data/readers/tal.py:43: FutureWarning: Lab-specific readers may be moved to the cmlreaders package (https://github.com/pennmem/cmlreaders)\n",
      "  FutureWarning)\n",
      "/home1/john/Downloads/cmlreaders-master/cmlreaders/path_finder.py:239: MultiplePathsFoundWarning: Multiple files found: /protocols/r1/subjects/R1236J/experiments/FR1/sessions/3/ephys/current_processed/sources.json\n",
      "/data/eeg/R1236J/eeg.noreref/R1236J_FR1_3_02Nov16_1819.params.txt\n",
      "/data/eeg/R1236J/eeg.noreref/params.txt returning the first file found\n",
      "  warnings.warn(msg, MultiplePathsFoundWarning)\n"
     ]
    },
    {
     "name": "stdout",
     "output_type": "stream",
     "text": [
      "loaded eeg for R1236J3\n",
      "getting PTSA\n",
      "43 matching events found\n",
      "No baseline correction applied\n",
      "Not setting metadata\n",
      "0 projection items activated\n",
      "0 bad epochs dropped\n"
     ]
    },
    {
     "name": "stderr",
     "output_type": "stream",
     "text": [
      "/home1/john/Downloads/cmlreaders-master/cmlreaders/path_finder.py:239: MultiplePathsFoundWarning: Multiple files found: /protocols/r1/subjects/R1240T/localizations/0/montages/0/neuroradiology/current_processed/pairs.json\n",
      "/data/eeg/R1240T/tal/R1240T_talLocs_database_bipol.mat returning the first file found\n",
      "  warnings.warn(msg, MultiplePathsFoundWarning)\n",
      "/home1/john/anaconda3/envs/env1/lib/python3.7/site-packages/ptsa/data/readers/tal.py:43: FutureWarning: Lab-specific readers may be moved to the cmlreaders package (https://github.com/pennmem/cmlreaders)\n",
      "  FutureWarning)\n",
      "/home1/john/Downloads/cmlreaders-master/cmlreaders/path_finder.py:239: MultiplePathsFoundWarning: Multiple files found: /protocols/r1/subjects/R1240T/experiments/FR1/sessions/0/ephys/current_processed/sources.json\n",
      "/data/eeg/R1240T/eeg.noreref/R1240T_FR1_0_15Nov16_2038.params.txt\n",
      "/data/eeg/R1240T/eeg.noreref/params.txt returning the first file found\n",
      "  warnings.warn(msg, MultiplePathsFoundWarning)\n"
     ]
    },
    {
     "name": "stdout",
     "output_type": "stream",
     "text": [
      "loaded eeg for R1240T0\n",
      "getting PTSA\n",
      "9 matching events found\n",
      "No baseline correction applied\n",
      "Not setting metadata\n",
      "0 projection items activated\n",
      "0 bad epochs dropped\n"
     ]
    },
    {
     "name": "stderr",
     "output_type": "stream",
     "text": [
      "/home1/john/Downloads/cmlreaders-master/cmlreaders/path_finder.py:239: MultiplePathsFoundWarning: Multiple files found: /protocols/r1/subjects/R1240T/localizations/0/montages/0/neuroradiology/current_processed/pairs.json\n",
      "/data/eeg/R1240T/tal/R1240T_talLocs_database_bipol.mat returning the first file found\n",
      "  warnings.warn(msg, MultiplePathsFoundWarning)\n",
      "/home1/john/anaconda3/envs/env1/lib/python3.7/site-packages/ptsa/data/readers/tal.py:43: FutureWarning: Lab-specific readers may be moved to the cmlreaders package (https://github.com/pennmem/cmlreaders)\n",
      "  FutureWarning)\n",
      "/home1/john/Downloads/cmlreaders-master/cmlreaders/path_finder.py:239: MultiplePathsFoundWarning: Multiple files found: /protocols/r1/subjects/R1240T/experiments/FR1/sessions/1/ephys/current_processed/sources.json\n",
      "/data/eeg/R1240T/eeg.noreref/R1240T_FR1_1_16Nov16_2215.params.txt\n",
      "/data/eeg/R1240T/eeg.noreref/params.txt returning the first file found\n",
      "  warnings.warn(msg, MultiplePathsFoundWarning)\n"
     ]
    },
    {
     "name": "stdout",
     "output_type": "stream",
     "text": [
      "loaded eeg for R1240T1\n",
      "getting PTSA\n",
      "19 matching events found\n",
      "No baseline correction applied\n",
      "Not setting metadata\n",
      "0 projection items activated\n",
      "0 bad epochs dropped\n"
     ]
    },
    {
     "name": "stderr",
     "output_type": "stream",
     "text": [
      "/home1/john/Downloads/cmlreaders-master/cmlreaders/path_finder.py:239: MultiplePathsFoundWarning: Multiple files found: /protocols/r1/subjects/R1241J/localizations/0/montages/0/neuroradiology/current_processed/pairs.json\n",
      "/data/eeg/R1241J/tal/R1241J_talLocs_database_bipol.mat returning the first file found\n",
      "  warnings.warn(msg, MultiplePathsFoundWarning)\n",
      "/home1/john/Downloads/cmlreaders-master/cmlreaders/readers/electrodes.py:236: MissingCoordinatesWarning: Could not load MNI coordinates\n",
      "  \"Could not load MNI coordinates\"))\n",
      "/home1/john/anaconda3/envs/env1/lib/python3.7/site-packages/ptsa/data/readers/tal.py:43: FutureWarning: Lab-specific readers may be moved to the cmlreaders package (https://github.com/pennmem/cmlreaders)\n",
      "  FutureWarning)\n",
      "/home1/john/Downloads/cmlreaders-master/cmlreaders/path_finder.py:239: MultiplePathsFoundWarning: Multiple files found: /protocols/r1/subjects/R1241J/experiments/FR1/sessions/0/ephys/current_processed/sources.json\n",
      "/data/eeg/R1241J/eeg.noreref/R1241J_FR1_0_07Dec16_1925.params.txt\n",
      "/data/eeg/R1241J/eeg.noreref/params.txt returning the first file found\n",
      "  warnings.warn(msg, MultiplePathsFoundWarning)\n"
     ]
    },
    {
     "name": "stdout",
     "output_type": "stream",
     "text": [
      "loaded eeg for R1241J0\n",
      "getting PTSA\n",
      "19 matching events found\n",
      "No baseline correction applied\n",
      "Not setting metadata\n",
      "0 projection items activated\n",
      "0 bad epochs dropped\n"
     ]
    },
    {
     "name": "stderr",
     "output_type": "stream",
     "text": [
      "/home1/john/Downloads/cmlreaders-master/cmlreaders/path_finder.py:239: MultiplePathsFoundWarning: Multiple files found: /protocols/r1/subjects/R1243T/localizations/0/montages/0/neuroradiology/current_processed/pairs.json\n",
      "/data/eeg/R1243T/tal/R1243T_talLocs_database_bipol.mat returning the first file found\n",
      "  warnings.warn(msg, MultiplePathsFoundWarning)\n",
      "/home1/john/Downloads/cmlreaders-master/cmlreaders/readers/electrodes.py:236: MissingCoordinatesWarning: Could not load MNI coordinates\n",
      "  \"Could not load MNI coordinates\"))\n",
      "/home1/john/anaconda3/envs/env1/lib/python3.7/site-packages/ptsa/data/readers/tal.py:43: FutureWarning: Lab-specific readers may be moved to the cmlreaders package (https://github.com/pennmem/cmlreaders)\n",
      "  FutureWarning)\n",
      "/home1/john/Downloads/cmlreaders-master/cmlreaders/path_finder.py:239: MultiplePathsFoundWarning: Multiple files found: /protocols/r1/subjects/R1243T/experiments/FR1/sessions/0/ephys/current_processed/sources.json\n",
      "/data/eeg/R1243T/eeg.noreref/R1243T_FR1_0_27Nov16_2129.params.txt\n",
      "/data/eeg/R1243T/eeg.noreref/params.txt returning the first file found\n",
      "  warnings.warn(msg, MultiplePathsFoundWarning)\n"
     ]
    },
    {
     "name": "stdout",
     "output_type": "stream",
     "text": [
      "loaded eeg for R1243T0\n",
      "getting PTSA\n",
      "41 matching events found\n",
      "No baseline correction applied\n",
      "Not setting metadata\n",
      "0 projection items activated\n",
      "0 bad epochs dropped\n"
     ]
    },
    {
     "name": "stderr",
     "output_type": "stream",
     "text": [
      "/home1/john/Downloads/cmlreaders-master/cmlreaders/path_finder.py:239: MultiplePathsFoundWarning: Multiple files found: /protocols/r1/subjects/R1243T/localizations/0/montages/0/neuroradiology/current_processed/pairs.json\n",
      "/data/eeg/R1243T/tal/R1243T_talLocs_database_bipol.mat returning the first file found\n",
      "  warnings.warn(msg, MultiplePathsFoundWarning)\n",
      "/home1/john/Downloads/cmlreaders-master/cmlreaders/readers/electrodes.py:236: MissingCoordinatesWarning: Could not load MNI coordinates\n",
      "  \"Could not load MNI coordinates\"))\n",
      "/home1/john/anaconda3/envs/env1/lib/python3.7/site-packages/ptsa/data/readers/tal.py:43: FutureWarning: Lab-specific readers may be moved to the cmlreaders package (https://github.com/pennmem/cmlreaders)\n",
      "  FutureWarning)\n",
      "/home1/john/Downloads/cmlreaders-master/cmlreaders/path_finder.py:239: MultiplePathsFoundWarning: Multiple files found: /protocols/r1/subjects/R1243T/experiments/FR1/sessions/1/ephys/current_processed/sources.json\n",
      "/data/eeg/R1243T/eeg.noreref/R1243T_FR1_1_28Nov16_1544.params.txt\n",
      "/data/eeg/R1243T/eeg.noreref/params.txt returning the first file found\n",
      "  warnings.warn(msg, MultiplePathsFoundWarning)\n"
     ]
    },
    {
     "name": "stdout",
     "output_type": "stream",
     "text": [
      "loaded eeg for R1243T1\n",
      "getting PTSA\n",
      "48 matching events found\n",
      "No baseline correction applied\n",
      "Not setting metadata\n",
      "0 projection items activated\n",
      "0 bad epochs dropped\n"
     ]
    },
    {
     "name": "stderr",
     "output_type": "stream",
     "text": [
      "/home1/john/Downloads/cmlreaders-master/cmlreaders/path_finder.py:239: MultiplePathsFoundWarning: Multiple files found: /protocols/r1/subjects/R1243T/localizations/0/montages/0/neuroradiology/current_processed/pairs.json\n",
      "/data/eeg/R1243T/tal/R1243T_talLocs_database_bipol.mat returning the first file found\n",
      "  warnings.warn(msg, MultiplePathsFoundWarning)\n",
      "/home1/john/Downloads/cmlreaders-master/cmlreaders/readers/electrodes.py:236: MissingCoordinatesWarning: Could not load MNI coordinates\n",
      "  \"Could not load MNI coordinates\"))\n",
      "/home1/john/anaconda3/envs/env1/lib/python3.7/site-packages/ptsa/data/readers/tal.py:43: FutureWarning: Lab-specific readers may be moved to the cmlreaders package (https://github.com/pennmem/cmlreaders)\n",
      "  FutureWarning)\n",
      "/home1/john/Downloads/cmlreaders-master/cmlreaders/path_finder.py:239: MultiplePathsFoundWarning: Multiple files found: /protocols/r1/subjects/R1243T/experiments/FR1/sessions/2/ephys/current_processed/sources.json\n",
      "/data/eeg/R1243T/eeg.noreref/R1243T_FR1_2_02Dec16_2009.params.txt\n",
      "/data/eeg/R1243T/eeg.noreref/params.txt returning the first file found\n",
      "  warnings.warn(msg, MultiplePathsFoundWarning)\n"
     ]
    },
    {
     "name": "stdout",
     "output_type": "stream",
     "text": [
      "loaded eeg for R1243T2\n",
      "getting PTSA\n",
      "31 matching events found\n",
      "No baseline correction applied\n",
      "Not setting metadata\n",
      "0 projection items activated\n",
      "0 bad epochs dropped\n"
     ]
    },
    {
     "name": "stderr",
     "output_type": "stream",
     "text": [
      "/home1/john/Downloads/cmlreaders-master/cmlreaders/path_finder.py:239: MultiplePathsFoundWarning: Multiple files found: /protocols/r1/subjects/R1243T/localizations/0/montages/0/neuroradiology/current_processed/pairs.json\n",
      "/data/eeg/R1243T/tal/R1243T_talLocs_database_bipol.mat returning the first file found\n",
      "  warnings.warn(msg, MultiplePathsFoundWarning)\n",
      "/home1/john/Downloads/cmlreaders-master/cmlreaders/readers/electrodes.py:236: MissingCoordinatesWarning: Could not load MNI coordinates\n",
      "  \"Could not load MNI coordinates\"))\n",
      "/home1/john/anaconda3/envs/env1/lib/python3.7/site-packages/ptsa/data/readers/tal.py:43: FutureWarning: Lab-specific readers may be moved to the cmlreaders package (https://github.com/pennmem/cmlreaders)\n",
      "  FutureWarning)\n",
      "/home1/john/Downloads/cmlreaders-master/cmlreaders/path_finder.py:239: MultiplePathsFoundWarning: Multiple files found: /protocols/r1/subjects/R1243T/experiments/FR1/sessions/3/ephys/current_processed/sources.json\n",
      "/data/eeg/R1243T/eeg.noreref/R1243T_FR1_3_15Dec16_1622.params.txt\n",
      "/data/eeg/R1243T/eeg.noreref/params.txt returning the first file found\n",
      "  warnings.warn(msg, MultiplePathsFoundWarning)\n"
     ]
    },
    {
     "name": "stdout",
     "output_type": "stream",
     "text": [
      "loaded eeg for R1243T3\n",
      "getting PTSA\n",
      "62 matching events found\n",
      "No baseline correction applied\n",
      "Not setting metadata\n",
      "0 projection items activated\n",
      "0 bad epochs dropped\n"
     ]
    },
    {
     "name": "stderr",
     "output_type": "stream",
     "text": [
      "/home1/john/Downloads/cmlreaders-master/cmlreaders/path_finder.py:239: MultiplePathsFoundWarning: Multiple files found: /protocols/r1/subjects/R1247P/localizations/0/montages/0/neuroradiology/current_processed/pairs.json\n",
      "/data/eeg/R1247P/tal/R1247P_talLocs_database_bipol.mat returning the first file found\n",
      "  warnings.warn(msg, MultiplePathsFoundWarning)\n",
      "/home1/john/anaconda3/envs/env1/lib/python3.7/site-packages/ptsa/data/readers/tal.py:43: FutureWarning: Lab-specific readers may be moved to the cmlreaders package (https://github.com/pennmem/cmlreaders)\n",
      "  FutureWarning)\n",
      "/home1/john/Downloads/cmlreaders-master/cmlreaders/path_finder.py:239: MultiplePathsFoundWarning: Multiple files found: /protocols/r1/subjects/R1247P/experiments/FR1/sessions/0/ephys/current_processed/sources.json\n",
      "/data/eeg/R1247P/eeg.noreref/R1247P_FR1_0_08Dec16_2036.params.txt\n",
      "/data/eeg/R1247P/eeg.noreref/params.txt returning the first file found\n",
      "  warnings.warn(msg, MultiplePathsFoundWarning)\n"
     ]
    },
    {
     "name": "stdout",
     "output_type": "stream",
     "text": [
      "loaded eeg for R1247P0\n",
      "getting PTSA\n",
      "52 matching events found\n",
      "No baseline correction applied\n",
      "Not setting metadata\n",
      "0 projection items activated\n",
      "0 bad epochs dropped\n"
     ]
    },
    {
     "name": "stderr",
     "output_type": "stream",
     "text": [
      "/home1/john/Downloads/cmlreaders-master/cmlreaders/path_finder.py:239: MultiplePathsFoundWarning: Multiple files found: /protocols/r1/subjects/R1250N/localizations/0/montages/0/neuroradiology/current_processed/pairs.json\n",
      "/data/eeg/R1250N/tal/R1250N_talLocs_database_bipol.mat returning the first file found\n",
      "  warnings.warn(msg, MultiplePathsFoundWarning)\n",
      "/home1/john/Downloads/cmlreaders-master/cmlreaders/readers/electrodes.py:236: MissingCoordinatesWarning: Could not load MNI coordinates\n",
      "  \"Could not load MNI coordinates\"))\n",
      "/home1/john/anaconda3/envs/env1/lib/python3.7/site-packages/ptsa/data/readers/tal.py:43: FutureWarning: Lab-specific readers may be moved to the cmlreaders package (https://github.com/pennmem/cmlreaders)\n",
      "  FutureWarning)\n",
      "/home1/john/Downloads/cmlreaders-master/cmlreaders/path_finder.py:239: MultiplePathsFoundWarning: Multiple files found: /protocols/r1/subjects/R1250N/experiments/FR1/sessions/0/ephys/current_processed/sources.json\n",
      "/data/eeg/R1250N/eeg.noreref/R1250N_FR1_0_09Dec16_2016.params.txt\n",
      "/data/eeg/R1250N/eeg.noreref/params.txt returning the first file found\n",
      "  warnings.warn(msg, MultiplePathsFoundWarning)\n"
     ]
    },
    {
     "name": "stdout",
     "output_type": "stream",
     "text": [
      "loaded eeg for R1250N0\n",
      "getting PTSA\n",
      "96 matching events found\n",
      "No baseline correction applied\n",
      "Not setting metadata\n",
      "0 projection items activated\n",
      "0 bad epochs dropped\n"
     ]
    },
    {
     "name": "stderr",
     "output_type": "stream",
     "text": [
      "/home1/john/Downloads/cmlreaders-master/cmlreaders/path_finder.py:239: MultiplePathsFoundWarning: Multiple files found: /protocols/r1/subjects/R1251M/localizations/0/montages/0/neuroradiology/current_processed/pairs.json\n",
      "/data/eeg/R1251M/tal/R1251M_talLocs_database_bipol.mat returning the first file found\n",
      "  warnings.warn(msg, MultiplePathsFoundWarning)\n",
      "/home1/john/anaconda3/envs/env1/lib/python3.7/site-packages/ptsa/data/readers/tal.py:43: FutureWarning: Lab-specific readers may be moved to the cmlreaders package (https://github.com/pennmem/cmlreaders)\n",
      "  FutureWarning)\n",
      "/home1/john/Downloads/cmlreaders-master/cmlreaders/path_finder.py:239: MultiplePathsFoundWarning: Multiple files found: /protocols/r1/subjects/R1251M/experiments/FR1/sessions/0/ephys/current_processed/sources.json\n",
      "/data/eeg/R1251M/eeg.noreref/R1251M_FR1_0_10Dec16_1749.params.txt\n",
      "/data/eeg/R1251M/eeg.noreref/params.txt returning the first file found\n",
      "  warnings.warn(msg, MultiplePathsFoundWarning)\n"
     ]
    },
    {
     "name": "stdout",
     "output_type": "stream",
     "text": [
      "loaded eeg for R1251M0\n",
      "getting PTSA\n",
      "50 matching events found\n",
      "No baseline correction applied\n",
      "Not setting metadata\n",
      "0 projection items activated\n",
      "0 bad epochs dropped\n"
     ]
    },
    {
     "name": "stderr",
     "output_type": "stream",
     "text": [
      "/home1/john/Downloads/cmlreaders-master/cmlreaders/path_finder.py:239: MultiplePathsFoundWarning: Multiple files found: /protocols/r1/subjects/R1260D/localizations/0/montages/0/neuroradiology/current_processed/pairs.json\n",
      "/data/eeg/R1260D/tal/R1260D_talLocs_database_bipol.mat returning the first file found\n",
      "  warnings.warn(msg, MultiplePathsFoundWarning)\n",
      "/home1/john/anaconda3/envs/env1/lib/python3.7/site-packages/ptsa/data/readers/tal.py:43: FutureWarning: Lab-specific readers may be moved to the cmlreaders package (https://github.com/pennmem/cmlreaders)\n",
      "  FutureWarning)\n",
      "/home1/john/Downloads/cmlreaders-master/cmlreaders/path_finder.py:239: MultiplePathsFoundWarning: Multiple files found: /protocols/r1/subjects/R1260D/experiments/FR1/sessions/0/ephys/current_processed/sources.json\n",
      "/data/eeg/R1260D/eeg.noreref/R1260D_FR1_0_26Jan17_1517.params.txt\n",
      "/data/eeg/R1260D/eeg.noreref/params.txt returning the first file found\n",
      "  warnings.warn(msg, MultiplePathsFoundWarning)\n"
     ]
    },
    {
     "name": "stdout",
     "output_type": "stream",
     "text": [
      "loaded eeg for R1260D0\n",
      "getting PTSA\n",
      "51 matching events found\n",
      "No baseline correction applied\n",
      "Not setting metadata\n",
      "0 projection items activated\n",
      "0 bad epochs dropped\n"
     ]
    },
    {
     "name": "stderr",
     "output_type": "stream",
     "text": [
      "/home1/john/Downloads/cmlreaders-master/cmlreaders/path_finder.py:239: MultiplePathsFoundWarning: Multiple files found: /protocols/r1/subjects/R1264P/localizations/0/montages/0/neuroradiology/current_processed/pairs.json\n",
      "/data/eeg/R1264P/tal/R1264P_talLocs_database_bipol.mat returning the first file found\n",
      "  warnings.warn(msg, MultiplePathsFoundWarning)\n",
      "/home1/john/anaconda3/envs/env1/lib/python3.7/site-packages/ptsa/data/readers/tal.py:43: FutureWarning: Lab-specific readers may be moved to the cmlreaders package (https://github.com/pennmem/cmlreaders)\n",
      "  FutureWarning)\n",
      "/home1/john/Downloads/cmlreaders-master/cmlreaders/path_finder.py:239: MultiplePathsFoundWarning: Multiple files found: /protocols/r1/subjects/R1264P/experiments/FR1/sessions/0/ephys/current_processed/sources.json\n",
      "/data/eeg/R1264P/eeg.noreref/R1264P_FR1_0_28Jan17_1903.params.txt\n",
      "/data/eeg/R1264P/eeg.noreref/params.txt returning the first file found\n",
      "  warnings.warn(msg, MultiplePathsFoundWarning)\n"
     ]
    },
    {
     "name": "stdout",
     "output_type": "stream",
     "text": [
      "loaded eeg for R1264P0\n",
      "getting PTSA\n",
      "36 matching events found\n",
      "No baseline correction applied\n",
      "Not setting metadata\n",
      "0 projection items activated\n",
      "0 bad epochs dropped\n"
     ]
    },
    {
     "name": "stderr",
     "output_type": "stream",
     "text": [
      "/home1/john/Downloads/cmlreaders-master/cmlreaders/path_finder.py:239: MultiplePathsFoundWarning: Multiple files found: /protocols/r1/subjects/R1268T/localizations/0/montages/0/neuroradiology/current_processed/pairs.json\n",
      "/data/eeg/R1268T/tal/R1268T_talLocs_database_bipol.mat returning the first file found\n",
      "  warnings.warn(msg, MultiplePathsFoundWarning)\n",
      "/home1/john/anaconda3/envs/env1/lib/python3.7/site-packages/ptsa/data/readers/tal.py:43: FutureWarning: Lab-specific readers may be moved to the cmlreaders package (https://github.com/pennmem/cmlreaders)\n",
      "  FutureWarning)\n",
      "/home1/john/Downloads/cmlreaders-master/cmlreaders/path_finder.py:239: MultiplePathsFoundWarning: Multiple files found: /protocols/r1/subjects/R1268T/experiments/FR1/sessions/0/ephys/current_processed/sources.json\n",
      "/data/eeg/R1268T/eeg.noreref/params.txt returning the first file found\n",
      "  warnings.warn(msg, MultiplePathsFoundWarning)\n"
     ]
    },
    {
     "name": "stdout",
     "output_type": "stream",
     "text": [
      "loaded eeg for R1268T0\n",
      "getting PTSA\n",
      "27 matching events found\n",
      "No baseline correction applied\n",
      "Not setting metadata\n",
      "0 projection items activated\n",
      "0 bad epochs dropped\n"
     ]
    },
    {
     "name": "stderr",
     "output_type": "stream",
     "text": [
      "/home1/john/Downloads/cmlreaders-master/cmlreaders/path_finder.py:239: MultiplePathsFoundWarning: Multiple files found: /protocols/r1/subjects/R1274T/localizations/0/montages/0/neuroradiology/current_processed/pairs.json\n",
      "/data/eeg/R1274T/tal/R1274T_talLocs_database_bipol.mat returning the first file found\n",
      "  warnings.warn(msg, MultiplePathsFoundWarning)\n",
      "/home1/john/anaconda3/envs/env1/lib/python3.7/site-packages/ptsa/data/readers/tal.py:43: FutureWarning: Lab-specific readers may be moved to the cmlreaders package (https://github.com/pennmem/cmlreaders)\n",
      "  FutureWarning)\n",
      "/home1/john/Downloads/cmlreaders-master/cmlreaders/path_finder.py:239: MultiplePathsFoundWarning: Multiple files found: /protocols/r1/subjects/R1274T/experiments/FR1/sessions/0/ephys/current_processed/sources.json\n",
      "/data/eeg/R1274T/eeg.noreref/R1274T_FR1_0_16Feb17_2222.params.txt\n",
      "/data/eeg/R1274T/eeg.noreref/params.txt returning the first file found\n",
      "  warnings.warn(msg, MultiplePathsFoundWarning)\n"
     ]
    },
    {
     "name": "stdout",
     "output_type": "stream",
     "text": [
      "loaded eeg for R1274T0\n",
      "getting PTSA\n",
      "34 matching events found\n",
      "No baseline correction applied\n",
      "Not setting metadata\n",
      "0 projection items activated\n",
      "0 bad epochs dropped\n"
     ]
    },
    {
     "name": "stderr",
     "output_type": "stream",
     "text": [
      "/home1/john/Downloads/cmlreaders-master/cmlreaders/path_finder.py:239: MultiplePathsFoundWarning: Multiple files found: /protocols/r1/subjects/R1275D/localizations/0/montages/0/neuroradiology/current_processed/pairs.json\n",
      "/data/eeg/R1275D/tal/R1275D_talLocs_database_bipol.mat returning the first file found\n",
      "  warnings.warn(msg, MultiplePathsFoundWarning)\n",
      "/home1/john/anaconda3/envs/env1/lib/python3.7/site-packages/ptsa/data/readers/tal.py:43: FutureWarning: Lab-specific readers may be moved to the cmlreaders package (https://github.com/pennmem/cmlreaders)\n",
      "  FutureWarning)\n"
     ]
    },
    {
     "name": "stdout",
     "output_type": "stream",
     "text": [
      "loaded eeg for R1275D0\n",
      "getting PTSA\n",
      "16 matching events found\n",
      "No baseline correction applied\n",
      "Not setting metadata\n",
      "0 projection items activated\n",
      "0 bad epochs dropped\n"
     ]
    },
    {
     "name": "stderr",
     "output_type": "stream",
     "text": [
      "/home1/john/Downloads/cmlreaders-master/cmlreaders/path_finder.py:239: MultiplePathsFoundWarning: Multiple files found: /protocols/r1/subjects/R1275D/localizations/0/montages/0/neuroradiology/current_processed/pairs.json\n",
      "/data/eeg/R1275D/tal/R1275D_talLocs_database_bipol.mat returning the first file found\n",
      "  warnings.warn(msg, MultiplePathsFoundWarning)\n",
      "/home1/john/anaconda3/envs/env1/lib/python3.7/site-packages/ptsa/data/readers/tal.py:43: FutureWarning: Lab-specific readers may be moved to the cmlreaders package (https://github.com/pennmem/cmlreaders)\n",
      "  FutureWarning)\n"
     ]
    },
    {
     "name": "stdout",
     "output_type": "stream",
     "text": [
      "loaded eeg for R1275D1\n",
      "getting PTSA\n",
      "30 matching events found\n",
      "No baseline correction applied\n",
      "Not setting metadata\n",
      "0 projection items activated\n",
      "0 bad epochs dropped\n"
     ]
    },
    {
     "name": "stderr",
     "output_type": "stream",
     "text": [
      "/home1/john/Downloads/cmlreaders-master/cmlreaders/path_finder.py:239: MultiplePathsFoundWarning: Multiple files found: /protocols/r1/subjects/R1275D/localizations/0/montages/0/neuroradiology/current_processed/pairs.json\n",
      "/data/eeg/R1275D/tal/R1275D_talLocs_database_bipol.mat returning the first file found\n",
      "  warnings.warn(msg, MultiplePathsFoundWarning)\n",
      "/home1/john/anaconda3/envs/env1/lib/python3.7/site-packages/ptsa/data/readers/tal.py:43: FutureWarning: Lab-specific readers may be moved to the cmlreaders package (https://github.com/pennmem/cmlreaders)\n",
      "  FutureWarning)\n"
     ]
    },
    {
     "name": "stdout",
     "output_type": "stream",
     "text": [
      "loaded eeg for R1275D2\n",
      "getting PTSA\n",
      "34 matching events found\n",
      "No baseline correction applied\n",
      "Not setting metadata\n",
      "0 projection items activated\n",
      "0 bad epochs dropped\n"
     ]
    },
    {
     "name": "stderr",
     "output_type": "stream",
     "text": [
      "/home1/john/Downloads/cmlreaders-master/cmlreaders/path_finder.py:239: MultiplePathsFoundWarning: Multiple files found: /protocols/r1/subjects/R1275D/localizations/0/montages/0/neuroradiology/current_processed/pairs.json\n",
      "/data/eeg/R1275D/tal/R1275D_talLocs_database_bipol.mat returning the first file found\n",
      "  warnings.warn(msg, MultiplePathsFoundWarning)\n",
      "/home1/john/anaconda3/envs/env1/lib/python3.7/site-packages/ptsa/data/readers/tal.py:43: FutureWarning: Lab-specific readers may be moved to the cmlreaders package (https://github.com/pennmem/cmlreaders)\n",
      "  FutureWarning)\n"
     ]
    },
    {
     "name": "stdout",
     "output_type": "stream",
     "text": [
      "loaded eeg for R1275D3\n",
      "getting PTSA\n",
      "35 matching events found\n",
      "No baseline correction applied\n",
      "Not setting metadata\n",
      "0 projection items activated\n",
      "0 bad epochs dropped\n"
     ]
    },
    {
     "name": "stderr",
     "output_type": "stream",
     "text": [
      "/home1/john/Downloads/cmlreaders-master/cmlreaders/path_finder.py:239: MultiplePathsFoundWarning: Multiple files found: /protocols/r1/subjects/R1277J/localizations/0/montages/1/neuroradiology/current_processed/pairs.json\n",
      "/data/eeg/R1277J_1/tal/R1277J_1_talLocs_database_bipol.mat returning the first file found\n",
      "  warnings.warn(msg, MultiplePathsFoundWarning)\n",
      "/home1/john/anaconda3/envs/env1/lib/python3.7/site-packages/ptsa/data/readers/tal.py:43: FutureWarning: Lab-specific readers may be moved to the cmlreaders package (https://github.com/pennmem/cmlreaders)\n",
      "  FutureWarning)\n"
     ]
    },
    {
     "name": "stdout",
     "output_type": "stream",
     "text": [
      "2020-06-01_17-14-51: DF Exception: Sub: R1277J, Sess: 0, IndexError, too many indices for array, file: <ipython-input-9-125176e14c87>, line no: 86\n"
     ]
    },
    {
     "name": "stderr",
     "output_type": "stream",
     "text": [
      "/home1/john/Downloads/cmlreaders-master/cmlreaders/path_finder.py:239: MultiplePathsFoundWarning: Multiple files found: /protocols/r1/subjects/R1281E/localizations/0/montages/0/neuroradiology/current_processed/pairs.json\n",
      "/data/eeg/R1281E/tal/R1281E_talLocs_database_bipol.mat returning the first file found\n",
      "  warnings.warn(msg, MultiplePathsFoundWarning)\n",
      "/home1/john/anaconda3/envs/env1/lib/python3.7/site-packages/pandas/core/indexing.py:1418: FutureWarning: \n",
      "Passing list-likes to .loc or [] with any missing label will raise\n",
      "KeyError in the future, you can use .reindex() as an alternative.\n",
      "\n",
      "See the documentation here:\n",
      "https://pandas.pydata.org/pandas-docs/stable/user_guide/indexing.html#deprecate-loc-reindex-listlike\n",
      "  return self._getitem_tuple(key)\n",
      "/home1/john/Downloads/cmlreaders-master/cmlreaders/readers/electrodes.py:236: MissingCoordinatesWarning: Could not load MNI coordinates\n",
      "  \"Could not load MNI coordinates\"))\n",
      "/home1/john/anaconda3/envs/env1/lib/python3.7/site-packages/ptsa/data/readers/tal.py:43: FutureWarning: Lab-specific readers may be moved to the cmlreaders package (https://github.com/pennmem/cmlreaders)\n",
      "  FutureWarning)\n",
      "/home1/john/Downloads/cmlreaders-master/cmlreaders/path_finder.py:239: MultiplePathsFoundWarning: Multiple files found: /protocols/r1/subjects/R1281E/experiments/FR1/sessions/1/ephys/current_processed/sources.json\n",
      "/data/eeg/R1281E/eeg.noreref/params.txt returning the first file found\n",
      "  warnings.warn(msg, MultiplePathsFoundWarning)\n"
     ]
    },
    {
     "name": "stdout",
     "output_type": "stream",
     "text": [
      "loaded eeg for R1281E1\n",
      "getting PTSA\n",
      "53 matching events found\n",
      "No baseline correction applied\n",
      "Not setting metadata\n",
      "0 projection items activated\n",
      "0 bad epochs dropped\n"
     ]
    },
    {
     "name": "stderr",
     "output_type": "stream",
     "text": [
      "/home1/john/Downloads/cmlreaders-master/cmlreaders/path_finder.py:239: MultiplePathsFoundWarning: Multiple files found: /protocols/r1/subjects/R1281E/localizations/0/montages/0/neuroradiology/current_processed/pairs.json\n",
      "/data/eeg/R1281E/tal/R1281E_talLocs_database_bipol.mat returning the first file found\n",
      "  warnings.warn(msg, MultiplePathsFoundWarning)\n",
      "/home1/john/anaconda3/envs/env1/lib/python3.7/site-packages/pandas/core/indexing.py:1418: FutureWarning: \n",
      "Passing list-likes to .loc or [] with any missing label will raise\n",
      "KeyError in the future, you can use .reindex() as an alternative.\n",
      "\n",
      "See the documentation here:\n",
      "https://pandas.pydata.org/pandas-docs/stable/user_guide/indexing.html#deprecate-loc-reindex-listlike\n",
      "  return self._getitem_tuple(key)\n",
      "/home1/john/Downloads/cmlreaders-master/cmlreaders/readers/electrodes.py:236: MissingCoordinatesWarning: Could not load MNI coordinates\n",
      "  \"Could not load MNI coordinates\"))\n",
      "/home1/john/anaconda3/envs/env1/lib/python3.7/site-packages/ptsa/data/readers/tal.py:43: FutureWarning: Lab-specific readers may be moved to the cmlreaders package (https://github.com/pennmem/cmlreaders)\n",
      "  FutureWarning)\n",
      "/home1/john/Downloads/cmlreaders-master/cmlreaders/path_finder.py:239: MultiplePathsFoundWarning: Multiple files found: /protocols/r1/subjects/R1281E/experiments/FR1/sessions/2/ephys/current_processed/sources.json\n",
      "/data/eeg/R1281E/eeg.noreref/params.txt returning the first file found\n",
      "  warnings.warn(msg, MultiplePathsFoundWarning)\n"
     ]
    },
    {
     "name": "stdout",
     "output_type": "stream",
     "text": [
      "loaded eeg for R1281E2\n",
      "getting PTSA\n",
      "45 matching events found\n",
      "No baseline correction applied\n",
      "Not setting metadata\n",
      "0 projection items activated\n",
      "0 bad epochs dropped\n"
     ]
    },
    {
     "name": "stderr",
     "output_type": "stream",
     "text": [
      "/home1/john/Downloads/cmlreaders-master/cmlreaders/path_finder.py:239: MultiplePathsFoundWarning: Multiple files found: /protocols/r1/subjects/R1281E/localizations/0/montages/0/neuroradiology/current_processed/pairs.json\n",
      "/data/eeg/R1281E/tal/R1281E_talLocs_database_bipol.mat returning the first file found\n",
      "  warnings.warn(msg, MultiplePathsFoundWarning)\n",
      "/home1/john/anaconda3/envs/env1/lib/python3.7/site-packages/pandas/core/indexing.py:1418: FutureWarning: \n",
      "Passing list-likes to .loc or [] with any missing label will raise\n",
      "KeyError in the future, you can use .reindex() as an alternative.\n",
      "\n",
      "See the documentation here:\n",
      "https://pandas.pydata.org/pandas-docs/stable/user_guide/indexing.html#deprecate-loc-reindex-listlike\n",
      "  return self._getitem_tuple(key)\n",
      "/home1/john/Downloads/cmlreaders-master/cmlreaders/readers/electrodes.py:236: MissingCoordinatesWarning: Could not load MNI coordinates\n",
      "  \"Could not load MNI coordinates\"))\n",
      "/home1/john/anaconda3/envs/env1/lib/python3.7/site-packages/ptsa/data/readers/tal.py:43: FutureWarning: Lab-specific readers may be moved to the cmlreaders package (https://github.com/pennmem/cmlreaders)\n",
      "  FutureWarning)\n",
      "/home1/john/Downloads/cmlreaders-master/cmlreaders/path_finder.py:239: MultiplePathsFoundWarning: Multiple files found: /protocols/r1/subjects/R1281E/experiments/FR1/sessions/3/ephys/current_processed/sources.json\n",
      "/data/eeg/R1281E/eeg.noreref/params.txt returning the first file found\n",
      "  warnings.warn(msg, MultiplePathsFoundWarning)\n"
     ]
    },
    {
     "name": "stdout",
     "output_type": "stream",
     "text": [
      "loaded eeg for R1281E3\n",
      "getting PTSA\n",
      "34 matching events found\n",
      "No baseline correction applied\n",
      "Not setting metadata\n",
      "0 projection items activated\n",
      "0 bad epochs dropped\n"
     ]
    },
    {
     "name": "stderr",
     "output_type": "stream",
     "text": [
      "/home1/john/Downloads/cmlreaders-master/cmlreaders/path_finder.py:239: MultiplePathsFoundWarning: Multiple files found: /protocols/r1/subjects/R1283T/localizations/0/montages/0/neuroradiology/current_processed/pairs.json\n",
      "/data/eeg/R1283T/tal/R1283T_talLocs_database_bipol.mat returning the first file found\n",
      "  warnings.warn(msg, MultiplePathsFoundWarning)\n",
      "/home1/john/anaconda3/envs/env1/lib/python3.7/site-packages/ptsa/data/readers/tal.py:43: FutureWarning: Lab-specific readers may be moved to the cmlreaders package (https://github.com/pennmem/cmlreaders)\n",
      "  FutureWarning)\n",
      "/home1/john/Downloads/cmlreaders-master/cmlreaders/path_finder.py:239: MultiplePathsFoundWarning: Multiple files found: /protocols/r1/subjects/R1283T/experiments/FR1/sessions/0/ephys/current_processed/sources.json\n",
      "/data/eeg/R1283T/eeg.noreref/params.txt returning the first file found\n",
      "  warnings.warn(msg, MultiplePathsFoundWarning)\n"
     ]
    },
    {
     "name": "stdout",
     "output_type": "stream",
     "text": [
      "loaded eeg for R1283T0\n",
      "getting PTSA\n",
      "75 matching events found\n",
      "No baseline correction applied\n",
      "Not setting metadata\n",
      "0 projection items activated\n",
      "0 bad epochs dropped\n"
     ]
    },
    {
     "name": "stderr",
     "output_type": "stream",
     "text": [
      "/home1/john/Downloads/cmlreaders-master/cmlreaders/path_finder.py:239: MultiplePathsFoundWarning: Multiple files found: /protocols/r1/subjects/R1283T/localizations/0/montages/0/neuroradiology/current_processed/pairs.json\n",
      "/data/eeg/R1283T/tal/R1283T_talLocs_database_bipol.mat returning the first file found\n",
      "  warnings.warn(msg, MultiplePathsFoundWarning)\n",
      "/home1/john/anaconda3/envs/env1/lib/python3.7/site-packages/ptsa/data/readers/tal.py:43: FutureWarning: Lab-specific readers may be moved to the cmlreaders package (https://github.com/pennmem/cmlreaders)\n",
      "  FutureWarning)\n",
      "/home1/john/Downloads/cmlreaders-master/cmlreaders/path_finder.py:239: MultiplePathsFoundWarning: Multiple files found: /protocols/r1/subjects/R1283T/experiments/FR1/sessions/1/ephys/current_processed/sources.json\n",
      "/data/eeg/R1283T/eeg.noreref/params.txt returning the first file found\n",
      "  warnings.warn(msg, MultiplePathsFoundWarning)\n"
     ]
    },
    {
     "name": "stdout",
     "output_type": "stream",
     "text": [
      "loaded eeg for R1283T1\n",
      "getting PTSA\n",
      "64 matching events found\n",
      "No baseline correction applied\n",
      "Not setting metadata\n",
      "0 projection items activated\n",
      "0 bad epochs dropped\n"
     ]
    },
    {
     "name": "stderr",
     "output_type": "stream",
     "text": [
      "/home1/john/Downloads/cmlreaders-master/cmlreaders/path_finder.py:239: MultiplePathsFoundWarning: Multiple files found: /protocols/r1/subjects/R1286J/localizations/0/montages/0/neuroradiology/current_processed/pairs.json\n",
      "/data/eeg/R1286J/tal/R1286J_talLocs_database_bipol.mat returning the first file found\n",
      "  warnings.warn(msg, MultiplePathsFoundWarning)\n",
      "/home1/john/Downloads/cmlreaders-master/cmlreaders/readers/electrodes.py:236: MissingCoordinatesWarning: Could not load MNI coordinates\n",
      "  \"Could not load MNI coordinates\"))\n",
      "/home1/john/anaconda3/envs/env1/lib/python3.7/site-packages/ptsa/data/readers/tal.py:43: FutureWarning: Lab-specific readers may be moved to the cmlreaders package (https://github.com/pennmem/cmlreaders)\n",
      "  FutureWarning)\n",
      "/home1/john/Downloads/cmlreaders-master/cmlreaders/path_finder.py:239: MultiplePathsFoundWarning: Multiple files found: /protocols/r1/subjects/R1286J/experiments/FR1/sessions/0/ephys/current_processed/sources.json\n",
      "/data/eeg/R1286J/eeg.noreref/params.txt returning the first file found\n",
      "  warnings.warn(msg, MultiplePathsFoundWarning)\n"
     ]
    },
    {
     "name": "stdout",
     "output_type": "stream",
     "text": [
      "loaded eeg for R1286J0\n",
      "getting PTSA\n",
      "43 matching events found\n",
      "No baseline correction applied\n",
      "Not setting metadata\n",
      "0 projection items activated\n",
      "0 bad epochs dropped\n"
     ]
    },
    {
     "name": "stderr",
     "output_type": "stream",
     "text": [
      "/home1/john/Downloads/cmlreaders-master/cmlreaders/path_finder.py:239: MultiplePathsFoundWarning: Multiple files found: /protocols/r1/subjects/R1288P/localizations/0/montages/0/neuroradiology/current_processed/pairs.json\n",
      "/data/eeg/R1288P/tal/R1288P_talLocs_database_bipol.mat returning the first file found\n",
      "  warnings.warn(msg, MultiplePathsFoundWarning)\n",
      "/home1/john/Downloads/cmlreaders-master/cmlreaders/readers/electrodes.py:236: MissingCoordinatesWarning: Could not load MNI coordinates\n",
      "  \"Could not load MNI coordinates\"))\n",
      "/home1/john/anaconda3/envs/env1/lib/python3.7/site-packages/ptsa/data/readers/tal.py:43: FutureWarning: Lab-specific readers may be moved to the cmlreaders package (https://github.com/pennmem/cmlreaders)\n",
      "  FutureWarning)\n"
     ]
    },
    {
     "name": "stdout",
     "output_type": "stream",
     "text": [
      "loaded eeg for R1288P0\n",
      "getting PTSA\n",
      "17 matching events found\n",
      "No baseline correction applied\n",
      "Not setting metadata\n",
      "0 projection items activated\n",
      "0 bad epochs dropped\n"
     ]
    },
    {
     "name": "stderr",
     "output_type": "stream",
     "text": [
      "/home1/john/Downloads/cmlreaders-master/cmlreaders/path_finder.py:239: MultiplePathsFoundWarning: Multiple files found: /protocols/r1/subjects/R1290M/localizations/0/montages/0/neuroradiology/current_processed/pairs.json\n",
      "/data/eeg/R1290M/tal/R1290M_talLocs_database_bipol.mat returning the first file found\n",
      "  warnings.warn(msg, MultiplePathsFoundWarning)\n",
      "/home1/john/Downloads/cmlreaders-master/cmlreaders/readers/electrodes.py:236: MissingCoordinatesWarning: Could not load MNI coordinates\n",
      "  \"Could not load MNI coordinates\"))\n",
      "/home1/john/anaconda3/envs/env1/lib/python3.7/site-packages/ptsa/data/readers/tal.py:43: FutureWarning: Lab-specific readers may be moved to the cmlreaders package (https://github.com/pennmem/cmlreaders)\n",
      "  FutureWarning)\n"
     ]
    },
    {
     "name": "stdout",
     "output_type": "stream",
     "text": [
      "loaded eeg for R1290M0\n",
      "getting PTSA\n",
      "63 matching events found\n",
      "No baseline correction applied\n",
      "Not setting metadata\n",
      "0 projection items activated\n",
      "0 bad epochs dropped\n"
     ]
    },
    {
     "name": "stderr",
     "output_type": "stream",
     "text": [
      "/home1/john/Downloads/cmlreaders-master/cmlreaders/path_finder.py:239: MultiplePathsFoundWarning: Multiple files found: /protocols/r1/subjects/R1290M/localizations/0/montages/0/neuroradiology/current_processed/pairs.json\n",
      "/data/eeg/R1290M/tal/R1290M_talLocs_database_bipol.mat returning the first file found\n",
      "  warnings.warn(msg, MultiplePathsFoundWarning)\n",
      "/home1/john/Downloads/cmlreaders-master/cmlreaders/readers/electrodes.py:236: MissingCoordinatesWarning: Could not load MNI coordinates\n",
      "  \"Could not load MNI coordinates\"))\n",
      "/home1/john/anaconda3/envs/env1/lib/python3.7/site-packages/ptsa/data/readers/tal.py:43: FutureWarning: Lab-specific readers may be moved to the cmlreaders package (https://github.com/pennmem/cmlreaders)\n",
      "  FutureWarning)\n"
     ]
    },
    {
     "name": "stdout",
     "output_type": "stream",
     "text": [
      "loaded eeg for R1290M1\n",
      "getting PTSA\n",
      "46 matching events found\n",
      "No baseline correction applied\n",
      "Not setting metadata\n",
      "0 projection items activated\n",
      "0 bad epochs dropped\n"
     ]
    },
    {
     "name": "stderr",
     "output_type": "stream",
     "text": [
      "/home1/john/Downloads/cmlreaders-master/cmlreaders/path_finder.py:239: MultiplePathsFoundWarning: Multiple files found: /protocols/r1/subjects/R1291M/localizations/0/montages/0/neuroradiology/current_processed/pairs.json\n",
      "/data/eeg/R1291M/tal/R1291M_talLocs_database_bipol.mat returning the first file found\n",
      "  warnings.warn(msg, MultiplePathsFoundWarning)\n",
      "/home1/john/anaconda3/envs/env1/lib/python3.7/site-packages/ptsa/data/readers/tal.py:43: FutureWarning: Lab-specific readers may be moved to the cmlreaders package (https://github.com/pennmem/cmlreaders)\n",
      "  FutureWarning)\n",
      "/home1/john/Downloads/cmlreaders-master/cmlreaders/path_finder.py:239: MultiplePathsFoundWarning: Multiple files found: /protocols/r1/subjects/R1291M/experiments/FR1/sessions/0/ephys/current_processed/sources.json\n",
      "/data/eeg/R1291M/eeg.noreref/R1291M_FR1_0_14Apr17_0938.params.txt\n",
      "/data/eeg/R1291M/eeg.noreref/params.txt returning the first file found\n",
      "  warnings.warn(msg, MultiplePathsFoundWarning)\n"
     ]
    },
    {
     "name": "stdout",
     "output_type": "stream",
     "text": [
      "loaded eeg for R1291M0\n",
      "getting PTSA\n",
      "63 matching events found\n",
      "No baseline correction applied\n",
      "Not setting metadata\n",
      "0 projection items activated\n",
      "0 bad epochs dropped\n"
     ]
    },
    {
     "name": "stderr",
     "output_type": "stream",
     "text": [
      "/home1/john/Downloads/cmlreaders-master/cmlreaders/path_finder.py:239: MultiplePathsFoundWarning: Multiple files found: /protocols/r1/subjects/R1292E/localizations/0/montages/0/neuroradiology/current_processed/pairs.json\n",
      "/data/eeg/R1292E/tal/R1292E_talLocs_database_bipol.mat returning the first file found\n",
      "  warnings.warn(msg, MultiplePathsFoundWarning)\n",
      "/home1/john/anaconda3/envs/env1/lib/python3.7/site-packages/ptsa/data/readers/tal.py:43: FutureWarning: Lab-specific readers may be moved to the cmlreaders package (https://github.com/pennmem/cmlreaders)\n",
      "  FutureWarning)\n"
     ]
    },
    {
     "name": "stdout",
     "output_type": "stream",
     "text": [
      "loaded eeg for R1292E0\n",
      "getting PTSA\n",
      "46 matching events found\n",
      "No baseline correction applied\n",
      "Not setting metadata\n",
      "0 projection items activated\n",
      "0 bad epochs dropped\n"
     ]
    },
    {
     "name": "stderr",
     "output_type": "stream",
     "text": [
      "/home1/john/Downloads/cmlreaders-master/cmlreaders/path_finder.py:239: MultiplePathsFoundWarning: Multiple files found: /protocols/r1/subjects/R1292E/localizations/0/montages/0/neuroradiology/current_processed/pairs.json\n",
      "/data/eeg/R1292E/tal/R1292E_talLocs_database_bipol.mat returning the first file found\n",
      "  warnings.warn(msg, MultiplePathsFoundWarning)\n",
      "/home1/john/anaconda3/envs/env1/lib/python3.7/site-packages/ptsa/data/readers/tal.py:43: FutureWarning: Lab-specific readers may be moved to the cmlreaders package (https://github.com/pennmem/cmlreaders)\n",
      "  FutureWarning)\n"
     ]
    },
    {
     "name": "stdout",
     "output_type": "stream",
     "text": [
      "loaded eeg for R1292E1\n",
      "getting PTSA\n",
      "49 matching events found\n",
      "No baseline correction applied\n",
      "Not setting metadata\n",
      "0 projection items activated\n",
      "0 bad epochs dropped\n"
     ]
    },
    {
     "name": "stderr",
     "output_type": "stream",
     "text": [
      "/home1/john/Downloads/cmlreaders-master/cmlreaders/path_finder.py:239: MultiplePathsFoundWarning: Multiple files found: /protocols/r1/subjects/R1292E/localizations/0/montages/0/neuroradiology/current_processed/pairs.json\n",
      "/data/eeg/R1292E/tal/R1292E_talLocs_database_bipol.mat returning the first file found\n",
      "  warnings.warn(msg, MultiplePathsFoundWarning)\n",
      "/home1/john/anaconda3/envs/env1/lib/python3.7/site-packages/ptsa/data/readers/tal.py:43: FutureWarning: Lab-specific readers may be moved to the cmlreaders package (https://github.com/pennmem/cmlreaders)\n",
      "  FutureWarning)\n"
     ]
    },
    {
     "name": "stdout",
     "output_type": "stream",
     "text": [
      "loaded eeg for R1292E2\n",
      "getting PTSA\n",
      "49 matching events found\n",
      "No baseline correction applied\n",
      "Not setting metadata\n",
      "0 projection items activated\n",
      "0 bad epochs dropped\n"
     ]
    },
    {
     "name": "stderr",
     "output_type": "stream",
     "text": [
      "/home1/john/Downloads/cmlreaders-master/cmlreaders/path_finder.py:239: MultiplePathsFoundWarning: Multiple files found: /protocols/r1/subjects/R1292E/localizations/0/montages/0/neuroradiology/current_processed/pairs.json\n",
      "/data/eeg/R1292E/tal/R1292E_talLocs_database_bipol.mat returning the first file found\n",
      "  warnings.warn(msg, MultiplePathsFoundWarning)\n",
      "/home1/john/anaconda3/envs/env1/lib/python3.7/site-packages/ptsa/data/readers/tal.py:43: FutureWarning: Lab-specific readers may be moved to the cmlreaders package (https://github.com/pennmem/cmlreaders)\n",
      "  FutureWarning)\n"
     ]
    },
    {
     "name": "stdout",
     "output_type": "stream",
     "text": [
      "loaded eeg for R1292E3\n",
      "getting PTSA\n",
      "52 matching events found\n",
      "No baseline correction applied\n",
      "Not setting metadata\n",
      "0 projection items activated\n",
      "0 bad epochs dropped\n"
     ]
    },
    {
     "name": "stderr",
     "output_type": "stream",
     "text": [
      "/home1/john/Downloads/cmlreaders-master/cmlreaders/path_finder.py:239: MultiplePathsFoundWarning: Multiple files found: /protocols/r1/subjects/R1293P/localizations/0/montages/0/neuroradiology/current_processed/pairs.json\n",
      "/data/eeg/R1293P/tal/R1293P_talLocs_database_bipol.mat returning the first file found\n",
      "  warnings.warn(msg, MultiplePathsFoundWarning)\n",
      "/home1/john/anaconda3/envs/env1/lib/python3.7/site-packages/ptsa/data/readers/tal.py:43: FutureWarning: Lab-specific readers may be moved to the cmlreaders package (https://github.com/pennmem/cmlreaders)\n",
      "  FutureWarning)\n"
     ]
    },
    {
     "name": "stdout",
     "output_type": "stream",
     "text": [
      "loaded eeg for R1293P3\n",
      "getting PTSA\n",
      "44 matching events found\n",
      "No baseline correction applied\n",
      "Not setting metadata\n",
      "0 projection items activated\n",
      "0 bad epochs dropped\n"
     ]
    },
    {
     "name": "stderr",
     "output_type": "stream",
     "text": [
      "/home1/john/Downloads/cmlreaders-master/cmlreaders/path_finder.py:239: MultiplePathsFoundWarning: Multiple files found: /protocols/r1/subjects/R1293P/localizations/0/montages/0/neuroradiology/current_processed/pairs.json\n",
      "/data/eeg/R1293P/tal/R1293P_talLocs_database_bipol.mat returning the first file found\n",
      "  warnings.warn(msg, MultiplePathsFoundWarning)\n",
      "/home1/john/anaconda3/envs/env1/lib/python3.7/site-packages/ptsa/data/readers/tal.py:43: FutureWarning: Lab-specific readers may be moved to the cmlreaders package (https://github.com/pennmem/cmlreaders)\n",
      "  FutureWarning)\n"
     ]
    },
    {
     "name": "stdout",
     "output_type": "stream",
     "text": [
      "loaded eeg for R1293P4\n",
      "getting PTSA\n",
      "32 matching events found\n",
      "No baseline correction applied\n",
      "Not setting metadata\n",
      "0 projection items activated\n",
      "0 bad epochs dropped\n"
     ]
    },
    {
     "name": "stderr",
     "output_type": "stream",
     "text": [
      "/home1/john/Downloads/cmlreaders-master/cmlreaders/path_finder.py:239: MultiplePathsFoundWarning: Multiple files found: /protocols/r1/subjects/R1297T/localizations/0/montages/0/neuroradiology/current_processed/pairs.json\n",
      "/data/eeg/R1297T/tal/R1297T_talLocs_database_bipol.mat returning the first file found\n",
      "  warnings.warn(msg, MultiplePathsFoundWarning)\n",
      "/home1/john/anaconda3/envs/env1/lib/python3.7/site-packages/ptsa/data/readers/tal.py:43: FutureWarning: Lab-specific readers may be moved to the cmlreaders package (https://github.com/pennmem/cmlreaders)\n",
      "  FutureWarning)\n",
      "/home1/john/Downloads/cmlreaders-master/cmlreaders/path_finder.py:239: MultiplePathsFoundWarning: Multiple files found: /protocols/r1/subjects/R1297T/experiments/FR1/sessions/0/ephys/current_processed/sources.json\n",
      "/data/eeg/R1297T/eeg.noreref/params.txt returning the first file found\n",
      "  warnings.warn(msg, MultiplePathsFoundWarning)\n"
     ]
    },
    {
     "name": "stdout",
     "output_type": "stream",
     "text": [
      "loaded eeg for R1297T0\n",
      "getting PTSA\n",
      "39 matching events found\n",
      "No baseline correction applied\n",
      "Not setting metadata\n",
      "0 projection items activated\n",
      "0 bad epochs dropped\n"
     ]
    },
    {
     "name": "stderr",
     "output_type": "stream",
     "text": [
      "/home1/john/Downloads/cmlreaders-master/cmlreaders/path_finder.py:239: MultiplePathsFoundWarning: Multiple files found: /protocols/r1/subjects/R1297T/localizations/0/montages/0/neuroradiology/current_processed/pairs.json\n",
      "/data/eeg/R1297T/tal/R1297T_talLocs_database_bipol.mat returning the first file found\n",
      "  warnings.warn(msg, MultiplePathsFoundWarning)\n",
      "/home1/john/anaconda3/envs/env1/lib/python3.7/site-packages/ptsa/data/readers/tal.py:43: FutureWarning: Lab-specific readers may be moved to the cmlreaders package (https://github.com/pennmem/cmlreaders)\n",
      "  FutureWarning)\n",
      "/home1/john/Downloads/cmlreaders-master/cmlreaders/path_finder.py:239: MultiplePathsFoundWarning: Multiple files found: /protocols/r1/subjects/R1297T/experiments/FR1/sessions/1/ephys/current_processed/sources.json\n",
      "/data/eeg/R1297T/eeg.noreref/params.txt returning the first file found\n",
      "  warnings.warn(msg, MultiplePathsFoundWarning)\n"
     ]
    },
    {
     "name": "stdout",
     "output_type": "stream",
     "text": [
      "loaded eeg for R1297T1\n",
      "getting PTSA\n",
      "46 matching events found\n",
      "No baseline correction applied\n",
      "Not setting metadata\n",
      "0 projection items activated\n",
      "0 bad epochs dropped\n"
     ]
    },
    {
     "name": "stderr",
     "output_type": "stream",
     "text": [
      "/home1/john/Downloads/cmlreaders-master/cmlreaders/path_finder.py:239: MultiplePathsFoundWarning: Multiple files found: /protocols/r1/subjects/R1298E/localizations/0/montages/0/neuroradiology/current_processed/pairs.json\n",
      "/data/eeg/R1298E/tal/R1298E_talLocs_database_bipol.mat returning the first file found\n",
      "  warnings.warn(msg, MultiplePathsFoundWarning)\n",
      "/home1/john/anaconda3/envs/env1/lib/python3.7/site-packages/ptsa/data/readers/tal.py:43: FutureWarning: Lab-specific readers may be moved to the cmlreaders package (https://github.com/pennmem/cmlreaders)\n",
      "  FutureWarning)\n"
     ]
    },
    {
     "name": "stdout",
     "output_type": "stream",
     "text": [
      "loaded eeg for R1298E0\n",
      "getting PTSA\n",
      "72 matching events found\n",
      "No baseline correction applied\n",
      "Not setting metadata\n",
      "0 projection items activated\n",
      "0 bad epochs dropped\n"
     ]
    },
    {
     "name": "stderr",
     "output_type": "stream",
     "text": [
      "/home1/john/Downloads/cmlreaders-master/cmlreaders/path_finder.py:239: MultiplePathsFoundWarning: Multiple files found: /protocols/r1/subjects/R1299T/localizations/0/montages/0/neuroradiology/current_processed/pairs.json\n",
      "/data/eeg/R1299T/tal/R1299T_talLocs_database_bipol.mat returning the first file found\n",
      "  warnings.warn(msg, MultiplePathsFoundWarning)\n",
      "/home1/john/anaconda3/envs/env1/lib/python3.7/site-packages/ptsa/data/readers/tal.py:43: FutureWarning: Lab-specific readers may be moved to the cmlreaders package (https://github.com/pennmem/cmlreaders)\n",
      "  FutureWarning)\n",
      "/home1/john/Downloads/cmlreaders-master/cmlreaders/path_finder.py:239: MultiplePathsFoundWarning: Multiple files found: /protocols/r1/subjects/R1299T/experiments/FR1/sessions/0/ephys/current_processed/sources.json\n",
      "/data/eeg/R1299T/eeg.noreref/params.txt returning the first file found\n",
      "  warnings.warn(msg, MultiplePathsFoundWarning)\n"
     ]
    },
    {
     "name": "stdout",
     "output_type": "stream",
     "text": [
      "loaded eeg for R1299T0\n",
      "getting PTSA\n",
      "55 matching events found\n",
      "No baseline correction applied\n",
      "Not setting metadata\n",
      "0 projection items activated\n",
      "0 bad epochs dropped\n"
     ]
    },
    {
     "name": "stderr",
     "output_type": "stream",
     "text": [
      "/home1/john/Downloads/cmlreaders-master/cmlreaders/path_finder.py:239: MultiplePathsFoundWarning: Multiple files found: /protocols/r1/subjects/R1299T/localizations/0/montages/0/neuroradiology/current_processed/pairs.json\n",
      "/data/eeg/R1299T/tal/R1299T_talLocs_database_bipol.mat returning the first file found\n",
      "  warnings.warn(msg, MultiplePathsFoundWarning)\n",
      "/home1/john/anaconda3/envs/env1/lib/python3.7/site-packages/ptsa/data/readers/tal.py:43: FutureWarning: Lab-specific readers may be moved to the cmlreaders package (https://github.com/pennmem/cmlreaders)\n",
      "  FutureWarning)\n",
      "/home1/john/Downloads/cmlreaders-master/cmlreaders/path_finder.py:239: MultiplePathsFoundWarning: Multiple files found: /protocols/r1/subjects/R1299T/experiments/FR1/sessions/1/ephys/current_processed/sources.json\n",
      "/data/eeg/R1299T/eeg.noreref/params.txt returning the first file found\n",
      "  warnings.warn(msg, MultiplePathsFoundWarning)\n"
     ]
    },
    {
     "name": "stdout",
     "output_type": "stream",
     "text": [
      "loaded eeg for R1299T1\n",
      "getting PTSA\n",
      "66 matching events found\n",
      "No baseline correction applied\n",
      "Not setting metadata\n",
      "0 projection items activated\n",
      "0 bad epochs dropped\n"
     ]
    },
    {
     "name": "stderr",
     "output_type": "stream",
     "text": [
      "/home1/john/Downloads/cmlreaders-master/cmlreaders/path_finder.py:239: MultiplePathsFoundWarning: Multiple files found: /protocols/r1/subjects/R1299T/localizations/0/montages/0/neuroradiology/current_processed/pairs.json\n",
      "/data/eeg/R1299T/tal/R1299T_talLocs_database_bipol.mat returning the first file found\n",
      "  warnings.warn(msg, MultiplePathsFoundWarning)\n",
      "/home1/john/anaconda3/envs/env1/lib/python3.7/site-packages/ptsa/data/readers/tal.py:43: FutureWarning: Lab-specific readers may be moved to the cmlreaders package (https://github.com/pennmem/cmlreaders)\n",
      "  FutureWarning)\n",
      "/home1/john/Downloads/cmlreaders-master/cmlreaders/path_finder.py:239: MultiplePathsFoundWarning: Multiple files found: /protocols/r1/subjects/R1299T/experiments/FR1/sessions/4/ephys/current_processed/sources.json\n",
      "/data/eeg/R1299T/eeg.noreref/params.txt returning the first file found\n",
      "  warnings.warn(msg, MultiplePathsFoundWarning)\n"
     ]
    },
    {
     "name": "stdout",
     "output_type": "stream",
     "text": [
      "loaded eeg for R1299T4\n",
      "getting PTSA\n",
      "48 matching events found\n",
      "No baseline correction applied\n",
      "Not setting metadata\n",
      "0 projection items activated\n",
      "0 bad epochs dropped\n"
     ]
    },
    {
     "name": "stderr",
     "output_type": "stream",
     "text": [
      "/home1/john/Downloads/cmlreaders-master/cmlreaders/path_finder.py:239: MultiplePathsFoundWarning: Multiple files found: /protocols/r1/subjects/R1299T/localizations/0/montages/0/neuroradiology/current_processed/pairs.json\n",
      "/data/eeg/R1299T/tal/R1299T_talLocs_database_bipol.mat returning the first file found\n",
      "  warnings.warn(msg, MultiplePathsFoundWarning)\n",
      "/home1/john/anaconda3/envs/env1/lib/python3.7/site-packages/ptsa/data/readers/tal.py:43: FutureWarning: Lab-specific readers may be moved to the cmlreaders package (https://github.com/pennmem/cmlreaders)\n",
      "  FutureWarning)\n",
      "/home1/john/Downloads/cmlreaders-master/cmlreaders/path_finder.py:239: MultiplePathsFoundWarning: Multiple files found: /protocols/r1/subjects/R1299T/experiments/FR1/sessions/5/ephys/current_processed/sources.json\n",
      "/data/eeg/R1299T/eeg.noreref/params.txt returning the first file found\n",
      "  warnings.warn(msg, MultiplePathsFoundWarning)\n"
     ]
    },
    {
     "name": "stdout",
     "output_type": "stream",
     "text": [
      "loaded eeg for R1299T5\n",
      "getting PTSA\n",
      "44 matching events found\n",
      "No baseline correction applied\n",
      "Not setting metadata\n",
      "0 projection items activated\n",
      "0 bad epochs dropped\n"
     ]
    },
    {
     "name": "stderr",
     "output_type": "stream",
     "text": [
      "/home1/john/Downloads/cmlreaders-master/cmlreaders/path_finder.py:239: MultiplePathsFoundWarning: Multiple files found: /protocols/r1/subjects/R1299T/localizations/0/montages/0/neuroradiology/current_processed/pairs.json\n",
      "/data/eeg/R1299T/tal/R1299T_talLocs_database_bipol.mat returning the first file found\n",
      "  warnings.warn(msg, MultiplePathsFoundWarning)\n",
      "/home1/john/anaconda3/envs/env1/lib/python3.7/site-packages/ptsa/data/readers/tal.py:43: FutureWarning: Lab-specific readers may be moved to the cmlreaders package (https://github.com/pennmem/cmlreaders)\n",
      "  FutureWarning)\n",
      "/home1/john/Downloads/cmlreaders-master/cmlreaders/path_finder.py:239: MultiplePathsFoundWarning: Multiple files found: /protocols/r1/subjects/R1299T/experiments/FR1/sessions/6/ephys/current_processed/sources.json\n",
      "/data/eeg/R1299T/eeg.noreref/params.txt returning the first file found\n",
      "  warnings.warn(msg, MultiplePathsFoundWarning)\n"
     ]
    },
    {
     "name": "stdout",
     "output_type": "stream",
     "text": [
      "loaded eeg for R1299T6\n",
      "getting PTSA\n",
      "52 matching events found\n",
      "No baseline correction applied\n",
      "Not setting metadata\n",
      "0 projection items activated\n",
      "0 bad epochs dropped\n"
     ]
    },
    {
     "name": "stderr",
     "output_type": "stream",
     "text": [
      "/home1/john/Downloads/cmlreaders-master/cmlreaders/path_finder.py:239: MultiplePathsFoundWarning: Multiple files found: /protocols/r1/subjects/R1299T/localizations/0/montages/0/neuroradiology/current_processed/pairs.json\n",
      "/data/eeg/R1299T/tal/R1299T_talLocs_database_bipol.mat returning the first file found\n",
      "  warnings.warn(msg, MultiplePathsFoundWarning)\n",
      "/home1/john/anaconda3/envs/env1/lib/python3.7/site-packages/ptsa/data/readers/tal.py:43: FutureWarning: Lab-specific readers may be moved to the cmlreaders package (https://github.com/pennmem/cmlreaders)\n",
      "  FutureWarning)\n",
      "/home1/john/Downloads/cmlreaders-master/cmlreaders/path_finder.py:239: MultiplePathsFoundWarning: Multiple files found: /protocols/r1/subjects/R1299T/experiments/FR1/sessions/7/ephys/current_processed/sources.json\n",
      "/data/eeg/R1299T/eeg.noreref/params.txt returning the first file found\n",
      "  warnings.warn(msg, MultiplePathsFoundWarning)\n"
     ]
    },
    {
     "name": "stdout",
     "output_type": "stream",
     "text": [
      "loaded eeg for R1299T7\n",
      "getting PTSA\n",
      "54 matching events found\n",
      "No baseline correction applied\n",
      "Not setting metadata\n",
      "0 projection items activated\n",
      "0 bad epochs dropped\n"
     ]
    },
    {
     "name": "stderr",
     "output_type": "stream",
     "text": [
      "/home1/john/Downloads/cmlreaders-master/cmlreaders/path_finder.py:239: MultiplePathsFoundWarning: Multiple files found: /protocols/r1/subjects/R1299T/localizations/0/montages/0/neuroradiology/current_processed/pairs.json\n",
      "/data/eeg/R1299T/tal/R1299T_talLocs_database_bipol.mat returning the first file found\n",
      "  warnings.warn(msg, MultiplePathsFoundWarning)\n",
      "/home1/john/anaconda3/envs/env1/lib/python3.7/site-packages/ptsa/data/readers/tal.py:43: FutureWarning: Lab-specific readers may be moved to the cmlreaders package (https://github.com/pennmem/cmlreaders)\n",
      "  FutureWarning)\n",
      "/home1/john/Downloads/cmlreaders-master/cmlreaders/path_finder.py:239: MultiplePathsFoundWarning: Multiple files found: /protocols/r1/subjects/R1299T/experiments/FR1/sessions/8/ephys/current_processed/sources.json\n",
      "/data/eeg/R1299T/eeg.noreref/params.txt returning the first file found\n",
      "  warnings.warn(msg, MultiplePathsFoundWarning)\n"
     ]
    },
    {
     "name": "stdout",
     "output_type": "stream",
     "text": [
      "loaded eeg for R1299T8\n",
      "getting PTSA\n",
      "67 matching events found\n",
      "No baseline correction applied\n",
      "Not setting metadata\n",
      "0 projection items activated\n",
      "0 bad epochs dropped\n"
     ]
    },
    {
     "name": "stderr",
     "output_type": "stream",
     "text": [
      "/home1/john/Downloads/cmlreaders-master/cmlreaders/path_finder.py:239: MultiplePathsFoundWarning: Multiple files found: /protocols/r1/subjects/R1299T/localizations/0/montages/0/neuroradiology/current_processed/pairs.json\n",
      "/data/eeg/R1299T/tal/R1299T_talLocs_database_bipol.mat returning the first file found\n",
      "  warnings.warn(msg, MultiplePathsFoundWarning)\n",
      "/home1/john/anaconda3/envs/env1/lib/python3.7/site-packages/ptsa/data/readers/tal.py:43: FutureWarning: Lab-specific readers may be moved to the cmlreaders package (https://github.com/pennmem/cmlreaders)\n",
      "  FutureWarning)\n",
      "/home1/john/Downloads/cmlreaders-master/cmlreaders/path_finder.py:239: MultiplePathsFoundWarning: Multiple files found: /protocols/r1/subjects/R1299T/experiments/FR1/sessions/9/ephys/current_processed/sources.json\n",
      "/data/eeg/R1299T/eeg.noreref/params.txt returning the first file found\n",
      "  warnings.warn(msg, MultiplePathsFoundWarning)\n"
     ]
    },
    {
     "name": "stdout",
     "output_type": "stream",
     "text": [
      "loaded eeg for R1299T9\n",
      "getting PTSA\n",
      "56 matching events found\n",
      "No baseline correction applied\n",
      "Not setting metadata\n",
      "0 projection items activated\n",
      "0 bad epochs dropped\n"
     ]
    },
    {
     "name": "stderr",
     "output_type": "stream",
     "text": [
      "/home1/john/Downloads/cmlreaders-master/cmlreaders/path_finder.py:239: MultiplePathsFoundWarning: Multiple files found: /protocols/r1/subjects/R1302M/localizations/0/montages/0/neuroradiology/current_processed/pairs.json\n",
      "/data/eeg/R1302M/tal/R1302M_talLocs_database_bipol.mat returning the first file found\n",
      "  warnings.warn(msg, MultiplePathsFoundWarning)\n",
      "/home1/john/anaconda3/envs/env1/lib/python3.7/site-packages/ptsa/data/readers/tal.py:43: FutureWarning: Lab-specific readers may be moved to the cmlreaders package (https://github.com/pennmem/cmlreaders)\n",
      "  FutureWarning)\n"
     ]
    },
    {
     "name": "stdout",
     "output_type": "stream",
     "text": [
      "loaded eeg for R1302M1\n",
      "getting PTSA\n",
      "21 matching events found\n",
      "No baseline correction applied\n",
      "Not setting metadata\n",
      "0 projection items activated\n",
      "0 bad epochs dropped\n"
     ]
    },
    {
     "name": "stderr",
     "output_type": "stream",
     "text": [
      "/home1/john/Downloads/cmlreaders-master/cmlreaders/path_finder.py:239: MultiplePathsFoundWarning: Multiple files found: /protocols/r1/subjects/R1302M/localizations/0/montages/0/neuroradiology/current_processed/pairs.json\n",
      "/data/eeg/R1302M/tal/R1302M_talLocs_database_bipol.mat returning the first file found\n",
      "  warnings.warn(msg, MultiplePathsFoundWarning)\n",
      "/home1/john/anaconda3/envs/env1/lib/python3.7/site-packages/ptsa/data/readers/tal.py:43: FutureWarning: Lab-specific readers may be moved to the cmlreaders package (https://github.com/pennmem/cmlreaders)\n",
      "  FutureWarning)\n"
     ]
    },
    {
     "name": "stdout",
     "output_type": "stream",
     "text": [
      "loaded eeg for R1302M2\n",
      "getting PTSA\n",
      "28 matching events found\n",
      "No baseline correction applied\n",
      "Not setting metadata\n",
      "0 projection items activated\n",
      "0 bad epochs dropped\n"
     ]
    },
    {
     "name": "stderr",
     "output_type": "stream",
     "text": [
      "/home1/john/Downloads/cmlreaders-master/cmlreaders/path_finder.py:239: MultiplePathsFoundWarning: Multiple files found: /protocols/r1/subjects/R1304N/localizations/0/montages/0/neuroradiology/current_processed/pairs.json\n",
      "/data/eeg/R1304N/tal/R1304N_talLocs_database_bipol.mat returning the first file found\n",
      "  warnings.warn(msg, MultiplePathsFoundWarning)\n",
      "/home1/john/Downloads/cmlreaders-master/cmlreaders/readers/electrodes.py:236: MissingCoordinatesWarning: Could not load MNI coordinates\n",
      "  \"Could not load MNI coordinates\"))\n",
      "/home1/john/anaconda3/envs/env1/lib/python3.7/site-packages/ptsa/data/readers/tal.py:43: FutureWarning: Lab-specific readers may be moved to the cmlreaders package (https://github.com/pennmem/cmlreaders)\n",
      "  FutureWarning)\n"
     ]
    },
    {
     "name": "stdout",
     "output_type": "stream",
     "text": [
      "loaded eeg for R1304N0\n",
      "getting PTSA\n",
      "21 matching events found\n",
      "No baseline correction applied\n",
      "Not setting metadata\n",
      "0 projection items activated\n",
      "0 bad epochs dropped\n"
     ]
    },
    {
     "name": "stderr",
     "output_type": "stream",
     "text": [
      "/home1/john/Downloads/cmlreaders-master/cmlreaders/path_finder.py:239: MultiplePathsFoundWarning: Multiple files found: /protocols/r1/subjects/R1304N/localizations/0/montages/0/neuroradiology/current_processed/pairs.json\n",
      "/data/eeg/R1304N/tal/R1304N_talLocs_database_bipol.mat returning the first file found\n",
      "  warnings.warn(msg, MultiplePathsFoundWarning)\n",
      "/home1/john/Downloads/cmlreaders-master/cmlreaders/readers/electrodes.py:236: MissingCoordinatesWarning: Could not load MNI coordinates\n",
      "  \"Could not load MNI coordinates\"))\n",
      "/home1/john/anaconda3/envs/env1/lib/python3.7/site-packages/ptsa/data/readers/tal.py:43: FutureWarning: Lab-specific readers may be moved to the cmlreaders package (https://github.com/pennmem/cmlreaders)\n",
      "  FutureWarning)\n"
     ]
    },
    {
     "name": "stdout",
     "output_type": "stream",
     "text": [
      "loaded eeg for R1304N2\n",
      "getting PTSA\n",
      "23 matching events found\n",
      "No baseline correction applied\n",
      "Not setting metadata\n",
      "0 projection items activated\n",
      "0 bad epochs dropped\n"
     ]
    },
    {
     "name": "stderr",
     "output_type": "stream",
     "text": [
      "/home1/john/Downloads/cmlreaders-master/cmlreaders/path_finder.py:239: MultiplePathsFoundWarning: Multiple files found: /protocols/r1/subjects/R1304N/localizations/0/montages/0/neuroradiology/current_processed/pairs.json\n",
      "/data/eeg/R1304N/tal/R1304N_talLocs_database_bipol.mat returning the first file found\n",
      "  warnings.warn(msg, MultiplePathsFoundWarning)\n",
      "/home1/john/Downloads/cmlreaders-master/cmlreaders/readers/electrodes.py:236: MissingCoordinatesWarning: Could not load MNI coordinates\n",
      "  \"Could not load MNI coordinates\"))\n",
      "/home1/john/anaconda3/envs/env1/lib/python3.7/site-packages/ptsa/data/readers/tal.py:43: FutureWarning: Lab-specific readers may be moved to the cmlreaders package (https://github.com/pennmem/cmlreaders)\n",
      "  FutureWarning)\n"
     ]
    },
    {
     "name": "stdout",
     "output_type": "stream",
     "text": [
      "loaded eeg for R1304N3\n",
      "getting PTSA\n",
      "2 matching events found\n",
      "No baseline correction applied\n",
      "Not setting metadata\n",
      "0 projection items activated\n",
      "0 bad epochs dropped\n"
     ]
    },
    {
     "name": "stderr",
     "output_type": "stream",
     "text": [
      "/home1/john/Downloads/cmlreaders-master/cmlreaders/path_finder.py:239: MultiplePathsFoundWarning: Multiple files found: /protocols/r1/subjects/R1306E/localizations/0/montages/0/neuroradiology/current_processed/pairs.json\n",
      "/data/eeg/R1306E/tal/R1306E_talLocs_database_bipol.mat returning the first file found\n",
      "  warnings.warn(msg, MultiplePathsFoundWarning)\n",
      "/home1/john/anaconda3/envs/env1/lib/python3.7/site-packages/ptsa/data/readers/tal.py:43: FutureWarning: Lab-specific readers may be moved to the cmlreaders package (https://github.com/pennmem/cmlreaders)\n",
      "  FutureWarning)\n"
     ]
    },
    {
     "name": "stdout",
     "output_type": "stream",
     "text": [
      "loaded eeg for R1306E1\n",
      "getting PTSA\n",
      "21 matching events found\n",
      "No baseline correction applied\n",
      "Not setting metadata\n",
      "0 projection items activated\n",
      "0 bad epochs dropped\n"
     ]
    },
    {
     "name": "stderr",
     "output_type": "stream",
     "text": [
      "/home1/john/Downloads/cmlreaders-master/cmlreaders/path_finder.py:239: MultiplePathsFoundWarning: Multiple files found: /protocols/r1/subjects/R1308T/localizations/0/montages/0/neuroradiology/current_processed/pairs.json\n",
      "/data/eeg/R1308T/tal/R1308T_talLocs_database_bipol.mat returning the first file found\n",
      "  warnings.warn(msg, MultiplePathsFoundWarning)\n",
      "/home1/john/anaconda3/envs/env1/lib/python3.7/site-packages/ptsa/data/readers/tal.py:43: FutureWarning: Lab-specific readers may be moved to the cmlreaders package (https://github.com/pennmem/cmlreaders)\n",
      "  FutureWarning)\n"
     ]
    },
    {
     "name": "stdout",
     "output_type": "stream",
     "text": [
      "loaded eeg for R1308T0\n",
      "getting PTSA\n",
      "46 matching events found\n",
      "No baseline correction applied\n",
      "Not setting metadata\n",
      "0 projection items activated\n",
      "0 bad epochs dropped\n"
     ]
    },
    {
     "name": "stderr",
     "output_type": "stream",
     "text": [
      "/home1/john/Downloads/cmlreaders-master/cmlreaders/path_finder.py:239: MultiplePathsFoundWarning: Multiple files found: /protocols/r1/subjects/R1308T/localizations/0/montages/0/neuroradiology/current_processed/pairs.json\n",
      "/data/eeg/R1308T/tal/R1308T_talLocs_database_bipol.mat returning the first file found\n",
      "  warnings.warn(msg, MultiplePathsFoundWarning)\n",
      "/home1/john/anaconda3/envs/env1/lib/python3.7/site-packages/ptsa/data/readers/tal.py:43: FutureWarning: Lab-specific readers may be moved to the cmlreaders package (https://github.com/pennmem/cmlreaders)\n",
      "  FutureWarning)\n"
     ]
    },
    {
     "name": "stdout",
     "output_type": "stream",
     "text": [
      "loaded eeg for R1308T1\n",
      "getting PTSA\n",
      "56 matching events found\n",
      "No baseline correction applied\n",
      "Not setting metadata\n",
      "0 projection items activated\n",
      "0 bad epochs dropped\n"
     ]
    },
    {
     "name": "stderr",
     "output_type": "stream",
     "text": [
      "/home1/john/Downloads/cmlreaders-master/cmlreaders/path_finder.py:239: MultiplePathsFoundWarning: Multiple files found: /protocols/r1/subjects/R1308T/localizations/0/montages/0/neuroradiology/current_processed/pairs.json\n",
      "/data/eeg/R1308T/tal/R1308T_talLocs_database_bipol.mat returning the first file found\n",
      "  warnings.warn(msg, MultiplePathsFoundWarning)\n",
      "/home1/john/anaconda3/envs/env1/lib/python3.7/site-packages/ptsa/data/readers/tal.py:43: FutureWarning: Lab-specific readers may be moved to the cmlreaders package (https://github.com/pennmem/cmlreaders)\n",
      "  FutureWarning)\n"
     ]
    },
    {
     "name": "stdout",
     "output_type": "stream",
     "text": [
      "loaded eeg for R1308T2\n",
      "getting PTSA\n",
      "37 matching events found\n",
      "No baseline correction applied\n",
      "Not setting metadata\n",
      "0 projection items activated\n",
      "0 bad epochs dropped\n"
     ]
    },
    {
     "name": "stderr",
     "output_type": "stream",
     "text": [
      "/home1/john/Downloads/cmlreaders-master/cmlreaders/path_finder.py:239: MultiplePathsFoundWarning: Multiple files found: /protocols/r1/subjects/R1308T/localizations/0/montages/0/neuroradiology/current_processed/pairs.json\n",
      "/data/eeg/R1308T/tal/R1308T_talLocs_database_bipol.mat returning the first file found\n",
      "  warnings.warn(msg, MultiplePathsFoundWarning)\n",
      "/home1/john/anaconda3/envs/env1/lib/python3.7/site-packages/ptsa/data/readers/tal.py:43: FutureWarning: Lab-specific readers may be moved to the cmlreaders package (https://github.com/pennmem/cmlreaders)\n",
      "  FutureWarning)\n"
     ]
    },
    {
     "name": "stdout",
     "output_type": "stream",
     "text": [
      "loaded eeg for R1308T3\n",
      "getting PTSA\n",
      "58 matching events found\n",
      "No baseline correction applied\n",
      "Not setting metadata\n",
      "0 projection items activated\n",
      "0 bad epochs dropped\n"
     ]
    },
    {
     "name": "stderr",
     "output_type": "stream",
     "text": [
      "/home1/john/Downloads/cmlreaders-master/cmlreaders/path_finder.py:239: MultiplePathsFoundWarning: Multiple files found: /protocols/r1/subjects/R1308T/localizations/0/montages/0/neuroradiology/current_processed/pairs.json\n",
      "/data/eeg/R1308T/tal/R1308T_talLocs_database_bipol.mat returning the first file found\n",
      "  warnings.warn(msg, MultiplePathsFoundWarning)\n",
      "/home1/john/anaconda3/envs/env1/lib/python3.7/site-packages/ptsa/data/readers/tal.py:43: FutureWarning: Lab-specific readers may be moved to the cmlreaders package (https://github.com/pennmem/cmlreaders)\n",
      "  FutureWarning)\n"
     ]
    },
    {
     "name": "stdout",
     "output_type": "stream",
     "text": [
      "loaded eeg for R1308T4\n",
      "getting PTSA\n",
      "70 matching events found\n",
      "No baseline correction applied\n",
      "Not setting metadata\n",
      "0 projection items activated\n",
      "0 bad epochs dropped\n"
     ]
    },
    {
     "name": "stderr",
     "output_type": "stream",
     "text": [
      "/home1/john/Downloads/cmlreaders-master/cmlreaders/path_finder.py:239: MultiplePathsFoundWarning: Multiple files found: /protocols/r1/subjects/R1309M/localizations/0/montages/0/neuroradiology/current_processed/pairs.json\n",
      "/data/eeg/R1309M/tal/R1309M_talLocs_database_bipol.mat returning the first file found\n",
      "  warnings.warn(msg, MultiplePathsFoundWarning)\n",
      "/home1/john/anaconda3/envs/env1/lib/python3.7/site-packages/ptsa/data/readers/tal.py:43: FutureWarning: Lab-specific readers may be moved to the cmlreaders package (https://github.com/pennmem/cmlreaders)\n",
      "  FutureWarning)\n"
     ]
    },
    {
     "name": "stdout",
     "output_type": "stream",
     "text": [
      "loaded eeg for R1309M0\n",
      "getting PTSA\n",
      "54 matching events found\n",
      "No baseline correction applied\n",
      "Not setting metadata\n",
      "0 projection items activated\n",
      "0 bad epochs dropped\n"
     ]
    },
    {
     "name": "stderr",
     "output_type": "stream",
     "text": [
      "/home1/john/Downloads/cmlreaders-master/cmlreaders/path_finder.py:239: MultiplePathsFoundWarning: Multiple files found: /protocols/r1/subjects/R1309M/localizations/0/montages/0/neuroradiology/current_processed/pairs.json\n",
      "/data/eeg/R1309M/tal/R1309M_talLocs_database_bipol.mat returning the first file found\n",
      "  warnings.warn(msg, MultiplePathsFoundWarning)\n",
      "/home1/john/anaconda3/envs/env1/lib/python3.7/site-packages/ptsa/data/readers/tal.py:43: FutureWarning: Lab-specific readers may be moved to the cmlreaders package (https://github.com/pennmem/cmlreaders)\n",
      "  FutureWarning)\n"
     ]
    },
    {
     "name": "stdout",
     "output_type": "stream",
     "text": [
      "loaded eeg for R1309M1\n",
      "getting PTSA\n",
      "19 matching events found\n",
      "No baseline correction applied\n",
      "Not setting metadata\n",
      "0 projection items activated\n",
      "0 bad epochs dropped\n"
     ]
    },
    {
     "name": "stderr",
     "output_type": "stream",
     "text": [
      "/home1/john/Downloads/cmlreaders-master/cmlreaders/path_finder.py:239: MultiplePathsFoundWarning: Multiple files found: /protocols/r1/subjects/R1309M/localizations/0/montages/0/neuroradiology/current_processed/pairs.json\n",
      "/data/eeg/R1309M/tal/R1309M_talLocs_database_bipol.mat returning the first file found\n",
      "  warnings.warn(msg, MultiplePathsFoundWarning)\n",
      "/home1/john/anaconda3/envs/env1/lib/python3.7/site-packages/ptsa/data/readers/tal.py:43: FutureWarning: Lab-specific readers may be moved to the cmlreaders package (https://github.com/pennmem/cmlreaders)\n",
      "  FutureWarning)\n"
     ]
    },
    {
     "name": "stdout",
     "output_type": "stream",
     "text": [
      "loaded eeg for R1309M2\n",
      "getting PTSA\n",
      "30 matching events found\n",
      "No baseline correction applied\n",
      "Not setting metadata\n",
      "0 projection items activated\n",
      "0 bad epochs dropped\n"
     ]
    },
    {
     "name": "stderr",
     "output_type": "stream",
     "text": [
      "/home1/john/Downloads/cmlreaders-master/cmlreaders/path_finder.py:239: MultiplePathsFoundWarning: Multiple files found: /protocols/r1/subjects/R1310J/localizations/0/montages/0/neuroradiology/current_processed/pairs.json\n",
      "/data/eeg/R1310J/tal/R1310J_talLocs_database_bipol.mat returning the first file found\n",
      "  warnings.warn(msg, MultiplePathsFoundWarning)\n",
      "/home1/john/anaconda3/envs/env1/lib/python3.7/site-packages/ptsa/data/readers/tal.py:43: FutureWarning: Lab-specific readers may be moved to the cmlreaders package (https://github.com/pennmem/cmlreaders)\n",
      "  FutureWarning)\n",
      "/home1/john/Downloads/cmlreaders-master/cmlreaders/path_finder.py:239: MultiplePathsFoundWarning: Multiple files found: /protocols/r1/subjects/R1310J/experiments/FR1/sessions/0/ephys/current_processed/sources.json\n",
      "/data/eeg/R1310J/eeg.noreref/params.txt returning the first file found\n",
      "  warnings.warn(msg, MultiplePathsFoundWarning)\n"
     ]
    },
    {
     "name": "stdout",
     "output_type": "stream",
     "text": [
      "loaded eeg for R1310J0\n",
      "getting PTSA\n",
      "51 matching events found\n",
      "No baseline correction applied\n",
      "Not setting metadata\n",
      "0 projection items activated\n",
      "0 bad epochs dropped\n"
     ]
    },
    {
     "name": "stderr",
     "output_type": "stream",
     "text": [
      "/home1/john/Downloads/cmlreaders-master/cmlreaders/path_finder.py:239: MultiplePathsFoundWarning: Multiple files found: /protocols/r1/subjects/R1310J/localizations/0/montages/0/neuroradiology/current_processed/pairs.json\n",
      "/data/eeg/R1310J/tal/R1310J_talLocs_database_bipol.mat returning the first file found\n",
      "  warnings.warn(msg, MultiplePathsFoundWarning)\n",
      "/home1/john/anaconda3/envs/env1/lib/python3.7/site-packages/ptsa/data/readers/tal.py:43: FutureWarning: Lab-specific readers may be moved to the cmlreaders package (https://github.com/pennmem/cmlreaders)\n",
      "  FutureWarning)\n",
      "/home1/john/Downloads/cmlreaders-master/cmlreaders/path_finder.py:239: MultiplePathsFoundWarning: Multiple files found: /protocols/r1/subjects/R1310J/experiments/FR1/sessions/1/ephys/current_processed/sources.json\n",
      "/data/eeg/R1310J/eeg.noreref/params.txt returning the first file found\n",
      "  warnings.warn(msg, MultiplePathsFoundWarning)\n"
     ]
    },
    {
     "name": "stdout",
     "output_type": "stream",
     "text": [
      "loaded eeg for R1310J1\n",
      "getting PTSA\n",
      "41 matching events found\n",
      "No baseline correction applied\n",
      "Not setting metadata\n",
      "0 projection items activated\n",
      "0 bad epochs dropped\n"
     ]
    },
    {
     "name": "stderr",
     "output_type": "stream",
     "text": [
      "/home1/john/Downloads/cmlreaders-master/cmlreaders/path_finder.py:239: MultiplePathsFoundWarning: Multiple files found: /protocols/r1/subjects/R1311T/localizations/0/montages/0/neuroradiology/current_processed/pairs.json\n",
      "/data/eeg/R1311T/tal/R1311T_talLocs_database_bipol.mat returning the first file found\n",
      "  warnings.warn(msg, MultiplePathsFoundWarning)\n",
      "/home1/john/anaconda3/envs/env1/lib/python3.7/site-packages/ptsa/data/readers/tal.py:43: FutureWarning: Lab-specific readers may be moved to the cmlreaders package (https://github.com/pennmem/cmlreaders)\n",
      "  FutureWarning)\n",
      "/home1/john/Downloads/cmlreaders-master/cmlreaders/path_finder.py:239: MultiplePathsFoundWarning: Multiple files found: /protocols/r1/subjects/R1311T/experiments/FR1/sessions/0/ephys/current_processed/sources.json\n",
      "/data/eeg/R1311T/eeg.noreref/R1311T_FR1_0_20Jun17_1506.params.txt\n",
      "/data/eeg/R1311T/eeg.noreref/params.txt returning the first file found\n",
      "  warnings.warn(msg, MultiplePathsFoundWarning)\n"
     ]
    },
    {
     "name": "stdout",
     "output_type": "stream",
     "text": [
      "loaded eeg for R1311T0\n",
      "getting PTSA\n",
      "10 matching events found\n",
      "No baseline correction applied\n",
      "Not setting metadata\n",
      "0 projection items activated\n",
      "0 bad epochs dropped\n",
      "2020-06-01_17-25-21: DF Exception: Sub: R1311T, Sess: 0, Manual error, Manual error: MNE eeg evs do not match len(evs_free_recall), file: , line no: XXX\n"
     ]
    },
    {
     "name": "stderr",
     "output_type": "stream",
     "text": [
      "/home1/john/Downloads/cmlreaders-master/cmlreaders/path_finder.py:239: MultiplePathsFoundWarning: Multiple files found: /protocols/r1/subjects/R1311T/localizations/0/montages/0/neuroradiology/current_processed/pairs.json\n",
      "/data/eeg/R1311T/tal/R1311T_talLocs_database_bipol.mat returning the first file found\n",
      "  warnings.warn(msg, MultiplePathsFoundWarning)\n",
      "/home1/john/anaconda3/envs/env1/lib/python3.7/site-packages/ptsa/data/readers/tal.py:43: FutureWarning: Lab-specific readers may be moved to the cmlreaders package (https://github.com/pennmem/cmlreaders)\n",
      "  FutureWarning)\n",
      "/home1/john/Downloads/cmlreaders-master/cmlreaders/path_finder.py:239: MultiplePathsFoundWarning: Multiple files found: /protocols/r1/subjects/R1311T/experiments/FR1/sessions/1/ephys/current_processed/sources.json\n",
      "/data/eeg/R1311T/eeg.noreref/R1311T_FR1_1_21Jun17_1131.params.txt\n",
      "/data/eeg/R1311T/eeg.noreref/params.txt returning the first file found\n",
      "  warnings.warn(msg, MultiplePathsFoundWarning)\n"
     ]
    },
    {
     "name": "stdout",
     "output_type": "stream",
     "text": [
      "loaded eeg for R1311T1\n",
      "getting PTSA\n",
      "23 matching events found\n",
      "No baseline correction applied\n",
      "Not setting metadata\n",
      "0 projection items activated\n",
      "0 bad epochs dropped\n"
     ]
    },
    {
     "name": "stderr",
     "output_type": "stream",
     "text": [
      "/home1/john/Downloads/cmlreaders-master/cmlreaders/path_finder.py:239: MultiplePathsFoundWarning: Multiple files found: /protocols/r1/subjects/R1311T/localizations/0/montages/0/neuroradiology/current_processed/pairs.json\n",
      "/data/eeg/R1311T/tal/R1311T_talLocs_database_bipol.mat returning the first file found\n",
      "  warnings.warn(msg, MultiplePathsFoundWarning)\n",
      "/home1/john/anaconda3/envs/env1/lib/python3.7/site-packages/ptsa/data/readers/tal.py:43: FutureWarning: Lab-specific readers may be moved to the cmlreaders package (https://github.com/pennmem/cmlreaders)\n",
      "  FutureWarning)\n",
      "/home1/john/Downloads/cmlreaders-master/cmlreaders/path_finder.py:239: MultiplePathsFoundWarning: Multiple files found: /protocols/r1/subjects/R1311T/experiments/FR1/sessions/2/ephys/current_processed/sources.json\n",
      "/data/eeg/R1311T/eeg.noreref/R1311T_FR1_2_22Jun17_1517.params.txt\n",
      "/data/eeg/R1311T/eeg.noreref/params.txt returning the first file found\n",
      "  warnings.warn(msg, MultiplePathsFoundWarning)\n"
     ]
    },
    {
     "name": "stdout",
     "output_type": "stream",
     "text": [
      "loaded eeg for R1311T2\n",
      "getting PTSA\n",
      "27 matching events found\n",
      "No baseline correction applied\n",
      "Not setting metadata\n",
      "0 projection items activated\n",
      "0 bad epochs dropped\n"
     ]
    },
    {
     "name": "stderr",
     "output_type": "stream",
     "text": [
      "/home1/john/Downloads/cmlreaders-master/cmlreaders/path_finder.py:239: MultiplePathsFoundWarning: Multiple files found: /protocols/r1/subjects/R1313J/localizations/0/montages/0/neuroradiology/current_processed/pairs.json\n",
      "/data/eeg/R1313J/tal/R1313J_talLocs_database_bipol.mat returning the first file found\n",
      "  warnings.warn(msg, MultiplePathsFoundWarning)\n",
      "/home1/john/anaconda3/envs/env1/lib/python3.7/site-packages/ptsa/data/readers/tal.py:43: FutureWarning: Lab-specific readers may be moved to the cmlreaders package (https://github.com/pennmem/cmlreaders)\n",
      "  FutureWarning)\n",
      "/home1/john/Downloads/cmlreaders-master/cmlreaders/path_finder.py:239: MultiplePathsFoundWarning: Multiple files found: /protocols/r1/subjects/R1313J/experiments/FR1/sessions/0/ephys/current_processed/sources.json\n",
      "/data/eeg/R1313J/eeg.noreref/params.txt returning the first file found\n",
      "  warnings.warn(msg, MultiplePathsFoundWarning)\n"
     ]
    },
    {
     "name": "stdout",
     "output_type": "stream",
     "text": [
      "loaded eeg for R1313J0\n",
      "getting PTSA\n",
      "30 matching events found\n",
      "No baseline correction applied\n",
      "Not setting metadata\n",
      "0 projection items activated\n",
      "0 bad epochs dropped\n"
     ]
    },
    {
     "name": "stderr",
     "output_type": "stream",
     "text": [
      "/home1/john/Downloads/cmlreaders-master/cmlreaders/path_finder.py:239: MultiplePathsFoundWarning: Multiple files found: /protocols/r1/subjects/R1313J/localizations/0/montages/0/neuroradiology/current_processed/pairs.json\n",
      "/data/eeg/R1313J/tal/R1313J_talLocs_database_bipol.mat returning the first file found\n",
      "  warnings.warn(msg, MultiplePathsFoundWarning)\n",
      "/home1/john/anaconda3/envs/env1/lib/python3.7/site-packages/ptsa/data/readers/tal.py:43: FutureWarning: Lab-specific readers may be moved to the cmlreaders package (https://github.com/pennmem/cmlreaders)\n",
      "  FutureWarning)\n",
      "/home1/john/Downloads/cmlreaders-master/cmlreaders/path_finder.py:239: MultiplePathsFoundWarning: Multiple files found: /protocols/r1/subjects/R1313J/experiments/FR1/sessions/1/ephys/current_processed/sources.json\n",
      "/data/eeg/R1313J/eeg.noreref/params.txt returning the first file found\n",
      "  warnings.warn(msg, MultiplePathsFoundWarning)\n"
     ]
    },
    {
     "name": "stdout",
     "output_type": "stream",
     "text": [
      "loaded eeg for R1313J1\n",
      "getting PTSA\n",
      "17 matching events found\n",
      "No baseline correction applied\n",
      "Not setting metadata\n",
      "0 projection items activated\n",
      "0 bad epochs dropped\n"
     ]
    },
    {
     "name": "stderr",
     "output_type": "stream",
     "text": [
      "/home1/john/Downloads/cmlreaders-master/cmlreaders/path_finder.py:239: MultiplePathsFoundWarning: Multiple files found: /protocols/r1/subjects/R1315T/localizations/0/montages/0/neuroradiology/current_processed/pairs.json\n",
      "/data/eeg/R1315T/tal/R1315T_talLocs_database_bipol.mat returning the first file found\n",
      "  warnings.warn(msg, MultiplePathsFoundWarning)\n",
      "/home1/john/anaconda3/envs/env1/lib/python3.7/site-packages/ptsa/data/readers/tal.py:43: FutureWarning: Lab-specific readers may be moved to the cmlreaders package (https://github.com/pennmem/cmlreaders)\n",
      "  FutureWarning)\n",
      "/home1/john/Downloads/cmlreaders-master/cmlreaders/path_finder.py:239: MultiplePathsFoundWarning: Multiple files found: /protocols/r1/subjects/R1315T/experiments/FR1/sessions/0/ephys/current_processed/sources.json\n",
      "/data/eeg/R1315T/eeg.noreref/params.txt returning the first file found\n",
      "  warnings.warn(msg, MultiplePathsFoundWarning)\n"
     ]
    },
    {
     "name": "stdout",
     "output_type": "stream",
     "text": [
      "loaded eeg for R1315T0\n",
      "getting PTSA\n",
      "36 matching events found\n",
      "No baseline correction applied\n",
      "Not setting metadata\n",
      "0 projection items activated\n",
      "0 bad epochs dropped\n"
     ]
    },
    {
     "name": "stderr",
     "output_type": "stream",
     "text": [
      "/home1/john/Downloads/cmlreaders-master/cmlreaders/path_finder.py:239: MultiplePathsFoundWarning: Multiple files found: /protocols/r1/subjects/R1315T/localizations/0/montages/0/neuroradiology/current_processed/pairs.json\n",
      "/data/eeg/R1315T/tal/R1315T_talLocs_database_bipol.mat returning the first file found\n",
      "  warnings.warn(msg, MultiplePathsFoundWarning)\n",
      "/home1/john/anaconda3/envs/env1/lib/python3.7/site-packages/ptsa/data/readers/tal.py:43: FutureWarning: Lab-specific readers may be moved to the cmlreaders package (https://github.com/pennmem/cmlreaders)\n",
      "  FutureWarning)\n",
      "/home1/john/Downloads/cmlreaders-master/cmlreaders/path_finder.py:239: MultiplePathsFoundWarning: Multiple files found: /protocols/r1/subjects/R1315T/experiments/FR1/sessions/1/ephys/current_processed/sources.json\n",
      "/data/eeg/R1315T/eeg.noreref/params.txt returning the first file found\n",
      "  warnings.warn(msg, MultiplePathsFoundWarning)\n"
     ]
    },
    {
     "name": "stdout",
     "output_type": "stream",
     "text": [
      "loaded eeg for R1315T1\n",
      "getting PTSA\n",
      "29 matching events found\n",
      "No baseline correction applied\n",
      "Not setting metadata\n",
      "0 projection items activated\n",
      "0 bad epochs dropped\n"
     ]
    },
    {
     "name": "stderr",
     "output_type": "stream",
     "text": [
      "/home1/john/Downloads/cmlreaders-master/cmlreaders/path_finder.py:239: MultiplePathsFoundWarning: Multiple files found: /protocols/r1/subjects/R1315T/localizations/0/montages/0/neuroradiology/current_processed/pairs.json\n",
      "/data/eeg/R1315T/tal/R1315T_talLocs_database_bipol.mat returning the first file found\n",
      "  warnings.warn(msg, MultiplePathsFoundWarning)\n",
      "/home1/john/anaconda3/envs/env1/lib/python3.7/site-packages/ptsa/data/readers/tal.py:43: FutureWarning: Lab-specific readers may be moved to the cmlreaders package (https://github.com/pennmem/cmlreaders)\n",
      "  FutureWarning)\n",
      "/home1/john/Downloads/cmlreaders-master/cmlreaders/path_finder.py:239: MultiplePathsFoundWarning: Multiple files found: /protocols/r1/subjects/R1315T/experiments/FR1/sessions/2/ephys/current_processed/sources.json\n",
      "/data/eeg/R1315T/eeg.noreref/params.txt returning the first file found\n",
      "  warnings.warn(msg, MultiplePathsFoundWarning)\n"
     ]
    },
    {
     "name": "stdout",
     "output_type": "stream",
     "text": [
      "loaded eeg for R1315T2\n",
      "getting PTSA\n",
      "43 matching events found\n",
      "No baseline correction applied\n",
      "Not setting metadata\n",
      "0 projection items activated\n",
      "0 bad epochs dropped\n"
     ]
    },
    {
     "name": "stderr",
     "output_type": "stream",
     "text": [
      "/home1/john/Downloads/cmlreaders-master/cmlreaders/path_finder.py:239: MultiplePathsFoundWarning: Multiple files found: /protocols/r1/subjects/R1315T/localizations/0/montages/0/neuroradiology/current_processed/pairs.json\n",
      "/data/eeg/R1315T/tal/R1315T_talLocs_database_bipol.mat returning the first file found\n",
      "  warnings.warn(msg, MultiplePathsFoundWarning)\n",
      "/home1/john/anaconda3/envs/env1/lib/python3.7/site-packages/ptsa/data/readers/tal.py:43: FutureWarning: Lab-specific readers may be moved to the cmlreaders package (https://github.com/pennmem/cmlreaders)\n",
      "  FutureWarning)\n",
      "/home1/john/Downloads/cmlreaders-master/cmlreaders/path_finder.py:239: MultiplePathsFoundWarning: Multiple files found: /protocols/r1/subjects/R1315T/experiments/FR1/sessions/3/ephys/current_processed/sources.json\n",
      "/data/eeg/R1315T/eeg.noreref/params.txt returning the first file found\n",
      "  warnings.warn(msg, MultiplePathsFoundWarning)\n"
     ]
    },
    {
     "name": "stdout",
     "output_type": "stream",
     "text": [
      "loaded eeg for R1315T3\n",
      "getting PTSA\n",
      "38 matching events found\n",
      "No baseline correction applied\n",
      "Not setting metadata\n",
      "0 projection items activated\n",
      "0 bad epochs dropped\n"
     ]
    },
    {
     "name": "stderr",
     "output_type": "stream",
     "text": [
      "/home1/john/Downloads/cmlreaders-master/cmlreaders/path_finder.py:239: MultiplePathsFoundWarning: Multiple files found: /protocols/r1/subjects/R1316T/localizations/0/montages/0/neuroradiology/current_processed/pairs.json\n",
      "/data/eeg/R1316T/tal/R1316T_talLocs_database_bipol.mat returning the first file found\n",
      "  warnings.warn(msg, MultiplePathsFoundWarning)\n",
      "/home1/john/anaconda3/envs/env1/lib/python3.7/site-packages/ptsa/data/readers/tal.py:43: FutureWarning: Lab-specific readers may be moved to the cmlreaders package (https://github.com/pennmem/cmlreaders)\n",
      "  FutureWarning)\n"
     ]
    },
    {
     "name": "stdout",
     "output_type": "stream",
     "text": [
      "loaded eeg for R1316T0\n",
      "getting PTSA\n",
      "11 matching events found\n",
      "No baseline correction applied\n",
      "Not setting metadata\n",
      "0 projection items activated\n",
      "0 bad epochs dropped\n"
     ]
    },
    {
     "name": "stderr",
     "output_type": "stream",
     "text": [
      "/home1/john/Downloads/cmlreaders-master/cmlreaders/path_finder.py:239: MultiplePathsFoundWarning: Multiple files found: /protocols/r1/subjects/R1316T/localizations/0/montages/0/neuroradiology/current_processed/pairs.json\n",
      "/data/eeg/R1316T/tal/R1316T_talLocs_database_bipol.mat returning the first file found\n",
      "  warnings.warn(msg, MultiplePathsFoundWarning)\n",
      "/home1/john/anaconda3/envs/env1/lib/python3.7/site-packages/ptsa/data/readers/tal.py:43: FutureWarning: Lab-specific readers may be moved to the cmlreaders package (https://github.com/pennmem/cmlreaders)\n",
      "  FutureWarning)\n"
     ]
    },
    {
     "name": "stdout",
     "output_type": "stream",
     "text": [
      "loaded eeg for R1316T1\n",
      "getting PTSA\n",
      "37 matching events found\n",
      "No baseline correction applied\n",
      "Not setting metadata\n",
      "0 projection items activated\n",
      "0 bad epochs dropped\n"
     ]
    },
    {
     "name": "stderr",
     "output_type": "stream",
     "text": [
      "/home1/john/Downloads/cmlreaders-master/cmlreaders/path_finder.py:239: MultiplePathsFoundWarning: Multiple files found: /protocols/r1/subjects/R1316T/localizations/0/montages/0/neuroradiology/current_processed/pairs.json\n",
      "/data/eeg/R1316T/tal/R1316T_talLocs_database_bipol.mat returning the first file found\n",
      "  warnings.warn(msg, MultiplePathsFoundWarning)\n",
      "/home1/john/anaconda3/envs/env1/lib/python3.7/site-packages/ptsa/data/readers/tal.py:43: FutureWarning: Lab-specific readers may be moved to the cmlreaders package (https://github.com/pennmem/cmlreaders)\n",
      "  FutureWarning)\n"
     ]
    },
    {
     "name": "stdout",
     "output_type": "stream",
     "text": [
      "loaded eeg for R1316T2\n",
      "getting PTSA\n",
      "55 matching events found\n",
      "No baseline correction applied\n",
      "Not setting metadata\n",
      "0 projection items activated\n",
      "0 bad epochs dropped\n"
     ]
    },
    {
     "name": "stderr",
     "output_type": "stream",
     "text": [
      "/home1/john/Downloads/cmlreaders-master/cmlreaders/path_finder.py:239: MultiplePathsFoundWarning: Multiple files found: /protocols/r1/subjects/R1317D/localizations/0/montages/0/neuroradiology/current_processed/pairs.json\n",
      "/data/eeg/R1317D/tal/R1317D_talLocs_database_bipol.mat returning the first file found\n",
      "  warnings.warn(msg, MultiplePathsFoundWarning)\n",
      "/home1/john/anaconda3/envs/env1/lib/python3.7/site-packages/ptsa/data/readers/tal.py:43: FutureWarning: Lab-specific readers may be moved to the cmlreaders package (https://github.com/pennmem/cmlreaders)\n",
      "  FutureWarning)\n"
     ]
    },
    {
     "name": "stdout",
     "output_type": "stream",
     "text": [
      "loaded eeg for R1317D0\n",
      "getting PTSA\n",
      "50 matching events found\n",
      "No baseline correction applied\n",
      "Not setting metadata\n",
      "0 projection items activated\n",
      "0 bad epochs dropped\n"
     ]
    },
    {
     "name": "stderr",
     "output_type": "stream",
     "text": [
      "/home1/john/Downloads/cmlreaders-master/cmlreaders/path_finder.py:239: MultiplePathsFoundWarning: Multiple files found: /protocols/r1/subjects/R1317D/localizations/0/montages/0/neuroradiology/current_processed/pairs.json\n",
      "/data/eeg/R1317D/tal/R1317D_talLocs_database_bipol.mat returning the first file found\n",
      "  warnings.warn(msg, MultiplePathsFoundWarning)\n",
      "/home1/john/anaconda3/envs/env1/lib/python3.7/site-packages/ptsa/data/readers/tal.py:43: FutureWarning: Lab-specific readers may be moved to the cmlreaders package (https://github.com/pennmem/cmlreaders)\n",
      "  FutureWarning)\n"
     ]
    },
    {
     "name": "stdout",
     "output_type": "stream",
     "text": [
      "loaded eeg for R1317D1\n",
      "getting PTSA\n",
      "62 matching events found\n",
      "No baseline correction applied\n",
      "Not setting metadata\n",
      "0 projection items activated\n",
      "0 bad epochs dropped\n"
     ]
    },
    {
     "name": "stderr",
     "output_type": "stream",
     "text": [
      "/home1/john/Downloads/cmlreaders-master/cmlreaders/path_finder.py:239: MultiplePathsFoundWarning: Multiple files found: /protocols/r1/subjects/R1318N/localizations/0/montages/0/neuroradiology/current_processed/pairs.json\n",
      "/data/eeg/R1318N/tal/R1318N_talLocs_database_bipol.mat returning the first file found\n",
      "  warnings.warn(msg, MultiplePathsFoundWarning)\n",
      "/home1/john/Downloads/cmlreaders-master/cmlreaders/readers/electrodes.py:236: MissingCoordinatesWarning: Could not load MNI coordinates\n",
      "  \"Could not load MNI coordinates\"))\n",
      "/home1/john/anaconda3/envs/env1/lib/python3.7/site-packages/ptsa/data/readers/tal.py:43: FutureWarning: Lab-specific readers may be moved to the cmlreaders package (https://github.com/pennmem/cmlreaders)\n",
      "  FutureWarning)\n"
     ]
    },
    {
     "name": "stdout",
     "output_type": "stream",
     "text": [
      "loaded eeg for R1318N0\n",
      "getting PTSA\n",
      "51 matching events found\n",
      "No baseline correction applied\n",
      "Not setting metadata\n",
      "0 projection items activated\n",
      "0 bad epochs dropped\n"
     ]
    },
    {
     "name": "stderr",
     "output_type": "stream",
     "text": [
      "/home1/john/Downloads/cmlreaders-master/cmlreaders/path_finder.py:239: MultiplePathsFoundWarning: Multiple files found: /protocols/r1/subjects/R1320D/localizations/0/montages/0/neuroradiology/current_processed/pairs.json\n",
      "/data/eeg/R1320D/tal/R1320D_talLocs_database_bipol.mat returning the first file found\n",
      "  warnings.warn(msg, MultiplePathsFoundWarning)\n",
      "/home1/john/anaconda3/envs/env1/lib/python3.7/site-packages/ptsa/data/readers/tal.py:43: FutureWarning: Lab-specific readers may be moved to the cmlreaders package (https://github.com/pennmem/cmlreaders)\n",
      "  FutureWarning)\n"
     ]
    },
    {
     "name": "stdout",
     "output_type": "stream",
     "text": [
      "loaded eeg for R1320D0\n",
      "getting PTSA\n",
      "16 matching events found\n",
      "No baseline correction applied\n",
      "Not setting metadata\n",
      "0 projection items activated\n",
      "0 bad epochs dropped\n"
     ]
    },
    {
     "name": "stderr",
     "output_type": "stream",
     "text": [
      "/home1/john/Downloads/cmlreaders-master/cmlreaders/path_finder.py:239: MultiplePathsFoundWarning: Multiple files found: /protocols/r1/subjects/R1320D/localizations/0/montages/0/neuroradiology/current_processed/pairs.json\n",
      "/data/eeg/R1320D/tal/R1320D_talLocs_database_bipol.mat returning the first file found\n",
      "  warnings.warn(msg, MultiplePathsFoundWarning)\n",
      "/home1/john/anaconda3/envs/env1/lib/python3.7/site-packages/ptsa/data/readers/tal.py:43: FutureWarning: Lab-specific readers may be moved to the cmlreaders package (https://github.com/pennmem/cmlreaders)\n",
      "  FutureWarning)\n"
     ]
    },
    {
     "name": "stdout",
     "output_type": "stream",
     "text": [
      "loaded eeg for R1320D1\n",
      "getting PTSA\n",
      "6 matching events found\n",
      "No baseline correction applied\n",
      "Not setting metadata\n",
      "0 projection items activated\n",
      "0 bad epochs dropped\n"
     ]
    },
    {
     "name": "stderr",
     "output_type": "stream",
     "text": [
      "/home1/john/Downloads/cmlreaders-master/cmlreaders/path_finder.py:239: MultiplePathsFoundWarning: Multiple files found: /protocols/r1/subjects/R1321M/localizations/0/montages/0/neuroradiology/current_processed/pairs.json\n",
      "/data/eeg/R1321M/tal/R1321M_talLocs_database_bipol.mat returning the first file found\n",
      "  warnings.warn(msg, MultiplePathsFoundWarning)\n",
      "/home1/john/anaconda3/envs/env1/lib/python3.7/site-packages/ptsa/data/readers/tal.py:43: FutureWarning: Lab-specific readers may be moved to the cmlreaders package (https://github.com/pennmem/cmlreaders)\n",
      "  FutureWarning)\n"
     ]
    },
    {
     "name": "stdout",
     "output_type": "stream",
     "text": [
      "loaded eeg for R1321M0\n",
      "getting PTSA\n",
      "75 matching events found\n",
      "No baseline correction applied\n",
      "Not setting metadata\n",
      "0 projection items activated\n",
      "0 bad epochs dropped\n"
     ]
    },
    {
     "name": "stderr",
     "output_type": "stream",
     "text": [
      "/home1/john/Downloads/cmlreaders-master/cmlreaders/path_finder.py:239: MultiplePathsFoundWarning: Multiple files found: /protocols/r1/subjects/R1323T/localizations/0/montages/0/neuroradiology/current_processed/pairs.json\n",
      "/data/eeg/R1323T/tal/R1323T_talLocs_database_bipol.mat returning the first file found\n",
      "  warnings.warn(msg, MultiplePathsFoundWarning)\n",
      "/home1/john/anaconda3/envs/env1/lib/python3.7/site-packages/ptsa/data/readers/tal.py:43: FutureWarning: Lab-specific readers may be moved to the cmlreaders package (https://github.com/pennmem/cmlreaders)\n",
      "  FutureWarning)\n"
     ]
    },
    {
     "name": "stdout",
     "output_type": "stream",
     "text": [
      "loaded eeg for R1323T0\n",
      "getting PTSA\n",
      "51 matching events found\n",
      "No baseline correction applied\n",
      "Not setting metadata\n",
      "0 projection items activated\n",
      "0 bad epochs dropped\n"
     ]
    },
    {
     "name": "stderr",
     "output_type": "stream",
     "text": [
      "/home1/john/Downloads/cmlreaders-master/cmlreaders/path_finder.py:239: MultiplePathsFoundWarning: Multiple files found: /protocols/r1/subjects/R1323T/localizations/0/montages/0/neuroradiology/current_processed/pairs.json\n",
      "/data/eeg/R1323T/tal/R1323T_talLocs_database_bipol.mat returning the first file found\n",
      "  warnings.warn(msg, MultiplePathsFoundWarning)\n",
      "/home1/john/anaconda3/envs/env1/lib/python3.7/site-packages/ptsa/data/readers/tal.py:43: FutureWarning: Lab-specific readers may be moved to the cmlreaders package (https://github.com/pennmem/cmlreaders)\n",
      "  FutureWarning)\n"
     ]
    },
    {
     "name": "stdout",
     "output_type": "stream",
     "text": [
      "loaded eeg for R1323T2\n",
      "getting PTSA\n",
      "39 matching events found\n",
      "No baseline correction applied\n",
      "Not setting metadata\n",
      "0 projection items activated\n",
      "0 bad epochs dropped\n"
     ]
    },
    {
     "name": "stderr",
     "output_type": "stream",
     "text": [
      "/home1/john/Downloads/cmlreaders-master/cmlreaders/path_finder.py:239: MultiplePathsFoundWarning: Multiple files found: /protocols/r1/subjects/R1323T/localizations/0/montages/0/neuroradiology/current_processed/pairs.json\n",
      "/data/eeg/R1323T/tal/R1323T_talLocs_database_bipol.mat returning the first file found\n",
      "  warnings.warn(msg, MultiplePathsFoundWarning)\n",
      "/home1/john/anaconda3/envs/env1/lib/python3.7/site-packages/ptsa/data/readers/tal.py:43: FutureWarning: Lab-specific readers may be moved to the cmlreaders package (https://github.com/pennmem/cmlreaders)\n",
      "  FutureWarning)\n"
     ]
    },
    {
     "name": "stdout",
     "output_type": "stream",
     "text": [
      "loaded eeg for R1323T3\n",
      "getting PTSA\n",
      "42 matching events found\n",
      "No baseline correction applied\n",
      "Not setting metadata\n",
      "0 projection items activated\n",
      "0 bad epochs dropped\n"
     ]
    },
    {
     "name": "stderr",
     "output_type": "stream",
     "text": [
      "/home1/john/Downloads/cmlreaders-master/cmlreaders/path_finder.py:239: MultiplePathsFoundWarning: Multiple files found: /protocols/r1/subjects/R1324M/localizations/0/montages/0/neuroradiology/current_processed/pairs.json\n",
      "/data/eeg/R1324M/tal/R1324M_talLocs_database_bipol.mat returning the first file found\n",
      "  warnings.warn(msg, MultiplePathsFoundWarning)\n",
      "/home1/john/anaconda3/envs/env1/lib/python3.7/site-packages/ptsa/data/readers/tal.py:43: FutureWarning: Lab-specific readers may be moved to the cmlreaders package (https://github.com/pennmem/cmlreaders)\n",
      "  FutureWarning)\n"
     ]
    },
    {
     "name": "stdout",
     "output_type": "stream",
     "text": [
      "loaded eeg for R1324M0\n",
      "getting PTSA\n",
      "10 matching events found\n",
      "No baseline correction applied\n",
      "Not setting metadata\n",
      "0 projection items activated\n",
      "0 bad epochs dropped\n"
     ]
    },
    {
     "name": "stderr",
     "output_type": "stream",
     "text": [
      "/home1/john/Downloads/cmlreaders-master/cmlreaders/path_finder.py:239: MultiplePathsFoundWarning: Multiple files found: /protocols/r1/subjects/R1324M/localizations/0/montages/0/neuroradiology/current_processed/pairs.json\n",
      "/data/eeg/R1324M/tal/R1324M_talLocs_database_bipol.mat returning the first file found\n",
      "  warnings.warn(msg, MultiplePathsFoundWarning)\n",
      "/home1/john/anaconda3/envs/env1/lib/python3.7/site-packages/ptsa/data/readers/tal.py:43: FutureWarning: Lab-specific readers may be moved to the cmlreaders package (https://github.com/pennmem/cmlreaders)\n",
      "  FutureWarning)\n"
     ]
    },
    {
     "name": "stdout",
     "output_type": "stream",
     "text": [
      "loaded eeg for R1324M1\n",
      "getting PTSA\n",
      "17 matching events found\n",
      "No baseline correction applied\n",
      "Not setting metadata\n",
      "0 projection items activated\n",
      "0 bad epochs dropped\n"
     ]
    },
    {
     "name": "stderr",
     "output_type": "stream",
     "text": [
      "/home1/john/Downloads/cmlreaders-master/cmlreaders/path_finder.py:239: MultiplePathsFoundWarning: Multiple files found: /protocols/r1/subjects/R1325C/localizations/0/montages/0/neuroradiology/current_processed/pairs.json\n",
      "/data/eeg/R1325C/tal/R1325C_talLocs_database_bipol.mat returning the first file found\n",
      "  warnings.warn(msg, MultiplePathsFoundWarning)\n",
      "/home1/john/Downloads/cmlreaders-master/cmlreaders/readers/electrodes.py:236: MissingCoordinatesWarning: Could not load MNI coordinates\n",
      "  \"Could not load MNI coordinates\"))\n",
      "/home1/john/anaconda3/envs/env1/lib/python3.7/site-packages/ptsa/data/readers/tal.py:43: FutureWarning: Lab-specific readers may be moved to the cmlreaders package (https://github.com/pennmem/cmlreaders)\n",
      "  FutureWarning)\n"
     ]
    },
    {
     "name": "stdout",
     "output_type": "stream",
     "text": [
      "loaded eeg for R1325C0\n",
      "getting PTSA\n",
      "15 matching events found\n",
      "No baseline correction applied\n",
      "Not setting metadata\n",
      "0 projection items activated\n",
      "0 bad epochs dropped\n"
     ]
    },
    {
     "name": "stderr",
     "output_type": "stream",
     "text": [
      "/home1/john/Downloads/cmlreaders-master/cmlreaders/path_finder.py:239: MultiplePathsFoundWarning: Multiple files found: /protocols/r1/subjects/R1325C/localizations/0/montages/0/neuroradiology/current_processed/pairs.json\n",
      "/data/eeg/R1325C/tal/R1325C_talLocs_database_bipol.mat returning the first file found\n",
      "  warnings.warn(msg, MultiplePathsFoundWarning)\n",
      "/home1/john/Downloads/cmlreaders-master/cmlreaders/readers/electrodes.py:236: MissingCoordinatesWarning: Could not load MNI coordinates\n",
      "  \"Could not load MNI coordinates\"))\n",
      "/home1/john/anaconda3/envs/env1/lib/python3.7/site-packages/ptsa/data/readers/tal.py:43: FutureWarning: Lab-specific readers may be moved to the cmlreaders package (https://github.com/pennmem/cmlreaders)\n",
      "  FutureWarning)\n"
     ]
    },
    {
     "name": "stdout",
     "output_type": "stream",
     "text": [
      "loaded eeg for R1325C1\n",
      "getting PTSA\n",
      "15 matching events found\n",
      "No baseline correction applied\n",
      "Not setting metadata\n",
      "0 projection items activated\n",
      "0 bad epochs dropped\n"
     ]
    },
    {
     "name": "stderr",
     "output_type": "stream",
     "text": [
      "/home1/john/Downloads/cmlreaders-master/cmlreaders/path_finder.py:239: MultiplePathsFoundWarning: Multiple files found: /protocols/r1/subjects/R1328E/localizations/0/montages/0/neuroradiology/current_processed/pairs.json\n",
      "/data/eeg/R1328E/tal/R1328E_talLocs_database_bipol.mat returning the first file found\n",
      "  warnings.warn(msg, MultiplePathsFoundWarning)\n",
      "/home1/john/anaconda3/envs/env1/lib/python3.7/site-packages/ptsa/data/readers/tal.py:43: FutureWarning: Lab-specific readers may be moved to the cmlreaders package (https://github.com/pennmem/cmlreaders)\n",
      "  FutureWarning)\n"
     ]
    },
    {
     "name": "stdout",
     "output_type": "stream",
     "text": [
      "loaded eeg for R1328E0\n",
      "getting PTSA\n",
      "30 matching events found\n",
      "No baseline correction applied\n",
      "Not setting metadata\n",
      "0 projection items activated\n",
      "0 bad epochs dropped\n"
     ]
    },
    {
     "name": "stderr",
     "output_type": "stream",
     "text": [
      "/home1/john/Downloads/cmlreaders-master/cmlreaders/path_finder.py:239: MultiplePathsFoundWarning: Multiple files found: /protocols/r1/subjects/R1328E/localizations/0/montages/0/neuroradiology/current_processed/pairs.json\n",
      "/data/eeg/R1328E/tal/R1328E_talLocs_database_bipol.mat returning the first file found\n",
      "  warnings.warn(msg, MultiplePathsFoundWarning)\n",
      "/home1/john/anaconda3/envs/env1/lib/python3.7/site-packages/ptsa/data/readers/tal.py:43: FutureWarning: Lab-specific readers may be moved to the cmlreaders package (https://github.com/pennmem/cmlreaders)\n",
      "  FutureWarning)\n"
     ]
    },
    {
     "name": "stdout",
     "output_type": "stream",
     "text": [
      "loaded eeg for R1328E1\n",
      "getting PTSA\n",
      "55 matching events found\n",
      "No baseline correction applied\n",
      "Not setting metadata\n",
      "0 projection items activated\n",
      "0 bad epochs dropped\n"
     ]
    },
    {
     "name": "stderr",
     "output_type": "stream",
     "text": [
      "/home1/john/Downloads/cmlreaders-master/cmlreaders/path_finder.py:239: MultiplePathsFoundWarning: Multiple files found: /protocols/r1/subjects/R1329T/localizations/0/montages/0/neuroradiology/current_processed/pairs.json\n",
      "/data/eeg/R1329T/tal/R1329T_talLocs_database_bipol.mat returning the first file found\n",
      "  warnings.warn(msg, MultiplePathsFoundWarning)\n",
      "/home1/john/anaconda3/envs/env1/lib/python3.7/site-packages/ptsa/data/readers/tal.py:43: FutureWarning: Lab-specific readers may be moved to the cmlreaders package (https://github.com/pennmem/cmlreaders)\n",
      "  FutureWarning)\n"
     ]
    },
    {
     "name": "stdout",
     "output_type": "stream",
     "text": [
      "loaded eeg for R1329T0\n",
      "getting PTSA\n",
      "22 matching events found\n",
      "No baseline correction applied\n",
      "Not setting metadata\n",
      "0 projection items activated\n",
      "0 bad epochs dropped\n"
     ]
    },
    {
     "name": "stderr",
     "output_type": "stream",
     "text": [
      "/home1/john/Downloads/cmlreaders-master/cmlreaders/path_finder.py:239: MultiplePathsFoundWarning: Multiple files found: /protocols/r1/subjects/R1329T/localizations/0/montages/0/neuroradiology/current_processed/pairs.json\n",
      "/data/eeg/R1329T/tal/R1329T_talLocs_database_bipol.mat returning the first file found\n",
      "  warnings.warn(msg, MultiplePathsFoundWarning)\n",
      "/home1/john/anaconda3/envs/env1/lib/python3.7/site-packages/ptsa/data/readers/tal.py:43: FutureWarning: Lab-specific readers may be moved to the cmlreaders package (https://github.com/pennmem/cmlreaders)\n",
      "  FutureWarning)\n"
     ]
    },
    {
     "name": "stdout",
     "output_type": "stream",
     "text": [
      "loaded eeg for R1329T1\n",
      "getting PTSA\n",
      "29 matching events found\n",
      "No baseline correction applied\n",
      "Not setting metadata\n",
      "0 projection items activated\n",
      "0 bad epochs dropped\n"
     ]
    },
    {
     "name": "stderr",
     "output_type": "stream",
     "text": [
      "/home1/john/Downloads/cmlreaders-master/cmlreaders/path_finder.py:239: MultiplePathsFoundWarning: Multiple files found: /protocols/r1/subjects/R1330D/localizations/0/montages/0/neuroradiology/current_processed/pairs.json\n",
      "/data/eeg/R1330D/tal/R1330D_talLocs_database_bipol.mat returning the first file found\n",
      "  warnings.warn(msg, MultiplePathsFoundWarning)\n",
      "/home1/john/anaconda3/envs/env1/lib/python3.7/site-packages/ptsa/data/readers/tal.py:43: FutureWarning: Lab-specific readers may be moved to the cmlreaders package (https://github.com/pennmem/cmlreaders)\n",
      "  FutureWarning)\n"
     ]
    },
    {
     "name": "stdout",
     "output_type": "stream",
     "text": [
      "loaded eeg for R1330D0\n",
      "getting PTSA\n",
      "34 matching events found\n",
      "No baseline correction applied\n",
      "Not setting metadata\n",
      "0 projection items activated\n",
      "0 bad epochs dropped\n"
     ]
    },
    {
     "name": "stderr",
     "output_type": "stream",
     "text": [
      "/home1/john/Downloads/cmlreaders-master/cmlreaders/path_finder.py:239: MultiplePathsFoundWarning: Multiple files found: /protocols/r1/subjects/R1331T/localizations/0/montages/0/neuroradiology/current_processed/pairs.json\n",
      "/data/eeg/R1331T/tal/R1331T_talLocs_database_bipol.mat returning the first file found\n",
      "  warnings.warn(msg, MultiplePathsFoundWarning)\n",
      "/home1/john/anaconda3/envs/env1/lib/python3.7/site-packages/ptsa/data/readers/tal.py:43: FutureWarning: Lab-specific readers may be moved to the cmlreaders package (https://github.com/pennmem/cmlreaders)\n",
      "  FutureWarning)\n"
     ]
    },
    {
     "name": "stdout",
     "output_type": "stream",
     "text": [
      "loaded eeg for R1331T0\n",
      "getting PTSA\n",
      "40 matching events found\n",
      "No baseline correction applied\n",
      "Not setting metadata\n",
      "0 projection items activated\n",
      "0 bad epochs dropped\n"
     ]
    },
    {
     "name": "stderr",
     "output_type": "stream",
     "text": [
      "/home1/john/Downloads/cmlreaders-master/cmlreaders/path_finder.py:239: MultiplePathsFoundWarning: Multiple files found: /protocols/r1/subjects/R1331T/localizations/0/montages/0/neuroradiology/current_processed/pairs.json\n",
      "/data/eeg/R1331T/tal/R1331T_talLocs_database_bipol.mat returning the first file found\n",
      "  warnings.warn(msg, MultiplePathsFoundWarning)\n",
      "/home1/john/anaconda3/envs/env1/lib/python3.7/site-packages/ptsa/data/readers/tal.py:43: FutureWarning: Lab-specific readers may be moved to the cmlreaders package (https://github.com/pennmem/cmlreaders)\n",
      "  FutureWarning)\n"
     ]
    },
    {
     "name": "stdout",
     "output_type": "stream",
     "text": [
      "loaded eeg for R1331T1\n",
      "getting PTSA\n",
      "25 matching events found\n",
      "No baseline correction applied\n",
      "Not setting metadata\n",
      "0 projection items activated\n",
      "0 bad epochs dropped\n"
     ]
    },
    {
     "name": "stderr",
     "output_type": "stream",
     "text": [
      "/home1/john/Downloads/cmlreaders-master/cmlreaders/path_finder.py:239: MultiplePathsFoundWarning: Multiple files found: /protocols/r1/subjects/R1332M/localizations/0/montages/0/neuroradiology/current_processed/pairs.json\n",
      "/data/eeg/R1332M/tal/R1332M_talLocs_database_bipol.mat returning the first file found\n",
      "  warnings.warn(msg, MultiplePathsFoundWarning)\n",
      "/home1/john/anaconda3/envs/env1/lib/python3.7/site-packages/ptsa/data/readers/tal.py:43: FutureWarning: Lab-specific readers may be moved to the cmlreaders package (https://github.com/pennmem/cmlreaders)\n",
      "  FutureWarning)\n"
     ]
    },
    {
     "name": "stdout",
     "output_type": "stream",
     "text": [
      "loaded eeg for R1332M0\n",
      "getting PTSA\n",
      "77 matching events found\n",
      "No baseline correction applied\n",
      "Not setting metadata\n",
      "0 projection items activated\n",
      "0 bad epochs dropped\n"
     ]
    },
    {
     "name": "stderr",
     "output_type": "stream",
     "text": [
      "/home1/john/Downloads/cmlreaders-master/cmlreaders/path_finder.py:239: MultiplePathsFoundWarning: Multiple files found: /protocols/r1/subjects/R1332M/localizations/0/montages/0/neuroradiology/current_processed/pairs.json\n",
      "/data/eeg/R1332M/tal/R1332M_talLocs_database_bipol.mat returning the first file found\n",
      "  warnings.warn(msg, MultiplePathsFoundWarning)\n",
      "/home1/john/anaconda3/envs/env1/lib/python3.7/site-packages/ptsa/data/readers/tal.py:43: FutureWarning: Lab-specific readers may be moved to the cmlreaders package (https://github.com/pennmem/cmlreaders)\n",
      "  FutureWarning)\n"
     ]
    },
    {
     "name": "stdout",
     "output_type": "stream",
     "text": [
      "loaded eeg for R1332M1\n",
      "getting PTSA\n",
      "94 matching events found\n",
      "No baseline correction applied\n",
      "Not setting metadata\n",
      "0 projection items activated\n",
      "0 bad epochs dropped\n"
     ]
    },
    {
     "name": "stderr",
     "output_type": "stream",
     "text": [
      "/home1/john/Downloads/cmlreaders-master/cmlreaders/path_finder.py:239: MultiplePathsFoundWarning: Multiple files found: /protocols/r1/subjects/R1334T/localizations/0/montages/0/neuroradiology/current_processed/pairs.json\n",
      "/data/eeg/R1334T/tal/R1334T_talLocs_database_bipol.mat returning the first file found\n",
      "  warnings.warn(msg, MultiplePathsFoundWarning)\n",
      "/home1/john/anaconda3/envs/env1/lib/python3.7/site-packages/ptsa/data/readers/tal.py:43: FutureWarning: Lab-specific readers may be moved to the cmlreaders package (https://github.com/pennmem/cmlreaders)\n",
      "  FutureWarning)\n"
     ]
    },
    {
     "name": "stdout",
     "output_type": "stream",
     "text": [
      "loaded eeg for R1334T0\n",
      "getting PTSA\n",
      "54 matching events found\n",
      "No baseline correction applied\n",
      "Not setting metadata\n",
      "0 projection items activated\n",
      "0 bad epochs dropped\n"
     ]
    },
    {
     "name": "stderr",
     "output_type": "stream",
     "text": [
      "/home1/john/Downloads/cmlreaders-master/cmlreaders/path_finder.py:239: MultiplePathsFoundWarning: Multiple files found: /protocols/r1/subjects/R1334T/localizations/0/montages/0/neuroradiology/current_processed/pairs.json\n",
      "/data/eeg/R1334T/tal/R1334T_talLocs_database_bipol.mat returning the first file found\n",
      "  warnings.warn(msg, MultiplePathsFoundWarning)\n",
      "/home1/john/anaconda3/envs/env1/lib/python3.7/site-packages/ptsa/data/readers/tal.py:43: FutureWarning: Lab-specific readers may be moved to the cmlreaders package (https://github.com/pennmem/cmlreaders)\n",
      "  FutureWarning)\n"
     ]
    },
    {
     "name": "stdout",
     "output_type": "stream",
     "text": [
      "loaded eeg for R1334T1\n",
      "getting PTSA\n",
      "48 matching events found\n",
      "No baseline correction applied\n",
      "Not setting metadata\n",
      "0 projection items activated\n",
      "0 bad epochs dropped\n"
     ]
    },
    {
     "name": "stderr",
     "output_type": "stream",
     "text": [
      "/home1/john/Downloads/cmlreaders-master/cmlreaders/path_finder.py:239: MultiplePathsFoundWarning: Multiple files found: /protocols/r1/subjects/R1334T/localizations/0/montages/0/neuroradiology/current_processed/pairs.json\n",
      "/data/eeg/R1334T/tal/R1334T_talLocs_database_bipol.mat returning the first file found\n",
      "  warnings.warn(msg, MultiplePathsFoundWarning)\n",
      "/home1/john/anaconda3/envs/env1/lib/python3.7/site-packages/ptsa/data/readers/tal.py:43: FutureWarning: Lab-specific readers may be moved to the cmlreaders package (https://github.com/pennmem/cmlreaders)\n",
      "  FutureWarning)\n"
     ]
    },
    {
     "name": "stdout",
     "output_type": "stream",
     "text": [
      "loaded eeg for R1334T2\n",
      "getting PTSA\n",
      "39 matching events found\n",
      "No baseline correction applied\n",
      "Not setting metadata\n",
      "0 projection items activated\n",
      "0 bad epochs dropped\n"
     ]
    },
    {
     "name": "stderr",
     "output_type": "stream",
     "text": [
      "/home1/john/Downloads/cmlreaders-master/cmlreaders/path_finder.py:239: MultiplePathsFoundWarning: Multiple files found: /protocols/r1/subjects/R1336T/localizations/0/montages/0/neuroradiology/current_processed/pairs.json\n",
      "/data/eeg/R1336T/tal/R1336T_talLocs_database_bipol.mat returning the first file found\n",
      "  warnings.warn(msg, MultiplePathsFoundWarning)\n",
      "/home1/john/anaconda3/envs/env1/lib/python3.7/site-packages/ptsa/data/readers/tal.py:43: FutureWarning: Lab-specific readers may be moved to the cmlreaders package (https://github.com/pennmem/cmlreaders)\n",
      "  FutureWarning)\n"
     ]
    },
    {
     "name": "stdout",
     "output_type": "stream",
     "text": [
      "loaded eeg for R1336T0\n",
      "getting PTSA\n",
      "22 matching events found\n",
      "No baseline correction applied\n",
      "Not setting metadata\n",
      "0 projection items activated\n",
      "0 bad epochs dropped\n"
     ]
    },
    {
     "name": "stderr",
     "output_type": "stream",
     "text": [
      "/home1/john/Downloads/cmlreaders-master/cmlreaders/path_finder.py:239: MultiplePathsFoundWarning: Multiple files found: /protocols/r1/subjects/R1336T/localizations/0/montages/0/neuroradiology/current_processed/pairs.json\n",
      "/data/eeg/R1336T/tal/R1336T_talLocs_database_bipol.mat returning the first file found\n",
      "  warnings.warn(msg, MultiplePathsFoundWarning)\n",
      "/home1/john/anaconda3/envs/env1/lib/python3.7/site-packages/ptsa/data/readers/tal.py:43: FutureWarning: Lab-specific readers may be moved to the cmlreaders package (https://github.com/pennmem/cmlreaders)\n",
      "  FutureWarning)\n"
     ]
    },
    {
     "name": "stdout",
     "output_type": "stream",
     "text": [
      "loaded eeg for R1336T1\n",
      "getting PTSA\n",
      "30 matching events found\n",
      "No baseline correction applied\n",
      "Not setting metadata\n",
      "0 projection items activated\n",
      "0 bad epochs dropped\n"
     ]
    },
    {
     "name": "stderr",
     "output_type": "stream",
     "text": [
      "/home1/john/Downloads/cmlreaders-master/cmlreaders/path_finder.py:239: MultiplePathsFoundWarning: Multiple files found: /protocols/r1/subjects/R1337E/localizations/0/montages/0/neuroradiology/current_processed/pairs.json\n",
      "/data/eeg/R1337E/tal/R1337E_talLocs_database_bipol.mat returning the first file found\n",
      "  warnings.warn(msg, MultiplePathsFoundWarning)\n",
      "/home1/john/anaconda3/envs/env1/lib/python3.7/site-packages/ptsa/data/readers/tal.py:43: FutureWarning: Lab-specific readers may be moved to the cmlreaders package (https://github.com/pennmem/cmlreaders)\n",
      "  FutureWarning)\n"
     ]
    },
    {
     "name": "stdout",
     "output_type": "stream",
     "text": [
      "loaded eeg for R1337E0\n",
      "getting PTSA\n",
      "35 matching events found\n",
      "No baseline correction applied\n",
      "Not setting metadata\n",
      "0 projection items activated\n",
      "0 bad epochs dropped\n"
     ]
    },
    {
     "name": "stderr",
     "output_type": "stream",
     "text": [
      "/home1/john/Downloads/cmlreaders-master/cmlreaders/path_finder.py:239: MultiplePathsFoundWarning: Multiple files found: /protocols/r1/subjects/R1337E/localizations/0/montages/0/neuroradiology/current_processed/pairs.json\n",
      "/data/eeg/R1337E/tal/R1337E_talLocs_database_bipol.mat returning the first file found\n",
      "  warnings.warn(msg, MultiplePathsFoundWarning)\n",
      "/home1/john/anaconda3/envs/env1/lib/python3.7/site-packages/ptsa/data/readers/tal.py:43: FutureWarning: Lab-specific readers may be moved to the cmlreaders package (https://github.com/pennmem/cmlreaders)\n",
      "  FutureWarning)\n"
     ]
    },
    {
     "name": "stdout",
     "output_type": "stream",
     "text": [
      "loaded eeg for R1337E1\n",
      "getting PTSA\n",
      "42 matching events found\n",
      "No baseline correction applied\n",
      "Not setting metadata\n",
      "0 projection items activated\n",
      "0 bad epochs dropped\n"
     ]
    },
    {
     "name": "stderr",
     "output_type": "stream",
     "text": [
      "/home1/john/Downloads/cmlreaders-master/cmlreaders/path_finder.py:239: MultiplePathsFoundWarning: Multiple files found: /protocols/r1/subjects/R1337E/localizations/0/montages/0/neuroradiology/current_processed/pairs.json\n",
      "/data/eeg/R1337E/tal/R1337E_talLocs_database_bipol.mat returning the first file found\n",
      "  warnings.warn(msg, MultiplePathsFoundWarning)\n",
      "/home1/john/anaconda3/envs/env1/lib/python3.7/site-packages/ptsa/data/readers/tal.py:43: FutureWarning: Lab-specific readers may be moved to the cmlreaders package (https://github.com/pennmem/cmlreaders)\n",
      "  FutureWarning)\n"
     ]
    },
    {
     "name": "stdout",
     "output_type": "stream",
     "text": [
      "loaded eeg for R1337E2\n",
      "getting PTSA\n",
      "32 matching events found\n",
      "No baseline correction applied\n",
      "Not setting metadata\n",
      "0 projection items activated\n",
      "0 bad epochs dropped\n"
     ]
    },
    {
     "name": "stderr",
     "output_type": "stream",
     "text": [
      "/home1/john/Downloads/cmlreaders-master/cmlreaders/path_finder.py:239: MultiplePathsFoundWarning: Multiple files found: /protocols/r1/subjects/R1338T/localizations/0/montages/0/neuroradiology/current_processed/pairs.json\n",
      "/data/eeg/R1338T/tal/R1338T_talLocs_database_bipol.mat returning the first file found\n",
      "  warnings.warn(msg, MultiplePathsFoundWarning)\n",
      "/home1/john/anaconda3/envs/env1/lib/python3.7/site-packages/ptsa/data/readers/tal.py:43: FutureWarning: Lab-specific readers may be moved to the cmlreaders package (https://github.com/pennmem/cmlreaders)\n",
      "  FutureWarning)\n"
     ]
    },
    {
     "name": "stdout",
     "output_type": "stream",
     "text": [
      "loaded eeg for R1338T0\n",
      "getting PTSA\n",
      "28 matching events found\n",
      "No baseline correction applied\n",
      "Not setting metadata\n",
      "0 projection items activated\n",
      "0 bad epochs dropped\n"
     ]
    },
    {
     "name": "stderr",
     "output_type": "stream",
     "text": [
      "/home1/john/Downloads/cmlreaders-master/cmlreaders/path_finder.py:239: MultiplePathsFoundWarning: Multiple files found: /protocols/r1/subjects/R1338T/localizations/0/montages/0/neuroradiology/current_processed/pairs.json\n",
      "/data/eeg/R1338T/tal/R1338T_talLocs_database_bipol.mat returning the first file found\n",
      "  warnings.warn(msg, MultiplePathsFoundWarning)\n",
      "/home1/john/anaconda3/envs/env1/lib/python3.7/site-packages/ptsa/data/readers/tal.py:43: FutureWarning: Lab-specific readers may be moved to the cmlreaders package (https://github.com/pennmem/cmlreaders)\n",
      "  FutureWarning)\n"
     ]
    },
    {
     "name": "stdout",
     "output_type": "stream",
     "text": [
      "loaded eeg for R1338T1\n",
      "getting PTSA\n",
      "11 matching events found\n",
      "No baseline correction applied\n",
      "Not setting metadata\n",
      "0 projection items activated\n",
      "0 bad epochs dropped\n"
     ]
    },
    {
     "name": "stderr",
     "output_type": "stream",
     "text": [
      "/home1/john/Downloads/cmlreaders-master/cmlreaders/path_finder.py:239: MultiplePathsFoundWarning: Multiple files found: /protocols/r1/subjects/R1338T/localizations/0/montages/0/neuroradiology/current_processed/pairs.json\n",
      "/data/eeg/R1338T/tal/R1338T_talLocs_database_bipol.mat returning the first file found\n",
      "  warnings.warn(msg, MultiplePathsFoundWarning)\n",
      "/home1/john/anaconda3/envs/env1/lib/python3.7/site-packages/ptsa/data/readers/tal.py:43: FutureWarning: Lab-specific readers may be moved to the cmlreaders package (https://github.com/pennmem/cmlreaders)\n",
      "  FutureWarning)\n"
     ]
    },
    {
     "name": "stdout",
     "output_type": "stream",
     "text": [
      "loaded eeg for R1338T2\n",
      "getting PTSA\n",
      "18 matching events found\n",
      "No baseline correction applied\n",
      "Not setting metadata\n",
      "0 projection items activated\n",
      "0 bad epochs dropped\n"
     ]
    },
    {
     "name": "stderr",
     "output_type": "stream",
     "text": [
      "/home1/john/Downloads/cmlreaders-master/cmlreaders/path_finder.py:239: MultiplePathsFoundWarning: Multiple files found: /protocols/r1/subjects/R1339D/localizations/0/montages/0/neuroradiology/current_processed/pairs.json\n",
      "/data/eeg/R1339D/tal/R1339D_talLocs_database_bipol.mat returning the first file found\n",
      "  warnings.warn(msg, MultiplePathsFoundWarning)\n",
      "/home1/john/anaconda3/envs/env1/lib/python3.7/site-packages/ptsa/data/readers/tal.py:43: FutureWarning: Lab-specific readers may be moved to the cmlreaders package (https://github.com/pennmem/cmlreaders)\n",
      "  FutureWarning)\n"
     ]
    },
    {
     "name": "stdout",
     "output_type": "stream",
     "text": [
      "loaded eeg for R1339D0\n",
      "getting PTSA\n",
      "22 matching events found\n",
      "No baseline correction applied\n",
      "Not setting metadata\n",
      "0 projection items activated\n",
      "0 bad epochs dropped\n"
     ]
    },
    {
     "name": "stderr",
     "output_type": "stream",
     "text": [
      "/home1/john/Downloads/cmlreaders-master/cmlreaders/path_finder.py:239: MultiplePathsFoundWarning: Multiple files found: /protocols/r1/subjects/R1339D/localizations/0/montages/0/neuroradiology/current_processed/pairs.json\n",
      "/data/eeg/R1339D/tal/R1339D_talLocs_database_bipol.mat returning the first file found\n",
      "  warnings.warn(msg, MultiplePathsFoundWarning)\n",
      "/home1/john/anaconda3/envs/env1/lib/python3.7/site-packages/ptsa/data/readers/tal.py:43: FutureWarning: Lab-specific readers may be moved to the cmlreaders package (https://github.com/pennmem/cmlreaders)\n",
      "  FutureWarning)\n"
     ]
    },
    {
     "name": "stdout",
     "output_type": "stream",
     "text": [
      "loaded eeg for R1339D1\n",
      "getting PTSA\n",
      "30 matching events found\n",
      "No baseline correction applied\n",
      "Not setting metadata\n",
      "0 projection items activated\n",
      "0 bad epochs dropped\n"
     ]
    },
    {
     "name": "stderr",
     "output_type": "stream",
     "text": [
      "/home1/john/Downloads/cmlreaders-master/cmlreaders/path_finder.py:239: MultiplePathsFoundWarning: Multiple files found: /protocols/r1/subjects/R1339D/localizations/0/montages/0/neuroradiology/current_processed/pairs.json\n",
      "/data/eeg/R1339D/tal/R1339D_talLocs_database_bipol.mat returning the first file found\n",
      "  warnings.warn(msg, MultiplePathsFoundWarning)\n",
      "/home1/john/anaconda3/envs/env1/lib/python3.7/site-packages/ptsa/data/readers/tal.py:43: FutureWarning: Lab-specific readers may be moved to the cmlreaders package (https://github.com/pennmem/cmlreaders)\n",
      "  FutureWarning)\n"
     ]
    },
    {
     "name": "stdout",
     "output_type": "stream",
     "text": [
      "loaded eeg for R1339D2\n",
      "getting PTSA\n",
      "6 matching events found\n",
      "No baseline correction applied\n",
      "Not setting metadata\n",
      "0 projection items activated\n",
      "0 bad epochs dropped\n"
     ]
    },
    {
     "name": "stderr",
     "output_type": "stream",
     "text": [
      "/home1/john/Downloads/cmlreaders-master/cmlreaders/path_finder.py:239: MultiplePathsFoundWarning: Multiple files found: /protocols/r1/subjects/R1339D/localizations/0/montages/0/neuroradiology/current_processed/pairs.json\n",
      "/data/eeg/R1339D/tal/R1339D_talLocs_database_bipol.mat returning the first file found\n",
      "  warnings.warn(msg, MultiplePathsFoundWarning)\n",
      "/home1/john/anaconda3/envs/env1/lib/python3.7/site-packages/ptsa/data/readers/tal.py:43: FutureWarning: Lab-specific readers may be moved to the cmlreaders package (https://github.com/pennmem/cmlreaders)\n",
      "  FutureWarning)\n"
     ]
    },
    {
     "name": "stdout",
     "output_type": "stream",
     "text": [
      "loaded eeg for R1339D3\n",
      "getting PTSA\n",
      "17 matching events found\n",
      "No baseline correction applied\n",
      "Not setting metadata\n",
      "0 projection items activated\n",
      "0 bad epochs dropped\n"
     ]
    },
    {
     "name": "stderr",
     "output_type": "stream",
     "text": [
      "/home1/john/Downloads/cmlreaders-master/cmlreaders/path_finder.py:239: MultiplePathsFoundWarning: Multiple files found: /protocols/r1/subjects/R1341T/localizations/0/montages/0/neuroradiology/current_processed/pairs.json\n",
      "/data/eeg/R1341T/tal/R1341T_talLocs_database_bipol.mat returning the first file found\n",
      "  warnings.warn(msg, MultiplePathsFoundWarning)\n",
      "/home1/john/anaconda3/envs/env1/lib/python3.7/site-packages/ptsa/data/readers/tal.py:43: FutureWarning: Lab-specific readers may be moved to the cmlreaders package (https://github.com/pennmem/cmlreaders)\n",
      "  FutureWarning)\n"
     ]
    },
    {
     "name": "stdout",
     "output_type": "stream",
     "text": [
      "loaded eeg for R1341T0\n",
      "getting PTSA\n",
      "26 matching events found\n",
      "No baseline correction applied\n",
      "Not setting metadata\n",
      "0 projection items activated\n",
      "0 bad epochs dropped\n"
     ]
    },
    {
     "name": "stderr",
     "output_type": "stream",
     "text": [
      "/home1/john/Downloads/cmlreaders-master/cmlreaders/path_finder.py:239: MultiplePathsFoundWarning: Multiple files found: /protocols/r1/subjects/R1341T/localizations/0/montages/0/neuroradiology/current_processed/pairs.json\n",
      "/data/eeg/R1341T/tal/R1341T_talLocs_database_bipol.mat returning the first file found\n",
      "  warnings.warn(msg, MultiplePathsFoundWarning)\n",
      "/home1/john/anaconda3/envs/env1/lib/python3.7/site-packages/ptsa/data/readers/tal.py:43: FutureWarning: Lab-specific readers may be moved to the cmlreaders package (https://github.com/pennmem/cmlreaders)\n",
      "  FutureWarning)\n"
     ]
    },
    {
     "name": "stdout",
     "output_type": "stream",
     "text": [
      "loaded eeg for R1341T1\n",
      "getting PTSA\n",
      "39 matching events found\n",
      "No baseline correction applied\n",
      "Not setting metadata\n",
      "0 projection items activated\n",
      "0 bad epochs dropped\n"
     ]
    },
    {
     "name": "stderr",
     "output_type": "stream",
     "text": [
      "/home1/john/Downloads/cmlreaders-master/cmlreaders/path_finder.py:239: MultiplePathsFoundWarning: Multiple files found: /protocols/r1/subjects/R1341T/localizations/0/montages/0/neuroradiology/current_processed/pairs.json\n",
      "/data/eeg/R1341T/tal/R1341T_talLocs_database_bipol.mat returning the first file found\n",
      "  warnings.warn(msg, MultiplePathsFoundWarning)\n",
      "/home1/john/anaconda3/envs/env1/lib/python3.7/site-packages/ptsa/data/readers/tal.py:43: FutureWarning: Lab-specific readers may be moved to the cmlreaders package (https://github.com/pennmem/cmlreaders)\n",
      "  FutureWarning)\n"
     ]
    },
    {
     "name": "stdout",
     "output_type": "stream",
     "text": [
      "loaded eeg for R1341T2\n",
      "getting PTSA\n",
      "32 matching events found\n",
      "No baseline correction applied\n",
      "Not setting metadata\n",
      "0 projection items activated\n",
      "0 bad epochs dropped\n"
     ]
    },
    {
     "name": "stderr",
     "output_type": "stream",
     "text": [
      "/home1/john/Downloads/cmlreaders-master/cmlreaders/path_finder.py:239: MultiplePathsFoundWarning: Multiple files found: /protocols/r1/subjects/R1341T/localizations/0/montages/0/neuroradiology/current_processed/pairs.json\n",
      "/data/eeg/R1341T/tal/R1341T_talLocs_database_bipol.mat returning the first file found\n",
      "  warnings.warn(msg, MultiplePathsFoundWarning)\n",
      "/home1/john/anaconda3/envs/env1/lib/python3.7/site-packages/ptsa/data/readers/tal.py:43: FutureWarning: Lab-specific readers may be moved to the cmlreaders package (https://github.com/pennmem/cmlreaders)\n",
      "  FutureWarning)\n"
     ]
    },
    {
     "name": "stdout",
     "output_type": "stream",
     "text": [
      "loaded eeg for R1341T3\n",
      "getting PTSA\n",
      "40 matching events found\n",
      "No baseline correction applied\n",
      "Not setting metadata\n",
      "0 projection items activated\n",
      "0 bad epochs dropped\n"
     ]
    },
    {
     "name": "stderr",
     "output_type": "stream",
     "text": [
      "/home1/john/Downloads/cmlreaders-master/cmlreaders/path_finder.py:239: MultiplePathsFoundWarning: Multiple files found: /protocols/r1/subjects/R1342M/localizations/0/montages/0/neuroradiology/current_processed/pairs.json\n",
      "/data/eeg/R1342M/tal/R1342M_talLocs_database_bipol.mat returning the first file found\n",
      "  warnings.warn(msg, MultiplePathsFoundWarning)\n",
      "/home1/john/anaconda3/envs/env1/lib/python3.7/site-packages/ptsa/data/readers/tal.py:43: FutureWarning: Lab-specific readers may be moved to the cmlreaders package (https://github.com/pennmem/cmlreaders)\n",
      "  FutureWarning)\n"
     ]
    },
    {
     "name": "stdout",
     "output_type": "stream",
     "text": [
      "loaded eeg for R1342M0\n",
      "getting PTSA\n",
      "67 matching events found\n",
      "No baseline correction applied\n",
      "Not setting metadata\n",
      "0 projection items activated\n",
      "0 bad epochs dropped\n"
     ]
    },
    {
     "name": "stderr",
     "output_type": "stream",
     "text": [
      "/home1/john/Downloads/cmlreaders-master/cmlreaders/path_finder.py:239: MultiplePathsFoundWarning: Multiple files found: /protocols/r1/subjects/R1342M/localizations/0/montages/0/neuroradiology/current_processed/pairs.json\n",
      "/data/eeg/R1342M/tal/R1342M_talLocs_database_bipol.mat returning the first file found\n",
      "  warnings.warn(msg, MultiplePathsFoundWarning)\n",
      "/home1/john/anaconda3/envs/env1/lib/python3.7/site-packages/ptsa/data/readers/tal.py:43: FutureWarning: Lab-specific readers may be moved to the cmlreaders package (https://github.com/pennmem/cmlreaders)\n",
      "  FutureWarning)\n"
     ]
    },
    {
     "name": "stdout",
     "output_type": "stream",
     "text": [
      "loaded eeg for R1342M1\n",
      "getting PTSA\n",
      "43 matching events found\n",
      "No baseline correction applied\n",
      "Not setting metadata\n",
      "0 projection items activated\n",
      "0 bad epochs dropped\n"
     ]
    },
    {
     "name": "stderr",
     "output_type": "stream",
     "text": [
      "/home1/john/Downloads/cmlreaders-master/cmlreaders/path_finder.py:239: MultiplePathsFoundWarning: Multiple files found: /protocols/r1/subjects/R1345D/localizations/0/montages/0/neuroradiology/current_processed/pairs.json\n",
      "/data/eeg/R1345D/tal/R1345D_talLocs_database_bipol.mat returning the first file found\n",
      "  warnings.warn(msg, MultiplePathsFoundWarning)\n"
     ]
    },
    {
     "name": "stdout",
     "output_type": "stream",
     "text": [
      "loaded eeg for R1345D0\n",
      "getting PTSA\n",
      "23 matching events found\n",
      "No baseline correction applied\n",
      "Not setting metadata\n",
      "0 projection items activated\n",
      "0 bad epochs dropped\n",
      "loaded eeg for R1345D1\n",
      "getting PTSA\n",
      "44 matching events found\n",
      "No baseline correction applied\n",
      "Not setting metadata\n",
      "0 projection items activated\n",
      "0 bad epochs dropped\n",
      "loaded eeg for R1345D2\n",
      "getting PTSA\n",
      "28 matching events found\n",
      "No baseline correction applied\n",
      "Not setting metadata\n",
      "0 projection items activated\n",
      "0 bad epochs dropped\n",
      "loaded eeg for R1345D3\n",
      "getting PTSA\n",
      "43 matching events found\n",
      "No baseline correction applied\n",
      "Not setting metadata\n",
      "0 projection items activated\n",
      "0 bad epochs dropped\n",
      "loaded eeg for R1345D4\n",
      "getting PTSA\n",
      "25 matching events found\n",
      "No baseline correction applied\n",
      "Not setting metadata\n",
      "0 projection items activated\n",
      "0 bad epochs dropped\n"
     ]
    },
    {
     "name": "stderr",
     "output_type": "stream",
     "text": [
      "/home1/john/Downloads/cmlreaders-master/cmlreaders/path_finder.py:239: MultiplePathsFoundWarning: Multiple files found: /protocols/r1/subjects/R1346T/localizations/0/montages/0/neuroradiology/current_processed/pairs.json\n",
      "/data/eeg/R1346T/tal/R1346T_talLocs_database_bipol.mat returning the first file found\n",
      "  warnings.warn(msg, MultiplePathsFoundWarning)\n",
      "/home1/john/anaconda3/envs/env1/lib/python3.7/site-packages/ptsa/data/readers/tal.py:43: FutureWarning: Lab-specific readers may be moved to the cmlreaders package (https://github.com/pennmem/cmlreaders)\n",
      "  FutureWarning)\n"
     ]
    },
    {
     "name": "stdout",
     "output_type": "stream",
     "text": [
      "loaded eeg for R1346T0\n",
      "getting PTSA\n",
      "56 matching events found\n",
      "No baseline correction applied\n",
      "Not setting metadata\n",
      "0 projection items activated\n",
      "0 bad epochs dropped\n"
     ]
    },
    {
     "name": "stderr",
     "output_type": "stream",
     "text": [
      "/home1/john/Downloads/cmlreaders-master/cmlreaders/path_finder.py:239: MultiplePathsFoundWarning: Multiple files found: /protocols/r1/subjects/R1346T/localizations/0/montages/0/neuroradiology/current_processed/pairs.json\n",
      "/data/eeg/R1346T/tal/R1346T_talLocs_database_bipol.mat returning the first file found\n",
      "  warnings.warn(msg, MultiplePathsFoundWarning)\n",
      "/home1/john/anaconda3/envs/env1/lib/python3.7/site-packages/ptsa/data/readers/tal.py:43: FutureWarning: Lab-specific readers may be moved to the cmlreaders package (https://github.com/pennmem/cmlreaders)\n",
      "  FutureWarning)\n"
     ]
    },
    {
     "name": "stdout",
     "output_type": "stream",
     "text": [
      "loaded eeg for R1346T1\n",
      "getting PTSA\n",
      "73 matching events found\n",
      "No baseline correction applied\n",
      "Not setting metadata\n",
      "0 projection items activated\n",
      "0 bad epochs dropped\n"
     ]
    },
    {
     "name": "stderr",
     "output_type": "stream",
     "text": [
      "/home1/john/Downloads/cmlreaders-master/cmlreaders/path_finder.py:239: MultiplePathsFoundWarning: Multiple files found: /protocols/r1/subjects/R1346T/localizations/0/montages/0/neuroradiology/current_processed/pairs.json\n",
      "/data/eeg/R1346T/tal/R1346T_talLocs_database_bipol.mat returning the first file found\n",
      "  warnings.warn(msg, MultiplePathsFoundWarning)\n",
      "/home1/john/anaconda3/envs/env1/lib/python3.7/site-packages/ptsa/data/readers/tal.py:43: FutureWarning: Lab-specific readers may be moved to the cmlreaders package (https://github.com/pennmem/cmlreaders)\n",
      "  FutureWarning)\n"
     ]
    },
    {
     "name": "stdout",
     "output_type": "stream",
     "text": [
      "loaded eeg for R1346T100\n",
      "getting PTSA\n",
      "36 matching events found\n",
      "No baseline correction applied\n",
      "Not setting metadata\n",
      "0 projection items activated\n",
      "0 bad epochs dropped\n",
      "loaded eeg for R1347D2\n",
      "getting PTSA\n",
      "15 matching events found\n",
      "No baseline correction applied\n",
      "Not setting metadata\n",
      "0 projection items activated\n",
      "0 bad epochs dropped\n",
      "loaded eeg for R1347D3\n",
      "getting PTSA\n",
      "14 matching events found\n",
      "No baseline correction applied\n",
      "Not setting metadata\n",
      "0 projection items activated\n",
      "0 bad epochs dropped\n",
      "loaded eeg for R1347D4\n",
      "getting PTSA\n",
      "22 matching events found\n",
      "No baseline correction applied\n",
      "Not setting metadata\n",
      "0 projection items activated\n",
      "0 bad epochs dropped\n"
     ]
    },
    {
     "name": "stderr",
     "output_type": "stream",
     "text": [
      "/home1/john/Downloads/cmlreaders-master/cmlreaders/path_finder.py:239: MultiplePathsFoundWarning: Multiple files found: /protocols/r1/subjects/R1349T/localizations/0/montages/0/neuroradiology/current_processed/pairs.json\n",
      "/data/eeg/R1349T/tal/R1349T_talLocs_database_bipol.mat returning the first file found\n",
      "  warnings.warn(msg, MultiplePathsFoundWarning)\n",
      "/home1/john/anaconda3/envs/env1/lib/python3.7/site-packages/ptsa/data/readers/tal.py:43: FutureWarning: Lab-specific readers may be moved to the cmlreaders package (https://github.com/pennmem/cmlreaders)\n",
      "  FutureWarning)\n"
     ]
    },
    {
     "name": "stdout",
     "output_type": "stream",
     "text": [
      "loaded eeg for R1349T0\n",
      "getting PTSA\n",
      "58 matching events found\n",
      "No baseline correction applied\n",
      "Not setting metadata\n",
      "0 projection items activated\n",
      "0 bad epochs dropped\n"
     ]
    },
    {
     "name": "stderr",
     "output_type": "stream",
     "text": [
      "/home1/john/Downloads/cmlreaders-master/cmlreaders/path_finder.py:239: MultiplePathsFoundWarning: Multiple files found: /protocols/r1/subjects/R1350D/localizations/0/montages/0/neuroradiology/current_processed/pairs.json\n",
      "/data/eeg/R1350D/tal/R1350D_talLocs_database_bipol.mat returning the first file found\n",
      "  warnings.warn(msg, MultiplePathsFoundWarning)\n",
      "/home1/john/Downloads/cmlreaders-master/cmlreaders/readers/eeg.py:377: MissingChannelsWarning: The following channels are missing: LAHCMD2-LAHCMD3, LAHCMD4-LAHCMD5, LAHCMD6-LAHCMD7, LAHCMD8-LAHCMD1, LPHCMD2-LPHCMD3, LPHCMD4-LPHCMD5, LPHCMD6-LPHCMD7, LPHCMD8-LPHCMD1\n",
      "  warnings.warn(msg, MissingChannelsWarning)\n"
     ]
    },
    {
     "name": "stdout",
     "output_type": "stream",
     "text": [
      "loaded eeg for R1350D0\n",
      "getting PTSA\n",
      "75 matching events found\n",
      "No baseline correction applied\n",
      "Not setting metadata\n",
      "0 projection items activated\n",
      "0 bad epochs dropped\n",
      "loaded eeg for R1350D1\n",
      "getting PTSA\n",
      "103 matching events found\n",
      "No baseline correction applied\n",
      "Not setting metadata\n",
      "0 projection items activated\n",
      "0 bad epochs dropped\n",
      "loaded eeg for R1350D2\n",
      "getting PTSA\n",
      "35 matching events found\n",
      "No baseline correction applied\n",
      "Not setting metadata\n",
      "0 projection items activated\n",
      "0 bad epochs dropped\n",
      "loaded eeg for R1350D3\n",
      "getting PTSA\n",
      "42 matching events found\n",
      "No baseline correction applied\n",
      "Not setting metadata\n",
      "0 projection items activated\n",
      "0 bad epochs dropped\n"
     ]
    },
    {
     "name": "stderr",
     "output_type": "stream",
     "text": [
      "/home1/john/Downloads/cmlreaders-master/cmlreaders/path_finder.py:239: MultiplePathsFoundWarning: Multiple files found: /protocols/r1/subjects/R1351M/localizations/0/montages/0/neuroradiology/current_processed/pairs.json\n",
      "/data/eeg/R1351M/tal/R1351M_talLocs_database_bipol.mat returning the first file found\n",
      "  warnings.warn(msg, MultiplePathsFoundWarning)\n"
     ]
    },
    {
     "name": "stdout",
     "output_type": "stream",
     "text": [
      "loaded eeg for R1351M0\n",
      "getting PTSA\n",
      "41 matching events found\n",
      "No baseline correction applied\n",
      "Not setting metadata\n",
      "0 projection items activated\n",
      "0 bad epochs dropped\n"
     ]
    },
    {
     "name": "stderr",
     "output_type": "stream",
     "text": [
      "/home1/john/Downloads/cmlreaders-master/cmlreaders/path_finder.py:239: MultiplePathsFoundWarning: Multiple files found: /protocols/r1/subjects/R1354E/localizations/0/montages/0/neuroradiology/current_processed/pairs.json\n",
      "/data/eeg/R1354E/tal/R1354E_talLocs_database_bipol.mat returning the first file found\n",
      "  warnings.warn(msg, MultiplePathsFoundWarning)\n",
      "/home1/john/Downloads/cmlreaders-master/cmlreaders/readers/eeg.py:377: MissingChannelsWarning: The following channels are missing: 5Ldm1-5Ldm2, 5Ldm2-5Ldm3, 5Ldm3-5Ldm4, 5Ldm4-5Ldm5, 5Ldm5-5Ldm6, 5Ldm6-5Ldm7, 5Ldm7-5Ldm8, 5Ldm8-5Ldm9, 5Ldm9-5Ldm1, 25Ldm1-25Ldm2, 25Ldm2-25Ldm3, 25Ldm3-25Ldm4, 25Ldm4-25Ldm5, 25Ldm5-25Ldm6, 25Ldm6-25Ldm7, 25Ldm7-25Ldm8, 25Ldm8-25Ldm9, 25Ldm9-25Ldm1\n",
      "  warnings.warn(msg, MissingChannelsWarning)\n"
     ]
    },
    {
     "name": "stdout",
     "output_type": "stream",
     "text": [
      "loaded eeg for R1354E0\n",
      "getting PTSA\n",
      "58 matching events found\n",
      "No baseline correction applied\n",
      "Not setting metadata\n",
      "0 projection items activated\n",
      "0 bad epochs dropped\n",
      "loaded eeg for R1354E1\n",
      "getting PTSA\n",
      "51 matching events found\n",
      "No baseline correction applied\n",
      "Not setting metadata\n",
      "0 projection items activated\n",
      "0 bad epochs dropped\n"
     ]
    },
    {
     "name": "stderr",
     "output_type": "stream",
     "text": [
      "/home1/john/Downloads/cmlreaders-master/cmlreaders/path_finder.py:239: MultiplePathsFoundWarning: Multiple files found: /protocols/r1/subjects/R1355T/localizations/0/montages/0/neuroradiology/current_processed/pairs.json\n",
      "/data/eeg/R1355T/tal/R1355T_talLocs_database_bipol.mat returning the first file found\n",
      "  warnings.warn(msg, MultiplePathsFoundWarning)\n"
     ]
    },
    {
     "name": "stdout",
     "output_type": "stream",
     "text": [
      "loaded eeg for R1355T0\n",
      "getting PTSA\n",
      "47 matching events found\n",
      "No baseline correction applied\n",
      "Not setting metadata\n",
      "0 projection items activated\n",
      "0 bad epochs dropped\n",
      "loaded eeg for R1355T1\n",
      "getting PTSA\n",
      "23 matching events found\n",
      "No baseline correction applied\n",
      "Not setting metadata\n",
      "0 projection items activated\n",
      "0 bad epochs dropped\n",
      "loaded eeg for R1355T2\n",
      "getting PTSA\n",
      "28 matching events found\n",
      "No baseline correction applied\n",
      "Not setting metadata\n"
     ]
    }
   ],
   "source": [
    "import mne\n",
    "from ptsa.data.filters import ButterworthFilter\n",
    "from scipy.signal import firwin,filtfilt,kaiserord\n",
    "%autoreload\n",
    "\n",
    "save_values = 0\n",
    "filter_type = 'hamming'#'hamming'# 'butter' # Vaz used Butterworth from 80-120 Hz; Norman used Hamming from 70-180 Hz\n",
    "# •Butterworth from Vaz et al: 2nd order from 80-120 ms, hilbert, select events >2 STD above mean of filtered traces.\n",
    "#      Events >=25 ms long w/ max amp >3 SD were retained as ripples. Join adjacent ripples separated by <15 ms \n",
    "# •Hilbert from Norman et al: \"70-180 Hz zero-lag linear-phase Hamming FIR filter w/ transition bandwidth of 5 Hz\"\n",
    "#      Then Hilbert, clip extreme to 4 SD, square this clipped, smooth w/ Kaiser FIR low-pass filter with 40 Hz cutoff,\n",
    "#      mean and SD computed across entire experimental duration to define the threshold for event detection\n",
    "#      Events from original (squared but unclipped) signal >4 SD above baseline were selected as candidate SWR events. \n",
    "#      Duration expanded until ripple power <2 SD. Events <20 ms or >200 ms excluded. Adjacent events <30 ms separation (peak-to-peak) merged.\n",
    "# •Using IED detection from Vaz for 250 Hz highpass events (really 250-499). Norman uses 20-60 Hz events which is...odd.\n",
    "#       See detectRipples code in module for this algorithm\n",
    "\n",
    "selected_region = HPC_labels #HPC_labels # ENT_labels+HPC_labels \n",
    "\n",
    "# recall\n",
    "IRI = 2000 # inter-ripple interval...remove ripples within this range (keep only first one and remove those after it)\n",
    "psth_start = -IRI # only makes sense to look at period <= IRI\n",
    "psth_end = 2000 # how long to grab data after recall\n",
    "retrieval_whole_time = 30000\n",
    "\n",
    "# encoding\n",
    "encoding_time = 2000 # actual preentation is 1.6 s + 0.75-1.0 s so just keep 2.0 s of data for PSTH\n",
    "pre_encoding_time = -500 # since minimum ISI is 0.75 s let's only plot the 500 ms before word on\n",
    "\n",
    "desired_sample_rate = 500. # in Hz. This seems like lowerst common denominator recording freq.\n",
    "\n",
    "if 'entorhinal' in selected_region and 'left hippocampus' in selected_region:\n",
    "    region_name = 'HPC_ENT'\n",
    "elif 'entorhinal' in selected_region:\n",
    "    region_name = 'ENT'\n",
    "elif 'left hippocampus' in selected_region:\n",
    "    region_name = 'HPC'\n",
    "ripple_array = []; ripple_array2 = []; fr_array = []; ripple_array_enc = []\n",
    "trial_nums = []; trial_nums2 = []; trial_nums_enc = []; encoded_word_key_array = []\n",
    "session_ct = 0; channel_ct = 0\n",
    "HPC_names = []; sub_names = []; sub_sess_names = []\n",
    "electrodes_per_session = []\n",
    "total_lists = 0; total_recalls = 0; kept_recalls = 0\n",
    "ent_elec_ct = []; sd_regions = []; not_sd_regions = []\n",
    "ripple_ied_accum_ct = []\n",
    "time_add_save = []\n",
    "\n",
    "for row in exp_df.itertuples(): #sub_df.itertuples():   \n",
    "    try:\n",
    "        sub = row.subject; session = row.session; exp = row.experiment\n",
    "        mont = int(row.montage); loc = int(row.localization)\n",
    "        reader = CMLReadDFRow(row)\n",
    "        evs = reader.load('task_events')\n",
    "        evs_free_recall = evs[(evs.type=='REC_WORD') & (evs.recalled==True)] # recalled word AND correct (in previous list)\n",
    "        total_recalls = total_recalls + len(evs_free_recall) # get total recalls from lists\n",
    "        total_lists = total_lists + len(evs[evs.type=='WORD'].list.unique()) # get total lists\n",
    "\n",
    "        # remove events with Inter-Recall Intervals too small. Use psth_start for IRI since that's what will show in PSTH\n",
    "        evs_free_recall = evs_free_recall[np.append(True,np.diff(evs_free_recall.mstime)>IRI)] \n",
    "        kept_recalls = kept_recalls + len(evs_free_recall)\n",
    "\n",
    "        # I'm going to save encoding word events too, but need a mask to keep track of:\n",
    "        # 0) words not recalled 1) words recalled from this list 2) words later recalled BUT IRI<2 s so removed\n",
    "        evs_encoding_words = evs[evs.type=='WORD']\n",
    "        encoded_word_key = np.zeros(len(evs_encoding_words)) # 0 for not recalled\n",
    "        encoded_word_key[evs_encoding_words.recalled==True] = 2 # 2 for recalled but removed bc IRI<2 s\n",
    "        encoded_word_key[evs_encoding_words.item_name.isin(evs_free_recall.item_name.unique())] = 1 # recalled words\n",
    "        # since finding all encoding words IN the list of correctly free recalled words won't have any intrusions\n",
    "\n",
    "        pairs = reader.load('pairs')\n",
    "        tal_struct, bipolar_pairs, mpchans = get_bp_tal_struct(sub, montage=mont, localization=loc)\n",
    "        elec_regions,atlas_type = get_elec_regions(tal_struct) \n",
    "    #     # if you want to check regions labeled by stein/das v. those that weren't\n",
    "    #     sd_regions = np.append(sd_regions,elec_regions[atlas_type=='stein'])\n",
    "    #     sd_regions = np.append(sd_regions,elec_regions[atlas_type=='das'])\n",
    "    #     not_sd_regions = np.append(not_sd_regions,elec_regions[(atlas_type!='stein') & (atlas_type!='das')])\n",
    "\n",
    "        # also let's grab whole retrieval periods for a better baseline of SWRs\n",
    "        evs_rets = evs[evs.type=='REC_START']\n",
    "        # count elec regions with specific string...mostly here to comment out below and test for good sessions\n",
    "        if len(findAinB(ENT_labels,elec_regions))>0:\n",
    "            ent_ct = len(findAinB(ENT_labels,elec_regions))\n",
    "            ent_elec_ct = np.append(ent_elec_ct,sub+'_'+str(session)+'_ct-'+str(ent_ct))\n",
    "\n",
    "        # load eeg (events X electrodes X time)\n",
    "        eeg = reader.load_eeg(events=evs_free_recall, rel_start=psth_start, rel_stop=psth_end, clean=True, scheme=pairs)\n",
    "        print('loaded eeg for '+sub+str(session))\n",
    "        sr = eeg.samplerate\n",
    "    \n",
    "        # if weird samplerate, add a few ms to make the load work\n",
    "        if (499<sr<500) | (998<sr<1000):\n",
    "            time_add = 1\n",
    "            if (499<sr<500):\n",
    "                sr = 500\n",
    "            elif (998<sr<1000):\n",
    "                sr = 1000\n",
    "            while eeg.shape[2] < (psth_end-psth_start)/(1000/sr):\n",
    "                eeg = reader.load_eeg(events=evs_free_recall, rel_start=psth_start, rel_stop=psth_end+time_add, clean=True, scheme=pairs)\n",
    "                if time_add>50:\n",
    "                    break\n",
    "                time_add+=1\n",
    "            time_add_save.append(time_add)\n",
    "            if eeg.shape[2] not in [2000,4000]:\n",
    "                e = 'Manual error: adding +1 did not help here with load_eeg, sr = '+str(sr)\n",
    "                LogDFExceptionLine(row, e, 'SWR_get_eeg_log2.txt')\n",
    "            \n",
    "#         good_srs = [500,1000,1600,2000]        \n",
    "#         if sr not in good_srs:\n",
    "#             e = 'Sampling rate is atypical, sr = '+str(sr)\n",
    "#             LogDFExceptionLine(row, e, 'SWR_get_eeg_log2.txt')\n",
    "#         if np.mod(sr,1)>0: # if not an integer, there are issues, so skip. E.g. R1006P, session 1 has sr=499.7\n",
    "#             print('SR was '+str(sr)+' so skip session')\n",
    "#             continue\n",
    "#         else:\n",
    "#             sr = int(sr)\n",
    "#             print('Sampling rate: '+str(sr))\n",
    "        print('getting PTSA')\n",
    "        eeg_ptsa = eeg.to_ptsa()\n",
    "#         # grabbing whole retrieval periods to look at those\n",
    "#         eeg_ptsa2 = reader.load_eeg(events=evs_rets, rel_start=psth_start, \n",
    "#                                     rel_stop=psth_end+retrieval_whole_time, clean=True, scheme=pairs).to_ptsa()\n",
    "#         # grabbing encoding period too now\n",
    "#         eeg_ptsa_enc = reader.load_eeg(events=evs_encoding_words, rel_start=pre_encoding_time,\n",
    "#                                     rel_stop=encoding_time, clean=True, scheme=pairs).to_ptsa()\n",
    "\n",
    "#         ## FILTERS ##\n",
    "        trans_width = 5.\n",
    "        ntaps = (2/3)*np.log10(1/(10*(1e-3*1e-4)))*(sr/trans_width) # gives 400 with sr=500, trans=5\n",
    "        FIR_bandstop = firwin(int(ntaps+1), [70.,180.], fs=sr, window='hamming',pass_zero='bandstop')\n",
    "#     #     FIR_bandpass = firwin(int(ntaps), [70.,180.], fs=sr, window='hamming',pass_zero='bandpass')\n",
    "#         bandstop_25_60 = firwin(int(ntaps+1), [20.,60.], fs=sr, window='hamming',pass_zero='bandstop') # Norman 2019 IED\n",
    "#     #     bandstop_60_80 = firwin(int(ntaps+1), [60.,80.], fs=sr, window='hamming',pass_zero='bandstop') # Gelinas 2016 IED\n",
    "#         nyquist = sr/2\n",
    "#         ntaps40, beta40 = kaiserord(40, trans_width/nyquist)\n",
    "#         kaiser_40lp_filter = firwin(ntaps40, cutoff=40, window=('kaiser', beta40), scale=False, nyq=nyquist, pass_zero='lowpass')\n",
    "\n",
    "        # filter for ripples using filter selected above\n",
    "        if filter_type == 'hamming':\n",
    "            # need to subtract out to get the filtered signal since default is bandstop but want to keep it as PTSA        \n",
    "            eeg_rip_band = eeg_ptsa-filtfilt(FIR_bandstop,1.,eeg_ptsa) \n",
    "#             eeg_rip_band2 = eeg_ptsa2-filtfilt(FIR_bandstop,1.,eeg_ptsa2)\n",
    "#             #         eeg_rip_band = filtfilt(FIR_bandpass,1.,eeg_ptsa) # can't use ptsa_to_mne this way so use eeg-bandstopped signal\n",
    "#             eeg_ied_band = eeg_ptsa-filtfilt(bandstop_25_60,1.,eeg_ptsa)\n",
    "#             eeg_ied_band2 = eeg_ptsa2-filtfilt(bandstop_25_60,1.,eeg_ptsa2)  \n",
    "#             eeg_rip_band_enc = eeg_ptsa_enc-filtfilt(FIR_bandstop,1.,eeg_ptsa_enc) \n",
    "#             eeg_ied_band_enc = eeg_ptsa_enc-filtfilt(bandstop_25_60,1.,eeg_ptsa_enc)\n",
    "#         elif filter_type == 'butter':\n",
    "#             eeg_rip_band = ButterworthFilter(timeseries=eeg_ptsa, freq_range=[80.,120.], filt_type='bandpass',order=2).filter()\n",
    "#             eeg_rip_band2 = ButterworthFilter(timeseries=eeg_ptsa2, freq_range=[80.,120.], filt_type='bandpass',order=2).filter()\n",
    "#             if sr == 500: # dropped below 250 Hz because too close Nyquist\n",
    "#                 eeg_ied_band = ButterworthFilter(timeseries=eeg_ptsa, freq_range=200., filt_type='highpass',order=2).filter() \n",
    "#                 eeg_ied_band2 = ButterworthFilter(timeseries=eeg_ptsa2, freq_range=200., filt_type='highpass',order=2).filter() \n",
    "#             elif sr >= 1000:    \n",
    "#                 #this seems okay since large range far from Nyquist...\n",
    "#                 eeg_ied_band = ButterworthFilter(timeseries=eeg_ptsa, freq_range=[250.,499.], filt_type='bandpass',order=2).filter()\n",
    "#                 eeg_ied_band2 = ButterworthFilter(timeseries=eeg_ptsa2, freq_range=[250.,499.], filt_type='bandpass',order=2).filter()\n",
    "#             eeg_raw = ptsa_to_mne(eeg_ptsa,[0,psth_end-psth_start]) \n",
    "#             eeg_raw2 = ptsa_to_mne(eeg_ptsa2,[0,retrieval_whole_time+(psth_end-psth_start)])     \n",
    "        eeg_rip_band = ptsa_to_mne(eeg_rip_band,[0,psth_end-psth_start])\n",
    "        if (eeg_rip_band.get_data().shape[0] != len(evs_free_recall)):\n",
    "            e = 'Manual error: MNE eeg evs do not match len(evs_free_recall)'\n",
    "            LogDFExceptionLine(row, e, 'SWR_get_eeg_log2.txt')        \n",
    "        \n",
    "#         eeg_ied_band = ptsa_to_mne(eeg_ied_band,[0,psth_end-psth_start])\n",
    "#         _ = eeg_ied_band.apply_hilbert(envelope=True)  \n",
    "\n",
    "#         eeg_rip_band2 = ptsa_to_mne(eeg_rip_band2,[0,retrieval_whole_time+(psth_end-psth_start)])\n",
    "#         _ = eeg_rip_band2.apply_hilbert(envelope=True)\n",
    "#         eeg_ied_band2 = ptsa_to_mne(eeg_ied_band2,[0,retrieval_whole_time+(psth_end-psth_start)])\n",
    "#         _ = eeg_ied_band2.apply_hilbert(envelope=True)\n",
    "\n",
    "#         eeg_rip_band_enc = ptsa_to_mne(eeg_rip_band_enc,[0,encoding_time-pre_encoding_time])\n",
    "#         _ = eeg_rip_band_enc.apply_hilbert(envelope=True)\n",
    "#         eeg_ied_band_enc = ptsa_to_mne(eeg_ied_band_enc,[0,encoding_time-pre_encoding_time])    \n",
    "#         _ = eeg_ied_band_enc.apply_hilbert(envelope=True)\n",
    "\n",
    "#         HPC_session_ct = 0\n",
    "#         for channel in range(len(elec_regions)):\n",
    "#             if elec_regions[channel] in selected_region:\n",
    "#                 channel_ct+=1 # total channels from beginning \n",
    "#                 HPC_session_ct+=1 # channel ct for this session\n",
    "#                 HPC_names.append(elec_regions[channel])\n",
    "#                 sub_names.append(sub)\n",
    "#                 sub_sess_names.append(sub+'-'+str(session))\n",
    "#                 encoded_word_key_array.append(encoded_word_key) # save the key for each electrode so easier to unpack later\n",
    "\n",
    "#                 # first, make a matrix of the times of free recall\n",
    "#                 list_nums = evs_rets.list.unique()\n",
    "#                 temp_fr_array = np.zeros((len(list_nums),retrieval_whole_time))\n",
    "#                 for ln in list_nums:\n",
    "#                     list_times = evs_free_recall[evs_free_recall.list==ln].rectime # I confirmed these are accurate relative to REC_START\n",
    "#                     temp_fr_array[ln-1][np.array(list_times)] = 1            \n",
    "#                 fr_array = superVstack(fr_array,temp_fr_array)\n",
    "\n",
    "#                 # eeg\n",
    "#                 eeg_rip = eeg_rip_band.get_data()[:,channel,:] # get data from MNE container\n",
    "#                 eeg_rip2 = eeg_rip_band2.get_data()[:,channel,:]     \n",
    "#                 eeg_ied = eeg_ied_band.get_data()[:,channel,:]\n",
    "#                 eeg_ied2 = eeg_ied_band2.get_data()[:,channel,:]\n",
    "#                 eeg_rip_enc = eeg_rip_band_enc.get_data()[:,channel,:]\n",
    "#                 eeg_ied_enc = eeg_ied_band_enc.get_data()[:,channel,:]\n",
    "\n",
    "#                 # select detection algorithm (note that iedlogic is same for both so always run that)\n",
    "\n",
    "#                 if filter_type == 'hamming':\n",
    "#                     # filter IEDs \n",
    "#                     eeg_ied = eeg_ied**2 # already rectified now square\n",
    "#                     eeg_ied2 = eeg_ied2**2  \n",
    "#                     eeg_ied_enc = eeg_ied_enc**2\n",
    "#                     eeg_ied = filtfilt(kaiser_40lp_filter,1.,eeg_ied) # low pass filter\n",
    "#                     eeg_ied2 = filtfilt(kaiser_40lp_filter,1.,eeg_ied2)         \n",
    "#                     eeg_ied_enc = filtfilt(kaiser_40lp_filter,1.,eeg_ied_enc)   \n",
    "#                     mean1 = np.mean(eeg_ied)\n",
    "#                     std1 = np.std(eeg_ied)\n",
    "#                     iedlogic = eeg_ied>=mean1+4*std1 # Norman et al 2016\n",
    "#                     mean2 = np.mean(eeg_ied2)\n",
    "#                     std2 = np.std(eeg_ied2)            \n",
    "#                     iedlogic2 = eeg_ied2>=mean2+4*std2\n",
    "#                     mean_enc = np.mean(eeg_ied_enc)\n",
    "#                     std_enc = np.std(eeg_ied_enc)            \n",
    "#                     iedlogic_enc = eeg_ied_enc>=mean_enc+4*std_enc                \n",
    "#                     # detect ripples\n",
    "#                     ripplelogic = detectRipplesHamming(eeg_rip,trans_width,sr,iedlogic)\n",
    "#                     ripplelogic2 = detectRipplesHamming(eeg_rip2,trans_width,sr,iedlogic2)\n",
    "#                     ripplelogic_enc = detectRipplesHamming(eeg_rip_enc,trans_width,sr,iedlogic_enc)\n",
    "#                 elif filter_type == 'butter':\n",
    "#                     eeg_mne = eeg_raw.get_data()[:,channel,:]\n",
    "#                     eeg_mne2 = eeg_raw2.get_data()[:,channel,:]\n",
    "#                     # detect ripples\n",
    "#                     ripplelogic, iedlogic = detectRipplesButter(eeg_rip,eeg_ied,eeg_mne,sr)\n",
    "#                     ripplelogic2, iedlogic2 = detectRipplesButter(eeg_rip2,eeg_ied2,eeg_mne2,sr)               \n",
    "\n",
    "#                 ripple_ied_accum_ct.append([sub,session,sr,sum(ripplelogic),sum(iedlogic),sum(ripplelogic2),sum(iedlogic2),\n",
    "#                                             sum(ripplelogic_enc),sum(iedlogic_enc)])\n",
    "\n",
    "#                 # have to make a decision on upsampling v. downsampling since there are diff. sampling rates\n",
    "#                 if sr>desired_sample_rate: # downsampling here for anything greater than 500...will be issues if SR not divisible\n",
    "#                     # but can fix that in the future if necessary (maybe can FFT resample?)\n",
    "#                     ripplelogic = downsampleBinary(ripplelogic,sr/desired_sample_rate)\n",
    "#                     ripplelogic2 = downsampleBinary(ripplelogic2,sr/desired_sample_rate)\n",
    "#                     ripplelogic_enc = downsampleBinary(ripplelogic_enc,sr/desired_sample_rate)\n",
    "#     #                 iedlogic = downsampleBinary(iedlogic,sr/desired_sample_rate)                \n",
    "#     #                 iedlogic2 = downsampleBinary(iedlogic2,sr/desired_sample_rate)\n",
    "#                 ripple_array = superVstack(ripple_array,ripplelogic) # append across electrodes\n",
    "#                 ripple_array2 = superVstack(ripple_array2,ripplelogic2) # append across electrodes   \n",
    "#                 ripple_array_enc = superVstack(ripple_array_enc,ripplelogic_enc) # append across electrodes   \n",
    "#                 print('Cumulative array size: ')\n",
    "#                 print(ripple_array.shape)\n",
    "#                 trial_nums = np.append(trial_nums,ripplelogic.shape[0])\n",
    "#                 trial_nums2 = np.append(trial_nums2,ripplelogic2.shape[0])\n",
    "#                 trial_nums_enc = np.append(trial_nums_enc,ripplelogic_enc.shape[0])\n",
    "#         electrodes_per_session = np.append(electrodes_per_session,HPC_session_ct)\n",
    "#         session_ct+=1\n",
    "        \n",
    "    except Exception as e:\n",
    "        LogDFExceptionLine(row, e, 'SWR_get_eeg_log2.txt') #np.save('SWRscript_FR1.npy', ['Exception', str(e.__class__), str(e)])\n",
    "        continue\n",
    "\n",
    "# csvWriter(ripple_ied_accum_ct,'ieds') # if you want to save the accumulated ripple numbers\n",
    "\n",
    "if save_values == 1:\n",
    "    if session_ct == 1:\n",
    "        fn = os.path.join('/home1/john/SWR/',\n",
    "            'SWR_'+region_name+'_from-'+str(session_ct)+'_sessions_in-'+str(len(np.unique(sub_names)))+'subjects_'+filter_type+'_'+sub+'.p')            \n",
    "    else:\n",
    "        fn = os.path.join('/home1/john/SWR/',\n",
    "            'SWR_'+region_name+'_from-'+str(session_ct)+'_sessions_in-'+str(len(np.unique(sub_names)))+'subjects_'+filter_type+'.p')            \n",
    "    with open(fn,'wb') as f:\n",
    "        pickle.dump({'channel_ct':channel_ct, 'session_ct':session_ct,\n",
    "                    'HPC_names':HPC_names, 'sub_sess_names':sub_sess_names,\n",
    "                    'ripple_array':ripple_array, 'ripple_array2':ripple_array2, 'ripple_array_enc':ripple_array_enc,\n",
    "                    'trial_nums':trial_nums, 'trial_nums2':trial_nums2,'trial_nums_enc':trial_nums_enc,\n",
    "                    'fr_array':fr_array, 'sub_names':sub_names, 'encoded_word_key_array':encoded_word_key_array,\n",
    "                    'total_recalls':total_recalls, 'kept_recalls':kept_recalls}, f)\n"
   ]
  },
  {
   "cell_type": "code",
   "execution_count": 8,
   "metadata": {},
   "outputs": [
    {
     "data": {
      "text/plain": [
       "110"
      ]
     },
     "execution_count": 8,
     "metadata": {},
     "output_type": "execute_result"
    },
    {
     "data": {
      "text/plain": [
       "'R1063C'"
      ]
     },
     "execution_count": 8,
     "metadata": {},
     "output_type": "execute_result"
    },
    {
     "data": {
      "text/plain": [
       "1"
      ]
     },
     "execution_count": 8,
     "metadata": {},
     "output_type": "execute_result"
    }
   ],
   "source": [
    "len(tal_struct)\n",
    "sub\n",
    "session"
   ]
  }
 ],
 "metadata": {
  "kernelspec": {
   "display_name": "env1",
   "language": "python",
   "name": "env1"
  },
  "language_info": {
   "codemirror_mode": {
    "name": "ipython",
    "version": 3
   },
   "file_extension": ".py",
   "mimetype": "text/x-python",
   "name": "python",
   "nbconvert_exporter": "python",
   "pygments_lexer": "ipython3",
   "version": "3.7.5"
  }
 },
 "nbformat": 4,
 "nbformat_minor": 4
}
