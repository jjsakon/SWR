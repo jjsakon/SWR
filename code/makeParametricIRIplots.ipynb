{
 "cells": [
  {
   "cell_type": "raw",
   "metadata": {},
   "source": [
    "# I want to make plots of the z-score of the pre-recall bump (v. 1 second before) at various IRIs\n",
    "# 2020-10-12 J Sakon"
   ]
  },
  {
   "cell_type": "code",
   "execution_count": 1,
   "metadata": {},
   "outputs": [
    {
     "name": "stderr",
     "output_type": "stream",
     "text": [
      "/home1/john/anaconda3/envs/env1/lib/python3.7/site-packages/ptsa/data/timeseries.py:526: FutureWarning: xarray subclass TimeSeriesX should explicitly define __slots__\n",
      "  class TimeSeriesX(TimeSeries):\n"
     ]
    }
   ],
   "source": [
    "import pandas as pd; pd.set_option('display.max_columns', 30)\n",
    "import numpy as np\n",
    "from cmlreaders import CMLReader, get_data_index\n",
    "from ptsa.data.filters import ButterworthFilter\n",
    "import sys\n",
    "import os\n",
    "import matplotlib.pyplot as plt\n",
    "%matplotlib inline\n",
    "from pylab import *\n",
    "from copy import copy\n",
    "from scipy import stats\n",
    "import pickle\n",
    "plt.rcParams['pdf.fonttype'] = 42; plt.rcParams['ps.fonttype'] = 42 # fix fonts for Illustrator\n",
    "sys.path.append('/home1/john/Downloads/ptsa_plot-master/')\n",
    "sys.path.append('/home1/john/johnModules')\n",
    "from brain_labels import MTL_labels, LTC_labels, PFC_labels, OTHER_labels, ALL_labels # all location labels\n",
    "%load_ext autoreload\n",
    "%autoreload\n",
    "from general import *\n",
    "from SWRmodule import *\n",
    "\n",
    "df = get_data_index(\"r1\") # all RAM subjects\n",
    "exp = 'FR1' # 'FR1' 'catFR1'"
   ]
  },
  {
   "cell_type": "code",
   "execution_count": 2,
   "metadata": {},
   "outputs": [
    {
     "name": "stderr",
     "output_type": "stream",
     "text": [
      "/home1/john/anaconda3/envs/env1/lib/python3.7/site-packages/ipykernel_launcher.py:19: UserWarning: Boolean Series key will be reindexed to match DataFrame index.\n"
     ]
    },
    {
     "data": {
      "text/plain": [
       "(554, 17)"
      ]
     },
     "execution_count": 2,
     "metadata": {},
     "output_type": "execute_result"
    },
    {
     "data": {
      "text/html": [
       "<div>\n",
       "<style scoped>\n",
       "    .dataframe tbody tr th:only-of-type {\n",
       "        vertical-align: middle;\n",
       "    }\n",
       "\n",
       "    .dataframe tbody tr th {\n",
       "        vertical-align: top;\n",
       "    }\n",
       "\n",
       "    .dataframe thead th {\n",
       "        text-align: right;\n",
       "    }\n",
       "</style>\n",
       "<table border=\"1\" class=\"dataframe\">\n",
       "  <thead>\n",
       "    <tr style=\"text-align: right;\">\n",
       "      <th></th>\n",
       "      <th>Recognition</th>\n",
       "      <th>all_events</th>\n",
       "      <th>contacts</th>\n",
       "      <th>experiment</th>\n",
       "      <th>import_type</th>\n",
       "      <th>localization</th>\n",
       "      <th>math_events</th>\n",
       "      <th>montage</th>\n",
       "      <th>original_experiment</th>\n",
       "      <th>original_session</th>\n",
       "      <th>pairs</th>\n",
       "      <th>ps4_events</th>\n",
       "      <th>session</th>\n",
       "      <th>subject</th>\n",
       "      <th>subject_alias</th>\n",
       "      <th>system_version</th>\n",
       "      <th>task_events</th>\n",
       "    </tr>\n",
       "  </thead>\n",
       "  <tbody>\n",
       "    <tr>\n",
       "      <th>0</th>\n",
       "      <td>NaN</td>\n",
       "      <td>protocols/r1/subjects/R1001P/experiments/FR1/s...</td>\n",
       "      <td>protocols/r1/subjects/R1001P/localizations/0/m...</td>\n",
       "      <td>FR1</td>\n",
       "      <td>build</td>\n",
       "      <td>0</td>\n",
       "      <td>protocols/r1/subjects/R1001P/experiments/FR1/s...</td>\n",
       "      <td>0</td>\n",
       "      <td>NaN</td>\n",
       "      <td>0</td>\n",
       "      <td>protocols/r1/subjects/R1001P/localizations/0/m...</td>\n",
       "      <td>NaN</td>\n",
       "      <td>0</td>\n",
       "      <td>R1001P</td>\n",
       "      <td>R1001P</td>\n",
       "      <td>NaN</td>\n",
       "      <td>protocols/r1/subjects/R1001P/experiments/FR1/s...</td>\n",
       "    </tr>\n",
       "    <tr>\n",
       "      <th>1</th>\n",
       "      <td>NaN</td>\n",
       "      <td>protocols/r1/subjects/R1001P/experiments/FR1/s...</td>\n",
       "      <td>protocols/r1/subjects/R1001P/localizations/0/m...</td>\n",
       "      <td>FR1</td>\n",
       "      <td>build</td>\n",
       "      <td>0</td>\n",
       "      <td>protocols/r1/subjects/R1001P/experiments/FR1/s...</td>\n",
       "      <td>0</td>\n",
       "      <td>NaN</td>\n",
       "      <td>1</td>\n",
       "      <td>protocols/r1/subjects/R1001P/localizations/0/m...</td>\n",
       "      <td>NaN</td>\n",
       "      <td>1</td>\n",
       "      <td>R1001P</td>\n",
       "      <td>R1001P</td>\n",
       "      <td>NaN</td>\n",
       "      <td>protocols/r1/subjects/R1001P/experiments/FR1/s...</td>\n",
       "    </tr>\n",
       "    <tr>\n",
       "      <th>9</th>\n",
       "      <td>NaN</td>\n",
       "      <td>protocols/r1/subjects/R1002P/experiments/FR1/s...</td>\n",
       "      <td>protocols/r1/subjects/R1002P/localizations/0/m...</td>\n",
       "      <td>FR1</td>\n",
       "      <td>build</td>\n",
       "      <td>0</td>\n",
       "      <td>protocols/r1/subjects/R1002P/experiments/FR1/s...</td>\n",
       "      <td>0</td>\n",
       "      <td>NaN</td>\n",
       "      <td>0</td>\n",
       "      <td>protocols/r1/subjects/R1002P/localizations/0/m...</td>\n",
       "      <td>NaN</td>\n",
       "      <td>0</td>\n",
       "      <td>R1002P</td>\n",
       "      <td>R1002P</td>\n",
       "      <td>NaN</td>\n",
       "      <td>protocols/r1/subjects/R1002P/experiments/FR1/s...</td>\n",
       "    </tr>\n",
       "    <tr>\n",
       "      <th>10</th>\n",
       "      <td>NaN</td>\n",
       "      <td>protocols/r1/subjects/R1002P/experiments/FR1/s...</td>\n",
       "      <td>protocols/r1/subjects/R1002P/localizations/0/m...</td>\n",
       "      <td>FR1</td>\n",
       "      <td>build</td>\n",
       "      <td>0</td>\n",
       "      <td>protocols/r1/subjects/R1002P/experiments/FR1/s...</td>\n",
       "      <td>0</td>\n",
       "      <td>NaN</td>\n",
       "      <td>1</td>\n",
       "      <td>protocols/r1/subjects/R1002P/localizations/0/m...</td>\n",
       "      <td>NaN</td>\n",
       "      <td>1</td>\n",
       "      <td>R1002P</td>\n",
       "      <td>R1002P</td>\n",
       "      <td>NaN</td>\n",
       "      <td>protocols/r1/subjects/R1002P/experiments/FR1/s...</td>\n",
       "    </tr>\n",
       "    <tr>\n",
       "      <th>17</th>\n",
       "      <td>NaN</td>\n",
       "      <td>protocols/r1/subjects/R1003P/experiments/FR1/s...</td>\n",
       "      <td>protocols/r1/subjects/R1003P/localizations/0/m...</td>\n",
       "      <td>FR1</td>\n",
       "      <td>build</td>\n",
       "      <td>0</td>\n",
       "      <td>protocols/r1/subjects/R1003P/experiments/FR1/s...</td>\n",
       "      <td>0</td>\n",
       "      <td>NaN</td>\n",
       "      <td>0</td>\n",
       "      <td>protocols/r1/subjects/R1003P/localizations/0/m...</td>\n",
       "      <td>NaN</td>\n",
       "      <td>0</td>\n",
       "      <td>R1003P</td>\n",
       "      <td>R1003P</td>\n",
       "      <td>1.0</td>\n",
       "      <td>protocols/r1/subjects/R1003P/experiments/FR1/s...</td>\n",
       "    </tr>\n",
       "    <tr>\n",
       "      <th>...</th>\n",
       "      <td>...</td>\n",
       "      <td>...</td>\n",
       "      <td>...</td>\n",
       "      <td>...</td>\n",
       "      <td>...</td>\n",
       "      <td>...</td>\n",
       "      <td>...</td>\n",
       "      <td>...</td>\n",
       "      <td>...</td>\n",
       "      <td>...</td>\n",
       "      <td>...</td>\n",
       "      <td>...</td>\n",
       "      <td>...</td>\n",
       "      <td>...</td>\n",
       "      <td>...</td>\n",
       "      <td>...</td>\n",
       "      <td>...</td>\n",
       "    </tr>\n",
       "    <tr>\n",
       "      <th>2149</th>\n",
       "      <td>NaN</td>\n",
       "      <td>protocols/r1/subjects/R1462M/experiments/FR1/s...</td>\n",
       "      <td>protocols/r1/subjects/R1462M/localizations/0/m...</td>\n",
       "      <td>FR1</td>\n",
       "      <td>build</td>\n",
       "      <td>0</td>\n",
       "      <td>protocols/r1/subjects/R1462M/experiments/FR1/s...</td>\n",
       "      <td>0</td>\n",
       "      <td>NaN</td>\n",
       "      <td>NaN</td>\n",
       "      <td>protocols/r1/subjects/R1462M/localizations/0/m...</td>\n",
       "      <td>NaN</td>\n",
       "      <td>0</td>\n",
       "      <td>R1462M</td>\n",
       "      <td>R1462M</td>\n",
       "      <td>3.4</td>\n",
       "      <td>protocols/r1/subjects/R1462M/experiments/FR1/s...</td>\n",
       "    </tr>\n",
       "    <tr>\n",
       "      <th>2151</th>\n",
       "      <td>NaN</td>\n",
       "      <td>protocols/r1/subjects/R1463E/experiments/FR1/s...</td>\n",
       "      <td>protocols/r1/subjects/R1463E/localizations/1/m...</td>\n",
       "      <td>FR1</td>\n",
       "      <td>build</td>\n",
       "      <td>1</td>\n",
       "      <td>protocols/r1/subjects/R1463E/experiments/FR1/s...</td>\n",
       "      <td>1</td>\n",
       "      <td>NaN</td>\n",
       "      <td>0</td>\n",
       "      <td>protocols/r1/subjects/R1463E/localizations/1/m...</td>\n",
       "      <td>NaN</td>\n",
       "      <td>0</td>\n",
       "      <td>R1463E</td>\n",
       "      <td>R1463E_1</td>\n",
       "      <td>3.4</td>\n",
       "      <td>protocols/r1/subjects/R1463E/experiments/FR1/s...</td>\n",
       "    </tr>\n",
       "    <tr>\n",
       "      <th>2152</th>\n",
       "      <td>NaN</td>\n",
       "      <td>protocols/r1/subjects/R1463E/experiments/FR1/s...</td>\n",
       "      <td>protocols/r1/subjects/R1463E/localizations/1/m...</td>\n",
       "      <td>FR1</td>\n",
       "      <td>build</td>\n",
       "      <td>1</td>\n",
       "      <td>protocols/r1/subjects/R1463E/experiments/FR1/s...</td>\n",
       "      <td>1</td>\n",
       "      <td>NaN</td>\n",
       "      <td>1</td>\n",
       "      <td>protocols/r1/subjects/R1463E/localizations/1/m...</td>\n",
       "      <td>NaN</td>\n",
       "      <td>1</td>\n",
       "      <td>R1463E</td>\n",
       "      <td>R1463E_1</td>\n",
       "      <td>3.4</td>\n",
       "      <td>protocols/r1/subjects/R1463E/experiments/FR1/s...</td>\n",
       "    </tr>\n",
       "    <tr>\n",
       "      <th>2166</th>\n",
       "      <td>NaN</td>\n",
       "      <td>protocols/r1/subjects/R1466J/experiments/FR1/s...</td>\n",
       "      <td>protocols/r1/subjects/R1466J/localizations/0/m...</td>\n",
       "      <td>FR1</td>\n",
       "      <td>build</td>\n",
       "      <td>0</td>\n",
       "      <td>protocols/r1/subjects/R1466J/experiments/FR1/s...</td>\n",
       "      <td>0</td>\n",
       "      <td>NaN</td>\n",
       "      <td>NaN</td>\n",
       "      <td>protocols/r1/subjects/R1466J/localizations/0/m...</td>\n",
       "      <td>NaN</td>\n",
       "      <td>0</td>\n",
       "      <td>R1466J</td>\n",
       "      <td>R1466J</td>\n",
       "      <td>3.4</td>\n",
       "      <td>protocols/r1/subjects/R1466J/experiments/FR1/s...</td>\n",
       "    </tr>\n",
       "    <tr>\n",
       "      <th>2170</th>\n",
       "      <td>NaN</td>\n",
       "      <td>protocols/r1/subjects/R1467M/experiments/FR1/s...</td>\n",
       "      <td>protocols/r1/subjects/R1467M/localizations/0/m...</td>\n",
       "      <td>FR1</td>\n",
       "      <td>build</td>\n",
       "      <td>0</td>\n",
       "      <td>protocols/r1/subjects/R1467M/experiments/FR1/s...</td>\n",
       "      <td>0</td>\n",
       "      <td>NaN</td>\n",
       "      <td>NaN</td>\n",
       "      <td>protocols/r1/subjects/R1467M/localizations/0/m...</td>\n",
       "      <td>NaN</td>\n",
       "      <td>0</td>\n",
       "      <td>R1467M</td>\n",
       "      <td>R1467M</td>\n",
       "      <td>3.4</td>\n",
       "      <td>protocols/r1/subjects/R1467M/experiments/FR1/s...</td>\n",
       "    </tr>\n",
       "  </tbody>\n",
       "</table>\n",
       "<p>554 rows × 17 columns</p>\n",
       "</div>"
      ],
      "text/plain": [
       "     Recognition                                         all_events  \\\n",
       "0            NaN  protocols/r1/subjects/R1001P/experiments/FR1/s...   \n",
       "1            NaN  protocols/r1/subjects/R1001P/experiments/FR1/s...   \n",
       "9            NaN  protocols/r1/subjects/R1002P/experiments/FR1/s...   \n",
       "10           NaN  protocols/r1/subjects/R1002P/experiments/FR1/s...   \n",
       "17           NaN  protocols/r1/subjects/R1003P/experiments/FR1/s...   \n",
       "...          ...                                                ...   \n",
       "2149         NaN  protocols/r1/subjects/R1462M/experiments/FR1/s...   \n",
       "2151         NaN  protocols/r1/subjects/R1463E/experiments/FR1/s...   \n",
       "2152         NaN  protocols/r1/subjects/R1463E/experiments/FR1/s...   \n",
       "2166         NaN  protocols/r1/subjects/R1466J/experiments/FR1/s...   \n",
       "2170         NaN  protocols/r1/subjects/R1467M/experiments/FR1/s...   \n",
       "\n",
       "                                               contacts experiment  \\\n",
       "0     protocols/r1/subjects/R1001P/localizations/0/m...        FR1   \n",
       "1     protocols/r1/subjects/R1001P/localizations/0/m...        FR1   \n",
       "9     protocols/r1/subjects/R1002P/localizations/0/m...        FR1   \n",
       "10    protocols/r1/subjects/R1002P/localizations/0/m...        FR1   \n",
       "17    protocols/r1/subjects/R1003P/localizations/0/m...        FR1   \n",
       "...                                                 ...        ...   \n",
       "2149  protocols/r1/subjects/R1462M/localizations/0/m...        FR1   \n",
       "2151  protocols/r1/subjects/R1463E/localizations/1/m...        FR1   \n",
       "2152  protocols/r1/subjects/R1463E/localizations/1/m...        FR1   \n",
       "2166  protocols/r1/subjects/R1466J/localizations/0/m...        FR1   \n",
       "2170  protocols/r1/subjects/R1467M/localizations/0/m...        FR1   \n",
       "\n",
       "     import_type  localization  \\\n",
       "0          build             0   \n",
       "1          build             0   \n",
       "9          build             0   \n",
       "10         build             0   \n",
       "17         build             0   \n",
       "...          ...           ...   \n",
       "2149       build             0   \n",
       "2151       build             1   \n",
       "2152       build             1   \n",
       "2166       build             0   \n",
       "2170       build             0   \n",
       "\n",
       "                                            math_events  montage  \\\n",
       "0     protocols/r1/subjects/R1001P/experiments/FR1/s...        0   \n",
       "1     protocols/r1/subjects/R1001P/experiments/FR1/s...        0   \n",
       "9     protocols/r1/subjects/R1002P/experiments/FR1/s...        0   \n",
       "10    protocols/r1/subjects/R1002P/experiments/FR1/s...        0   \n",
       "17    protocols/r1/subjects/R1003P/experiments/FR1/s...        0   \n",
       "...                                                 ...      ...   \n",
       "2149  protocols/r1/subjects/R1462M/experiments/FR1/s...        0   \n",
       "2151  protocols/r1/subjects/R1463E/experiments/FR1/s...        1   \n",
       "2152  protocols/r1/subjects/R1463E/experiments/FR1/s...        1   \n",
       "2166  protocols/r1/subjects/R1466J/experiments/FR1/s...        0   \n",
       "2170  protocols/r1/subjects/R1467M/experiments/FR1/s...        0   \n",
       "\n",
       "     original_experiment original_session  \\\n",
       "0                    NaN                0   \n",
       "1                    NaN                1   \n",
       "9                    NaN                0   \n",
       "10                   NaN                1   \n",
       "17                   NaN                0   \n",
       "...                  ...              ...   \n",
       "2149                 NaN              NaN   \n",
       "2151                 NaN                0   \n",
       "2152                 NaN                1   \n",
       "2166                 NaN              NaN   \n",
       "2170                 NaN              NaN   \n",
       "\n",
       "                                                  pairs ps4_events  session  \\\n",
       "0     protocols/r1/subjects/R1001P/localizations/0/m...        NaN        0   \n",
       "1     protocols/r1/subjects/R1001P/localizations/0/m...        NaN        1   \n",
       "9     protocols/r1/subjects/R1002P/localizations/0/m...        NaN        0   \n",
       "10    protocols/r1/subjects/R1002P/localizations/0/m...        NaN        1   \n",
       "17    protocols/r1/subjects/R1003P/localizations/0/m...        NaN        0   \n",
       "...                                                 ...        ...      ...   \n",
       "2149  protocols/r1/subjects/R1462M/localizations/0/m...        NaN        0   \n",
       "2151  protocols/r1/subjects/R1463E/localizations/1/m...        NaN        0   \n",
       "2152  protocols/r1/subjects/R1463E/localizations/1/m...        NaN        1   \n",
       "2166  protocols/r1/subjects/R1466J/localizations/0/m...        NaN        0   \n",
       "2170  protocols/r1/subjects/R1467M/localizations/0/m...        NaN        0   \n",
       "\n",
       "     subject subject_alias  system_version  \\\n",
       "0     R1001P        R1001P             NaN   \n",
       "1     R1001P        R1001P             NaN   \n",
       "9     R1002P        R1002P             NaN   \n",
       "10    R1002P        R1002P             NaN   \n",
       "17    R1003P        R1003P             1.0   \n",
       "...      ...           ...             ...   \n",
       "2149  R1462M        R1462M             3.4   \n",
       "2151  R1463E      R1463E_1             3.4   \n",
       "2152  R1463E      R1463E_1             3.4   \n",
       "2166  R1466J        R1466J             3.4   \n",
       "2170  R1467M        R1467M             3.4   \n",
       "\n",
       "                                            task_events  \n",
       "0     protocols/r1/subjects/R1001P/experiments/FR1/s...  \n",
       "1     protocols/r1/subjects/R1001P/experiments/FR1/s...  \n",
       "9     protocols/r1/subjects/R1002P/experiments/FR1/s...  \n",
       "10    protocols/r1/subjects/R1002P/experiments/FR1/s...  \n",
       "17    protocols/r1/subjects/R1003P/experiments/FR1/s...  \n",
       "...                                                 ...  \n",
       "2149  protocols/r1/subjects/R1462M/experiments/FR1/s...  \n",
       "2151  protocols/r1/subjects/R1463E/experiments/FR1/s...  \n",
       "2152  protocols/r1/subjects/R1463E/experiments/FR1/s...  \n",
       "2166  protocols/r1/subjects/R1466J/experiments/FR1/s...  \n",
       "2170  protocols/r1/subjects/R1467M/experiments/FR1/s...  \n",
       "\n",
       "[554 rows x 17 columns]"
      ]
     },
     "execution_count": 2,
     "metadata": {},
     "output_type": "execute_result"
    }
   ],
   "source": [
    "# 575 FR sessions. first 18 of don't load so skip those \n",
    "exp_df = df[df.experiment==exp]\n",
    "if exp == 'FR1':\n",
    "    exp_df = exp_df[\n",
    "                    ((df.subject!='R1015J') | (df.session!=0)) & \n",
    "                    ((df.subject!='R1063C') | (df.session!=1)) & \n",
    "                    ((df.subject!='R1093J') | (~df.session.isin([1,2]))) &\n",
    "                    ((df.subject!='R1100D') | (~df.session.isin([0,1,2]))) &\n",
    "                    ((df.subject!='R1120E') | (df.session!=0)) &\n",
    "                    ((df.subject!='R1122E') | (df.session!=2)) &\n",
    "                    ((df.subject!='R1154D') | (df.session!=0)) &\n",
    "                    ((df.subject!='R1186P') | (df.session!=0)) &\n",
    "                    ((df.subject!='R1201P') | (~df.session.isin([0,1]))) &\n",
    "                    ((df.subject!='R1216E') | (~df.session.isin([0,1,2]))) &\n",
    "                    ((df.subject!='R1277J') | (df.session!=0)) &\n",
    "                    ((df.subject!='R1413D') | (df.session!=0)) & \n",
    "                    ((df.subject!='R1123C') | (df.session!=2)) & # artifacts that bleed through channels (see SWR FR1 prob sessions ppt)\n",
    "                    ((df.subject!='R1151E') | (~df.session.isin([1,2]))) & # more bleed-through artifacts (see same ppt)\n",
    "                    ((df.subject!='R1275D') | (df.session!=3))  # 3rd session an actual repeat of 2nd session (Paul should have removed from database by now)\n",
    "    #                 (df.subject!='R1065J') # sub with 9000 trials\n",
    "                   ] \n",
    "if exp == 'catFR1': \n",
    "    exp_df = exp_df[\n",
    "                    ((df.subject!='R1044J') | (df.session!=0)) & # too few trials to do pg pairwise corr\n",
    "                    ((df.subject!='R1491T') | (~df.session.isin([1,3,5]))) & # too few trials to do pg pairwise corr\n",
    "                    ((df.subject!='R1486J') | (~df.session.isin([0,1,2,3]))) & # repeated data...will be removed at some point... @@\n",
    "                    ((df.subject!='R1235E') | (df.session!=0)) & # split EEG filenames error...documented on Asana\n",
    "                    ((df.subject!='R1310J') | (df.session!=1)) & # session 1 is just a repeat of session 0\n",
    "                    ((df.subject!='R1239E') | (df.session!=0)) # some correlated noise (can see in catFR1 problem sessions ppt)\n",
    "    ]\n",
    "exp_df.shape\n",
    "# exp_df = exp_df[257:] # for catFR1 this is R1385E-onwwards\n",
    "# exp_df = exp_df[472:] # for FR1 this is R1385E-onwwards\n",
    "# exp_df[404:413]\n",
    "exp_df"
   ]
  },
  {
   "cell_type": "code",
   "execution_count": 32,
   "metadata": {},
   "outputs": [
    {
     "data": {
      "text/plain": [
       "array(['R1325C', 'R1310J', 'R1077T', 'R1288P', 'R1044J', 'R1108J',\n",
       "       'R1002P', 'R1131M', 'R1316T', 'R1215M'], dtype='<U6')"
      ]
     },
     "execution_count": 32,
     "metadata": {},
     "output_type": "execute_result"
    },
    {
     "data": {
      "text/plain": [
       "array(['R1306E', 'R1137E', 'R1105E', 'R1048E', 'R1138T', 'R1122E',\n",
       "       'R1094T', 'R1236J', 'R1120E', 'R1338T'], dtype='<U6')"
      ]
     },
     "execution_count": 32,
     "metadata": {},
     "output_type": "execute_result"
    },
    {
     "name": "stdout",
     "output_type": "stream",
     "text": [
      "2020-10-14_14-26-42: DF Exception: Sub: R1147P, Sess: 0, FileNotFoundError, [Errno 2] No such file or directory: '/scratch/john/SWR_scratch/SOLONOCOMPOUND1600/SWR_FR1_R1147P_0_HPC_surrounding_recallSOLONOCOMPOUND1600_soz_in.p', file: <ipython-input-32-8c2bb9711ac8>, line no: 60\n",
      "2020-10-14_14-26-42: DF Exception: Sub: R1168T, Sess: 2, FileNotFoundError, [Errno 2] No such file or directory: '/scratch/john/SWR_scratch/SOLONOCOMPOUND1600/SWR_FR1_R1168T_2_HPC_surrounding_recallSOLONOCOMPOUND1600_soz_in.p', file: <ipython-input-32-8c2bb9711ac8>, line no: 60\n",
      "2020-10-14_14-26-46: DF Exception: Sub: R1243T, Sess: 3, FileNotFoundError, [Errno 2] No such file or directory: '/scratch/john/SWR_scratch/SOLONOCOMPOUND1600/SWR_FR1_R1243T_3_HPC_surrounding_recallSOLONOCOMPOUND1600_soz_in.p', file: <ipython-input-32-8c2bb9711ac8>, line no: 60\n",
      "2020-10-14_14-26-51: DF Exception: Sub: R1342M, Sess: 1, FileNotFoundError, [Errno 2] No such file or directory: '/scratch/john/SWR_scratch/SOLONOCOMPOUND1600/SWR_FR1_R1342M_1_HPC_surrounding_recallSOLONOCOMPOUND1600_soz_in.p', file: <ipython-input-32-8c2bb9711ac8>, line no: 60\n",
      "**Done loading 1600 ms**\n",
      "Got start_array with 20868 trials!\n",
      "done making binned start_array with shape:\n"
     ]
    },
    {
     "data": {
      "text/plain": [
       "(20868, 36)"
      ]
     },
     "execution_count": 32,
     "metadata": {},
     "output_type": "execute_result"
    },
    {
     "data": {
      "text/plain": [
       "(20868, 2000)"
      ]
     },
     "execution_count": 32,
     "metadata": {},
     "output_type": "execute_result"
    },
    {
     "name": "stdout",
     "output_type": "stream",
     "text": [
      "done binning start_arrays\n"
     ]
    },
    {
     "data": {
      "text/plain": [
       "(20868, 36)"
      ]
     },
     "execution_count": 32,
     "metadata": {},
     "output_type": "execute_result"
    },
    {
     "name": "stdout",
     "output_type": "stream",
     "text": [
      "2020-10-14_14-30-53: DF Exception: Sub: R1044J, Sess: 0, FileNotFoundError, [Errno 2] No such file or directory: '/scratch/john/SWR_scratch/SOLONOCOMPOUND1700/SWR_FR1_R1044J_0_HPC_surrounding_recallSOLONOCOMPOUND1700_soz_in.p', file: <ipython-input-32-8c2bb9711ac8>, line no: 60\n",
      "2020-10-14_14-30-57: DF Exception: Sub: R1147P, Sess: 0, FileNotFoundError, [Errno 2] No such file or directory: '/scratch/john/SWR_scratch/SOLONOCOMPOUND1700/SWR_FR1_R1147P_0_HPC_surrounding_recallSOLONOCOMPOUND1700_soz_in.p', file: <ipython-input-32-8c2bb9711ac8>, line no: 60\n",
      "2020-10-14_14-31-00: DF Exception: Sub: R1243T, Sess: 3, FileNotFoundError, [Errno 2] No such file or directory: '/scratch/john/SWR_scratch/SOLONOCOMPOUND1700/SWR_FR1_R1243T_3_HPC_surrounding_recallSOLONOCOMPOUND1700_soz_in.p', file: <ipython-input-32-8c2bb9711ac8>, line no: 60\n",
      "2020-10-14_14-31-05: DF Exception: Sub: R1342M, Sess: 1, FileNotFoundError, [Errno 2] No such file or directory: '/scratch/john/SWR_scratch/SOLONOCOMPOUND1700/SWR_FR1_R1342M_1_HPC_surrounding_recallSOLONOCOMPOUND1700_soz_in.p', file: <ipython-input-32-8c2bb9711ac8>, line no: 60\n",
      "**Done loading 1700 ms**\n",
      "Got start_array with 20373 trials!\n",
      "done making binned start_array with shape:\n"
     ]
    },
    {
     "data": {
      "text/plain": [
       "(20373, 36)"
      ]
     },
     "execution_count": 32,
     "metadata": {},
     "output_type": "execute_result"
    },
    {
     "data": {
      "text/plain": [
       "(20373, 2000)"
      ]
     },
     "execution_count": 32,
     "metadata": {},
     "output_type": "execute_result"
    },
    {
     "name": "stdout",
     "output_type": "stream",
     "text": [
      "done binning start_arrays\n"
     ]
    },
    {
     "data": {
      "text/plain": [
       "(20373, 36)"
      ]
     },
     "execution_count": 32,
     "metadata": {},
     "output_type": "execute_result"
    },
    {
     "name": "stdout",
     "output_type": "stream",
     "text": [
      "2020-10-14_14-35-01: DF Exception: Sub: R1044J, Sess: 0, FileNotFoundError, [Errno 2] No such file or directory: '/scratch/john/SWR_scratch/SOLONOCOMPOUND1800/SWR_FR1_R1044J_0_HPC_surrounding_recallSOLONOCOMPOUND1800_soz_in.p', file: <ipython-input-32-8c2bb9711ac8>, line no: 60\n",
      "2020-10-14_14-35-06: DF Exception: Sub: R1147P, Sess: 0, FileNotFoundError, [Errno 2] No such file or directory: '/scratch/john/SWR_scratch/SOLONOCOMPOUND1800/SWR_FR1_R1147P_0_HPC_surrounding_recallSOLONOCOMPOUND1800_soz_in.p', file: <ipython-input-32-8c2bb9711ac8>, line no: 60\n",
      "2020-10-14_14-35-11: DF Exception: Sub: R1243T, Sess: 3, FileNotFoundError, [Errno 2] No such file or directory: '/scratch/john/SWR_scratch/SOLONOCOMPOUND1800/SWR_FR1_R1243T_3_HPC_surrounding_recallSOLONOCOMPOUND1800_soz_in.p', file: <ipython-input-32-8c2bb9711ac8>, line no: 60\n",
      "2020-10-14_14-35-12: DF Exception: Sub: R1297T, Sess: 1, FileNotFoundError, [Errno 2] No such file or directory: '/scratch/john/SWR_scratch/SOLONOCOMPOUND1800/SWR_FR1_R1297T_1_HPC_surrounding_recallSOLONOCOMPOUND1800_soz_in.p', file: <ipython-input-32-8c2bb9711ac8>, line no: 60\n",
      "2020-10-14_14-35-16: DF Exception: Sub: R1342M, Sess: 1, FileNotFoundError, [Errno 2] No such file or directory: '/scratch/john/SWR_scratch/SOLONOCOMPOUND1800/SWR_FR1_R1342M_1_HPC_surrounding_recallSOLONOCOMPOUND1800_soz_in.p', file: <ipython-input-32-8c2bb9711ac8>, line no: 60\n",
      "**Done loading 1800 ms**\n",
      "Got start_array with 19646 trials!\n",
      "done making binned start_array with shape:\n"
     ]
    },
    {
     "data": {
      "text/plain": [
       "(19646, 36)"
      ]
     },
     "execution_count": 32,
     "metadata": {},
     "output_type": "execute_result"
    },
    {
     "data": {
      "text/plain": [
       "(19646, 2000)"
      ]
     },
     "execution_count": 32,
     "metadata": {},
     "output_type": "execute_result"
    },
    {
     "name": "stdout",
     "output_type": "stream",
     "text": [
      "done binning start_arrays\n"
     ]
    },
    {
     "data": {
      "text/plain": [
       "(19646, 36)"
      ]
     },
     "execution_count": 32,
     "metadata": {},
     "output_type": "execute_result"
    },
    {
     "name": "stdout",
     "output_type": "stream",
     "text": [
      "2020-10-14_14-39-12: DF Exception: Sub: R1044J, Sess: 0, FileNotFoundError, [Errno 2] No such file or directory: '/scratch/john/SWR_scratch/SOLONOCOMPOUND1900/SWR_FR1_R1044J_0_HPC_surrounding_recallSOLONOCOMPOUND1900_soz_in.p', file: <ipython-input-32-8c2bb9711ac8>, line no: 60\n",
      "2020-10-14_14-39-17: DF Exception: Sub: R1147P, Sess: 0, FileNotFoundError, [Errno 2] No such file or directory: '/scratch/john/SWR_scratch/SOLONOCOMPOUND1900/SWR_FR1_R1147P_0_HPC_surrounding_recallSOLONOCOMPOUND1900_soz_in.p', file: <ipython-input-32-8c2bb9711ac8>, line no: 60\n",
      "2020-10-14_14-39-20: DF Exception: Sub: R1243T, Sess: 3, FileNotFoundError, [Errno 2] No such file or directory: '/scratch/john/SWR_scratch/SOLONOCOMPOUND1900/SWR_FR1_R1243T_3_HPC_surrounding_recallSOLONOCOMPOUND1900_soz_in.p', file: <ipython-input-32-8c2bb9711ac8>, line no: 60\n",
      "2020-10-14_14-39-21: DF Exception: Sub: R1297T, Sess: 1, FileNotFoundError, [Errno 2] No such file or directory: '/scratch/john/SWR_scratch/SOLONOCOMPOUND1900/SWR_FR1_R1297T_1_HPC_surrounding_recallSOLONOCOMPOUND1900_soz_in.p', file: <ipython-input-32-8c2bb9711ac8>, line no: 60\n",
      "2020-10-14_14-39-24: DF Exception: Sub: R1342M, Sess: 1, FileNotFoundError, [Errno 2] No such file or directory: '/scratch/john/SWR_scratch/SOLONOCOMPOUND1900/SWR_FR1_R1342M_1_HPC_surrounding_recallSOLONOCOMPOUND1900_soz_in.p', file: <ipython-input-32-8c2bb9711ac8>, line no: 60\n",
      "**Done loading 1900 ms**\n",
      "Got start_array with 19138 trials!\n",
      "done making binned start_array with shape:\n"
     ]
    },
    {
     "data": {
      "text/plain": [
       "(19138, 36)"
      ]
     },
     "execution_count": 32,
     "metadata": {},
     "output_type": "execute_result"
    },
    {
     "data": {
      "text/plain": [
       "(19138, 2000)"
      ]
     },
     "execution_count": 32,
     "metadata": {},
     "output_type": "execute_result"
    },
    {
     "name": "stdout",
     "output_type": "stream",
     "text": [
      "done binning start_arrays\n"
     ]
    },
    {
     "data": {
      "text/plain": [
       "(19138, 36)"
      ]
     },
     "execution_count": 32,
     "metadata": {},
     "output_type": "execute_result"
    },
    {
     "name": "stdout",
     "output_type": "stream",
     "text": [
      "2020-10-14_14-43-27: DF Exception: Sub: R1044J, Sess: 0, FileNotFoundError, [Errno 2] No such file or directory: '/scratch/john/SWR_scratch/SOLONOCOMPOUND2000/SWR_FR1_R1044J_0_HPC_surrounding_recallSOLONOCOMPOUND2000_soz_in.p', file: <ipython-input-32-8c2bb9711ac8>, line no: 60\n",
      "2020-10-14_14-43-36: DF Exception: Sub: R1243T, Sess: 3, FileNotFoundError, [Errno 2] No such file or directory: '/scratch/john/SWR_scratch/SOLONOCOMPOUND2000/SWR_FR1_R1243T_3_HPC_surrounding_recallSOLONOCOMPOUND2000_soz_in.p', file: <ipython-input-32-8c2bb9711ac8>, line no: 60\n",
      "2020-10-14_14-43-37: DF Exception: Sub: R1297T, Sess: 1, FileNotFoundError, [Errno 2] No such file or directory: '/scratch/john/SWR_scratch/SOLONOCOMPOUND2000/SWR_FR1_R1297T_1_HPC_surrounding_recallSOLONOCOMPOUND2000_soz_in.p', file: <ipython-input-32-8c2bb9711ac8>, line no: 60\n",
      "2020-10-14_14-43-38: DF Exception: Sub: R1316T, Sess: 0, FileNotFoundError, [Errno 2] No such file or directory: '/scratch/john/SWR_scratch/SOLONOCOMPOUND2000/SWR_FR1_R1316T_0_HPC_surrounding_recallSOLONOCOMPOUND2000_soz_in.p', file: <ipython-input-32-8c2bb9711ac8>, line no: 60\n",
      "2020-10-14_14-43-40: DF Exception: Sub: R1342M, Sess: 1, FileNotFoundError, [Errno 2] No such file or directory: '/scratch/john/SWR_scratch/SOLONOCOMPOUND2000/SWR_FR1_R1342M_1_HPC_surrounding_recallSOLONOCOMPOUND2000_soz_in.p', file: <ipython-input-32-8c2bb9711ac8>, line no: 60\n",
      "**Done loading 2000 ms**\n",
      "Got start_array with 18487 trials!\n",
      "done making binned start_array with shape:\n"
     ]
    },
    {
     "data": {
      "text/plain": [
       "(18487, 36)"
      ]
     },
     "execution_count": 32,
     "metadata": {},
     "output_type": "execute_result"
    },
    {
     "data": {
      "text/plain": [
       "(18487, 2000)"
      ]
     },
     "execution_count": 32,
     "metadata": {},
     "output_type": "execute_result"
    },
    {
     "name": "stdout",
     "output_type": "stream",
     "text": [
      "done binning start_arrays\n"
     ]
    },
    {
     "data": {
      "text/plain": [
       "(18487, 36)"
      ]
     },
     "execution_count": 32,
     "metadata": {},
     "output_type": "execute_result"
    },
    {
     "name": "stdout",
     "output_type": "stream",
     "text": [
      "2020-10-14_14-47-15: DF Exception: Sub: R1044J, Sess: 0, FileNotFoundError, [Errno 2] No such file or directory: '/scratch/john/SWR_scratch/SOLONOCOMPOUND2100/SWR_FR1_R1044J_0_HPC_surrounding_recallSOLONOCOMPOUND2100_soz_in.p', file: <ipython-input-32-8c2bb9711ac8>, line no: 60\n",
      "2020-10-14_14-47-20: DF Exception: Sub: R1147P, Sess: 0, FileNotFoundError, [Errno 2] No such file or directory: '/scratch/john/SWR_scratch/SOLONOCOMPOUND2100/SWR_FR1_R1147P_0_HPC_surrounding_recallSOLONOCOMPOUND2100_soz_in.p', file: <ipython-input-32-8c2bb9711ac8>, line no: 60\n",
      "2020-10-14_14-47-24: DF Exception: Sub: R1243T, Sess: 3, FileNotFoundError, [Errno 2] No such file or directory: '/scratch/john/SWR_scratch/SOLONOCOMPOUND2100/SWR_FR1_R1243T_3_HPC_surrounding_recallSOLONOCOMPOUND2100_soz_in.p', file: <ipython-input-32-8c2bb9711ac8>, line no: 60\n",
      "2020-10-14_14-47-29: DF Exception: Sub: R1342M, Sess: 1, FileNotFoundError, [Errno 2] No such file or directory: '/scratch/john/SWR_scratch/SOLONOCOMPOUND2100/SWR_FR1_R1342M_1_HPC_surrounding_recallSOLONOCOMPOUND2100_soz_in.p', file: <ipython-input-32-8c2bb9711ac8>, line no: 60\n",
      "**Done loading 2100 ms**\n",
      "Got start_array with 18155 trials!\n",
      "done making binned start_array with shape:\n"
     ]
    },
    {
     "data": {
      "text/plain": [
       "(18155, 36)"
      ]
     },
     "execution_count": 32,
     "metadata": {},
     "output_type": "execute_result"
    },
    {
     "data": {
      "text/plain": [
       "(18155, 2000)"
      ]
     },
     "execution_count": 32,
     "metadata": {},
     "output_type": "execute_result"
    },
    {
     "name": "stdout",
     "output_type": "stream",
     "text": [
      "done binning start_arrays\n"
     ]
    },
    {
     "data": {
      "text/plain": [
       "(18155, 36)"
      ]
     },
     "execution_count": 32,
     "metadata": {},
     "output_type": "execute_result"
    },
    {
     "name": "stdout",
     "output_type": "stream",
     "text": [
      "2020-10-14_14-51-03: DF Exception: Sub: R1044J, Sess: 0, FileNotFoundError, [Errno 2] No such file or directory: '/scratch/john/SWR_scratch/SOLONOCOMPOUND2200/SWR_FR1_R1044J_0_HPC_surrounding_recallSOLONOCOMPOUND2200_soz_in.p', file: <ipython-input-32-8c2bb9711ac8>, line no: 60\n",
      "2020-10-14_14-51-09: DF Exception: Sub: R1147P, Sess: 0, FileNotFoundError, [Errno 2] No such file or directory: '/scratch/john/SWR_scratch/SOLONOCOMPOUND2200/SWR_FR1_R1147P_0_HPC_surrounding_recallSOLONOCOMPOUND2200_soz_in.p', file: <ipython-input-32-8c2bb9711ac8>, line no: 60\n",
      "2020-10-14_14-51-13: DF Exception: Sub: R1243T, Sess: 3, FileNotFoundError, [Errno 2] No such file or directory: '/scratch/john/SWR_scratch/SOLONOCOMPOUND2200/SWR_FR1_R1243T_3_HPC_surrounding_recallSOLONOCOMPOUND2200_soz_in.p', file: <ipython-input-32-8c2bb9711ac8>, line no: 60\n",
      "2020-10-14_14-51-17: DF Exception: Sub: R1342M, Sess: 1, FileNotFoundError, [Errno 2] No such file or directory: '/scratch/john/SWR_scratch/SOLONOCOMPOUND2200/SWR_FR1_R1342M_1_HPC_surrounding_recallSOLONOCOMPOUND2200_soz_in.p', file: <ipython-input-32-8c2bb9711ac8>, line no: 60\n",
      "**Done loading 2200 ms**\n",
      "Got start_array with 17720 trials!\n",
      "done making binned start_array with shape:\n"
     ]
    },
    {
     "data": {
      "text/plain": [
       "(17720, 36)"
      ]
     },
     "execution_count": 32,
     "metadata": {},
     "output_type": "execute_result"
    },
    {
     "data": {
      "text/plain": [
       "(17720, 2000)"
      ]
     },
     "execution_count": 32,
     "metadata": {},
     "output_type": "execute_result"
    },
    {
     "name": "stdout",
     "output_type": "stream",
     "text": [
      "done binning start_arrays\n"
     ]
    },
    {
     "data": {
      "text/plain": [
       "(17720, 36)"
      ]
     },
     "execution_count": 32,
     "metadata": {},
     "output_type": "execute_result"
    },
    {
     "name": "stdout",
     "output_type": "stream",
     "text": [
      "2020-10-14_14-53-42: DF Exception: Sub: R1044J, Sess: 0, FileNotFoundError, [Errno 2] No such file or directory: '/scratch/john/SWR_scratch/SOLONOCOMPOUND2300/SWR_FR1_R1044J_0_HPC_surrounding_recallSOLONOCOMPOUND2300_soz_in.p', file: <ipython-input-32-8c2bb9711ac8>, line no: 60\n",
      "2020-10-14_14-53-45: DF Exception: Sub: R1147P, Sess: 0, FileNotFoundError, [Errno 2] No such file or directory: '/scratch/john/SWR_scratch/SOLONOCOMPOUND2300/SWR_FR1_R1147P_0_HPC_surrounding_recallSOLONOCOMPOUND2300_soz_in.p', file: <ipython-input-32-8c2bb9711ac8>, line no: 60\n",
      "2020-10-14_14-53-47: DF Exception: Sub: R1243T, Sess: 3, FileNotFoundError, [Errno 2] No such file or directory: '/scratch/john/SWR_scratch/SOLONOCOMPOUND2300/SWR_FR1_R1243T_3_HPC_surrounding_recallSOLONOCOMPOUND2300_soz_in.p', file: <ipython-input-32-8c2bb9711ac8>, line no: 60\n",
      "2020-10-14_14-53-49: DF Exception: Sub: R1342M, Sess: 1, FileNotFoundError, [Errno 2] No such file or directory: '/scratch/john/SWR_scratch/SOLONOCOMPOUND2300/SWR_FR1_R1342M_1_HPC_surrounding_recallSOLONOCOMPOUND2300_soz_in.p', file: <ipython-input-32-8c2bb9711ac8>, line no: 60\n",
      "**Done loading 2300 ms**\n",
      "Got start_array with 17283 trials!\n",
      "done making binned start_array with shape:\n"
     ]
    },
    {
     "data": {
      "text/plain": [
       "(17283, 36)"
      ]
     },
     "execution_count": 32,
     "metadata": {},
     "output_type": "execute_result"
    },
    {
     "data": {
      "text/plain": [
       "(17283, 2000)"
      ]
     },
     "execution_count": 32,
     "metadata": {},
     "output_type": "execute_result"
    },
    {
     "name": "stdout",
     "output_type": "stream",
     "text": [
      "done binning start_arrays\n"
     ]
    },
    {
     "data": {
      "text/plain": [
       "(17283, 36)"
      ]
     },
     "execution_count": 32,
     "metadata": {},
     "output_type": "execute_result"
    },
    {
     "name": "stdout",
     "output_type": "stream",
     "text": [
      "2020-10-14_14-54-23: DF Exception: Sub: R1044J, Sess: 0, FileNotFoundError, [Errno 2] No such file or directory: '/scratch/john/SWR_scratch/SOLONOCOMPOUND2400/SWR_FR1_R1044J_0_HPC_surrounding_recallSOLONOCOMPOUND2400_soz_in.p', file: <ipython-input-32-8c2bb9711ac8>, line no: 60\n",
      "2020-10-14_14-54-26: DF Exception: Sub: R1147P, Sess: 0, FileNotFoundError, [Errno 2] No such file or directory: '/scratch/john/SWR_scratch/SOLONOCOMPOUND2400/SWR_FR1_R1147P_0_HPC_surrounding_recallSOLONOCOMPOUND2400_soz_in.p', file: <ipython-input-32-8c2bb9711ac8>, line no: 60\n",
      "2020-10-14_14-54-28: DF Exception: Sub: R1243T, Sess: 3, FileNotFoundError, [Errno 2] No such file or directory: '/scratch/john/SWR_scratch/SOLONOCOMPOUND2400/SWR_FR1_R1243T_3_HPC_surrounding_recallSOLONOCOMPOUND2400_soz_in.p', file: <ipython-input-32-8c2bb9711ac8>, line no: 60\n",
      "2020-10-14_14-54-31: DF Exception: Sub: R1342M, Sess: 1, FileNotFoundError, [Errno 2] No such file or directory: '/scratch/john/SWR_scratch/SOLONOCOMPOUND2400/SWR_FR1_R1342M_1_HPC_surrounding_recallSOLONOCOMPOUND2400_soz_in.p', file: <ipython-input-32-8c2bb9711ac8>, line no: 60\n",
      "**Done loading 2400 ms**\n",
      "Got start_array with 16805 trials!\n",
      "done making binned start_array with shape:\n"
     ]
    },
    {
     "data": {
      "text/plain": [
       "(16805, 36)"
      ]
     },
     "execution_count": 32,
     "metadata": {},
     "output_type": "execute_result"
    },
    {
     "data": {
      "text/plain": [
       "(16805, 2000)"
      ]
     },
     "execution_count": 32,
     "metadata": {},
     "output_type": "execute_result"
    },
    {
     "name": "stdout",
     "output_type": "stream",
     "text": [
      "done binning start_arrays\n"
     ]
    },
    {
     "data": {
      "text/plain": [
       "(16805, 36)"
      ]
     },
     "execution_count": 32,
     "metadata": {},
     "output_type": "execute_result"
    },
    {
     "name": "stdout",
     "output_type": "stream",
     "text": [
      "2020-10-14_14-55-04: DF Exception: Sub: R1044J, Sess: 0, FileNotFoundError, [Errno 2] No such file or directory: '/scratch/john/SWR_scratch/SOLONOCOMPOUND2500/SWR_FR1_R1044J_0_HPC_surrounding_recallSOLONOCOMPOUND2500_soz_in.p', file: <ipython-input-32-8c2bb9711ac8>, line no: 60\n",
      "2020-10-14_14-55-07: DF Exception: Sub: R1147P, Sess: 0, FileNotFoundError, [Errno 2] No such file or directory: '/scratch/john/SWR_scratch/SOLONOCOMPOUND2500/SWR_FR1_R1147P_0_HPC_surrounding_recallSOLONOCOMPOUND2500_soz_in.p', file: <ipython-input-32-8c2bb9711ac8>, line no: 60\n",
      "2020-10-14_14-55-09: DF Exception: Sub: R1243T, Sess: 3, FileNotFoundError, [Errno 2] No such file or directory: '/scratch/john/SWR_scratch/SOLONOCOMPOUND2500/SWR_FR1_R1243T_3_HPC_surrounding_recallSOLONOCOMPOUND2500_soz_in.p', file: <ipython-input-32-8c2bb9711ac8>, line no: 60\n",
      "2020-10-14_14-55-09: DF Exception: Sub: R1297T, Sess: 1, FileNotFoundError, [Errno 2] No such file or directory: '/scratch/john/SWR_scratch/SOLONOCOMPOUND2500/SWR_FR1_R1297T_1_HPC_surrounding_recallSOLONOCOMPOUND2500_soz_in.p', file: <ipython-input-32-8c2bb9711ac8>, line no: 60\n",
      "2020-10-14_14-55-11: DF Exception: Sub: R1342M, Sess: 1, FileNotFoundError, [Errno 2] No such file or directory: '/scratch/john/SWR_scratch/SOLONOCOMPOUND2500/SWR_FR1_R1342M_1_HPC_surrounding_recallSOLONOCOMPOUND2500_soz_in.p', file: <ipython-input-32-8c2bb9711ac8>, line no: 60\n",
      "**Done loading 2500 ms**\n",
      "Got start_array with 16300 trials!\n",
      "done making binned start_array with shape:\n"
     ]
    },
    {
     "data": {
      "text/plain": [
       "(16300, 36)"
      ]
     },
     "execution_count": 32,
     "metadata": {},
     "output_type": "execute_result"
    },
    {
     "data": {
      "text/plain": [
       "(16300, 2000)"
      ]
     },
     "execution_count": 32,
     "metadata": {},
     "output_type": "execute_result"
    },
    {
     "name": "stdout",
     "output_type": "stream",
     "text": [
      "done binning start_arrays\n"
     ]
    },
    {
     "data": {
      "text/plain": [
       "(16300, 36)"
      ]
     },
     "execution_count": 32,
     "metadata": {},
     "output_type": "execute_result"
    },
    {
     "name": "stdout",
     "output_type": "stream",
     "text": [
      "2020-10-14_14-55-43: DF Exception: Sub: R1044J, Sess: 0, FileNotFoundError, [Errno 2] No such file or directory: '/scratch/john/SWR_scratch/SOLONOCOMPOUND2600/SWR_FR1_R1044J_0_HPC_surrounding_recallSOLONOCOMPOUND2600_soz_in.p', file: <ipython-input-32-8c2bb9711ac8>, line no: 60\n",
      "2020-10-14_14-55-46: DF Exception: Sub: R1147P, Sess: 0, FileNotFoundError, [Errno 2] No such file or directory: '/scratch/john/SWR_scratch/SOLONOCOMPOUND2600/SWR_FR1_R1147P_0_HPC_surrounding_recallSOLONOCOMPOUND2600_soz_in.p', file: <ipython-input-32-8c2bb9711ac8>, line no: 60\n",
      "2020-10-14_14-55-48: DF Exception: Sub: R1243T, Sess: 3, FileNotFoundError, [Errno 2] No such file or directory: '/scratch/john/SWR_scratch/SOLONOCOMPOUND2600/SWR_FR1_R1243T_3_HPC_surrounding_recallSOLONOCOMPOUND2600_soz_in.p', file: <ipython-input-32-8c2bb9711ac8>, line no: 60\n",
      "2020-10-14_14-55-48: DF Exception: Sub: R1297T, Sess: 1, FileNotFoundError, [Errno 2] No such file or directory: '/scratch/john/SWR_scratch/SOLONOCOMPOUND2600/SWR_FR1_R1297T_1_HPC_surrounding_recallSOLONOCOMPOUND2600_soz_in.p', file: <ipython-input-32-8c2bb9711ac8>, line no: 60\n",
      "2020-10-14_14-55-49: DF Exception: Sub: R1342M, Sess: 1, FileNotFoundError, [Errno 2] No such file or directory: '/scratch/john/SWR_scratch/SOLONOCOMPOUND2600/SWR_FR1_R1342M_1_HPC_surrounding_recallSOLONOCOMPOUND2600_soz_in.p', file: <ipython-input-32-8c2bb9711ac8>, line no: 60\n",
      "**Done loading 2600 ms**\n",
      "Got start_array with 15868 trials!\n",
      "done making binned start_array with shape:\n"
     ]
    },
    {
     "data": {
      "text/plain": [
       "(15868, 36)"
      ]
     },
     "execution_count": 32,
     "metadata": {},
     "output_type": "execute_result"
    },
    {
     "data": {
      "text/plain": [
       "(15868, 2000)"
      ]
     },
     "execution_count": 32,
     "metadata": {},
     "output_type": "execute_result"
    },
    {
     "name": "stdout",
     "output_type": "stream",
     "text": [
      "done binning start_arrays\n"
     ]
    },
    {
     "data": {
      "text/plain": [
       "(15868, 36)"
      ]
     },
     "execution_count": 32,
     "metadata": {},
     "output_type": "execute_result"
    },
    {
     "name": "stdout",
     "output_type": "stream",
     "text": [
      "2020-10-14_14-56-21: DF Exception: Sub: R1044J, Sess: 0, FileNotFoundError, [Errno 2] No such file or directory: '/scratch/john/SWR_scratch/SOLONOCOMPOUND2700/SWR_FR1_R1044J_0_HPC_surrounding_recallSOLONOCOMPOUND2700_soz_in.p', file: <ipython-input-32-8c2bb9711ac8>, line no: 60\n",
      "2020-10-14_14-56-23: DF Exception: Sub: R1147P, Sess: 0, FileNotFoundError, [Errno 2] No such file or directory: '/scratch/john/SWR_scratch/SOLONOCOMPOUND2700/SWR_FR1_R1147P_0_HPC_surrounding_recallSOLONOCOMPOUND2700_soz_in.p', file: <ipython-input-32-8c2bb9711ac8>, line no: 60\n",
      "2020-10-14_14-56-25: DF Exception: Sub: R1243T, Sess: 3, FileNotFoundError, [Errno 2] No such file or directory: '/scratch/john/SWR_scratch/SOLONOCOMPOUND2700/SWR_FR1_R1243T_3_HPC_surrounding_recallSOLONOCOMPOUND2700_soz_in.p', file: <ipython-input-32-8c2bb9711ac8>, line no: 60\n",
      "2020-10-14_14-56-26: DF Exception: Sub: R1297T, Sess: 1, FileNotFoundError, [Errno 2] No such file or directory: '/scratch/john/SWR_scratch/SOLONOCOMPOUND2700/SWR_FR1_R1297T_1_HPC_surrounding_recallSOLONOCOMPOUND2700_soz_in.p', file: <ipython-input-32-8c2bb9711ac8>, line no: 60\n",
      "2020-10-14_14-56-27: DF Exception: Sub: R1342M, Sess: 1, FileNotFoundError, [Errno 2] No such file or directory: '/scratch/john/SWR_scratch/SOLONOCOMPOUND2700/SWR_FR1_R1342M_1_HPC_surrounding_recallSOLONOCOMPOUND2700_soz_in.p', file: <ipython-input-32-8c2bb9711ac8>, line no: 60\n",
      "**Done loading 2700 ms**\n",
      "Got start_array with 15523 trials!\n",
      "done making binned start_array with shape:\n"
     ]
    },
    {
     "data": {
      "text/plain": [
       "(15523, 36)"
      ]
     },
     "execution_count": 32,
     "metadata": {},
     "output_type": "execute_result"
    },
    {
     "data": {
      "text/plain": [
       "(15523, 2000)"
      ]
     },
     "execution_count": 32,
     "metadata": {},
     "output_type": "execute_result"
    },
    {
     "name": "stdout",
     "output_type": "stream",
     "text": [
      "done binning start_arrays\n"
     ]
    },
    {
     "data": {
      "text/plain": [
       "(15523, 36)"
      ]
     },
     "execution_count": 32,
     "metadata": {},
     "output_type": "execute_result"
    },
    {
     "name": "stdout",
     "output_type": "stream",
     "text": [
      "2020-10-14_14-56-59: DF Exception: Sub: R1044J, Sess: 0, FileNotFoundError, [Errno 2] No such file or directory: '/scratch/john/SWR_scratch/SOLONOCOMPOUND2800/SWR_FR1_R1044J_0_HPC_surrounding_recallSOLONOCOMPOUND2800_soz_in.p', file: <ipython-input-32-8c2bb9711ac8>, line no: 60\n",
      "2020-10-14_14-57-01: DF Exception: Sub: R1147P, Sess: 0, FileNotFoundError, [Errno 2] No such file or directory: '/scratch/john/SWR_scratch/SOLONOCOMPOUND2800/SWR_FR1_R1147P_0_HPC_surrounding_recallSOLONOCOMPOUND2800_soz_in.p', file: <ipython-input-32-8c2bb9711ac8>, line no: 60\n",
      "2020-10-14_14-57-03: DF Exception: Sub: R1243T, Sess: 3, FileNotFoundError, [Errno 2] No such file or directory: '/scratch/john/SWR_scratch/SOLONOCOMPOUND2800/SWR_FR1_R1243T_3_HPC_surrounding_recallSOLONOCOMPOUND2800_soz_in.p', file: <ipython-input-32-8c2bb9711ac8>, line no: 60\n",
      "2020-10-14_14-57-04: DF Exception: Sub: R1297T, Sess: 1, FileNotFoundError, [Errno 2] No such file or directory: '/scratch/john/SWR_scratch/SOLONOCOMPOUND2800/SWR_FR1_R1297T_1_HPC_surrounding_recallSOLONOCOMPOUND2800_soz_in.p', file: <ipython-input-32-8c2bb9711ac8>, line no: 60\n",
      "2020-10-14_14-57-05: DF Exception: Sub: R1342M, Sess: 1, FileNotFoundError, [Errno 2] No such file or directory: '/scratch/john/SWR_scratch/SOLONOCOMPOUND2800/SWR_FR1_R1342M_1_HPC_surrounding_recallSOLONOCOMPOUND2800_soz_in.p', file: <ipython-input-32-8c2bb9711ac8>, line no: 60\n",
      "**Done loading 2800 ms**\n",
      "Got start_array with 15280 trials!\n",
      "done making binned start_array with shape:\n"
     ]
    },
    {
     "data": {
      "text/plain": [
       "(15280, 36)"
      ]
     },
     "execution_count": 32,
     "metadata": {},
     "output_type": "execute_result"
    },
    {
     "data": {
      "text/plain": [
       "(15280, 2000)"
      ]
     },
     "execution_count": 32,
     "metadata": {},
     "output_type": "execute_result"
    },
    {
     "name": "stdout",
     "output_type": "stream",
     "text": [
      "done binning start_arrays\n"
     ]
    },
    {
     "data": {
      "text/plain": [
       "(15280, 36)"
      ]
     },
     "execution_count": 32,
     "metadata": {},
     "output_type": "execute_result"
    },
    {
     "name": "stdout",
     "output_type": "stream",
     "text": [
      "2020-10-14_14-57-35: DF Exception: Sub: R1044J, Sess: 0, FileNotFoundError, [Errno 2] No such file or directory: '/scratch/john/SWR_scratch/SOLONOCOMPOUND2900/SWR_FR1_R1044J_0_HPC_surrounding_recallSOLONOCOMPOUND2900_soz_in.p', file: <ipython-input-32-8c2bb9711ac8>, line no: 60\n",
      "2020-10-14_14-57-38: DF Exception: Sub: R1147P, Sess: 0, FileNotFoundError, [Errno 2] No such file or directory: '/scratch/john/SWR_scratch/SOLONOCOMPOUND2900/SWR_FR1_R1147P_0_HPC_surrounding_recallSOLONOCOMPOUND2900_soz_in.p', file: <ipython-input-32-8c2bb9711ac8>, line no: 60\n",
      "2020-10-14_14-57-39: DF Exception: Sub: R1243T, Sess: 3, FileNotFoundError, [Errno 2] No such file or directory: '/scratch/john/SWR_scratch/SOLONOCOMPOUND2900/SWR_FR1_R1243T_3_HPC_surrounding_recallSOLONOCOMPOUND2900_soz_in.p', file: <ipython-input-32-8c2bb9711ac8>, line no: 60\n",
      "2020-10-14_14-57-41: DF Exception: Sub: R1342M, Sess: 1, FileNotFoundError, [Errno 2] No such file or directory: '/scratch/john/SWR_scratch/SOLONOCOMPOUND2900/SWR_FR1_R1342M_1_HPC_surrounding_recallSOLONOCOMPOUND2900_soz_in.p', file: <ipython-input-32-8c2bb9711ac8>, line no: 60\n",
      "**Done loading 2900 ms**\n",
      "Got start_array with 15085 trials!\n",
      "done making binned start_array with shape:\n"
     ]
    },
    {
     "data": {
      "text/plain": [
       "(15085, 36)"
      ]
     },
     "execution_count": 32,
     "metadata": {},
     "output_type": "execute_result"
    },
    {
     "data": {
      "text/plain": [
       "(15085, 2000)"
      ]
     },
     "execution_count": 32,
     "metadata": {},
     "output_type": "execute_result"
    },
    {
     "name": "stdout",
     "output_type": "stream",
     "text": [
      "done binning start_arrays\n"
     ]
    },
    {
     "data": {
      "text/plain": [
       "(15085, 36)"
      ]
     },
     "execution_count": 32,
     "metadata": {},
     "output_type": "execute_result"
    },
    {
     "name": "stdout",
     "output_type": "stream",
     "text": [
      "2020-10-14_14-58-12: DF Exception: Sub: R1044J, Sess: 0, FileNotFoundError, [Errno 2] No such file or directory: '/scratch/john/SWR_scratch/SOLONOCOMPOUND3000/SWR_FR1_R1044J_0_HPC_surrounding_recallSOLONOCOMPOUND3000_soz_in.p', file: <ipython-input-32-8c2bb9711ac8>, line no: 60\n",
      "2020-10-14_14-58-15: DF Exception: Sub: R1147P, Sess: 0, FileNotFoundError, [Errno 2] No such file or directory: '/scratch/john/SWR_scratch/SOLONOCOMPOUND3000/SWR_FR1_R1147P_0_HPC_surrounding_recallSOLONOCOMPOUND3000_soz_in.p', file: <ipython-input-32-8c2bb9711ac8>, line no: 60\n",
      "2020-10-14_14-58-16: DF Exception: Sub: R1243T, Sess: 3, FileNotFoundError, [Errno 2] No such file or directory: '/scratch/john/SWR_scratch/SOLONOCOMPOUND3000/SWR_FR1_R1243T_3_HPC_surrounding_recallSOLONOCOMPOUND3000_soz_in.p', file: <ipython-input-32-8c2bb9711ac8>, line no: 60\n",
      "2020-10-14_14-58-18: DF Exception: Sub: R1342M, Sess: 1, FileNotFoundError, [Errno 2] No such file or directory: '/scratch/john/SWR_scratch/SOLONOCOMPOUND3000/SWR_FR1_R1342M_1_HPC_surrounding_recallSOLONOCOMPOUND3000_soz_in.p', file: <ipython-input-32-8c2bb9711ac8>, line no: 60\n",
      "**Done loading 3000 ms**\n",
      "Got start_array with 14856 trials!\n",
      "done making binned start_array with shape:\n"
     ]
    },
    {
     "data": {
      "text/plain": [
       "(14856, 36)"
      ]
     },
     "execution_count": 32,
     "metadata": {},
     "output_type": "execute_result"
    },
    {
     "data": {
      "text/plain": [
       "(14856, 2000)"
      ]
     },
     "execution_count": 32,
     "metadata": {},
     "output_type": "execute_result"
    },
    {
     "name": "stdout",
     "output_type": "stream",
     "text": [
      "done binning start_arrays\n"
     ]
    },
    {
     "data": {
      "text/plain": [
       "(14856, 36)"
      ]
     },
     "execution_count": 32,
     "metadata": {},
     "output_type": "execute_result"
    }
   ],
   "source": [
    "## Now to load data from cluster, have to go through and append across sessions\n",
    "\n",
    "### params that clusterRun used (note that exp is defined in first cell so can get exp_df above)\n",
    "selected_period = 'surrounding_recall' # surrounding_recall # whole_retrieval # encoding \n",
    "region_name = 'HPC' #'ENT' #'HPC' #HPC_ENT #ENT #HPC # PHC \n",
    "remove_soz_ictal = False\n",
    "recall_type_switch = 3 # for the og 2000 IRI\n",
    "\n",
    "# Instead of loading by recall_type now...just load across this range of IRI values I use to label the folders:\n",
    "IRI_values_ran = np.arange(800,3100,100) #[1000,1250,1500,1750,2000,2250,2500]\n",
    "###\n",
    "\n",
    "# get strings for path name for save and loading cluster data\n",
    "soz_label,recall_selection_name,subfolder = getSWRpathInfo(remove_soz_ictal,recall_type_switch,selected_period)\n",
    "\n",
    "# Makes most sense to take half the subjects \n",
    "if exp == 'FR1':\n",
    "    np.random.seed(44462) # seed 44462 gives 25,845 of 60,417 recall trials (42.8%). Or 57/167 (34.1% of subs)\n",
    "    from SWRmodule import total_sub_names_FR1 # all the unique sub names for FR1 task in df\n",
    "    total_sub_names = copy(total_sub_names_FR1)\n",
    "    proportion_subs = 0.5 # it's really 0.5 of initial pre-localization.pairs subs. So comes out to numbers above. And what we want to match for catFR1\n",
    "elif exp == 'catFR1':\n",
    "    np.random.seed(44455) # seed 44455 gives 20,393 of 50,053 recall trials (40.7%). Or 47/136 (34.6% of subs)\n",
    "    from SWRmodule import total_sub_names_catFR1 # all the unique sub names for FR1 task in df\n",
    "    total_sub_names = copy(total_sub_names_catFR1)\n",
    "    proportion_subs = 0.35 # 0.5\n",
    "random_half_sub_names = np.random.permutation(np.unique(total_sub_names))[:int(np.floor(len(np.unique(total_sub_names))*proportion_subs))]\n",
    "random_half_sub_names[:10] # just to see them\n",
    "random_half_sub_names[-10:]\n",
    "half_sub_idxs = np.array(findAinB(random_half_sub_names,exp_df.subject))\n",
    "half_df = exp_df.iloc[half_sub_idxs]\n",
    "\n",
    "\n",
    "tvalue_save = []\n",
    "stderr_save = []\n",
    "pvalue_save = []\n",
    "total_trials_save = []\n",
    "\n",
    "for IRI in IRI_values_ran:  \n",
    "    \n",
    "    ripple_array = []; \n",
    "    trial_nums = []; encoded_word_key_array = []; serialpos_array = []\n",
    "    HPC_names = []; sub_sess_names = []\n",
    "    region_electrode_ct = []; sub_names = []\n",
    "    trial_by_trial_correlation = []; elec_ripple_rate_array = []\n",
    "    elec_by_elec_correlation = []; fr_array = []\n",
    "\n",
    "    ordinal_position_array = []; electrode_labels = []\n",
    "    channel_coords = []\n",
    "\n",
    "    for row in half_df.itertuples(): #sub_df.itertuples():  #half_df.itertuples(): ### DON'T CHANGE THIS TO EXP\n",
    "        try:\n",
    "            sub = row.subject; session = row.session; exp = row.experiment\n",
    "            \n",
    "            recall_selection_name = 'SOLONOCOMPOUND'+str(IRI)\n",
    "            path_name = '/scratch/john/SWR_scratch/'+recall_selection_name\n",
    "            fn = os.path.join(path_name,\n",
    "                'SWR_'+exp+'_'+sub+'_'+str(session)+'_'+region_name+'_'+selected_period+recall_selection_name+'_'+soz_label+'.p')                \n",
    "                \n",
    "            with open(fn,'rb') as f:\n",
    "                dat = pickle.load(f)\n",
    "\n",
    "    #             # load this first since it was last thing added, so old files won't keep going past this\n",
    "    #             if selected_period == 'surrounding_recall':\n",
    "    #                 if dat['ripple_array'].shape[0] != len(dat['ordinal_position_array']):\n",
    "    #                     print(sub+str(session))\n",
    "    #                 ordinal_position_array.extend(dat['ordinal_position_array'])\n",
    "\n",
    "                ripple_array = superVstack(ripple_array,dat['ripple_array']) \n",
    "                region_electrode_ct.append(dat['region_electrode_ct'])\n",
    "                encoded_word_key_array.extend(dat['encoded_word_key_array'])\n",
    "                HPC_names.extend(dat['HPC_names'])\n",
    "                sub_sess_names.extend(dat['sub_sess_names'])\n",
    "                sub_names.extend(dat['sub_names'])\n",
    "                trial_nums = np.append(trial_nums,dat['trial_nums'])\n",
    "                trial_by_trial_correlation.extend(dat['trial_by_trial_correlation']) # one value for each electrode for this session\n",
    "                elec_by_elec_correlation = np.append(elec_by_elec_correlation,dat['elec_by_elec_correlation'])\n",
    "                elec_ripple_rate_array.extend(dat['elec_ripple_rate_array']) # ripple rate by electrode so append\n",
    "                #,'total_recalls':total_recalls, 'kept_recalls':kept_recalls}, f)\n",
    "                if selected_period == 'whole_retrieval':\n",
    "                    if np.shape(dat['fr_array'])[0]!=np.shape(dat['ripple_array'])[0]:\n",
    "                        print(sub+str(session))\n",
    "                    fr_array = superVstack(fr_array,dat['fr_array'])\n",
    "                if selected_period == 'encoding':\n",
    "                    serialpos_array.extend(dat['serialpos_array'])\n",
    "                electrode_labels.extend(dat['electrode_labels'])\n",
    "                channel_coords.extend(dat['channel_coords'])\n",
    "                \n",
    "                \n",
    "        except Exception as e:\n",
    "            LogDFExceptionLine(row, e, 'ClusterLoadSWR_log.txt')\n",
    "            \n",
    "    print('**Done loading '+str(IRI)+' ms**')\n",
    "    \n",
    "    ### data loaded for this IRI. Now get the z-score for our key test ###\n",
    "\n",
    "    select_subfield = False   # note: if you already ran this once, have to load again from data\n",
    "                              # also this is only for HPC. So set to FALSE for ENT and PHC\n",
    "\n",
    "    # select for subfield if HPC\n",
    "    if select_subfield == True:\n",
    "        location_selected = 'dg' #['dg','ca1'] #'dg' # 'ca3' # 'dg' 'ca1' # sub \n",
    "            # left # right # left hippocampus # right hippocampus # hippocampus\n",
    "            # to see number of each: sum(np.array([names.find('sub') for names in HPC_names])>=0)\n",
    "    else:\n",
    "        location_selected = ''\n",
    "    desired_sample_rate = 500.\n",
    "    sr = desired_sample_rate # fixed at this value since this is the minimum across data and can always downsample\n",
    "    sr_factor = 1000/desired_sample_rate\n",
    "\n",
    "    start_array,end_array = getStartEndArrays(ripple_array) # get start array\n",
    "\n",
    "    subject_name_array,session_name_array,electrode_array,channel_coords_array = getSubSessPredictors(sub_names,sub_sess_names,\n",
    "                                                                                trial_nums,electrode_labels,channel_coords)\n",
    "\n",
    "    selected_recalls = np.ones(len(start_array),dtype=bool)\n",
    "\n",
    "    # get locations if selected\n",
    "\n",
    "    if select_subfield == True:\n",
    "        # create the full vector of location name predictors\n",
    "        location_names = []\n",
    "        for s in range(len(HPC_names)):\n",
    "            new_trials = int(trial_nums[s])\n",
    "            location_names.extend(np.tile(HPC_names[s],new_trials))  \n",
    "\n",
    "        # now can get mask of trials in this location\n",
    "\n",
    "        #first, if there are two locations to combine, sort that out (DG and CA1 in particular)\n",
    "        location_mask = np.zeros(len(location_names))\n",
    "        for s in range(len(location_names)):\n",
    "            if type(location_selected)==list:\n",
    "                if location_names[s].find(location_selected[0])>=0 or location_names[s].find(location_selected[1])>=0:\n",
    "                    location_mask[s] = True\n",
    "            elif type(location_selected)==str:\n",
    "                if location_names[s].find(location_selected)>=0:\n",
    "                    location_mask[s] = True\n",
    "    else:\n",
    "        location_mask = np.ones(len(start_array))\n",
    "\n",
    "    # combine location and sorted recalls to get new ripple array:\n",
    "    updated_recalls = (location_mask+selected_recalls)==2\n",
    "\n",
    "    # translate these predictors to vector and select recalls\n",
    "    start_array = start_array[updated_recalls]\n",
    "    subject_name_array = np.array(subject_name_array)[updated_recalls]\n",
    "    session_name_array = np.array(session_name_array)[updated_recalls]\n",
    "    electrode_array = np.array(electrode_array)[updated_recalls]\n",
    "    channel_coords_array = np.array(channel_coords_array)[updated_recalls]\n",
    "\n",
    "\n",
    "    print('Got start_array with '+str(start_array.shape[0])+' trials!')\n",
    "\n",
    "\n",
    "    # make a PSTH based on start times of SWRs\n",
    "    bin_size = 100 # in ms\n",
    "    smoothing_triangle = 5 # triangular smoothing window width\n",
    "    samples = 100\n",
    "    pad = int(np.floor(smoothing_triangle/2)) # factor is how many points from middle does triangle go?\n",
    "    psth_start = -2000\n",
    "    psth_end = 2000\n",
    "\n",
    "    PSTH,bin_centers = fullPSTH(start_array,bin_size,smoothing_triangle,sr,psth_start)\n",
    "    # bootstraps error bars by sampling from trials in raster with replacement samples number of\n",
    "    # times and then taking the standard deviation across those samples\n",
    "    # boot_samples = bootstrap(start_array, bootnum=samples, samples=None, # bootstrap error bars using resampling\n",
    "    #                bootfunc=lambda x: bootPSTH(x,binsize,smoothing_triangle,sr,psth_start))\n",
    "    # boot_SD = np.std(boot_samples,0)\n",
    "\n",
    "    # get binned start array (trials X bins)\n",
    "    binned_start_array = binBinaryArray(start_array,bin_size,sr_factor)\n",
    "    if pad > 0:\n",
    "        binned_start_array = binned_start_array[:,pad:-pad] # remove edge bins\n",
    "    print('done making binned start_array with shape:')\n",
    "    binned_start_array.shape\n",
    "\n",
    "    # # get trial X 1 categorical names for subjects and sessions # do this in start_array cell now\n",
    "    # if select_ordinal_position == 0: # if 0 already did this in last cell\n",
    "    #     subject_name_array,session_name_array = getSubSessPredictors(sub_names,sub_sess_names,trial_nums)\n",
    "\n",
    "    # let's measure significance at two key 500 ms bins (and compare to similar bin 500 ms earlier/later)\n",
    "    stats_bin = 500 # time bin width in ms to test stats on\n",
    "\n",
    "    first_start = -1600 # going to make sequence of 3 bins and test 1st v. 3rd\n",
    "    first_end = -100\n",
    "    second_start = 200 # same idea\n",
    "    second_end = 1700\n",
    "\n",
    "    start_array.shape\n",
    "    binned_first_stats_array = start_array[:,int((first_start-psth_start)/sr_factor):int((first_end-psth_start)/sr_factor)]\n",
    "    binned_second_stats_array = start_array[:,int((second_start-psth_start)/sr_factor):int((second_end-psth_start)/sr_factor)]\n",
    "    binned_first_stats_array = binBinaryArray(binned_first_stats_array,stats_bin,sr_factor)\n",
    "    binned_second_stats_array = binBinaryArray(binned_second_stats_array,stats_bin,sr_factor)\n",
    "    print('done binning start_arrays'); binned_start_array.shape\n",
    "\n",
    "    bin_model1 = MEstatsAcrossBins(binned_first_stats_array[:,[0,2]],subject_name_array,session_name_array)\n",
    "#                 bin_model2 = MEstatsAcrossBins(binned_second_stats_array[:,[0,2]],subject_name_array,session_name_array)\n",
    "    tvalue_save.append(bin_model1.params[1])\n",
    "    stderr_save.append(bin_model1.bse[1])\n",
    "    pvalue_save.append(bin_model1.pvalues[1])\n",
    "    total_trials_save.append(len(binned_start_array))\n"
   ]
  },
  {
   "cell_type": "code",
   "execution_count": 33,
   "metadata": {},
   "outputs": [
    {
     "data": {
      "text/plain": [
       "[0.07935595169637724,\n",
       " 0.08128405242232364,\n",
       " 0.08408836404357123,\n",
       " 0.08726094680739889,\n",
       " 0.08752096067506909,\n",
       " 0.08934177912420811,\n",
       " 0.09142212189616244,\n",
       " 0.09165075507724345,\n",
       " 0.09163939303778651,\n",
       " 0.08957055214723923,\n",
       " 0.09037055709604243,\n",
       " 0.08928686465245123,\n",
       " 0.09123036649214655,\n",
       " 0.09373549883990716,\n",
       " 0.09437264404954218]"
      ]
     },
     "execution_count": 33,
     "metadata": {},
     "output_type": "execute_result"
    },
    {
     "data": {
      "text/plain": [
       "[0.009134122500838102,\n",
       " 0.009250829038329139,\n",
       " 0.009399800996388095,\n",
       " 0.009548433305655316,\n",
       " 0.00970518243778653,\n",
       " 0.009768082855823063,\n",
       " 0.009903164496342341,\n",
       " 0.010009745378299378,\n",
       " 0.010186849049486215,\n",
       " 0.01032457434299698,\n",
       " 0.010470594995218886,\n",
       " 0.01056975007166834,\n",
       " 0.010660660120660989,\n",
       " 0.01073015944262625,\n",
       " 0.010794619262986953]"
      ]
     },
     "execution_count": 33,
     "metadata": {},
     "output_type": "execute_result"
    }
   ],
   "source": [
    "tvalue_save\n",
    "stderr_save"
   ]
  },
  {
   "cell_type": "code",
   "execution_count": 36,
   "metadata": {},
   "outputs": [
    {
     "data": {
      "text/plain": [
       "([<matplotlib.axis.XTick at 0x2b0740b6d3d0>,\n",
       "  <matplotlib.axis.XTick at 0x2b073f7a01d0>,\n",
       "  <matplotlib.axis.XTick at 0x2b073f7a0690>,\n",
       "  <matplotlib.axis.XTick at 0x2b0740e4e710>,\n",
       "  <matplotlib.axis.XTick at 0x2b0740e4ecd0>,\n",
       "  <matplotlib.axis.XTick at 0x2b073fc04350>,\n",
       "  <matplotlib.axis.XTick at 0x2b073fc049d0>,\n",
       "  <matplotlib.axis.XTick at 0x2b073fc045d0>,\n",
       "  <matplotlib.axis.XTick at 0x2b073fc044d0>,\n",
       "  <matplotlib.axis.XTick at 0x2b073fbed550>,\n",
       "  <matplotlib.axis.XTick at 0x2b073fbedb50>,\n",
       "  <matplotlib.axis.XTick at 0x2b07407a7250>,\n",
       "  <matplotlib.axis.XTick at 0x2b07407a7810>,\n",
       "  <matplotlib.axis.XTick at 0x2b07407a7e50>,\n",
       "  <matplotlib.axis.XTick at 0x2b06e7f704d0>],\n",
       " <a list of 15 Text xticklabel objects>)"
      ]
     },
     "execution_count": 36,
     "metadata": {},
     "output_type": "execute_result"
    },
    {
     "data": {
      "text/plain": [
       "(0, 0.11)"
      ]
     },
     "execution_count": 36,
     "metadata": {},
     "output_type": "execute_result"
    },
    {
     "data": {
      "text/plain": [
       "Text(0.5, 0, 'Minimum inter-recall interval (ms)')"
      ]
     },
     "execution_count": 36,
     "metadata": {},
     "output_type": "execute_result"
    },
    {
     "data": {
      "text/plain": [
       "Text(0, 0.5, 'Coef. of model assessing pre-recall SWR rise ± SE')"
      ]
     },
     "execution_count": 36,
     "metadata": {},
     "output_type": "execute_result"
    },
    {
     "data": {
      "text/plain": [
       "Text(0.5, 1.0, 'Pre-recall SWR bump compared to minimum IRI for recalls')"
      ]
     },
     "execution_count": 36,
     "metadata": {},
     "output_type": "execute_result"
    },
    {
     "data": {
      "image/png": "[encoded data removed]",
      "text/plain": [
       "<Figure size 432x432 with 1 Axes>"
      ]
     },
     "metadata": {
      "needs_background": "light"
     },
     "output_type": "display_data"
    }
   ],
   "source": [
    "# and the first axes using subplot populated with data \n",
    "fig1 = subplots(1,1,figsize=(6,6))\n",
    "ax = plt.gca()\n",
    "\n",
    "xr=np.arange(1,len(tvalue_save)+1)\n",
    "line1 = errorbar(xr,tvalue_save,stderr_save)\n",
    "\n",
    "xticks(xr,IRI_values_ran,rotation=60)\n",
    "ax.set_ylim(0,0.11)\n",
    "xlabel('Minimum inter-recall interval (ms)')\n",
    "ylabel('Coef. of model assessing pre-recall SWR rise ± SE')\n",
    "title('Pre-recall SWR bump compared to minimum IRI for recalls')"
   ]
  },
  {
   "cell_type": "code",
   "execution_count": 10,
   "metadata": {},
   "outputs": [
    {
     "ename": "ValueError",
     "evalue": "shape mismatch: objects cannot be broadcast to a single shape",
     "output_type": "error",
     "traceback": [
      "\u001b[0;31m---------------------------------------------------------------------------\u001b[0m",
      "\u001b[0;31mValueError\u001b[0m                                Traceback (most recent call last)",
      "\u001b[0;32m<ipython-input-10-d088f3eac5d1>\u001b[0m in \u001b[0;36m<module>\u001b[0;34m\u001b[0m\n\u001b[0;32m----> 1\u001b[0;31m \u001b[0merrorbar\u001b[0m\u001b[0;34m(\u001b[0m\u001b[0mxr\u001b[0m\u001b[0;34m,\u001b[0m\u001b[0mtvalue_save\u001b[0m\u001b[0;34m,\u001b[0m\u001b[0mstderr_save\u001b[0m\u001b[0;34m)\u001b[0m\u001b[0;34m\u001b[0m\u001b[0;34m\u001b[0m\u001b[0m\n\u001b[0m",
      "\u001b[0;32m~/anaconda3/envs/env1/lib/python3.7/site-packages/matplotlib/pyplot.py\u001b[0m in \u001b[0;36merrorbar\u001b[0;34m(x, y, yerr, xerr, fmt, ecolor, elinewidth, capsize, barsabove, lolims, uplims, xlolims, xuplims, errorevery, capthick, data, **kwargs)\u001b[0m\n\u001b[1;32m   2559\u001b[0m         \u001b[0mlolims\u001b[0m\u001b[0;34m=\u001b[0m\u001b[0mlolims\u001b[0m\u001b[0;34m,\u001b[0m \u001b[0muplims\u001b[0m\u001b[0;34m=\u001b[0m\u001b[0muplims\u001b[0m\u001b[0;34m,\u001b[0m \u001b[0mxlolims\u001b[0m\u001b[0;34m=\u001b[0m\u001b[0mxlolims\u001b[0m\u001b[0;34m,\u001b[0m\u001b[0;34m\u001b[0m\u001b[0;34m\u001b[0m\u001b[0m\n\u001b[1;32m   2560\u001b[0m         \u001b[0mxuplims\u001b[0m\u001b[0;34m=\u001b[0m\u001b[0mxuplims\u001b[0m\u001b[0;34m,\u001b[0m \u001b[0merrorevery\u001b[0m\u001b[0;34m=\u001b[0m\u001b[0merrorevery\u001b[0m\u001b[0;34m,\u001b[0m \u001b[0mcapthick\u001b[0m\u001b[0;34m=\u001b[0m\u001b[0mcapthick\u001b[0m\u001b[0;34m,\u001b[0m\u001b[0;34m\u001b[0m\u001b[0;34m\u001b[0m\u001b[0m\n\u001b[0;32m-> 2561\u001b[0;31m         **({\"data\": data} if data is not None else {}), **kwargs)\n\u001b[0m\u001b[1;32m   2562\u001b[0m \u001b[0;34m\u001b[0m\u001b[0m\n\u001b[1;32m   2563\u001b[0m \u001b[0;34m\u001b[0m\u001b[0m\n",
      "\u001b[0;32m~/anaconda3/envs/env1/lib/python3.7/site-packages/matplotlib/__init__.py\u001b[0m in \u001b[0;36minner\u001b[0;34m(ax, data, *args, **kwargs)\u001b[0m\n\u001b[1;32m   1597\u001b[0m     \u001b[0;32mdef\u001b[0m \u001b[0minner\u001b[0m\u001b[0;34m(\u001b[0m\u001b[0max\u001b[0m\u001b[0;34m,\u001b[0m \u001b[0;34m*\u001b[0m\u001b[0margs\u001b[0m\u001b[0;34m,\u001b[0m \u001b[0mdata\u001b[0m\u001b[0;34m=\u001b[0m\u001b[0;32mNone\u001b[0m\u001b[0;34m,\u001b[0m \u001b[0;34m**\u001b[0m\u001b[0mkwargs\u001b[0m\u001b[0;34m)\u001b[0m\u001b[0;34m:\u001b[0m\u001b[0;34m\u001b[0m\u001b[0;34m\u001b[0m\u001b[0m\n\u001b[1;32m   1598\u001b[0m         \u001b[0;32mif\u001b[0m \u001b[0mdata\u001b[0m \u001b[0;32mis\u001b[0m \u001b[0;32mNone\u001b[0m\u001b[0;34m:\u001b[0m\u001b[0;34m\u001b[0m\u001b[0;34m\u001b[0m\u001b[0m\n\u001b[0;32m-> 1599\u001b[0;31m             \u001b[0;32mreturn\u001b[0m \u001b[0mfunc\u001b[0m\u001b[0;34m(\u001b[0m\u001b[0max\u001b[0m\u001b[0;34m,\u001b[0m \u001b[0;34m*\u001b[0m\u001b[0mmap\u001b[0m\u001b[0;34m(\u001b[0m\u001b[0msanitize_sequence\u001b[0m\u001b[0;34m,\u001b[0m \u001b[0margs\u001b[0m\u001b[0;34m)\u001b[0m\u001b[0;34m,\u001b[0m \u001b[0;34m**\u001b[0m\u001b[0mkwargs\u001b[0m\u001b[0;34m)\u001b[0m\u001b[0;34m\u001b[0m\u001b[0;34m\u001b[0m\u001b[0m\n\u001b[0m\u001b[1;32m   1600\u001b[0m \u001b[0;34m\u001b[0m\u001b[0m\n\u001b[1;32m   1601\u001b[0m         \u001b[0mbound\u001b[0m \u001b[0;34m=\u001b[0m \u001b[0mnew_sig\u001b[0m\u001b[0;34m.\u001b[0m\u001b[0mbind\u001b[0m\u001b[0;34m(\u001b[0m\u001b[0max\u001b[0m\u001b[0;34m,\u001b[0m \u001b[0;34m*\u001b[0m\u001b[0margs\u001b[0m\u001b[0;34m,\u001b[0m \u001b[0;34m**\u001b[0m\u001b[0mkwargs\u001b[0m\u001b[0;34m)\u001b[0m\u001b[0;34m\u001b[0m\u001b[0;34m\u001b[0m\u001b[0m\n",
      "\u001b[0;32m~/anaconda3/envs/env1/lib/python3.7/site-packages/matplotlib/axes/_axes.py\u001b[0m in \u001b[0;36merrorbar\u001b[0;34m(self, x, y, yerr, xerr, fmt, ecolor, elinewidth, capsize, barsabove, lolims, uplims, xlolims, xuplims, errorevery, capthick, **kwargs)\u001b[0m\n\u001b[1;32m   3311\u001b[0m         \u001b[0;32mif\u001b[0m \u001b[0mplot_line\u001b[0m\u001b[0;34m:\u001b[0m\u001b[0;34m\u001b[0m\u001b[0;34m\u001b[0m\u001b[0m\n\u001b[1;32m   3312\u001b[0m             \u001b[0mdata_line\u001b[0m \u001b[0;34m=\u001b[0m \u001b[0mmlines\u001b[0m\u001b[0;34m.\u001b[0m\u001b[0mLine2D\u001b[0m\u001b[0;34m(\u001b[0m\u001b[0mx\u001b[0m\u001b[0;34m,\u001b[0m \u001b[0my\u001b[0m\u001b[0;34m,\u001b[0m \u001b[0;34m**\u001b[0m\u001b[0mplot_line_style\u001b[0m\u001b[0;34m)\u001b[0m\u001b[0;34m\u001b[0m\u001b[0;34m\u001b[0m\u001b[0m\n\u001b[0;32m-> 3313\u001b[0;31m             \u001b[0mself\u001b[0m\u001b[0;34m.\u001b[0m\u001b[0madd_line\u001b[0m\u001b[0;34m(\u001b[0m\u001b[0mdata_line\u001b[0m\u001b[0;34m)\u001b[0m\u001b[0;34m\u001b[0m\u001b[0;34m\u001b[0m\u001b[0m\n\u001b[0m\u001b[1;32m   3314\u001b[0m \u001b[0;34m\u001b[0m\u001b[0m\n\u001b[1;32m   3315\u001b[0m         \u001b[0mbarcols\u001b[0m \u001b[0;34m=\u001b[0m \u001b[0;34m[\u001b[0m\u001b[0;34m]\u001b[0m\u001b[0;34m\u001b[0m\u001b[0;34m\u001b[0m\u001b[0m\n",
      "\u001b[0;32m~/anaconda3/envs/env1/lib/python3.7/site-packages/matplotlib/axes/_base.py\u001b[0m in \u001b[0;36madd_line\u001b[0;34m(self, line)\u001b[0m\n\u001b[1;32m   1900\u001b[0m             \u001b[0mline\u001b[0m\u001b[0;34m.\u001b[0m\u001b[0mset_clip_path\u001b[0m\u001b[0;34m(\u001b[0m\u001b[0mself\u001b[0m\u001b[0;34m.\u001b[0m\u001b[0mpatch\u001b[0m\u001b[0;34m)\u001b[0m\u001b[0;34m\u001b[0m\u001b[0;34m\u001b[0m\u001b[0m\n\u001b[1;32m   1901\u001b[0m \u001b[0;34m\u001b[0m\u001b[0m\n\u001b[0;32m-> 1902\u001b[0;31m         \u001b[0mself\u001b[0m\u001b[0;34m.\u001b[0m\u001b[0m_update_line_limits\u001b[0m\u001b[0;34m(\u001b[0m\u001b[0mline\u001b[0m\u001b[0;34m)\u001b[0m\u001b[0;34m\u001b[0m\u001b[0;34m\u001b[0m\u001b[0m\n\u001b[0m\u001b[1;32m   1903\u001b[0m         \u001b[0;32mif\u001b[0m \u001b[0;32mnot\u001b[0m \u001b[0mline\u001b[0m\u001b[0;34m.\u001b[0m\u001b[0mget_label\u001b[0m\u001b[0;34m(\u001b[0m\u001b[0;34m)\u001b[0m\u001b[0;34m:\u001b[0m\u001b[0;34m\u001b[0m\u001b[0;34m\u001b[0m\u001b[0m\n\u001b[1;32m   1904\u001b[0m             \u001b[0mline\u001b[0m\u001b[0;34m.\u001b[0m\u001b[0mset_label\u001b[0m\u001b[0;34m(\u001b[0m\u001b[0;34m'_line%d'\u001b[0m \u001b[0;34m%\u001b[0m \u001b[0mlen\u001b[0m\u001b[0;34m(\u001b[0m\u001b[0mself\u001b[0m\u001b[0;34m.\u001b[0m\u001b[0mlines\u001b[0m\u001b[0;34m)\u001b[0m\u001b[0;34m)\u001b[0m\u001b[0;34m\u001b[0m\u001b[0;34m\u001b[0m\u001b[0m\n",
      "\u001b[0;32m~/anaconda3/envs/env1/lib/python3.7/site-packages/matplotlib/axes/_base.py\u001b[0m in \u001b[0;36m_update_line_limits\u001b[0;34m(self, line)\u001b[0m\n\u001b[1;32m   1922\u001b[0m         \u001b[0mFigures\u001b[0m \u001b[0mout\u001b[0m \u001b[0mthe\u001b[0m \u001b[0mdata\u001b[0m \u001b[0mlimit\u001b[0m \u001b[0mof\u001b[0m \u001b[0mthe\u001b[0m \u001b[0mgiven\u001b[0m \u001b[0mline\u001b[0m\u001b[0;34m,\u001b[0m \u001b[0mupdating\u001b[0m \u001b[0mself\u001b[0m\u001b[0;34m.\u001b[0m\u001b[0mdataLim\u001b[0m\u001b[0;34m.\u001b[0m\u001b[0;34m\u001b[0m\u001b[0;34m\u001b[0m\u001b[0m\n\u001b[1;32m   1923\u001b[0m         \"\"\"\n\u001b[0;32m-> 1924\u001b[0;31m         \u001b[0mpath\u001b[0m \u001b[0;34m=\u001b[0m \u001b[0mline\u001b[0m\u001b[0;34m.\u001b[0m\u001b[0mget_path\u001b[0m\u001b[0;34m(\u001b[0m\u001b[0;34m)\u001b[0m\u001b[0;34m\u001b[0m\u001b[0;34m\u001b[0m\u001b[0m\n\u001b[0m\u001b[1;32m   1925\u001b[0m         \u001b[0;32mif\u001b[0m \u001b[0mpath\u001b[0m\u001b[0;34m.\u001b[0m\u001b[0mvertices\u001b[0m\u001b[0;34m.\u001b[0m\u001b[0msize\u001b[0m \u001b[0;34m==\u001b[0m \u001b[0;36m0\u001b[0m\u001b[0;34m:\u001b[0m\u001b[0;34m\u001b[0m\u001b[0;34m\u001b[0m\u001b[0m\n\u001b[1;32m   1926\u001b[0m             \u001b[0;32mreturn\u001b[0m\u001b[0;34m\u001b[0m\u001b[0;34m\u001b[0m\u001b[0m\n",
      "\u001b[0;32m~/anaconda3/envs/env1/lib/python3.7/site-packages/matplotlib/lines.py\u001b[0m in \u001b[0;36mget_path\u001b[0;34m(self)\u001b[0m\n\u001b[1;32m   1025\u001b[0m         \"\"\"\n\u001b[1;32m   1026\u001b[0m         \u001b[0;32mif\u001b[0m \u001b[0mself\u001b[0m\u001b[0;34m.\u001b[0m\u001b[0m_invalidy\u001b[0m \u001b[0;32mor\u001b[0m \u001b[0mself\u001b[0m\u001b[0;34m.\u001b[0m\u001b[0m_invalidx\u001b[0m\u001b[0;34m:\u001b[0m\u001b[0;34m\u001b[0m\u001b[0;34m\u001b[0m\u001b[0m\n\u001b[0;32m-> 1027\u001b[0;31m             \u001b[0mself\u001b[0m\u001b[0;34m.\u001b[0m\u001b[0mrecache\u001b[0m\u001b[0;34m(\u001b[0m\u001b[0;34m)\u001b[0m\u001b[0;34m\u001b[0m\u001b[0;34m\u001b[0m\u001b[0m\n\u001b[0m\u001b[1;32m   1028\u001b[0m         \u001b[0;32mreturn\u001b[0m \u001b[0mself\u001b[0m\u001b[0;34m.\u001b[0m\u001b[0m_path\u001b[0m\u001b[0;34m\u001b[0m\u001b[0;34m\u001b[0m\u001b[0m\n\u001b[1;32m   1029\u001b[0m \u001b[0;34m\u001b[0m\u001b[0m\n",
      "\u001b[0;32m~/anaconda3/envs/env1/lib/python3.7/site-packages/matplotlib/lines.py\u001b[0m in \u001b[0;36mrecache\u001b[0;34m(self, always)\u001b[0m\n\u001b[1;32m    677\u001b[0m             \u001b[0my\u001b[0m \u001b[0;34m=\u001b[0m \u001b[0mself\u001b[0m\u001b[0;34m.\u001b[0m\u001b[0m_y\u001b[0m\u001b[0;34m\u001b[0m\u001b[0;34m\u001b[0m\u001b[0m\n\u001b[1;32m    678\u001b[0m \u001b[0;34m\u001b[0m\u001b[0m\n\u001b[0;32m--> 679\u001b[0;31m         \u001b[0mself\u001b[0m\u001b[0;34m.\u001b[0m\u001b[0m_xy\u001b[0m \u001b[0;34m=\u001b[0m \u001b[0mnp\u001b[0m\u001b[0;34m.\u001b[0m\u001b[0mcolumn_stack\u001b[0m\u001b[0;34m(\u001b[0m\u001b[0mnp\u001b[0m\u001b[0;34m.\u001b[0m\u001b[0mbroadcast_arrays\u001b[0m\u001b[0;34m(\u001b[0m\u001b[0mx\u001b[0m\u001b[0;34m,\u001b[0m \u001b[0my\u001b[0m\u001b[0;34m)\u001b[0m\u001b[0;34m)\u001b[0m\u001b[0;34m.\u001b[0m\u001b[0mastype\u001b[0m\u001b[0;34m(\u001b[0m\u001b[0mfloat\u001b[0m\u001b[0;34m)\u001b[0m\u001b[0;34m\u001b[0m\u001b[0;34m\u001b[0m\u001b[0m\n\u001b[0m\u001b[1;32m    680\u001b[0m         \u001b[0mself\u001b[0m\u001b[0;34m.\u001b[0m\u001b[0m_x\u001b[0m\u001b[0;34m,\u001b[0m \u001b[0mself\u001b[0m\u001b[0;34m.\u001b[0m\u001b[0m_y\u001b[0m \u001b[0;34m=\u001b[0m \u001b[0mself\u001b[0m\u001b[0;34m.\u001b[0m\u001b[0m_xy\u001b[0m\u001b[0;34m.\u001b[0m\u001b[0mT\u001b[0m  \u001b[0;31m# views\u001b[0m\u001b[0;34m\u001b[0m\u001b[0;34m\u001b[0m\u001b[0m\n\u001b[1;32m    681\u001b[0m \u001b[0;34m\u001b[0m\u001b[0m\n",
      "\u001b[0;32m<__array_function__ internals>\u001b[0m in \u001b[0;36mbroadcast_arrays\u001b[0;34m(*args, **kwargs)\u001b[0m\n",
      "\u001b[0;32m~/anaconda3/envs/env1/lib/python3.7/site-packages/numpy/lib/stride_tricks.py\u001b[0m in \u001b[0;36mbroadcast_arrays\u001b[0;34m(*args, **kwargs)\u001b[0m\n\u001b[1;32m    262\u001b[0m     \u001b[0margs\u001b[0m \u001b[0;34m=\u001b[0m \u001b[0;34m[\u001b[0m\u001b[0mnp\u001b[0m\u001b[0;34m.\u001b[0m\u001b[0marray\u001b[0m\u001b[0;34m(\u001b[0m\u001b[0m_m\u001b[0m\u001b[0;34m,\u001b[0m \u001b[0mcopy\u001b[0m\u001b[0;34m=\u001b[0m\u001b[0;32mFalse\u001b[0m\u001b[0;34m,\u001b[0m \u001b[0msubok\u001b[0m\u001b[0;34m=\u001b[0m\u001b[0msubok\u001b[0m\u001b[0;34m)\u001b[0m \u001b[0;32mfor\u001b[0m \u001b[0m_m\u001b[0m \u001b[0;32min\u001b[0m \u001b[0margs\u001b[0m\u001b[0;34m]\u001b[0m\u001b[0;34m\u001b[0m\u001b[0;34m\u001b[0m\u001b[0m\n\u001b[1;32m    263\u001b[0m \u001b[0;34m\u001b[0m\u001b[0m\n\u001b[0;32m--> 264\u001b[0;31m     \u001b[0mshape\u001b[0m \u001b[0;34m=\u001b[0m \u001b[0m_broadcast_shape\u001b[0m\u001b[0;34m(\u001b[0m\u001b[0;34m*\u001b[0m\u001b[0margs\u001b[0m\u001b[0;34m)\u001b[0m\u001b[0;34m\u001b[0m\u001b[0;34m\u001b[0m\u001b[0m\n\u001b[0m\u001b[1;32m    265\u001b[0m \u001b[0;34m\u001b[0m\u001b[0m\n\u001b[1;32m    266\u001b[0m     \u001b[0;32mif\u001b[0m \u001b[0mall\u001b[0m\u001b[0;34m(\u001b[0m\u001b[0marray\u001b[0m\u001b[0;34m.\u001b[0m\u001b[0mshape\u001b[0m \u001b[0;34m==\u001b[0m \u001b[0mshape\u001b[0m \u001b[0;32mfor\u001b[0m \u001b[0marray\u001b[0m \u001b[0;32min\u001b[0m \u001b[0margs\u001b[0m\u001b[0;34m)\u001b[0m\u001b[0;34m:\u001b[0m\u001b[0;34m\u001b[0m\u001b[0;34m\u001b[0m\u001b[0m\n",
      "\u001b[0;32m~/anaconda3/envs/env1/lib/python3.7/site-packages/numpy/lib/stride_tricks.py\u001b[0m in \u001b[0;36m_broadcast_shape\u001b[0;34m(*args)\u001b[0m\n\u001b[1;32m    189\u001b[0m     \u001b[0;31m# use the old-iterator because np.nditer does not handle size 0 arrays\u001b[0m\u001b[0;34m\u001b[0m\u001b[0;34m\u001b[0m\u001b[0;34m\u001b[0m\u001b[0m\n\u001b[1;32m    190\u001b[0m     \u001b[0;31m# consistently\u001b[0m\u001b[0;34m\u001b[0m\u001b[0;34m\u001b[0m\u001b[0;34m\u001b[0m\u001b[0m\n\u001b[0;32m--> 191\u001b[0;31m     \u001b[0mb\u001b[0m \u001b[0;34m=\u001b[0m \u001b[0mnp\u001b[0m\u001b[0;34m.\u001b[0m\u001b[0mbroadcast\u001b[0m\u001b[0;34m(\u001b[0m\u001b[0;34m*\u001b[0m\u001b[0margs\u001b[0m\u001b[0;34m[\u001b[0m\u001b[0;34m:\u001b[0m\u001b[0;36m32\u001b[0m\u001b[0;34m]\u001b[0m\u001b[0;34m)\u001b[0m\u001b[0;34m\u001b[0m\u001b[0;34m\u001b[0m\u001b[0m\n\u001b[0m\u001b[1;32m    192\u001b[0m     \u001b[0;31m# unfortunately, it cannot handle 32 or more arguments directly\u001b[0m\u001b[0;34m\u001b[0m\u001b[0;34m\u001b[0m\u001b[0;34m\u001b[0m\u001b[0m\n\u001b[1;32m    193\u001b[0m     \u001b[0;32mfor\u001b[0m \u001b[0mpos\u001b[0m \u001b[0;32min\u001b[0m \u001b[0mrange\u001b[0m\u001b[0;34m(\u001b[0m\u001b[0;36m32\u001b[0m\u001b[0;34m,\u001b[0m \u001b[0mlen\u001b[0m\u001b[0;34m(\u001b[0m\u001b[0margs\u001b[0m\u001b[0;34m)\u001b[0m\u001b[0;34m,\u001b[0m \u001b[0;36m31\u001b[0m\u001b[0;34m)\u001b[0m\u001b[0;34m:\u001b[0m\u001b[0;34m\u001b[0m\u001b[0;34m\u001b[0m\u001b[0m\n",
      "\u001b[0;31mValueError\u001b[0m: shape mismatch: objects cannot be broadcast to a single shape"
     ]
    },
    {
     "data": {
      "image/png": "[encoded data removed]",
      "text/plain": [
       "<Figure size 432x288 with 1 Axes>"
      ]
     },
     "metadata": {
      "needs_background": "light"
     },
     "output_type": "display_data"
    }
   ],
   "source": [
    "errorbar(xr,tvalue_save,stderr_save)"
   ]
  },
  {
   "cell_type": "code",
   "execution_count": 11,
   "metadata": {},
   "outputs": [
    {
     "data": {
      "text/plain": [
       "6"
      ]
     },
     "execution_count": 11,
     "metadata": {},
     "output_type": "execute_result"
    }
   ],
   "source": [
    "len(xr)"
   ]
  },
  {
   "cell_type": "code",
   "execution_count": 12,
   "metadata": {},
   "outputs": [
    {
     "data": {
      "text/plain": [
       "7"
      ]
     },
     "execution_count": 12,
     "metadata": {},
     "output_type": "execute_result"
    }
   ],
   "source": [
    "len(tvalue_save)"
   ]
  },
  {
   "cell_type": "code",
   "execution_count": null,
   "metadata": {},
   "outputs": [],
   "source": []
  }
 ],
 "metadata": {
  "kernelspec": {
   "display_name": "env1",
   "language": "python",
   "name": "env1"
  },
  "language_info": {
   "codemirror_mode": {
    "name": "ipython",
    "version": 3
   },
   "file_extension": ".py",
   "mimetype": "text/x-python",
   "name": "python",
   "nbconvert_exporter": "python",
   "pygments_lexer": "ipython3",
   "version": "3.7.5"
  }
 },
 "nbformat": 4,
 "nbformat_minor": 4
}
