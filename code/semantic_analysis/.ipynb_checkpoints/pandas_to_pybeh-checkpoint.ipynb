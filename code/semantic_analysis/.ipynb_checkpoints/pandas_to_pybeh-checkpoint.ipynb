{
 "cells": [
  {
   "cell_type": "code",
   "execution_count": 41,
   "metadata": {},
   "outputs": [],
   "source": [
    "import pandas as pd\n",
    "import numpy as np\n",
    "import cmlreaders as cml\n",
    "import ptsa\n",
    "import pybeh\n",
    "from pybeh.temp_fact import temp_fact\n",
    "from pybeh.crp import crp\n",
    "from pybeh.make_recalls_matrix import make_recalls_matrix\n",
    "import matplotlib.pyplot as plt\n",
    "import seaborn as sns\n",
    "import sys"
   ]
  },
  {
   "cell_type": "code",
   "execution_count": null,
   "metadata": {},
   "outputs": [],
   "source": [
    "ix = cml.CMLReader.get_data_index()\n",
    "subjects = ['BW001', 'BW013', 'BW014', 'BW022', 'BW023', 'BW024', 'BW025',\n",
    "       'CH003', 'CH005', 'CH008', 'CH012', 'CH013', 'CH018', 'CH040',\n",
    "       'CH042', 'CH046', 'CH048', 'CH058', 'CH061', 'CH063', 'CH065',\n",
    "       'CH066', 'CH067', 'CH068', 'FR025', 'FR029', 'FR032', 'FR037',\n",
    "       'FR038', 'FR050', 'FR060', 'FR070', 'FR080', 'FR090', 'FR100',\n",
    "       'FR110', 'FR120', 'FR130', 'FR140', 'FR150', 'FR160', 'FR180',\n",
    "       'FR190', 'FR200', 'FR210', 'FR220', 'FR230', 'FR240', 'FR250',\n",
    "       'FR260', 'FR270', 'FR280', 'FR290', 'TJ001', 'TJ003', 'TJ004',\n",
    "       'TJ005', 'TJ010', 'UP001', 'UP002', 'UP003', 'UP004', 'UP005',\n",
    "       'UP006', 'UP007', 'UP008', 'UP011', 'UP016', 'UP017']\n",
    "sub_ix = ix.query('subject == @subjects')\n",
    "\n",
    "all_events = []\n",
    "for _, df_sess in sub_ix.iterrows():\n",
    "    sess_events = cml.CMLReader(subject=df_sess['subject'], experiment=experiment, session=df_sess['session'],\n",
    "                                localization=df_sess['localization'], montage=df_sess['montage']).load('task_events')\n",
    "    all_events.append(sess_events)\n",
    "\n",
    "all_sessions_df = pd.concat(all_events)"
   ]
  },
  {
   "cell_type": "code",
   "execution_count": null,
   "metadata": {},
   "outputs": [],
   "source": [
    "all_trial_df = all_sessions_df.query('type == [\"WORD\", \"REC_WORD\"]')\n",
    "all_trial_df.loc[all_trial_df['itemno'].isnull(), 'itemno'] = -1\n",
    "# all_trial_df.drop_duplicates(subset=['subject', 'session', 'list', 'itemno', 'type', 'rectime', 'eegoffset'], inplace=True)\n",
    "\n",
    "#check if both presentations and recalls are present for each list by checking if both types exist\n",
    "both_pres_rec_df = all_trial_df[['subject', 'session', 'list', 'type']].drop_duplicates().groupby(\n",
    "    ['subject', 'session', 'list']).count().reset_index().query('type < 2')\n",
    "#only include lists if both presentations and recalls are present\n",
    "all_trial_df = all_trial_df.merge(both_pres_rec_df[['subject', 'session', 'list']], how='outer', indicator=True)\n",
    "all_trial_df.query('_merge == \"left_only\"', inplace=True)"
   ]
  },
  {
   "cell_type": "code",
   "execution_count": 46,
   "metadata": {},
   "outputs": [
    {
     "data": {
      "text/plain": [
       "(18210, 15)"
      ]
     },
     "execution_count": 46,
     "metadata": {},
     "output_type": "execute_result"
    }
   ],
   "source": [
    "all_sessions_df.shape"
   ]
  },
  {
   "cell_type": "code",
   "execution_count": 36,
   "metadata": {},
   "outputs": [],
   "source": [
    "def get_itemno_matrices(df, itemno_values='itemno', list_index=['subject', 'session', 'list'], pres_columns='serialpos'):\n",
    "    \"\"\"Expects as input a dataframe (df) for one subject\"\"\"\n",
    "    df.loc[:, itemno_values] = df.loc[:, itemno_values].astype(int)\n",
    "    df.loc[:, pres_columns] = df.loc[:, pres_columns].astype(int)\n",
    "    word_evs = df.query('type == \"WORD\"')\n",
    "    rec_evs = df.query('type == \"REC_WORD\"')\n",
    "    rec_evs.loc[:, 'outpos'] = rec_evs.groupby(list_index).cumcount() \n",
    "    pres_itemnos_df = pd.pivot_table(word_evs, values=itemno_values, \n",
    "                                 index=list_index, \n",
    "                                 columns=pres_columns).reset_index()\n",
    "    rec_itemnos_df = pd.pivot_table(rec_evs, values=itemno_values, \n",
    "                                 index=list_index, \n",
    "                                 columns='outpos', fill_value=0).reset_index()\n",
    "    n_index_cols = len(list_index)\n",
    "    pres_itemnos = pres_itemnos_df.iloc[:, (n_index_cols):].values\n",
    "    rec_itemnos = rec_itemnos_df.iloc[:, (n_index_cols):].values\n",
    "    return pres_itemnos, rec_itemnos, pres_itemnos_df, rec_itemnos_df\n",
    "\n",
    "def pd_crp(df, lag_num=5):\n",
    "    \"\"\"Expects as input a dataframe (df) for one subject\"\"\"\n",
    "    pres_itemnos, rec_itemnos, _, _ = get_itemno_matrices(df)\n",
    "    recalls = pybeh.make_recalls_matrix.make_recalls_matrix(pres_itemnos, rec_itemnos)\n",
    "\n",
    "    prob = pybeh.crp.crp(recalls=recalls, \n",
    "                  subjects=np.array(['_'] * recalls.shape[0]),\n",
    "                  listLength=pres_itemnos.shape[1],\n",
    "                  lag_num=lag_num)\n",
    "    crp_dict = {'prob': prob[0], \n",
    "                'lag': np.arange(-lag_num, (lag_num+1))}\n",
    "    return pd.DataFrame(crp_dict)\n",
    "\n",
    "def pd_temp_fact(df, skip_first_n=0):\n",
    "    \"\"\"Expects as input a dataframe (df) for one subject\"\"\"\n",
    "    pres_itemnos, rec_itemnos, _, _ = get_itemno_matrices(df)\n",
    "    recalls = pybeh.make_recalls_matrix.make_recalls_matrix(pres_itemnos, rec_itemnos)\n",
    "\n",
    "    temp_fact = pybeh.temp_fact.temp_fact(recalls=recalls, \n",
    "                  subjects=np.array(['a'] * recalls.shape[0]),\n",
    "                  listLength=pres_itemnos.shape[1],\n",
    "                  skip_first_n=skip_first_n)\n",
    "    return temp_fact[0]"
   ]
  },
  {
   "cell_type": "code",
   "execution_count": 37,
   "metadata": {},
   "outputs": [],
   "source": [
    "crp_df = all_trial_df.groupby(['subject']).apply(pd_crp, lag_num=5).reset_index()"
   ]
  },
  {
   "cell_type": "code",
   "execution_count": 38,
   "metadata": {},
   "outputs": [
    {
     "data": {
      "text/plain": [
       "(0.0, 0.3)"
      ]
     },
     "execution_count": 38,
     "metadata": {},
     "output_type": "execute_result"
    },
    {
     "data": {
      "image/png": "[encoded data removed]",
      "text/plain": [
       "<Figure size 432x288 with 1 Axes>"
      ]
     },
     "metadata": {
      "needs_background": "light"
     },
     "output_type": "display_data"
    }
   ],
   "source": [
    "g = sns.pointplot(data=crp_df, x='lag', y='prob')\n",
    "# g.set(xlim=(6, 16))\n",
    "g.set_ylim(0, .3)"
   ]
  },
  {
   "cell_type": "code",
   "execution_count": 39,
   "metadata": {},
   "outputs": [],
   "source": [
    "pybeh_temp_fact_df = all_trial_df.groupby(['subject']).apply(pd_temp_fact).reset_index()\n",
    "pybeh_temp_fact_df.columns = ['subject', 'temp_fact']"
   ]
  },
  {
   "cell_type": "code",
   "execution_count": 40,
   "metadata": {},
   "outputs": [
    {
     "data": {
      "text/plain": [
       "<AxesSubplot:xlabel='temp_fact'>"
      ]
     },
     "execution_count": 40,
     "metadata": {},
     "output_type": "execute_result"
    },
    {
     "data": {
      "image/png": "[encoded data removed]",
      "text/plain": [
       "<Figure size 432x288 with 1 Axes>"
      ]
     },
     "metadata": {
      "needs_background": "light"
     },
     "output_type": "display_data"
    }
   ],
   "source": [
    "sns.distplot(pybeh_temp_fact_df['temp_fact'])"
   ]
  },
  {
   "cell_type": "code",
   "execution_count": null,
   "metadata": {},
   "outputs": [],
   "source": []
  }
 ],
 "metadata": {
  "kernelspec": {
   "display_name": "“cml”",
   "language": "python",
   "name": "cml"
  },
  "language_info": {
   "codemirror_mode": {
    "name": "ipython",
    "version": 3
   },
   "file_extension": ".py",
   "mimetype": "text/x-python",
   "name": "python",
   "nbconvert_exporter": "python",
   "pygments_lexer": "ipython3",
   "version": "3.7.9"
  }
 },
 "nbformat": 4,
 "nbformat_minor": 4
}
