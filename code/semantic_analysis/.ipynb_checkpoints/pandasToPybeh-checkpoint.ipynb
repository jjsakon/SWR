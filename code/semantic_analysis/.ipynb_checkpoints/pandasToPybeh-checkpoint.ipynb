{
 "cells": [
  {
   "cell_type": "code",
   "execution_count": 4,
   "metadata": {},
   "outputs": [],
   "source": [
    "import pandas as pd\n",
    "import numpy as np\n",
    "import cmlreaders as cml\n",
    "import ptsa\n",
    "import pybeh\n",
    "from pybeh.temp_fact import temp_fact\n",
    "from pybeh.crp import crp\n",
    "from pybeh.make_recalls_matrix import make_recalls_matrix\n",
    "import matplotlib.pyplot as plt\n",
    "import seaborn as sns\n",
    "import sys"
   ]
  },
  {
   "cell_type": "code",
   "execution_count": 6,
   "metadata": {},
   "outputs": [
    {
     "name": "stderr",
     "output_type": "stream",
     "text": [
      "/home1/john/anaconda3/envs/env1/lib/python3.7/site-packages/ipykernel_launcher.py:22: FutureWarning: Sorting because non-concatenation axis is not aligned. A future version\n",
      "of pandas will change to not sort by default.\n",
      "\n",
      "To accept the future behavior, pass 'sort=False'.\n",
      "\n",
      "To retain the current behavior and silence the warning, pass 'sort=True'.\n",
      "\n"
     ]
    }
   ],
   "source": [
    "experiment = 'pyFR'\n",
    "ix = cml.CMLReader.get_data_index()\n",
    "subjects = ['BW001', 'BW013'] \n",
    "#         , 'BW014', 'BW022', 'BW023', 'BW024', 'BW025',\n",
    "#        'CH003', 'CH005', 'CH008', 'CH012', 'CH013', 'CH018', 'CH040',\n",
    "#        'CH042', 'CH046', 'CH048', 'CH058', 'CH061', 'CH063', 'CH065',\n",
    "#        'CH066', 'CH067', 'CH068', 'FR025', 'FR029', 'FR032', 'FR037',\n",
    "#        'FR038', 'FR050', 'FR060', 'FR070', 'FR080', 'FR090', 'FR100',\n",
    "#        'FR110', 'FR120', 'FR130', 'FR140', 'FR150', 'FR160', 'FR180',\n",
    "#        'FR190', 'FR200', 'FR210', 'FR220', 'FR230', 'FR240', 'FR250',\n",
    "#        'FR260', 'FR270', 'FR280', 'FR290', 'TJ001', 'TJ003', 'TJ004',\n",
    "#        'TJ005', 'TJ010', 'UP001', 'UP002', 'UP003', 'UP004', 'UP005',\n",
    "#        'UP006', 'UP007', 'UP008', 'UP011', 'UP016', 'UP017'] \n",
    "sub_ix = ix.query('subject == @subjects')\n",
    "\n",
    "all_events = []\n",
    "for _, df_sess in sub_ix.iterrows():\n",
    "    sess_events = cml.CMLReader(subject=df_sess['subject'], experiment=experiment, session=df_sess['session'],\n",
    "                                localization=df_sess['localization'], montage=df_sess['montage']).load('task_events')\n",
    "    all_events.append(sess_events)\n",
    "\n",
    "all_sessions_df = pd.concat(all_events)"
   ]
  },
  {
   "cell_type": "code",
   "execution_count": 7,
   "metadata": {},
   "outputs": [
    {
     "data": {
      "text/html": [
       "<div>\n",
       "<style scoped>\n",
       "    .dataframe tbody tr th:only-of-type {\n",
       "        vertical-align: middle;\n",
       "    }\n",
       "\n",
       "    .dataframe tbody tr th {\n",
       "        vertical-align: top;\n",
       "    }\n",
       "\n",
       "    .dataframe thead th {\n",
       "        text-align: right;\n",
       "    }\n",
       "</style>\n",
       "<table border=\"1\" class=\"dataframe\">\n",
       "  <thead>\n",
       "    <tr style=\"text-align: right;\">\n",
       "      <th></th>\n",
       "      <th>eegfile</th>\n",
       "      <th>eegoffset</th>\n",
       "      <th>experiment</th>\n",
       "      <th>intrusion</th>\n",
       "      <th>item</th>\n",
       "      <th>itemno</th>\n",
       "      <th>list</th>\n",
       "      <th>msoffset</th>\n",
       "      <th>mstime</th>\n",
       "      <th>recalled</th>\n",
       "      <th>rectime</th>\n",
       "      <th>serialpos</th>\n",
       "      <th>session</th>\n",
       "      <th>subject</th>\n",
       "      <th>type</th>\n",
       "    </tr>\n",
       "  </thead>\n",
       "  <tbody>\n",
       "    <tr>\n",
       "      <th>0</th>\n",
       "      <td>/data/eeg/BW001/eeg.reref/BW001_24Jul02_0001</td>\n",
       "      <td>2841</td>\n",
       "      <td>pyFR</td>\n",
       "      <td>-999</td>\n",
       "      <td>X</td>\n",
       "      <td>-999</td>\n",
       "      <td>-999</td>\n",
       "      <td>-999</td>\n",
       "      <td>683395115</td>\n",
       "      <td>-999</td>\n",
       "      <td>-999</td>\n",
       "      <td>0</td>\n",
       "      <td>1</td>\n",
       "      <td>BW001</td>\n",
       "      <td>SESS_START</td>\n",
       "    </tr>\n",
       "    <tr>\n",
       "      <th>1</th>\n",
       "      <td>/data/eeg/BW001/eeg.reref/BW001_24Jul02_0001</td>\n",
       "      <td>17678</td>\n",
       "      <td>pyFR</td>\n",
       "      <td>-999</td>\n",
       "      <td>X</td>\n",
       "      <td>-999</td>\n",
       "      <td>-999</td>\n",
       "      <td>0</td>\n",
       "      <td>683469379</td>\n",
       "      <td>-999</td>\n",
       "      <td>-999</td>\n",
       "      <td>0</td>\n",
       "      <td>1</td>\n",
       "      <td>BW001</td>\n",
       "      <td>TRIAL</td>\n",
       "    </tr>\n",
       "    <tr>\n",
       "      <th>2</th>\n",
       "      <td>/data/eeg/BW001/eeg.reref/BW001_24Jul02_0001</td>\n",
       "      <td>17802</td>\n",
       "      <td>pyFR</td>\n",
       "      <td>-999</td>\n",
       "      <td>X</td>\n",
       "      <td>-999</td>\n",
       "      <td>-999</td>\n",
       "      <td>0</td>\n",
       "      <td>683469997</td>\n",
       "      <td>-999</td>\n",
       "      <td>-999</td>\n",
       "      <td>0</td>\n",
       "      <td>1</td>\n",
       "      <td>BW001</td>\n",
       "      <td>ORIENT</td>\n",
       "    </tr>\n",
       "    <tr>\n",
       "      <th>3</th>\n",
       "      <td>/data/eeg/BW001/eeg.reref/BW001_24Jul02_0001</td>\n",
       "      <td>18352</td>\n",
       "      <td>pyFR</td>\n",
       "      <td>-999</td>\n",
       "      <td>MULE</td>\n",
       "      <td>169</td>\n",
       "      <td>1</td>\n",
       "      <td>0</td>\n",
       "      <td>683472752</td>\n",
       "      <td>1</td>\n",
       "      <td>4513</td>\n",
       "      <td>1</td>\n",
       "      <td>1</td>\n",
       "      <td>BW001</td>\n",
       "      <td>WORD</td>\n",
       "    </tr>\n",
       "    <tr>\n",
       "      <th>4</th>\n",
       "      <td>/data/eeg/BW001/eeg.reref/BW001_24Jul02_0001</td>\n",
       "      <td>18886</td>\n",
       "      <td>pyFR</td>\n",
       "      <td>-999</td>\n",
       "      <td>SHRIMP</td>\n",
       "      <td>230</td>\n",
       "      <td>1</td>\n",
       "      <td>0</td>\n",
       "      <td>683475426</td>\n",
       "      <td>1</td>\n",
       "      <td>5218</td>\n",
       "      <td>2</td>\n",
       "      <td>1</td>\n",
       "      <td>BW001</td>\n",
       "      <td>WORD</td>\n",
       "    </tr>\n",
       "    <tr>\n",
       "      <th>...</th>\n",
       "      <td>...</td>\n",
       "      <td>...</td>\n",
       "      <td>...</td>\n",
       "      <td>...</td>\n",
       "      <td>...</td>\n",
       "      <td>...</td>\n",
       "      <td>...</td>\n",
       "      <td>...</td>\n",
       "      <td>...</td>\n",
       "      <td>...</td>\n",
       "      <td>...</td>\n",
       "      <td>...</td>\n",
       "      <td>...</td>\n",
       "      <td>...</td>\n",
       "      <td>...</td>\n",
       "    </tr>\n",
       "    <tr>\n",
       "      <th>443</th>\n",
       "      <td>/data/eeg/BW013/eeg.reref/BW013_12Oct03_1744</td>\n",
       "      <td>2031114</td>\n",
       "      <td>pyFR</td>\n",
       "      <td>0</td>\n",
       "      <td>PALM</td>\n",
       "      <td>177</td>\n",
       "      <td>15</td>\n",
       "      <td>-999</td>\n",
       "      <td>846339314</td>\n",
       "      <td>-999</td>\n",
       "      <td>4341</td>\n",
       "      <td>-999</td>\n",
       "      <td>1</td>\n",
       "      <td>BW013</td>\n",
       "      <td>REC_WORD</td>\n",
       "    </tr>\n",
       "    <tr>\n",
       "      <th>444</th>\n",
       "      <td>/data/eeg/BW013/eeg.reref/BW013_12Oct03_1744</td>\n",
       "      <td>2033459</td>\n",
       "      <td>pyFR</td>\n",
       "      <td>0</td>\n",
       "      <td>LEG</td>\n",
       "      <td>153</td>\n",
       "      <td>15</td>\n",
       "      <td>-999</td>\n",
       "      <td>846344005</td>\n",
       "      <td>-999</td>\n",
       "      <td>9032</td>\n",
       "      <td>-999</td>\n",
       "      <td>1</td>\n",
       "      <td>BW013</td>\n",
       "      <td>REC_WORD</td>\n",
       "    </tr>\n",
       "    <tr>\n",
       "      <th>445</th>\n",
       "      <td>/data/eeg/BW013/eeg.reref/BW013_12Oct03_1744</td>\n",
       "      <td>2039298</td>\n",
       "      <td>pyFR</td>\n",
       "      <td>0</td>\n",
       "      <td>HORSE</td>\n",
       "      <td>133</td>\n",
       "      <td>15</td>\n",
       "      <td>-999</td>\n",
       "      <td>846355684</td>\n",
       "      <td>-999</td>\n",
       "      <td>20711</td>\n",
       "      <td>-999</td>\n",
       "      <td>1</td>\n",
       "      <td>BW013</td>\n",
       "      <td>REC_WORD</td>\n",
       "    </tr>\n",
       "    <tr>\n",
       "      <th>446</th>\n",
       "      <td>/data/eeg/BW013/eeg.reref/BW013_12Oct03_1744</td>\n",
       "      <td>2040124</td>\n",
       "      <td>pyFR</td>\n",
       "      <td>0</td>\n",
       "      <td>CAT</td>\n",
       "      <td>49</td>\n",
       "      <td>15</td>\n",
       "      <td>-999</td>\n",
       "      <td>846357336</td>\n",
       "      <td>-999</td>\n",
       "      <td>22363</td>\n",
       "      <td>-999</td>\n",
       "      <td>1</td>\n",
       "      <td>BW013</td>\n",
       "      <td>REC_WORD</td>\n",
       "    </tr>\n",
       "    <tr>\n",
       "      <th>447</th>\n",
       "      <td>/data/eeg/BW013/eeg.reref/BW013_12Oct03_1744</td>\n",
       "      <td>2049739</td>\n",
       "      <td>pyFR</td>\n",
       "      <td>-999</td>\n",
       "      <td>VV</td>\n",
       "      <td>-999</td>\n",
       "      <td>15</td>\n",
       "      <td>-999</td>\n",
       "      <td>846376570</td>\n",
       "      <td>-999</td>\n",
       "      <td>41597</td>\n",
       "      <td>-999</td>\n",
       "      <td>1</td>\n",
       "      <td>BW013</td>\n",
       "      <td>REC_WORD_VV</td>\n",
       "    </tr>\n",
       "  </tbody>\n",
       "</table>\n",
       "<p>892 rows × 15 columns</p>\n",
       "</div>"
      ],
      "text/plain": [
       "                                          eegfile eegoffset experiment  \\\n",
       "0    /data/eeg/BW001/eeg.reref/BW001_24Jul02_0001      2841       pyFR   \n",
       "1    /data/eeg/BW001/eeg.reref/BW001_24Jul02_0001     17678       pyFR   \n",
       "2    /data/eeg/BW001/eeg.reref/BW001_24Jul02_0001     17802       pyFR   \n",
       "3    /data/eeg/BW001/eeg.reref/BW001_24Jul02_0001     18352       pyFR   \n",
       "4    /data/eeg/BW001/eeg.reref/BW001_24Jul02_0001     18886       pyFR   \n",
       "..                                            ...       ...        ...   \n",
       "443  /data/eeg/BW013/eeg.reref/BW013_12Oct03_1744   2031114       pyFR   \n",
       "444  /data/eeg/BW013/eeg.reref/BW013_12Oct03_1744   2033459       pyFR   \n",
       "445  /data/eeg/BW013/eeg.reref/BW013_12Oct03_1744   2039298       pyFR   \n",
       "446  /data/eeg/BW013/eeg.reref/BW013_12Oct03_1744   2040124       pyFR   \n",
       "447  /data/eeg/BW013/eeg.reref/BW013_12Oct03_1744   2049739       pyFR   \n",
       "\n",
       "    intrusion    item itemno  list msoffset     mstime recalled rectime  \\\n",
       "0        -999       X   -999  -999     -999  683395115     -999    -999   \n",
       "1        -999       X   -999  -999        0  683469379     -999    -999   \n",
       "2        -999       X   -999  -999        0  683469997     -999    -999   \n",
       "3        -999    MULE    169     1        0  683472752        1    4513   \n",
       "4        -999  SHRIMP    230     1        0  683475426        1    5218   \n",
       "..        ...     ...    ...   ...      ...        ...      ...     ...   \n",
       "443         0    PALM    177    15     -999  846339314     -999    4341   \n",
       "444         0     LEG    153    15     -999  846344005     -999    9032   \n",
       "445         0   HORSE    133    15     -999  846355684     -999   20711   \n",
       "446         0     CAT     49    15     -999  846357336     -999   22363   \n",
       "447      -999      VV   -999    15     -999  846376570     -999   41597   \n",
       "\n",
       "    serialpos session subject         type  \n",
       "0           0       1   BW001   SESS_START  \n",
       "1           0       1   BW001        TRIAL  \n",
       "2           0       1   BW001       ORIENT  \n",
       "3           1       1   BW001         WORD  \n",
       "4           2       1   BW001         WORD  \n",
       "..        ...     ...     ...          ...  \n",
       "443      -999       1   BW013     REC_WORD  \n",
       "444      -999       1   BW013     REC_WORD  \n",
       "445      -999       1   BW013     REC_WORD  \n",
       "446      -999       1   BW013     REC_WORD  \n",
       "447      -999       1   BW013  REC_WORD_VV  \n",
       "\n",
       "[892 rows x 15 columns]"
      ]
     },
     "execution_count": 7,
     "metadata": {},
     "output_type": "execute_result"
    }
   ],
   "source": [
    "all_sessions_df"
   ]
  },
  {
   "cell_type": "code",
   "execution_count": 8,
   "metadata": {},
   "outputs": [
    {
     "name": "stderr",
     "output_type": "stream",
     "text": [
      "/home1/john/anaconda3/envs/env1/lib/python3.7/site-packages/pandas/core/indexing.py:205: SettingWithCopyWarning: \n",
      "A value is trying to be set on a copy of a slice from a DataFrame\n",
      "\n",
      "See the caveats in the documentation: http://pandas.pydata.org/pandas-docs/stable/user_guide/indexing.html#returning-a-view-versus-a-copy\n",
      "  self._setitem_with_indexer(indexer, value)\n",
      "/home1/john/anaconda3/envs/env1/lib/python3.7/site-packages/ipykernel_launcher.py:2: SettingWithCopyWarning: \n",
      "A value is trying to be set on a copy of a slice from a DataFrame\n",
      "\n",
      "See the caveats in the documentation: http://pandas.pydata.org/pandas-docs/stable/user_guide/indexing.html#returning-a-view-versus-a-copy\n",
      "  \n"
     ]
    }
   ],
   "source": [
    "all_trial_df = all_sessions_df.query('type == [\"WORD\", \"REC_WORD\"]')\n",
    "all_trial_df.loc[all_trial_df['itemno'].isnull(), 'itemno'] = -1\n",
    "# all_trial_df.drop_duplicates(subset=['subject', 'session', 'list', 'itemno', 'type', 'rectime', 'eegoffset'], inplace=True)\n",
    "\n",
    "#check if both presentations and recalls are present for each list by checking if both types exist\n",
    "both_pres_rec_df = all_trial_df[['subject', 'session', 'list', 'type']].drop_duplicates().groupby(\n",
    "    ['subject', 'session', 'list']).count().reset_index().query('type < 2')\n",
    "#only include lists if both presentations and recalls are present\n",
    "all_trial_df = all_trial_df.merge(both_pres_rec_df[['subject', 'session', 'list']], how='outer', indicator=True)\n",
    "all_trial_df.query('_merge == \"left_only\"', inplace=True)"
   ]
  },
  {
   "cell_type": "code",
   "execution_count": 10,
   "metadata": {},
   "outputs": [
    {
     "data": {
      "text/plain": [
       "(892, 15)"
      ]
     },
     "execution_count": 10,
     "metadata": {},
     "output_type": "execute_result"
    }
   ],
   "source": [
    "all_sessions_df.shape"
   ]
  },
  {
   "cell_type": "code",
   "execution_count": 11,
   "metadata": {},
   "outputs": [],
   "source": [
    "def get_itemno_matrices(df, itemno_values='itemno', list_index=['subject', 'session', 'list'], pres_columns='serialpos'):\n",
    "    \"\"\"Expects as input a dataframe (df) for one subject\"\"\"\n",
    "    df.loc[:, itemno_values] = df.loc[:, itemno_values].astype(int)\n",
    "    df.loc[:, pres_columns] = df.loc[:, pres_columns].astype(int)\n",
    "    word_evs = df.query('type == \"WORD\"')\n",
    "    rec_evs = df.query('type == \"REC_WORD\"')\n",
    "    rec_evs.loc[:, 'outpos'] = rec_evs.groupby(list_index).cumcount() \n",
    "    pres_itemnos_df = pd.pivot_table(word_evs, values=itemno_values, \n",
    "                                 index=list_index, \n",
    "                                 columns=pres_columns).reset_index()\n",
    "    rec_itemnos_df = pd.pivot_table(rec_evs, values=itemno_values, \n",
    "                                 index=list_index, \n",
    "                                 columns='outpos', fill_value=0).reset_index()\n",
    "    n_index_cols = len(list_index)\n",
    "    pres_itemnos = pres_itemnos_df.iloc[:, (n_index_cols):].values\n",
    "    rec_itemnos = rec_itemnos_df.iloc[:, (n_index_cols):].values\n",
    "    return pres_itemnos, rec_itemnos, pres_itemnos_df, rec_itemnos_df\n",
    "\n",
    "def pd_crp(df, lag_num=5):\n",
    "    \"\"\"Expects as input a dataframe (df) for one subject\"\"\"\n",
    "    pres_itemnos, rec_itemnos, _, _ = get_itemno_matrices(df)\n",
    "    recalls = pybeh.make_recalls_matrix.make_recalls_matrix(pres_itemnos, rec_itemnos)\n",
    "\n",
    "    prob = pybeh.crp.crp(recalls=recalls, \n",
    "                  subjects=np.array(['_'] * recalls.shape[0]),\n",
    "                  listLength=pres_itemnos.shape[1],\n",
    "                  lag_num=lag_num)\n",
    "    crp_dict = {'prob': prob[0], \n",
    "                'lag': np.arange(-lag_num, (lag_num+1))}\n",
    "    return pd.DataFrame(crp_dict)\n",
    "\n",
    "def pd_temp_fact(df, skip_first_n=0):\n",
    "    \"\"\"Expects as input a dataframe (df) for one subject\"\"\"\n",
    "    pres_itemnos, rec_itemnos, _, _ = get_itemno_matrices(df)\n",
    "    recalls = pybeh.make_recalls_matrix.make_recalls_matrix(pres_itemnos, rec_itemnos)\n",
    "\n",
    "    temp_fact = pybeh.temp_fact.temp_fact(recalls=recalls, \n",
    "                  subjects=np.array(['a'] * recalls.shape[0]),\n",
    "                  listLength=pres_itemnos.shape[1],\n",
    "                  skip_first_n=skip_first_n)\n",
    "    return temp_fact[0]"
   ]
  },
  {
   "cell_type": "code",
   "execution_count": 16,
   "metadata": {},
   "outputs": [],
   "source": [
    "crp_df = all_trial_df.groupby(['subject']).apply(pd_crp, lag_num=5).reset_index()"
   ]
  },
  {
   "cell_type": "code",
   "execution_count": 17,
   "metadata": {},
   "outputs": [
    {
     "data": {
      "text/plain": [
       "(0, 0.3)"
      ]
     },
     "execution_count": 17,
     "metadata": {},
     "output_type": "execute_result"
    },
    {
     "data": {
      "image/png": "[encoded data removed]",
      "text/plain": [
       "<Figure size 432x288 with 1 Axes>"
      ]
     },
     "metadata": {
      "needs_background": "light"
     },
     "output_type": "display_data"
    }
   ],
   "source": [
    "g = sns.pointplot(data=crp_df, x='lag', y='prob')\n",
    "# g.set(xlim=(6, 16))\n",
    "g.set_ylim(0, .3)"
   ]
  },
  {
   "cell_type": "code",
   "execution_count": 18,
   "metadata": {},
   "outputs": [],
   "source": [
    "pybeh_temp_fact_df = all_trial_df.groupby(['subject']).apply(pd_temp_fact).reset_index()\n",
    "pybeh_temp_fact_df.columns = ['subject', 'temp_fact']"
   ]
  },
  {
   "cell_type": "code",
   "execution_count": 19,
   "metadata": {},
   "outputs": [
    {
     "data": {
      "text/plain": [
       "<matplotlib.axes._subplots.AxesSubplot at 0x2b3881a39c10>"
      ]
     },
     "execution_count": 19,
     "metadata": {},
     "output_type": "execute_result"
    },
    {
     "data": {
      "image/png": "[encoded data removed]",
      "text/plain": [
       "<Figure size 432x288 with 1 Axes>"
      ]
     },
     "metadata": {
      "needs_background": "light"
     },
     "output_type": "display_data"
    }
   ],
   "source": [
    "sns.distplot(pybeh_temp_fact_df['temp_fact'])"
   ]
  },
  {
   "cell_type": "code",
   "execution_count": 20,
   "metadata": {},
   "outputs": [
    {
     "data": {
      "text/html": [
       "<div>\n",
       "<style scoped>\n",
       "    .dataframe tbody tr th:only-of-type {\n",
       "        vertical-align: middle;\n",
       "    }\n",
       "\n",
       "    .dataframe tbody tr th {\n",
       "        vertical-align: top;\n",
       "    }\n",
       "\n",
       "    .dataframe thead th {\n",
       "        text-align: right;\n",
       "    }\n",
       "</style>\n",
       "<table border=\"1\" class=\"dataframe\">\n",
       "  <thead>\n",
       "    <tr style=\"text-align: right;\">\n",
       "      <th></th>\n",
       "      <th>subject</th>\n",
       "      <th>temp_fact</th>\n",
       "    </tr>\n",
       "  </thead>\n",
       "  <tbody>\n",
       "    <tr>\n",
       "      <th>0</th>\n",
       "      <td>BW001</td>\n",
       "      <td>0.623568</td>\n",
       "    </tr>\n",
       "    <tr>\n",
       "      <th>1</th>\n",
       "      <td>BW013</td>\n",
       "      <td>0.666525</td>\n",
       "    </tr>\n",
       "  </tbody>\n",
       "</table>\n",
       "</div>"
      ],
      "text/plain": [
       "  subject  temp_fact\n",
       "0   BW001   0.623568\n",
       "1   BW013   0.666525"
      ]
     },
     "execution_count": 20,
     "metadata": {},
     "output_type": "execute_result"
    }
   ],
   "source": [
    "pybeh_temp_fact_df"
   ]
  },
  {
   "cell_type": "code",
   "execution_count": null,
   "metadata": {},
   "outputs": [],
   "source": []
  }
 ],
 "metadata": {
  "kernelspec": {
   "display_name": "env1",
   "language": "python",
   "name": "env1"
  },
  "language_info": {
   "codemirror_mode": {
    "name": "ipython",
    "version": 3
   },
   "file_extension": ".py",
   "mimetype": "text/x-python",
   "name": "python",
   "nbconvert_exporter": "python",
   "pygments_lexer": "ipython3",
   "version": "3.7.5"
  }
 },
 "nbformat": 4,
 "nbformat_minor": 4
}
