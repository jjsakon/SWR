{
 "cells": [
  {
   "cell_type": "code",
   "execution_count": 111,
   "metadata": {},
   "outputs": [],
   "source": [
    "## Main SWR detection analysis! Note there are two ways to analyze the data: a cluster and local version. I keep them\n",
    "## both updated with changes for now since I tend to check with the local version even if the cluster version is better\n",
    "## for bulk analysis 2020-6-17 JS\n",
    "## Updated for catFR1 analysis 2020-09-29 JS. Largely edited for manually removing bad electrodes \n",
    "## (search for catFR1 in CLUSTER get for example)"
   ]
  },
  {
   "cell_type": "code",
   "execution_count": 241,
   "metadata": {},
   "outputs": [
    {
     "name": "stdout",
     "output_type": "stream",
     "text": [
      "The autoreload extension is already loaded. To reload it, use:\n",
      "  %reload_ext autoreload\n"
     ]
    }
   ],
   "source": [
    "import pandas as pd; pd.set_option('display.max_columns', 30)\n",
    "import numpy as np\n",
    "from cmlreaders import CMLReader, get_data_index\n",
    "from ptsa.data.filters import ButterworthFilter\n",
    "import sys\n",
    "import os\n",
    "import matplotlib.pyplot as plt\n",
    "%matplotlib inline\n",
    "from pylab import *\n",
    "from copy import copy\n",
    "from scipy import stats\n",
    "import pickle\n",
    "plt.rcParams['pdf.fonttype'] = 42; plt.rcParams['ps.fonttype'] = 42 # fix fonts for Illustrator\n",
    "sys.path.append('/home1/john/Downloads/ptsa_plot-master/')\n",
    "sys.path.append('/home1/john/johnModules')\n",
    "from brain_labels import MTL_labels, LTC_labels, PFC_labels, OTHER_labels, ALL_labels # all location labels\n",
    "%load_ext autoreload\n",
    "%autoreload\n",
    "from general import *\n",
    "from SWRmodule import *\n",
    "\n",
    "import seaborn as sb\n",
    "\n",
    "df = get_data_index(\"r1\") # all RAM subjects\n",
    "exp = 'FR1' # 'FR1' 'catFR1'"
   ]
  },
  {
   "cell_type": "code",
   "execution_count": 242,
   "metadata": {},
   "outputs": [
    {
     "data": {
      "text/html": [
       "<div>\n",
       "<style scoped>\n",
       "    .dataframe tbody tr th:only-of-type {\n",
       "        vertical-align: middle;\n",
       "    }\n",
       "\n",
       "    .dataframe tbody tr th {\n",
       "        vertical-align: top;\n",
       "    }\n",
       "\n",
       "    .dataframe thead th {\n",
       "        text-align: right;\n",
       "    }\n",
       "</style>\n",
       "<table border=\"1\" class=\"dataframe\">\n",
       "  <thead>\n",
       "    <tr style=\"text-align: right;\">\n",
       "      <th></th>\n",
       "      <th>Recognition</th>\n",
       "      <th>all_events</th>\n",
       "      <th>contacts</th>\n",
       "      <th>experiment</th>\n",
       "      <th>import_type</th>\n",
       "      <th>localization</th>\n",
       "      <th>math_events</th>\n",
       "      <th>montage</th>\n",
       "      <th>original_experiment</th>\n",
       "      <th>original_session</th>\n",
       "      <th>pairs</th>\n",
       "      <th>ps4_events</th>\n",
       "      <th>session</th>\n",
       "      <th>subject</th>\n",
       "      <th>subject_alias</th>\n",
       "      <th>system_version</th>\n",
       "      <th>task_events</th>\n",
       "    </tr>\n",
       "  </thead>\n",
       "  <tbody>\n",
       "    <tr>\n",
       "      <th>369</th>\n",
       "      <td>NaN</td>\n",
       "      <td>protocols/r1/subjects/R1065J/experiments/FR1/s...</td>\n",
       "      <td>protocols/r1/subjects/R1065J/localizations/0/m...</td>\n",
       "      <td>FR1</td>\n",
       "      <td>build</td>\n",
       "      <td>0</td>\n",
       "      <td>protocols/r1/subjects/R1065J/experiments/FR1/s...</td>\n",
       "      <td>0</td>\n",
       "      <td>NaN</td>\n",
       "      <td>0</td>\n",
       "      <td>protocols/r1/subjects/R1065J/localizations/0/m...</td>\n",
       "      <td>NaN</td>\n",
       "      <td>0</td>\n",
       "      <td>R1065J</td>\n",
       "      <td>R1065J</td>\n",
       "      <td>NaN</td>\n",
       "      <td>protocols/r1/subjects/R1065J/experiments/FR1/s...</td>\n",
       "    </tr>\n",
       "    <tr>\n",
       "      <th>370</th>\n",
       "      <td>NaN</td>\n",
       "      <td>protocols/r1/subjects/R1065J/experiments/FR1/s...</td>\n",
       "      <td>protocols/r1/subjects/R1065J/localizations/0/m...</td>\n",
       "      <td>FR1</td>\n",
       "      <td>build</td>\n",
       "      <td>0</td>\n",
       "      <td>protocols/r1/subjects/R1065J/experiments/FR1/s...</td>\n",
       "      <td>0</td>\n",
       "      <td>NaN</td>\n",
       "      <td>1</td>\n",
       "      <td>protocols/r1/subjects/R1065J/localizations/0/m...</td>\n",
       "      <td>NaN</td>\n",
       "      <td>1</td>\n",
       "      <td>R1065J</td>\n",
       "      <td>R1065J</td>\n",
       "      <td>NaN</td>\n",
       "      <td>protocols/r1/subjects/R1065J/experiments/FR1/s...</td>\n",
       "    </tr>\n",
       "    <tr>\n",
       "      <th>371</th>\n",
       "      <td>NaN</td>\n",
       "      <td>protocols/r1/subjects/R1065J/experiments/FR1/s...</td>\n",
       "      <td>protocols/r1/subjects/R1065J/localizations/0/m...</td>\n",
       "      <td>FR1</td>\n",
       "      <td>build</td>\n",
       "      <td>0</td>\n",
       "      <td>protocols/r1/subjects/R1065J/experiments/FR1/s...</td>\n",
       "      <td>0</td>\n",
       "      <td>NaN</td>\n",
       "      <td>2</td>\n",
       "      <td>protocols/r1/subjects/R1065J/localizations/0/m...</td>\n",
       "      <td>NaN</td>\n",
       "      <td>2</td>\n",
       "      <td>R1065J</td>\n",
       "      <td>R1065J</td>\n",
       "      <td>NaN</td>\n",
       "      <td>protocols/r1/subjects/R1065J/experiments/FR1/s...</td>\n",
       "    </tr>\n",
       "    <tr>\n",
       "      <th>372</th>\n",
       "      <td>NaN</td>\n",
       "      <td>protocols/r1/subjects/R1065J/experiments/FR1/s...</td>\n",
       "      <td>protocols/r1/subjects/R1065J/localizations/0/m...</td>\n",
       "      <td>FR1</td>\n",
       "      <td>build</td>\n",
       "      <td>0</td>\n",
       "      <td>protocols/r1/subjects/R1065J/experiments/FR1/s...</td>\n",
       "      <td>0</td>\n",
       "      <td>NaN</td>\n",
       "      <td>3</td>\n",
       "      <td>protocols/r1/subjects/R1065J/localizations/0/m...</td>\n",
       "      <td>NaN</td>\n",
       "      <td>3</td>\n",
       "      <td>R1065J</td>\n",
       "      <td>R1065J</td>\n",
       "      <td>NaN</td>\n",
       "      <td>protocols/r1/subjects/R1065J/experiments/FR1/s...</td>\n",
       "    </tr>\n",
       "    <tr>\n",
       "      <th>373</th>\n",
       "      <td>NaN</td>\n",
       "      <td>protocols/r1/subjects/R1065J/experiments/FR1/s...</td>\n",
       "      <td>protocols/r1/subjects/R1065J/localizations/0/m...</td>\n",
       "      <td>FR1</td>\n",
       "      <td>build</td>\n",
       "      <td>0</td>\n",
       "      <td>protocols/r1/subjects/R1065J/experiments/FR1/s...</td>\n",
       "      <td>0</td>\n",
       "      <td>NaN</td>\n",
       "      <td>4</td>\n",
       "      <td>protocols/r1/subjects/R1065J/localizations/0/m...</td>\n",
       "      <td>NaN</td>\n",
       "      <td>4</td>\n",
       "      <td>R1065J</td>\n",
       "      <td>R1065J</td>\n",
       "      <td>NaN</td>\n",
       "      <td>protocols/r1/subjects/R1065J/experiments/FR1/s...</td>\n",
       "    </tr>\n",
       "    <tr>\n",
       "      <th>374</th>\n",
       "      <td>NaN</td>\n",
       "      <td>protocols/r1/subjects/R1065J/experiments/FR1/s...</td>\n",
       "      <td>protocols/r1/subjects/R1065J/localizations/0/m...</td>\n",
       "      <td>FR1</td>\n",
       "      <td>build</td>\n",
       "      <td>0</td>\n",
       "      <td>protocols/r1/subjects/R1065J/experiments/FR1/s...</td>\n",
       "      <td>0</td>\n",
       "      <td>NaN</td>\n",
       "      <td>5</td>\n",
       "      <td>protocols/r1/subjects/R1065J/localizations/0/m...</td>\n",
       "      <td>NaN</td>\n",
       "      <td>5</td>\n",
       "      <td>R1065J</td>\n",
       "      <td>R1065J</td>\n",
       "      <td>NaN</td>\n",
       "      <td>protocols/r1/subjects/R1065J/experiments/FR1/s...</td>\n",
       "    </tr>\n",
       "  </tbody>\n",
       "</table>\n",
       "</div>"
      ],
      "text/plain": [
       "    Recognition                                         all_events  \\\n",
       "369         NaN  protocols/r1/subjects/R1065J/experiments/FR1/s...   \n",
       "370         NaN  protocols/r1/subjects/R1065J/experiments/FR1/s...   \n",
       "371         NaN  protocols/r1/subjects/R1065J/experiments/FR1/s...   \n",
       "372         NaN  protocols/r1/subjects/R1065J/experiments/FR1/s...   \n",
       "373         NaN  protocols/r1/subjects/R1065J/experiments/FR1/s...   \n",
       "374         NaN  protocols/r1/subjects/R1065J/experiments/FR1/s...   \n",
       "\n",
       "                                              contacts experiment import_type  \\\n",
       "369  protocols/r1/subjects/R1065J/localizations/0/m...        FR1       build   \n",
       "370  protocols/r1/subjects/R1065J/localizations/0/m...        FR1       build   \n",
       "371  protocols/r1/subjects/R1065J/localizations/0/m...        FR1       build   \n",
       "372  protocols/r1/subjects/R1065J/localizations/0/m...        FR1       build   \n",
       "373  protocols/r1/subjects/R1065J/localizations/0/m...        FR1       build   \n",
       "374  protocols/r1/subjects/R1065J/localizations/0/m...        FR1       build   \n",
       "\n",
       "     localization                                        math_events  montage  \\\n",
       "369             0  protocols/r1/subjects/R1065J/experiments/FR1/s...        0   \n",
       "370             0  protocols/r1/subjects/R1065J/experiments/FR1/s...        0   \n",
       "371             0  protocols/r1/subjects/R1065J/experiments/FR1/s...        0   \n",
       "372             0  protocols/r1/subjects/R1065J/experiments/FR1/s...        0   \n",
       "373             0  protocols/r1/subjects/R1065J/experiments/FR1/s...        0   \n",
       "374             0  protocols/r1/subjects/R1065J/experiments/FR1/s...        0   \n",
       "\n",
       "    original_experiment original_session  \\\n",
       "369                 NaN                0   \n",
       "370                 NaN                1   \n",
       "371                 NaN                2   \n",
       "372                 NaN                3   \n",
       "373                 NaN                4   \n",
       "374                 NaN                5   \n",
       "\n",
       "                                                 pairs ps4_events  session  \\\n",
       "369  protocols/r1/subjects/R1065J/localizations/0/m...        NaN        0   \n",
       "370  protocols/r1/subjects/R1065J/localizations/0/m...        NaN        1   \n",
       "371  protocols/r1/subjects/R1065J/localizations/0/m...        NaN        2   \n",
       "372  protocols/r1/subjects/R1065J/localizations/0/m...        NaN        3   \n",
       "373  protocols/r1/subjects/R1065J/localizations/0/m...        NaN        4   \n",
       "374  protocols/r1/subjects/R1065J/localizations/0/m...        NaN        5   \n",
       "\n",
       "    subject subject_alias  system_version  \\\n",
       "369  R1065J        R1065J             NaN   \n",
       "370  R1065J        R1065J             NaN   \n",
       "371  R1065J        R1065J             NaN   \n",
       "372  R1065J        R1065J             NaN   \n",
       "373  R1065J        R1065J             NaN   \n",
       "374  R1065J        R1065J             NaN   \n",
       "\n",
       "                                           task_events  \n",
       "369  protocols/r1/subjects/R1065J/experiments/FR1/s...  \n",
       "370  protocols/r1/subjects/R1065J/experiments/FR1/s...  \n",
       "371  protocols/r1/subjects/R1065J/experiments/FR1/s...  \n",
       "372  protocols/r1/subjects/R1065J/experiments/FR1/s...  \n",
       "373  protocols/r1/subjects/R1065J/experiments/FR1/s...  \n",
       "374  protocols/r1/subjects/R1065J/experiments/FR1/s...  "
      ]
     },
     "execution_count": 242,
     "metadata": {},
     "output_type": "execute_result"
    }
   ],
   "source": [
    "# sub lists I've been using to explore FR1 \n",
    "\n",
    "# subs = ['R1002P','R1003P','R1006P','R1010J','R1112M','R1163T'] # initial 6 for hippocampus\n",
    "# subs = subs+['R1001P','R1092J','R1151E','R1320D'] # additional subs with issues that I resolved with various RR and corr thresholds\n",
    "# subs = ['R1112M','R1018P','R1020J','R1022J','R1023J','R1026D','R1027J'] # 7 with entorhinal\n",
    "# subs = ['R1010J','R1112M'] # original 2 # R1108J beatiful catFR1 data; R1065J magical subject (like with FR1)\n",
    "# subs = ['R1112M','R1163T'] # subjects with FR1 and catFR1. SRs of 1000 and 500 tho\n",
    "# subs = ['R1151E'] # all channels X sessions get removed but 3 after 60/180 hz line removal\n",
    "# these should all be worked out now. See SWR FR1 problem sessions PPT on Box for details of each\n",
    "# subs = ['R1299T','R1332M','R1397D','R1349T','R1339D','R1337E','R1275D','R1151E','R1123C','R1120E','R1045E'] # final surrounding_recall problem subs after looking at huge raster!\n",
    "# subs = ['R1308T','R1338T','R1358T'] # these guys had weird SRs and some loading problems when I went to whole_retrieval analysis...fixed with rounding\n",
    "# subs = ['R1023J','R1101T','R1148P','R1368T','R1323T','R1334T'] # single session subs with memory allocation errors in ClusterRun\n",
    "# subs = ['R1006P','R1010J','R1030J','R1032D','R1049J','R1051J','R1052E','R1054J','R1093J','R1098D','R1104D','R1108J','R1111M',\n",
    "#         'R1115T','R1118N','R1124J','R1207J','R1230J','R1316T','R1329T','R1323T','R1337E','R1367D'] # subs that didn't load on 2020-07-04 encoding run\n",
    "# subs = ['R1368T','R1461T','R1463E'] # subs with particularly low localization.pair matches in pairs...see Excel in loading info on Box for details\n",
    "# subs = ['R1433E','R1355T','R1367D','R1368T'] # subs with \"ca3\" or \"dg\"\n",
    "subs = ['R1065J'] # subject with over 8000 FR1 trials X electrodes\n",
    "# bad_subs = ['R1433E','R1051J'] # no electrode cats\n",
    "# subs = ['R1379E','R1385E','R1387E','R1394E','R1402E'] # partial beep subs\n",
    "# subs = ['R1379E','R1402E','R1396T','R1395M','R1415T','R1389J','R1404E']  # test subs for eeg offset correction\n",
    "# subs = ['R1048E','R1054J','R1345D','R1328E','R1308T',\n",
    "#         'R1137E','R1136N','R1094T','R1122E','R1385E'] # nice example FR1 subs. Both have electrode_categories in pwanda scratch too\n",
    "# subs = ['R1048E']\n",
    "\n",
    "sub_df = df[(df.subject.isin(subs))  & (df.experiment == exp)] # all sessions for subs\n",
    "# sub_df = df[(df.subject.isin(subs))  & (df.experiment == exp) & (df.session==1)] # single session\n",
    "# sub_df = df[(df.experiment == exp) & (df.session == 0)] # all FR subs \n",
    "# sub_df = sub_df[0:6]\n",
    "sub_df"
   ]
  },
  {
   "cell_type": "code",
   "execution_count": 243,
   "metadata": {},
   "outputs": [
    {
     "name": "stderr",
     "output_type": "stream",
     "text": [
      "/home1/john/anaconda3/envs/env1/lib/python3.7/site-packages/ipykernel_launcher.py:19: UserWarning: Boolean Series key will be reindexed to match DataFrame index.\n"
     ]
    },
    {
     "data": {
      "text/plain": [
       "(554, 17)"
      ]
     },
     "execution_count": 243,
     "metadata": {},
     "output_type": "execute_result"
    },
    {
     "data": {
      "text/html": [
       "<div>\n",
       "<style scoped>\n",
       "    .dataframe tbody tr th:only-of-type {\n",
       "        vertical-align: middle;\n",
       "    }\n",
       "\n",
       "    .dataframe tbody tr th {\n",
       "        vertical-align: top;\n",
       "    }\n",
       "\n",
       "    .dataframe thead th {\n",
       "        text-align: right;\n",
       "    }\n",
       "</style>\n",
       "<table border=\"1\" class=\"dataframe\">\n",
       "  <thead>\n",
       "    <tr style=\"text-align: right;\">\n",
       "      <th></th>\n",
       "      <th>Recognition</th>\n",
       "      <th>all_events</th>\n",
       "      <th>contacts</th>\n",
       "      <th>experiment</th>\n",
       "      <th>import_type</th>\n",
       "      <th>localization</th>\n",
       "      <th>math_events</th>\n",
       "      <th>montage</th>\n",
       "      <th>original_experiment</th>\n",
       "      <th>original_session</th>\n",
       "      <th>pairs</th>\n",
       "      <th>ps4_events</th>\n",
       "      <th>session</th>\n",
       "      <th>subject</th>\n",
       "      <th>subject_alias</th>\n",
       "      <th>system_version</th>\n",
       "      <th>task_events</th>\n",
       "    </tr>\n",
       "  </thead>\n",
       "  <tbody>\n",
       "    <tr>\n",
       "      <th>0</th>\n",
       "      <td>NaN</td>\n",
       "      <td>protocols/r1/subjects/R1001P/experiments/FR1/s...</td>\n",
       "      <td>protocols/r1/subjects/R1001P/localizations/0/m...</td>\n",
       "      <td>FR1</td>\n",
       "      <td>build</td>\n",
       "      <td>0</td>\n",
       "      <td>protocols/r1/subjects/R1001P/experiments/FR1/s...</td>\n",
       "      <td>0</td>\n",
       "      <td>NaN</td>\n",
       "      <td>0</td>\n",
       "      <td>protocols/r1/subjects/R1001P/localizations/0/m...</td>\n",
       "      <td>NaN</td>\n",
       "      <td>0</td>\n",
       "      <td>R1001P</td>\n",
       "      <td>R1001P</td>\n",
       "      <td>NaN</td>\n",
       "      <td>protocols/r1/subjects/R1001P/experiments/FR1/s...</td>\n",
       "    </tr>\n",
       "    <tr>\n",
       "      <th>1</th>\n",
       "      <td>NaN</td>\n",
       "      <td>protocols/r1/subjects/R1001P/experiments/FR1/s...</td>\n",
       "      <td>protocols/r1/subjects/R1001P/localizations/0/m...</td>\n",
       "      <td>FR1</td>\n",
       "      <td>build</td>\n",
       "      <td>0</td>\n",
       "      <td>protocols/r1/subjects/R1001P/experiments/FR1/s...</td>\n",
       "      <td>0</td>\n",
       "      <td>NaN</td>\n",
       "      <td>1</td>\n",
       "      <td>protocols/r1/subjects/R1001P/localizations/0/m...</td>\n",
       "      <td>NaN</td>\n",
       "      <td>1</td>\n",
       "      <td>R1001P</td>\n",
       "      <td>R1001P</td>\n",
       "      <td>NaN</td>\n",
       "      <td>protocols/r1/subjects/R1001P/experiments/FR1/s...</td>\n",
       "    </tr>\n",
       "    <tr>\n",
       "      <th>9</th>\n",
       "      <td>NaN</td>\n",
       "      <td>protocols/r1/subjects/R1002P/experiments/FR1/s...</td>\n",
       "      <td>protocols/r1/subjects/R1002P/localizations/0/m...</td>\n",
       "      <td>FR1</td>\n",
       "      <td>build</td>\n",
       "      <td>0</td>\n",
       "      <td>protocols/r1/subjects/R1002P/experiments/FR1/s...</td>\n",
       "      <td>0</td>\n",
       "      <td>NaN</td>\n",
       "      <td>0</td>\n",
       "      <td>protocols/r1/subjects/R1002P/localizations/0/m...</td>\n",
       "      <td>NaN</td>\n",
       "      <td>0</td>\n",
       "      <td>R1002P</td>\n",
       "      <td>R1002P</td>\n",
       "      <td>NaN</td>\n",
       "      <td>protocols/r1/subjects/R1002P/experiments/FR1/s...</td>\n",
       "    </tr>\n",
       "    <tr>\n",
       "      <th>10</th>\n",
       "      <td>NaN</td>\n",
       "      <td>protocols/r1/subjects/R1002P/experiments/FR1/s...</td>\n",
       "      <td>protocols/r1/subjects/R1002P/localizations/0/m...</td>\n",
       "      <td>FR1</td>\n",
       "      <td>build</td>\n",
       "      <td>0</td>\n",
       "      <td>protocols/r1/subjects/R1002P/experiments/FR1/s...</td>\n",
       "      <td>0</td>\n",
       "      <td>NaN</td>\n",
       "      <td>1</td>\n",
       "      <td>protocols/r1/subjects/R1002P/localizations/0/m...</td>\n",
       "      <td>NaN</td>\n",
       "      <td>1</td>\n",
       "      <td>R1002P</td>\n",
       "      <td>R1002P</td>\n",
       "      <td>NaN</td>\n",
       "      <td>protocols/r1/subjects/R1002P/experiments/FR1/s...</td>\n",
       "    </tr>\n",
       "    <tr>\n",
       "      <th>17</th>\n",
       "      <td>NaN</td>\n",
       "      <td>protocols/r1/subjects/R1003P/experiments/FR1/s...</td>\n",
       "      <td>protocols/r1/subjects/R1003P/localizations/0/m...</td>\n",
       "      <td>FR1</td>\n",
       "      <td>build</td>\n",
       "      <td>0</td>\n",
       "      <td>protocols/r1/subjects/R1003P/experiments/FR1/s...</td>\n",
       "      <td>0</td>\n",
       "      <td>NaN</td>\n",
       "      <td>0</td>\n",
       "      <td>protocols/r1/subjects/R1003P/localizations/0/m...</td>\n",
       "      <td>NaN</td>\n",
       "      <td>0</td>\n",
       "      <td>R1003P</td>\n",
       "      <td>R1003P</td>\n",
       "      <td>1.0</td>\n",
       "      <td>protocols/r1/subjects/R1003P/experiments/FR1/s...</td>\n",
       "    </tr>\n",
       "    <tr>\n",
       "      <th>...</th>\n",
       "      <td>...</td>\n",
       "      <td>...</td>\n",
       "      <td>...</td>\n",
       "      <td>...</td>\n",
       "      <td>...</td>\n",
       "      <td>...</td>\n",
       "      <td>...</td>\n",
       "      <td>...</td>\n",
       "      <td>...</td>\n",
       "      <td>...</td>\n",
       "      <td>...</td>\n",
       "      <td>...</td>\n",
       "      <td>...</td>\n",
       "      <td>...</td>\n",
       "      <td>...</td>\n",
       "      <td>...</td>\n",
       "      <td>...</td>\n",
       "    </tr>\n",
       "    <tr>\n",
       "      <th>2149</th>\n",
       "      <td>NaN</td>\n",
       "      <td>protocols/r1/subjects/R1462M/experiments/FR1/s...</td>\n",
       "      <td>protocols/r1/subjects/R1462M/localizations/0/m...</td>\n",
       "      <td>FR1</td>\n",
       "      <td>build</td>\n",
       "      <td>0</td>\n",
       "      <td>protocols/r1/subjects/R1462M/experiments/FR1/s...</td>\n",
       "      <td>0</td>\n",
       "      <td>NaN</td>\n",
       "      <td>NaN</td>\n",
       "      <td>protocols/r1/subjects/R1462M/localizations/0/m...</td>\n",
       "      <td>NaN</td>\n",
       "      <td>0</td>\n",
       "      <td>R1462M</td>\n",
       "      <td>R1462M</td>\n",
       "      <td>3.4</td>\n",
       "      <td>protocols/r1/subjects/R1462M/experiments/FR1/s...</td>\n",
       "    </tr>\n",
       "    <tr>\n",
       "      <th>2151</th>\n",
       "      <td>NaN</td>\n",
       "      <td>protocols/r1/subjects/R1463E/experiments/FR1/s...</td>\n",
       "      <td>protocols/r1/subjects/R1463E/localizations/1/m...</td>\n",
       "      <td>FR1</td>\n",
       "      <td>build</td>\n",
       "      <td>1</td>\n",
       "      <td>protocols/r1/subjects/R1463E/experiments/FR1/s...</td>\n",
       "      <td>1</td>\n",
       "      <td>NaN</td>\n",
       "      <td>0</td>\n",
       "      <td>protocols/r1/subjects/R1463E/localizations/1/m...</td>\n",
       "      <td>NaN</td>\n",
       "      <td>0</td>\n",
       "      <td>R1463E</td>\n",
       "      <td>R1463E_1</td>\n",
       "      <td>3.4</td>\n",
       "      <td>protocols/r1/subjects/R1463E/experiments/FR1/s...</td>\n",
       "    </tr>\n",
       "    <tr>\n",
       "      <th>2152</th>\n",
       "      <td>NaN</td>\n",
       "      <td>protocols/r1/subjects/R1463E/experiments/FR1/s...</td>\n",
       "      <td>protocols/r1/subjects/R1463E/localizations/1/m...</td>\n",
       "      <td>FR1</td>\n",
       "      <td>build</td>\n",
       "      <td>1</td>\n",
       "      <td>protocols/r1/subjects/R1463E/experiments/FR1/s...</td>\n",
       "      <td>1</td>\n",
       "      <td>NaN</td>\n",
       "      <td>1</td>\n",
       "      <td>protocols/r1/subjects/R1463E/localizations/1/m...</td>\n",
       "      <td>NaN</td>\n",
       "      <td>1</td>\n",
       "      <td>R1463E</td>\n",
       "      <td>R1463E_1</td>\n",
       "      <td>3.4</td>\n",
       "      <td>protocols/r1/subjects/R1463E/experiments/FR1/s...</td>\n",
       "    </tr>\n",
       "    <tr>\n",
       "      <th>2166</th>\n",
       "      <td>NaN</td>\n",
       "      <td>protocols/r1/subjects/R1466J/experiments/FR1/s...</td>\n",
       "      <td>protocols/r1/subjects/R1466J/localizations/0/m...</td>\n",
       "      <td>FR1</td>\n",
       "      <td>build</td>\n",
       "      <td>0</td>\n",
       "      <td>protocols/r1/subjects/R1466J/experiments/FR1/s...</td>\n",
       "      <td>0</td>\n",
       "      <td>NaN</td>\n",
       "      <td>NaN</td>\n",
       "      <td>protocols/r1/subjects/R1466J/localizations/0/m...</td>\n",
       "      <td>NaN</td>\n",
       "      <td>0</td>\n",
       "      <td>R1466J</td>\n",
       "      <td>R1466J</td>\n",
       "      <td>3.4</td>\n",
       "      <td>protocols/r1/subjects/R1466J/experiments/FR1/s...</td>\n",
       "    </tr>\n",
       "    <tr>\n",
       "      <th>2170</th>\n",
       "      <td>NaN</td>\n",
       "      <td>protocols/r1/subjects/R1467M/experiments/FR1/s...</td>\n",
       "      <td>protocols/r1/subjects/R1467M/localizations/0/m...</td>\n",
       "      <td>FR1</td>\n",
       "      <td>build</td>\n",
       "      <td>0</td>\n",
       "      <td>protocols/r1/subjects/R1467M/experiments/FR1/s...</td>\n",
       "      <td>0</td>\n",
       "      <td>NaN</td>\n",
       "      <td>NaN</td>\n",
       "      <td>protocols/r1/subjects/R1467M/localizations/0/m...</td>\n",
       "      <td>NaN</td>\n",
       "      <td>0</td>\n",
       "      <td>R1467M</td>\n",
       "      <td>R1467M</td>\n",
       "      <td>3.4</td>\n",
       "      <td>protocols/r1/subjects/R1467M/experiments/FR1/s...</td>\n",
       "    </tr>\n",
       "  </tbody>\n",
       "</table>\n",
       "<p>554 rows × 17 columns</p>\n",
       "</div>"
      ],
      "text/plain": [
       "     Recognition                                         all_events  \\\n",
       "0            NaN  protocols/r1/subjects/R1001P/experiments/FR1/s...   \n",
       "1            NaN  protocols/r1/subjects/R1001P/experiments/FR1/s...   \n",
       "9            NaN  protocols/r1/subjects/R1002P/experiments/FR1/s...   \n",
       "10           NaN  protocols/r1/subjects/R1002P/experiments/FR1/s...   \n",
       "17           NaN  protocols/r1/subjects/R1003P/experiments/FR1/s...   \n",
       "...          ...                                                ...   \n",
       "2149         NaN  protocols/r1/subjects/R1462M/experiments/FR1/s...   \n",
       "2151         NaN  protocols/r1/subjects/R1463E/experiments/FR1/s...   \n",
       "2152         NaN  protocols/r1/subjects/R1463E/experiments/FR1/s...   \n",
       "2166         NaN  protocols/r1/subjects/R1466J/experiments/FR1/s...   \n",
       "2170         NaN  protocols/r1/subjects/R1467M/experiments/FR1/s...   \n",
       "\n",
       "                                               contacts experiment  \\\n",
       "0     protocols/r1/subjects/R1001P/localizations/0/m...        FR1   \n",
       "1     protocols/r1/subjects/R1001P/localizations/0/m...        FR1   \n",
       "9     protocols/r1/subjects/R1002P/localizations/0/m...        FR1   \n",
       "10    protocols/r1/subjects/R1002P/localizations/0/m...        FR1   \n",
       "17    protocols/r1/subjects/R1003P/localizations/0/m...        FR1   \n",
       "...                                                 ...        ...   \n",
       "2149  protocols/r1/subjects/R1462M/localizations/0/m...        FR1   \n",
       "2151  protocols/r1/subjects/R1463E/localizations/1/m...        FR1   \n",
       "2152  protocols/r1/subjects/R1463E/localizations/1/m...        FR1   \n",
       "2166  protocols/r1/subjects/R1466J/localizations/0/m...        FR1   \n",
       "2170  protocols/r1/subjects/R1467M/localizations/0/m...        FR1   \n",
       "\n",
       "     import_type  localization  \\\n",
       "0          build             0   \n",
       "1          build             0   \n",
       "9          build             0   \n",
       "10         build             0   \n",
       "17         build             0   \n",
       "...          ...           ...   \n",
       "2149       build             0   \n",
       "2151       build             1   \n",
       "2152       build             1   \n",
       "2166       build             0   \n",
       "2170       build             0   \n",
       "\n",
       "                                            math_events  montage  \\\n",
       "0     protocols/r1/subjects/R1001P/experiments/FR1/s...        0   \n",
       "1     protocols/r1/subjects/R1001P/experiments/FR1/s...        0   \n",
       "9     protocols/r1/subjects/R1002P/experiments/FR1/s...        0   \n",
       "10    protocols/r1/subjects/R1002P/experiments/FR1/s...        0   \n",
       "17    protocols/r1/subjects/R1003P/experiments/FR1/s...        0   \n",
       "...                                                 ...      ...   \n",
       "2149  protocols/r1/subjects/R1462M/experiments/FR1/s...        0   \n",
       "2151  protocols/r1/subjects/R1463E/experiments/FR1/s...        1   \n",
       "2152  protocols/r1/subjects/R1463E/experiments/FR1/s...        1   \n",
       "2166  protocols/r1/subjects/R1466J/experiments/FR1/s...        0   \n",
       "2170  protocols/r1/subjects/R1467M/experiments/FR1/s...        0   \n",
       "\n",
       "     original_experiment original_session  \\\n",
       "0                    NaN                0   \n",
       "1                    NaN                1   \n",
       "9                    NaN                0   \n",
       "10                   NaN                1   \n",
       "17                   NaN                0   \n",
       "...                  ...              ...   \n",
       "2149                 NaN              NaN   \n",
       "2151                 NaN                0   \n",
       "2152                 NaN                1   \n",
       "2166                 NaN              NaN   \n",
       "2170                 NaN              NaN   \n",
       "\n",
       "                                                  pairs ps4_events  session  \\\n",
       "0     protocols/r1/subjects/R1001P/localizations/0/m...        NaN        0   \n",
       "1     protocols/r1/subjects/R1001P/localizations/0/m...        NaN        1   \n",
       "9     protocols/r1/subjects/R1002P/localizations/0/m...        NaN        0   \n",
       "10    protocols/r1/subjects/R1002P/localizations/0/m...        NaN        1   \n",
       "17    protocols/r1/subjects/R1003P/localizations/0/m...        NaN        0   \n",
       "...                                                 ...        ...      ...   \n",
       "2149  protocols/r1/subjects/R1462M/localizations/0/m...        NaN        0   \n",
       "2151  protocols/r1/subjects/R1463E/localizations/1/m...        NaN        0   \n",
       "2152  protocols/r1/subjects/R1463E/localizations/1/m...        NaN        1   \n",
       "2166  protocols/r1/subjects/R1466J/localizations/0/m...        NaN        0   \n",
       "2170  protocols/r1/subjects/R1467M/localizations/0/m...        NaN        0   \n",
       "\n",
       "     subject subject_alias  system_version  \\\n",
       "0     R1001P        R1001P             NaN   \n",
       "1     R1001P        R1001P             NaN   \n",
       "9     R1002P        R1002P             NaN   \n",
       "10    R1002P        R1002P             NaN   \n",
       "17    R1003P        R1003P             1.0   \n",
       "...      ...           ...             ...   \n",
       "2149  R1462M        R1462M             3.4   \n",
       "2151  R1463E      R1463E_1             3.4   \n",
       "2152  R1463E      R1463E_1             3.4   \n",
       "2166  R1466J        R1466J             3.4   \n",
       "2170  R1467M        R1467M             3.4   \n",
       "\n",
       "                                            task_events  \n",
       "0     protocols/r1/subjects/R1001P/experiments/FR1/s...  \n",
       "1     protocols/r1/subjects/R1001P/experiments/FR1/s...  \n",
       "9     protocols/r1/subjects/R1002P/experiments/FR1/s...  \n",
       "10    protocols/r1/subjects/R1002P/experiments/FR1/s...  \n",
       "17    protocols/r1/subjects/R1003P/experiments/FR1/s...  \n",
       "...                                                 ...  \n",
       "2149  protocols/r1/subjects/R1462M/experiments/FR1/s...  \n",
       "2151  protocols/r1/subjects/R1463E/experiments/FR1/s...  \n",
       "2152  protocols/r1/subjects/R1463E/experiments/FR1/s...  \n",
       "2166  protocols/r1/subjects/R1466J/experiments/FR1/s...  \n",
       "2170  protocols/r1/subjects/R1467M/experiments/FR1/s...  \n",
       "\n",
       "[554 rows x 17 columns]"
      ]
     },
     "execution_count": 243,
     "metadata": {},
     "output_type": "execute_result"
    }
   ],
   "source": [
    "# 575 FR sessions. first 18 of don't load so skip those \n",
    "exp_df = df[df.experiment==exp]\n",
    "if exp == 'FR1':\n",
    "    exp_df = exp_df[\n",
    "                    ((df.subject!='R1015J') | (df.session!=0)) & \n",
    "                    ((df.subject!='R1063C') | (df.session!=1)) & \n",
    "                    ((df.subject!='R1093J') | (~df.session.isin([1,2]))) &\n",
    "                    ((df.subject!='R1100D') | (~df.session.isin([0,1,2]))) &\n",
    "                    ((df.subject!='R1120E') | (df.session!=0)) &\n",
    "                    ((df.subject!='R1122E') | (df.session!=2)) &\n",
    "                    ((df.subject!='R1154D') | (df.session!=0)) &\n",
    "                    ((df.subject!='R1186P') | (df.session!=0)) &\n",
    "                    ((df.subject!='R1201P') | (~df.session.isin([0,1]))) &\n",
    "                    ((df.subject!='R1216E') | (~df.session.isin([0,1,2]))) &\n",
    "                    ((df.subject!='R1277J') | (df.session!=0)) &\n",
    "                    ((df.subject!='R1413D') | (df.session!=0)) & \n",
    "                    ((df.subject!='R1123C') | (df.session!=2)) & # artifacts that bleed through channels (see SWR FR1 prob sessions ppt)\n",
    "                    ((df.subject!='R1151E') | (~df.session.isin([1,2]))) & # more bleed-through artifacts (see same ppt)\n",
    "                    ((df.subject!='R1275D') | (df.session!=3))  # 3rd session an actual repeat of 2nd session (Paul should have removed from database by now)\n",
    "    #                 (df.subject!='R1065J') # sub with 9000 trials\n",
    "                   ] \n",
    "if exp == 'catFR1': \n",
    "    exp_df = exp_df[\n",
    "                    ((df.subject!='R1044J') | (df.session!=0)) & # too few trials to do pg pairwise corr\n",
    "                    ((df.subject!='R1491T') | (~df.session.isin([1,3,5]))) & # too few trials to do pg pairwise corr\n",
    "                    ((df.subject!='R1486J') | (~df.session.isin([4,5,6,7]))) & # repeated data...will be removed at some point... @@\n",
    "                    ((df.subject!='R1501J') | (~df.session.isin([0,1,2,3,4,5]))) & # these weren't catFR1 (and they don't load right anyway)\n",
    "                    ((df.subject!='R1235E') | (df.session!=0)) & # split EEG filenames error...documented on Asana\n",
    "                    ((df.subject!='R1310J') | (df.session!=1)) & # session 1 is just a repeat of session 0\n",
    "                    ((df.subject!='R1239E') | (df.session!=0)) # some correlated noise (can see in catFR1 problem sessions ppt)\n",
    "    ]\n",
    "exp_df.shape\n",
    "# exp_df = exp_df[257:] # for catFR1 this is R1385E-onwwards\n",
    "# exp_df = exp_df[472:] # for FR1 this is R1385E-onwwards\n",
    "# exp_df[404:413]\n",
    "exp_df"
   ]
  },
  {
   "cell_type": "markdown",
   "metadata": {},
   "source": [
    "## Load CLUSTER data"
   ]
  },
  {
   "cell_type": "code",
   "execution_count": 244,
   "metadata": {},
   "outputs": [
    {
     "data": {
      "text/plain": [
       "array(['R1325C', 'R1310J', 'R1077T', 'R1288P', 'R1044J', 'R1108J',\n",
       "       'R1002P', 'R1131M', 'R1316T', 'R1215M'], dtype='<U6')"
      ]
     },
     "execution_count": 244,
     "metadata": {},
     "output_type": "execute_result"
    },
    {
     "data": {
      "text/plain": [
       "array(['R1306E', 'R1137E', 'R1105E', 'R1048E', 'R1138T', 'R1122E',\n",
       "       'R1094T', 'R1236J', 'R1120E', 'R1338T'], dtype='<U6')"
      ]
     },
     "execution_count": 244,
     "metadata": {},
     "output_type": "execute_result"
    },
    {
     "name": "stdout",
     "output_type": "stream",
     "text": [
      "2020-12-24_01-41-34: DF Exception: Sub: R1243T, Sess: 3, FileNotFoundError, [Errno 2] No such file or directory: '/scratch/john/SWR_scratch/IRIonly/SWR_FR1_R1243T_3_HPC_surrounding_recall_soz_in.p', file: <ipython-input-244-db782503f972>, line no: 78\n",
      "2020-12-24_01-41-35: DF Exception: Sub: R1316T, Sess: 0, FileNotFoundError, [Errno 2] No such file or directory: '/scratch/john/SWR_scratch/IRIonly/SWR_FR1_R1316T_0_HPC_surrounding_recall_soz_in.p', file: <ipython-input-244-db782503f972>, line no: 78\n",
      "2020-12-24_01-41-35: DF Exception: Sub: R1342M, Sess: 1, FileNotFoundError, [Errno 2] No such file or directory: '/scratch/john/SWR_scratch/IRIonly/SWR_FR1_R1342M_1_HPC_surrounding_recall_soz_in.p', file: <ipython-input-244-db782503f972>, line no: 78\n",
      "**Done reading data**\n",
      "**Done translating to ripple_array frame**!!\n",
      "...\n",
      "% of all subjects for FR1\n"
     ]
    },
    {
     "data": {
      "text/plain": [
       "34.13173652694611"
      ]
     },
     "execution_count": 244,
     "metadata": {},
     "output_type": "execute_result"
    },
    {
     "name": "stdout",
     "output_type": "stream",
     "text": [
      "% of recalls for FR1\n"
     ]
    },
    {
     "data": {
      "text/plain": [
       "25.30744657960508"
      ]
     },
     "execution_count": 244,
     "metadata": {},
     "output_type": "execute_result"
    }
   ],
   "source": [
    "## Now to load data from cluster, have to go through and append across sessions\n",
    "\n",
    "### params that clusterRun used (note that exp is defined in first cell so can get exp_df above)\n",
    "selected_period = 'surrounding_recall' # surrounding_recall # whole_retrieval # encoding \n",
    "recall_type_switch = 6\n",
    "    # (1 and 3 are basically opposites...those with a subsequent recall and those without)\n",
    "    # 0: Original analysis taking only recalls without a recall in 2 s IRI before them\n",
    "    # 1: Take these same recalls, but keep only those WITH a recall within 2 s after they occur \n",
    "    # 2: test condition where we look at second recalls within IRI ONLY (there is an initial recall in 2 s before current recall)\n",
    "    # 3: isolatead recalls with no other recalls +/- RECALL_MINIMUM s\n",
    "    # 4: only first recall of every retrieval period\n",
    "    # 5: take only those recalls that come second in retrieval period within 2 s of first retrieval\n",
    "    # 6: take only NOT first recall of every retrieval period (opposite of 4)\n",
    "    # 7: take only NOT first recall AND ISOLATED trials (this should REALLY maximize SWR bump)\n",
    "    # 8: take only 2nd recalls\n",
    "    # 10: same as 0 but with no IRI (mostly just to see number of recalls)\n",
    "recall_minimum = 2000 # used if recall_type_switch = 3\n",
    "region_name = 'HPC' #'ENT' #'HPC' #HPC_ENT #ENT #HPC # PHC \n",
    "remove_soz_ictal = False\n",
    "###\n",
    "\n",
    "# get strings for path name for save and loading cluster data\n",
    "if recall_type_switch in [0,4,6,8]:\n",
    "    # for these I'm using all trials, but selecting for which recall after the fact\n",
    "    soz_label,recall_selection_name,subfolder = getSWRpathInfo(remove_soz_ictal,0,selected_period,recall_minimum)\n",
    "else: # these others I haven't set up indexing (see >line 100 in this cell)\n",
    "    soz_label,recall_selection_name,subfolder = getSWRpathInfo(remove_soz_ictal,recall_type_switch,selected_period,recall_minimum)\n",
    "    \n",
    "ripple_array = []; \n",
    "trial_nums = []; encoded_word_key_array = []\n",
    "HPC_names = []; sub_sess_names = []\n",
    "region_electrode_ct = []; sub_names = []\n",
    "trial_by_trial_correlation = []; elec_ripple_rate_array = []\n",
    "elec_by_elec_correlation = []; fr_array = []\n",
    "list_num_key = []\n",
    "\n",
    "serialpos_array = []; list_recall_num_array = []; # ~~~\n",
    "rectime_array = []; recall_before_intrusion_array = []\n",
    "recall_position_array = []\n",
    "\n",
    "electrode_labels = []; channel_coords = []; channel_nums = []\n",
    "\n",
    "# for seed in np.arange(44448,44499):\n",
    "#     print(seed); ripple_array = []; sub_names = []\n",
    "\n",
    "# Makes most sense to take half the subjects \n",
    "if exp == 'FR1':\n",
    "    np.random.seed(44462) # seed 44462 gives 25,845 of 60,417 recall trials (42.8%). Or 57/167 (34.1% of subs)\n",
    "    from SWRmodule import total_sub_names_FR1 # all the unique sub names for FR1 task in df\n",
    "    total_sub_names = copy(total_sub_names_FR1)\n",
    "    proportion_subs = 0.5 # it's really 0.5 of initial pre-localization.pairs subs. So comes out to numbers above. And what we want to match for catFR1\n",
    "elif exp == 'catFR1':\n",
    "    np.random.seed(44455) # seed 44455 gives 20,393 of 50,053 recall trials (40.7%). Or 47/136 (34.6% of subs)\n",
    "    from SWRmodule import total_sub_names_catFR1 # all the unique sub names for FR1 task in df\n",
    "    total_sub_names = copy(total_sub_names_catFR1)\n",
    "    proportion_subs = 0.35 # 0.5\n",
    "random_half_sub_names = np.random.permutation(np.unique(total_sub_names))[:int(np.floor(len(np.unique(total_sub_names))*proportion_subs))]\n",
    "random_half_sub_names[:10] # just to see them\n",
    "random_half_sub_names[-10:]\n",
    "half_sub_idxs = np.array(findAinB(random_half_sub_names,exp_df.subject))\n",
    "half_df = exp_df.iloc[half_sub_idxs]\n",
    "\n",
    "# # these subjects failed to work in ClusterRun for whole_retrieval...probably can delete this it was more of a check to understand fr_array/ripple_array mismatch issue\n",
    "# half_df = half_df[ ((df.subject!='R1083J') | (df.session!=3)) & \n",
    "#                 ((df.subject!='R1342M') | (df.session!=1)) ]\n",
    "\n",
    "\n",
    "\n",
    "for row in half_df.itertuples(): #sub_df.itertuples():  #half_df.itertuples(): ### DON'T CHANGE THIS TO EXP\n",
    "\n",
    "    \n",
    "    try:\n",
    "        sub = row.subject; session = row.session; exp = row.experiment\n",
    "\n",
    "        path_name = '/scratch/john/SWR_scratch/'+subfolder\n",
    "        fn = os.path.join(path_name,\n",
    "            'SWR_'+exp+'_'+sub+'_'+str(session)+'_'+region_name+'_'+selected_period+recall_selection_name+'_'+soz_label+'.p') \n",
    "        with open(fn,'rb') as f:\n",
    "            dat = pickle.load(f)\n",
    "\n",
    "            ripple_array = superVstack(ripple_array,dat['ripple_array']) \n",
    "            region_electrode_ct.append(dat['region_electrode_ct'])\n",
    "            encoded_word_key_array.extend(dat['encoded_word_key_array'])\n",
    "            HPC_names.extend(dat['HPC_names'])\n",
    "            sub_sess_names.extend(dat['sub_sess_names'])\n",
    "            sub_names.extend(dat['sub_names'])\n",
    "            trial_nums = np.append(trial_nums,dat['trial_nums'])\n",
    "            trial_by_trial_correlation.extend(dat['trial_by_trial_correlation']) # one value for each electrode for this session\n",
    "            elec_by_elec_correlation = np.append(elec_by_elec_correlation,dat['elec_by_elec_correlation'])\n",
    "            elec_ripple_rate_array.extend(dat['elec_ripple_rate_array']) # ripple rate by electrode so append\n",
    "            #,'total_recalls':total_recalls, 'kept_recalls':kept_recalls}, f)\n",
    "            if selected_period == 'whole_retrieval':\n",
    "                if np.shape(dat['fr_array'])[0]!=np.shape(dat['ripple_array'])[0]:\n",
    "                    print(sub+str(session))\n",
    "                fr_array = superVstack(fr_array,dat['fr_array'])\n",
    "            if selected_period == 'encoding':\n",
    "                serialpos_array.extend(dat['serialpos_array'])\n",
    "            if selected_period == 'surrounding_recall': # ~~~\n",
    "                serialpos_array.extend(dat['serialpos_array']); list_recall_num_array.extend(dat['list_recall_num_array']) # ~~\n",
    "                rectime_array.extend(dat['rectime_array']); recall_before_intrusion_array.extend(dat['recall_before_intrusion_array'])\n",
    "                recall_position_array.extend(dat['recall_position_array'])\n",
    "            electrode_labels.extend(dat['electrode_labels'])\n",
    "            channel_coords.extend(dat['channel_coords'])\n",
    "            channel_nums.extend(dat['channel_nums'])\n",
    "            list_num_key.extend(dat['list_num_key'])\n",
    "\n",
    "    except Exception as e:\n",
    "        LogDFExceptionLine(row, e, 'ClusterLoadSWR_log.txt')  \n",
    "print('**Done reading data**')\n",
    "        \n",
    "# loading *all* the recalls with 0, but if it's 4 or 6 load just those trials\n",
    "\n",
    "# trying new method of loading...translate these to ripple_array length dependent on recall_type_switch \n",
    "# (this way I can always load from recall_type_switch = 0)\n",
    "subject_name_array,session_name_array,electrode_array,channel_coords_array,channel_nums_array = getSubSessPredictorsWithChannelNums(\n",
    "        sub_names,sub_sess_names,trial_nums,electrode_labels,channel_coords,channel_nums)\n",
    "if selected_period == 'surrounding_recall':\n",
    "    if recall_type_switch == 4:\n",
    "        temp_recall_idxs = np.array(recall_position_array)==1\n",
    "    elif recall_type_switch == 6:\n",
    "        temp_recall_idxs = np.array(recall_position_array)>1\n",
    "    elif recall_type_switch == 8:\n",
    "        temp_recall_idxs = np.array(recall_position_array)==2\n",
    "    else:\n",
    "        temp_recall_idxs = np.array(recall_position_array)>0\n",
    "        \n",
    "    subject_name_array = np.array(subject_name_array)[temp_recall_idxs]\n",
    "    session_name_array = np.array(session_name_array)[temp_recall_idxs]\n",
    "    electrode_array = np.array(electrode_array)[temp_recall_idxs]\n",
    "    channel_coords_array = np.array(channel_coords_array)[temp_recall_idxs]\n",
    "    channel_nums_array = np.array(channel_nums_array)[temp_recall_idxs]\n",
    "    ripple_array = np.array(ripple_array)[temp_recall_idxs]\n",
    "    serialpos_array = np.array(serialpos_array)[temp_recall_idxs]\n",
    "    list_recall_num_array = np.array(list_recall_num_array)[temp_recall_idxs]\n",
    "    rectime_array = np.array(rectime_array)[temp_recall_idxs]\n",
    "    recall_before_intrusion_array = np.array(recall_before_intrusion_array)[temp_recall_idxs]\n",
    "    recall_position_array = np.array(recall_position_array)[temp_recall_idxs]\n",
    "    list_num_key = np.array(list_num_key)[temp_recall_idxs]\n",
    "print('**Done translating to ripple_array frame**!!')\n",
    "print('...')\n",
    "print('% of all subjects for '+exp)\n",
    "if exp == 'catFR1':\n",
    "    len(np.unique(sub_names))/136*100 # % HPC subs for catFR1\n",
    "    print('% of recalls for '+exp)\n",
    "    ripple_array.shape[0]/50053*100 # % recalls for catFR1\n",
    "if exp == 'FR1':\n",
    "    len(np.unique(sub_names))/167*100 # % HPC subs for catFR1\n",
    "    print('% of recalls for '+exp)\n",
    "    ripple_array.shape[0]/60417*100 # % recalls for catFR1"
   ]
  },
  {
   "cell_type": "code",
   "execution_count": 245,
   "metadata": {},
   "outputs": [
    {
     "data": {
      "text/plain": [
       "(15290, 2000)"
      ]
     },
     "execution_count": 245,
     "metadata": {},
     "output_type": "execute_result"
    },
    {
     "name": "stdout",
     "output_type": "stream",
     "text": [
      "From 115/123 sessions with >0 HPC electrodes\n",
      "Total electrodes: 538\n",
      "Length of HPC names: 538\n",
      "Total trials: 25787.0\n",
      "Unique sessions: 115\n",
      "Unique subjects: 57\n",
      "Total electrodes: 538\n",
      "['left ca1' 'left ca2' 'left ca3' 'left dg' 'left hippocampus' 'left sub'\n",
      " 'right ca1' 'right dg' 'right hippocampus' 'right sub']\n",
      "172 for left ca1\n",
      "9 for left ca2\n",
      "8 for left ca3\n",
      "125 for left dg\n",
      "36 for left hippocampus\n",
      "22 for left sub\n",
      "86 for right ca1\n",
      "43 for right dg\n",
      "14 for right hippocampus\n",
      "23 for right sub\n"
     ]
    }
   ],
   "source": [
    "## some info on data loaded from cluster runs ##\n",
    "ripple_array.shape\n",
    "\n",
    "region_electrode_ct = np.array(region_electrode_ct)\n",
    "# print('Number of electrodes in each session: '); region_electrode_ct\n",
    "print('From '+str(sum(region_electrode_ct>0))+'/'+str(len(region_electrode_ct))+' sessions with >0 '+region_name+' electrodes')\n",
    "print('Total electrodes: '+str(sum(region_electrode_ct)))\n",
    "print('Length of HPC names: '+str(len(HPC_names)))\n",
    "print('Total trials: '+str(np.sum(trial_nums)))\n",
    "print('Unique sessions: '+str(len(np.unique(sub_sess_names))))\n",
    "print('Unique subjects: '+str(len(np.unique(sub_names))))\n",
    "\n",
    "# some info about regions \n",
    "print('Total electrodes: '+str(len(HPC_names)))\n",
    "unique_names = np.unique(HPC_names); print(unique_names)\n",
    "for name in unique_names:\n",
    "    num_elecs = sum(np.array([names.find(name) for names in HPC_names])>=0)\n",
    "    print(str(num_elecs)+' for '+name)"
   ]
  },
  {
   "cell_type": "markdown",
   "metadata": {},
   "source": [
    "## LOCAL run (original program)"
   ]
  },
  {
   "cell_type": "code",
   "execution_count": 5,
   "metadata": {
    "collapsed": true,
    "jupyter": {
     "outputs_hidden": true,
     "source_hidden": true
    }
   },
   "outputs": [
    {
     "name": "stdout",
     "output_type": "stream",
     "text": [
      "> \u001b[0;32m/home1/john/johnModules/SWRmodule.py\u001b[0m(777)\u001b[0;36mcorrectEEGoffset\u001b[0;34m()\u001b[0m\n",
      "\u001b[0;32m    776 \u001b[0;31m    \u001b[0;32mimport\u001b[0m \u001b[0mipdb\u001b[0m\u001b[0;34m;\u001b[0m \u001b[0mipdb\u001b[0m\u001b[0;34m.\u001b[0m\u001b[0mset_trace\u001b[0m\u001b[0;34m(\u001b[0m\u001b[0;34m)\u001b[0m\u001b[0;34m\u001b[0m\u001b[0;34m\u001b[0m\u001b[0m\n",
      "\u001b[0m\u001b[0;32m--> 777 \u001b[0;31m    \u001b[0msr\u001b[0m \u001b[0;34m=\u001b[0m \u001b[0mtemp_eeg\u001b[0m\u001b[0;34m.\u001b[0m\u001b[0msamplerate\u001b[0m\u001b[0;34m\u001b[0m\u001b[0;34m\u001b[0m\u001b[0m\n",
      "\u001b[0m\u001b[0;32m    778 \u001b[0;31m    \u001b[0msr_factor\u001b[0m \u001b[0;34m=\u001b[0m \u001b[0;36m1000\u001b[0m\u001b[0;34m/\u001b[0m\u001b[0msr\u001b[0m\u001b[0;34m\u001b[0m\u001b[0;34m\u001b[0m\u001b[0m\n",
      "\u001b[0m\n"
     ]
    },
    {
     "name": "stdin",
     "output_type": "stream",
     "text": [
      "ipdb>  sub\n"
     ]
    },
    {
     "name": "stdout",
     "output_type": "stream",
     "text": [
      "'R1461T'\n"
     ]
    },
    {
     "name": "stdin",
     "output_type": "stream",
     "text": [
      "ipdb>  session\n"
     ]
    },
    {
     "name": "stdout",
     "output_type": "stream",
     "text": [
      "0\n"
     ]
    },
    {
     "name": "stdin",
     "output_type": "stream",
     "text": [
      "ipdb>  c\n"
     ]
    },
    {
     "name": "stdout",
     "output_type": "stream",
     "text": [
      "--Call--\n",
      "> \u001b[0;32m/home1/john/anaconda3/envs/env1/lib/python3.7/site-packages/IPython/core/displayhook.py\u001b[0m(252)\u001b[0;36m__call__\u001b[0;34m()\u001b[0m\n",
      "\u001b[0;32m    251 \u001b[0;31m\u001b[0;34m\u001b[0m\u001b[0m\n",
      "\u001b[0m\u001b[0;32m--> 252 \u001b[0;31m    \u001b[0;32mdef\u001b[0m \u001b[0m__call__\u001b[0m\u001b[0;34m(\u001b[0m\u001b[0mself\u001b[0m\u001b[0;34m,\u001b[0m \u001b[0mresult\u001b[0m\u001b[0;34m=\u001b[0m\u001b[0;32mNone\u001b[0m\u001b[0;34m)\u001b[0m\u001b[0;34m:\u001b[0m\u001b[0;34m\u001b[0m\u001b[0;34m\u001b[0m\u001b[0m\n",
      "\u001b[0m\u001b[0;32m    253 \u001b[0;31m        \"\"\"Printing with history cache management.\n",
      "\u001b[0m\n"
     ]
    },
    {
     "name": "stdin",
     "output_type": "stream",
     "text": [
      "ipdb>  u\n"
     ]
    },
    {
     "name": "stdout",
     "output_type": "stream",
     "text": [
      "> \u001b[0;32m<ipython-input-5-3426c11c18a5>\u001b[0m(183)\u001b[0;36m<module>\u001b[0;34m()\u001b[0m\n",
      "\u001b[0;32m    182 \u001b[0;31m        \u001b[0msr\u001b[0m \u001b[0;34m=\u001b[0m \u001b[0meeg\u001b[0m\u001b[0;34m.\u001b[0m\u001b[0msamplerate\u001b[0m\u001b[0;34m\u001b[0m\u001b[0;34m\u001b[0m\u001b[0m\n",
      "\u001b[0m\u001b[0;32m--> 183 \u001b[0;31m        \u001b[0;32mimport\u001b[0m \u001b[0mipdb\u001b[0m\u001b[0;34m;\u001b[0m \u001b[0mipdb\u001b[0m\u001b[0;34m.\u001b[0m\u001b[0mset_trace\u001b[0m\u001b[0;34m(\u001b[0m\u001b[0;34m)\u001b[0m\u001b[0;34m\u001b[0m\u001b[0;34m\u001b[0m\u001b[0m\n",
      "\u001b[0m\u001b[0;32m    184 \u001b[0;31m\u001b[0;34m\u001b[0m\u001b[0m\n",
      "\u001b[0m\n"
     ]
    },
    {
     "name": "stdin",
     "output_type": "stream",
     "text": [
      "ipdb>  sub\n"
     ]
    },
    {
     "name": "stdout",
     "output_type": "stream",
     "text": [
      "'R1461T'\n"
     ]
    },
    {
     "name": "stdin",
     "output_type": "stream",
     "text": [
      "ipdb>  session\n"
     ]
    },
    {
     "name": "stdout",
     "output_type": "stream",
     "text": [
      "0\n"
     ]
    },
    {
     "name": "stdin",
     "output_type": "stream",
     "text": [
      "ipdb>  c\n"
     ]
    },
    {
     "name": "stdout",
     "output_type": "stream",
     "text": [
      "> \u001b[0;32m/home1/john/johnModules/SWRmodule.py\u001b[0m(777)\u001b[0;36mcorrectEEGoffset\u001b[0;34m()\u001b[0m\n",
      "\u001b[0;32m    776 \u001b[0;31m    \u001b[0;32mimport\u001b[0m \u001b[0mipdb\u001b[0m\u001b[0;34m;\u001b[0m \u001b[0mipdb\u001b[0m\u001b[0;34m.\u001b[0m\u001b[0mset_trace\u001b[0m\u001b[0;34m(\u001b[0m\u001b[0;34m)\u001b[0m\u001b[0;34m\u001b[0m\u001b[0;34m\u001b[0m\u001b[0m\n",
      "\u001b[0m\u001b[0;32m--> 777 \u001b[0;31m    \u001b[0msr\u001b[0m \u001b[0;34m=\u001b[0m \u001b[0mtemp_eeg\u001b[0m\u001b[0;34m.\u001b[0m\u001b[0msamplerate\u001b[0m\u001b[0;34m\u001b[0m\u001b[0;34m\u001b[0m\u001b[0m\n",
      "\u001b[0m\u001b[0;32m    778 \u001b[0;31m    \u001b[0msr_factor\u001b[0m \u001b[0;34m=\u001b[0m \u001b[0;36m1000\u001b[0m\u001b[0;34m/\u001b[0m\u001b[0msr\u001b[0m\u001b[0;34m\u001b[0m\u001b[0;34m\u001b[0m\u001b[0m\n",
      "\u001b[0m\n"
     ]
    },
    {
     "name": "stdin",
     "output_type": "stream",
     "text": [
      "ipdb>  session\n"
     ]
    },
    {
     "name": "stdout",
     "output_type": "stream",
     "text": [
      "1\n"
     ]
    },
    {
     "name": "stdin",
     "output_type": "stream",
     "text": [
      "ipdb>  sr\n"
     ]
    },
    {
     "name": "stdout",
     "output_type": "stream",
     "text": [
      "*** NameError: name 'sr' is not defined\n"
     ]
    },
    {
     "name": "stdin",
     "output_type": "stream",
     "text": [
      "ipdb>  temp_eeg\n"
     ]
    },
    {
     "name": "stdout",
     "output_type": "stream",
     "text": [
      "<cmlreaders.eeg_container.EEGContainer object at 0x2b472f3d5690>\n"
     ]
    },
    {
     "name": "stdin",
     "output_type": "stream",
     "text": [
      "ipdb>  temp_eeg.shape\n"
     ]
    },
    {
     "name": "stdout",
     "output_type": "stream",
     "text": [
      "(9, 123, 100)\n"
     ]
    },
    {
     "name": "stdin",
     "output_type": "stream",
     "text": [
      "ipdb>  q\n"
     ]
    },
    {
     "name": "stdout",
     "output_type": "stream",
     "text": [
      "2020-12-10_13-12-40: DF Exception: Sub: R1461T, Sess: 1, BdbQuit, , file: <ipython-input-5-3426c11c18a5>, line no: 176\n"
     ]
    }
   ],
   "source": [
    "import mne\n",
    "from scipy.signal import firwin,filtfilt,kaiserord\n",
    "import pingouin as pg\n",
    "%autoreload\n",
    "HPC_labels,ENT_labels,PHC_labels = getMTLregions(MTL_labels)\n",
    "\n",
    "### PARAMS ###\n",
    "\n",
    "save_values = 0\n",
    "\n",
    "selected_period = 'surrounding_recall' # surrounding_recall # whole_retrieval # encoding \n",
    "# there are three periods this code is set up to look at: periods aligned to recall, the entire retrieval period, and the encoding period\n",
    "recall_type_switch = 0 # how do we select recalls?? Numbers 0:3\n",
    "# 0: Original analysis taking only recalls without a recall in 2 s IRI before them\n",
    "# 1: Take these same recalls, but keep only those WITH a recall within 2 s after they occur\n",
    "# 2: test condition where we look at second recalls within IRI ONLY\n",
    "# 3: ISOLATED only!\n",
    "# 4: only first recall of every retrieval period\n",
    "# 5: take only those recalls that come second in retrieval period within 2 s of first retrieval\n",
    "# 6: take only NOT first recall of every retrieval period\n",
    "# 7: take only NOT first recall AND ISOLATED trials (this should REALLY maximize SWR bump)\n",
    "# 10: same as 0 but with no IRI (mostly just to see number of recalls)\n",
    "\n",
    "selected_region = HPC_labels #HPC_labels # ENT_labels+HPC_labels \n",
    "\n",
    "remove_soz_ictal = True # False only removes bad electrodes and not soz/ictal\n",
    "min_ripple_rate = 0.1 # Hz.\n",
    "max_ripple_rate = 1.5 # Hz.\n",
    "max_trial_by_trial_correlation = 0.05 # if ripples correlated more than this remove them\n",
    "max_electrode_by_electrode_correlation = 0.2 #???\n",
    "\n",
    "filter_type = 'hamming' # 'butter' # Vaz used Butterworth from 80-120 Hz; Norman used Hamming from 70-180 Hz\n",
    "# •Butterworth from Vaz et al: 2nd order from 80-120 ms, hilbert, select events >2 STD above mean of filtered traces.\n",
    "#      Events >=25 ms long w/ max amp >3 SD were retained as ripples. Join adjacent ripples separated by <15 ms \n",
    "# •Hilbert from Norman et al: \"70-180 Hz zero-lag linear-phase Hamming FIR filter w/ transition bandwidth of 5 Hz\"\n",
    "#      Then Hilbert, clip extreme to 4 SD, square this clipped, smooth w/ Kaiser FIR low-pass filter with 40 Hz cutoff,\n",
    "#      mean and SD computed across entire experimental duration to define the threshold for event detection\n",
    "#      Events from original (squared but unclipped) signal >4 SD above baseline were selected as candidate SWR events. \n",
    "#      Duration expanded until ripple power <2 SD. Events <20 ms or >200 ms excluded. Adjacent events <30 ms separation (peak-to-peak) merged.\n",
    "# •Using IED detection from Vaz for 250 Hz highpass events (really 250-499). Norman uses 20-60 Hz events which is...odd.\n",
    "#       See detectRipples code in module for this algorithm\n",
    "\n",
    "\n",
    "# recall params\n",
    "recall_minimum = 2000\n",
    "IRI = 2000 # inter-ripple interval...remove ripples within this range (keep only first one and remove those after it)\n",
    "retrieval_whole_time = 30000\n",
    "# encoding params\n",
    "encoding_time = 2300 # actual preentation is 1.6 s + 0.75-1.0 s so keep +700 ms so can plot +500 ms\n",
    "pre_encoding_time = -700 # since minimum ISI is 0.75 s let's only plot the 500 ms before word on with a 200 ms buffer\n",
    "# these aren't likely to be changed:\n",
    "desired_sample_rate = 500. # in Hz. This seems like lowerst common denominator recording freq.\n",
    "eeg_buffer = 300 # buffer to add to either end of IRI when processing eeg #**\n",
    "\n",
    "### END PARAMS ###\n",
    "\n",
    "if 'entorhinal' in selected_region and 'left hippocampus' in selected_region:\n",
    "    region_name = 'HPC_ENT'\n",
    "elif 'entorhinal' in selected_region:\n",
    "    region_name = 'ENT'\n",
    "elif 'left hippocampus' in selected_region:\n",
    "    region_name = 'HPC'\n",
    "if selected_period == 'surrounding_recall':\n",
    "    psth_start = -IRI # only makes sense to look at period <= IRI\n",
    "    psth_end = IRI # how long to grab data after recall\n",
    "elif selected_period == 'whole_retrieval':\n",
    "    psth_start = -IRI # doesn't have to be IRI just 2000 ms is convenient\n",
    "    psth_end = IRI+retrieval_whole_time\n",
    "elif selected_period == 'encoding':\n",
    "    psth_start = pre_encoding_time\n",
    "    psth_end = encoding_time\n",
    "\n",
    "ripple_array = []; fr_array = []; \n",
    "trial_nums = []; \n",
    "session_ct = 0; channel_ct = 0; total_channel_ct = 0\n",
    "HPC_names = []; sub_names = []; sub_sess_names = []\n",
    "electrodes_per_session = []\n",
    "total_lists = 0; total_recalls = 0; kept_recalls = 0\n",
    "align_adjust = 0\n",
    "ent_elec_ct = []; sd_regions = []; not_sd_regions = []\n",
    "ripple_ied_accum_ct = []\n",
    "time_add_save = [];             \n",
    "encoded_word_key_array = []\n",
    "list_num_key = []\n",
    "\n",
    "list_recall_num_array = []; rectime_array = []; recall_before_intrusion_array = [] # new ones added 2020-11-24\n",
    "serialpos_array = [] # used to be encoding info but commandeered for surrounding_recalls ~~~\n",
    "recall_position_array = []; recall_index_array = []\n",
    "\n",
    "trial_by_trial_correlation = []; elec_by_elec_correlation = []\n",
    "elec_ripple_rate_array = []\n",
    "\n",
    "channel_coords = []; electrode_labels = []; channel_nums = []\n",
    "\n",
    "for row in sub_df.itertuples(): #sub_df.itertuples():   \n",
    "    try:\n",
    "        sub = row.subject; session = row.session; exp = row.experiment\n",
    "        mont = int(row.montage); loc = int(row.localization)\n",
    "        reader = CMLReadDFRow(row)\n",
    "        evs = reader.load('task_events')\n",
    "        evs_free_recall = evs[(evs.type=='REC_WORD') & (evs.recalled==True)] # recalled word AND correct (from this list...no instrusions).        \n",
    "        word_evs = evs[evs['type']=='WORD'] # get words \n",
    "        \n",
    "        # select which recalls??         \n",
    "        [recall_selection_name,selected_recalls_idxs] = selectRecallType(recall_type_switch,evs_free_recall,IRI,recall_minimum)\n",
    "      \n",
    "        _,nonrepeat_indicator = removeRepeatedRecalls(evs_free_recall,word_evs) # remove free recalls that happened more than once\n",
    "        \n",
    "        # let's make sure remaining recalls are not repeated, have eeg, and are not from non-practice lists\n",
    "        good_recalls = selected_recalls_idxs & (nonrepeat_indicator>0) & np.array(evs_free_recall.eegoffset>-1) & np.array(evs_free_recall.list > -1)\n",
    "        evs_free_recall = evs_free_recall[good_recalls]\n",
    "        \n",
    "        # get temp key of recalls that lead to intrusions ~~~\n",
    "        pre_intrusion_recalls = getRecallsBeforeIntrusions(evs,evs_free_recall)\n",
    "\n",
    "        if len(evs_free_recall)==0: #...and that any are left!\n",
    "            continue\n",
    "\n",
    "        # get output position in each list for this session's recalls\n",
    "        session_corrected_list_ops = getOutputPositions(evs,evs_free_recall)\n",
    "            \n",
    "        pairs = reader.load('pairs')\n",
    "        try:\n",
    "            localizations = reader.load('localization')\n",
    "        except:\n",
    "            localizations = []\n",
    "        tal_struct, bipolar_pairs, mpchans = get_bp_tal_struct(sub, montage=mont, localization=loc)\n",
    "        elec_regions,atlas_type,pair_number,has_stein_das = get_elec_regions(localizations,pairs) \n",
    "\n",
    "#         # count elec regions with specific string...mostly here to comment out below and test for good sessions\n",
    "#         if len(findAinB(ENT_labels,elec_regions))>0:\n",
    "#             ent_ct = len(findAinB(ENT_labels,elec_regions))\n",
    "#             ent_elec_ct = np.append(ent_elec_ct,sub+'_'+str(session)+'_ct-'+str(ent_ct))\n",
    "\n",
    "        # load eeg\n",
    "        if selected_period == 'surrounding_recall':\n",
    "            total_recalls = total_recalls + len(evs_free_recall) # get total recalls from lists\n",
    "            total_lists = total_lists + len(evs[evs.type=='WORD'].list.unique()) # get total lists\n",
    "            kept_recalls = kept_recalls + len(evs_free_recall)\n",
    "            eeg_events = evs_free_recall\n",
    "        elif selected_period == 'whole_retrieval':\n",
    "            # grab whole retrieval periods for a better baseline of SWRs\n",
    "            evs_rets = evs[evs.type=='REC_START']\n",
    "            evs_rets = evs_rets[evs_rets.list>-1] # remove practice lists\n",
    "            evs_rets = evs_rets[evs_rets.eegoffset>-1] # any trial with no eeg gets removed by cmlreaders so it's not in ripple_array \n",
    "            eeg_events = evs_rets\n",
    "            \n",
    "            # get alignmnet of end of beep time to EEG so can align retrieval to end of beep across all sessions\n",
    "            align_adjust = getRetrievalStartAlignmentCorrection(sub,session,exp) # in ms\n",
    "            \n",
    "        elif selected_period == 'encoding':\n",
    "            ## apparently there are repeated words?? should add program to check and remove\n",
    "            # I'm going to save encoding word events too, but need a mask to keep track of:\n",
    "            # 0) words not recalled 1) words recalled from this list 2) words later recalled BUT IRI<2 s so removed\n",
    "            evs_encoding_words = evs[evs.type=='WORD']\n",
    "            evs_encoding_words = evs_encoding_words[evs_encoding_words.list>-1]            \n",
    "            evs_encoding_words = evs_encoding_words[evs_encoding_words.eegoffset>-1]\n",
    "            encoded_word_key = np.zeros(len(evs_encoding_words)) # 0 for not recalled\n",
    "            encoded_word_key[evs_encoding_words.recalled==True] = 2 # 2 for recalled but removed bc IRI<2 s\n",
    "            encoded_word_key[evs_encoding_words.item_name.isin(evs_free_recall.item_name.unique())] = 1 # recalled words\n",
    "            # since finding all encoding words IN the list of correctly free recalled words won't have any intrusions\n",
    "            eeg_events = evs_encoding_words\n",
    "\n",
    "        # fixing bad trials\n",
    "        if sub == 'R1045E' and exp=='FR1': # this one session has issues in eeg trials past these points so remove events\n",
    "            if selected_period == 'surrounding_recall':\n",
    "                eeg_events = eeg_events.iloc[:65,:] # only the first 66 recalls have good eeg\n",
    "            elif selected_period == 'whole_retrieval':\n",
    "                eeg_events = eeg_events.iloc[:20,:] # only the first 20 retrieval periods have good eeg\n",
    "            elif selected_period == 'encoding':\n",
    "                eeg_events = eeg_events.iloc[:263,:] # same idea\n",
    "                encoded_word_key = encoded_word_key[:263]\n",
    "      \n",
    "        # fix EEG offset due to Unity implementation error @@\n",
    "#         init_time = eeg_events.iloc[0].eegoffset\n",
    "        eeg_events = correctEEGoffset(sub,session,exp,reader,eeg_events)\n",
    "#         print(sub+'-'+str(session)+'-'+exp+': '+str(eeg_events.iloc[0].eegoffset-init_time))\n",
    "\n",
    "        eeg = reader.load_eeg(events=eeg_events, rel_start=psth_start-eeg_buffer+align_adjust, \n",
    "                              rel_stop=psth_end+eeg_buffer+align_adjust, clean=True, scheme=pairs) #**\n",
    "        # events X electrodes X time\n",
    "        sr = eeg.samplerate\n",
    "        import ipdb; ipdb.set_trace()\n",
    "\n",
    "        # if weird samplerate, add a few ms to make the load work\n",
    "        if (499<sr<500) | (998<sr<1000):\n",
    "            time_add = 1\n",
    "            if (499<sr<500):\n",
    "                sr = 500\n",
    "            elif (998<sr<1000):\n",
    "                sr = 1000\n",
    "            while eeg.shape[2] < (psth_end-psth_start+2*eeg_buffer)/(1000/sr):\n",
    "                eeg = reader.load_eeg(events=eeg_events, rel_start=psth_start-eeg_buffer+align_adjust, \n",
    "                                      rel_stop=psth_end+eeg_buffer+time_add+align_adjust, clean=True, scheme=pairs)\n",
    "                if time_add>50: #**\n",
    "                    continue\n",
    "                time_add+=1\n",
    "            time_add_save.append(time_add)\n",
    "            eeg.samplerate = sr # need to overwrite those that were just fixed\n",
    "\n",
    "        eeg_ptsa = eeg.to_ptsa()\n",
    "        eeg = None # clear variable\n",
    "#         break;break;break # to look at eeg_ptsa (plots at bottom of notebook) before filtering\n",
    "\n",
    "        # line removal...don't do 120 for now\n",
    "        eeg_ptsa = ButterworthFilter(timeseries=eeg_ptsa, freq_range=[58.,62.], filt_type='stop', order=4).filter()\n",
    "        eeg_ptsa = ButterworthFilter(timeseries=eeg_ptsa, freq_range=[178.,182.], filt_type='stop', order=4).filter()\n",
    "                \n",
    "        ## FILTERS ##\n",
    "        trans_width = 5. # Width of transition region, normalized so that 1 corresponds to pi radians/sample. \n",
    "        # That is, the frequency is expressed as a fraction of the Nyquist frequency.\n",
    "        ntaps = (2/3)*np.log10(1/(10*(1e-3*1e-4)))*(sr/trans_width) # gives 400 with sr=500, trans=5\n",
    "        if sr == 512 or sr == 1024 or sr == 1023.999: # last one fixes R1221P @@\n",
    "            ntaps = np.ceil(ntaps)\n",
    "        FIR_bandstop = firwin(int(ntaps+1), [70.,178.], fs=sr, window='hamming',pass_zero='bandstop')\n",
    "    #     FIR_bandpass = firwin(int(ntaps), [70.,180.], fs=sr, window='hamming',pass_zero='bandpass')\n",
    "        bandstop_25_60 = firwin(int(ntaps+1), [20.,58.], fs=sr, window='hamming',pass_zero='bandstop') # Norman 2019 IED\n",
    "    #     bandstop_60_80 = firwin(int(ntaps+1), [60.,80.], fs=sr, window='hamming',pass_zero='bandstop') # Gelinas 2016 IED\n",
    "        nyquist = sr/2\n",
    "        ntaps40, beta40 = kaiserord(40, trans_width/nyquist)\n",
    "        kaiser_40lp_filter = firwin(ntaps40, cutoff=40, window=('kaiser', beta40), scale=False, nyq=nyquist, pass_zero='lowpass')\n",
    "\n",
    "        # filter for ripples using filter selected above\n",
    "\n",
    "        if filter_type == 'hamming':\n",
    "            # need to subtract out to get the filtered signal since default is bandstop but want to keep it as PTSA        \n",
    "            eeg_rip_band = eeg_ptsa-filtfilt(FIR_bandstop,1.,eeg_ptsa) \n",
    "            #         eeg_rip_band = filtfilt(FIR_bandpass,1.,eeg_ptsa) # can't use ptsa_to_mne this way so use eeg-bandstopped signal\n",
    "            eeg_ied_band = eeg_ptsa-filtfilt(bandstop_25_60,1.,eeg_ptsa)\n",
    "        elif filter_type == 'butter':\n",
    "            eeg_rip_band = ButterworthFilter(timeseries=eeg_ptsa, freq_range=[80.,120.], filt_type='bandpass',order=2).filter()\n",
    "            if sr == 500: # dropped below 250 Hz because too close Nyquist\n",
    "                eeg_ied_band = ButterworthFilter(timeseries=eeg_ptsa, freq_range=200., filt_type='highpass',order=2).filter() \n",
    "            elif sr >= 1000:    \n",
    "                #this seems okay since large range far from Nyquist...problem is it likely misses key events\n",
    "                eeg_ied_band = ButterworthFilter(timeseries=eeg_ptsa, freq_range=[250.,499.], filt_type='bandpass',order=2).filter()\n",
    "            eeg_raw = ptsa_to_mne(eeg_ptsa,[0,psth_end-psth_start+2*eeg_buffer])    #**  \n",
    "#         eeg_ptsa = None # clear variable # no reason to do this in local version...really for cluster\n",
    "    \n",
    "        eeg_rip_band = ptsa_to_mne(eeg_rip_band,[0,psth_end-psth_start+2*eeg_buffer]) #** \n",
    "        _ = eeg_rip_band.apply_hilbert(envelope=True)\n",
    "        eeg_ied_band = ptsa_to_mne(eeg_ied_band,[0,psth_end-psth_start+2*eeg_buffer]) #** \n",
    "        _ = eeg_ied_band.apply_hilbert(envelope=True)\n",
    "        \n",
    "        # get bad channel mask\n",
    "        try:\n",
    "            elec_cats = reader.load('electrode_categories') # this is cool\n",
    "        except:\n",
    "            if remove_soz_ictal == True:\n",
    "                e = 'No electrode categories for '+sub+', session '+str(session)\n",
    "                LogDFExceptionLine(row, e, 'SWR_get_eeg_log.txt')\n",
    "                continue\n",
    "            else:\n",
    "                elec_cats = []\n",
    "            \n",
    "        bad_bp_mask = getBadChannels(tal_struct,elec_cats,remove_soz_ictal)\n",
    "        \n",
    "        electrode_search_range = getElectrodeRanges(elec_regions,exp,sub,session,mont)\n",
    "        \n",
    "        region_electrode_ct = 0\n",
    "        session_ripple_rate_by_elec = []\n",
    "        for channel in electrode_search_range:\n",
    "            if (elec_regions[channel] in selected_region) & \\\n",
    "            (bad_bp_mask[channel] == 0): # don't use bad electrodes\n",
    "                \n",
    "                total_channel_ct+=1 # total channels before artifact removal\n",
    "\n",
    "                # get data from MNE container \n",
    "                eeg_rip = eeg_rip_band.get_data()[:,channel,:]     \n",
    "                eeg_ied = eeg_ied_band.get_data()[:,channel,:]\n",
    "\n",
    "                # select detection algorithm (note that iedlogic is same for both so always run that)\n",
    "                \n",
    "                if filter_type == 'hamming':\n",
    "                    # filter IEDs \n",
    "                    eeg_ied = eeg_ied**2 # already rectified now square\n",
    "                    eeg_ied = filtfilt(kaiser_40lp_filter,1.,eeg_ied) # low pass filter  \n",
    "                    mean1 = np.mean(eeg_ied)\n",
    "                    std1 = np.std(eeg_ied)\n",
    "                    iedlogic = eeg_ied>=mean1+4*std1 # Norman et al 2016                \n",
    "                    # detect ripples\n",
    "                    ripplelogic = detectRipplesHamming(eeg_rip,trans_width,sr,iedlogic)\n",
    "                elif filter_type == 'butter':\n",
    "                    eeg_mne = eeg_raw.get_data()[:,channel,:]\n",
    "                    # detect ripples\n",
    "                    ripplelogic, iedlogic = detectRipplesButter(eeg_rip,eeg_ied,eeg_mne,sr)             \n",
    "\n",
    "#                 ripple_ied_accum_ct.append([sub,session,sr,sum(ripplelogic),sum(iedlogic),sum(ripplelogic2),sum(iedlogic2),\n",
    "#                                             sum(ripplelogic_enc),sum(iedlogic_enc)])\n",
    "\n",
    "                if sr>desired_sample_rate: # downsampling here for anything greater than 500\n",
    "                    ripplelogic = downsampleBinary(ripplelogic,sr/desired_sample_rate)\n",
    "            \n",
    "                # ripples are detected, so can remove buffers now #**\n",
    "                ripplelogic = ripplelogic[:,int(eeg_buffer/(1000/desired_sample_rate)):\n",
    "                                          int((psth_end-psth_start+eeg_buffer)/(1000/desired_sample_rate))]\n",
    "    \n",
    "                # skip this electrode if the ripple rate is below threshold\n",
    "                temp_start_array,_ = getStartEndArrays(ripplelogic)\n",
    "                elec_ripple_rate = sum(temp_start_array)/temp_start_array.shape[0]/((psth_end-psth_start)/1000)\n",
    "                if elec_ripple_rate < min_ripple_rate:\n",
    "                    print(sub+', '+str(session)+' skipped b/c below ripple rate thresh for ch.: '+str(channel))\n",
    "                    continue\n",
    "                elif elec_ripple_rate > max_ripple_rate:\n",
    "                    print(sub+', '+str(session)+' skipped b/c ABOVE ripple rate thresh for ch.: '+str(channel))\n",
    "                    continue # skip this electrode\n",
    "    \n",
    "                # check the ripples for this electrode and make sure they're not super correlated across trials\n",
    "\n",
    "                # first, bin the array so can get more realistic correlation not dependent on ms timing\n",
    "                binned_ripplelogic = downsampleBinary(ripplelogic,10) # downsample by 10x so 10 ms bins\n",
    "                trial_ripple_df = pd.DataFrame(data=np.transpose(binned_ripplelogic))\n",
    "                num_cols = len(list(trial_ripple_df))\n",
    "                trial_ripple_df.columns = ['col_' + str(i) for i in range(num_cols)] # generate range of ints for suffixes\n",
    "                temp_tbt_corr = np.mean(pg.pairwise_corr(trial_ripple_df,method='spearman').r)\n",
    "                if temp_tbt_corr > max_trial_by_trial_correlation:\n",
    "                    print(sub+', '+str(session)+' skipped b/c above trial-by-trial correlation for ch.: '+str(channel))\n",
    "                    continue\n",
    "\n",
    "                ## if this electrode passes SAVE data ##\n",
    "                \n",
    "                trial_by_trial_correlation.append(temp_tbt_corr) # corr b/w trials\n",
    "                elec_ripple_rate_array.append(elec_ripple_rate) # record the average ripple rate for this electrode\n",
    "                \n",
    "                # append arrays across electrodes\n",
    "                ripple_array = superVstack(ripple_array,ripplelogic) # append across electrodes\n",
    "                session_ripple_rate_by_elec = superVstack(session_ripple_rate_by_elec,np.mean(binned_ripplelogic,0)) # for correlation b/w elecs below\n",
    "                \n",
    "                if selected_period == 'encoding':\n",
    "                    encoded_word_key_array.append(encoded_word_key) # save the key for each electrode so easier to unpack later\n",
    "                    serialpos_array.append(evs_encoding_words.serialpos)\n",
    "                    if len(encoded_word_key) != ripplelogic.shape[0]:\n",
    "                        e = 'Encoded word key and ripple_array dont match for '+sub+str(session)+'_'+str(channel)\n",
    "                        LogDFExceptionLine(row, e, 'SWR_get_eeg_log.txt')\n",
    "                        \n",
    "                elif selected_period == 'whole_retrieval':\n",
    "                    # make a matrix of the times of free recall if looking at whole retrieval period\n",
    "                    list_nums = evs_rets.list.unique() # count all list numbers for this session\n",
    "                    temp_fr_array = np.zeros((len(list_nums),retrieval_whole_time))\n",
    "                    for ln in list_nums:\n",
    "                        list_times = evs_free_recall[evs_free_recall.list==ln].rectime # I confirmed these are accurate relative to REC_START\n",
    "                        temp_fr_array[ln-list_nums[0]][np.array(list_times)] = 1 # subtract from list_nums[0] to recenter fr_array on 0 trial           \n",
    "                    fr_array = superVstack(fr_array,temp_fr_array)\n",
    "                    \n",
    "                elif selected_period == 'surrounding_recall':    # ~~~                                \n",
    "                    # adding new values 2020-11-24 for some suggested analyses from group\n",
    "\n",
    "                    # key of serialpos for recalls\n",
    "                    list_nums = evs_free_recall.list.unique()   \n",
    "                    temp_recalls_serialpos = []\n",
    "                    for ln in list_nums:\n",
    "                        temp_sp = getSerialposOfRecalls(evs_free_recall,word_evs,ln)\n",
    "                        temp_recalls_serialpos.extend(temp_sp)\n",
    "                        # recall number per list\n",
    "                        list_recall_num_array.extend(np.tile(len(temp_sp),len(temp_sp)))\n",
    "                        # recall position per list\n",
    "                        recall_position_array.extend(np.arange(len(temp_sp))+1) # 1-indexed\n",
    "                    serialpos_array.extend(np.array(temp_recalls_serialpos))\n",
    "                    \n",
    "                    # key of rectimes for recalls\n",
    "                    rectime_array.extend(np.array(evs_free_recall.rectime)) \n",
    "                    \n",
    "                    # key of recall index numbers so I can use SWR times from start_array to grab SWR-locked EEG\n",
    "                    recall_index_array.extend(np.array(evs_free_recall.index))\n",
    "                    \n",
    "                    # key of recalls before intrusions\n",
    "                    recall_before_intrusion_array.extend(pre_intrusion_recalls)\n",
    "              \n",
    "                channel_ct+=1 # total channels from beginning \n",
    "                region_electrode_ct+=1 # channel ct for this session\n",
    "                HPC_names.append(elec_regions[channel])\n",
    "                sub_names.append(sub)\n",
    "                sub_sess_names.append(sub+'-'+str(session))\n",
    "                print('Cumulative array size after channel: '+str(channel))\n",
    "                print(ripple_array.shape)\n",
    "                trial_nums = np.append(trial_nums,ripplelogic.shape[0])\n",
    "                electrode_labels.append(pairs.iloc[channel].label) # get names of electrodes so can look for them across sessions\n",
    "                channel_nums.append(channel)\n",
    "                list_num_key.extend(evs_free_recall.list)\n",
    "                \n",
    "                \n",
    "                # get atlas coordinates for this electrode\n",
    "                if 'avg.x' in pairs:\n",
    "                    temp_coord = np.append(pairs.iloc[channel]['avg.x'],np.append(pairs.iloc[channel]['avg.y'],pairs.iloc[channel]['avg.z']))\n",
    "                elif 'ind.x' in pairs:\n",
    "                    temp_coord = np.append(pairs.iloc[channel]['ind.x'],np.append(pairs.iloc[channel]['ind.y'],pairs.iloc[channel]['ind.z']))\n",
    "                else:\n",
    "                    temp_coord = np.empty(3); temp_coord[:] = np.nan\n",
    "                channel_coords.append(temp_coord)\n",
    "                \n",
    "                # additional check to make sure eeg was recorded for all events\n",
    "                if selected_period == 'surrounding_recall':\n",
    "                    if evs_free_recall.shape[0] != ripplelogic.shape[0]:\n",
    "                        # this happens because eeg wasn't turned on. remove eegoffset=-1 trials; I DO THIS ABOVE NOW\n",
    "                        good_evs_free_recall = evs_free_recall.eegoffset > -1\n",
    "                        session_corrected_list_ops = session_corrected_list_ops[good_evs_free_recall]\n",
    "                        e = sub+str(session)+'_still unrecorded eegs'\n",
    "                        LogDFExceptionLine(row, e, 'SWR_get_eeg_log.txt')\n",
    "#                 ordinal_position_array.extend(session_corrected_list_ops) # update for each electrode\n",
    "                             \n",
    "        # before we keep all the electrodes in this session, remove sessions with elecs that are highly correlated.\n",
    "        # this really only makes sense for the cluster version, since I only do a session at a time here\n",
    "        if np.sum(session_ripple_rate_by_elec)>0 and region_electrode_ct>1:\n",
    "            session_ripple_df = pd.DataFrame(data=np.transpose(session_ripple_rate_by_elec))\n",
    "            num_cols = len(list(session_ripple_df))\n",
    "            session_ripple_df.columns = ['col_' + str(i) for i in range(num_cols)] # generate range of ints for suffixes\n",
    "#             print(pg.pairwise_corr(session_ripple_df,method='spearman').r) # print the elec-by-elec correlations\n",
    "            elec_by_elec_correlation = np.mean(pg.pairwise_corr(session_ripple_df,method='spearman').r) # correlation b/w elecs\n",
    "            if elec_by_elec_correlation > max_electrode_by_electrode_correlation:\n",
    "                print('Correlation b/w electrodes too high, corr = '+str(elec_by_elec_correlation))\n",
    "            else:\n",
    "                print('good set of electrodes (not correlated with each other)')\n",
    "\n",
    "        electrodes_per_session = np.append(electrodes_per_session,region_electrode_ct)\n",
    "        session_ct+=1\n",
    "        \n",
    "    except Exception as e:\n",
    "        LogDFExceptionLine(row, e, 'SWR_get_eeg_log.txt') #np.save('SWRscript_FR1.npy', ['Exception', str(e.__class__), str(e)])\n",
    "        continue\n",
    "\n",
    "# csvWriter(ripple_ied_accum_ct,'ieds') # if you want to save the accumulated ripple numbers\n",
    "\n",
    "if save_values == 1:\n",
    "    if remove_soz_ictal == False:\n",
    "        soz_label = 'soz_in'\n",
    "    else:\n",
    "        soz_label = 'soz_out'\n",
    "    if session_ct == 1:\n",
    "        fn = os.path.join('/home1/john/SWR/compiled/',\n",
    "            'SWR_'+region_name+'_'+str(session_ct)+'_sessions_'+str(len(np.unique(sub_names)))+'subjects_'+selected_period+recall_selection_name+'_'+soz_label+'.p')            \n",
    "    else:\n",
    "        fn = os.path.join('/home1/john/SWR/compiled/',\n",
    "            'SWR_'+region_name+'_'+str(session_ct)+'_sessions_'+str(len(np.unique(sub_names)))+'subjects_'+selected_period+recall_selection_name+'_'+soz_label+'.p')            \n",
    "    with open(fn,'wb') as f:\n",
    "        pickle.dump({'channel_ct':channel_ct, 'session_ct':session_ct,'total_channel_ct':total_channel_ct,\n",
    "                    'HPC_names':HPC_names, 'sub_sess_names':sub_sess_names,\n",
    "                    'ripple_array':ripple_array, #'ripple_array2':ripple_array2, 'ripple_array_enc':ripple_array_enc,\n",
    "                    'trial_nums':trial_nums, 'list_num_key':list_num_key,\n",
    "                    'fr_array':fr_array, 'sub_names':sub_names, \n",
    "                    'encoded_word_key_array':encoded_word_key_array,\n",
    "                    'serialpos_array':serialpos_array,'list_recall_num_array':list_recall_num_array, # ~~\n",
    "                    'rectime_array':rectime_array,'recall_before_intrusion_array':recall_before_intrusion_array,\n",
    "                    'recall_position_array':recall_position_array,                     \n",
    "                    'total_recalls':total_recalls, 'kept_recalls':kept_recalls,\n",
    "                    'trial_by_trial_correlation':trial_by_trial_correlation,'elec_ripple_rate_array':elec_ripple_rate_array,\n",
    "                    'electrode_labels':electrode_labels,'channel_coords':channel_coords,'channel_nums':channel_nums}, f)\n"
   ]
  },
  {
   "cell_type": "markdown",
   "metadata": {},
   "source": [
    "## load LOCAL data if didn't just run above:"
   ]
  },
  {
   "cell_type": "code",
   "execution_count": 612,
   "metadata": {
    "collapsed": true,
    "jupyter": {
     "outputs_hidden": true,
     "source_hidden": true
    }
   },
   "outputs": [
    {
     "ename": "FileNotFoundError",
     "evalue": "[Errno 2] No such file or directory: '/home1/john/SWR/compiled/SWR_HPC_13_sessions_6subjects_surrounding_recallSOLONOCOMPOUND_soz_in.p'",
     "output_type": "error",
     "traceback": [
      "\u001b[0;31m---------------------------------------------------------------------------\u001b[0m",
      "\u001b[0;31mFileNotFoundError\u001b[0m                         Traceback (most recent call last)",
      "\u001b[0;32m<ipython-input-612-3eae5532caa6>\u001b[0m in \u001b[0;36m<module>\u001b[0;34m\u001b[0m\n\u001b[1;32m     28\u001b[0m         'SWR_'+region_name+'_'+str(session_ct)+'_sessions_'+str(sub_num)+'subjects_'+selected_period+recall_selection_name+'_'+soz_label+'.p')            \n\u001b[1;32m     29\u001b[0m \u001b[0;34m\u001b[0m\u001b[0m\n\u001b[0;32m---> 30\u001b[0;31m \u001b[0;32mwith\u001b[0m \u001b[0mopen\u001b[0m\u001b[0;34m(\u001b[0m\u001b[0mfn\u001b[0m\u001b[0;34m,\u001b[0m\u001b[0;34m'rb'\u001b[0m\u001b[0;34m)\u001b[0m \u001b[0;32mas\u001b[0m \u001b[0mf\u001b[0m\u001b[0;34m:\u001b[0m\u001b[0;34m\u001b[0m\u001b[0;34m\u001b[0m\u001b[0m\n\u001b[0m\u001b[1;32m     31\u001b[0m     \u001b[0mdat\u001b[0m \u001b[0;34m=\u001b[0m \u001b[0mpickle\u001b[0m\u001b[0;34m.\u001b[0m\u001b[0mload\u001b[0m\u001b[0;34m(\u001b[0m\u001b[0mf\u001b[0m\u001b[0;34m)\u001b[0m\u001b[0;34m\u001b[0m\u001b[0;34m\u001b[0m\u001b[0m\n\u001b[1;32m     32\u001b[0m     \u001b[0mripple_array\u001b[0m \u001b[0;34m=\u001b[0m \u001b[0mdat\u001b[0m\u001b[0;34m[\u001b[0m\u001b[0;34m'ripple_array'\u001b[0m\u001b[0;34m]\u001b[0m\u001b[0;34m;\u001b[0m \u001b[0msession_ct\u001b[0m \u001b[0;34m=\u001b[0m \u001b[0mdat\u001b[0m\u001b[0;34m[\u001b[0m\u001b[0;34m'session_ct'\u001b[0m\u001b[0;34m]\u001b[0m\u001b[0;34m\u001b[0m\u001b[0;34m\u001b[0m\u001b[0m\n",
      "\u001b[0;31mFileNotFoundError\u001b[0m: [Errno 2] No such file or directory: '/home1/john/SWR/compiled/SWR_HPC_13_sessions_6subjects_surrounding_recallSOLONOCOMPOUND_soz_in.p'"
     ]
    }
   ],
   "source": [
    "%autoreload\n",
    "# load params\n",
    "# session_ct = 21; sub_num = 8; region_name = 'HPC' #'ENT' #'HPC_ENT' #'HPC'\n",
    "session_ct = 13; sub_num = 6; region_name='HPC' # load for initial 6 HPC test subs\n",
    "# session_ct = 9; sub_num = 5; region_name = 'ENT'; # 5 initial subjects with ERC regions\n",
    "# session_ct = 1; sub_num = 1; filter_type = 'hamming'; sub = 'R1010J' # sub='R1112M'\n",
    "# session_ct = 5; sub_num = 2; filter_type = 'hamming' # ['R1010J','R1112M'] initial 2\n",
    "remove_soz_ictal = False\n",
    "selected_period = 'surrounding_recall'\n",
    "recall_selection_name = ''\n",
    "\n",
    "recall_selection_name = ''\n",
    "if recall_type_switch == 1:\n",
    "    recall_selection_name = 'FIRSTOFCOMPOUND'\n",
    "elif recall_type_switch == 2:\n",
    "    recall_selection_name = 'RECALLTWO'\n",
    "elif recall_type_switch == 3:\n",
    "    recall_selection_name = 'SOLONOCOMPOUND'\n",
    "\n",
    "if remove_soz_ictal == False:\n",
    "    soz_label = 'soz_in'\n",
    "elif remove_soz_ictal == True:\n",
    "    soz_label = 'soz_out'\n",
    "else:\n",
    "    soz_label = ''\n",
    "\n",
    "fn = os.path.join('/home1/john/SWR/compiled/',\n",
    "        'SWR_'+region_name+'_'+str(session_ct)+'_sessions_'+str(sub_num)+'subjects_'+selected_period+recall_selection_name+'_'+soz_label+'.p')            \n",
    "\n",
    "with open(fn,'rb') as f:\n",
    "    dat = pickle.load(f)\n",
    "    ripple_array = dat['ripple_array']; session_ct = dat['session_ct']\n",
    "    HPC_names = dat['HPC_names']; sub_sess_names = dat['sub_sess_names']\n",
    "    channel_ct = dat['channel_ct']; #ripple_array2 = dat['ripple_array2']\n",
    "    trial_nums = dat['trial_nums']; #trial_nums2 = dat['trial_nums2']\n",
    "    fr_array = dat['fr_array']; sub_names = dat['sub_names']; encoded_word_key_array = dat['encoded_word_key_array']\n",
    "    total_recalls = dat['total_recalls']; kept_recalls = dat['kept_recalls']\n",
    "    trial_by_trial_correlation = dat['trial_by_trial_correlation']; elec_ripple_rate_array = dat['elec_ripple_rate_array']\n",
    "    "
   ]
  },
  {
   "cell_type": "code",
   "execution_count": 710,
   "metadata": {
    "collapsed": true,
    "jupyter": {
     "outputs_hidden": true
    }
   },
   "outputs": [
    {
     "data": {
      "text/plain": [
       "(array([0., 0., 0., 0., 0., 0., 0., 0., 1., 7., 3., 0., 0., 1., 0., 0., 0.,\n",
       "        0., 0.]),\n",
       " array([-1.00000000e-01, -9.00000000e-02, -8.00000000e-02, -7.00000000e-02,\n",
       "        -6.00000000e-02, -5.00000000e-02, -4.00000000e-02, -3.00000000e-02,\n",
       "        -2.00000000e-02, -1.00000000e-02, -5.55111512e-17,  1.00000000e-02,\n",
       "         2.00000000e-02,  3.00000000e-02,  4.00000000e-02,  5.00000000e-02,\n",
       "         6.00000000e-02,  7.00000000e-02,  8.00000000e-02,  9.00000000e-02]),\n",
       " <a list of 19 Patch objects>)"
      ]
     },
     "execution_count": 710,
     "metadata": {},
     "output_type": "execute_result"
    },
    {
     "data": {
      "text/plain": [
       "Text(0.5, 0, 'Trial by trial correlation')"
      ]
     },
     "execution_count": 710,
     "metadata": {},
     "output_type": "execute_result"
    },
    {
     "data": {
      "text/plain": [
       "Text(0, 0.5, 'Electrode count')"
      ]
     },
     "execution_count": 710,
     "metadata": {},
     "output_type": "execute_result"
    },
    {
     "data": {
      "image/png": "[encoded data removed]",
      "text/plain": [
       "<Figure size 432x288 with 1 Axes>"
      ]
     },
     "metadata": {
      "needs_background": "light"
     },
     "output_type": "display_data"
    },
    {
     "data": {
      "text/plain": [
       "(array([0., 0., 0., 0., 0., 0., 3., 2., 2., 1., 0., 1., 0., 1., 0., 2., 0.,\n",
       "        0., 0., 0., 0., 0., 0., 0., 0., 0., 0., 0., 0., 0., 0., 0., 0., 0.,\n",
       "        0., 0., 0., 0., 0.]),\n",
       " array([0.  , 0.05, 0.1 , 0.15, 0.2 , 0.25, 0.3 , 0.35, 0.4 , 0.45, 0.5 ,\n",
       "        0.55, 0.6 , 0.65, 0.7 , 0.75, 0.8 , 0.85, 0.9 , 0.95, 1.  , 1.05,\n",
       "        1.1 , 1.15, 1.2 , 1.25, 1.3 , 1.35, 1.4 , 1.45, 1.5 , 1.55, 1.6 ,\n",
       "        1.65, 1.7 , 1.75, 1.8 , 1.85, 1.9 , 1.95]),\n",
       " <a list of 39 Patch objects>)"
      ]
     },
     "execution_count": 710,
     "metadata": {},
     "output_type": "execute_result"
    },
    {
     "data": {
      "text/plain": [
       "Text(0.5, 0, 'Ripple rate (hz)')"
      ]
     },
     "execution_count": 710,
     "metadata": {},
     "output_type": "execute_result"
    },
    {
     "data": {
      "text/plain": [
       "Text(0, 0.5, 'Electrode count')"
      ]
     },
     "execution_count": 710,
     "metadata": {},
     "output_type": "execute_result"
    },
    {
     "data": {
      "image/png": "[encoded data removed]",
      "text/plain": [
       "<Figure size 432x288 with 1 Axes>"
      ]
     },
     "metadata": {
      "needs_background": "light"
     },
     "output_type": "display_data"
    },
    {
     "data": {
      "text/plain": [
       "(array([0., 0., 0., 0., 0., 0., 0., 0., 0., 0., 0., 0., 0., 0., 0., 0., 0.,\n",
       "        0., 0., 0., 0., 0., 0., 1., 0., 0., 0.]),\n",
       " array([-3.50000000e-01, -3.25000000e-01, -3.00000000e-01, -2.75000000e-01,\n",
       "        -2.50000000e-01, -2.25000000e-01, -2.00000000e-01, -1.75000000e-01,\n",
       "        -1.50000000e-01, -1.25000000e-01, -1.00000000e-01, -7.50000000e-02,\n",
       "        -5.00000000e-02, -2.50000000e-02,  3.33066907e-16,  2.50000000e-02,\n",
       "         5.00000000e-02,  7.50000000e-02,  1.00000000e-01,  1.25000000e-01,\n",
       "         1.50000000e-01,  1.75000000e-01,  2.00000000e-01,  2.25000000e-01,\n",
       "         2.50000000e-01,  2.75000000e-01,  3.00000000e-01,  3.25000000e-01]),\n",
       " <a list of 27 Patch objects>)"
      ]
     },
     "execution_count": 710,
     "metadata": {},
     "output_type": "execute_result"
    },
    {
     "data": {
      "text/plain": [
       "Text(0.5, 0, 'Elec by elec correlation')"
      ]
     },
     "execution_count": 710,
     "metadata": {},
     "output_type": "execute_result"
    },
    {
     "data": {
      "text/plain": [
       "Text(0, 0.5, 'Electrode count')"
      ]
     },
     "execution_count": 710,
     "metadata": {},
     "output_type": "execute_result"
    },
    {
     "data": {
      "image/png": "[encoded data removed]",
      "text/plain": [
       "<Figure size 432x288 with 1 Axes>"
      ]
     },
     "metadata": {
      "needs_background": "light"
     },
     "output_type": "display_data"
    }
   ],
   "source": [
    "# to visualize the removal parameters\n",
    "\n",
    "# np.array(trial_by_trial_correlation)\n",
    "# np.array(elec_ripple_rate_array)\n",
    "# np.array(elec_by_elec_correlation)\n",
    "plt.hist(trial_by_trial_correlation,np.arange(-0.1,0.1,0.01)); xlabel('Trial by trial correlation'); ylabel('Electrode count'); show()\n",
    "plt.hist(elec_ripple_rate_array,np.arange(0,2,0.05)); xlabel('Ripple rate (hz)'); ylabel('Electrode count'); show()\n",
    "plt.hist(elec_by_elec_correlation,np.arange(-0.35,0.35,0.025)); xlabel('Elec by elec correlation'); ylabel('Electrode count'); show()"
   ]
  },
  {
   "cell_type": "markdown",
   "metadata": {},
   "source": [
    "## Get start_array and select subfield if HPC for free recalls"
   ]
  },
  {
   "cell_type": "code",
   "execution_count": 246,
   "metadata": {},
   "outputs": [
    {
     "name": "stdout",
     "output_type": "stream",
     "text": [
      "Total electrodes loaded: 538\n",
      "from 115 sessions from 57 subjects with trial nums:\n",
      "[78. 78. 78. 78. 78. 51. 51. 51. 51. 51. 69. 69. 69. 69. 69. 69. 45. 45.\n",
      " 45. 19.]\n",
      "Trial sum = 25787.0\n",
      "['left ca3', 'left ca1', 'right sub', 'right ca1', 'right ca1', 'left ca3', 'left ca1', 'right sub', 'right ca1', 'right ca1', 'right ca1', 'right dg', 'right dg', 'right sub', 'right sub', 'right ca1', 'left sub', 'left dg', 'left ca1', 'left ca1']\n",
      "Number of sub_sess names: 538\n",
      "Got start_array with 12437 trials!\n"
     ]
    }
   ],
   "source": [
    "## DO YOU WANT TO SELECT A SUBFIELD or OUTPUT POSITION?? ##  \n",
    "\n",
    "select_subfield = True   # note: if you already ran this once, have to load again from data\n",
    "                          # also this is only for HPC. So set to FALSE for ENT and PHC\n",
    "\n",
    "### Use a task condition to select recalls?? ###\n",
    "### ...will select first one that's not 0    ###\n",
    "select_ordinal_position = 0              # select only recalls at given output position. 0 means it's off ##DEPRECATED\n",
    "select_list_position = 0 #[1,2,3] #[12]  # select only recalls at given position from encoding list. \n",
    "                                         # 0 means it's off. Must be list\n",
    "select_less_than_rectime = 0             # select only recalls < this number\n",
    "select_greater_than_rectime = 0          # select only recalls > this number\n",
    "select_lists_with_recalls = 0 # list(np.arange(3,13)) # [1] so this would select ≥4 recalls. Must be list hence the list(arange...)\n",
    "                                         # select only recalls that come from lists with number in this list\n",
    "select_intrusions_next = 0               # select recalls that lead to intrusions\n",
    "\n",
    "# select for subfield if HPC\n",
    "if select_subfield == True:\n",
    "    location_selected = ['dg','ca1'] #['dg','ca1'] #'dg' # 'ca3' # 'dg' 'ca1' # sub \n",
    "        # left # right # left hippocampus # right hippocampus # hippocampus\n",
    "        # to see number of each: sum(np.array([names.find('sub') for names in HPC_names])>=0)\n",
    "else:\n",
    "    location_selected = ''\n",
    "desired_sample_rate = 500.\n",
    "sr = desired_sample_rate # fixed at this value since this is the minimum across data and can always downsample\n",
    "sr_factor = 1000/desired_sample_rate\n",
    "\n",
    "print('Total electrodes loaded: '+str(len(trial_nums)))\n",
    "print('from '+str(len(np.unique(sub_sess_names)))+' sessions from '+str(len(np.unique(sub_names)))+' subjects with trial nums:')\n",
    "print(trial_nums[0:20])\n",
    "print('Trial sum = '+str(np.sum(trial_nums)))\n",
    "print(HPC_names[0:20])\n",
    "print('Number of sub_sess names: '+str(len(sub_sess_names)))\n",
    "\n",
    "\n",
    "start_array,end_array = getStartEndArrays(ripple_array) # get start array\n",
    " \n",
    "# if selected an output position\n",
    "if select_ordinal_position > 0:\n",
    "    if np.min(ordinal_position_array) == 0: # only update this once (so don't have to reload data from files)\n",
    "        ordinal_position_array = np.array(ordinal_position_array)+1 # now 1-indexed\n",
    "    selected_recalls = ordinal_position_array==select_ordinal_position\n",
    "elif type(select_list_position) == list:\n",
    "    selected_recalls = [sp in select_list_position for sp in serialpos_array]\n",
    "elif select_intrusions_next == 1:\n",
    "    selected_recalls = np.array(recall_before_intrusion_array)==True\n",
    "elif select_less_than_rectime > 0:\n",
    "    selected_recalls = np.array(rectime_array)<=select_less_than_rectime\n",
    "elif select_greater_than_rectime > 0:\n",
    "    selected_recalls = np.array(rectime_array)>=select_greater_than_rectime\n",
    "elif type(select_lists_with_recalls) == list:\n",
    "    selected_recalls = [recall in select_lists_with_recalls for recall in list_recall_num_array]\n",
    "else:\n",
    "    selected_recalls = np.ones(len(start_array),dtype=bool)\n",
    "    \n",
    "# get locations if selected\n",
    "\n",
    "if select_subfield == True:\n",
    "    # create the full vector of location name predictors\n",
    "    location_names = []\n",
    "    for s in range(len(HPC_names)):\n",
    "        new_trials = int(trial_nums[s])\n",
    "        location_names.extend(np.tile(HPC_names[s],new_trials))  \n",
    "        \n",
    "    # now can get mask of trials in this location\n",
    "    \n",
    "    #first, if there are two locations to combine, sort that out (DG and CA1 in particular)\n",
    "    location_mask = np.zeros(len(location_names))\n",
    "    for s in range(len(location_names)):\n",
    "        if type(location_selected)==list:\n",
    "            if location_names[s].find(location_selected[0])>=0 or location_names[s].find(location_selected[1])>=0:\n",
    "                location_mask[s] = True\n",
    "        elif type(location_selected)==str:\n",
    "            if location_names[s].find(location_selected)>=0:\n",
    "                location_mask[s] = True\n",
    "else:\n",
    "    location_mask = np.ones(len(start_array))\n",
    "\n",
    "# gotta translate this to new frame as well from idxs in load step if selected subfield\n",
    "if select_subfield == True: \n",
    "    location_mask = location_mask[temp_recall_idxs] \n",
    "\n",
    "# combine location and sorted recalls to get new ripple array:\n",
    "updated_recalls = (location_mask+selected_recalls)==2\n",
    "    \n",
    "# translate these predictors to vector and select recalls\n",
    "start_array = start_array[updated_recalls]\n",
    "subject_name_array = np.array(subject_name_array)[updated_recalls]\n",
    "session_name_array = np.array(session_name_array)[updated_recalls]\n",
    "electrode_array = np.array(electrode_array)[updated_recalls]\n",
    "channel_coords_array = np.array(channel_coords_array)[updated_recalls]\n",
    "list_recall_num_array = list_recall_num_array[updated_recalls] # for subject-level analysis\n",
    "rectime_array = rectime_array[updated_recalls]\n",
    "list_num_key = list_num_key[updated_recalls]\n",
    "\n",
    "    \n",
    "print('Got start_array with '+str(start_array.shape[0])+' trials!')\n",
    "        \n",
    "# # plot whole retrieval period with FR events superimposed on SWRs\n",
    "# if selected_period == 'whole_bretrieval':\n",
    "#     start_array2 = start_array # for whole retrieval period\n",
    "#     print('Base SWRs/30 s retrieval: '+str(sum(start_array2)/start_array2.shape[0]/(30000/1000)))\n",
    "#     ## can go straight to \"SWRs by time in retrieval period\" from here\n",
    "# else:\n",
    "#     print('SWRs rate in 4 s around FR: '+str(sum(start_array)/start_array.shape[0]/(4000/1000)))\n",
    "\n",
    "# # subplots(1,1,figsize=(6,9))\n",
    "# # plot([0,0],[0,fr_array.shape[0]],linewidth=1,linestyle='-',color=(0,0,0))\n",
    "# # plot(np.ones(2)*(retrieval_whole_time),[0,fr_array.shape[0]],linewidth=1,linestyle='-',color=(0,0,0))\n",
    "# # scatter(np.where(start_array2)[1]*sr_factor+psth_start,np.where(start_array2)[0],s=0.5)\n",
    "# # scatter(np.where(fr_array)[1],np.where(fr_array)[0],s=0.5,color=[1,0,0]); \n",
    "# # plt.xlabel('Retrieval period time (ms)')\n",
    "# # plt.ylabel('Retrieval period')\n",
    "# # if save_plot == 1:\n",
    "# #     plt.savefig('../plots/'+'SWR_FR_'+region_name+'-'+str(session_ct)+'_sessions_in-'+str(sub_num)+'subjects_'+filter_type+'.pdf',transparent=True)\n",
    "# # plt.show();    "
   ]
  },
  {
   "cell_type": "markdown",
   "metadata": {},
   "source": [
    "## List-level memory performance within SINGLE subject (*load from sub_df above*)"
   ]
  },
  {
   "cell_type": "code",
   "execution_count": 237,
   "metadata": {},
   "outputs": [
    {
     "data": {
      "image/png": "[encoded data removed]",
      "text/plain": [
       "<Figure size 432x288 with 1 Axes>"
      ]
     },
     "metadata": {
      "needs_background": "light"
     },
     "output_type": "display_data"
    }
   ],
   "source": [
    "# do subjects show bigger ripple bump on lists they have more recalls?\n",
    "   \n",
    "unique_sessions = np.unique(session_name_array)\n",
    "unique_recall_nums = np.unique(list_recall_num_array)\n",
    "min_recall_num = np.min(unique_recall_nums)\n",
    "\n",
    "plot_save = [] # list that will be appended for each unique recall_num\n",
    "for i in range(len(unique_recall_nums)):\n",
    "    plot_save.append([])\n",
    "\n",
    "for session_name in unique_sessions:\n",
    "    session_trials = session_name_array==session_name\n",
    "    session_recall_nums = list_recall_num_array[session_trials]\n",
    "    session_start_array = start_array[session_trials]\n",
    "    \n",
    "    for i,recall_num in enumerate(session_recall_nums):\n",
    "        # index to 0 and append each start_array trials\n",
    "        plot_save[recall_num-min_recall_num].append(session_start_array[i,:])\n",
    "        \n",
    "        \n",
    "# visualize by plotting the binned average of each\n",
    "\n",
    "stats_bin = 500 # time bin width in ms to test stats on\n",
    "\n",
    "xr = np.arange(0,4000,500)+250\n",
    "\n",
    "from matplotlib import cm\n",
    "colormap = plt.cm.inferno # copper\n",
    "colors = [colormap(i) for i in np.linspace(0, 0.7, len(plot_save))]\n",
    "\n",
    "delta_ripple_rate = []\n",
    "\n",
    "for i,num_recalls in enumerate(range(len(plot_save))):\n",
    "    \n",
    "    # bin it\n",
    "    temp_binned_array = binBinaryArray(np.array(plot_save[num_recalls])[:,1:],stats_bin,sr_factor)\n",
    "    delta_ripple_rate.append(np.mean(temp_binned_array[:,3])-np.mean(temp_binned_array[:,1]))\n",
    "\n",
    "    plot(xr,np.mean(temp_binned_array,0),color=colors[i])\n",
    "\n",
    "title('Subject '+sub)\n",
    "ylabel('Ripple rate')\n",
    "xlabel('Time from recall (ms)')\n",
    "xticks(np.arange(0,4001,500),np.arange(-2000,2001,500))\n",
    "gca().set_ylim(0,0.7)\n",
    "gca().set_xlim(0,4000)\n",
    "legend(unique_recall_nums,title='Number of recalls in list',ncol=2,frameon=False)\n",
    "\n",
    "# plot delta ripple rate v. number of recalls\n",
    "\n",
    "# for num_recalls in range(len(plot_save)):\n",
    "\n",
    "axins = gca().inset_axes([0.2, 0.125, 0.25, 0.25])\n",
    "    \n",
    "axins.plot(unique_recall_nums,delta_ripple_rate,color=(0,0,0))\n",
    "axins.tick_params(labelsize=8)\n",
    "\n",
    "axins.set_ylabel(u'Δ ripple rate (Hz)')\n",
    "axins.set_xlabel('Recalls/list')\n",
    "axins.xaxis.set_label_coords(0.51,-0.29) \n",
    "axins.set_ylim(0,0.17)\n",
    "gcf().tight_layout()\n",
    "axins.set_xticks(np.arange(np.min(unique_recall_nums),np.max(unique_recall_nums)+0.01,1))\n",
    "axins.set_yticks(np.arange(0,np.max(delta_ripple_rate),0.05))\n",
    "\n",
    "reg = stats.linregress(unique_recall_nums,delta_ripple_rate) #slope, intercept, r_value\n",
    "axins.annotate('r = '+str(np.round(reg.rvalue,3)),(3.2,0.02),color=(1,0,0))\n",
    "\n",
    "xr = np.arange(np.min(unique_recall_nums),np.max(unique_recall_nums),0.01)\n",
    "axins.plot(xr,xr*reg.slope+reg.intercept,marker='',linewidth=2,linestyle='dotted',color=[1,0,0])\n",
    "\n",
    "a = 1;"
   ]
  },
  {
   "cell_type": "markdown",
   "metadata": {},
   "source": [
    "## Do same but get correlations for each subject with at least min_trials (*load from half_df above*)"
   ]
  },
  {
   "cell_type": "code",
   "execution_count": 305,
   "metadata": {},
   "outputs": [
    {
     "name": "stdout",
     "output_type": "stream",
     "text": [
      "r = 0.587 for R1065J\n"
     ]
    },
    {
     "data": {
      "text/plain": [
       "[<matplotlib.lines.Line2D at 0x2b2b8e894e10>]"
      ]
     },
     "execution_count": 305,
     "metadata": {},
     "output_type": "execute_result"
    },
    {
     "data": {
      "image/png": "[encoded data removed]",
      "text/plain": [
       "<Figure size 432x288 with 1 Axes>"
      ]
     },
     "metadata": {
      "needs_background": "light"
     },
     "output_type": "display_data"
    },
    {
     "name": "stdout",
     "output_type": "stream",
     "text": [
      "r = -0.886 for R1122E\n"
     ]
    },
    {
     "data": {
      "text/plain": [
       "[<matplotlib.lines.Line2D at 0x2b2b8c571750>]"
      ]
     },
     "execution_count": 305,
     "metadata": {},
     "output_type": "execute_result"
    },
    {
     "data": {
      "image/png": "[encoded data removed]",
      "text/plain": [
       "<Figure size 432x288 with 1 Axes>"
      ]
     },
     "metadata": {
      "needs_background": "light"
     },
     "output_type": "display_data"
    },
    {
     "name": "stdout",
     "output_type": "stream",
     "text": [
      "r = 0.578 for R1137E\n"
     ]
    },
    {
     "data": {
      "text/plain": [
       "[<matplotlib.lines.Line2D at 0x2b2b8c5fc350>]"
      ]
     },
     "execution_count": 305,
     "metadata": {},
     "output_type": "execute_result"
    },
    {
     "data": {
      "image/png": "[encoded data removed]",
      "text/plain": [
       "<Figure size 432x288 with 1 Axes>"
      ]
     },
     "metadata": {
      "needs_background": "light"
     },
     "output_type": "display_data"
    },
    {
     "name": "stdout",
     "output_type": "stream",
     "text": [
      "r = -0.386 for R1310J\n"
     ]
    },
    {
     "data": {
      "text/plain": [
       "[<matplotlib.lines.Line2D at 0x2b2b8c52aa90>]"
      ]
     },
     "execution_count": 305,
     "metadata": {},
     "output_type": "execute_result"
    },
    {
     "data": {
      "image/png": "[encoded data removed]",
      "text/plain": [
       "<Figure size 432x288 with 1 Axes>"
      ]
     },
     "metadata": {
      "needs_background": "light"
     },
     "output_type": "display_data"
    },
    {
     "name": "stdout",
     "output_type": "stream",
     "text": [
      "r = -0.138 for R1334T\n"
     ]
    },
    {
     "data": {
      "text/plain": [
       "[<matplotlib.lines.Line2D at 0x2b2b8b4f8b10>]"
      ]
     },
     "execution_count": 305,
     "metadata": {},
     "output_type": "execute_result"
    },
    {
     "data": {
      "image/png": "[encoded data removed]",
      "text/plain": [
       "<Figure size 432x288 with 1 Axes>"
      ]
     },
     "metadata": {
      "needs_background": "light"
     },
     "output_type": "display_data"
    }
   ],
   "source": [
    "# do subjects show bigger ripple bump on lists they have more recalls?\n",
    "\n",
    "min_trials_per_num_recalled = 35\n",
    "min_trials = 250\n",
    "\n",
    "corr_save = []\n",
    "\n",
    "unique_subs = np.unique(subject_name_array)\n",
    "for sub in unique_subs:\n",
    "   \n",
    "    sub_trials = subject_name_array==sub\n",
    "    \n",
    "    if sum(sub_trials) > min_trials:\n",
    "        unique_sessions = np.unique(session_name_array[sub_trials])\n",
    "        unique_recall_nums = np.unique(list_recall_num_array[sub_trials])\n",
    "        unique_recall_nums = np.arange(np.min(unique_recall_nums),np.max(unique_recall_nums)+1) # so it doesn't skip numbers\n",
    "        min_recall_num = np.min(unique_recall_nums)\n",
    "\n",
    "        plot_save = [] # list that will be appended for each unique recall_num\n",
    "        for i in range(len(unique_recall_nums)):\n",
    "            plot_save.append([])\n",
    "\n",
    "        for session_name in unique_sessions:\n",
    "            session_trials = session_name_array==session_name\n",
    "            session_recall_nums = list_recall_num_array[session_trials]\n",
    "            session_start_array = start_array[session_trials]\n",
    "\n",
    "            for i,recall_num in enumerate(session_recall_nums):\n",
    "                # index to 0 and append each start_array trials\n",
    "                plot_save[recall_num-min_recall_num].append(session_start_array[i,:])\n",
    "                \n",
    "        \n",
    "                \n",
    "        # make sure enough trials per bin to continue\n",
    "        test_num = 0\n",
    "        for i in range(len(plot_save)):\n",
    "            if len(plot_save[i]) >= min_trials_per_num_recalled:\n",
    "                test_num+=1\n",
    "        if test_num != len(plot_save): # not enough trials in each bin\n",
    "            continue\n",
    "\n",
    "\n",
    "        # find corr for binned average of each\n",
    "\n",
    "        stats_bin = 500 # time bin width in ms to test stats on\n",
    "\n",
    "        delta_ripple_rate = []\n",
    "        for i in range(len(plot_save)):\n",
    "\n",
    "            # bin it\n",
    "            temp_binned_array = binBinaryArray(np.array(plot_save[i]),stats_bin,sr_factor)\n",
    "            delta_ripple_rate.append(np.mean(temp_binned_array[:,3])-np.mean(temp_binned_array[:,1]))\n",
    "\n",
    "        reg = stats.linregress(unique_recall_nums,delta_ripple_rate) #slope, intercept, r_value\n",
    "        corr_save.append(reg.rvalue)\n",
    "        print('r = '+str(np.round(reg.rvalue,3))+' for '+sub)\n",
    "        plot(unique_recall_nums,delta_ripple_rate,color=(0,0,0)); show()"
   ]
  },
  {
   "cell_type": "code",
   "execution_count": 306,
   "metadata": {},
   "outputs": [
    {
     "data": {
      "text/plain": [
       "<matplotlib.axes._subplots.AxesSubplot at 0x2b2b8bf99250>"
      ]
     },
     "execution_count": 306,
     "metadata": {},
     "output_type": "execute_result"
    },
    {
     "data": {
      "text/plain": [
       "[[]]"
      ]
     },
     "execution_count": 306,
     "metadata": {},
     "output_type": "execute_result"
    },
    {
     "data": {
      "text/plain": [
       "Text(0, 0.5, 'Recalls (#)')"
      ]
     },
     "execution_count": 306,
     "metadata": {},
     "output_type": "execute_result"
    },
    {
     "data": {
      "text/plain": [
       "Text(0.5, 1.0, 'Number of recalls X electrodes per subject')"
      ]
     },
     "execution_count": 306,
     "metadata": {},
     "output_type": "execute_result"
    },
    {
     "data": {
      "image/png": "[encoded data removed]",
      "text/plain": [
       "<Figure size 432x288 with 1 Axes>"
      ]
     },
     "metadata": {
      "needs_background": "light"
     },
     "output_type": "display_data"
    }
   ],
   "source": [
    "sb.swarmplot(data=corr_save) \n",
    "gca().set(xticks=[])\n",
    "ylabel('Recalls (#)')\n",
    "title('Number of recalls X electrodes per subject')\n",
    "show()"
   ]
  },
  {
   "cell_type": "code",
   "execution_count": null,
   "metadata": {},
   "outputs": [],
   "source": []
  }
 ],
 "metadata": {
  "kernelspec": {
   "display_name": "env1",
   "language": "python",
   "name": "env1"
  },
  "language_info": {
   "codemirror_mode": {
    "name": "ipython",
    "version": 3
   },
   "file_extension": ".py",
   "mimetype": "text/x-python",
   "name": "python",
   "nbconvert_exporter": "python",
   "pygments_lexer": "ipython3",
   "version": "3.7.5"
  }
 },
 "nbformat": 4,
 "nbformat_minor": 4
}
